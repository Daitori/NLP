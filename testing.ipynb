{
  "cells": [
    {
      "cell_type": "code",
      "execution_count": 2,
      "metadata": {
        "id": "9e_Rmpt0B_Oa"
      },
      "outputs": [
        {
          "name": "stderr",
          "output_type": "stream",
          "text": [
            "c:\\Users\\David-Desktop\\miniconda3\\envs\\NLP\\lib\\site-packages\\tqdm\\auto.py:21: TqdmWarning: IProgress not found. Please update jupyter and ipywidgets. See https://ipywidgets.readthedocs.io/en/stable/user_install.html\n",
            "  from .autonotebook import tqdm as notebook_tqdm\n"
          ]
        }
      ],
      "source": [
        "import itertools\n",
        "import pandas as pd\n",
        "import numpy as np\n",
        "import seaborn as sns\n",
        "import spacy\n",
        "import re\n",
        "import ast\n",
        "import matplotlib.pyplot as plt\n",
        "import pyLDAvis\n",
        "import pyLDAvis.gensim_models \n",
        "import bertopic\n",
        "\n",
        "from tqdm import tqdm\n",
        "\n",
        "import nltk\n",
        "from nltk import pos_tag\n",
        "from nltk.tokenize import word_tokenize\n",
        "\n",
        "from gensim import corpora\n",
        "from gensim.models import CoherenceModel,LdaModel,LsiModel\n",
        "from sklearn.metrics import silhouette_samples, silhouette_score\n",
        "\n",
        "from itertools import chain\n",
        "\n",
        "from sklearn.decomposition import LatentDirichletAllocation\n",
        "from sklearn.model_selection import GridSearchCV\n",
        "from gensim.models.callbacks import CallbackAny2Vec\n",
        "from gensim.models import Word2Vec, Phrases, KeyedVectors\n",
        "from gensim.models.phrases import Phraser\n",
        "from gensim.utils import simple_preprocess\n",
        "from nltk.corpus import wordnet\n",
        "# from pattern.en import pluralize, singularize\n",
        "from sklearn.feature_extraction import text\n",
        "from sklearn.feature_extraction.text import TfidfVectorizer\n",
        "\n",
        "\n",
        "import warnings\n",
        "warnings.simplefilter(action='ignore', category=FutureWarning)"
      ]
    },
    {
      "cell_type": "markdown",
      "metadata": {},
      "source": [
        "# DATA EXPLORATION & PREPROCESSING\n"
      ]
    },
    {
      "cell_type": "code",
      "execution_count": 3,
      "metadata": {},
      "outputs": [
        {
          "data": {
            "text/html": [
              "<div>\n",
              "<style scoped>\n",
              "    .dataframe tbody tr th:only-of-type {\n",
              "        vertical-align: middle;\n",
              "    }\n",
              "\n",
              "    .dataframe tbody tr th {\n",
              "        vertical-align: top;\n",
              "    }\n",
              "\n",
              "    .dataframe thead th {\n",
              "        text-align: right;\n",
              "    }\n",
              "</style>\n",
              "<table border=\"1\" class=\"dataframe\">\n",
              "  <thead>\n",
              "    <tr style=\"text-align: right;\">\n",
              "      <th></th>\n",
              "      <th>category</th>\n",
              "      <th>headline</th>\n",
              "      <th>authors</th>\n",
              "      <th>link</th>\n",
              "      <th>short_description</th>\n",
              "      <th>date</th>\n",
              "    </tr>\n",
              "  </thead>\n",
              "  <tbody>\n",
              "    <tr>\n",
              "      <th>0</th>\n",
              "      <td>CRIME</td>\n",
              "      <td>There Were 2 Mass Shootings In Texas Last Week...</td>\n",
              "      <td>Melissa Jeltsen</td>\n",
              "      <td>https://www.huffingtonpost.com/entry/texas-ama...</td>\n",
              "      <td>She left her husband. He killed their children...</td>\n",
              "      <td>2018-05-26</td>\n",
              "    </tr>\n",
              "    <tr>\n",
              "      <th>1</th>\n",
              "      <td>ENTERTAINMENT</td>\n",
              "      <td>Will Smith Joins Diplo And Nicky Jam For The 2...</td>\n",
              "      <td>Andy McDonald</td>\n",
              "      <td>https://www.huffingtonpost.com/entry/will-smit...</td>\n",
              "      <td>Of course it has a song.</td>\n",
              "      <td>2018-05-26</td>\n",
              "    </tr>\n",
              "    <tr>\n",
              "      <th>2</th>\n",
              "      <td>ENTERTAINMENT</td>\n",
              "      <td>Hugh Grant Marries For The First Time At Age 57</td>\n",
              "      <td>Ron Dicker</td>\n",
              "      <td>https://www.huffingtonpost.com/entry/hugh-gran...</td>\n",
              "      <td>The actor and his longtime girlfriend Anna Ebe...</td>\n",
              "      <td>2018-05-26</td>\n",
              "    </tr>\n",
              "    <tr>\n",
              "      <th>3</th>\n",
              "      <td>ENTERTAINMENT</td>\n",
              "      <td>Jim Carrey Blasts 'Castrato' Adam Schiff And D...</td>\n",
              "      <td>Ron Dicker</td>\n",
              "      <td>https://www.huffingtonpost.com/entry/jim-carre...</td>\n",
              "      <td>The actor gives Dems an ass-kicking for not fi...</td>\n",
              "      <td>2018-05-26</td>\n",
              "    </tr>\n",
              "    <tr>\n",
              "      <th>4</th>\n",
              "      <td>ENTERTAINMENT</td>\n",
              "      <td>Julianna Margulies Uses Donald Trump Poop Bags...</td>\n",
              "      <td>Ron Dicker</td>\n",
              "      <td>https://www.huffingtonpost.com/entry/julianna-...</td>\n",
              "      <td>The \"Dietland\" actress said using the bags is ...</td>\n",
              "      <td>2018-05-26</td>\n",
              "    </tr>\n",
              "  </tbody>\n",
              "</table>\n",
              "</div>"
            ],
            "text/plain": [
              "        category                                           headline  \\\n",
              "0          CRIME  There Were 2 Mass Shootings In Texas Last Week...   \n",
              "1  ENTERTAINMENT  Will Smith Joins Diplo And Nicky Jam For The 2...   \n",
              "2  ENTERTAINMENT    Hugh Grant Marries For The First Time At Age 57   \n",
              "3  ENTERTAINMENT  Jim Carrey Blasts 'Castrato' Adam Schiff And D...   \n",
              "4  ENTERTAINMENT  Julianna Margulies Uses Donald Trump Poop Bags...   \n",
              "\n",
              "           authors                                               link  \\\n",
              "0  Melissa Jeltsen  https://www.huffingtonpost.com/entry/texas-ama...   \n",
              "1    Andy McDonald  https://www.huffingtonpost.com/entry/will-smit...   \n",
              "2       Ron Dicker  https://www.huffingtonpost.com/entry/hugh-gran...   \n",
              "3       Ron Dicker  https://www.huffingtonpost.com/entry/jim-carre...   \n",
              "4       Ron Dicker  https://www.huffingtonpost.com/entry/julianna-...   \n",
              "\n",
              "                                   short_description       date  \n",
              "0  She left her husband. He killed their children... 2018-05-26  \n",
              "1                           Of course it has a song. 2018-05-26  \n",
              "2  The actor and his longtime girlfriend Anna Ebe... 2018-05-26  \n",
              "3  The actor gives Dems an ass-kicking for not fi... 2018-05-26  \n",
              "4  The \"Dietland\" actress said using the bags is ... 2018-05-26  "
            ]
          },
          "execution_count": 3,
          "metadata": {},
          "output_type": "execute_result"
        }
      ],
      "source": [
        "# data loading\n",
        "dataset = pd.read_json(\"News_Category_Dataset_v2.json\", lines=True, dtype={\"headline\": str})\n",
        "dataset.head()"
      ]
    },
    {
      "cell_type": "code",
      "execution_count": 4,
      "metadata": {},
      "outputs": [],
      "source": [
        "def dummy_word_split(texts):\n",
        "    \"\"\"Function identifying words in a sentence in a really dummy way.\n",
        "\n",
        "        Argument:\n",
        "            - texts (list of str): a list of raw texts in which we'd like to identify words\n",
        "\n",
        "        Return:\n",
        "            - list of list containing each word separately.\n",
        "    \"\"\"\n",
        "    texts_out = []\n",
        "    for text in texts:\n",
        "        texts_out.append(text.split(\" \"))\n",
        "\n",
        "    return texts_out"
      ]
    },
    {
      "cell_type": "code",
      "execution_count": 5,
      "metadata": {},
      "outputs": [],
      "source": [
        "def compute_word_occurences(texts):\n",
        "    \"\"\"You have to define this function yourself. \"\"\"\n",
        "\n",
        "    words = itertools.chain.from_iterable(texts)\n",
        "\n",
        "    word_count = pd.Series(words).value_counts()\n",
        "    word_count = pd.DataFrame({\"Word\": word_count.index, \"Count\": word_count.values})\n",
        "\n",
        "    return word_count"
      ]
    },
    {
      "cell_type": "code",
      "execution_count": 6,
      "metadata": {},
      "outputs": [
        {
          "data": {
            "text/html": [
              "<div>\n",
              "<style scoped>\n",
              "    .dataframe tbody tr th:only-of-type {\n",
              "        vertical-align: middle;\n",
              "    }\n",
              "\n",
              "    .dataframe tbody tr th {\n",
              "        vertical-align: top;\n",
              "    }\n",
              "\n",
              "    .dataframe thead th {\n",
              "        text-align: right;\n",
              "    }\n",
              "</style>\n",
              "<table border=\"1\" class=\"dataframe\">\n",
              "  <thead>\n",
              "    <tr style=\"text-align: right;\">\n",
              "      <th></th>\n",
              "      <th>Word</th>\n",
              "      <th>Count</th>\n",
              "    </tr>\n",
              "  </thead>\n",
              "  <tbody>\n",
              "    <tr>\n",
              "      <th>0</th>\n",
              "      <td>The</td>\n",
              "      <td>47803</td>\n",
              "    </tr>\n",
              "    <tr>\n",
              "      <th>1</th>\n",
              "      <td>To</td>\n",
              "      <td>38569</td>\n",
              "    </tr>\n",
              "    <tr>\n",
              "      <th>2</th>\n",
              "      <td>A</td>\n",
              "      <td>24839</td>\n",
              "    </tr>\n",
              "    <tr>\n",
              "      <th>3</th>\n",
              "      <td>In</td>\n",
              "      <td>24141</td>\n",
              "    </tr>\n",
              "    <tr>\n",
              "      <th>4</th>\n",
              "      <td>Of</td>\n",
              "      <td>22956</td>\n",
              "    </tr>\n",
              "    <tr>\n",
              "      <th>5</th>\n",
              "      <td>For</td>\n",
              "      <td>18788</td>\n",
              "    </tr>\n",
              "    <tr>\n",
              "      <th>6</th>\n",
              "      <td>Is</td>\n",
              "      <td>16823</td>\n",
              "    </tr>\n",
              "    <tr>\n",
              "      <th>7</th>\n",
              "      <td>And</td>\n",
              "      <td>15137</td>\n",
              "    </tr>\n",
              "    <tr>\n",
              "      <th>8</th>\n",
              "      <td>On</td>\n",
              "      <td>13642</td>\n",
              "    </tr>\n",
              "    <tr>\n",
              "      <th>9</th>\n",
              "      <td>With</td>\n",
              "      <td>12556</td>\n",
              "    </tr>\n",
              "    <tr>\n",
              "      <th>10</th>\n",
              "      <td>the</td>\n",
              "      <td>12519</td>\n",
              "    </tr>\n",
              "    <tr>\n",
              "      <th>11</th>\n",
              "      <td>to</td>\n",
              "      <td>11429</td>\n",
              "    </tr>\n",
              "    <tr>\n",
              "      <th>12</th>\n",
              "      <td>You</td>\n",
              "      <td>10473</td>\n",
              "    </tr>\n",
              "    <tr>\n",
              "      <th>13</th>\n",
              "      <td>Your</td>\n",
              "      <td>10438</td>\n",
              "    </tr>\n",
              "    <tr>\n",
              "      <th>14</th>\n",
              "      <td>How</td>\n",
              "      <td>9172</td>\n",
              "    </tr>\n",
              "    <tr>\n",
              "      <th>15</th>\n",
              "      <td>of</td>\n",
              "      <td>8883</td>\n",
              "    </tr>\n",
              "    <tr>\n",
              "      <th>16</th>\n",
              "      <td>Trump</td>\n",
              "      <td>8827</td>\n",
              "    </tr>\n",
              "    <tr>\n",
              "      <th>17</th>\n",
              "      <td>(PHOTOS)</td>\n",
              "      <td>8435</td>\n",
              "    </tr>\n",
              "    <tr>\n",
              "      <th>18</th>\n",
              "      <td>New</td>\n",
              "      <td>8400</td>\n",
              "    </tr>\n",
              "    <tr>\n",
              "      <th>19</th>\n",
              "      <td>and</td>\n",
              "      <td>7936</td>\n",
              "    </tr>\n",
              "  </tbody>\n",
              "</table>\n",
              "</div>"
            ],
            "text/plain": [
              "        Word  Count\n",
              "0        The  47803\n",
              "1         To  38569\n",
              "2          A  24839\n",
              "3         In  24141\n",
              "4         Of  22956\n",
              "5        For  18788\n",
              "6         Is  16823\n",
              "7        And  15137\n",
              "8         On  13642\n",
              "9       With  12556\n",
              "10       the  12519\n",
              "11        to  11429\n",
              "12       You  10473\n",
              "13      Your  10438\n",
              "14       How   9172\n",
              "15        of   8883\n",
              "16     Trump   8827\n",
              "17  (PHOTOS)   8435\n",
              "18       New   8400\n",
              "19       and   7936"
            ]
          },
          "execution_count": 6,
          "metadata": {},
          "output_type": "execute_result"
        }
      ],
      "source": [
        "splitted_texts = dummy_word_split(dataset[\"headline\"].tolist())\n",
        "compute_word_occurences(splitted_texts).head(20)"
      ]
    },
    {
      "cell_type": "markdown",
      "metadata": {},
      "source": [
        "La plupart des mots fréquents semblent être des stopwords courants, tels que \"the,\" \"to,\" \"a,\" \"in,\" etc. Ces mots n'apportent généralement pas beaucoup de sens individuellement et peuvent être éliminés lors du preprocessing.\n",
        "\n",
        "Des variations de cas (majuscules et minuscules) pour des mots comme \"The\" et \"the.\" La normalisation en minuscules peut être utile pour traiter ces variations."
      ]
    },
    {
      "cell_type": "code",
      "execution_count": 7,
      "metadata": {},
      "outputs": [],
      "source": [
        "def check_data_quality(texts):\n",
        "    \"\"\"Check wheter all the dataset is conform to the expected behaviour.\"\"\"\n",
        "    assert all([isinstance(t, str) for t in texts]), \"Input data contains something different than strings.\"\n",
        "    assert all([t != np.nan for t in texts]), \"Input data contains NaN values.\"\n",
        "\n",
        "    return True"
      ]
    },
    {
      "cell_type": "code",
      "execution_count": 8,
      "metadata": {},
      "outputs": [],
      "source": [
        "def force_format(texts):\n",
        "    return [str(t) for t in texts]"
      ]
    },
    {
      "cell_type": "code",
      "execution_count": 9,
      "metadata": {},
      "outputs": [
        {
          "name": "stdout",
          "output_type": "stream",
          "text": [
            "Is the dataset passing our data quality check?\n",
            "True\n"
          ]
        }
      ],
      "source": [
        "texts = force_format(dataset[\"headline\"])\n",
        "print(f\"Is the dataset passing our data quality check?\\n{check_data_quality(texts)}\")"
      ]
    },
    {
      "cell_type": "code",
      "execution_count": 10,
      "metadata": {},
      "outputs": [
        {
          "data": {
            "text/plain": [
              "['There Were 2 Mass Shootings In Texas Last Week, But Only 1 On TV',\n",
              " \"Will Smith Joins Diplo And Nicky Jam For The 2018 World Cup's Official Song\",\n",
              " 'Hugh Grant Marries For The First Time At Age 57',\n",
              " \"Jim Carrey Blasts 'Castrato' Adam Schiff And Democrats In New Artwork\",\n",
              " 'Julianna Margulies Uses Donald Trump Poop Bags To Pick Up After Her Dog']"
            ]
          },
          "execution_count": 10,
          "metadata": {},
          "output_type": "execute_result"
        }
      ],
      "source": [
        "texts[:5]"
      ]
    },
    {
      "cell_type": "code",
      "execution_count": 11,
      "metadata": {},
      "outputs": [],
      "source": [
        "def filter_text(texts_in):\n",
        "    \"\"\"Removes incorrect patterns from a list of texts, such as hyperlinks, bullet points and so on\"\"\"\n",
        "\n",
        "    texts_out = re.sub(r'https?:\\/\\/[A-Za-z0-9_.-~\\-]*', ' ', texts_in, flags=re.MULTILINE)\n",
        "    texts_out = re.sub(r'[(){}\\[\\]<>]', ' ', texts_out, flags=re.MULTILINE)\n",
        "    texts_out = re.sub(r'&amp;#.*;', ' ', texts_out, flags=re.MULTILINE)\n",
        "    texts_out = re.sub(r'&gt;', ' ', texts_out, flags=re.MULTILINE)\n",
        "    texts_out = re.sub(r'â€™', \"'\", texts_out, flags=re.MULTILINE)\n",
        "    texts_out = re.sub(r'\\s+', ' ', texts_out, flags=re.MULTILINE)\n",
        "    texts_out = re.sub(r'&#x200B;', ' ', texts_out, flags=re.MULTILINE)\n",
        "    # Mail regex\n",
        "    # This regex is correct but WAY TOO LONG to process. So we skip it with a simpler version\n",
        "    # texts_out = re.sub(r\"(?i)(?:[a-z0-9!#$%&'*+\\/=?^_`{|}~-]+(?:\\.[a-z0-9!#$%&'*+\\/=?^_`{|}~-]+)*|\\\"(?:[\\x01-\\x08\\x0b\\x0c\\x0e-\\x1f\\x21\\x23-\\x5b\\x5d-\\x7f]|\\\\[\\x01-\\x09\\x0b\\x0c\\x0e-\\x7f])*\\\")@(?:(?:[a-z0-9](?:[a-z0-9-]*[a-z0-9])?\\.)+[a-z0-9](?:[a-z0-9-]*[a-z0-9])?|\\[(?:(?:(2(5[0-5]|[0-4][0-9])|1[0-9][0-9]|[1-9]?[0-9]))\\.){3}(?:(2(5[0-5]|[0-4][0-9])|1[0-9][0-9]|[1-9]?[0-9])|[a-z0-9-]*[a-z0-9]:(?:[\\x01-\\x08\\x0b\\x0c\\x0e-\\x1f\\x21-\\x5a\\x53-\\x7f]|\\\\[\\x01-\\x09\\x0b\\x0c\\x0e-\\x7f])+)\\])\", '', texts_out, flags=re.MULTILINE)\n",
        "    texts_out = re.sub(r'[a-zA-Z0-9-_.]+@[a-zA-Z0-9-_.]+\\.[a-zA-Z0-9-_.]+', '', texts_out, flags=re.MULTILINE)\n",
        "    # Phone regex\n",
        "    # This regex is correct but WAY TOO LONG to process. So we skip it with a simpler version\n",
        "    # texts_out = re.sub(r\".*?(\\(?\\d{3}\\D{0,3}\\d{3}\\D{0,3}\\d{4}).*?\", '', texts_out, flags=re.MULTILINE)\n",
        "    texts_out = re.sub(r\"\\(?\\d{3}\\D{0,3}\\d{3}\\D{0,3}\\d{4}\", '', texts_out, flags=re.MULTILINE)\n",
        "    # Remove names in twitter\n",
        "    texts_out = re.sub(r'@\\S+( |\\n)', '', texts_out, flags=re.MULTILINE)\n",
        "\n",
        "    # Remove starts commonly used on social media\n",
        "    texts_out = re.sub(r'\\*', '', texts_out, flags=re.MULTILINE)\n",
        "    return texts_out\n"
      ]
    },
    {
      "cell_type": "code",
      "execution_count": 12,
      "metadata": {},
      "outputs": [
        {
          "data": {
            "text/plain": [
              "['There Were 2 Mass Shootings In Texas Last Week, But Only 1 On TV',\n",
              " \"Will Smith Joins Diplo And Nicky Jam For The 2018 World Cup's Official Song\",\n",
              " 'Hugh Grant Marries For The First Time At Age 57',\n",
              " \"Jim Carrey Blasts 'Castrato' Adam Schiff And Democrats In New Artwork\",\n",
              " 'Julianna Margulies Uses Donald Trump Poop Bags To Pick Up After Her Dog']"
            ]
          },
          "execution_count": 12,
          "metadata": {},
          "output_type": "execute_result"
        }
      ],
      "source": [
        "texts = [filter_text(t) for t in texts]\n",
        "texts[:5]"
      ]
    },
    {
      "cell_type": "code",
      "execution_count": 13,
      "metadata": {},
      "outputs": [],
      "source": [
        "def sent_to_words(sentences):\n",
        "    \"\"\"Converts sentences to words.\n",
        "\n",
        "    Convert sentences in lists of words while removing the accents and the punctuation.\n",
        "\n",
        "    @param:\n",
        "        sentences: a list of strings, the sentences we want to convert\n",
        "    @return\n",
        "        A list of words' lists.\n",
        "    \"\"\"\n",
        "    for sentence in tqdm(sentences):\n",
        "        yield (simple_preprocess(str(sentence), deacc=True))\n"
      ]
    },
    {
      "cell_type": "code",
      "execution_count": 14,
      "metadata": {},
      "outputs": [
        {
          "name": "stderr",
          "output_type": "stream",
          "text": [
            "100%|██████████| 200853/200853 [00:04<00:00, 44365.89it/s]\n"
          ]
        },
        {
          "data": {
            "text/plain": [
              "[['there',\n",
              "  'were',\n",
              "  'mass',\n",
              "  'shootings',\n",
              "  'in',\n",
              "  'texas',\n",
              "  'last',\n",
              "  'week',\n",
              "  'but',\n",
              "  'only',\n",
              "  'on',\n",
              "  'tv'],\n",
              " ['will',\n",
              "  'smith',\n",
              "  'joins',\n",
              "  'diplo',\n",
              "  'and',\n",
              "  'nicky',\n",
              "  'jam',\n",
              "  'for',\n",
              "  'the',\n",
              "  'world',\n",
              "  'cup',\n",
              "  'official',\n",
              "  'song']]"
            ]
          },
          "execution_count": 14,
          "metadata": {},
          "output_type": "execute_result"
        }
      ],
      "source": [
        "texts = list(sent_to_words(texts))\n",
        "texts[:2]"
      ]
    },
    {
      "cell_type": "code",
      "execution_count": 15,
      "metadata": {},
      "outputs": [],
      "source": [
        "def get_stopwords(additional_stopwords=[]):\n",
        "    \"\"\"Return a list of english stopwords, that can be augmented by using a stopwords file or a list of stopwords\n",
        "\n",
        "    Args:\n",
        "        filepath (str, optional): path to a text file where each line is a stopword\n",
        "        additional_stopwords (list of str, optional): list of string representing stopwords\n",
        "    Returns:\n",
        "        List of strings representing stopwords\n",
        "    \"\"\"\n",
        "    # Loading standard english stop words\n",
        "    with open('stopwords.txt', 'r') as f:\n",
        "        stop_w = f.readlines()\n",
        "    stopwords = [s.rstrip() for s in stop_w]\n",
        "\n",
        "    # Adding stop words from sklearn\n",
        "    stopwords = list(text.ENGLISH_STOP_WORDS.union(stopwords))\n",
        "\n",
        "    # Adding words from a list if specified\n",
        "    if additional_stopwords:\n",
        "        stopwords += additional_stopwords\n",
        "\n",
        "    # Removing duplicates\n",
        "    stopwords = list(set(stopwords))\n",
        "\n",
        "    # Removing some \\n that were included in the native stopwords of sklearn ... WHY?\n",
        "    stopwords = [s.replace(\"\\n\", \"\") for s in stopwords]\n",
        "\n",
        "    stopwords = sorted(stopwords, key=str.lower)\n",
        "\n",
        "    return stopwords\n"
      ]
    },
    {
      "cell_type": "code",
      "execution_count": 16,
      "metadata": {},
      "outputs": [
        {
          "name": "stderr",
          "output_type": "stream",
          "text": [
            "100%|██████████| 200853/200853 [00:10<00:00, 19224.44it/s]\n"
          ]
        }
      ],
      "source": [
        "#En plus des stopwords donnésn, on ajoute Trump, Photo et Video\n",
        "stopwords = get_stopwords(additional_stopwords=[\"trump\", \"photo\", \"video\"])\n",
        "\n",
        "texts = [[word for word in txt if word not in stopwords] for txt in tqdm(texts)]"
      ]
    },
    {
      "cell_type": "code",
      "execution_count": 17,
      "metadata": {},
      "outputs": [
        {
          "data": {
            "text/plain": [
              "[['mass', 'shootings', 'texas', 'week', 'tv'],\n",
              " ['smith',\n",
              "  'joins',\n",
              "  'diplo',\n",
              "  'nicky',\n",
              "  'jam',\n",
              "  'world',\n",
              "  'cup',\n",
              "  'official',\n",
              "  'song'],\n",
              " ['hugh', 'grant', 'marries', 'time', 'age'],\n",
              " ['jim',\n",
              "  'carrey',\n",
              "  'blasts',\n",
              "  'castrato',\n",
              "  'adam',\n",
              "  'schiff',\n",
              "  'democrats',\n",
              "  'artwork'],\n",
              " ['julianna', 'margulies', 'donald', 'poop', 'bags', 'pick', 'dog']]"
            ]
          },
          "execution_count": 17,
          "metadata": {},
          "output_type": "execute_result"
        }
      ],
      "source": [
        "texts[:5]"
      ]
    },
    {
      "cell_type": "code",
      "execution_count": 18,
      "metadata": {},
      "outputs": [],
      "source": [
        "def create_bigrams(texts, bigram_count=15, threshold=10, convert_sent_to_words=False, as_str=True):\n",
        "    \"\"\"Identify bigrams in texts and return the texts with bigrams integrated\"\"\"\n",
        "    if convert_sent_to_words:\n",
        "        texts = list(sent_to_words(texts))\n",
        "\n",
        "    bigram_model = Phraser(Phrases(texts, min_count=bigram_count, threshold=threshold))\n",
        "\n",
        "    if as_str:\n",
        "        return [\" \".join(bigram_model[t]) for t in texts]\n",
        "\n",
        "    else:\n",
        "        return [bigram_model[t] for t in texts]"
      ]
    },
    {
      "cell_type": "code",
      "execution_count": 19,
      "metadata": {},
      "outputs": [
        {
          "data": {
            "text/plain": [
              "['mass_shootings texas week tv',\n",
              " 'smith joins diplo nicky jam world_cup official song',\n",
              " 'hugh grant marries time age',\n",
              " 'jim_carrey blasts castrato adam schiff democrats artwork',\n",
              " 'julianna margulies donald poop bags pick dog']"
            ]
          },
          "execution_count": 19,
          "metadata": {},
          "output_type": "execute_result"
        }
      ],
      "source": [
        "texts = create_bigrams(texts)\n",
        "texts[:5]"
      ]
    },
    {
      "cell_type": "code",
      "execution_count": 20,
      "metadata": {},
      "outputs": [
        {
          "name": "stdout",
          "output_type": "stream",
          "text": [
            "Collecting en-core-web-md==3.2.0\n",
            "  Downloading https://github.com/explosion/spacy-models/releases/download/en_core_web_md-3.2.0/en_core_web_md-3.2.0-py3-none-any.whl (45.7 MB)\n",
            "     ---------------------------------------- 0.0/45.7 MB ? eta -:--:--\n",
            "     --- ------------------------------------ 4.5/45.7 MB 95.6 MB/s eta 0:00:01\n",
            "     -------- ----------------------------- 10.1/45.7 MB 106.9 MB/s eta 0:00:01\n",
            "     ------------ ------------------------- 15.6/45.7 MB 108.8 MB/s eta 0:00:01\n",
            "     ----------------- -------------------- 21.4/45.7 MB 108.8 MB/s eta 0:00:01\n",
            "     --------------------- ---------------- 26.4/45.7 MB 108.8 MB/s eta 0:00:01\n",
            "     -------------------------- ----------- 32.1/45.7 MB 110.0 MB/s eta 0:00:01\n",
            "     ------------------------------- ------ 37.3/45.7 MB 131.2 MB/s eta 0:00:01\n",
            "     ----------------------------------- -- 42.7/45.7 MB 129.5 MB/s eta 0:00:01\n",
            "     -------------------------------------  45.7/45.7 MB 108.8 MB/s eta 0:00:01\n",
            "     -------------------------------------  45.7/45.7 MB 108.8 MB/s eta 0:00:01\n",
            "     -------------------------------------  45.7/45.7 MB 108.8 MB/s eta 0:00:01\n",
            "     --------------------------------------- 45.7/45.7 MB 40.9 MB/s eta 0:00:00\n",
            "Requirement already satisfied: spacy<3.3.0,>=3.2.0 in c:\\users\\david-desktop\\miniconda3\\envs\\nlp\\lib\\site-packages (from en-core-web-md==3.2.0) (3.2.4)\n",
            "Requirement already satisfied: wasabi<1.1.0,>=0.8.1 in c:\\users\\david-desktop\\miniconda3\\envs\\nlp\\lib\\site-packages (from spacy<3.3.0,>=3.2.0->en-core-web-md==3.2.0) (0.10.1)\n",
            "Requirement already satisfied: pydantic!=1.8,!=1.8.1,<1.9.0,>=1.7.4 in c:\\users\\david-desktop\\miniconda3\\envs\\nlp\\lib\\site-packages (from spacy<3.3.0,>=3.2.0->en-core-web-md==3.2.0) (1.8.2)\n",
            "Requirement already satisfied: langcodes<4.0.0,>=3.2.0 in c:\\users\\david-desktop\\miniconda3\\envs\\nlp\\lib\\site-packages (from spacy<3.3.0,>=3.2.0->en-core-web-md==3.2.0) (3.3.0)\n",
            "Requirement already satisfied: cymem<2.1.0,>=2.0.2 in c:\\users\\david-desktop\\miniconda3\\envs\\nlp\\lib\\site-packages (from spacy<3.3.0,>=3.2.0->en-core-web-md==3.2.0) (2.0.6)\n",
            "Requirement already satisfied: spacy-legacy<3.1.0,>=3.0.8 in c:\\users\\david-desktop\\miniconda3\\envs\\nlp\\lib\\site-packages (from spacy<3.3.0,>=3.2.0->en-core-web-md==3.2.0) (3.0.12)\n",
            "Requirement already satisfied: jinja2 in c:\\users\\david-desktop\\miniconda3\\envs\\nlp\\lib\\site-packages (from spacy<3.3.0,>=3.2.0->en-core-web-md==3.2.0) (2.11.3)\n",
            "Requirement already satisfied: typer<0.5.0,>=0.3.0 in c:\\users\\david-desktop\\miniconda3\\envs\\nlp\\lib\\site-packages (from spacy<3.3.0,>=3.2.0->en-core-web-md==3.2.0) (0.4.2)\n",
            "Requirement already satisfied: requests<3.0.0,>=2.13.0 in c:\\users\\david-desktop\\miniconda3\\envs\\nlp\\lib\\site-packages (from spacy<3.3.0,>=3.2.0->en-core-web-md==3.2.0) (2.28.1)\n",
            "Requirement already satisfied: click<8.1.0 in c:\\users\\david-desktop\\miniconda3\\envs\\nlp\\lib\\site-packages (from spacy<3.3.0,>=3.2.0->en-core-web-md==3.2.0) (7.1.2)\n",
            "Requirement already satisfied: srsly<3.0.0,>=2.4.1 in c:\\users\\david-desktop\\miniconda3\\envs\\nlp\\lib\\site-packages (from spacy<3.3.0,>=3.2.0->en-core-web-md==3.2.0) (2.4.4)\n",
            "Requirement already satisfied: numpy>=1.15.0 in c:\\users\\david-desktop\\miniconda3\\envs\\nlp\\lib\\site-packages (from spacy<3.3.0,>=3.2.0->en-core-web-md==3.2.0) (1.26.0)\n",
            "Requirement already satisfied: packaging>=20.0 in c:\\users\\david-desktop\\miniconda3\\envs\\nlp\\lib\\site-packages (from spacy<3.3.0,>=3.2.0->en-core-web-md==3.2.0) (23.0)\n",
            "Requirement already satisfied: catalogue<2.1.0,>=2.0.6 in c:\\users\\david-desktop\\miniconda3\\envs\\nlp\\lib\\site-packages (from spacy<3.3.0,>=3.2.0->en-core-web-md==3.2.0) (2.0.10)\n",
            "Requirement already satisfied: thinc<8.1.0,>=8.0.12 in c:\\users\\david-desktop\\miniconda3\\envs\\nlp\\lib\\site-packages (from spacy<3.3.0,>=3.2.0->en-core-web-md==3.2.0) (8.0.17)\n",
            "Requirement already satisfied: tqdm<5.0.0,>=4.38.0 in c:\\users\\david-desktop\\miniconda3\\envs\\nlp\\lib\\site-packages (from spacy<3.3.0,>=3.2.0->en-core-web-md==3.2.0) (4.65.0)\n",
            "Requirement already satisfied: spacy-loggers<2.0.0,>=1.0.0 in c:\\users\\david-desktop\\miniconda3\\envs\\nlp\\lib\\site-packages (from spacy<3.3.0,>=3.2.0->en-core-web-md==3.2.0) (1.0.5)\n",
            "Requirement already satisfied: preshed<3.1.0,>=3.0.2 in c:\\users\\david-desktop\\miniconda3\\envs\\nlp\\lib\\site-packages (from spacy<3.3.0,>=3.2.0->en-core-web-md==3.2.0) (3.0.7)\n",
            "Requirement already satisfied: murmurhash<1.1.0,>=0.28.0 in c:\\users\\david-desktop\\miniconda3\\envs\\nlp\\lib\\site-packages (from spacy<3.3.0,>=3.2.0->en-core-web-md==3.2.0) (1.0.8)\n",
            "Requirement already satisfied: setuptools in c:\\users\\david-desktop\\miniconda3\\envs\\nlp\\lib\\site-packages (from spacy<3.3.0,>=3.2.0->en-core-web-md==3.2.0) (65.6.3)\n",
            "Requirement already satisfied: pathy>=0.3.5 in c:\\users\\david-desktop\\miniconda3\\envs\\nlp\\lib\\site-packages (from spacy<3.3.0,>=3.2.0->en-core-web-md==3.2.0) (0.10.2)\n",
            "Requirement already satisfied: blis<0.8.0,>=0.4.0 in c:\\users\\david-desktop\\miniconda3\\envs\\nlp\\lib\\site-packages (from spacy<3.3.0,>=3.2.0->en-core-web-md==3.2.0) (0.7.8)\n",
            "Requirement already satisfied: smart-open<7.0.0,>=5.2.1 in c:\\users\\david-desktop\\miniconda3\\envs\\nlp\\lib\\site-packages (from pathy>=0.3.5->spacy<3.3.0,>=3.2.0->en-core-web-md==3.2.0) (5.2.1)\n",
            "Requirement already satisfied: typing-extensions>=3.7.4.3 in c:\\users\\david-desktop\\miniconda3\\envs\\nlp\\lib\\site-packages (from pydantic!=1.8,!=1.8.1,<1.9.0,>=1.7.4->spacy<3.3.0,>=3.2.0->en-core-web-md==3.2.0) (4.8.0)\n",
            "Requirement already satisfied: charset-normalizer<3,>=2 in c:\\users\\david-desktop\\miniconda3\\envs\\nlp\\lib\\site-packages (from requests<3.0.0,>=2.13.0->spacy<3.3.0,>=3.2.0->en-core-web-md==3.2.0) (2.0.4)\n",
            "Requirement already satisfied: certifi>=2017.4.17 in c:\\users\\david-desktop\\miniconda3\\envs\\nlp\\lib\\site-packages (from requests<3.0.0,>=2.13.0->spacy<3.3.0,>=3.2.0->en-core-web-md==3.2.0) (2023.11.17)\n",
            "Requirement already satisfied: urllib3<1.27,>=1.21.1 in c:\\users\\david-desktop\\miniconda3\\envs\\nlp\\lib\\site-packages (from requests<3.0.0,>=2.13.0->spacy<3.3.0,>=3.2.0->en-core-web-md==3.2.0) (1.26.15)\n",
            "Requirement already satisfied: idna<4,>=2.5 in c:\\users\\david-desktop\\miniconda3\\envs\\nlp\\lib\\site-packages (from requests<3.0.0,>=2.13.0->spacy<3.3.0,>=3.2.0->en-core-web-md==3.2.0) (3.4)\n",
            "Requirement already satisfied: colorama in c:\\users\\david-desktop\\miniconda3\\envs\\nlp\\lib\\site-packages (from tqdm<5.0.0,>=4.38.0->spacy<3.3.0,>=3.2.0->en-core-web-md==3.2.0) (0.4.6)\n",
            "Requirement already satisfied: MarkupSafe>=0.23 in c:\\users\\david-desktop\\miniconda3\\envs\\nlp\\lib\\site-packages (from jinja2->spacy<3.3.0,>=3.2.0->en-core-web-md==3.2.0) (1.1.1)\n",
            "✔ Download and installation successful\n",
            "You can now load the package via spacy.load('en_core_web_md')\n"
          ]
        },
        {
          "name": "stderr",
          "output_type": "stream",
          "text": [
            "DEPRECATION: https://github.com/explosion/spacy-models/releases/download/en_core_web_md-3.2.0/en_core_web_md-3.2.0-py3-none-any.whl#egg=en_core_web_md==3.2.0 contains an egg fragment with a non-PEP 508 name pip 25.0 will enforce this behaviour change. A possible replacement is to use the req @ url syntax, and remove the egg fragment. Discussion can be found at https://github.com/pypa/pip/issues/11617\n"
          ]
        }
      ],
      "source": [
        "! python -m spacy download en_core_web_md"
      ]
    },
    {
      "cell_type": "code",
      "execution_count": 21,
      "metadata": {},
      "outputs": [],
      "source": [
        "def lemmatize_texts(texts,\n",
        "                    allowed_postags=['NOUN', 'ADJ', 'VERB', 'ADV'],\n",
        "                    forbidden_postags=[],\n",
        "                    as_sentence=False,\n",
        "                    get_postags=False,\n",
        "                    spacy_model=None):\n",
        "    POS_map = {\n",
        "        'NOUN': 'noun',\n",
        "        'ADJ': 'adjective',\n",
        "        'VERB': 'verb',\n",
        "        'ADV': 'adverb'\n",
        "    }\n",
        "    \"\"\"Lemmatize a list of texts.\n",
        "\n",
        "            Please refer to https://spacy.io/api/annotation for details on the allowed\n",
        "        POS tags.\n",
        "        @params:\n",
        "            - texts_in: a list of texts, where each texts is a string\n",
        "            - allowed_postags: a list of part of speech tags, in the spacy fashion\n",
        "            - as_sentence: a boolean indicating whether the output should be a list of sentences instead of a list of word lists\n",
        "        @return:\n",
        "            - A list of texts where each entry is a list of words list or a list of sentences\n",
        "        \"\"\"\n",
        "    texts_out = []\n",
        "\n",
        "    if allowed_postags and forbidden_postags:\n",
        "        raise ValueError(\"Can't specify both allowed and forbidden postags\")\n",
        "\n",
        "    if forbidden_postags:\n",
        "        allowed_postags = list(set(POS_map.keys()).difference(set(forbidden_postags)))\n",
        "\n",
        "    if not spacy_model:\n",
        "        print(\"Loading spacy model\")\n",
        "        spacy_model = spacy.load('en_core_web_md')\n",
        "\n",
        "    print(\"Beginning lemmatization process\")\n",
        "    total_steps = len(texts)\n",
        "\n",
        "    docs = spacy_model.pipe(texts)\n",
        "\n",
        "    for i, doc in tqdm(enumerate(docs), total=total_steps):\n",
        "        if get_postags:\n",
        "            texts_out.append([\"_\".join([token.lemma_, token.pos_]) for token in doc if token.pos_ in allowed_postags])\n",
        "        else:\n",
        "            texts_out.append(\n",
        "                [token.lemma_ for token in   doc if token.pos_ in allowed_postags])\n",
        "\n",
        "    if as_sentence:\n",
        "        texts_out = [\" \".join(text) for text in texts_out]\n",
        "\n",
        "    return texts_out\n"
      ]
    },
    {
      "cell_type": "code",
      "execution_count": 37,
      "metadata": {},
      "outputs": [
        {
          "name": "stdout",
          "output_type": "stream",
          "text": [
            "Loading spacy model\n",
            "Beginning lemmatization process\n"
          ]
        },
        {
          "name": "stderr",
          "output_type": "stream",
          "text": [
            "100%|██████████| 200853/200853 [03:39<00:00, 917.00it/s] \n"
          ]
        }
      ],
      "source": [
        "l_texts = lemmatize_texts(texts,\n",
        "                allowed_postags=['NOUN', 'ADJ', 'VERB', 'ADV', 'X', 'PROPN'],\n",
        "                get_postags=False)"
      ]
    },
    {
      "cell_type": "code",
      "execution_count": null,
      "metadata": {},
      "outputs": [
        {
          "data": {
            "text/html": [
              "<div>\n",
              "<style scoped>\n",
              "    .dataframe tbody tr th:only-of-type {\n",
              "        vertical-align: middle;\n",
              "    }\n",
              "\n",
              "    .dataframe tbody tr th {\n",
              "        vertical-align: top;\n",
              "    }\n",
              "\n",
              "    .dataframe thead th {\n",
              "        text-align: right;\n",
              "    }\n",
              "</style>\n",
              "<table border=\"1\" class=\"dataframe\">\n",
              "  <thead>\n",
              "    <tr style=\"text-align: right;\">\n",
              "      <th></th>\n",
              "      <th>Word</th>\n",
              "      <th>Count</th>\n",
              "    </tr>\n",
              "  </thead>\n",
              "  <tbody>\n",
              "    <tr>\n",
              "      <th>0</th>\n",
              "      <td>photo</td>\n",
              "      <td>9870</td>\n",
              "    </tr>\n",
              "    <tr>\n",
              "      <th>1</th>\n",
              "      <td>make</td>\n",
              "      <td>4891</td>\n",
              "    </tr>\n",
              "    <tr>\n",
              "      <th>2</th>\n",
              "      <td>woman</td>\n",
              "      <td>4546</td>\n",
              "    </tr>\n",
              "    <tr>\n",
              "      <th>3</th>\n",
              "      <td>donald</td>\n",
              "      <td>4474</td>\n",
              "    </tr>\n",
              "    <tr>\n",
              "      <th>4</th>\n",
              "      <td>year</td>\n",
              "      <td>4117</td>\n",
              "    </tr>\n",
              "  </tbody>\n",
              "</table>\n",
              "</div>"
            ],
            "text/plain": [
              "     Word  Count\n",
              "0   photo   9870\n",
              "1    make   4891\n",
              "2   woman   4546\n",
              "3  donald   4474\n",
              "4    year   4117"
            ]
          },
          "execution_count": 23,
          "metadata": {},
          "output_type": "execute_result"
        }
      ],
      "source": [
        "occurences = compute_word_occurences(l_texts)\n",
        "occurences.head()"
      ]
    },
    {
      "cell_type": "code",
      "execution_count": null,
      "metadata": {},
      "outputs": [
        {
          "data": {
            "text/plain": [
              "41"
            ]
          },
          "execution_count": 24,
          "metadata": {},
          "output_type": "execute_result"
        }
      ],
      "source": [
        "dataset['category'].nunique()"
      ]
    },
    {
      "cell_type": "markdown",
      "metadata": {},
      "source": [
        "\n",
        "On a 41 catégorie différentes dans notre dataset.\n"
      ]
    },
    {
      "cell_type": "code",
      "execution_count": null,
      "metadata": {},
      "outputs": [
        {
          "name": "stderr",
          "output_type": "stream",
          "text": [
            "c:\\Users\\David-Desktop\\miniconda3\\envs\\NLP\\lib\\site-packages\\pandas\\core\\algorithms.py:516: DeprecationWarning: np.find_common_type is deprecated.  Please use `np.result_type` or `np.promote_types`.\n",
            "See https://numpy.org/devdocs/release/1.25.0-notes.html and the docs for more information.  (Deprecated NumPy 1.25)\n",
            "  common = np.find_common_type([values.dtype, comps.dtype], [])\n"
          ]
        },
        {
          "data": {
            "image/png": "[encoded data removed]",
            "text/plain": [
              "<Figure size 1800x700 with 1 Axes>"
            ]
          },
          "metadata": {},
          "output_type": "display_data"
        }
      ],
      "source": [
        "sns.set(style = 'whitegrid')\n",
        "figu = sns.displot(x = dataset['short_description'].str.split(' ').apply(len), hue = dataset['category'], kind = 'kde')\n",
        "figu.figure.set_size_inches(18,7)\n",
        "figu.set(title = f'Distribution of length of articles coloured by categories', xlabel = 'Length of Article', xticks = range(0,250,25))\n",
        "plt.show()"
      ]
    },
    {
      "cell_type": "code",
      "execution_count": null,
      "metadata": {},
      "outputs": [
        {
          "name": "stderr",
          "output_type": "stream",
          "text": [
            "[nltk_data] Downloading package punkt to C:\\Users\\David-\n",
            "[nltk_data]     Desktop\\AppData\\Roaming\\nltk_data...\n",
            "[nltk_data]   Package punkt is already up-to-date!\n",
            "[nltk_data] Downloading package averaged_perceptron_tagger to\n",
            "[nltk_data]     C:\\Users\\David-Desktop\\AppData\\Roaming\\nltk_data...\n",
            "[nltk_data]   Package averaged_perceptron_tagger is already up-to-\n",
            "[nltk_data]       date!\n"
          ]
        },
        {
          "data": {
            "text/plain": [
              "True"
            ]
          },
          "execution_count": 26,
          "metadata": {},
          "output_type": "execute_result"
        }
      ],
      "source": [
        "# Download the NLTK resources (run this once)\n",
        "nltk.download('punkt')\n",
        "nltk.download('averaged_perceptron_tagger')"
      ]
    },
    {
      "cell_type": "code",
      "execution_count": null,
      "metadata": {},
      "outputs": [
        {
          "name": "stdout",
          "output_type": "stream",
          "text": [
            "Top 10 Most Common Nouns:\n",
            "A         17458\n",
            "Trump     12533\n",
            "PHOTOS     9039\n",
            "New        8462\n",
            "How        6486\n",
            "Donald     4586\n",
            "’          4515\n",
            "Day        4391\n",
            "Is         4210\n",
            "VIDEO      4142\n",
            "dtype: int64\n",
            "\n",
            "Top 10 Most Common Verbs:\n",
            "Is      13415\n",
            "'s       5876\n",
            "Do       4037\n",
            "Are      4010\n",
            "Be       3730\n",
            "Have     2731\n",
            "s        1842\n",
            "Make     1740\n",
            "Get      1693\n",
            "Need     1564\n",
            "dtype: int64\n",
            "\n",
            "Top 10 Most Common Adjectives:\n",
            "More        2930\n",
            "Best        1125\n",
            "Other       1092\n",
            "Most        1026\n",
            "Last         785\n",
            "American     725\n",
            "Good         695\n",
            "Own          531\n",
            "Much         502\n",
            "Next         462\n",
            "dtype: int64\n"
          ]
        }
      ],
      "source": [
        "text = ' '.join(dataset['headline'])  # Combine all headlines into one string\n",
        "\n",
        "# Tokenize the text and get part-of-speech tags\n",
        "tokens = word_tokenize(text)\n",
        "pos_tags = pos_tag(tokens)\n",
        "\n",
        "# Filter words based on their part-of-speech tags\n",
        "nouns = [word for word, pos in pos_tags if pos.startswith('N')]\n",
        "verbs = [word for word, pos in pos_tags if pos.startswith('V')]\n",
        "adjectives = [word for word, pos in pos_tags if pos.startswith('J')]\n",
        "\n",
        "# Display the most common words for each category\n",
        "common_nouns = pd.Series(nouns).value_counts().head(10)\n",
        "common_verbs = pd.Series(verbs).value_counts().head(10)\n",
        "common_adjectives = pd.Series(adjectives).value_counts().head(10)\n",
        "\n",
        "print(\"Top 10 Most Common Nouns:\")\n",
        "print(common_nouns)\n",
        "\n",
        "print(\"\\nTop 10 Most Common Verbs:\")\n",
        "print(common_verbs)\n",
        "\n",
        "print(\"\\nTop 10 Most Common Adjectives:\")\n",
        "print(common_adjectives)\n"
      ]
    },
    {
      "cell_type": "markdown",
      "metadata": {},
      "source": [
        "## Chargement des données "
      ]
    },
    {
      "cell_type": "code",
      "execution_count": null,
      "metadata": {},
      "outputs": [],
      "source": [
        "def force_format(texts):\n",
        "    return [str(t) for t in texts]\n",
        "\n",
        "def compute_word_occurences(texts):\n",
        "    words = itertools.chain.from_iterable(texts)\n",
        "    word_count = pd.Series(words).value_counts()\n",
        "    word_count = pd.DataFrame({\"Word\": word_count.index, \"Count\": word_count.values})\n",
        "    return word_count\n",
        "\n",
        "def get_l_texts(text_file): #text_file is a .txt file from preprocessing to avoid doing it again\n",
        "    l_texts=[]\n",
        "    with open(text_file, \"r\") as f:\n",
        "        line = f.readlines()\n",
        "        list_line = [l.strip() for l in line]\n",
        "        for l in list_line:\n",
        "            l_texts.append(ast.literal_eval(l))\n",
        "    return l_texts"
      ]
    },
    {
      "cell_type": "code",
      "execution_count": 40,
      "metadata": {},
      "outputs": [
        {
          "name": "stdout",
          "output_type": "stream",
          "text": [
            "[['be', 'Mass', 'Shootings', 'Texas', 'last', 'Week', 'only', 'tv'], ['Smith', 'join', 'Diplo', 'Nicky', 'Jam', 'World', 'Cup', 'Official', 'Song'], ['Hugh', 'Grant', 'Marries', 'First', 'Time', 'age'], ['Jim', 'Carrey', 'Blasts', 'Castrato', 'Adam', 'Schiff', 'Democrats', 'New', 'artwork'], ['Julianna', 'Margulies', 'use', 'Donald', 'Trump', 'Poop', 'Bags', 'pick', 'dog'], ['Morgan', 'Freeman', 'devastate', 'Sexual', 'Harassment', 'Claims', 'undermine', 'Legacy'], ['Donald', 'Trump', \"lovin'\", 'New', 'McDonald', 'Jingle', 'tonight', 'show', 'bit'], ['watch', 'Amazon', 'Prime', '’', 'New', 'week'], ['Mike', 'Myers', 'reveal', 'like', 'do', 'Fourth', 'Austin', 'Powers', 'Film'], ['watch', 'Hulu', '’', 'New', 'week']] \n",
            " ['There Were 2 Mass Shootings In Texas Last Week, But Only 1 On TV', \"Will Smith Joins Diplo And Nicky Jam For The 2018 World Cup's Official Song\", 'Hugh Grant Marries For The First Time At Age 57', \"Jim Carrey Blasts 'Castrato' Adam Schiff And Democrats In New Artwork\", 'Julianna Margulies Uses Donald Trump Poop Bags To Pick Up After Her Dog', \"Morgan Freeman 'Devastated' That Sexual Harassment Claims Could Undermine Legacy\", \"Donald Trump Is Lovin' New McDonald's Jingle In 'Tonight Show' Bit\", 'What To Watch On Amazon Prime That’s New This Week', \"Mike Myers Reveals He'd 'Like To' Do A Fourth Austin Powers Film\", 'What To Watch On Hulu That’s New This Week'] \n",
            " 0    There Were 2 Mass Shootings In Texas Last Week...\n",
            "1    Will Smith Joins Diplo And Nicky Jam For The 2...\n",
            "2      Hugh Grant Marries For The First Time At Age 57\n",
            "3    Jim Carrey Blasts 'Castrato' Adam Schiff And D...\n",
            "4    Julianna Margulies Uses Donald Trump Poop Bags...\n",
            "5    Morgan Freeman 'Devastated' That Sexual Harass...\n",
            "6    Donald Trump Is Lovin' New McDonald's Jingle I...\n",
            "7    What To Watch On Amazon Prime That’s New This ...\n",
            "8    Mike Myers Reveals He'd 'Like To' Do A Fourth ...\n",
            "9           What To Watch On Hulu That’s New This Week\n",
            "Name: headline, dtype: object\n"
          ]
        }
      ],
      "source": [
        "dataset = pd.read_json(\"News_Category_Dataset_v2.json\", lines=True, dtype={\"headline\": str})\n",
        "texts = force_format(dataset[\"headline\"])\n",
        "#l_texts = get_l_texts(\"l_texts.txt\")\n",
        "print(l_texts[:10],\"\\n\",texts[:10],\"\\n\",dataset[\"headline\"][:10])"
      ]
    },
    {
      "cell_type": "code",
      "execution_count": 41,
      "metadata": {},
      "outputs": [
        {
          "name": "stdout",
          "output_type": "stream",
          "text": [
            "Number of unique tokens: 64889\n",
            "Number of documents: 200853\n"
          ]
        }
      ],
      "source": [
        "# Create a dictionary\n",
        "dictionary = corpora.Dictionary(l_texts)\n",
        "# Create a corpus\n",
        "corpus = [dictionary.doc2bow(text) for text in l_texts]\n",
        "\n",
        "print(\"Number of unique tokens: {}\".format(len(dictionary)))\n",
        "print(\"Number of documents: {}\".format(len(corpus)))"
      ]
    },
    {
      "cell_type": "markdown",
      "metadata": {},
      "source": [
        "## Pour les modèles disponibles dans la librairie gensim"
      ]
    },
    {
      "cell_type": "markdown",
      "metadata": {},
      "source": [
        "### LDA"
      ]
    },
    {
      "cell_type": "code",
      "execution_count": 42,
      "metadata": {},
      "outputs": [
        {
          "name": "stdout",
          "output_type": "stream",
          "text": [
            "Number of topics:  50  Coherence Score:  -0.25152404060826394 0.4663035372760885\n",
            "Number of topics:  51  Coherence Score:  -0.2586989353770912 0.4744257099667037\n",
            "Number of topics:  52  Coherence Score:  -0.26583126911899996 0.4866362463185982\n",
            "Number of topics:  53  Coherence Score:  -0.2505694366420342 0.4640809608221701\n",
            "Number of topics:  54  Coherence Score:  -0.267127293060826 0.4864829470647558\n",
            "Number of topics:  55  Coherence Score:  -0.26615568488221164 0.4886801105240594\n",
            "Number of topics:  56  Coherence Score:  -0.2665527948625465 0.4858229467150847\n",
            "Number of topics:  57  Coherence Score:  -0.26193152420765864 0.4781788373564487\n",
            "Number of topics:  58  Coherence Score:  -0.2745298416759977 0.497150317260975\n",
            "Number of topics:  59  Coherence Score:  -0.27069716892983214 0.490973106544864\n",
            "Number of topics:  60  Coherence Score:  -0.27229917458090586 0.4941278999869948\n",
            "Number of topics:  61  Coherence Score:  -0.27696249521545985 0.5013417299185444\n",
            "Number of topics:  62  Coherence Score:  -0.2823791245320424 0.5059521913455041\n",
            "Number of topics:  63  Coherence Score:  -0.27686166777326826 0.4989267157143272\n",
            "Number of topics:  64  Coherence Score:  -0.27995132609963186 0.5015476517153465\n"
          ]
        }
      ],
      "source": [
        "result={\"num_topics\":[], \"coherence_score_cv\":[],\"coherence_score_npmi\":[]}\n",
        "\n",
        "for n in range(50, 65):\n",
        "    lda_model = LdaModel(corpus, num_topics=n, id2word=dictionary)\n",
        "    coherence_model_cv= CoherenceModel(model=lda_model, texts=l_texts, dictionary=dictionary, coherence='c_v')\n",
        "    coherence_score_cv = coherence_model_cv.get_coherence()\n",
        "    coherence_model_npmi= CoherenceModel(model=lda_model, texts=l_texts, dictionary=dictionary, coherence='c_npmi')\n",
        "    coherence_score_npmi = coherence_model_npmi.get_coherence()\n",
        "    print(\"Number of topics: \", n, \" Coherence Score: \", coherence_score_npmi,coherence_score_cv)\n",
        "    result[\"num_topics\"].append(n)\n",
        "    result[\"coherence_score_cv\"].append(coherence_score_cv)\n",
        "    result[\"coherence_score_npmi\"].append(coherence_score_npmi)"
      ]
    },
    {
      "cell_type": "code",
      "execution_count": 43,
      "metadata": {},
      "outputs": [
        {
          "name": "stdout",
          "output_type": "stream",
          "text": [
            "Optimal number of topics:  62  Coherence Score:  -0.2748903847133842 0.499002653541693\n"
          ]
        }
      ],
      "source": [
        "optimal_n=result[\"num_topics\"][np.argmax(result[\"coherence_score_cv\"])]\n",
        "lda_model = LdaModel(corpus, num_topics=optimal_n, id2word=dictionary)\n",
        "coherence_model_cv= CoherenceModel(model=lda_model, texts=l_texts, dictionary=dictionary, coherence='c_v')\n",
        "coherence_score_cv = coherence_model_cv.get_coherence()\n",
        "coherence_model_npmi= CoherenceModel(model=lda_model, texts=l_texts, dictionary=dictionary, coherence='c_npmi')\n",
        "coherence_score_npmi = coherence_model_npmi.get_coherence()\n",
        "print(\"Optimal number of topics: \", optimal_n, \" Coherence Score: \", coherence_score_npmi,coherence_score_cv)"
      ]
    },
    {
      "cell_type": "code",
      "execution_count": 44,
      "metadata": {},
      "outputs": [
        {
          "name": "stderr",
          "output_type": "stream",
          "text": [
            "c:\\Users\\David-Desktop\\miniconda3\\envs\\NLP\\lib\\site-packages\\pandas\\core\\dtypes\\cast.py:1841: DeprecationWarning: np.find_common_type is deprecated.  Please use `np.result_type` or `np.promote_types`.\n",
            "See https://numpy.org/devdocs/release/1.25.0-notes.html and the docs for more information.  (Deprecated NumPy 1.25)\n",
            "  return np.find_common_type(types, [])\n"
          ]
        },
        {
          "data": {
            "text/html": [
              "\n",
              "<link rel=\"stylesheet\" type=\"text/css\" href=\"https://cdn.jsdelivr.net/gh/bmabey/pyLDAvis@3.4.0/pyLDAvis/js/ldavis.v1.0.0.css\">\n",
              "\n",
              "\n",
              "<div id=\"ldavis_el2032023138187680966213648995\" style=\"background-color:white;\"></div>\n",
              "<script type=\"text/javascript\">\n",
              "\n",
              "var ldavis_el2032023138187680966213648995_data = {\"mdsDat\": {\"x\": [-0.014491208359032462, 0.2911644222259103, 0.09296342164971315, 0.13980588609367206, 0.04008124900672625, 0.05018162503034358, 0.05984376100668407, 0.16190101978085425, 0.11935806036852989, -0.005788235260114421, 0.054583679224062855, 0.01410018489624045, 0.13976744592570234, 0.056948752266048085, 0.005084455776355079, -0.024222103523515656, 0.06449873303914885, -0.029418075903145147, -0.03310043874803321, -0.0270744161482249, 0.021639893172956007, 0.00045964018580314607, -0.020074078862852306, -0.009739654650873017, 0.03424737507757555, 0.013635247337310644, -0.03674625734810614, -0.024225972363041488, 0.016507913982381453, -0.00764959441420841, 0.026354176832363636, -0.021036770972285044, 0.012788130732982878, -0.01017942837757602, -0.048628625183316516, -0.05749132947748543, 0.001071918054853399, 0.003911803743000315, -0.04200605832910134, -0.011206973909161793, -0.021085263371831517, -0.06549084103264802, 0.033471782723996354, -0.017213621120577883, -0.054219239553957424, -0.06734124624575596, -0.04625199001240196, -0.07230522053425857, -0.011807648272136333, -0.020190997031517163, -0.08694395551482019, -0.03586381986379127, -0.07745017324926182, -0.03733600667174549, -0.04056408256922218, -0.02055921206647531, -0.05075787749733874, -0.07483195146362175, -0.03880930806898002, -0.05668980606844896, -0.08718653280761038, -0.0483925632867406], \"y\": [-0.07565482653366895, 0.11383346169979755, 0.052598374489763185, -0.00520423403798087, 0.1347845961090853, 0.11874543795411262, 0.005893100064387673, 0.006471474303065822, -0.000264051926480611, 0.08015861247188996, -0.038910814952706096, -0.105537604847133, -0.14820973931261527, 0.0016760946185298323, 0.07200619855997177, 0.031389016724772095, -0.05200549647734324, 0.04414968991256513, 0.036121142150209576, 0.055447906349699067, -0.06421274947250111, -0.01910800259720986, -0.055195875119230416, 0.08034640646840539, -0.07192066264309643, -0.05218439901805205, 0.05232719981687762, 0.053371513630909626, 0.03179800053114045, 0.0040062033244959135, -0.09777048468677324, 0.06955903100161814, -0.0840092221581012, 0.0847270338519447, 0.027317833198521962, 0.0274677792121937, -0.06348994087376535, -0.08965640886251632, 0.05253563086343096, -0.009775510411872865, 0.08898560963132016, -0.022166285359886108, -0.021162347305884725, -0.06947933713159642, 0.039710781886312274, 0.011986962743575764, 0.029175227205065487, 0.01642018373176769, -0.10654205382896026, 0.06412600689992115, 0.00012161495654652679, -0.055353492436546824, 0.011896881250362305, -0.046611578712025946, -0.038948341610896636, -0.09320260312334468, 0.04483395575796183, 0.012184063710357127, -0.05013306250416975, 0.03945366086455333, 0.013286551195996846, -0.0722041111967669], \"topics\": [1, 2, 3, 4, 5, 6, 7, 8, 9, 10, 11, 12, 13, 14, 15, 16, 17, 18, 19, 20, 21, 22, 23, 24, 25, 26, 27, 28, 29, 30, 31, 32, 33, 34, 35, 36, 37, 38, 39, 40, 41, 42, 43, 44, 45, 46, 47, 48, 49, 50, 51, 52, 53, 54, 55, 56, 57, 58, 59, 60, 61, 62], \"cluster\": [1, 1, 1, 1, 1, 1, 1, 1, 1, 1, 1, 1, 1, 1, 1, 1, 1, 1, 1, 1, 1, 1, 1, 1, 1, 1, 1, 1, 1, 1, 1, 1, 1, 1, 1, 1, 1, 1, 1, 1, 1, 1, 1, 1, 1, 1, 1, 1, 1, 1, 1, 1, 1, 1, 1, 1, 1, 1, 1, 1, 1, 1], \"Freq\": [3.0027179655493486, 2.4365772243087465, 2.354378820133044, 2.300813228625515, 2.2094507402417682, 2.1870283666309316, 2.060378218757437, 2.040247336663927, 1.9301015063208509, 1.9221972719260012, 1.8835760219896098, 1.8357844992058812, 1.8012576664290958, 1.7877593460549994, 1.7832753374755268, 1.7490250794580533, 1.748327712857752, 1.7419221000540952, 1.7034042421205604, 1.689659540145921, 1.6383642255636293, 1.625580399796999, 1.6128447969925404, 1.5981872490854314, 1.589575899565518, 1.5888990624318564, 1.58162043301858, 1.561294436329298, 1.5587463663891612, 1.5549372795137117, 1.5440530884677104, 1.5421913391615705, 1.5086502352027726, 1.485488159672904, 1.480215383051616, 1.4711310269198716, 1.4679826846974446, 1.4508838056565565, 1.4463296061088762, 1.4317400667065854, 1.4275189623417592, 1.423136415497425, 1.417164088693853, 1.3952825432643006, 1.390604023332871, 1.3734927251419387, 1.3529124903635776, 1.3513718853212864, 1.3481231345024678, 1.3376009438715286, 1.3340773314305154, 1.3339402978913617, 1.3275311915580186, 1.3212518282068644, 1.3146346580051231, 1.304771871469682, 1.2886829364811363, 1.2830175082818165, 1.2733774790835797, 1.2258674604306603, 1.170469405760521, 1.0985730497879995]}, \"tinfo\": {\"Term\": [\"photo\", \"New\", \"video\", \"make\", \"look\", \"get\", \"Day\", \"wedding\", \"Fashion\", \"Style\", \"More\", \"way\", \"Week\", \"Best\", \"give\", \"do\", \"-\", \"go\", \"year\", \"thing\", \"find\", \"World\", \"day\", \"just\", \"love\", \"America\", \"good\", \"help\", \"child\", \"life\", \"just\", \"Wall\", \"Bank\", \"long\", \"Christmas\", \"Parents\", \"May\", \"give\", \"Choice\", \"country\", \"possible\", \"Diamond\", \"enjoy\", \"Jobs\", \"Loan\", \"Numbers\", \"Low\", \"Economic\", \"Fourth\", \"appear\", \"bit\", \"warning\", \"scary\", \"Farm\", \"african\", \"involve\", \"boom\", \"Gates\", \"Anthony\", \"Donald\", \"Trump\", \"say\", \"have\", \"photo\", \"need\", \"place\", \"discover\", \"Bag\", \"Europe\", \"hard\", \"black\", \"HIV\", \"difference\", \"internet\", \"full\", \"Tiger\", \"Site\", \"Rare\", \"carry\", \"ride\", \"photographer\", \"Peter\", \"90\", \"Ball\", \"Scene\", \"Stock\", \"Win\", \"Ocean\", \"smart\", \"concern\", \"Cox\", \"Issues\", \"Council\", \"have\", \"York\", \"work\", \"Obama\", \"Post\", \"Michelle\", \"move\", \"explain\", \"Story\", \"Times\", \"Attack\", \"New\", \"a\", \"Mike\", \"Doctor\", \"praise\", \"recall\", \"Barack\", \"Celebrates\", \"No\", \"mock\", \"Seth\", \"donation\", \"Environmental\", \"chip\", \"Scare\", \"Griffin\", \"lawyer\", \"Meyers\", \"Kathy\", \"Cynthia\", \"say\", \"have\", \"day\", \"divorce\", \"take\", \"lose\", \"time\", \"Star\", \"celebrate\", \"play\", \"sex\", \"Movie\", \"birthday\", \"up\", \"same\", \"second\", \"scientist\", \"Director\", \"Walmart\", \"case\", \"search\", \"technology\", \"Coach\", \"continue\", \"Hard\", \"Reform\", \"Wars\", \"Seat\", \"4th\", \"react\", \"pass\", \"Indiana\", \"have\", \"More\", \"woman\", \"inspire\", \"Celebrity\", \"sign\", \"Global\", \"be\", \"Working\", \"Stories\", \"answer\", \"Spirit\", \"hate\", \"reach\", \"cheap\", \"Rose\", \"blue\", \"wife\", \"low\", \"rate\", \"demand\", \"effective\", \"Ancient\", \"suck\", \"CEO\", \"Broken\", \"Remote\", \"crack\", \"Laura\", \"robot\", \"spill\", \"get\", \"say\", \"Best\", \"study\", \"keep\", \"Most\", \"School\", \"much\", \"High\", \"win\", \"Road\", \"Americans\", \"California\", \"treat\", \"add\", \"Makeover\", \"expert\", \"An\", \"co\", \"reportedly\", \"consider\", \"yet\", \"Football\", \"there\", \"Dance\", \"business\", \"Therapy\", \"row\", \"Golden\", \"Election\", \"chapter\", \"Emotional\", \"say\", \"Health\", \"see\", \"House\", \"Game\", \"White\", \"share\", \"Care\", \"secret\", \"clean\", \"Daughter\", \"idea\", \"car\", \"De\", \"Chic\", \"very\", \"Moore\", \"sue\", \"review\", \"final\", \"awkward\", \"Suit\", \"Male\", \"Grey\", \"Roy\", \"Linked\", \"Political\", \"invite\", \"target\", \"Kiss\", \"message\", \"video\", \"show\", \"Year\", \"Secret\", \"Music\", \"Next\", \"Power\", \"Cruise\", \"mother\", \"Stars\", \"Florida\", \"care\", \"pick\", \"experience\", \"discuss\", \"Fallon\", \"Student\", \"Break\", \"Anne\", \"Eye\", \"Pain\", \"Unique\", \"creative\", \"Jersey\", \"Extreme\", \"Frank\", \"storm\", \"off\", \"Odd\", \"Dakota\", \"have\", \"Day\", \"find\", \"Study\", \"top\", \"Couples\", \"many\", \"Williams\", \"Queen\", \"Hollywood\", \"always\", \"Eating\", \"drop\", \"Cream\", \"toddler\", \"Surprise\", \"France\", \"Craigslist\", \"plant\", \"slow\", \"Eric\", \"Suicide\", \"also\", \"Rid\", \"Tough\", \"Claire\", \"Carrie\", \"Anxiety\", \"Adult\", \"Negative\", \"Barbie\", \"say\", \"have\", \"Fashion\", \"First\", \"Night\", \"here\", \"Late\", \"history\", \"U.S.\", \"set\", \"Look\", \"June\", \"Deal\", \"Use\", \"Gold\", \"pull\", \"solve\", \"Mystery\", \"arrive\", \"Asia\", \"ago\", \"Rules\", \"BBQ\", \"limit\", \"On\", \"Graham\", \"Iran\", \"Animals\", \"Showdown\", \"Vote\", \"Embarrassing\", \"Nuclear\", \"more\", \"week\", \"face\", \"still\", \"deal\", \"hit\", \"daughter\", \"hotel\", \"YouTube\", \"grow\", \"drug\", \"easy\", \"Chicken\", \"Videos\", \"shoe\", \"hold\", \"fact\", \"Fire\", \"outfit\", \"Town\", \"tweet\", \"Industry\", \"alone\", \"Workers\", \"Gender\", \"powerful\", \"deliver\", \"Band\", \"Straight\", \"Bathroom\", \"thing\", \"want\", \"People\", \"today\", \"Dating\", \"App\", \"Sweet\", \"Right\", \"happiness\", \"Class\", \"US\", \"respond\", \"hope\", \"Union\", \"Speech\", \"LA\", \"Steve\", \"Pop\", \"Over\", \"Theft\", \"Professional\", \"aim\", \"survivor\", \"Robin\", \"tone\", \"Christopher\", \"about\", \"Samantha\", \"Sue\", \"alternative\", \"say\", \"have\", \"Week\", \"good\", \"bad\", \"parent\", \"Sex\", \"affect\", \"Perry\", \"Katy\", \"Case\", \"no\", \"Katie\", \"actress\", \"Names\", \"spot\", \"Instagram\", \"Gun\", \".\", \"Impact\", \"Abuse\", \"force\", \"weird\", \"Half\", \"Tale\", \"lip\", \"Noah\", \"Jerry\", \"Cate\", \"Photographer\", \"Violence\", \"Current\", \"have\", \"make\", \"home\", \"dress\", \"offer\", \"Homes\", \"movie\", \"Singer\", \"Christina\", \"Brooklyn\", \"Moon\", \"Paper\", \"Boys\", \"room\", \"Head\", \"Melissa\", \"large\", \"decision\", \"God\", \"Prom\", \"Solar\", \"night\", \"Aguilera\", \"Spice\", \"commit\", \"ceremony\", \"End\", \"Clip\", \"McCarthy\", \"korean\", \"in\", \"way\", \"A\", \"Travel\", \"Facebook\", \"Great\", \"Talks\", \"'\", \"happen\", \"run\", \"Too\", \"sell\", \"wait\", \"Worth\", \"Ban\", \"release\", \"Release\", \"shoot\", \"blame\", \"Homeless\", \"often\", \"Comeback\", \"Scenes\", \"Movement\", \"newly\", \"Professor\", \"office\", \"political\", \"argue\", \"Suspect\", \"Alabama\", \"say\", \"World\", \"sleep\", \"risk\", \"ever\", \"girl\", \"put\", \"dad\", \"thank\", \"China\", \"Third\", \"War\", \"out\", \"Lawsuit\", \"King\", \"student\", \"Cup\", \"Plan\", \"Tweets\", \"ignore\", \"Trade\", \"Mean\", \"Falls\", \"agree\", \"reject\", \"Schools\", \"Weird\", \"leader\", \"Adults\", \"Jam\", \"media\", \"say\", \"life\", \"change\", \"National\", \"world\", \"pound\", \"Brain\", \"friend\", \"update\", \"little\", \"different\", \"Friday\", \"letter\", \"read\", \"Harry\", \"plane\", \"debate\", \"perform\", \"town\", \"Ireland\", \"Kidney\", \"Income\", \"already\", \"connection\", \"Marijuana\", \"beginning\", \"Wilson\", \"Peace\", \"Manhattan\", \"Dear\", \"Toronto\", \"have\", \"Kids\", \"Gay\", \"Marriage\", \"Man\", \"old\", \"College\", \"self\", \"boost\", \"Cake\", \"Police\", \"beat\", \"throw\", \"Kristen\", \"order\", \"Target\", \"as\", \"image\", \"UPDATED\", \"Appearance\", \"british\", \"Davis\", \"Heels\", \"Judge\", \"struggle\", \"emotional\", \"Northern\", \"tear\", \"flat\", \"sentence\", \"Floor\", \"talk\", \"stop\", \"think\", \"visit\", \"like\", \"Ex\", \"Water\", \"actually\", \"Island\", \"hear\", \"George\", \"speak\", \"Review\", \"date\", \"spouse\", \"Guy\", \"worth\", \"Series\", \"challenge\", \"Robert\", \"boy\", \"welcome\", \"Hospital\", \"quit\", \"Porn\", \"Jenner\", \"tonight\", \"Charles\", \"Blood\", \"Hell\", \"say\", \"child\", \"travel\", \"cancer\", \"Kim\", \"open\", \"South\", \"meet\", \"Fair\", \"issue\", \"Set\", \"Court\", \"Rock\", \"steal\", \"North\", \"Second\", \"sing\", \"story\", \"Least\", \"Carolina\", \"Mini\", \"Vanity\", \"pressure\", \"Board\", \"re\", \"Annual\", \"Supreme\", \"Tattoo\", \"compete\", \"Highlights\", \"Korea\", \"year\", \"Old\", \"Family\", \"Good\", \"Twitter\", \"Photo\", \"Airlines\", \"Rachel\", \"Quiz\", \"reduce\", \"lie\", \"ban\", \"Russell\", \"ice\", \"Meat\", \"ahead\", \"chance\", \"Users\", \"Possible\", \"Pride\", \"Daniel\", \"Themed\", \"flavor\", \"Magical\", \"Meeting\", \"action\", \"bite\", \"Afghanistan\", \"Hip\", \"Gwen\", \"have\", \"help\", \"back\", \"use\", \"money\", \"Job\", \"walk\", \"patient\", \"Photos\", \"Enough\", \"Settlement\", \"accuse\", \"Presidential\", \"smile\", \"threaten\", \"Eyes\", \"member\", \"Controversy\", \"Barbara\", \"completely\", \"admit\", \"promise\", \"Mexican\", \"Executive\", \"investor\", \"roll\", \"Alaska\", \"Gulf\", \"request\", \"Pat\", \"Auto\", \"Baby\", \"health\", \"body\", \"Tax\", \"cheat\", \"Talk\", \"Bill\", \"Washington\", \"pregnant\", \"Resort\", \"Museum\", \"Pants\", \"rumor\", \"Miranda\", \"fire\", \"Joe\", \"ticket\", \"Action\", \"Crawford\", \"decide\", \"Legend\", \"extreme\", \"GOP\", \"Bob\", \"Storm\", \"Shower\", \"wide\", \"Call\", \"Clarkson\", \"Organization\", \"Guide\", \"Hotel\", \"Video\", \"part\", \"fight\", \"Advice\", \"Victoria\", \"lead\", \"family\", \"choose\", \"wrong\", \"true\", \"prove\", \"key\", \"Ice\", \"Kanye\", \"unexpected\", \"Role\", \"Spots\", \"Sea\", \"Vegas\", \"Editor\", \"Las\", \"Rich\", \"magazine\", \"vow\", \"Album\", \"freedom\", \"Sparks\", \"skill\", \"West\", \"go\", \"most\", \"Free\", \"tv\", \"Common\", \"Sandy\", \"Medical\", \"note\", \"head\", \"Live\", \"Jones\", \"Worst\", \"write\", \"company\", \"Egg\", \"trouble\", \"Lesson\", \"Project\", \"Saturday\", \"match\", \"Families\", \"Chelsea\", \"Path\", \"Practice\", \"Boss\", \"Hook\", \"Republicans\", \"Charlie\", \"cast\", \"Agent\", \"have\", \"Dress\", \"Time\", \"ask\", \"Kardashian\", \"Magazine\", \"March\", \"Hot\", \"Google\", \"american\", \"school\", \"Breakfast\", \"Birthday\", \"Inspired\", \"tie\", \"reality\", \"hour\", \"join\", \"Students\", \"ruin\", \"few\", \"performance\", \"Christian\", \"Husband\", \"enough\", \"forever\", \"normal\", \"X\", \"Southwest\", \"career\", \"Israel\", \"say\", \"-\", \"Green\", \"Holiday\", \"Space\", \"Men\", \"Anti\", \"Wild\", \"Gwyneth\", \"send\", \"Paltrow\", \"Bar\", \"Positive\", \"Act\", \"understand\", \"Anniversary\", \"Restaurant\", \"anti\", \"post\", \"Relief\", \"Debate\", \"reflect\", \"shooting\", \"busy\", \"Chinese\", \"Square\", \"confuse\", \"Dollar\", \"count\", \"Panel\", \"politic\", \"live\", \"Mother\", \"learn\", \"celebrity\", \"Social\", \"Moms\", \"fix\", \"Change\", \"Media\", \"interview\", \"Climate\", \"line\", \"Sarah\", \"Public\", \"Oprah\", \"Technology\", \"battle\", \"Ford\", \"Tribute\", \"Generation\", \"Fix\", \"Alternative\", \"Solo\", \"deserve\", \"Rule\", \"Gap\", \"Bedtime\", \"MTV\", \"NBC\", \"Girlfriend\", \"Super\", \"Hair\", \"Street\", \"Weekend\", \"big\", \"HuffPost\", \"Jessica\", \"Age\", \"Taylor\", \"include\", \"percent\", \"push\", \"Sexy\", \"Campaign\", \"Swift\", \"Scott\", \"bear\", \"Coast\", \"Hit\", \"To\", \"Amy\", \"Person\", \"Van\", \"Athletes\", \"Conference\", \"Opening\", \"Details\", \"got\", \"exist\", \"Environment\", \"watch\", \"never\", \"raise\", \"happy\", \"Ways\", \"Real\", \"mind\", \"great\", \"list\", \"Royal\", \"Country\", \"away\", \"Rihanna\", \"future\", \"Mary\", \"Kerr\", \"failure\", \"Final\", \"Step\", \"Victim\", \"gay\", \"burn\", \"Cell\", \"Zone\", \"attend\", \"Tricks\", \"remain\", \"Greatest\", \"Berry\", \"private\", \"eat\", \"really\", \"reason\", \"couple\", \"mean\", \"die\", \"relationship\", \"survive\", \"Louis\", \"Risk\", \"campaign\", \"allegedly\", \"Academy\", \"confession\", \"Maher\", \"Debut\", \"red\", \"Picture\", \"Plastic\", \"Richard\", \"blow\", \"Bags\", \"artist\", \"lot\", \"official\", \"Germany\", \"Last\", \"bullying\", \"Julia\", \"Close\", \"have\", \"say\", \"now\", \"Red\", \"save\", \"buy\", \"teach\", \"Cover\", \"Film\", \"Carpet\", \"only\", \"Festival\", \"John\", \"Cannes\", \"Ellen\", \"stun\", \"film\", \"replace\", \"Writer\", \"European\", \"recap\", \"Fraud\", \"Transgender\", \"Point\", \"Tweet\", \"Seal\", \"Republic\", \"Kevin\", \"threat\", \"Oliver\", \"Math\", \"finger\", \"Heart\", \"right\", \"rule\", \"expect\", \"new\", \"check\", \"NFL\", \"nearly\", \"stand\", \"listen\", \"Club\", \"Custody\", \"maybe\", \"Morgan\", \"Worthy\", \"restaurant\", \"Survival\", \"know\", \"owe\", \"perfect\", \"Cute\", \"Central\", \"gold\", \"loan\", \"Today\", \"pack\", \"Atlantic\", \"bill\", \"Progress\", \"Estate\", \"have\", \"wedding\", \"Love\", \"Women\", \"Dinner\", \"David\", \"Airport\", \"kill\", \"catch\", \"adorable\", \"vote\", \"young\", \"Cat\", \"Door\", \"trial\", \"Glass\", \"Double\", \"else\", \"Denver\", \"act\", \"abroad\", \"Mayor\", \"Convention\", \"Miles\", \"General\", \"Recall\", \"Chopra\", \"Cars\", \"Broadway\", \"indian\", \"NY\", \"do\", \"wear\", \"Air\", \"Off\", \"Flight\", \"Smith\", \"Banks\", \"Down\", \"forget\", \"Battle\", \"hurt\", \"Fresh\", \"Heat\", \"Force\", \"Shares\", \"call\", \"rip\", \"Spot\", \"Exchange\", \"spread\", \"Monday\", \"Reviews\", \"Shot\", \"Total\", \"Veteran\", \"Bottom\", \"email\", \"exactly\", \"Indie\", \"Factor\", \"say\", \"look\", \"Drug\", \"Engagement\", \"Personal\", \"Control\", \"Split\", \"Service\", \"Clinton\", \"then\", \"Fail\", \"Hillary\", \"sick\", \"sense\", \"Grand\", \"Derby\", \"Defense\", \"Chief\", \"Frozen\", \"Prescription\", \"Wave\", \"original\", \"Portland\", \"Prices\", \"wealthy\", \"Threat\", \"Michele\", \"conservative\", \"declare\", \"Coal\", \"Roger\", \"Show\", \"come\", \"Mom\", \"stay\", \"Perfect\", \"Gift\", \"all\", \"Wine\", \"Daily\", \"Cooking\", \"weight\", \"Law\", \"Special\", \"over\", \"Tim\", \"sit\", \"Marks\", \"Pilot\", \"Rising\", \"cancel\", \"Lena\", \"Avengers\", \"Infinity\", \"ability\", \"Female\", \"shame\", \"Greg\", \"complain\", \"CNN\", \"Won\", \"have\", \"tell\", \"Party\", \"Paris\", \"moment\", \"cause\", \"Financial\", \"Autism\", \"Moment\", \"dance\", \"Ultimate\", \"Johnson\", \"Ohio\", \"passenger\", \"son\", \"Word\", \"Bus\", \"Tree\", \"dead\", \"Number\", \"University\", \"Goodbye\", \"thousand\", \"Macy\", \"Bruce\", \"Mob\", \"brother\", \"Howard\", \"Dennis\", \"DJ\", \"controversy\", \"have\", \"Style\", \"State\", \"protect\", \"dog\", \"San\", \"NYC\", \"propose\", \"Popular\", \"Los\", \"UK\", \"Angeles\", \"Rights\", \"ex\", \"Dogs\", \"event\", \"Winner\", \"Voice\", \"Francisco\", \"Education\", \"Justice\", \"Career\", \"focus\", \"character\", \"Department\", \"fan\", \"public\", \"forward\", \"Jeff\", \"russian\", \"running\", \"Home\", \"let\", \"create\", \"try\", \"London\", \"end\", \"Ads\", \"Team\", \"Budget\", \"funny\", \"state\", \"Italy\", \"form\", \"pant\", \"mistake\", \"site\", \"Mirror\", \"Diaz\", \"Cuba\", \"clear\", \"Russia\", \"Sick\", \"Crash\", \"Legal\", \"Retro\", \"Laws\", \"tough\", \"recognize\", \"Dangerous\", \"Conan\", \"Divorce\", \"marry\", \"Awards\", \"real\", \"high\", \"avoid\", \"Season\", \"Dark\", \"explore\", \"engage\", \"dangerous\", \"Bed\", \"arrest\", \"announce\", \"double\", \"charge\", \"Morning\", \"Ben\", \"down\", \"handle\", \"Co\", \"Pro\", \"soon\", \"dating\", \"airline\", \"Investigation\", \"Panic\", \"figure\", \"poor\", \"Ending\", \"Father\", \"plan\", \"Challenge\", \"report\", \"Park\", \"List\", \"Round\", \"Pregnant\", \"Animal\", \"Community\", \"Side\", \"ready\", \"Labor\", \"later\", \"Historic\", \"hire\", \"Bachelor\", \"Train\", \"Lawyer\", \"Latest\", \"Coverage\", \"seem\", \"Rio\", \"Toddler\", \"Prime\", \"Development\", \"Primary\", \"Ron\", \"Sanders\", \"expand\", \"love\", \"turn\", \"Jennifer\", \"last\", \"fall\", \"Less\", \"problem\", \"Lessons\", \"Office\", \"Box\", \"spend\", \"International\", \"water\", \"one\", \"French\", \"Screen\", \"Place\", \"Adele\", \"Marie\", \"Faces\", \"Honor\", \"require\", \"million\", \"adopt\", \"Alice\", \"journey\", \"Massachusetts\", \"queen\", \"Warner\", \"Rover\", \"have\", \"bring\", \"feel\", \"Teen\", \"Fun\", \"ad\", \"Child\", \"accord\", \"Justin\", \"Death\", \"pretty\", \"seek\", \"Nicole\", \"hide\", \"India\", \"Non\", \"Birth\", \"Ad\", \"heal\", \"Search\", \"approve\", \"Urban\", \"Timberlake\", \"Canada\", \"Breakup\", \"Brady\", \"Friend\", \"meaning\", \"Gomez\", \"Selena\", \"epidemic\", \"have\", \"other\", \"Us\", \"cut\", \"Son\", \"Madonna\", \"Stewart\", \"Beckham\", \"tax\", \"late\", \"likely\", \"Chef\", \"Japan\", \"Major\", \"Dessert\", \"Picks\", \"Jon\", \"Species\", \"Interior\", \"Chemical\", \"theme\", \"shut\", \"Lane\", \"Proof\", \"skip\", \"Competition\", \"Congress\", \"Owners\", \"Agency\", \"Lot\", \"Genius\", \"Girl\", \"Big\", \"pay\", \"Apple\", \"Open\", \"cost\", \"Credit\", \"Proposal\", \"launch\", \"Card\", \"Letter\", \"Texas\", \"Middle\", \"trick\", \"Hope\", \"Shooting\", \"Kris\", \"Rocks\", \"jump\", \"Fund\", \"Mass\", \"Data\", \"Marketing\", \"chinese\", \"Batman\", \"suit\", \"Films\", \"Access\", \"ensure\", \"Shell\", \"say\", \"Beauty\", \"mom\", \"break\", \"feature\", \"Michael\", \"blood\", \"Date\", \"Martin\", \"close\", \"Center\", \"pose\", \"sexy\", \"Fan\", \"Miller\", \"honor\", \"Trayvon\", \"receive\", \"Blake\", \"Adam\", \"memory\", \"Jordan\", \"Lively\", \"Ladies\", \"president\", \"Youth\", \"deny\", \"Pot\", \"Michigan\", \"rest\", \"Larry\", \"say\", \"well\", \"News\", \"leave\", \"Young\", \"again\", \"cover\", \"Brown\", \"Chris\", \"wish\", \"Bacon\", \"Staff\", \"Issue\", \"Fox\", \"Amazon\", \"announcement\", \"Host\", \"australian\", \"restore\", \"Facial\", \"premiere\", \"critic\", \"rape\", \"Bryant\", \"Adorable\", \"measure\", \"trap\", \"Tool\", \"Ridiculous\", \"ABC\", \"Surprises\", \"star\", \"name\", \"baby\", \"SNL\", \"free\", \"Lady\", \"Cities\", \"Future\", \"Wife\", \"kind\", \"icon\", \"Jay\", \"Legacy\", \"Boston\", \"Vanessa\", \"award\", \"teacher\", \"Training\", \"Sexual\", \"Chicago\", \"Z\", \"Transformation\", \"Poor\", \"Way\", \"anyway\", \"Everyday\", \"mess\", \"Protest\", \"Carter\", \"Exclusive\", \"have\", \"kid\", \"Tips\", \"Top\", \"link\", \"gift\", \"test\", \"Month\", \"Mental\", \"Houston\", \"Line\", \"Table\", \"Whitney\", \"believe\", \"September\", \"party\", \"Importance\", \"Santa\", \"hang\", \"nation\", \"connect\", \"Program\", \"Documentary\", \"medium\", \"Safe\", \"Huge\", \"diagnose\", \"block\", \"Tests\", \"portrait\", \"Inside\", \"America\", \"President\", \"together\", \"former\", \"Joy\", \"month\", \"Dead\", \"Miss\", \"Plane\", \"law\", \"Lauren\", \"Phone\", \"Military\", \"Gas\", \"Jack\", \"Near\", \"Private\", \"Key\", \"Celebration\", \"fill\", \"scandal\", \"Scandal\", \"Route\", \"Cast\", \"Member\", \"Rob\", \"crash\", \"Bomb\", \"Lance\", \"making\", \"so\", \"Tour\", \"Romney\", \"animal\", \"Long\", \"fail\", \"Elizabeth\", \"Dr.\", \"Mitt\", \"claim\", \"Mark\", \"Shop\", \"Australia\", \"Brad\", \"Record\", \"Fight\", \"Pitt\", \"Federal\", \"Group\", \"instead\", \"British\", \"Matt\", \"round\", \"Peru\", \"Boot\", \"Rap\", \"ditch\", \"Zuckerberg\", \"regret\", \"Warren\", \"say\", \"Black\", \"own\", \"become\", \"Princess\", \"doctor\", \"Woman\", \"Kelly\", \"Coffee\", \"Idea\", \"serve\", \"Jackson\", \"repeat\", \"phone\", \"promote\", \"present\", \"flight\", \"Colbert\", \"Records\", \"refuse\", \"McDonald\", \"Stephen\", \"Status\", \"Award\", \"afford\", \"terrible\", \"Reports\", \"Billboard\", \"Vietnam\", \"racist\", \"Italian\", \"start\", \"Paul\", \"Better\", \"rise\", \"Test\", \"Single\", \"Treatment\", \"In\", \"Research\", \"Ryan\", \"addiction\", \"city\", \"hand\", \"Dads\", \"Track\", \"stick\", \"crazy\", \"strong\", \"System\", \"Kentucky\", \"stage\", \"Anderson\", \"Mountain\", \"achieve\", \"Cooper\", \"Launch\", \"Experts\", \"crush\", \"seriously\", \"Soccer\", \"reveal\", \"City\", \"Dad\", \"return\", \"Store\", \"Earth\", \"Crisis\", \"Relationship\", \"Patrick\", \"Company\", \"anniversary\", \"Boy\", \"Friends\", \"Ashley\", \"Church\", \"Players\", \"ceo\", \"Century\", \"choice\", \"Jr.\", \"Andy\", \"Housing\", \"Brian\", \"controversial\", \"Seattle\", \"Cohen\", \"record\", \"Combat\", \"Scout\", \"Dan\", \"too\", \"Bad\", \"miss\", \"weekend\", \"remove\", \"Couple\", \"Met\", \"finally\", \"Kid\", \"drive\", \"Aniston\", \"Gala\", \"Tech\", \"point\", \"Problem\", \"power\", \"predict\", \"term\", \"shot\", \"Performance\", \"worker\", \"Cole\", \"research\", \"donate\", \"Trailer\", \"Multiple\", \"Songs\", \"Parenthood\", \"bizarre\", \"Iowa\", \"have\", \"marriage\", \"suggest\", \"Dog\", \"color\", \"Trip\", \"first\", \"James\", \"support\", \"view\", \"bar\", \"Elle\", \"music\", \"safe\", \"prepare\", \"Cost\", \"Same\", \"Grace\", \"Georgia\", \"Lee\", \"Pet\", \"Support\", \"control\", \"Epic\", \"Hawaii\", \"tiny\", \"Greater\", \"Singapore\", \"Ever\", \"Coat\", \"fake\", \"Network\", \"man\", \"death\", \"Disney\", \"favorite\", \"season\", \"job\", \"NASA\", \"Sports\", \"Famous\", \"Atlanta\", \"cry\", \"Biggest\", \"base\", \"Episode\", \"Minutes\", \"Tyler\", \"Poll\", \"Claims\", \"irish\", \"Prison\", \"provide\", \"Lands\", \"Drunk\", \"Rainbow\", \"NBA\", \"sometimes\", \"dinner\", \"Nightmare\", \"bug\", \"Food\", \"American\", \"question\", \"benefit\", \"Report\", \"Tom\", \"Comedy\", \"cook\", \"Size\", \"Christie\", \"of\", \"Fans\", \"Orleans\", \"Crazy\", \"Stunning\", \"Idol\", \"Share\", \"Government\", \"Viral\", \"Spray\", \"remind\", \"sport\", \"light\", \"Funniest\", \"Iron\", \"apparently\", \"Apartment\", \"Captain\", \"Tattoos\", \"Press\", \"Kate\", \"heart\", \"Room\", \"Olympic\", \"Jimmy\", \"word\", \"Living\", \"Cyrus\", \"Miley\", \"totally\", \"Security\", \"Cool\", \"birth\", \"Song\", \"States\", \"far\", \"single\", \"Gown\", \"Greek\", \"allow\", \"spending\", \"account\", \"CDC\", \"Kimmel\", \"Ceremony\", \"apply\", \"Requests\", \"Cut\", \"era\", \"produce\", \"Online\", \"Wedding\", \"even\", \"Part\", \"Prince\", \"picture\", \"William\", \"cute\", \"Safety\", \"United\", \"defend\", \"Past\", \"Sale\", \"Jim\", \"Return\", \"introduce\", \"wall\", \"Partner\", \"Naked\", \"Natalie\", \"judge\", \"paint\", \"Strategy\", \"Southern\", \"recent\", \"Fairy\", \"Officer\", \"Policy\", \"Comedian\", \"Portman\", \"Book\", \"singer\", \"Pink\", \"husband\", \"trip\", \"Business\", \"Lopez\", \"Stone\", \"Race\", \"song\", \"Destinations\", \"Culture\", \"Winter\", \"half\", \"credit\", \"Interview\", \"Saving\", \"Nude\", \"Question\", \"Planet\", \"Guest\", \"Indian\", \"next\", \"attempt\", \"Josh\", \"Cash\", \"Controversial\", \"researcher\", \"prediction\", \"Rolling\"], \"Freq\": [25337.0, 12461.0, 11034.0, 9443.0, 8276.0, 8786.0, 7785.0, 7001.0, 6820.0, 6267.0, 6545.0, 6151.0, 5915.0, 5716.0, 6032.0, 4917.0, 4640.0, 4572.0, 4559.0, 4623.0, 4524.0, 4411.0, 4590.0, 4878.0, 4001.0, 3922.0, 4192.0, 4045.0, 4040.0, 3978.0, 4877.097253707366, 2511.2724975077017, 2103.389028250244, 1968.617405709096, 1847.412197757053, 1405.220954384039, 1184.7004083308038, 6023.614579284187, 819.986472062233, 756.5457094712151, 748.1402071022579, 687.9940088071689, 630.9293506823769, 613.1043928758899, 576.7724420371524, 529.5414280647485, 527.5850520874353, 516.788249484666, 509.1441442706295, 503.96309321507545, 412.99246803522465, 411.9665435478269, 379.43639459828233, 353.32497731657384, 343.13976130978523, 327.8813488992858, 279.3490118653017, 270.23217972389267, 256.8825559685239, 260.49551898164214, 346.99366311205733, 410.7377016466399, 316.45420074829605, 25335.7282327226, 1574.6134097782442, 365.1455600241833, 259.7982130111622, 236.13195231173736, 223.96956487929185, 211.07113050142044, 192.64647308854876, 191.01888996138422, 186.3199556093503, 184.15092918294692, 168.88276681868265, 142.1144686184792, 133.4415404858149, 122.76926075658302, 118.85690432551667, 118.32608319870789, 116.91011886430825, 112.771829430906, 111.34773958853631, 109.07985281516436, 91.30408606111274, 81.01682225422199, 74.49573139143601, 70.99777586684073, 65.74760069897467, 62.366564727609095, 59.108364647678584, 58.99821256826562, 48.91091645332611, 196.05204446247186, 3035.5357942063365, 2694.15058614818, 2414.6948218979483, 1419.9314187821417, 1342.9864867627898, 1021.9141905461996, 801.460017165102, 728.2572605246609, 620.0027886534186, 466.9863152582619, 12372.563910625713, 224.02876466404717, 194.53013311416012, 181.12578863458128, 166.21365515830956, 162.14384132132915, 160.14695590358465, 139.5642748982963, 136.95658916709212, 131.39740859488376, 126.01845914734069, 120.07466269410328, 109.17403513519119, 103.20418434073909, 94.77937713513256, 84.35538903951964, 75.29988255390283, 53.31524917507978, 48.530362831621794, 48.07117699897643, 108.75263321460199, 66.18875107325162, 4588.475824073222, 3731.6202122962927, 3424.0899824155817, 2577.16066664829, 1946.7357089086154, 1797.907223080008, 1222.710603493264, 1183.9382672406957, 868.6642919722726, 766.5394632301894, 619.9667978961721, 457.983426555783, 383.5627539529656, 382.1803709224894, 358.4141846750019, 351.8549593699002, 327.42122857270886, 310.7755365729915, 304.4677835297645, 295.85225810875573, 283.70143275529557, 240.68850260489748, 211.4316624187189, 192.29920980119098, 171.23495012558064, 170.22541758792383, 158.315648400946, 150.2568196996624, 144.55747236000863, 141.11088784085163, 231.7593369781834, 6543.933983982664, 2568.7733657764597, 968.1393376096814, 766.8703509346792, 651.2479914624508, 523.0355083091326, 479.1901026523967, 457.95610315628164, 422.174813371131, 415.3239481560213, 406.8328675019312, 393.09420059782195, 367.4305409592357, 324.2741404930089, 295.58336393669725, 265.9096545733582, 257.02069729599305, 256.1535957343511, 227.5394088501245, 220.21488686861434, 177.47885146574632, 174.0032280626904, 159.11062564944052, 155.33723279751513, 146.9688849662127, 145.2356148593569, 139.91720168577933, 134.9746980869265, 121.12548245691453, 120.43400751703687, 8472.366100808153, 125.64866377547524, 5715.0433689564, 3515.0794683625622, 2026.6719969873625, 1964.6845544345697, 1410.5395698845603, 1137.6904074232784, 971.5762087518266, 857.897034644151, 748.4900297315017, 650.291689991185, 610.1388191142662, 544.4129636749088, 507.3368651674292, 445.28401369907533, 424.2621912601219, 360.1428744013076, 307.2167125442338, 297.2790121389717, 292.25882354331304, 275.3073751026653, 257.6440071155301, 247.9594674631873, 243.7423580156037, 225.69498428125604, 222.09379973414948, 216.2699208190701, 214.38126554541336, 188.59780715314702, 183.3629751809252, 178.1865576077541, 194.58209817405955, 3723.1406217644235, 2336.6522444032566, 2010.1244648966185, 1727.3231034892017, 1566.2612981793689, 1312.612451701243, 1311.2311972281148, 1046.8706168794208, 986.7571815979285, 871.492550129972, 839.6408363101258, 631.4040829470412, 548.364167470272, 490.34651510785955, 474.7391789187574, 410.9249202963483, 374.1474589495541, 349.37063105921874, 274.9526546313646, 246.91947888817685, 244.67504272998335, 222.25573391463328, 220.85968832905758, 219.8160192459084, 211.8656427643993, 211.25851621973194, 205.2895986177536, 202.40409056772722, 198.19674839596226, 171.15945211222856, 11032.535507741055, 2668.0839681598745, 1239.1061938073367, 756.7167471329886, 668.362599979248, 639.445505827462, 584.7634272017164, 531.7417860538573, 525.8016537122489, 510.56361884132394, 506.4200511657595, 433.609946314848, 410.93169397860936, 369.5299476594772, 353.5697190315739, 321.4126102846648, 287.5421031843576, 277.8412418787788, 265.4059016079618, 258.58697349470407, 247.2952840533589, 234.28325306249582, 230.7249157314021, 200.82359818951375, 173.48319237993655, 160.11708372709947, 150.90429870057898, 129.88889115474998, 123.05539246569356, 122.73414294449731, 187.41138316682327, 7783.326467109753, 4523.013727892058, 1991.845020584513, 1686.2014288005485, 558.5064540734003, 545.2004965952633, 397.5697644946922, 397.39445647927477, 394.65991033751345, 391.1819172543954, 353.00660121937057, 332.2708009442362, 318.29014852641313, 249.16574018007267, 242.1547859734493, 236.5064542490301, 195.54054528706055, 160.73063733660211, 151.25421189852142, 145.3281753054295, 139.90978402732296, 139.82859050233748, 139.43103708681946, 138.69551292668734, 134.2207476659314, 123.60667796589716, 115.57084428667119, 108.38102220680325, 105.60587930254917, 96.72643722764978, 135.6529851456431, 130.61394046810727, 6818.63877191571, 2778.8402766872, 2262.9593021835235, 1479.7629281436825, 1005.1980900234737, 982.529311279717, 2124.584256106681, 680.5674843237725, 565.4104607388743, 517.4699758681838, 486.3677295921666, 463.8914702601018, 401.09843746290016, 298.6611360750593, 183.01676191841358, 180.00088708185925, 169.1395597316419, 168.1657896716112, 167.6282918994348, 144.31538245290628, 141.45166814095737, 124.601922309623, 120.0266736618736, 106.93584308249432, 106.25236813487274, 104.59037221415912, 104.33630579808462, 96.1660961468665, 88.8856322415112, 84.82056361583547, 2668.690931655125, 2142.561455108989, 1627.7186768370375, 1424.3800308392256, 908.4734690431314, 813.9752803420243, 796.3123377371269, 754.1324507386219, 751.0351450678272, 735.3471453972214, 657.6692382669773, 646.5122845262399, 635.2676959095032, 621.8154851068228, 566.0670242855572, 547.115432585747, 545.6375707633699, 430.4163774391577, 428.70115751430103, 386.9744874012026, 328.33122157295696, 314.39802490520856, 287.1134466701126, 277.5242354761487, 271.9994016305174, 202.99376790331604, 193.5653571151666, 189.05468758065206, 183.01126160642667, 181.07472034030175, 4621.644398541227, 3330.734984076507, 3199.854718434832, 816.5240851663508, 625.3958569469112, 564.9697754777933, 563.0512352839892, 531.4600760098563, 522.6601545918263, 519.5278431406898, 519.3524603306173, 432.527389830439, 362.8781379698933, 345.3912040880038, 250.01510436360098, 248.5770428433093, 244.70165731777564, 227.45335532489014, 225.93081729506667, 205.64573868908474, 190.61001442493517, 185.85849007206838, 182.9450993243785, 177.0953119455662, 169.04634223595318, 152.6432613519325, 149.94149509094154, 146.25670042726384, 137.3697374235017, 136.2191012417142, 916.7158247482907, 293.6134879346601, 5913.930093250226, 4190.53738332521, 1961.8551504863028, 1859.0557853298524, 688.1748748945131, 567.8837658636603, 539.3500823761979, 508.9330023519842, 396.234988588272, 347.47574356795496, 322.52092961672383, 304.8852005178122, 282.94767793226697, 281.5387435834261, 262.36568809038806, 231.81822492626773, 227.7603293447924, 201.78871482582622, 183.38809218652165, 181.40530870758863, 169.23568245387878, 163.28407691295203, 152.60642931407716, 143.1685289508749, 142.95717090106902, 126.48123204709113, 97.09033758155128, 92.10741635267077, 89.34345821974371, 82.16415268419439, 829.7824639639294, 9441.229600012583, 2568.2930645164324, 2188.833254222287, 604.0624310757901, 479.66518354185087, 388.5758329350844, 342.36727429128445, 332.94840858268634, 318.32425695391686, 303.8052422065439, 296.12318892937805, 290.4275232783427, 289.52094804486086, 273.31192731716095, 226.71901399184617, 222.1669978050572, 220.2618331381977, 204.78874837607424, 167.94656471487005, 156.46628339234022, 154.27459574395166, 150.08433036428227, 149.34775047694012, 135.63586945864893, 134.73190321852806, 134.28491049215165, 120.82730085660843, 115.38429678390688, 110.4210699371344, 91.90003700765892, 6149.874902293763, 2069.7262270435253, 1605.299679550895, 1526.1315250706093, 1219.2405737185904, 1180.0441839425043, 1009.2540353573079, 821.2490927071447, 749.3093249252994, 695.1408545917554, 658.2757723506135, 482.4416114074198, 388.8464954204854, 354.3297750645691, 326.1595321609892, 284.3901503431153, 256.90983342818726, 247.02898584534984, 213.31793957492954, 194.58517544388744, 194.04448609445024, 193.87761924377597, 165.44161640639726, 155.77598586470685, 134.86735241985554, 94.95249830402986, 94.20202937187946, 90.64602015017736, 73.68156512110887, 72.81801145006412, 167.52092930455552, 4409.92844848002, 2561.3896107781848, 1675.472176423411, 1649.9431725084298, 1187.9998437198763, 1159.9003002445927, 758.8696266379612, 681.087496037175, 628.7820600921567, 474.9804558303983, 474.76213853177205, 472.2759715473764, 421.8782594994085, 397.05039082128917, 389.3366867214096, 340.34050656127937, 328.9612007096794, 250.90733567222497, 244.03431609541363, 204.72497222934405, 202.21855930242904, 192.21237150517388, 179.7638865528341, 172.6389983273738, 164.1350507758101, 143.28789934531878, 127.78567673994085, 115.77553164932542, 95.47189253839912, 93.32909196004682, 339.260476764951, 3976.2345746884334, 2290.680567849215, 1344.88029803804, 1320.48715021801, 1294.0806383242425, 1116.3602619298588, 1069.5186258345304, 1036.3905353294513, 756.4215773654885, 657.1214276408206, 483.7134113074778, 439.24581634870776, 374.89803174692327, 303.28863008997604, 282.8851655607567, 245.69323690818163, 234.9883156263081, 226.53937400052558, 213.63534321473009, 209.04416957833544, 204.60894914273436, 188.6107173896486, 176.40932287108762, 173.72132331714246, 168.54760519532744, 161.94957096384206, 151.3647197493297, 131.70915526443403, 128.69744750374565, 116.41686037542496, 193.27726189209093, 2816.64239955264, 2398.4976995836832, 1716.8126395337745, 1489.0768181011774, 997.3977948542333, 904.3662778382178, 766.130120183541, 650.9378943123229, 611.7318742994197, 526.9532473642037, 524.8791533095767, 521.3321989152026, 504.7934039047765, 455.610235998606, 445.4319268573737, 438.0626491329295, 401.24581377643466, 364.5091140687312, 336.10325496628616, 327.29729044550163, 308.94795766381185, 278.86117544234645, 239.7458921764819, 233.87894151793347, 174.1662868649198, 168.19564015759778, 158.89291682690498, 153.28283726935567, 150.19188154387388, 140.9334881117701, 2388.673862793476, 1822.6258435483276, 1622.104897042172, 1270.311945589046, 1150.438044970847, 956.0204941673713, 761.4308987247628, 668.6302065536188, 606.9484798808577, 590.0748189652837, 585.2882459911964, 576.7741943168778, 539.7997449556283, 513.1670994162595, 481.1097163067868, 420.9358978496631, 420.4974082787494, 396.65107348382384, 376.84080606428864, 368.85126628045015, 348.6432567045328, 328.72242542812245, 322.50051102543983, 273.9232671110943, 266.7203047544969, 251.81794282324324, 213.34049355381802, 189.05164945341957, 183.62168622838877, 174.1490442224426, 183.79876611396958, 4038.3103860836886, 2140.454551320615, 1493.6079680643495, 1351.4247300354705, 1217.4625480435332, 718.9788454630955, 700.2779911918376, 657.895180254124, 560.281765941288, 524.369712484048, 505.27797694914835, 491.7742527616918, 468.76216240767275, 446.0951203590761, 417.8990789953225, 413.89687960795425, 406.5294834036345, 325.7498598882197, 314.6409077677241, 302.62092067368536, 260.1742919585244, 244.3867475585508, 231.2492463353277, 216.74926389441544, 203.22847826234698, 188.47049655937033, 182.10668264807518, 165.90150010637845, 131.9406001704041, 128.52936053736593, 4557.225426984759, 2527.3790593173603, 2176.99297159727, 1404.0259146145816, 1076.2143406517325, 792.0765140051669, 678.6271411845009, 552.1582273021414, 520.351064136793, 466.641016155193, 456.20567763212864, 366.6244663386405, 279.6308151180258, 273.9203412242176, 253.86686766442983, 221.93380713927078, 195.60318930002686, 194.31314324864354, 170.74276448588583, 165.29861427806446, 156.72928137010695, 154.7052579842536, 151.2095154213682, 144.18824998428613, 134.92408045166877, 128.63032146487706, 123.12980537913825, 117.21453207078132, 95.48382771517913, 93.18225833948645, 202.42649248320288, 4043.2906539132255, 3161.171918856587, 2667.0453770484137, 1982.2580319208075, 783.9505196136015, 742.0676702444804, 498.9749481510299, 458.3276004798549, 407.42490629657885, 324.0356081556961, 305.7357108945606, 286.38258649391713, 282.43981900720775, 234.39060598179216, 216.78576675663228, 179.10641744485298, 177.34652306787382, 172.01190317646777, 168.45483374327196, 167.62409947416572, 162.61613222797112, 158.21493251663898, 152.56393664708452, 145.3161405391267, 142.06686636993044, 127.53178267901427, 119.60641300202893, 118.35078195818538, 106.8976687004778, 93.90350965641899, 3281.5585876797704, 1334.0683879733522, 1266.624010617549, 1058.1225455820054, 747.5394246649668, 666.4326008360079, 1211.861085469633, 593.593916862025, 578.5780460537685, 540.9358065354106, 463.42756421812777, 445.90099551655203, 428.31048550780616, 418.86768454617084, 381.1196774520428, 301.63989146527666, 289.5124970941743, 283.29286284544463, 266.92008217970374, 249.1471231027544, 237.29746877673782, 219.12201199146475, 213.7016440823616, 209.88900342017803, 206.012822085581, 196.61639459703431, 183.73722913671278, 169.6143131059383, 156.88055803056287, 146.436891319727, 2776.809866436315, 1482.1624789017926, 1433.3511403172186, 1298.7305480064617, 1056.0700822235408, 943.5979319453822, 819.6685410476765, 767.888006550361, 667.3703713061656, 630.3309703140809, 481.60244958430866, 452.9873757966237, 428.49591614751466, 425.6480018359261, 368.3957417067618, 367.710451036025, 355.81889921627743, 335.1199608895036, 308.89355900354263, 291.9473235225226, 278.35854387544697, 274.18889830756285, 263.1802209650783, 246.79924508406322, 216.9424541373409, 161.49646610325146, 153.37377477628525, 150.95869286305003, 115.23952447572456, 91.59947754645994, 624.5585615898813, 4571.081591790419, 2605.557423744314, 1508.8745457369125, 1033.5863599549928, 853.0996175822135, 734.8356587743788, 538.1417102499171, 528.8612427308881, 491.8530908093224, 457.4062428916577, 429.59698150741923, 425.33460395622836, 401.3078926877297, 370.38295129615597, 356.19005692789204, 333.56393477747145, 307.14235076251305, 263.6073887945323, 260.1426769722144, 211.71137848415825, 186.6939175368725, 154.9332562943952, 152.74582046631457, 144.59428202949266, 125.4075417721732, 120.68117045913361, 117.44168375957848, 114.90124782674698, 110.1674729880205, 105.43791322325177, 214.9083788176382, 2433.12906657364, 1728.385558818079, 1455.3641200190873, 1309.8417588592567, 1268.8860012578637, 863.7289437458264, 723.8075797751179, 644.8816317020189, 631.9263211506204, 531.8261487521423, 529.7519129246663, 510.28561581629015, 485.74230741607045, 365.5892941897634, 352.7851485966789, 348.2334651364696, 345.4658439336254, 340.29339742789074, 293.7231640908313, 293.1358704668856, 254.76669133627743, 236.1794006996012, 234.91788373351486, 225.12095382876922, 193.18735638494053, 165.92716374112283, 160.7645942669333, 159.5101421905436, 144.31807374715282, 128.10586877992338, 249.30835360977318, 4638.6129482518045, 1529.2908947155754, 1470.714903754769, 956.1720880245803, 856.0871429824775, 513.8922874351427, 469.3151483555605, 468.16778585232805, 459.82304555351385, 447.8764340406931, 418.47831470408664, 415.96554210506804, 403.87167971352807, 347.506927068344, 341.72516924661755, 309.6362051104069, 300.0198151806046, 292.5486599708407, 289.8031657656072, 252.4309673936007, 220.68700955180643, 207.91865327396684, 198.01037422905137, 194.56453472924795, 183.6034001151339, 180.99146497132145, 170.2498316003782, 166.42085694335236, 166.2565158479195, 160.99550871581505, 2297.7305606234268, 2089.951828335852, 1869.799472913263, 1491.4173290071733, 1143.3524388767262, 1052.3756237630796, 790.5483496293671, 676.6930835504221, 607.893989032965, 606.9759577861654, 570.2681268154255, 520.8558153497602, 425.4037966705922, 380.8282622280087, 301.9443204629047, 257.30200177770416, 246.09566791928003, 237.35344767230714, 233.540715094163, 217.57425871645066, 197.11297459971848, 190.64934971532412, 183.47789718168212, 176.05699270349132, 164.22175450228053, 159.4553491448367, 150.2894542390893, 138.20006166045087, 137.41873062222533, 132.7437463773884, 2957.8082177229085, 1777.0745839529438, 1516.172243236027, 1362.5668729471188, 1330.2531509871787, 1136.9008913301068, 1037.5570933021042, 675.9964996457155, 566.1200256769364, 551.3515354334029, 407.11229526305084, 348.279402872598, 334.7181528106568, 306.60458434949504, 304.1785461687343, 303.07662345383204, 272.7523174639427, 258.69830168882805, 241.99611306148165, 226.41842070899347, 222.7318834586138, 216.99450150255686, 176.56494586409391, 172.61093322404685, 166.26940846182598, 163.81630524091213, 158.0226055439358, 153.66690550359095, 151.096133245445, 139.67369894959282, 1605.2732728985948, 1589.6602599642954, 1174.5352673410096, 1141.7122506437, 1012.7956237027105, 869.150574451887, 846.2204342842155, 823.1726422502388, 814.020593952949, 813.265088206091, 787.4751502113563, 638.5059484473228, 579.8659948535885, 422.62303953550656, 412.5588995865653, 362.65971488354904, 279.26304306647296, 270.8321049195391, 264.5246361842685, 250.8628443038556, 228.90437490923273, 225.42748415964002, 221.21517268304456, 210.27366499177828, 203.75254185779883, 197.22044921297544, 196.141323583702, 166.36960765276646, 158.91359443834813, 156.6070037206597, 2524.637378489962, 1977.1715337382575, 1613.9461919068242, 1066.2079522738347, 1028.3027969265856, 971.1356184111743, 873.8193061023791, 603.0822671645944, 518.7258451411577, 492.3708541060731, 444.83495565744767, 384.5731687779721, 377.5502748969842, 368.9113069068812, 331.16003050411456, 299.005429500137, 280.01202327805737, 273.96888031863807, 255.27659662724943, 248.8059908472276, 217.86684940223566, 217.12948083103026, 203.328760246465, 200.01652747288085, 194.39465305451927, 157.028486325684, 130.98854056726424, 128.11716598351506, 127.1429381347295, 121.05186142384785, 243.89503945365547, 150.80876804456452, 2635.8863201160884, 1975.5653640974897, 1605.8931926573086, 1326.612356811429, 1189.6132282289768, 1085.66515368693, 947.715439827242, 838.4200453646562, 726.824613018406, 629.6396611967725, 858.9510630756989, 357.2464121466565, 286.37559460824633, 279.2053874013113, 251.6126327909217, 249.20699773160257, 248.7697070513556, 247.50114268595587, 240.10165955074422, 225.07594570814555, 217.8927136364463, 185.7547983870798, 185.4322605962485, 171.11335636345243, 150.88216912386142, 144.58431181161882, 122.69322048310092, 122.67526340851785, 119.90745091479442, 106.52597301497977, 1692.758971891398, 1232.6290069420168, 989.6272287465237, 814.110517180417, 776.0257634039929, 474.57409042543946, 454.9401291427053, 412.9881163017488, 406.0052019112201, 338.824359411742, 295.17318097899357, 287.2282205486844, 254.69357095450565, 230.2680046752052, 227.2883470539931, 225.7998298773544, 220.45379720279763, 3782.3617197095205, 203.30669392212153, 194.45059758759243, 186.6601476386348, 182.44345054757744, 181.24115064023826, 173.7568360592555, 166.8717883003178, 164.43437889882813, 164.41592233514498, 148.46859875082797, 143.23613484021388, 142.74156451520392, 200.36587940397052, 7000.04410485898, 2325.7682042005936, 1077.827091975682, 795.0933090469598, 775.2737800209535, 663.6548165472998, 659.622763998741, 543.1361865423786, 416.9795463516845, 381.94091007496667, 354.3190807732212, 301.22882678791257, 205.52484741119528, 199.99091340564766, 193.78888818185231, 159.84719381176285, 149.43353342990287, 127.31850747903005, 126.6934415492569, 120.46311409882344, 115.16457380811424, 109.06943838225095, 107.55223423997991, 102.28976360577494, 101.01919842419365, 99.76076408616811, 94.92547441967181, 92.60620473142649, 86.4530073060651, 77.8517595262694, 4915.4763932526375, 3384.5882826027805, 820.391687264354, 614.6607148280175, 607.9061525877075, 586.0252581400905, 565.9380255009731, 456.83285233060155, 386.17242379443104, 374.8521535522592, 336.2698195923354, 322.34454439324134, 251.76804093349043, 226.64215996591895, 186.57562987358992, 1293.3096583489075, 172.97461984380334, 170.85759370471354, 163.90655670170995, 157.51359847631707, 153.65410206767407, 146.8800798726236, 142.07272648095696, 119.01821383707812, 99.09463969309486, 96.94807891320157, 94.93600967691121, 86.78079949911137, 80.68647850074146, 78.97855263832788, 145.09747631899066, 8274.33172628379, 883.8770296854277, 857.3688343241591, 726.5967710220425, 526.9305221952628, 506.1630917587225, 450.2149806959374, 373.87473857454876, 345.58915167052623, 303.0818561239711, 288.8744907147238, 288.7739784519181, 279.2702617068799, 271.5164559659192, 257.11310900225374, 229.74128655249666, 223.93907412007604, 184.4672452559268, 179.7650765941331, 163.05840735282914, 152.9442261546969, 145.03579670459354, 117.18961520905738, 116.06691461133012, 113.70666705560194, 107.14274671337493, 102.0841258648978, 91.02837992021527, 87.89122245456174, 83.85748500713301, 2111.5032527788735, 1863.795636167597, 1796.833818317643, 1644.8405765763175, 1580.2914332138319, 1107.8193618221005, 993.5719828787697, 548.5781239191393, 539.7120812141312, 504.24681644218197, 501.91553197732424, 486.75237385356155, 393.1973506722087, 340.86524352631506, 304.7037877545055, 272.1180596830571, 193.5577077977457, 174.59463476080293, 174.2328466293807, 140.08552954547866, 122.98537457647583, 121.59338457619224, 112.80083720746205, 110.36850805055464, 103.98330215369866, 102.55767313197305, 91.66482924562034, 90.1429415714811, 77.60322600449318, 76.9126506244726, 152.78548171948188, 1828.1334381665883, 1724.4119823763622, 1172.564136524803, 1166.1766379311573, 1135.5714836377165, 927.7238392256842, 790.8723161665183, 598.7870513469145, 529.4504066841739, 515.1257837124251, 406.90901838675734, 329.8229833904106, 260.7836894157336, 252.78832387504505, 209.77533318876752, 208.77971925533868, 206.48832955519367, 205.98747718115348, 185.7578995055212, 181.61506433275576, 178.65442384756798, 176.79587843124128, 172.08319168532074, 169.0042488386314, 166.95942901090464, 153.5204429257844, 148.57903527760058, 148.30380433801278, 147.57640249119308, 134.81674947158177, 200.43815036824225, 6265.262642114973, 847.2359960838686, 662.2831508370062, 589.0676572101922, 580.3340073760637, 555.8870954321508, 449.2671417424155, 427.1014989568809, 423.5312338638238, 400.0125728805078, 388.5515818236447, 366.2844087824826, 335.2795261340548, 303.2783823431819, 296.4897949681528, 263.7233300501121, 262.742230184339, 245.62353209794787, 237.78962499446558, 228.70042166606342, 197.6611387275565, 186.62480712629025, 181.46253612829184, 175.22764073295238, 170.96134011003022, 146.84185964779627, 140.1877387852406, 138.38540609367257, 134.26822129735402, 130.97465848535808, 3724.4939745242, 1731.900474284526, 1575.489239456135, 1500.9300797585702, 1256.4692498373904, 1161.6629140556681, 520.6273482872704, 487.87939816437654, 481.2885672115992, 356.1526513281784, 354.19793944851926, 317.6149315380762, 308.9547633938216, 300.4406242692148, 299.8991859362588, 241.42628216498494, 241.0184785230485, 206.22891396094622, 169.6184855989326, 165.90827799975972, 153.85983471757234, 152.30972564892704, 141.27484326078292, 136.94170950808214, 132.56869873680367, 116.48446111223336, 110.97444406766239, 105.75573820183833, 95.10880541271337, 90.33390364550829, 3279.6113505177714, 1414.6328203427315, 1325.6340577817937, 1068.618961604465, 965.2845984741338, 934.494169796663, 932.5326680476188, 603.2166088901404, 518.8871041535006, 473.9228076689004, 444.35723605657313, 352.9527296844024, 343.5801370385388, 326.3084893341557, 309.6717872208924, 284.8443898159942, 276.95772800465977, 275.44321646274517, 246.24061274222524, 236.3692229246043, 190.23123806066346, 177.29132279193377, 177.04225221045127, 164.51822878610048, 160.09944221070626, 147.17381729566924, 146.63080158531443, 146.29087378609225, 123.16828366279056, 116.72648121659444, 1573.6837579815997, 1466.6432598433692, 1334.3113327722106, 1314.2176425313055, 913.1318837910851, 641.4433476001708, 630.6548370071773, 581.4168045896722, 513.2940532132177, 489.5434007159759, 488.044550650663, 446.01555611775575, 436.0731380614542, 349.8249026809485, 310.5245866272831, 298.28509131930184, 290.8713707327967, 285.77846564224257, 263.76743935585597, 255.4051081263497, 216.86947109253813, 208.10125653972491, 181.12543744459964, 179.0711159984461, 162.15499213813308, 157.60490274495106, 153.54470849564288, 151.72338595938052, 144.6005074729213, 133.00811352217846, 3999.605414984309, 1278.3258383491425, 1210.346012319346, 1085.5671656184593, 945.9258021964318, 903.2186403654424, 820.6613692169474, 793.5813975262447, 699.3471739253393, 653.9148993642638, 524.4192406096353, 396.1139617310966, 379.0768675713725, 325.17101740143005, 301.2591846345322, 283.9112504835062, 275.65012327186554, 236.29352084428746, 195.39407133643948, 177.08707436287344, 173.1696632086197, 165.81938869855784, 122.43087827961284, 121.68633201392397, 97.8087690920467, 87.50612191148556, 85.64153959899555, 82.01662782047538, 77.66054680873458, 72.21680744917339, 99.00269564187647, 1507.4243781510913, 1344.0017983978762, 993.9740879544433, 857.5946751959685, 824.0207493894413, 782.909007815498, 689.6484493891054, 663.3240443418402, 609.1829488576635, 559.9137548060639, 557.3842243203577, 440.8542244080992, 434.7679348418721, 373.51564336130207, 366.58585348088354, 340.35644922916424, 303.3358418782903, 288.6609397116087, 278.51528105515337, 268.4478308245095, 264.4302780275414, 252.8248269569319, 237.6361718561475, 233.27228726439958, 224.63218846117846, 174.76063529750715, 171.63167439992026, 170.43182578970388, 158.52151262583604, 142.41177265017825, 153.68075246097064, 2967.0411446303106, 2302.8752582350617, 1200.5146751965005, 1145.8192169612078, 760.8738030638767, 663.9727221728198, 589.8140341220941, 554.8297205134604, 538.2358706094279, 470.5485985255892, 422.7505745610502, 384.98548372887933, 307.02872833470445, 304.59272437727407, 245.16779974426208, 243.60889331076208, 203.12587616755602, 183.14280937370012, 162.58565588551892, 161.64018057576968, 160.2366483683941, 153.97495997240856, 151.40708827193015, 150.21972589716611, 121.99516696351567, 118.65943984451343, 118.50781352935708, 112.65672000638803, 109.50881158702899, 105.05224319507667, 1694.417104799278, 1588.5349029531244, 1443.4626870252769, 1060.546337593753, 996.5863120000081, 916.6902886581296, 840.9228052757151, 839.5060249772497, 759.4226943137276, 542.7780990038269, 485.5446921570076, 417.0224197417343, 345.13455205308014, 317.06083515498176, 275.9342544277841, 263.58636895699505, 219.8460663809561, 202.95823014231698, 198.03554466878413, 185.71087643522245, 174.08722888250094, 161.80515685860635, 161.70021016983114, 154.11569659545012, 149.18501047220408, 139.51592676210242, 115.30985870110388, 107.97176172609836, 90.93533346330831, 72.74425279862636, 110.38579998172473, 3202.4211020443995, 1517.793501441805, 1323.8486158385433, 785.268929309687, 741.6548379292723, 679.6236077747242, 559.640159579621, 556.9641932060778, 469.7480080339173, 427.2171947295681, 420.69487536347515, 382.3708468121089, 369.96332372694314, 304.70857338321196, 303.91522022996764, 291.36412936106575, 276.2213913062129, 239.66357920104196, 213.85301882805962, 198.69744301726408, 196.0694165883603, 191.73758133835437, 185.6577612719932, 185.1532072174232, 176.86070581560287, 176.75640745024114, 164.61995593427395, 142.5786716081487, 116.51321288598731, 101.47512606675116, 119.58444435513282, 2995.3145853684687, 1658.810692843205, 1572.7274288306965, 1024.2620464275988, 947.1485333015524, 899.7826843194132, 630.7065391154471, 625.4190427039242, 580.6922759168984, 394.9408760851086, 313.0724631298446, 301.69320448583255, 296.807757063738, 210.44209870176255, 206.57221353245825, 255.87277851240168, 179.13128742236935, 170.49495488670422, 166.60984643805568, 162.51449896287383, 162.19501150717676, 158.4335019880661, 146.50806833507906, 140.87636132510934, 129.0584976801897, 128.8585138065553, 118.37194020686712, 105.00297209782784, 90.77974639546646, 83.39085837916281, 1413.6955755299132, 1349.7644331139206, 1225.2668606506368, 1177.4939460148796, 898.687762946695, 892.6758461436423, 763.3806216817279, 751.2780249531735, 614.8860154420934, 440.8088992218784, 439.9877132998144, 390.83383197887355, 380.5231967492004, 351.0708455993143, 328.949760528946, 311.61681694412346, 291.2695765149642, 276.15060670330115, 266.20168910421165, 255.56540252068842, 226.6876169632423, 216.80232603619922, 209.86104122474262, 209.397353480274, 198.13392558056722, 197.6561060173599, 163.71822518295292, 112.79402380355715, 110.33302784810812, 108.34831102064845, 263.09859956464817, 3090.640219859638, 1950.411361716034, 1649.3975257044235, 1194.7773514710805, 671.1194044252447, 599.8714813809486, 543.6564873314674, 483.5427468066024, 405.6891266963304, 398.08956310199073, 388.77066889195464, 377.63349600118244, 322.9442558625886, 232.49610538849583, 228.49043652449643, 202.6530799032949, 198.7241306773669, 191.16897409744146, 189.56706539640263, 185.20884836447047, 177.2335279979569, 177.0088348180271, 173.8974198903871, 154.74090172169178, 133.83196780104643, 130.82216735289188, 127.83428798798444, 115.98212561616022, 114.61140584613084, 113.62729125097364, 3921.167673462449, 906.2021311438571, 786.8969414869995, 708.5005656689897, 607.3024939764488, 590.8789606641999, 585.6931328744041, 481.13544752887066, 438.70523042696414, 418.9303350281026, 394.9350782447154, 394.6650631328138, 341.51473575057383, 317.7898254672963, 301.0372236644751, 299.7562756851619, 289.4045365368728, 257.3202592896149, 217.79755947789812, 215.42707334822893, 198.21591311254838, 173.7296052825046, 169.3879558138405, 167.89230141454567, 159.05918186836783, 151.30789569670932, 147.6957476597887, 147.03729585984655, 135.7867324749219, 123.73080461273089, 2279.52237352723, 1045.4881424366342, 925.4601977342417, 854.140785641766, 784.5258593923023, 712.5697834003781, 679.7050166304276, 602.9675662571865, 551.7738442477413, 503.57466926571675, 474.4239851001893, 421.61020628987825, 395.54926720439545, 344.848136301914, 335.72539273969534, 261.24741330636755, 260.8610212104235, 241.59544371040207, 241.0127408373016, 229.41975194855604, 225.79352790192345, 216.2574365821493, 207.32813758352907, 177.9254917082376, 173.17450250417656, 169.09125822057385, 148.53880053616172, 133.62124415197565, 129.2941563357383, 128.23459339482594, 149.57131669306636, 2031.61198606913, 1911.9256123399105, 1767.792520945134, 951.1558635979397, 902.1511665240945, 824.8793256014018, 774.704566537159, 677.7139395145275, 424.2777275605464, 414.4252595153114, 368.46657523818055, 272.01395513098043, 260.2531701263487, 240.95006567964134, 240.87746854667645, 234.68773443406747, 225.5331419849877, 208.5777955123897, 187.07822795691152, 184.55930694911862, 178.73363022825723, 173.85174921215244, 164.85456871592663, 151.14592827248657, 131.85095246228875, 129.672585050413, 126.37818717317401, 117.89621878512908, 106.05751098912965, 100.4790074729643, 1193.059019745759, 972.1120361567921, 885.931423710084, 781.4761778638855, 774.9783626851029, 698.3939922426877, 616.0533469440919, 562.7236862697165, 515.997784483133, 507.28056675343765, 475.8527658826132, 447.4583093171732, 415.5298686268846, 387.65187123274967, 349.89865986202324, 327.9723818058381, 314.3877923844022, 303.76979091639123, 300.00810002168276, 276.28261684533084, 271.34305705322896, 265.4840384606625, 237.91430509591768, 217.7254808933252, 216.75431381728916, 192.5460614378162, 181.42487658235837, 178.5871408599034, 176.73998538073326, 175.37794575127464, 2347.7164979651525, 1615.2309318963532, 1221.110233185631, 865.9125110019635, 835.3833966885534, 732.7564137703242, 615.0661317595928, 572.7859369056783, 519.3820785463934, 369.44792302197754, 342.68572745299764, 313.44175184778766, 277.43471501355475, 271.5495249367195, 271.407716865358, 257.50913799789055, 247.76255577410373, 241.98398707965077, 240.1885842334981, 232.44403480901067, 222.08731049994628, 186.2183263131931, 179.01054125691948, 170.73084392928038, 168.06067223762503, 146.6890774202518, 134.31539658394047, 133.41007818155612, 127.57952952220053, 121.76622315684122, 1954.8699218340346, 866.9911763459938, 813.4792813354002, 778.5769923770791, 661.0134481135652, 642.2880056272411, 597.0432149553112, 596.6147433106103, 569.6605709506243, 484.22008391070386, 449.9663687861278, 427.24933372228645, 423.1364596852782, 410.45924126016973, 375.4431253414713, 343.1898736703163, 299.1411411757234, 280.18315072792205, 229.27138500813635, 213.11610796727024, 206.12103287517033, 202.39626274961978, 201.38627535233022, 192.06666056056392, 184.25970948783362, 177.46647306194964, 149.27135347561676, 145.27616329200558, 143.1716285487862, 129.08024302553773, 254.70618459988412, 2809.006429866464, 1025.784322255257, 824.0124002373684, 695.2994123430487, 634.5971263438385, 572.8270103191566, 535.1193705825268, 482.68410824775054, 472.32563201678994, 465.4050959823524, 453.6356935506995, 418.05276603034963, 404.40273687747725, 395.66783733162674, 380.5921888315397, 376.60868154094277, 352.2256449712467, 329.4390075672763, 269.7249076969201, 259.357068186313, 242.41731075063936, 228.2499323874827, 211.1318244815496, 203.32404967677246, 192.4230634225286, 179.98505880168523, 177.1551555803652, 149.48685629200708, 142.9366899858119, 121.35898803186748, 2145.931070745401, 2035.5338890278404, 1014.5897124436061, 715.6248335824204, 596.7620870106578, 515.1140558348819, 466.78259768675605, 449.4273356067302, 398.1360339445597, 393.1349179425367, 337.1727103401387, 330.1213025037915, 319.7519225495587, 313.1086799734582, 288.3852493386038, 266.19405596365715, 231.00353047741083, 186.89169224740786, 184.7309691936916, 174.83454718917855, 170.69677066828476, 166.13422436613325, 161.51166594677673, 159.95135089944662, 156.88372141599822, 153.23933182364968, 150.4540748088345, 148.38550525320548, 148.1561971367477, 143.4988680217615, 2961.9108405554875, 1580.4414340690116, 1144.5529326295655, 1037.4041142135363, 731.2833947390559, 677.4429053823413, 390.32003017206296, 368.3035426802221, 307.4362536381083, 292.719098708652, 273.13244298842835, 266.2079063939406, 251.30392283891396, 244.5154312657718, 244.15686201165101, 236.01127311327954, 226.2126470571493, 224.9797331203884, 222.839372637505, 222.03244947613865, 199.3119187187525, 192.9112550941615, 185.19891629050537, 184.5558576334591, 170.60461624663517, 154.3411314087828, 154.06943675385418, 133.58786037182628, 114.63487680316545, 109.94458946966135, 2540.913550219169, 1206.6505301997315, 781.3858165479569, 745.7162881166511, 621.5258050462951, 596.2624926226533, 542.8165438235274, 530.9617804038559, 523.7966321351956, 449.5235740062031, 395.66836564816646, 381.6971761032742, 373.1420983281798, 365.6823379886521, 331.645188811403, 287.91519592459986, 282.47980876039793, 273.27439196747207, 271.8145472863906, 227.21247221895933, 195.8059880658226, 180.83030077542702, 143.03690098362114, 141.63406031253078, 141.58160870611533, 137.62456512046802, 132.84423685740347, 116.34968350645775, 116.18910089604739, 110.87815878410578, 1083.2282662516095, 1063.857848214943, 922.9620931008366, 892.2593809912051, 739.3166160969324, 539.4514363084398, 531.2981763020844, 517.0642795056926, 476.6590298218135, 416.19135378025663, 331.3585651324822, 310.34565585298697, 299.90517183969934, 297.06439351052296, 267.9530882934823, 249.90118146851034, 236.82297723763585, 212.31241815329312, 186.17724880244282, 181.04482710308082, 178.91197552505534, 178.2093549172843, 170.19904095984498, 157.30059142182594, 137.4797326930345, 137.30436828867417, 129.70396481036505, 124.39540822554923, 122.89653175107615, 114.05832858996322, 976.520025121477, 779.0275647299386, 682.8055517204377, 670.9481711099061, 632.218219933872, 594.521915228989, 505.7106218346896, 439.6573431257719, 436.51653472519297, 415.23645602458004, 405.86789898203995, 403.9582263474988, 400.50927242835405, 337.9617902807324, 316.9487601140094, 311.29066589111153, 290.0031646275292, 277.5050148953676, 274.74174751935107, 268.3963021344237, 218.06768214282462, 205.99892222067308, 193.70457914857246, 179.59625173991614, 170.59814062498245, 168.6582865395439, 162.78276852819633, 154.47546061284956, 148.78294152529787, 114.89147807398902], \"Total\": [25337.0, 12461.0, 11034.0, 9443.0, 8276.0, 8786.0, 7785.0, 7001.0, 6820.0, 6267.0, 6545.0, 6151.0, 5915.0, 5716.0, 6032.0, 4917.0, 4640.0, 4572.0, 4559.0, 4623.0, 4524.0, 4411.0, 4590.0, 4878.0, 4001.0, 3922.0, 4192.0, 4045.0, 4040.0, 3978.0, 4878.833718601937, 2513.0009558173315, 2105.1174853932475, 1970.345862852101, 1849.140654900058, 1406.9494117784473, 1186.4288703014508, 6032.7544273694, 821.7149319440728, 758.2741666142201, 749.868664245263, 689.722465950174, 632.6578083098566, 614.8328500188949, 578.5008991801574, 531.2698852077535, 529.3135107400636, 518.516706627671, 510.8726016679819, 505.6915603223691, 414.72092693437276, 413.69500069083176, 381.1648517412872, 355.05343488805653, 344.8682184527901, 329.60980604229064, 281.0774693609367, 271.96064354336016, 258.61101311152873, 262.27041403959134, 351.4288875970949, 5625.01748577755, 5629.75736771111, 25337.50747798638, 1576.3926959452779, 366.9248038346631, 261.5774558646683, 237.91119530000938, 225.74880794554886, 212.85037926116263, 194.4257196996218, 192.79813260600866, 188.09919825397475, 185.93017392627723, 170.66203180728638, 143.89371126310365, 135.22079205582565, 124.54850644887377, 120.63614697014125, 120.10532584333248, 118.68936150893283, 114.55107207553058, 113.1269822331609, 110.8590965868209, 93.08335368378424, 82.79606507502736, 76.27497703081808, 72.77701889772759, 67.52684334359925, 64.14580737223369, 60.88760729230317, 60.77750693190709, 50.69016809106889, 5629.75736771111, 3037.3013633437595, 2695.916141982539, 2416.4603977146735, 1421.6969749639927, 1344.7520551995278, 1023.6798858625913, 803.2257189253755, 730.0228191005249, 621.7683447161642, 468.7521490029397, 12461.319647330545, 225.7943173946418, 196.29572411761112, 182.89133560782543, 167.97920715210174, 163.90938745656868, 161.91250569407114, 141.32982101353267, 138.72213466663834, 133.16298731686132, 127.7840230453912, 121.84020819364962, 110.93958063473752, 104.96973036831704, 96.5449226346789, 86.1209373196203, 77.06543070814456, 55.080808690060486, 50.295910190115166, 49.836739889580834, 5625.01748577755, 5629.75736771111, 4590.243893769118, 3733.388242189403, 3425.8611083857772, 2578.9287143317633, 1948.5039579265126, 1799.6770785056476, 1224.4786614664056, 1185.706343175477, 870.4323589707035, 768.3075141296815, 621.7348287507738, 459.75147514492033, 385.33078720839336, 383.94840188992555, 360.18221694950046, 353.62304962427277, 329.1892584658204, 312.54365290584747, 306.23581342287605, 297.62028800186727, 285.4694651411363, 242.45654245069176, 213.19969269795118, 194.07094520947743, 173.00298376701545, 171.9934669840699, 160.0836782940574, 152.0248495927738, 146.32551024130518, 142.87892015286383, 5629.75736771111, 6545.701122990437, 2570.5408324316895, 969.9060797432234, 768.6370932591916, 653.0147436271208, 524.8022508642453, 480.9568605212826, 459.7228615208869, 423.94155582607607, 417.0906945613641, 408.5996096354729, 394.8609450573445, 369.1972830927774, 326.04088262655057, 297.3501092393914, 267.6763967068999, 258.78743942953474, 257.9203378678928, 229.30615104822022, 221.98163529362748, 179.2455935992879, 175.76997019623198, 160.8773679495287, 157.1039749310567, 148.73562712575014, 147.00235717947393, 141.68394388387506, 136.7414402204681, 122.89222524705168, 122.20075177814782, 8786.032473599716, 5625.01748577755, 5716.811042095784, 3516.8470758196, 2028.4398231566452, 1966.4521887435162, 1412.3075344039653, 1139.4580320995797, 973.343819143615, 859.6650380971925, 750.2576371885408, 652.0595901700497, 611.9071455663639, 546.1805718207808, 509.10448046296466, 447.0516211561142, 426.02979871716076, 361.91048615338053, 308.98432019880664, 299.04682088268424, 294.02643675149216, 277.074983894809, 259.41161457256896, 249.72707492022602, 245.5099656944846, 227.46259173829475, 223.86140893313356, 218.03752827610882, 216.14888263523488, 190.36545487252323, 185.1305826379639, 179.95416530573803, 5625.01748577755, 3724.9094497076735, 2338.4154050916604, 2011.8884207655847, 1729.0862316876937, 1568.0247506602914, 1314.3755227196345, 1312.9942623747675, 1048.6336745721303, 988.520240744499, 873.2556088175506, 841.4039897413086, 633.167148704121, 550.127225548605, 492.1095728005688, 476.50224131566404, 412.68797879660576, 375.9105691617463, 351.13368921690005, 276.7157123240739, 248.68253737017554, 246.4381021842937, 224.0188062456002, 222.62274642182695, 221.57907771651492, 213.62870045710838, 213.02158406794322, 207.05265651458, 204.16714999269507, 199.95980608867134, 172.92350058529814, 11034.309125621146, 2669.8627518021967, 1240.8791868212575, 758.4897328302761, 670.135597793241, 641.2185447601801, 586.53640675022, 533.5147656023609, 527.5746334535643, 512.3369719420244, 508.1932058975476, 435.3829476033958, 412.7046740631226, 371.3029281165356, 355.3426994577236, 323.1855908547181, 289.315095841073, 279.6142214272823, 267.1788811564653, 260.3599690713053, 249.06826360186224, 236.05623261099916, 232.49789527990544, 202.5965777380171, 175.25617212254403, 161.8900632756028, 152.67727824908232, 131.66187070325333, 124.828372014197, 124.50712249300075, 5629.75736771111, 7785.099321581182, 4524.798539717144, 1993.6177269998773, 1687.974141090253, 560.279159347345, 546.9732057114634, 399.3424872139147, 399.167165821085, 396.4326406344782, 392.9546225283398, 354.779306493315, 334.04354294257905, 320.0628538003576, 250.93844568775725, 243.92749538923968, 238.27916315062126, 197.31325056100488, 162.50334261054644, 153.02691842245505, 147.1008859535614, 141.68249865247668, 141.6012957762818, 141.20374236076378, 140.46821820063167, 135.99345293987574, 125.37944874206482, 117.34354956061561, 110.15372748074768, 107.3785845764936, 98.4991425015942, 5625.01748577755, 5629.75736771111, 6820.400591433749, 2780.6358788341454, 2265.290765651152, 1481.5252001578576, 1006.9599311917161, 984.2911678790525, 2128.5708336638822, 682.3293251795516, 567.1722802569143, 519.231795688296, 488.1295626014592, 465.6532897781415, 402.8602569809399, 300.4229615589163, 184.77858143645318, 181.76270818417137, 170.9013792496815, 169.9276091896508, 169.39011430564054, 146.077209532413, 143.21348765899697, 126.36374567476643, 121.78849636000164, 108.69766260053399, 108.01422952967805, 106.35219173219879, 106.09812553252381, 97.92792184560682, 90.64745236192512, 86.58240644329548, 2670.456434462739, 2144.327297180429, 1629.4844739660912, 1426.1455575231364, 910.2389600085683, 815.7408611663179, 798.07783118546, 755.8979400620796, 752.8006343912849, 737.1126434727081, 659.4347296570394, 648.2777796442499, 637.0331852329609, 623.5809744302805, 567.832513824065, 548.8809961547743, 547.4030641616716, 432.18186676261524, 430.46664683775856, 388.7399791774653, 330.0967203834583, 316.1635147438966, 288.8789366359675, 279.28972479960623, 273.7648930940491, 204.75926799799555, 195.3308469222155, 190.8201769041095, 184.77675322838215, 182.84021043190452, 4623.405043626068, 3332.5013052619342, 3201.623355310947, 818.2834867831847, 627.1552608977737, 566.7291776058565, 564.8106370212809, 533.2194774909497, 524.4195558177959, 521.2872455239137, 521.1118615565869, 434.2868167015874, 364.6375485903252, 347.1506492738285, 251.7745531844495, 250.3364440692786, 246.46116669427275, 229.21275655085944, 227.69023465474908, 207.4051400527049, 192.36941565090447, 187.61792970052372, 184.70450391497806, 178.85471336906943, 170.80574346192248, 154.40266279914206, 151.70089631691084, 148.01612359464198, 139.1291416897467, 137.9785024676835, 5625.01748577755, 5629.75736771111, 5915.701287287718, 4192.308577831874, 1963.626346962559, 1860.8269763725664, 689.9460964904006, 569.6549537104777, 541.1212715448582, 510.704193469577, 398.00618666238887, 349.24693451704127, 324.2921174635411, 306.6563885796797, 284.7188660003245, 283.30993236116944, 264.1368772106396, 233.59071293344047, 229.5315196883176, 203.55990267264335, 185.16176051088425, 183.17651227136466, 171.00687147932317, 165.05526475976916, 154.37761758133686, 144.93971763048117, 144.7283762660438, 128.25246903518885, 98.86152542836851, 93.87860484878665, 91.11467592751309, 83.93534053101162, 5629.75736771111, 9443.000456132113, 2570.0607674799758, 2190.600926652174, 605.83013754051, 481.43285283184866, 390.34351266234484, 344.13494545489056, 334.71607851075146, 320.09192624391466, 305.57291171355064, 297.8908584551244, 292.19519295678225, 291.28861733485866, 275.0795975973785, 228.48668349703016, 223.9346670950549, 222.0295043163264, 206.55641858561526, 169.7142351539518, 158.2339526823379, 156.04226503394935, 151.8520002923473, 151.11542022218853, 137.4035387486466, 136.4995729556143, 136.0525831680526, 122.5949701466062, 117.15196628909094, 112.18877066455741, 93.66770698122386, 6151.642202101376, 2071.4933551061595, 1607.0662795070723, 1527.8982551901822, 1221.0071766955791, 1181.8108135343523, 1011.0207315567596, 823.0156943125811, 751.075939381292, 696.9074581042987, 660.0423944808107, 484.20821200390907, 390.61309509999444, 356.0964916257954, 327.92615000347274, 286.1567519257846, 258.67651172921717, 248.79559556859218, 215.0845392544385, 196.35178583816682, 195.8110857739592, 195.64421892328494, 167.208217144846, 157.54258554421583, 136.63395247727482, 96.71910157692173, 95.96864627313094, 92.41261982968642, 75.44816692836952, 74.58461154586325, 5625.01748577755, 4411.691684159377, 2563.1527763700215, 1677.2353438174473, 1651.7064074197806, 1189.7630918261812, 1161.663488049929, 760.632792229799, 682.8506670950243, 630.5452343659002, 476.7436282594352, 476.5255927566559, 474.0419862191552, 423.6414308261539, 398.8135575264851, 391.09987444889975, 342.1036738185732, 330.72458908173525, 252.6705015132068, 245.79748407890887, 206.48813782118143, 203.98172489426642, 193.97553830213516, 181.52706320833096, 174.402174761345, 165.89823028531026, 145.05106526424123, 129.548846496577, 117.53869724116286, 97.23505813023657, 95.09225755188427, 5625.01748577755, 3978.001304723804, 2292.4472640182394, 1346.6482455477578, 1322.253780275413, 1295.8472683816456, 1118.1268919872618, 1071.2852597234867, 1038.1571693401286, 758.1882204814477, 658.8880586853442, 485.4800413648807, 441.01244640611066, 376.66470073479553, 305.05526137430405, 284.6517956181596, 247.45986718510378, 236.75495502719647, 228.30600405792842, 215.4020479694658, 210.81079981770932, 206.3755792001372, 190.37734902617856, 178.17595292849046, 175.48795372476764, 170.31423525273027, 163.7162010212449, 153.1314010822137, 133.47578532183687, 130.46407756114849, 118.18349259458029, 5629.75736771111, 2818.403974424843, 2400.2593807733383, 1718.5742068634236, 1490.838555691938, 999.1593653715116, 906.1278466691531, 767.8916887494406, 652.6994652371878, 613.4934418799763, 528.7151531415398, 526.6407220062696, 523.0937698173577, 506.55497055604644, 457.3720132417114, 447.19349350864366, 439.86880567640594, 403.0073804277046, 366.27068072000117, 337.8648220728068, 329.05885840773067, 310.7095247877504, 280.62274262324695, 241.5076677172669, 235.6405084228046, 175.92785351618969, 169.95720680886765, 160.654483824424, 155.04440392062554, 151.95344933079897, 142.6950554820418, 2390.435695498532, 1824.3881245467694, 1623.866928992718, 1272.0737455804372, 1152.1998144403135, 957.7822850778407, 763.1926690059955, 670.3919818011913, 608.7102503351388, 591.8365909805101, 587.0500185218023, 578.5359734340897, 541.5615138074623, 514.9288682230994, 482.87148495268093, 422.69768437317026, 422.2591769246435, 398.41284212971794, 378.6025749772656, 370.6130723683116, 350.40502987655475, 330.4842074051019, 324.2622808936816, 275.6850359773278, 268.4820819735982, 253.579728670594, 215.10226360358212, 190.81341831373288, 185.3834550894691, 175.91081408555033, 5625.01748577755, 4040.072672808141, 2142.216804053929, 1495.3702183849157, 1353.2089661762789, 1219.2248287234916, 720.7411978236834, 702.0402966291064, 659.6574303637808, 562.0440163026807, 526.1319641565458, 507.04076137709933, 493.5409222019257, 470.5244166419245, 447.85739098098435, 419.6613291049791, 415.6591297176108, 408.2917356331162, 327.5121412080221, 316.40315838853815, 304.38317078334194, 261.936542068181, 246.1489976682073, 233.0114964449842, 218.51151400407193, 204.99072837200347, 190.23275511698338, 183.8689333374477, 167.66375021603494, 133.70285074389426, 130.29164100761548, 4559.004241080853, 2529.1403810487013, 2178.754432194334, 1405.7872049991538, 1077.9757467413422, 793.8380506794485, 680.3884289704796, 553.9195176730499, 522.1123512863073, 468.4023037371589, 457.9669710375518, 368.38575417583104, 281.39210226753994, 275.68166559857127, 255.6281548139439, 223.6950950290352, 197.36447644954092, 196.0744359132073, 172.50405242487608, 167.0599016314492, 158.49056917240566, 156.4665463848028, 152.97080257088226, 145.9495371338002, 136.6854016534637, 130.39160929795827, 124.89109252865241, 118.97581935328542, 97.24511486469329, 94.94354570757302, 5629.75736771111, 4045.052988453232, 3162.937465034799, 2668.807852272584, 1984.020207388264, 785.7126892399473, 743.8298388538341, 500.7371104881676, 460.0897628169926, 409.1870722061716, 325.79777187423826, 307.50333732535404, 288.14474883105487, 284.2019813443455, 236.15279337050893, 218.5479293313404, 180.86857978199063, 179.10868540501147, 173.77406640177054, 170.21699670376688, 169.38626636600108, 164.37831066022096, 159.97709485377663, 154.32610402274136, 147.07830287626436, 143.82903892171245, 129.29394909977034, 121.36857533916668, 120.11294429532313, 108.65983103761555, 95.66567199355674, 3283.3172539343586, 1335.826926958767, 1268.3825496029638, 1059.8810872083513, 749.2979638608141, 668.1911400363418, 1215.1560783053296, 595.3524565510269, 580.3365850391835, 542.6943455208257, 465.1861032035426, 447.65953450196685, 430.06902728367317, 420.62622353158565, 382.8782208219622, 303.3984748334154, 291.2710360795891, 285.0514688273321, 268.6786215724004, 250.9056620881691, 239.05600843628176, 220.88055097687945, 215.483603275752, 211.64754291202863, 207.77136169959985, 198.37493358244902, 185.4957681221275, 171.372852091353, 158.6390971083317, 148.1954303051417, 2778.575759842514, 1483.928372307992, 1435.1170851932939, 1300.4964414126612, 1057.8359847263646, 945.3638266553486, 821.4344344538761, 769.6539325845254, 669.1362661506848, 632.0968644846554, 483.368344477014, 454.75326971936516, 430.26181538777695, 427.41389590392686, 370.1616790364621, 369.4763498987518, 357.5847926224768, 336.88585695917146, 310.659452409742, 293.71321719318576, 280.12443728164635, 275.9547997098452, 264.9461143712777, 248.56514013741085, 218.70834754354016, 163.26236115206166, 155.13966874131538, 152.72458699068775, 117.00541788192395, 93.36537095265932, 645.2383066600469, 4572.8470029989685, 2607.321829715347, 1510.6389388461757, 1035.35122531397, 854.8640110620667, 736.6000518836422, 539.9061033591805, 530.6256364782319, 493.61748587833426, 459.1706405863318, 431.3613786919234, 427.0989970654915, 403.07231921559793, 372.1473449495863, 357.9544500371552, 335.3283278867346, 308.9067438717762, 265.37178247487697, 261.9070707870402, 213.47577180771842, 188.45832026667222, 156.69764940365826, 154.51021357557764, 146.35867513875573, 127.1719478488257, 122.4455635683968, 119.20607832373896, 116.66564263603975, 111.9318660972837, 107.20230775575331, 5629.75736771111, 2434.894733570389, 1730.151308644422, 1457.1300046994463, 1311.6074502843262, 1270.6516692573975, 865.4946134420695, 725.5732467984261, 646.6472984358256, 633.69200689548, 533.5918298633758, 531.517579658473, 512.0512926090576, 487.5079758920718, 367.3549647909891, 354.5508156245056, 349.99913219507386, 347.2315235054527, 342.05908257579847, 295.4888308246378, 294.9015386554794, 256.5323585567141, 237.9450680296846, 236.6835535943963, 226.88663541720052, 194.9530231187469, 167.6928304749292, 162.53026100073967, 161.27580892434997, 146.0837404809592, 129.88932432533883, 5625.01748577755, 4640.376085468421, 1531.0529155618706, 1472.476923904609, 957.9341122384589, 857.8491692708627, 515.6543171828257, 471.07717632344634, 469.9298060021679, 461.5851123200597, 449.6384541905329, 420.24033485392647, 417.72756225490787, 405.63370011805597, 349.26894732162043, 343.4873077472884, 311.39822575636697, 301.7818953019614, 294.3106801206805, 291.56518591544705, 254.19299157368636, 222.4490297016461, 209.68067622773984, 199.7724085527442, 196.32655651163796, 185.36542026497358, 182.75348512116113, 172.0118517502179, 168.18287709319205, 168.0185486952939, 162.75753035208444, 2299.4960213523923, 2091.7172747737877, 1871.5649111913099, 1493.182770400867, 1145.1178914236602, 1054.1410620411266, 792.3137879759486, 678.458534156643, 609.6594483964765, 608.741414739687, 572.0335987555234, 522.621253627807, 427.16930796588235, 382.5937111602498, 303.7097587409515, 259.0674400557509, 247.86111498295608, 239.1188859503537, 235.30615948454644, 219.33969699449722, 198.87841287776504, 192.41478799337068, 185.24334052281608, 177.8224320286124, 165.98719633721424, 161.22078756480798, 152.05489251713587, 139.96549993849743, 139.18418013029873, 134.5091906652806, 2959.575139938589, 1778.8414874102286, 1517.9391513261205, 1364.3337771213032, 1332.0201453453362, 1138.667797799308, 1039.324004688639, 677.7634047192277, 567.8869329389753, 553.1184531207422, 408.8791987203354, 350.04631619763984, 336.4850562679414, 308.3714898733293, 305.94545327846134, 304.84355523316964, 274.51922092122726, 260.4652053544307, 243.76302146948504, 228.18532416627787, 224.49878924622297, 218.76140640842792, 178.33185363638546, 174.37783668133125, 168.03631215499718, 165.58326645468475, 159.78951138596125, 155.43380896087535, 152.8630367027294, 141.44060240687722, 1607.0368406923267, 1591.423797633205, 1176.2987496809237, 1143.4757584924, 1014.5590990382618, 870.9140537386578, 847.9839154225559, 824.9361456705828, 815.7840714530608, 815.0285967201131, 789.2386594435505, 640.2694384713656, 581.6294718534655, 424.3865148710577, 414.32237492211647, 364.4231902191002, 281.0265184020241, 272.5955802550903, 266.28811151981967, 252.62631988618668, 230.6678502447837, 227.190962440911, 222.9786482454716, 212.03714078257997, 205.51602014168685, 198.9839245485264, 197.90479891925295, 168.13308298831743, 160.6770697738991, 158.37048562234244, 2526.4020933537836, 1978.9363794402398, 1615.710907051675, 1067.9726669020642, 1030.0675118308914, 972.900390947972, 875.5840207306088, 604.8469823144334, 520.4905599849819, 494.1355687343025, 446.5997008332382, 386.3379563790271, 379.3149895252136, 370.6760215351106, 332.9247483137618, 300.7701441283664, 281.77673790628677, 275.73359494686747, 257.04131125547883, 250.5707115561437, 219.6315648015491, 218.89419573709213, 205.09347487469424, 201.78124221008795, 196.15939111918055, 158.79323055268478, 132.75325667734154, 129.8818806117443, 128.90765276295875, 122.81657605207725, 5629.75736771111, 5625.01748577755, 2637.6516080863485, 1977.330572416852, 1607.6584286615694, 1328.377557635741, 1191.3784283628963, 1087.430357497528, 949.4807108721318, 840.185243272298, 728.5898964060492, 631.4048566435491, 862.0033843324533, 359.0116088886931, 288.1407992949604, 280.9705827738926, 253.37785218984766, 250.97219366787817, 250.5349023697188, 249.26633797787562, 241.86685462946994, 226.8411423371285, 219.65793959784972, 187.51999346580553, 187.19748564403082, 172.87855144217815, 152.64736420258714, 146.34952644017167, 124.4584298090657, 124.44047826131688, 121.6726462130396, 108.29116833523062, 1694.5216122294821, 1234.391751150971, 991.3898927019624, 815.8731647042113, 777.7884145715032, 476.33674726046513, 456.70425683345246, 414.7507578761874, 407.7678481868317, 340.5869997498262, 296.93582233057356, 288.99086125017715, 256.45621129258984, 232.03065779601718, 229.05098739207716, 227.56247021543845, 222.21643790063877, 3813.600928179396, 205.06933426020558, 196.2132391448798, 188.42278797671887, 184.2060908856615, 183.00379097832231, 175.51947639733956, 168.63442863840186, 166.19701934983442, 166.17856267322904, 150.23123908891202, 144.99877517829793, 144.50420485328797, 5629.75736771111, 7001.8116295102645, 2327.5356781739138, 1079.5945906526279, 796.8607947247835, 777.0412690169982, 665.4222864937009, 661.3903858809589, 544.9036766285659, 418.7470342857888, 383.70848869933957, 356.08655553135986, 302.99629716933197, 207.29231735759606, 201.75838335204844, 195.5563581282531, 161.61466375816363, 151.20100337630365, 129.08597742543083, 128.46091610720632, 122.23058404522436, 116.93204426145614, 110.83692071614483, 109.31970418638083, 104.05723539695217, 102.78666837059457, 101.52823419480706, 96.69294436607274, 94.37367723615222, 88.22047725246603, 79.61923888803736, 4917.239323397869, 3386.351197662159, 822.1545687863935, 616.4236028694239, 609.6690350032695, 587.7881525080131, 567.7009053292952, 458.5957339662688, 387.93530362275294, 376.61503348192974, 338.0326994206573, 324.10742422156324, 253.53092076181215, 228.4051373976285, 188.33851000987337, 1305.7915184286844, 174.73765314716798, 172.62047846033227, 165.66943653003167, 159.2764783046388, 155.4169818959958, 148.64295970094534, 143.83560739213888, 120.7810936654, 100.85751952141673, 98.71095894050703, 96.69895147894138, 88.54368104416534, 82.44935832906333, 80.74143246664975, 5625.01748577755, 8276.09247539832, 885.6374619632234, 859.1292666019548, 728.3572032998381, 528.6909691044993, 507.9235246949498, 451.9754269428641, 375.6351848883882, 347.3495891978356, 304.8422884017665, 290.63492456445965, 290.5344107297135, 281.03069398467534, 273.27688940965885, 258.87354236629295, 231.50171957025117, 225.69968941124492, 186.2276776917413, 181.52550887192834, 164.81883963062438, 154.70465843249215, 146.79622898238878, 118.95004748685277, 117.82734688912551, 115.46709933339733, 108.90317899117032, 103.8446827140139, 92.78884528109793, 89.65165541125468, 85.61791790544244, 2113.2661782726113, 1865.5589116467734, 1798.596562368622, 1646.6033185835063, 1582.054196333763, 1109.5821022586674, 995.3347327783125, 550.3408585148466, 541.4748553484474, 506.00955103788897, 503.67826657303124, 488.5151132558136, 394.96008585805856, 342.62797812202206, 306.46652260072284, 273.8807942787641, 195.32044239345254, 176.3573743713678, 175.99558122508753, 141.84827011861034, 124.74810917218282, 123.35612667335715, 114.56357596474156, 112.13124287822573, 105.74603704904301, 104.32040772768003, 93.42756384132733, 91.90567616718809, 79.36596060020017, 78.67538555998985, 5629.75736771111, 1829.8975811912787, 1726.1752326509636, 1174.3273784332937, 1167.9398734537763, 1137.3347181370902, 929.4870723639643, 792.6355493047985, 600.5502948625796, 531.2136420964572, 516.8890168507053, 408.67227889400226, 331.586217592497, 262.5469237408511, 254.55155724020076, 211.5385671755595, 210.54295323035132, 208.25156269347335, 207.7507441454653, 187.52113264380088, 183.37829841110684, 180.41765723748424, 178.55911578665834, 173.84642482360042, 170.76748197691106, 168.72266259149012, 155.28367606406405, 150.3422757084807, 150.06703747629243, 149.33963627443492, 136.57998260986145, 5629.75736771111, 6267.025772368734, 848.9993614367773, 664.0462857844403, 590.8307896639733, 582.0971377995656, 557.6502264221461, 451.0302783056343, 428.86463168492986, 425.29436411758587, 401.7757085322702, 390.3147120774068, 368.0475707935893, 337.04265638781686, 305.04151259694396, 298.2529534475043, 265.4864603038742, 264.50536076741685, 247.38666251715225, 239.5527569712368, 230.4635559858886, 199.42426898131842, 188.38793738005216, 183.22566815842058, 176.9908049856397, 172.7244928436226, 148.60498990155818, 141.95086903900253, 140.14853728421264, 136.03138250972995, 132.73778894589432, 3726.258431012503, 1733.6650264897812, 1577.2536911654654, 1502.6946334749314, 1258.2337019112078, 1163.427380043488, 522.3918002602682, 489.6438823311904, 483.0530200321123, 357.91710561470205, 355.96244377521896, 319.37938348487125, 310.7192166604009, 302.20507597854555, 301.6636376455895, 243.1907347897284, 242.78293023237904, 207.99336567027677, 171.38293730826317, 167.67272970909028, 155.6259260235641, 154.0741773582576, 143.03929515882294, 138.70636995730277, 134.33315044613423, 118.24891423517765, 112.73889682883402, 107.52019111180172, 96.87325712204404, 92.11205128904749, 3281.378145265244, 1416.3996183569736, 1327.4008653679832, 1070.3858187815981, 967.0513958820422, 936.26096599467, 934.2994895654845, 604.9834044586823, 520.6538991642075, 475.6896029469692, 446.1240317461606, 354.71952443187473, 345.34694193411485, 328.07529267638733, 311.43858642096427, 286.61132162633925, 278.7245227521321, 277.21008995567144, 248.00741485252857, 238.1360183728648, 191.99803371220372, 179.0581182872814, 178.80905601894125, 166.28502353357266, 161.86623695817843, 148.94074064237336, 148.3975963327866, 148.05767569241064, 124.93507841026285, 118.49327671870984, 1575.4391544255955, 1468.3987553640184, 1336.0667103925575, 1315.983814334836, 914.8872663849138, 643.198722988184, 632.4102123951906, 583.1721799776855, 515.0494289933134, 491.2987800221943, 489.7999260386759, 447.7709334819586, 437.8285134494671, 351.5802786036068, 312.2799675661651, 300.04046717643104, 292.6267461208096, 287.5338410302555, 265.5229070037279, 257.16051326073807, 218.6248511681734, 209.85670090869314, 182.8808128326124, 180.82649138645886, 163.91036935541024, 159.36029400794655, 155.30011566667906, 153.4787663476274, 146.356236462778, 134.76348965355274, 4001.374435388473, 1280.0947732224727, 1212.1149208093127, 1087.3361150007324, 947.6946979332822, 904.9875552071551, 822.430266061124, 795.3502932630951, 701.1160764927641, 655.6837976218678, 526.1881369790502, 397.8828574679467, 380.84576330822256, 326.93991313828013, 303.02808037138226, 285.6801465012743, 277.41901928093085, 238.06241710835408, 197.16296707328945, 178.8560020215848, 174.93855894546968, 167.58828553732843, 124.19977401646294, 123.45522775077407, 99.5776648288968, 89.27501764833566, 87.41043533584565, 83.78552355732548, 79.42944254558468, 73.98570318602349, 5629.75736771111, 1509.1844986682015, 1345.7619324119237, 995.7342065428536, 859.3547713902806, 825.7809178446017, 784.6691073375529, 691.4085465298201, 665.0841468699792, 610.9430449205029, 561.6738576452833, 559.1443283894816, 442.6143199555977, 436.5280334636119, 375.2757389088006, 368.3459497863748, 342.1165449736715, 305.09593851942884, 290.4210352591072, 280.2753770242593, 270.2079311406605, 266.19037380410305, 254.58492430684632, 239.39626832769684, 235.032382811898, 226.39228400867688, 176.52073084500557, 173.39176994741868, 172.1919213372023, 160.28160817333446, 144.17186819767667, 5629.75736771111, 2968.8034318638247, 2304.6375420459767, 1202.2770308579254, 1147.5816234871527, 762.6360828880333, 665.7350222750019, 591.5763066467839, 556.5919926503232, 539.9982137976637, 472.3108731008059, 424.5128466979128, 386.7477558657419, 308.79101262588546, 306.35499651413664, 246.93007188112455, 245.37116544762455, 204.88814830441848, 184.90509348915714, 164.34792802238138, 163.40245271263214, 161.99892623026025, 155.73723210927102, 153.16936112300633, 151.98199803402858, 123.75743910037824, 120.42181828174958, 120.27008661481658, 114.418996176354, 111.27108372389155, 106.81451533193923, 1696.1777643887278, 1590.2955738171777, 1445.2235976813615, 1062.3069973930658, 998.3469721902198, 918.4509491970721, 842.6834648651655, 841.2666932224104, 761.1833580701085, 544.5387588495947, 487.3060917060527, 418.7839821324669, 346.8952116425304, 318.821494744432, 277.69491401723434, 265.3470829075779, 221.60673119602708, 204.71888998118575, 199.7962042582343, 187.4715372230426, 175.84789756021718, 163.56584732559662, 163.4608697592813, 155.8763684666621, 150.94567006165425, 141.2765863515526, 117.07051829055413, 109.73242172743049, 92.69599600857173, 74.5049126062892, 5625.01748577755, 3204.1868317119606, 1519.5592568012858, 1325.6144371451248, 787.0346589772486, 743.4208348004203, 681.3893374422858, 561.4058973159282, 558.7299228736393, 471.5137489438276, 428.98294476116143, 422.4606058806945, 384.1365764796703, 371.72906294724356, 306.47430305077336, 305.6809621388484, 293.12985902862715, 277.98715475853885, 241.42931116461716, 215.61875093659995, 200.4631726848254, 197.83518329338708, 193.5033114098541, 187.42349139628843, 186.918939247186, 178.62643570440446, 178.52216368128313, 166.38568560183526, 144.34443290844453, 118.27894255354872, 103.24085914605796, 5625.01748577755, 2997.0740366271675, 1660.5702331944467, 1574.4868588977827, 1026.02143627589, 948.9079651509679, 901.5420781797593, 632.4659503114733, 627.1785215744516, 582.4519901671151, 396.7002651714447, 314.83188483986555, 303.4525933125898, 298.5672407669987, 212.20151953454194, 208.33160235921537, 258.3834665865663, 180.89067624912647, 172.25434948063958, 168.3692352648128, 164.27388778963095, 163.95440385780526, 160.19294767787252, 148.26745716183618, 142.63575015186646, 130.81788650694682, 130.61791113401043, 120.13132903362435, 106.76236092458507, 92.53913825798435, 85.15024720592004, 1415.4561139118673, 1351.5250122087511, 1227.0273861125847, 1179.2595790896019, 900.4482883499884, 894.4363716780349, 765.1411478518769, 753.0385503424109, 616.64656414369, 442.569424375753, 441.74823864399804, 392.59435788547023, 382.28372304375864, 352.8313710264746, 330.7102856828206, 313.3773423694242, 293.03011435680656, 277.91113185717575, 267.96360411284434, 257.3259551686924, 228.44814306127188, 218.5628511900737, 211.6215663786171, 211.1578795649521, 199.89445112424855, 199.41663117123437, 165.47875144330226, 114.55459122667177, 112.09355300198268, 110.10883617452302, 5629.75736771111, 3092.4097842500537, 1952.180900601062, 1651.167126895836, 1196.5468949466851, 672.8889441672254, 601.6410269364396, 545.4260957818776, 485.312286445568, 407.45867706475707, 399.8591059412563, 390.54020777698275, 379.4030353194938, 324.7137971172443, 234.26564427352386, 230.25998482385776, 204.42261878832292, 200.49370316343823, 192.93851421650882, 191.33661215191316, 186.9783872494985, 179.00307103015527, 178.77837370305514, 175.66695905225, 156.5104406067198, 135.60150690037156, 132.5917062379199, 129.60383080237477, 117.75166450118833, 116.38094532937379, 115.39683056164057, 3922.923808002744, 907.958247955207, 788.6529826959508, 710.2570816503944, 609.0585077150505, 592.6349829000434, 587.4491552467042, 482.8914590877799, 440.4612418454118, 420.6863873316676, 396.69109017807307, 396.4210775157247, 343.27077686703655, 319.54583688574394, 302.79323526582033, 301.5122897909053, 291.16054795532045, 259.076270894991, 219.55357114732425, 217.18308476667647, 199.9719484214081, 175.48562259833759, 171.14396723228805, 169.64831806529054, 160.8151940646421, 153.0639357536847, 149.45176501073885, 148.79330772670895, 137.54274389336945, 125.48681603117852, 2281.28421259788, 1047.2499634381504, 927.222018099515, 855.9026060070394, 786.2876824650629, 714.3316382269552, 681.4668386743605, 604.7293868334144, 553.5356646130147, 505.339465149968, 476.185815360753, 423.3720268966764, 397.3110875696686, 346.60995734994856, 337.48722933827855, 263.0092345328271, 262.6228422562138, 243.35760351066673, 242.7746038926448, 231.18157231382915, 227.55534826719656, 218.0192585009278, 209.08995794880218, 179.6873120735107, 174.93632286944967, 170.85308043001163, 150.30062090143483, 135.383072253286, 131.05597769020486, 129.99641455678906, 5625.01748577755, 2033.370687514287, 1913.6848692614408, 1769.5510090560228, 952.9143125578832, 903.9096161130485, 826.637802724795, 776.4630396709288, 679.472388474471, 426.036178408325, 416.1837087205517, 370.22502763079785, 273.77240409092366, 262.01161928382584, 242.7085146395845, 242.63591750661962, 236.4461836304356, 227.2916466575289, 210.33624447233288, 188.83668015264576, 186.3177570358159, 180.4921223652238, 175.6101981720956, 166.6130192136629, 152.90437723242974, 133.60940285859496, 131.43103401035617, 128.13663918500873, 119.65466774507232, 107.81600637392157, 102.23745643290754, 1194.820933759762, 973.8741230131327, 887.6933323043511, 783.2380864581526, 776.7402719770444, 700.1559030695187, 617.8152605611084, 564.4856043151445, 517.7596947958403, 509.0436345306441, 477.61467447688005, 449.22021853181195, 417.2917787746679, 389.4137798270165, 351.6605688331694, 329.73429040010495, 316.14970120719437, 305.53170137899787, 301.7700090300006, 278.0445283602997, 273.1049689373128, 267.24595418795764, 239.6762136901845, 219.48738948759203, 218.51622405510236, 194.30797003208303, 183.1867851766252, 180.34904945417023, 178.5018939750001, 177.13985481012426, 2349.4787635745665, 1616.9924368467787, 1222.8716994004194, 867.673953268562, 837.14484310792, 734.5178562758895, 616.8275736049995, 574.547378751085, 521.1435212713608, 371.2093728937181, 344.4471695271349, 315.203193948719, 279.19616073493256, 273.31096678212594, 273.16915963913465, 259.27062296362965, 249.5240035220113, 243.74542910702826, 241.95002708177762, 234.20553564929173, 223.84876422300243, 187.97976815859954, 180.77198361138343, 172.49228577468682, 169.82211408303147, 148.4505540160519, 136.07683890736018, 135.17152002696255, 129.34097136760698, 123.5276650022477, 1956.6279863174339, 868.7492187373188, 815.2373246950561, 780.3350347684041, 662.7714909648919, 644.0460482572214, 598.8012671834599, 598.3727986336406, 571.4186133419493, 485.97812711295876, 451.7244111774525, 429.00737723294765, 424.89450228902126, 412.2172845487454, 377.20116773279597, 344.94791884349974, 300.8991852461055, 281.94119426596467, 231.02942739946107, 214.87415112672124, 207.87909572496412, 204.15430769112382, 203.14431774365494, 193.82470467110494, 186.01775524890022, 179.22451571650865, 151.02939586694148, 147.03420596230475, 144.92967169615457, 130.83828578579025, 5629.75736771111, 2810.7712046188244, 1027.5490938625128, 825.7771822365701, 697.0641821453771, 636.3618961461668, 574.5917826062746, 536.88950125512, 484.4490712089962, 474.09040181911814, 467.1698657846806, 455.4004633530277, 419.81753583267783, 406.1675072705904, 397.4326083853509, 382.3569586338679, 378.373451343271, 353.9904147735749, 331.20379519631933, 271.4896785118149, 261.1218379886412, 244.1820808498448, 230.01470218981083, 212.8965948823025, 205.08881980141652, 194.18783893748505, 181.74982860401337, 178.91992538269335, 151.25162609433522, 144.70145978814006, 123.12376087106843, 2147.691822754853, 2037.2947124659897, 1016.3505214833472, 717.385593913672, 598.5228383849409, 516.8748090133538, 468.5433525808078, 451.1880890865239, 399.89678557916966, 394.89567377554863, 338.9334640582095, 331.88205495343374, 321.51267392384176, 314.869431802992, 290.1460027129041, 267.9548075266497, 232.76428185169388, 188.6524436216909, 186.49173151912538, 176.5952985634616, 172.45753224112823, 167.8949757404163, 163.27241732105978, 161.7121024650645, 158.64447406119785, 155.0000833500994, 152.21482618311754, 150.14625703120493, 149.91694968521844, 145.25961982470315, 2963.673348006199, 1582.2039830372914, 1146.315457844651, 1039.1666210542114, 733.0459146385334, 679.2060161098867, 392.0825413472048, 370.0660495208973, 309.1987604787835, 294.4816055493272, 274.89494982910355, 267.97049588623696, 253.06642967958913, 246.27796569978685, 245.91937078044444, 237.77378228682693, 227.97515389782447, 226.74223996106358, 224.60187947818017, 223.79495654528006, 201.07442555942768, 194.67376193483668, 186.96142313118054, 186.31836447413428, 172.36712308731035, 156.10363852567917, 155.83194359452935, 135.35036721250145, 116.39738364384064, 111.70709715269564, 2542.678458094995, 1208.4154383854154, 783.1507289442127, 747.481216760859, 623.3046306452125, 598.0274405759246, 544.5814516993537, 532.7266887216717, 525.5615404503598, 451.2884818820294, 397.43362909964776, 383.4620860512822, 374.9070062040061, 367.4472506879587, 333.41113835718375, 289.6801102814648, 284.2447173435032, 275.03929984329835, 273.5794551622169, 228.97739934962257, 197.57097093090292, 182.59520865125327, 144.8018088594474, 143.39898402523085, 143.34652527086234, 139.38947299629427, 134.60914473322973, 118.1145939523442, 117.95400877187366, 112.64307094272786, 1084.9873097265674, 1065.6168870613487, 924.7211870025233, 894.0184207464303, 741.0757050027861, 541.2104751548455, 533.057267585196, 518.8233183520983, 478.4180714459384, 417.9503945296726, 333.1179100707738, 312.10469522431316, 301.664210686105, 298.8234444928015, 269.71212713988797, 251.6602369219127, 238.58201626995606, 214.07145699969877, 187.93628764884846, 182.80386594948646, 180.67101592447142, 179.9684013335894, 171.95807980625062, 159.05963143514956, 139.23877153944014, 139.0634071350798, 131.4630036567707, 126.15446780637701, 124.65557059748178, 115.81736743636885, 978.2826780452049, 780.7902472419511, 684.5681967394353, 672.7108173216126, 633.9808714369162, 596.2845623016598, 507.47326622349874, 441.42114404941316, 438.2792077841737, 416.99910061267775, 407.63054337084907, 405.7208721647304, 402.2719168171632, 339.7244346695415, 318.71140450281854, 313.0533426225232, 291.7658090163383, 279.2676597237973, 276.50439215815345, 270.15894724755464, 219.83033462038853, 207.76156969563144, 195.4672235373816, 181.35889753476147, 172.36078544453255, 170.42093092835304, 164.54541392564352, 156.2381050016587, 150.54558591410702, 116.65412246279817], \"Category\": [\"Default\", \"Default\", \"Default\", \"Default\", \"Default\", \"Default\", \"Default\", \"Default\", \"Default\", \"Default\", \"Default\", \"Default\", \"Default\", \"Default\", \"Default\", \"Default\", \"Default\", \"Default\", \"Default\", \"Default\", \"Default\", \"Default\", \"Default\", \"Default\", \"Default\", \"Default\", \"Default\", \"Default\", \"Default\", \"Default\", \"Topic1\", \"Topic1\", \"Topic1\", \"Topic1\", \"Topic1\", \"Topic1\", \"Topic1\", \"Topic1\", \"Topic1\", \"Topic1\", \"Topic1\", \"Topic1\", \"Topic1\", \"Topic1\", \"Topic1\", \"Topic1\", \"Topic1\", \"Topic1\", \"Topic1\", \"Topic1\", \"Topic1\", \"Topic1\", \"Topic1\", \"Topic1\", \"Topic1\", \"Topic1\", \"Topic1\", \"Topic1\", \"Topic1\", \"Topic1\", \"Topic1\", \"Topic1\", \"Topic1\", \"Topic2\", \"Topic2\", \"Topic2\", \"Topic2\", \"Topic2\", \"Topic2\", \"Topic2\", \"Topic2\", \"Topic2\", \"Topic2\", \"Topic2\", \"Topic2\", \"Topic2\", \"Topic2\", \"Topic2\", \"Topic2\", \"Topic2\", \"Topic2\", \"Topic2\", \"Topic2\", \"Topic2\", \"Topic2\", \"Topic2\", \"Topic2\", \"Topic2\", \"Topic2\", \"Topic2\", \"Topic2\", \"Topic2\", \"Topic2\", \"Topic2\", \"Topic3\", \"Topic3\", \"Topic3\", \"Topic3\", \"Topic3\", \"Topic3\", \"Topic3\", \"Topic3\", \"Topic3\", \"Topic3\", \"Topic3\", \"Topic3\", \"Topic3\", \"Topic3\", \"Topic3\", \"Topic3\", \"Topic3\", \"Topic3\", \"Topic3\", \"Topic3\", \"Topic3\", \"Topic3\", \"Topic3\", \"Topic3\", \"Topic3\", \"Topic3\", \"Topic3\", \"Topic3\", \"Topic3\", \"Topic3\", \"Topic3\", \"Topic3\", \"Topic4\", \"Topic4\", \"Topic4\", \"Topic4\", \"Topic4\", \"Topic4\", \"Topic4\", \"Topic4\", \"Topic4\", \"Topic4\", \"Topic4\", \"Topic4\", \"Topic4\", \"Topic4\", \"Topic4\", \"Topic4\", \"Topic4\", \"Topic4\", \"Topic4\", \"Topic4\", \"Topic4\", \"Topic4\", \"Topic4\", \"Topic4\", \"Topic4\", \"Topic4\", \"Topic4\", \"Topic4\", \"Topic4\", \"Topic4\", \"Topic4\", \"Topic5\", \"Topic5\", \"Topic5\", \"Topic5\", \"Topic5\", \"Topic5\", \"Topic5\", \"Topic5\", \"Topic5\", \"Topic5\", \"Topic5\", \"Topic5\", \"Topic5\", \"Topic5\", \"Topic5\", \"Topic5\", \"Topic5\", \"Topic5\", \"Topic5\", \"Topic5\", \"Topic5\", \"Topic5\", \"Topic5\", \"Topic5\", \"Topic5\", \"Topic5\", \"Topic5\", \"Topic5\", \"Topic5\", \"Topic5\", \"Topic5\", \"Topic5\", \"Topic6\", \"Topic6\", \"Topic6\", \"Topic6\", \"Topic6\", \"Topic6\", \"Topic6\", \"Topic6\", \"Topic6\", \"Topic6\", \"Topic6\", \"Topic6\", \"Topic6\", \"Topic6\", \"Topic6\", \"Topic6\", \"Topic6\", \"Topic6\", \"Topic6\", \"Topic6\", \"Topic6\", \"Topic6\", \"Topic6\", \"Topic6\", \"Topic6\", \"Topic6\", \"Topic6\", \"Topic6\", \"Topic6\", \"Topic6\", \"Topic6\", \"Topic7\", \"Topic7\", \"Topic7\", \"Topic7\", \"Topic7\", \"Topic7\", \"Topic7\", \"Topic7\", \"Topic7\", \"Topic7\", \"Topic7\", \"Topic7\", \"Topic7\", \"Topic7\", \"Topic7\", \"Topic7\", \"Topic7\", \"Topic7\", \"Topic7\", \"Topic7\", \"Topic7\", \"Topic7\", \"Topic7\", \"Topic7\", \"Topic7\", \"Topic7\", \"Topic7\", \"Topic7\", \"Topic7\", \"Topic7\", \"Topic8\", \"Topic8\", \"Topic8\", \"Topic8\", \"Topic8\", \"Topic8\", \"Topic8\", \"Topic8\", \"Topic8\", \"Topic8\", \"Topic8\", \"Topic8\", \"Topic8\", \"Topic8\", \"Topic8\", \"Topic8\", \"Topic8\", \"Topic8\", \"Topic8\", \"Topic8\", \"Topic8\", \"Topic8\", \"Topic8\", \"Topic8\", \"Topic8\", \"Topic8\", \"Topic8\", \"Topic8\", \"Topic8\", \"Topic8\", \"Topic8\", \"Topic9\", \"Topic9\", \"Topic9\", \"Topic9\", \"Topic9\", \"Topic9\", \"Topic9\", \"Topic9\", \"Topic9\", \"Topic9\", \"Topic9\", \"Topic9\", \"Topic9\", \"Topic9\", \"Topic9\", \"Topic9\", \"Topic9\", \"Topic9\", \"Topic9\", \"Topic9\", \"Topic9\", \"Topic9\", \"Topic9\", \"Topic9\", \"Topic9\", \"Topic9\", \"Topic9\", \"Topic9\", \"Topic9\", \"Topic9\", \"Topic9\", \"Topic9\", \"Topic10\", \"Topic10\", \"Topic10\", \"Topic10\", \"Topic10\", \"Topic10\", \"Topic10\", \"Topic10\", \"Topic10\", \"Topic10\", \"Topic10\", \"Topic10\", \"Topic10\", \"Topic10\", \"Topic10\", \"Topic10\", \"Topic10\", \"Topic10\", \"Topic10\", \"Topic10\", \"Topic10\", \"Topic10\", \"Topic10\", \"Topic10\", \"Topic10\", \"Topic10\", \"Topic10\", \"Topic10\", \"Topic10\", \"Topic10\", \"Topic11\", \"Topic11\", \"Topic11\", \"Topic11\", \"Topic11\", \"Topic11\", \"Topic11\", \"Topic11\", \"Topic11\", \"Topic11\", \"Topic11\", \"Topic11\", \"Topic11\", \"Topic11\", \"Topic11\", \"Topic11\", \"Topic11\", \"Topic11\", \"Topic11\", \"Topic11\", \"Topic11\", \"Topic11\", \"Topic11\", \"Topic11\", \"Topic11\", \"Topic11\", \"Topic11\", \"Topic11\", \"Topic11\", \"Topic11\", \"Topic12\", \"Topic12\", \"Topic12\", \"Topic12\", \"Topic12\", \"Topic12\", \"Topic12\", \"Topic12\", \"Topic12\", \"Topic12\", \"Topic12\", \"Topic12\", \"Topic12\", \"Topic12\", \"Topic12\", \"Topic12\", \"Topic12\", \"Topic12\", \"Topic12\", \"Topic12\", \"Topic12\", \"Topic12\", \"Topic12\", \"Topic12\", \"Topic12\", \"Topic12\", \"Topic12\", \"Topic12\", \"Topic12\", \"Topic12\", \"Topic12\", \"Topic12\", \"Topic13\", \"Topic13\", \"Topic13\", \"Topic13\", \"Topic13\", \"Topic13\", \"Topic13\", \"Topic13\", \"Topic13\", \"Topic13\", \"Topic13\", \"Topic13\", \"Topic13\", \"Topic13\", \"Topic13\", \"Topic13\", \"Topic13\", \"Topic13\", \"Topic13\", \"Topic13\", \"Topic13\", \"Topic13\", \"Topic13\", \"Topic13\", \"Topic13\", \"Topic13\", \"Topic13\", \"Topic13\", \"Topic13\", \"Topic13\", \"Topic13\", \"Topic14\", \"Topic14\", \"Topic14\", \"Topic14\", \"Topic14\", \"Topic14\", \"Topic14\", \"Topic14\", \"Topic14\", \"Topic14\", \"Topic14\", \"Topic14\", \"Topic14\", \"Topic14\", \"Topic14\", \"Topic14\", \"Topic14\", \"Topic14\", \"Topic14\", \"Topic14\", \"Topic14\", \"Topic14\", \"Topic14\", \"Topic14\", \"Topic14\", \"Topic14\", \"Topic14\", \"Topic14\", \"Topic14\", \"Topic14\", \"Topic15\", \"Topic15\", \"Topic15\", \"Topic15\", \"Topic15\", \"Topic15\", \"Topic15\", \"Topic15\", \"Topic15\", \"Topic15\", \"Topic15\", \"Topic15\", \"Topic15\", \"Topic15\", \"Topic15\", \"Topic15\", \"Topic15\", \"Topic15\", \"Topic15\", \"Topic15\", \"Topic15\", \"Topic15\", \"Topic15\", \"Topic15\", \"Topic15\", \"Topic15\", \"Topic15\", \"Topic15\", \"Topic15\", \"Topic15\", \"Topic15\", \"Topic16\", \"Topic16\", \"Topic16\", \"Topic16\", \"Topic16\", \"Topic16\", \"Topic16\", \"Topic16\", \"Topic16\", \"Topic16\", \"Topic16\", \"Topic16\", \"Topic16\", \"Topic16\", \"Topic16\", \"Topic16\", \"Topic16\", \"Topic16\", \"Topic16\", \"Topic16\", \"Topic16\", \"Topic16\", \"Topic16\", \"Topic16\", \"Topic16\", \"Topic16\", \"Topic16\", \"Topic16\", \"Topic16\", \"Topic16\", \"Topic16\", \"Topic17\", \"Topic17\", \"Topic17\", \"Topic17\", \"Topic17\", \"Topic17\", \"Topic17\", \"Topic17\", \"Topic17\", \"Topic17\", \"Topic17\", \"Topic17\", \"Topic17\", \"Topic17\", \"Topic17\", \"Topic17\", \"Topic17\", \"Topic17\", \"Topic17\", \"Topic17\", \"Topic17\", \"Topic17\", \"Topic17\", \"Topic17\", \"Topic17\", \"Topic17\", \"Topic17\", \"Topic17\", \"Topic17\", \"Topic17\", \"Topic17\", \"Topic18\", \"Topic18\", \"Topic18\", \"Topic18\", \"Topic18\", \"Topic18\", \"Topic18\", \"Topic18\", \"Topic18\", \"Topic18\", \"Topic18\", \"Topic18\", \"Topic18\", \"Topic18\", \"Topic18\", \"Topic18\", \"Topic18\", \"Topic18\", \"Topic18\", \"Topic18\", \"Topic18\", \"Topic18\", \"Topic18\", \"Topic18\", \"Topic18\", \"Topic18\", \"Topic18\", \"Topic18\", \"Topic18\", \"Topic18\", \"Topic19\", \"Topic19\", \"Topic19\", \"Topic19\", \"Topic19\", \"Topic19\", \"Topic19\", \"Topic19\", \"Topic19\", \"Topic19\", \"Topic19\", \"Topic19\", \"Topic19\", \"Topic19\", \"Topic19\", \"Topic19\", \"Topic19\", \"Topic19\", \"Topic19\", \"Topic19\", \"Topic19\", \"Topic19\", \"Topic19\", \"Topic19\", \"Topic19\", \"Topic19\", \"Topic19\", \"Topic19\", \"Topic19\", \"Topic19\", \"Topic19\", \"Topic20\", \"Topic20\", \"Topic20\", \"Topic20\", \"Topic20\", \"Topic20\", \"Topic20\", \"Topic20\", \"Topic20\", \"Topic20\", \"Topic20\", \"Topic20\", \"Topic20\", \"Topic20\", \"Topic20\", \"Topic20\", \"Topic20\", \"Topic20\", \"Topic20\", \"Topic20\", \"Topic20\", \"Topic20\", \"Topic20\", \"Topic20\", \"Topic20\", \"Topic20\", \"Topic20\", \"Topic20\", \"Topic20\", \"Topic20\", \"Topic21\", \"Topic21\", \"Topic21\", \"Topic21\", \"Topic21\", \"Topic21\", \"Topic21\", \"Topic21\", \"Topic21\", \"Topic21\", \"Topic21\", \"Topic21\", \"Topic21\", \"Topic21\", \"Topic21\", \"Topic21\", \"Topic21\", \"Topic21\", \"Topic21\", \"Topic21\", \"Topic21\", \"Topic21\", \"Topic21\", \"Topic21\", \"Topic21\", \"Topic21\", \"Topic21\", \"Topic21\", \"Topic21\", \"Topic21\", \"Topic21\", \"Topic22\", \"Topic22\", \"Topic22\", \"Topic22\", \"Topic22\", \"Topic22\", \"Topic22\", \"Topic22\", \"Topic22\", \"Topic22\", \"Topic22\", \"Topic22\", \"Topic22\", \"Topic22\", \"Topic22\", \"Topic22\", \"Topic22\", \"Topic22\", \"Topic22\", \"Topic22\", \"Topic22\", \"Topic22\", \"Topic22\", \"Topic22\", \"Topic22\", \"Topic22\", \"Topic22\", \"Topic22\", \"Topic22\", \"Topic22\", \"Topic23\", \"Topic23\", \"Topic23\", \"Topic23\", \"Topic23\", \"Topic23\", \"Topic23\", \"Topic23\", \"Topic23\", \"Topic23\", \"Topic23\", \"Topic23\", \"Topic23\", \"Topic23\", \"Topic23\", \"Topic23\", \"Topic23\", \"Topic23\", \"Topic23\", \"Topic23\", \"Topic23\", \"Topic23\", \"Topic23\", \"Topic23\", \"Topic23\", \"Topic23\", \"Topic23\", \"Topic23\", \"Topic23\", \"Topic23\", \"Topic24\", \"Topic24\", \"Topic24\", \"Topic24\", \"Topic24\", \"Topic24\", \"Topic24\", \"Topic24\", \"Topic24\", \"Topic24\", \"Topic24\", \"Topic24\", \"Topic24\", \"Topic24\", \"Topic24\", \"Topic24\", \"Topic24\", \"Topic24\", \"Topic24\", \"Topic24\", \"Topic24\", \"Topic24\", \"Topic24\", \"Topic24\", \"Topic24\", \"Topic24\", \"Topic24\", \"Topic24\", \"Topic24\", \"Topic24\", \"Topic24\", \"Topic25\", \"Topic25\", \"Topic25\", \"Topic25\", \"Topic25\", \"Topic25\", \"Topic25\", \"Topic25\", \"Topic25\", \"Topic25\", \"Topic25\", \"Topic25\", \"Topic25\", \"Topic25\", \"Topic25\", \"Topic25\", \"Topic25\", \"Topic25\", \"Topic25\", \"Topic25\", \"Topic25\", \"Topic25\", \"Topic25\", \"Topic25\", \"Topic25\", \"Topic25\", \"Topic25\", \"Topic25\", \"Topic25\", \"Topic25\", \"Topic25\", \"Topic26\", \"Topic26\", \"Topic26\", \"Topic26\", \"Topic26\", \"Topic26\", \"Topic26\", \"Topic26\", \"Topic26\", \"Topic26\", \"Topic26\", \"Topic26\", \"Topic26\", \"Topic26\", \"Topic26\", \"Topic26\", \"Topic26\", \"Topic26\", \"Topic26\", \"Topic26\", \"Topic26\", \"Topic26\", \"Topic26\", \"Topic26\", \"Topic26\", \"Topic26\", \"Topic26\", \"Topic26\", \"Topic26\", \"Topic26\", \"Topic26\", \"Topic27\", \"Topic27\", \"Topic27\", \"Topic27\", \"Topic27\", \"Topic27\", \"Topic27\", \"Topic27\", \"Topic27\", \"Topic27\", \"Topic27\", \"Topic27\", \"Topic27\", \"Topic27\", \"Topic27\", \"Topic27\", \"Topic27\", \"Topic27\", \"Topic27\", \"Topic27\", \"Topic27\", \"Topic27\", \"Topic27\", \"Topic27\", \"Topic27\", \"Topic27\", \"Topic27\", \"Topic27\", \"Topic27\", \"Topic27\", \"Topic28\", \"Topic28\", \"Topic28\", \"Topic28\", \"Topic28\", \"Topic28\", \"Topic28\", \"Topic28\", \"Topic28\", \"Topic28\", \"Topic28\", \"Topic28\", \"Topic28\", \"Topic28\", \"Topic28\", \"Topic28\", \"Topic28\", \"Topic28\", \"Topic28\", \"Topic28\", \"Topic28\", \"Topic28\", \"Topic28\", \"Topic28\", \"Topic28\", \"Topic28\", \"Topic28\", \"Topic28\", \"Topic28\", \"Topic28\", \"Topic29\", \"Topic29\", \"Topic29\", \"Topic29\", \"Topic29\", \"Topic29\", \"Topic29\", \"Topic29\", \"Topic29\", \"Topic29\", \"Topic29\", \"Topic29\", \"Topic29\", \"Topic29\", \"Topic29\", \"Topic29\", \"Topic29\", \"Topic29\", \"Topic29\", \"Topic29\", \"Topic29\", \"Topic29\", \"Topic29\", \"Topic29\", \"Topic29\", \"Topic29\", \"Topic29\", \"Topic29\", \"Topic29\", \"Topic29\", \"Topic30\", \"Topic30\", \"Topic30\", \"Topic30\", \"Topic30\", \"Topic30\", \"Topic30\", \"Topic30\", \"Topic30\", \"Topic30\", \"Topic30\", \"Topic30\", \"Topic30\", \"Topic30\", \"Topic30\", \"Topic30\", \"Topic30\", \"Topic30\", \"Topic30\", \"Topic30\", \"Topic30\", \"Topic30\", \"Topic30\", \"Topic30\", \"Topic30\", \"Topic30\", \"Topic30\", \"Topic30\", \"Topic30\", \"Topic30\", \"Topic31\", \"Topic31\", \"Topic31\", \"Topic31\", \"Topic31\", \"Topic31\", \"Topic31\", \"Topic31\", \"Topic31\", \"Topic31\", \"Topic31\", \"Topic31\", \"Topic31\", \"Topic31\", \"Topic31\", \"Topic31\", \"Topic31\", \"Topic31\", \"Topic31\", \"Topic31\", \"Topic31\", \"Topic31\", \"Topic31\", \"Topic31\", \"Topic31\", \"Topic31\", \"Topic31\", \"Topic31\", \"Topic31\", \"Topic31\", \"Topic31\", \"Topic31\", \"Topic32\", \"Topic32\", \"Topic32\", \"Topic32\", \"Topic32\", \"Topic32\", \"Topic32\", \"Topic32\", \"Topic32\", \"Topic32\", \"Topic32\", \"Topic32\", \"Topic32\", \"Topic32\", \"Topic32\", \"Topic32\", \"Topic32\", \"Topic32\", \"Topic32\", \"Topic32\", \"Topic32\", \"Topic32\", \"Topic32\", \"Topic32\", \"Topic32\", \"Topic32\", \"Topic32\", \"Topic32\", \"Topic32\", \"Topic32\", \"Topic33\", \"Topic33\", \"Topic33\", \"Topic33\", \"Topic33\", \"Topic33\", \"Topic33\", \"Topic33\", \"Topic33\", \"Topic33\", \"Topic33\", \"Topic33\", \"Topic33\", \"Topic33\", \"Topic33\", \"Topic33\", \"Topic33\", \"Topic33\", \"Topic33\", \"Topic33\", \"Topic33\", \"Topic33\", \"Topic33\", \"Topic33\", \"Topic33\", \"Topic33\", \"Topic33\", \"Topic33\", \"Topic33\", \"Topic33\", \"Topic33\", \"Topic34\", \"Topic34\", \"Topic34\", \"Topic34\", \"Topic34\", \"Topic34\", \"Topic34\", \"Topic34\", \"Topic34\", \"Topic34\", \"Topic34\", \"Topic34\", \"Topic34\", \"Topic34\", \"Topic34\", \"Topic34\", \"Topic34\", \"Topic34\", \"Topic34\", \"Topic34\", \"Topic34\", \"Topic34\", \"Topic34\", \"Topic34\", \"Topic34\", \"Topic34\", \"Topic34\", \"Topic34\", \"Topic34\", \"Topic34\", \"Topic35\", \"Topic35\", \"Topic35\", \"Topic35\", \"Topic35\", \"Topic35\", \"Topic35\", \"Topic35\", \"Topic35\", \"Topic35\", \"Topic35\", \"Topic35\", \"Topic35\", \"Topic35\", \"Topic35\", \"Topic35\", \"Topic35\", \"Topic35\", \"Topic35\", \"Topic35\", \"Topic35\", \"Topic35\", \"Topic35\", \"Topic35\", \"Topic35\", \"Topic35\", \"Topic35\", \"Topic35\", \"Topic35\", \"Topic35\", \"Topic35\", \"Topic36\", \"Topic36\", \"Topic36\", \"Topic36\", \"Topic36\", \"Topic36\", \"Topic36\", \"Topic36\", \"Topic36\", \"Topic36\", \"Topic36\", \"Topic36\", \"Topic36\", \"Topic36\", \"Topic36\", \"Topic36\", \"Topic36\", \"Topic36\", \"Topic36\", \"Topic36\", \"Topic36\", \"Topic36\", \"Topic36\", \"Topic36\", \"Topic36\", \"Topic36\", \"Topic36\", \"Topic36\", \"Topic36\", \"Topic36\", \"Topic37\", \"Topic37\", \"Topic37\", \"Topic37\", \"Topic37\", \"Topic37\", \"Topic37\", \"Topic37\", \"Topic37\", \"Topic37\", \"Topic37\", \"Topic37\", \"Topic37\", \"Topic37\", \"Topic37\", \"Topic37\", \"Topic37\", \"Topic37\", \"Topic37\", \"Topic37\", \"Topic37\", \"Topic37\", \"Topic37\", \"Topic37\", \"Topic37\", \"Topic37\", \"Topic37\", \"Topic37\", \"Topic37\", \"Topic37\", \"Topic37\", \"Topic38\", \"Topic38\", \"Topic38\", \"Topic38\", \"Topic38\", \"Topic38\", \"Topic38\", \"Topic38\", \"Topic38\", \"Topic38\", \"Topic38\", \"Topic38\", \"Topic38\", \"Topic38\", \"Topic38\", \"Topic38\", \"Topic38\", \"Topic38\", \"Topic38\", \"Topic38\", \"Topic38\", \"Topic38\", \"Topic38\", \"Topic38\", \"Topic38\", \"Topic38\", \"Topic38\", \"Topic38\", \"Topic38\", \"Topic38\", \"Topic38\", \"Topic39\", \"Topic39\", \"Topic39\", \"Topic39\", \"Topic39\", \"Topic39\", \"Topic39\", \"Topic39\", \"Topic39\", \"Topic39\", \"Topic39\", \"Topic39\", \"Topic39\", \"Topic39\", \"Topic39\", \"Topic39\", \"Topic39\", \"Topic39\", \"Topic39\", \"Topic39\", \"Topic39\", \"Topic39\", \"Topic39\", \"Topic39\", \"Topic39\", \"Topic39\", \"Topic39\", \"Topic39\", \"Topic39\", \"Topic39\", \"Topic40\", \"Topic40\", \"Topic40\", \"Topic40\", \"Topic40\", \"Topic40\", \"Topic40\", \"Topic40\", \"Topic40\", \"Topic40\", \"Topic40\", \"Topic40\", \"Topic40\", \"Topic40\", \"Topic40\", \"Topic40\", \"Topic40\", \"Topic40\", \"Topic40\", \"Topic40\", \"Topic40\", \"Topic40\", \"Topic40\", \"Topic40\", \"Topic40\", \"Topic40\", \"Topic40\", \"Topic40\", \"Topic40\", \"Topic40\", \"Topic41\", \"Topic41\", \"Topic41\", \"Topic41\", \"Topic41\", \"Topic41\", \"Topic41\", \"Topic41\", \"Topic41\", \"Topic41\", \"Topic41\", \"Topic41\", \"Topic41\", \"Topic41\", \"Topic41\", \"Topic41\", \"Topic41\", \"Topic41\", \"Topic41\", \"Topic41\", \"Topic41\", \"Topic41\", \"Topic41\", \"Topic41\", \"Topic41\", \"Topic41\", \"Topic41\", \"Topic41\", \"Topic41\", \"Topic41\", \"Topic42\", \"Topic42\", \"Topic42\", \"Topic42\", \"Topic42\", \"Topic42\", \"Topic42\", \"Topic42\", \"Topic42\", \"Topic42\", \"Topic42\", \"Topic42\", \"Topic42\", \"Topic42\", \"Topic42\", \"Topic42\", \"Topic42\", \"Topic42\", \"Topic42\", \"Topic42\", \"Topic42\", \"Topic42\", \"Topic42\", \"Topic42\", \"Topic42\", \"Topic42\", \"Topic42\", \"Topic42\", \"Topic42\", \"Topic42\", \"Topic43\", \"Topic43\", \"Topic43\", \"Topic43\", \"Topic43\", \"Topic43\", \"Topic43\", \"Topic43\", \"Topic43\", \"Topic43\", \"Topic43\", \"Topic43\", \"Topic43\", \"Topic43\", \"Topic43\", \"Topic43\", \"Topic43\", \"Topic43\", \"Topic43\", \"Topic43\", \"Topic43\", \"Topic43\", \"Topic43\", \"Topic43\", \"Topic43\", \"Topic43\", \"Topic43\", \"Topic43\", \"Topic43\", \"Topic43\", \"Topic43\", \"Topic44\", \"Topic44\", \"Topic44\", \"Topic44\", \"Topic44\", \"Topic44\", \"Topic44\", \"Topic44\", \"Topic44\", \"Topic44\", \"Topic44\", \"Topic44\", \"Topic44\", \"Topic44\", \"Topic44\", \"Topic44\", \"Topic44\", \"Topic44\", \"Topic44\", \"Topic44\", \"Topic44\", \"Topic44\", \"Topic44\", \"Topic44\", \"Topic44\", \"Topic44\", \"Topic44\", \"Topic44\", \"Topic44\", \"Topic44\", \"Topic44\", \"Topic45\", \"Topic45\", \"Topic45\", \"Topic45\", \"Topic45\", \"Topic45\", \"Topic45\", \"Topic45\", \"Topic45\", \"Topic45\", \"Topic45\", \"Topic45\", \"Topic45\", \"Topic45\", \"Topic45\", \"Topic45\", \"Topic45\", \"Topic45\", \"Topic45\", \"Topic45\", \"Topic45\", \"Topic45\", \"Topic45\", \"Topic45\", \"Topic45\", \"Topic45\", \"Topic45\", \"Topic45\", \"Topic45\", \"Topic45\", \"Topic46\", \"Topic46\", \"Topic46\", \"Topic46\", \"Topic46\", \"Topic46\", \"Topic46\", \"Topic46\", \"Topic46\", \"Topic46\", \"Topic46\", \"Topic46\", \"Topic46\", \"Topic46\", \"Topic46\", \"Topic46\", \"Topic46\", \"Topic46\", \"Topic46\", \"Topic46\", \"Topic46\", \"Topic46\", \"Topic46\", \"Topic46\", \"Topic46\", \"Topic46\", \"Topic46\", \"Topic46\", \"Topic46\", \"Topic46\", \"Topic46\", \"Topic47\", \"Topic47\", \"Topic47\", \"Topic47\", \"Topic47\", \"Topic47\", \"Topic47\", \"Topic47\", \"Topic47\", \"Topic47\", \"Topic47\", \"Topic47\", \"Topic47\", \"Topic47\", \"Topic47\", \"Topic47\", \"Topic47\", \"Topic47\", \"Topic47\", \"Topic47\", \"Topic47\", \"Topic47\", \"Topic47\", \"Topic47\", \"Topic47\", \"Topic47\", \"Topic47\", \"Topic47\", \"Topic47\", \"Topic47\", \"Topic47\", \"Topic48\", \"Topic48\", \"Topic48\", \"Topic48\", \"Topic48\", \"Topic48\", \"Topic48\", \"Topic48\", \"Topic48\", \"Topic48\", \"Topic48\", \"Topic48\", \"Topic48\", \"Topic48\", \"Topic48\", \"Topic48\", \"Topic48\", \"Topic48\", \"Topic48\", \"Topic48\", \"Topic48\", \"Topic48\", \"Topic48\", \"Topic48\", \"Topic48\", \"Topic48\", \"Topic48\", \"Topic48\", \"Topic48\", \"Topic48\", \"Topic49\", \"Topic49\", \"Topic49\", \"Topic49\", \"Topic49\", \"Topic49\", \"Topic49\", \"Topic49\", \"Topic49\", \"Topic49\", \"Topic49\", \"Topic49\", \"Topic49\", \"Topic49\", \"Topic49\", \"Topic49\", \"Topic49\", \"Topic49\", \"Topic49\", \"Topic49\", \"Topic49\", \"Topic49\", \"Topic49\", \"Topic49\", \"Topic49\", \"Topic49\", \"Topic49\", \"Topic49\", \"Topic49\", \"Topic49\", \"Topic49\", \"Topic50\", \"Topic50\", \"Topic50\", \"Topic50\", \"Topic50\", \"Topic50\", \"Topic50\", \"Topic50\", \"Topic50\", \"Topic50\", \"Topic50\", \"Topic50\", \"Topic50\", \"Topic50\", \"Topic50\", \"Topic50\", \"Topic50\", \"Topic50\", \"Topic50\", \"Topic50\", \"Topic50\", \"Topic50\", \"Topic50\", \"Topic50\", \"Topic50\", \"Topic50\", \"Topic50\", \"Topic50\", \"Topic50\", \"Topic50\", \"Topic51\", \"Topic51\", \"Topic51\", \"Topic51\", \"Topic51\", \"Topic51\", \"Topic51\", \"Topic51\", \"Topic51\", \"Topic51\", \"Topic51\", \"Topic51\", \"Topic51\", \"Topic51\", \"Topic51\", \"Topic51\", \"Topic51\", \"Topic51\", \"Topic51\", \"Topic51\", \"Topic51\", \"Topic51\", \"Topic51\", \"Topic51\", \"Topic51\", \"Topic51\", \"Topic51\", \"Topic51\", \"Topic51\", \"Topic51\", \"Topic52\", \"Topic52\", \"Topic52\", \"Topic52\", \"Topic52\", \"Topic52\", \"Topic52\", \"Topic52\", \"Topic52\", \"Topic52\", \"Topic52\", \"Topic52\", \"Topic52\", \"Topic52\", \"Topic52\", \"Topic52\", \"Topic52\", \"Topic52\", \"Topic52\", \"Topic52\", \"Topic52\", \"Topic52\", \"Topic52\", \"Topic52\", \"Topic52\", \"Topic52\", \"Topic52\", \"Topic52\", \"Topic52\", \"Topic52\", \"Topic52\", \"Topic53\", \"Topic53\", \"Topic53\", \"Topic53\", \"Topic53\", \"Topic53\", \"Topic53\", \"Topic53\", \"Topic53\", \"Topic53\", \"Topic53\", \"Topic53\", \"Topic53\", \"Topic53\", \"Topic53\", \"Topic53\", \"Topic53\", \"Topic53\", \"Topic53\", \"Topic53\", \"Topic53\", \"Topic53\", \"Topic53\", \"Topic53\", \"Topic53\", \"Topic53\", \"Topic53\", \"Topic53\", \"Topic53\", \"Topic53\", \"Topic54\", \"Topic54\", \"Topic54\", \"Topic54\", \"Topic54\", \"Topic54\", \"Topic54\", \"Topic54\", \"Topic54\", \"Topic54\", \"Topic54\", \"Topic54\", \"Topic54\", \"Topic54\", \"Topic54\", \"Topic54\", \"Topic54\", \"Topic54\", \"Topic54\", \"Topic54\", \"Topic54\", \"Topic54\", \"Topic54\", \"Topic54\", \"Topic54\", \"Topic54\", \"Topic54\", \"Topic54\", \"Topic54\", \"Topic54\", \"Topic55\", \"Topic55\", \"Topic55\", \"Topic55\", \"Topic55\", \"Topic55\", \"Topic55\", \"Topic55\", \"Topic55\", \"Topic55\", \"Topic55\", \"Topic55\", \"Topic55\", \"Topic55\", \"Topic55\", \"Topic55\", \"Topic55\", \"Topic55\", \"Topic55\", \"Topic55\", \"Topic55\", \"Topic55\", \"Topic55\", \"Topic55\", \"Topic55\", \"Topic55\", \"Topic55\", \"Topic55\", \"Topic55\", \"Topic55\", \"Topic56\", \"Topic56\", \"Topic56\", \"Topic56\", \"Topic56\", \"Topic56\", \"Topic56\", \"Topic56\", \"Topic56\", \"Topic56\", \"Topic56\", \"Topic56\", \"Topic56\", \"Topic56\", \"Topic56\", \"Topic56\", \"Topic56\", \"Topic56\", \"Topic56\", \"Topic56\", \"Topic56\", \"Topic56\", \"Topic56\", \"Topic56\", \"Topic56\", \"Topic56\", \"Topic56\", \"Topic56\", \"Topic56\", \"Topic56\", \"Topic56\", \"Topic57\", \"Topic57\", \"Topic57\", \"Topic57\", \"Topic57\", \"Topic57\", \"Topic57\", \"Topic57\", \"Topic57\", \"Topic57\", \"Topic57\", \"Topic57\", \"Topic57\", \"Topic57\", \"Topic57\", \"Topic57\", \"Topic57\", \"Topic57\", \"Topic57\", \"Topic57\", \"Topic57\", \"Topic57\", \"Topic57\", \"Topic57\", \"Topic57\", \"Topic57\", \"Topic57\", \"Topic57\", \"Topic57\", \"Topic57\", \"Topic58\", \"Topic58\", \"Topic58\", \"Topic58\", \"Topic58\", \"Topic58\", \"Topic58\", \"Topic58\", \"Topic58\", \"Topic58\", \"Topic58\", \"Topic58\", \"Topic58\", \"Topic58\", \"Topic58\", \"Topic58\", \"Topic58\", \"Topic58\", \"Topic58\", \"Topic58\", \"Topic58\", \"Topic58\", \"Topic58\", \"Topic58\", \"Topic58\", \"Topic58\", \"Topic58\", \"Topic58\", \"Topic58\", \"Topic58\", \"Topic59\", \"Topic59\", \"Topic59\", \"Topic59\", \"Topic59\", \"Topic59\", \"Topic59\", \"Topic59\", \"Topic59\", \"Topic59\", \"Topic59\", \"Topic59\", \"Topic59\", \"Topic59\", \"Topic59\", \"Topic59\", \"Topic59\", \"Topic59\", \"Topic59\", \"Topic59\", \"Topic59\", \"Topic59\", \"Topic59\", \"Topic59\", \"Topic59\", \"Topic59\", \"Topic59\", \"Topic59\", \"Topic59\", \"Topic59\", \"Topic60\", \"Topic60\", \"Topic60\", \"Topic60\", \"Topic60\", \"Topic60\", \"Topic60\", \"Topic60\", \"Topic60\", \"Topic60\", \"Topic60\", \"Topic60\", \"Topic60\", \"Topic60\", \"Topic60\", \"Topic60\", \"Topic60\", \"Topic60\", \"Topic60\", \"Topic60\", \"Topic60\", \"Topic60\", \"Topic60\", \"Topic60\", \"Topic60\", \"Topic60\", \"Topic60\", \"Topic60\", \"Topic60\", \"Topic60\", \"Topic61\", \"Topic61\", \"Topic61\", \"Topic61\", \"Topic61\", \"Topic61\", \"Topic61\", \"Topic61\", \"Topic61\", \"Topic61\", \"Topic61\", \"Topic61\", \"Topic61\", \"Topic61\", \"Topic61\", \"Topic61\", \"Topic61\", \"Topic61\", \"Topic61\", \"Topic61\", \"Topic61\", \"Topic61\", \"Topic61\", \"Topic61\", \"Topic61\", \"Topic61\", \"Topic61\", \"Topic61\", \"Topic61\", \"Topic61\", \"Topic62\", \"Topic62\", \"Topic62\", \"Topic62\", \"Topic62\", \"Topic62\", \"Topic62\", \"Topic62\", \"Topic62\", \"Topic62\", \"Topic62\", \"Topic62\", \"Topic62\", \"Topic62\", \"Topic62\", \"Topic62\", \"Topic62\", \"Topic62\", \"Topic62\", \"Topic62\", \"Topic62\", \"Topic62\", \"Topic62\", \"Topic62\", \"Topic62\", \"Topic62\", \"Topic62\", \"Topic62\", \"Topic62\", \"Topic62\"], \"logprob\": [30.0, 29.0, 28.0, 27.0, 26.0, 25.0, 24.0, 23.0, 22.0, 21.0, 20.0, 19.0, 18.0, 17.0, 16.0, 15.0, 14.0, 13.0, 12.0, 11.0, 10.0, 9.0, 8.0, 7.0, 6.0, 5.0, 4.0, 3.0, 2.0, 1.0, -2.1054, -2.7692, -2.9464, -3.0127, -3.0762, -3.3498, -3.5205, -1.8943, -3.8885, -3.969, -3.9802, -4.064, -4.1505, -4.1792, -4.2403, -4.3257, -4.3294, -4.3501, -4.365, -4.3752, -4.5743, -4.5768, -4.6591, -4.7304, -4.7596, -4.8051, -4.9653, -4.9985, -5.0491, -5.0352, -4.7484, -4.5798, -4.8406, -0.2488, -3.0271, -4.4885, -4.8289, -4.9244, -4.9773, -5.0366, -5.128, -5.1364, -5.1614, -5.1731, -5.2596, -5.4322, -5.4952, -5.5785, -5.6109, -5.6154, -5.6274, -5.6635, -5.6762, -5.6967, -5.8746, -5.9942, -6.0781, -6.1262, -6.203, -6.2558, -6.3094, -6.3113, -6.4988, -5.1104, -2.3364, -2.4557, -2.5652, -3.0961, -3.1518, -3.4251, -3.6681, -3.7638, -3.9248, -4.2082, -0.9313, -4.9427, -5.0839, -5.1553, -5.2412, -5.266, -5.2784, -5.416, -5.4348, -5.4763, -5.5181, -5.5664, -5.6616, -5.7178, -5.8029, -5.9195, -6.033, -6.3783, -6.4723, -6.4818, -5.6654, -6.162, -1.9002, -2.1069, -2.1929, -2.477, -2.7576, -2.8371, -3.2227, -3.2549, -3.5645, -3.6896, -3.9018, -4.2047, -4.382, -4.3856, -4.4498, -4.4683, -4.5402, -4.5924, -4.6129, -4.6416, -4.6836, -4.848, -4.9776, -5.0724, -5.1884, -5.1944, -5.2669, -5.3191, -5.3578, -5.3819, -4.8858, -1.5047, -2.4398, -3.4156, -3.6486, -3.8121, -4.0313, -4.1189, -4.1642, -4.2455, -4.2619, -4.2826, -4.3169, -4.3844, -4.5094, -4.602, -4.7078, -4.7418, -4.7452, -4.8636, -4.8964, -5.1121, -5.1319, -5.2214, -5.2454, -5.3007, -5.3126, -5.3499, -5.3859, -5.4941, -5.4999, -1.2464, -5.4575, -1.6299, -2.1159, -2.6666, -2.6977, -3.029, -3.244, -3.4018, -3.5263, -3.6627, -3.8033, -3.8671, -3.9811, -4.0516, -4.1821, -4.2304, -4.3943, -4.5532, -4.5861, -4.6031, -4.6629, -4.7292, -4.7675, -4.7847, -4.8616, -4.8777, -4.9042, -4.913, -5.0412, -5.0693, -5.0979, -5.0099, -1.9988, -2.4646, -2.6152, -2.7668, -2.8647, -3.0413, -3.0424, -3.2676, -3.3267, -3.4509, -3.4881, -3.7732, -3.9142, -4.026, -4.0583, -4.2027, -4.2965, -4.365, -4.6045, -4.7121, -4.7212, -4.8173, -4.8236, -4.8283, -4.8652, -4.868, -4.8967, -4.9108, -4.9319, -5.0785, -0.9027, -2.3222, -3.0891, -3.5823, -3.7065, -3.7507, -3.8401, -3.9351, -3.9464, -3.9758, -3.9839, -4.1391, -4.1929, -4.2991, -4.3432, -4.4386, -4.5499, -4.5842, -4.63, -4.6561, -4.7007, -4.7548, -4.7701, -4.9089, -5.0552, -5.1354, -5.1946, -5.3446, -5.3987, -5.4013, -4.978, -1.1961, -1.7389, -2.559, -2.7256, -3.8305, -3.8546, -4.1704, -4.1709, -4.1778, -4.1866, -4.2893, -4.3498, -4.3928, -4.6377, -4.6662, -4.6898, -4.88, -5.0761, -5.1368, -5.1768, -5.2148, -5.2154, -5.2182, -5.2235, -5.2563, -5.3387, -5.4059, -5.4701, -5.4961, -5.5839, -5.2457, -5.2835, -1.3243, -2.2219, -2.4273, -2.8521, -3.2388, -3.2616, -2.4904, -3.6288, -3.8141, -3.9027, -3.9647, -4.012, -4.1575, -4.4524, -4.9421, -4.9587, -5.021, -5.0267, -5.0299, -5.1797, -5.1997, -5.3266, -5.364, -5.4795, -5.4859, -5.5016, -5.5041, -5.5856, -5.6643, -5.7112, -2.2421, -2.4616, -2.7365, -2.8699, -3.3196, -3.4295, -3.4514, -3.5058, -3.5099, -3.5311, -3.6427, -3.6598, -3.6773, -3.6988, -3.7927, -3.8267, -3.8294, -4.0666, -4.0706, -4.173, -4.3374, -4.3807, -4.4715, -4.5055, -4.5256, -4.8182, -4.8658, -4.8894, -4.9218, -4.9325, -1.6672, -1.9947, -2.0348, -3.4006, -3.6673, -3.7689, -3.7723, -3.8301, -3.8468, -3.8528, -3.8531, -4.036, -4.2116, -4.261, -4.5842, -4.5899, -4.6057, -4.6787, -4.6855, -4.7795, -4.8555, -4.8807, -4.8965, -4.929, -4.9755, -5.0776, -5.0954, -5.1203, -5.183, -5.1914, -3.2849, -4.4234, -1.4016, -1.7461, -2.5051, -2.5589, -3.5527, -3.7448, -3.7963, -3.8544, -4.1047, -4.236, -4.3105, -4.3668, -4.4414, -4.4464, -4.517, -4.6408, -4.6584, -4.7795, -4.8751, -4.886, -4.9554, -4.9912, -5.0588, -5.1227, -5.1242, -5.2466, -5.5111, -5.5638, -5.5942, -5.678, -3.3655, -0.9263, -2.2282, -2.3881, -3.6755, -3.9061, -4.1167, -4.2433, -4.2712, -4.3161, -4.3628, -4.3884, -4.4078, -4.411, -4.4686, -4.6555, -4.6758, -4.6844, -4.7572, -4.9555, -5.0263, -5.0405, -5.068, -5.0729, -5.1692, -5.1759, -5.1792, -5.2848, -5.3309, -5.3749, -5.5585, -1.3525, -2.4415, -2.6956, -2.7462, -2.9707, -3.0034, -3.1597, -3.3658, -3.4575, -3.5326, -3.5871, -3.8978, -4.1135, -4.2064, -4.2893, -4.4263, -4.5279, -4.5672, -4.7139, -4.8058, -4.8086, -4.8094, -4.9681, -5.0283, -5.1724, -5.5233, -5.5312, -5.5697, -5.7769, -5.7887, -4.9556, -1.6657, -2.209, -2.6334, -2.6488, -2.9773, -3.0012, -3.4255, -3.5336, -3.6135, -3.894, -3.8945, -3.8997, -4.0126, -4.0732, -4.0928, -4.2273, -4.2613, -4.5322, -4.56, -4.7356, -4.7479, -4.7987, -4.8656, -4.9061, -4.9566, -5.0924, -5.2069, -5.3056, -5.4984, -5.5211, -4.2305, -1.7688, -2.3203, -2.8528, -2.8711, -2.8913, -3.0391, -3.0819, -3.1134, -3.4283, -3.569, -3.8754, -3.9718, -4.1302, -4.3422, -4.4118, -4.5528, -4.5973, -4.634, -4.6926, -4.7143, -4.7358, -4.8172, -4.8841, -4.8994, -4.9297, -4.9696, -5.0372, -5.1763, -5.1994, -5.2997, -4.7928, -2.1099, -2.2706, -2.605, -2.7473, -3.1481, -3.246, -3.4119, -3.5748, -3.6369, -3.7861, -3.79, -3.7968, -3.8291, -3.9316, -3.9542, -3.9709, -4.0586, -4.1547, -4.2358, -4.2623, -4.32, -4.4225, -4.5736, -4.5984, -4.8932, -4.9281, -4.985, -5.0209, -5.0413, -5.1049, -2.2524, -2.5228, -2.6394, -2.8838, -2.983, -3.1681, -3.3957, -3.5256, -3.6224, -3.6506, -3.6587, -3.6734, -3.7397, -3.7903, -3.8548, -3.9884, -3.9894, -4.0478, -4.099, -4.1205, -4.1768, -4.2356, -4.2547, -4.418, -4.4447, -4.5021, -4.668, -4.7888, -4.818, -4.8709, -4.817, -1.7192, -2.354, -2.7138, -2.8138, -2.9182, -3.4449, -3.4713, -3.5337, -3.6943, -3.7606, -3.7976, -3.8247, -3.8727, -3.9222, -3.9875, -3.9971, -4.0151, -4.2366, -4.2713, -4.3103, -4.4614, -4.524, -4.5793, -4.644, -4.7084, -4.7838, -4.8182, -4.9114, -5.1404, -5.1666, -1.5675, -2.157, -2.3062, -2.7448, -3.0107, -3.3173, -3.4718, -3.6781, -3.7374, -3.8464, -3.869, -4.0876, -4.3585, -4.3791, -4.4551, -4.5895, -4.7158, -4.7225, -4.8518, -4.8842, -4.9374, -4.9504, -4.9733, -5.0208, -5.0872, -5.135, -5.1787, -5.2279, -5.433, -5.4574, -4.6815, -1.6793, -1.9254, -2.0954, -2.3921, -3.3197, -3.3746, -3.7715, -3.8565, -3.9742, -4.2032, -4.2614, -4.3268, -4.3406, -4.5271, -4.6052, -4.7961, -4.806, -4.8365, -4.8574, -4.8624, -4.8927, -4.9201, -4.9565, -5.0052, -5.0278, -5.1357, -5.1999, -5.2104, -5.3122, -5.4418, -1.8801, -2.7802, -2.8321, -3.012, -3.3594, -3.4743, -2.8763, -3.59, -3.6156, -3.6829, -3.8376, -3.8761, -3.9164, -3.9387, -4.0331, -4.267, -4.308, -4.3297, -4.3893, -4.4582, -4.5069, -4.5866, -4.6116, -4.6296, -4.6483, -4.695, -4.7627, -4.8427, -4.9207, -4.9896, -2.038, -2.6658, -2.6993, -2.798, -3.0048, -3.1174, -3.2582, -3.3234, -3.4637, -3.5208, -3.79, -3.8512, -3.9068, -3.9135, -4.0579, -4.0598, -4.0927, -4.1526, -4.2341, -4.2905, -4.3382, -4.3533, -4.3943, -4.4585, -4.5875, -4.8826, -4.9342, -4.9501, -5.2201, -5.4497, -3.53, -1.5342, -2.0963, -2.6426, -3.0209, -3.2128, -3.362, -3.6736, -3.691, -3.7635, -3.8361, -3.8988, -3.9088, -3.967, -4.0472, -4.0862, -4.1519, -4.2344, -4.3872, -4.4005, -4.6065, -4.7322, -4.9187, -4.9329, -4.9878, -5.1301, -5.1685, -5.1957, -5.2176, -5.2597, -5.3036, -4.5915, -2.1643, -2.5063, -2.6783, -2.7836, -2.8154, -3.2, -3.3767, -3.4922, -3.5125, -3.6849, -3.6889, -3.7263, -3.7756, -4.0598, -4.0954, -4.1084, -4.1164, -4.1315, -4.2786, -4.2806, -4.4209, -4.4967, -4.502, -4.5446, -4.6976, -4.8497, -4.8813, -4.8892, -4.9892, -5.1084, -4.4426, -1.5145, -2.6241, -2.6632, -3.0937, -3.2043, -3.7147, -3.8054, -3.8078, -3.8258, -3.8522, -3.92, -3.9261, -3.9556, -4.1059, -4.1227, -4.2213, -4.2528, -4.278, -4.2875, -4.4255, -4.5599, -4.6195, -4.6684, -4.6859, -4.7439, -4.7582, -4.8194, -4.8422, -4.8431, -4.8753, -2.2041, -2.2988, -2.4102, -2.6363, -2.902, -2.9849, -3.271, -3.4265, -3.5337, -3.5352, -3.5976, -3.6883, -3.8907, -4.0014, -4.2335, -4.3935, -4.438, -4.4742, -4.4904, -4.5612, -4.66, -4.6933, -4.7316, -4.7729, -4.8425, -4.872, -4.9312, -5.015, -5.0207, -5.0553, -1.9499, -2.4594, -2.6182, -2.725, -2.749, -2.906, -2.9975, -3.4259, -3.6033, -3.6297, -3.933, -4.0891, -4.1288, -4.2165, -4.2245, -4.2281, -4.3335, -4.3864, -4.4532, -4.5197, -4.5361, -4.5622, -4.7684, -4.7911, -4.8285, -4.8434, -4.8794, -4.9073, -4.9242, -5.0028, -2.5586, -2.5684, -2.871, -2.8994, -3.0192, -3.1721, -3.1989, -3.2265, -3.2377, -3.2386, -3.2708, -3.4805, -3.5769, -3.8932, -3.9173, -4.0462, -4.3075, -4.3382, -4.3617, -4.4148, -4.5064, -4.5217, -4.5405, -4.5912, -4.6228, -4.6553, -4.6608, -4.8254, -4.8713, -4.8859, -2.0988, -2.3432, -2.5462, -2.9608, -2.997, -3.0542, -3.1598, -3.5306, -3.6813, -3.7334, -3.8349, -3.9805, -3.9989, -4.0221, -4.13, -4.2322, -4.2978, -4.3196, -4.3903, -4.416, -4.5487, -4.5521, -4.6178, -4.6342, -4.6627, -4.8762, -5.0575, -5.0797, -5.0873, -5.1364, -4.4359, -4.9166, -2.0545, -2.3428, -2.55, -2.741, -2.85, -2.9415, -3.0774, -3.1999, -3.3427, -3.4863, -3.1757, -4.053, -4.2741, -4.2995, -4.4035, -4.4131, -4.4149, -4.42, -4.4504, -4.515, -4.5474, -4.707, -4.7087, -4.7891, -4.9149, -4.9576, -5.1217, -5.1219, -5.1447, -5.263, -2.4753, -2.7925, -3.0121, -3.2073, -3.2553, -3.747, -3.7893, -3.886, -3.9031, -4.084, -4.2219, -4.2492, -4.3694, -4.4702, -4.4832, -4.4898, -4.5138, -1.6713, -4.5947, -4.6393, -4.6801, -4.703, -4.7096, -4.7518, -4.7922, -4.8069, -4.807, -4.9091, -4.9449, -4.9484, -4.6093, -1.0403, -2.1422, -2.9113, -3.2155, -3.2408, -3.3962, -3.4023, -3.5966, -3.8609, -3.9487, -4.0238, -4.1861, -4.5684, -4.5957, -4.6272, -4.8197, -4.8871, -5.0473, -5.0522, -5.1026, -5.1476, -5.202, -5.216, -5.2662, -5.2787, -5.2912, -5.3409, -5.3656, -5.4344, -5.5392, -1.3903, -1.7634, -3.1806, -3.4693, -3.4804, -3.517, -3.5519, -3.7661, -3.9341, -3.9639, -4.0725, -4.1148, -4.3619, -4.467, -4.6616, -2.7255, -4.7373, -4.7496, -4.7911, -4.8309, -4.8557, -4.9008, -4.9341, -5.1111, -5.2943, -5.3162, -5.3372, -5.427, -5.4998, -5.5212, -4.913, -0.8633, -3.0999, -3.1304, -3.2959, -3.6172, -3.6574, -3.7745, -3.9603, -4.039, -4.1703, -4.2183, -4.2186, -4.2521, -4.2802, -4.3347, -4.4473, -4.4729, -4.6668, -4.6926, -4.7901, -4.8542, -4.9073, -5.1205, -5.1301, -5.1506, -5.2101, -5.2585, -5.3731, -5.4082, -5.4551, -2.227, -2.3517, -2.3883, -2.4767, -2.5167, -2.872, -2.9808, -3.5748, -3.5911, -3.659, -3.6637, -3.6944, -3.9078, -4.0506, -4.1628, -4.2759, -4.6165, -4.7196, -4.7217, -4.9399, -5.07, -5.0814, -5.1565, -5.1783, -5.2379, -5.2517, -5.364, -5.3807, -5.5305, -5.5394, -4.8531, -2.3593, -2.4178, -2.8034, -2.8089, -2.8355, -3.0377, -3.1973, -3.4755, -3.5986, -3.626, -3.8618, -4.0718, -4.3067, -4.3378, -4.5244, -4.5291, -4.5402, -4.5426, -4.646, -4.6685, -4.6849, -4.6954, -4.7224, -4.7405, -4.7526, -4.8366, -4.8693, -4.8711, -4.8761, -4.9665, -4.5699, -1.1245, -3.1253, -3.3716, -3.4887, -3.5036, -3.5467, -3.7596, -3.8102, -3.8186, -3.8758, -3.9048, -3.9638, -4.0523, -4.1526, -4.1752, -4.2924, -4.2961, -4.3635, -4.3959, -4.4348, -4.5807, -4.6382, -4.6662, -4.7012, -4.7258, -4.8779, -4.9243, -4.9372, -4.9674, -4.9922, -1.6344, -2.4001, -2.4948, -2.5433, -2.7211, -2.7995, -3.6021, -3.667, -3.6806, -3.9818, -3.9873, -4.0963, -4.1239, -4.1519, -4.1537, -4.3705, -4.3722, -4.5281, -4.7236, -4.7457, -4.8211, -4.8312, -4.9064, -4.9376, -4.97, -5.0994, -5.1478, -5.196, -5.3021, -5.3536, -1.7587, -2.5995, -2.6645, -2.88, -2.9817, -3.0142, -3.0163, -3.4519, -3.6025, -3.6931, -3.7575, -3.9878, -4.0147, -4.0663, -4.1186, -4.2022, -4.2303, -4.2358, -4.3479, -4.3888, -4.6059, -4.6764, -4.6778, -4.7511, -4.7784, -4.8625, -4.8662, -4.8686, -5.0406, -5.0943, -2.4899, -2.5604, -2.6549, -2.6701, -3.0342, -3.3874, -3.4043, -3.4856, -3.6102, -3.6576, -3.6607, -3.7507, -3.7733, -3.9937, -4.1128, -4.153, -4.1782, -4.1959, -4.276, -4.3082, -4.4718, -4.5131, -4.6519, -4.6633, -4.7625, -4.791, -4.8171, -4.829, -4.8771, -4.9607, -1.5529, -2.6936, -2.7482, -2.857, -2.9947, -3.0409, -3.1368, -3.1703, -3.2967, -3.3639, -3.5846, -3.8652, -3.9091, -4.0625, -4.1389, -4.1982, -4.2277, -4.3818, -4.5719, -4.6702, -4.6926, -4.736, -5.0393, -5.0454, -5.2639, -5.3752, -5.3967, -5.44, -5.4945, -5.5672, -5.2517, -2.5132, -2.6279, -2.9296, -3.0772, -3.1171, -3.1683, -3.2951, -3.3341, -3.4192, -3.5035, -3.5081, -3.7426, -3.7565, -3.9084, -3.9271, -4.0013, -4.1165, -4.1661, -4.2018, -4.2387, -4.2537, -4.2986, -4.3606, -4.3791, -4.4169, -4.6679, -4.686, -4.693, -4.7654, -4.8726, -4.7964, -1.8326, -2.086, -2.7375, -2.7841, -3.1935, -3.3297, -3.4482, -3.5093, -3.5397, -3.6741, -3.7812, -3.8748, -4.101, -4.109, -4.326, -4.3324, -4.5141, -4.6177, -4.7368, -4.7426, -4.7513, -4.7912, -4.808, -4.8159, -5.024, -5.0517, -5.053, -5.1036, -5.132, -5.1735, -2.3805, -2.445, -2.5408, -2.849, -2.9112, -2.9948, -3.0811, -3.0828, -3.183, -3.5189, -3.6303, -3.7824, -3.9716, -4.0565, -4.1954, -4.2412, -4.4227, -4.5026, -4.5271, -4.5914, -4.656, -4.7292, -4.7298, -4.7779, -4.8104, -4.8774, -5.068, -5.1337, -5.3054, -5.5286, -5.1116, -1.7288, -2.4755, -2.6122, -3.1345, -3.1916, -3.2789, -3.4732, -3.478, -3.6483, -3.7432, -3.7586, -3.8541, -3.8871, -4.0811, -4.0837, -4.1259, -4.1793, -4.3212, -4.4352, -4.5087, -4.522, -4.5444, -4.5766, -4.5793, -4.6251, -4.6257, -4.6968, -4.8406, -5.0425, -5.1807, -5.0165, -1.7945, -2.3855, -2.4388, -2.8676, -2.9459, -2.9972, -3.3525, -3.3609, -3.4351, -3.8206, -4.0529, -4.0899, -4.1063, -4.4501, -4.4687, -4.2547, -4.6112, -4.6606, -4.6837, -4.7086, -4.7105, -4.734, -4.8123, -4.8515, -4.9391, -4.9406, -5.0255, -5.1454, -5.2909, -5.3758, -2.543, -2.5893, -2.686, -2.7258, -2.996, -3.0027, -3.1592, -3.1752, -3.3755, -3.7083, -3.7102, -3.8287, -3.8554, -3.9359, -4.001, -4.0552, -4.1227, -4.176, -4.2127, -4.2535, -4.3734, -4.418, -4.4505, -4.4527, -4.508, -4.5104, -4.6988, -5.0714, -5.0934, -5.1116, -4.2244, -1.753, -2.2133, -2.3809, -2.7034, -3.2802, -3.3924, -3.4908, -3.608, -3.7835, -3.8024, -3.8261, -3.8552, -4.0116, -4.3402, -4.3576, -4.4776, -4.4972, -4.5359, -4.5444, -4.5676, -4.6116, -4.6129, -4.6306, -4.7473, -4.8925, -4.9153, -4.9384, -5.0357, -5.0476, -5.0562, -1.5123, -2.9772, -3.1184, -3.2233, -3.3774, -3.4049, -3.4137, -3.6103, -3.7026, -3.7488, -3.8077, -3.8084, -3.9531, -4.0251, -4.0792, -4.0835, -4.1186, -4.2361, -4.4029, -4.4138, -4.4971, -4.629, -4.6543, -4.6631, -4.7172, -4.7671, -4.7913, -4.7958, -4.8754, -4.9684, -2.0546, -2.8341, -2.9561, -3.0363, -3.1213, -3.2175, -3.2647, -3.3845, -3.4732, -3.5646, -3.6243, -3.7423, -3.8061, -3.9433, -3.9701, -4.2209, -4.2224, -4.2991, -4.3015, -4.3508, -4.3667, -4.4099, -4.4521, -4.605, -4.6321, -4.6559, -4.7855, -4.8914, -4.9243, -4.9325, -4.7786, -2.165, -2.2257, -2.3041, -2.9239, -2.9768, -3.0663, -3.1291, -3.2628, -3.7312, -3.7547, -3.8722, -4.1757, -4.2199, -4.297, -4.2973, -4.3233, -4.3631, -4.4412, -4.55, -4.5636, -4.5956, -4.6233, -4.6765, -4.7633, -4.8999, -4.9165, -4.9423, -5.0117, -5.1176, -5.1716, -2.6925, -2.8973, -2.9902, -3.1156, -3.124, -3.228, -3.3535, -3.444, -3.5307, -3.5477, -3.6117, -3.6732, -3.7472, -3.8167, -3.9192, -3.9839, -4.0262, -4.0605, -4.073, -4.1554, -4.1734, -4.1952, -4.3049, -4.3936, -4.398, -4.5165, -4.576, -4.5917, -4.6021, -4.6099, -2.0106, -2.3845, -2.6643, -3.008, -3.0439, -3.175, -3.3501, -3.4213, -3.5191, -3.8598, -3.935, -4.0242, -4.1462, -4.1676, -4.1682, -4.2207, -4.2593, -4.2829, -4.2904, -4.3231, -4.3687, -4.5449, -4.5843, -4.6317, -4.6475, -4.7835, -4.8716, -4.8784, -4.923, -4.9697, -2.1862, -2.9992, -3.0629, -3.1068, -3.2705, -3.2992, -3.3723, -3.373, -3.4192, -3.5817, -3.6551, -3.7069, -3.7166, -3.747, -3.8361, -3.926, -4.0633, -4.1288, -4.3293, -4.4024, -4.4358, -4.454, -4.459, -4.5064, -4.5479, -4.5855, -4.7585, -4.7856, -4.8002, -4.9038, -4.2241, -1.8113, -2.8186, -3.0377, -3.2075, -3.2989, -3.4013, -3.4694, -3.5725, -3.5942, -3.6089, -3.6345, -3.7162, -3.7494, -3.7713, -3.8101, -3.8206, -3.8876, -3.9545, -4.1544, -4.1936, -4.2612, -4.3214, -4.3994, -4.437, -4.4921, -4.559, -4.5748, -4.7446, -4.7894, -4.9531, -2.0761, -2.1289, -2.8252, -3.1743, -3.3559, -3.503, -3.6016, -3.6395, -3.7606, -3.7733, -3.9268, -3.948, -3.9799, -4.0009, -4.0831, -4.1632, -4.305, -4.5169, -4.5285, -4.5836, -4.6075, -4.6346, -4.6629, -4.6726, -4.6919, -4.7154, -4.7338, -4.7476, -4.7492, -4.7811, -1.7463, -2.3744, -2.6971, -2.7954, -3.1451, -3.2216, -3.7729, -3.831, -4.0116, -4.0607, -4.1299, -4.1556, -4.2132, -4.2406, -4.2421, -4.276, -4.3184, -4.3239, -4.3334, -4.3371, -4.445, -4.4777, -4.5185, -4.5219, -4.6005, -4.7007, -4.7025, -4.8451, -4.9981, -5.0399, -1.8616, -2.6063, -3.0408, -3.0875, -3.2697, -3.3112, -3.4051, -3.4272, -3.4408, -3.5937, -3.7213, -3.7572, -3.7799, -3.8001, -3.8978, -4.0392, -4.0583, -4.0914, -4.0968, -4.276, -4.4247, -4.5043, -4.7388, -4.7486, -4.749, -4.7773, -4.8127, -4.9453, -4.9467, -4.9934, -2.6679, -2.686, -2.828, -2.8619, -3.0499, -3.3651, -3.3803, -3.4075, -3.4888, -3.6245, -3.8524, -3.9179, -3.9522, -3.9617, -4.0648, -4.1346, -4.1883, -4.2976, -4.4289, -4.4569, -4.4687, -4.4727, -4.5187, -4.5975, -4.7322, -4.7334, -4.7904, -4.8322, -4.8443, -4.9189, -2.7082, -2.9342, -3.066, -3.0835, -3.143, -3.2045, -3.3663, -3.5062, -3.5134, -3.5634, -3.5862, -3.5909, -3.5995, -3.7693, -3.8335, -3.8515, -3.9223, -3.9664, -3.9764, -3.9998, -4.2074, -4.2644, -4.3259, -4.4015, -4.4529, -4.4644, -4.4998, -4.5522, -4.5897, -4.8482], \"loglift\": [30.0, 29.0, 28.0, 27.0, 26.0, 25.0, 24.0, 23.0, 22.0, 21.0, 20.0, 19.0, 18.0, 17.0, 16.0, 15.0, 14.0, 13.0, 12.0, 11.0, 10.0, 9.0, 8.0, 7.0, 6.0, 5.0, 4.0, 3.0, 2.0, 1.0, 3.5053, 3.505, 3.5048, 3.5048, 3.5047, 3.5044, 3.5042, 3.5041, 3.5035, 3.5034, 3.5033, 3.5031, 3.5029, 3.5028, 3.5027, 3.5024, 3.5024, 3.5023, 3.5023, 3.5022, 3.5015, 3.5015, 3.5011, 3.5008, 3.5006, 3.5004, 3.4995, 3.4993, 3.4989, 3.4989, 3.493, 0.8886, 0.627, 3.7145, 3.7134, 3.7097, 3.7078, 3.7071, 3.7067, 3.7062, 3.7054, 3.7053, 3.7051, 3.705, 3.7041, 3.7021, 3.7013, 3.7002, 3.6997, 3.6997, 3.6995, 3.6989, 3.6987, 3.6984, 3.6953, 3.6929, 3.691, 3.6898, 3.6879, 3.6864, 3.6849, 3.6849, 3.6788, 0.3571, 3.7483, 3.7482, 3.7482, 3.7477, 3.7476, 3.7472, 3.7467, 3.7465, 3.746, 3.7451, 3.7417, 3.741, 3.7399, 3.7392, 3.7383, 3.7381, 3.7379, 3.7363, 3.7361, 3.7355, 3.735, 3.7343, 3.7329, 3.7319, 3.7304, 3.7282, 3.7257, 3.7163, 3.7132, 3.7128, -0.197, -0.6944, 3.7715, 3.7714, 3.7714, 3.7712, 3.771, 3.7709, 3.7705, 3.7704, 3.7699, 3.7696, 3.7691, 3.7681, 3.7673, 3.7673, 3.767, 3.7669, 3.7665, 3.7662, 3.7661, 3.7659, 3.7657, 3.7646, 3.7636, 3.7627, 3.7616, 3.7616, 3.7608, 3.7602, 3.7598, 3.7595, 0.5818, 3.8122, 3.8117, 3.8106, 3.8101, 3.8097, 3.8091, 3.8087, 3.8086, 3.8083, 3.8082, 3.8081, 3.8079, 3.8076, 3.807, 3.8065, 3.8058, 3.8056, 3.8056, 3.8047, 3.8044, 3.8025, 3.8023, 3.8014, 3.8011, 3.8005, 3.8003, 3.7999, 3.7994, 3.7979, 3.7979, 3.7761, 0.0109, 3.8223, 3.8221, 3.8218, 3.8217, 3.8214, 3.8211, 3.8208, 3.8206, 3.8203, 3.8199, 3.8197, 3.8194, 3.8191, 3.8187, 3.8185, 3.8177, 3.8169, 3.8167, 3.8166, 3.8162, 3.8158, 3.8155, 3.8154, 3.8148, 3.8147, 3.8145, 3.8144, 3.8133, 3.813, 3.8128, 0.4585, 3.8818, 3.8815, 3.8814, 3.8813, 3.8812, 3.8809, 3.8809, 3.8806, 3.8805, 3.8803, 3.8802, 3.8795, 3.8791, 3.8787, 3.8786, 3.878, 3.8776, 3.8772, 3.8759, 3.8752, 3.8751, 3.8744, 3.8743, 3.8743, 3.874, 3.874, 3.8737, 3.8736, 3.8734, 3.872, 3.8919, 3.8914, 3.8907, 3.8898, 3.8894, 3.8893, 3.8891, 3.8888, 3.8887, 3.8886, 3.8886, 3.888, 3.8878, 3.8873, 3.8871, 3.8866, 3.886, 3.8857, 3.8854, 3.8853, 3.885, 3.8846, 3.8844, 3.8833, 3.8819, 3.8811, 3.8804, 3.8785, 3.8778, 3.8778, 0.4896, 3.9474, 3.9472, 3.9467, 3.9465, 3.9444, 3.9444, 3.9431, 3.9431, 3.9431, 3.9431, 3.9426, 3.9423, 3.942, 3.9405, 3.9403, 3.9401, 3.9386, 3.9366, 3.9359, 3.9355, 3.935, 3.935, 3.935, 3.9349, 3.9345, 3.9334, 3.9324, 3.9314, 3.931, 3.9294, 0.2227, 0.184, 3.9514, 3.9511, 3.9507, 3.9505, 3.95, 3.9499, 3.9498, 3.9491, 3.9486, 3.9483, 3.9481, 3.9479, 3.9473, 3.9458, 3.9421, 3.942, 3.9413, 3.9413, 3.9412, 3.9396, 3.9393, 3.9377, 3.9371, 3.9354, 3.9353, 3.935, 3.935, 3.9335, 3.9321, 3.9311, 3.9713, 3.9712, 3.9709, 3.9708, 3.9701, 3.9698, 3.9698, 3.9697, 3.9697, 3.9696, 3.9693, 3.9693, 3.9692, 3.9692, 3.9689, 3.9688, 3.9688, 3.9679, 3.9679, 3.9674, 3.9666, 3.9664, 3.9659, 3.9657, 3.9655, 3.9633, 3.9629, 3.9627, 3.9624, 3.9623, 3.9973, 3.9972, 3.9971, 3.9955, 3.9949, 3.9946, 3.9946, 3.9944, 3.9943, 3.9943, 3.9943, 3.9936, 3.9929, 3.9926, 3.9907, 3.9906, 3.9905, 3.99, 3.9899, 3.9892, 3.9885, 3.9883, 3.9881, 3.9878, 3.9873, 3.9862, 3.986, 3.9857, 3.985, 3.9849, 2.1835, 1.0441, 4.0164, 4.0163, 4.0158, 4.0157, 4.0141, 4.0136, 4.0134, 4.0132, 4.0122, 4.0116, 4.0112, 4.0109, 4.0104, 4.0104, 4.01, 4.0091, 4.0089, 4.0079, 4.0071, 4.007, 4.0063, 4.0059, 4.0051, 4.0044, 4.0044, 4.0028, 3.9986, 3.9976, 3.9971, 3.9954, 2.102, 4.024, 4.0235, 4.0234, 4.0213, 4.0205, 4.0197, 4.0191, 4.0189, 4.0187, 4.0184, 4.0183, 4.0181, 4.0181, 4.0178, 4.0164, 4.0163, 4.0162, 4.0156, 4.0137, 4.013, 4.0128, 4.0125, 4.0124, 4.0113, 4.0112, 4.0111, 4.0097, 4.009, 4.0083, 4.0052, 4.0264, 4.0259, 4.0256, 4.0256, 4.0253, 4.0252, 4.025, 4.0246, 4.0244, 4.0242, 4.024, 4.0231, 4.0222, 4.0217, 4.0213, 4.0205, 4.0199, 4.0196, 4.0185, 4.0177, 4.0177, 4.0176, 4.0161, 4.0154, 4.0137, 4.0083, 4.0081, 4.0074, 4.003, 4.0027, 0.5128, 4.0457, 4.0454, 4.0451, 4.045, 4.0446, 4.0446, 4.0438, 4.0435, 4.0433, 4.0424, 4.0424, 4.0424, 4.0419, 4.0417, 4.0416, 4.0409, 4.0408, 4.0391, 4.0389, 4.0375, 4.0374, 4.037, 4.0364, 4.036, 4.0354, 4.0339, 4.0324, 4.031, 4.0278, 4.0274, 1.2379, 4.0461, 4.0457, 4.0452, 4.0452, 4.0451, 4.0449, 4.0449, 4.0448, 4.0442, 4.0438, 4.0429, 4.0425, 4.0418, 4.0407, 4.0403, 4.0393, 4.039, 4.0387, 4.0383, 4.0381, 4.0379, 4.0372, 4.0365, 4.0364, 4.0361, 4.0357, 4.0349, 4.0332, 4.0329, 4.0314, 0.6748, 4.0496, 4.0494, 4.0492, 4.049, 4.0484, 4.0482, 4.0479, 4.0475, 4.0473, 4.0468, 4.0468, 4.0468, 4.0467, 4.0463, 4.0462, 4.0461, 4.0458, 4.0454, 4.045, 4.0448, 4.0445, 4.0439, 4.0429, 4.0427, 4.0401, 4.0398, 4.0392, 4.0388, 4.0385, 4.0378, 4.0718, 4.0716, 4.0715, 4.0712, 4.071, 4.0707, 4.0702, 4.0699, 4.0696, 4.0696, 4.0695, 4.0695, 4.0693, 4.0691, 4.0689, 4.0684, 4.0684, 4.0681, 4.0679, 4.0678, 4.0675, 4.0672, 4.0671, 4.0661, 4.066, 4.0656, 4.0643, 4.0633, 4.063, 4.0625, 0.6514, 4.0802, 4.0798, 4.0795, 4.0793, 4.0792, 4.0782, 4.0781, 4.078, 4.0775, 4.0773, 4.0772, 4.0771, 4.0769, 4.0767, 4.0764, 4.0764, 4.0763, 4.0752, 4.0751, 4.0748, 4.0739, 4.0735, 4.0731, 4.0725, 4.072, 4.0713, 4.071, 4.0701, 4.0674, 4.067, 4.1111, 4.1108, 4.1107, 4.1102, 4.1098, 4.1093, 4.1089, 4.1083, 4.1081, 4.1077, 4.1076, 4.1067, 4.1052, 4.1051, 4.1046, 4.1036, 4.1025, 4.1024, 4.1012, 4.1009, 4.1003, 4.1002, 4.0999, 4.0993, 4.0985, 4.0979, 4.0973, 4.0966, 4.0932, 4.0927, 0.786, 4.1189, 4.1187, 4.1186, 4.1184, 4.1171, 4.1169, 4.1158, 4.1155, 4.115, 4.1139, 4.1135, 4.1132, 4.1131, 4.1118, 4.1112, 4.1095, 4.1094, 4.1091, 4.1089, 4.1088, 4.1085, 4.1082, 4.1078, 4.1073, 4.107, 4.1056, 4.1047, 4.1045, 4.103, 4.1007, 4.1266, 4.1259, 4.1258, 4.1255, 4.1248, 4.1245, 4.1245, 4.1242, 4.1241, 4.1239, 4.1234, 4.1232, 4.1231, 4.123, 4.1226, 4.1214, 4.1211, 4.121, 4.1206, 4.1201, 4.1198, 4.1192, 4.1189, 4.1188, 4.1187, 4.1183, 4.1176, 4.1169, 4.116, 4.1152, 4.1357, 4.1351, 4.1351, 4.1349, 4.1346, 4.1344, 4.1341, 4.134, 4.1337, 4.1335, 4.1326, 4.1324, 4.1322, 4.1322, 4.1315, 4.1315, 4.1313, 4.131, 4.1306, 4.1303, 4.13, 4.1299, 4.1296, 4.1292, 4.1282, 4.1254, 4.1249, 4.1247, 4.1211, 4.1172, 4.1037, 4.1413, 4.141, 4.1405, 4.14, 4.1396, 4.1393, 4.1384, 4.1384, 4.1381, 4.1379, 4.1376, 4.1376, 4.1373, 4.137, 4.1368, 4.1364, 4.136, 4.135, 4.1349, 4.1334, 4.1323, 4.1304, 4.1302, 4.1296, 4.1277, 4.1272, 4.1268, 4.1265, 4.1258, 4.1251, 0.8761, 4.1414, 4.1411, 4.1409, 4.1408, 4.1407, 4.1401, 4.1397, 4.1394, 4.1393, 4.1388, 4.1388, 4.1387, 4.1385, 4.1373, 4.1371, 4.1371, 4.137, 4.137, 4.1361, 4.1361, 4.1352, 4.1347, 4.1346, 4.1343, 4.133, 4.1315, 4.1312, 4.1311, 4.13, 4.1283, 1.0258, 4.1463, 4.1456, 4.1455, 4.1449, 4.1447, 4.1433, 4.143, 4.143, 4.1429, 4.1428, 4.1425, 4.1425, 4.1424, 4.1417, 4.1416, 4.141, 4.1409, 4.1407, 4.1407, 4.1398, 4.1388, 4.1383, 4.1379, 4.1377, 4.1372, 4.137, 4.1364, 4.1362, 4.1362, 4.1358, 4.1589, 4.1588, 4.1587, 4.1585, 4.1581, 4.158, 4.1574, 4.157, 4.1568, 4.1568, 4.1566, 4.1563, 4.1555, 4.155, 4.1538, 4.1528, 4.1525, 4.1522, 4.1521, 4.1516, 4.1507, 4.1504, 4.1501, 4.1497, 4.149, 4.1486, 4.148, 4.147, 4.1469, 4.1464, 4.1607, 4.1603, 4.1601, 4.16, 4.16, 4.1597, 4.1596, 4.1587, 4.1582, 4.1581, 4.157, 4.1562, 4.156, 4.1555, 4.1555, 4.1555, 4.1548, 4.1545, 4.154, 4.1535, 4.1534, 4.1532, 4.1513, 4.1511, 4.1507, 4.1506, 4.1502, 4.1499, 4.1497, 4.1487, 4.1626, 4.1626, 4.1622, 4.1622, 4.162, 4.1617, 4.1617, 4.1616, 4.1616, 4.1616, 4.1615, 4.161, 4.1607, 4.1596, 4.1595, 4.1589, 4.1574, 4.1572, 4.1571, 4.1567, 4.1561, 4.1559, 4.1558, 4.1554, 4.1551, 4.1548, 4.1548, 4.1532, 4.1527, 4.1525, 4.1701, 4.1699, 4.1697, 4.1691, 4.169, 4.1689, 4.1687, 4.1678, 4.1674, 4.1672, 4.1668, 4.1662, 4.1661, 4.166, 4.1654, 4.1649, 4.1645, 4.1643, 4.1639, 4.1637, 4.1627, 4.1627, 4.1621, 4.162, 4.1617, 4.1596, 4.1574, 4.1571, 4.157, 4.1563, 1.0317, 0.5518, 4.1713, 4.1711, 4.1709, 4.1706, 4.1705, 4.1703, 4.1701, 4.1699, 4.1695, 4.1692, 4.1684, 4.167, 4.1658, 4.1657, 4.165, 4.1649, 4.1649, 4.1649, 4.1646, 4.1642, 4.1639, 4.1625, 4.1625, 4.1617, 4.1603, 4.1598, 4.1577, 4.1577, 4.1574, 4.1555, 4.1929, 4.1925, 4.1922, 4.1918, 4.1917, 4.1902, 4.1901, 4.1897, 4.1896, 4.1888, 4.188, 4.1878, 4.1871, 4.1863, 4.1862, 4.1862, 4.186, 4.1857, 4.1853, 4.1849, 4.1846, 4.1843, 4.1843, 4.1839, 4.1834, 4.1833, 4.1833, 4.1822, 4.1817, 4.1817, 0.8583, 4.2092, 4.2087, 4.2078, 4.2072, 4.2071, 4.2068, 4.2068, 4.2062, 4.2052, 4.2048, 4.2045, 4.2036, 4.2009, 4.2006, 4.2003, 4.1984, 4.1977, 4.1956, 4.1956, 4.1949, 4.1942, 4.1934, 4.1931, 4.1923, 4.1921, 4.1919, 4.191, 4.1905, 4.1892, 4.187, 4.2126, 4.2125, 4.2108, 4.2101, 4.2101, 4.21, 4.2099, 4.2091, 4.2084, 4.2083, 4.2078, 4.2075, 4.206, 4.2052, 4.2036, 4.2034, 4.2028, 4.2027, 4.2023, 4.2019, 4.2016, 4.2011, 4.2007, 4.1983, 4.1953, 4.195, 4.1946, 4.1929, 4.1914, 4.1909, 0.5554, 4.2189, 4.2171, 4.2171, 4.2167, 4.2158, 4.2157, 4.2152, 4.2144, 4.2141, 4.2133, 4.2131, 4.2131, 4.2129, 4.2127, 4.2123, 4.2115, 4.2113, 4.2096, 4.2094, 4.2084, 4.2077, 4.2071, 4.2042, 4.2041, 4.2038, 4.2028, 4.202, 4.2, 4.1993, 4.1984, 4.2204, 4.2203, 4.2203, 4.2202, 4.2202, 4.2197, 4.2195, 4.2181, 4.218, 4.2178, 4.2178, 4.2177, 4.2168, 4.2161, 4.2155, 4.2148, 4.2122, 4.2112, 4.2112, 4.2088, 4.207, 4.2069, 4.2058, 4.2054, 4.2045, 4.2042, 4.2022, 4.2019, 4.1988, 4.1986, 0.6145, 4.232, 4.232, 4.2315, 4.2315, 4.2314, 4.2311, 4.2308, 4.2301, 4.2297, 4.2296, 4.2287, 4.2277, 4.2263, 4.226, 4.2246, 4.2246, 4.2245, 4.2245, 4.2236, 4.2233, 4.2232, 4.2231, 4.2228, 4.2226, 4.2225, 4.2216, 4.2212, 4.2212, 4.2211, 4.22, 0.8977, 4.2359, 4.2341, 4.2335, 4.2332, 4.2331, 4.233, 4.2322, 4.232, 4.232, 4.2317, 4.2316, 4.2313, 4.2309, 4.2303, 4.2302, 4.2295, 4.2295, 4.229, 4.2288, 4.2285, 4.2273, 4.2267, 4.2265, 4.2261, 4.2259, 4.2242, 4.2236, 4.2235, 4.2231, 4.2228, 4.2458, 4.2453, 4.2452, 4.2451, 4.2449, 4.2448, 4.2429, 4.2427, 4.2426, 4.2413, 4.2413, 4.2407, 4.2406, 4.2404, 4.2404, 4.239, 4.239, 4.2378, 4.2359, 4.2357, 4.2349, 4.2348, 4.2339, 4.2335, 4.2331, 4.2312, 4.2305, 4.2297, 4.2279, 4.2268, 4.2487, 4.248, 4.2479, 4.2476, 4.2474, 4.2473, 4.2473, 4.2463, 4.2458, 4.2455, 4.2453, 4.2442, 4.2441, 4.2438, 4.2435, 4.243, 4.2429, 4.2428, 4.2421, 4.2418, 4.24, 4.2393, 4.2393, 4.2386, 4.2383, 4.2373, 4.2373, 4.2372, 4.235, 4.2342, 4.2512, 4.2511, 4.251, 4.251, 4.2504, 4.2496, 4.2495, 4.2493, 4.2489, 4.2487, 4.2487, 4.2484, 4.2483, 4.2473, 4.2467, 4.2464, 4.2463, 4.2462, 4.2457, 4.2455, 4.2442, 4.2439, 4.2427, 4.2426, 4.2415, 4.2412, 4.2409, 4.2408, 4.2402, 4.2392, 4.2561, 4.2551, 4.2551, 4.2549, 4.2546, 4.2546, 4.2544, 4.2543, 4.254, 4.2538, 4.2531, 4.2521, 4.2519, 4.2511, 4.2507, 4.2503, 4.2501, 4.2491, 4.2475, 4.2466, 4.2463, 4.2459, 4.2422, 4.2421, 4.2386, 4.2365, 4.2361, 4.2352, 4.234, 4.2323, 0.2158, 4.2709, 4.2708, 4.2703, 4.27, 4.2699, 4.2698, 4.2695, 4.2694, 4.2692, 4.2689, 4.2689, 4.2681, 4.268, 4.2674, 4.2673, 4.2669, 4.2663, 4.266, 4.2658, 4.2655, 4.2654, 4.2651, 4.2647, 4.2646, 4.2643, 4.2621, 4.2619, 4.2618, 4.261, 4.2598, 0.6711, 4.2748, 4.2747, 4.274, 4.2739, 4.2731, 4.2728, 4.2724, 4.2723, 4.2722, 4.2717, 4.2713, 4.2709, 4.2697, 4.2697, 4.2683, 4.2682, 4.2668, 4.2659, 4.2647, 4.2646, 4.2645, 4.2641, 4.2639, 4.2638, 4.2611, 4.2607, 4.2607, 4.2599, 4.2595, 4.2588, 4.2868, 4.2867, 4.2866, 4.2862, 4.286, 4.2859, 4.2857, 4.2857, 4.2855, 4.2846, 4.2842, 4.2836, 4.2827, 4.2823, 4.2815, 4.2812, 4.2798, 4.2792, 4.279, 4.2784, 4.2778, 4.277, 4.277, 4.2765, 4.2761, 4.2753, 4.2727, 4.2716, 4.2686, 4.2639, 0.3568, 4.3024, 4.3017, 4.3016, 4.3007, 4.3005, 4.3003, 4.2998, 4.2997, 4.2992, 4.2988, 4.2987, 4.2983, 4.2981, 4.2971, 4.2971, 4.2969, 4.2965, 4.2956, 4.2947, 4.2941, 4.2939, 4.2937, 4.2934, 4.2934, 4.293, 4.293, 4.2922, 4.2906, 4.2879, 4.2857, 0.452, 4.3035, 4.303, 4.3029, 4.3023, 4.3022, 4.3021, 4.3013, 4.3012, 4.301, 4.2996, 4.2984, 4.2982, 4.2981, 4.2957, 4.2956, 4.2943, 4.2943, 4.2938, 4.2935, 4.2933, 4.2933, 4.293, 4.2921, 4.2916, 4.2905, 4.2905, 4.2893, 4.2874, 4.2849, 4.2832, 4.3052, 4.3052, 4.305, 4.305, 4.3045, 4.3045, 4.3042, 4.3041, 4.3036, 4.3025, 4.3025, 4.302, 4.3018, 4.3015, 4.3011, 4.3008, 4.3004, 4.3001, 4.2999, 4.2996, 4.2987, 4.2984, 4.2981, 4.2981, 4.2976, 4.2976, 4.2958, 4.291, 4.2906, 4.2903, 1.2432, 4.3137, 4.3134, 4.3132, 4.3128, 4.3117, 4.3113, 4.311, 4.3106, 4.3099, 4.3099, 4.3098, 4.3096, 4.3088, 4.3067, 4.3066, 4.3056, 4.3054, 4.3051, 4.305, 4.3048, 4.3044, 4.3043, 4.3042, 4.3029, 4.3012, 4.3009, 4.3005, 4.2992, 4.299, 4.2988, 4.3165, 4.315, 4.3147, 4.3145, 4.314, 4.314, 4.3139, 4.3133, 4.3129, 4.3127, 4.3125, 4.3125, 4.3118, 4.3114, 4.3111, 4.3111, 4.3109, 4.3101, 4.3089, 4.3088, 4.3081, 4.3069, 4.3066, 4.3065, 4.306, 4.3054, 4.3051, 4.3051, 4.3041, 4.3028, 4.3163, 4.3153, 4.3151, 4.315, 4.3148, 4.3146, 4.3144, 4.3141, 4.3138, 4.3135, 4.3133, 4.3129, 4.3126, 4.3119, 4.3118, 4.3103, 4.3103, 4.3098, 4.3097, 4.3094, 4.3093, 4.3089, 4.3086, 4.3072, 4.3069, 4.3067, 4.3052, 4.3039, 4.3035, 4.3034, 0.6898, 4.321, 4.3209, 4.3209, 4.32, 4.3199, 4.3197, 4.3196, 4.3193, 4.3177, 4.3176, 4.3171, 4.3154, 4.3151, 4.3146, 4.3146, 4.3144, 4.3141, 4.3135, 4.3125, 4.3124, 4.3121, 4.3118, 4.3112, 4.3103, 4.3086, 4.3084, 4.308, 4.307, 4.3054, 4.3045, 4.3251, 4.3248, 4.3246, 4.3243, 4.3243, 4.3241, 4.3237, 4.3235, 4.3232, 4.3231, 4.3229, 4.3227, 4.3224, 4.3221, 4.3216, 4.3212, 4.321, 4.3208, 4.3207, 4.3202, 4.3201, 4.32, 4.3192, 4.3185, 4.3185, 4.3175, 4.3169, 4.3168, 4.3167, 4.3166, 4.3309, 4.3305, 4.3302, 4.3296, 4.3295, 4.3292, 4.3288, 4.3285, 4.3282, 4.3269, 4.3265, 4.326, 4.3253, 4.3251, 4.3251, 4.3248, 4.3245, 4.3244, 4.3243, 4.3241, 4.3237, 4.3222, 4.3218, 4.3213, 4.3212, 4.3197, 4.3186, 4.3185, 4.3179, 4.3172, 4.3382, 4.3371, 4.337, 4.3369, 4.3365, 4.3364, 4.3362, 4.3362, 4.3361, 4.3355, 4.3352, 4.335, 4.335, 4.3349, 4.3345, 4.334, 4.3333, 4.3329, 4.3315, 4.3309, 4.3306, 4.3305, 4.3305, 4.33, 4.3296, 4.3293, 4.3274, 4.3271, 4.3269, 4.3256, 1.2434, 4.3509, 4.3498, 4.3494, 4.349, 4.3488, 4.3485, 4.3482, 4.3479, 4.3478, 4.3478, 4.3477, 4.3473, 4.3472, 4.3471, 4.3469, 4.3469, 4.3466, 4.3462, 4.345, 4.3448, 4.3443, 4.3438, 4.3432, 4.3429, 4.3424, 4.3418, 4.3416, 4.3398, 4.3393, 4.3371, 4.3551, 4.3551, 4.3542, 4.3535, 4.353, 4.3525, 4.3522, 4.352, 4.3515, 4.3515, 4.3507, 4.3506, 4.3505, 4.3503, 4.3499, 4.3494, 4.3484, 4.3466, 4.3465, 4.3459, 4.3457, 4.3454, 4.3451, 4.345, 4.3448, 4.3445, 4.3443, 4.3442, 4.3441, 4.3438, 4.3629, 4.3624, 4.362, 4.3618, 4.3611, 4.3609, 4.359, 4.3587, 4.3578, 4.3575, 4.3571, 4.3569, 4.3565, 4.3563, 4.3563, 4.3561, 4.3557, 4.3557, 4.3556, 4.3556, 4.3547, 4.3544, 4.354, 4.354, 4.3532, 4.3521, 4.3521, 4.3504, 4.3482, 4.3476, 4.4008, 4.4001, 4.3993, 4.3992, 4.3987, 4.3986, 4.3983, 4.3982, 4.3982, 4.3976, 4.3971, 4.3969, 4.3968, 4.3967, 4.3962, 4.3954, 4.3953, 4.3951, 4.395, 4.3938, 4.3925, 4.3918, 4.3893, 4.3891, 4.3891, 4.3888, 4.3883, 4.3865, 4.3864, 4.3857, 4.4461, 4.4461, 4.4459, 4.4458, 4.4454, 4.4445, 4.4445, 4.4444, 4.4441, 4.4435, 4.4425, 4.4421, 4.4419, 4.4419, 4.4412, 4.4408, 4.4404, 4.4395, 4.4384, 4.4381, 4.438, 4.4379, 4.4375, 4.4366, 4.4351, 4.435, 4.4343, 4.4337, 4.4336, 4.4325, 4.5094, 4.5089, 4.5086, 4.5085, 4.5084, 4.5082, 4.5077, 4.5072, 4.5071, 4.5069, 4.5068, 4.5068, 4.5068, 4.506, 4.5056, 4.5055, 4.5051, 4.5048, 4.5048, 4.5046, 4.5031, 4.5026, 4.5021, 4.5014, 4.5009, 4.5008, 4.5004, 4.4998, 4.4994, 4.4959]}, \"token.table\": {\"Topic\": [15, 27, 13, 4, 2, 15, 48, 13, 31, 46, 27, 23, 44, 47, 43, 48, 40, 9, 16, 24, 21, 29, 45, 25, 14, 35, 21, 34, 15, 22, 24, 43, 28, 48, 51, 59, 6, 29, 6, 5, 54, 55, 39, 42, 10, 56, 8, 27, 20, 1, 27, 9, 59, 12, 18, 46, 55, 10, 29, 58, 33, 3, 52, 38, 22, 37, 53, 41, 10, 23, 42, 48, 56, 2, 31, 2, 15, 11, 1, 35, 27, 3, 22, 9, 11, 46, 35, 47, 45, 41, 28, 41, 30, 6, 54, 46, 58, 23, 31, 53, 44, 26, 53, 47, 19, 20, 23, 51, 62, 52, 25, 49, 35, 43, 55, 14, 52, 44, 17, 8, 26, 44, 55, 52, 34, 5, 14, 48, 38, 48, 40, 38, 62, 60, 5, 37, 18, 6, 23, 29, 44, 32, 59, 46, 7, 39, 20, 32, 9, 34, 49, 13, 62, 51, 34, 13, 3, 51, 5, 30, 47, 33, 55, 60, 42, 28, 19, 25, 45, 25, 45, 7, 49, 11, 36, 44, 16, 27, 1, 34, 48, 26, 59, 14, 1, 12, 55, 49, 55, 58, 9, 23, 12, 28, 36, 14, 31, 33, 41, 4, 36, 29, 57, 53, 55, 53, 56, 18, 55, 15, 61, 59, 25, 42, 55, 45, 40, 29, 45, 36, 62, 22, 34, 37, 60, 54, 57, 2, 30, 56, 9, 20, 32, 42, 2, 9, 40, 23, 59, 9, 46, 55, 8, 40, 62, 16, 13, 33, 60, 33, 3, 60, 38, 55, 54, 37, 8, 55, 6, 40, 21, 41, 46, 47, 12, 7, 34, 18, 9, 7, 51, 10, 17, 44, 27, 31, 36, 38, 34, 39, 36, 45, 62, 29, 42, 1, 40, 34, 4, 58, 41, 3, 50, 57, 39, 27, 1, 34, 34, 35, 52, 26, 36, 58, 55, 9, 1, 24, 39, 25, 6, 52, 57, 32, 10, 6, 14, 41, 36, 22, 29, 3, 57, 58, 9, 33, 2, 32, 57, 49, 19, 35, 49, 22, 54, 8, 8, 22, 15, 43, 48, 35, 36, 20, 61, 8, 16, 25, 21, 58, 47, 59, 1, 10, 42, 52, 37, 32, 52, 32, 46, 30, 38, 11, 10, 28, 35, 18, 8, 59, 6, 35, 28, 1, 48, 9, 39, 8, 32, 25, 43, 35, 17, 44, 55, 36, 44, 46, 59, 49, 23, 56, 7, 28, 51, 1, 18, 11, 34, 28, 45, 19, 57, 31, 37, 46, 28, 34, 5, 14, 10, 6, 44, 21, 38, 26, 59, 60, 57, 10, 36, 15, 57, 30, 60, 27, 37, 7, 3, 52, 62, 24, 22, 13, 19, 21, 27, 2, 29, 13, 4, 17, 57, 14, 7, 33, 35, 18, 19, 6, 20, 36, 21, 42, 29, 27, 9, 40, 15, 14, 43, 25, 46, 19, 48, 54, 26, 24, 7, 55, 50, 38, 29, 50, 26, 24, 53, 59, 13, 50, 54, 17, 44, 62, 4, 35, 11, 37, 50, 26, 13, 45, 43, 62, 41, 56, 10, 17, 59, 19, 26, 48, 2, 53, 40, 51, 53, 16, 57, 45, 49, 39, 19, 43, 13, 8, 29, 61, 60, 22, 1, 23, 23, 32, 38, 45, 25, 47, 62, 51, 55, 18, 31, 10, 39, 44, 24, 26, 60, 3, 13, 13, 53, 54, 30, 32, 51, 56, 17, 18, 20, 60, 16, 7, 20, 46, 18, 12, 42, 47, 49, 51, 58, 45, 47, 24, 31, 10, 42, 54, 5, 51, 37, 40, 16, 42, 20, 57, 49, 40, 23, 37, 43, 25, 43, 46, 50, 7, 42, 25, 47, 60, 1, 40, 52, 10, 62, 39, 45, 31, 34, 1, 28, 38, 45, 26, 21, 31, 45, 6, 7, 18, 17, 26, 43, 17, 52, 46, 37, 18, 47, 30, 46, 43, 32, 52, 1, 34, 14, 53, 16, 21, 28, 25, 21, 14, 51, 27, 50, 56, 22, 3, 47, 36, 3, 47, 46, 3, 34, 60, 51, 47, 20, 58, 23, 40, 51, 52, 38, 37, 38, 28, 35, 50, 14, 7, 5, 33, 41, 6, 28, 54, 15, 4, 56, 23, 8, 10, 58, 58, 28, 33, 34, 39, 61, 13, 61, 17, 51, 9, 58, 1, 3, 4, 5, 8, 11, 14, 15, 17, 21, 24, 29, 44, 47, 53, 54, 55, 56, 58, 59, 60, 62, 48, 8, 44, 10, 25, 58, 3, 13, 44, 20, 18, 10, 62, 38, 1, 3, 2, 8, 35, 43, 61, 38, 21, 32, 60, 10, 61, 46, 29, 28, 23, 59, 12, 45, 8, 27, 27, 41, 23, 14, 56, 1, 38, 42, 61, 61, 38, 61, 22, 25, 55, 54, 17, 12, 37, 56, 13, 29, 36, 52, 57, 2, 51, 21, 13, 22, 45, 31, 37, 62, 52, 43, 16, 51, 62, 31, 55, 32, 18, 61, 7, 58, 49, 12, 39, 19, 36, 61, 27, 21, 3, 47, 8, 25, 42, 36, 51, 22, 59, 36, 21, 42, 42, 61, 53, 58, 51, 41, 56, 12, 15, 50, 33, 25, 14, 45, 46, 49, 28, 9, 62, 21, 62, 21, 58, 52, 2, 30, 34, 52, 53, 32, 4, 55, 15, 27, 5, 59, 53, 32, 25, 60, 54, 23, 27, 40, 61, 19, 35, 24, 31, 9, 48, 12, 39, 30, 42, 37, 31, 6, 51, 19, 12, 20, 46, 36, 24, 62, 52, 42, 60, 5, 42, 51, 43, 7, 30, 28, 10, 21, 40, 54, 49, 50, 61, 61, 12, 57, 39, 42, 25, 50, 28, 25, 62, 51, 3, 2, 15, 6, 16, 29, 55, 43, 24, 32, 44, 41, 4, 55, 20, 8, 60, 44, 50, 19, 36, 20, 3, 22, 13, 49, 29, 59, 35, 46, 46, 52, 35, 37, 10, 23, 40, 42, 57, 14, 54, 2, 59, 35, 54, 28, 14, 28, 45, 60, 56, 20, 61, 26, 27, 24, 37, 45, 12, 14, 5, 36, 58, 35, 24, 59, 27, 48, 4, 8, 39, 60, 53, 30, 53, 12, 45, 2, 62, 55, 5, 23, 3, 11, 61, 29, 8, 26, 9, 59, 39, 12, 9, 7, 29, 57, 20, 9, 48, 33, 15, 12, 29, 54, 50, 13, 23, 15, 18, 20, 59, 23, 29, 40, 56, 28, 44, 54, 50, 46, 12, 21, 6, 16, 36, 2, 37, 44, 26, 3, 50, 29, 33, 42, 59, 15, 48, 50, 17, 35, 9, 52, 11, 54, 16, 56, 42, 49, 49, 32, 15, 47, 54, 38, 28, 30, 57, 1, 32, 16, 21, 58, 10, 42, 39, 18, 12, 38, 12, 8, 61, 38, 44, 45, 10, 21, 29, 49, 20, 24, 35, 30, 24, 24, 11, 53, 13, 59, 39, 10, 1, 4, 16, 43, 52, 4, 23, 19, 36, 49, 30, 61, 13, 29, 16, 4, 24, 7, 50, 49, 27, 61, 9, 17, 2, 37, 39, 62, 53, 34, 37, 38, 11, 5, 16, 25, 15, 33, 32, 26, 8, 3, 11, 48, 47, 49, 30, 52, 3, 37, 12, 34, 44, 60, 22, 54, 34, 21, 13, 19, 44, 6, 54, 22, 43, 34, 13, 53, 1, 48, 10, 16, 21, 12, 41, 37, 31, 60, 11, 17, 9, 12, 9, 26, 52, 55, 41, 48, 5, 27, 49, 59, 1, 60, 44, 15, 41, 10, 31, 18, 26, 62, 30, 48, 41, 49, 30, 7, 49, 22, 13, 21, 57, 58, 28, 5, 29, 18, 53, 17, 50, 59, 29, 33, 60, 4, 1, 21, 56, 2, 15, 50, 47, 31, 5, 23, 1, 18, 19, 47, 44, 18, 38, 58, 31, 30, 6, 27, 32, 1, 15, 19, 23, 35, 48, 51, 52, 54, 31, 37, 20, 7, 8, 26, 2, 4, 25, 34, 38, 4, 28, 55, 14, 19, 21, 17, 6, 39, 41, 5, 23, 33, 20, 46, 3, 55, 24, 54, 52, 7, 40, 47, 6, 57, 37, 14, 25, 20, 37, 22, 2, 31, 27, 50, 17, 36, 6, 4, 57, 55, 38, 59, 46, 27, 1, 31, 48, 5, 51, 54, 40, 8, 62, 48, 54, 58, 45, 61, 16, 38, 41, 19, 41, 11, 4, 38, 11, 58, 17, 23, 14, 36, 61, 11, 5, 47, 28, 50, 31, 2, 17, 58, 2, 8, 52, 4, 35, 53, 39, 56, 3, 41, 41, 14, 56, 9, 11, 11, 31, 5, 34, 35, 18, 40, 41, 1, 26, 46, 44, 60, 61, 39, 16, 39, 35, 29, 42, 33, 8, 6, 3, 41, 23, 11, 11, 52, 30, 57, 43, 24, 39, 60, 58, 47, 44, 26, 24, 41, 51, 32, 7, 56, 9, 32, 23, 57, 28, 18, 21, 53, 39, 13, 26, 35, 40, 51, 39, 49, 24, 17, 2, 40, 30, 30, 1, 3, 5, 7, 9, 11, 14, 22, 24, 25, 26, 28, 29, 30, 35, 36, 37, 38, 40, 41, 42, 43, 45, 47, 50, 51, 52, 54, 57, 58, 60, 61, 50, 16, 1, 3, 6, 17, 23, 45, 46, 25, 33, 13, 29, 30, 11, 62, 54, 41, 50, 15, 12, 30, 2, 5, 1, 2, 3, 4, 7, 8, 9, 11, 12, 13, 14, 17, 21, 22, 23, 25, 26, 29, 30, 31, 33, 37, 38, 40, 42, 43, 44, 49, 52, 54, 55, 56, 59, 62, 25, 44, 23, 19, 60, 22, 10, 44, 41, 42, 10, 11, 11, 14, 47, 12, 11, 26, 35, 62, 21, 49, 7, 16, 18, 14, 29, 34, 5, 52, 2, 28, 61, 22, 7, 1, 58, 20, 58, 26, 43, 61, 46, 1, 6, 24, 50, 34, 49, 2, 33, 14, 14, 43, 45, 42, 46, 51, 3, 24, 16, 28, 48, 40, 17, 21, 17, 59, 19, 45, 10, 28, 50, 13, 30, 33, 17, 28, 33, 1, 36, 4, 31, 43, 5, 24, 14, 51, 58, 9, 57, 41, 25, 33, 31, 44, 48, 16, 50, 20, 22, 47, 49, 7, 43, 30, 56, 40, 3, 47, 38, 22, 51, 11, 25, 8, 3, 14, 6, 57, 49, 50, 33, 2, 30, 33, 15, 62, 14, 13, 26, 25, 32, 59, 8, 14, 15, 31, 15, 18, 43, 32, 20, 18, 36, 45, 16, 11, 37, 33, 53, 33, 61, 40, 13, 24, 50, 4, 38, 22, 46, 29, 33, 17, 26, 53, 2, 2, 8, 61, 2, 42, 17, 9, 4, 56, 27, 15, 41, 50, 47, 1, 27, 17, 56, 11, 3, 56, 62, 23, 48, 57, 53, 47, 20, 44, 30, 43, 60, 22, 53, 39, 39, 24, 58, 39, 10, 29, 16, 43, 59, 19, 53, 30, 48, 5, 20, 5, 4, 17, 42, 41, 26, 31, 31, 3, 32, 47, 61, 40, 55, 31, 21, 27, 53, 52, 16, 31, 15, 30, 59, 56, 53, 32, 42, 6, 22, 43, 56, 62, 12, 47, 33, 48, 55, 55, 7, 2, 33, 35, 54, 16, 5, 22, 14, 52, 6, 26, 33, 23, 15, 39, 39, 57, 4, 32, 1, 2, 3, 5, 6, 8, 9, 10, 11, 12, 13, 14, 15, 16, 17, 18, 19, 20, 22, 23, 24, 25, 26, 27, 28, 30, 31, 32, 33, 35, 36, 37, 38, 40, 42, 44, 45, 46, 47, 48, 49, 50, 51, 52, 53, 54, 55, 58, 59, 61, 62, 51, 1, 26, 4, 4, 58, 4, 7, 7, 44, 42, 18, 15, 27, 36, 18, 54, 53, 10, 4, 47, 37, 7, 11, 15, 27, 56, 8, 45, 36, 5, 20, 62, 60, 37, 40, 24, 45, 16, 9, 2, 22, 52, 10, 58, 38, 62, 41, 19, 43, 60, 5, 59, 13, 19, 35, 54, 33, 49, 54, 40, 37, 20, 54, 11, 19, 8, 20, 54, 18, 16, 6, 32, 5, 7, 57, 46, 57, 31, 12, 4, 19, 7, 45, 32, 49, 18, 4, 38, 56, 53, 50, 16, 45, 36, 6, 12, 19, 38, 32, 22, 18, 23, 26, 4, 57, 12, 9, 51, 12, 19, 56, 9, 60, 40, 17, 48, 20, 6, 34, 46, 62, 25, 24, 40, 43, 25, 11, 27, 24, 4, 17, 22, 7, 8, 57, 19, 34, 24, 15, 22, 61, 12, 1, 30, 43, 15, 36, 35, 34, 11, 56, 37, 13, 19, 48, 23, 5, 6, 48, 5, 60, 3, 56, 17, 19, 25, 24, 21, 6, 34], \"Freq\": [0.99800129562759, 0.9997034538918667, 0.99332762798592, 0.986983817986554, 0.9811982765634367, 0.9992790924950454, 0.9833677048764656, 0.9883250164347126, 0.9965332518842465, 0.9842123075372041, 0.99597247438371, 0.9928031634575623, 0.9931302313311674, 0.9924925317043696, 0.9913366539187268, 0.9885319763795202, 0.9973357157222323, 0.9804479836497217, 0.9869090156920337, 0.9985573526118788, 0.9833931015224325, 0.9973982001581243, 0.9875982465868963, 0.9794565266190819, 0.9878039124359126, 0.9973793628738524, 0.9979593583439088, 0.9978625806159945, 0.9787541757874699, 0.9899921913687402, 0.9862081132525613, 0.9841564387796432, 0.9926471971924558, 0.9896253356744527, 0.9995095984278819, 0.998607017135009, 0.9968414080536526, 0.9933238426307095, 0.9947211085987411, 0.9899301900418145, 0.9915959281973712, 0.9917410121542567, 0.9966316614856525, 0.996020908134353, 0.9872857182332105, 0.99618260351935, 0.9918448600913584, 0.9956699775690616, 0.9902886906748737, 0.9937705162199184, 0.996791809691687, 0.9885502904450527, 0.988244107387276, 0.9969488466904749, 0.9944805675199742, 0.9987696613161043, 0.9952033875641331, 0.9886562919419442, 0.9920985561723122, 0.994295446560339, 0.9868902303751842, 0.996262099263616, 0.9967000982084632, 0.9979365683178947, 0.982588613461379, 0.9890064100589983, 0.9903187684775439, 0.9989446553753791, 0.9845441396953654, 0.9995988039435482, 0.9944408836773313, 0.995713980249774, 0.9979865089952413, 0.9919667702160911, 0.9913465236905267, 0.9832300943805282, 0.9941125743299979, 0.9904612974705281, 0.9989941248372406, 0.9970038706767456, 0.9946689199771717, 0.9881880297888492, 0.989790959960223, 0.9847801466741709, 0.9899354172282039, 0.9871101300165845, 0.9957117126552325, 0.999317508052178, 0.9973354128130675, 0.9951524392838856, 0.9864858507140486, 0.9920273827117012, 0.9895624822119359, 0.999683207634038, 0.9980924354811189, 0.9991853251442636, 0.9952951343865216, 0.9974027383299344, 0.0016458791061550074, 0.9833253064962647, 0.9938133802507727, 0.9959939704504883, 0.9993259037701765, 0.9940797943807138, 0.9925373324776938, 0.9913673939883944, 0.9922156293932813, 0.9879476587078584, 0.9986888472279117, 0.9889312703177447, 0.9829211718027031, 0.9948095005805558, 0.9826669808613832, 0.997431997514694, 0.9930102423103065, 0.9924872379501912, 0.9953551324311116, 0.993850126055429, 0.9980978080372598, 0.9942269695044745, 0.9971448175628582, 0.9913527540861271, 0.9901976867433574, 0.9931649672088996, 0.9854442756033035, 0.9883307909524411, 0.9934646079066656, 0.9976821672206205, 0.9896497743220807, 0.9914515485319699, 0.9957499074698347, 0.9926715513073325, 0.9978457226920292, 0.9875567240931615, 0.9866077549471296, 0.9827890875399204, 0.9975656758849779, 0.996883276196099, 0.9919890923527306, 0.995552475120535, 0.9941675434732108, 0.9943968138107847, 0.9900231728933445, 0.997174197750688, 0.9984811339760461, 0.9928580960151252, 0.9955652832427953, 0.9973990934858757, 0.9889978082061704, 0.9824915418888955, 0.981323163144399, 0.9949594083468591, 0.9916622276347591, 0.9902839115407194, 0.9934114799818285, 0.9811703752263331, 0.9905906552205614, 0.9929239540982835, 0.9978701349784591, 0.9911262882745018, 0.9953775673709698, 0.9880237896854842, 0.992839130918587, 0.9906065021923761, 0.9984531383227486, 0.9978502235829989, 0.990496379501198, 0.9857229378040968, 0.9964362758166673, 0.989166082515475, 0.991798326643961, 0.9957132051129115, 0.9948471767341807, 0.9968083527199334, 0.9924692434638316, 0.9978728519806058, 0.9975493679411372, 0.9932431122146264, 0.997912984324119, 0.9849476925613149, 0.9965264729267471, 0.991825558538402, 0.9949687670760848, 0.9948730323371773, 0.9988423515029073, 0.9909155530499707, 0.9920592806230389, 0.9972016302379134, 0.9987678131317275, 0.9920010849436914, 0.985341552135182, 0.9896677607335826, 0.997530640668908, 0.9964449662398371, 0.9956468803930759, 0.9869899218157251, 0.9852090319526008, 0.9934806709565057, 0.9895934678414536, 0.994852461224146, 0.9815769669430183, 0.9943746599380255, 0.9882415851876603, 0.9978330414900644, 0.9902287059441014, 0.9943172277709128, 0.9894476500864082, 0.9976517147365299, 0.9839350772520025, 0.9907508516854358, 0.9867188398436866, 0.9946885129339114, 0.9978195232949966, 0.9973564354828326, 0.9940481758946569, 0.9857993255746607, 0.9770708473050951, 0.9878817136077178, 0.9881930176604462, 0.9968015926064265, 0.9906079793488388, 0.9882267830828908, 0.9834268156831133, 0.9960286302229531, 0.9961871431245313, 0.9930612746872286, 0.9964510685545878, 0.9666568852556896, 0.9971635202903911, 0.9968231335899692, 0.9977169249899729, 0.9959751532173533, 0.9986846445037459, 0.99256785694997, 0.9689984977855783, 0.9933443366967448, 0.9857431123625252, 0.9937523068914954, 0.9948108808834946, 0.9935548478185966, 0.9980022571518774, 0.9970371402265329, 0.9971607803569399, 0.9919307176666269, 0.9957584825361617, 0.9938507710393989, 0.9769424831213193, 0.9931109889026779, 0.9820970984059991, 0.9924489601709181, 0.9631448627327882, 0.9967587718839184, 0.9910295999919732, 0.9984694229154726, 0.9963694663613482, 0.9972762256014672, 0.9878952909454198, 0.9876330132021851, 0.9938496765692859, 0.9806628043931253, 0.9905952185029746, 0.9967215555929885, 0.9904268076056267, 0.9974957560605441, 0.9965634332801603, 0.9974170119323884, 0.9973730236753313, 0.9944979968383068, 0.9997303410663801, 0.9961332116466629, 0.9975331392789294, 0.9956373004943404, 0.9887779257821965, 0.9968195972821726, 0.9913727299871261, 0.9941146281872615, 0.9935131385933595, 0.9862259060280378, 0.9838404025980604, 0.9887519298768023, 0.992762712059458, 0.9955770379802696, 0.9959999479985835, 0.9888008207144535, 0.9914640342726858, 0.9975026680509804, 0.9904162055176473, 0.9976648434242191, 0.9954102267202399, 0.9980685506853951, 0.9995800102261203, 0.9896586921324637, 0.9900526351917209, 0.9978478671065278, 0.9933074269807944, 0.9883039934182015, 0.9913432323355824, 0.9937657247790486, 0.9900091754014365, 0.9965203907317939, 0.9971402302069854, 0.9992218416902112, 0.9981510922543932, 0.9894126510077724, 0.9979335338645337, 0.9949847511939129, 0.997074912711038, 0.9929162322528886, 0.9935181001844064, 0.9945399476471033, 0.9928271919217823, 0.9978475274347701, 0.9969247651995864, 0.992570301393629, 0.9818257179986991, 0.9891407609131028, 0.9849133098375851, 0.9873977936971503, 0.997521599269483, 0.9946550799017677, 0.9898147888063069, 0.9825167841482699, 0.9910914738521251, 0.9926037143616019, 0.9857180605001615, 0.9895905807390507, 0.992253301528083, 0.9949197393111779, 0.9851133759518665, 0.9928961232425095, 0.998139154267511, 0.9899230868107103, 0.9808477117024422, 0.9914071308211996, 0.9880625386022429, 0.9871264327229146, 0.9947765815299632, 0.9929172088883368, 0.9987576036665178, 0.9896229257022037, 0.991867663574885, 0.9784319845035069, 0.9939565851856536, 0.9974874377404241, 0.9851621128980717, 0.9932373505609023, 0.9898155287031188, 0.9922618419573693, 0.9991947545035779, 0.995199558006234, 0.9953485935871283, 0.9926465938732543, 0.9942165469017249, 0.9997946467491209, 0.9990865058662832, 0.9944213639061118, 0.9834883925888094, 0.9977750303489632, 0.992360593207322, 0.9984405045250769, 0.9823139222343291, 0.9941467126737815, 0.9984001150654175, 0.9949515078479364, 0.9994116889425914, 0.9905549684825796, 0.9972623917118235, 0.9881211337259327, 0.9956843069287515, 0.9994353804182486, 0.9945583987251501, 0.9938480481934945, 0.9911387762537769, 0.9963345036279732, 0.9947507946184164, 0.9946316617294284, 0.9943947563581521, 0.9883250198476656, 0.9918835608119438, 0.9989150691114664, 0.9933072856848887, 0.9934977601126391, 0.9969513857650673, 0.9913849730979142, 0.9921339866237717, 0.9880378807309796, 0.9984235016370611, 0.9921506099280989, 0.9929241302763941, 0.9972929004212547, 0.9931150061851647, 0.9953208794545795, 0.9987934484414595, 0.9862251785371334, 0.9951623939125307, 0.9927907085458578, 0.9990586930764914, 0.993553252668366, 0.980229770768901, 0.9938921362030931, 0.9830124648667795, 0.9965079321060849, 0.9933461052431085, 0.9887071347661145, 0.9985741458379268, 0.9987160753816905, 0.9887800182439863, 0.9920413831432043, 0.9965658476859097, 0.9924649226769482, 0.9953823765221202, 0.9900583217963645, 0.9872704751757205, 0.9987286802776421, 0.9921423586848921, 0.9974525549866051, 0.9923162090955671, 0.9925854238123053, 0.9943772071488205, 0.9843817929482722, 0.9953274884955796, 0.9983561303046464, 0.9903723232233368, 0.9873131274915976, 0.9942267040436923, 0.9986591478707206, 0.9847200999080761, 0.9927107788942997, 0.9753725704151492, 0.9926903231878836, 0.9916738760210267, 0.9994328893725744, 0.9887238081575714, 0.9931901704761108, 0.9959836913332331, 0.979529459395174, 0.9958934164687588, 0.9906734957351313, 0.9989647827401925, 0.9875480205811035, 0.9896824771644133, 0.9932626588210776, 0.9898150479219731, 0.9924400151245593, 0.9994873835905398, 0.9991020402345414, 0.9939616013809597, 0.9942173517082841, 0.9891375973928411, 0.9986193787671069, 0.9872639159567657, 0.9943746452119967, 0.9769128262348485, 0.9959012178202116, 0.9927674777787995, 0.9989969799318195, 0.9963861688276089, 0.9993939145514689, 0.9903082794250843, 0.9970237742949605, 0.9889186297340317, 0.9881942348398002, 0.9938964888023512, 0.996107222553907, 0.9907754678809226, 0.003870216671409854, 0.9978317188438686, 0.9987004950212032, 0.9990613690371228, 0.9894681849116379, 0.9964200613537916, 0.9910718678285578, 0.9985353078373418, 0.9881896083828315, 0.9928869008056157, 0.9941601760558009, 0.9952206443689074, 0.9925400425994519, 0.9923368863309395, 0.9930407955990622, 0.9973682157635412, 0.9933345834547449, 0.9966005292201674, 0.9915211956753498, 0.9868495635965502, 0.982421229728935, 0.9931569752896721, 0.9863518928108287, 0.9878954165825686, 0.9969067667266112, 0.9919099626178455, 0.989696911787512, 0.9952678095258267, 0.993440917751199, 0.9869697126924235, 0.98594993984559, 0.9813521835183334, 0.9934910183877892, 0.992068539157448, 0.9971903704033288, 0.9854543525023922, 0.995213112872977, 0.9707538689617765, 0.9781151007568752, 0.9956810503238491, 0.9940776904601384, 0.9939900669464823, 0.9770138654389148, 0.9964806515107806, 0.9954808894447764, 0.9959389179863473, 0.9846695704011842, 0.9937702880317926, 0.998255181276128, 0.9824372267283927, 0.9921194239515652, 0.9987260905332062, 0.9938979202388337, 0.9979069132795276, 0.9978202092655472, 0.997018945850342, 0.9953906332779582, 0.0011600882527560065, 0.9965158091174096, 0.9959080197498886, 0.9944118721320692, 0.9968439949444439, 0.9907236758253181, 0.9921050171532755, 0.9966201806739828, 0.990582905552692, 0.9937572677028543, 0.9852014002111525, 0.9957017353196996, 0.9936495122639771, 0.9968663410791135, 0.9960042100146428, 0.9987744425483571, 0.9993398858240798, 0.9742342829622387, 0.9960155754828472, 0.9966630517403838, 0.9981157639241286, 0.9926467592354477, 0.9960946771300571, 0.9907787440588449, 0.9919858700767212, 0.9975173833878941, 0.9914103081090953, 0.9995018547952731, 0.998367608971347, 0.9902441148049926, 0.9954526181664106, 0.9901989998539893, 0.9900865397225292, 0.9927496281933521, 0.9969303024421228, 0.994661408272985, 0.995823676637547, 0.9924049467562281, 0.9983941041268926, 0.9887835312158272, 0.9922067833505662, 0.9888451073276292, 0.9782948421333094, 0.9926546785715432, 0.9867931173876747, 0.9980536155104041, 0.9915985808499787, 0.9932685724014971, 0.9872647222549333, 0.9957370099305383, 0.9968985335055126, 0.9809815231731859, 0.9961254242226665, 0.9942644986042334, 0.995382946102564, 0.9945129460538588, 0.996641962588578, 0.9876979697628304, 0.9913994697320909, 0.9859868884283448, 0.9978037762003257, 0.993827444982659, 0.9983022659644026, 0.9973197714367162, 0.9953505974638741, 0.992376022259072, 0.9965815806070492, 0.9952726929936984, 0.9922310817375628, 0.9970960235710952, 0.9974055369969443, 0.9982247320924444, 0.9983623265456405, 0.9961699816219327, 0.9970968594376164, 0.9969565453323807, 0.9885766932310498, 0.9971362401173521, 0.9993402128318314, 0.9975184636072728, 0.9859572541850592, 0.9893789888088066, 0.9978547003941413, 0.9987001400168444, 0.9866423890607277, 0.9942186685624589, 0.9941999198401045, 0.9954107734788915, 0.9909882287142139, 0.9987667640571016, 0.9889434228217616, 0.9982731106365579, 0.9890295469509472, 0.9915210492048855, 0.9954097428141637, 0.9910628778530749, 0.9932396098571564, 0.9990840041371872, 0.9969038299134901, 0.9968083429663555, 0.989491500405432, 0.9838642224989897, 0.9862528985347214, 0.9907381645327483, 0.9987956544743489, 0.9834772044424696, 0.9816309844618346, 0.9929273674351791, 0.9902847919572518, 0.9936307688207157, 0.9972780731917775, 0.9964695650830373, 0.9876694831117614, 0.9934933472958852, 0.988712546254103, 0.9978444121214987, 0.9972959958315104, 0.996991878136911, 0.9876413879400439, 0.9622226191018873, 0.9980887880270376, 0.9825241190495951, 0.9986971165481745, 0.9906859386167163, 0.9945366451339681, 0.9933991220469236, 0.9879280300271317, 0.9970288152192003, 0.9962980336437763, 0.9951894725394673, 0.9954558237244776, 0.9927047118702833, 0.9961338037416406, 0.9926562784678786, 0.9960830554109343, 0.9972257169479978, 0.9897899750689626, 0.9991123288001177, 0.9974185428333953, 0.9979689036712214, 0.9908827087058991, 0.9973853546925853, 0.9948525813210004, 0.9959097941221164, 0.9997401160000321, 0.9912483211688243, 0.9938128057943947, 0.9992615184077045, 0.9991790120039175, 0.9930063410783381, 0.9867936086960779, 0.9982981890640981, 0.9875881058592045, 0.9953005835976445, 0.9968131855697958, 0.990302146123476, 0.995150383754691, 0.9870962433898709, 0.9843072673327242, 0.9962683578969268, 0.9796627183247208, 0.9970407500186382, 0.9896971060082534, 0.9939629360552364, 0.9901322330350228, 0.9987760385436901, 0.9949843179130309, 0.9871614569894844, 0.9992122600007468, 8.02483226737723e-05, 0.9929124964425846, 8.02483226737723e-05, 8.02483226737723e-05, 0.004333409424383704, 8.02483226737723e-05, 8.02483226737723e-05, 8.02483226737723e-05, 8.02483226737723e-05, 8.02483226737723e-05, 0.0004012416133688615, 8.02483226737723e-05, 0.0002407449680213169, 8.02483226737723e-05, 8.02483226737723e-05, 8.02483226737723e-05, 8.02483226737723e-05, 0.0001604966453475446, 8.02483226737723e-05, 0.0004012416133688615, 0.0001604966453475446, 8.02483226737723e-05, 0.9990544012152826, 0.9965401113578057, 0.9963527615740954, 0.9989887542535876, 0.0004414444340493096, 0.9872132558110109, 0.9875857254447765, 0.9880577927381246, 0.9963459628451042, 0.9958527178106497, 0.9884841199404465, 0.9817236952829229, 0.9954607714869275, 0.9918882068257859, 0.9976097173148504, 0.9993956459141418, 0.9755826918353883, 0.9853529130862249, 0.9976905445171192, 0.9969818457118406, 0.9888713659655125, 0.9952162740538076, 0.9991537120419492, 0.9884243593287068, 0.9980183893218378, 0.9853147348603851, 0.9981683567091045, 0.9986507975405937, 0.990438246034251, 0.9943704188234207, 0.9851855735320502, 0.9918344377711201, 0.9925766045376868, 0.9894397131442648, 0.9916959970252638, 0.9963560630207161, 0.9879861556300276, 0.9905820824101998, 0.9962928646123597, 0.9936525126520147, 0.986165083498827, 0.9986144407452553, 0.9988696691760142, 0.9979371596323872, 0.9977423051923863, 0.9903235254772818, 0.998739854094869, 0.993256444851621, 0.9847245203515829, 0.9902258009963922, 0.9958868887669724, 0.9980756003585615, 0.9860812278399426, 0.9994929586866443, 0.9987015638664444, 0.9912779125972394, 0.9960798592544658, 0.9919482762643271, 0.9981366240442336, 0.9906097316831117, 0.9918741457819645, 0.9864595586280688, 0.9964152321954468, 0.9976846024477217, 0.9799889990715928, 0.9954579236795064, 0.9921837309387991, 0.9937127902488577, 0.9923032740978016, 0.9977092176544214, 0.9938206355461245, 0.9948849243119345, 0.994785422255649, 0.9966824734923564, 0.992008603566343, 0.9920584312089432, 0.995099240519016, 0.9918942325150907, 0.996755997759193, 0.9829219856907192, 0.9905099566469356, 0.9912408045717945, 0.9923374237967981, 0.9903462766027664, 0.9956521672640524, 0.9944797732396014, 0.9877637934241194, 0.9843083340901585, 0.9958643804933952, 0.991281060336069, 0.9988063736549515, 0.9916718460676285, 0.9973805432492544, 0.9907168117129536, 0.9962752338807236, 0.9915961735548439, 0.997843240083322, 0.9925566964528916, 0.9847180958398538, 0.9836061647048245, 0.9876696824831517, 0.991628366398197, 0.9883450366018763, 0.997199064834033, 0.9979910968566054, 0.9915484570480207, 0.9925795305356686, 0.9885058644256535, 0.9941644726445936, 0.9928813234355841, 0.9880413876079112, 0.9888098510342438, 0.9862152271573319, 0.9948307146220159, 0.9898992848042666, 0.9858368468269305, 0.9984943024220317, 0.9864292542967948, 0.995834455418996, 0.9945707813501464, 0.994559246793834, 0.995954220808791, 0.9970812948425251, 0.9965346632284893, 0.9896342178261848, 0.9891539536463275, 0.9875670412032647, 0.997802247270622, 0.9826177032594073, 0.9955932278054058, 0.9936471031148955, 0.9993270865097557, 0.9893289270723029, 0.99730678651002, 0.9924630402348712, 0.9946317805037912, 0.986378741008695, 0.9972090225214033, 0.9891119017579714, 0.9892080403012997, 0.9814935752038775, 0.9880457992923233, 0.9966013291232833, 0.9968779009127143, 0.9955098467469724, 0.990075789619266, 0.9936520201815028, 0.9971166455376711, 0.9889469389989892, 0.9937032999215191, 0.9937314638794417, 0.984393173127569, 0.983492675608495, 0.9958375911146506, 0.9944366680938166, 0.9971984365780625, 0.9897156360829723, 0.9886611856320682, 0.995678172409704, 0.9969908507736077, 0.9865158585951557, 0.9956475567415806, 0.9896300559592064, 0.9968778228256111, 0.9916036571840355, 0.9811030454252662, 0.9944020892530374, 0.985820282833762, 0.9976035749193387, 0.9903650102042257, 0.9972537483976908, 0.9954595300373527, 0.9977700986360585, 0.9874727268102994, 0.9731609878596301, 0.9928735251866372, 0.997511011603425, 0.9880280143223992, 0.9857800574157867, 0.9950528026326184, 0.9895523447467365, 0.9959853450823948, 0.9980839001610262, 0.9903492661520565, 0.9970359158013148, 0.994483234579535, 0.9863790271919068, 0.9963701170407304, 0.9963972717552035, 0.9907333196346373, 0.9978277874410265, 0.9925498749343734, 0.9949216670640213, 0.9927185211865056, 0.9939478548830256, 0.9915342204316192, 0.9839978883143881, 0.9776184075741228, 0.9915958726900607, 0.9990741857760341, 0.988557862961855, 0.9939524546229638, 0.989632276969718, 0.9941187845153012, 0.9941670408653795, 0.9891336928351898, 0.9954495573681847, 0.9986091295350179, 0.988409635441243, 0.9892704545996843, 0.9960412623471354, 0.9980359222204402, 0.9963927836129632, 0.992004022245968, 0.9903287386396337, 0.9964538238221299, 0.9956293487983943, 0.995947852816805, 0.9860387628838585, 0.9944819393211436, 0.9971793499516848, 0.9926721238156753, 0.9955865610068614, 0.9913361001668204, 0.9928930625510247, 0.9798011627200787, 0.9949233174421327, 0.9967592877906144, 0.9872381573282166, 0.9994008429767961, 0.9802246691730605, 0.9930690155373004, 0.9865378002088263, 0.9963251810729474, 0.9892693595831387, 0.9937961968608898, 0.9969208242620435, 0.98357654897548, 0.9928888444592119, 0.9969578282577093, 0.9879199697187402, 0.9981505035948507, 0.9858819637349092, 0.9878897642609734, 0.998621776913483, 0.9960613375518553, 0.9865629081326035, 0.997584156658533, 0.9870511994994199, 0.9920892728248635, 0.9979809548342116, 0.9828604698976614, 0.9950372558437133, 0.9907844923191306, 0.9929518167662104, 0.9860012947780036, 0.996085141547492, 0.9962129639573103, 0.9952568121386058, 0.9906124784568672, 0.9946582909456967, 0.9919794593542733, 0.9926338997693218, 0.9941813871844737, 0.9990681225394946, 0.9973904441505429, 0.9976450377614021, 0.995767572840737, 0.990830839046616, 0.9951627148787534, 0.9917330332998994, 0.994071412085437, 0.9973938245443768, 0.9783073619090494, 0.9967805256531752, 0.9974379068024152, 0.9954202276247894, 0.9914744665236351, 0.9972291015464184, 0.9903843248821127, 0.9886130398265854, 0.9987225105008811, 0.9954544513577839, 0.9939803306484569, 0.9991885470429119, 0.9921951216191178, 0.999676756974949, 0.9846966518740222, 0.9881248660315939, 0.994164448713299, 0.999467781737543, 0.9910637142486036, 0.9882630353767922, 0.9920980806769489, 0.97474761052989, 0.9900257698234286, 0.9808058036751985, 0.9967942582830418, 0.9936411760409767, 0.9941345760776888, 0.9960562120203964, 0.9910763127264155, 0.9967207885512779, 0.9984677636102035, 0.9950949789286206, 0.9898355132456351, 0.9879947160314494, 0.9982251903245996, 0.9966772735389245, 0.9966426981107904, 0.9955412407578468, 0.9920196839274514, 0.998258363997683, 0.997759518799489, 0.9851240786394942, 0.9957400898587793, 0.993225143541053, 0.9906270930196409, 0.9916849941130784, 0.9963426291279422, 0.987294221974337, 0.9868395133708027, 0.9952147380135432, 0.9937744769798857, 0.9987565777434185, 0.9971559428343503, 0.9988828388801517, 0.9904230292887485, 0.9903078591269965, 0.989899204632825, 0.9967520662986444, 0.997262967870243, 0.9822583413438488, 0.99868751814366, 0.9815245551925716, 0.9852535391811059, 0.9895476840281793, 0.9978515507121493, 0.9955240539417971, 0.9952779214380524, 0.9927931074545786, 0.9891528889476149, 0.9946655286739133, 0.9931232266789589, 0.9928494198279169, 0.9924521754101624, 0.9987142537097436, 0.9927340768501541, 0.9970618068588015, 0.9891882554716411, 0.9944491062732583, 0.9900297244964501, 0.9978598716321412, 0.98739748565527, 0.988261136967355, 0.9933886167827174, 0.9981671695793577, 0.9924203067684672, 0.9983224266689139, 0.0004697987890206654, 0.9955803487006294, 0.9965307604815561, 0.9959473930409517, 0.9963454111247814, 0.9938048530851743, 0.9912892255025197, 0.9953334305812358, 0.992483852107642, 0.991771401148732, 0.9992894578795575, 0.9964495262581969, 0.9894201612589335, 0.9925315998839945, 0.9948284472637754, 0.9926068273907468, 0.9924160944248132, 0.9815827364163731, 0.9935623497705253, 0.9982537444332611, 0.9985247996730464, 0.9974646846278065, 0.9861713063413654, 0.9767910503331491, 0.9928679159680149, 0.9943087702908958, 0.9803128483759067, 0.9992037584336371, 0.9933495446478923, 0.9967985082441627, 0.9820036185604057, 0.9846425413839631, 0.9884222588339119, 0.9977283094473787, 0.9971269784223015, 0.9889646133008788, 0.9897807291425829, 0.9984632743033504, 0.9984826750767739, 0.9997124115628736, 0.9990223967597449, 0.985859702164167, 0.029446484816361692, 0.9686343689592662, 0.9987087253186285, 0.996301992369902, 0.9973298089384858, 0.9955905816969147, 0.9961406255757179, 0.9966382559910397, 0.9895172193677876, 0.9701740056912912, 0.9975635853778602, 0.9944009939257437, 0.9968381665137682, 0.9980187178478936, 0.9985229727284352, 0.9787050861198212, 0.9927267769839689, 0.9953821258532457, 0.9962523910270914, 0.9996165452437552, 0.9950854554098387, 0.9958703506865751, 0.9910457168710372, 0.9938734988410768, 0.9905847625462639, 0.9984856004990531, 0.9995715396043787, 0.9976080859805054, 0.9980298303676509, 0.9908947648314725, 0.9936609549901946, 0.9903925285208933, 0.9897840089586796, 0.9920533102190269, 0.98099331797704, 0.9887878294841609, 0.9817510154054483, 0.997962786926934, 0.9912636883353274, 0.9951111511880489, 0.993223348771588, 0.9886275440696133, 0.9893274628217963, 0.994598551860108, 0.997923629997108, 0.9978433531144675, 0.9958663092867481, 0.9966192946675088, 0.9918159459102446, 0.9882125060454158, 0.9958279482772492, 0.9970948137996553, 0.9875453059820851, 0.9945828048140486, 0.9979893043150245, 0.9917934153870853, 0.9915876829529358, 0.9924222968375092, 0.9913764654417291, 0.9884704988931039, 0.9986590111503626, 0.9965368238948946, 0.9913642160525926, 0.9934957644962006, 0.9927651633283896, 0.988691517492808, 0.9856607918458391, 0.9950258314413928, 0.9973299223012623, 0.9977770765111752, 0.9957985733222264, 0.9936743402422736, 0.9936082555688341, 0.994987434175287, 0.9940954201371873, 0.990522742809549, 0.9865240903700453, 0.9966549563902336, 0.9900317221492673, 0.9918287700463125, 0.9847139943409262, 0.9960997426918816, 0.9888744066430053, 0.989792581768029, 0.9957514475855314, 0.9985382191756558, 0.9925071361083841, 0.9926233480940236, 0.9895479618500481, 0.9975851113345647, 0.9956048437994586, 0.998017337084843, 0.9932341957422165, 0.9983477254578581, 0.9993874475685286, 0.999171763525645, 0.9962383068288531, 0.995355295913541, 0.9940628348954443, 0.9924912990765653, 0.9959313179997856, 0.9944658850621495, 0.9968845515781249, 0.9991235013582059, 0.9922834679627333, 0.9947221302806991, 0.9979150397921621, 0.9984833973026643, 0.985147968542072, 0.9949133887272077, 0.9972096966897295, 0.9958503976466925, 0.9848580672138924, 0.9866854614823103, 0.9926670211028434, 0.9927828482474195, 0.9876251281119895, 0.9979610226254774, 0.9925713555652926, 0.993737226264535, 0.9989099900472483, 0.9926089082641165, 0.997396251525087, 0.9959902690978787, 0.9987821216336465, 0.9985525304095495, 0.9937431910579974, 0.9917333483042065, 0.9844442672545197, 0.9855108302799388, 0.9903562957902393, 0.993569968023676, 0.9911278611216411, 0.9989629773344013, 0.0007658190345755526, 0.0007658190345755526, 0.0007658190345755526, 0.0015316380691511053, 0.9902040117061895, 0.0007658190345755526, 0.0007658190345755526, 0.0007658190345755526, 0.0007658190345755526, 0.9964180432045664, 0.9869700905265545, 0.9990836928754703, 0.996577288148072, 0.9968236064113022, 0.9857359862630928, 0.9864373406210809, 0.9950610006266469, 0.982740696062329, 0.9965063979007366, 0.9988264508980466, 0.9987924154883722, 0.9985381760062226, 0.9938923570458148, 0.9890140831715135, 0.9957671313319466, 0.9930865144828139, 0.9993686816525923, 0.9884914604188849, 0.9878528582769516, 0.994378025204322, 0.9937404088404208, 0.9982677600588606, 0.9971936927643036, 0.9994869714047248, 0.9879624571375398, 0.9812352536163933, 0.991940372541812, 0.996682684881905, 0.9950576166427497, 0.9973493755339878, 0.9984621045863926, 0.9900238416110214, 0.996789597446059, 0.9935779259040397, 0.9970387488006855, 0.9991643728659325, 0.9897852794663891, 0.9942298528291874, 0.9900768638784997, 0.9792648697375185, 0.9869754680983758, 0.9665479715645059, 0.9954784732819524, 0.9904051891541296, 0.9894191661474832, 0.9877876172809708, 0.9822361370288538, 0.9931079777251293, 0.9939925628074648, 0.9912409851603822, 0.9913486810845786, 0.9884318142404905, 0.9944170789955682, 0.9984202213538561, 0.9870208125171833, 0.9983196491845299, 0.9981528863395105, 0.9982895105873785, 0.9881147867731913, 0.9902860631278959, 0.9932003693219197, 0.9985711295664808, 0.9935573813341316, 0.9946302376424582, 0.9880795891307667, 0.9925197861688035, 0.9943291451726795, 0.9989378231263271, 0.9964856661456744, 0.9978533764958878, 0.995832859096538, 0.9952389210286499, 0.9962541074270016, 0.992272163143344, 0.9973964554530056, 0.9995111602300341, 0.9915728622168524, 0.9975402503002649, 0.9986712050077211, 0.9941005901210972, 0.9924048661464665, 0.9908593034850226, 0.9807213326593435, 0.9936421609083588, 0.993186703773698, 0.9910729764153405, 0.9914735310737065, 0.9897513940855382, 0.9879954313653391, 0.9980466747000478, 0.9888399404491859, 0.9971344773054298, 0.98570555754341, 0.9939694502362451, 0.9962213956842996, 0.991346536736613, 0.9996281548825501, 0.9995445974355542, 0.9978873815711131, 0.9969013299645156, 0.9905857992963217, 0.9848965442448617, 0.9953808343484459, 0.9919058272764859, 0.9992691837966942, 0.9959295964106241, 0.9938824054954706, 0.9978243037672803, 0.9980289627619952, 0.9994450236732023, 0.9874719732061696, 0.9854431959632842, 0.982430507746391, 0.9890417948172585, 0.9987731249341625, 0.9964480978005366, 0.997379612978641, 0.9916846780607798, 0.9817036756537478, 0.9849355618066987, 0.983434146984756, 0.9981386962614077, 0.9924461655066197, 0.9989668821213533, 0.9939394722029888, 0.9825658813146095, 0.9878123793500686, 0.9869141882709754, 0.9977040981549009, 0.9964909295944828, 0.995235547552606, 0.9972290243291098, 0.9968234192294297, 0.9914861178652334, 0.9990889916474761, 0.9974368719257712, 0.9981358263365452, 0.9927888712654331, 0.9827510071488771, 0.998211768054651, 0.9968074273376721, 0.9900159333790379, 0.9942001186072722, 0.9974556720524649, 0.9974147784293355, 0.9986907547542485, 0.9935519541059402, 0.9982643956597492, 0.9861022018427099, 0.9899481823410796, 0.9945620653978262, 0.9937997292973934, 0.9977057803483458, 0.9996025149625211, 0.9880768823988155, 0.9950944694165941, 0.9972297156790957, 0.9983418337584345, 0.986814074749372, 0.9871164788458958, 0.993883666852936, 0.9926325570556455, 0.9881179511260686, 0.9899820834398793, 0.995011272228436, 0.9944669767165386, 0.9982301033205141, 0.9862567305701629, 0.9983915918673772, 0.9887078627962314, 0.9988002637842526, 0.990261267900741, 0.9946437161436877, 0.9967328960217339, 0.9927694724556813, 0.00512176572704643, 0.0002276340323131747, 0.9642577608786079, 0.0002276340323131747, 0.0007967191130961115, 0.0006829020969395241, 0.00011381701615658735, 0.003983595565480557, 0.001593438226192223, 0.0002276340323131747, 0.0009105361292526988, 0.0002276340323131747, 0.0002276340323131747, 0.0023901573392883344, 0.0007967191130961115, 0.00011381701615658735, 0.0010243531454092862, 0.00011381701615658735, 0.0007967191130961115, 0.00773955709864794, 0.0009105361292526988, 0.0002276340323131747, 0.0006829020969395241, 0.0002276340323131747, 0.00034145104846976205, 0.0002276340323131747, 0.0010243531454092862, 0.002959242420071271, 0.00011381701615658735, 0.0004552680646263494, 0.00034145104846976205, 0.0007967191130961115, 0.9971927846584503, 0.9985181152127732, 0.9985488506991627, 0.00016576176140424347, 0.00016576176140424347, 0.00016576176140424347, 0.00016576176140424347, 0.00033152352280848695, 0.00016576176140424347, 0.9995960934188794, 0.9890505493486762, 0.9996878622344755, 0.9907754370142453, 0.9976529751051108, 0.9971338933181841, 0.9949240193122437, 0.9969043752108872, 0.9910302591457614, 0.9899526840227789, 0.9975508434085638, 0.9972930913768421, 0.9987094099009622, 0.9913066668352408, 0.9952870875668034, 0.05613030533294121, 0.034814999510305304, 0.011723418202449746, 0.04120959125709608, 0.02096005072559197, 0.03321635157360761, 0.023269208856377527, 0.02646650472977291, 0.05222249926545796, 0.14743086527323165, 0.015986479366976926, 0.034282116864739406, 0.0358807648014371, 0.015275969172889063, 0.018650892594806415, 0.038189922932222654, 0.019006147691850345, 0.006749846843834702, 0.00852612232905436, 0.04334112183935967, 0.03552550970439317, 0.027177014923860775, 0.03552550970439317, 0.009591887620186156, 0.00515119890713701, 0.01758512730367462, 0.02735464247238274, 0.04671604526127702, 0.014210203881757267, 0.012966811042103506, 0.010480025362795985, 0.04529502487310129, 0.011901045750971713, 0.01722987220663069, 0.996723199796182, 0.9951069823236481, 0.9986323625299827, 0.9968967937966333, 0.9988286823053943, 0.9994924693300453, 0.9989705202735025, 0.9964995754075912, 0.9978787105930692, 0.9931993600875472, 0.998688225678348, 0.9978659139817652, 0.996573034650586, 0.9991981639087871, 0.9945009263020939, 0.9955091059693224, 0.9974891583089595, 0.9942881795662293, 0.9939866781404844, 0.997456830962784, 0.9938999730180824, 0.9960424547489664, 0.9983313726124114, 0.9926871339401838, 0.9950189983479354, 0.9821954968796432, 0.9961699829235678, 0.9748303645409722, 0.9980347790543513, 0.9905633814495056, 0.9896188236394456, 0.997139319426079, 0.9934028635503992, 0.9858694121728286, 0.9900863067920336, 0.995116025030869, 0.9909663588077442, 0.9963632451491488, 0.9967060623690278, 0.9935733844585178, 0.9857180913325819, 0.9907510570197381, 0.9910098179046849, 0.999624148165791, 0.9992901819712825, 0.9966919748808432, 0.9995441146715957, 0.9978977833505897, 0.9964538346091878, 0.007604361480435378, 0.9917136247933309, 0.9804902874718023, 0.9913605735094438, 0.9987712033268282, 0.9962995918382568, 0.9955052126078194, 0.9971316266350801, 0.9959913432370273, 0.9731989987058325, 0.9978510697931843, 0.9880443049979768, 0.9991638488294196, 0.999055654933301, 0.9990395915794918, 0.9954367582536265, 0.9957049936743353, 0.9994969069714916, 0.9895089420141806, 0.9980907700099031, 0.9972245544715077, 0.9892077773772516, 0.9968978421437072, 0.9987072007346991, 0.9866170732067631, 0.9978130592205814, 0.9953403983387742, 0.9971138822493731, 0.9993494133764527, 0.9913429755573121, 0.9993169408084768, 0.9997471662617908, 0.999252125767942, 0.9911724093350889, 0.9996565091793665, 0.9925545310471934, 0.992188923912929, 0.9997881546081242, 0.9881516156182566, 0.9993644942687636, 0.9963925002342724, 0.9993698510160081, 0.999011847829642, 0.9930869353687234, 0.9943217936299914, 0.9979928385206359, 0.9919732640837524, 0.9861036853943494, 0.9779976035299962, 0.9905106853261222, 0.9970937613711022, 0.9896688535717872, 0.9927010399704397, 0.991063798642396, 0.9888765808071914, 0.9822884217472783, 0.997660432719921, 0.9972556154787282, 0.9944851237007755, 0.9837568429452961, 0.9989738756193239, 0.998339063938249, 0.9989817606792809, 0.9972411637057896, 0.999454612161448, 0.999493031623376, 0.9970153351701985, 0.9983589734586064, 0.9965581273448574, 0.9987204161465314, 0.9956706528966855, 0.9988716359704961, 0.993014341913549, 0.9957787711223182, 0.9991165298159145, 0.9991053309399279, 0.9977006412823873, 0.9902084535499585, 0.9924937618142358, 0.9869121033746528, 0.9935663443398624, 0.9899051708404297, 0.9969363778029625, 0.9993738338750708, 0.9931066400809414, 0.9873777374240797, 0.9969791243005179, 0.9822258318274957, 0.9889916505813959, 0.9931154899743007, 0.9978388178639463, 0.9940664536193853, 0.9978178445598933, 0.9981752104525128, 0.9970002247579887, 0.9889812081306135, 0.9993925391474328, 0.9956923937572669, 0.9965928908812502, 0.9952485546249166, 0.9899090994386325, 0.9991195680707393, 0.9867806332602763, 0.9890625169807405, 0.9927033787523076, 0.9990181911613686, 0.9988493306363563, 0.990185073513374, 0.9909413591716216, 0.994108010412729, 0.9965308932535994, 0.9984614161539233, 0.99540402464538, 0.9887202354207832, 0.9925874623110005, 0.9940266461301984, 0.9923224042913656, 0.9999405040930845, 0.9857665296412798, 0.9958695062831737, 0.9959156829804281, 0.99475422807467, 0.9990474281192975, 0.994197136137601, 0.9907488511534847, 0.9985609057543647, 0.9946210781744083, 0.9892015420221573, 0.9794865682743081, 0.9845113283243925, 0.9881342660908491, 0.9965426222933861, 0.9975080112900254, 0.9955466104045457, 0.9985744705979489, 0.9943530059551294, 0.9914081154167206, 0.9882175467686926, 0.9936883004699658, 0.9897334358578348, 0.9976968795805053, 0.9922453421735395, 0.9963953426187873, 0.9932577273660442, 0.9897338426222912, 0.9912695250089785, 0.9970198761745818, 0.9913463318814936, 0.9982609272540832, 0.9854134752455102, 0.9916150089711653, 0.9929606316361764, 0.9954985764741531, 0.9969184591070741, 0.9947431649593668, 0.9887133266968862, 0.9891996230905746, 0.9952634727001809, 0.9941541558846616, 0.9985680121076015, 0.9786893548966865, 0.9988524469109712, 0.9938878221251501, 0.9831564307100803, 0.9988959015035288, 0.9863105853930457, 0.9943038987735416, 0.9930826802836406, 0.9940484852045207, 0.9866807985786684, 0.9955804174600167, 0.9960450012505558, 0.998705309097634, 0.9956259707884919, 0.9990215049557138, 0.9989410809543912, 0.9883509572807438, 0.9922814780374521, 0.9928516310033645, 0.9839213495301056, 0.9858613429153879, 0.9847377487305237, 0.9936945188609655, 0.9970061980353842, 0.9934860147351976, 0.9902737108534153, 0.9843122173712301, 0.991960107359534, 0.9981908980827596, 0.9941262689680211, 0.9903751756922775, 0.989683294861312, 0.9973271467028358, 0.993525994349909, 0.9921417841592123, 0.9984925237580989, 0.9931555169968277, 0.9824086878585874, 0.990522693562763, 0.9894443626704793, 0.985675037458788, 0.9970369427482032, 0.989187064696916, 0.993133884449579, 0.9869126702028912, 0.9980707577284577, 0.999370599301644, 0.9939234277928198, 0.9824710034417732, 0.998872520697199, 0.9900556456157479, 0.997142520905395, 0.9986672449840226, 0.9846025633985573, 0.9872832431098423, 0.9955761493646788, 0.9900045034715922, 0.9906551487158274, 0.9949614649715091, 0.998598036239633, 0.9951890809325629, 0.9972360459542852, 0.9869081068797774, 0.9850668097886556, 0.9946635138660995, 0.9965463771580918, 0.9989684197637989, 0.07306643953359857, 0.0017777722514257558, 0.01937771754054074, 0.022399930367964525, 0.03466655890280224, 0.00604442565484757, 0.02417770261939028, 0.007822197906273327, 0.02044438089139619, 0.16302171545574182, 0.0063999801051327215, 0.008177752356558477, 0.029866573823952698, 0.06026647932333312, 0.004266653403421814, 0.02453325706967543, 0.03271100942623391, 0.011022187958839686, 0.008711084031986204, 0.023466593718819977, 0.00444443062856439, 0.0035555445028515116, 0.044266529060501325, 0.0040888761782792386, 0.016711059163402105, 0.004977762303992116, 0.026844360996528913, 0.002133326701710907, 0.022399930367964525, 0.02577769764567346, 0.011199965183982263, 0.007288866230845599, 0.020799935341681345, 0.0031999900525663608, 0.01208885130969514, 0.0031999900525663608, 0.002133326701710907, 0.019555494765683315, 0.02133326701710907, 0.007822197906273327, 0.018311054189685285, 0.008355529581701052, 0.016355504713116954, 0.026666583771386337, 0.007644420681130751, 0.02382214816910513, 0.00924441570741393, 0.01208885130969514, 0.018666608639970435, 0.0001777772251425756, 0.012977737435408018, 0.9901388747923158, 0.9943204318777101, 0.9970167649235121, 0.9939413528852635, 0.9926990465357863, 0.996372798633904, 0.9949253548645213, 0.9984420922084188, 0.9993947161447113, 0.996164982312066, 0.9911525297946003, 0.9975365161817009, 0.9969056616697822, 0.9965659370769294, 0.9927741203073495, 0.9871444225886156, 0.9915861174267964, 0.9947530172979021, 0.9980517836028786, 0.998354428169011, 0.9944379769839924, 0.9873427668042972, 0.9989534781378244, 0.9967727916604776, 0.9935188868985053, 0.9919845917231094, 0.991215719043652, 0.9993023042847654, 0.9876608674095837, 0.9947186609467029, 0.9969147042286824, 0.9960084367237693, 0.9977071342165519, 0.9921028704966554, 0.9931327996776227, 0.9909917012602368, 0.9853760453289301, 0.9869589947515705, 0.9991601061045334, 0.9867544975527807, 0.977389090500941, 0.9922520549155585, 0.9994370659338331, 0.9903745259725092, 0.985449339997583, 0.9939047426893693, 0.9952059833948309, 0.9898827494578931, 0.9973450684060796, 0.9958415311458507, 0.9920485741224994, 0.9819906854407637, 0.9914022212433695, 0.9953763274366975, 0.9961242587085789, 0.9919857701637692, 0.9922924546356535, 0.9956645719011624, 0.9989712758328881, 0.9984759776897848, 0.9944869358845672, 0.9990262872876476, 0.996760175268259, 0.9947403395685643, 0.998495555021142, 0.9992391287094602, 0.9890142248518082, 0.9968362434985043, 0.9949867677491906, 0.9930380882566207, 0.9946308485732482, 0.9994747921135668, 0.9929865156898706, 0.9883304409224443, 0.9949174901732433, 0.9984924381017263, 0.9909639213084046, 0.9970088265307644, 0.9969463643393476, 0.9907717252213695, 0.9994567472740732, 0.9993994000753773, 0.9893854129189117, 0.9971397492753308, 0.9988429970443644, 0.993071994114794, 0.9897016019407703, 0.9945558550032144, 0.9989630123506457, 0.9931148966329004, 0.9879544191938477, 0.9972724151728884, 0.9972897923598766, 0.9914171868943817, 0.9961146083375186, 0.9930841502837539, 0.9996961019826708, 0.9988503189766442, 0.9912683495334892, 0.9882817916688881, 0.9908838962275948, 0.9959973336748232, 0.9956362428043075, 0.9963115653227662, 0.9992281473586981, 0.9887333885095174, 0.9984314888374073, 0.9922752144158522, 0.9979040430554131, 0.9894280869874553, 0.9902266783790967, 0.9991679632874424, 0.9988304672197301, 0.9971448819685006, 0.9845758928129827, 0.9942795895214519, 0.9876134052369702, 0.9989651822123073, 0.9960075990738531, 0.9912847073671271, 0.9942867881417715, 0.9968755028327171, 0.9960387245088841, 0.9961445692948021, 0.9988722702289735, 0.9983635795830965, 0.9986949111751326, 0.993648163541211, 0.9963668475787745, 0.9955680648193841, 0.9961903871121496, 0.997922116800966, 0.9993225993130062, 0.9968473572936064, 0.9998813586237033, 0.9955907105246233, 0.9983697913838392, 0.9955474305373571, 0.9861427879880134, 0.9954395403688625, 0.9975399765399925, 0.993369088355067, 0.9995494959718204, 0.9959027769540331, 0.9987325488496896, 0.9951535149237599, 0.9997330465512421, 0.9844913177002532, 0.9996009871441888, 0.9997412627465398, 0.9993810193144609, 0.9982891518272017, 0.9966679789770363, 0.9882643810628053, 0.9955089914378795, 0.9993079795154137, 0.9919363760301922, 0.9930930209229825, 0.9980631548063442, 0.9975071075528499, 0.9994005804489665, 0.9966097867115059, 0.9992892427354473, 0.9909606316190144, 0.9982955009779261, 0.9946497860837571, 0.9948586913146733, 0.997169147519384, 0.999560377447603, 0.9925111106544473, 0.9941403136429954], \"Term\": [\"'\", \"-\", \".\", \"4th\", \"90\", \"A\", \"ABC\", \"Abuse\", \"Academy\", \"Access\", \"Act\", \"Action\", \"Ad\", \"Adam\", \"Adele\", \"Adorable\", \"Ads\", \"Adult\", \"Adults\", \"Advice\", \"Afghanistan\", \"Age\", \"Agency\", \"Agent\", \"Aguilera\", \"Air\", \"Airlines\", \"Airport\", \"Alabama\", \"Alaska\", \"Album\", \"Alice\", \"Alternative\", \"Amazon\", \"America\", \"American\", \"Americans\", \"Amy\", \"An\", \"Ancient\", \"Anderson\", \"Andy\", \"Angeles\", \"Animal\", \"Animals\", \"Aniston\", \"Anne\", \"Anniversary\", \"Annual\", \"Anthony\", \"Anti\", \"Anxiety\", \"Apartment\", \"App\", \"Appearance\", \"Apple\", \"Ashley\", \"Asia\", \"Athletes\", \"Atlanta\", \"Atlantic\", \"Attack\", \"Australia\", \"Autism\", \"Auto\", \"Avengers\", \"Award\", \"Awards\", \"BBQ\", \"Baby\", \"Bachelor\", \"Bacon\", \"Bad\", \"Bag\", \"Bags\", \"Ball\", \"Ban\", \"Band\", \"Bank\", \"Banks\", \"Bar\", \"Barack\", \"Barbara\", \"Barbie\", \"Bathroom\", \"Batman\", \"Battle\", \"Beauty\", \"Beckham\", \"Bed\", \"Bedtime\", \"Ben\", \"Berry\", \"Best\", \"Better\", \"Big\", \"Biggest\", \"Bill\", \"Bill\", \"Billboard\", \"Birth\", \"Birthday\", \"Black\", \"Blake\", \"Blood\", \"Board\", \"Bob\", \"Bomb\", \"Book\", \"Boot\", \"Boss\", \"Boston\", \"Bottom\", \"Box\", \"Boy\", \"Boys\", \"Brad\", \"Brady\", \"Brain\", \"Break\", \"Breakfast\", \"Breakup\", \"Brian\", \"British\", \"Broadway\", \"Broken\", \"Brooklyn\", \"Brown\", \"Bruce\", \"Bryant\", \"Budget\", \"Bus\", \"Business\", \"CDC\", \"CEO\", \"CNN\", \"Cake\", \"California\", \"Call\", \"Campaign\", \"Canada\", \"Cannes\", \"Captain\", \"Card\", \"Care\", \"Career\", \"Carolina\", \"Carpet\", \"Carrie\", \"Cars\", \"Carter\", \"Case\", \"Cash\", \"Cast\", \"Cat\", \"Cate\", \"Celebrates\", \"Celebration\", \"Celebrity\", \"Cell\", \"Center\", \"Central\", \"Century\", \"Ceremony\", \"Challenge\", \"Change\", \"Charles\", \"Charlie\", \"Chef\", \"Chelsea\", \"Chemical\", \"Chic\", \"Chicago\", \"Chicken\", \"Chief\", \"Child\", \"China\", \"Chinese\", \"Choice\", \"Chopra\", \"Chris\", \"Christian\", \"Christie\", \"Christina\", \"Christmas\", \"Christopher\", \"Church\", \"Cities\", \"City\", \"Claims\", \"Claire\", \"Clarkson\", \"Class\", \"Climate\", \"Clinton\", \"Clip\", \"Close\", \"Club\", \"Co\", \"Coach\", \"Coal\", \"Coast\", \"Coat\", \"Coffee\", \"Cohen\", \"Colbert\", \"Cole\", \"College\", \"Combat\", \"Comeback\", \"Comedian\", \"Comedy\", \"Common\", \"Community\", \"Company\", \"Competition\", \"Conan\", \"Conference\", \"Congress\", \"Control\", \"Controversial\", \"Controversy\", \"Convention\", \"Cooking\", \"Cool\", \"Cooper\", \"Cost\", \"Council\", \"Country\", \"Couple\", \"Couples\", \"Court\", \"Cover\", \"Coverage\", \"Cox\", \"Craigslist\", \"Crash\", \"Crawford\", \"Crazy\", \"Cream\", \"Credit\", \"Crisis\", \"Cruise\", \"Cuba\", \"Culture\", \"Cup\", \"Current\", \"Custody\", \"Cut\", \"Cute\", \"Cynthia\", \"Cyrus\", \"DJ\", \"Dad\", \"Dads\", \"Daily\", \"Dakota\", \"Dan\", \"Dance\", \"Dangerous\", \"Daniel\", \"Dark\", \"Data\", \"Date\", \"Dating\", \"Daughter\", \"David\", \"Davis\", \"Day\", \"De\", \"Dead\", \"Deal\", \"Dear\", \"Death\", \"Debate\", \"Debut\", \"Defense\", \"Dennis\", \"Denver\", \"Department\", \"Derby\", \"Dessert\", \"Destinations\", \"Details\", \"Development\", \"Diamond\", \"Diaz\", \"Dinner\", \"Director\", \"Disney\", \"Divorce\", \"Doctor\", \"Documentary\", \"Dog\", \"Dogs\", \"Dollar\", \"Donald\", \"Door\", \"Double\", \"Down\", \"Dr.\", \"Dress\", \"Drug\", \"Drunk\", \"Earth\", \"Eating\", \"Economic\", \"Editor\", \"Education\", \"Egg\", \"Election\", \"Elizabeth\", \"Elle\", \"Ellen\", \"Embarrassing\", \"Emotional\", \"End\", \"Ending\", \"Engagement\", \"Enough\", \"Environment\", \"Environmental\", \"Epic\", \"Episode\", \"Eric\", \"Estate\", \"Europe\", \"European\", \"Ever\", \"Everyday\", \"Ex\", \"Exchange\", \"Exclusive\", \"Executive\", \"Experts\", \"Extreme\", \"Eye\", \"Eyes\", \"Facebook\", \"Faces\", \"Facial\", \"Factor\", \"Fail\", \"Fair\", \"Fairy\", \"Fallon\", \"Falls\", \"Families\", \"Family\", \"Famous\", \"Fan\", \"Fans\", \"Farm\", \"Fashion\", \"Father\", \"Federal\", \"Female\", \"Festival\", \"Fight\", \"Film\", \"Films\", \"Final\", \"Financial\", \"Fire\", \"First\", \"Fix\", \"Flight\", \"Floor\", \"Florida\", \"Food\", \"Football\", \"Force\", \"Ford\", \"Fourth\", \"Fox\", \"France\", \"Francisco\", \"Frank\", \"Fraud\", \"Free\", \"French\", \"Fresh\", \"Friday\", \"Friend\", \"Friends\", \"Frozen\", \"Fun\", \"Fund\", \"Funniest\", \"Future\", \"GOP\", \"Gala\", \"Game\", \"Gap\", \"Gas\", \"Gates\", \"Gay\", \"Gender\", \"General\", \"Generation\", \"Genius\", \"George\", \"Georgia\", \"Germany\", \"Gift\", \"Girl\", \"Girlfriend\", \"Glass\", \"Global\", \"God\", \"Gold\", \"Golden\", \"Gomez\", \"Good\", \"Goodbye\", \"Google\", \"Government\", \"Gown\", \"Grace\", \"Graham\", \"Grand\", \"Great\", \"Greater\", \"Greatest\", \"Greek\", \"Green\", \"Greg\", \"Grey\", \"Griffin\", \"Group\", \"Guest\", \"Guide\", \"Gulf\", \"Gun\", \"Guy\", \"Gwen\", \"Gwyneth\", \"HIV\", \"Hair\", \"Half\", \"Hard\", \"Harry\", \"Hawaii\", \"Head\", \"Health\", \"Heart\", \"Heat\", \"Heels\", \"Hell\", \"High\", \"Highlights\", \"Hillary\", \"Hip\", \"Historic\", \"Hit\", \"Holiday\", \"Hollywood\", \"Home\", \"Homeless\", \"Homes\", \"Honor\", \"Hook\", \"Hope\", \"Hospital\", \"Host\", \"Host\", \"Hot\", \"Hotel\", \"House\", \"Housing\", \"Houston\", \"Howard\", \"HuffPost\", \"Huge\", \"Husband\", \"Ice\", \"Idea\", \"Idol\", \"Impact\", \"Importance\", \"In\", \"Income\", \"India\", \"Indian\", \"Indiana\", \"Indie\", \"Industry\", \"Infinity\", \"Inside\", \"Inspired\", \"Instagram\", \"Interior\", \"International\", \"Interview\", \"Investigation\", \"Iowa\", \"Iran\", \"Ireland\", \"Iron\", \"Island\", \"Israel\", \"Issue\", \"Issues\", \"Italian\", \"Italy\", \"Jack\", \"Jackson\", \"Jam\", \"James\", \"Japan\", \"Jay\", \"Jeff\", \"Jenner\", \"Jennifer\", \"Jerry\", \"Jersey\", \"Jessica\", \"Jim\", \"Jimmy\", \"Job\", \"Jobs\", \"Joe\", \"John\", \"John\", \"Johnson\", \"Jon\", \"Jones\", \"Jordan\", \"Josh\", \"Joy\", \"Jr.\", \"Judge\", \"Julia\", \"June\", \"Justice\", \"Justin\", \"Kanye\", \"Kardashian\", \"Kate\", \"Kathy\", \"Katie\", \"Katy\", \"Kelly\", \"Kentucky\", \"Kerr\", \"Kevin\", \"Key\", \"Kid\", \"Kidney\", \"Kids\", \"Kim\", \"Kimmel\", \"King\", \"Kiss\", \"Korea\", \"Kris\", \"Kristen\", \"LA\", \"Labor\", \"Ladies\", \"Lady\", \"Lance\", \"Lands\", \"Lane\", \"Larry\", \"Las\", \"Last\", \"Late\", \"Latest\", \"Launch\", \"Laura\", \"Lauren\", \"Law\", \"Laws\", \"Lawsuit\", \"Lawyer\", \"Least\", \"Lee\", \"Legacy\", \"Legal\", \"Legend\", \"Lena\", \"Less\", \"Lesson\", \"Lessons\", \"Letter\", \"Line\", \"Linked\", \"List\", \"Live\", \"Lively\", \"Living\", \"Loan\", \"London\", \"Long\", \"Look\", \"Lopez\", \"Los\", \"Lot\", \"Louis\", \"Love\", \"Low\", \"MTV\", \"Macy\", \"Madonna\", \"Magazine\", \"Magical\", \"Maher\", \"Major\", \"Makeover\", \"Male\", \"Man\", \"Manhattan\", \"March\", \"Marie\", \"Marijuana\", \"Mark\", \"Marketing\", \"Marks\", \"Marriage\", \"Martin\", \"Mary\", \"Mass\", \"Massachusetts\", \"Math\", \"Matt\", \"May\", \"Mayor\", \"McCarthy\", \"McDonald\", \"Mean\", \"Meat\", \"Media\", \"Medical\", \"Meeting\", \"Melissa\", \"Member\", \"Men\", \"Mental\", \"Met\", \"Mexican\", \"Meyers\", \"Michael\", \"Michele\", \"Michelle\", \"Michigan\", \"Middle\", \"Mike\", \"Miles\", \"Miley\", \"Military\", \"Miller\", \"Mini\", \"Minutes\", \"Miranda\", \"Mirror\", \"Miss\", \"Mitt\", \"Mob\", \"Mom\", \"Moment\", \"Moms\", \"Monday\", \"Month\", \"Moon\", \"Moore\", \"More\", \"Morgan\", \"Morning\", \"Most\", \"Mother\", \"Mountain\", \"Movement\", \"Movie\", \"Multiple\", \"Museum\", \"Music\", \"Mystery\", \"NASA\", \"NBA\", \"NBC\", \"NFL\", \"NY\", \"NYC\", \"Naked\", \"Names\", \"Natalie\", \"National\", \"Near\", \"Negative\", \"Network\", \"New\", \"New\", \"New\", \"New\", \"New\", \"New\", \"New\", \"New\", \"New\", \"New\", \"New\", \"New\", \"New\", \"New\", \"New\", \"New\", \"New\", \"New\", \"New\", \"New\", \"New\", \"New\", \"News\", \"Next\", \"Nicole\", \"Night\", \"Night\", \"Nightmare\", \"No\", \"Noah\", \"Non\", \"North\", \"Northern\", \"Nuclear\", \"Nude\", \"Number\", \"Numbers\", \"Obama\", \"Ocean\", \"Odd\", \"Off\", \"Office\", \"Officer\", \"Ohio\", \"Old\", \"Oliver\", \"Olympic\", \"On\", \"Online\", \"Open\", \"Opening\", \"Oprah\", \"Organization\", \"Orleans\", \"Over\", \"Owners\", \"Pain\", \"Paltrow\", \"Panel\", \"Panic\", \"Pants\", \"Paper\", \"Parenthood\", \"Parents\", \"Paris\", \"Park\", \"Part\", \"Partner\", \"Party\", \"Past\", \"Pat\", \"Path\", \"Patrick\", \"Paul\", \"Peace\", \"People\", \"Perfect\", \"Performance\", \"Perry\", \"Person\", \"Personal\", \"Peru\", \"Pet\", \"Peter\", \"Phone\", \"Photo\", \"Photographer\", \"Photos\", \"Picks\", \"Picture\", \"Pilot\", \"Pink\", \"Pitt\", \"Place\", \"Plan\", \"Plane\", \"Planet\", \"Plastic\", \"Players\", \"Point\", \"Police\", \"Policy\", \"Political\", \"Poll\", \"Poor\", \"Pop\", \"Popular\", \"Porn\", \"Portland\", \"Portman\", \"Positive\", \"Possible\", \"Post\", \"Pot\", \"Power\", \"Practice\", \"Pregnant\", \"Prescription\", \"President\", \"Presidential\", \"Press\", \"Prices\", \"Pride\", \"Primary\", \"Prime\", \"Prince\", \"Princess\", \"Prison\", \"Private\", \"Pro\", \"Problem\", \"Professional\", \"Professor\", \"Program\", \"Progress\", \"Project\", \"Prom\", \"Proof\", \"Proposal\", \"Protest\", \"Public\", \"Queen\", \"Question\", \"Quiz\", \"Race\", \"Rachel\", \"Rainbow\", \"Rap\", \"Rare\", \"Real\", \"Recall\", \"Record\", \"Records\", \"Red\", \"Reform\", \"Relationship\", \"Release\", \"Relief\", \"Remote\", \"Report\", \"Reports\", \"Republic\", \"Republicans\", \"Requests\", \"Research\", \"Resort\", \"Restaurant\", \"Retro\", \"Return\", \"Review\", \"Reviews\", \"Rich\", \"Richard\", \"Rid\", \"Ridiculous\", \"Right\", \"Rights\", \"Rihanna\", \"Rio\", \"Rising\", \"Risk\", \"Road\", \"Rob\", \"Robert\", \"Robin\", \"Rock\", \"Rocks\", \"Roger\", \"Role\", \"Rolling\", \"Romney\", \"Ron\", \"Room\", \"Rose\", \"Round\", \"Route\", \"Rover\", \"Roy\", \"Royal\", \"Rule\", \"Rules\", \"Russell\", \"Russia\", \"Ryan\", \"SNL\", \"Safe\", \"Safety\", \"Sale\", \"Samantha\", \"Same\", \"San\", \"Sanders\", \"Sandy\", \"Santa\", \"Sarah\", \"Saturday\", \"Saving\", \"Scandal\", \"Scare\", \"Scene\", \"Scenes\", \"School\", \"Schools\", \"Scott\", \"Scout\", \"Screen\", \"Sea\", \"Seal\", \"Search\", \"Season\", \"Seat\", \"Seattle\", \"Second\", \"Secret\", \"Security\", \"Selena\", \"September\", \"Series\", \"Service\", \"Set\", \"Seth\", \"Settlement\", \"Sex\", \"Sexual\", \"Sexy\", \"Share\", \"Shares\", \"Shell\", \"Shooting\", \"Shop\", \"Shot\", \"Show\", \"Showdown\", \"Shower\", \"Sick\", \"Side\", \"Singapore\", \"Singer\", \"Single\", \"Site\", \"Size\", \"Smith\", \"Soccer\", \"Social\", \"Solar\", \"Solo\", \"Son\", \"Song\", \"Songs\", \"South\", \"Southern\", \"Southwest\", \"Space\", \"Sparks\", \"Special\", \"Species\", \"Speech\", \"Spice\", \"Spirit\", \"Split\", \"Sports\", \"Spot\", \"Spots\", \"Spray\", \"Square\", \"Staff\", \"Star\", \"Stars\", \"State\", \"States\", \"Status\", \"Step\", \"Stephen\", \"Steve\", \"Stewart\", \"Stock\", \"Stone\", \"Store\", \"Stories\", \"Storm\", \"Story\", \"Straight\", \"Strategy\", \"Street\", \"Student\", \"Students\", \"Study\", \"Stunning\", \"Style\", \"Sue\", \"Suicide\", \"Suit\", \"Super\", \"Support\", \"Supreme\", \"Surprise\", \"Surprises\", \"Survival\", \"Suspect\", \"Sweet\", \"Swift\", \"System\", \"Table\", \"Tale\", \"Talk\", \"Talks\", \"Target\", \"Tattoo\", \"Tattoos\", \"Tax\", \"Taylor\", \"Team\", \"Tech\", \"Technology\", \"Teen\", \"Test\", \"Tests\", \"Texas\", \"Theft\", \"Themed\", \"Therapy\", \"Third\", \"Threat\", \"Tiger\", \"Tim\", \"Timberlake\", \"Time\", \"Times\", \"Tips\", \"To\", \"Today\", \"Toddler\", \"Tom\", \"Too\", \"Tool\", \"Top\", \"Toronto\", \"Total\", \"Tough\", \"Tour\", \"Town\", \"Track\", \"Trade\", \"Trailer\", \"Train\", \"Training\", \"Transformation\", \"Transgender\", \"Travel\", \"Trayvon\", \"Treatment\", \"Tree\", \"Tribute\", \"Tricks\", \"Trip\", \"Trump\", \"Tweet\", \"Tweets\", \"Twitter\", \"Tyler\", \"U.S.\", \"U.S.\", \"UK\", \"UPDATED\", \"US\", \"Ultimate\", \"Union\", \"Unique\", \"United\", \"University\", \"Urban\", \"Us\", \"Use\", \"Users\", \"Van\", \"Vanessa\", \"Vanity\", \"Vegas\", \"Veteran\", \"Victim\", \"Victoria\", \"Video\", \"Videos\", \"Vietnam\", \"Violence\", \"Viral\", \"Voice\", \"Vote\", \"Wall\", \"Walmart\", \"War\", \"Warner\", \"Warren\", \"Wars\", \"Washington\", \"Water\", \"Wave\", \"Way\", \"Ways\", \"Wedding\", \"Week\", \"Weekend\", \"Weird\", \"West\", \"West\", \"White\", \"Whitney\", \"Wife\", \"Wild\", \"William\", \"Williams\", \"Wilson\", \"Win\", \"Wine\", \"Winner\", \"Winter\", \"Woman\", \"Women\", \"Won\", \"Word\", \"Workers\", \"Working\", \"World\", \"Worst\", \"Worth\", \"Worthy\", \"Writer\", \"X\", \"Year\", \"York\", \"YouTube\", \"Young\", \"Youth\", \"Z\", \"Zone\", \"Zuckerberg\", \"a\", \"ability\", \"about\", \"abroad\", \"accord\", \"account\", \"accuse\", \"achieve\", \"act\", \"action\", \"actress\", \"actually\", \"ad\", \"add\", \"addiction\", \"admit\", \"adopt\", \"adorable\", \"affect\", \"afford\", \"african\", \"again\", \"ago\", \"agree\", \"ahead\", \"aim\", \"airline\", \"all\", \"allegedly\", \"allow\", \"alone\", \"already\", \"also\", \"alternative\", \"always\", \"american\", \"animal\", \"anniversary\", \"announce\", \"announcement\", \"answer\", \"anti\", \"anyway\", \"apparently\", \"appear\", \"apply\", \"approve\", \"argue\", \"arrest\", \"arrive\", \"artist\", \"as\", \"ask\", \"attempt\", \"attend\", \"australian\", \"avoid\", \"award\", \"away\", \"awkward\", \"baby\", \"back\", \"bad\", \"ban\", \"bar\", \"base\", \"battle\", \"be\", \"bear\", \"beat\", \"become\", \"beginning\", \"believe\", \"benefit\", \"big\", \"bill\", \"birth\", \"birthday\", \"bit\", \"bite\", \"bizarre\", \"black\", \"blame\", \"block\", \"blood\", \"blow\", \"blue\", \"body\", \"boom\", \"boost\", \"boy\", \"break\", \"bring\", \"british\", \"brother\", \"bug\", \"bullying\", \"burn\", \"business\", \"busy\", \"buy\", \"call\", \"call\", \"call\", \"call\", \"call\", \"call\", \"call\", \"call\", \"call\", \"campaign\", \"cancel\", \"cancer\", \"car\", \"care\", \"career\", \"carry\", \"case\", \"cast\", \"catch\", \"cause\", \"celebrate\", \"celebrity\", \"ceo\", \"ceremony\", \"challenge\", \"chance\", \"change\", \"chapter\", \"character\", \"charge\", \"cheap\", \"cheat\", \"check\", \"child\", \"chinese\", \"chip\", \"choice\", \"choose\", \"city\", \"claim\", \"clean\", \"clear\", \"close\", \"co\", \"color\", \"come\", \"commit\", \"company\", \"compete\", \"complain\", \"completely\", \"concern\", \"confession\", \"confuse\", \"connect\", \"connection\", \"conservative\", \"consider\", \"continue\", \"control\", \"controversial\", \"controversy\", \"cook\", \"cost\", \"count\", \"country\", \"couple\", \"cover\", \"crack\", \"crash\", \"crazy\", \"create\", \"creative\", \"credit\", \"critic\", \"crush\", \"cry\", \"cut\", \"cute\", \"dad\", \"dance\", \"dangerous\", \"date\", \"dating\", \"daughter\", \"day\", \"dead\", \"deal\", \"death\", \"debate\", \"decide\", \"decision\", \"declare\", \"defend\", \"deliver\", \"demand\", \"deny\", \"deserve\", \"diagnose\", \"die\", \"difference\", \"different\", \"dinner\", \"discover\", \"discuss\", \"ditch\", \"divorce\", \"do\", \"doctor\", \"dog\", \"donate\", \"donation\", \"double\", \"down\", \"dress\", \"drive\", \"drop\", \"drug\", \"easy\", \"eat\", \"effective\", \"else\", \"email\", \"emotional\", \"end\", \"engage\", \"enjoy\", \"enough\", \"ensure\", \"epidemic\", \"era\", \"even\", \"event\", \"ever\", \"ex\", \"exactly\", \"exist\", \"expand\", \"expect\", \"experience\", \"expert\", \"explain\", \"explore\", \"extreme\", \"face\", \"fact\", \"fail\", \"failure\", \"fake\", \"fall\", \"family\", \"fan\", \"far\", \"favorite\", \"feature\", \"feel\", \"few\", \"fight\", \"figure\", \"fill\", \"film\", \"final\", \"finally\", \"find\", \"finger\", \"fire\", \"first\", \"fix\", \"flat\", \"flavor\", \"flight\", \"focus\", \"force\", \"forever\", \"forget\", \"form\", \"former\", \"forward\", \"free\", \"freedom\", \"friend\", \"full\", \"funny\", \"future\", \"gay\", \"get\", \"get\", \"get\", \"get\", \"get\", \"get\", \"get\", \"get\", \"get\", \"get\", \"get\", \"get\", \"get\", \"get\", \"get\", \"get\", \"get\", \"get\", \"get\", \"get\", \"get\", \"get\", \"get\", \"get\", \"get\", \"get\", \"get\", \"get\", \"get\", \"get\", \"get\", \"get\", \"gift\", \"girl\", \"give\", \"give\", \"give\", \"give\", \"give\", \"give\", \"give\", \"go\", \"gold\", \"good\", \"got\", \"great\", \"grow\", \"half\", \"hand\", \"handle\", \"hang\", \"happen\", \"happiness\", \"happy\", \"hard\", \"hate\", \"have\", \"have\", \"have\", \"have\", \"have\", \"have\", \"have\", \"have\", \"have\", \"have\", \"have\", \"have\", \"have\", \"have\", \"have\", \"have\", \"have\", \"have\", \"have\", \"have\", \"have\", \"have\", \"have\", \"have\", \"have\", \"have\", \"have\", \"have\", \"have\", \"have\", \"have\", \"have\", \"have\", \"have\", \"head\", \"heal\", \"health\", \"hear\", \"heart\", \"help\", \"here\", \"hide\", \"high\", \"hire\", \"history\", \"hit\", \"hold\", \"home\", \"honor\", \"hope\", \"hotel\", \"hour\", \"hurt\", \"husband\", \"ice\", \"icon\", \"idea\", \"ignore\", \"image\", \"in\", \"include\", \"indian\", \"inspire\", \"instead\", \"internet\", \"interview\", \"introduce\", \"investor\", \"invite\", \"involve\", \"irish\", \"issue\", \"job\", \"join\", \"journey\", \"judge\", \"jump\", \"just\", \"keep\", \"key\", \"kid\", \"kill\", \"kind\", \"know\", \"know\", \"korean\", \"large\", \"last\", \"late\", \"later\", \"launch\", \"law\", \"lawyer\", \"lead\", \"leader\", \"learn\", \"leave\", \"let\", \"letter\", \"lie\", \"life\", \"light\", \"like\", \"likely\", \"limit\", \"line\", \"link\", \"lip\", \"list\", \"listen\", \"little\", \"live\", \"loan\", \"long\", \"look\", \"lose\", \"lot\", \"love\", \"low\", \"magazine\", \"make\", \"making\", \"man\", \"many\", \"marriage\", \"marry\", \"match\", \"maybe\", \"mean\", \"meaning\", \"measure\", \"media\", \"medium\", \"meet\", \"member\", \"memory\", \"mess\", \"message\", \"million\", \"mind\", \"miss\", \"mistake\", \"mock\", \"mom\", \"moment\", \"money\", \"month\", \"more\", \"most\", \"mother\", \"move\", \"movie\", \"much\", \"music\", \"name\", \"nation\", \"nearly\", \"need\", \"never\", \"new\", \"newly\", \"next\", \"night\", \"no\", \"normal\", \"note\", \"now\", \"of\", \"off\", \"offer\", \"office\", \"official\", \"often\", \"old\", \"one\", \"only\", \"open\", \"order\", \"original\", \"other\", \"out\", \"outfit\", \"over\", \"owe\", \"own\", \"pack\", \"paint\", \"pant\", \"parent\", \"part\", \"party\", \"pass\", \"passenger\", \"patient\", \"pay\", \"percent\", \"perfect\", \"perform\", \"performance\", \"phone\", \"photo\", \"photographer\", \"pick\", \"picture\", \"place\", \"plan\", \"plane\", \"plant\", \"play\", \"point\", \"politic\", \"political\", \"poor\", \"portrait\", \"pose\", \"possible\", \"post\", \"pound\", \"power\", \"powerful\", \"praise\", \"predict\", \"prediction\", \"pregnant\", \"premiere\", \"prepare\", \"present\", \"president\", \"pressure\", \"pretty\", \"private\", \"problem\", \"produce\", \"promise\", \"promote\", \"propose\", \"protect\", \"prove\", \"provide\", \"public\", \"pull\", \"push\", \"put\", \"queen\", \"question\", \"quit\", \"racist\", \"raise\", \"rape\", \"rate\", \"re\", \"reach\", \"react\", \"read\", \"ready\", \"real\", \"reality\", \"really\", \"reason\", \"recall\", \"recap\", \"receive\", \"recent\", \"recognize\", \"record\", \"red\", \"reduce\", \"reflect\", \"refuse\", \"regret\", \"reject\", \"relationship\", \"release\", \"remain\", \"remind\", \"remove\", \"repeat\", \"replace\", \"report\", \"reportedly\", \"request\", \"require\", \"research\", \"researcher\", \"respond\", \"rest\", \"restaurant\", \"restore\", \"return\", \"reveal\", \"review\", \"ride\", \"right\", \"rip\", \"rise\", \"risk\", \"robot\", \"roll\", \"room\", \"round\", \"row\", \"ruin\", \"rule\", \"rumor\", \"run\", \"running\", \"russian\", \"safe\", \"same\", \"save\", \"say\", \"say\", \"say\", \"say\", \"say\", \"say\", \"say\", \"say\", \"say\", \"say\", \"say\", \"say\", \"say\", \"say\", \"say\", \"say\", \"say\", \"say\", \"say\", \"say\", \"say\", \"say\", \"say\", \"say\", \"say\", \"say\", \"say\", \"say\", \"say\", \"say\", \"say\", \"say\", \"say\", \"say\", \"say\", \"say\", \"say\", \"say\", \"say\", \"say\", \"say\", \"say\", \"say\", \"say\", \"say\", \"say\", \"say\", \"say\", \"say\", \"say\", \"say\", \"scandal\", \"scary\", \"school\", \"scientist\", \"search\", \"season\", \"second\", \"secret\", \"see\", \"seek\", \"seem\", \"self\", \"sell\", \"send\", \"sense\", \"sentence\", \"seriously\", \"serve\", \"set\", \"sex\", \"sexy\", \"shame\", \"share\", \"shoe\", \"shoot\", \"shooting\", \"shot\", \"show\", \"shut\", \"sick\", \"sign\", \"sing\", \"singer\", \"single\", \"sit\", \"site\", \"skill\", \"skip\", \"sleep\", \"slow\", \"smart\", \"smile\", \"so\", \"solve\", \"sometimes\", \"son\", \"song\", \"soon\", \"speak\", \"spend\", \"spending\", \"spill\", \"sport\", \"spot\", \"spouse\", \"spread\", \"stage\", \"stand\", \"star\", \"start\", \"state\", \"stay\", \"steal\", \"stick\", \"still\", \"stop\", \"storm\", \"story\", \"strong\", \"struggle\", \"student\", \"study\", \"stun\", \"suck\", \"sue\", \"suggest\", \"suit\", \"support\", \"survive\", \"survivor\", \"take\", \"talk\", \"target\", \"tax\", \"teach\", \"teacher\", \"tear\", \"technology\", \"tell\", \"term\", \"terrible\", \"test\", \"thank\", \"theme\", \"then\", \"there\", \"thing\", \"think\", \"thousand\", \"threat\", \"threaten\", \"throw\", \"ticket\", \"tie\", \"time\", \"tiny\", \"today\", \"toddler\", \"together\", \"tone\", \"tonight\", \"too\", \"top\", \"totally\", \"tough\", \"town\", \"trap\", \"travel\", \"treat\", \"trial\", \"trick\", \"trip\", \"trouble\", \"true\", \"try\", \"turn\", \"tv\", \"tweet\", \"understand\", \"unexpected\", \"up\", \"update\", \"use\", \"very\", \"video\", \"view\", \"visit\", \"vote\", \"vow\", \"wait\", \"walk\", \"wall\", \"want\", \"warning\", \"watch\", \"water\", \"way\", \"wealthy\", \"wear\", \"wedding\", \"week\", \"weekend\", \"weight\", \"weird\", \"welcome\", \"well\", \"wide\", \"wife\", \"win\", \"wish\", \"woman\", \"word\", \"work\", \"worker\", \"world\", \"worth\", \"write\", \"wrong\", \"year\", \"yet\", \"young\"]}, \"R\": 30, \"lambda.step\": 0.01, \"plot.opts\": {\"xlab\": \"PC1\", \"ylab\": \"PC2\"}, \"topic.order\": [50, 34, 37, 36, 53, 32, 38, 49, 6, 45, 35, 8, 3, 31, 23, 5, 52, 56, 7, 17, 2, 22, 62, 30, 42, 4, 18, 57, 15, 59, 39, 26, 10, 40, 47, 14, 48, 24, 51, 12, 11, 9, 54, 25, 1, 16, 28, 27, 55, 58, 61, 21, 29, 41, 43, 20, 33, 46, 44, 19, 60, 13]};\n",
              "\n",
              "function LDAvis_load_lib(url, callback){\n",
              "  var s = document.createElement('script');\n",
              "  s.src = url;\n",
              "  s.async = true;\n",
              "  s.onreadystatechange = s.onload = callback;\n",
              "  s.onerror = function(){console.warn(\"failed to load library \" + url);};\n",
              "  document.getElementsByTagName(\"head\")[0].appendChild(s);\n",
              "}\n",
              "\n",
              "if(typeof(LDAvis) !== \"undefined\"){\n",
              "   // already loaded: just create the visualization\n",
              "   !function(LDAvis){\n",
              "       new LDAvis(\"#\" + \"ldavis_el2032023138187680966213648995\", ldavis_el2032023138187680966213648995_data);\n",
              "   }(LDAvis);\n",
              "}else if(typeof define === \"function\" && define.amd){\n",
              "   // require.js is available: use it to load d3/LDAvis\n",
              "   require.config({paths: {d3: \"https://d3js.org/d3.v5\"}});\n",
              "   require([\"d3\"], function(d3){\n",
              "      window.d3 = d3;\n",
              "      LDAvis_load_lib(\"https://cdn.jsdelivr.net/gh/bmabey/pyLDAvis@3.4.0/pyLDAvis/js/ldavis.v3.0.0.js\", function(){\n",
              "        new LDAvis(\"#\" + \"ldavis_el2032023138187680966213648995\", ldavis_el2032023138187680966213648995_data);\n",
              "      });\n",
              "    });\n",
              "}else{\n",
              "    // require.js not available: dynamically load d3 & LDAvis\n",
              "    LDAvis_load_lib(\"https://d3js.org/d3.v5.js\", function(){\n",
              "         LDAvis_load_lib(\"https://cdn.jsdelivr.net/gh/bmabey/pyLDAvis@3.4.0/pyLDAvis/js/ldavis.v3.0.0.js\", function(){\n",
              "                 new LDAvis(\"#\" + \"ldavis_el2032023138187680966213648995\", ldavis_el2032023138187680966213648995_data);\n",
              "            })\n",
              "         });\n",
              "}\n",
              "</script>"
            ],
            "text/plain": [
              "PreparedData(topic_coordinates=              x         y  topics  cluster      Freq\n",
              "topic                                               \n",
              "49    -0.014491 -0.075655       1        1  3.002718\n",
              "33     0.291164  0.113833       2        1  2.436577\n",
              "36     0.092963  0.052598       3        1  2.354379\n",
              "35     0.139806 -0.005204       4        1  2.300813\n",
              "52     0.040081  0.134785       5        1  2.209451\n",
              "...         ...       ...     ...      ...       ...\n",
              "45    -0.074832  0.012184      58        1  1.283018\n",
              "43    -0.038809 -0.050133      59        1  1.273377\n",
              "18    -0.056690  0.039454      60        1  1.225867\n",
              "59    -0.087187  0.013287      61        1  1.170469\n",
              "12    -0.048393 -0.072204      62        1  1.098573\n",
              "\n",
              "[62 rows x 5 columns], topic_info=               Term          Freq         Total Category  logprob  loglift\n",
              "2452          photo  25337.000000  25337.000000  Default  30.0000  30.0000\n",
              "29              New  12461.000000  12461.000000  Default  29.0000  29.0000\n",
              "389           video  11034.000000  11034.000000  Default  28.0000  28.0000\n",
              "371            make   9443.000000   9443.000000  Default  27.0000  27.0000\n",
              "142            look   8276.000000   8276.000000  Default  26.0000  26.0000\n",
              "...             ...           ...           ...      ...      ...      ...\n",
              "3505           Cash    168.658287    170.420931  Topic62  -4.4644   4.5008\n",
              "2650  Controversial    162.782769    164.545414  Topic62  -4.4998   4.5004\n",
              "5225     researcher    154.475461    156.238105  Topic62  -4.5522   4.4998\n",
              "5224     prediction    148.782942    150.545586  Topic62  -4.5897   4.4994\n",
              "4982        Rolling    114.891478    116.654122  Topic62  -4.8482   4.4959\n",
              "\n",
              "[1927 rows x 6 columns], token_table=      Topic      Freq   Term\n",
              "term                        \n",
              "294      15  0.998001      '\n",
              "684      27  0.999703      -\n",
              "1600     13  0.993328      .\n",
              "3542      4  0.986984    4th\n",
              "4896      2  0.981198     90\n",
              "...     ...       ...    ...\n",
              "2134     25  0.994859  write\n",
              "3502     24  0.997169  wrong\n",
              "614      21  0.999560   year\n",
              "318       6  0.992511    yet\n",
              "1295     34  0.994140  young\n",
              "\n",
              "[2021 rows x 3 columns], R=30, lambda_step=0.01, plot_opts={'xlab': 'PC1', 'ylab': 'PC2'}, topic_order=[50, 34, 37, 36, 53, 32, 38, 49, 6, 45, 35, 8, 3, 31, 23, 5, 52, 56, 7, 17, 2, 22, 62, 30, 42, 4, 18, 57, 15, 59, 39, 26, 10, 40, 47, 14, 48, 24, 51, 12, 11, 9, 54, 25, 1, 16, 28, 27, 55, 58, 61, 21, 29, 41, 43, 20, 33, 46, 44, 19, 60, 13])"
            ]
          },
          "execution_count": 44,
          "metadata": {},
          "output_type": "execute_result"
        }
      ],
      "source": [
        "# Visualize the topics\n",
        "pyLDAvis.enable_notebook()\n",
        "vis = pyLDAvis.gensim_models.prepare(lda_model, corpus, dictionary)\n",
        "vis"
      ]
    },
    {
      "cell_type": "markdown",
      "metadata": {},
      "source": [
        "### LSI\n"
      ]
    },
    {
      "cell_type": "code",
      "execution_count": null,
      "metadata": {},
      "outputs": [
        {
          "name": "stderr",
          "output_type": "stream",
          "text": [
            "c:\\Users\\David-Desktop\\miniconda3\\envs\\NLP\\lib\\site-packages\\gensim\\models\\lsimodel.py:963: DeprecationWarning: Please use `csc_matvecs` from the `scipy.sparse` namespace, the `scipy.sparse.sparsetools` namespace is deprecated.\n",
            "  sparsetools.csc_matvecs(\n",
            "c:\\Users\\David-Desktop\\miniconda3\\envs\\NLP\\lib\\site-packages\\scipy\\linalg\\_special_matrices.py:154: DeprecationWarning: 'tri'/'tril/'triu' are deprecated as of SciPy 1.11.0 and will be removed in v1.13.0. Please use numpy.(tri/tril/triu) instead.\n",
            "  out = (1 - tri(m.shape[0], m.shape[1], k - 1, m.dtype.char)) * m\n",
            "c:\\Users\\David-Desktop\\miniconda3\\envs\\NLP\\lib\\site-packages\\scipy\\linalg\\_special_matrices.py:154: DeprecationWarning: 'tri'/'tril/'triu' are deprecated as of SciPy 1.11.0 and will be removed in v1.13.0. Please use numpy.(tri/tril/triu) instead.\n",
            "  out = (1 - tri(m.shape[0], m.shape[1], k - 1, m.dtype.char)) * m\n",
            "c:\\Users\\David-Desktop\\miniconda3\\envs\\NLP\\lib\\site-packages\\scipy\\linalg\\_special_matrices.py:154: DeprecationWarning: 'tri'/'tril/'triu' are deprecated as of SciPy 1.11.0 and will be removed in v1.13.0. Please use numpy.(tri/tril/triu) instead.\n",
            "  out = (1 - tri(m.shape[0], m.shape[1], k - 1, m.dtype.char)) * m\n",
            "c:\\Users\\David-Desktop\\miniconda3\\envs\\NLP\\lib\\site-packages\\gensim\\models\\lsimodel.py:963: DeprecationWarning: Please use `csc_matvecs` from the `scipy.sparse` namespace, the `scipy.sparse.sparsetools` namespace is deprecated.\n",
            "  sparsetools.csc_matvecs(\n",
            "c:\\Users\\David-Desktop\\miniconda3\\envs\\NLP\\lib\\site-packages\\scipy\\linalg\\_special_matrices.py:154: DeprecationWarning: 'tri'/'tril/'triu' are deprecated as of SciPy 1.11.0 and will be removed in v1.13.0. Please use numpy.(tri/tril/triu) instead.\n",
            "  out = (1 - tri(m.shape[0], m.shape[1], k - 1, m.dtype.char)) * m\n",
            "c:\\Users\\David-Desktop\\miniconda3\\envs\\NLP\\lib\\site-packages\\scipy\\linalg\\_special_matrices.py:154: DeprecationWarning: 'tri'/'tril/'triu' are deprecated as of SciPy 1.11.0 and will be removed in v1.13.0. Please use numpy.(tri/tril/triu) instead.\n",
            "  out = (1 - tri(m.shape[0], m.shape[1], k - 1, m.dtype.char)) * m\n",
            "c:\\Users\\David-Desktop\\miniconda3\\envs\\NLP\\lib\\site-packages\\scipy\\linalg\\_special_matrices.py:154: DeprecationWarning: 'tri'/'tril/'triu' are deprecated as of SciPy 1.11.0 and will be removed in v1.13.0. Please use numpy.(tri/tril/triu) instead.\n",
            "  out = (1 - tri(m.shape[0], m.shape[1], k - 1, m.dtype.char)) * m\n",
            "c:\\Users\\David-Desktop\\miniconda3\\envs\\NLP\\lib\\site-packages\\scipy\\linalg\\_special_matrices.py:154: DeprecationWarning: 'tri'/'tril/'triu' are deprecated as of SciPy 1.11.0 and will be removed in v1.13.0. Please use numpy.(tri/tril/triu) instead.\n",
            "  out = (1 - tri(m.shape[0], m.shape[1], k - 1, m.dtype.char)) * m\n",
            "c:\\Users\\David-Desktop\\miniconda3\\envs\\NLP\\lib\\site-packages\\gensim\\models\\lsimodel.py:963: DeprecationWarning: Please use `csc_matvecs` from the `scipy.sparse` namespace, the `scipy.sparse.sparsetools` namespace is deprecated.\n",
            "  sparsetools.csc_matvecs(\n",
            "c:\\Users\\David-Desktop\\miniconda3\\envs\\NLP\\lib\\site-packages\\scipy\\linalg\\_special_matrices.py:154: DeprecationWarning: 'tri'/'tril/'triu' are deprecated as of SciPy 1.11.0 and will be removed in v1.13.0. Please use numpy.(tri/tril/triu) instead.\n",
            "  out = (1 - tri(m.shape[0], m.shape[1], k - 1, m.dtype.char)) * m\n",
            "c:\\Users\\David-Desktop\\miniconda3\\envs\\NLP\\lib\\site-packages\\scipy\\linalg\\_special_matrices.py:154: DeprecationWarning: 'tri'/'tril/'triu' are deprecated as of SciPy 1.11.0 and will be removed in v1.13.0. Please use numpy.(tri/tril/triu) instead.\n",
            "  out = (1 - tri(m.shape[0], m.shape[1], k - 1, m.dtype.char)) * m\n",
            "c:\\Users\\David-Desktop\\miniconda3\\envs\\NLP\\lib\\site-packages\\scipy\\linalg\\_special_matrices.py:154: DeprecationWarning: 'tri'/'tril/'triu' are deprecated as of SciPy 1.11.0 and will be removed in v1.13.0. Please use numpy.(tri/tril/triu) instead.\n",
            "  out = (1 - tri(m.shape[0], m.shape[1], k - 1, m.dtype.char)) * m\n",
            "c:\\Users\\David-Desktop\\miniconda3\\envs\\NLP\\lib\\site-packages\\scipy\\linalg\\_special_matrices.py:154: DeprecationWarning: 'tri'/'tril/'triu' are deprecated as of SciPy 1.11.0 and will be removed in v1.13.0. Please use numpy.(tri/tril/triu) instead.\n",
            "  out = (1 - tri(m.shape[0], m.shape[1], k - 1, m.dtype.char)) * m\n",
            "c:\\Users\\David-Desktop\\miniconda3\\envs\\NLP\\lib\\site-packages\\gensim\\models\\lsimodel.py:963: DeprecationWarning: Please use `csc_matvecs` from the `scipy.sparse` namespace, the `scipy.sparse.sparsetools` namespace is deprecated.\n",
            "  sparsetools.csc_matvecs(\n",
            "c:\\Users\\David-Desktop\\miniconda3\\envs\\NLP\\lib\\site-packages\\scipy\\linalg\\_special_matrices.py:154: DeprecationWarning: 'tri'/'tril/'triu' are deprecated as of SciPy 1.11.0 and will be removed in v1.13.0. Please use numpy.(tri/tril/triu) instead.\n",
            "  out = (1 - tri(m.shape[0], m.shape[1], k - 1, m.dtype.char)) * m\n",
            "c:\\Users\\David-Desktop\\miniconda3\\envs\\NLP\\lib\\site-packages\\scipy\\linalg\\_special_matrices.py:154: DeprecationWarning: 'tri'/'tril/'triu' are deprecated as of SciPy 1.11.0 and will be removed in v1.13.0. Please use numpy.(tri/tril/triu) instead.\n",
            "  out = (1 - tri(m.shape[0], m.shape[1], k - 1, m.dtype.char)) * m\n",
            "c:\\Users\\David-Desktop\\miniconda3\\envs\\NLP\\lib\\site-packages\\scipy\\linalg\\_special_matrices.py:154: DeprecationWarning: 'tri'/'tril/'triu' are deprecated as of SciPy 1.11.0 and will be removed in v1.13.0. Please use numpy.(tri/tril/triu) instead.\n",
            "  out = (1 - tri(m.shape[0], m.shape[1], k - 1, m.dtype.char)) * m\n",
            "c:\\Users\\David-Desktop\\miniconda3\\envs\\NLP\\lib\\site-packages\\scipy\\linalg\\_special_matrices.py:154: DeprecationWarning: 'tri'/'tril/'triu' are deprecated as of SciPy 1.11.0 and will be removed in v1.13.0. Please use numpy.(tri/tril/triu) instead.\n",
            "  out = (1 - tri(m.shape[0], m.shape[1], k - 1, m.dtype.char)) * m\n",
            "c:\\Users\\David-Desktop\\miniconda3\\envs\\NLP\\lib\\site-packages\\gensim\\models\\lsimodel.py:963: DeprecationWarning: Please use `csc_matvecs` from the `scipy.sparse` namespace, the `scipy.sparse.sparsetools` namespace is deprecated.\n",
            "  sparsetools.csc_matvecs(\n",
            "c:\\Users\\David-Desktop\\miniconda3\\envs\\NLP\\lib\\site-packages\\scipy\\linalg\\_special_matrices.py:154: DeprecationWarning: 'tri'/'tril/'triu' are deprecated as of SciPy 1.11.0 and will be removed in v1.13.0. Please use numpy.(tri/tril/triu) instead.\n",
            "  out = (1 - tri(m.shape[0], m.shape[1], k - 1, m.dtype.char)) * m\n",
            "c:\\Users\\David-Desktop\\miniconda3\\envs\\NLP\\lib\\site-packages\\scipy\\linalg\\_special_matrices.py:154: DeprecationWarning: 'tri'/'tril/'triu' are deprecated as of SciPy 1.11.0 and will be removed in v1.13.0. Please use numpy.(tri/tril/triu) instead.\n",
            "  out = (1 - tri(m.shape[0], m.shape[1], k - 1, m.dtype.char)) * m\n",
            "c:\\Users\\David-Desktop\\miniconda3\\envs\\NLP\\lib\\site-packages\\scipy\\linalg\\_special_matrices.py:154: DeprecationWarning: 'tri'/'tril/'triu' are deprecated as of SciPy 1.11.0 and will be removed in v1.13.0. Please use numpy.(tri/tril/triu) instead.\n",
            "  out = (1 - tri(m.shape[0], m.shape[1], k - 1, m.dtype.char)) * m\n",
            "c:\\Users\\David-Desktop\\miniconda3\\envs\\NLP\\lib\\site-packages\\scipy\\linalg\\_special_matrices.py:154: DeprecationWarning: 'tri'/'tril/'triu' are deprecated as of SciPy 1.11.0 and will be removed in v1.13.0. Please use numpy.(tri/tril/triu) instead.\n",
            "  out = (1 - tri(m.shape[0], m.shape[1], k - 1, m.dtype.char)) * m\n",
            "c:\\Users\\David-Desktop\\miniconda3\\envs\\NLP\\lib\\site-packages\\gensim\\models\\lsimodel.py:963: DeprecationWarning: Please use `csc_matvecs` from the `scipy.sparse` namespace, the `scipy.sparse.sparsetools` namespace is deprecated.\n",
            "  sparsetools.csc_matvecs(\n",
            "c:\\Users\\David-Desktop\\miniconda3\\envs\\NLP\\lib\\site-packages\\scipy\\linalg\\_special_matrices.py:154: DeprecationWarning: 'tri'/'tril/'triu' are deprecated as of SciPy 1.11.0 and will be removed in v1.13.0. Please use numpy.(tri/tril/triu) instead.\n",
            "  out = (1 - tri(m.shape[0], m.shape[1], k - 1, m.dtype.char)) * m\n",
            "c:\\Users\\David-Desktop\\miniconda3\\envs\\NLP\\lib\\site-packages\\scipy\\linalg\\_special_matrices.py:154: DeprecationWarning: 'tri'/'tril/'triu' are deprecated as of SciPy 1.11.0 and will be removed in v1.13.0. Please use numpy.(tri/tril/triu) instead.\n",
            "  out = (1 - tri(m.shape[0], m.shape[1], k - 1, m.dtype.char)) * m\n",
            "c:\\Users\\David-Desktop\\miniconda3\\envs\\NLP\\lib\\site-packages\\scipy\\linalg\\_special_matrices.py:154: DeprecationWarning: 'tri'/'tril/'triu' are deprecated as of SciPy 1.11.0 and will be removed in v1.13.0. Please use numpy.(tri/tril/triu) instead.\n",
            "  out = (1 - tri(m.shape[0], m.shape[1], k - 1, m.dtype.char)) * m\n",
            "c:\\Users\\David-Desktop\\miniconda3\\envs\\NLP\\lib\\site-packages\\scipy\\linalg\\_special_matrices.py:154: DeprecationWarning: 'tri'/'tril/'triu' are deprecated as of SciPy 1.11.0 and will be removed in v1.13.0. Please use numpy.(tri/tril/triu) instead.\n",
            "  out = (1 - tri(m.shape[0], m.shape[1], k - 1, m.dtype.char)) * m\n",
            "c:\\Users\\David-Desktop\\miniconda3\\envs\\NLP\\lib\\site-packages\\gensim\\models\\lsimodel.py:963: DeprecationWarning: Please use `csc_matvecs` from the `scipy.sparse` namespace, the `scipy.sparse.sparsetools` namespace is deprecated.\n",
            "  sparsetools.csc_matvecs(\n",
            "c:\\Users\\David-Desktop\\miniconda3\\envs\\NLP\\lib\\site-packages\\scipy\\linalg\\_special_matrices.py:154: DeprecationWarning: 'tri'/'tril/'triu' are deprecated as of SciPy 1.11.0 and will be removed in v1.13.0. Please use numpy.(tri/tril/triu) instead.\n",
            "  out = (1 - tri(m.shape[0], m.shape[1], k - 1, m.dtype.char)) * m\n",
            "c:\\Users\\David-Desktop\\miniconda3\\envs\\NLP\\lib\\site-packages\\scipy\\linalg\\_special_matrices.py:154: DeprecationWarning: 'tri'/'tril/'triu' are deprecated as of SciPy 1.11.0 and will be removed in v1.13.0. Please use numpy.(tri/tril/triu) instead.\n",
            "  out = (1 - tri(m.shape[0], m.shape[1], k - 1, m.dtype.char)) * m\n",
            "c:\\Users\\David-Desktop\\miniconda3\\envs\\NLP\\lib\\site-packages\\scipy\\linalg\\_special_matrices.py:154: DeprecationWarning: 'tri'/'tril/'triu' are deprecated as of SciPy 1.11.0 and will be removed in v1.13.0. Please use numpy.(tri/tril/triu) instead.\n",
            "  out = (1 - tri(m.shape[0], m.shape[1], k - 1, m.dtype.char)) * m\n",
            "c:\\Users\\David-Desktop\\miniconda3\\envs\\NLP\\lib\\site-packages\\scipy\\linalg\\_special_matrices.py:154: DeprecationWarning: 'tri'/'tril/'triu' are deprecated as of SciPy 1.11.0 and will be removed in v1.13.0. Please use numpy.(tri/tril/triu) instead.\n",
            "  out = (1 - tri(m.shape[0], m.shape[1], k - 1, m.dtype.char)) * m\n",
            "c:\\Users\\David-Desktop\\miniconda3\\envs\\NLP\\lib\\site-packages\\gensim\\models\\lsimodel.py:963: DeprecationWarning: Please use `csc_matvecs` from the `scipy.sparse` namespace, the `scipy.sparse.sparsetools` namespace is deprecated.\n",
            "  sparsetools.csc_matvecs(\n",
            "c:\\Users\\David-Desktop\\miniconda3\\envs\\NLP\\lib\\site-packages\\scipy\\linalg\\_special_matrices.py:154: DeprecationWarning: 'tri'/'tril/'triu' are deprecated as of SciPy 1.11.0 and will be removed in v1.13.0. Please use numpy.(tri/tril/triu) instead.\n",
            "  out = (1 - tri(m.shape[0], m.shape[1], k - 1, m.dtype.char)) * m\n",
            "c:\\Users\\David-Desktop\\miniconda3\\envs\\NLP\\lib\\site-packages\\scipy\\linalg\\_special_matrices.py:154: DeprecationWarning: 'tri'/'tril/'triu' are deprecated as of SciPy 1.11.0 and will be removed in v1.13.0. Please use numpy.(tri/tril/triu) instead.\n",
            "  out = (1 - tri(m.shape[0], m.shape[1], k - 1, m.dtype.char)) * m\n",
            "c:\\Users\\David-Desktop\\miniconda3\\envs\\NLP\\lib\\site-packages\\scipy\\linalg\\_special_matrices.py:154: DeprecationWarning: 'tri'/'tril/'triu' are deprecated as of SciPy 1.11.0 and will be removed in v1.13.0. Please use numpy.(tri/tril/triu) instead.\n",
            "  out = (1 - tri(m.shape[0], m.shape[1], k - 1, m.dtype.char)) * m\n",
            "c:\\Users\\David-Desktop\\miniconda3\\envs\\NLP\\lib\\site-packages\\scipy\\linalg\\_special_matrices.py:154: DeprecationWarning: 'tri'/'tril/'triu' are deprecated as of SciPy 1.11.0 and will be removed in v1.13.0. Please use numpy.(tri/tril/triu) instead.\n",
            "  out = (1 - tri(m.shape[0], m.shape[1], k - 1, m.dtype.char)) * m\n",
            "c:\\Users\\David-Desktop\\miniconda3\\envs\\NLP\\lib\\site-packages\\gensim\\models\\lsimodel.py:963: DeprecationWarning: Please use `csc_matvecs` from the `scipy.sparse` namespace, the `scipy.sparse.sparsetools` namespace is deprecated.\n",
            "  sparsetools.csc_matvecs(\n",
            "c:\\Users\\David-Desktop\\miniconda3\\envs\\NLP\\lib\\site-packages\\scipy\\linalg\\_special_matrices.py:154: DeprecationWarning: 'tri'/'tril/'triu' are deprecated as of SciPy 1.11.0 and will be removed in v1.13.0. Please use numpy.(tri/tril/triu) instead.\n",
            "  out = (1 - tri(m.shape[0], m.shape[1], k - 1, m.dtype.char)) * m\n",
            "c:\\Users\\David-Desktop\\miniconda3\\envs\\NLP\\lib\\site-packages\\scipy\\linalg\\_special_matrices.py:154: DeprecationWarning: 'tri'/'tril/'triu' are deprecated as of SciPy 1.11.0 and will be removed in v1.13.0. Please use numpy.(tri/tril/triu) instead.\n",
            "  out = (1 - tri(m.shape[0], m.shape[1], k - 1, m.dtype.char)) * m\n",
            "c:\\Users\\David-Desktop\\miniconda3\\envs\\NLP\\lib\\site-packages\\scipy\\linalg\\_special_matrices.py:154: DeprecationWarning: 'tri'/'tril/'triu' are deprecated as of SciPy 1.11.0 and will be removed in v1.13.0. Please use numpy.(tri/tril/triu) instead.\n",
            "  out = (1 - tri(m.shape[0], m.shape[1], k - 1, m.dtype.char)) * m\n",
            "c:\\Users\\David-Desktop\\miniconda3\\envs\\NLP\\lib\\site-packages\\scipy\\linalg\\_special_matrices.py:154: DeprecationWarning: 'tri'/'tril/'triu' are deprecated as of SciPy 1.11.0 and will be removed in v1.13.0. Please use numpy.(tri/tril/triu) instead.\n",
            "  out = (1 - tri(m.shape[0], m.shape[1], k - 1, m.dtype.char)) * m\n",
            "c:\\Users\\David-Desktop\\miniconda3\\envs\\NLP\\lib\\site-packages\\gensim\\models\\lsimodel.py:963: DeprecationWarning: Please use `csc_matvecs` from the `scipy.sparse` namespace, the `scipy.sparse.sparsetools` namespace is deprecated.\n",
            "  sparsetools.csc_matvecs(\n",
            "c:\\Users\\David-Desktop\\miniconda3\\envs\\NLP\\lib\\site-packages\\scipy\\linalg\\_special_matrices.py:154: DeprecationWarning: 'tri'/'tril/'triu' are deprecated as of SciPy 1.11.0 and will be removed in v1.13.0. Please use numpy.(tri/tril/triu) instead.\n",
            "  out = (1 - tri(m.shape[0], m.shape[1], k - 1, m.dtype.char)) * m\n",
            "c:\\Users\\David-Desktop\\miniconda3\\envs\\NLP\\lib\\site-packages\\scipy\\linalg\\_special_matrices.py:154: DeprecationWarning: 'tri'/'tril/'triu' are deprecated as of SciPy 1.11.0 and will be removed in v1.13.0. Please use numpy.(tri/tril/triu) instead.\n",
            "  out = (1 - tri(m.shape[0], m.shape[1], k - 1, m.dtype.char)) * m\n",
            "c:\\Users\\David-Desktop\\miniconda3\\envs\\NLP\\lib\\site-packages\\scipy\\linalg\\_special_matrices.py:154: DeprecationWarning: 'tri'/'tril/'triu' are deprecated as of SciPy 1.11.0 and will be removed in v1.13.0. Please use numpy.(tri/tril/triu) instead.\n",
            "  out = (1 - tri(m.shape[0], m.shape[1], k - 1, m.dtype.char)) * m\n",
            "c:\\Users\\David-Desktop\\miniconda3\\envs\\NLP\\lib\\site-packages\\scipy\\linalg\\_special_matrices.py:154: DeprecationWarning: 'tri'/'tril/'triu' are deprecated as of SciPy 1.11.0 and will be removed in v1.13.0. Please use numpy.(tri/tril/triu) instead.\n",
            "  out = (1 - tri(m.shape[0], m.shape[1], k - 1, m.dtype.char)) * m\n",
            "c:\\Users\\David-Desktop\\miniconda3\\envs\\NLP\\lib\\site-packages\\gensim\\models\\lsimodel.py:963: DeprecationWarning: Please use `csc_matvecs` from the `scipy.sparse` namespace, the `scipy.sparse.sparsetools` namespace is deprecated.\n",
            "  sparsetools.csc_matvecs(\n",
            "c:\\Users\\David-Desktop\\miniconda3\\envs\\NLP\\lib\\site-packages\\scipy\\linalg\\_special_matrices.py:154: DeprecationWarning: 'tri'/'tril/'triu' are deprecated as of SciPy 1.11.0 and will be removed in v1.13.0. Please use numpy.(tri/tril/triu) instead.\n",
            "  out = (1 - tri(m.shape[0], m.shape[1], k - 1, m.dtype.char)) * m\n",
            "c:\\Users\\David-Desktop\\miniconda3\\envs\\NLP\\lib\\site-packages\\scipy\\linalg\\_special_matrices.py:154: DeprecationWarning: 'tri'/'tril/'triu' are deprecated as of SciPy 1.11.0 and will be removed in v1.13.0. Please use numpy.(tri/tril/triu) instead.\n",
            "  out = (1 - tri(m.shape[0], m.shape[1], k - 1, m.dtype.char)) * m\n",
            "c:\\Users\\David-Desktop\\miniconda3\\envs\\NLP\\lib\\site-packages\\scipy\\linalg\\_special_matrices.py:154: DeprecationWarning: 'tri'/'tril/'triu' are deprecated as of SciPy 1.11.0 and will be removed in v1.13.0. Please use numpy.(tri/tril/triu) instead.\n",
            "  out = (1 - tri(m.shape[0], m.shape[1], k - 1, m.dtype.char)) * m\n",
            "c:\\Users\\David-Desktop\\miniconda3\\envs\\NLP\\lib\\site-packages\\scipy\\linalg\\_special_matrices.py:154: DeprecationWarning: 'tri'/'tril/'triu' are deprecated as of SciPy 1.11.0 and will be removed in v1.13.0. Please use numpy.(tri/tril/triu) instead.\n",
            "  out = (1 - tri(m.shape[0], m.shape[1], k - 1, m.dtype.char)) * m\n"
          ]
        },
        {
          "name": "stdout",
          "output_type": "stream",
          "text": [
            "Number of topics:  60  Coherence Score:  -0.03706901786546233 0.2307061938198717\n"
          ]
        }
      ],
      "source": [
        "lsi_model = LsiModel(corpus, num_topics=optimal_n, id2word=dictionary)\n",
        "coherence_model_cv= CoherenceModel(model=lsi_model, texts=l_texts, dictionary=dictionary, coherence='c_v')\n",
        "coherence_score_cv = coherence_model_cv.get_coherence()\n",
        "coherence_model_npmi= CoherenceModel(model=lsi_model, texts=l_texts, dictionary=dictionary, coherence='c_npmi')\n",
        "coherence_score_npmi = coherence_model_npmi.get_coherence()\n",
        "print(\"Number of topics: \", optimal_n, \" Coherence Score: \", coherence_score_npmi,coherence_score_cv)"
      ]
    },
    {
      "cell_type": "code",
      "execution_count": null,
      "metadata": {},
      "outputs": [],
      "source": [
        "# Visualize the topics\n",
        "#Not possible with LSI"
      ]
    },
    {
      "cell_type": "markdown",
      "metadata": {
        "id": "7eMxYmxOktWw"
      },
      "source": [
        "## BERTOPIC"
      ]
    },
    {
      "cell_type": "code",
      "execution_count": 36,
      "metadata": {},
      "outputs": [
        {
          "ename": "KeyboardInterrupt",
          "evalue": "",
          "output_type": "error",
          "traceback": [
            "\u001b[1;31m---------------------------------------------------------------------------\u001b[0m",
            "\u001b[1;31mKeyboardInterrupt\u001b[0m                         Traceback (most recent call last)",
            "Cell \u001b[1;32mIn[36], line 3\u001b[0m\n\u001b[0;32m      1\u001b[0m representation\u001b[38;5;241m=\u001b[39mbertopic\u001b[38;5;241m.\u001b[39mrepresentation\u001b[38;5;241m.\u001b[39mKeyBERTInspired()\n\u001b[0;32m      2\u001b[0m model_trained_representation\u001b[38;5;241m=\u001b[39m bertopic\u001b[38;5;241m.\u001b[39mBERTopic(representation_model\u001b[38;5;241m=\u001b[39mrepresentation,nr_topics\u001b[38;5;241m=\u001b[39moptimal_n)\n\u001b[1;32m----> 3\u001b[0m topics,probs \u001b[38;5;241m=\u001b[39m \u001b[43mmodel_trained_representation\u001b[49m\u001b[38;5;241;43m.\u001b[39;49m\u001b[43mfit_transform\u001b[49m\u001b[43m(\u001b[49m\u001b[43mdataset\u001b[49m\u001b[43m[\u001b[49m\u001b[38;5;124;43m'\u001b[39;49m\u001b[38;5;124;43mheadline\u001b[39;49m\u001b[38;5;124;43m'\u001b[39;49m\u001b[43m]\u001b[49m\u001b[43m)\u001b[49m\n",
            "File \u001b[1;32mc:\\Users\\David-Desktop\\miniconda3\\envs\\NLP\\lib\\site-packages\\bertopic\\_bertopic.py:387\u001b[0m, in \u001b[0;36mBERTopic.fit_transform\u001b[1;34m(self, documents, embeddings, images, y)\u001b[0m\n\u001b[0;32m    384\u001b[0m     logger\u001b[38;5;241m.\u001b[39minfo(\u001b[38;5;124m\"\u001b[39m\u001b[38;5;124mEmbedding - Transforming documents to embeddings.\u001b[39m\u001b[38;5;124m\"\u001b[39m)\n\u001b[0;32m    385\u001b[0m     \u001b[38;5;28mself\u001b[39m\u001b[38;5;241m.\u001b[39membedding_model \u001b[38;5;241m=\u001b[39m select_backend(\u001b[38;5;28mself\u001b[39m\u001b[38;5;241m.\u001b[39membedding_model,\n\u001b[0;32m    386\u001b[0m                                           language\u001b[38;5;241m=\u001b[39m\u001b[38;5;28mself\u001b[39m\u001b[38;5;241m.\u001b[39mlanguage)\n\u001b[1;32m--> 387\u001b[0m     embeddings \u001b[38;5;241m=\u001b[39m \u001b[38;5;28;43mself\u001b[39;49m\u001b[38;5;241;43m.\u001b[39;49m\u001b[43m_extract_embeddings\u001b[49m\u001b[43m(\u001b[49m\u001b[43mdocuments\u001b[49m\u001b[38;5;241;43m.\u001b[39;49m\u001b[43mDocument\u001b[49m\u001b[38;5;241;43m.\u001b[39;49m\u001b[43mvalues\u001b[49m\u001b[38;5;241;43m.\u001b[39;49m\u001b[43mtolist\u001b[49m\u001b[43m(\u001b[49m\u001b[43m)\u001b[49m\u001b[43m,\u001b[49m\n\u001b[0;32m    388\u001b[0m \u001b[43m                                          \u001b[49m\u001b[43mimages\u001b[49m\u001b[38;5;241;43m=\u001b[39;49m\u001b[43mimages\u001b[49m\u001b[43m,\u001b[49m\n\u001b[0;32m    389\u001b[0m \u001b[43m                                          \u001b[49m\u001b[43mmethod\u001b[49m\u001b[38;5;241;43m=\u001b[39;49m\u001b[38;5;124;43m\"\u001b[39;49m\u001b[38;5;124;43mdocument\u001b[39;49m\u001b[38;5;124;43m\"\u001b[39;49m\u001b[43m,\u001b[49m\n\u001b[0;32m    390\u001b[0m \u001b[43m                                          \u001b[49m\u001b[43mverbose\u001b[49m\u001b[38;5;241;43m=\u001b[39;49m\u001b[38;5;28;43mself\u001b[39;49m\u001b[38;5;241;43m.\u001b[39;49m\u001b[43mverbose\u001b[49m\u001b[43m)\u001b[49m\n\u001b[0;32m    391\u001b[0m     logger\u001b[38;5;241m.\u001b[39minfo(\u001b[38;5;124m\"\u001b[39m\u001b[38;5;124mEmbedding - Completed \u001b[39m\u001b[38;5;130;01m\\u2713\u001b[39;00m\u001b[38;5;124m\"\u001b[39m)\n\u001b[0;32m    392\u001b[0m \u001b[38;5;28;01melse\u001b[39;00m:\n",
            "File \u001b[1;32mc:\\Users\\David-Desktop\\miniconda3\\envs\\NLP\\lib\\site-packages\\bertopic\\_bertopic.py:3293\u001b[0m, in \u001b[0;36mBERTopic._extract_embeddings\u001b[1;34m(self, documents, images, method, verbose)\u001b[0m\n\u001b[0;32m   3291\u001b[0m     embeddings \u001b[38;5;241m=\u001b[39m \u001b[38;5;28mself\u001b[39m\u001b[38;5;241m.\u001b[39membedding_model\u001b[38;5;241m.\u001b[39membed_words(words\u001b[38;5;241m=\u001b[39mdocuments, verbose\u001b[38;5;241m=\u001b[39mverbose)\n\u001b[0;32m   3292\u001b[0m \u001b[38;5;28;01melif\u001b[39;00m method \u001b[38;5;241m==\u001b[39m \u001b[38;5;124m\"\u001b[39m\u001b[38;5;124mdocument\u001b[39m\u001b[38;5;124m\"\u001b[39m:\n\u001b[1;32m-> 3293\u001b[0m     embeddings \u001b[38;5;241m=\u001b[39m \u001b[38;5;28;43mself\u001b[39;49m\u001b[38;5;241;43m.\u001b[39;49m\u001b[43membedding_model\u001b[49m\u001b[38;5;241;43m.\u001b[39;49m\u001b[43membed_documents\u001b[49m\u001b[43m(\u001b[49m\u001b[43mdocuments\u001b[49m\u001b[43m,\u001b[49m\u001b[43m \u001b[49m\u001b[43mverbose\u001b[49m\u001b[38;5;241;43m=\u001b[39;49m\u001b[43mverbose\u001b[49m\u001b[43m)\u001b[49m\n\u001b[0;32m   3294\u001b[0m \u001b[38;5;28;01melif\u001b[39;00m documents[\u001b[38;5;241m0\u001b[39m] \u001b[38;5;129;01mis\u001b[39;00m \u001b[38;5;28;01mNone\u001b[39;00m \u001b[38;5;129;01mand\u001b[39;00m images \u001b[38;5;129;01mis\u001b[39;00m \u001b[38;5;28;01mNone\u001b[39;00m:\n\u001b[0;32m   3295\u001b[0m     \u001b[38;5;28;01mraise\u001b[39;00m \u001b[38;5;167;01mValueError\u001b[39;00m(\u001b[38;5;124m\"\u001b[39m\u001b[38;5;124mMake sure to use an embedding model that can either embed documents\u001b[39m\u001b[38;5;124m\"\u001b[39m\n\u001b[0;32m   3296\u001b[0m                      \u001b[38;5;124m\"\u001b[39m\u001b[38;5;124mor images depending on which you want to embed.\u001b[39m\u001b[38;5;124m\"\u001b[39m)\n",
            "File \u001b[1;32mc:\\Users\\David-Desktop\\miniconda3\\envs\\NLP\\lib\\site-packages\\bertopic\\backend\\_base.py:69\u001b[0m, in \u001b[0;36mBaseEmbedder.embed_documents\u001b[1;34m(self, document, verbose)\u001b[0m\n\u001b[0;32m     55\u001b[0m \u001b[38;5;28;01mdef\u001b[39;00m \u001b[38;5;21membed_documents\u001b[39m(\u001b[38;5;28mself\u001b[39m,\n\u001b[0;32m     56\u001b[0m                     document: List[\u001b[38;5;28mstr\u001b[39m],\n\u001b[0;32m     57\u001b[0m                     verbose: \u001b[38;5;28mbool\u001b[39m \u001b[38;5;241m=\u001b[39m \u001b[38;5;28;01mFalse\u001b[39;00m) \u001b[38;5;241m-\u001b[39m\u001b[38;5;241m>\u001b[39m np\u001b[38;5;241m.\u001b[39mndarray:\n\u001b[0;32m     58\u001b[0m \u001b[38;5;250m    \u001b[39m\u001b[38;5;124;03m\"\"\" Embed a list of n words into an n-dimensional\u001b[39;00m\n\u001b[0;32m     59\u001b[0m \u001b[38;5;124;03m    matrix of embeddings\u001b[39;00m\n\u001b[0;32m     60\u001b[0m \n\u001b[1;32m   (...)\u001b[0m\n\u001b[0;32m     67\u001b[0m \u001b[38;5;124;03m        that each have an embeddings size of `m`\u001b[39;00m\n\u001b[0;32m     68\u001b[0m \u001b[38;5;124;03m    \"\"\"\u001b[39;00m\n\u001b[1;32m---> 69\u001b[0m     \u001b[38;5;28;01mreturn\u001b[39;00m \u001b[38;5;28;43mself\u001b[39;49m\u001b[38;5;241;43m.\u001b[39;49m\u001b[43membed\u001b[49m\u001b[43m(\u001b[49m\u001b[43mdocument\u001b[49m\u001b[43m,\u001b[49m\u001b[43m \u001b[49m\u001b[43mverbose\u001b[49m\u001b[43m)\u001b[49m\n",
            "File \u001b[1;32mc:\\Users\\David-Desktop\\miniconda3\\envs\\NLP\\lib\\site-packages\\bertopic\\backend\\_sentencetransformers.py:65\u001b[0m, in \u001b[0;36mSentenceTransformerBackend.embed\u001b[1;34m(self, documents, verbose)\u001b[0m\n\u001b[0;32m     51\u001b[0m \u001b[38;5;28;01mdef\u001b[39;00m \u001b[38;5;21membed\u001b[39m(\u001b[38;5;28mself\u001b[39m,\n\u001b[0;32m     52\u001b[0m           documents: List[\u001b[38;5;28mstr\u001b[39m],\n\u001b[0;32m     53\u001b[0m           verbose: \u001b[38;5;28mbool\u001b[39m \u001b[38;5;241m=\u001b[39m \u001b[38;5;28;01mFalse\u001b[39;00m) \u001b[38;5;241m-\u001b[39m\u001b[38;5;241m>\u001b[39m np\u001b[38;5;241m.\u001b[39mndarray:\n\u001b[0;32m     54\u001b[0m \u001b[38;5;250m    \u001b[39m\u001b[38;5;124;03m\"\"\" Embed a list of n documents/words into an n-dimensional\u001b[39;00m\n\u001b[0;32m     55\u001b[0m \u001b[38;5;124;03m    matrix of embeddings\u001b[39;00m\n\u001b[0;32m     56\u001b[0m \n\u001b[1;32m   (...)\u001b[0m\n\u001b[0;32m     63\u001b[0m \u001b[38;5;124;03m        that each have an embeddings size of `m`\u001b[39;00m\n\u001b[0;32m     64\u001b[0m \u001b[38;5;124;03m    \"\"\"\u001b[39;00m\n\u001b[1;32m---> 65\u001b[0m     embeddings \u001b[38;5;241m=\u001b[39m \u001b[38;5;28;43mself\u001b[39;49m\u001b[38;5;241;43m.\u001b[39;49m\u001b[43membedding_model\u001b[49m\u001b[38;5;241;43m.\u001b[39;49m\u001b[43mencode\u001b[49m\u001b[43m(\u001b[49m\u001b[43mdocuments\u001b[49m\u001b[43m,\u001b[49m\u001b[43m \u001b[49m\u001b[43mshow_progress_bar\u001b[49m\u001b[38;5;241;43m=\u001b[39;49m\u001b[43mverbose\u001b[49m\u001b[43m)\u001b[49m\n\u001b[0;32m     66\u001b[0m     \u001b[38;5;28;01mreturn\u001b[39;00m embeddings\n",
            "File \u001b[1;32mc:\\Users\\David-Desktop\\miniconda3\\envs\\NLP\\lib\\site-packages\\sentence_transformers\\SentenceTransformer.py:165\u001b[0m, in \u001b[0;36mSentenceTransformer.encode\u001b[1;34m(self, sentences, batch_size, show_progress_bar, output_value, convert_to_numpy, convert_to_tensor, device, normalize_embeddings)\u001b[0m\n\u001b[0;32m    162\u001b[0m features \u001b[38;5;241m=\u001b[39m batch_to_device(features, device)\n\u001b[0;32m    164\u001b[0m \u001b[38;5;28;01mwith\u001b[39;00m torch\u001b[38;5;241m.\u001b[39mno_grad():\n\u001b[1;32m--> 165\u001b[0m     out_features \u001b[38;5;241m=\u001b[39m \u001b[38;5;28;43mself\u001b[39;49m\u001b[38;5;241;43m.\u001b[39;49m\u001b[43mforward\u001b[49m\u001b[43m(\u001b[49m\u001b[43mfeatures\u001b[49m\u001b[43m)\u001b[49m\n\u001b[0;32m    167\u001b[0m     \u001b[38;5;28;01mif\u001b[39;00m output_value \u001b[38;5;241m==\u001b[39m \u001b[38;5;124m'\u001b[39m\u001b[38;5;124mtoken_embeddings\u001b[39m\u001b[38;5;124m'\u001b[39m:\n\u001b[0;32m    168\u001b[0m         embeddings \u001b[38;5;241m=\u001b[39m []\n",
            "File \u001b[1;32mc:\\Users\\David-Desktop\\miniconda3\\envs\\NLP\\lib\\site-packages\\torch\\nn\\modules\\container.py:215\u001b[0m, in \u001b[0;36mSequential.forward\u001b[1;34m(self, input)\u001b[0m\n\u001b[0;32m    213\u001b[0m \u001b[38;5;28;01mdef\u001b[39;00m \u001b[38;5;21mforward\u001b[39m(\u001b[38;5;28mself\u001b[39m, \u001b[38;5;28minput\u001b[39m):\n\u001b[0;32m    214\u001b[0m     \u001b[38;5;28;01mfor\u001b[39;00m module \u001b[38;5;129;01min\u001b[39;00m \u001b[38;5;28mself\u001b[39m:\n\u001b[1;32m--> 215\u001b[0m         \u001b[38;5;28minput\u001b[39m \u001b[38;5;241m=\u001b[39m \u001b[43mmodule\u001b[49m\u001b[43m(\u001b[49m\u001b[38;5;28;43minput\u001b[39;49m\u001b[43m)\u001b[49m\n\u001b[0;32m    216\u001b[0m     \u001b[38;5;28;01mreturn\u001b[39;00m \u001b[38;5;28minput\u001b[39m\n",
            "File \u001b[1;32mc:\\Users\\David-Desktop\\miniconda3\\envs\\NLP\\lib\\site-packages\\torch\\nn\\modules\\module.py:1518\u001b[0m, in \u001b[0;36mModule._wrapped_call_impl\u001b[1;34m(self, *args, **kwargs)\u001b[0m\n\u001b[0;32m   1516\u001b[0m     \u001b[38;5;28;01mreturn\u001b[39;00m \u001b[38;5;28mself\u001b[39m\u001b[38;5;241m.\u001b[39m_compiled_call_impl(\u001b[38;5;241m*\u001b[39margs, \u001b[38;5;241m*\u001b[39m\u001b[38;5;241m*\u001b[39mkwargs)  \u001b[38;5;66;03m# type: ignore[misc]\u001b[39;00m\n\u001b[0;32m   1517\u001b[0m \u001b[38;5;28;01melse\u001b[39;00m:\n\u001b[1;32m-> 1518\u001b[0m     \u001b[38;5;28;01mreturn\u001b[39;00m \u001b[38;5;28mself\u001b[39m\u001b[38;5;241m.\u001b[39m_call_impl(\u001b[38;5;241m*\u001b[39margs, \u001b[38;5;241m*\u001b[39m\u001b[38;5;241m*\u001b[39mkwargs)\n",
            "File \u001b[1;32mc:\\Users\\David-Desktop\\miniconda3\\envs\\NLP\\lib\\site-packages\\torch\\nn\\modules\\module.py:1527\u001b[0m, in \u001b[0;36mModule._call_impl\u001b[1;34m(self, *args, **kwargs)\u001b[0m\n\u001b[0;32m   1522\u001b[0m \u001b[38;5;66;03m# If we don't have any hooks, we want to skip the rest of the logic in\u001b[39;00m\n\u001b[0;32m   1523\u001b[0m \u001b[38;5;66;03m# this function, and just call forward.\u001b[39;00m\n\u001b[0;32m   1524\u001b[0m \u001b[38;5;28;01mif\u001b[39;00m \u001b[38;5;129;01mnot\u001b[39;00m (\u001b[38;5;28mself\u001b[39m\u001b[38;5;241m.\u001b[39m_backward_hooks \u001b[38;5;129;01mor\u001b[39;00m \u001b[38;5;28mself\u001b[39m\u001b[38;5;241m.\u001b[39m_backward_pre_hooks \u001b[38;5;129;01mor\u001b[39;00m \u001b[38;5;28mself\u001b[39m\u001b[38;5;241m.\u001b[39m_forward_hooks \u001b[38;5;129;01mor\u001b[39;00m \u001b[38;5;28mself\u001b[39m\u001b[38;5;241m.\u001b[39m_forward_pre_hooks\n\u001b[0;32m   1525\u001b[0m         \u001b[38;5;129;01mor\u001b[39;00m _global_backward_pre_hooks \u001b[38;5;129;01mor\u001b[39;00m _global_backward_hooks\n\u001b[0;32m   1526\u001b[0m         \u001b[38;5;129;01mor\u001b[39;00m _global_forward_hooks \u001b[38;5;129;01mor\u001b[39;00m _global_forward_pre_hooks):\n\u001b[1;32m-> 1527\u001b[0m     \u001b[38;5;28;01mreturn\u001b[39;00m forward_call(\u001b[38;5;241m*\u001b[39margs, \u001b[38;5;241m*\u001b[39m\u001b[38;5;241m*\u001b[39mkwargs)\n\u001b[0;32m   1529\u001b[0m \u001b[38;5;28;01mtry\u001b[39;00m:\n\u001b[0;32m   1530\u001b[0m     result \u001b[38;5;241m=\u001b[39m \u001b[38;5;28;01mNone\u001b[39;00m\n",
            "File \u001b[1;32mc:\\Users\\David-Desktop\\miniconda3\\envs\\NLP\\lib\\site-packages\\sentence_transformers\\models\\Transformer.py:66\u001b[0m, in \u001b[0;36mTransformer.forward\u001b[1;34m(self, features)\u001b[0m\n\u001b[0;32m     63\u001b[0m \u001b[38;5;28;01mif\u001b[39;00m \u001b[38;5;124m'\u001b[39m\u001b[38;5;124mtoken_type_ids\u001b[39m\u001b[38;5;124m'\u001b[39m \u001b[38;5;129;01min\u001b[39;00m features:\n\u001b[0;32m     64\u001b[0m     trans_features[\u001b[38;5;124m'\u001b[39m\u001b[38;5;124mtoken_type_ids\u001b[39m\u001b[38;5;124m'\u001b[39m] \u001b[38;5;241m=\u001b[39m features[\u001b[38;5;124m'\u001b[39m\u001b[38;5;124mtoken_type_ids\u001b[39m\u001b[38;5;124m'\u001b[39m]\n\u001b[1;32m---> 66\u001b[0m output_states \u001b[38;5;241m=\u001b[39m \u001b[38;5;28mself\u001b[39m\u001b[38;5;241m.\u001b[39mauto_model(\u001b[38;5;241m*\u001b[39m\u001b[38;5;241m*\u001b[39mtrans_features, return_dict\u001b[38;5;241m=\u001b[39m\u001b[38;5;28;01mFalse\u001b[39;00m)\n\u001b[0;32m     67\u001b[0m output_tokens \u001b[38;5;241m=\u001b[39m output_states[\u001b[38;5;241m0\u001b[39m]\n\u001b[0;32m     69\u001b[0m features\u001b[38;5;241m.\u001b[39mupdate({\u001b[38;5;124m'\u001b[39m\u001b[38;5;124mtoken_embeddings\u001b[39m\u001b[38;5;124m'\u001b[39m: output_tokens, \u001b[38;5;124m'\u001b[39m\u001b[38;5;124mattention_mask\u001b[39m\u001b[38;5;124m'\u001b[39m: features[\u001b[38;5;124m'\u001b[39m\u001b[38;5;124mattention_mask\u001b[39m\u001b[38;5;124m'\u001b[39m]})\n",
            "File \u001b[1;32mc:\\Users\\David-Desktop\\miniconda3\\envs\\NLP\\lib\\site-packages\\torch\\nn\\modules\\module.py:1518\u001b[0m, in \u001b[0;36mModule._wrapped_call_impl\u001b[1;34m(self, *args, **kwargs)\u001b[0m\n\u001b[0;32m   1516\u001b[0m     \u001b[38;5;28;01mreturn\u001b[39;00m \u001b[38;5;28mself\u001b[39m\u001b[38;5;241m.\u001b[39m_compiled_call_impl(\u001b[38;5;241m*\u001b[39margs, \u001b[38;5;241m*\u001b[39m\u001b[38;5;241m*\u001b[39mkwargs)  \u001b[38;5;66;03m# type: ignore[misc]\u001b[39;00m\n\u001b[0;32m   1517\u001b[0m \u001b[38;5;28;01melse\u001b[39;00m:\n\u001b[1;32m-> 1518\u001b[0m     \u001b[38;5;28;01mreturn\u001b[39;00m \u001b[38;5;28mself\u001b[39m\u001b[38;5;241m.\u001b[39m_call_impl(\u001b[38;5;241m*\u001b[39margs, \u001b[38;5;241m*\u001b[39m\u001b[38;5;241m*\u001b[39mkwargs)\n",
            "File \u001b[1;32mc:\\Users\\David-Desktop\\miniconda3\\envs\\NLP\\lib\\site-packages\\torch\\nn\\modules\\module.py:1527\u001b[0m, in \u001b[0;36mModule._call_impl\u001b[1;34m(self, *args, **kwargs)\u001b[0m\n\u001b[0;32m   1522\u001b[0m \u001b[38;5;66;03m# If we don't have any hooks, we want to skip the rest of the logic in\u001b[39;00m\n\u001b[0;32m   1523\u001b[0m \u001b[38;5;66;03m# this function, and just call forward.\u001b[39;00m\n\u001b[0;32m   1524\u001b[0m \u001b[38;5;28;01mif\u001b[39;00m \u001b[38;5;129;01mnot\u001b[39;00m (\u001b[38;5;28mself\u001b[39m\u001b[38;5;241m.\u001b[39m_backward_hooks \u001b[38;5;129;01mor\u001b[39;00m \u001b[38;5;28mself\u001b[39m\u001b[38;5;241m.\u001b[39m_backward_pre_hooks \u001b[38;5;129;01mor\u001b[39;00m \u001b[38;5;28mself\u001b[39m\u001b[38;5;241m.\u001b[39m_forward_hooks \u001b[38;5;129;01mor\u001b[39;00m \u001b[38;5;28mself\u001b[39m\u001b[38;5;241m.\u001b[39m_forward_pre_hooks\n\u001b[0;32m   1525\u001b[0m         \u001b[38;5;129;01mor\u001b[39;00m _global_backward_pre_hooks \u001b[38;5;129;01mor\u001b[39;00m _global_backward_hooks\n\u001b[0;32m   1526\u001b[0m         \u001b[38;5;129;01mor\u001b[39;00m _global_forward_hooks \u001b[38;5;129;01mor\u001b[39;00m _global_forward_pre_hooks):\n\u001b[1;32m-> 1527\u001b[0m     \u001b[38;5;28;01mreturn\u001b[39;00m forward_call(\u001b[38;5;241m*\u001b[39margs, \u001b[38;5;241m*\u001b[39m\u001b[38;5;241m*\u001b[39mkwargs)\n\u001b[0;32m   1529\u001b[0m \u001b[38;5;28;01mtry\u001b[39;00m:\n\u001b[0;32m   1530\u001b[0m     result \u001b[38;5;241m=\u001b[39m \u001b[38;5;28;01mNone\u001b[39;00m\n",
            "File \u001b[1;32mc:\\Users\\David-Desktop\\miniconda3\\envs\\NLP\\lib\\site-packages\\transformers\\models\\bert\\modeling_bert.py:1013\u001b[0m, in \u001b[0;36mBertModel.forward\u001b[1;34m(self, input_ids, attention_mask, token_type_ids, position_ids, head_mask, inputs_embeds, encoder_hidden_states, encoder_attention_mask, past_key_values, use_cache, output_attentions, output_hidden_states, return_dict)\u001b[0m\n\u001b[0;32m   1004\u001b[0m head_mask \u001b[38;5;241m=\u001b[39m \u001b[38;5;28mself\u001b[39m\u001b[38;5;241m.\u001b[39mget_head_mask(head_mask, \u001b[38;5;28mself\u001b[39m\u001b[38;5;241m.\u001b[39mconfig\u001b[38;5;241m.\u001b[39mnum_hidden_layers)\n\u001b[0;32m   1006\u001b[0m embedding_output \u001b[38;5;241m=\u001b[39m \u001b[38;5;28mself\u001b[39m\u001b[38;5;241m.\u001b[39membeddings(\n\u001b[0;32m   1007\u001b[0m     input_ids\u001b[38;5;241m=\u001b[39minput_ids,\n\u001b[0;32m   1008\u001b[0m     position_ids\u001b[38;5;241m=\u001b[39mposition_ids,\n\u001b[1;32m   (...)\u001b[0m\n\u001b[0;32m   1011\u001b[0m     past_key_values_length\u001b[38;5;241m=\u001b[39mpast_key_values_length,\n\u001b[0;32m   1012\u001b[0m )\n\u001b[1;32m-> 1013\u001b[0m encoder_outputs \u001b[38;5;241m=\u001b[39m \u001b[38;5;28;43mself\u001b[39;49m\u001b[38;5;241;43m.\u001b[39;49m\u001b[43mencoder\u001b[49m\u001b[43m(\u001b[49m\n\u001b[0;32m   1014\u001b[0m \u001b[43m    \u001b[49m\u001b[43membedding_output\u001b[49m\u001b[43m,\u001b[49m\n\u001b[0;32m   1015\u001b[0m \u001b[43m    \u001b[49m\u001b[43mattention_mask\u001b[49m\u001b[38;5;241;43m=\u001b[39;49m\u001b[43mextended_attention_mask\u001b[49m\u001b[43m,\u001b[49m\n\u001b[0;32m   1016\u001b[0m \u001b[43m    \u001b[49m\u001b[43mhead_mask\u001b[49m\u001b[38;5;241;43m=\u001b[39;49m\u001b[43mhead_mask\u001b[49m\u001b[43m,\u001b[49m\n\u001b[0;32m   1017\u001b[0m \u001b[43m    \u001b[49m\u001b[43mencoder_hidden_states\u001b[49m\u001b[38;5;241;43m=\u001b[39;49m\u001b[43mencoder_hidden_states\u001b[49m\u001b[43m,\u001b[49m\n\u001b[0;32m   1018\u001b[0m \u001b[43m    \u001b[49m\u001b[43mencoder_attention_mask\u001b[49m\u001b[38;5;241;43m=\u001b[39;49m\u001b[43mencoder_extended_attention_mask\u001b[49m\u001b[43m,\u001b[49m\n\u001b[0;32m   1019\u001b[0m \u001b[43m    \u001b[49m\u001b[43mpast_key_values\u001b[49m\u001b[38;5;241;43m=\u001b[39;49m\u001b[43mpast_key_values\u001b[49m\u001b[43m,\u001b[49m\n\u001b[0;32m   1020\u001b[0m \u001b[43m    \u001b[49m\u001b[43muse_cache\u001b[49m\u001b[38;5;241;43m=\u001b[39;49m\u001b[43muse_cache\u001b[49m\u001b[43m,\u001b[49m\n\u001b[0;32m   1021\u001b[0m \u001b[43m    \u001b[49m\u001b[43moutput_attentions\u001b[49m\u001b[38;5;241;43m=\u001b[39;49m\u001b[43moutput_attentions\u001b[49m\u001b[43m,\u001b[49m\n\u001b[0;32m   1022\u001b[0m \u001b[43m    \u001b[49m\u001b[43moutput_hidden_states\u001b[49m\u001b[38;5;241;43m=\u001b[39;49m\u001b[43moutput_hidden_states\u001b[49m\u001b[43m,\u001b[49m\n\u001b[0;32m   1023\u001b[0m \u001b[43m    \u001b[49m\u001b[43mreturn_dict\u001b[49m\u001b[38;5;241;43m=\u001b[39;49m\u001b[43mreturn_dict\u001b[49m\u001b[43m,\u001b[49m\n\u001b[0;32m   1024\u001b[0m \u001b[43m\u001b[49m\u001b[43m)\u001b[49m\n\u001b[0;32m   1025\u001b[0m sequence_output \u001b[38;5;241m=\u001b[39m encoder_outputs[\u001b[38;5;241m0\u001b[39m]\n\u001b[0;32m   1026\u001b[0m pooled_output \u001b[38;5;241m=\u001b[39m \u001b[38;5;28mself\u001b[39m\u001b[38;5;241m.\u001b[39mpooler(sequence_output) \u001b[38;5;28;01mif\u001b[39;00m \u001b[38;5;28mself\u001b[39m\u001b[38;5;241m.\u001b[39mpooler \u001b[38;5;129;01mis\u001b[39;00m \u001b[38;5;129;01mnot\u001b[39;00m \u001b[38;5;28;01mNone\u001b[39;00m \u001b[38;5;28;01melse\u001b[39;00m \u001b[38;5;28;01mNone\u001b[39;00m\n",
            "File \u001b[1;32mc:\\Users\\David-Desktop\\miniconda3\\envs\\NLP\\lib\\site-packages\\torch\\nn\\modules\\module.py:1518\u001b[0m, in \u001b[0;36mModule._wrapped_call_impl\u001b[1;34m(self, *args, **kwargs)\u001b[0m\n\u001b[0;32m   1516\u001b[0m     \u001b[38;5;28;01mreturn\u001b[39;00m \u001b[38;5;28mself\u001b[39m\u001b[38;5;241m.\u001b[39m_compiled_call_impl(\u001b[38;5;241m*\u001b[39margs, \u001b[38;5;241m*\u001b[39m\u001b[38;5;241m*\u001b[39mkwargs)  \u001b[38;5;66;03m# type: ignore[misc]\u001b[39;00m\n\u001b[0;32m   1517\u001b[0m \u001b[38;5;28;01melse\u001b[39;00m:\n\u001b[1;32m-> 1518\u001b[0m     \u001b[38;5;28;01mreturn\u001b[39;00m \u001b[38;5;28mself\u001b[39m\u001b[38;5;241m.\u001b[39m_call_impl(\u001b[38;5;241m*\u001b[39margs, \u001b[38;5;241m*\u001b[39m\u001b[38;5;241m*\u001b[39mkwargs)\n",
            "File \u001b[1;32mc:\\Users\\David-Desktop\\miniconda3\\envs\\NLP\\lib\\site-packages\\torch\\nn\\modules\\module.py:1527\u001b[0m, in \u001b[0;36mModule._call_impl\u001b[1;34m(self, *args, **kwargs)\u001b[0m\n\u001b[0;32m   1522\u001b[0m \u001b[38;5;66;03m# If we don't have any hooks, we want to skip the rest of the logic in\u001b[39;00m\n\u001b[0;32m   1523\u001b[0m \u001b[38;5;66;03m# this function, and just call forward.\u001b[39;00m\n\u001b[0;32m   1524\u001b[0m \u001b[38;5;28;01mif\u001b[39;00m \u001b[38;5;129;01mnot\u001b[39;00m (\u001b[38;5;28mself\u001b[39m\u001b[38;5;241m.\u001b[39m_backward_hooks \u001b[38;5;129;01mor\u001b[39;00m \u001b[38;5;28mself\u001b[39m\u001b[38;5;241m.\u001b[39m_backward_pre_hooks \u001b[38;5;129;01mor\u001b[39;00m \u001b[38;5;28mself\u001b[39m\u001b[38;5;241m.\u001b[39m_forward_hooks \u001b[38;5;129;01mor\u001b[39;00m \u001b[38;5;28mself\u001b[39m\u001b[38;5;241m.\u001b[39m_forward_pre_hooks\n\u001b[0;32m   1525\u001b[0m         \u001b[38;5;129;01mor\u001b[39;00m _global_backward_pre_hooks \u001b[38;5;129;01mor\u001b[39;00m _global_backward_hooks\n\u001b[0;32m   1526\u001b[0m         \u001b[38;5;129;01mor\u001b[39;00m _global_forward_hooks \u001b[38;5;129;01mor\u001b[39;00m _global_forward_pre_hooks):\n\u001b[1;32m-> 1527\u001b[0m     \u001b[38;5;28;01mreturn\u001b[39;00m forward_call(\u001b[38;5;241m*\u001b[39margs, \u001b[38;5;241m*\u001b[39m\u001b[38;5;241m*\u001b[39mkwargs)\n\u001b[0;32m   1529\u001b[0m \u001b[38;5;28;01mtry\u001b[39;00m:\n\u001b[0;32m   1530\u001b[0m     result \u001b[38;5;241m=\u001b[39m \u001b[38;5;28;01mNone\u001b[39;00m\n",
            "File \u001b[1;32mc:\\Users\\David-Desktop\\miniconda3\\envs\\NLP\\lib\\site-packages\\transformers\\models\\bert\\modeling_bert.py:607\u001b[0m, in \u001b[0;36mBertEncoder.forward\u001b[1;34m(self, hidden_states, attention_mask, head_mask, encoder_hidden_states, encoder_attention_mask, past_key_values, use_cache, output_attentions, output_hidden_states, return_dict)\u001b[0m\n\u001b[0;32m    596\u001b[0m     layer_outputs \u001b[38;5;241m=\u001b[39m \u001b[38;5;28mself\u001b[39m\u001b[38;5;241m.\u001b[39m_gradient_checkpointing_func(\n\u001b[0;32m    597\u001b[0m         layer_module\u001b[38;5;241m.\u001b[39m\u001b[38;5;21m__call__\u001b[39m,\n\u001b[0;32m    598\u001b[0m         hidden_states,\n\u001b[1;32m   (...)\u001b[0m\n\u001b[0;32m    604\u001b[0m         output_attentions,\n\u001b[0;32m    605\u001b[0m     )\n\u001b[0;32m    606\u001b[0m \u001b[38;5;28;01melse\u001b[39;00m:\n\u001b[1;32m--> 607\u001b[0m     layer_outputs \u001b[38;5;241m=\u001b[39m \u001b[43mlayer_module\u001b[49m\u001b[43m(\u001b[49m\n\u001b[0;32m    608\u001b[0m \u001b[43m        \u001b[49m\u001b[43mhidden_states\u001b[49m\u001b[43m,\u001b[49m\n\u001b[0;32m    609\u001b[0m \u001b[43m        \u001b[49m\u001b[43mattention_mask\u001b[49m\u001b[43m,\u001b[49m\n\u001b[0;32m    610\u001b[0m \u001b[43m        \u001b[49m\u001b[43mlayer_head_mask\u001b[49m\u001b[43m,\u001b[49m\n\u001b[0;32m    611\u001b[0m \u001b[43m        \u001b[49m\u001b[43mencoder_hidden_states\u001b[49m\u001b[43m,\u001b[49m\n\u001b[0;32m    612\u001b[0m \u001b[43m        \u001b[49m\u001b[43mencoder_attention_mask\u001b[49m\u001b[43m,\u001b[49m\n\u001b[0;32m    613\u001b[0m \u001b[43m        \u001b[49m\u001b[43mpast_key_value\u001b[49m\u001b[43m,\u001b[49m\n\u001b[0;32m    614\u001b[0m \u001b[43m        \u001b[49m\u001b[43moutput_attentions\u001b[49m\u001b[43m,\u001b[49m\n\u001b[0;32m    615\u001b[0m \u001b[43m    \u001b[49m\u001b[43m)\u001b[49m\n\u001b[0;32m    617\u001b[0m hidden_states \u001b[38;5;241m=\u001b[39m layer_outputs[\u001b[38;5;241m0\u001b[39m]\n\u001b[0;32m    618\u001b[0m \u001b[38;5;28;01mif\u001b[39;00m use_cache:\n",
            "File \u001b[1;32mc:\\Users\\David-Desktop\\miniconda3\\envs\\NLP\\lib\\site-packages\\torch\\nn\\modules\\module.py:1518\u001b[0m, in \u001b[0;36mModule._wrapped_call_impl\u001b[1;34m(self, *args, **kwargs)\u001b[0m\n\u001b[0;32m   1516\u001b[0m     \u001b[38;5;28;01mreturn\u001b[39;00m \u001b[38;5;28mself\u001b[39m\u001b[38;5;241m.\u001b[39m_compiled_call_impl(\u001b[38;5;241m*\u001b[39margs, \u001b[38;5;241m*\u001b[39m\u001b[38;5;241m*\u001b[39mkwargs)  \u001b[38;5;66;03m# type: ignore[misc]\u001b[39;00m\n\u001b[0;32m   1517\u001b[0m \u001b[38;5;28;01melse\u001b[39;00m:\n\u001b[1;32m-> 1518\u001b[0m     \u001b[38;5;28;01mreturn\u001b[39;00m \u001b[38;5;28mself\u001b[39m\u001b[38;5;241m.\u001b[39m_call_impl(\u001b[38;5;241m*\u001b[39margs, \u001b[38;5;241m*\u001b[39m\u001b[38;5;241m*\u001b[39mkwargs)\n",
            "File \u001b[1;32mc:\\Users\\David-Desktop\\miniconda3\\envs\\NLP\\lib\\site-packages\\torch\\nn\\modules\\module.py:1527\u001b[0m, in \u001b[0;36mModule._call_impl\u001b[1;34m(self, *args, **kwargs)\u001b[0m\n\u001b[0;32m   1522\u001b[0m \u001b[38;5;66;03m# If we don't have any hooks, we want to skip the rest of the logic in\u001b[39;00m\n\u001b[0;32m   1523\u001b[0m \u001b[38;5;66;03m# this function, and just call forward.\u001b[39;00m\n\u001b[0;32m   1524\u001b[0m \u001b[38;5;28;01mif\u001b[39;00m \u001b[38;5;129;01mnot\u001b[39;00m (\u001b[38;5;28mself\u001b[39m\u001b[38;5;241m.\u001b[39m_backward_hooks \u001b[38;5;129;01mor\u001b[39;00m \u001b[38;5;28mself\u001b[39m\u001b[38;5;241m.\u001b[39m_backward_pre_hooks \u001b[38;5;129;01mor\u001b[39;00m \u001b[38;5;28mself\u001b[39m\u001b[38;5;241m.\u001b[39m_forward_hooks \u001b[38;5;129;01mor\u001b[39;00m \u001b[38;5;28mself\u001b[39m\u001b[38;5;241m.\u001b[39m_forward_pre_hooks\n\u001b[0;32m   1525\u001b[0m         \u001b[38;5;129;01mor\u001b[39;00m _global_backward_pre_hooks \u001b[38;5;129;01mor\u001b[39;00m _global_backward_hooks\n\u001b[0;32m   1526\u001b[0m         \u001b[38;5;129;01mor\u001b[39;00m _global_forward_hooks \u001b[38;5;129;01mor\u001b[39;00m _global_forward_pre_hooks):\n\u001b[1;32m-> 1527\u001b[0m     \u001b[38;5;28;01mreturn\u001b[39;00m forward_call(\u001b[38;5;241m*\u001b[39margs, \u001b[38;5;241m*\u001b[39m\u001b[38;5;241m*\u001b[39mkwargs)\n\u001b[0;32m   1529\u001b[0m \u001b[38;5;28;01mtry\u001b[39;00m:\n\u001b[0;32m   1530\u001b[0m     result \u001b[38;5;241m=\u001b[39m \u001b[38;5;28;01mNone\u001b[39;00m\n",
            "File \u001b[1;32mc:\\Users\\David-Desktop\\miniconda3\\envs\\NLP\\lib\\site-packages\\transformers\\models\\bert\\modeling_bert.py:497\u001b[0m, in \u001b[0;36mBertLayer.forward\u001b[1;34m(self, hidden_states, attention_mask, head_mask, encoder_hidden_states, encoder_attention_mask, past_key_value, output_attentions)\u001b[0m\n\u001b[0;32m    485\u001b[0m \u001b[38;5;28;01mdef\u001b[39;00m \u001b[38;5;21mforward\u001b[39m(\n\u001b[0;32m    486\u001b[0m     \u001b[38;5;28mself\u001b[39m,\n\u001b[0;32m    487\u001b[0m     hidden_states: torch\u001b[38;5;241m.\u001b[39mTensor,\n\u001b[1;32m   (...)\u001b[0m\n\u001b[0;32m    494\u001b[0m ) \u001b[38;5;241m-\u001b[39m\u001b[38;5;241m>\u001b[39m Tuple[torch\u001b[38;5;241m.\u001b[39mTensor]:\n\u001b[0;32m    495\u001b[0m     \u001b[38;5;66;03m# decoder uni-directional self-attention cached key/values tuple is at positions 1,2\u001b[39;00m\n\u001b[0;32m    496\u001b[0m     self_attn_past_key_value \u001b[38;5;241m=\u001b[39m past_key_value[:\u001b[38;5;241m2\u001b[39m] \u001b[38;5;28;01mif\u001b[39;00m past_key_value \u001b[38;5;129;01mis\u001b[39;00m \u001b[38;5;129;01mnot\u001b[39;00m \u001b[38;5;28;01mNone\u001b[39;00m \u001b[38;5;28;01melse\u001b[39;00m \u001b[38;5;28;01mNone\u001b[39;00m\n\u001b[1;32m--> 497\u001b[0m     self_attention_outputs \u001b[38;5;241m=\u001b[39m \u001b[38;5;28;43mself\u001b[39;49m\u001b[38;5;241;43m.\u001b[39;49m\u001b[43mattention\u001b[49m\u001b[43m(\u001b[49m\n\u001b[0;32m    498\u001b[0m \u001b[43m        \u001b[49m\u001b[43mhidden_states\u001b[49m\u001b[43m,\u001b[49m\n\u001b[0;32m    499\u001b[0m \u001b[43m        \u001b[49m\u001b[43mattention_mask\u001b[49m\u001b[43m,\u001b[49m\n\u001b[0;32m    500\u001b[0m \u001b[43m        \u001b[49m\u001b[43mhead_mask\u001b[49m\u001b[43m,\u001b[49m\n\u001b[0;32m    501\u001b[0m \u001b[43m        \u001b[49m\u001b[43moutput_attentions\u001b[49m\u001b[38;5;241;43m=\u001b[39;49m\u001b[43moutput_attentions\u001b[49m\u001b[43m,\u001b[49m\n\u001b[0;32m    502\u001b[0m \u001b[43m        \u001b[49m\u001b[43mpast_key_value\u001b[49m\u001b[38;5;241;43m=\u001b[39;49m\u001b[43mself_attn_past_key_value\u001b[49m\u001b[43m,\u001b[49m\n\u001b[0;32m    503\u001b[0m \u001b[43m    \u001b[49m\u001b[43m)\u001b[49m\n\u001b[0;32m    504\u001b[0m     attention_output \u001b[38;5;241m=\u001b[39m self_attention_outputs[\u001b[38;5;241m0\u001b[39m]\n\u001b[0;32m    506\u001b[0m     \u001b[38;5;66;03m# if decoder, the last output is tuple of self-attn cache\u001b[39;00m\n",
            "File \u001b[1;32mc:\\Users\\David-Desktop\\miniconda3\\envs\\NLP\\lib\\site-packages\\torch\\nn\\modules\\module.py:1518\u001b[0m, in \u001b[0;36mModule._wrapped_call_impl\u001b[1;34m(self, *args, **kwargs)\u001b[0m\n\u001b[0;32m   1516\u001b[0m     \u001b[38;5;28;01mreturn\u001b[39;00m \u001b[38;5;28mself\u001b[39m\u001b[38;5;241m.\u001b[39m_compiled_call_impl(\u001b[38;5;241m*\u001b[39margs, \u001b[38;5;241m*\u001b[39m\u001b[38;5;241m*\u001b[39mkwargs)  \u001b[38;5;66;03m# type: ignore[misc]\u001b[39;00m\n\u001b[0;32m   1517\u001b[0m \u001b[38;5;28;01melse\u001b[39;00m:\n\u001b[1;32m-> 1518\u001b[0m     \u001b[38;5;28;01mreturn\u001b[39;00m \u001b[38;5;28mself\u001b[39m\u001b[38;5;241m.\u001b[39m_call_impl(\u001b[38;5;241m*\u001b[39margs, \u001b[38;5;241m*\u001b[39m\u001b[38;5;241m*\u001b[39mkwargs)\n",
            "File \u001b[1;32mc:\\Users\\David-Desktop\\miniconda3\\envs\\NLP\\lib\\site-packages\\torch\\nn\\modules\\module.py:1527\u001b[0m, in \u001b[0;36mModule._call_impl\u001b[1;34m(self, *args, **kwargs)\u001b[0m\n\u001b[0;32m   1522\u001b[0m \u001b[38;5;66;03m# If we don't have any hooks, we want to skip the rest of the logic in\u001b[39;00m\n\u001b[0;32m   1523\u001b[0m \u001b[38;5;66;03m# this function, and just call forward.\u001b[39;00m\n\u001b[0;32m   1524\u001b[0m \u001b[38;5;28;01mif\u001b[39;00m \u001b[38;5;129;01mnot\u001b[39;00m (\u001b[38;5;28mself\u001b[39m\u001b[38;5;241m.\u001b[39m_backward_hooks \u001b[38;5;129;01mor\u001b[39;00m \u001b[38;5;28mself\u001b[39m\u001b[38;5;241m.\u001b[39m_backward_pre_hooks \u001b[38;5;129;01mor\u001b[39;00m \u001b[38;5;28mself\u001b[39m\u001b[38;5;241m.\u001b[39m_forward_hooks \u001b[38;5;129;01mor\u001b[39;00m \u001b[38;5;28mself\u001b[39m\u001b[38;5;241m.\u001b[39m_forward_pre_hooks\n\u001b[0;32m   1525\u001b[0m         \u001b[38;5;129;01mor\u001b[39;00m _global_backward_pre_hooks \u001b[38;5;129;01mor\u001b[39;00m _global_backward_hooks\n\u001b[0;32m   1526\u001b[0m         \u001b[38;5;129;01mor\u001b[39;00m _global_forward_hooks \u001b[38;5;129;01mor\u001b[39;00m _global_forward_pre_hooks):\n\u001b[1;32m-> 1527\u001b[0m     \u001b[38;5;28;01mreturn\u001b[39;00m forward_call(\u001b[38;5;241m*\u001b[39margs, \u001b[38;5;241m*\u001b[39m\u001b[38;5;241m*\u001b[39mkwargs)\n\u001b[0;32m   1529\u001b[0m \u001b[38;5;28;01mtry\u001b[39;00m:\n\u001b[0;32m   1530\u001b[0m     result \u001b[38;5;241m=\u001b[39m \u001b[38;5;28;01mNone\u001b[39;00m\n",
            "File \u001b[1;32mc:\\Users\\David-Desktop\\miniconda3\\envs\\NLP\\lib\\site-packages\\transformers\\models\\bert\\modeling_bert.py:427\u001b[0m, in \u001b[0;36mBertAttention.forward\u001b[1;34m(self, hidden_states, attention_mask, head_mask, encoder_hidden_states, encoder_attention_mask, past_key_value, output_attentions)\u001b[0m\n\u001b[0;32m    417\u001b[0m \u001b[38;5;28;01mdef\u001b[39;00m \u001b[38;5;21mforward\u001b[39m(\n\u001b[0;32m    418\u001b[0m     \u001b[38;5;28mself\u001b[39m,\n\u001b[0;32m    419\u001b[0m     hidden_states: torch\u001b[38;5;241m.\u001b[39mTensor,\n\u001b[1;32m   (...)\u001b[0m\n\u001b[0;32m    425\u001b[0m     output_attentions: Optional[\u001b[38;5;28mbool\u001b[39m] \u001b[38;5;241m=\u001b[39m \u001b[38;5;28;01mFalse\u001b[39;00m,\n\u001b[0;32m    426\u001b[0m ) \u001b[38;5;241m-\u001b[39m\u001b[38;5;241m>\u001b[39m Tuple[torch\u001b[38;5;241m.\u001b[39mTensor]:\n\u001b[1;32m--> 427\u001b[0m     self_outputs \u001b[38;5;241m=\u001b[39m \u001b[38;5;28;43mself\u001b[39;49m\u001b[38;5;241;43m.\u001b[39;49m\u001b[43mself\u001b[49m\u001b[43m(\u001b[49m\n\u001b[0;32m    428\u001b[0m \u001b[43m        \u001b[49m\u001b[43mhidden_states\u001b[49m\u001b[43m,\u001b[49m\n\u001b[0;32m    429\u001b[0m \u001b[43m        \u001b[49m\u001b[43mattention_mask\u001b[49m\u001b[43m,\u001b[49m\n\u001b[0;32m    430\u001b[0m \u001b[43m        \u001b[49m\u001b[43mhead_mask\u001b[49m\u001b[43m,\u001b[49m\n\u001b[0;32m    431\u001b[0m \u001b[43m        \u001b[49m\u001b[43mencoder_hidden_states\u001b[49m\u001b[43m,\u001b[49m\n\u001b[0;32m    432\u001b[0m \u001b[43m        \u001b[49m\u001b[43mencoder_attention_mask\u001b[49m\u001b[43m,\u001b[49m\n\u001b[0;32m    433\u001b[0m \u001b[43m        \u001b[49m\u001b[43mpast_key_value\u001b[49m\u001b[43m,\u001b[49m\n\u001b[0;32m    434\u001b[0m \u001b[43m        \u001b[49m\u001b[43moutput_attentions\u001b[49m\u001b[43m,\u001b[49m\n\u001b[0;32m    435\u001b[0m \u001b[43m    \u001b[49m\u001b[43m)\u001b[49m\n\u001b[0;32m    436\u001b[0m     attention_output \u001b[38;5;241m=\u001b[39m \u001b[38;5;28mself\u001b[39m\u001b[38;5;241m.\u001b[39moutput(self_outputs[\u001b[38;5;241m0\u001b[39m], hidden_states)\n\u001b[0;32m    437\u001b[0m     outputs \u001b[38;5;241m=\u001b[39m (attention_output,) \u001b[38;5;241m+\u001b[39m self_outputs[\u001b[38;5;241m1\u001b[39m:]  \u001b[38;5;66;03m# add attentions if we output them\u001b[39;00m\n",
            "File \u001b[1;32mc:\\Users\\David-Desktop\\miniconda3\\envs\\NLP\\lib\\site-packages\\torch\\nn\\modules\\module.py:1518\u001b[0m, in \u001b[0;36mModule._wrapped_call_impl\u001b[1;34m(self, *args, **kwargs)\u001b[0m\n\u001b[0;32m   1516\u001b[0m     \u001b[38;5;28;01mreturn\u001b[39;00m \u001b[38;5;28mself\u001b[39m\u001b[38;5;241m.\u001b[39m_compiled_call_impl(\u001b[38;5;241m*\u001b[39margs, \u001b[38;5;241m*\u001b[39m\u001b[38;5;241m*\u001b[39mkwargs)  \u001b[38;5;66;03m# type: ignore[misc]\u001b[39;00m\n\u001b[0;32m   1517\u001b[0m \u001b[38;5;28;01melse\u001b[39;00m:\n\u001b[1;32m-> 1518\u001b[0m     \u001b[38;5;28;01mreturn\u001b[39;00m \u001b[38;5;28mself\u001b[39m\u001b[38;5;241m.\u001b[39m_call_impl(\u001b[38;5;241m*\u001b[39margs, \u001b[38;5;241m*\u001b[39m\u001b[38;5;241m*\u001b[39mkwargs)\n",
            "File \u001b[1;32mc:\\Users\\David-Desktop\\miniconda3\\envs\\NLP\\lib\\site-packages\\torch\\nn\\modules\\module.py:1527\u001b[0m, in \u001b[0;36mModule._call_impl\u001b[1;34m(self, *args, **kwargs)\u001b[0m\n\u001b[0;32m   1522\u001b[0m \u001b[38;5;66;03m# If we don't have any hooks, we want to skip the rest of the logic in\u001b[39;00m\n\u001b[0;32m   1523\u001b[0m \u001b[38;5;66;03m# this function, and just call forward.\u001b[39;00m\n\u001b[0;32m   1524\u001b[0m \u001b[38;5;28;01mif\u001b[39;00m \u001b[38;5;129;01mnot\u001b[39;00m (\u001b[38;5;28mself\u001b[39m\u001b[38;5;241m.\u001b[39m_backward_hooks \u001b[38;5;129;01mor\u001b[39;00m \u001b[38;5;28mself\u001b[39m\u001b[38;5;241m.\u001b[39m_backward_pre_hooks \u001b[38;5;129;01mor\u001b[39;00m \u001b[38;5;28mself\u001b[39m\u001b[38;5;241m.\u001b[39m_forward_hooks \u001b[38;5;129;01mor\u001b[39;00m \u001b[38;5;28mself\u001b[39m\u001b[38;5;241m.\u001b[39m_forward_pre_hooks\n\u001b[0;32m   1525\u001b[0m         \u001b[38;5;129;01mor\u001b[39;00m _global_backward_pre_hooks \u001b[38;5;129;01mor\u001b[39;00m _global_backward_hooks\n\u001b[0;32m   1526\u001b[0m         \u001b[38;5;129;01mor\u001b[39;00m _global_forward_hooks \u001b[38;5;129;01mor\u001b[39;00m _global_forward_pre_hooks):\n\u001b[1;32m-> 1527\u001b[0m     \u001b[38;5;28;01mreturn\u001b[39;00m forward_call(\u001b[38;5;241m*\u001b[39margs, \u001b[38;5;241m*\u001b[39m\u001b[38;5;241m*\u001b[39mkwargs)\n\u001b[0;32m   1529\u001b[0m \u001b[38;5;28;01mtry\u001b[39;00m:\n\u001b[0;32m   1530\u001b[0m     result \u001b[38;5;241m=\u001b[39m \u001b[38;5;28;01mNone\u001b[39;00m\n",
            "File \u001b[1;32mc:\\Users\\David-Desktop\\miniconda3\\envs\\NLP\\lib\\site-packages\\transformers\\models\\bert\\modeling_bert.py:309\u001b[0m, in \u001b[0;36mBertSelfAttention.forward\u001b[1;34m(self, hidden_states, attention_mask, head_mask, encoder_hidden_states, encoder_attention_mask, past_key_value, output_attentions)\u001b[0m\n\u001b[0;32m    307\u001b[0m \u001b[38;5;28;01melse\u001b[39;00m:\n\u001b[0;32m    308\u001b[0m     key_layer \u001b[38;5;241m=\u001b[39m \u001b[38;5;28mself\u001b[39m\u001b[38;5;241m.\u001b[39mtranspose_for_scores(\u001b[38;5;28mself\u001b[39m\u001b[38;5;241m.\u001b[39mkey(hidden_states))\n\u001b[1;32m--> 309\u001b[0m     value_layer \u001b[38;5;241m=\u001b[39m \u001b[38;5;28mself\u001b[39m\u001b[38;5;241m.\u001b[39mtranspose_for_scores(\u001b[38;5;28;43mself\u001b[39;49m\u001b[38;5;241;43m.\u001b[39;49m\u001b[43mvalue\u001b[49m\u001b[43m(\u001b[49m\u001b[43mhidden_states\u001b[49m\u001b[43m)\u001b[49m)\n\u001b[0;32m    311\u001b[0m query_layer \u001b[38;5;241m=\u001b[39m \u001b[38;5;28mself\u001b[39m\u001b[38;5;241m.\u001b[39mtranspose_for_scores(mixed_query_layer)\n\u001b[0;32m    313\u001b[0m use_cache \u001b[38;5;241m=\u001b[39m past_key_value \u001b[38;5;129;01mis\u001b[39;00m \u001b[38;5;129;01mnot\u001b[39;00m \u001b[38;5;28;01mNone\u001b[39;00m\n",
            "File \u001b[1;32mc:\\Users\\David-Desktop\\miniconda3\\envs\\NLP\\lib\\site-packages\\torch\\nn\\modules\\module.py:1518\u001b[0m, in \u001b[0;36mModule._wrapped_call_impl\u001b[1;34m(self, *args, **kwargs)\u001b[0m\n\u001b[0;32m   1516\u001b[0m     \u001b[38;5;28;01mreturn\u001b[39;00m \u001b[38;5;28mself\u001b[39m\u001b[38;5;241m.\u001b[39m_compiled_call_impl(\u001b[38;5;241m*\u001b[39margs, \u001b[38;5;241m*\u001b[39m\u001b[38;5;241m*\u001b[39mkwargs)  \u001b[38;5;66;03m# type: ignore[misc]\u001b[39;00m\n\u001b[0;32m   1517\u001b[0m \u001b[38;5;28;01melse\u001b[39;00m:\n\u001b[1;32m-> 1518\u001b[0m     \u001b[38;5;28;01mreturn\u001b[39;00m \u001b[38;5;28mself\u001b[39m\u001b[38;5;241m.\u001b[39m_call_impl(\u001b[38;5;241m*\u001b[39margs, \u001b[38;5;241m*\u001b[39m\u001b[38;5;241m*\u001b[39mkwargs)\n",
            "File \u001b[1;32mc:\\Users\\David-Desktop\\miniconda3\\envs\\NLP\\lib\\site-packages\\torch\\nn\\modules\\module.py:1527\u001b[0m, in \u001b[0;36mModule._call_impl\u001b[1;34m(self, *args, **kwargs)\u001b[0m\n\u001b[0;32m   1522\u001b[0m \u001b[38;5;66;03m# If we don't have any hooks, we want to skip the rest of the logic in\u001b[39;00m\n\u001b[0;32m   1523\u001b[0m \u001b[38;5;66;03m# this function, and just call forward.\u001b[39;00m\n\u001b[0;32m   1524\u001b[0m \u001b[38;5;28;01mif\u001b[39;00m \u001b[38;5;129;01mnot\u001b[39;00m (\u001b[38;5;28mself\u001b[39m\u001b[38;5;241m.\u001b[39m_backward_hooks \u001b[38;5;129;01mor\u001b[39;00m \u001b[38;5;28mself\u001b[39m\u001b[38;5;241m.\u001b[39m_backward_pre_hooks \u001b[38;5;129;01mor\u001b[39;00m \u001b[38;5;28mself\u001b[39m\u001b[38;5;241m.\u001b[39m_forward_hooks \u001b[38;5;129;01mor\u001b[39;00m \u001b[38;5;28mself\u001b[39m\u001b[38;5;241m.\u001b[39m_forward_pre_hooks\n\u001b[0;32m   1525\u001b[0m         \u001b[38;5;129;01mor\u001b[39;00m _global_backward_pre_hooks \u001b[38;5;129;01mor\u001b[39;00m _global_backward_hooks\n\u001b[0;32m   1526\u001b[0m         \u001b[38;5;129;01mor\u001b[39;00m _global_forward_hooks \u001b[38;5;129;01mor\u001b[39;00m _global_forward_pre_hooks):\n\u001b[1;32m-> 1527\u001b[0m     \u001b[38;5;28;01mreturn\u001b[39;00m forward_call(\u001b[38;5;241m*\u001b[39margs, \u001b[38;5;241m*\u001b[39m\u001b[38;5;241m*\u001b[39mkwargs)\n\u001b[0;32m   1529\u001b[0m \u001b[38;5;28;01mtry\u001b[39;00m:\n\u001b[0;32m   1530\u001b[0m     result \u001b[38;5;241m=\u001b[39m \u001b[38;5;28;01mNone\u001b[39;00m\n",
            "File \u001b[1;32mc:\\Users\\David-Desktop\\miniconda3\\envs\\NLP\\lib\\site-packages\\torch\\nn\\modules\\linear.py:114\u001b[0m, in \u001b[0;36mLinear.forward\u001b[1;34m(self, input)\u001b[0m\n\u001b[0;32m    113\u001b[0m \u001b[38;5;28;01mdef\u001b[39;00m \u001b[38;5;21mforward\u001b[39m(\u001b[38;5;28mself\u001b[39m, \u001b[38;5;28minput\u001b[39m: Tensor) \u001b[38;5;241m-\u001b[39m\u001b[38;5;241m>\u001b[39m Tensor:\n\u001b[1;32m--> 114\u001b[0m     \u001b[38;5;28;01mreturn\u001b[39;00m \u001b[43mF\u001b[49m\u001b[38;5;241;43m.\u001b[39;49m\u001b[43mlinear\u001b[49m\u001b[43m(\u001b[49m\u001b[38;5;28;43minput\u001b[39;49m\u001b[43m,\u001b[49m\u001b[43m \u001b[49m\u001b[38;5;28;43mself\u001b[39;49m\u001b[38;5;241;43m.\u001b[39;49m\u001b[43mweight\u001b[49m\u001b[43m,\u001b[49m\u001b[43m \u001b[49m\u001b[38;5;28;43mself\u001b[39;49m\u001b[38;5;241;43m.\u001b[39;49m\u001b[43mbias\u001b[49m\u001b[43m)\u001b[49m\n",
            "\u001b[1;31mKeyboardInterrupt\u001b[0m: "
          ]
        }
      ],
      "source": [
        "representation=bertopic.representation.KeyBERTInspired()\n",
        "model_trained_representation= bertopic.BERTopic(representation_model=representation,nr_topics=optimal_n)\n",
        "topics,probs = model_trained_representation.fit_transform(dataset['headline'])"
      ]
    },
    {
      "cell_type": "code",
      "execution_count": null,
      "metadata": {},
      "outputs": [
        {
          "name": "stdout",
          "output_type": "stream",
          "text": [
            "Coherence Score:  1.0 nan\n"
          ]
        },
        {
          "name": "stderr",
          "output_type": "stream",
          "text": [
            "c:\\Users\\David-Desktop\\miniconda3\\envs\\NLP\\lib\\site-packages\\numpy\\core\\fromnumeric.py:3504: RuntimeWarning: Mean of empty slice.\n",
            "  return _methods._mean(a, axis=axis, dtype=dtype,\n",
            "c:\\Users\\David-Desktop\\miniconda3\\envs\\NLP\\lib\\site-packages\\numpy\\core\\_methods.py:129: RuntimeWarning: invalid value encountered in scalar divide\n",
            "  ret = ret.dtype.type(ret / rcount)\n"
          ]
        }
      ],
      "source": [
        "dictionary = corpora.Dictionary(l_texts)\n",
        "coherence_model= CoherenceModel(model=model_trained_representation, texts=l_texts, dictionary=dictionary, coherence='c_v')\n",
        "coherence_score_cv = coherence_model.get_coherence()\n",
        "coherence_model= CoherenceModel(model=model_trained_representation, texts=l_texts, dictionary=dictionary, coherence='c_npmi')\n",
        "coherence_score_c_npmi = coherence_model.get_coherence()\n",
        "print(\"Coherence Score: \", coherence_score_cv,coherence_score_c_npmi)"
      ]
    },
    {
      "cell_type": "code",
      "execution_count": null,
      "metadata": {},
      "outputs": [
        {
          "name": "stderr",
          "output_type": "stream",
          "text": [
            "c:\\Users\\David-Desktop\\miniconda3\\envs\\NLP\\lib\\site-packages\\pandas\\core\\dtypes\\cast.py:1841: DeprecationWarning: np.find_common_type is deprecated.  Please use `np.result_type` or `np.promote_types`.\n",
            "See https://numpy.org/devdocs/release/1.25.0-notes.html and the docs for more information.  (Deprecated NumPy 1.25)\n",
            "  return np.find_common_type(types, [])\n",
            "c:\\Users\\David-Desktop\\miniconda3\\envs\\NLP\\lib\\site-packages\\pandas\\core\\dtypes\\cast.py:1841: DeprecationWarning: np.find_common_type is deprecated.  Please use `np.result_type` or `np.promote_types`.\n",
            "See https://numpy.org/devdocs/release/1.25.0-notes.html and the docs for more information.  (Deprecated NumPy 1.25)\n",
            "  return np.find_common_type(types, [])\n"
          ]
        },
        {
          "data": {
            "application/vnd.plotly.v1+json": {
              "config": {
                "plotlyServerURL": "https://plot.ly"
              },
              "data": [
                {
                  "customdata": [
                    [
                      0,
                      "hillary | sanders | clinton | trump | bernie",
                      15651
                    ],
                    [
                      1,
                      "kardashian | kardashians | kylie | kim | jennifer",
                      14225
                    ],
                    [
                      2,
                      "happiness | meditation | mindfulness | meditations | meditate",
                      7402
                    ],
                    [
                      3,
                      "parenthood | parenting | mothers | parental | motherhood",
                      5100
                    ],
                    [
                      4,
                      "vintage | ebay | photos | weekly | house",
                      5018
                    ],
                    [
                      5,
                      "isis | iran | irans | syria | sanctions",
                      4887
                    ],
                    [
                      6,
                      "recipes | recipe | cooking | cook | chef",
                      4781
                    ],
                    [
                      7,
                      "travel | traveling | travelers | destinations | trip",
                      4656
                    ],
                    [
                      8,
                      "cancer | patient | disease | patients | prostate",
                      3716
                    ],
                    [
                      9,
                      "fashion | fashionably | wardrobe | dresses | dress",
                      3687
                    ],
                    [
                      10,
                      "divorce | divorced | divorcing | alimony | marriage",
                      3222
                    ],
                    [
                      11,
                      "scalias | scalia | justice | judge | court",
                      3053
                    ],
                    [
                      12,
                      "nfl | bowl | sports | basketball | olympics",
                      2962
                    ],
                    [
                      13,
                      "pope | popes | vatican | catholic | francis",
                      2764
                    ],
                    [
                      14,
                      "homeless | homelessness | walmart | shopping | friday",
                      2695
                    ],
                    [
                      15,
                      "pets | dogs | dog | pet | pup",
                      2219
                    ],
                    [
                      16,
                      "diet | obese | obesity | fitness | exercise",
                      2055
                    ],
                    [
                      17,
                      "taxes | tax | irs | gop | fiscal",
                      2008
                    ],
                    [
                      18,
                      "huffpost | huffington | news | march | rise",
                      1962
                    ],
                    [
                      19,
                      "immigration | deported | deportations | immigrants | deportation",
                      1840
                    ],
                    [
                      20,
                      "charlottesville | confederate | charleston | carolina | civil",
                      1777
                    ],
                    [
                      21,
                      "climate | warming | sustainability | drought | environmental",
                      1767
                    ],
                    [
                      22,
                      "roundup | sunday | weekend | friday | week",
                      1694
                    ],
                    [
                      23,
                      "airlines | airline | airplane | flights | flight",
                      1565
                    ],
                    [
                      24,
                      "cardiac | hospice | funeral | dying | heart",
                      1554
                    ],
                    [
                      25,
                      "marijuana | cannabis | legalizing | legalization | legalize",
                      1368
                    ],
                    [
                      26,
                      "autism | autistic | aspergers | disabilities | adhd",
                      1284
                    ],
                    [
                      27,
                      "wine | wines | drinks | alcohol | drinking",
                      1182
                    ],
                    [
                      28,
                      "hurricane | katrina | hurricanes | typhoon | sandy",
                      1121
                    ],
                    [
                      29,
                      "gps | maps | trips | guide | trip",
                      1095
                    ],
                    [
                      30,
                      "letter | emails | open | obama | email",
                      1066
                    ],
                    [
                      31,
                      "loans | tuition | loan | students | student",
                      1061
                    ],
                    [
                      32,
                      "korea | koreas | missile | korean | icbm",
                      931
                    ],
                    [
                      33,
                      "sleep | sleeps | sleeping | insomnia | nap",
                      915
                    ],
                    [
                      34,
                      "rohingya | rohingyas | myanmars | burmas | boko",
                      821
                    ],
                    [
                      35,
                      "golfer | golfers | fifa | golf | tiger",
                      701
                    ],
                    [
                      36,
                      "martian | mars | rover | nasa | planets",
                      646
                    ],
                    [
                      37,
                      "cruise | cruises | seaworld | ships | seas",
                      562
                    ],
                    [
                      38,
                      "iphone | iphones | apple | ios | ipad",
                      523
                    ],
                    [
                      39,
                      "snow | colds | ice | winter | cold",
                      455
                    ],
                    [
                      40,
                      "nicotine | cigarettes | tobacco | smoking | cigarette",
                      351
                    ],
                    [
                      41,
                      "interview | hiring | jobs | job | jobless",
                      334
                    ],
                    [
                      42,
                      "names | naming | named | nicknames | babies",
                      334
                    ],
                    [
                      43,
                      "uber | ubers | taxis | lyft | ride",
                      264
                    ],
                    [
                      44,
                      "news | fark | farts | fart | farting",
                      259
                    ],
                    [
                      45,
                      "pain | massage | massages | fibromyalgia | aching",
                      244
                    ],
                    [
                      46,
                      "allergies | allergy | pollen | salt | peanuts",
                      232
                    ],
                    [
                      47,
                      "scott | walker | scotts | governor | walkers",
                      221
                    ],
                    [
                      48,
                      "brexit | eu | britons | brits | britains",
                      200
                    ],
                    [
                      49,
                      "patrick | patricks | irish | shamrock | irelands",
                      193
                    ],
                    [
                      50,
                      "farmers | farmer | farms | village | farmervendor",
                      167
                    ],
                    [
                      51,
                      "rock | standing | cave | stone | stones",
                      118
                    ],
                    [
                      52,
                      "gawker | gawkers | gawkercom | gawken | gabbana",
                      87
                    ],
                    [
                      53,
                      "pokemon | poke | pokemonument | pokedates | pikachu",
                      75
                    ],
                    [
                      54,
                      "dylan | nobel | dylans | nobels | laureate",
                      67
                    ],
                    [
                      55,
                      "conyers | allegations | accuser | misconduct | resign",
                      66
                    ],
                    [
                      56,
                      "1915 | 1914 | 1916 | wwis | archduke",
                      40
                    ],
                    [
                      57,
                      "normal | new | abnormal | unusual | usual",
                      33
                    ],
                    [
                      58,
                      "knives | knife | blades | chef | kitchen",
                      25
                    ],
                    [
                      59,
                      "rune | raidho | weekly | othala | tiwaz",
                      23
                    ],
                    [
                      60,
                      "ninja | ninjas | warrior | ninjalike | zakis",
                      22
                    ]
                  ],
                  "hovertemplate": "<b>Topic %{customdata[0]}</b><br>%{customdata[1]}<br>Size: %{customdata[2]}",
                  "legendgroup": "",
                  "marker": {
                    "color": "#B0BEC5",
                    "line": {
                      "color": "DarkSlateGrey",
                      "width": 2
                    },
                    "size": [
                      15651,
                      14225,
                      7402,
                      5100,
                      5018,
                      4887,
                      4781,
                      4656,
                      3716,
                      3687,
                      3222,
                      3053,
                      2962,
                      2764,
                      2695,
                      2219,
                      2055,
                      2008,
                      1962,
                      1840,
                      1777,
                      1767,
                      1694,
                      1565,
                      1554,
                      1368,
                      1284,
                      1182,
                      1121,
                      1095,
                      1066,
                      1061,
                      931,
                      915,
                      821,
                      701,
                      646,
                      562,
                      523,
                      455,
                      351,
                      334,
                      334,
                      264,
                      259,
                      244,
                      232,
                      221,
                      200,
                      193,
                      167,
                      118,
                      87,
                      75,
                      67,
                      66,
                      40,
                      33,
                      25,
                      23,
                      22
                    ],
                    "sizemode": "area",
                    "sizeref": 9.781875,
                    "symbol": "circle"
                  },
                  "mode": "markers",
                  "name": "",
                  "orientation": "v",
                  "showlegend": false,
                  "type": "scatter",
                  "x": [
                    0.910312831401825,
                    9.906357765197754,
                    9.415763854980469,
                    10.514161109924316,
                    9.486261367797852,
                    -6.342122554779053,
                    19.337812423706055,
                    6.094849586486816,
                    14.578917503356934,
                    9.837057113647461,
                    9.645620346069336,
                    0.6808521747589111,
                    1.7941383123397827,
                    0.4681956470012665,
                    6.344488620758057,
                    9.600761413574219,
                    19.320945739746094,
                    6.699667930603027,
                    0.08349346369504929,
                    0.8509743213653564,
                    0.5979341864585876,
                    -0.08680924028158188,
                    8.369815826416016,
                    5.443614482879639,
                    9.207513809204102,
                    14.567968368530273,
                    10.090811729431152,
                    19.15619659423828,
                    -0.08255559206008911,
                    5.589633464813232,
                    1.02750563621521,
                    6.392120361328125,
                    -6.2845354080200195,
                    9.073333740234375,
                    -6.357665061950684,
                    1.7941334247589111,
                    8.56612491607666,
                    6.204047203063965,
                    -0.047757647931575775,
                    0.06232935190200806,
                    14.467464447021484,
                    6.132018566131592,
                    10.63503360748291,
                    6.787874698638916,
                    9.426992416381836,
                    10.010675430297852,
                    19.721153259277344,
                    0.6066572070121765,
                    0.9222396016120911,
                    8.363325119018555,
                    6.194780349731445,
                    5.990062713623047,
                    -0.1739674210548401,
                    5.5286688804626465,
                    0.6819698214530945,
                    0.7042528390884399,
                    8.569026947021484,
                    9.547677993774414,
                    19.55380630493164,
                    8.504810333251953,
                    9.131267547607422
                  ],
                  "xaxis": "x",
                  "y": [
                    2.7588484287261963,
                    5.73390007019043,
                    8.975229263305664,
                    9.449169158935547,
                    5.736782073974609,
                    0.7172327637672424,
                    0.24842549860477448,
                    4.854262351989746,
                    -2.142033100128174,
                    5.722871780395508,
                    9.214426040649414,
                    3.6171393394470215,
                    20.213634490966797,
                    3.5927059650421143,
                    0.9029200673103333,
                    5.69198751449585,
                    0.26496508717536926,
                    0.5804010033607483,
                    2.7650017738342285,
                    2.18109393119812,
                    3.5148396492004395,
                    -6.376018524169922,
                    5.9672346115112305,
                    4.758903503417969,
                    9.138242721557617,
                    -2.1314926147460938,
                    9.554479598999023,
                    0.4295612871646881,
                    -6.3716583251953125,
                    4.8823628425598145,
                    2.812281608581543,
                    0.8541138768196106,
                    0.774847686290741,
                    8.746675491333008,
                    0.7014621496200562,
                    20.21364402770996,
                    6.2015180587768555,
                    5.136948585510254,
                    2.532806873321533,
                    -6.226871490478516,
                    -2.0307586193084717,
                    1.117071270942688,
                    9.37375545501709,
                    0.492716521024704,
                    9.239035606384277,
                    9.704894065856934,
                    -0.1355905681848526,
                    2.8801398277282715,
                    2.6441900730133057,
                    5.570715427398682,
                    1.0506839752197266,
                    4.9157538414001465,
                    2.740208864212036,
                    4.8184967041015625,
                    2.206230401992798,
                    2.4556620121002197,
                    5.864445209503174,
                    8.750694274902344,
                    0.031261857599020004,
                    5.729909420013428,
                    9.066802024841309
                  ],
                  "yaxis": "y"
                }
              ],
              "layout": {
                "annotations": [
                  {
                    "showarrow": false,
                    "text": "D1",
                    "x": -7.311314821243286,
                    "y": 7.956634664535523,
                    "yshift": 10
                  },
                  {
                    "showarrow": false,
                    "text": "D2",
                    "x": 7.684005713462829,
                    "xshift": 10,
                    "y": 23.245690631866456
                  }
                ],
                "height": 650,
                "hoverlabel": {
                  "bgcolor": "white",
                  "font": {
                    "family": "Rockwell",
                    "size": 16
                  }
                },
                "legend": {
                  "itemsizing": "constant",
                  "tracegroupgap": 0
                },
                "margin": {
                  "t": 60
                },
                "shapes": [
                  {
                    "line": {
                      "color": "#CFD8DC",
                      "width": 2
                    },
                    "type": "line",
                    "x0": 7.684005713462829,
                    "x1": 7.684005713462829,
                    "y0": -7.33242130279541,
                    "y1": 23.245690631866456
                  },
                  {
                    "line": {
                      "color": "#9E9E9E",
                      "width": 2
                    },
                    "type": "line",
                    "x0": -7.311314821243286,
                    "x1": 22.679326248168945,
                    "y0": 7.956634664535523,
                    "y1": 7.956634664535523
                  }
                ],
                "sliders": [
                  {
                    "active": 0,
                    "pad": {
                      "t": 50
                    },
                    "steps": [
                      {
                        "args": [
                          {
                            "marker.color": [
                              [
                                "red",
                                "#B0BEC5",
                                "#B0BEC5",
                                "#B0BEC5",
                                "#B0BEC5",
                                "#B0BEC5",
                                "#B0BEC5",
                                "#B0BEC5",
                                "#B0BEC5",
                                "#B0BEC5",
                                "#B0BEC5",
                                "#B0BEC5",
                                "#B0BEC5",
                                "#B0BEC5",
                                "#B0BEC5",
                                "#B0BEC5",
                                "#B0BEC5",
                                "#B0BEC5",
                                "#B0BEC5",
                                "#B0BEC5",
                                "#B0BEC5",
                                "#B0BEC5",
                                "#B0BEC5",
                                "#B0BEC5",
                                "#B0BEC5",
                                "#B0BEC5",
                                "#B0BEC5",
                                "#B0BEC5",
                                "#B0BEC5",
                                "#B0BEC5",
                                "#B0BEC5",
                                "#B0BEC5",
                                "#B0BEC5",
                                "#B0BEC5",
                                "#B0BEC5",
                                "#B0BEC5",
                                "#B0BEC5",
                                "#B0BEC5",
                                "#B0BEC5",
                                "#B0BEC5",
                                "#B0BEC5",
                                "#B0BEC5",
                                "#B0BEC5",
                                "#B0BEC5",
                                "#B0BEC5",
                                "#B0BEC5",
                                "#B0BEC5",
                                "#B0BEC5",
                                "#B0BEC5",
                                "#B0BEC5",
                                "#B0BEC5",
                                "#B0BEC5",
                                "#B0BEC5",
                                "#B0BEC5",
                                "#B0BEC5",
                                "#B0BEC5",
                                "#B0BEC5",
                                "#B0BEC5",
                                "#B0BEC5",
                                "#B0BEC5",
                                "#B0BEC5"
                              ]
                            ]
                          }
                        ],
                        "label": "Topic 0",
                        "method": "update"
                      },
                      {
                        "args": [
                          {
                            "marker.color": [
                              [
                                "#B0BEC5",
                                "red",
                                "#B0BEC5",
                                "#B0BEC5",
                                "#B0BEC5",
                                "#B0BEC5",
                                "#B0BEC5",
                                "#B0BEC5",
                                "#B0BEC5",
                                "#B0BEC5",
                                "#B0BEC5",
                                "#B0BEC5",
                                "#B0BEC5",
                                "#B0BEC5",
                                "#B0BEC5",
                                "#B0BEC5",
                                "#B0BEC5",
                                "#B0BEC5",
                                "#B0BEC5",
                                "#B0BEC5",
                                "#B0BEC5",
                                "#B0BEC5",
                                "#B0BEC5",
                                "#B0BEC5",
                                "#B0BEC5",
                                "#B0BEC5",
                                "#B0BEC5",
                                "#B0BEC5",
                                "#B0BEC5",
                                "#B0BEC5",
                                "#B0BEC5",
                                "#B0BEC5",
                                "#B0BEC5",
                                "#B0BEC5",
                                "#B0BEC5",
                                "#B0BEC5",
                                "#B0BEC5",
                                "#B0BEC5",
                                "#B0BEC5",
                                "#B0BEC5",
                                "#B0BEC5",
                                "#B0BEC5",
                                "#B0BEC5",
                                "#B0BEC5",
                                "#B0BEC5",
                                "#B0BEC5",
                                "#B0BEC5",
                                "#B0BEC5",
                                "#B0BEC5",
                                "#B0BEC5",
                                "#B0BEC5",
                                "#B0BEC5",
                                "#B0BEC5",
                                "#B0BEC5",
                                "#B0BEC5",
                                "#B0BEC5",
                                "#B0BEC5",
                                "#B0BEC5",
                                "#B0BEC5",
                                "#B0BEC5",
                                "#B0BEC5"
                              ]
                            ]
                          }
                        ],
                        "label": "Topic 1",
                        "method": "update"
                      },
                      {
                        "args": [
                          {
                            "marker.color": [
                              [
                                "#B0BEC5",
                                "#B0BEC5",
                                "red",
                                "#B0BEC5",
                                "#B0BEC5",
                                "#B0BEC5",
                                "#B0BEC5",
                                "#B0BEC5",
                                "#B0BEC5",
                                "#B0BEC5",
                                "#B0BEC5",
                                "#B0BEC5",
                                "#B0BEC5",
                                "#B0BEC5",
                                "#B0BEC5",
                                "#B0BEC5",
                                "#B0BEC5",
                                "#B0BEC5",
                                "#B0BEC5",
                                "#B0BEC5",
                                "#B0BEC5",
                                "#B0BEC5",
                                "#B0BEC5",
                                "#B0BEC5",
                                "#B0BEC5",
                                "#B0BEC5",
                                "#B0BEC5",
                                "#B0BEC5",
                                "#B0BEC5",
                                "#B0BEC5",
                                "#B0BEC5",
                                "#B0BEC5",
                                "#B0BEC5",
                                "#B0BEC5",
                                "#B0BEC5",
                                "#B0BEC5",
                                "#B0BEC5",
                                "#B0BEC5",
                                "#B0BEC5",
                                "#B0BEC5",
                                "#B0BEC5",
                                "#B0BEC5",
                                "#B0BEC5",
                                "#B0BEC5",
                                "#B0BEC5",
                                "#B0BEC5",
                                "#B0BEC5",
                                "#B0BEC5",
                                "#B0BEC5",
                                "#B0BEC5",
                                "#B0BEC5",
                                "#B0BEC5",
                                "#B0BEC5",
                                "#B0BEC5",
                                "#B0BEC5",
                                "#B0BEC5",
                                "#B0BEC5",
                                "#B0BEC5",
                                "#B0BEC5",
                                "#B0BEC5",
                                "#B0BEC5"
                              ]
                            ]
                          }
                        ],
                        "label": "Topic 2",
                        "method": "update"
                      },
                      {
                        "args": [
                          {
                            "marker.color": [
                              [
                                "#B0BEC5",
                                "#B0BEC5",
                                "#B0BEC5",
                                "red",
                                "#B0BEC5",
                                "#B0BEC5",
                                "#B0BEC5",
                                "#B0BEC5",
                                "#B0BEC5",
                                "#B0BEC5",
                                "#B0BEC5",
                                "#B0BEC5",
                                "#B0BEC5",
                                "#B0BEC5",
                                "#B0BEC5",
                                "#B0BEC5",
                                "#B0BEC5",
                                "#B0BEC5",
                                "#B0BEC5",
                                "#B0BEC5",
                                "#B0BEC5",
                                "#B0BEC5",
                                "#B0BEC5",
                                "#B0BEC5",
                                "#B0BEC5",
                                "#B0BEC5",
                                "#B0BEC5",
                                "#B0BEC5",
                                "#B0BEC5",
                                "#B0BEC5",
                                "#B0BEC5",
                                "#B0BEC5",
                                "#B0BEC5",
                                "#B0BEC5",
                                "#B0BEC5",
                                "#B0BEC5",
                                "#B0BEC5",
                                "#B0BEC5",
                                "#B0BEC5",
                                "#B0BEC5",
                                "#B0BEC5",
                                "#B0BEC5",
                                "#B0BEC5",
                                "#B0BEC5",
                                "#B0BEC5",
                                "#B0BEC5",
                                "#B0BEC5",
                                "#B0BEC5",
                                "#B0BEC5",
                                "#B0BEC5",
                                "#B0BEC5",
                                "#B0BEC5",
                                "#B0BEC5",
                                "#B0BEC5",
                                "#B0BEC5",
                                "#B0BEC5",
                                "#B0BEC5",
                                "#B0BEC5",
                                "#B0BEC5",
                                "#B0BEC5",
                                "#B0BEC5"
                              ]
                            ]
                          }
                        ],
                        "label": "Topic 3",
                        "method": "update"
                      },
                      {
                        "args": [
                          {
                            "marker.color": [
                              [
                                "#B0BEC5",
                                "#B0BEC5",
                                "#B0BEC5",
                                "#B0BEC5",
                                "red",
                                "#B0BEC5",
                                "#B0BEC5",
                                "#B0BEC5",
                                "#B0BEC5",
                                "#B0BEC5",
                                "#B0BEC5",
                                "#B0BEC5",
                                "#B0BEC5",
                                "#B0BEC5",
                                "#B0BEC5",
                                "#B0BEC5",
                                "#B0BEC5",
                                "#B0BEC5",
                                "#B0BEC5",
                                "#B0BEC5",
                                "#B0BEC5",
                                "#B0BEC5",
                                "#B0BEC5",
                                "#B0BEC5",
                                "#B0BEC5",
                                "#B0BEC5",
                                "#B0BEC5",
                                "#B0BEC5",
                                "#B0BEC5",
                                "#B0BEC5",
                                "#B0BEC5",
                                "#B0BEC5",
                                "#B0BEC5",
                                "#B0BEC5",
                                "#B0BEC5",
                                "#B0BEC5",
                                "#B0BEC5",
                                "#B0BEC5",
                                "#B0BEC5",
                                "#B0BEC5",
                                "#B0BEC5",
                                "#B0BEC5",
                                "#B0BEC5",
                                "#B0BEC5",
                                "#B0BEC5",
                                "#B0BEC5",
                                "#B0BEC5",
                                "#B0BEC5",
                                "#B0BEC5",
                                "#B0BEC5",
                                "#B0BEC5",
                                "#B0BEC5",
                                "#B0BEC5",
                                "#B0BEC5",
                                "#B0BEC5",
                                "#B0BEC5",
                                "#B0BEC5",
                                "#B0BEC5",
                                "#B0BEC5",
                                "#B0BEC5",
                                "#B0BEC5"
                              ]
                            ]
                          }
                        ],
                        "label": "Topic 4",
                        "method": "update"
                      },
                      {
                        "args": [
                          {
                            "marker.color": [
                              [
                                "#B0BEC5",
                                "#B0BEC5",
                                "#B0BEC5",
                                "#B0BEC5",
                                "#B0BEC5",
                                "red",
                                "#B0BEC5",
                                "#B0BEC5",
                                "#B0BEC5",
                                "#B0BEC5",
                                "#B0BEC5",
                                "#B0BEC5",
                                "#B0BEC5",
                                "#B0BEC5",
                                "#B0BEC5",
                                "#B0BEC5",
                                "#B0BEC5",
                                "#B0BEC5",
                                "#B0BEC5",
                                "#B0BEC5",
                                "#B0BEC5",
                                "#B0BEC5",
                                "#B0BEC5",
                                "#B0BEC5",
                                "#B0BEC5",
                                "#B0BEC5",
                                "#B0BEC5",
                                "#B0BEC5",
                                "#B0BEC5",
                                "#B0BEC5",
                                "#B0BEC5",
                                "#B0BEC5",
                                "#B0BEC5",
                                "#B0BEC5",
                                "#B0BEC5",
                                "#B0BEC5",
                                "#B0BEC5",
                                "#B0BEC5",
                                "#B0BEC5",
                                "#B0BEC5",
                                "#B0BEC5",
                                "#B0BEC5",
                                "#B0BEC5",
                                "#B0BEC5",
                                "#B0BEC5",
                                "#B0BEC5",
                                "#B0BEC5",
                                "#B0BEC5",
                                "#B0BEC5",
                                "#B0BEC5",
                                "#B0BEC5",
                                "#B0BEC5",
                                "#B0BEC5",
                                "#B0BEC5",
                                "#B0BEC5",
                                "#B0BEC5",
                                "#B0BEC5",
                                "#B0BEC5",
                                "#B0BEC5",
                                "#B0BEC5",
                                "#B0BEC5"
                              ]
                            ]
                          }
                        ],
                        "label": "Topic 5",
                        "method": "update"
                      },
                      {
                        "args": [
                          {
                            "marker.color": [
                              [
                                "#B0BEC5",
                                "#B0BEC5",
                                "#B0BEC5",
                                "#B0BEC5",
                                "#B0BEC5",
                                "#B0BEC5",
                                "red",
                                "#B0BEC5",
                                "#B0BEC5",
                                "#B0BEC5",
                                "#B0BEC5",
                                "#B0BEC5",
                                "#B0BEC5",
                                "#B0BEC5",
                                "#B0BEC5",
                                "#B0BEC5",
                                "#B0BEC5",
                                "#B0BEC5",
                                "#B0BEC5",
                                "#B0BEC5",
                                "#B0BEC5",
                                "#B0BEC5",
                                "#B0BEC5",
                                "#B0BEC5",
                                "#B0BEC5",
                                "#B0BEC5",
                                "#B0BEC5",
                                "#B0BEC5",
                                "#B0BEC5",
                                "#B0BEC5",
                                "#B0BEC5",
                                "#B0BEC5",
                                "#B0BEC5",
                                "#B0BEC5",
                                "#B0BEC5",
                                "#B0BEC5",
                                "#B0BEC5",
                                "#B0BEC5",
                                "#B0BEC5",
                                "#B0BEC5",
                                "#B0BEC5",
                                "#B0BEC5",
                                "#B0BEC5",
                                "#B0BEC5",
                                "#B0BEC5",
                                "#B0BEC5",
                                "#B0BEC5",
                                "#B0BEC5",
                                "#B0BEC5",
                                "#B0BEC5",
                                "#B0BEC5",
                                "#B0BEC5",
                                "#B0BEC5",
                                "#B0BEC5",
                                "#B0BEC5",
                                "#B0BEC5",
                                "#B0BEC5",
                                "#B0BEC5",
                                "#B0BEC5",
                                "#B0BEC5",
                                "#B0BEC5"
                              ]
                            ]
                          }
                        ],
                        "label": "Topic 6",
                        "method": "update"
                      },
                      {
                        "args": [
                          {
                            "marker.color": [
                              [
                                "#B0BEC5",
                                "#B0BEC5",
                                "#B0BEC5",
                                "#B0BEC5",
                                "#B0BEC5",
                                "#B0BEC5",
                                "#B0BEC5",
                                "red",
                                "#B0BEC5",
                                "#B0BEC5",
                                "#B0BEC5",
                                "#B0BEC5",
                                "#B0BEC5",
                                "#B0BEC5",
                                "#B0BEC5",
                                "#B0BEC5",
                                "#B0BEC5",
                                "#B0BEC5",
                                "#B0BEC5",
                                "#B0BEC5",
                                "#B0BEC5",
                                "#B0BEC5",
                                "#B0BEC5",
                                "#B0BEC5",
                                "#B0BEC5",
                                "#B0BEC5",
                                "#B0BEC5",
                                "#B0BEC5",
                                "#B0BEC5",
                                "#B0BEC5",
                                "#B0BEC5",
                                "#B0BEC5",
                                "#B0BEC5",
                                "#B0BEC5",
                                "#B0BEC5",
                                "#B0BEC5",
                                "#B0BEC5",
                                "#B0BEC5",
                                "#B0BEC5",
                                "#B0BEC5",
                                "#B0BEC5",
                                "#B0BEC5",
                                "#B0BEC5",
                                "#B0BEC5",
                                "#B0BEC5",
                                "#B0BEC5",
                                "#B0BEC5",
                                "#B0BEC5",
                                "#B0BEC5",
                                "#B0BEC5",
                                "#B0BEC5",
                                "#B0BEC5",
                                "#B0BEC5",
                                "#B0BEC5",
                                "#B0BEC5",
                                "#B0BEC5",
                                "#B0BEC5",
                                "#B0BEC5",
                                "#B0BEC5",
                                "#B0BEC5",
                                "#B0BEC5"
                              ]
                            ]
                          }
                        ],
                        "label": "Topic 7",
                        "method": "update"
                      },
                      {
                        "args": [
                          {
                            "marker.color": [
                              [
                                "#B0BEC5",
                                "#B0BEC5",
                                "#B0BEC5",
                                "#B0BEC5",
                                "#B0BEC5",
                                "#B0BEC5",
                                "#B0BEC5",
                                "#B0BEC5",
                                "red",
                                "#B0BEC5",
                                "#B0BEC5",
                                "#B0BEC5",
                                "#B0BEC5",
                                "#B0BEC5",
                                "#B0BEC5",
                                "#B0BEC5",
                                "#B0BEC5",
                                "#B0BEC5",
                                "#B0BEC5",
                                "#B0BEC5",
                                "#B0BEC5",
                                "#B0BEC5",
                                "#B0BEC5",
                                "#B0BEC5",
                                "#B0BEC5",
                                "#B0BEC5",
                                "#B0BEC5",
                                "#B0BEC5",
                                "#B0BEC5",
                                "#B0BEC5",
                                "#B0BEC5",
                                "#B0BEC5",
                                "#B0BEC5",
                                "#B0BEC5",
                                "#B0BEC5",
                                "#B0BEC5",
                                "#B0BEC5",
                                "#B0BEC5",
                                "#B0BEC5",
                                "#B0BEC5",
                                "#B0BEC5",
                                "#B0BEC5",
                                "#B0BEC5",
                                "#B0BEC5",
                                "#B0BEC5",
                                "#B0BEC5",
                                "#B0BEC5",
                                "#B0BEC5",
                                "#B0BEC5",
                                "#B0BEC5",
                                "#B0BEC5",
                                "#B0BEC5",
                                "#B0BEC5",
                                "#B0BEC5",
                                "#B0BEC5",
                                "#B0BEC5",
                                "#B0BEC5",
                                "#B0BEC5",
                                "#B0BEC5",
                                "#B0BEC5",
                                "#B0BEC5"
                              ]
                            ]
                          }
                        ],
                        "label": "Topic 8",
                        "method": "update"
                      },
                      {
                        "args": [
                          {
                            "marker.color": [
                              [
                                "#B0BEC5",
                                "#B0BEC5",
                                "#B0BEC5",
                                "#B0BEC5",
                                "#B0BEC5",
                                "#B0BEC5",
                                "#B0BEC5",
                                "#B0BEC5",
                                "#B0BEC5",
                                "red",
                                "#B0BEC5",
                                "#B0BEC5",
                                "#B0BEC5",
                                "#B0BEC5",
                                "#B0BEC5",
                                "#B0BEC5",
                                "#B0BEC5",
                                "#B0BEC5",
                                "#B0BEC5",
                                "#B0BEC5",
                                "#B0BEC5",
                                "#B0BEC5",
                                "#B0BEC5",
                                "#B0BEC5",
                                "#B0BEC5",
                                "#B0BEC5",
                                "#B0BEC5",
                                "#B0BEC5",
                                "#B0BEC5",
                                "#B0BEC5",
                                "#B0BEC5",
                                "#B0BEC5",
                                "#B0BEC5",
                                "#B0BEC5",
                                "#B0BEC5",
                                "#B0BEC5",
                                "#B0BEC5",
                                "#B0BEC5",
                                "#B0BEC5",
                                "#B0BEC5",
                                "#B0BEC5",
                                "#B0BEC5",
                                "#B0BEC5",
                                "#B0BEC5",
                                "#B0BEC5",
                                "#B0BEC5",
                                "#B0BEC5",
                                "#B0BEC5",
                                "#B0BEC5",
                                "#B0BEC5",
                                "#B0BEC5",
                                "#B0BEC5",
                                "#B0BEC5",
                                "#B0BEC5",
                                "#B0BEC5",
                                "#B0BEC5",
                                "#B0BEC5",
                                "#B0BEC5",
                                "#B0BEC5",
                                "#B0BEC5",
                                "#B0BEC5"
                              ]
                            ]
                          }
                        ],
                        "label": "Topic 9",
                        "method": "update"
                      },
                      {
                        "args": [
                          {
                            "marker.color": [
                              [
                                "#B0BEC5",
                                "#B0BEC5",
                                "#B0BEC5",
                                "#B0BEC5",
                                "#B0BEC5",
                                "#B0BEC5",
                                "#B0BEC5",
                                "#B0BEC5",
                                "#B0BEC5",
                                "#B0BEC5",
                                "red",
                                "#B0BEC5",
                                "#B0BEC5",
                                "#B0BEC5",
                                "#B0BEC5",
                                "#B0BEC5",
                                "#B0BEC5",
                                "#B0BEC5",
                                "#B0BEC5",
                                "#B0BEC5",
                                "#B0BEC5",
                                "#B0BEC5",
                                "#B0BEC5",
                                "#B0BEC5",
                                "#B0BEC5",
                                "#B0BEC5",
                                "#B0BEC5",
                                "#B0BEC5",
                                "#B0BEC5",
                                "#B0BEC5",
                                "#B0BEC5",
                                "#B0BEC5",
                                "#B0BEC5",
                                "#B0BEC5",
                                "#B0BEC5",
                                "#B0BEC5",
                                "#B0BEC5",
                                "#B0BEC5",
                                "#B0BEC5",
                                "#B0BEC5",
                                "#B0BEC5",
                                "#B0BEC5",
                                "#B0BEC5",
                                "#B0BEC5",
                                "#B0BEC5",
                                "#B0BEC5",
                                "#B0BEC5",
                                "#B0BEC5",
                                "#B0BEC5",
                                "#B0BEC5",
                                "#B0BEC5",
                                "#B0BEC5",
                                "#B0BEC5",
                                "#B0BEC5",
                                "#B0BEC5",
                                "#B0BEC5",
                                "#B0BEC5",
                                "#B0BEC5",
                                "#B0BEC5",
                                "#B0BEC5",
                                "#B0BEC5"
                              ]
                            ]
                          }
                        ],
                        "label": "Topic 10",
                        "method": "update"
                      },
                      {
                        "args": [
                          {
                            "marker.color": [
                              [
                                "#B0BEC5",
                                "#B0BEC5",
                                "#B0BEC5",
                                "#B0BEC5",
                                "#B0BEC5",
                                "#B0BEC5",
                                "#B0BEC5",
                                "#B0BEC5",
                                "#B0BEC5",
                                "#B0BEC5",
                                "#B0BEC5",
                                "red",
                                "#B0BEC5",
                                "#B0BEC5",
                                "#B0BEC5",
                                "#B0BEC5",
                                "#B0BEC5",
                                "#B0BEC5",
                                "#B0BEC5",
                                "#B0BEC5",
                                "#B0BEC5",
                                "#B0BEC5",
                                "#B0BEC5",
                                "#B0BEC5",
                                "#B0BEC5",
                                "#B0BEC5",
                                "#B0BEC5",
                                "#B0BEC5",
                                "#B0BEC5",
                                "#B0BEC5",
                                "#B0BEC5",
                                "#B0BEC5",
                                "#B0BEC5",
                                "#B0BEC5",
                                "#B0BEC5",
                                "#B0BEC5",
                                "#B0BEC5",
                                "#B0BEC5",
                                "#B0BEC5",
                                "#B0BEC5",
                                "#B0BEC5",
                                "#B0BEC5",
                                "#B0BEC5",
                                "#B0BEC5",
                                "#B0BEC5",
                                "#B0BEC5",
                                "#B0BEC5",
                                "#B0BEC5",
                                "#B0BEC5",
                                "#B0BEC5",
                                "#B0BEC5",
                                "#B0BEC5",
                                "#B0BEC5",
                                "#B0BEC5",
                                "#B0BEC5",
                                "#B0BEC5",
                                "#B0BEC5",
                                "#B0BEC5",
                                "#B0BEC5",
                                "#B0BEC5",
                                "#B0BEC5"
                              ]
                            ]
                          }
                        ],
                        "label": "Topic 11",
                        "method": "update"
                      },
                      {
                        "args": [
                          {
                            "marker.color": [
                              [
                                "#B0BEC5",
                                "#B0BEC5",
                                "#B0BEC5",
                                "#B0BEC5",
                                "#B0BEC5",
                                "#B0BEC5",
                                "#B0BEC5",
                                "#B0BEC5",
                                "#B0BEC5",
                                "#B0BEC5",
                                "#B0BEC5",
                                "#B0BEC5",
                                "red",
                                "#B0BEC5",
                                "#B0BEC5",
                                "#B0BEC5",
                                "#B0BEC5",
                                "#B0BEC5",
                                "#B0BEC5",
                                "#B0BEC5",
                                "#B0BEC5",
                                "#B0BEC5",
                                "#B0BEC5",
                                "#B0BEC5",
                                "#B0BEC5",
                                "#B0BEC5",
                                "#B0BEC5",
                                "#B0BEC5",
                                "#B0BEC5",
                                "#B0BEC5",
                                "#B0BEC5",
                                "#B0BEC5",
                                "#B0BEC5",
                                "#B0BEC5",
                                "#B0BEC5",
                                "#B0BEC5",
                                "#B0BEC5",
                                "#B0BEC5",
                                "#B0BEC5",
                                "#B0BEC5",
                                "#B0BEC5",
                                "#B0BEC5",
                                "#B0BEC5",
                                "#B0BEC5",
                                "#B0BEC5",
                                "#B0BEC5",
                                "#B0BEC5",
                                "#B0BEC5",
                                "#B0BEC5",
                                "#B0BEC5",
                                "#B0BEC5",
                                "#B0BEC5",
                                "#B0BEC5",
                                "#B0BEC5",
                                "#B0BEC5",
                                "#B0BEC5",
                                "#B0BEC5",
                                "#B0BEC5",
                                "#B0BEC5",
                                "#B0BEC5",
                                "#B0BEC5"
                              ]
                            ]
                          }
                        ],
                        "label": "Topic 12",
                        "method": "update"
                      },
                      {
                        "args": [
                          {
                            "marker.color": [
                              [
                                "#B0BEC5",
                                "#B0BEC5",
                                "#B0BEC5",
                                "#B0BEC5",
                                "#B0BEC5",
                                "#B0BEC5",
                                "#B0BEC5",
                                "#B0BEC5",
                                "#B0BEC5",
                                "#B0BEC5",
                                "#B0BEC5",
                                "#B0BEC5",
                                "#B0BEC5",
                                "red",
                                "#B0BEC5",
                                "#B0BEC5",
                                "#B0BEC5",
                                "#B0BEC5",
                                "#B0BEC5",
                                "#B0BEC5",
                                "#B0BEC5",
                                "#B0BEC5",
                                "#B0BEC5",
                                "#B0BEC5",
                                "#B0BEC5",
                                "#B0BEC5",
                                "#B0BEC5",
                                "#B0BEC5",
                                "#B0BEC5",
                                "#B0BEC5",
                                "#B0BEC5",
                                "#B0BEC5",
                                "#B0BEC5",
                                "#B0BEC5",
                                "#B0BEC5",
                                "#B0BEC5",
                                "#B0BEC5",
                                "#B0BEC5",
                                "#B0BEC5",
                                "#B0BEC5",
                                "#B0BEC5",
                                "#B0BEC5",
                                "#B0BEC5",
                                "#B0BEC5",
                                "#B0BEC5",
                                "#B0BEC5",
                                "#B0BEC5",
                                "#B0BEC5",
                                "#B0BEC5",
                                "#B0BEC5",
                                "#B0BEC5",
                                "#B0BEC5",
                                "#B0BEC5",
                                "#B0BEC5",
                                "#B0BEC5",
                                "#B0BEC5",
                                "#B0BEC5",
                                "#B0BEC5",
                                "#B0BEC5",
                                "#B0BEC5",
                                "#B0BEC5"
                              ]
                            ]
                          }
                        ],
                        "label": "Topic 13",
                        "method": "update"
                      },
                      {
                        "args": [
                          {
                            "marker.color": [
                              [
                                "#B0BEC5",
                                "#B0BEC5",
                                "#B0BEC5",
                                "#B0BEC5",
                                "#B0BEC5",
                                "#B0BEC5",
                                "#B0BEC5",
                                "#B0BEC5",
                                "#B0BEC5",
                                "#B0BEC5",
                                "#B0BEC5",
                                "#B0BEC5",
                                "#B0BEC5",
                                "#B0BEC5",
                                "red",
                                "#B0BEC5",
                                "#B0BEC5",
                                "#B0BEC5",
                                "#B0BEC5",
                                "#B0BEC5",
                                "#B0BEC5",
                                "#B0BEC5",
                                "#B0BEC5",
                                "#B0BEC5",
                                "#B0BEC5",
                                "#B0BEC5",
                                "#B0BEC5",
                                "#B0BEC5",
                                "#B0BEC5",
                                "#B0BEC5",
                                "#B0BEC5",
                                "#B0BEC5",
                                "#B0BEC5",
                                "#B0BEC5",
                                "#B0BEC5",
                                "#B0BEC5",
                                "#B0BEC5",
                                "#B0BEC5",
                                "#B0BEC5",
                                "#B0BEC5",
                                "#B0BEC5",
                                "#B0BEC5",
                                "#B0BEC5",
                                "#B0BEC5",
                                "#B0BEC5",
                                "#B0BEC5",
                                "#B0BEC5",
                                "#B0BEC5",
                                "#B0BEC5",
                                "#B0BEC5",
                                "#B0BEC5",
                                "#B0BEC5",
                                "#B0BEC5",
                                "#B0BEC5",
                                "#B0BEC5",
                                "#B0BEC5",
                                "#B0BEC5",
                                "#B0BEC5",
                                "#B0BEC5",
                                "#B0BEC5",
                                "#B0BEC5"
                              ]
                            ]
                          }
                        ],
                        "label": "Topic 14",
                        "method": "update"
                      },
                      {
                        "args": [
                          {
                            "marker.color": [
                              [
                                "#B0BEC5",
                                "#B0BEC5",
                                "#B0BEC5",
                                "#B0BEC5",
                                "#B0BEC5",
                                "#B0BEC5",
                                "#B0BEC5",
                                "#B0BEC5",
                                "#B0BEC5",
                                "#B0BEC5",
                                "#B0BEC5",
                                "#B0BEC5",
                                "#B0BEC5",
                                "#B0BEC5",
                                "#B0BEC5",
                                "red",
                                "#B0BEC5",
                                "#B0BEC5",
                                "#B0BEC5",
                                "#B0BEC5",
                                "#B0BEC5",
                                "#B0BEC5",
                                "#B0BEC5",
                                "#B0BEC5",
                                "#B0BEC5",
                                "#B0BEC5",
                                "#B0BEC5",
                                "#B0BEC5",
                                "#B0BEC5",
                                "#B0BEC5",
                                "#B0BEC5",
                                "#B0BEC5",
                                "#B0BEC5",
                                "#B0BEC5",
                                "#B0BEC5",
                                "#B0BEC5",
                                "#B0BEC5",
                                "#B0BEC5",
                                "#B0BEC5",
                                "#B0BEC5",
                                "#B0BEC5",
                                "#B0BEC5",
                                "#B0BEC5",
                                "#B0BEC5",
                                "#B0BEC5",
                                "#B0BEC5",
                                "#B0BEC5",
                                "#B0BEC5",
                                "#B0BEC5",
                                "#B0BEC5",
                                "#B0BEC5",
                                "#B0BEC5",
                                "#B0BEC5",
                                "#B0BEC5",
                                "#B0BEC5",
                                "#B0BEC5",
                                "#B0BEC5",
                                "#B0BEC5",
                                "#B0BEC5",
                                "#B0BEC5",
                                "#B0BEC5"
                              ]
                            ]
                          }
                        ],
                        "label": "Topic 15",
                        "method": "update"
                      },
                      {
                        "args": [
                          {
                            "marker.color": [
                              [
                                "#B0BEC5",
                                "#B0BEC5",
                                "#B0BEC5",
                                "#B0BEC5",
                                "#B0BEC5",
                                "#B0BEC5",
                                "#B0BEC5",
                                "#B0BEC5",
                                "#B0BEC5",
                                "#B0BEC5",
                                "#B0BEC5",
                                "#B0BEC5",
                                "#B0BEC5",
                                "#B0BEC5",
                                "#B0BEC5",
                                "#B0BEC5",
                                "red",
                                "#B0BEC5",
                                "#B0BEC5",
                                "#B0BEC5",
                                "#B0BEC5",
                                "#B0BEC5",
                                "#B0BEC5",
                                "#B0BEC5",
                                "#B0BEC5",
                                "#B0BEC5",
                                "#B0BEC5",
                                "#B0BEC5",
                                "#B0BEC5",
                                "#B0BEC5",
                                "#B0BEC5",
                                "#B0BEC5",
                                "#B0BEC5",
                                "#B0BEC5",
                                "#B0BEC5",
                                "#B0BEC5",
                                "#B0BEC5",
                                "#B0BEC5",
                                "#B0BEC5",
                                "#B0BEC5",
                                "#B0BEC5",
                                "#B0BEC5",
                                "#B0BEC5",
                                "#B0BEC5",
                                "#B0BEC5",
                                "#B0BEC5",
                                "#B0BEC5",
                                "#B0BEC5",
                                "#B0BEC5",
                                "#B0BEC5",
                                "#B0BEC5",
                                "#B0BEC5",
                                "#B0BEC5",
                                "#B0BEC5",
                                "#B0BEC5",
                                "#B0BEC5",
                                "#B0BEC5",
                                "#B0BEC5",
                                "#B0BEC5",
                                "#B0BEC5",
                                "#B0BEC5"
                              ]
                            ]
                          }
                        ],
                        "label": "Topic 16",
                        "method": "update"
                      },
                      {
                        "args": [
                          {
                            "marker.color": [
                              [
                                "#B0BEC5",
                                "#B0BEC5",
                                "#B0BEC5",
                                "#B0BEC5",
                                "#B0BEC5",
                                "#B0BEC5",
                                "#B0BEC5",
                                "#B0BEC5",
                                "#B0BEC5",
                                "#B0BEC5",
                                "#B0BEC5",
                                "#B0BEC5",
                                "#B0BEC5",
                                "#B0BEC5",
                                "#B0BEC5",
                                "#B0BEC5",
                                "#B0BEC5",
                                "red",
                                "#B0BEC5",
                                "#B0BEC5",
                                "#B0BEC5",
                                "#B0BEC5",
                                "#B0BEC5",
                                "#B0BEC5",
                                "#B0BEC5",
                                "#B0BEC5",
                                "#B0BEC5",
                                "#B0BEC5",
                                "#B0BEC5",
                                "#B0BEC5",
                                "#B0BEC5",
                                "#B0BEC5",
                                "#B0BEC5",
                                "#B0BEC5",
                                "#B0BEC5",
                                "#B0BEC5",
                                "#B0BEC5",
                                "#B0BEC5",
                                "#B0BEC5",
                                "#B0BEC5",
                                "#B0BEC5",
                                "#B0BEC5",
                                "#B0BEC5",
                                "#B0BEC5",
                                "#B0BEC5",
                                "#B0BEC5",
                                "#B0BEC5",
                                "#B0BEC5",
                                "#B0BEC5",
                                "#B0BEC5",
                                "#B0BEC5",
                                "#B0BEC5",
                                "#B0BEC5",
                                "#B0BEC5",
                                "#B0BEC5",
                                "#B0BEC5",
                                "#B0BEC5",
                                "#B0BEC5",
                                "#B0BEC5",
                                "#B0BEC5",
                                "#B0BEC5"
                              ]
                            ]
                          }
                        ],
                        "label": "Topic 17",
                        "method": "update"
                      },
                      {
                        "args": [
                          {
                            "marker.color": [
                              [
                                "#B0BEC5",
                                "#B0BEC5",
                                "#B0BEC5",
                                "#B0BEC5",
                                "#B0BEC5",
                                "#B0BEC5",
                                "#B0BEC5",
                                "#B0BEC5",
                                "#B0BEC5",
                                "#B0BEC5",
                                "#B0BEC5",
                                "#B0BEC5",
                                "#B0BEC5",
                                "#B0BEC5",
                                "#B0BEC5",
                                "#B0BEC5",
                                "#B0BEC5",
                                "#B0BEC5",
                                "red",
                                "#B0BEC5",
                                "#B0BEC5",
                                "#B0BEC5",
                                "#B0BEC5",
                                "#B0BEC5",
                                "#B0BEC5",
                                "#B0BEC5",
                                "#B0BEC5",
                                "#B0BEC5",
                                "#B0BEC5",
                                "#B0BEC5",
                                "#B0BEC5",
                                "#B0BEC5",
                                "#B0BEC5",
                                "#B0BEC5",
                                "#B0BEC5",
                                "#B0BEC5",
                                "#B0BEC5",
                                "#B0BEC5",
                                "#B0BEC5",
                                "#B0BEC5",
                                "#B0BEC5",
                                "#B0BEC5",
                                "#B0BEC5",
                                "#B0BEC5",
                                "#B0BEC5",
                                "#B0BEC5",
                                "#B0BEC5",
                                "#B0BEC5",
                                "#B0BEC5",
                                "#B0BEC5",
                                "#B0BEC5",
                                "#B0BEC5",
                                "#B0BEC5",
                                "#B0BEC5",
                                "#B0BEC5",
                                "#B0BEC5",
                                "#B0BEC5",
                                "#B0BEC5",
                                "#B0BEC5",
                                "#B0BEC5",
                                "#B0BEC5"
                              ]
                            ]
                          }
                        ],
                        "label": "Topic 18",
                        "method": "update"
                      },
                      {
                        "args": [
                          {
                            "marker.color": [
                              [
                                "#B0BEC5",
                                "#B0BEC5",
                                "#B0BEC5",
                                "#B0BEC5",
                                "#B0BEC5",
                                "#B0BEC5",
                                "#B0BEC5",
                                "#B0BEC5",
                                "#B0BEC5",
                                "#B0BEC5",
                                "#B0BEC5",
                                "#B0BEC5",
                                "#B0BEC5",
                                "#B0BEC5",
                                "#B0BEC5",
                                "#B0BEC5",
                                "#B0BEC5",
                                "#B0BEC5",
                                "#B0BEC5",
                                "red",
                                "#B0BEC5",
                                "#B0BEC5",
                                "#B0BEC5",
                                "#B0BEC5",
                                "#B0BEC5",
                                "#B0BEC5",
                                "#B0BEC5",
                                "#B0BEC5",
                                "#B0BEC5",
                                "#B0BEC5",
                                "#B0BEC5",
                                "#B0BEC5",
                                "#B0BEC5",
                                "#B0BEC5",
                                "#B0BEC5",
                                "#B0BEC5",
                                "#B0BEC5",
                                "#B0BEC5",
                                "#B0BEC5",
                                "#B0BEC5",
                                "#B0BEC5",
                                "#B0BEC5",
                                "#B0BEC5",
                                "#B0BEC5",
                                "#B0BEC5",
                                "#B0BEC5",
                                "#B0BEC5",
                                "#B0BEC5",
                                "#B0BEC5",
                                "#B0BEC5",
                                "#B0BEC5",
                                "#B0BEC5",
                                "#B0BEC5",
                                "#B0BEC5",
                                "#B0BEC5",
                                "#B0BEC5",
                                "#B0BEC5",
                                "#B0BEC5",
                                "#B0BEC5",
                                "#B0BEC5",
                                "#B0BEC5"
                              ]
                            ]
                          }
                        ],
                        "label": "Topic 19",
                        "method": "update"
                      },
                      {
                        "args": [
                          {
                            "marker.color": [
                              [
                                "#B0BEC5",
                                "#B0BEC5",
                                "#B0BEC5",
                                "#B0BEC5",
                                "#B0BEC5",
                                "#B0BEC5",
                                "#B0BEC5",
                                "#B0BEC5",
                                "#B0BEC5",
                                "#B0BEC5",
                                "#B0BEC5",
                                "#B0BEC5",
                                "#B0BEC5",
                                "#B0BEC5",
                                "#B0BEC5",
                                "#B0BEC5",
                                "#B0BEC5",
                                "#B0BEC5",
                                "#B0BEC5",
                                "#B0BEC5",
                                "red",
                                "#B0BEC5",
                                "#B0BEC5",
                                "#B0BEC5",
                                "#B0BEC5",
                                "#B0BEC5",
                                "#B0BEC5",
                                "#B0BEC5",
                                "#B0BEC5",
                                "#B0BEC5",
                                "#B0BEC5",
                                "#B0BEC5",
                                "#B0BEC5",
                                "#B0BEC5",
                                "#B0BEC5",
                                "#B0BEC5",
                                "#B0BEC5",
                                "#B0BEC5",
                                "#B0BEC5",
                                "#B0BEC5",
                                "#B0BEC5",
                                "#B0BEC5",
                                "#B0BEC5",
                                "#B0BEC5",
                                "#B0BEC5",
                                "#B0BEC5",
                                "#B0BEC5",
                                "#B0BEC5",
                                "#B0BEC5",
                                "#B0BEC5",
                                "#B0BEC5",
                                "#B0BEC5",
                                "#B0BEC5",
                                "#B0BEC5",
                                "#B0BEC5",
                                "#B0BEC5",
                                "#B0BEC5",
                                "#B0BEC5",
                                "#B0BEC5",
                                "#B0BEC5",
                                "#B0BEC5"
                              ]
                            ]
                          }
                        ],
                        "label": "Topic 20",
                        "method": "update"
                      },
                      {
                        "args": [
                          {
                            "marker.color": [
                              [
                                "#B0BEC5",
                                "#B0BEC5",
                                "#B0BEC5",
                                "#B0BEC5",
                                "#B0BEC5",
                                "#B0BEC5",
                                "#B0BEC5",
                                "#B0BEC5",
                                "#B0BEC5",
                                "#B0BEC5",
                                "#B0BEC5",
                                "#B0BEC5",
                                "#B0BEC5",
                                "#B0BEC5",
                                "#B0BEC5",
                                "#B0BEC5",
                                "#B0BEC5",
                                "#B0BEC5",
                                "#B0BEC5",
                                "#B0BEC5",
                                "#B0BEC5",
                                "red",
                                "#B0BEC5",
                                "#B0BEC5",
                                "#B0BEC5",
                                "#B0BEC5",
                                "#B0BEC5",
                                "#B0BEC5",
                                "#B0BEC5",
                                "#B0BEC5",
                                "#B0BEC5",
                                "#B0BEC5",
                                "#B0BEC5",
                                "#B0BEC5",
                                "#B0BEC5",
                                "#B0BEC5",
                                "#B0BEC5",
                                "#B0BEC5",
                                "#B0BEC5",
                                "#B0BEC5",
                                "#B0BEC5",
                                "#B0BEC5",
                                "#B0BEC5",
                                "#B0BEC5",
                                "#B0BEC5",
                                "#B0BEC5",
                                "#B0BEC5",
                                "#B0BEC5",
                                "#B0BEC5",
                                "#B0BEC5",
                                "#B0BEC5",
                                "#B0BEC5",
                                "#B0BEC5",
                                "#B0BEC5",
                                "#B0BEC5",
                                "#B0BEC5",
                                "#B0BEC5",
                                "#B0BEC5",
                                "#B0BEC5",
                                "#B0BEC5",
                                "#B0BEC5"
                              ]
                            ]
                          }
                        ],
                        "label": "Topic 21",
                        "method": "update"
                      },
                      {
                        "args": [
                          {
                            "marker.color": [
                              [
                                "#B0BEC5",
                                "#B0BEC5",
                                "#B0BEC5",
                                "#B0BEC5",
                                "#B0BEC5",
                                "#B0BEC5",
                                "#B0BEC5",
                                "#B0BEC5",
                                "#B0BEC5",
                                "#B0BEC5",
                                "#B0BEC5",
                                "#B0BEC5",
                                "#B0BEC5",
                                "#B0BEC5",
                                "#B0BEC5",
                                "#B0BEC5",
                                "#B0BEC5",
                                "#B0BEC5",
                                "#B0BEC5",
                                "#B0BEC5",
                                "#B0BEC5",
                                "#B0BEC5",
                                "red",
                                "#B0BEC5",
                                "#B0BEC5",
                                "#B0BEC5",
                                "#B0BEC5",
                                "#B0BEC5",
                                "#B0BEC5",
                                "#B0BEC5",
                                "#B0BEC5",
                                "#B0BEC5",
                                "#B0BEC5",
                                "#B0BEC5",
                                "#B0BEC5",
                                "#B0BEC5",
                                "#B0BEC5",
                                "#B0BEC5",
                                "#B0BEC5",
                                "#B0BEC5",
                                "#B0BEC5",
                                "#B0BEC5",
                                "#B0BEC5",
                                "#B0BEC5",
                                "#B0BEC5",
                                "#B0BEC5",
                                "#B0BEC5",
                                "#B0BEC5",
                                "#B0BEC5",
                                "#B0BEC5",
                                "#B0BEC5",
                                "#B0BEC5",
                                "#B0BEC5",
                                "#B0BEC5",
                                "#B0BEC5",
                                "#B0BEC5",
                                "#B0BEC5",
                                "#B0BEC5",
                                "#B0BEC5",
                                "#B0BEC5",
                                "#B0BEC5"
                              ]
                            ]
                          }
                        ],
                        "label": "Topic 22",
                        "method": "update"
                      },
                      {
                        "args": [
                          {
                            "marker.color": [
                              [
                                "#B0BEC5",
                                "#B0BEC5",
                                "#B0BEC5",
                                "#B0BEC5",
                                "#B0BEC5",
                                "#B0BEC5",
                                "#B0BEC5",
                                "#B0BEC5",
                                "#B0BEC5",
                                "#B0BEC5",
                                "#B0BEC5",
                                "#B0BEC5",
                                "#B0BEC5",
                                "#B0BEC5",
                                "#B0BEC5",
                                "#B0BEC5",
                                "#B0BEC5",
                                "#B0BEC5",
                                "#B0BEC5",
                                "#B0BEC5",
                                "#B0BEC5",
                                "#B0BEC5",
                                "#B0BEC5",
                                "red",
                                "#B0BEC5",
                                "#B0BEC5",
                                "#B0BEC5",
                                "#B0BEC5",
                                "#B0BEC5",
                                "#B0BEC5",
                                "#B0BEC5",
                                "#B0BEC5",
                                "#B0BEC5",
                                "#B0BEC5",
                                "#B0BEC5",
                                "#B0BEC5",
                                "#B0BEC5",
                                "#B0BEC5",
                                "#B0BEC5",
                                "#B0BEC5",
                                "#B0BEC5",
                                "#B0BEC5",
                                "#B0BEC5",
                                "#B0BEC5",
                                "#B0BEC5",
                                "#B0BEC5",
                                "#B0BEC5",
                                "#B0BEC5",
                                "#B0BEC5",
                                "#B0BEC5",
                                "#B0BEC5",
                                "#B0BEC5",
                                "#B0BEC5",
                                "#B0BEC5",
                                "#B0BEC5",
                                "#B0BEC5",
                                "#B0BEC5",
                                "#B0BEC5",
                                "#B0BEC5",
                                "#B0BEC5",
                                "#B0BEC5"
                              ]
                            ]
                          }
                        ],
                        "label": "Topic 23",
                        "method": "update"
                      },
                      {
                        "args": [
                          {
                            "marker.color": [
                              [
                                "#B0BEC5",
                                "#B0BEC5",
                                "#B0BEC5",
                                "#B0BEC5",
                                "#B0BEC5",
                                "#B0BEC5",
                                "#B0BEC5",
                                "#B0BEC5",
                                "#B0BEC5",
                                "#B0BEC5",
                                "#B0BEC5",
                                "#B0BEC5",
                                "#B0BEC5",
                                "#B0BEC5",
                                "#B0BEC5",
                                "#B0BEC5",
                                "#B0BEC5",
                                "#B0BEC5",
                                "#B0BEC5",
                                "#B0BEC5",
                                "#B0BEC5",
                                "#B0BEC5",
                                "#B0BEC5",
                                "#B0BEC5",
                                "red",
                                "#B0BEC5",
                                "#B0BEC5",
                                "#B0BEC5",
                                "#B0BEC5",
                                "#B0BEC5",
                                "#B0BEC5",
                                "#B0BEC5",
                                "#B0BEC5",
                                "#B0BEC5",
                                "#B0BEC5",
                                "#B0BEC5",
                                "#B0BEC5",
                                "#B0BEC5",
                                "#B0BEC5",
                                "#B0BEC5",
                                "#B0BEC5",
                                "#B0BEC5",
                                "#B0BEC5",
                                "#B0BEC5",
                                "#B0BEC5",
                                "#B0BEC5",
                                "#B0BEC5",
                                "#B0BEC5",
                                "#B0BEC5",
                                "#B0BEC5",
                                "#B0BEC5",
                                "#B0BEC5",
                                "#B0BEC5",
                                "#B0BEC5",
                                "#B0BEC5",
                                "#B0BEC5",
                                "#B0BEC5",
                                "#B0BEC5",
                                "#B0BEC5",
                                "#B0BEC5",
                                "#B0BEC5"
                              ]
                            ]
                          }
                        ],
                        "label": "Topic 24",
                        "method": "update"
                      },
                      {
                        "args": [
                          {
                            "marker.color": [
                              [
                                "#B0BEC5",
                                "#B0BEC5",
                                "#B0BEC5",
                                "#B0BEC5",
                                "#B0BEC5",
                                "#B0BEC5",
                                "#B0BEC5",
                                "#B0BEC5",
                                "#B0BEC5",
                                "#B0BEC5",
                                "#B0BEC5",
                                "#B0BEC5",
                                "#B0BEC5",
                                "#B0BEC5",
                                "#B0BEC5",
                                "#B0BEC5",
                                "#B0BEC5",
                                "#B0BEC5",
                                "#B0BEC5",
                                "#B0BEC5",
                                "#B0BEC5",
                                "#B0BEC5",
                                "#B0BEC5",
                                "#B0BEC5",
                                "#B0BEC5",
                                "red",
                                "#B0BEC5",
                                "#B0BEC5",
                                "#B0BEC5",
                                "#B0BEC5",
                                "#B0BEC5",
                                "#B0BEC5",
                                "#B0BEC5",
                                "#B0BEC5",
                                "#B0BEC5",
                                "#B0BEC5",
                                "#B0BEC5",
                                "#B0BEC5",
                                "#B0BEC5",
                                "#B0BEC5",
                                "#B0BEC5",
                                "#B0BEC5",
                                "#B0BEC5",
                                "#B0BEC5",
                                "#B0BEC5",
                                "#B0BEC5",
                                "#B0BEC5",
                                "#B0BEC5",
                                "#B0BEC5",
                                "#B0BEC5",
                                "#B0BEC5",
                                "#B0BEC5",
                                "#B0BEC5",
                                "#B0BEC5",
                                "#B0BEC5",
                                "#B0BEC5",
                                "#B0BEC5",
                                "#B0BEC5",
                                "#B0BEC5",
                                "#B0BEC5",
                                "#B0BEC5"
                              ]
                            ]
                          }
                        ],
                        "label": "Topic 25",
                        "method": "update"
                      },
                      {
                        "args": [
                          {
                            "marker.color": [
                              [
                                "#B0BEC5",
                                "#B0BEC5",
                                "#B0BEC5",
                                "#B0BEC5",
                                "#B0BEC5",
                                "#B0BEC5",
                                "#B0BEC5",
                                "#B0BEC5",
                                "#B0BEC5",
                                "#B0BEC5",
                                "#B0BEC5",
                                "#B0BEC5",
                                "#B0BEC5",
                                "#B0BEC5",
                                "#B0BEC5",
                                "#B0BEC5",
                                "#B0BEC5",
                                "#B0BEC5",
                                "#B0BEC5",
                                "#B0BEC5",
                                "#B0BEC5",
                                "#B0BEC5",
                                "#B0BEC5",
                                "#B0BEC5",
                                "#B0BEC5",
                                "#B0BEC5",
                                "red",
                                "#B0BEC5",
                                "#B0BEC5",
                                "#B0BEC5",
                                "#B0BEC5",
                                "#B0BEC5",
                                "#B0BEC5",
                                "#B0BEC5",
                                "#B0BEC5",
                                "#B0BEC5",
                                "#B0BEC5",
                                "#B0BEC5",
                                "#B0BEC5",
                                "#B0BEC5",
                                "#B0BEC5",
                                "#B0BEC5",
                                "#B0BEC5",
                                "#B0BEC5",
                                "#B0BEC5",
                                "#B0BEC5",
                                "#B0BEC5",
                                "#B0BEC5",
                                "#B0BEC5",
                                "#B0BEC5",
                                "#B0BEC5",
                                "#B0BEC5",
                                "#B0BEC5",
                                "#B0BEC5",
                                "#B0BEC5",
                                "#B0BEC5",
                                "#B0BEC5",
                                "#B0BEC5",
                                "#B0BEC5",
                                "#B0BEC5",
                                "#B0BEC5"
                              ]
                            ]
                          }
                        ],
                        "label": "Topic 26",
                        "method": "update"
                      },
                      {
                        "args": [
                          {
                            "marker.color": [
                              [
                                "#B0BEC5",
                                "#B0BEC5",
                                "#B0BEC5",
                                "#B0BEC5",
                                "#B0BEC5",
                                "#B0BEC5",
                                "#B0BEC5",
                                "#B0BEC5",
                                "#B0BEC5",
                                "#B0BEC5",
                                "#B0BEC5",
                                "#B0BEC5",
                                "#B0BEC5",
                                "#B0BEC5",
                                "#B0BEC5",
                                "#B0BEC5",
                                "#B0BEC5",
                                "#B0BEC5",
                                "#B0BEC5",
                                "#B0BEC5",
                                "#B0BEC5",
                                "#B0BEC5",
                                "#B0BEC5",
                                "#B0BEC5",
                                "#B0BEC5",
                                "#B0BEC5",
                                "#B0BEC5",
                                "red",
                                "#B0BEC5",
                                "#B0BEC5",
                                "#B0BEC5",
                                "#B0BEC5",
                                "#B0BEC5",
                                "#B0BEC5",
                                "#B0BEC5",
                                "#B0BEC5",
                                "#B0BEC5",
                                "#B0BEC5",
                                "#B0BEC5",
                                "#B0BEC5",
                                "#B0BEC5",
                                "#B0BEC5",
                                "#B0BEC5",
                                "#B0BEC5",
                                "#B0BEC5",
                                "#B0BEC5",
                                "#B0BEC5",
                                "#B0BEC5",
                                "#B0BEC5",
                                "#B0BEC5",
                                "#B0BEC5",
                                "#B0BEC5",
                                "#B0BEC5",
                                "#B0BEC5",
                                "#B0BEC5",
                                "#B0BEC5",
                                "#B0BEC5",
                                "#B0BEC5",
                                "#B0BEC5",
                                "#B0BEC5",
                                "#B0BEC5"
                              ]
                            ]
                          }
                        ],
                        "label": "Topic 27",
                        "method": "update"
                      },
                      {
                        "args": [
                          {
                            "marker.color": [
                              [
                                "#B0BEC5",
                                "#B0BEC5",
                                "#B0BEC5",
                                "#B0BEC5",
                                "#B0BEC5",
                                "#B0BEC5",
                                "#B0BEC5",
                                "#B0BEC5",
                                "#B0BEC5",
                                "#B0BEC5",
                                "#B0BEC5",
                                "#B0BEC5",
                                "#B0BEC5",
                                "#B0BEC5",
                                "#B0BEC5",
                                "#B0BEC5",
                                "#B0BEC5",
                                "#B0BEC5",
                                "#B0BEC5",
                                "#B0BEC5",
                                "#B0BEC5",
                                "#B0BEC5",
                                "#B0BEC5",
                                "#B0BEC5",
                                "#B0BEC5",
                                "#B0BEC5",
                                "#B0BEC5",
                                "#B0BEC5",
                                "red",
                                "#B0BEC5",
                                "#B0BEC5",
                                "#B0BEC5",
                                "#B0BEC5",
                                "#B0BEC5",
                                "#B0BEC5",
                                "#B0BEC5",
                                "#B0BEC5",
                                "#B0BEC5",
                                "#B0BEC5",
                                "#B0BEC5",
                                "#B0BEC5",
                                "#B0BEC5",
                                "#B0BEC5",
                                "#B0BEC5",
                                "#B0BEC5",
                                "#B0BEC5",
                                "#B0BEC5",
                                "#B0BEC5",
                                "#B0BEC5",
                                "#B0BEC5",
                                "#B0BEC5",
                                "#B0BEC5",
                                "#B0BEC5",
                                "#B0BEC5",
                                "#B0BEC5",
                                "#B0BEC5",
                                "#B0BEC5",
                                "#B0BEC5",
                                "#B0BEC5",
                                "#B0BEC5",
                                "#B0BEC5"
                              ]
                            ]
                          }
                        ],
                        "label": "Topic 28",
                        "method": "update"
                      },
                      {
                        "args": [
                          {
                            "marker.color": [
                              [
                                "#B0BEC5",
                                "#B0BEC5",
                                "#B0BEC5",
                                "#B0BEC5",
                                "#B0BEC5",
                                "#B0BEC5",
                                "#B0BEC5",
                                "#B0BEC5",
                                "#B0BEC5",
                                "#B0BEC5",
                                "#B0BEC5",
                                "#B0BEC5",
                                "#B0BEC5",
                                "#B0BEC5",
                                "#B0BEC5",
                                "#B0BEC5",
                                "#B0BEC5",
                                "#B0BEC5",
                                "#B0BEC5",
                                "#B0BEC5",
                                "#B0BEC5",
                                "#B0BEC5",
                                "#B0BEC5",
                                "#B0BEC5",
                                "#B0BEC5",
                                "#B0BEC5",
                                "#B0BEC5",
                                "#B0BEC5",
                                "#B0BEC5",
                                "red",
                                "#B0BEC5",
                                "#B0BEC5",
                                "#B0BEC5",
                                "#B0BEC5",
                                "#B0BEC5",
                                "#B0BEC5",
                                "#B0BEC5",
                                "#B0BEC5",
                                "#B0BEC5",
                                "#B0BEC5",
                                "#B0BEC5",
                                "#B0BEC5",
                                "#B0BEC5",
                                "#B0BEC5",
                                "#B0BEC5",
                                "#B0BEC5",
                                "#B0BEC5",
                                "#B0BEC5",
                                "#B0BEC5",
                                "#B0BEC5",
                                "#B0BEC5",
                                "#B0BEC5",
                                "#B0BEC5",
                                "#B0BEC5",
                                "#B0BEC5",
                                "#B0BEC5",
                                "#B0BEC5",
                                "#B0BEC5",
                                "#B0BEC5",
                                "#B0BEC5",
                                "#B0BEC5"
                              ]
                            ]
                          }
                        ],
                        "label": "Topic 29",
                        "method": "update"
                      },
                      {
                        "args": [
                          {
                            "marker.color": [
                              [
                                "#B0BEC5",
                                "#B0BEC5",
                                "#B0BEC5",
                                "#B0BEC5",
                                "#B0BEC5",
                                "#B0BEC5",
                                "#B0BEC5",
                                "#B0BEC5",
                                "#B0BEC5",
                                "#B0BEC5",
                                "#B0BEC5",
                                "#B0BEC5",
                                "#B0BEC5",
                                "#B0BEC5",
                                "#B0BEC5",
                                "#B0BEC5",
                                "#B0BEC5",
                                "#B0BEC5",
                                "#B0BEC5",
                                "#B0BEC5",
                                "#B0BEC5",
                                "#B0BEC5",
                                "#B0BEC5",
                                "#B0BEC5",
                                "#B0BEC5",
                                "#B0BEC5",
                                "#B0BEC5",
                                "#B0BEC5",
                                "#B0BEC5",
                                "#B0BEC5",
                                "red",
                                "#B0BEC5",
                                "#B0BEC5",
                                "#B0BEC5",
                                "#B0BEC5",
                                "#B0BEC5",
                                "#B0BEC5",
                                "#B0BEC5",
                                "#B0BEC5",
                                "#B0BEC5",
                                "#B0BEC5",
                                "#B0BEC5",
                                "#B0BEC5",
                                "#B0BEC5",
                                "#B0BEC5",
                                "#B0BEC5",
                                "#B0BEC5",
                                "#B0BEC5",
                                "#B0BEC5",
                                "#B0BEC5",
                                "#B0BEC5",
                                "#B0BEC5",
                                "#B0BEC5",
                                "#B0BEC5",
                                "#B0BEC5",
                                "#B0BEC5",
                                "#B0BEC5",
                                "#B0BEC5",
                                "#B0BEC5",
                                "#B0BEC5",
                                "#B0BEC5"
                              ]
                            ]
                          }
                        ],
                        "label": "Topic 30",
                        "method": "update"
                      },
                      {
                        "args": [
                          {
                            "marker.color": [
                              [
                                "#B0BEC5",
                                "#B0BEC5",
                                "#B0BEC5",
                                "#B0BEC5",
                                "#B0BEC5",
                                "#B0BEC5",
                                "#B0BEC5",
                                "#B0BEC5",
                                "#B0BEC5",
                                "#B0BEC5",
                                "#B0BEC5",
                                "#B0BEC5",
                                "#B0BEC5",
                                "#B0BEC5",
                                "#B0BEC5",
                                "#B0BEC5",
                                "#B0BEC5",
                                "#B0BEC5",
                                "#B0BEC5",
                                "#B0BEC5",
                                "#B0BEC5",
                                "#B0BEC5",
                                "#B0BEC5",
                                "#B0BEC5",
                                "#B0BEC5",
                                "#B0BEC5",
                                "#B0BEC5",
                                "#B0BEC5",
                                "#B0BEC5",
                                "#B0BEC5",
                                "#B0BEC5",
                                "red",
                                "#B0BEC5",
                                "#B0BEC5",
                                "#B0BEC5",
                                "#B0BEC5",
                                "#B0BEC5",
                                "#B0BEC5",
                                "#B0BEC5",
                                "#B0BEC5",
                                "#B0BEC5",
                                "#B0BEC5",
                                "#B0BEC5",
                                "#B0BEC5",
                                "#B0BEC5",
                                "#B0BEC5",
                                "#B0BEC5",
                                "#B0BEC5",
                                "#B0BEC5",
                                "#B0BEC5",
                                "#B0BEC5",
                                "#B0BEC5",
                                "#B0BEC5",
                                "#B0BEC5",
                                "#B0BEC5",
                                "#B0BEC5",
                                "#B0BEC5",
                                "#B0BEC5",
                                "#B0BEC5",
                                "#B0BEC5",
                                "#B0BEC5"
                              ]
                            ]
                          }
                        ],
                        "label": "Topic 31",
                        "method": "update"
                      },
                      {
                        "args": [
                          {
                            "marker.color": [
                              [
                                "#B0BEC5",
                                "#B0BEC5",
                                "#B0BEC5",
                                "#B0BEC5",
                                "#B0BEC5",
                                "#B0BEC5",
                                "#B0BEC5",
                                "#B0BEC5",
                                "#B0BEC5",
                                "#B0BEC5",
                                "#B0BEC5",
                                "#B0BEC5",
                                "#B0BEC5",
                                "#B0BEC5",
                                "#B0BEC5",
                                "#B0BEC5",
                                "#B0BEC5",
                                "#B0BEC5",
                                "#B0BEC5",
                                "#B0BEC5",
                                "#B0BEC5",
                                "#B0BEC5",
                                "#B0BEC5",
                                "#B0BEC5",
                                "#B0BEC5",
                                "#B0BEC5",
                                "#B0BEC5",
                                "#B0BEC5",
                                "#B0BEC5",
                                "#B0BEC5",
                                "#B0BEC5",
                                "#B0BEC5",
                                "red",
                                "#B0BEC5",
                                "#B0BEC5",
                                "#B0BEC5",
                                "#B0BEC5",
                                "#B0BEC5",
                                "#B0BEC5",
                                "#B0BEC5",
                                "#B0BEC5",
                                "#B0BEC5",
                                "#B0BEC5",
                                "#B0BEC5",
                                "#B0BEC5",
                                "#B0BEC5",
                                "#B0BEC5",
                                "#B0BEC5",
                                "#B0BEC5",
                                "#B0BEC5",
                                "#B0BEC5",
                                "#B0BEC5",
                                "#B0BEC5",
                                "#B0BEC5",
                                "#B0BEC5",
                                "#B0BEC5",
                                "#B0BEC5",
                                "#B0BEC5",
                                "#B0BEC5",
                                "#B0BEC5",
                                "#B0BEC5"
                              ]
                            ]
                          }
                        ],
                        "label": "Topic 32",
                        "method": "update"
                      },
                      {
                        "args": [
                          {
                            "marker.color": [
                              [
                                "#B0BEC5",
                                "#B0BEC5",
                                "#B0BEC5",
                                "#B0BEC5",
                                "#B0BEC5",
                                "#B0BEC5",
                                "#B0BEC5",
                                "#B0BEC5",
                                "#B0BEC5",
                                "#B0BEC5",
                                "#B0BEC5",
                                "#B0BEC5",
                                "#B0BEC5",
                                "#B0BEC5",
                                "#B0BEC5",
                                "#B0BEC5",
                                "#B0BEC5",
                                "#B0BEC5",
                                "#B0BEC5",
                                "#B0BEC5",
                                "#B0BEC5",
                                "#B0BEC5",
                                "#B0BEC5",
                                "#B0BEC5",
                                "#B0BEC5",
                                "#B0BEC5",
                                "#B0BEC5",
                                "#B0BEC5",
                                "#B0BEC5",
                                "#B0BEC5",
                                "#B0BEC5",
                                "#B0BEC5",
                                "#B0BEC5",
                                "red",
                                "#B0BEC5",
                                "#B0BEC5",
                                "#B0BEC5",
                                "#B0BEC5",
                                "#B0BEC5",
                                "#B0BEC5",
                                "#B0BEC5",
                                "#B0BEC5",
                                "#B0BEC5",
                                "#B0BEC5",
                                "#B0BEC5",
                                "#B0BEC5",
                                "#B0BEC5",
                                "#B0BEC5",
                                "#B0BEC5",
                                "#B0BEC5",
                                "#B0BEC5",
                                "#B0BEC5",
                                "#B0BEC5",
                                "#B0BEC5",
                                "#B0BEC5",
                                "#B0BEC5",
                                "#B0BEC5",
                                "#B0BEC5",
                                "#B0BEC5",
                                "#B0BEC5",
                                "#B0BEC5"
                              ]
                            ]
                          }
                        ],
                        "label": "Topic 33",
                        "method": "update"
                      },
                      {
                        "args": [
                          {
                            "marker.color": [
                              [
                                "#B0BEC5",
                                "#B0BEC5",
                                "#B0BEC5",
                                "#B0BEC5",
                                "#B0BEC5",
                                "#B0BEC5",
                                "#B0BEC5",
                                "#B0BEC5",
                                "#B0BEC5",
                                "#B0BEC5",
                                "#B0BEC5",
                                "#B0BEC5",
                                "#B0BEC5",
                                "#B0BEC5",
                                "#B0BEC5",
                                "#B0BEC5",
                                "#B0BEC5",
                                "#B0BEC5",
                                "#B0BEC5",
                                "#B0BEC5",
                                "#B0BEC5",
                                "#B0BEC5",
                                "#B0BEC5",
                                "#B0BEC5",
                                "#B0BEC5",
                                "#B0BEC5",
                                "#B0BEC5",
                                "#B0BEC5",
                                "#B0BEC5",
                                "#B0BEC5",
                                "#B0BEC5",
                                "#B0BEC5",
                                "#B0BEC5",
                                "#B0BEC5",
                                "red",
                                "#B0BEC5",
                                "#B0BEC5",
                                "#B0BEC5",
                                "#B0BEC5",
                                "#B0BEC5",
                                "#B0BEC5",
                                "#B0BEC5",
                                "#B0BEC5",
                                "#B0BEC5",
                                "#B0BEC5",
                                "#B0BEC5",
                                "#B0BEC5",
                                "#B0BEC5",
                                "#B0BEC5",
                                "#B0BEC5",
                                "#B0BEC5",
                                "#B0BEC5",
                                "#B0BEC5",
                                "#B0BEC5",
                                "#B0BEC5",
                                "#B0BEC5",
                                "#B0BEC5",
                                "#B0BEC5",
                                "#B0BEC5",
                                "#B0BEC5",
                                "#B0BEC5"
                              ]
                            ]
                          }
                        ],
                        "label": "Topic 34",
                        "method": "update"
                      },
                      {
                        "args": [
                          {
                            "marker.color": [
                              [
                                "#B0BEC5",
                                "#B0BEC5",
                                "#B0BEC5",
                                "#B0BEC5",
                                "#B0BEC5",
                                "#B0BEC5",
                                "#B0BEC5",
                                "#B0BEC5",
                                "#B0BEC5",
                                "#B0BEC5",
                                "#B0BEC5",
                                "#B0BEC5",
                                "#B0BEC5",
                                "#B0BEC5",
                                "#B0BEC5",
                                "#B0BEC5",
                                "#B0BEC5",
                                "#B0BEC5",
                                "#B0BEC5",
                                "#B0BEC5",
                                "#B0BEC5",
                                "#B0BEC5",
                                "#B0BEC5",
                                "#B0BEC5",
                                "#B0BEC5",
                                "#B0BEC5",
                                "#B0BEC5",
                                "#B0BEC5",
                                "#B0BEC5",
                                "#B0BEC5",
                                "#B0BEC5",
                                "#B0BEC5",
                                "#B0BEC5",
                                "#B0BEC5",
                                "#B0BEC5",
                                "red",
                                "#B0BEC5",
                                "#B0BEC5",
                                "#B0BEC5",
                                "#B0BEC5",
                                "#B0BEC5",
                                "#B0BEC5",
                                "#B0BEC5",
                                "#B0BEC5",
                                "#B0BEC5",
                                "#B0BEC5",
                                "#B0BEC5",
                                "#B0BEC5",
                                "#B0BEC5",
                                "#B0BEC5",
                                "#B0BEC5",
                                "#B0BEC5",
                                "#B0BEC5",
                                "#B0BEC5",
                                "#B0BEC5",
                                "#B0BEC5",
                                "#B0BEC5",
                                "#B0BEC5",
                                "#B0BEC5",
                                "#B0BEC5",
                                "#B0BEC5"
                              ]
                            ]
                          }
                        ],
                        "label": "Topic 35",
                        "method": "update"
                      },
                      {
                        "args": [
                          {
                            "marker.color": [
                              [
                                "#B0BEC5",
                                "#B0BEC5",
                                "#B0BEC5",
                                "#B0BEC5",
                                "#B0BEC5",
                                "#B0BEC5",
                                "#B0BEC5",
                                "#B0BEC5",
                                "#B0BEC5",
                                "#B0BEC5",
                                "#B0BEC5",
                                "#B0BEC5",
                                "#B0BEC5",
                                "#B0BEC5",
                                "#B0BEC5",
                                "#B0BEC5",
                                "#B0BEC5",
                                "#B0BEC5",
                                "#B0BEC5",
                                "#B0BEC5",
                                "#B0BEC5",
                                "#B0BEC5",
                                "#B0BEC5",
                                "#B0BEC5",
                                "#B0BEC5",
                                "#B0BEC5",
                                "#B0BEC5",
                                "#B0BEC5",
                                "#B0BEC5",
                                "#B0BEC5",
                                "#B0BEC5",
                                "#B0BEC5",
                                "#B0BEC5",
                                "#B0BEC5",
                                "#B0BEC5",
                                "#B0BEC5",
                                "red",
                                "#B0BEC5",
                                "#B0BEC5",
                                "#B0BEC5",
                                "#B0BEC5",
                                "#B0BEC5",
                                "#B0BEC5",
                                "#B0BEC5",
                                "#B0BEC5",
                                "#B0BEC5",
                                "#B0BEC5",
                                "#B0BEC5",
                                "#B0BEC5",
                                "#B0BEC5",
                                "#B0BEC5",
                                "#B0BEC5",
                                "#B0BEC5",
                                "#B0BEC5",
                                "#B0BEC5",
                                "#B0BEC5",
                                "#B0BEC5",
                                "#B0BEC5",
                                "#B0BEC5",
                                "#B0BEC5",
                                "#B0BEC5"
                              ]
                            ]
                          }
                        ],
                        "label": "Topic 36",
                        "method": "update"
                      },
                      {
                        "args": [
                          {
                            "marker.color": [
                              [
                                "#B0BEC5",
                                "#B0BEC5",
                                "#B0BEC5",
                                "#B0BEC5",
                                "#B0BEC5",
                                "#B0BEC5",
                                "#B0BEC5",
                                "#B0BEC5",
                                "#B0BEC5",
                                "#B0BEC5",
                                "#B0BEC5",
                                "#B0BEC5",
                                "#B0BEC5",
                                "#B0BEC5",
                                "#B0BEC5",
                                "#B0BEC5",
                                "#B0BEC5",
                                "#B0BEC5",
                                "#B0BEC5",
                                "#B0BEC5",
                                "#B0BEC5",
                                "#B0BEC5",
                                "#B0BEC5",
                                "#B0BEC5",
                                "#B0BEC5",
                                "#B0BEC5",
                                "#B0BEC5",
                                "#B0BEC5",
                                "#B0BEC5",
                                "#B0BEC5",
                                "#B0BEC5",
                                "#B0BEC5",
                                "#B0BEC5",
                                "#B0BEC5",
                                "#B0BEC5",
                                "#B0BEC5",
                                "#B0BEC5",
                                "red",
                                "#B0BEC5",
                                "#B0BEC5",
                                "#B0BEC5",
                                "#B0BEC5",
                                "#B0BEC5",
                                "#B0BEC5",
                                "#B0BEC5",
                                "#B0BEC5",
                                "#B0BEC5",
                                "#B0BEC5",
                                "#B0BEC5",
                                "#B0BEC5",
                                "#B0BEC5",
                                "#B0BEC5",
                                "#B0BEC5",
                                "#B0BEC5",
                                "#B0BEC5",
                                "#B0BEC5",
                                "#B0BEC5",
                                "#B0BEC5",
                                "#B0BEC5",
                                "#B0BEC5",
                                "#B0BEC5"
                              ]
                            ]
                          }
                        ],
                        "label": "Topic 37",
                        "method": "update"
                      },
                      {
                        "args": [
                          {
                            "marker.color": [
                              [
                                "#B0BEC5",
                                "#B0BEC5",
                                "#B0BEC5",
                                "#B0BEC5",
                                "#B0BEC5",
                                "#B0BEC5",
                                "#B0BEC5",
                                "#B0BEC5",
                                "#B0BEC5",
                                "#B0BEC5",
                                "#B0BEC5",
                                "#B0BEC5",
                                "#B0BEC5",
                                "#B0BEC5",
                                "#B0BEC5",
                                "#B0BEC5",
                                "#B0BEC5",
                                "#B0BEC5",
                                "#B0BEC5",
                                "#B0BEC5",
                                "#B0BEC5",
                                "#B0BEC5",
                                "#B0BEC5",
                                "#B0BEC5",
                                "#B0BEC5",
                                "#B0BEC5",
                                "#B0BEC5",
                                "#B0BEC5",
                                "#B0BEC5",
                                "#B0BEC5",
                                "#B0BEC5",
                                "#B0BEC5",
                                "#B0BEC5",
                                "#B0BEC5",
                                "#B0BEC5",
                                "#B0BEC5",
                                "#B0BEC5",
                                "#B0BEC5",
                                "red",
                                "#B0BEC5",
                                "#B0BEC5",
                                "#B0BEC5",
                                "#B0BEC5",
                                "#B0BEC5",
                                "#B0BEC5",
                                "#B0BEC5",
                                "#B0BEC5",
                                "#B0BEC5",
                                "#B0BEC5",
                                "#B0BEC5",
                                "#B0BEC5",
                                "#B0BEC5",
                                "#B0BEC5",
                                "#B0BEC5",
                                "#B0BEC5",
                                "#B0BEC5",
                                "#B0BEC5",
                                "#B0BEC5",
                                "#B0BEC5",
                                "#B0BEC5",
                                "#B0BEC5"
                              ]
                            ]
                          }
                        ],
                        "label": "Topic 38",
                        "method": "update"
                      },
                      {
                        "args": [
                          {
                            "marker.color": [
                              [
                                "#B0BEC5",
                                "#B0BEC5",
                                "#B0BEC5",
                                "#B0BEC5",
                                "#B0BEC5",
                                "#B0BEC5",
                                "#B0BEC5",
                                "#B0BEC5",
                                "#B0BEC5",
                                "#B0BEC5",
                                "#B0BEC5",
                                "#B0BEC5",
                                "#B0BEC5",
                                "#B0BEC5",
                                "#B0BEC5",
                                "#B0BEC5",
                                "#B0BEC5",
                                "#B0BEC5",
                                "#B0BEC5",
                                "#B0BEC5",
                                "#B0BEC5",
                                "#B0BEC5",
                                "#B0BEC5",
                                "#B0BEC5",
                                "#B0BEC5",
                                "#B0BEC5",
                                "#B0BEC5",
                                "#B0BEC5",
                                "#B0BEC5",
                                "#B0BEC5",
                                "#B0BEC5",
                                "#B0BEC5",
                                "#B0BEC5",
                                "#B0BEC5",
                                "#B0BEC5",
                                "#B0BEC5",
                                "#B0BEC5",
                                "#B0BEC5",
                                "#B0BEC5",
                                "red",
                                "#B0BEC5",
                                "#B0BEC5",
                                "#B0BEC5",
                                "#B0BEC5",
                                "#B0BEC5",
                                "#B0BEC5",
                                "#B0BEC5",
                                "#B0BEC5",
                                "#B0BEC5",
                                "#B0BEC5",
                                "#B0BEC5",
                                "#B0BEC5",
                                "#B0BEC5",
                                "#B0BEC5",
                                "#B0BEC5",
                                "#B0BEC5",
                                "#B0BEC5",
                                "#B0BEC5",
                                "#B0BEC5",
                                "#B0BEC5",
                                "#B0BEC5"
                              ]
                            ]
                          }
                        ],
                        "label": "Topic 39",
                        "method": "update"
                      },
                      {
                        "args": [
                          {
                            "marker.color": [
                              [
                                "#B0BEC5",
                                "#B0BEC5",
                                "#B0BEC5",
                                "#B0BEC5",
                                "#B0BEC5",
                                "#B0BEC5",
                                "#B0BEC5",
                                "#B0BEC5",
                                "#B0BEC5",
                                "#B0BEC5",
                                "#B0BEC5",
                                "#B0BEC5",
                                "#B0BEC5",
                                "#B0BEC5",
                                "#B0BEC5",
                                "#B0BEC5",
                                "#B0BEC5",
                                "#B0BEC5",
                                "#B0BEC5",
                                "#B0BEC5",
                                "#B0BEC5",
                                "#B0BEC5",
                                "#B0BEC5",
                                "#B0BEC5",
                                "#B0BEC5",
                                "#B0BEC5",
                                "#B0BEC5",
                                "#B0BEC5",
                                "#B0BEC5",
                                "#B0BEC5",
                                "#B0BEC5",
                                "#B0BEC5",
                                "#B0BEC5",
                                "#B0BEC5",
                                "#B0BEC5",
                                "#B0BEC5",
                                "#B0BEC5",
                                "#B0BEC5",
                                "#B0BEC5",
                                "#B0BEC5",
                                "red",
                                "#B0BEC5",
                                "#B0BEC5",
                                "#B0BEC5",
                                "#B0BEC5",
                                "#B0BEC5",
                                "#B0BEC5",
                                "#B0BEC5",
                                "#B0BEC5",
                                "#B0BEC5",
                                "#B0BEC5",
                                "#B0BEC5",
                                "#B0BEC5",
                                "#B0BEC5",
                                "#B0BEC5",
                                "#B0BEC5",
                                "#B0BEC5",
                                "#B0BEC5",
                                "#B0BEC5",
                                "#B0BEC5",
                                "#B0BEC5"
                              ]
                            ]
                          }
                        ],
                        "label": "Topic 40",
                        "method": "update"
                      },
                      {
                        "args": [
                          {
                            "marker.color": [
                              [
                                "#B0BEC5",
                                "#B0BEC5",
                                "#B0BEC5",
                                "#B0BEC5",
                                "#B0BEC5",
                                "#B0BEC5",
                                "#B0BEC5",
                                "#B0BEC5",
                                "#B0BEC5",
                                "#B0BEC5",
                                "#B0BEC5",
                                "#B0BEC5",
                                "#B0BEC5",
                                "#B0BEC5",
                                "#B0BEC5",
                                "#B0BEC5",
                                "#B0BEC5",
                                "#B0BEC5",
                                "#B0BEC5",
                                "#B0BEC5",
                                "#B0BEC5",
                                "#B0BEC5",
                                "#B0BEC5",
                                "#B0BEC5",
                                "#B0BEC5",
                                "#B0BEC5",
                                "#B0BEC5",
                                "#B0BEC5",
                                "#B0BEC5",
                                "#B0BEC5",
                                "#B0BEC5",
                                "#B0BEC5",
                                "#B0BEC5",
                                "#B0BEC5",
                                "#B0BEC5",
                                "#B0BEC5",
                                "#B0BEC5",
                                "#B0BEC5",
                                "#B0BEC5",
                                "#B0BEC5",
                                "#B0BEC5",
                                "red",
                                "#B0BEC5",
                                "#B0BEC5",
                                "#B0BEC5",
                                "#B0BEC5",
                                "#B0BEC5",
                                "#B0BEC5",
                                "#B0BEC5",
                                "#B0BEC5",
                                "#B0BEC5",
                                "#B0BEC5",
                                "#B0BEC5",
                                "#B0BEC5",
                                "#B0BEC5",
                                "#B0BEC5",
                                "#B0BEC5",
                                "#B0BEC5",
                                "#B0BEC5",
                                "#B0BEC5",
                                "#B0BEC5"
                              ]
                            ]
                          }
                        ],
                        "label": "Topic 41",
                        "method": "update"
                      },
                      {
                        "args": [
                          {
                            "marker.color": [
                              [
                                "#B0BEC5",
                                "#B0BEC5",
                                "#B0BEC5",
                                "#B0BEC5",
                                "#B0BEC5",
                                "#B0BEC5",
                                "#B0BEC5",
                                "#B0BEC5",
                                "#B0BEC5",
                                "#B0BEC5",
                                "#B0BEC5",
                                "#B0BEC5",
                                "#B0BEC5",
                                "#B0BEC5",
                                "#B0BEC5",
                                "#B0BEC5",
                                "#B0BEC5",
                                "#B0BEC5",
                                "#B0BEC5",
                                "#B0BEC5",
                                "#B0BEC5",
                                "#B0BEC5",
                                "#B0BEC5",
                                "#B0BEC5",
                                "#B0BEC5",
                                "#B0BEC5",
                                "#B0BEC5",
                                "#B0BEC5",
                                "#B0BEC5",
                                "#B0BEC5",
                                "#B0BEC5",
                                "#B0BEC5",
                                "#B0BEC5",
                                "#B0BEC5",
                                "#B0BEC5",
                                "#B0BEC5",
                                "#B0BEC5",
                                "#B0BEC5",
                                "#B0BEC5",
                                "#B0BEC5",
                                "#B0BEC5",
                                "#B0BEC5",
                                "red",
                                "#B0BEC5",
                                "#B0BEC5",
                                "#B0BEC5",
                                "#B0BEC5",
                                "#B0BEC5",
                                "#B0BEC5",
                                "#B0BEC5",
                                "#B0BEC5",
                                "#B0BEC5",
                                "#B0BEC5",
                                "#B0BEC5",
                                "#B0BEC5",
                                "#B0BEC5",
                                "#B0BEC5",
                                "#B0BEC5",
                                "#B0BEC5",
                                "#B0BEC5",
                                "#B0BEC5"
                              ]
                            ]
                          }
                        ],
                        "label": "Topic 42",
                        "method": "update"
                      },
                      {
                        "args": [
                          {
                            "marker.color": [
                              [
                                "#B0BEC5",
                                "#B0BEC5",
                                "#B0BEC5",
                                "#B0BEC5",
                                "#B0BEC5",
                                "#B0BEC5",
                                "#B0BEC5",
                                "#B0BEC5",
                                "#B0BEC5",
                                "#B0BEC5",
                                "#B0BEC5",
                                "#B0BEC5",
                                "#B0BEC5",
                                "#B0BEC5",
                                "#B0BEC5",
                                "#B0BEC5",
                                "#B0BEC5",
                                "#B0BEC5",
                                "#B0BEC5",
                                "#B0BEC5",
                                "#B0BEC5",
                                "#B0BEC5",
                                "#B0BEC5",
                                "#B0BEC5",
                                "#B0BEC5",
                                "#B0BEC5",
                                "#B0BEC5",
                                "#B0BEC5",
                                "#B0BEC5",
                                "#B0BEC5",
                                "#B0BEC5",
                                "#B0BEC5",
                                "#B0BEC5",
                                "#B0BEC5",
                                "#B0BEC5",
                                "#B0BEC5",
                                "#B0BEC5",
                                "#B0BEC5",
                                "#B0BEC5",
                                "#B0BEC5",
                                "#B0BEC5",
                                "#B0BEC5",
                                "#B0BEC5",
                                "red",
                                "#B0BEC5",
                                "#B0BEC5",
                                "#B0BEC5",
                                "#B0BEC5",
                                "#B0BEC5",
                                "#B0BEC5",
                                "#B0BEC5",
                                "#B0BEC5",
                                "#B0BEC5",
                                "#B0BEC5",
                                "#B0BEC5",
                                "#B0BEC5",
                                "#B0BEC5",
                                "#B0BEC5",
                                "#B0BEC5",
                                "#B0BEC5",
                                "#B0BEC5"
                              ]
                            ]
                          }
                        ],
                        "label": "Topic 43",
                        "method": "update"
                      },
                      {
                        "args": [
                          {
                            "marker.color": [
                              [
                                "#B0BEC5",
                                "#B0BEC5",
                                "#B0BEC5",
                                "#B0BEC5",
                                "#B0BEC5",
                                "#B0BEC5",
                                "#B0BEC5",
                                "#B0BEC5",
                                "#B0BEC5",
                                "#B0BEC5",
                                "#B0BEC5",
                                "#B0BEC5",
                                "#B0BEC5",
                                "#B0BEC5",
                                "#B0BEC5",
                                "#B0BEC5",
                                "#B0BEC5",
                                "#B0BEC5",
                                "#B0BEC5",
                                "#B0BEC5",
                                "#B0BEC5",
                                "#B0BEC5",
                                "#B0BEC5",
                                "#B0BEC5",
                                "#B0BEC5",
                                "#B0BEC5",
                                "#B0BEC5",
                                "#B0BEC5",
                                "#B0BEC5",
                                "#B0BEC5",
                                "#B0BEC5",
                                "#B0BEC5",
                                "#B0BEC5",
                                "#B0BEC5",
                                "#B0BEC5",
                                "#B0BEC5",
                                "#B0BEC5",
                                "#B0BEC5",
                                "#B0BEC5",
                                "#B0BEC5",
                                "#B0BEC5",
                                "#B0BEC5",
                                "#B0BEC5",
                                "#B0BEC5",
                                "red",
                                "#B0BEC5",
                                "#B0BEC5",
                                "#B0BEC5",
                                "#B0BEC5",
                                "#B0BEC5",
                                "#B0BEC5",
                                "#B0BEC5",
                                "#B0BEC5",
                                "#B0BEC5",
                                "#B0BEC5",
                                "#B0BEC5",
                                "#B0BEC5",
                                "#B0BEC5",
                                "#B0BEC5",
                                "#B0BEC5",
                                "#B0BEC5"
                              ]
                            ]
                          }
                        ],
                        "label": "Topic 44",
                        "method": "update"
                      },
                      {
                        "args": [
                          {
                            "marker.color": [
                              [
                                "#B0BEC5",
                                "#B0BEC5",
                                "#B0BEC5",
                                "#B0BEC5",
                                "#B0BEC5",
                                "#B0BEC5",
                                "#B0BEC5",
                                "#B0BEC5",
                                "#B0BEC5",
                                "#B0BEC5",
                                "#B0BEC5",
                                "#B0BEC5",
                                "#B0BEC5",
                                "#B0BEC5",
                                "#B0BEC5",
                                "#B0BEC5",
                                "#B0BEC5",
                                "#B0BEC5",
                                "#B0BEC5",
                                "#B0BEC5",
                                "#B0BEC5",
                                "#B0BEC5",
                                "#B0BEC5",
                                "#B0BEC5",
                                "#B0BEC5",
                                "#B0BEC5",
                                "#B0BEC5",
                                "#B0BEC5",
                                "#B0BEC5",
                                "#B0BEC5",
                                "#B0BEC5",
                                "#B0BEC5",
                                "#B0BEC5",
                                "#B0BEC5",
                                "#B0BEC5",
                                "#B0BEC5",
                                "#B0BEC5",
                                "#B0BEC5",
                                "#B0BEC5",
                                "#B0BEC5",
                                "#B0BEC5",
                                "#B0BEC5",
                                "#B0BEC5",
                                "#B0BEC5",
                                "#B0BEC5",
                                "red",
                                "#B0BEC5",
                                "#B0BEC5",
                                "#B0BEC5",
                                "#B0BEC5",
                                "#B0BEC5",
                                "#B0BEC5",
                                "#B0BEC5",
                                "#B0BEC5",
                                "#B0BEC5",
                                "#B0BEC5",
                                "#B0BEC5",
                                "#B0BEC5",
                                "#B0BEC5",
                                "#B0BEC5",
                                "#B0BEC5"
                              ]
                            ]
                          }
                        ],
                        "label": "Topic 45",
                        "method": "update"
                      },
                      {
                        "args": [
                          {
                            "marker.color": [
                              [
                                "#B0BEC5",
                                "#B0BEC5",
                                "#B0BEC5",
                                "#B0BEC5",
                                "#B0BEC5",
                                "#B0BEC5",
                                "#B0BEC5",
                                "#B0BEC5",
                                "#B0BEC5",
                                "#B0BEC5",
                                "#B0BEC5",
                                "#B0BEC5",
                                "#B0BEC5",
                                "#B0BEC5",
                                "#B0BEC5",
                                "#B0BEC5",
                                "#B0BEC5",
                                "#B0BEC5",
                                "#B0BEC5",
                                "#B0BEC5",
                                "#B0BEC5",
                                "#B0BEC5",
                                "#B0BEC5",
                                "#B0BEC5",
                                "#B0BEC5",
                                "#B0BEC5",
                                "#B0BEC5",
                                "#B0BEC5",
                                "#B0BEC5",
                                "#B0BEC5",
                                "#B0BEC5",
                                "#B0BEC5",
                                "#B0BEC5",
                                "#B0BEC5",
                                "#B0BEC5",
                                "#B0BEC5",
                                "#B0BEC5",
                                "#B0BEC5",
                                "#B0BEC5",
                                "#B0BEC5",
                                "#B0BEC5",
                                "#B0BEC5",
                                "#B0BEC5",
                                "#B0BEC5",
                                "#B0BEC5",
                                "#B0BEC5",
                                "red",
                                "#B0BEC5",
                                "#B0BEC5",
                                "#B0BEC5",
                                "#B0BEC5",
                                "#B0BEC5",
                                "#B0BEC5",
                                "#B0BEC5",
                                "#B0BEC5",
                                "#B0BEC5",
                                "#B0BEC5",
                                "#B0BEC5",
                                "#B0BEC5",
                                "#B0BEC5",
                                "#B0BEC5"
                              ]
                            ]
                          }
                        ],
                        "label": "Topic 46",
                        "method": "update"
                      },
                      {
                        "args": [
                          {
                            "marker.color": [
                              [
                                "#B0BEC5",
                                "#B0BEC5",
                                "#B0BEC5",
                                "#B0BEC5",
                                "#B0BEC5",
                                "#B0BEC5",
                                "#B0BEC5",
                                "#B0BEC5",
                                "#B0BEC5",
                                "#B0BEC5",
                                "#B0BEC5",
                                "#B0BEC5",
                                "#B0BEC5",
                                "#B0BEC5",
                                "#B0BEC5",
                                "#B0BEC5",
                                "#B0BEC5",
                                "#B0BEC5",
                                "#B0BEC5",
                                "#B0BEC5",
                                "#B0BEC5",
                                "#B0BEC5",
                                "#B0BEC5",
                                "#B0BEC5",
                                "#B0BEC5",
                                "#B0BEC5",
                                "#B0BEC5",
                                "#B0BEC5",
                                "#B0BEC5",
                                "#B0BEC5",
                                "#B0BEC5",
                                "#B0BEC5",
                                "#B0BEC5",
                                "#B0BEC5",
                                "#B0BEC5",
                                "#B0BEC5",
                                "#B0BEC5",
                                "#B0BEC5",
                                "#B0BEC5",
                                "#B0BEC5",
                                "#B0BEC5",
                                "#B0BEC5",
                                "#B0BEC5",
                                "#B0BEC5",
                                "#B0BEC5",
                                "#B0BEC5",
                                "#B0BEC5",
                                "red",
                                "#B0BEC5",
                                "#B0BEC5",
                                "#B0BEC5",
                                "#B0BEC5",
                                "#B0BEC5",
                                "#B0BEC5",
                                "#B0BEC5",
                                "#B0BEC5",
                                "#B0BEC5",
                                "#B0BEC5",
                                "#B0BEC5",
                                "#B0BEC5",
                                "#B0BEC5"
                              ]
                            ]
                          }
                        ],
                        "label": "Topic 47",
                        "method": "update"
                      },
                      {
                        "args": [
                          {
                            "marker.color": [
                              [
                                "#B0BEC5",
                                "#B0BEC5",
                                "#B0BEC5",
                                "#B0BEC5",
                                "#B0BEC5",
                                "#B0BEC5",
                                "#B0BEC5",
                                "#B0BEC5",
                                "#B0BEC5",
                                "#B0BEC5",
                                "#B0BEC5",
                                "#B0BEC5",
                                "#B0BEC5",
                                "#B0BEC5",
                                "#B0BEC5",
                                "#B0BEC5",
                                "#B0BEC5",
                                "#B0BEC5",
                                "#B0BEC5",
                                "#B0BEC5",
                                "#B0BEC5",
                                "#B0BEC5",
                                "#B0BEC5",
                                "#B0BEC5",
                                "#B0BEC5",
                                "#B0BEC5",
                                "#B0BEC5",
                                "#B0BEC5",
                                "#B0BEC5",
                                "#B0BEC5",
                                "#B0BEC5",
                                "#B0BEC5",
                                "#B0BEC5",
                                "#B0BEC5",
                                "#B0BEC5",
                                "#B0BEC5",
                                "#B0BEC5",
                                "#B0BEC5",
                                "#B0BEC5",
                                "#B0BEC5",
                                "#B0BEC5",
                                "#B0BEC5",
                                "#B0BEC5",
                                "#B0BEC5",
                                "#B0BEC5",
                                "#B0BEC5",
                                "#B0BEC5",
                                "#B0BEC5",
                                "red",
                                "#B0BEC5",
                                "#B0BEC5",
                                "#B0BEC5",
                                "#B0BEC5",
                                "#B0BEC5",
                                "#B0BEC5",
                                "#B0BEC5",
                                "#B0BEC5",
                                "#B0BEC5",
                                "#B0BEC5",
                                "#B0BEC5",
                                "#B0BEC5"
                              ]
                            ]
                          }
                        ],
                        "label": "Topic 48",
                        "method": "update"
                      },
                      {
                        "args": [
                          {
                            "marker.color": [
                              [
                                "#B0BEC5",
                                "#B0BEC5",
                                "#B0BEC5",
                                "#B0BEC5",
                                "#B0BEC5",
                                "#B0BEC5",
                                "#B0BEC5",
                                "#B0BEC5",
                                "#B0BEC5",
                                "#B0BEC5",
                                "#B0BEC5",
                                "#B0BEC5",
                                "#B0BEC5",
                                "#B0BEC5",
                                "#B0BEC5",
                                "#B0BEC5",
                                "#B0BEC5",
                                "#B0BEC5",
                                "#B0BEC5",
                                "#B0BEC5",
                                "#B0BEC5",
                                "#B0BEC5",
                                "#B0BEC5",
                                "#B0BEC5",
                                "#B0BEC5",
                                "#B0BEC5",
                                "#B0BEC5",
                                "#B0BEC5",
                                "#B0BEC5",
                                "#B0BEC5",
                                "#B0BEC5",
                                "#B0BEC5",
                                "#B0BEC5",
                                "#B0BEC5",
                                "#B0BEC5",
                                "#B0BEC5",
                                "#B0BEC5",
                                "#B0BEC5",
                                "#B0BEC5",
                                "#B0BEC5",
                                "#B0BEC5",
                                "#B0BEC5",
                                "#B0BEC5",
                                "#B0BEC5",
                                "#B0BEC5",
                                "#B0BEC5",
                                "#B0BEC5",
                                "#B0BEC5",
                                "#B0BEC5",
                                "red",
                                "#B0BEC5",
                                "#B0BEC5",
                                "#B0BEC5",
                                "#B0BEC5",
                                "#B0BEC5",
                                "#B0BEC5",
                                "#B0BEC5",
                                "#B0BEC5",
                                "#B0BEC5",
                                "#B0BEC5",
                                "#B0BEC5"
                              ]
                            ]
                          }
                        ],
                        "label": "Topic 49",
                        "method": "update"
                      },
                      {
                        "args": [
                          {
                            "marker.color": [
                              [
                                "#B0BEC5",
                                "#B0BEC5",
                                "#B0BEC5",
                                "#B0BEC5",
                                "#B0BEC5",
                                "#B0BEC5",
                                "#B0BEC5",
                                "#B0BEC5",
                                "#B0BEC5",
                                "#B0BEC5",
                                "#B0BEC5",
                                "#B0BEC5",
                                "#B0BEC5",
                                "#B0BEC5",
                                "#B0BEC5",
                                "#B0BEC5",
                                "#B0BEC5",
                                "#B0BEC5",
                                "#B0BEC5",
                                "#B0BEC5",
                                "#B0BEC5",
                                "#B0BEC5",
                                "#B0BEC5",
                                "#B0BEC5",
                                "#B0BEC5",
                                "#B0BEC5",
                                "#B0BEC5",
                                "#B0BEC5",
                                "#B0BEC5",
                                "#B0BEC5",
                                "#B0BEC5",
                                "#B0BEC5",
                                "#B0BEC5",
                                "#B0BEC5",
                                "#B0BEC5",
                                "#B0BEC5",
                                "#B0BEC5",
                                "#B0BEC5",
                                "#B0BEC5",
                                "#B0BEC5",
                                "#B0BEC5",
                                "#B0BEC5",
                                "#B0BEC5",
                                "#B0BEC5",
                                "#B0BEC5",
                                "#B0BEC5",
                                "#B0BEC5",
                                "#B0BEC5",
                                "#B0BEC5",
                                "#B0BEC5",
                                "red",
                                "#B0BEC5",
                                "#B0BEC5",
                                "#B0BEC5",
                                "#B0BEC5",
                                "#B0BEC5",
                                "#B0BEC5",
                                "#B0BEC5",
                                "#B0BEC5",
                                "#B0BEC5",
                                "#B0BEC5"
                              ]
                            ]
                          }
                        ],
                        "label": "Topic 50",
                        "method": "update"
                      },
                      {
                        "args": [
                          {
                            "marker.color": [
                              [
                                "#B0BEC5",
                                "#B0BEC5",
                                "#B0BEC5",
                                "#B0BEC5",
                                "#B0BEC5",
                                "#B0BEC5",
                                "#B0BEC5",
                                "#B0BEC5",
                                "#B0BEC5",
                                "#B0BEC5",
                                "#B0BEC5",
                                "#B0BEC5",
                                "#B0BEC5",
                                "#B0BEC5",
                                "#B0BEC5",
                                "#B0BEC5",
                                "#B0BEC5",
                                "#B0BEC5",
                                "#B0BEC5",
                                "#B0BEC5",
                                "#B0BEC5",
                                "#B0BEC5",
                                "#B0BEC5",
                                "#B0BEC5",
                                "#B0BEC5",
                                "#B0BEC5",
                                "#B0BEC5",
                                "#B0BEC5",
                                "#B0BEC5",
                                "#B0BEC5",
                                "#B0BEC5",
                                "#B0BEC5",
                                "#B0BEC5",
                                "#B0BEC5",
                                "#B0BEC5",
                                "#B0BEC5",
                                "#B0BEC5",
                                "#B0BEC5",
                                "#B0BEC5",
                                "#B0BEC5",
                                "#B0BEC5",
                                "#B0BEC5",
                                "#B0BEC5",
                                "#B0BEC5",
                                "#B0BEC5",
                                "#B0BEC5",
                                "#B0BEC5",
                                "#B0BEC5",
                                "#B0BEC5",
                                "#B0BEC5",
                                "#B0BEC5",
                                "red",
                                "#B0BEC5",
                                "#B0BEC5",
                                "#B0BEC5",
                                "#B0BEC5",
                                "#B0BEC5",
                                "#B0BEC5",
                                "#B0BEC5",
                                "#B0BEC5",
                                "#B0BEC5"
                              ]
                            ]
                          }
                        ],
                        "label": "Topic 51",
                        "method": "update"
                      },
                      {
                        "args": [
                          {
                            "marker.color": [
                              [
                                "#B0BEC5",
                                "#B0BEC5",
                                "#B0BEC5",
                                "#B0BEC5",
                                "#B0BEC5",
                                "#B0BEC5",
                                "#B0BEC5",
                                "#B0BEC5",
                                "#B0BEC5",
                                "#B0BEC5",
                                "#B0BEC5",
                                "#B0BEC5",
                                "#B0BEC5",
                                "#B0BEC5",
                                "#B0BEC5",
                                "#B0BEC5",
                                "#B0BEC5",
                                "#B0BEC5",
                                "#B0BEC5",
                                "#B0BEC5",
                                "#B0BEC5",
                                "#B0BEC5",
                                "#B0BEC5",
                                "#B0BEC5",
                                "#B0BEC5",
                                "#B0BEC5",
                                "#B0BEC5",
                                "#B0BEC5",
                                "#B0BEC5",
                                "#B0BEC5",
                                "#B0BEC5",
                                "#B0BEC5",
                                "#B0BEC5",
                                "#B0BEC5",
                                "#B0BEC5",
                                "#B0BEC5",
                                "#B0BEC5",
                                "#B0BEC5",
                                "#B0BEC5",
                                "#B0BEC5",
                                "#B0BEC5",
                                "#B0BEC5",
                                "#B0BEC5",
                                "#B0BEC5",
                                "#B0BEC5",
                                "#B0BEC5",
                                "#B0BEC5",
                                "#B0BEC5",
                                "#B0BEC5",
                                "#B0BEC5",
                                "#B0BEC5",
                                "#B0BEC5",
                                "red",
                                "#B0BEC5",
                                "#B0BEC5",
                                "#B0BEC5",
                                "#B0BEC5",
                                "#B0BEC5",
                                "#B0BEC5",
                                "#B0BEC5",
                                "#B0BEC5"
                              ]
                            ]
                          }
                        ],
                        "label": "Topic 52",
                        "method": "update"
                      },
                      {
                        "args": [
                          {
                            "marker.color": [
                              [
                                "#B0BEC5",
                                "#B0BEC5",
                                "#B0BEC5",
                                "#B0BEC5",
                                "#B0BEC5",
                                "#B0BEC5",
                                "#B0BEC5",
                                "#B0BEC5",
                                "#B0BEC5",
                                "#B0BEC5",
                                "#B0BEC5",
                                "#B0BEC5",
                                "#B0BEC5",
                                "#B0BEC5",
                                "#B0BEC5",
                                "#B0BEC5",
                                "#B0BEC5",
                                "#B0BEC5",
                                "#B0BEC5",
                                "#B0BEC5",
                                "#B0BEC5",
                                "#B0BEC5",
                                "#B0BEC5",
                                "#B0BEC5",
                                "#B0BEC5",
                                "#B0BEC5",
                                "#B0BEC5",
                                "#B0BEC5",
                                "#B0BEC5",
                                "#B0BEC5",
                                "#B0BEC5",
                                "#B0BEC5",
                                "#B0BEC5",
                                "#B0BEC5",
                                "#B0BEC5",
                                "#B0BEC5",
                                "#B0BEC5",
                                "#B0BEC5",
                                "#B0BEC5",
                                "#B0BEC5",
                                "#B0BEC5",
                                "#B0BEC5",
                                "#B0BEC5",
                                "#B0BEC5",
                                "#B0BEC5",
                                "#B0BEC5",
                                "#B0BEC5",
                                "#B0BEC5",
                                "#B0BEC5",
                                "#B0BEC5",
                                "#B0BEC5",
                                "#B0BEC5",
                                "#B0BEC5",
                                "red",
                                "#B0BEC5",
                                "#B0BEC5",
                                "#B0BEC5",
                                "#B0BEC5",
                                "#B0BEC5",
                                "#B0BEC5",
                                "#B0BEC5"
                              ]
                            ]
                          }
                        ],
                        "label": "Topic 53",
                        "method": "update"
                      },
                      {
                        "args": [
                          {
                            "marker.color": [
                              [
                                "#B0BEC5",
                                "#B0BEC5",
                                "#B0BEC5",
                                "#B0BEC5",
                                "#B0BEC5",
                                "#B0BEC5",
                                "#B0BEC5",
                                "#B0BEC5",
                                "#B0BEC5",
                                "#B0BEC5",
                                "#B0BEC5",
                                "#B0BEC5",
                                "#B0BEC5",
                                "#B0BEC5",
                                "#B0BEC5",
                                "#B0BEC5",
                                "#B0BEC5",
                                "#B0BEC5",
                                "#B0BEC5",
                                "#B0BEC5",
                                "#B0BEC5",
                                "#B0BEC5",
                                "#B0BEC5",
                                "#B0BEC5",
                                "#B0BEC5",
                                "#B0BEC5",
                                "#B0BEC5",
                                "#B0BEC5",
                                "#B0BEC5",
                                "#B0BEC5",
                                "#B0BEC5",
                                "#B0BEC5",
                                "#B0BEC5",
                                "#B0BEC5",
                                "#B0BEC5",
                                "#B0BEC5",
                                "#B0BEC5",
                                "#B0BEC5",
                                "#B0BEC5",
                                "#B0BEC5",
                                "#B0BEC5",
                                "#B0BEC5",
                                "#B0BEC5",
                                "#B0BEC5",
                                "#B0BEC5",
                                "#B0BEC5",
                                "#B0BEC5",
                                "#B0BEC5",
                                "#B0BEC5",
                                "#B0BEC5",
                                "#B0BEC5",
                                "#B0BEC5",
                                "#B0BEC5",
                                "#B0BEC5",
                                "red",
                                "#B0BEC5",
                                "#B0BEC5",
                                "#B0BEC5",
                                "#B0BEC5",
                                "#B0BEC5",
                                "#B0BEC5"
                              ]
                            ]
                          }
                        ],
                        "label": "Topic 54",
                        "method": "update"
                      },
                      {
                        "args": [
                          {
                            "marker.color": [
                              [
                                "#B0BEC5",
                                "#B0BEC5",
                                "#B0BEC5",
                                "#B0BEC5",
                                "#B0BEC5",
                                "#B0BEC5",
                                "#B0BEC5",
                                "#B0BEC5",
                                "#B0BEC5",
                                "#B0BEC5",
                                "#B0BEC5",
                                "#B0BEC5",
                                "#B0BEC5",
                                "#B0BEC5",
                                "#B0BEC5",
                                "#B0BEC5",
                                "#B0BEC5",
                                "#B0BEC5",
                                "#B0BEC5",
                                "#B0BEC5",
                                "#B0BEC5",
                                "#B0BEC5",
                                "#B0BEC5",
                                "#B0BEC5",
                                "#B0BEC5",
                                "#B0BEC5",
                                "#B0BEC5",
                                "#B0BEC5",
                                "#B0BEC5",
                                "#B0BEC5",
                                "#B0BEC5",
                                "#B0BEC5",
                                "#B0BEC5",
                                "#B0BEC5",
                                "#B0BEC5",
                                "#B0BEC5",
                                "#B0BEC5",
                                "#B0BEC5",
                                "#B0BEC5",
                                "#B0BEC5",
                                "#B0BEC5",
                                "#B0BEC5",
                                "#B0BEC5",
                                "#B0BEC5",
                                "#B0BEC5",
                                "#B0BEC5",
                                "#B0BEC5",
                                "#B0BEC5",
                                "#B0BEC5",
                                "#B0BEC5",
                                "#B0BEC5",
                                "#B0BEC5",
                                "#B0BEC5",
                                "#B0BEC5",
                                "#B0BEC5",
                                "red",
                                "#B0BEC5",
                                "#B0BEC5",
                                "#B0BEC5",
                                "#B0BEC5",
                                "#B0BEC5"
                              ]
                            ]
                          }
                        ],
                        "label": "Topic 55",
                        "method": "update"
                      },
                      {
                        "args": [
                          {
                            "marker.color": [
                              [
                                "#B0BEC5",
                                "#B0BEC5",
                                "#B0BEC5",
                                "#B0BEC5",
                                "#B0BEC5",
                                "#B0BEC5",
                                "#B0BEC5",
                                "#B0BEC5",
                                "#B0BEC5",
                                "#B0BEC5",
                                "#B0BEC5",
                                "#B0BEC5",
                                "#B0BEC5",
                                "#B0BEC5",
                                "#B0BEC5",
                                "#B0BEC5",
                                "#B0BEC5",
                                "#B0BEC5",
                                "#B0BEC5",
                                "#B0BEC5",
                                "#B0BEC5",
                                "#B0BEC5",
                                "#B0BEC5",
                                "#B0BEC5",
                                "#B0BEC5",
                                "#B0BEC5",
                                "#B0BEC5",
                                "#B0BEC5",
                                "#B0BEC5",
                                "#B0BEC5",
                                "#B0BEC5",
                                "#B0BEC5",
                                "#B0BEC5",
                                "#B0BEC5",
                                "#B0BEC5",
                                "#B0BEC5",
                                "#B0BEC5",
                                "#B0BEC5",
                                "#B0BEC5",
                                "#B0BEC5",
                                "#B0BEC5",
                                "#B0BEC5",
                                "#B0BEC5",
                                "#B0BEC5",
                                "#B0BEC5",
                                "#B0BEC5",
                                "#B0BEC5",
                                "#B0BEC5",
                                "#B0BEC5",
                                "#B0BEC5",
                                "#B0BEC5",
                                "#B0BEC5",
                                "#B0BEC5",
                                "#B0BEC5",
                                "#B0BEC5",
                                "#B0BEC5",
                                "red",
                                "#B0BEC5",
                                "#B0BEC5",
                                "#B0BEC5",
                                "#B0BEC5"
                              ]
                            ]
                          }
                        ],
                        "label": "Topic 56",
                        "method": "update"
                      },
                      {
                        "args": [
                          {
                            "marker.color": [
                              [
                                "#B0BEC5",
                                "#B0BEC5",
                                "#B0BEC5",
                                "#B0BEC5",
                                "#B0BEC5",
                                "#B0BEC5",
                                "#B0BEC5",
                                "#B0BEC5",
                                "#B0BEC5",
                                "#B0BEC5",
                                "#B0BEC5",
                                "#B0BEC5",
                                "#B0BEC5",
                                "#B0BEC5",
                                "#B0BEC5",
                                "#B0BEC5",
                                "#B0BEC5",
                                "#B0BEC5",
                                "#B0BEC5",
                                "#B0BEC5",
                                "#B0BEC5",
                                "#B0BEC5",
                                "#B0BEC5",
                                "#B0BEC5",
                                "#B0BEC5",
                                "#B0BEC5",
                                "#B0BEC5",
                                "#B0BEC5",
                                "#B0BEC5",
                                "#B0BEC5",
                                "#B0BEC5",
                                "#B0BEC5",
                                "#B0BEC5",
                                "#B0BEC5",
                                "#B0BEC5",
                                "#B0BEC5",
                                "#B0BEC5",
                                "#B0BEC5",
                                "#B0BEC5",
                                "#B0BEC5",
                                "#B0BEC5",
                                "#B0BEC5",
                                "#B0BEC5",
                                "#B0BEC5",
                                "#B0BEC5",
                                "#B0BEC5",
                                "#B0BEC5",
                                "#B0BEC5",
                                "#B0BEC5",
                                "#B0BEC5",
                                "#B0BEC5",
                                "#B0BEC5",
                                "#B0BEC5",
                                "#B0BEC5",
                                "#B0BEC5",
                                "#B0BEC5",
                                "#B0BEC5",
                                "red",
                                "#B0BEC5",
                                "#B0BEC5",
                                "#B0BEC5"
                              ]
                            ]
                          }
                        ],
                        "label": "Topic 57",
                        "method": "update"
                      },
                      {
                        "args": [
                          {
                            "marker.color": [
                              [
                                "#B0BEC5",
                                "#B0BEC5",
                                "#B0BEC5",
                                "#B0BEC5",
                                "#B0BEC5",
                                "#B0BEC5",
                                "#B0BEC5",
                                "#B0BEC5",
                                "#B0BEC5",
                                "#B0BEC5",
                                "#B0BEC5",
                                "#B0BEC5",
                                "#B0BEC5",
                                "#B0BEC5",
                                "#B0BEC5",
                                "#B0BEC5",
                                "#B0BEC5",
                                "#B0BEC5",
                                "#B0BEC5",
                                "#B0BEC5",
                                "#B0BEC5",
                                "#B0BEC5",
                                "#B0BEC5",
                                "#B0BEC5",
                                "#B0BEC5",
                                "#B0BEC5",
                                "#B0BEC5",
                                "#B0BEC5",
                                "#B0BEC5",
                                "#B0BEC5",
                                "#B0BEC5",
                                "#B0BEC5",
                                "#B0BEC5",
                                "#B0BEC5",
                                "#B0BEC5",
                                "#B0BEC5",
                                "#B0BEC5",
                                "#B0BEC5",
                                "#B0BEC5",
                                "#B0BEC5",
                                "#B0BEC5",
                                "#B0BEC5",
                                "#B0BEC5",
                                "#B0BEC5",
                                "#B0BEC5",
                                "#B0BEC5",
                                "#B0BEC5",
                                "#B0BEC5",
                                "#B0BEC5",
                                "#B0BEC5",
                                "#B0BEC5",
                                "#B0BEC5",
                                "#B0BEC5",
                                "#B0BEC5",
                                "#B0BEC5",
                                "#B0BEC5",
                                "#B0BEC5",
                                "#B0BEC5",
                                "red",
                                "#B0BEC5",
                                "#B0BEC5"
                              ]
                            ]
                          }
                        ],
                        "label": "Topic 58",
                        "method": "update"
                      },
                      {
                        "args": [
                          {
                            "marker.color": [
                              [
                                "#B0BEC5",
                                "#B0BEC5",
                                "#B0BEC5",
                                "#B0BEC5",
                                "#B0BEC5",
                                "#B0BEC5",
                                "#B0BEC5",
                                "#B0BEC5",
                                "#B0BEC5",
                                "#B0BEC5",
                                "#B0BEC5",
                                "#B0BEC5",
                                "#B0BEC5",
                                "#B0BEC5",
                                "#B0BEC5",
                                "#B0BEC5",
                                "#B0BEC5",
                                "#B0BEC5",
                                "#B0BEC5",
                                "#B0BEC5",
                                "#B0BEC5",
                                "#B0BEC5",
                                "#B0BEC5",
                                "#B0BEC5",
                                "#B0BEC5",
                                "#B0BEC5",
                                "#B0BEC5",
                                "#B0BEC5",
                                "#B0BEC5",
                                "#B0BEC5",
                                "#B0BEC5",
                                "#B0BEC5",
                                "#B0BEC5",
                                "#B0BEC5",
                                "#B0BEC5",
                                "#B0BEC5",
                                "#B0BEC5",
                                "#B0BEC5",
                                "#B0BEC5",
                                "#B0BEC5",
                                "#B0BEC5",
                                "#B0BEC5",
                                "#B0BEC5",
                                "#B0BEC5",
                                "#B0BEC5",
                                "#B0BEC5",
                                "#B0BEC5",
                                "#B0BEC5",
                                "#B0BEC5",
                                "#B0BEC5",
                                "#B0BEC5",
                                "#B0BEC5",
                                "#B0BEC5",
                                "#B0BEC5",
                                "#B0BEC5",
                                "#B0BEC5",
                                "#B0BEC5",
                                "#B0BEC5",
                                "#B0BEC5",
                                "red",
                                "#B0BEC5"
                              ]
                            ]
                          }
                        ],
                        "label": "Topic 59",
                        "method": "update"
                      },
                      {
                        "args": [
                          {
                            "marker.color": [
                              [
                                "#B0BEC5",
                                "#B0BEC5",
                                "#B0BEC5",
                                "#B0BEC5",
                                "#B0BEC5",
                                "#B0BEC5",
                                "#B0BEC5",
                                "#B0BEC5",
                                "#B0BEC5",
                                "#B0BEC5",
                                "#B0BEC5",
                                "#B0BEC5",
                                "#B0BEC5",
                                "#B0BEC5",
                                "#B0BEC5",
                                "#B0BEC5",
                                "#B0BEC5",
                                "#B0BEC5",
                                "#B0BEC5",
                                "#B0BEC5",
                                "#B0BEC5",
                                "#B0BEC5",
                                "#B0BEC5",
                                "#B0BEC5",
                                "#B0BEC5",
                                "#B0BEC5",
                                "#B0BEC5",
                                "#B0BEC5",
                                "#B0BEC5",
                                "#B0BEC5",
                                "#B0BEC5",
                                "#B0BEC5",
                                "#B0BEC5",
                                "#B0BEC5",
                                "#B0BEC5",
                                "#B0BEC5",
                                "#B0BEC5",
                                "#B0BEC5",
                                "#B0BEC5",
                                "#B0BEC5",
                                "#B0BEC5",
                                "#B0BEC5",
                                "#B0BEC5",
                                "#B0BEC5",
                                "#B0BEC5",
                                "#B0BEC5",
                                "#B0BEC5",
                                "#B0BEC5",
                                "#B0BEC5",
                                "#B0BEC5",
                                "#B0BEC5",
                                "#B0BEC5",
                                "#B0BEC5",
                                "#B0BEC5",
                                "#B0BEC5",
                                "#B0BEC5",
                                "#B0BEC5",
                                "#B0BEC5",
                                "#B0BEC5",
                                "#B0BEC5",
                                "red"
                              ]
                            ]
                          }
                        ],
                        "label": "Topic 60",
                        "method": "update"
                      }
                    ]
                  }
                ],
                "template": {
                  "data": {
                    "bar": [
                      {
                        "error_x": {
                          "color": "rgb(36,36,36)"
                        },
                        "error_y": {
                          "color": "rgb(36,36,36)"
                        },
                        "marker": {
                          "line": {
                            "color": "white",
                            "width": 0.5
                          },
                          "pattern": {
                            "fillmode": "overlay",
                            "size": 10,
                            "solidity": 0.2
                          }
                        },
                        "type": "bar"
                      }
                    ],
                    "barpolar": [
                      {
                        "marker": {
                          "line": {
                            "color": "white",
                            "width": 0.5
                          },
                          "pattern": {
                            "fillmode": "overlay",
                            "size": 10,
                            "solidity": 0.2
                          }
                        },
                        "type": "barpolar"
                      }
                    ],
                    "carpet": [
                      {
                        "aaxis": {
                          "endlinecolor": "rgb(36,36,36)",
                          "gridcolor": "white",
                          "linecolor": "white",
                          "minorgridcolor": "white",
                          "startlinecolor": "rgb(36,36,36)"
                        },
                        "baxis": {
                          "endlinecolor": "rgb(36,36,36)",
                          "gridcolor": "white",
                          "linecolor": "white",
                          "minorgridcolor": "white",
                          "startlinecolor": "rgb(36,36,36)"
                        },
                        "type": "carpet"
                      }
                    ],
                    "choropleth": [
                      {
                        "colorbar": {
                          "outlinewidth": 1,
                          "tickcolor": "rgb(36,36,36)",
                          "ticks": "outside"
                        },
                        "type": "choropleth"
                      }
                    ],
                    "contour": [
                      {
                        "colorbar": {
                          "outlinewidth": 1,
                          "tickcolor": "rgb(36,36,36)",
                          "ticks": "outside"
                        },
                        "colorscale": [
                          [
                            0,
                            "#440154"
                          ],
                          [
                            0.1111111111111111,
                            "#482878"
                          ],
                          [
                            0.2222222222222222,
                            "#3e4989"
                          ],
                          [
                            0.3333333333333333,
                            "#31688e"
                          ],
                          [
                            0.4444444444444444,
                            "#26828e"
                          ],
                          [
                            0.5555555555555556,
                            "#1f9e89"
                          ],
                          [
                            0.6666666666666666,
                            "#35b779"
                          ],
                          [
                            0.7777777777777778,
                            "#6ece58"
                          ],
                          [
                            0.8888888888888888,
                            "#b5de2b"
                          ],
                          [
                            1,
                            "#fde725"
                          ]
                        ],
                        "type": "contour"
                      }
                    ],
                    "contourcarpet": [
                      {
                        "colorbar": {
                          "outlinewidth": 1,
                          "tickcolor": "rgb(36,36,36)",
                          "ticks": "outside"
                        },
                        "type": "contourcarpet"
                      }
                    ],
                    "heatmap": [
                      {
                        "colorbar": {
                          "outlinewidth": 1,
                          "tickcolor": "rgb(36,36,36)",
                          "ticks": "outside"
                        },
                        "colorscale": [
                          [
                            0,
                            "#440154"
                          ],
                          [
                            0.1111111111111111,
                            "#482878"
                          ],
                          [
                            0.2222222222222222,
                            "#3e4989"
                          ],
                          [
                            0.3333333333333333,
                            "#31688e"
                          ],
                          [
                            0.4444444444444444,
                            "#26828e"
                          ],
                          [
                            0.5555555555555556,
                            "#1f9e89"
                          ],
                          [
                            0.6666666666666666,
                            "#35b779"
                          ],
                          [
                            0.7777777777777778,
                            "#6ece58"
                          ],
                          [
                            0.8888888888888888,
                            "#b5de2b"
                          ],
                          [
                            1,
                            "#fde725"
                          ]
                        ],
                        "type": "heatmap"
                      }
                    ],
                    "heatmapgl": [
                      {
                        "colorbar": {
                          "outlinewidth": 1,
                          "tickcolor": "rgb(36,36,36)",
                          "ticks": "outside"
                        },
                        "colorscale": [
                          [
                            0,
                            "#440154"
                          ],
                          [
                            0.1111111111111111,
                            "#482878"
                          ],
                          [
                            0.2222222222222222,
                            "#3e4989"
                          ],
                          [
                            0.3333333333333333,
                            "#31688e"
                          ],
                          [
                            0.4444444444444444,
                            "#26828e"
                          ],
                          [
                            0.5555555555555556,
                            "#1f9e89"
                          ],
                          [
                            0.6666666666666666,
                            "#35b779"
                          ],
                          [
                            0.7777777777777778,
                            "#6ece58"
                          ],
                          [
                            0.8888888888888888,
                            "#b5de2b"
                          ],
                          [
                            1,
                            "#fde725"
                          ]
                        ],
                        "type": "heatmapgl"
                      }
                    ],
                    "histogram": [
                      {
                        "marker": {
                          "line": {
                            "color": "white",
                            "width": 0.6
                          }
                        },
                        "type": "histogram"
                      }
                    ],
                    "histogram2d": [
                      {
                        "colorbar": {
                          "outlinewidth": 1,
                          "tickcolor": "rgb(36,36,36)",
                          "ticks": "outside"
                        },
                        "colorscale": [
                          [
                            0,
                            "#440154"
                          ],
                          [
                            0.1111111111111111,
                            "#482878"
                          ],
                          [
                            0.2222222222222222,
                            "#3e4989"
                          ],
                          [
                            0.3333333333333333,
                            "#31688e"
                          ],
                          [
                            0.4444444444444444,
                            "#26828e"
                          ],
                          [
                            0.5555555555555556,
                            "#1f9e89"
                          ],
                          [
                            0.6666666666666666,
                            "#35b779"
                          ],
                          [
                            0.7777777777777778,
                            "#6ece58"
                          ],
                          [
                            0.8888888888888888,
                            "#b5de2b"
                          ],
                          [
                            1,
                            "#fde725"
                          ]
                        ],
                        "type": "histogram2d"
                      }
                    ],
                    "histogram2dcontour": [
                      {
                        "colorbar": {
                          "outlinewidth": 1,
                          "tickcolor": "rgb(36,36,36)",
                          "ticks": "outside"
                        },
                        "colorscale": [
                          [
                            0,
                            "#440154"
                          ],
                          [
                            0.1111111111111111,
                            "#482878"
                          ],
                          [
                            0.2222222222222222,
                            "#3e4989"
                          ],
                          [
                            0.3333333333333333,
                            "#31688e"
                          ],
                          [
                            0.4444444444444444,
                            "#26828e"
                          ],
                          [
                            0.5555555555555556,
                            "#1f9e89"
                          ],
                          [
                            0.6666666666666666,
                            "#35b779"
                          ],
                          [
                            0.7777777777777778,
                            "#6ece58"
                          ],
                          [
                            0.8888888888888888,
                            "#b5de2b"
                          ],
                          [
                            1,
                            "#fde725"
                          ]
                        ],
                        "type": "histogram2dcontour"
                      }
                    ],
                    "mesh3d": [
                      {
                        "colorbar": {
                          "outlinewidth": 1,
                          "tickcolor": "rgb(36,36,36)",
                          "ticks": "outside"
                        },
                        "type": "mesh3d"
                      }
                    ],
                    "parcoords": [
                      {
                        "line": {
                          "colorbar": {
                            "outlinewidth": 1,
                            "tickcolor": "rgb(36,36,36)",
                            "ticks": "outside"
                          }
                        },
                        "type": "parcoords"
                      }
                    ],
                    "pie": [
                      {
                        "automargin": true,
                        "type": "pie"
                      }
                    ],
                    "scatter": [
                      {
                        "fillpattern": {
                          "fillmode": "overlay",
                          "size": 10,
                          "solidity": 0.2
                        },
                        "type": "scatter"
                      }
                    ],
                    "scatter3d": [
                      {
                        "line": {
                          "colorbar": {
                            "outlinewidth": 1,
                            "tickcolor": "rgb(36,36,36)",
                            "ticks": "outside"
                          }
                        },
                        "marker": {
                          "colorbar": {
                            "outlinewidth": 1,
                            "tickcolor": "rgb(36,36,36)",
                            "ticks": "outside"
                          }
                        },
                        "type": "scatter3d"
                      }
                    ],
                    "scattercarpet": [
                      {
                        "marker": {
                          "colorbar": {
                            "outlinewidth": 1,
                            "tickcolor": "rgb(36,36,36)",
                            "ticks": "outside"
                          }
                        },
                        "type": "scattercarpet"
                      }
                    ],
                    "scattergeo": [
                      {
                        "marker": {
                          "colorbar": {
                            "outlinewidth": 1,
                            "tickcolor": "rgb(36,36,36)",
                            "ticks": "outside"
                          }
                        },
                        "type": "scattergeo"
                      }
                    ],
                    "scattergl": [
                      {
                        "marker": {
                          "colorbar": {
                            "outlinewidth": 1,
                            "tickcolor": "rgb(36,36,36)",
                            "ticks": "outside"
                          }
                        },
                        "type": "scattergl"
                      }
                    ],
                    "scattermapbox": [
                      {
                        "marker": {
                          "colorbar": {
                            "outlinewidth": 1,
                            "tickcolor": "rgb(36,36,36)",
                            "ticks": "outside"
                          }
                        },
                        "type": "scattermapbox"
                      }
                    ],
                    "scatterpolar": [
                      {
                        "marker": {
                          "colorbar": {
                            "outlinewidth": 1,
                            "tickcolor": "rgb(36,36,36)",
                            "ticks": "outside"
                          }
                        },
                        "type": "scatterpolar"
                      }
                    ],
                    "scatterpolargl": [
                      {
                        "marker": {
                          "colorbar": {
                            "outlinewidth": 1,
                            "tickcolor": "rgb(36,36,36)",
                            "ticks": "outside"
                          }
                        },
                        "type": "scatterpolargl"
                      }
                    ],
                    "scatterternary": [
                      {
                        "marker": {
                          "colorbar": {
                            "outlinewidth": 1,
                            "tickcolor": "rgb(36,36,36)",
                            "ticks": "outside"
                          }
                        },
                        "type": "scatterternary"
                      }
                    ],
                    "surface": [
                      {
                        "colorbar": {
                          "outlinewidth": 1,
                          "tickcolor": "rgb(36,36,36)",
                          "ticks": "outside"
                        },
                        "colorscale": [
                          [
                            0,
                            "#440154"
                          ],
                          [
                            0.1111111111111111,
                            "#482878"
                          ],
                          [
                            0.2222222222222222,
                            "#3e4989"
                          ],
                          [
                            0.3333333333333333,
                            "#31688e"
                          ],
                          [
                            0.4444444444444444,
                            "#26828e"
                          ],
                          [
                            0.5555555555555556,
                            "#1f9e89"
                          ],
                          [
                            0.6666666666666666,
                            "#35b779"
                          ],
                          [
                            0.7777777777777778,
                            "#6ece58"
                          ],
                          [
                            0.8888888888888888,
                            "#b5de2b"
                          ],
                          [
                            1,
                            "#fde725"
                          ]
                        ],
                        "type": "surface"
                      }
                    ],
                    "table": [
                      {
                        "cells": {
                          "fill": {
                            "color": "rgb(237,237,237)"
                          },
                          "line": {
                            "color": "white"
                          }
                        },
                        "header": {
                          "fill": {
                            "color": "rgb(217,217,217)"
                          },
                          "line": {
                            "color": "white"
                          }
                        },
                        "type": "table"
                      }
                    ]
                  },
                  "layout": {
                    "annotationdefaults": {
                      "arrowhead": 0,
                      "arrowwidth": 1
                    },
                    "autotypenumbers": "strict",
                    "coloraxis": {
                      "colorbar": {
                        "outlinewidth": 1,
                        "tickcolor": "rgb(36,36,36)",
                        "ticks": "outside"
                      }
                    },
                    "colorscale": {
                      "diverging": [
                        [
                          0,
                          "rgb(103,0,31)"
                        ],
                        [
                          0.1,
                          "rgb(178,24,43)"
                        ],
                        [
                          0.2,
                          "rgb(214,96,77)"
                        ],
                        [
                          0.3,
                          "rgb(244,165,130)"
                        ],
                        [
                          0.4,
                          "rgb(253,219,199)"
                        ],
                        [
                          0.5,
                          "rgb(247,247,247)"
                        ],
                        [
                          0.6,
                          "rgb(209,229,240)"
                        ],
                        [
                          0.7,
                          "rgb(146,197,222)"
                        ],
                        [
                          0.8,
                          "rgb(67,147,195)"
                        ],
                        [
                          0.9,
                          "rgb(33,102,172)"
                        ],
                        [
                          1,
                          "rgb(5,48,97)"
                        ]
                      ],
                      "sequential": [
                        [
                          0,
                          "#440154"
                        ],
                        [
                          0.1111111111111111,
                          "#482878"
                        ],
                        [
                          0.2222222222222222,
                          "#3e4989"
                        ],
                        [
                          0.3333333333333333,
                          "#31688e"
                        ],
                        [
                          0.4444444444444444,
                          "#26828e"
                        ],
                        [
                          0.5555555555555556,
                          "#1f9e89"
                        ],
                        [
                          0.6666666666666666,
                          "#35b779"
                        ],
                        [
                          0.7777777777777778,
                          "#6ece58"
                        ],
                        [
                          0.8888888888888888,
                          "#b5de2b"
                        ],
                        [
                          1,
                          "#fde725"
                        ]
                      ],
                      "sequentialminus": [
                        [
                          0,
                          "#440154"
                        ],
                        [
                          0.1111111111111111,
                          "#482878"
                        ],
                        [
                          0.2222222222222222,
                          "#3e4989"
                        ],
                        [
                          0.3333333333333333,
                          "#31688e"
                        ],
                        [
                          0.4444444444444444,
                          "#26828e"
                        ],
                        [
                          0.5555555555555556,
                          "#1f9e89"
                        ],
                        [
                          0.6666666666666666,
                          "#35b779"
                        ],
                        [
                          0.7777777777777778,
                          "#6ece58"
                        ],
                        [
                          0.8888888888888888,
                          "#b5de2b"
                        ],
                        [
                          1,
                          "#fde725"
                        ]
                      ]
                    },
                    "colorway": [
                      "#1F77B4",
                      "#FF7F0E",
                      "#2CA02C",
                      "#D62728",
                      "#9467BD",
                      "#8C564B",
                      "#E377C2",
                      "#7F7F7F",
                      "#BCBD22",
                      "#17BECF"
                    ],
                    "font": {
                      "color": "rgb(36,36,36)"
                    },
                    "geo": {
                      "bgcolor": "white",
                      "lakecolor": "white",
                      "landcolor": "white",
                      "showlakes": true,
                      "showland": true,
                      "subunitcolor": "white"
                    },
                    "hoverlabel": {
                      "align": "left"
                    },
                    "hovermode": "closest",
                    "mapbox": {
                      "style": "light"
                    },
                    "paper_bgcolor": "white",
                    "plot_bgcolor": "white",
                    "polar": {
                      "angularaxis": {
                        "gridcolor": "rgb(232,232,232)",
                        "linecolor": "rgb(36,36,36)",
                        "showgrid": false,
                        "showline": true,
                        "ticks": "outside"
                      },
                      "bgcolor": "white",
                      "radialaxis": {
                        "gridcolor": "rgb(232,232,232)",
                        "linecolor": "rgb(36,36,36)",
                        "showgrid": false,
                        "showline": true,
                        "ticks": "outside"
                      }
                    },
                    "scene": {
                      "xaxis": {
                        "backgroundcolor": "white",
                        "gridcolor": "rgb(232,232,232)",
                        "gridwidth": 2,
                        "linecolor": "rgb(36,36,36)",
                        "showbackground": true,
                        "showgrid": false,
                        "showline": true,
                        "ticks": "outside",
                        "zeroline": false,
                        "zerolinecolor": "rgb(36,36,36)"
                      },
                      "yaxis": {
                        "backgroundcolor": "white",
                        "gridcolor": "rgb(232,232,232)",
                        "gridwidth": 2,
                        "linecolor": "rgb(36,36,36)",
                        "showbackground": true,
                        "showgrid": false,
                        "showline": true,
                        "ticks": "outside",
                        "zeroline": false,
                        "zerolinecolor": "rgb(36,36,36)"
                      },
                      "zaxis": {
                        "backgroundcolor": "white",
                        "gridcolor": "rgb(232,232,232)",
                        "gridwidth": 2,
                        "linecolor": "rgb(36,36,36)",
                        "showbackground": true,
                        "showgrid": false,
                        "showline": true,
                        "ticks": "outside",
                        "zeroline": false,
                        "zerolinecolor": "rgb(36,36,36)"
                      }
                    },
                    "shapedefaults": {
                      "fillcolor": "black",
                      "line": {
                        "width": 0
                      },
                      "opacity": 0.3
                    },
                    "ternary": {
                      "aaxis": {
                        "gridcolor": "rgb(232,232,232)",
                        "linecolor": "rgb(36,36,36)",
                        "showgrid": false,
                        "showline": true,
                        "ticks": "outside"
                      },
                      "baxis": {
                        "gridcolor": "rgb(232,232,232)",
                        "linecolor": "rgb(36,36,36)",
                        "showgrid": false,
                        "showline": true,
                        "ticks": "outside"
                      },
                      "bgcolor": "white",
                      "caxis": {
                        "gridcolor": "rgb(232,232,232)",
                        "linecolor": "rgb(36,36,36)",
                        "showgrid": false,
                        "showline": true,
                        "ticks": "outside"
                      }
                    },
                    "title": {
                      "x": 0.05
                    },
                    "xaxis": {
                      "automargin": true,
                      "gridcolor": "rgb(232,232,232)",
                      "linecolor": "rgb(36,36,36)",
                      "showgrid": false,
                      "showline": true,
                      "ticks": "outside",
                      "title": {
                        "standoff": 15
                      },
                      "zeroline": false,
                      "zerolinecolor": "rgb(36,36,36)"
                    },
                    "yaxis": {
                      "automargin": true,
                      "gridcolor": "rgb(232,232,232)",
                      "linecolor": "rgb(36,36,36)",
                      "showgrid": false,
                      "showline": true,
                      "ticks": "outside",
                      "title": {
                        "standoff": 15
                      },
                      "zeroline": false,
                      "zerolinecolor": "rgb(36,36,36)"
                    }
                  }
                },
                "title": {
                  "font": {
                    "color": "Black",
                    "size": 22
                  },
                  "text": "<b>Intertopic Distance Map</b>",
                  "x": 0.5,
                  "xanchor": "center",
                  "y": 0.95,
                  "yanchor": "top"
                },
                "width": 650,
                "xaxis": {
                  "anchor": "y",
                  "domain": [
                    0,
                    1
                  ],
                  "range": [
                    -7.311314821243286,
                    22.679326248168945
                  ],
                  "title": {
                    "text": ""
                  },
                  "visible": false
                },
                "yaxis": {
                  "anchor": "x",
                  "domain": [
                    0,
                    1
                  ],
                  "range": [
                    -7.33242130279541,
                    23.245690631866456
                  ],
                  "title": {
                    "text": ""
                  },
                  "visible": false
                }
              }
            }
          },
          "metadata": {},
          "output_type": "display_data"
        }
      ],
      "source": [
        "model_trained_representation.visualize_topics()"
      ]
    },
    {
      "cell_type": "code",
      "execution_count": null,
      "metadata": {},
      "outputs": [
        {
          "data": {
            "text/html": [
              "<div>\n",
              "<style scoped>\n",
              "    .dataframe tbody tr th:only-of-type {\n",
              "        vertical-align: middle;\n",
              "    }\n",
              "\n",
              "    .dataframe tbody tr th {\n",
              "        vertical-align: top;\n",
              "    }\n",
              "\n",
              "    .dataframe thead th {\n",
              "        text-align: right;\n",
              "    }\n",
              "</style>\n",
              "<table border=\"1\" class=\"dataframe\">\n",
              "  <thead>\n",
              "    <tr style=\"text-align: right;\">\n",
              "      <th></th>\n",
              "      <th>Topic</th>\n",
              "      <th>Count</th>\n",
              "      <th>Name</th>\n",
              "      <th>Representation</th>\n",
              "      <th>Representative_Docs</th>\n",
              "    </tr>\n",
              "  </thead>\n",
              "  <tbody>\n",
              "    <tr>\n",
              "      <th>0</th>\n",
              "      <td>-1</td>\n",
              "      <td>81507</td>\n",
              "      <td>-1_wedding_mom_ways_things</td>\n",
              "      <td>[wedding, mom, ways, things, love, best, what,...</td>\n",
              "      <td>[What Your Wedding Style Reveals About Your Fu...</td>\n",
              "    </tr>\n",
              "    <tr>\n",
              "      <th>1</th>\n",
              "      <td>0</td>\n",
              "      <td>15651</td>\n",
              "      <td>0_hillary_sanders_clinton_trump</td>\n",
              "      <td>[hillary, sanders, clinton, trump, bernie, pre...</td>\n",
              "      <td>[Mitt Romney's Top Strategist Says Hillary Cli...</td>\n",
              "    </tr>\n",
              "    <tr>\n",
              "      <th>2</th>\n",
              "      <td>1</td>\n",
              "      <td>14225</td>\n",
              "      <td>1_kardashian_kardashians_kylie_kim</td>\n",
              "      <td>[kardashian, kardashians, kylie, kim, jennifer...</td>\n",
              "      <td>[Katy Perry's Movie Premiere Look: A New Take ...</td>\n",
              "    </tr>\n",
              "    <tr>\n",
              "      <th>3</th>\n",
              "      <td>2</td>\n",
              "      <td>7402</td>\n",
              "      <td>2_happiness_meditation_mindfulness_meditations</td>\n",
              "      <td>[happiness, meditation, mindfulness, meditatio...</td>\n",
              "      <td>[Is Meditation The Path To True Happiness?, Da...</td>\n",
              "    </tr>\n",
              "    <tr>\n",
              "      <th>4</th>\n",
              "      <td>3</td>\n",
              "      <td>5100</td>\n",
              "      <td>3_parenthood_parenting_mothers_parental</td>\n",
              "      <td>[parenthood, parenting, mothers, parental, mot...</td>\n",
              "      <td>[Funniest Parenting Tweets: What Moms And Dads...</td>\n",
              "    </tr>\n",
              "    <tr>\n",
              "      <th>...</th>\n",
              "      <td>...</td>\n",
              "      <td>...</td>\n",
              "      <td>...</td>\n",
              "      <td>...</td>\n",
              "      <td>...</td>\n",
              "    </tr>\n",
              "    <tr>\n",
              "      <th>57</th>\n",
              "      <td>56</td>\n",
              "      <td>40</td>\n",
              "      <td>56_1915_1914_1916_wwis</td>\n",
              "      <td>[1915, 1914, 1916, wwis, archduke, september, ...</td>\n",
              "      <td>[This Week in World War I, April 4-11, 1915, T...</td>\n",
              "    </tr>\n",
              "    <tr>\n",
              "      <th>58</th>\n",
              "      <td>57</td>\n",
              "      <td>33</td>\n",
              "      <td>57_normal_new_abnormal_unusual</td>\n",
              "      <td>[normal, new, abnormal, unusual, usual, abnorm...</td>\n",
              "      <td>[Their New Normal, Is This the New Normal?, Th...</td>\n",
              "    </tr>\n",
              "    <tr>\n",
              "      <th>59</th>\n",
              "      <td>58</td>\n",
              "      <td>25</td>\n",
              "      <td>58_knives_knife_blades_chef</td>\n",
              "      <td>[knives, knife, blades, chef, kitchen, sharpen...</td>\n",
              "      <td>[Kitchen Knives: Everything You Ever Wanted To...</td>\n",
              "    </tr>\n",
              "    <tr>\n",
              "      <th>60</th>\n",
              "      <td>59</td>\n",
              "      <td>23</td>\n",
              "      <td>59_rune_raidho_weekly_othala</td>\n",
              "      <td>[rune, raidho, weekly, othala, tiwaz, eihwaz, ...</td>\n",
              "      <td>[The Weekly Rune: Othala, The Weekly Rune: Rai...</td>\n",
              "    </tr>\n",
              "    <tr>\n",
              "      <th>61</th>\n",
              "      <td>60</td>\n",
              "      <td>22</td>\n",
              "      <td>60_ninja_ninjas_warrior_ninjalike</td>\n",
              "      <td>[ninja, ninjas, warrior, ninjalike, zakis, kni...</td>\n",
              "      <td>[This T. Rex Dominates 'American Ninja Warrior...</td>\n",
              "    </tr>\n",
              "  </tbody>\n",
              "</table>\n",
              "<p>62 rows × 5 columns</p>\n",
              "</div>"
            ],
            "text/plain": [
              "    Topic  Count                                            Name  \\\n",
              "0      -1  81507                      -1_wedding_mom_ways_things   \n",
              "1       0  15651                 0_hillary_sanders_clinton_trump   \n",
              "2       1  14225              1_kardashian_kardashians_kylie_kim   \n",
              "3       2   7402  2_happiness_meditation_mindfulness_meditations   \n",
              "4       3   5100         3_parenthood_parenting_mothers_parental   \n",
              "..    ...    ...                                             ...   \n",
              "57     56     40                          56_1915_1914_1916_wwis   \n",
              "58     57     33                  57_normal_new_abnormal_unusual   \n",
              "59     58     25                     58_knives_knife_blades_chef   \n",
              "60     59     23                    59_rune_raidho_weekly_othala   \n",
              "61     60     22               60_ninja_ninjas_warrior_ninjalike   \n",
              "\n",
              "                                       Representation  \\\n",
              "0   [wedding, mom, ways, things, love, best, what,...   \n",
              "1   [hillary, sanders, clinton, trump, bernie, pre...   \n",
              "2   [kardashian, kardashians, kylie, kim, jennifer...   \n",
              "3   [happiness, meditation, mindfulness, meditatio...   \n",
              "4   [parenthood, parenting, mothers, parental, mot...   \n",
              "..                                                ...   \n",
              "57  [1915, 1914, 1916, wwis, archduke, september, ...   \n",
              "58  [normal, new, abnormal, unusual, usual, abnorm...   \n",
              "59  [knives, knife, blades, chef, kitchen, sharpen...   \n",
              "60  [rune, raidho, weekly, othala, tiwaz, eihwaz, ...   \n",
              "61  [ninja, ninjas, warrior, ninjalike, zakis, kni...   \n",
              "\n",
              "                                  Representative_Docs  \n",
              "0   [What Your Wedding Style Reveals About Your Fu...  \n",
              "1   [Mitt Romney's Top Strategist Says Hillary Cli...  \n",
              "2   [Katy Perry's Movie Premiere Look: A New Take ...  \n",
              "3   [Is Meditation The Path To True Happiness?, Da...  \n",
              "4   [Funniest Parenting Tweets: What Moms And Dads...  \n",
              "..                                                ...  \n",
              "57  [This Week in World War I, April 4-11, 1915, T...  \n",
              "58  [Their New Normal, Is This the New Normal?, Th...  \n",
              "59  [Kitchen Knives: Everything You Ever Wanted To...  \n",
              "60  [The Weekly Rune: Othala, The Weekly Rune: Rai...  \n",
              "61  [This T. Rex Dominates 'American Ninja Warrior...  \n",
              "\n",
              "[62 rows x 5 columns]"
            ]
          },
          "execution_count": 39,
          "metadata": {},
          "output_type": "execute_result"
        }
      ],
      "source": [
        "(model_trained_representation.get_topic_info())"
      ]
    },
    {
      "cell_type": "markdown",
      "metadata": {},
      "source": []
    }
  ],
  "metadata": {
    "colab": {
      "provenance": []
    },
    "kernelspec": {
      "display_name": "Python 3",
      "name": "python3"
    },
    "language_info": {
      "codemirror_mode": {
        "name": "ipython",
        "version": 3
      },
      "file_extension": ".py",
      "mimetype": "text/x-python",
      "name": "python",
      "nbconvert_exporter": "python",
      "pygments_lexer": "ipython3",
      "version": "3.10.10"
    }
  },
  "nbformat": 4,
  "nbformat_minor": 0
}
