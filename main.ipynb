{
  "cells": [
    {
      "cell_type": "code",
      "execution_count": 1,
      "metadata": {
        "id": "9e_Rmpt0B_Oa"
      },
      "outputs": [
        {
          "name": "stderr",
          "output_type": "stream",
          "text": [
            "c:\\Users\\David-Desktop\\miniconda3\\envs\\NLP\\lib\\site-packages\\tqdm\\auto.py:21: TqdmWarning: IProgress not found. Please update jupyter and ipywidgets. See https://ipywidgets.readthedocs.io/en/stable/user_install.html\n",
            "  from .autonotebook import tqdm as notebook_tqdm\n"
          ]
        }
      ],
      "source": [
        "import itertools\n",
        "import pandas as pd\n",
        "import numpy as np\n",
        "import seaborn as sns\n",
        "import spacy\n",
        "import re\n",
        "import ast\n",
        "import matplotlib.pyplot as plt\n",
        "import pyLDAvis\n",
        "import pyLDAvis.gensim_models \n",
        "import bertopic\n",
        "\n",
        "from tqdm import tqdm\n",
        "\n",
        "import nltk\n",
        "from nltk import pos_tag\n",
        "from nltk.tokenize import word_tokenize\n",
        "\n",
        "from gensim import corpora\n",
        "from gensim.models import CoherenceModel,LdaModel,LsiModel\n",
        "from sklearn.metrics import silhouette_samples, silhouette_score\n",
        "\n",
        "from itertools import chain\n",
        "\n",
        "from sklearn.decomposition import LatentDirichletAllocation\n",
        "from sklearn.model_selection import GridSearchCV\n",
        "from gensim.models.callbacks import CallbackAny2Vec\n",
        "from gensim.models import Word2Vec, Phrases, KeyedVectors\n",
        "from gensim.models.phrases import Phraser\n",
        "from gensim.utils import simple_preprocess\n",
        "from nltk.corpus import wordnet\n",
        "# from pattern.en import pluralize, singularize\n",
        "from sklearn.feature_extraction import text\n",
        "from sklearn.feature_extraction.text import TfidfVectorizer\n",
        "\n",
        "\n",
        "import warnings\n",
        "warnings.simplefilter(action='ignore', category=FutureWarning)"
      ]
    },
    {
      "cell_type": "markdown",
      "metadata": {},
      "source": [
        "# DATA EXPLORATION & PREPROCESSING\n"
      ]
    },
    {
      "cell_type": "code",
      "execution_count": 2,
      "metadata": {},
      "outputs": [
        {
          "data": {
            "text/html": [
              "<div>\n",
              "<style scoped>\n",
              "    .dataframe tbody tr th:only-of-type {\n",
              "        vertical-align: middle;\n",
              "    }\n",
              "\n",
              "    .dataframe tbody tr th {\n",
              "        vertical-align: top;\n",
              "    }\n",
              "\n",
              "    .dataframe thead th {\n",
              "        text-align: right;\n",
              "    }\n",
              "</style>\n",
              "<table border=\"1\" class=\"dataframe\">\n",
              "  <thead>\n",
              "    <tr style=\"text-align: right;\">\n",
              "      <th></th>\n",
              "      <th>category</th>\n",
              "      <th>headline</th>\n",
              "      <th>authors</th>\n",
              "      <th>link</th>\n",
              "      <th>short_description</th>\n",
              "      <th>date</th>\n",
              "    </tr>\n",
              "  </thead>\n",
              "  <tbody>\n",
              "    <tr>\n",
              "      <th>0</th>\n",
              "      <td>CRIME</td>\n",
              "      <td>There Were 2 Mass Shootings In Texas Last Week...</td>\n",
              "      <td>Melissa Jeltsen</td>\n",
              "      <td>https://www.huffingtonpost.com/entry/texas-ama...</td>\n",
              "      <td>She left her husband. He killed their children...</td>\n",
              "      <td>2018-05-26</td>\n",
              "    </tr>\n",
              "    <tr>\n",
              "      <th>1</th>\n",
              "      <td>ENTERTAINMENT</td>\n",
              "      <td>Will Smith Joins Diplo And Nicky Jam For The 2...</td>\n",
              "      <td>Andy McDonald</td>\n",
              "      <td>https://www.huffingtonpost.com/entry/will-smit...</td>\n",
              "      <td>Of course it has a song.</td>\n",
              "      <td>2018-05-26</td>\n",
              "    </tr>\n",
              "    <tr>\n",
              "      <th>2</th>\n",
              "      <td>ENTERTAINMENT</td>\n",
              "      <td>Hugh Grant Marries For The First Time At Age 57</td>\n",
              "      <td>Ron Dicker</td>\n",
              "      <td>https://www.huffingtonpost.com/entry/hugh-gran...</td>\n",
              "      <td>The actor and his longtime girlfriend Anna Ebe...</td>\n",
              "      <td>2018-05-26</td>\n",
              "    </tr>\n",
              "    <tr>\n",
              "      <th>3</th>\n",
              "      <td>ENTERTAINMENT</td>\n",
              "      <td>Jim Carrey Blasts 'Castrato' Adam Schiff And D...</td>\n",
              "      <td>Ron Dicker</td>\n",
              "      <td>https://www.huffingtonpost.com/entry/jim-carre...</td>\n",
              "      <td>The actor gives Dems an ass-kicking for not fi...</td>\n",
              "      <td>2018-05-26</td>\n",
              "    </tr>\n",
              "    <tr>\n",
              "      <th>4</th>\n",
              "      <td>ENTERTAINMENT</td>\n",
              "      <td>Julianna Margulies Uses Donald Trump Poop Bags...</td>\n",
              "      <td>Ron Dicker</td>\n",
              "      <td>https://www.huffingtonpost.com/entry/julianna-...</td>\n",
              "      <td>The \"Dietland\" actress said using the bags is ...</td>\n",
              "      <td>2018-05-26</td>\n",
              "    </tr>\n",
              "  </tbody>\n",
              "</table>\n",
              "</div>"
            ],
            "text/plain": [
              "        category                                           headline  \\\n",
              "0          CRIME  There Were 2 Mass Shootings In Texas Last Week...   \n",
              "1  ENTERTAINMENT  Will Smith Joins Diplo And Nicky Jam For The 2...   \n",
              "2  ENTERTAINMENT    Hugh Grant Marries For The First Time At Age 57   \n",
              "3  ENTERTAINMENT  Jim Carrey Blasts 'Castrato' Adam Schiff And D...   \n",
              "4  ENTERTAINMENT  Julianna Margulies Uses Donald Trump Poop Bags...   \n",
              "\n",
              "           authors                                               link  \\\n",
              "0  Melissa Jeltsen  https://www.huffingtonpost.com/entry/texas-ama...   \n",
              "1    Andy McDonald  https://www.huffingtonpost.com/entry/will-smit...   \n",
              "2       Ron Dicker  https://www.huffingtonpost.com/entry/hugh-gran...   \n",
              "3       Ron Dicker  https://www.huffingtonpost.com/entry/jim-carre...   \n",
              "4       Ron Dicker  https://www.huffingtonpost.com/entry/julianna-...   \n",
              "\n",
              "                                   short_description       date  \n",
              "0  She left her husband. He killed their children... 2018-05-26  \n",
              "1                           Of course it has a song. 2018-05-26  \n",
              "2  The actor and his longtime girlfriend Anna Ebe... 2018-05-26  \n",
              "3  The actor gives Dems an ass-kicking for not fi... 2018-05-26  \n",
              "4  The \"Dietland\" actress said using the bags is ... 2018-05-26  "
            ]
          },
          "execution_count": 2,
          "metadata": {},
          "output_type": "execute_result"
        }
      ],
      "source": [
        "# data loading\n",
        "dataset = pd.read_json(\"News_Category_Dataset_v2.json\", lines=True, dtype={\"headline\": str})\n",
        "dataset.head()"
      ]
    },
    {
      "cell_type": "code",
      "execution_count": 3,
      "metadata": {},
      "outputs": [],
      "source": [
        "def dummy_word_split(texts):\n",
        "    \"\"\"Function identifying words in a sentence in a really dummy way.\n",
        "\n",
        "        Argument:\n",
        "            - texts (list of str): a list of raw texts in which we'd like to identify words\n",
        "\n",
        "        Return:\n",
        "            - list of list containing each word separately.\n",
        "    \"\"\"\n",
        "    texts_out = []\n",
        "    for text in texts:\n",
        "        texts_out.append(text.split(\" \"))\n",
        "\n",
        "    return texts_out"
      ]
    },
    {
      "cell_type": "code",
      "execution_count": 4,
      "metadata": {},
      "outputs": [],
      "source": [
        "def compute_word_occurences(texts):\n",
        "    \"\"\"You have to define this function yourself. \"\"\"\n",
        "\n",
        "    words = itertools.chain.from_iterable(texts)\n",
        "\n",
        "    word_count = pd.Series(words).value_counts()\n",
        "    word_count = pd.DataFrame({\"Word\": word_count.index, \"Count\": word_count.values})\n",
        "\n",
        "    return word_count"
      ]
    },
    {
      "cell_type": "code",
      "execution_count": 5,
      "metadata": {},
      "outputs": [
        {
          "data": {
            "text/html": [
              "<div>\n",
              "<style scoped>\n",
              "    .dataframe tbody tr th:only-of-type {\n",
              "        vertical-align: middle;\n",
              "    }\n",
              "\n",
              "    .dataframe tbody tr th {\n",
              "        vertical-align: top;\n",
              "    }\n",
              "\n",
              "    .dataframe thead th {\n",
              "        text-align: right;\n",
              "    }\n",
              "</style>\n",
              "<table border=\"1\" class=\"dataframe\">\n",
              "  <thead>\n",
              "    <tr style=\"text-align: right;\">\n",
              "      <th></th>\n",
              "      <th>Word</th>\n",
              "      <th>Count</th>\n",
              "    </tr>\n",
              "  </thead>\n",
              "  <tbody>\n",
              "    <tr>\n",
              "      <th>0</th>\n",
              "      <td>The</td>\n",
              "      <td>47803</td>\n",
              "    </tr>\n",
              "    <tr>\n",
              "      <th>1</th>\n",
              "      <td>To</td>\n",
              "      <td>38569</td>\n",
              "    </tr>\n",
              "    <tr>\n",
              "      <th>2</th>\n",
              "      <td>A</td>\n",
              "      <td>24839</td>\n",
              "    </tr>\n",
              "    <tr>\n",
              "      <th>3</th>\n",
              "      <td>In</td>\n",
              "      <td>24141</td>\n",
              "    </tr>\n",
              "    <tr>\n",
              "      <th>4</th>\n",
              "      <td>Of</td>\n",
              "      <td>22956</td>\n",
              "    </tr>\n",
              "    <tr>\n",
              "      <th>5</th>\n",
              "      <td>For</td>\n",
              "      <td>18788</td>\n",
              "    </tr>\n",
              "    <tr>\n",
              "      <th>6</th>\n",
              "      <td>Is</td>\n",
              "      <td>16823</td>\n",
              "    </tr>\n",
              "    <tr>\n",
              "      <th>7</th>\n",
              "      <td>And</td>\n",
              "      <td>15137</td>\n",
              "    </tr>\n",
              "    <tr>\n",
              "      <th>8</th>\n",
              "      <td>On</td>\n",
              "      <td>13642</td>\n",
              "    </tr>\n",
              "    <tr>\n",
              "      <th>9</th>\n",
              "      <td>With</td>\n",
              "      <td>12556</td>\n",
              "    </tr>\n",
              "    <tr>\n",
              "      <th>10</th>\n",
              "      <td>the</td>\n",
              "      <td>12519</td>\n",
              "    </tr>\n",
              "    <tr>\n",
              "      <th>11</th>\n",
              "      <td>to</td>\n",
              "      <td>11429</td>\n",
              "    </tr>\n",
              "    <tr>\n",
              "      <th>12</th>\n",
              "      <td>You</td>\n",
              "      <td>10473</td>\n",
              "    </tr>\n",
              "    <tr>\n",
              "      <th>13</th>\n",
              "      <td>Your</td>\n",
              "      <td>10438</td>\n",
              "    </tr>\n",
              "    <tr>\n",
              "      <th>14</th>\n",
              "      <td>How</td>\n",
              "      <td>9172</td>\n",
              "    </tr>\n",
              "    <tr>\n",
              "      <th>15</th>\n",
              "      <td>of</td>\n",
              "      <td>8883</td>\n",
              "    </tr>\n",
              "    <tr>\n",
              "      <th>16</th>\n",
              "      <td>Trump</td>\n",
              "      <td>8827</td>\n",
              "    </tr>\n",
              "    <tr>\n",
              "      <th>17</th>\n",
              "      <td>(PHOTOS)</td>\n",
              "      <td>8435</td>\n",
              "    </tr>\n",
              "    <tr>\n",
              "      <th>18</th>\n",
              "      <td>New</td>\n",
              "      <td>8400</td>\n",
              "    </tr>\n",
              "    <tr>\n",
              "      <th>19</th>\n",
              "      <td>and</td>\n",
              "      <td>7936</td>\n",
              "    </tr>\n",
              "  </tbody>\n",
              "</table>\n",
              "</div>"
            ],
            "text/plain": [
              "        Word  Count\n",
              "0        The  47803\n",
              "1         To  38569\n",
              "2          A  24839\n",
              "3         In  24141\n",
              "4         Of  22956\n",
              "5        For  18788\n",
              "6         Is  16823\n",
              "7        And  15137\n",
              "8         On  13642\n",
              "9       With  12556\n",
              "10       the  12519\n",
              "11        to  11429\n",
              "12       You  10473\n",
              "13      Your  10438\n",
              "14       How   9172\n",
              "15        of   8883\n",
              "16     Trump   8827\n",
              "17  (PHOTOS)   8435\n",
              "18       New   8400\n",
              "19       and   7936"
            ]
          },
          "execution_count": 5,
          "metadata": {},
          "output_type": "execute_result"
        }
      ],
      "source": [
        "splitted_texts = dummy_word_split(dataset[\"headline\"].tolist())\n",
        "compute_word_occurences(splitted_texts).head(20)"
      ]
    },
    {
      "cell_type": "markdown",
      "metadata": {},
      "source": [
        "La plupart des mots fréquents semblent être des stopwords courants, tels que \"the,\" \"to,\" \"a,\" \"in,\" etc. Ces mots n'apportent généralement pas beaucoup de sens individuellement et peuvent être éliminés lors du preprocessing.\n",
        "\n",
        "Des variations de cas (majuscules et minuscules) pour des mots comme \"The\" et \"the.\" La normalisation en minuscules peut être utile pour traiter ces variations."
      ]
    },
    {
      "cell_type": "code",
      "execution_count": 6,
      "metadata": {},
      "outputs": [],
      "source": [
        "def check_data_quality(texts):\n",
        "    \"\"\"Check wheter all the dataset is conform to the expected behaviour.\"\"\"\n",
        "    assert all([isinstance(t, str) for t in texts]), \"Input data contains something different than strings.\"\n",
        "    assert all([t != np.nan for t in texts]), \"Input data contains NaN values.\"\n",
        "\n",
        "    return True"
      ]
    },
    {
      "cell_type": "code",
      "execution_count": 7,
      "metadata": {},
      "outputs": [],
      "source": [
        "def force_format(texts):\n",
        "    return [str(t) for t in texts]"
      ]
    },
    {
      "cell_type": "code",
      "execution_count": 8,
      "metadata": {},
      "outputs": [
        {
          "name": "stdout",
          "output_type": "stream",
          "text": [
            "Is the dataset passing our data quality check?\n",
            "True\n"
          ]
        }
      ],
      "source": [
        "texts = force_format(dataset[\"headline\"])\n",
        "print(f\"Is the dataset passing our data quality check?\\n{check_data_quality(texts)}\")"
      ]
    },
    {
      "cell_type": "code",
      "execution_count": 9,
      "metadata": {},
      "outputs": [
        {
          "data": {
            "text/plain": [
              "['There Were 2 Mass Shootings In Texas Last Week, But Only 1 On TV',\n",
              " \"Will Smith Joins Diplo And Nicky Jam For The 2018 World Cup's Official Song\",\n",
              " 'Hugh Grant Marries For The First Time At Age 57',\n",
              " \"Jim Carrey Blasts 'Castrato' Adam Schiff And Democrats In New Artwork\",\n",
              " 'Julianna Margulies Uses Donald Trump Poop Bags To Pick Up After Her Dog']"
            ]
          },
          "execution_count": 9,
          "metadata": {},
          "output_type": "execute_result"
        }
      ],
      "source": [
        "texts[:5]"
      ]
    },
    {
      "cell_type": "code",
      "execution_count": 10,
      "metadata": {},
      "outputs": [],
      "source": [
        "def filter_text(texts_in):\n",
        "    \"\"\"Removes incorrect patterns from a list of texts, such as hyperlinks, bullet points and so on\"\"\"\n",
        "\n",
        "    texts_out = re.sub(r'https?:\\/\\/[A-Za-z0-9_.-~\\-]*', ' ', texts_in, flags=re.MULTILINE)\n",
        "    texts_out = re.sub(r'[(){}\\[\\]<>]', ' ', texts_out, flags=re.MULTILINE)\n",
        "    texts_out = re.sub(r'&amp;#.*;', ' ', texts_out, flags=re.MULTILINE)\n",
        "    texts_out = re.sub(r'&gt;', ' ', texts_out, flags=re.MULTILINE)\n",
        "    texts_out = re.sub(r'â€™', \"'\", texts_out, flags=re.MULTILINE)\n",
        "    texts_out = re.sub(r'\\s+', ' ', texts_out, flags=re.MULTILINE)\n",
        "    texts_out = re.sub(r'&#x200B;', ' ', texts_out, flags=re.MULTILINE)\n",
        "    # Mail regex\n",
        "    # This regex is correct but WAY TOO LONG to process. So we skip it with a simpler version\n",
        "    # texts_out = re.sub(r\"(?i)(?:[a-z0-9!#$%&'*+\\/=?^_`{|}~-]+(?:\\.[a-z0-9!#$%&'*+\\/=?^_`{|}~-]+)*|\\\"(?:[\\x01-\\x08\\x0b\\x0c\\x0e-\\x1f\\x21\\x23-\\x5b\\x5d-\\x7f]|\\\\[\\x01-\\x09\\x0b\\x0c\\x0e-\\x7f])*\\\")@(?:(?:[a-z0-9](?:[a-z0-9-]*[a-z0-9])?\\.)+[a-z0-9](?:[a-z0-9-]*[a-z0-9])?|\\[(?:(?:(2(5[0-5]|[0-4][0-9])|1[0-9][0-9]|[1-9]?[0-9]))\\.){3}(?:(2(5[0-5]|[0-4][0-9])|1[0-9][0-9]|[1-9]?[0-9])|[a-z0-9-]*[a-z0-9]:(?:[\\x01-\\x08\\x0b\\x0c\\x0e-\\x1f\\x21-\\x5a\\x53-\\x7f]|\\\\[\\x01-\\x09\\x0b\\x0c\\x0e-\\x7f])+)\\])\", '', texts_out, flags=re.MULTILINE)\n",
        "    texts_out = re.sub(r'[a-zA-Z0-9-_.]+@[a-zA-Z0-9-_.]+\\.[a-zA-Z0-9-_.]+', '', texts_out, flags=re.MULTILINE)\n",
        "    # Phone regex\n",
        "    # This regex is correct but WAY TOO LONG to process. So we skip it with a simpler version\n",
        "    # texts_out = re.sub(r\".*?(\\(?\\d{3}\\D{0,3}\\d{3}\\D{0,3}\\d{4}).*?\", '', texts_out, flags=re.MULTILINE)\n",
        "    texts_out = re.sub(r\"\\(?\\d{3}\\D{0,3}\\d{3}\\D{0,3}\\d{4}\", '', texts_out, flags=re.MULTILINE)\n",
        "    # Remove names in twitter\n",
        "    texts_out = re.sub(r'@\\S+( |\\n)', '', texts_out, flags=re.MULTILINE)\n",
        "\n",
        "    # Remove starts commonly used on social media\n",
        "    texts_out = re.sub(r'\\*', '', texts_out, flags=re.MULTILINE)\n",
        "    return texts_out\n"
      ]
    },
    {
      "cell_type": "code",
      "execution_count": 11,
      "metadata": {},
      "outputs": [
        {
          "data": {
            "text/plain": [
              "['There Were 2 Mass Shootings In Texas Last Week, But Only 1 On TV',\n",
              " \"Will Smith Joins Diplo And Nicky Jam For The 2018 World Cup's Official Song\",\n",
              " 'Hugh Grant Marries For The First Time At Age 57',\n",
              " \"Jim Carrey Blasts 'Castrato' Adam Schiff And Democrats In New Artwork\",\n",
              " 'Julianna Margulies Uses Donald Trump Poop Bags To Pick Up After Her Dog']"
            ]
          },
          "execution_count": 11,
          "metadata": {},
          "output_type": "execute_result"
        }
      ],
      "source": [
        "texts = [filter_text(t) for t in texts]\n",
        "texts[:5]"
      ]
    },
    {
      "cell_type": "code",
      "execution_count": 12,
      "metadata": {},
      "outputs": [],
      "source": [
        "def sent_to_words(sentences):\n",
        "    \"\"\"Converts sentences to words.\n",
        "\n",
        "    Convert sentences in lists of words while removing the accents and the punctuation.\n",
        "\n",
        "    @param:\n",
        "        sentences: a list of strings, the sentences we want to convert\n",
        "    @return\n",
        "        A list of words' lists.\n",
        "    \"\"\"\n",
        "    for sentence in tqdm(sentences):\n",
        "        yield (simple_preprocess(str(sentence), deacc=True))\n"
      ]
    },
    {
      "cell_type": "code",
      "execution_count": 13,
      "metadata": {},
      "outputs": [
        {
          "name": "stderr",
          "output_type": "stream",
          "text": [
            "  0%|          | 0/200853 [00:00<?, ?it/s]"
          ]
        },
        {
          "name": "stderr",
          "output_type": "stream",
          "text": [
            "100%|██████████| 200853/200853 [00:05<00:00, 35002.22it/s]\n"
          ]
        },
        {
          "data": {
            "text/plain": [
              "[['there',\n",
              "  'were',\n",
              "  'mass',\n",
              "  'shootings',\n",
              "  'in',\n",
              "  'texas',\n",
              "  'last',\n",
              "  'week',\n",
              "  'but',\n",
              "  'only',\n",
              "  'on',\n",
              "  'tv'],\n",
              " ['will',\n",
              "  'smith',\n",
              "  'joins',\n",
              "  'diplo',\n",
              "  'and',\n",
              "  'nicky',\n",
              "  'jam',\n",
              "  'for',\n",
              "  'the',\n",
              "  'world',\n",
              "  'cup',\n",
              "  'official',\n",
              "  'song']]"
            ]
          },
          "execution_count": 13,
          "metadata": {},
          "output_type": "execute_result"
        }
      ],
      "source": [
        "texts = list(sent_to_words(texts))\n",
        "texts[:2]"
      ]
    },
    {
      "cell_type": "code",
      "execution_count": 14,
      "metadata": {},
      "outputs": [],
      "source": [
        "def get_stopwords(additional_stopwords=[]):\n",
        "    \"\"\"Return a list of english stopwords, that can be augmented by using a stopwords file or a list of stopwords\n",
        "\n",
        "    Args:\n",
        "        filepath (str, optional): path to a text file where each line is a stopword\n",
        "        additional_stopwords (list of str, optional): list of string representing stopwords\n",
        "    Returns:\n",
        "        List of strings representing stopwords\n",
        "    \"\"\"\n",
        "    # Loading standard english stop words\n",
        "    with open('stopwords.txt', 'r') as f:\n",
        "        stop_w = f.readlines()\n",
        "    stopwords = [s.rstrip() for s in stop_w]\n",
        "\n",
        "    # Adding stop words from sklearn\n",
        "    stopwords = list(text.ENGLISH_STOP_WORDS.union(stopwords))\n",
        "\n",
        "    # Adding words from a list if specified\n",
        "    if additional_stopwords:\n",
        "        stopwords += additional_stopwords\n",
        "\n",
        "    # Removing duplicates\n",
        "    stopwords = list(set(stopwords))\n",
        "\n",
        "    # Removing some \\n that were included in the native stopwords of sklearn ... WHY?\n",
        "    stopwords = [s.replace(\"\\n\", \"\") for s in stopwords]\n",
        "\n",
        "    stopwords = sorted(stopwords, key=str.lower)\n",
        "\n",
        "    return stopwords\n"
      ]
    },
    {
      "cell_type": "code",
      "execution_count": 15,
      "metadata": {},
      "outputs": [
        {
          "name": "stderr",
          "output_type": "stream",
          "text": [
            "  0%|          | 0/200853 [00:00<?, ?it/s]"
          ]
        },
        {
          "name": "stderr",
          "output_type": "stream",
          "text": [
            "100%|██████████| 200853/200853 [00:12<00:00, 16401.57it/s]\n"
          ]
        }
      ],
      "source": [
        "stopwords = get_stopwords(additional_stopwords=[\"trump\"])\n",
        "\n",
        "texts = [[word for word in txt if word not in stopwords] for txt in tqdm(texts)]"
      ]
    },
    {
      "cell_type": "code",
      "execution_count": 16,
      "metadata": {},
      "outputs": [
        {
          "data": {
            "text/plain": [
              "[['mass', 'shootings', 'texas', 'week', 'tv'],\n",
              " ['smith',\n",
              "  'joins',\n",
              "  'diplo',\n",
              "  'nicky',\n",
              "  'jam',\n",
              "  'world',\n",
              "  'cup',\n",
              "  'official',\n",
              "  'song'],\n",
              " ['hugh', 'grant', 'marries', 'time', 'age'],\n",
              " ['jim',\n",
              "  'carrey',\n",
              "  'blasts',\n",
              "  'castrato',\n",
              "  'adam',\n",
              "  'schiff',\n",
              "  'democrats',\n",
              "  'artwork'],\n",
              " ['julianna', 'margulies', 'donald', 'poop', 'bags', 'pick', 'dog']]"
            ]
          },
          "execution_count": 16,
          "metadata": {},
          "output_type": "execute_result"
        }
      ],
      "source": [
        "texts[:5]"
      ]
    },
    {
      "cell_type": "code",
      "execution_count": 17,
      "metadata": {},
      "outputs": [],
      "source": [
        "def create_bigrams(texts, bigram_count=15, threshold=10, convert_sent_to_words=False, as_str=True):\n",
        "    \"\"\"Identify bigrams in texts and return the texts with bigrams integrated\"\"\"\n",
        "    if convert_sent_to_words:\n",
        "        texts = list(sent_to_words(texts))\n",
        "\n",
        "    bigram_model = Phraser(Phrases(texts, min_count=bigram_count, threshold=threshold))\n",
        "\n",
        "    if as_str:\n",
        "        return [\" \".join(bigram_model[t]) for t in texts]\n",
        "\n",
        "    else:\n",
        "        return [bigram_model[t] for t in texts]"
      ]
    },
    {
      "cell_type": "code",
      "execution_count": 18,
      "metadata": {},
      "outputs": [
        {
          "data": {
            "text/plain": [
              "['mass_shootings texas week tv',\n",
              " 'smith joins diplo nicky jam world_cup official song',\n",
              " 'hugh grant marries time age',\n",
              " 'jim_carrey blasts castrato adam schiff democrats artwork',\n",
              " 'julianna margulies donald poop bags pick dog']"
            ]
          },
          "execution_count": 18,
          "metadata": {},
          "output_type": "execute_result"
        }
      ],
      "source": [
        "texts = create_bigrams(texts)\n",
        "texts[:5]"
      ]
    },
    {
      "cell_type": "code",
      "execution_count": 19,
      "metadata": {},
      "outputs": [
        {
          "name": "stdout",
          "output_type": "stream",
          "text": [
            "Collecting en-core-web-md==3.2.0\n",
            "  Downloading https://github.com/explosion/spacy-models/releases/download/en_core_web_md-3.2.0/en_core_web_md-3.2.0-py3-none-any.whl (45.7 MB)\n",
            "     ---------------------------------------- 0.0/45.7 MB ? eta -:--:--\n",
            "     -- ------------------------------------- 3.4/45.7 MB 71.5 MB/s eta 0:00:01\n",
            "     ------- -------------------------------- 8.6/45.7 MB 91.9 MB/s eta 0:00:01\n",
            "     ----------- -------------------------- 14.0/45.7 MB 131.2 MB/s eta 0:00:01\n",
            "     ---------------- --------------------- 19.4/45.7 MB 108.8 MB/s eta 0:00:01\n",
            "     -------------------- ----------------- 24.9/45.7 MB 108.8 MB/s eta 0:00:01\n",
            "     ------------------------ ------------- 29.8/45.7 MB 108.8 MB/s eta 0:00:01\n",
            "     ----------------------------- -------- 34.9/45.7 MB 108.8 MB/s eta 0:00:01\n",
            "     --------------------------------- ---- 40.7/45.7 MB 108.8 MB/s eta 0:00:01\n",
            "     -------------------------------------  45.6/45.7 MB 108.8 MB/s eta 0:00:01\n",
            "     -------------------------------------  45.7/45.7 MB 108.8 MB/s eta 0:00:01\n",
            "     -------------------------------------  45.7/45.7 MB 108.8 MB/s eta 0:00:01\n",
            "     -------------------------------------  45.7/45.7 MB 108.8 MB/s eta 0:00:01\n",
            "     --------------------------------------- 45.7/45.7 MB 38.6 MB/s eta 0:00:00\n",
            "Requirement already satisfied: spacy<3.3.0,>=3.2.0 in c:\\users\\david-desktop\\miniconda3\\envs\\nlp\\lib\\site-packages (from en-core-web-md==3.2.0) (3.2.4)\n",
            "Requirement already satisfied: tqdm<5.0.0,>=4.38.0 in c:\\users\\david-desktop\\miniconda3\\envs\\nlp\\lib\\site-packages (from spacy<3.3.0,>=3.2.0->en-core-web-md==3.2.0) (4.65.0)\n",
            "Requirement already satisfied: jinja2 in c:\\users\\david-desktop\\miniconda3\\envs\\nlp\\lib\\site-packages (from spacy<3.3.0,>=3.2.0->en-core-web-md==3.2.0) (2.11.3)\n",
            "Requirement already satisfied: packaging>=20.0 in c:\\users\\david-desktop\\miniconda3\\envs\\nlp\\lib\\site-packages (from spacy<3.3.0,>=3.2.0->en-core-web-md==3.2.0) (23.0)\n",
            "Requirement already satisfied: blis<0.8.0,>=0.4.0 in c:\\users\\david-desktop\\miniconda3\\envs\\nlp\\lib\\site-packages (from spacy<3.3.0,>=3.2.0->en-core-web-md==3.2.0) (0.7.8)\n",
            "Requirement already satisfied: cymem<2.1.0,>=2.0.2 in c:\\users\\david-desktop\\miniconda3\\envs\\nlp\\lib\\site-packages (from spacy<3.3.0,>=3.2.0->en-core-web-md==3.2.0) (2.0.6)\n",
            "Requirement already satisfied: murmurhash<1.1.0,>=0.28.0 in c:\\users\\david-desktop\\miniconda3\\envs\\nlp\\lib\\site-packages (from spacy<3.3.0,>=3.2.0->en-core-web-md==3.2.0) (1.0.8)\n",
            "Requirement already satisfied: requests<3.0.0,>=2.13.0 in c:\\users\\david-desktop\\miniconda3\\envs\\nlp\\lib\\site-packages (from spacy<3.3.0,>=3.2.0->en-core-web-md==3.2.0) (2.28.1)\n",
            "Requirement already satisfied: pydantic!=1.8,!=1.8.1,<1.9.0,>=1.7.4 in c:\\users\\david-desktop\\miniconda3\\envs\\nlp\\lib\\site-packages (from spacy<3.3.0,>=3.2.0->en-core-web-md==3.2.0) (1.8.2)\n",
            "Requirement already satisfied: spacy-loggers<2.0.0,>=1.0.0 in c:\\users\\david-desktop\\miniconda3\\envs\\nlp\\lib\\site-packages (from spacy<3.3.0,>=3.2.0->en-core-web-md==3.2.0) (1.0.5)\n",
            "Requirement already satisfied: click<8.1.0 in c:\\users\\david-desktop\\miniconda3\\envs\\nlp\\lib\\site-packages (from spacy<3.3.0,>=3.2.0->en-core-web-md==3.2.0) (7.1.2)\n",
            "Requirement already satisfied: wasabi<1.1.0,>=0.8.1 in c:\\users\\david-desktop\\miniconda3\\envs\\nlp\\lib\\site-packages (from spacy<3.3.0,>=3.2.0->en-core-web-md==3.2.0) (0.10.1)\n",
            "Requirement already satisfied: numpy>=1.15.0 in c:\\users\\david-desktop\\miniconda3\\envs\\nlp\\lib\\site-packages (from spacy<3.3.0,>=3.2.0->en-core-web-md==3.2.0) (1.26.0)\n",
            "Requirement already satisfied: spacy-legacy<3.1.0,>=3.0.8 in c:\\users\\david-desktop\\miniconda3\\envs\\nlp\\lib\\site-packages (from spacy<3.3.0,>=3.2.0->en-core-web-md==3.2.0) (3.0.12)\n",
            "Requirement already satisfied: thinc<8.1.0,>=8.0.12 in c:\\users\\david-desktop\\miniconda3\\envs\\nlp\\lib\\site-packages (from spacy<3.3.0,>=3.2.0->en-core-web-md==3.2.0) (8.0.17)\n",
            "Requirement already satisfied: langcodes<4.0.0,>=3.2.0 in c:\\users\\david-desktop\\miniconda3\\envs\\nlp\\lib\\site-packages (from spacy<3.3.0,>=3.2.0->en-core-web-md==3.2.0) (3.3.0)\n",
            "Requirement already satisfied: srsly<3.0.0,>=2.4.1 in c:\\users\\david-desktop\\miniconda3\\envs\\nlp\\lib\\site-packages (from spacy<3.3.0,>=3.2.0->en-core-web-md==3.2.0) (2.4.4)\n",
            "Requirement already satisfied: pathy>=0.3.5 in c:\\users\\david-desktop\\miniconda3\\envs\\nlp\\lib\\site-packages (from spacy<3.3.0,>=3.2.0->en-core-web-md==3.2.0) (0.10.2)\n",
            "Requirement already satisfied: setuptools in c:\\users\\david-desktop\\miniconda3\\envs\\nlp\\lib\\site-packages (from spacy<3.3.0,>=3.2.0->en-core-web-md==3.2.0) (65.6.3)\n",
            "Requirement already satisfied: catalogue<2.1.0,>=2.0.6 in c:\\users\\david-desktop\\miniconda3\\envs\\nlp\\lib\\site-packages (from spacy<3.3.0,>=3.2.0->en-core-web-md==3.2.0) (2.0.10)\n",
            "Requirement already satisfied: typer<0.5.0,>=0.3.0 in c:\\users\\david-desktop\\miniconda3\\envs\\nlp\\lib\\site-packages (from spacy<3.3.0,>=3.2.0->en-core-web-md==3.2.0) (0.4.2)\n",
            "Requirement already satisfied: preshed<3.1.0,>=3.0.2 in c:\\users\\david-desktop\\miniconda3\\envs\\nlp\\lib\\site-packages (from spacy<3.3.0,>=3.2.0->en-core-web-md==3.2.0) (3.0.7)\n",
            "Requirement already satisfied: smart-open<7.0.0,>=5.2.1 in c:\\users\\david-desktop\\miniconda3\\envs\\nlp\\lib\\site-packages (from pathy>=0.3.5->spacy<3.3.0,>=3.2.0->en-core-web-md==3.2.0) (5.2.1)\n",
            "Requirement already satisfied: typing-extensions>=3.7.4.3 in c:\\users\\david-desktop\\miniconda3\\envs\\nlp\\lib\\site-packages (from pydantic!=1.8,!=1.8.1,<1.9.0,>=1.7.4->spacy<3.3.0,>=3.2.0->en-core-web-md==3.2.0) (4.8.0)\n",
            "Requirement already satisfied: charset-normalizer<3,>=2 in c:\\users\\david-desktop\\miniconda3\\envs\\nlp\\lib\\site-packages (from requests<3.0.0,>=2.13.0->spacy<3.3.0,>=3.2.0->en-core-web-md==3.2.0) (2.0.4)\n",
            "Requirement already satisfied: certifi>=2017.4.17 in c:\\users\\david-desktop\\miniconda3\\envs\\nlp\\lib\\site-packages (from requests<3.0.0,>=2.13.0->spacy<3.3.0,>=3.2.0->en-core-web-md==3.2.0) (2023.11.17)\n",
            "Requirement already satisfied: urllib3<1.27,>=1.21.1 in c:\\users\\david-desktop\\miniconda3\\envs\\nlp\\lib\\site-packages (from requests<3.0.0,>=2.13.0->spacy<3.3.0,>=3.2.0->en-core-web-md==3.2.0) (1.26.15)\n",
            "Requirement already satisfied: idna<4,>=2.5 in c:\\users\\david-desktop\\miniconda3\\envs\\nlp\\lib\\site-packages (from requests<3.0.0,>=2.13.0->spacy<3.3.0,>=3.2.0->en-core-web-md==3.2.0) (3.4)\n",
            "Requirement already satisfied: colorama in c:\\users\\david-desktop\\miniconda3\\envs\\nlp\\lib\\site-packages (from tqdm<5.0.0,>=4.38.0->spacy<3.3.0,>=3.2.0->en-core-web-md==3.2.0) (0.4.6)\n",
            "Requirement already satisfied: MarkupSafe>=0.23 in c:\\users\\david-desktop\\miniconda3\\envs\\nlp\\lib\\site-packages (from jinja2->spacy<3.3.0,>=3.2.0->en-core-web-md==3.2.0) (1.1.1)\n",
            "✔ Download and installation successful\n",
            "You can now load the package via spacy.load('en_core_web_md')\n"
          ]
        },
        {
          "name": "stderr",
          "output_type": "stream",
          "text": [
            "DEPRECATION: https://github.com/explosion/spacy-models/releases/download/en_core_web_md-3.2.0/en_core_web_md-3.2.0-py3-none-any.whl#egg=en_core_web_md==3.2.0 contains an egg fragment with a non-PEP 508 name pip 25.0 will enforce this behaviour change. A possible replacement is to use the req @ url syntax, and remove the egg fragment. Discussion can be found at https://github.com/pypa/pip/issues/11617\n"
          ]
        }
      ],
      "source": [
        "! python -m spacy download en_core_web_md"
      ]
    },
    {
      "cell_type": "code",
      "execution_count": 20,
      "metadata": {},
      "outputs": [],
      "source": [
        "def lemmatize_texts(texts,\n",
        "                    allowed_postags=['NOUN', 'ADJ', 'VERB', 'ADV'],\n",
        "                    forbidden_postags=[],\n",
        "                    as_sentence=False,\n",
        "                    get_postags=False,\n",
        "                    spacy_model=None):\n",
        "    POS_map = {\n",
        "        'NOUN': 'noun',\n",
        "        'ADJ': 'adjective',\n",
        "        'VERB': 'verb',\n",
        "        'ADV': 'adverb'\n",
        "    }\n",
        "    \"\"\"Lemmatize a list of texts.\n",
        "\n",
        "            Please refer to https://spacy.io/api/annotation for details on the allowed\n",
        "        POS tags.\n",
        "        @params:\n",
        "            - texts_in: a list of texts, where each texts is a string\n",
        "            - allowed_postags: a list of part of speech tags, in the spacy fashion\n",
        "            - as_sentence: a boolean indicating whether the output should be a list of sentences instead of a list of word lists\n",
        "        @return:\n",
        "            - A list of texts where each entry is a list of words list or a list of sentences\n",
        "        \"\"\"\n",
        "    texts_out = []\n",
        "\n",
        "    if allowed_postags and forbidden_postags:\n",
        "        raise ValueError(\"Can't specify both allowed and forbidden postags\")\n",
        "\n",
        "    if forbidden_postags:\n",
        "        allowed_postags = list(set(POS_map.keys()).difference(set(forbidden_postags)))\n",
        "\n",
        "    if not spacy_model:\n",
        "        print(\"Loading spacy model\")\n",
        "        spacy_model = spacy.load('en_core_web_md')\n",
        "\n",
        "    print(\"Beginning lemmatization process\")\n",
        "    total_steps = len(texts)\n",
        "\n",
        "    docs = spacy_model.pipe(texts)\n",
        "\n",
        "    for i, doc in tqdm(enumerate(docs), total=total_steps):\n",
        "        if get_postags:\n",
        "            texts_out.append([\"_\".join([token.lemma_, token.pos_]) for token in doc if token.pos_ in allowed_postags])\n",
        "        else:\n",
        "            texts_out.append(\n",
        "                [token.lemma_ for token in   doc if token.pos_ in allowed_postags])\n",
        "\n",
        "    if as_sentence:\n",
        "        texts_out = [\" \".join(text) for text in texts_out]\n",
        "\n",
        "    return texts_out\n"
      ]
    },
    {
      "cell_type": "code",
      "execution_count": 21,
      "metadata": {},
      "outputs": [
        {
          "name": "stdout",
          "output_type": "stream",
          "text": [
            "Loading spacy model\n",
            "Beginning lemmatization process\n"
          ]
        },
        {
          "name": "stderr",
          "output_type": "stream",
          "text": [
            "100%|██████████| 200853/200853 [02:12<00:00, 1513.45it/s]\n"
          ]
        }
      ],
      "source": [
        "l_texts = lemmatize_texts(texts,\n",
        "                allowed_postags=['NOUN', 'ADJ', 'VERB', 'ADV', 'X', 'PROPN'],\n",
        "                get_postags=False)"
      ]
    },
    {
      "cell_type": "code",
      "execution_count": 22,
      "metadata": {},
      "outputs": [
        {
          "data": {
            "text/html": [
              "<div>\n",
              "<style scoped>\n",
              "    .dataframe tbody tr th:only-of-type {\n",
              "        vertical-align: middle;\n",
              "    }\n",
              "\n",
              "    .dataframe tbody tr th {\n",
              "        vertical-align: top;\n",
              "    }\n",
              "\n",
              "    .dataframe thead th {\n",
              "        text-align: right;\n",
              "    }\n",
              "</style>\n",
              "<table border=\"1\" class=\"dataframe\">\n",
              "  <thead>\n",
              "    <tr style=\"text-align: right;\">\n",
              "      <th></th>\n",
              "      <th>Word</th>\n",
              "      <th>Count</th>\n",
              "    </tr>\n",
              "  </thead>\n",
              "  <tbody>\n",
              "    <tr>\n",
              "      <th>0</th>\n",
              "      <td>photo</td>\n",
              "      <td>11808</td>\n",
              "    </tr>\n",
              "    <tr>\n",
              "      <th>1</th>\n",
              "      <td>video</td>\n",
              "      <td>5720</td>\n",
              "    </tr>\n",
              "    <tr>\n",
              "      <th>2</th>\n",
              "      <td>make</td>\n",
              "      <td>4892</td>\n",
              "    </tr>\n",
              "    <tr>\n",
              "      <th>3</th>\n",
              "      <td>woman</td>\n",
              "      <td>4546</td>\n",
              "    </tr>\n",
              "    <tr>\n",
              "      <th>4</th>\n",
              "      <td>donald</td>\n",
              "      <td>4474</td>\n",
              "    </tr>\n",
              "  </tbody>\n",
              "</table>\n",
              "</div>"
            ],
            "text/plain": [
              "     Word  Count\n",
              "0   photo  11808\n",
              "1   video   5720\n",
              "2    make   4892\n",
              "3   woman   4546\n",
              "4  donald   4474"
            ]
          },
          "execution_count": 22,
          "metadata": {},
          "output_type": "execute_result"
        }
      ],
      "source": [
        "occurences = compute_word_occurences(l_texts)\n",
        "occurences.head()"
      ]
    },
    {
      "cell_type": "code",
      "execution_count": 23,
      "metadata": {},
      "outputs": [
        {
          "data": {
            "text/plain": [
              "41"
            ]
          },
          "execution_count": 23,
          "metadata": {},
          "output_type": "execute_result"
        }
      ],
      "source": [
        "dataset['category'].nunique()"
      ]
    },
    {
      "cell_type": "markdown",
      "metadata": {},
      "source": [
        "\n",
        "On a 41 catégorie différentes dans notre dataset.\n"
      ]
    },
    {
      "cell_type": "code",
      "execution_count": 24,
      "metadata": {},
      "outputs": [
        {
          "name": "stderr",
          "output_type": "stream",
          "text": [
            "c:\\Users\\David-Desktop\\miniconda3\\envs\\NLP\\lib\\site-packages\\pandas\\core\\algorithms.py:516: DeprecationWarning: np.find_common_type is deprecated.  Please use `np.result_type` or `np.promote_types`.\n",
            "See https://numpy.org/devdocs/release/1.25.0-notes.html and the docs for more information.  (Deprecated NumPy 1.25)\n",
            "  common = np.find_common_type([values.dtype, comps.dtype], [])\n"
          ]
        },
        {
          "data": {
            "image/png": "[encoded data removed]",
            "text/plain": [
              "<Figure size 1800x700 with 1 Axes>"
            ]
          },
          "metadata": {},
          "output_type": "display_data"
        }
      ],
      "source": [
        "sns.set(style = 'whitegrid')\n",
        "figu = sns.displot(x = dataset['short_description'].str.split(' ').apply(len), hue = dataset['category'], kind = 'kde')\n",
        "figu.figure.set_size_inches(18,7)\n",
        "figu.set(title = f'Distribution of length of articles coloured by categories', xlabel = 'Length of Article', xticks = range(0,250,25))\n",
        "plt.show()"
      ]
    },
    {
      "cell_type": "code",
      "execution_count": 25,
      "metadata": {},
      "outputs": [
        {
          "name": "stderr",
          "output_type": "stream",
          "text": [
            "[nltk_data] Downloading package punkt to C:\\Users\\David-\n",
            "[nltk_data]     Desktop\\AppData\\Roaming\\nltk_data...\n",
            "[nltk_data]   Package punkt is already up-to-date!\n",
            "[nltk_data] Downloading package averaged_perceptron_tagger to\n",
            "[nltk_data]     C:\\Users\\David-Desktop\\AppData\\Roaming\\nltk_data...\n",
            "[nltk_data]   Package averaged_perceptron_tagger is already up-to-\n",
            "[nltk_data]       date!\n"
          ]
        },
        {
          "data": {
            "text/plain": [
              "True"
            ]
          },
          "execution_count": 25,
          "metadata": {},
          "output_type": "execute_result"
        }
      ],
      "source": [
        "# Download the NLTK resources (run this once)\n",
        "nltk.download('punkt')\n",
        "nltk.download('averaged_perceptron_tagger')"
      ]
    },
    {
      "cell_type": "code",
      "execution_count": 26,
      "metadata": {},
      "outputs": [
        {
          "name": "stdout",
          "output_type": "stream",
          "text": [
            "Top 10 Most Common Nouns:\n",
            "A         17458\n",
            "Trump     12533\n",
            "PHOTOS     9039\n",
            "New        8462\n",
            "How        6486\n",
            "Donald     4586\n",
            "’          4515\n",
            "Day        4391\n",
            "Is         4210\n",
            "VIDEO      4142\n",
            "dtype: int64\n",
            "\n",
            "Top 10 Most Common Verbs:\n",
            "Is      13415\n",
            "'s       5876\n",
            "Do       4037\n",
            "Are      4010\n",
            "Be       3730\n",
            "Have     2731\n",
            "s        1842\n",
            "Make     1740\n",
            "Get      1693\n",
            "Need     1564\n",
            "dtype: int64\n",
            "\n",
            "Top 10 Most Common Adjectives:\n",
            "More        2930\n",
            "Best        1125\n",
            "Other       1092\n",
            "Most        1026\n",
            "Last         785\n",
            "American     725\n",
            "Good         695\n",
            "Own          531\n",
            "Much         502\n",
            "Next         462\n",
            "dtype: int64\n"
          ]
        }
      ],
      "source": [
        "text = ' '.join(dataset['headline'])  # Combine all headlines into one string\n",
        "\n",
        "# Tokenize the text and get part-of-speech tags\n",
        "tokens = word_tokenize(text)\n",
        "pos_tags = pos_tag(tokens)\n",
        "\n",
        "# Filter words based on their part-of-speech tags\n",
        "nouns = [word for word, pos in pos_tags if pos.startswith('N')]\n",
        "verbs = [word for word, pos in pos_tags if pos.startswith('V')]\n",
        "adjectives = [word for word, pos in pos_tags if pos.startswith('J')]\n",
        "\n",
        "# Display the most common words for each category\n",
        "common_nouns = pd.Series(nouns).value_counts().head(10)\n",
        "common_verbs = pd.Series(verbs).value_counts().head(10)\n",
        "common_adjectives = pd.Series(adjectives).value_counts().head(10)\n",
        "\n",
        "print(\"Top 10 Most Common Nouns:\")\n",
        "print(common_nouns)\n",
        "\n",
        "print(\"\\nTop 10 Most Common Verbs:\")\n",
        "print(common_verbs)\n",
        "\n",
        "print(\"\\nTop 10 Most Common Adjectives:\")\n",
        "print(common_adjectives)\n"
      ]
    },
    {
      "cell_type": "markdown",
      "metadata": {},
      "source": [
        "## Chargement des données "
      ]
    },
    {
      "cell_type": "code",
      "execution_count": 27,
      "metadata": {},
      "outputs": [],
      "source": [
        "def force_format(texts):\n",
        "    return [str(t) for t in texts]\n",
        "\n",
        "def compute_word_occurences(texts):\n",
        "    words = itertools.chain.from_iterable(texts)\n",
        "    word_count = pd.Series(words).value_counts()\n",
        "    word_count = pd.DataFrame({\"Word\": word_count.index, \"Count\": word_count.values})\n",
        "    return word_count\n",
        "\n",
        "def get_l_texts(text_file): #text_file is a .txt file from preprocessing to avoid doing it again\n",
        "    l_texts=[]\n",
        "    with open(text_file, \"r\") as f:\n",
        "        line = f.readlines()\n",
        "        list_line = [l.strip() for l in line]\n",
        "        for l in list_line:\n",
        "            l_texts.append(ast.literal_eval(l))\n",
        "    return l_texts"
      ]
    },
    {
      "cell_type": "code",
      "execution_count": 28,
      "metadata": {},
      "outputs": [
        {
          "name": "stdout",
          "output_type": "stream",
          "text": [
            "[['mass_shooting', 'texas', 'week', 'tv'], ['smith', 'join', 'diplo', 'nicky', 'jam', 'world_cup', 'official', 'song'], ['hugh', 'grant', 'marries', 'time', 'age'], ['jim_carrey', 'blasts', 'castrato', 'adam', 'schiff', 'democrats', 'artwork'], ['julianna', 'margulie', 'donald', 'poop', 'bag', 'pick', 'dog'], ['morgan_freeman', 'devastate', 'sexual_harassment', 'claim', 'undermine', 'legacy'], ['donald', 'lovin', 'mcdonald', 'jingle', 'tonight', 'bit'], ['watch', 'amazon', 'prime', 'week'], ['mike', 'myers', 'reveal', 'fourth', 'austin', 'power', 'film'], ['watch', 'hulu', 'week']] \n",
            " ['There Were 2 Mass Shootings In Texas Last Week, But Only 1 On TV', \"Will Smith Joins Diplo And Nicky Jam For The 2018 World Cup's Official Song\", 'Hugh Grant Marries For The First Time At Age 57', \"Jim Carrey Blasts 'Castrato' Adam Schiff And Democrats In New Artwork\", 'Julianna Margulies Uses Donald Trump Poop Bags To Pick Up After Her Dog', \"Morgan Freeman 'Devastated' That Sexual Harassment Claims Could Undermine Legacy\", \"Donald Trump Is Lovin' New McDonald's Jingle In 'Tonight Show' Bit\", 'What To Watch On Amazon Prime That’s New This Week', \"Mike Myers Reveals He'd 'Like To' Do A Fourth Austin Powers Film\", 'What To Watch On Hulu That’s New This Week'] \n",
            " 0    There Were 2 Mass Shootings In Texas Last Week...\n",
            "1    Will Smith Joins Diplo And Nicky Jam For The 2...\n",
            "2      Hugh Grant Marries For The First Time At Age 57\n",
            "3    Jim Carrey Blasts 'Castrato' Adam Schiff And D...\n",
            "4    Julianna Margulies Uses Donald Trump Poop Bags...\n",
            "5    Morgan Freeman 'Devastated' That Sexual Harass...\n",
            "6    Donald Trump Is Lovin' New McDonald's Jingle I...\n",
            "7    What To Watch On Amazon Prime That’s New This ...\n",
            "8    Mike Myers Reveals He'd 'Like To' Do A Fourth ...\n",
            "9           What To Watch On Hulu That’s New This Week\n",
            "Name: headline, dtype: object\n"
          ]
        }
      ],
      "source": [
        "dataset = pd.read_json(\"News_Category_Dataset_v2.json\", lines=True, dtype={\"headline\": str})\n",
        "texts = force_format(dataset[\"headline\"])\n",
        "l_texts = get_l_texts(\"l_texts.txt\")\n",
        "print(l_texts[:10],\"\\n\",texts[:10],\"\\n\",dataset[\"headline\"][:10])"
      ]
    },
    {
      "cell_type": "code",
      "execution_count": 29,
      "metadata": {},
      "outputs": [
        {
          "name": "stdout",
          "output_type": "stream",
          "text": [
            "Number of unique tokens: 47649\n",
            "Number of documents: 200853\n"
          ]
        }
      ],
      "source": [
        "# Create a dictionary\n",
        "dictionary = corpora.Dictionary(l_texts)\n",
        "# Create a corpus\n",
        "corpus = [dictionary.doc2bow(text) for text in l_texts]\n",
        "\n",
        "print(\"Number of unique tokens: {}\".format(len(dictionary)))\n",
        "print(\"Number of documents: {}\".format(len(corpus)))"
      ]
    },
    {
      "cell_type": "markdown",
      "metadata": {},
      "source": [
        "## Pour les modèles disponibles dans la librairie gensim"
      ]
    },
    {
      "cell_type": "markdown",
      "metadata": {},
      "source": [
        "### LDA"
      ]
    },
    {
      "cell_type": "code",
      "execution_count": 30,
      "metadata": {},
      "outputs": [
        {
          "name": "stdout",
          "output_type": "stream",
          "text": [
            "Number of topics:  50  Coherence Score:  -0.2785062707457873 0.503863491547458\n",
            "Number of topics:  51  Coherence Score:  -0.28803236665018495 0.5147887123865255\n",
            "Number of topics:  52  Coherence Score:  -0.29012310943342456 0.5176722759609533\n",
            "Number of topics:  53  Coherence Score:  -0.28501382613569914 0.5110443122372866\n",
            "Number of topics:  54  Coherence Score:  -0.29698072430064965 0.5303747285806883\n",
            "Number of topics:  55  Coherence Score:  -0.2986311220454729 0.5331674003119212\n",
            "Number of topics:  56  Coherence Score:  -0.288157308206744 0.5159128465587652\n",
            "Number of topics:  57  Coherence Score:  -0.2958385835704725 0.5268838726096431\n",
            "Number of topics:  58  Coherence Score:  -0.29372789182710995 0.5225966049719113\n",
            "Number of topics:  59  Coherence Score:  -0.29728929856779823 0.529661916874629\n",
            "Number of topics:  60  Coherence Score:  -0.29940872948717 0.5305782012482845\n",
            "Number of topics:  61  Coherence Score:  -0.29957423001140526 0.5306368585740021\n",
            "Number of topics:  62  Coherence Score:  -0.30344753242269723 0.5353096091463884\n",
            "Number of topics:  63  Coherence Score:  -0.296187453972552 0.5261837560076397\n",
            "Number of topics:  64  Coherence Score:  -0.3015993518166151 0.5329028300516989\n"
          ]
        }
      ],
      "source": [
        "result={\"num_topics\":[], \"coherence_score_cv\":[],\"coherence_score_npmi\":[]}\n",
        "\n",
        "for n in range(50, 65):\n",
        "    lda_model = LdaModel(corpus, num_topics=n, id2word=dictionary)\n",
        "    coherence_model_cv= CoherenceModel(model=lda_model, texts=l_texts, dictionary=dictionary, coherence='c_v')\n",
        "    coherence_score_cv = coherence_model_cv.get_coherence()\n",
        "    coherence_model_npmi= CoherenceModel(model=lda_model, texts=l_texts, dictionary=dictionary, coherence='c_npmi')\n",
        "    coherence_score_npmi = coherence_model_npmi.get_coherence()\n",
        "    print(\"Number of topics: \", n, \" Coherence Score: \", coherence_score_npmi,coherence_score_cv)\n",
        "    result[\"num_topics\"].append(n)\n",
        "    result[\"coherence_score_cv\"].append(coherence_score_cv)\n",
        "    result[\"coherence_score_npmi\"].append(coherence_score_npmi)"
      ]
    },
    {
      "cell_type": "code",
      "execution_count": 32,
      "metadata": {},
      "outputs": [
        {
          "name": "stdout",
          "output_type": "stream",
          "text": [
            "Optimal number of topics:  62  Coherence Score:  -0.2947246319211113 0.5236610565466872\n"
          ]
        }
      ],
      "source": [
        "optimal_n=result[\"num_topics\"][np.argmax(result[\"coherence_score_cv\"])]\n",
        "lda_model = LdaModel(corpus, num_topics=optimal_n, id2word=dictionary)\n",
        "coherence_model_cv= CoherenceModel(model=lda_model, texts=l_texts, dictionary=dictionary, coherence='c_v')\n",
        "coherence_score_cv = coherence_model_cv.get_coherence()\n",
        "coherence_model_npmi= CoherenceModel(model=lda_model, texts=l_texts, dictionary=dictionary, coherence='c_npmi')\n",
        "coherence_score_npmi = coherence_model_npmi.get_coherence()\n",
        "print(\"Optimal number of topics: \", optimal_n, \" Coherence Score: \", coherence_score_npmi,coherence_score_cv)"
      ]
    },
    {
      "cell_type": "code",
      "execution_count": 33,
      "metadata": {},
      "outputs": [
        {
          "name": "stderr",
          "output_type": "stream",
          "text": [
            "c:\\Users\\David-Desktop\\miniconda3\\envs\\NLP\\lib\\site-packages\\pandas\\core\\dtypes\\cast.py:1841: DeprecationWarning: np.find_common_type is deprecated.  Please use `np.result_type` or `np.promote_types`.\n",
            "See https://numpy.org/devdocs/release/1.25.0-notes.html and the docs for more information.  (Deprecated NumPy 1.25)\n",
            "  return np.find_common_type(types, [])\n"
          ]
        },
        {
          "data": {
            "text/html": [
              "\n",
              "<link rel=\"stylesheet\" type=\"text/css\" href=\"https://cdn.jsdelivr.net/gh/bmabey/pyLDAvis@3.4.0/pyLDAvis/js/ldavis.v1.0.0.css\">\n",
              "\n",
              "\n",
              "<div id=\"ldavis_el1898018298349068001376081733\" style=\"background-color:white;\"></div>\n",
              "<script type=\"text/javascript\">\n",
              "\n",
              "var ldavis_el1898018298349068001376081733_data = {\"mdsDat\": {\"x\": [-0.3029200837041412, -0.10891994709567879, -0.18491973948229953, -0.11193037891624363, -0.06352446262088488, -0.04884024091858304, -0.05386360903700698, -0.09495470974452072, -0.07711231072113228, -0.021485234061121298, -0.05101181309532587, -0.055864399322831416, -0.0284864608033109, -0.038416465692007136, -0.0744218574122608, 0.008292715196782574, -0.02699272879075972, -0.042083540433192776, -0.0660226796261301, -0.008706991957019395, -0.0038058289289296327, 0.028913190653073528, 0.015784160361247065, 0.006791866359135772, 0.008220424085648987, 0.013610984738835968, 0.045433399182608615, -0.04084888105756795, -0.04672338459623566, 0.03533765719314992, 0.060045863671867754, 0.04594894243633039, 0.0551167073056258, 0.04471100359960769, -0.019227163255516145, 0.041609254547451395, 0.05786438005939198, 0.005354086559258536, 0.030969492391453964, 0.029337901717313486, 0.040637683189835266, 0.01908116713890152, 0.07786441223368716, 0.03531823251679471, 0.010331075791633762, 0.018748734107058355, 0.047924036620788486, 0.0623804812210027, 0.06804548866077566, 0.008826294199068541, 0.039092916054749294, -0.01776307019316538, 0.04175041258681295, 0.05485108814578867, 0.0700037843322405, 0.06308635171437307, 0.032122020221239236, 0.06388526293345206, 0.054511891517248987, 0.08081536436679751, 0.07344369887545125, 0.09278355497938418], \"y\": [0.3585411048792312, -0.06481408265112026, -0.27199833060960155, -0.06831811780133491, -0.027567315735401464, -0.01927958095684627, -0.02186690155158621, -0.050765042549563134, -0.03648305074769268, -0.007046095196226027, -0.02023475226233595, -0.022988779800573816, -0.009821930903527832, -0.014245574590696407, -0.034554019934849314, 0.002994033917941803, -0.009264116701740262, -0.015842154157513656, -0.02889018667620881, -0.0023684186131942815, -0.000739812752806241, 0.00848113256646502, 0.0051034262700767755, 0.002582794202534187, 0.002995338020527747, 0.004484429498895671, 0.012151852034768169, -0.015149149372494458, -0.018159130904760717, 0.00995092834249419, 0.015038109183587767, 0.0122948316000433, 0.014099466888255353, 0.012020020036188492, -0.0061549286113251195, 0.011382447777855869, 0.014620434099888384, 0.002122617355664913, 0.008985378522608783, 0.008538499022244211, 0.011193728103658306, 0.00601446542157936, 0.018004622366517016, 0.010002295772546816, 0.0036203133398796422, 0.0059241498246362665, 0.012652361583260299, 0.015438327878064772, 0.016420473116325877, 0.003142093873768422, 0.010852801742095625, -0.005631617114795679, 0.011356061804899818, 0.014111501407391987, 0.01676178886776728, 0.015569287361402343, 0.009222270056618695, 0.015737062177034952, 0.013978470014487342, 0.018439194917155573, 0.01728502383429298, 0.020069952513537728], \"topics\": [1, 2, 3, 4, 5, 6, 7, 8, 9, 10, 11, 12, 13, 14, 15, 16, 17, 18, 19, 20, 21, 22, 23, 24, 25, 26, 27, 28, 29, 30, 31, 32, 33, 34, 35, 36, 37, 38, 39, 40, 41, 42, 43, 44, 45, 46, 47, 48, 49, 50, 51, 52, 53, 54, 55, 56, 57, 58, 59, 60, 61, 62], \"cluster\": [1, 1, 1, 1, 1, 1, 1, 1, 1, 1, 1, 1, 1, 1, 1, 1, 1, 1, 1, 1, 1, 1, 1, 1, 1, 1, 1, 1, 1, 1, 1, 1, 1, 1, 1, 1, 1, 1, 1, 1, 1, 1, 1, 1, 1, 1, 1, 1, 1, 1, 1, 1, 1, 1, 1, 1, 1, 1, 1, 1, 1, 1], \"Freq\": [2.8084118897359476, 2.2974209794379647, 2.2876826343741987, 2.1383959911596158, 2.0148183767017085, 2.0017946972228837, 1.9803474071922127, 1.9735353736272179, 1.9544739592791633, 1.909611586012259, 1.891279700155533, 1.8499716606341694, 1.8499228022760426, 1.848577925783998, 1.8402145036581417, 1.8304893534423734, 1.812850377918514, 1.799294973007011, 1.7552987186572118, 1.7534043451660783, 1.7502793536916246, 1.650909406430821, 1.6363795907506153, 1.6343633552121113, 1.6144562539347505, 1.6141398381171024, 1.612222955532026, 1.6108911978926599, 1.6073853624969505, 1.5677211757552045, 1.5559831869679404, 1.5532686947988226, 1.5334888836836986, 1.5298519090352443, 1.526758761647954, 1.5245033851704823, 1.5230982829037378, 1.505875269741471, 1.505620517173832, 1.4909736324912204, 1.48015229351519, 1.4630160371012546, 1.4490729667903932, 1.4272460104574072, 1.4213639418935033, 1.3924303328584546, 1.3848409622804567, 1.3647753191417638, 1.3585104321248638, 1.336670092081055, 1.3299731900345784, 1.3026962318481063, 1.3001530345118681, 1.2993970204366863, 1.2869524149713232, 1.2859460865253893, 1.2679626478641832, 1.185298068639325, 1.1822093652043202, 1.1541381801881987, 1.1107385356661341, 1.0704885669950415]}, \"tinfo\": {\"Term\": [\"photo\", \"video\", \"make\", \"day\", \"love\", \"divorce\", \"wedding\", \"year\", \"kid\", \"style\", \"week\", \"world\", \"time\", \"life\", \"marriage\", \"home\", \"child\", \"dress\", \"talk\", \"parent\", \"people\", \"thing\", \"bad\", \"star\", \"man\", \"work\", \"fashion\", \"woman\", \"baby\", \"wear\", \"photo\", \"magazine\", \"pet\", \"popular\", \"adult\", \"georgia\", \"highlight\", \"lip\", \"count\", \"ahead\", \"stock\", \"shot\", \"murder\", \"investor\", \"brian\", \"compete\", \"fourth\", \"killer\", \"bbq\", \"bow\", \"vision\", \"united\", \"politician\", \"shocking\", \"meaning\", \"greg\", \"cargo\", \"clinton\", \"ensure\", \"indie\", \"life\", \"study\", \"live\", \"reveal\", \"watch\", \"feel\", \"york\", \"return\", \"cat\", \"pregnant\", \"apple\", \"special\", \"propose\", \"person\", \"detail\", \"hilarious\", \"status\", \"wide\", \"ignore\", \"silence\", \"own\", \"myanmar\", \"confirm\", \"jon\", \"austin\", \"producer\", \"bench\", \"scan\", \"stephen\", \"eyed\", \"video\", \"book\", \"poll\", \"month\", \"hand\", \"release\", \"team\", \"reach\", \"tie\", \"therapy\", \"touch\", \"blood\", \"extreme\", \"pill\", \"portrait\", \"tonight\", \"irish\", \"powerful\", \"drunk\", \"nightmare\", \"rainbow\", \"peru\", \"surface\", \"spill\", \"accept\", \"lift\", \"nba\", \"ers\", \"border\", \"voter\", \"week\", \"home\", \"woman\", \"son\", \"cool\", \"campaign\", \"coffee\", \"bully\", \"strategy\", \"forget\", \"wall\", \"italy\", \"trap\", \"diary\", \"researcher\", \"real_life\", \"solo\", \"frank\", \"sexual\", \"anne\", \"difficult\", \"roman\", \"rapper\", \"influencer\", \"curse\", \"correspondents_dinner\", \"uncover\", \"monkey\", \"bohemian\", \"dean\", \"make\", \"don\", \"hit\", \"mother_day\", \"store\", \"shoot\", \"rock\", \"choice\", \"member\", \"maher\", \"block\", \"cast\", \"regret\", \"slam\", \"remind\", \"see\", \"rant\", \"aaron\", \"alarm\", \"fault\", \"estate\", \"thompson\", \"rack\", \"homophobia\", \"insist\", \"solidarity\", \"nordstrom\", \"hispanic\", \"composer\", \"anti_semitism\", \"love\", \"wear\", \"shoe\", \"walk\", \"chef\", \"japan\", \"large\", \"dessert\", \"chinese\", \"pack\", \"serve\", \"ticket\", \"theater\", \"speech\", \"mile\", \"brooklyn\", \"ben\", \"ryan\", \"cancel\", \"german\", \"summit\", \"donald\", \"abc\", \"vermont\", \"undocumented\", \"stir\", \"seth_meyer\", \"hitler\", \"skewer\", \"deputy\", \"free\", \"end\", \"job\", \"update\", \"cut\", \"rise\", \"state\", \"tv\", \"project\", \"mean\", \"egg\", \"chicken\", \"ride\", \"sweet\", \"match\", \"ready\", \"nyc\", \"result\", \"politic\", \"bold\", \"annual\", \"scary\", \"founder\", \"reflect\", \"amazon\", \"prevention\", \"commit\", \"snap\", \"salute\", \"cage\", \"day\", \"game\", \"secret\", \"death\", \"actress\", \"london\", \"music\", \"dead\", \"island\", \"track\", \"glass\", \"file\", \"sea\", \"let\", \"pass\", \"promote\", \"shooting\", \"square\", \"mall\", \"dozen\", \"rain\", \"prayer\", \"tennessee\", \"cohen\", \"disclosure\", \"burst\", \"contestant\", \"national_anthem\", \"spotify\", \"kenya\", \"kid\", \"mom\", \"stop\", \"word\", \"award\", \"fan\", \"business\", \"madonna\", \"survive\", \"honor\", \"research\", \"drive\", \"performance\", \"icon\", \"stunning\", \"paper\", \"defend\", \"bite\", \"fox\", \"shark\", \"pic\", \"gulf\", \"vibe\", \"leon\", \"victory\", \"billboard_music\", \"dancing_star\", \"viewer\", \"janet_jackson\", \"golfer\", \"great\", \"bring\", \"pay\", \"young\", \"case\", \"airport\", \"song\", \"office\", \"fun\", \"stand\", \"british\", \"come\", \"arrest\", \"stage\", \"sit\", \"handle\", \"perform\", \"tribute\", \"mary\", \"fire\", \"sarah\", \"trailer\", \"tim\", \"survivor\", \"baking\", \"berry\", \"reporter\", \"sanders\", \"gun_control\", \"authority\", \"work\", \"friend\", \"color\", \"run\", \"film\", \"grow\", \"call\", \"red_carpet\", \"number\", \"smart\", \"weight\", \"double\", \"control\", \"fruit\", \"seal\", \"flat\", \"kristen_stewart\", \"nail\", \"heel\", \"coat\", \"michelle\", \"robot\", \"oyster\", \"remote\", \"leak\", \"library\", \"kentucky\", \"nominee\", \"cleveland\", \"detective\", \"world\", \"celebrity\", \"show\", \"space\", \"country\", \"offer\", \"single\", \"blue\", \"safe\", \"act\", \"spirit\", \"ball\", \"nfl\", \"giant\", \"deep\", \"require\", \"plastic\", \"original\", \"ocean\", \"mike\", \"denver\", \"shave\", \"reunion\", \"sander\", \"mayor\", \"float\", \"rage\", \"feminist\", \"cheerleader\", \"opposition\", \"baby\", \"america\", \"inspire\", \"fight\", \"kim_kardashian\", \"light\", \"cheat\", \"claim\", \"rihanna\", \"victim\", \"scott\", \"replace\", \"accuse\", \"survival\", \"floor\", \"investment\", \"soccer\", \"william\", \"indiana\", \"bloom\", \"contract\", \"audience\", \"iran\", \"renew\", \"men\", \"racism\", \"warehouse\", \"gay_men\", \"bbc\", \"sexual_abuse\", \"year\", \"dress\", \"cover\", \"rule\", \"college\", \"isn\", \"magic\", \"tattoo\", \"controversial\", \"washington\", \"delay\", \"movement\", \"celebration\", \"deserve\", \"cuba\", \"graduate\", \"apology\", \"star_war\", \"era\", \"ethical\", \"comment\", \"rover\", \"mail\", \"emerge\", \"accusation\", \"outrage\", \"widow\", \"matching\", \"lunar\", \"diaz\", \"divorce\", \"child\", \"die\", \"sign\", \"proposal\", \"ban\", \"choose\", \"heat\", \"attack\", \"listen\", \"pro\", \"hang\", \"climate\", \"van\", \"blow\", \"right\", \"painting\", \"punch\", \"advocate\", \"toronto\", \"primary\", \"ellen_degenere\", \"iowa\", \"ode\", \"nebraska\", \"bee\", \"mlb\", \"moderate\", \"saudi_arabia\", \"ethic\", \"party\", \"green\", \"black\", \"lose\", \"tax\", \"snl\", \"student\", \"florida\", \"elle\", \"housing\", \"election\", \"costume\", \"faith\", \"seattle\", \"combat\", \"cop\", \"physical\", \"israel\", \"al\", \"punk\", \"finale\", \"video_show\", \"multiple\", \"assault\", \"beg\", \"awful\", \"alec_baldwin\", \"consequence\", \"convict\", \"scenario\", \"time\", \"star\", \"play\", \"small\", \"crisis\", \"race\", \"guest\", \"queen\", \"present\", \"medium\", \"role\", \"veteran\", \"club\", \"miller\", \"spread\", \"jay\", \"mouse\", \"achieve\", \"produce\", \"scam\", \"crush\", \"highway\", \"pride\", \"terrible\", \"golf\", \"conservative\", \"air_force\", \"shooter\", \"cher\", \"mickey\", \"man\", \"reason\", \"age\", \"minute\", \"advice\", \"market\", \"fact\", \"cake\", \"medical\", \"screen\", \"check\", \"totally\", \"root\", \"france\", \"tough\", \"taylor\", \"fish\", \"pound\", \"girlfriend\", \"gap\", \"professional\", \"freedom\", \"santa\", \"critic\", \"pan\", \"apparently\", \"press\", \"censor\", \"sock\", \"scarlett_johansson\", \"health\", \"fall\", \"dog\", \"lesson\", \"trip\", \"dance\", \"pant\", \"resort\", \"protect\", \"card\", \"hide\", \"catch\", \"credit\", \"heal\", \"human\", \"museum\", \"want\", \"blame\", \"storm\", \"career\", \"oprah\", \"transformation\", \"top\", \"bizarre\", \"tom\", \"negative\", \"harm\", \"chat\", \"bedtime\", \"virginia\", \"family\", \"leave\", \"cost\", \"law\", \"air\", \"view\", \"experience\", \"anniversary\", \"pain\", \"white_house\", \"unique\", \"fresh\", \"union\", \"slow\", \"jersey\", \"brother\", \"graphic\", \"prince\", \"tear\", \"gas\", \"thousand\", \"jr\", \"wilson\", \"alive\", \"hawaii\", \"document\", \"chip\", \"agency\", \"charming\", \"imagine\", \"big\", \"city\", \"buy\", \"today\", \"march\", \"park\", \"treat\", \"california\", \"consumer\", \"police\", \"gown\", \"cup\", \"quit\", \"jessica\", \"justice\", \"attend\", \"protest\", \"american_idol\", \"conference\", \"relief\", \"mass\", \"statement\", \"kelly_clarkson\", \"billionaire\", \"jesus\", \"guard\", \"complex\", \"billboard\", \"cloud\", \"funding\", \"win\", \"daughter\", \"moment\", \"smith\", \"seek\", \"ultimate\", \"impact\", \"note\", \"struggle\", \"image\", \"fund\", \"national_park\", \"government\", \"form\", \"eric\", \"female\", \"strip\", \"ellen\", \"rap\", \"macy\", \"paul_ryan\", \"rice\", \"excuse\", \"jada_pinkett\", \"definition\", \"emily\", \"examine\", \"missouri\", \"circle\", \"swing\", \"take\", \"miss\", \"picture\", \"post\", \"makeover\", \"david\", \"close\", \"spend\", \"anxiety\", \"social_media\", \"doesn\", \"force\", \"hurt\", \"whitney_houston\", \"cause\", \"incredible\", \"album\", \"joke\", \"frozen\", \"josh\", \"republican\", \"rank\", \"legal\", \"academy\", \"desk\", \"horror\", \"saturday_night\", \"broadway\", \"media\", \"verdict\", \"perfect\", \"dream\", \"twitter\", \"head\", \"battle\", \"discuss\", \"festival\", \"crazy\", \"guy\", \"toddler\", \"pretty\", \"land\", \"weird\", \"activity\", \"allege\", \"pull\", \"male\", \"brad_pitt\", \"figure\", \"rip\", \"exchange\", \"completely\", \"drama\", \"email\", \"magical\", \"current\", \"zombie\", \"alert\", \"jeffrey\", \"meme\", \"celebrate\", \"holiday\", \"obama\", \"boy\", \"bag\", \"explore\", \"discover\", \"move\", \"engage\", \"miley_cyrus\", \"custody\", \"dangerous\", \"journey\", \"nude\", \"roll\", \"aid\", \"danger\", \"protection\", \"jordan\", \"epidemic\", \"tiger\", \"ghost\", \"alaska\", \"empire\", \"pat\", \"ed\", \"provide\", \"clinic\", \"bloomberg\", \"connecticut\", \"marriage\", \"gay\", \"study_find\", \"power\", \"answer\", \"hospital\", \"lawsuit\", \"uk\", \"gun\", \"god\", \"group\", \"russian\", \"policy\", \"deny\", \"joe\", \"hole\", \"guilty\", \"route\", \"kevin\", \"injure\", \"rally\", \"glee\", \"license\", \"prefer\", \"civil_rights\", \"spy\", \"stephen_colbert\", \"amtrak\", \"bible\", \"bid\", \"create\", \"deal\", \"ad\", \"lead\", \"pick\", \"wrong\", \"budget\", \"service\", \"comedy\", \"military\", \"request\", \"station\", \"neglect\", \"maryland\", \"gop\", \"simpson\", \"candidate\", \"hasn\", \"fcc\", \"weak\", \"torture\", \"nomination\", \"democratic\", \"sanction\", \"senator\", \"violate\", \"cardiac\", \"citizenship\", \"cia\", \"census\", \"fashion\", \"gift\", \"night\", \"help\", \"bar\", \"split\", \"john\", \"worker\", \"wild\", \"chic\", \"prove\", \"economy\", \"foot\", \"wave\", \"tech\", \"episode\", \"recall\", \"busy\", \"spain\", \"boss\", \"mini\", \"smash\", \"japanese\", \"infection\", \"christopher\", \"jeff\", \"shadow\", \"council\", \"startup\", \"surf\", \"style\", \"change\", \"white\", \"mind\", \"cook\", \"late_night\", \"include\", \"technology\", \"scientist\", \"voice\", \"industry\", \"australia\", \"instagram\", \"burn\", \"tree\", \"grill\", \"mental\", \"clip\", \"farm\", \"compare\", \"inside\", \"mock\", \"salary\", \"cdc\", \"bug\", \"monster\", \"flag\", \"dominate\", \"dna\", \"theory\", \"face\", \"school\", \"step\", \"test\", \"rate\", \"paul\", \"director\", \"push\", \"stun\", \"ohio\", \"gain\", \"freeze\", \"mcdonald\", \"datum\", \"million\", \"obamacare\", \"batman\", \"elite\", \"federal\", \"knife\", \"fuel\", \"retire\", \"drag\", \"gen\", \"cyber\", \"muslim\", \"prosecutor\", \"tunnel\", \"command\", \"national_security\", \"teach\", \"war\", \"president\", \"china\", \"hold\", \"michael\", \"mark\", \"culture\", \"sport\", \"put\", \"morning\", \"focus\", \"receive\", \"seat\", \"straight\", \"trade\", \"term\", \"ridiculous\", \"nbc\", \"saturday\", \"republicans\", \"convention\", \"humor\", \"out\", \"penny\", \"believe\", \"shell\", \"mac\", \"fancy\", \"individual\", \"couple\", \"financial\", \"center\", \"debut\", \"finally\", \"prepare\", \"join\", \"texas\", \"surgery\", \"court\", \"bacon\", \"judge\", \"political\", \"jones\", \"leader\", \"historic\", \"activist\", \"deadly\", \"met_gala\", \"cole\", \"limit\", \"resident\", \"teenager\", \"germany\", \"violence\", \"clever\", \"jam\", \"passport\", \"prisoner\", \"advance\", \"house\", \"meet\", \"national\", \"think\", \"increase\", \"speak\", \"read\", \"write\", \"order\", \"allegedly\", \"brown\", \"moon\", \"message\", \"ireland\", \"bean\", \"successful\", \"hell\", \"forgive\", \"incident\", \"haunt\", \"rival\", \"sarah_palin\", \"punishment\", \"surrender\", \"pastor\", \"terrorist\", \"tina_fey\", \"bureau\", \"resign\", \"legalize\", \"save\", \"visit\", \"benefit\", \"launch\", \"hard\", \"plane\", \"debate\", \"size\", \"trial\", \"climate_change\", \"anti\", \"vow\", \"bathroom\", \"shut\", \"george\", \"transgender\", \"russia\", \"urge\", \"reject\", \"lane\", \"exit\", \"appear\", \"payment\", \"massive\", \"auto\", \"food_stamp\", \"gavin\", \"cardinal\", \"interest\", \"nicolas\", \"travel\", \"cancer\", \"relationship\", \"weekend\", \"long\", \"water\", \"father\", \"restaurant\", \"remove\", \"hero\", \"india\", \"church\", \"century\", \"crack\", \"bus\", \"crowd\", \"recent\", \"cozy\", \"agent\", \"tape\", \"colbert\", \"potential\", \"toss\", \"sandy_hook\", \"honesty\", \"staff\", \"donor\", \"deportation\", \"insult\", \"mandatory\", \"mother\", \"line\", \"patient\", \"host\", \"health_care\", \"beat\", \"name\", \"search\", \"fix\", \"announce\", \"player\", \"suicide\", \"spending\", \"mystery\", \"solve\", \"coverage\", \"north\", \"admit\", \"unveil\", \"oliver\", \"subway\", \"congress\", \"emmy\", \"ferguson\", \"nuclear\", \"package\", \"commuter\", \"transparency\", \"mocks\", \"unconscious\", \"people\", \"plan\", \"boost\", \"memory\", \"class\", \"point\", \"board\", \"theme\", \"christian\", \"lee\", \"massage\", \"viral\", \"address\", \"rescue\", \"evil\", \"angry\", \"genius\", \"memo\", \"dude\", \"therapist\", \"profile\", \"marvel\", \"comic_strip\", \"ridley\", \"silicon_valley\", \"democrats\", \"ashamed\", \"nigerian\", \"lash\", \"airbnb\", \"thing\", \"idea\", \"future\", \"room\", \"lady\", \"actor\", \"lake\", \"writer\", \"teacher\", \"rachel\", \"education\", \"anna\", \"fraud\", \"capture\", \"character\", \"need\", \"building\", \"favor\", \"comic\", \"skip\", \"grey\", \"cutest\", \"suspend\", \"dancing\", \"journalist\", \"cape\", \"reality_tv\", \"guarantee\", \"welfare\", \"sao\", \"talk\", \"wife\", \"company\", \"wait\", \"dr\", \"throw\", \"rumor\", \"james\", \"lawyer\", \"peace\", \"cash\", \"nation\", \"threaten\", \"ancient\", \"waste\", \"owe\", \"dj\", \"refuse\", \"impression\", \"freak\", \"allow\", \"goodbye\", \"devil\", \"chew\", \"nsfw\", \"complain\", \"pope\", \"wasn\", \"patrick\", \"liar\", \"open\", \"turn\", \"real\", \"animal\", \"airline\", \"expect\", \"flight\", \"vote\", \"passenger\", \"private\", \"photographer\", \"kelly\", \"influence\", \"cell_phone\", \"deliver\", \"direct\", \"investigation\", \"threat\", \"republic\", \"crime\", \"governor\", \"uncertainty\", \"flip\", \"nod\", \"dreamer\", \"cartoon\", \"taunt\", \"arrested_allegedly\", \"nephew\", \"harass\", \"money\", \"facebook\", \"tour\", \"fail\", \"editor\", \"mitt_romney\", \"phone\", \"ceo\", \"decision\", \"scandal\", \"indian\", \"executive\", \"prom\", \"prison\", \"passion\", \"kim\", \"beyonce\", \"text\", \"meeting\", \"sentence\", \"citizen\", \"mark_zuckerberg\", \"inventor\", \"trash\", \"side\", \"crown\", \"utah\", \"extend\", \"gig\", \"claire\", \"share\", \"story\", \"happy\", \"husband\", \"michelle_obama\", \"americans\", \"dish\", \"final\", \"drop\", \"cute\", \"ruin\", \"old\", \"fine\", \"stone\", \"smoke\", \"canada\", \"privacy\", \"pattern\", \"davis\", \"barack_obama\", \"jimmy_kimmel\", \"jerry\", \"monday\", \"roger\", \"barely\", \"wish\", \"turner\", \"foreign\", \"inauguration\", \"cord\", \"challenge\", \"sell\", \"kill\", \"hope\", \"international\", \"paint\", \"richard\", \"clear\", \"official\", \"door\", \"mexican\", \"source\", \"donation\", \"crash\", \"abroad\", \"area\", \"restore\", \"adam\", \"marijuana\", \"adopt\", \"shopper\", \"belief\", \"southern\", \"acid\", \"approve\", \"back\", \"disgusting\", \"attorney\", \"condemn\", \"boycott\", \"movie\", \"care\", \"sexy\", \"low\", \"joy\", \"event\", \"true\", \"letter\", \"hate\", \"grace\", \"major\", \"tale\", \"atlanta\", \"know\", \"path\", \"rob\", \"worthy\", \"jail\", \"lifestyle\", \"traditional\", \"ditch\", \"maker\", \"hack\", \"apologize\", \"pledge\", \"divide\", \"twist\", \"fairy\", \"parody\", \"oklahoma\", \"girl\", \"fear\", \"risk\", \"winter\", \"treatment\", \"pink\", \"sing\", \"nasa\", \"train\", \"carry\", \"taylor_swift\", \"hunt\", \"smile\", \"concert\", \"ceremony\", \"abuse\", \"vanessa\", \"porn\", \"expose\", \"bob\", \"blast\", \"barbie\", \"mia\", \"prize\", \"ted\", \"inch\", \"foster\", \"timeline\", \"alex\", \"signal\", \"eat\", \"vacation\", \"dinner\", \"quiz\", \"site\", \"community\", \"half\", \"ask\", \"st\", \"charge\", \"owner\", \"ice_cream\", \"puppy\", \"controversy\", \"user\", \"fake\", \"orleans\", \"vanity_fair\", \"spray\", \"chicago\", \"decide\", \"panel\", \"factor\", \"adoption\", \"county\", \"zoo\", \"recognize\", \"guild\", \"public_health\", \"dallas\", \"dad\", \"find\", \"american\", \"key\", \"support\", \"tweet\", \"confession\", \"send\", \"awkward\", \"west\", \"onion\", \"attempt\", \"laugh\", \"roast\", \"environmental\", \"ron\", \"andrew\", \"argument\", \"highly\", \"wonderful\", \"reminder\", \"rod\", \"reboot\", \"humanity\", \"janelle_monae\", \"inquiry\", \"lobbying\", \"troll\", \"sentencing\", \"lifelong\", \"high\", \"problem\", \"season\", \"online\", \"hear\", \"action\", \"la\", \"safety\", \"lot\", \"understand\", \"rent\", \"bomb\", \"everyday\", \"ashley\", \"exclusive\", \"total\", \"agree\", \"cell\", \"page\", \"afghanistan\", \"monitor\", \"production\", \"illegal\", \"bombing\", \"sues\", \"north_korea\", \"times\", \"sexual_harassment\", \"joe_biden\", \"judd\", \"report\", \"common\", \"artist\", \"give\", \"surprise\", \"global\", \"pop\", \"plant\", \"base\", \"mental_health\", \"spark\", \"ground\", \"security\", \"bill\", \"reddit\", \"mount\", \"complaint\", \"debunk\", \"insane\", \"forum\", \"coal\", \"deem\", \"harmful\", \"netflix\", \"spanish\", \"ll\", \"hacker\", \"property\", \"boy_scout\", \"dodge\", \"parent\", \"sex\", \"marry\", \"scene\", \"groom\", \"public\", \"positive\", \"jimmy_fallon\", \"trouble\", \"italian\", \"predict\", \"insurance\", \"apartment\", \"ve\", \"demand\", \"loan\", \"announcement\", \"introduce\", \"forward\", \"rape\", \"asia\", \"matt\", \"consider\", \"last\", \"bank_america\", \"resume\", \"bryant\", \"champion\", \"universe\", \"doc\", \"heart\", \"date\", \"clean\", \"car\", \"late\", \"disney\", \"legacy\", \"dear\", \"strike\", \"reform\", \"jump\", \"chapter\", \"invite\", \"device\", \"shower\", \"lego\", \"kanye_west\", \"bankruptcy\", \"barbara\", \"upcoming\", \"sink\", \"marie\", \"alice\", \"working\", \"funeral\", \"flame\", \"memorial\", \"pardon\", \"plea\", \"rocks\", \"wedding\", \"red\", \"review\", \"trick\", \"round\", \"huffpost\", \"royal\", \"sue\", \"high_school\", \"audio\", \"cross\", \"jim\", \"university\", \"officer\", \"swedish\", \"expand\", \"profit\", \"arizona\", \"confront\", \"chart\", \"glimpse\", \"yard\", \"musician\", \"neighbor\", \"jennifer_garner\", \"alabama\", \"rail\", \"crow\", \"mourn\", \"exclude\", \"good\", \"break\", \"link\", \"issue\", \"dark\", \"happen\", \"respond\", \"gender\", \"machine\", \"runner\", \"client\", \"fed\", \"dennis\", \"interior\", \"wreck\", \"tower\", \"tap\", \"intention\", \"michigan\", \"giveaway\", \"york_time\", \"kris_jenner\", \"sentenced_years\", \"assad\", \"analyst\", \"obama_administration\", \"muslims\", \"conservative_group\", \"judicial\", \"stalker\", \"singer\", \"explain\", \"shop\", \"destination\", \"record\", \"steal\", \"appearance\", \"planet\", \"coach\", \"european\", \"band\", \"continue\", \"jet\", \"athlete\", \"field\", \"active\", \"boot\", \"aim\", \"comedian\", \"praise\", \"exist\", \"lonely\", \"driver\", \"report_find\", \"nap\", \"coachella\", \"duty\", \"yale\", \"increasingly\", \"religious\", \"easy\", \"place\", \"spot\", \"adorable\", \"street\", \"pie\", \"employee\", \"ice\", \"spotlight\", \"hire\", \"smoking\", \"pot\", \"comeback\", \"box_office\", \"opening\", \"proof\", \"mysterious\", \"access\", \"daddy\", \"jackson\", \"situation\", \"reclaim\", \"arctic\", \"entire\", \"criminal\", \"investigate\", \"literally\", \"quiet\", \"activism\", \"blake\", \"question\", \"interview\", \"outfit\", \"birth\", \"suit\", \"cheap\", \"aren\", \"reduce\", \"didn\", \"rare\", \"training\", \"documentary\", \"underwear\", \"open_letter\", \"scare\", \"louis\", \"effective\", \"donate\", \"title\", \"professor\", \"basic\", \"math\", \"creator\", \"queer\", \"phil\", \"brutal\", \"pen\", \"dee\", \"schooler\", \"facility\", \"drug\", \"hot\", \"news\", \"olympic\", \"eye\", \"french\", \"tsa\", \"tell\", \"daily\", \"robert\", \"promise\", \"pilot\", \"boyfriend\", \"suck\", \"column\", \"leftover\", \"suspect\", \"canadian\", \"afford\", \"swimmer\", \"outlet\", \"broken\", \"farewell\", \"beast\", \"reid\", \"columnist\", \"sikh\", \"shout\", \"abby\", \"turban\", \"bad\", \"avoid\", \"affect\", \"johnson\", \"romantic\", \"tool\", \"lauren\", \"urban\", \"defense\", \"panic\", \"finger\", \"version\", \"central\", \"manhattan\", \"facial\", \"mouth\", \"welcome\", \"daniel\", \"rush\", \"korean\", \"complete\", \"minor\", \"wildlife\", \"cheer\", \"strand\", \"montana\", \"enter\", \"challenger\", \"draft\", \"limbaugh\", \"stay\", \"feature\", \"app\", \"list\", \"hollywood\", \"lie\", \"internet\", \"alternative\", \"funny\", \"settlement\", \"suggest\", \"spice\", \"epic\", \"justin_timberlake\", \"youth\", \"mission\", \"hunter\", \"involve\", \"steve\", \"impossible\", \"tom_cruise\", \"avenger\", \"new\", \"retail\", \"philadelphia\", \"spoof\", \"fame\", \"cynthia\", \"starbucks\", \"moscow\", \"teen\", \"super\", \"target\", \"europe\", \"famous\", \"strange\", \"mirror\", \"partner\", \"bachelor\", \"forever\", \"warn\", \"competition\", \"tiny\", \"tyler\", \"newly\", \"racist\", \"arm\", \"warrior\", \"retro\", \"mask\", \"dan\", \"offend\", \"anthony\", \"steven\", \"finalist\", \"pretend\", \"global_warme\", \"degree\", \"reef\", \"kerr\", \"beauty\", \"set\", \"doctor\", \"table\", \"practice\", \"reportedly\", \"program\", \"emotional\", \"row\", \"option\", \"medication\", \"trust\", \"wealthy\", \"prep\", \"seed\", \"settle\", \"probe\", \"bet\", \"weapon\", \"toll\", \"mtv\", \"dismiss\", \"conan_brien\", \"thrill\", \"dumb\", \"hip_hop\", \"nationwide\", \"shutdown\", \"puppet\", \"repeatedly\", \"learn\", \"history\", \"birthday\", \"town\", \"bear\", \"pose\", \"meat\", \"breakup\", \"bit\", \"huge\", \"amy\", \"lazy\", \"defeat\", \"ear\", \"reverse\", \"amendment\", \"oral\", \"geek\", \"adviser\", \"position\", \"bargain\", \"embarrass\", \"repeal\", \"fans\", \"majority\", \"kevin_hart\", \"misogyny\", \"lobbyist\", \"intel\", \"injustice\"], \"Freq\": [25480.0, 15823.0, 8951.0, 8231.0, 7794.0, 6693.0, 6012.0, 5639.0, 5311.0, 5000.0, 5242.0, 4938.0, 4779.0, 4889.0, 4462.0, 4686.0, 4253.0, 4188.0, 3956.0, 3776.0, 3868.0, 3835.0, 3413.0, 3761.0, 3745.0, 3759.0, 3580.0, 3839.0, 3695.0, 3696.0, 25478.486270517034, 670.9313463139592, 431.8865441551656, 232.25752737280445, 188.08326931499855, 151.46160091813368, 151.35363658352907, 131.11532065603282, 130.04503421898565, 128.29929245317297, 118.81563609359597, 103.77709014437883, 96.13615659041034, 91.22215298009019, 72.90812137636371, 70.81863777906752, 69.66430526000505, 69.36174213306627, 64.43980037583641, 62.63065032581554, 58.698180932865014, 55.45354816320614, 54.65344939429772, 51.527781556029, 39.96173886999794, 39.15240430592734, 39.100162717481, 39.04447457527612, 36.35687202466565, 34.69030064383434, 4887.080234634903, 3375.253834478741, 2415.7968824251634, 1941.7481658606146, 1458.1586020151542, 1108.908063032644, 1063.2370031504697, 910.5306356996556, 789.3450717460057, 721.2977470137885, 687.6313965119053, 436.78963580458947, 411.1087457501322, 302.16916387302507, 263.9631319403829, 195.46211308420217, 158.7368600539587, 158.07876125978999, 146.85408917873298, 136.19522127258682, 133.9552848744027, 129.0742118633926, 117.83376669871073, 102.7493995407524, 95.3884648846614, 87.42832855893482, 81.99101373419205, 75.74529723513952, 73.27753432649305, 60.35255666767687, 15821.279587254827, 882.3090747985945, 839.6944009765916, 680.0381153591563, 441.01495157132354, 440.9217289844345, 434.91732846054106, 301.68191150256774, 280.1383610943088, 242.75093975266833, 240.97251708333948, 235.7258939686913, 207.1971891059683, 202.83300098651668, 181.1404613108228, 178.44620677857054, 172.15883488758053, 167.31362814187577, 132.2955578414625, 111.47864299617551, 109.71918505727086, 107.84863348645791, 103.03966493551144, 102.20422458740651, 88.50812064967444, 87.68998195367175, 68.9639060874397, 63.96206555157253, 59.08660769306863, 50.025040759298626, 5240.806886036295, 4684.249949206251, 3837.7747383326546, 1119.179975243189, 958.5400845127484, 654.2833037812438, 572.7465715898411, 509.6681283613392, 406.57656748639823, 385.5605937109523, 352.2709578705321, 274.5540375192067, 251.83781673247412, 242.0168045087173, 240.05663651981828, 185.22956189177515, 172.04161287489606, 162.42402027602358, 155.56542424840907, 115.04211867381078, 100.50740126328128, 99.72241082233853, 98.55795177386453, 93.18871074707414, 85.35014138798411, 81.52766836686516, 71.78709758587969, 68.29546996938004, 51.20838483872312, 43.63267956538754, 8949.949929931785, 3280.1893902754446, 1149.0575811939111, 983.7537136376395, 900.807883755621, 761.7651961048942, 655.1412069605799, 567.8633985558599, 343.27148347740683, 340.78983097270475, 329.5141548200641, 251.42573360835624, 245.33713104211986, 234.4787841793083, 189.86969314935823, 126.93823163492671, 122.93047624345184, 122.55769411952417, 82.07871919844474, 64.05331326953221, 63.221981328433316, 61.17438067873601, 34.391797347778144, 32.68307193436463, 27.696996828791992, 23.791215321989814, 16.0861171551132, 11.135793483788582, 3.2253374500280025, 0.9914919770255409, 7792.46649309215, 3694.288095807787, 1379.7971999759018, 846.0122775343896, 832.9691676649293, 386.2593875002227, 342.8534692753233, 340.58865241289965, 340.2935383579901, 339.6594654079725, 334.62946379034673, 318.2131426553886, 307.76704041556263, 299.19227620899795, 295.0223793345824, 286.29887417148467, 266.73215722355866, 196.45248936902635, 161.06235310246308, 134.45185010338304, 126.19282004984109, 118.17986965521708, 96.31420908918639, 88.5876018082171, 72.98280485995762, 62.27177875671792, 57.46028604959993, 43.472869414275515, 42.87357438093203, 39.080154620811044, 1817.0667279847937, 1508.3958788837126, 1363.5180969044893, 1288.0711378979245, 1188.1755446670775, 1185.965562601772, 1180.5777601607538, 1025.1735360303135, 797.8348368429145, 742.3061386221614, 706.4093709666262, 675.354215434941, 610.5262268892205, 588.4795807330912, 587.8525355090713, 558.3811757312506, 553.5221511069388, 494.1715261593192, 272.51634910967834, 256.53631962220163, 238.3511687337859, 237.41298242808824, 236.071478104413, 221.5153109444761, 200.31561115328518, 173.22609403949568, 166.38079503518048, 120.23019236850168, 98.01423307027231, 88.10279184623136, 8229.998308133316, 1592.7790831340908, 1570.0776742907403, 1191.055469552093, 956.4326141492108, 924.7660560429596, 922.8070792636872, 511.303872309146, 461.9395639235623, 367.69383304132737, 303.3218366208458, 297.6822206596955, 297.66012137845166, 287.96096861149215, 222.03747036326388, 170.37940832259352, 148.03301781820343, 123.65035168416922, 117.11212564480113, 109.11322660174223, 96.03286435088455, 89.12021501389327, 65.30464055903055, 63.99293830441097, 61.8800592903321, 59.31834212336776, 55.6308163696938, 51.134444277660556, 46.14392175207531, 45.776229397507024, 5309.5109882025545, 3598.077832924232, 1546.8724824398673, 825.2125784953602, 788.6915159608161, 758.402830279025, 683.6595439093393, 654.3048593583858, 630.8756105294818, 580.2786808701366, 546.8135051213022, 506.1728579785275, 420.02766803506137, 394.56480898819734, 366.7450998105599, 354.2632766949483, 265.52003005804187, 223.47188867814654, 194.5542272635776, 178.75787534118575, 108.067167475501, 102.4784576561904, 72.89574428129728, 66.5866899429681, 65.31081896751999, 59.25537830258907, 55.165530302144106, 43.7722866604658, 29.613025545463085, 14.679118332185665, 2803.709027901172, 1537.6757186530015, 1463.5056311743292, 1412.519296018384, 1119.1805657712441, 1011.8813020576487, 898.3964165566186, 873.6610070357923, 842.2606546035456, 751.2156927441466, 592.1724864053089, 576.8550292079132, 568.8273039082455, 507.7637804720589, 365.7627516144028, 350.36096522145823, 323.87617665654034, 311.3365382193095, 295.0788293150249, 286.3403670141219, 272.04133544082805, 253.7708128737674, 241.721544943957, 181.97690753797744, 127.5872211080543, 108.35715276592683, 102.1136205387364, 87.4154182241904, 76.78918193991585, 67.82274375294334, 3757.4510209199925, 1545.9820226001336, 1230.633963176489, 1085.8615944665517, 1051.5980299703126, 930.7348768640046, 743.8149121950394, 741.945265121641, 658.4888491401514, 610.9024086813506, 566.0577245223119, 543.9387004657284, 534.0273785858445, 367.1859857540203, 341.57222353250074, 325.7942426482138, 302.7717335673193, 289.01785518482797, 248.00646206697093, 227.23499404307782, 218.3075448528338, 205.17961643580614, 202.39546645539517, 159.26837885991682, 158.09544974307403, 140.19824157444503, 125.20358367901532, 101.36023301546159, 96.60991297064118, 84.3276117116565, 4936.10175545202, 2305.9819393705625, 1711.55269345307, 956.2267662765254, 941.1576715539065, 870.47358116184, 848.677374827308, 821.0759027637725, 589.3843680984742, 562.7032101277282, 489.5274807489299, 351.45903118240517, 345.2272713184617, 318.92431962267125, 248.8029250370802, 212.07322387677442, 179.8029467043659, 175.1357645635965, 155.8821839440882, 142.69066272590356, 137.97887631567704, 126.24727873137192, 122.90896099120793, 116.24132477783706, 112.2988799555612, 107.10072282872544, 65.58806628328556, 47.8766199263486, 44.6694070084504, 40.44131979992079, 3693.475290564462, 3038.9744137295565, 1805.785077993135, 1538.028817741617, 1148.9951836346188, 1011.5129194869153, 738.5935687564985, 699.984724336202, 616.739162919969, 436.10298839278073, 353.13576777286727, 281.9084236411148, 240.33506009481866, 213.80327767531045, 211.40984588284957, 209.1702819912891, 185.9015092962445, 179.894351811316, 178.35386752592046, 144.93886710607623, 143.9650299037016, 142.30000889998428, 104.12227907000393, 87.2192482800415, 73.17946790457707, 61.84474832044032, 59.80500026095993, 56.86869541674133, 52.135743949502896, 50.935722938667304, 5638.002145901029, 4186.1235437765135, 1801.1280680007396, 1285.8493384114452, 827.113545356402, 486.53954266318124, 383.1437622918535, 356.20066749520464, 322.69697483421425, 287.5391929855347, 276.92481474766714, 269.70848509034096, 266.5822884138605, 196.40448196529167, 178.67013125681785, 162.0669752900962, 152.38187538209667, 149.51575928921176, 148.6302134192771, 137.19976014626494, 134.88459105017844, 94.66828467193224, 86.71973697138375, 80.65755248634565, 54.23748424410646, 44.282805608869566, 35.36810081497483, 32.51404075909137, 31.480378513919813, 22.95997878963184, 6691.520479205299, 4251.325558758526, 1031.4390224470485, 791.4495866951163, 745.4460632659712, 706.5976695961556, 632.7340315376089, 376.51565745397295, 325.5090285533393, 282.7021966414305, 253.80730076551285, 218.93778846202022, 205.39125286479452, 184.04776047662514, 179.19775169413472, 161.03233978020245, 158.6740521688311, 123.24317929253887, 117.68368344881755, 111.53696022204642, 104.97079016019815, 101.87326684186641, 92.59161681658412, 87.63865776650962, 66.23923248254331, 61.133539531833115, 45.60895934088461, 36.59135575557898, 35.73039775069954, 34.03902398621326, 2413.627613579721, 2165.328664255661, 2074.5837283375304, 1854.1477811204118, 1725.7507092435046, 1183.9601286191617, 978.5014147338791, 960.5409321789116, 656.5317126210002, 330.62782984502854, 322.2493772166586, 315.2717179435687, 282.0511152001807, 199.3167418658418, 183.04851021140308, 182.52023100569568, 182.05817164714128, 176.11457047227827, 157.68560505314701, 151.87687945252617, 142.7367271681232, 120.63741394831635, 99.1769057308752, 89.5812258548577, 84.28064285247216, 80.716156589466, 67.32297146921731, 58.77853617764283, 57.26035596388436, 51.08051954410283, 4777.9662762208245, 3760.045051201786, 1528.4729541597676, 722.9334910191682, 553.7356423619099, 545.5417491048541, 525.890600964603, 461.66613596087757, 428.6892430767784, 426.8451632039764, 404.8000850253538, 385.31869887967247, 378.0829780593356, 351.36479891229897, 260.8489900249362, 222.49686056288266, 217.86244745954698, 217.44063357725028, 214.4461392111419, 198.92719458523828, 189.9501803123905, 156.32904959374102, 136.0134798112694, 122.30921049373993, 116.90312190698296, 111.16975899922099, 107.91266963203869, 56.46931268679337, 33.30843135836249, 30.03119615658777, 3743.745036295144, 1897.588677131607, 1227.743903738093, 1206.1145597705397, 1008.9398886050853, 739.8901691894863, 603.9884942363155, 577.5460079228576, 558.7094911494563, 557.7997729090587, 488.8408529761893, 464.51850038769135, 369.3191433926042, 355.0959544580436, 321.2735979597616, 319.1817000501084, 314.23050017509104, 284.17840540711313, 283.2676939470817, 242.42338105347935, 232.8218027000636, 226.62125667804776, 212.81200976198204, 202.3082155236177, 180.8876959840929, 144.64724873871185, 134.8803170523158, 121.10055634413165, 99.1175020344538, 96.11647117454437, 2655.4837506321273, 2390.5731829571014, 1355.6900696276089, 1006.019899759384, 713.0046550148055, 661.3218812846761, 572.6598648713951, 572.5790973443743, 563.5857681691916, 550.0809808683706, 489.43086614334675, 487.6473018287866, 427.0883360609919, 412.87283604810807, 405.70490835122513, 391.01843745455625, 382.1798954037799, 348.1806422619323, 319.32500713587615, 308.60735700785557, 272.906916200151, 190.83304190900088, 176.88157627108248, 174.21896435363115, 166.19041609247685, 153.28657518164937, 138.0655644435531, 137.58193686610574, 134.93725021814748, 110.40410523436222, 3018.1813416022405, 1560.5034871197356, 1424.8505576364082, 942.9645339968843, 860.9074225911436, 811.6565910396471, 782.2576218546104, 719.3568071737976, 660.0199627133018, 498.54689825620284, 450.11368990911717, 442.46115429027583, 414.6341385665582, 362.94934578101237, 331.99083283872733, 326.73731079149684, 304.74389300361656, 291.28074678377635, 288.74583139725235, 266.81371893017797, 209.71599643633792, 209.20445045948625, 205.14569946141023, 193.0853337454466, 177.185409046761, 176.11245358853972, 166.92873678122436, 163.35441361837485, 132.0112949103064, 109.51823962204335, 3352.9166270092105, 2172.3109911576444, 1437.9276315900322, 1004.5294408147416, 986.8345147022767, 863.3681599887444, 788.2728134708944, 775.0083647730436, 604.7686210190856, 497.36375622856826, 465.0633819964223, 388.6803820440862, 320.8309802703106, 308.7647804447155, 298.37069782526675, 280.04564380343425, 277.6445050270355, 247.67677553191066, 219.7942668396219, 204.0737116048038, 178.3035625375025, 158.92454570168005, 152.58864002436943, 132.17345674776055, 117.97336566968596, 94.08303292516777, 85.26858330579904, 81.6207322423809, 75.36015275547905, 72.32511630961096, 2979.616035386763, 2322.5010646858186, 1291.0909974822284, 727.6064974123077, 669.2458096667921, 633.7004205772629, 607.9136001419731, 605.7043892401599, 551.4024161930696, 481.0180009622723, 386.2127214578016, 381.22281059697053, 362.1090907304904, 350.6465349704962, 263.8685465324514, 249.12302877512377, 240.47957818443857, 237.49397991915998, 228.54336901311686, 218.9078272189626, 197.63199165345847, 187.50362638961957, 185.3163845699644, 162.24678158295282, 160.31957232907797, 156.04090643476513, 143.1703928827472, 100.02362813625997, 86.219509959496, 83.4877603702051, 1982.5164085294093, 1384.6848043544253, 1379.6342544238412, 920.5355364383496, 864.359056325658, 806.0753307451099, 789.4583517488115, 758.2015010088639, 582.4779401284908, 544.3204734277903, 516.2511056708735, 507.9697148590837, 498.3810059924957, 459.8196075633349, 434.6942217363044, 303.20258844717125, 289.54423757552973, 272.7371483902834, 260.6174867384043, 196.0130893455365, 185.20174581902367, 179.69818005129372, 174.81907770244464, 174.499345463744, 167.7650960810336, 163.16898144259537, 158.70031128089883, 127.18916033868942, 121.09885962076595, 112.74139086003906, 1936.0541718664801, 1218.1988453913914, 1009.6836070640026, 977.1478333258515, 756.2583411173384, 736.3302272280939, 731.4029898723226, 691.0743437752769, 687.7849435473784, 683.598586481942, 675.4092719602102, 566.034152845527, 499.25030645345237, 400.5353701715661, 336.0517196152192, 318.0157922063702, 307.4688003129465, 261.69893397801144, 223.2539036839137, 205.98820952462796, 193.8907949691781, 182.40015860054172, 165.2509579912997, 163.702484675084, 157.33361748586418, 157.26656643410342, 138.7139818340079, 137.9589405935293, 129.81933438996367, 129.1823816188283, 1807.7257297842189, 1734.0229746073944, 1230.1190636344702, 1182.110524590299, 950.7047118510577, 813.6472917831991, 703.031858031599, 681.5891804017791, 633.0306511995809, 597.1283885713755, 530.7406934651185, 491.5170058982015, 454.2388448590376, 339.8408919893659, 326.1075295277689, 296.61720366376386, 282.7472666785503, 243.5230539474199, 220.13591603234076, 208.26255790204908, 167.04854570856966, 159.97235578476108, 136.4257111754138, 134.63175022245957, 114.40073783140944, 108.93660311688231, 106.97462940080966, 104.99904120035644, 98.4057318137302, 92.79584811591913, 4460.183444117513, 1794.6834088131366, 1701.0579168914983, 1406.8175176076961, 683.7983879966085, 555.78049076757, 490.9827409905919, 455.9359502101885, 435.5158712547014, 336.34843700419407, 311.66441489224025, 300.75182750162827, 289.0050609246078, 258.8177441766931, 208.39677705204983, 175.67885583248076, 164.9286396671167, 161.0847296292507, 157.55669964379499, 146.34625930495747, 118.85982599514539, 115.6539211092249, 108.10110542802776, 98.9535672417694, 95.38414492486024, 95.25021451932133, 78.53296322499536, 64.27657076137578, 59.509658669394604, 45.99621599357839, 2268.472828272707, 1922.523304822173, 1875.8408443004257, 1552.8023214536845, 1246.8107588138093, 1141.7598391326358, 889.49072576048, 679.3021793573149, 629.8991265093636, 543.2901714417704, 353.2896812923595, 295.57508475892837, 182.13050715475526, 167.36070332102233, 164.54409121097964, 152.17268422222807, 144.07151953351377, 140.06738965988828, 111.35706904475047, 104.82472014571019, 92.34751181453782, 86.99960556683723, 64.88394659030139, 60.884655846794885, 60.269808210757546, 46.102861459121826, 43.32966643770002, 31.775103023827658, 28.679879387739085, 28.26339436994113, 3578.7569131477885, 1282.1763590669043, 1168.408812125865, 993.5183902486784, 866.0225594823918, 787.624175797001, 614.6035291546049, 491.0955317369264, 474.6240682590065, 437.99208581665704, 415.5208656143145, 402.1257851616369, 377.27923649462014, 292.32793783629154, 266.4896867564613, 245.6257313926396, 244.47468396249207, 194.86693585298974, 191.00232296621644, 165.8444362070353, 147.0745141427585, 136.19894279824223, 129.4095429879196, 128.70777387570436, 116.08254342829825, 106.73084874507015, 103.7725255308771, 93.62563807728876, 93.36978889026379, 90.18521480616694, 4998.456384836039, 2105.9428473172, 1013.2521923928292, 745.0229555295848, 731.6308523348386, 566.4896980707886, 537.4501410100536, 536.6048123062646, 388.6166437239558, 369.9240925247127, 358.8625373701583, 316.66153941917844, 302.9613900282434, 299.3323009915056, 293.18766507769186, 219.30140170851382, 189.98385521705504, 186.0943956864395, 157.21480336167414, 142.71406976124283, 129.66211345157942, 129.62267682045538, 128.63969225037243, 127.45197468347574, 119.66754970448024, 113.63977392439715, 92.66927798561791, 92.10128909347843, 71.4659649083345, 61.59152127361347, 2740.066055041706, 2277.004398911606, 2276.0272502408206, 1280.016173275342, 844.1861695472713, 748.1545473734456, 650.380277468927, 594.938340468773, 347.88149283232934, 345.87403583382, 254.98010906238682, 219.46000075396148, 219.24553862634946, 209.15892641724864, 190.93545604435678, 187.81076540699698, 185.90992133674786, 179.52591014015508, 179.33336091764133, 153.61882949242312, 144.9082488218066, 129.55487450835213, 84.20489658977006, 69.54825375675335, 54.71172961656444, 53.428542037057866, 52.66729652237534, 48.146090879882586, 32.256341036609825, 25.39342739424223, 1537.819325177392, 1107.2368982957755, 1009.6916783566991, 908.3031414139979, 884.2671491451789, 813.0614576475626, 747.2642018394914, 715.601883339216, 692.4570105448587, 678.2656031538379, 668.9755062492022, 564.7410312561514, 456.49072098324933, 410.7291132255781, 364.96492873689635, 357.06893533504416, 265.4730191947628, 242.1333271307909, 215.52804262850472, 197.54117180976817, 179.70318389531045, 165.40286360604267, 140.56671967004317, 140.52273119064978, 134.3253710190412, 116.49394763358639, 110.08558693512464, 108.59597567042253, 95.84456213446732, 75.81823172745356, 2722.10157688951, 1385.750498710336, 774.9767893684591, 747.5881128222233, 670.3888867273325, 597.3877943865147, 517.5565586601974, 506.9245589387225, 504.94369241976165, 464.58751793700907, 462.64272396255933, 452.48652661512006, 418.99065804447423, 372.8749720724384, 369.54943868202366, 323.58970981456787, 315.15525685395596, 301.3504349300773, 294.19000422276383, 239.99163384280854, 235.42781390320786, 226.6442718021657, 220.4791126073316, 219.22493331569976, 209.3385298166605, 184.68058776051336, 166.48477564340143, 116.68508154213977, 104.29795961251557, 95.80325815332505, 1941.0915311578979, 1653.9028134281773, 1374.859659555154, 850.6365330980964, 815.7784802425894, 769.9473338150201, 749.9313934126911, 707.3957666071874, 654.3222042862778, 620.1119607150584, 607.4656520670125, 549.94993438881, 444.4805486183349, 261.927027673587, 261.0604905485387, 260.1100296521081, 233.566219573481, 209.560393129378, 157.02860168204867, 145.56875930554037, 123.56467050322433, 103.49989045656245, 103.49052612364254, 101.54021295416159, 99.4970198111109, 93.06978459230166, 89.83667118243946, 73.42993666005198, 66.82558026127634, 40.359144967368955, 1872.398495437693, 1545.9940185493285, 1303.3730231656455, 1243.503447663213, 969.2215959890491, 855.5684124558097, 681.6595424741365, 616.84701095388, 560.6640379646133, 524.5825400886514, 511.09537892033956, 393.4380059139756, 371.52031340828955, 307.8121882792753, 270.67049887278347, 257.69385949661097, 229.34166818888295, 225.87291283733032, 221.85766964902766, 193.043499399308, 182.97614356963203, 170.6305160050704, 165.98201406987508, 125.68490368286713, 117.50066058053805, 60.531433663834186, 58.79658850487844, 52.90343522461285, 47.406545569398716, 45.036805472422294, 3366.851915985595, 1636.0125745829841, 1356.3579023358725, 1261.7869789320787, 1180.7356643992218, 1011.9484789615198, 821.7323306012358, 612.1298731503822, 520.1159391421015, 353.53105382789164, 307.6272067699448, 272.2200431783513, 207.23276048534314, 190.6845675554491, 161.63008627667, 131.97822567153307, 130.94610818322388, 129.5184417244239, 129.18047257210824, 119.45137202689882, 113.61765303348942, 109.0808118397448, 89.26753018737487, 78.99346811682805, 69.90627117713777, 61.70016509994842, 61.30492464651788, 54.87031976699248, 42.9760088687804, 42.66912092908531, 2633.6631970874573, 1256.6337138208044, 940.0613770571712, 919.8675825624119, 874.0524041283207, 822.6953079355353, 820.4415013435395, 777.1839230343404, 766.6423355304577, 512.4781106770454, 459.90208350744206, 388.071743644109, 351.95673960082524, 297.24691450333916, 236.1960756387847, 215.90165780131315, 214.55805967229364, 204.77364178398832, 181.6493577339211, 153.18300506415792, 145.64016147977082, 143.67310737069582, 130.09268289499423, 119.81895845620237, 114.6174484440423, 108.7108386912299, 73.52862175077088, 66.25414464873579, 63.55228166690835, 48.7803962667303, 3866.6442223038293, 2135.515211889963, 1102.0163206298828, 971.3775261599171, 800.19517296946, 703.0665786070819, 449.956110050361, 433.2638266082384, 405.2114051672774, 373.48195991397336, 263.474188562396, 263.0015626218105, 261.250564585006, 234.7078887590176, 191.7628107380739, 183.36421174139616, 176.01672502954472, 172.24373473015518, 142.80332740669135, 129.88846325545992, 121.49554688008179, 119.49029470402009, 109.2526433140723, 93.19077051147369, 88.81162393110579, 60.20085679708873, 58.3482321722339, 39.016232261286774, 34.943155267363004, 33.8887287456757, 3833.193740977944, 2416.190902492963, 1148.117994889592, 1020.1880646753407, 684.1974352534775, 576.7176334868061, 354.75127087260574, 348.237265225713, 346.5216829000135, 342.1054863809829, 321.05558099483267, 274.98260054378704, 258.8905701413091, 256.01557146363587, 247.35612306526383, 227.8767616326215, 220.83789550038225, 191.355384045594, 178.07474681215766, 167.02598754064687, 139.26466935257622, 122.42633184152602, 116.9383342598328, 99.01401247410192, 67.2568878743424, 65.03609077873969, 58.635257663745506, 57.10014576370413, 50.63250459900765, 42.33799373414517, 3954.666896284518, 1084.280337359182, 933.0327025164321, 677.3502914036847, 661.4627946213544, 611.0222600801736, 518.3487574161371, 461.32592154181884, 440.31430573983704, 439.3000548410906, 436.8600645973197, 361.5781895333798, 291.7168725796909, 283.5742217807851, 277.2420845265072, 274.61568820594005, 219.6193060368695, 188.95051974450874, 187.47121833490164, 185.24976547017727, 161.97232147149495, 153.5253954029652, 139.03693856023298, 129.44863146128193, 124.00719171488035, 104.26331533009082, 102.31108270685402, 93.09123185516268, 91.8560021920486, 91.60819045102112, 1967.749991437607, 1909.9521381559332, 1639.8101383964356, 973.7386229656373, 964.0571477462485, 871.7897248406421, 812.9923667942643, 668.7067818751807, 622.0288159163412, 449.2136367105116, 430.5112812041522, 416.566449627071, 266.3208134457836, 254.25868036546916, 242.3907076405027, 233.65615178339294, 231.3648802884675, 216.22808842830497, 190.42396997668578, 150.85999475930998, 125.73553308106656, 110.27518226979033, 105.01679634444216, 103.30378791374511, 50.216803346146, 39.68044056715666, 38.98279115014796, 32.453673390391856, 22.31275011871656, 16.23662848512482, 2251.0760459205594, 2084.1433585113023, 1197.0325806707838, 1124.3361404797402, 618.1944459472601, 571.6912118115417, 434.10476065256313, 428.5638688167183, 412.6227016449371, 381.9908351545979, 369.7055057193399, 289.74536263944935, 285.1141698987493, 281.61710274046766, 235.90121426586228, 233.1046372961451, 200.80801416659008, 173.07781787102547, 166.55458232424243, 149.31900161079238, 148.73718812535395, 139.85928364724575, 135.3750434211615, 133.71375925002337, 132.3738534584963, 129.22204884051146, 127.03630526802492, 115.42331422655862, 104.97875033242953, 99.90893234878901, 1811.1433481040667, 1659.987965847097, 1487.9937099765461, 1031.8356282791833, 983.6482279302516, 691.6731413941224, 674.2342301635438, 596.0785899530028, 518.6422258020762, 491.6940916507164, 398.82571126897113, 383.77978170644974, 345.3548709027065, 267.09453215593976, 251.88930506846654, 228.55859187142482, 225.32624809538535, 168.50643901334874, 168.42293976751577, 160.7932863125638, 145.74405427555266, 140.57092267469247, 99.00545958018213, 97.28253412268421, 96.89090246992711, 93.6585154300297, 81.15779141974343, 80.98236368642125, 73.86383665986925, 70.87305663466319, 1707.5171100773541, 1310.021560529103, 1134.9020665514563, 909.0596643867564, 802.9662273604201, 774.164908923146, 475.277661187981, 420.83709642159863, 391.8995100941842, 372.79532325036087, 370.8626331934097, 333.3936485063101, 329.34549229993036, 274.21524631682564, 273.4890555899148, 267.4792988224284, 266.1155629164275, 264.5652799826246, 251.61168862712447, 236.06723616206503, 211.94621981650033, 201.62448420836898, 191.1574247517799, 185.6295478104749, 178.33505908880787, 164.21267775651376, 142.12282430171854, 122.63907282008638, 110.90958563473116, 105.34660614206142, 1361.4612595159972, 1330.3671978974014, 1078.6910055289882, 1075.5472717572047, 691.6010020507152, 691.2604834152244, 665.3106111054191, 635.114807371422, 627.488619315594, 475.6557998295995, 408.06932228325513, 368.3405161743137, 354.0930104997164, 340.3643863452882, 268.2920780286773, 265.9011881348639, 263.55593707981814, 233.81372206367175, 227.73767883237377, 224.09443613012002, 190.41353586729304, 189.68406008771788, 178.87809426968633, 164.2664626934292, 153.88229034799107, 151.1865459544069, 149.314973710233, 125.19612767255227, 98.67838665497342, 89.9558886945865, 2694.220403322334, 1626.6130275124679, 1485.722095383858, 949.0912139889487, 759.5562117386313, 694.2796895157344, 425.7109351509715, 408.54551557719344, 391.58711827930836, 311.9685310376075, 306.37825707433603, 283.54102119526596, 268.8048908995423, 252.11726461572778, 242.27246992003802, 204.86923581726427, 194.85897461654636, 193.45005744926172, 180.90908342858432, 175.9497398340198, 153.06235961782048, 147.07408336764516, 134.77101123141978, 131.0801834623205, 113.48209209556806, 101.65628784761802, 95.41661739763576, 88.97852024338074, 88.80855629990093, 77.26530607455062, 3069.2074912489975, 1057.6317458311596, 890.0864651873742, 730.6636647448281, 628.4505320102668, 559.709846733685, 553.5794865371904, 441.2137888458312, 403.6585796931336, 390.0855910804006, 341.7972005974676, 333.86207355913837, 327.83833309667205, 317.8366938086916, 285.67330280194903, 254.7926976271167, 248.28189384311, 241.21251684900895, 239.79733478197562, 236.46958574552548, 217.25239437441329, 190.44667245360225, 189.86499921616888, 144.81989100305245, 123.13147709939044, 118.05369854078945, 111.80263624065896, 87.68473220677885, 80.78352698033756, 74.56412256081161, 2614.3158256807296, 2165.551260814607, 2055.4663674292624, 888.1792218312447, 749.1952038183908, 727.9938160213153, 502.78102522738016, 423.73216376454724, 349.9528259788127, 348.74569490793715, 293.0738419117941, 238.33247497598313, 219.2429727476523, 184.36936153573652, 147.26693289085446, 142.98335805302025, 136.54186749862967, 112.08999638254164, 103.48689077290638, 100.09528655588734, 88.96776451097581, 87.38298010253034, 81.85220940027742, 72.59858668539464, 39.246052082447044, 38.341529646414514, 33.110231331537335, 22.99803271791913, 15.259883001187003, 9.953381294238833, 2295.1979016290124, 1565.0303115558443, 1345.2581731976147, 1175.8421939817606, 642.3714593081147, 490.22330556927517, 484.92135443089524, 466.1867318593497, 368.17212453437486, 358.8232975395248, 358.00692147667604, 308.0616678524544, 304.81166134716057, 297.51937987877034, 265.26601419041754, 254.10817511377866, 231.74834452759822, 219.07706713617424, 160.92430403770044, 141.93807179138955, 118.53141688653345, 111.10089337045629, 109.06580522683615, 69.82894258941563, 69.5782006269971, 64.31471134287342, 55.40657123373926, 50.4560099635554, 50.232167083887944, 47.296457425577145, 2738.6185500739257, 1406.505819293129, 1032.2910920201018, 966.5136552672525, 818.7580075948916, 740.9683877540286, 508.8514936429165, 468.2714878207834, 425.14111066691515, 398.68724168056616, 351.9682773224625, 311.70971266895435, 300.5301377337664, 217.84784692073856, 214.44570470028773, 168.42703054020294, 164.13799244414662, 130.8492134564625, 125.82222924811582, 114.9241362894525, 111.75779883230439, 97.04760698195689, 96.50819806205254, 86.96249074997348, 69.81366332488997, 62.792951114978294, 62.3872260471979, 57.82826923278674, 55.926377739071704, 39.61278648003432, 3774.4164457263396, 1470.595807074182, 1328.3615021535024, 505.9905791612579, 467.45581221428523, 438.7444167552492, 382.428741061808, 359.711942507538, 329.48308268722406, 316.94624722871947, 301.89674798082154, 260.1395861054037, 259.2382778906118, 251.64782022837426, 236.93762585354773, 223.8008142106622, 216.7451517291133, 201.400302293472, 187.047134330016, 160.67349305373995, 147.9287951504709, 136.3410040653143, 124.22548006305894, 124.06012295848275, 108.0643857964619, 88.05068180707845, 76.15965477903194, 73.95973331905856, 61.667376033893476, 46.927391028513405, 2440.673942210335, 1450.5982018901384, 1284.9681219540023, 848.1463325434679, 838.639172751281, 457.092399892444, 387.1074214638057, 360.51854402979944, 324.9115042832373, 278.25535017185445, 277.0379430953532, 260.71767187744626, 239.98999951537974, 229.95385719495926, 216.4124681958165, 210.88054327658168, 209.53974627304865, 191.83251826271368, 180.15271513783696, 164.33015945114153, 160.64243674241965, 136.15223685611454, 131.99257258521473, 118.51108249986376, 113.84092059205159, 111.28780313459367, 109.09863483345684, 106.0970621136805, 84.17327962968812, 80.24773765074517, 6010.350861450363, 1098.5557303864757, 720.6598071971686, 626.4605077333435, 552.2251261752087, 528.9876323865637, 498.8865851650704, 377.67218201054345, 206.49243402640244, 201.5293708334184, 196.7493557639007, 170.07214953520457, 139.0475664254038, 107.44318111323095, 101.24802620179055, 98.73577898893014, 93.30510520737447, 83.14595361645769, 81.45320469833585, 80.14440740530732, 80.0184181619969, 70.92557485930062, 66.3810504622662, 66.21562657937913, 64.80882053136241, 64.59002954913294, 62.109217047338504, 44.87207413245967, 39.222461697441986, 36.32701405662769, 3233.673781852857, 1920.540688395372, 1711.2440971198487, 1017.1888668256025, 669.2141560875627, 644.3006976332812, 413.80718428767545, 373.0221466930986, 300.2431947647256, 232.2997617676981, 183.29344743946527, 165.69372001958158, 160.63789563210815, 158.4436584154365, 137.21073646017288, 133.4202779194325, 122.27653845263572, 120.97531369570801, 110.77460717703607, 107.70988786663985, 99.08791536576051, 74.5944662518487, 41.82098267071589, 33.474122855931476, 26.469205539337175, 19.385574518650017, 12.247857963807352, 12.104161198906066, 8.587523340549367, 6.857056983626727, 1372.878315728096, 1016.198484448634, 902.6775518399571, 880.3713701458944, 599.7562434958221, 573.3802518677948, 516.1436696498109, 455.5347235252437, 444.78258857406826, 434.5577521253396, 377.0437643747578, 343.0401324682832, 308.6227362102967, 300.69240650778653, 283.55807427233214, 272.6072801739319, 266.59445313386107, 259.6723025929471, 236.30002190081174, 219.3050968967174, 204.18769936495994, 175.6967499221001, 171.42547578912195, 145.6310008563333, 140.9477683640907, 132.21204296993034, 123.93219612947885, 88.23193697412508, 84.29579608338652, 84.1237016731923, 1706.2892053770336, 1624.4366555988095, 1203.1453456108597, 784.4828857492281, 578.2338198328816, 444.50157983041714, 441.5576147720546, 399.8693808137667, 353.20801416144303, 347.08428064870964, 343.95297189805905, 318.65444402726666, 284.15620929299286, 278.2771845982603, 254.33278830179034, 242.79125991313595, 217.31005671941915, 183.798788846176, 180.10142762439975, 178.95711895571412, 173.0955245313773, 146.83716469648027, 127.79672550127488, 121.19152834055889, 115.42214689693995, 111.62964227780722, 110.77064962911415, 101.06824311136013, 80.90681806560775, 56.89405172379742, 1630.500181838202, 1269.0732959434788, 942.8306611457767, 722.1998491779736, 628.893098598245, 620.2002934341522, 508.5335640045143, 507.6371267112806, 499.9835398029636, 385.8916382039809, 379.56445398746223, 359.14614255059195, 344.9628617793097, 337.454743117276, 282.23050450100135, 281.5692045351076, 273.10355090233185, 242.95134001732066, 222.1249670795485, 202.15208559862037, 177.61402875221935, 162.30997319879432, 152.15987434332828, 126.6360280193043, 110.03964250377855, 108.8849597782053, 82.11963906929289, 75.37888568778993, 59.75558209351737, 53.30870600565596, 1579.0591011656345, 1330.1273884877598, 1299.0089746214558, 1148.037987599322, 950.2035505958033, 881.6528301959682, 857.5073351675064, 833.8926306756418, 390.26707915931485, 349.6005849453642, 273.8873669458164, 250.51738503816998, 231.55693413957982, 205.62307695775485, 203.29670007710607, 194.89836592569173, 155.1874896557732, 132.50858032864713, 128.47774439513861, 65.49734371352122, 58.8103928392596, 53.14536498100546, 49.479103829912894, 47.31616801428834, 43.384380359599156, 39.59673593183242, 38.7842800746379, 37.44112117104473, 36.58070506174137, 27.814577738460805, 3411.3494263958455, 1076.1433770802691, 1021.5362121050131, 469.0464882341935, 446.1639922870135, 342.36491967613006, 311.69676596932203, 269.8414392471915, 265.088791078595, 218.15271295149964, 207.05940723198884, 187.94998166548555, 186.8679490210842, 179.75934155492087, 175.4457455697961, 160.9860576489232, 159.03315288255075, 153.60882894825568, 147.33876465117436, 136.63443453686182, 124.68925448265772, 111.5852210882641, 104.4540756567509, 103.35609468539126, 90.0424780756292, 85.164550833179, 83.81555020574936, 83.43291303818839, 68.52011153348168, 67.19714815632791, 1407.7854736888787, 1299.263884917642, 1137.90236653666, 1046.4712424621416, 623.6091224571255, 580.3494721857099, 487.9818881234184, 464.86036939394654, 451.6473338243028, 402.48737965779935, 312.60139125648647, 290.71941180002915, 253.883345653803, 237.71694182306845, 216.34547056900487, 201.57161397095956, 192.46389965781907, 182.32128984773775, 174.97758367532845, 152.45213174992074, 143.62224399935485, 139.5341113750314, 115.80550181028046, 86.75280374100191, 73.94166752499576, 64.9131257996717, 56.195774063315945, 54.34418547163763, 47.680208128768065, 46.723273275408665, 2275.3464650577666, 831.4544124861616, 802.870462837747, 628.9633887086919, 556.9173008430947, 539.6831082223831, 380.61431352888843, 368.42198232113475, 315.7715511687148, 300.7996193680112, 297.4070017471947, 274.1811831534627, 256.57918486667353, 253.09803449938582, 251.21466015952154, 210.99087278827105, 205.1992020390978, 204.576605909133, 172.06979779596307, 142.7485417011265, 142.5989620878389, 139.34494565569625, 136.8122970452253, 109.60101452492462, 88.66893581949742, 83.08359119342911, 80.41584538887618, 79.10925358734991, 70.60600865971206, 62.855741453009685, 2246.9077389801464, 1333.5630241868378, 1197.0046165855529, 799.9453958242439, 592.3164083507438, 571.0845284674377, 462.24416073427193, 425.4922614255826, 413.72387211173765, 297.85373619932864, 224.63108101027981, 209.85306213548128, 183.12892198671327, 161.51183027854037, 141.42472465475154, 135.5054828713362, 131.83430458281245, 104.85893314241514, 97.04317211197854, 79.98461558509445, 71.11295174960563, 59.94398764076897, 47.546140548354366, 37.17819105189452, 33.97372475938136, 33.158041484799355, 20.86520164899565, 18.494699030493006, 17.247178442706236, 13.436274235244563, 2046.1287114109302, 1197.1816605832137, 1185.4095377687481, 644.2503626246566, 630.8316553583861, 615.2037282107507, 583.8646393268009, 369.86834300006217, 317.1888468218642, 308.02432607195186, 217.66229034282452, 174.94954524401606, 152.87548540830116, 138.38158732320892, 126.30056372920593, 122.49350987774218, 121.59294497271992, 110.42234190060358, 98.3427850418727, 98.25890677800227, 72.79321156247829, 58.63679976665112, 54.56091127829883, 44.22489112806452, 21.434866628579744, 19.873325123419736, 15.40640131830502, 13.008370926813171, 9.993823029112828, 2.343745523221178], \"Total\": [25480.0, 15823.0, 8951.0, 8231.0, 7794.0, 6693.0, 6012.0, 5639.0, 5311.0, 5000.0, 5242.0, 4938.0, 4779.0, 4889.0, 4462.0, 4686.0, 4253.0, 4188.0, 3956.0, 3776.0, 3868.0, 3835.0, 3413.0, 3761.0, 3745.0, 3759.0, 3580.0, 3839.0, 3695.0, 3696.0, 25480.42994613353, 672.8749121639861, 433.8301071203013, 234.20109092736502, 190.02683354417533, 153.40517367179777, 153.29719981077207, 133.05888362116852, 131.98859735027656, 130.24286605857722, 120.75919905873167, 105.72065372541435, 98.07973532206532, 93.16571594522588, 74.85168450765462, 72.76220074420321, 71.60786822514075, 71.30532015928672, 66.38336334097211, 64.57421329095128, 60.64174389800077, 57.3971111283419, 56.59701294485765, 53.47134452116475, 41.90530193130639, 41.095967271063095, 41.04372568261675, 40.988037540411874, 38.300435293110105, 36.633863608970096, 4889.010362855851, 3377.183945493004, 2417.7270150512572, 1943.6785576799816, 1460.0887454181902, 1110.8381773294973, 1065.167221045962, 912.460763780982, 791.2751835738604, 723.2278597738965, 689.5615078294917, 438.7197468188506, 413.0388585494717, 304.0992766522348, 265.89324374527035, 197.39222546375763, 160.66697106821988, 160.00887227405116, 148.7842380625529, 138.1253458910294, 135.88539615811297, 131.0043234432468, 119.76388858231907, 104.67951055501358, 97.31857865811476, 89.35844398313115, 83.92112474845322, 77.67540824940069, 75.20764534075423, 62.2826676819381, 15823.217492498987, 884.2468342500956, 841.632154624206, 681.9758908406756, 442.95271096909664, 442.85953335009054, 436.85509045926767, 303.6196651501822, 282.0761289427211, 244.6886936664736, 242.91027073095395, 237.66364779463356, 209.13494331388932, 204.77075463413115, 183.0782319151945, 180.383960426185, 174.096588535195, 169.25138212170884, 134.23331166701666, 113.4163968843643, 111.65693926064894, 109.78638713407237, 104.9774185831259, 104.14197876725144, 90.44587481377845, 89.62778848795605, 70.90166003836286, 65.899819199187, 61.0243703112021, 51.96281033795446, 5242.739070182506, 4686.1821650667125, 3839.707225712328, 1121.1122213071528, 960.4722657027042, 656.2159197385872, 574.6787484380288, 511.60030520952694, 408.50874433458597, 387.49277090065976, 354.2031349751882, 276.48621463358523, 253.7699935806619, 243.94898135690508, 241.98881336800605, 187.1617387399629, 173.97379196589108, 164.35619712421135, 157.49760403891344, 116.97429552199856, 102.43957811146906, 101.65458992307941, 100.49012862205231, 95.12088777358969, 87.28231844728197, 83.45984521505294, 73.71927443406747, 70.22764731463171, 53.14056168691095, 45.56485641357537, 8951.878157035078, 3282.117282745779, 1150.9854688527264, 985.6816249869652, 902.7357699926426, 763.693088449227, 657.0690878699122, 569.7912759952302, 345.19937005574684, 342.7177078807064, 331.44203376557806, 253.35361295294118, 247.26500524737494, 236.40667230843485, 191.7975673546133, 128.86610584018183, 124.85835705183177, 124.48556832477927, 84.00659340369984, 65.9811874747873, 65.14985553368841, 63.10225488399115, 36.31967155303329, 34.61094613961977, 29.624871034047104, 25.719089527244925, 18.013991360368312, 13.063667689043704, 5.153211655283125, 2.9193661822806614, 7794.392640905237, 3696.2142505550764, 1381.723332582616, 847.9384138588275, 834.8953000475981, 388.18551988289147, 344.77960165799203, 342.5147847955684, 342.21968376198646, 341.58559863488216, 336.5556034265247, 320.13927503805735, 309.6931727982314, 301.1184131833986, 296.94851171725117, 288.2250065541534, 268.6582896062274, 198.37862175169516, 162.98849165247142, 136.37798248605185, 128.11895474588982, 120.12982240646042, 98.2403414718552, 90.51373419088591, 74.90893724262644, 64.19791142649906, 59.386434589298325, 45.39900208793655, 44.79970865186077, 41.006288398962056, 1818.9939451568036, 1510.3232058601045, 1365.4453675915083, 1289.9983518765255, 1190.1027751067795, 1187.892775902213, 1182.5051551364556, 1027.100768961738, 799.7620515084596, 744.2333517595823, 708.3365843681431, 677.281428572362, 612.4534400266415, 590.4067947490388, 589.7797486464923, 560.3083943671318, 555.4493714285687, 496.09873956934535, 274.44357188292395, 258.4635327596225, 240.27838272272905, 239.3401955655092, 237.99869124183394, 223.44252408189706, 202.24282704096234, 175.15330717691663, 168.30800817260143, 122.15740550592264, 99.94144620769328, 90.03000498365232, 8231.930701928311, 1594.7113981239756, 1572.0099799609447, 1192.9878563006587, 958.3649206619053, 926.6983660086581, 924.739387591365, 513.2362943657322, 463.8718692952896, 369.6261384130547, 305.2541419925731, 299.6145292928223, 299.59242716854305, 289.8932739832195, 223.9697909833887, 172.3117136943209, 149.9653268693491, 125.5826570558966, 119.0444310165285, 111.04553729814698, 97.96516972261193, 91.05252153309556, 67.23695135692725, 65.92524376822406, 63.81236466205953, 61.250647495095194, 57.56312344411133, 53.06674964938799, 48.07622712380274, 47.708534769234454, 5311.441431870256, 3600.0082726959718, 1548.8029225137482, 827.1430240928406, 790.6219473825736, 760.3334122241844, 685.5899730121206, 656.2352865849547, 632.8060377560507, 582.2091229184064, 548.7439327941078, 508.10328520509637, 421.9580966669553, 396.49523664570967, 368.6755273575225, 356.1937051396906, 267.45048310140237, 225.40231715939913, 196.48465875067328, 180.6883031121937, 109.99759530877616, 104.40888488275932, 74.8261715078662, 68.51711716953703, 67.24124818869946, 61.18580624527441, 57.095957528713065, 45.70271388703476, 31.54345293505222, 16.609545558754586, 2805.6325185680516, 1539.5992245562456, 1465.4295035418963, 1414.4427756998589, 1121.1040509803008, 1013.8047723783908, 900.3198890530298, 875.5844922421887, 844.1841251497177, 753.1391874131749, 594.0959666656644, 578.7785236207452, 570.750790704598, 509.687253270504, 367.6862221761174, 352.28443623166925, 325.7996478050319, 313.26001154727373, 297.0022993730936, 288.26392587106227, 273.9648069828944, 255.69432292998198, 243.64501554237228, 183.90038898130524, 129.51069116612302, 110.28062282399557, 104.03711168368281, 89.33888850145175, 78.71265553526138, 69.74621967225474, 3759.379288690428, 1547.9102717123724, 1232.5622071689024, 1087.7899030863093, 1053.5263229515388, 932.6631266468722, 745.7474080423681, 743.8735094366465, 660.4170981597618, 612.8306526737641, 567.9859685147254, 545.8669453668407, 535.955622578258, 369.11422974643375, 343.5004675249142, 327.72248664062727, 304.69997755973276, 290.946102304731, 249.93470605938444, 229.16323803549133, 220.23578908030615, 207.10786042821965, 204.32371044780868, 161.19662309987908, 160.02370678053484, 142.12648556685855, 127.1318356676274, 103.28848602036658, 98.5381569630547, 86.25585570407003, 4938.031119362483, 2307.9112951315687, 1713.4820895347507, 958.1561218047891, 943.0870475186614, 872.4029569863135, 850.6067424783638, 823.0052582920363, 591.3137282041562, 564.632567350553, 491.4568362771936, 353.38838983763236, 347.1566340836526, 320.8536751509349, 250.73228056534387, 214.00258232481872, 181.73230223262956, 177.06512025329292, 157.81153971720818, 144.62002403980426, 139.9082318439407, 128.17663425963565, 124.83831743882855, 118.17068101489811, 114.22823741739758, 109.03007899480691, 67.51742181154926, 49.80597564352301, 46.59876253671414, 42.3706754486043, 3695.400907187909, 3040.90008402508, 1807.7106845411047, 1539.9544614759245, 1150.9208024385057, 1013.4385260348848, 740.5191757247912, 701.9105236632485, 618.6647694679385, 438.02860710890235, 355.06137659705814, 283.83403120663826, 242.26109764206265, 215.72888443528197, 213.33545260823615, 211.09588853925868, 187.8271158442141, 181.819959654372, 180.27947458681604, 146.8644736540458, 145.89063645167118, 144.22562707750626, 106.04792657105521, 89.14485482801109, 75.10507445254666, 63.77035780130969, 61.730606808929565, 58.79430196471097, 54.06135049747253, 52.86133434814334, 5639.929193426622, 4188.050546422875, 1803.0550610108705, 1287.7763273021762, 829.0405246666055, 488.4665296620275, 385.07074046169834, 358.1276458510494, 324.62395349303245, 289.46617349715785, 278.8517932869184, 271.6354699594942, 268.50926720677126, 198.33146013513655, 180.59710942666274, 163.9939536602053, 154.3088555176914, 151.44274566139143, 150.55719177132647, 139.12673831610982, 136.81156997730073, 96.59526284177713, 88.64671514122864, 82.58453065619054, 56.16446275069175, 46.20978398630804, 37.29507898481977, 34.44101892893631, 33.407356683764746, 24.88695695947674, 6693.452144212349, 4253.257481405676, 1033.3707421698293, 793.3812636457365, 747.3777364248582, 708.5293523579519, 634.6656957771183, 378.4473216934824, 327.4407887012447, 284.63386088093995, 255.7389659459781, 220.86945321652894, 207.32293124039475, 185.97942497137754, 181.1294159336442, 162.96400432375904, 160.60571699725972, 125.17484486700877, 119.6153503237402, 113.46862498194756, 106.9024671743488, 103.80493342521208, 94.52328122224884, 89.57032200601913, 68.17089672205282, 63.06520377134266, 47.540623580394154, 38.523019995088525, 37.66206199020908, 35.97069569321947, 2415.54730123129, 2167.248340605861, 2076.504279873065, 1856.0674580132616, 1727.670385103075, 1185.8798515662686, 980.4239548287637, 962.4606418995828, 658.4513884805706, 332.54751397848935, 324.1691345289599, 317.19139380313914, 283.9707910597511, 201.2364177254122, 184.96818607097347, 184.43995452343745, 183.9778477211727, 178.03424633184866, 159.6052820525955, 153.79655531209656, 144.65640302769359, 122.55709460398475, 101.09658331953776, 91.50109093037153, 86.20031871204259, 82.63583244903643, 69.24264756574277, 60.69821203721331, 59.18003274667587, 53.00019540367331, 4779.892279995082, 3761.971143052586, 1530.3989007524208, 724.8594246561737, 555.6615833026787, 547.467724899748, 527.8165405818665, 463.59207250825574, 430.61517671378397, 428.77110067530793, 406.7261019540326, 387.24463251667805, 380.00891264460273, 353.29073266538563, 262.77492396523326, 224.4227941998882, 219.7883810965525, 219.3665672142558, 216.37207284814744, 200.8531282222438, 191.87611394939603, 158.25498323074655, 137.9394147424898, 124.2351444706531, 118.82905572140554, 113.09680941238366, 109.83860326904424, 58.39524998466276, 35.23436499536809, 31.95712979359334, 3745.674972558573, 1899.517047769772, 1229.6722753775273, 1208.0429304087047, 1010.8682592916035, 741.8185398276513, 605.9168667772269, 579.4743813249545, 560.6378617876213, 559.7281437878969, 490.76922361435436, 466.4468710258564, 371.24751403076925, 357.02432515229833, 323.2019685979267, 321.1100706882735, 316.1588708132561, 286.10677632970936, 285.19606542672824, 244.35175539229257, 234.7501741376867, 228.5496279046128, 214.74042339366162, 204.23658875655738, 182.81606662225795, 146.57561937687692, 136.80868834645693, 123.02892698229672, 101.04587267261888, 98.04484181270945, 2657.415736535037, 2392.505172369337, 1357.6220485745557, 1007.9518742109269, 714.9366345097945, 663.2538579118786, 574.5918393229381, 574.5110717959172, 565.5177451098981, 552.0129556036952, 491.36284127910363, 489.57927628032957, 429.0203114247966, 414.80481049965107, 407.63688435226464, 392.9504119060992, 384.1118729370318, 350.11262003898327, 321.2569836161287, 310.5393316524043, 274.83889065169393, 192.76501636054383, 178.81355072262542, 176.150940643891, 168.12239560876682, 155.2185496331923, 139.99753889509603, 139.51391131764868, 136.86922466969042, 112.33607968590518, 3020.105636901789, 1562.4276881478845, 1426.7747445025657, 944.8887710266149, 862.8316143552443, 813.5807763384399, 784.1818110139935, 721.2809968308294, 661.9441481083244, 500.4712759672536, 452.0378754030426, 444.3853395890688, 416.5583272458124, 364.87353107980533, 333.91502218445106, 328.6614985048372, 306.6680783024095, 293.2049336896363, 290.67001848476673, 268.7379057571665, 211.6401859669625, 211.12865073158721, 207.06988476020314, 195.0095190442395, 179.10959434555392, 178.03663980272628, 168.85292208001727, 165.27859995457186, 133.9354802090993, 111.44242492083627, 3354.8400702905983, 2174.2344225706543, 1439.851078881099, 1006.4528652752363, 988.7579376434902, 865.2915842671139, 790.1962372073049, 776.9318020626276, 606.6920439602991, 499.2872374983172, 466.9868049376359, 390.60380498529975, 322.7544049156183, 310.68820553934387, 300.29412575655, 281.9690700714439, 279.56963106994704, 249.60020066621982, 221.71768978083549, 205.99713454601738, 180.2269856558588, 160.84797064504102, 154.51206358703013, 134.09687968897413, 119.89678861089953, 96.00645734084637, 87.19200624701261, 83.54416140030759, 77.28357569669262, 74.24854219987184, 2981.536216968845, 2324.420375471508, 1293.010303284168, 729.5258369726706, 671.1651203107585, 635.6197251552569, 609.8329047199671, 607.6236938181539, 553.3217216956426, 482.9373055402665, 388.1320311752929, 383.1421151749647, 364.0284096928955, 352.5658422687156, 265.78786355805863, 251.04233335311793, 242.39888285620808, 239.41329140036814, 230.46267408173915, 220.82713179695676, 199.5513522595174, 189.42293096761372, 187.23568941672016, 164.16608633836398, 162.23887690707213, 157.9602110127593, 145.08969746074135, 101.94294203816058, 88.13881505153364, 85.40706623795484, 1984.4386215410418, 1386.6070474749765, 1381.5564510163963, 922.457738281188, 866.2812525171774, 807.9975344327014, 791.380554098773, 760.1237169245816, 584.4001363200102, 546.2426710823595, 518.1733136203949, 509.8919368384844, 500.3032027281244, 461.74180422088114, 436.616418427116, 305.12478723129453, 291.466436135477, 274.65935743140653, 262.5396831462416, 197.9352858101762, 187.1240073575136, 181.6203777571813, 176.7412806554579, 176.42154165526347, 169.68729227255307, 165.09117763411484, 160.6225074724183, 129.11135695309304, 123.02105741115071, 114.66358730639271, 1937.9780566904642, 1220.122729981649, 1011.6076835749237, 979.0717333835382, 758.182239112293, 738.2541134928715, 733.3268756239986, 692.9982289101272, 689.7088423977975, 685.5224714709632, 677.3331591340506, 567.9580408092671, 501.1742032666816, 402.4592550297471, 337.97565679126444, 319.93968049631013, 309.39269147149923, 263.6228185682692, 225.17779096714722, 207.91212469303107, 195.8146795594359, 184.32404582826493, 167.1748425815575, 165.62637592309557, 159.25750207612197, 159.1904510243612, 140.6378664242657, 139.88282518378708, 131.7432285685303, 131.10627180427656, 1809.6498071812182, 1735.9470008602952, 1232.0431052231015, 1184.0345922076908, 952.6287395280968, 815.5713180360999, 704.9558842844998, 683.5132225673451, 634.9546815426819, 599.0524872623913, 532.6647197180193, 493.4410349499871, 456.1628711119386, 341.7649186450198, 328.0315607343991, 298.54122991666486, 284.6712929314513, 245.4470817252871, 222.05994228524173, 210.18658415495005, 168.97257196147063, 161.89638203766205, 138.3497376485317, 136.55577647536055, 116.3247640843104, 110.86062936978327, 108.89865565371062, 106.9230674532574, 100.32975806663116, 94.71987436882009, 4462.106466938785, 1796.6064832129107, 1702.9809388587278, 1408.7405467363283, 685.7214120004778, 557.7035125188752, 492.9058614585242, 457.85898551193657, 437.43906755080695, 338.27145971512374, 313.58801259275026, 302.6748814338689, 290.9281188291847, 260.740788697845, 210.3197997173468, 177.6018778460039, 166.8516625413649, 163.00775138055604, 159.47972156125556, 148.26928105626283, 120.78285283713396, 117.57694286053021, 110.02412717933308, 100.87658942063021, 97.30716667616555, 97.17323659389753, 80.45598809781856, 66.1995925126811, 61.43268550240586, 47.919238161901006, 2270.389229499523, 1924.4397296402756, 1877.7573028561756, 1554.7188685878393, 1248.7271686773975, 1143.676244805765, 891.4071289691882, 681.2186095303072, 631.8155370068843, 545.2065726685851, 355.2060827783472, 297.4914859857431, 184.04690838156998, 169.27710504753162, 166.46061423276151, 154.0890861100858, 145.9879349808212, 141.983790886703, 113.27347027156515, 106.74112137252486, 94.26391539917294, 88.91600846208905, 66.80038385175857, 62.8010570736096, 62.1862121774443, 48.01926268593654, 45.24606766451473, 33.691504250642375, 30.596286614470106, 30.179797484028285, 3580.6881392368377, 1284.1075901311413, 1170.3400387061904, 995.449620250134, 867.953790847332, 789.5554022000863, 616.5347581604727, 493.0267793544618, 476.5553000962539, 439.9233119057047, 417.45209170336216, 404.0570112506845, 379.2104625836678, 294.2591639253392, 268.420914199989, 247.55696084228435, 246.40591531767558, 196.79816194203744, 192.93354905526414, 167.77566657296015, 149.0057402318062, 138.13016888728993, 131.3407690769673, 130.63899996475206, 118.01376982065459, 108.66207483411777, 105.70375161992473, 95.55686416633638, 95.30101497931142, 92.11644089521457, 5000.3882419541105, 2107.87469963438, 1015.1848203445885, 746.9548019170526, 733.562696826356, 568.4215425623061, 539.3819868725852, 538.5366571360471, 390.5484924727783, 371.8559377926191, 360.7943829761196, 318.593383910696, 304.89323451976094, 301.2641474136482, 295.1195106410003, 221.23324620003143, 191.91569970857265, 188.02624045040037, 159.14664812579701, 144.64591526237703, 131.59395794309702, 131.554781252903, 130.57153674189004, 129.38381917499333, 121.59939440710787, 115.5716184159147, 94.60112278212917, 94.03313358499598, 73.39780961039975, 63.523369390412014, 2741.985911582559, 2278.924323256971, 2277.947031081379, 1281.9359461731403, 846.1059332571962, 750.074310894148, 652.3000602910753, 596.8581057670094, 349.80125691654024, 347.7938041600356, 256.8998725830892, 221.37976427466396, 221.16530214705193, 211.0786975140803, 192.85521956505926, 189.73052892769945, 187.82968485745033, 181.44567366085755, 181.2531442738454, 155.5385930131256, 146.82801265988505, 131.4746380290546, 86.12466011047249, 71.46801727745579, 56.631493137266915, 55.3483056515357, 54.58706384425331, 50.06585440058506, 34.1761045573123, 27.31319091494468, 1539.7335097316252, 1109.1510943204873, 1011.6059257748448, 910.2173416740437, 886.1813441800786, 814.9756641377874, 749.1783837858036, 717.5160633779476, 694.3711922878188, 680.1797950469161, 670.8896862879338, 566.6552139279836, 458.4049146991897, 412.6436855932399, 366.87911090609543, 358.9831153737758, 267.3872006358531, 244.0475075597791, 217.4422289991446, 199.45535184849982, 181.61736445588684, 167.31706404441732, 142.4808997087748, 142.4369113336303, 136.23955105777284, 118.40812767231799, 111.99976718251186, 110.51015604290188, 97.75874217319893, 77.73241176618517, 2724.0193972441457, 1387.6683115980013, 776.8946034126335, 749.5059289817716, 672.306709708738, 599.3056171358431, 519.4743829503659, 508.8424081739732, 506.86150530742714, 466.50533315389407, 464.56053701638007, 454.4044029680566, 420.9084776486418, 374.7927849601039, 371.4674165116153, 325.50752372796677, 317.0730871014651, 303.2682484023661, 296.10781788328694, 241.90944673047403, 237.34562837926077, 228.56208468983118, 222.39692642656223, 221.14274642367602, 211.25634295433724, 186.59840064817885, 168.40258853106693, 118.60289442980523, 106.21577250018103, 97.72107125545155, 1943.007756113986, 1655.8189748016416, 1376.7757000633103, 852.5525655170508, 817.6945096317236, 771.8633661085072, 751.8474257270472, 709.3118059362712, 656.2382498553931, 622.0280440714744, 609.3816829714881, 551.865963987033, 446.3967458828731, 263.8430578226623, 262.97652017810475, 262.0260590412423, 235.48224896261524, 211.47642251851227, 158.9446325395583, 147.48478869467462, 125.48069989235857, 105.41591984569669, 105.40655572485512, 103.45624234329583, 101.4130508513292, 94.98581478939843, 91.75270081819272, 75.34596604918622, 68.74194276893164, 42.275174356503214, 1874.3171360745673, 1547.912663876383, 1305.291661304759, 1245.4221040127672, 971.1402588727494, 857.4870505949233, 683.5782069934392, 618.7656490929936, 562.5826761037268, 526.5011808815752, 513.0140793268603, 395.35664577677915, 373.43895337603385, 309.7308335015901, 272.58913905675456, 259.6125084110448, 231.26031733312158, 227.79155133767668, 223.776308401926, 194.96213782786245, 184.89478345078012, 172.54915731399154, 167.90065384270804, 127.60354513706649, 119.41929871965164, 62.45007180294779, 60.71522664399205, 54.82207336372645, 49.32518370851232, 46.9554436115359, 3368.781683357803, 1637.9423411285932, 1358.287669133617, 1263.7167454776877, 1182.6654456010071, 1013.8782469276421, 823.662101787839, 614.0596493765198, 522.0457060569319, 355.4608212539751, 309.5569733155538, 274.14981151023204, 209.16252703095228, 192.61433410105823, 163.5598531753661, 133.90800381472275, 132.87587472883303, 131.44820827003304, 131.11024191979092, 121.3811510653455, 115.54742570919208, 111.0105787180376, 91.19729673298396, 80.92323466243714, 71.83603772274685, 63.62993238147795, 63.234691673893074, 56.8000863126016, 44.90577640869944, 44.59888747469443, 2635.5827113246355, 1258.5532390071146, 941.9808895990037, 921.7871202901586, 875.9719857669184, 824.6148218646628, 822.3610219343027, 779.103436998594, 768.5618562599708, 514.3976855009653, 461.8215969107403, 389.9912561859415, 353.8762574727159, 299.1664297109374, 238.11558818061735, 217.82117450610946, 216.4775723383153, 206.69323883458114, 183.5688720284104, 155.10251760599058, 147.55967491280916, 145.59262455652174, 132.0121954368269, 121.73847099803498, 116.53698565681097, 110.63035123306251, 75.4481342926035, 68.17365738131404, 65.47179420874096, 50.699908808562945, 3868.56003331492, 2137.430895728811, 1103.9319262658914, 973.2931314043454, 802.11078155066, 704.9822187137828, 451.8717152947893, 435.1794337663866, 407.1270147130238, 375.3975651584016, 265.3897938068243, 264.91716786623874, 263.1661734518707, 236.6234950893787, 193.6784159825023, 185.27981698582454, 177.93233045772644, 174.1593475533631, 144.71893570857893, 131.8040684998883, 123.41115265480245, 121.40590032526713, 111.16824855850065, 95.10637575590204, 90.72722917553413, 62.1165867365022, 60.26383741666228, 40.93183750571515, 36.85876051179138, 35.80433399010408, 3835.12037251165, 2418.117523624484, 1150.044618077106, 1022.1146772200834, 686.1240470037015, 578.6442510978917, 356.67788134113744, 350.16387665869513, 348.4484018950307, 344.03209804486426, 322.98219601739567, 276.90921101231874, 260.81718110174245, 257.94218193216756, 249.28274656806582, 229.80337210115334, 222.76450596891408, 193.28199451412584, 180.00135755001034, 168.9525980091787, 141.19127982110805, 124.35294231005781, 118.86495427473118, 100.94062320882449, 69.18351175238162, 66.96270124727148, 60.561868132277326, 59.02675623223595, 52.559115291584796, 44.26460420267699, 3956.5891538202236, 1086.2027460083816, 934.9549511692258, 679.272464833953, 663.3849681865056, 612.944441869248, 520.2709314729511, 463.2480949720871, 442.23652662515474, 441.22222848001445, 438.78223802758794, 363.50037014833583, 293.63906079278536, 285.4963952110533, 279.16425795677543, 276.5378616362083, 221.54147963015808, 190.87269500408493, 189.39339176517, 187.17193890044564, 163.89449568500243, 155.4475690115613, 140.95911199050136, 131.3708048915503, 125.92936532256572, 106.18548876035916, 104.23325613712237, 95.01340611236475, 93.77817614273098, 93.5303687835054, 1969.6727543984327, 1911.8748738239985, 1641.732861554245, 975.6613765250717, 965.9798688462399, 873.712447117472, 814.9150885615113, 670.62964197006, 623.9515397878131, 451.1363580337048, 432.4340030489451, 418.4891713986318, 268.24353454577493, 256.1814014654605, 244.31343359743568, 235.5788728833844, 233.2876616985851, 218.15081702759625, 192.34669107667725, 152.78271613072872, 127.65830911116298, 112.1979033697818, 106.93952024029747, 105.22650901373657, 52.13952444613747, 41.60316166714813, 40.905516382820146, 34.376394490383326, 24.23547121870801, 18.15934958511627, 2252.99687670702, 2086.064232272908, 1198.9534053115206, 1126.2569945626144, 620.1152699456763, 573.612035809958, 436.02558838456565, 430.48469635069813, 414.5435256433533, 383.9116905320874, 371.62633101019304, 291.6661878046062, 287.0349984554589, 283.53793153698064, 237.82203826427863, 235.02546791849392, 202.72883816500644, 174.9986447083919, 168.4754186549551, 151.23982583372265, 150.6580121237703, 141.78011212347636, 137.29586741957786, 135.63458324843972, 134.29467839941907, 131.14287283892781, 128.95712926644126, 117.34413822497494, 106.89957464485781, 101.82975634720533, 1813.0686390499227, 1661.913283552787, 1489.9190003336585, 1033.7609156361134, 985.5735130533118, 693.5984317458535, 676.1595130554116, 598.0038728448707, 520.5675121712395, 493.6193749928461, 400.75099416083896, 385.70506459831756, 347.2801753579965, 269.0198152108278, 253.81458796033448, 230.48387476329276, 227.25153099365457, 170.43172190521668, 170.3482226593837, 162.71856920443173, 147.66938032471444, 142.4962055665604, 100.93074247205006, 99.20781717757235, 98.81618536179504, 95.58379841035247, 83.08307431161136, 82.90764657828917, 75.78911978454914, 72.79833952653111, 1709.4290381804897, 1311.9334991021128, 1136.8141523501893, 910.9715904933606, 804.8781534670244, 776.0768359352585, 477.1895875757374, 422.7490240655543, 393.8114942881776, 374.70724955062923, 372.7745593000139, 335.3055746129143, 331.25741840653455, 276.12717988872896, 275.400981696519, 269.3912249290326, 268.0274895468176, 266.4772060892288, 253.52361497333703, 237.9791622686693, 213.85814592310462, 203.53641031497327, 193.0693528999028, 187.54147391707917, 180.24698676049525, 166.12460672722074, 144.0347506800742, 124.55102901666537, 112.82151174133543, 107.25853345226513, 1363.3844162657624, 1332.2903302746927, 1080.6141368532572, 1077.4704125296394, 693.5241345820514, 693.1836142732036, 667.2337419633983, 637.0379430593304, 629.4117528861766, 477.5789306875787, 409.9924608327736, 370.26364731711965, 356.01614331368194, 342.28751831092706, 270.21520888665646, 267.82433765557295, 265.4790679377973, 235.73686048433393, 229.66080969035306, 226.0175669880993, 192.33666706435608, 191.6072035537474, 180.80122512766562, 166.18960491492328, 155.80542120597036, 153.1096768123862, 151.2381045682123, 127.11925853053152, 100.60151751295268, 91.87901955256577, 2696.1480394959644, 1628.5406016498484, 1487.6496702813324, 951.018788126329, 761.4837978155821, 696.2072636531148, 427.6385092883519, 410.4730919315096, 393.51469842101665, 313.89610517498784, 308.30583385875207, 285.4685953326463, 270.73246503692263, 254.04483875310822, 244.20004485382154, 206.7969906336338, 196.7865487539268, 195.3776348504711, 182.83665756596477, 177.87731880839362, 154.98994008332883, 149.0016575050256, 136.69858536880022, 133.00776177734653, 115.4096662329485, 103.58386198499845, 97.3441919636955, 90.90609438076117, 90.73613072439365, 79.19288035507206, 3071.1343175453912, 1059.5585698858317, 892.0132948557575, 732.5904887994999, 630.3773738871989, 561.6366744290061, 555.5063105918622, 443.1406349767114, 405.58540374780534, 392.01246517497094, 343.72402465213935, 335.7888976138101, 329.7651576000823, 319.76351786336335, 287.6001372869958, 256.7195266260339, 250.2087178977818, 243.13934096951584, 241.72415883664743, 238.396413385939, 219.1792184290851, 192.37350999911342, 191.7918232708407, 146.74671505772426, 125.05830229505624, 119.98052282590788, 113.72946064754473, 89.61155626145064, 82.710351225755, 76.49094661548341, 2616.237486092255, 2167.4727227326157, 2057.388019163689, 890.1006880418478, 751.1166868562744, 729.9153279986839, 504.7024845485664, 425.65362948667195, 351.874285299999, 350.6671549817488, 294.99530149917115, 240.2539368615486, 221.16443414003245, 186.29082106215793, 149.18839221204087, 144.90481737420666, 138.46332681981607, 114.01145570372803, 105.40835009409277, 102.01674587707373, 90.8892238321622, 89.30443942371673, 83.77366942997473, 74.52004638808287, 41.16751140363344, 40.26298896760091, 35.03169065272373, 24.91950026713345, 17.18134232237339, 11.87484065540532, 2297.1167277664276, 1566.9490388837323, 1347.1769016624821, 1177.7609202331685, 644.2901858533127, 492.1420426395089, 486.84007646769635, 468.1054570031324, 370.0908467893264, 360.7420198907385, 359.9256443861809, 309.9803898892555, 306.7303833839617, 299.43810191557145, 267.18473622721865, 256.0268981027631, 233.66707045340084, 220.99578917297546, 162.84302624947102, 143.8567959421915, 120.45013892333466, 113.0196154072575, 110.98452824597284, 71.74766487950126, 71.49692288784364, 66.23345111904798, 57.325293270540485, 52.37474432062595, 52.15088912068917, 49.21517946237837, 2740.5384620798723, 1408.4232673239471, 1034.2085397319593, 968.4311201742273, 820.6754629696476, 742.885835465886, 510.7689413547737, 470.1889355326406, 427.05855866211544, 400.6046893924233, 353.88572503431965, 313.6271603808115, 302.4475854456236, 219.76529566960568, 216.36315241214507, 170.34447825206027, 166.05544174667668, 132.76666116831984, 127.73967695997312, 116.84158400130981, 113.67524672157872, 98.9650546938142, 98.42564577390985, 88.87993846183079, 71.7311118850934, 64.7103988268356, 64.3046742340063, 59.74571694464405, 57.84382545092902, 41.53023442695049, 3776.34592180236, 1472.5253051972504, 1330.2909458769332, 507.9200225494076, 469.3852524949062, 440.6738629778652, 384.35818134242896, 361.64138729895774, 331.412522967845, 318.8756875093404, 303.8261882614425, 262.06902638602463, 261.16771843238513, 253.57726050899538, 238.8670825039951, 225.73025472634217, 218.67459222028214, 203.3297428585243, 188.97657461063713, 162.60299815748607, 149.85823543109203, 138.27044526048095, 126.1549228631945, 125.98956323910384, 109.993826077083, 89.98012208769954, 78.08909523495795, 75.88917359967965, 63.59681762893737, 48.856831309134506, 2442.5986455935495, 1452.5229916462904, 1286.8928223834455, 850.0710337713341, 840.56389903851, 459.01711106137105, 389.0321238862948, 362.44324445924246, 326.83620471268034, 280.1800606831606, 278.96264352479625, 262.6423723068893, 241.91470336198626, 231.87855762440245, 218.3371686252597, 212.80524370602487, 211.46444764049537, 193.75721869215687, 182.07741682947562, 166.25486014788953, 162.56713717186284, 138.07693728555773, 133.91727301465792, 120.43578292930695, 115.76562376114539, 113.21250356403687, 111.0233364929978, 108.02176254312369, 86.09798005913132, 82.17243808018836, 6012.284320179944, 1100.489188079457, 722.5932685605067, 628.3939651660116, 554.1585838981404, 530.9210937319456, 500.8200425977385, 379.6056750340137, 208.42589532717892, 203.46282826608663, 198.68281319656893, 172.0056069678728, 140.98102846982795, 109.37663854589917, 103.18148363445877, 100.66923671576858, 95.23856294022801, 85.07941358498391, 83.3866623671713, 82.07786483797554, 81.95187559466513, 72.85903229196884, 68.31450789493442, 68.14908425165562, 66.74227796403063, 66.52348698180116, 64.04267448000671, 46.80553156512788, 41.15591913011019, 38.260471489295895, 3235.598573652757, 1922.4654788522403, 1713.168890832426, 1019.1136620606052, 671.1389386383265, 646.225480184045, 415.73197860536726, 374.94692924386226, 302.1679773154893, 234.2245446259478, 185.21822999022908, 167.61850257034538, 162.56267840468374, 160.3684424941556, 139.13551923209963, 135.34506221996207, 124.20132100339953, 122.90009624647182, 112.69939210725646, 109.63467041740365, 101.01269791652432, 76.51924880261251, 43.74576522147968, 35.39890540669526, 28.393988295335994, 21.3103570694138, 14.172641194669717, 14.028943749669853, 10.512306099968773, 8.781839534390514, 1374.8007127261803, 1018.1208406728277, 904.5999099181765, 882.2937254143117, 601.6786245109665, 575.302607136212, 518.0660249182282, 457.4570791237473, 446.7049598739618, 436.4801077107803, 378.9661196431751, 344.9624975601527, 310.5450916803019, 302.6147617762038, 285.4804295407494, 274.5296356614178, 268.51681331280264, 261.59467060090014, 238.22237716922916, 221.22745855042334, 206.11005463337736, 177.61910519051753, 173.34783127316527, 147.5533561247507, 142.8701250780524, 134.13439913242507, 125.85455168863713, 90.15429224254247, 86.2181522716473, 86.04605700768717, 1708.2082989172027, 1626.3556963702301, 1205.0643774634177, 786.4019159975085, 580.152850081162, 446.4206100786975, 443.47664584720224, 401.78841993540914, 355.1270444097234, 349.0033187078527, 345.8720021463394, 320.573474275547, 286.07523980235743, 280.19621484654067, 256.2518188453042, 244.71029016141645, 219.22908703203805, 185.7178254934186, 182.02045787268025, 180.87615001888102, 175.0145547796578, 148.75619518274644, 129.7157558305741, 123.11055858883937, 117.3411810402149, 113.54868125987971, 112.68967987739462, 102.98727335964061, 82.82584941237737, 58.81308221869691, 1632.420919728395, 1270.9940388007615, 944.7513939941649, 724.1205834875028, 630.8138317238165, 622.1210262825404, 510.45429735283363, 509.5578595596687, 501.90429282628577, 387.81237105236903, 381.48518683585036, 361.0668753989801, 346.88359462769785, 339.3754759656641, 284.1512375805631, 283.4899373834957, 275.02428375072, 244.87207409237814, 224.04569992793674, 204.0728188955191, 179.5347616006076, 164.23070604718257, 154.08061978667817, 128.55676358104446, 111.96037535216678, 110.8056995341306, 84.04037191768111, 77.29961853617816, 61.67631494190558, 55.22943885404417, 1580.986400343289, 1332.0546880511945, 1300.9362737991103, 1149.9652867769764, 952.1308497734575, 883.5801293736224, 859.4346343451606, 835.8200112657086, 392.19437964360236, 351.52788412301834, 275.81467805399296, 252.44468446330583, 233.48423331723407, 207.5503761354091, 205.22399925476032, 196.82566510334598, 157.11480009141323, 134.43587950630138, 130.40504357279286, 67.42464289117544, 60.737692016913805, 55.07266415865966, 51.4064030075671, 49.24346719194254, 45.31168139174949, 41.524035109486626, 40.711579252292104, 39.36842034869893, 38.508004239395575, 29.741876916115014, 3413.2728770801355, 1078.0667875518295, 1023.45961020214, 470.9698870376565, 448.0873903841404, 344.28831777325695, 313.6201640664489, 271.7648385405356, 267.0121891757219, 220.07611104862661, 208.982805593269, 189.87337976261253, 188.79134711821118, 181.68273965204784, 177.36914366692307, 162.90945574605018, 160.95655182635414, 155.53222704538265, 149.26216274830134, 138.55784198951451, 126.61265257978465, 113.50861918539104, 106.37747375387784, 105.27949278251819, 91.96587617275614, 87.08795083533474, 85.7389483028763, 85.35631113531532, 70.44350985242038, 69.12054625345485, 1409.7108117511925, 1301.1892241340634, 1139.8277060832554, 1048.3965978095146, 625.5344625438559, 582.2748153042265, 489.90722874698395, 466.7857074562601, 453.5726718866164, 404.41272041843314, 314.52673665057023, 292.64475008153534, 255.80868432862778, 239.6422801533053, 218.27080963930703, 203.49695203327323, 194.38923772013274, 184.24662824459486, 176.90292274962715, 154.3774698122344, 145.54758206166852, 141.45944988363527, 117.73084060300172, 88.67814180331553, 75.86700558730938, 66.83846620767753, 58.12111212562956, 56.269523533951244, 49.60554619108168, 48.64861133772228, 2277.2666803808274, 833.3745501254587, 804.7906018399341, 630.8835255708393, 558.8374371494873, 541.6032456652173, 382.53444983528107, 370.3421186275274, 317.6916879429245, 302.71975592441504, 299.3271936666337, 276.10131945985535, 258.4993248663957, 255.01817080577848, 253.1347964659142, 212.91105817178428, 207.11934537963455, 206.49674221552567, 173.98993410235573, 144.66867800751916, 144.51909839423158, 141.2650819620889, 138.73243335161797, 111.52115083131724, 90.58907212589004, 85.00372773172936, 82.3359816952688, 81.02939007659491, 72.52614496610468, 64.7758777594023, 2248.8309860319387, 1335.48628324758, 1198.927865379713, 801.8686428760362, 594.2396554025362, 573.0078141983405, 464.1674369907278, 427.4155084773749, 415.64711916673053, 299.7769832511209, 226.5543280620721, 211.77630918727357, 185.05216903850555, 163.43507733033266, 143.34797170654383, 137.4287299231285, 133.75756643566206, 106.78218019420741, 98.96642149254085, 81.90786263688672, 73.0361988013979, 61.8672349589132, 49.469387600146646, 39.1014381036868, 35.89697181117364, 35.081288536591636, 22.788448700787928, 20.417946082285283, 19.170425494498513, 15.35952128703684, 2048.0480915138573, 1199.1010628406298, 1187.3289390087268, 646.1697477768357, 632.7510378842666, 617.123110864864, 585.7840194297279, 371.78772310298916, 319.1082269247912, 309.9437131844464, 219.58167062774385, 176.86892534694306, 154.79487058452017, 140.30096795184315, 128.21995292499338, 124.41288998066916, 123.51232531841146, 112.34172200353056, 100.26216514479968, 100.17828688092925, 74.71259166540527, 60.55617986957811, 56.48029197067802, 46.144271481613565, 23.354246731506727, 21.79270522634672, 17.325781421232005, 14.927755627457572, 11.913203132039813, 4.263125732543194], \"Category\": [\"Default\", \"Default\", \"Default\", \"Default\", \"Default\", \"Default\", \"Default\", \"Default\", \"Default\", \"Default\", \"Default\", \"Default\", \"Default\", \"Default\", \"Default\", \"Default\", \"Default\", \"Default\", \"Default\", \"Default\", \"Default\", \"Default\", \"Default\", \"Default\", \"Default\", \"Default\", \"Default\", \"Default\", \"Default\", \"Default\", \"Topic1\", \"Topic1\", \"Topic1\", \"Topic1\", \"Topic1\", \"Topic1\", \"Topic1\", \"Topic1\", \"Topic1\", \"Topic1\", \"Topic1\", \"Topic1\", \"Topic1\", \"Topic1\", \"Topic1\", \"Topic1\", \"Topic1\", \"Topic1\", \"Topic1\", \"Topic1\", \"Topic1\", \"Topic1\", \"Topic1\", \"Topic1\", \"Topic1\", \"Topic1\", \"Topic1\", \"Topic1\", \"Topic1\", \"Topic1\", \"Topic2\", \"Topic2\", \"Topic2\", \"Topic2\", \"Topic2\", \"Topic2\", \"Topic2\", \"Topic2\", \"Topic2\", \"Topic2\", \"Topic2\", \"Topic2\", \"Topic2\", \"Topic2\", \"Topic2\", \"Topic2\", \"Topic2\", \"Topic2\", \"Topic2\", \"Topic2\", \"Topic2\", \"Topic2\", \"Topic2\", \"Topic2\", \"Topic2\", \"Topic2\", \"Topic2\", \"Topic2\", \"Topic2\", \"Topic2\", \"Topic3\", \"Topic3\", \"Topic3\", \"Topic3\", \"Topic3\", \"Topic3\", \"Topic3\", \"Topic3\", \"Topic3\", \"Topic3\", \"Topic3\", \"Topic3\", \"Topic3\", \"Topic3\", \"Topic3\", \"Topic3\", \"Topic3\", \"Topic3\", \"Topic3\", \"Topic3\", \"Topic3\", \"Topic3\", \"Topic3\", \"Topic3\", \"Topic3\", \"Topic3\", \"Topic3\", \"Topic3\", \"Topic3\", \"Topic3\", \"Topic4\", \"Topic4\", \"Topic4\", \"Topic4\", \"Topic4\", \"Topic4\", \"Topic4\", \"Topic4\", \"Topic4\", \"Topic4\", \"Topic4\", \"Topic4\", \"Topic4\", \"Topic4\", \"Topic4\", \"Topic4\", \"Topic4\", \"Topic4\", \"Topic4\", \"Topic4\", \"Topic4\", \"Topic4\", \"Topic4\", \"Topic4\", \"Topic4\", \"Topic4\", \"Topic4\", \"Topic4\", \"Topic4\", \"Topic4\", \"Topic5\", \"Topic5\", \"Topic5\", \"Topic5\", \"Topic5\", \"Topic5\", \"Topic5\", \"Topic5\", \"Topic5\", \"Topic5\", \"Topic5\", \"Topic5\", \"Topic5\", \"Topic5\", \"Topic5\", \"Topic5\", \"Topic5\", \"Topic5\", \"Topic5\", \"Topic5\", \"Topic5\", \"Topic5\", \"Topic5\", \"Topic5\", \"Topic5\", \"Topic5\", \"Topic5\", \"Topic5\", \"Topic5\", \"Topic5\", \"Topic6\", \"Topic6\", \"Topic6\", \"Topic6\", \"Topic6\", \"Topic6\", \"Topic6\", \"Topic6\", \"Topic6\", \"Topic6\", \"Topic6\", \"Topic6\", \"Topic6\", \"Topic6\", \"Topic6\", \"Topic6\", \"Topic6\", \"Topic6\", \"Topic6\", \"Topic6\", \"Topic6\", \"Topic6\", \"Topic6\", \"Topic6\", \"Topic6\", \"Topic6\", \"Topic6\", \"Topic6\", \"Topic6\", \"Topic6\", \"Topic7\", \"Topic7\", \"Topic7\", \"Topic7\", \"Topic7\", \"Topic7\", \"Topic7\", \"Topic7\", \"Topic7\", \"Topic7\", \"Topic7\", \"Topic7\", \"Topic7\", \"Topic7\", \"Topic7\", \"Topic7\", \"Topic7\", \"Topic7\", \"Topic7\", \"Topic7\", \"Topic7\", \"Topic7\", \"Topic7\", \"Topic7\", \"Topic7\", \"Topic7\", \"Topic7\", \"Topic7\", \"Topic7\", \"Topic7\", \"Topic8\", \"Topic8\", \"Topic8\", \"Topic8\", \"Topic8\", \"Topic8\", \"Topic8\", \"Topic8\", \"Topic8\", \"Topic8\", \"Topic8\", \"Topic8\", \"Topic8\", \"Topic8\", \"Topic8\", \"Topic8\", \"Topic8\", \"Topic8\", \"Topic8\", \"Topic8\", \"Topic8\", \"Topic8\", \"Topic8\", \"Topic8\", \"Topic8\", \"Topic8\", \"Topic8\", \"Topic8\", \"Topic8\", \"Topic8\", \"Topic9\", \"Topic9\", \"Topic9\", \"Topic9\", \"Topic9\", \"Topic9\", \"Topic9\", \"Topic9\", \"Topic9\", \"Topic9\", \"Topic9\", \"Topic9\", \"Topic9\", \"Topic9\", \"Topic9\", \"Topic9\", \"Topic9\", \"Topic9\", \"Topic9\", \"Topic9\", \"Topic9\", \"Topic9\", \"Topic9\", \"Topic9\", \"Topic9\", \"Topic9\", \"Topic9\", \"Topic9\", \"Topic9\", \"Topic9\", \"Topic10\", \"Topic10\", \"Topic10\", \"Topic10\", \"Topic10\", \"Topic10\", \"Topic10\", \"Topic10\", \"Topic10\", \"Topic10\", \"Topic10\", \"Topic10\", \"Topic10\", \"Topic10\", \"Topic10\", \"Topic10\", \"Topic10\", \"Topic10\", \"Topic10\", \"Topic10\", \"Topic10\", \"Topic10\", \"Topic10\", \"Topic10\", \"Topic10\", \"Topic10\", \"Topic10\", \"Topic10\", \"Topic10\", \"Topic10\", \"Topic11\", \"Topic11\", \"Topic11\", \"Topic11\", \"Topic11\", \"Topic11\", \"Topic11\", \"Topic11\", \"Topic11\", \"Topic11\", \"Topic11\", \"Topic11\", \"Topic11\", \"Topic11\", \"Topic11\", \"Topic11\", \"Topic11\", \"Topic11\", \"Topic11\", \"Topic11\", \"Topic11\", \"Topic11\", \"Topic11\", \"Topic11\", \"Topic11\", \"Topic11\", \"Topic11\", \"Topic11\", \"Topic11\", \"Topic11\", \"Topic12\", \"Topic12\", \"Topic12\", \"Topic12\", \"Topic12\", \"Topic12\", \"Topic12\", \"Topic12\", \"Topic12\", \"Topic12\", \"Topic12\", \"Topic12\", \"Topic12\", \"Topic12\", \"Topic12\", \"Topic12\", \"Topic12\", \"Topic12\", \"Topic12\", \"Topic12\", \"Topic12\", \"Topic12\", \"Topic12\", \"Topic12\", \"Topic12\", \"Topic12\", \"Topic12\", \"Topic12\", \"Topic12\", \"Topic12\", \"Topic13\", \"Topic13\", \"Topic13\", \"Topic13\", \"Topic13\", \"Topic13\", \"Topic13\", \"Topic13\", \"Topic13\", \"Topic13\", \"Topic13\", \"Topic13\", \"Topic13\", \"Topic13\", \"Topic13\", \"Topic13\", \"Topic13\", \"Topic13\", \"Topic13\", \"Topic13\", \"Topic13\", \"Topic13\", \"Topic13\", \"Topic13\", \"Topic13\", \"Topic13\", \"Topic13\", \"Topic13\", \"Topic13\", \"Topic13\", \"Topic14\", \"Topic14\", \"Topic14\", \"Topic14\", \"Topic14\", \"Topic14\", \"Topic14\", \"Topic14\", \"Topic14\", \"Topic14\", \"Topic14\", \"Topic14\", \"Topic14\", \"Topic14\", \"Topic14\", \"Topic14\", \"Topic14\", \"Topic14\", \"Topic14\", \"Topic14\", \"Topic14\", \"Topic14\", \"Topic14\", \"Topic14\", \"Topic14\", \"Topic14\", \"Topic14\", \"Topic14\", \"Topic14\", \"Topic14\", \"Topic15\", \"Topic15\", \"Topic15\", \"Topic15\", \"Topic15\", \"Topic15\", \"Topic15\", \"Topic15\", \"Topic15\", \"Topic15\", \"Topic15\", \"Topic15\", \"Topic15\", \"Topic15\", \"Topic15\", \"Topic15\", \"Topic15\", \"Topic15\", \"Topic15\", \"Topic15\", \"Topic15\", \"Topic15\", \"Topic15\", \"Topic15\", \"Topic15\", \"Topic15\", \"Topic15\", \"Topic15\", \"Topic15\", \"Topic15\", \"Topic16\", \"Topic16\", \"Topic16\", \"Topic16\", \"Topic16\", \"Topic16\", \"Topic16\", \"Topic16\", \"Topic16\", \"Topic16\", \"Topic16\", \"Topic16\", \"Topic16\", \"Topic16\", \"Topic16\", \"Topic16\", \"Topic16\", \"Topic16\", \"Topic16\", \"Topic16\", \"Topic16\", \"Topic16\", \"Topic16\", \"Topic16\", \"Topic16\", \"Topic16\", \"Topic16\", \"Topic16\", \"Topic16\", \"Topic16\", \"Topic17\", \"Topic17\", \"Topic17\", \"Topic17\", \"Topic17\", \"Topic17\", \"Topic17\", \"Topic17\", \"Topic17\", \"Topic17\", \"Topic17\", \"Topic17\", \"Topic17\", \"Topic17\", \"Topic17\", \"Topic17\", \"Topic17\", \"Topic17\", \"Topic17\", \"Topic17\", \"Topic17\", \"Topic17\", \"Topic17\", \"Topic17\", \"Topic17\", \"Topic17\", \"Topic17\", \"Topic17\", \"Topic17\", \"Topic17\", \"Topic18\", \"Topic18\", \"Topic18\", \"Topic18\", \"Topic18\", \"Topic18\", \"Topic18\", \"Topic18\", \"Topic18\", \"Topic18\", \"Topic18\", \"Topic18\", \"Topic18\", \"Topic18\", \"Topic18\", \"Topic18\", \"Topic18\", \"Topic18\", \"Topic18\", \"Topic18\", \"Topic18\", \"Topic18\", \"Topic18\", \"Topic18\", \"Topic18\", \"Topic18\", \"Topic18\", \"Topic18\", \"Topic18\", \"Topic18\", \"Topic19\", \"Topic19\", \"Topic19\", \"Topic19\", \"Topic19\", \"Topic19\", \"Topic19\", \"Topic19\", \"Topic19\", \"Topic19\", \"Topic19\", \"Topic19\", \"Topic19\", \"Topic19\", \"Topic19\", \"Topic19\", \"Topic19\", \"Topic19\", \"Topic19\", \"Topic19\", \"Topic19\", \"Topic19\", \"Topic19\", \"Topic19\", \"Topic19\", \"Topic19\", \"Topic19\", \"Topic19\", \"Topic19\", \"Topic19\", \"Topic20\", \"Topic20\", \"Topic20\", \"Topic20\", \"Topic20\", \"Topic20\", \"Topic20\", \"Topic20\", \"Topic20\", \"Topic20\", \"Topic20\", \"Topic20\", \"Topic20\", \"Topic20\", \"Topic20\", \"Topic20\", \"Topic20\", \"Topic20\", \"Topic20\", \"Topic20\", \"Topic20\", \"Topic20\", \"Topic20\", \"Topic20\", \"Topic20\", \"Topic20\", \"Topic20\", \"Topic20\", \"Topic20\", \"Topic20\", \"Topic21\", \"Topic21\", \"Topic21\", \"Topic21\", \"Topic21\", \"Topic21\", \"Topic21\", \"Topic21\", \"Topic21\", \"Topic21\", \"Topic21\", \"Topic21\", \"Topic21\", \"Topic21\", \"Topic21\", \"Topic21\", \"Topic21\", \"Topic21\", \"Topic21\", \"Topic21\", \"Topic21\", \"Topic21\", \"Topic21\", \"Topic21\", \"Topic21\", \"Topic21\", \"Topic21\", \"Topic21\", \"Topic21\", \"Topic21\", \"Topic22\", \"Topic22\", \"Topic22\", \"Topic22\", \"Topic22\", \"Topic22\", \"Topic22\", \"Topic22\", \"Topic22\", \"Topic22\", \"Topic22\", \"Topic22\", \"Topic22\", \"Topic22\", \"Topic22\", \"Topic22\", \"Topic22\", \"Topic22\", \"Topic22\", \"Topic22\", \"Topic22\", \"Topic22\", \"Topic22\", \"Topic22\", \"Topic22\", \"Topic22\", \"Topic22\", \"Topic22\", \"Topic22\", \"Topic22\", \"Topic23\", \"Topic23\", \"Topic23\", \"Topic23\", \"Topic23\", \"Topic23\", \"Topic23\", \"Topic23\", \"Topic23\", \"Topic23\", \"Topic23\", \"Topic23\", \"Topic23\", \"Topic23\", \"Topic23\", \"Topic23\", \"Topic23\", \"Topic23\", \"Topic23\", \"Topic23\", \"Topic23\", \"Topic23\", \"Topic23\", \"Topic23\", \"Topic23\", \"Topic23\", \"Topic23\", \"Topic23\", \"Topic23\", \"Topic23\", \"Topic24\", \"Topic24\", \"Topic24\", \"Topic24\", \"Topic24\", \"Topic24\", \"Topic24\", \"Topic24\", \"Topic24\", \"Topic24\", \"Topic24\", \"Topic24\", \"Topic24\", \"Topic24\", \"Topic24\", \"Topic24\", \"Topic24\", \"Topic24\", \"Topic24\", \"Topic24\", \"Topic24\", \"Topic24\", \"Topic24\", \"Topic24\", \"Topic24\", \"Topic24\", \"Topic24\", \"Topic24\", \"Topic24\", \"Topic24\", \"Topic25\", \"Topic25\", \"Topic25\", \"Topic25\", \"Topic25\", \"Topic25\", \"Topic25\", \"Topic25\", \"Topic25\", \"Topic25\", \"Topic25\", \"Topic25\", \"Topic25\", \"Topic25\", \"Topic25\", \"Topic25\", \"Topic25\", \"Topic25\", \"Topic25\", \"Topic25\", \"Topic25\", \"Topic25\", \"Topic25\", \"Topic25\", \"Topic25\", \"Topic25\", \"Topic25\", \"Topic25\", \"Topic25\", \"Topic25\", \"Topic26\", \"Topic26\", \"Topic26\", \"Topic26\", \"Topic26\", \"Topic26\", \"Topic26\", \"Topic26\", \"Topic26\", \"Topic26\", \"Topic26\", \"Topic26\", \"Topic26\", \"Topic26\", \"Topic26\", \"Topic26\", \"Topic26\", \"Topic26\", \"Topic26\", \"Topic26\", \"Topic26\", \"Topic26\", \"Topic26\", \"Topic26\", \"Topic26\", \"Topic26\", \"Topic26\", \"Topic26\", \"Topic26\", \"Topic26\", \"Topic27\", \"Topic27\", \"Topic27\", \"Topic27\", \"Topic27\", \"Topic27\", \"Topic27\", \"Topic27\", \"Topic27\", \"Topic27\", \"Topic27\", \"Topic27\", \"Topic27\", \"Topic27\", \"Topic27\", \"Topic27\", \"Topic27\", \"Topic27\", \"Topic27\", \"Topic27\", \"Topic27\", \"Topic27\", \"Topic27\", \"Topic27\", \"Topic27\", \"Topic27\", \"Topic27\", \"Topic27\", \"Topic27\", \"Topic27\", \"Topic28\", \"Topic28\", \"Topic28\", \"Topic28\", \"Topic28\", \"Topic28\", \"Topic28\", \"Topic28\", \"Topic28\", \"Topic28\", \"Topic28\", \"Topic28\", \"Topic28\", \"Topic28\", \"Topic28\", \"Topic28\", \"Topic28\", \"Topic28\", \"Topic28\", \"Topic28\", \"Topic28\", \"Topic28\", \"Topic28\", \"Topic28\", \"Topic28\", \"Topic28\", \"Topic28\", \"Topic28\", \"Topic28\", \"Topic28\", \"Topic29\", \"Topic29\", \"Topic29\", \"Topic29\", \"Topic29\", \"Topic29\", \"Topic29\", \"Topic29\", \"Topic29\", \"Topic29\", \"Topic29\", \"Topic29\", \"Topic29\", \"Topic29\", \"Topic29\", \"Topic29\", \"Topic29\", \"Topic29\", \"Topic29\", \"Topic29\", \"Topic29\", \"Topic29\", \"Topic29\", \"Topic29\", \"Topic29\", \"Topic29\", \"Topic29\", \"Topic29\", \"Topic29\", \"Topic29\", \"Topic30\", \"Topic30\", \"Topic30\", \"Topic30\", \"Topic30\", \"Topic30\", \"Topic30\", \"Topic30\", \"Topic30\", \"Topic30\", \"Topic30\", \"Topic30\", \"Topic30\", \"Topic30\", \"Topic30\", \"Topic30\", \"Topic30\", \"Topic30\", \"Topic30\", \"Topic30\", \"Topic30\", \"Topic30\", \"Topic30\", \"Topic30\", \"Topic30\", \"Topic30\", \"Topic30\", \"Topic30\", \"Topic30\", \"Topic30\", \"Topic31\", \"Topic31\", \"Topic31\", \"Topic31\", \"Topic31\", \"Topic31\", \"Topic31\", \"Topic31\", \"Topic31\", \"Topic31\", \"Topic31\", \"Topic31\", \"Topic31\", \"Topic31\", \"Topic31\", \"Topic31\", \"Topic31\", \"Topic31\", \"Topic31\", \"Topic31\", \"Topic31\", \"Topic31\", \"Topic31\", \"Topic31\", \"Topic31\", \"Topic31\", \"Topic31\", \"Topic31\", \"Topic31\", \"Topic31\", \"Topic32\", \"Topic32\", \"Topic32\", \"Topic32\", \"Topic32\", \"Topic32\", \"Topic32\", \"Topic32\", \"Topic32\", \"Topic32\", \"Topic32\", \"Topic32\", \"Topic32\", \"Topic32\", \"Topic32\", \"Topic32\", \"Topic32\", \"Topic32\", \"Topic32\", \"Topic32\", \"Topic32\", \"Topic32\", \"Topic32\", \"Topic32\", \"Topic32\", \"Topic32\", \"Topic32\", \"Topic32\", \"Topic32\", \"Topic32\", \"Topic33\", \"Topic33\", \"Topic33\", \"Topic33\", \"Topic33\", \"Topic33\", \"Topic33\", \"Topic33\", \"Topic33\", \"Topic33\", \"Topic33\", \"Topic33\", \"Topic33\", \"Topic33\", \"Topic33\", \"Topic33\", \"Topic33\", \"Topic33\", \"Topic33\", \"Topic33\", \"Topic33\", \"Topic33\", \"Topic33\", \"Topic33\", \"Topic33\", \"Topic33\", \"Topic33\", \"Topic33\", \"Topic33\", \"Topic33\", \"Topic34\", \"Topic34\", \"Topic34\", \"Topic34\", \"Topic34\", \"Topic34\", \"Topic34\", \"Topic34\", \"Topic34\", \"Topic34\", \"Topic34\", \"Topic34\", \"Topic34\", \"Topic34\", \"Topic34\", \"Topic34\", \"Topic34\", \"Topic34\", \"Topic34\", \"Topic34\", \"Topic34\", \"Topic34\", \"Topic34\", \"Topic34\", \"Topic34\", \"Topic34\", \"Topic34\", \"Topic34\", \"Topic34\", \"Topic34\", \"Topic35\", \"Topic35\", \"Topic35\", \"Topic35\", \"Topic35\", \"Topic35\", \"Topic35\", \"Topic35\", \"Topic35\", \"Topic35\", \"Topic35\", \"Topic35\", \"Topic35\", \"Topic35\", \"Topic35\", \"Topic35\", \"Topic35\", \"Topic35\", \"Topic35\", \"Topic35\", \"Topic35\", \"Topic35\", \"Topic35\", \"Topic35\", \"Topic35\", \"Topic35\", \"Topic35\", \"Topic35\", \"Topic35\", \"Topic35\", \"Topic36\", \"Topic36\", \"Topic36\", \"Topic36\", \"Topic36\", \"Topic36\", \"Topic36\", \"Topic36\", \"Topic36\", \"Topic36\", \"Topic36\", \"Topic36\", \"Topic36\", \"Topic36\", \"Topic36\", \"Topic36\", \"Topic36\", \"Topic36\", \"Topic36\", \"Topic36\", \"Topic36\", \"Topic36\", \"Topic36\", \"Topic36\", \"Topic36\", \"Topic36\", \"Topic36\", \"Topic36\", \"Topic36\", \"Topic36\", \"Topic37\", \"Topic37\", \"Topic37\", \"Topic37\", \"Topic37\", \"Topic37\", \"Topic37\", \"Topic37\", \"Topic37\", \"Topic37\", \"Topic37\", \"Topic37\", \"Topic37\", \"Topic37\", \"Topic37\", \"Topic37\", \"Topic37\", \"Topic37\", \"Topic37\", \"Topic37\", \"Topic37\", \"Topic37\", \"Topic37\", \"Topic37\", \"Topic37\", \"Topic37\", \"Topic37\", \"Topic37\", \"Topic37\", \"Topic37\", \"Topic38\", \"Topic38\", \"Topic38\", \"Topic38\", \"Topic38\", \"Topic38\", \"Topic38\", \"Topic38\", \"Topic38\", \"Topic38\", \"Topic38\", \"Topic38\", \"Topic38\", \"Topic38\", \"Topic38\", \"Topic38\", \"Topic38\", \"Topic38\", \"Topic38\", \"Topic38\", \"Topic38\", \"Topic38\", \"Topic38\", \"Topic38\", \"Topic38\", \"Topic38\", \"Topic38\", \"Topic38\", \"Topic38\", \"Topic38\", \"Topic39\", \"Topic39\", \"Topic39\", \"Topic39\", \"Topic39\", \"Topic39\", \"Topic39\", \"Topic39\", \"Topic39\", \"Topic39\", \"Topic39\", \"Topic39\", \"Topic39\", \"Topic39\", \"Topic39\", \"Topic39\", \"Topic39\", \"Topic39\", \"Topic39\", \"Topic39\", \"Topic39\", \"Topic39\", \"Topic39\", \"Topic39\", \"Topic39\", \"Topic39\", \"Topic39\", \"Topic39\", \"Topic39\", \"Topic39\", \"Topic40\", \"Topic40\", \"Topic40\", \"Topic40\", \"Topic40\", \"Topic40\", \"Topic40\", \"Topic40\", \"Topic40\", \"Topic40\", \"Topic40\", \"Topic40\", \"Topic40\", \"Topic40\", \"Topic40\", \"Topic40\", \"Topic40\", \"Topic40\", \"Topic40\", \"Topic40\", \"Topic40\", \"Topic40\", \"Topic40\", \"Topic40\", \"Topic40\", \"Topic40\", \"Topic40\", \"Topic40\", \"Topic40\", \"Topic40\", \"Topic41\", \"Topic41\", \"Topic41\", \"Topic41\", \"Topic41\", \"Topic41\", \"Topic41\", \"Topic41\", \"Topic41\", \"Topic41\", \"Topic41\", \"Topic41\", \"Topic41\", \"Topic41\", \"Topic41\", \"Topic41\", \"Topic41\", \"Topic41\", \"Topic41\", \"Topic41\", \"Topic41\", \"Topic41\", \"Topic41\", \"Topic41\", \"Topic41\", \"Topic41\", \"Topic41\", \"Topic41\", \"Topic41\", \"Topic41\", \"Topic42\", \"Topic42\", \"Topic42\", \"Topic42\", \"Topic42\", \"Topic42\", \"Topic42\", \"Topic42\", \"Topic42\", \"Topic42\", \"Topic42\", \"Topic42\", \"Topic42\", \"Topic42\", \"Topic42\", \"Topic42\", \"Topic42\", \"Topic42\", \"Topic42\", \"Topic42\", \"Topic42\", \"Topic42\", \"Topic42\", \"Topic42\", \"Topic42\", \"Topic42\", \"Topic42\", \"Topic42\", \"Topic42\", \"Topic42\", \"Topic43\", \"Topic43\", \"Topic43\", \"Topic43\", \"Topic43\", \"Topic43\", \"Topic43\", \"Topic43\", \"Topic43\", \"Topic43\", \"Topic43\", \"Topic43\", \"Topic43\", \"Topic43\", \"Topic43\", \"Topic43\", \"Topic43\", \"Topic43\", \"Topic43\", \"Topic43\", \"Topic43\", \"Topic43\", \"Topic43\", \"Topic43\", \"Topic43\", \"Topic43\", \"Topic43\", \"Topic43\", \"Topic43\", \"Topic43\", \"Topic44\", \"Topic44\", \"Topic44\", \"Topic44\", \"Topic44\", \"Topic44\", \"Topic44\", \"Topic44\", \"Topic44\", \"Topic44\", \"Topic44\", \"Topic44\", \"Topic44\", \"Topic44\", \"Topic44\", \"Topic44\", \"Topic44\", \"Topic44\", \"Topic44\", \"Topic44\", \"Topic44\", \"Topic44\", \"Topic44\", \"Topic44\", \"Topic44\", \"Topic44\", \"Topic44\", \"Topic44\", \"Topic44\", \"Topic44\", \"Topic45\", \"Topic45\", \"Topic45\", \"Topic45\", \"Topic45\", \"Topic45\", \"Topic45\", \"Topic45\", \"Topic45\", \"Topic45\", \"Topic45\", \"Topic45\", \"Topic45\", \"Topic45\", \"Topic45\", \"Topic45\", \"Topic45\", \"Topic45\", \"Topic45\", \"Topic45\", \"Topic45\", \"Topic45\", \"Topic45\", \"Topic45\", \"Topic45\", \"Topic45\", \"Topic45\", \"Topic45\", \"Topic45\", \"Topic45\", \"Topic46\", \"Topic46\", \"Topic46\", \"Topic46\", \"Topic46\", \"Topic46\", \"Topic46\", \"Topic46\", \"Topic46\", \"Topic46\", \"Topic46\", \"Topic46\", \"Topic46\", \"Topic46\", \"Topic46\", \"Topic46\", \"Topic46\", \"Topic46\", \"Topic46\", \"Topic46\", \"Topic46\", \"Topic46\", \"Topic46\", \"Topic46\", \"Topic46\", \"Topic46\", \"Topic46\", \"Topic46\", \"Topic46\", \"Topic46\", \"Topic47\", \"Topic47\", \"Topic47\", \"Topic47\", \"Topic47\", \"Topic47\", \"Topic47\", \"Topic47\", \"Topic47\", \"Topic47\", \"Topic47\", \"Topic47\", \"Topic47\", \"Topic47\", \"Topic47\", \"Topic47\", \"Topic47\", \"Topic47\", \"Topic47\", \"Topic47\", \"Topic47\", \"Topic47\", \"Topic47\", \"Topic47\", \"Topic47\", \"Topic47\", \"Topic47\", \"Topic47\", \"Topic47\", \"Topic47\", \"Topic48\", \"Topic48\", \"Topic48\", \"Topic48\", \"Topic48\", \"Topic48\", \"Topic48\", \"Topic48\", \"Topic48\", \"Topic48\", \"Topic48\", \"Topic48\", \"Topic48\", \"Topic48\", \"Topic48\", \"Topic48\", \"Topic48\", \"Topic48\", \"Topic48\", \"Topic48\", \"Topic48\", \"Topic48\", \"Topic48\", \"Topic48\", \"Topic48\", \"Topic48\", \"Topic48\", \"Topic48\", \"Topic48\", \"Topic48\", \"Topic49\", \"Topic49\", \"Topic49\", \"Topic49\", \"Topic49\", \"Topic49\", \"Topic49\", \"Topic49\", \"Topic49\", \"Topic49\", \"Topic49\", \"Topic49\", \"Topic49\", \"Topic49\", \"Topic49\", \"Topic49\", \"Topic49\", \"Topic49\", \"Topic49\", \"Topic49\", \"Topic49\", \"Topic49\", \"Topic49\", \"Topic49\", \"Topic49\", \"Topic49\", \"Topic49\", \"Topic49\", \"Topic49\", \"Topic49\", \"Topic50\", \"Topic50\", \"Topic50\", \"Topic50\", \"Topic50\", \"Topic50\", \"Topic50\", \"Topic50\", \"Topic50\", \"Topic50\", \"Topic50\", \"Topic50\", \"Topic50\", \"Topic50\", \"Topic50\", \"Topic50\", \"Topic50\", \"Topic50\", \"Topic50\", \"Topic50\", \"Topic50\", \"Topic50\", \"Topic50\", \"Topic50\", \"Topic50\", \"Topic50\", \"Topic50\", \"Topic50\", \"Topic50\", \"Topic50\", \"Topic51\", \"Topic51\", \"Topic51\", \"Topic51\", \"Topic51\", \"Topic51\", \"Topic51\", \"Topic51\", \"Topic51\", \"Topic51\", \"Topic51\", \"Topic51\", \"Topic51\", \"Topic51\", \"Topic51\", \"Topic51\", \"Topic51\", \"Topic51\", \"Topic51\", \"Topic51\", \"Topic51\", \"Topic51\", \"Topic51\", \"Topic51\", \"Topic51\", \"Topic51\", \"Topic51\", \"Topic51\", \"Topic51\", \"Topic51\", \"Topic52\", \"Topic52\", \"Topic52\", \"Topic52\", \"Topic52\", \"Topic52\", \"Topic52\", \"Topic52\", \"Topic52\", \"Topic52\", \"Topic52\", \"Topic52\", \"Topic52\", \"Topic52\", \"Topic52\", \"Topic52\", \"Topic52\", \"Topic52\", \"Topic52\", \"Topic52\", \"Topic52\", \"Topic52\", \"Topic52\", \"Topic52\", \"Topic52\", \"Topic52\", \"Topic52\", \"Topic52\", \"Topic52\", \"Topic52\", \"Topic53\", \"Topic53\", \"Topic53\", \"Topic53\", \"Topic53\", \"Topic53\", \"Topic53\", \"Topic53\", \"Topic53\", \"Topic53\", \"Topic53\", \"Topic53\", \"Topic53\", \"Topic53\", \"Topic53\", \"Topic53\", \"Topic53\", \"Topic53\", \"Topic53\", \"Topic53\", \"Topic53\", \"Topic53\", \"Topic53\", \"Topic53\", \"Topic53\", \"Topic53\", \"Topic53\", \"Topic53\", \"Topic53\", \"Topic53\", \"Topic54\", \"Topic54\", \"Topic54\", \"Topic54\", \"Topic54\", \"Topic54\", \"Topic54\", \"Topic54\", \"Topic54\", \"Topic54\", \"Topic54\", \"Topic54\", \"Topic54\", \"Topic54\", \"Topic54\", \"Topic54\", \"Topic54\", \"Topic54\", \"Topic54\", \"Topic54\", \"Topic54\", \"Topic54\", \"Topic54\", \"Topic54\", \"Topic54\", \"Topic54\", \"Topic54\", \"Topic54\", \"Topic54\", \"Topic54\", \"Topic55\", \"Topic55\", \"Topic55\", \"Topic55\", \"Topic55\", \"Topic55\", \"Topic55\", \"Topic55\", \"Topic55\", \"Topic55\", \"Topic55\", \"Topic55\", \"Topic55\", \"Topic55\", \"Topic55\", \"Topic55\", \"Topic55\", \"Topic55\", \"Topic55\", \"Topic55\", \"Topic55\", \"Topic55\", \"Topic55\", \"Topic55\", \"Topic55\", \"Topic55\", \"Topic55\", \"Topic55\", \"Topic55\", \"Topic55\", \"Topic56\", \"Topic56\", \"Topic56\", \"Topic56\", \"Topic56\", \"Topic56\", \"Topic56\", \"Topic56\", \"Topic56\", \"Topic56\", \"Topic56\", \"Topic56\", \"Topic56\", \"Topic56\", \"Topic56\", \"Topic56\", \"Topic56\", \"Topic56\", \"Topic56\", \"Topic56\", \"Topic56\", \"Topic56\", \"Topic56\", \"Topic56\", \"Topic56\", \"Topic56\", \"Topic56\", \"Topic56\", \"Topic56\", \"Topic56\", \"Topic57\", \"Topic57\", \"Topic57\", \"Topic57\", \"Topic57\", \"Topic57\", \"Topic57\", \"Topic57\", \"Topic57\", \"Topic57\", \"Topic57\", \"Topic57\", \"Topic57\", \"Topic57\", \"Topic57\", \"Topic57\", \"Topic57\", \"Topic57\", \"Topic57\", \"Topic57\", \"Topic57\", \"Topic57\", \"Topic57\", \"Topic57\", \"Topic57\", \"Topic57\", \"Topic57\", \"Topic57\", \"Topic57\", \"Topic57\", \"Topic58\", \"Topic58\", \"Topic58\", \"Topic58\", \"Topic58\", \"Topic58\", \"Topic58\", \"Topic58\", \"Topic58\", \"Topic58\", \"Topic58\", \"Topic58\", \"Topic58\", \"Topic58\", \"Topic58\", \"Topic58\", \"Topic58\", \"Topic58\", \"Topic58\", \"Topic58\", \"Topic58\", \"Topic58\", \"Topic58\", \"Topic58\", \"Topic58\", \"Topic58\", \"Topic58\", \"Topic58\", \"Topic58\", \"Topic58\", \"Topic59\", \"Topic59\", \"Topic59\", \"Topic59\", \"Topic59\", \"Topic59\", \"Topic59\", \"Topic59\", \"Topic59\", \"Topic59\", \"Topic59\", \"Topic59\", \"Topic59\", \"Topic59\", \"Topic59\", \"Topic59\", \"Topic59\", \"Topic59\", \"Topic59\", \"Topic59\", \"Topic59\", \"Topic59\", \"Topic59\", \"Topic59\", \"Topic59\", \"Topic59\", \"Topic59\", \"Topic59\", \"Topic59\", \"Topic59\", \"Topic60\", \"Topic60\", \"Topic60\", \"Topic60\", \"Topic60\", \"Topic60\", \"Topic60\", \"Topic60\", \"Topic60\", \"Topic60\", \"Topic60\", \"Topic60\", \"Topic60\", \"Topic60\", \"Topic60\", \"Topic60\", \"Topic60\", \"Topic60\", \"Topic60\", \"Topic60\", \"Topic60\", \"Topic60\", \"Topic60\", \"Topic60\", \"Topic60\", \"Topic60\", \"Topic60\", \"Topic60\", \"Topic60\", \"Topic60\", \"Topic61\", \"Topic61\", \"Topic61\", \"Topic61\", \"Topic61\", \"Topic61\", \"Topic61\", \"Topic61\", \"Topic61\", \"Topic61\", \"Topic61\", \"Topic61\", \"Topic61\", \"Topic61\", \"Topic61\", \"Topic61\", \"Topic61\", \"Topic61\", \"Topic61\", \"Topic61\", \"Topic61\", \"Topic61\", \"Topic61\", \"Topic61\", \"Topic61\", \"Topic61\", \"Topic61\", \"Topic61\", \"Topic61\", \"Topic61\", \"Topic62\", \"Topic62\", \"Topic62\", \"Topic62\", \"Topic62\", \"Topic62\", \"Topic62\", \"Topic62\", \"Topic62\", \"Topic62\", \"Topic62\", \"Topic62\", \"Topic62\", \"Topic62\", \"Topic62\", \"Topic62\", \"Topic62\", \"Topic62\", \"Topic62\", \"Topic62\", \"Topic62\", \"Topic62\", \"Topic62\", \"Topic62\", \"Topic62\", \"Topic62\", \"Topic62\", \"Topic62\", \"Topic62\", \"Topic62\"], \"logprob\": [30.0, 29.0, 28.0, 27.0, 26.0, 25.0, 24.0, 23.0, 22.0, 21.0, 20.0, 19.0, 18.0, 17.0, 16.0, 15.0, 14.0, 13.0, 12.0, 11.0, 10.0, 9.0, 8.0, 7.0, 6.0, 5.0, 4.0, 3.0, 2.0, 1.0, -0.1541, -3.7911, -4.2316, -4.8519, -5.0628, -5.2794, -5.2801, -5.4237, -5.4318, -5.4454, -5.5222, -5.6575, -5.734, -5.7864, -6.0105, -6.0396, -6.056, -6.0604, -6.134, -6.1625, -6.2273, -6.2842, -6.2987, -6.3576, -6.6118, -6.6323, -6.6336, -6.635, -6.7063, -6.7533, -1.6045, -1.9747, -2.3091, -2.5276, -2.814, -3.0878, -3.1298, -3.2849, -3.4277, -3.5178, -3.5656, -4.0194, -4.08, -4.3879, -4.5231, -4.8235, -5.0316, -5.0358, -5.1095, -5.1848, -5.2014, -5.2385, -5.3296, -5.4666, -5.5409, -5.6281, -5.6923, -5.7715, -5.8046, -5.9987, -0.4255, -3.3121, -3.3616, -3.5725, -4.0056, -4.0058, -4.0195, -4.3853, -4.4594, -4.6026, -4.61, -4.632, -4.761, -4.7823, -4.8954, -4.9104, -4.9462, -4.9748, -5.2096, -5.3808, -5.3967, -5.4139, -5.4595, -5.4677, -5.6116, -5.6208, -5.8611, -5.9364, -6.0156, -6.1821, -1.4629, -1.5752, -1.7745, -3.0068, -3.1618, -3.5436, -3.6767, -3.7934, -4.0194, -4.0725, -4.1628, -4.412, -4.4984, -4.5382, -4.5463, -4.8056, -4.8794, -4.937, -4.9801, -5.2819, -5.4169, -5.4248, -5.4365, -5.4925, -5.5804, -5.6262, -5.7535, -5.8033, -6.0913, -6.2514, -0.8682, -1.872, -2.9209, -3.0763, -3.1643, -3.332, -3.4828, -3.6258, -4.1291, -4.1364, -4.17, -4.4405, -4.465, -4.5103, -4.7213, -5.1239, -5.156, -5.1591, -5.56, -5.8079, -5.821, -5.8539, -6.4298, -6.4808, -6.6463, -6.7983, -7.1897, -7.5575, -8.7966, -9.9762, -1.0002, -1.7466, -2.7315, -3.2206, -3.2362, -4.0046, -4.1239, -4.1305, -4.1313, -4.1332, -4.1481, -4.1984, -4.2318, -4.2601, -4.2741, -4.3041, -4.3749, -4.6807, -4.8794, -5.0599, -5.1233, -5.1889, -5.3935, -5.4772, -5.6709, -5.8296, -5.9101, -6.189, -6.2029, -6.2955, -2.4454, -2.6316, -2.7326, -2.7895, -2.8702, -2.8721, -2.8766, -3.0178, -3.2685, -3.3406, -3.3902, -3.4351, -3.5361, -3.5728, -3.5739, -3.6253, -3.6341, -3.7475, -4.3427, -4.4031, -4.4766, -4.4806, -4.4862, -4.5499, -4.6505, -4.7958, -4.8361, -5.161, -5.3653, -5.4719, -0.9314, -2.5737, -2.5881, -2.8643, -3.0837, -3.1174, -3.1195, -3.71, -3.8115, -4.0397, -4.2321, -4.2509, -4.251, -4.2841, -4.5441, -4.8089, -4.9495, -5.1295, -5.1838, -5.2546, -5.3822, -5.457, -5.7679, -5.7882, -5.8217, -5.864, -5.9282, -6.0125, -6.1152, -6.1232, -1.36, -1.7491, -2.5932, -3.2216, -3.2669, -3.306, -3.4098, -3.4537, -3.4901, -3.5737, -3.6331, -3.7104, -3.8969, -3.9594, -4.0326, -4.0672, -4.3555, -4.5279, -4.6665, -4.7512, -5.2545, -5.3076, -5.6482, -5.7387, -5.7581, -5.8554, -5.9269, -6.1582, -6.549, -7.2508, -1.9753, -2.576, -2.6254, -2.6609, -2.8937, -2.9944, -3.1134, -3.1413, -3.1779, -3.2923, -3.5302, -3.5564, -3.5704, -3.684, -4.012, -4.055, -4.1336, -4.1731, -4.2268, -4.2568, -4.3081, -4.3776, -4.4262, -4.7101, -5.0652, -5.2286, -5.2879, -5.4433, -5.5729, -5.6971, -1.6729, -2.5609, -2.7891, -2.9142, -2.9463, -3.0684, -3.2926, -3.2951, -3.4144, -3.4894, -3.5657, -3.6055, -3.6239, -3.9985, -4.0708, -4.1181, -4.1914, -4.2379, -4.3909, -4.4784, -4.5185, -4.5805, -4.5941, -4.8338, -4.8412, -4.9613, -5.0744, -5.2857, -5.3337, -5.4697, -1.3779, -2.139, -2.4371, -3.0193, -3.0352, -3.1132, -3.1386, -3.1717, -3.5032, -3.5495, -3.6888, -4.0202, -4.0381, -4.1173, -4.3656, -4.5253, -4.6904, -4.7167, -4.8332, -4.9216, -4.9552, -5.044, -5.0708, -5.1266, -5.1611, -5.2085, -5.6989, -6.0137, -6.083, -6.1824, -1.6679, -1.863, -2.3835, -2.544, -2.8356, -2.9631, -3.2775, -3.3312, -3.4578, -3.8044, -4.0154, -4.2407, -4.4002, -4.5172, -4.5285, -4.5391, -4.657, -4.6899, -4.6985, -4.9059, -4.9127, -4.9243, -5.2367, -5.4138, -5.5893, -5.7576, -5.7912, -5.8415, -5.9284, -5.9517, -1.2442, -1.542, -2.3854, -2.7224, -3.1636, -3.6942, -3.9331, -4.006, -4.1048, -4.2202, -4.2578, -4.2842, -4.2958, -4.6014, -4.696, -4.7935, -4.8551, -4.8741, -4.8801, -4.9601, -4.9771, -5.3311, -5.4188, -5.4913, -5.8882, -6.0909, -6.3157, -6.3999, -6.4322, -6.7478, -1.0684, -1.522, -2.9383, -3.2031, -3.263, -3.3165, -3.4269, -3.946, -4.0916, -4.2326, -4.3404, -4.4882, -4.5521, -4.6618, -4.6885, -4.7954, -4.8101, -5.0628, -5.109, -5.1626, -5.2233, -5.2533, -5.3488, -5.4038, -5.6837, -5.7639, -6.0569, -6.2772, -6.301, -6.3495, -2.0828, -2.1914, -2.2342, -2.3465, -2.4183, -2.7951, -2.9857, -3.0042, -3.3847, -4.0707, -4.0964, -4.1183, -4.2296, -4.5768, -4.6619, -4.6648, -4.6674, -4.7006, -4.8111, -4.8486, -4.9107, -5.0789, -5.2748, -5.3765, -5.4375, -5.4808, -5.6622, -5.7979, -5.8241, -5.9383, -1.3902, -1.6298, -2.53, -3.2787, -3.5453, -3.5602, -3.5969, -3.7272, -3.8013, -3.8056, -3.8586, -3.9079, -3.9269, -4.0002, -4.2981, -4.4571, -4.4781, -4.4801, -4.494, -4.5691, -4.6152, -4.81, -4.9493, -5.0555, -5.1007, -5.151, -5.1807, -5.8283, -6.3562, -6.4598, -1.6267, -2.3062, -2.7416, -2.7593, -2.9378, -3.248, -3.4509, -3.4957, -3.5289, -3.5305, -3.6625, -3.7135, -3.9428, -3.9821, -4.0822, -4.0887, -4.1044, -4.2049, -4.2081, -4.3638, -4.4042, -4.4312, -4.4941, -4.5447, -4.6566, -4.8802, -4.9501, -5.0579, -5.2582, -5.2889, -1.9454, -2.0505, -2.6177, -2.916, -3.2603, -3.3355, -3.4795, -3.4796, -3.4954, -3.5197, -3.6365, -3.6402, -3.7728, -3.8066, -3.8241, -3.861, -3.8839, -3.977, -4.0635, -4.0977, -4.2206, -4.5784, -4.6543, -4.6694, -4.7166, -4.7974, -4.902, -4.9055, -4.9249, -5.1256, -1.8163, -2.4759, -2.5668, -2.9796, -3.0707, -3.1296, -3.1665, -3.2503, -3.3364, -3.617, -3.7192, -3.7363, -3.8013, -3.9344, -4.0236, -4.0395, -4.1092, -4.1544, -4.1631, -4.2421, -4.4829, -4.4854, -4.5049, -4.5655, -4.6515, -4.6575, -4.7111, -4.7327, -4.9458, -5.1326, -1.7093, -2.1433, -2.5559, -2.9146, -2.9324, -3.066, -3.157, -3.174, -3.422, -3.6176, -3.6847, -3.8641, -4.056, -4.0943, -4.1285, -4.1919, -4.2005, -4.3148, -4.4342, -4.5084, -4.6434, -4.7585, -4.7991, -4.9428, -5.0564, -5.2827, -5.3811, -5.4248, -5.5046, -5.5457, -1.7689, -2.018, -2.6052, -3.1787, -3.2623, -3.3169, -3.3584, -3.362, -3.456, -3.5925, -3.812, -3.8251, -3.8765, -3.9087, -4.193, -4.2505, -4.2858, -4.2983, -4.3367, -4.3798, -4.482, -4.5346, -4.5464, -4.6793, -4.6913, -4.7183, -4.8044, -5.163, -5.3115, -5.3437, -2.1675, -2.5264, -2.53, -2.9346, -2.9976, -3.0674, -3.0882, -3.1286, -3.3923, -3.4601, -3.513, -3.5292, -3.5482, -3.6288, -3.685, -4.0452, -4.0913, -4.1511, -4.1965, -4.4814, -4.5382, -4.5683, -4.5958, -4.5977, -4.637, -4.6648, -4.6926, -4.9139, -4.963, -5.0345, -2.19, -2.6532, -2.841, -2.8737, -3.13, -3.1567, -3.1634, -3.2201, -3.2249, -3.231, -3.243, -3.4197, -3.5453, -3.7656, -3.9411, -3.9963, -4.03, -4.1912, -4.3501, -4.4305, -4.4911, -4.5522, -4.6509, -4.6603, -4.7, -4.7004, -4.8259, -4.8314, -4.8922, -4.8971, -2.2463, -2.2879, -2.6312, -2.6711, -2.8889, -3.0446, -3.1907, -3.2217, -3.2956, -3.354, -3.4718, -3.5486, -3.6275, -3.9176, -3.9589, -4.0537, -4.1016, -4.2509, -4.3519, -4.4073, -4.6278, -4.6711, -4.8303, -4.8436, -5.0064, -5.0553, -5.0735, -5.0922, -5.157, -5.2157, -1.343, -2.2533, -2.3069, -2.4968, -3.2182, -3.4255, -3.5495, -3.6236, -3.6694, -3.9278, -4.004, -4.0396, -4.0795, -4.1898, -4.4065, -4.5773, -4.6404, -4.664, -4.6861, -4.7599, -4.968, -4.9953, -5.0628, -5.1513, -5.188, -5.1894, -5.3824, -5.5827, -5.6598, -5.9174, -2.0179, -2.1833, -2.2079, -2.3969, -2.6164, -2.7044, -2.9541, -3.2237, -3.2992, -3.4471, -3.8774, -4.0558, -4.54, -4.6246, -4.6415, -4.7197, -4.7744, -4.8026, -5.032, -5.0924, -5.2192, -5.2788, -5.5721, -5.6357, -5.6459, -5.9138, -5.9759, -6.286, -6.3885, -6.4032, -1.5611, -2.5876, -2.6805, -2.8426, -2.98, -3.0749, -3.3229, -3.5473, -3.5814, -3.6617, -3.7144, -3.7471, -3.8109, -4.066, -4.1586, -4.2401, -4.2448, -4.4716, -4.4916, -4.6328, -4.753, -4.8298, -4.8809, -4.8864, -4.9896, -5.0736, -5.1017, -5.2046, -5.2073, -5.242, -1.2248, -2.0892, -2.8208, -3.1283, -3.1464, -3.4023, -3.4549, -3.4565, -3.7791, -3.8284, -3.8588, -3.9839, -4.0281, -4.0402, -4.0609, -4.3513, -4.4948, -4.5155, -4.6841, -4.7809, -4.8768, -4.8771, -4.8847, -4.894, -4.957, -5.0087, -5.2127, -5.2188, -5.4725, -5.6212, -1.801, -1.9861, -1.9865, -2.5621, -2.9784, -3.0991, -3.2392, -3.3283, -3.8649, -3.8707, -4.1755, -4.3256, -4.3265, -4.3736, -4.4648, -4.4813, -4.4915, -4.5264, -4.5275, -4.6823, -4.7406, -4.8526, -5.2835, -5.4747, -5.7147, -5.7384, -5.7527, -5.8425, -6.243, -6.4822, -2.3711, -2.6996, -2.7918, -2.8976, -2.9245, -3.0084, -3.0928, -3.1361, -3.169, -3.1897, -3.2035, -3.3729, -3.5856, -3.6913, -3.8094, -3.8313, -4.1277, -4.2197, -4.3361, -4.4233, -4.5179, -4.6008, -4.7635, -4.7638, -4.809, -4.9514, -5.008, -5.0216, -5.1465, -5.3809, -1.7983, -2.4735, -3.0546, -3.0906, -3.1996, -3.3149, -3.4584, -3.4791, -3.483, -3.5663, -3.5705, -3.5927, -3.6696, -3.7862, -3.7952, -3.928, -3.9544, -3.9992, -4.0232, -4.2269, -4.2461, -4.2841, -4.3117, -4.3174, -4.3635, -4.4888, -4.5926, -4.948, -5.0602, -5.1452, -2.1236, -2.2838, -2.4685, -2.9487, -2.9905, -3.0483, -3.0747, -3.1331, -3.2111, -3.2648, -3.2854, -3.3848, -3.5977, -4.1266, -4.1299, -4.1336, -4.2412, -4.3496, -4.6382, -4.714, -4.8779, -5.0551, -5.0552, -5.0742, -5.0945, -5.1613, -5.1967, -5.3983, -5.4926, -5.9968, -2.1573, -2.3489, -2.5196, -2.5666, -2.8158, -2.9405, -3.1678, -3.2677, -3.3632, -3.4297, -3.4557, -3.7174, -3.7747, -3.9628, -4.0914, -4.1405, -4.2571, -4.2723, -4.2902, -4.4294, -4.4829, -4.5528, -4.5804, -4.8585, -4.9258, -5.5891, -5.6182, -5.7238, -5.8335, -5.8848, -1.5685, -2.2902, -2.4777, -2.55, -2.6164, -2.7706, -2.9788, -3.2733, -3.4362, -3.8223, -3.9614, -4.0836, -4.3564, -4.4396, -4.6049, -4.8076, -4.8155, -4.8264, -4.829, -4.9073, -4.9574, -4.9982, -5.1986, -5.3209, -5.4431, -5.568, -5.5744, -5.6853, -5.9296, -5.9368, -1.8126, -2.5526, -2.8428, -2.8645, -2.9156, -2.9762, -2.9789, -3.0331, -3.0468, -3.4495, -3.5578, -3.7276, -3.8253, -3.9942, -4.2241, -4.314, -4.3202, -4.3669, -4.4867, -4.6571, -4.7076, -4.7212, -4.8205, -4.9028, -4.9472, -5.0001, -5.3911, -5.4953, -5.5369, -5.8015, -1.4277, -2.0214, -2.683, -2.8091, -3.003, -3.1324, -3.5787, -3.6165, -3.6834, -3.765, -4.1139, -4.1157, -4.1224, -4.2295, -4.4316, -4.4764, -4.5173, -4.5389, -4.7264, -4.8212, -4.888, -4.9046, -4.9942, -5.1532, -5.2013, -5.5902, -5.6214, -6.0239, -6.1341, -6.1648, -1.425, -1.8865, -2.6306, -2.7487, -3.1482, -3.3191, -3.8051, -3.8236, -3.8285, -3.8414, -3.9049, -4.0598, -4.1201, -4.1312, -4.1657, -4.2477, -4.2791, -4.4224, -4.4943, -4.5583, -4.7401, -4.869, -4.9148, -5.0812, -5.468, -5.5015, -5.6051, -5.6317, -5.7519, -5.9308, -1.3937, -2.6876, -2.8379, -3.1581, -3.1819, -3.2612, -3.4257, -3.5422, -3.5888, -3.5911, -3.5967, -3.7858, -4.0005, -4.0288, -4.0514, -4.0609, -4.2844, -4.4348, -4.4427, -4.4546, -4.5889, -4.6424, -4.7416, -4.813, -4.856, -5.0294, -5.0483, -5.1427, -5.1561, -5.1588, -2.0819, -2.1117, -2.2642, -2.7854, -2.7954, -2.896, -2.9658, -3.1612, -3.2336, -3.559, -3.6016, -3.6345, -4.0818, -4.1282, -4.176, -4.2127, -4.2225, -4.2902, -4.4173, -4.6502, -4.8324, -4.9636, -5.0124, -5.0289, -5.7502, -5.9857, -6.0034, -6.1867, -6.5614, -6.8793, -1.9401, -2.0171, -2.5717, -2.6343, -3.2325, -3.3107, -3.586, -3.5988, -3.6367, -3.7139, -3.7465, -3.9903, -4.0064, -4.0187, -4.1958, -4.2078, -4.3569, -4.5055, -4.5439, -4.6532, -4.6571, -4.7186, -4.7512, -4.7636, -4.7736, -4.7977, -4.8148, -4.9106, -5.0055, -5.055, -2.1459, -2.233, -2.3424, -2.7085, -2.7563, -3.1085, -3.134, -3.2572, -3.3964, -3.4498, -3.6591, -3.6975, -3.803, -4.06, -4.1186, -4.2158, -4.2301, -4.5206, -4.5211, -4.5675, -4.6658, -4.7019, -5.0524, -5.07, -5.074, -5.108, -5.2512, -5.2534, -5.3454, -5.3867, -2.1952, -2.4602, -2.6037, -2.8256, -2.9497, -2.9862, -3.4741, -3.5958, -3.667, -3.717, -3.7222, -3.8287, -3.8409, -4.0241, -4.0268, -4.049, -4.0541, -4.0599, -4.1101, -4.1739, -4.2817, -4.3316, -4.3849, -4.4143, -4.4544, -4.5369, -4.6813, -4.8288, -4.9293, -4.9808, -2.4065, -2.4296, -2.6394, -2.6423, -3.0838, -3.0843, -3.1226, -3.1691, -3.1811, -3.4582, -3.6114, -3.7138, -3.7533, -3.7928, -4.0308, -4.0397, -4.0486, -4.1683, -4.1947, -4.2108, -4.3737, -4.3775, -4.4362, -4.5214, -4.5867, -4.6043, -4.6168, -4.793, -5.031, -5.1235, -1.7199, -2.2245, -2.3151, -2.7632, -2.986, -3.0759, -3.565, -3.6061, -3.6485, -3.8758, -3.8939, -3.9714, -4.0247, -4.0888, -4.1287, -4.2964, -4.3465, -4.3537, -4.4207, -4.4485, -4.5879, -4.6278, -4.7151, -4.7429, -4.8871, -4.9971, -5.0605, -5.1303, -5.1322, -5.2715, -1.569, -2.6344, -2.8068, -3.0042, -3.1549, -3.2707, -3.2818, -3.5086, -3.5976, -3.6318, -3.7639, -3.7874, -3.8056, -3.8366, -3.9433, -4.0577, -4.0836, -4.1125, -4.1184, -4.1323, -4.2171, -4.3488, -4.3518, -4.6227, -4.7849, -4.827, -4.8814, -5.1244, -5.2064, -5.2865, -1.7239, -1.9123, -1.9644, -2.8035, -2.9737, -3.0024, -3.3725, -3.5436, -3.7349, -3.7384, -3.9123, -4.119, -4.2025, -4.3758, -4.6004, -4.63, -4.6761, -4.8734, -4.9533, -4.9866, -5.1044, -5.1224, -5.1878, -5.3077, -5.9228, -5.9462, -6.0929, -6.4573, -6.8675, -7.2948, -1.8395, -2.2224, -2.3738, -2.5084, -3.1129, -3.3832, -3.3941, -3.4335, -3.6695, -3.6953, -3.6975, -3.8478, -3.8584, -3.8826, -3.9974, -4.0403, -4.1324, -4.1887, -4.4972, -4.6227, -4.8029, -4.8677, -4.8861, -5.3321, -5.3356, -5.4143, -5.5634, -5.657, -5.6614, -5.7217, -1.6583, -2.3246, -2.634, -2.6998, -2.8657, -2.9655, -3.3413, -3.4245, -3.5211, -3.5853, -3.71, -3.8314, -3.868, -4.1897, -4.2054, -4.447, -4.4728, -4.6995, -4.7386, -4.8292, -4.8572, -4.9983, -5.0039, -5.108, -5.3277, -5.4337, -5.4401, -5.516, -5.5495, -5.8943, -1.3213, -2.2639, -2.3656, -3.3308, -3.41, -3.4734, -3.6107, -3.672, -3.7598, -3.7986, -3.8472, -3.9961, -3.9995, -4.0293, -4.0895, -4.1465, -4.1786, -4.252, -4.3259, -4.4779, -4.5606, -4.6421, -4.7352, -4.7365, -4.8746, -5.0794, -5.2245, -5.2538, -5.4355, -5.7087, -1.7522, -2.2725, -2.3938, -2.8092, -2.8205, -3.4274, -3.5936, -3.6647, -3.7687, -3.9237, -3.9281, -3.9888, -4.0717, -4.1144, -4.1751, -4.201, -4.2074, -4.2956, -4.3585, -4.4504, -4.4731, -4.6385, -4.6695, -4.7773, -4.8175, -4.8401, -4.86, -4.8879, -5.1194, -5.1672, -0.8303, -2.5298, -2.9514, -3.0915, -3.2176, -3.2606, -3.3192, -3.5975, -4.2013, -4.2256, -4.2496, -4.3953, -4.5967, -4.8546, -4.914, -4.9391, -4.9957, -5.1109, -5.1315, -5.1477, -5.1493, -5.2699, -5.3361, -5.3386, -5.3601, -5.3635, -5.4027, -5.7277, -5.8623, -5.939, -1.4482, -1.9692, -2.0846, -2.6048, -3.0235, -3.0614, -3.5042, -3.608, -3.825, -4.0816, -4.3185, -4.4195, -4.4504, -4.4642, -4.6081, -4.6361, -4.7233, -4.734, -4.8221, -4.8502, -4.9336, -5.2175, -5.7962, -6.0188, -6.2536, -6.5651, -7.0242, -7.036, -7.3793, -7.6043, -2.3043, -2.6052, -2.7236, -2.7487, -3.1325, -3.1775, -3.2826, -3.4075, -3.4314, -3.4547, -3.5966, -3.6912, -3.7969, -3.8229, -3.8816, -3.921, -3.9433, -3.9696, -4.0639, -4.1385, -4.21, -4.3603, -4.3849, -4.5479, -4.5806, -4.6446, -4.7093, -5.049, -5.0947, -5.0967, -2.0773, -2.1265, -2.4267, -2.8544, -3.1594, -3.4224, -3.4291, -3.5282, -3.6523, -3.6698, -3.6789, -3.7553, -3.8699, -3.8908, -3.9807, -4.0272, -4.1381, -4.3055, -4.3259, -4.3322, -4.3655, -4.5301, -4.6689, -4.722, -4.7708, -4.8042, -4.8119, -4.9036, -5.1261, -5.4782, -2.122, -2.3726, -2.6697, -2.9363, -3.0746, -3.0886, -3.2871, -3.2888, -3.304, -3.563, -3.5796, -3.6349, -3.6752, -3.6972, -3.8759, -3.8782, -3.9088, -4.0257, -4.1154, -4.2096, -4.339, -4.4291, -4.4937, -4.6773, -4.8178, -4.8283, -5.1104, -5.1961, -5.4283, -5.5425, -2.1399, -2.3115, -2.3352, -2.4587, -2.6478, -2.7227, -2.7505, -2.7784, -3.5377, -3.6477, -3.8918, -3.981, -4.0597, -4.1785, -4.1899, -4.232, -4.4599, -4.6179, -4.6488, -5.3225, -5.4302, -5.5315, -5.603, -5.6477, -5.7344, -5.8258, -5.8465, -5.8818, -5.905, -6.179, -1.3022, -2.456, -2.508, -3.2864, -3.3364, -3.6012, -3.6951, -3.8393, -3.857, -4.0519, -4.1041, -4.2009, -4.2067, -4.2455, -4.2698, -4.3558, -4.368, -4.4027, -4.4444, -4.5198, -4.6113, -4.7223, -4.7884, -4.7989, -4.9368, -4.9925, -5.0085, -5.0131, -5.21, -5.2295, -2.1847, -2.2649, -2.3976, -2.4813, -2.999, -3.0709, -3.2442, -3.2928, -3.3216, -3.4368, -3.6896, -3.7621, -3.8976, -3.9634, -4.0576, -4.1284, -4.1746, -4.2287, -4.2698, -4.4076, -4.4673, -4.4962, -4.6826, -4.9714, -5.1312, -5.2614, -5.4057, -5.4392, -5.57, -5.5903, -1.6806, -2.6873, -2.7223, -2.9664, -3.088, -3.1195, -3.4687, -3.5012, -3.6554, -3.704, -3.7154, -3.7967, -3.863, -3.8767, -3.8842, -4.0586, -4.0865, -4.0895, -4.2626, -4.4494, -4.4504, -4.4735, -4.4919, -4.7136, -4.9256, -4.9906, -5.0233, -5.0396, -5.1533, -5.2696, -1.6548, -2.1765, -2.2846, -2.6876, -2.9881, -3.0246, -3.236, -3.3189, -3.3469, -3.6755, -3.9577, -4.0257, -4.1619, -4.2876, -4.4204, -4.4631, -4.4906, -4.7195, -4.797, -4.9903, -5.1079, -5.2787, -5.5104, -5.7564, -5.8465, -5.8708, -6.3341, -6.4547, -6.5245, -6.7742, -1.7115, -2.2475, -2.2574, -2.8671, -2.8882, -2.9133, -2.9656, -3.4221, -3.5757, -3.605, -3.9523, -4.1707, -4.3056, -4.4052, -4.4966, -4.5272, -4.5345, -4.6309, -4.7468, -4.7476, -5.0476, -5.2639, -5.3359, -5.5459, -6.2702, -6.3458, -6.6004, -6.7696, -7.0333, -8.4835], \"loglift\": [30.0, 29.0, 28.0, 27.0, 26.0, 25.0, 24.0, 23.0, 22.0, 21.0, 20.0, 19.0, 18.0, 17.0, 16.0, 15.0, 14.0, 13.0, 12.0, 11.0, 10.0, 9.0, 8.0, 7.0, 6.0, 5.0, 4.0, 3.0, 2.0, 1.0, 3.5725, 3.5697, 3.5681, 3.5642, 3.5623, 3.5598, 3.5598, 3.5578, 3.5577, 3.5575, 3.5563, 3.554, 3.5525, 3.5515, 3.5462, 3.5455, 3.545, 3.5449, 3.5428, 3.542, 3.54, 3.5381, 3.5376, 3.5355, 3.5251, 3.5241, 3.524, 3.524, 3.5205, 3.518, 3.773, 3.7728, 3.7726, 3.7724, 3.7721, 3.7716, 3.7716, 3.7713, 3.7709, 3.7707, 3.7706, 3.769, 3.7687, 3.767, 3.7661, 3.7636, 3.7613, 3.7612, 3.7603, 3.7593, 3.7591, 3.7585, 3.7571, 3.7548, 3.7534, 3.7515, 3.7501, 3.7482, 3.7474, 3.7419, 3.7775, 3.7754, 3.7753, 3.7748, 3.7732, 3.7732, 3.7732, 3.7712, 3.7707, 3.7697, 3.7696, 3.7694, 3.7683, 3.7681, 3.767, 3.7668, 3.7664, 3.7661, 3.7631, 3.7604, 3.7601, 3.7598, 3.759, 3.7588, 3.756, 3.7558, 3.7499, 3.7478, 3.7454, 3.7396, 3.8447, 3.8447, 3.8446, 3.8434, 3.8431, 3.8422, 3.8417, 3.8413, 3.8404, 3.8401, 3.8396, 3.8381, 3.8375, 3.8372, 3.8371, 3.8347, 3.8339, 3.8333, 3.8328, 3.8285, 3.8261, 3.8259, 3.8257, 3.8246, 3.8227, 3.8217, 3.8186, 3.8172, 3.8081, 3.8018, 3.9044, 3.9041, 3.903, 3.9027, 3.9025, 3.9021, 3.9017, 3.9013, 3.899, 3.899, 3.8988, 3.897, 3.8968, 3.8965, 3.8945, 3.8896, 3.8891, 3.889, 3.8814, 3.875, 3.8746, 3.8736, 3.8501, 3.8473, 3.8374, 3.8267, 3.7914, 3.745, 3.4361, 2.8247, 3.9109, 3.9106, 3.9097, 3.9089, 3.9088, 3.9062, 3.9055, 3.9055, 3.9055, 3.9055, 3.9054, 3.9051, 3.9049, 3.9047, 3.9046, 3.9044, 3.9039, 3.9014, 3.8992, 3.8969, 3.896, 3.8948, 3.8913, 3.8896, 3.8851, 3.8807, 3.8782, 3.8678, 3.8672, 3.863, 3.9208, 3.9206, 3.9205, 3.9204, 3.9203, 3.9203, 3.9203, 3.92, 3.9195, 3.9193, 3.9192, 3.919, 3.9187, 3.9186, 3.9186, 3.9185, 3.9184, 3.918, 3.9149, 3.9144, 3.9138, 3.9138, 3.9138, 3.9132, 3.9123, 3.9108, 3.9104, 3.906, 3.9024, 3.9003, 3.9251, 3.9241, 3.9241, 3.9237, 3.9233, 3.9233, 3.9233, 3.9216, 3.9212, 3.9201, 3.919, 3.9189, 3.9189, 3.9187, 3.9167, 3.9141, 3.9124, 3.9098, 3.909, 3.9078, 3.9054, 3.9039, 3.8962, 3.8956, 3.8946, 3.8933, 3.8912, 3.8883, 3.8843, 3.884, 3.9347, 3.9345, 3.9338, 3.9327, 3.9326, 3.9325, 3.9322, 3.9321, 3.932, 3.9317, 3.9315, 3.9312, 3.9305, 3.9302, 3.9298, 3.9296, 3.9278, 3.9264, 3.9252, 3.9243, 3.9173, 3.9164, 3.9089, 3.9065, 3.9059, 3.903, 3.9007, 3.8919, 3.8719, 3.8115, 3.9576, 3.957, 3.957, 3.9569, 3.9566, 3.9564, 3.9561, 3.9561, 3.956, 3.9557, 3.955, 3.9549, 3.9549, 3.9545, 3.953, 3.9528, 3.9523, 3.9521, 3.9518, 3.9516, 3.9512, 3.9507, 3.9503, 3.9478, 3.9433, 3.9407, 3.9396, 3.9365, 3.9335, 3.9303, 3.9674, 3.9667, 3.9664, 3.9661, 3.9661, 3.9658, 3.9653, 3.9653, 3.965, 3.9648, 3.9645, 3.9644, 3.9643, 3.9627, 3.9623, 3.962, 3.9616, 3.9613, 3.9602, 3.9595, 3.9591, 3.9586, 3.9584, 3.9559, 3.9558, 3.9543, 3.9526, 3.9491, 3.9482, 3.9453, 3.9896, 3.9892, 3.9889, 3.988, 3.988, 3.9878, 3.9877, 3.9877, 3.9867, 3.9866, 3.9861, 3.9845, 3.9844, 3.984, 3.9823, 3.9809, 3.9793, 3.979, 3.9777, 3.9766, 3.9761, 3.9748, 3.9744, 3.9735, 3.973, 3.9721, 3.961, 3.9505, 3.9477, 3.9434, 3.9895, 3.9894, 3.989, 3.9888, 3.9884, 3.9881, 3.9874, 3.9873, 3.9869, 3.9856, 3.9846, 3.9832, 3.982, 3.9811, 3.981, 3.9809, 3.9797, 3.9794, 3.9793, 3.9768, 3.9767, 3.9766, 3.9717, 3.9682, 3.9641, 3.9594, 3.9583, 3.9567, 3.9538, 3.9529, 3.9904, 3.9903, 3.9897, 3.9893, 3.9884, 3.9868, 3.9857, 3.9854, 3.9848, 3.9841, 3.9838, 3.9836, 3.9836, 3.981, 3.98, 3.9789, 3.9782, 3.9779, 3.9779, 3.9768, 3.9766, 3.9706, 3.9688, 3.9671, 3.9558, 3.9482, 3.9377, 3.9332, 3.9313, 3.9102, 3.995, 3.9948, 3.9934, 3.9929, 3.9927, 3.9926, 3.9922, 3.9902, 3.9894, 3.9885, 3.9877, 3.9865, 3.9859, 3.9848, 3.9846, 3.9834, 3.9832, 3.9797, 3.979, 3.9781, 3.9771, 3.9765, 3.9746, 3.9735, 3.9665, 3.9642, 3.9538, 3.9438, 3.9426, 3.9401, 3.9998, 3.9997, 3.9997, 3.9996, 3.9995, 3.999, 3.9986, 3.9986, 3.9977, 3.9948, 3.9946, 3.9945, 3.9938, 3.991, 3.9902, 3.9901, 3.9901, 3.9897, 3.9885, 3.988, 3.9872, 3.9848, 3.9814, 3.9794, 3.9781, 3.9771, 3.9725, 3.9684, 3.9676, 3.9637, 4.0099, 4.0098, 4.009, 4.0076, 4.0068, 4.0067, 4.0066, 4.0061, 4.0058, 4.0058, 4.0055, 4.0053, 4.0052, 4.0048, 4.0029, 4.0017, 4.0015, 4.0015, 4.0013, 4.0006, 4.0002, 3.998, 3.9962, 3.9946, 3.9939, 3.9931, 3.9926, 3.9767, 3.9541, 3.9481, 4.0173, 4.0168, 4.0162, 4.0162, 4.0159, 4.0152, 4.0146, 4.0144, 4.0143, 4.0143, 4.0138, 4.0136, 4.0126, 4.0124, 4.0118, 4.0118, 4.0117, 4.011, 4.011, 4.0099, 4.0095, 4.0093, 4.0088, 4.0083, 4.0072, 4.0045, 4.0036, 4.002, 3.9985, 3.9979, 4.0418, 4.0417, 4.0411, 4.0406, 4.0398, 4.0396, 4.0392, 4.0392, 4.0391, 4.039, 4.0386, 4.0386, 4.038, 4.0379, 4.0378, 4.0376, 4.0375, 4.037, 4.0365, 4.0363, 4.0355, 4.0325, 4.0317, 4.0315, 4.031, 4.03, 4.0286, 4.0286, 4.0283, 4.0252, 4.043, 4.0424, 4.0423, 4.0416, 4.0414, 4.0412, 4.0412, 4.0409, 4.0407, 4.0398, 4.0393, 4.0393, 4.039, 4.0383, 4.0378, 4.0377, 4.0373, 4.037, 4.037, 4.0364, 4.0345, 4.0345, 4.0343, 4.0337, 4.0328, 4.0327, 4.0321, 4.0319, 4.0291, 4.0262, 4.0448, 4.0445, 4.0441, 4.0435, 4.0434, 4.0432, 4.043, 4.0429, 4.0422, 4.0415, 4.0413, 4.0405, 4.0394, 4.0392, 4.039, 4.0386, 4.0385, 4.0377, 4.0367, 4.036, 4.0347, 4.0334, 4.0329, 4.0309, 4.0292, 4.0252, 4.0231, 4.0221, 4.0202, 4.0191, 4.1032, 4.103, 4.1024, 4.1012, 4.101, 4.1008, 4.1007, 4.1007, 4.1004, 4.0999, 4.0989, 4.0988, 4.0986, 4.0984, 4.0966, 4.0962, 4.0959, 4.0958, 4.0955, 4.0951, 4.0942, 4.0937, 4.0935, 4.0921, 4.0919, 4.0916, 4.0905, 4.0848, 4.0818, 4.0811, 4.1117, 4.1113, 4.1113, 4.1106, 4.1105, 4.1103, 4.1103, 4.1102, 4.1094, 4.1092, 4.109, 4.1089, 4.1088, 4.1085, 4.1083, 4.1064, 4.1061, 4.1057, 4.1053, 4.1029, 4.1024, 4.102, 4.1017, 4.1017, 4.1013, 4.101, 4.1006, 4.0977, 4.0969, 4.0958, 4.1129, 4.1123, 4.112, 4.1119, 4.1114, 4.1113, 4.1113, 4.1111, 4.1111, 4.1111, 4.1111, 4.1105, 4.1101, 4.1091, 4.1082, 4.1079, 4.1077, 4.1066, 4.1053, 4.1046, 4.104, 4.1034, 4.1023, 4.1022, 4.1018, 4.1018, 4.1001, 4.1001, 4.0992, 4.0991, 4.1251, 4.1251, 4.1246, 4.1245, 4.1242, 4.1238, 4.1234, 4.1234, 4.1231, 4.123, 4.1226, 4.1223, 4.1219, 4.1205, 4.1203, 4.1197, 4.1194, 4.1183, 4.1175, 4.117, 4.1147, 4.1142, 4.1122, 4.112, 4.1095, 4.1087, 4.1083, 4.108, 4.1068, 4.1057, 4.1259, 4.1253, 4.1252, 4.125, 4.1236, 4.1229, 4.1225, 4.1222, 4.122, 4.1207, 4.1202, 4.12, 4.1197, 4.119, 4.1172, 4.1155, 4.1148, 4.1145, 4.1142, 4.1133, 4.1103, 4.1099, 4.1087, 4.1071, 4.1064, 4.1064, 4.1022, 4.0969, 4.0946, 4.0854, 4.1267, 4.1266, 4.1265, 4.1263, 4.126, 4.1259, 4.1254, 4.1247, 4.1245, 4.124, 4.1221, 4.1211, 4.1171, 4.1162, 4.116, 4.115, 4.1143, 4.114, 4.1105, 4.1094, 4.107, 4.1058, 4.0984, 4.0966, 4.0963, 4.0868, 4.0843, 4.069, 4.0629, 4.062, 4.1278, 4.1269, 4.1267, 4.1264, 4.1262, 4.1259, 4.1252, 4.1245, 4.1243, 4.124, 4.1237, 4.1236, 4.1233, 4.1218, 4.1212, 4.1206, 4.1205, 4.1185, 4.1183, 4.1168, 4.1153, 4.1143, 4.1136, 4.1135, 4.1119, 4.1105, 4.1099, 4.108, 4.1079, 4.1072, 4.1302, 4.1296, 4.1287, 4.128, 4.1279, 4.1272, 4.127, 4.127, 4.1256, 4.1254, 4.1252, 4.1245, 4.1242, 4.1241, 4.124, 4.1218, 4.1204, 4.1202, 4.1183, 4.1171, 4.1158, 4.1158, 4.1157, 4.1155, 4.1145, 4.1137, 4.1099, 4.1098, 4.1039, 4.0997, 4.1548, 4.1547, 4.1547, 4.154, 4.1533, 4.153, 4.1526, 4.1523, 4.15, 4.15, 4.148, 4.1468, 4.1468, 4.1464, 4.1455, 4.1454, 4.1453, 4.1449, 4.1449, 4.1431, 4.1424, 4.1408, 4.133, 4.1283, 4.1211, 4.1202, 4.1197, 4.1164, 4.0977, 4.0827, 4.1618, 4.1613, 4.1612, 4.161, 4.1609, 4.1607, 4.1605, 4.1604, 4.1603, 4.1602, 4.1602, 4.1597, 4.1589, 4.1584, 4.1578, 4.1577, 4.1559, 4.1552, 4.1542, 4.1534, 4.1525, 4.1516, 4.1495, 4.1495, 4.1489, 4.1468, 4.1458, 4.1456, 4.1433, 4.1381, 4.1641, 4.1634, 4.1623, 4.1622, 4.162, 4.1616, 4.1611, 4.161, 4.161, 4.1607, 4.1607, 4.1606, 4.1602, 4.1597, 4.1596, 4.1589, 4.1587, 4.1585, 4.1583, 4.1568, 4.1567, 4.1564, 4.1561, 4.1561, 4.1557, 4.1545, 4.1534, 4.1485, 4.1466, 4.145, 4.1766, 4.1765, 4.1762, 4.1754, 4.1753, 4.1751, 4.1751, 4.1749, 4.1747, 4.1745, 4.1745, 4.1741, 4.1733, 4.1703, 4.1703, 4.1703, 4.1695, 4.1685, 4.1655, 4.1645, 4.1622, 4.1593, 4.1593, 4.1589, 4.1586, 4.1572, 4.1565, 4.1519, 4.1494, 4.1312, 4.179, 4.1788, 4.1785, 4.1785, 4.178, 4.1778, 4.1772, 4.1769, 4.1766, 4.1763, 4.1763, 4.1751, 4.1748, 4.1738, 4.1729, 4.1726, 4.1717, 4.1715, 4.1714, 4.1701, 4.1696, 4.1688, 4.1685, 4.1648, 4.1638, 4.1488, 4.1479, 4.1444, 4.1403, 4.1383, 4.1815, 4.1808, 4.1806, 4.1805, 4.1804, 4.1801, 4.1797, 4.1789, 4.1783, 4.1766, 4.1758, 4.175, 4.1728, 4.172, 4.1702, 4.1675, 4.1674, 4.1672, 4.1672, 4.166, 4.1652, 4.1645, 4.1606, 4.1579, 4.1548, 4.1512, 4.151, 4.1475, 4.1381, 4.1378, 4.1828, 4.182, 4.1815, 4.1814, 4.1813, 4.1812, 4.1812, 4.181, 4.181, 4.1798, 4.1793, 4.1786, 4.1781, 4.1771, 4.1754, 4.1747, 4.1746, 4.1742, 4.173, 4.171, 4.1704, 4.1702, 4.1689, 4.1676, 4.1669, 4.166, 4.1577, 4.1549, 4.1537, 4.1449, 4.1839, 4.1835, 4.1827, 4.1825, 4.182, 4.1817, 4.1802, 4.18, 4.1797, 4.1793, 4.1772, 4.1772, 4.1771, 4.1763, 4.1745, 4.174, 4.1736, 4.1734, 4.1711, 4.1698, 4.1688, 4.1685, 4.167, 4.1641, 4.1631, 4.1531, 4.1521, 4.1365, 4.1311, 4.1294, 4.1953, 4.195, 4.1941, 4.1939, 4.193, 4.1925, 4.1904, 4.1903, 4.1903, 4.1902, 4.1898, 4.1888, 4.1884, 4.1883, 4.188, 4.1874, 4.1871, 4.1858, 4.185, 4.1843, 4.1821, 4.1802, 4.1795, 4.1765, 4.1676, 4.1666, 4.1635, 4.1626, 4.1585, 4.1513, 4.1955, 4.1942, 4.1939, 4.1931, 4.1931, 4.1928, 4.1923, 4.1918, 4.1916, 4.1916, 4.1916, 4.1907, 4.1894, 4.1892, 4.1891, 4.189, 4.1873, 4.1858, 4.1858, 4.1856, 4.1842, 4.1835, 4.1822, 4.1812, 4.1806, 4.1777, 4.1774, 4.1755, 4.1753, 4.1752, 4.2048, 4.2047, 4.2046, 4.2038, 4.2037, 4.2035, 4.2034, 4.2029, 4.2027, 4.2015, 4.2013, 4.2011, 4.1985, 4.1982, 4.1978, 4.1975, 4.1975, 4.1969, 4.1957, 4.1931, 4.1906, 4.1885, 4.1876, 4.1873, 4.1682, 4.1584, 4.1576, 4.1482, 4.1231, 4.0938, 4.2122, 4.2121, 4.2114, 4.2113, 4.2099, 4.2097, 4.2086, 4.2086, 4.2084, 4.208, 4.2078, 4.2064, 4.2063, 4.2062, 4.2049, 4.2048, 4.2035, 4.202, 4.2016, 4.2002, 4.2002, 4.1994, 4.1989, 4.1988, 4.1986, 4.1983, 4.198, 4.1965, 4.1949, 4.194, 4.2236, 4.2235, 4.2234, 4.2228, 4.2227, 4.2219, 4.2218, 4.2214, 4.221, 4.2208, 4.2199, 4.2197, 4.2191, 4.2175, 4.2171, 4.2163, 4.2162, 4.2133, 4.2133, 4.2128, 4.2115, 4.2111, 4.2054, 4.2051, 4.205, 4.2043, 4.2012, 4.2012, 4.1989, 4.1979, 4.2331, 4.2328, 4.2326, 4.2321, 4.2319, 4.2318, 4.2302, 4.2297, 4.2294, 4.2291, 4.2291, 4.2285, 4.2285, 4.2273, 4.2273, 4.2271, 4.2271, 4.227, 4.2267, 4.2262, 4.2253, 4.2248, 4.2243, 4.224, 4.2236, 4.2227, 4.2209, 4.2188, 4.2172, 4.2163, 4.248, 4.248, 4.2476, 4.2476, 4.2466, 4.2466, 4.2465, 4.2464, 4.2464, 4.2454, 4.2447, 4.2442, 4.244, 4.2438, 4.2423, 4.2422, 4.2422, 4.2412, 4.241, 4.2409, 4.2394, 4.2393, 4.2387, 4.2378, 4.237, 4.2368, 4.2366, 4.2342, 4.2301, 4.2283, 4.2528, 4.2524, 4.2523, 4.2515, 4.251, 4.2508, 4.249, 4.2488, 4.2486, 4.2474, 4.2473, 4.2468, 4.2464, 4.2459, 4.2456, 4.2442, 4.2437, 4.2436, 4.243, 4.2427, 4.241, 4.2405, 4.2394, 4.239, 4.2367, 4.2348, 4.2336, 4.2321, 4.2321, 4.2289, 4.2735, 4.2723, 4.272, 4.2715, 4.2711, 4.2707, 4.2706, 4.2698, 4.2694, 4.2692, 4.2685, 4.2684, 4.2683, 4.2681, 4.2674, 4.2666, 4.2664, 4.2662, 4.2661, 4.266, 4.2653, 4.2641, 4.264, 4.2609, 4.2586, 4.2579, 4.257, 4.2524, 4.2505, 4.2486, 4.2789, 4.2787, 4.2787, 4.2774, 4.277, 4.2769, 4.2758, 4.2751, 4.2741, 4.2741, 4.2731, 4.2716, 4.2709, 4.2692, 4.2666, 4.2662, 4.2656, 4.2626, 4.2612, 4.2606, 4.2582, 4.2578, 4.2564, 4.2535, 4.2318, 4.2307, 4.2232, 4.1993, 4.161, 4.1031, 4.2933, 4.293, 4.2928, 4.2925, 4.2912, 4.2903, 4.2902, 4.2901, 4.289, 4.2888, 4.2888, 4.288, 4.2879, 4.2878, 4.287, 4.2867, 4.2859, 4.2855, 4.2823, 4.2808, 4.2781, 4.2771, 4.2767, 4.2671, 4.267, 4.2648, 4.2601, 4.2569, 4.2567, 4.2544, 4.2981, 4.2974, 4.2969, 4.2968, 4.2964, 4.2962, 4.295, 4.2947, 4.2943, 4.294, 4.2933, 4.2926, 4.2924, 4.29, 4.2899, 4.2875, 4.2872, 4.2842, 4.2837, 4.2822, 4.2818, 4.2792, 4.2791, 4.277, 4.2717, 4.2687, 4.2685, 4.2662, 4.2651, 4.2515, 4.3145, 4.3137, 4.3135, 4.3112, 4.3109, 4.3106, 4.31, 4.3096, 4.3091, 4.3089, 4.3086, 4.3076, 4.3076, 4.3074, 4.3069, 4.3064, 4.3061, 4.3055, 4.3047, 4.3031, 4.302, 4.3009, 4.2996, 4.2996, 4.2973, 4.2933, 4.29, 4.2892, 4.2842, 4.2747, 4.3192, 4.3187, 4.3185, 4.3177, 4.3177, 4.3158, 4.3151, 4.3147, 4.3141, 4.3131, 4.3131, 4.3127, 4.312, 4.3117, 4.3112, 4.3109, 4.3109, 4.31, 4.3094, 4.3084, 4.3081, 4.306, 4.3055, 4.3039, 4.3032, 4.3029, 4.3025, 4.302, 4.2974, 4.2963, 4.3404, 4.339, 4.3381, 4.3377, 4.3372, 4.3371, 4.3369, 4.3356, 4.3314, 4.3312, 4.331, 4.3294, 4.3269, 4.3229, 4.3218, 4.3213, 4.3202, 4.3177, 4.3173, 4.3169, 4.3169, 4.3138, 4.312, 4.312, 4.3113, 4.3112, 4.3101, 4.2985, 4.2926, 4.2889, 4.3421, 4.3417, 4.3416, 4.3408, 4.3398, 4.3397, 4.338, 4.3375, 4.3363, 4.3344, 4.3322, 4.3311, 4.3308, 4.3306, 4.3288, 4.3284, 4.3271, 4.3269, 4.3255, 4.325, 4.3234, 4.3172, 4.2977, 4.2868, 4.2725, 4.248, 4.1967, 4.1951, 4.1405, 4.0953, 4.3419, 4.3414, 4.3411, 4.3411, 4.3401, 4.3399, 4.3396, 4.3391, 4.339, 4.3389, 4.3382, 4.3377, 4.3371, 4.3369, 4.3365, 4.3362, 4.3361, 4.3359, 4.3352, 4.3345, 4.3339, 4.3324, 4.3321, 4.3302, 4.3297, 4.3288, 4.3279, 4.3217, 4.3207, 4.3207, 4.3518, 4.3517, 4.3513, 4.3505, 4.3496, 4.3486, 4.3486, 4.3481, 4.3475, 4.3474, 4.3473, 4.3469, 4.3462, 4.346, 4.3454, 4.345, 4.3441, 4.3425, 4.3423, 4.3422, 4.3419, 4.3399, 4.338, 4.3372, 4.3364, 4.3358, 4.3357, 4.3341, 4.3295, 4.3197, 4.3525, 4.3522, 4.3516, 4.351, 4.3506, 4.3506, 4.3499, 4.3499, 4.3498, 4.3487, 4.3486, 4.3483, 4.3481, 4.348, 4.3469, 4.3469, 4.3467, 4.3458, 4.3451, 4.3442, 4.3429, 4.3419, 4.3411, 4.3386, 4.3364, 4.3362, 4.3306, 4.3285, 4.322, 4.3183, 4.3665, 4.3663, 4.3663, 4.3661, 4.3657, 4.3656, 4.3655, 4.3655, 4.3628, 4.3623, 4.3607, 4.3601, 4.3595, 4.3584, 4.3583, 4.3579, 4.3554, 4.3533, 4.3529, 4.3388, 4.3355, 4.3321, 4.3295, 4.3278, 4.3243, 4.3202, 4.3193, 4.3176, 4.3164, 4.3008, 4.4346, 4.4334, 4.4333, 4.4311, 4.4309, 4.4296, 4.429, 4.4281, 4.4279, 4.4264, 4.4259, 4.425, 4.4249, 4.4245, 4.4243, 4.4233, 4.4232, 4.4227, 4.4222, 4.4212, 4.4199, 4.4181, 4.4169, 4.4167, 4.414, 4.4128, 4.4125, 4.4124, 4.4075, 4.407, 4.4364, 4.4363, 4.4361, 4.4359, 4.4347, 4.4345, 4.4338, 4.4337, 4.4335, 4.433, 4.4316, 4.4312, 4.4302, 4.4297, 4.4289, 4.4283, 4.4278, 4.4273, 4.4268, 4.4252, 4.4245, 4.4241, 4.4213, 4.4158, 4.4121, 4.4086, 4.4041, 4.403, 4.3982, 4.3974, 4.461, 4.4595, 4.4594, 4.4588, 4.4584, 4.4583, 4.4568, 4.4566, 4.4558, 4.4555, 4.4554, 4.4548, 4.4544, 4.4543, 4.4542, 4.4528, 4.4525, 4.4525, 4.4507, 4.4485, 4.4484, 4.4481, 4.4479, 4.4444, 4.4404, 4.439, 4.4382, 4.4378, 4.435, 4.4317, 4.4993, 4.4987, 4.4985, 4.4977, 4.4969, 4.4968, 4.496, 4.4956, 4.4955, 4.4937, 4.4916, 4.491, 4.4897, 4.4883, 4.4866, 4.4861, 4.4857, 4.482, 4.4805, 4.4764, 4.4735, 4.4686, 4.4605, 4.4497, 4.4451, 4.4438, 4.412, 4.4012, 4.3944, 4.3664, 4.5361, 4.5355, 4.5354, 4.5341, 4.534, 4.5339, 4.5338, 4.5319, 4.531, 4.5308, 4.5283, 4.5261, 4.5246, 4.5233, 4.522, 4.5215, 4.5214, 4.5198, 4.5177, 4.5177, 4.511, 4.5048, 4.5025, 4.4946, 4.4513, 4.4449, 4.4196, 4.3994, 4.3614, 3.9388]}, \"token.table\": {\"Topic\": [5, 57, 6, 43, 45, 23, 3, 55, 14, 13, 17, 43, 12, 48, 54, 55, 32, 24, 38, 8, 27, 43, 37, 36, 43, 46, 55, 1, 32, 18, 62, 15, 58, 57, 48, 18, 20, 35, 48, 1, 25, 54, 20, 17, 37, 40, 10, 16, 52, 5, 25, 23, 16, 24, 45, 51, 20, 24, 33, 39, 59, 7, 62, 13, 47, 21, 42, 26, 62, 53, 39, 47, 37, 40, 38, 4, 20, 36, 50, 7, 26, 60, 34, 5, 23, 50, 44, 14, 59, 18, 34, 54, 2, 43, 55, 43, 56, 47, 52, 60, 10, 40, 49, 37, 48, 50, 46, 53, 16, 54, 44, 15, 47, 21, 43, 13, 52, 2, 29, 10, 34, 59, 58, 9, 16, 47, 13, 60, 43, 32, 58, 25, 10, 12, 15, 54, 50, 51, 28, 42, 51, 45, 42, 62, 49, 56, 34, 30, 24, 13, 1, 33, 62, 57, 36, 61, 19, 15, 16, 43, 31, 6, 2, 34, 10, 61, 41, 26, 26, 21, 49, 21, 9, 21, 56, 62, 62, 9, 19, 16, 55, 19, 45, 5, 3, 13, 25, 15, 12, 37, 45, 4, 7, 48, 48, 3, 37, 54, 3, 28, 1, 55, 25, 49, 43, 57, 24, 53, 62, 1, 10, 10, 23, 57, 6, 20, 33, 56, 50, 27, 29, 38, 4, 33, 29, 8, 35, 9, 28, 21, 7, 18, 21, 11, 4, 42, 57, 6, 35, 27, 38, 38, 51, 19, 27, 34, 44, 19, 1, 45, 40, 10, 39, 5, 2, 19, 23, 29, 25, 14, 12, 48, 40, 18, 27, 32, 58, 35, 41, 45, 43, 58, 50, 29, 51, 38, 46, 20, 52, 19, 56, 13, 18, 58, 12, 6, 17, 39, 28, 46, 7, 15, 31, 6, 20, 5, 15, 37, 28, 35, 27, 22, 41, 27, 21, 26, 13, 41, 37, 51, 43, 11, 32, 53, 15, 34, 25, 1, 29, 23, 21, 17, 54, 54, 49, 11, 4, 8, 35, 32, 14, 11, 57, 57, 16, 10, 55, 54, 27, 38, 37, 30, 14, 7, 49, 46, 36, 39, 29, 1, 60, 39, 49, 58, 24, 21, 5, 61, 45, 43, 21, 47, 2, 52, 36, 25, 16, 17, 53, 50, 21, 8, 54, 13, 11, 14, 46, 31, 16, 29, 4, 16, 42, 4, 20, 16, 28, 1, 12, 46, 32, 32, 14, 36, 35, 35, 43, 24, 27, 56, 19, 40, 55, 17, 18, 52, 52, 35, 41, 17, 14, 31, 21, 24, 4, 25, 7, 42, 38, 30, 59, 47, 55, 57, 46, 60, 19, 38, 9, 25, 25, 58, 53, 51, 30, 22, 23, 42, 8, 8, 32, 27, 4, 51, 8, 34, 49, 32, 46, 41, 56, 49, 12, 62, 9, 58, 22, 60, 14, 40, 50, 27, 37, 53, 12, 26, 35, 6, 14, 23, 6, 54, 2, 11, 51, 39, 4, 14, 56, 15, 4, 46, 40, 30, 8, 25, 24, 43, 42, 61, 51, 44, 44, 15, 39, 29, 50, 61, 20, 56, 49, 23, 19, 29, 5, 6, 56, 43, 35, 43, 11, 8, 39, 58, 30, 24, 24, 40, 14, 9, 54, 42, 57, 3, 37, 61, 54, 62, 55, 46, 28, 25, 41, 38, 56, 7, 16, 30, 16, 22, 15, 24, 62, 14, 22, 36, 61, 25, 55, 7, 25, 1, 58, 55, 47, 59, 25, 28, 14, 22, 3, 5, 15, 14, 60, 54, 44, 48, 37, 22, 24, 52, 48, 22, 41, 54, 34, 52, 40, 20, 54, 25, 45, 41, 3, 57, 2, 30, 41, 58, 56, 18, 46, 41, 44, 16, 46, 19, 59, 20, 60, 9, 31, 62, 57, 29, 28, 35, 5, 38, 27, 45, 59, 53, 30, 2, 22, 12, 36, 24, 54, 13, 24, 8, 11, 42, 16, 60, 32, 32, 47, 42, 58, 10, 18, 36, 29, 51, 11, 40, 40, 12, 13, 16, 31, 34, 28, 23, 42, 60, 4, 33, 22, 49, 50, 45, 7, 1, 9, 18, 4, 38, 39, 7, 18, 30, 57, 20, 11, 23, 11, 30, 10, 22, 21, 51, 59, 38, 30, 8, 18, 20, 34, 26, 13, 62, 30, 53, 37, 34, 1, 6, 32, 25, 12, 28, 41, 45, 18, 49, 53, 8, 26, 52, 49, 60, 26, 17, 9, 53, 39, 27, 22, 40, 21, 44, 14, 20, 10, 16, 1, 38, 29, 50, 49, 26, 11, 38, 21, 17, 46, 26, 9, 26, 10, 24, 44, 49, 46, 3, 10, 15, 53, 42, 40, 34, 19, 49, 27, 44, 33, 20, 24, 19, 19, 36, 48, 51, 15, 11, 33, 28, 35, 19, 48, 52, 1, 47, 17, 2, 61, 55, 5, 32, 62, 5, 6, 31, 26, 25, 59, 4, 5, 35, 9, 43, 23, 26, 36, 57, 33, 16, 52, 62, 19, 47, 31, 45, 59, 23, 42, 55, 46, 9, 38, 2, 48, 22, 20, 22, 59, 39, 42, 45, 33, 29, 33, 54, 23, 35, 41, 13, 1, 31, 29, 28, 40, 4, 26, 62, 47, 49, 29, 5, 13, 29, 35, 50, 62, 53, 34, 53, 43, 59, 56, 50, 41, 55, 40, 13, 1, 51, 59, 15, 13, 33, 3, 8, 14, 16, 53, 50, 4, 55, 22, 44, 32, 39, 47, 9, 6, 28, 17, 28, 24, 52, 42, 20, 21, 21, 54, 52, 50, 42, 7, 26, 48, 28, 58, 32, 23, 2, 32, 25, 23, 38, 25, 44, 20, 48, 32, 53, 51, 21, 59, 51, 40, 21, 11, 8, 60, 26, 62, 47, 9, 43, 1, 41, 13, 30, 44, 58, 53, 11, 48, 38, 38, 24, 34, 6, 37, 50, 51, 29, 47, 34, 58, 20, 26, 39, 62, 27, 32, 11, 62, 20, 37, 57, 51, 23, 33, 51, 9, 19, 8, 44, 39, 11, 26, 59, 2, 47, 44, 3, 13, 58, 32, 36, 53, 1, 59, 15, 55, 2, 49, 50, 47, 62, 8, 54, 35, 16, 48, 56, 6, 44, 14, 31, 53, 22, 9, 1, 14, 24, 5, 14, 44, 62, 5, 23, 44, 24, 8, 18, 35, 58, 21, 51, 43, 31, 41, 18, 26, 50, 37, 10, 27, 60, 21, 37, 34, 7, 14, 56, 50, 12, 30, 7, 1, 62, 23, 18, 61, 17, 33, 41, 5, 24, 37, 51, 37, 13, 29, 49, 33, 32, 43, 45, 31, 11, 42, 53, 17, 12, 6, 25, 27, 17, 30, 29, 28, 58, 18, 60, 62, 23, 59, 22, 41, 15, 29, 36, 15, 9, 22, 42, 41, 48, 4, 29, 58, 3, 33, 31, 59, 36, 5, 49, 52, 17, 58, 25, 14, 44, 61, 16, 1, 19, 8, 52, 30, 53, 2, 55, 36, 11, 36, 54, 45, 39, 33, 8, 22, 30, 61, 3, 31, 15, 38, 19, 27, 52, 40, 49, 59, 60, 57, 12, 34, 37, 28, 3, 40, 27, 11, 5, 36, 48, 22, 39, 36, 25, 11, 7, 25, 53, 30, 12, 15, 60, 12, 10, 52, 43, 30, 44, 42, 36, 57, 47, 48, 40, 56, 55, 12, 19, 61, 62, 33, 12, 46, 31, 56, 57, 14, 39, 2, 46, 11, 6, 36, 48, 20, 43, 15, 18, 46, 58, 19, 9, 51, 50, 21, 44, 60, 16, 8, 40, 41, 32, 33, 25, 44, 36, 39, 42, 30, 22, 10, 34, 39, 56, 31, 37, 24, 10, 9, 2, 3, 1, 56, 59, 41, 1, 40, 16, 9, 27, 23, 55, 3, 57, 45, 55, 37, 34, 54, 49, 12, 17, 36, 51, 44, 37, 21, 26, 7, 32, 1, 3, 49, 39, 1, 45, 3, 62, 62, 50, 23, 55, 35, 18, 26, 3, 61, 54, 8, 50, 26, 2, 61, 32, 17, 31, 18, 60, 24, 7, 17, 15, 20, 41, 32, 42, 40, 45, 15, 61, 48, 17, 2, 48, 18, 56, 37, 52, 61, 7, 41, 57, 8, 55, 49, 15, 2, 30, 19, 25, 21, 28, 25, 50, 46, 24, 15, 33, 16, 61, 46, 30, 31, 17, 56, 56, 55, 21, 46, 17, 38, 13, 60, 5, 12, 52, 8, 3, 26, 23, 5, 22, 50, 4, 56, 30, 3, 33, 7, 40, 4, 38, 18, 47, 28, 31, 35, 55, 46, 54, 52, 11, 49, 56, 60, 7, 51, 39, 5, 57, 34, 35, 3, 21, 54, 5, 47, 11, 35, 13, 48, 62, 61, 13, 49, 54, 61, 10, 40, 23, 31, 27, 12, 37, 9, 4, 32, 33, 19, 53, 35, 43, 7, 50, 59, 30, 60, 2, 12, 2, 62, 52, 22, 43, 7, 31, 37, 15, 13, 24, 7, 45, 33, 47, 44, 57, 11, 5, 51, 47, 42, 17, 25, 4, 58, 47, 38, 18, 52, 26, 14, 61, 52, 42, 14, 39, 11, 53, 58, 34, 26, 6, 12, 48, 29, 7, 27, 12, 10, 35, 18, 38, 10, 33, 31, 23, 15, 34, 17, 2, 41, 56, 18, 7, 16, 50, 30, 56, 29, 13, 18, 8, 11, 36, 48, 31, 16, 8, 49, 5, 61, 22, 43, 27, 47, 41, 53, 47, 6, 27, 61, 6, 61, 59, 50, 4, 13, 48, 44, 28, 42, 9, 12, 31, 1, 6, 5, 17, 8, 54, 43, 1, 57, 12, 51, 34, 61, 41, 15, 45, 57, 2, 37, 27, 45, 54, 12, 51, 10, 46, 55, 34, 6, 38, 5, 20, 17, 11, 28, 45, 22, 42, 55, 7, 16, 13, 23, 18, 5, 4, 36, 4, 10, 43, 43, 12, 28, 49, 49, 33, 2, 6, 23, 36, 59, 3, 12, 28, 59, 31, 55, 8, 55, 46, 17, 26, 8, 46, 35, 10, 53, 10, 17, 14, 59, 28, 7, 21, 27, 2, 59, 54, 30, 2, 26, 59, 60, 6, 1, 42, 9, 5, 19, 42, 31, 58, 60, 4, 55, 51, 22, 22, 16, 2, 26, 30, 9, 29, 36, 33, 57, 52, 48, 59, 36, 56, 6, 60, 47, 28, 3, 32, 49, 33, 13, 9, 10, 57, 38, 52, 7, 57, 22, 61, 23, 44, 39, 53, 35, 60, 14, 40, 16, 18, 45, 31, 38, 3, 20, 28, 29, 45, 60, 32, 57, 8, 31, 17, 33, 30, 32, 41, 6, 37, 29, 37, 3, 38, 33, 5, 20, 40, 39, 61, 39, 6, 3, 25, 10, 17, 45, 48, 33, 60, 56, 21, 24, 61, 19, 59, 3, 58, 19, 15, 27, 35, 48, 18, 3, 18, 41, 53, 62, 8, 31, 44, 10, 45, 56, 19, 34, 36, 4, 41, 35, 21, 45, 29, 34, 10, 52, 19, 47, 50, 44, 61, 57, 30, 57, 40, 42, 7, 47, 44, 24, 60, 26, 22, 40, 36, 4, 48, 56, 6, 20, 20, 1, 50, 52, 36, 51, 7, 58, 34, 46, 41, 46, 15, 45, 46, 50, 23, 6, 58, 17, 9, 13, 9, 3, 16, 20, 9, 27, 32, 37, 19, 1, 34, 29, 40, 3, 34, 39, 6, 4, 19, 31, 13, 60, 60, 14, 39, 39, 2, 35, 28, 27, 61, 61, 6, 52, 4, 35, 11, 24, 58, 38, 47, 29, 20, 23, 2, 14, 39, 28, 58, 13, 20, 22, 45, 42, 4, 47, 9, 11, 28, 51, 12, 44, 53, 33, 38, 27, 54, 52, 14, 2, 53, 10, 59, 24, 46], \"Freq\": [0.9880663409841737, 0.9608392003381777, 0.9771953004408374, 0.9912818695063157, 0.9913103637140571, 0.986274115776659, 0.9840139219532632, 0.9907503467216751, 0.961462059019427, 0.990666691168867, 0.9892118145243874, 0.9917806238541096, 0.9971086199327581, 0.9956475113810224, 0.9944281583380516, 0.9779555606693904, 0.9934618004939609, 0.9963741546218405, 0.9971584421779496, 0.9975323380364632, 0.9990641480379266, 0.9944565386626947, 0.9917687998291815, 0.9918079621562452, 0.9916834640066725, 0.9880970755833467, 0.9969456890317189, 0.989333961386542, 0.9823879207079862, 0.9981518271303594, 0.9774374995639418, 0.9864954596599163, 0.9985738467961118, 0.9815571276470579, 0.9870927478258473, 0.9986400641772509, 0.986213581460648, 0.9839048278083271, 0.9928656166649151, 0.9827793557800818, 0.9948374637664115, 0.9939040401807993, 0.9978772053263104, 0.9832608644472592, 0.9496057100069848, 0.9979504036159629, 0.9982198028382163, 0.9899421746451568, 0.977098509850845, 0.9761138581818571, 0.9830159587689206, 0.9949687649977118, 0.9676117588713881, 0.9865399831515177, 0.9808661587117148, 0.9856831537000603, 0.9896952771634515, 0.9941544405593548, 0.9967396259850282, 0.988440760764513, 0.9961744598694092, 0.9889102270089012, 0.9806057878645527, 0.9993751573637484, 0.9988392956790622, 0.993588944792718, 0.9976954507497514, 0.9667733224753651, 0.9927968913651939, 0.9156867900896744, 0.9947586195967655, 0.9894316650233291, 0.9876952761346965, 0.9982971791596498, 0.9931052816721442, 0.983121971257119, 0.9968375753127399, 0.9953388485824344, 0.9923420814312289, 0.9905177373972996, 0.9974896335882879, 0.9875124128528251, 0.9960740271894624, 0.34254010547549124, 0.9958929915124182, 0.9916998990327116, 0.9868246577994804, 0.9850374399450672, 0.9983965067057934, 0.9892504675499568, 0.9910219363681243, 0.9960120432167805, 0.997735506098061, 0.9875338456365934, 0.9867729573821772, 0.9911235975497623, 0.9971509744155834, 0.9823574245999013, 0.9755591453047942, 0.9897675160388811, 0.9969324778290073, 0.930871328258462, 0.9978645121877144, 0.9624345625219619, 0.9951973315808122, 0.987600044630537, 0.9951694003940219, 0.932232215116981, 0.9835948302352614, 0.9946639689130632, 0.9943369328847946, 0.9955998496492774, 0.9906185226723362, 0.9930167160854025, 0.9875470397241132, 0.9845684354257637, 0.9928103414340945, 0.9761753748350555, 0.9949986911493974, 0.9749632355637278, 0.9881149970325686, 0.9896829099446108, 0.9980828761485891, 0.9979485171288969, 0.9802043205646257, 0.9946734234972555, 0.9993502985878369, 0.9946750638838608, 0.9872107644431666, 0.9966408317279756, 0.9993341062487568, 0.9982902683275084, 0.9883353941476132, 0.993241459237725, 0.9978415116425844, 0.994811885439716, 0.9818732910001172, 0.9909308220668219, 0.9977489690488883, 0.9894383953052549, 0.9885904750536898, 0.9865662064533873, 0.9816205679753226, 0.9770776032897509, 0.9951796805839357, 0.9914514515911864, 0.9961467507258546, 0.9902588088840221, 0.9971217485721532, 0.9618701627224628, 0.9640969782032558, 0.992484043150445, 0.99723265900895, 0.9544413234917457, 0.9980417258799554, 0.9991858054058702, 0.9863429878104338, 0.9672528803866149, 0.974474355258559, 0.9924514227572567, 0.9796624799356491, 0.9938275137213969, 0.9771079718698762, 0.9982443300813948, 0.9793198227794254, 0.9833101347905978, 0.9914721645886448, 0.9766787746508371, 0.959948483416689, 0.9994515177319797, 0.9919673592492073, 0.9815168244623508, 0.9642759264050194, 0.9843629494300117, 0.9970715050285, 0.9980385056472462, 0.993393379590655, 0.9893420919994347, 0.98778921851891, 0.999275571022104, 0.9691721271815861, 0.9939658843524463, 0.987160843585984, 0.9956492127772847, 0.9929999904904635, 0.9873048014427385, 0.9767789924791415, 0.9882436769164855, 0.9975634927336944, 0.9958578613543708, 0.989445991085486, 0.9597188735128068, 0.9943375657525209, 0.9936112413757431, 0.9756415085782035, 0.9974590417934591, 0.9982499588788719, 0.9943511421348664, 0.9668268545684529, 0.9894164236731674, 0.9756216419724951, 0.9921618682545604, 0.9982816446233237, 0.9681240748419518, 0.9789430884464753, 0.9936431111593842, 0.9938441650192396, 0.9992377086255326, 0.9951915488546298, 0.9752619527558493, 0.9989612721734732, 0.9964720065725612, 0.9836470082654301, 0.9623649193238865, 0.9922803139784633, 0.9949446512220148, 0.9960916400376946, 0.9837039110648419, 0.9732472859536637, 0.9972996301118079, 0.9868470199633299, 0.9920790524449155, 0.9968719619725959, 0.9688640789653589, 0.9924845109081653, 0.9632551232168538, 0.990463104820144, 0.9976808689235417, 0.9908629129241204, 0.9987143956008718, 0.9774519063503225, 0.9974556574501475, 0.9975135500213802, 0.9976568365863246, 0.9966231850341729, 0.9935619150588444, 0.9893192240674553, 0.9877998033338983, 0.998814157812628, 0.9863828817012696, 0.9706896345172238, 0.9924704756793974, 0.9975636932808474, 0.996353426883806, 0.9503588315968448, 0.9667638735288686, 0.9982809075299522, 0.9950430380454115, 0.9502061362942417, 0.9939594498188157, 0.9614653886169892, 0.9981232330946793, 0.9959382174729783, 0.9907101662158718, 0.9971246620378206, 0.996774217462127, 0.9962978523965291, 0.9815756004870347, 0.9990883279324699, 0.9943790870889793, 0.9991718506965148, 0.9909691076900413, 0.9914849342966272, 0.9835085371216098, 0.9277729585434802, 0.9975613121724477, 0.990511497769601, 0.9896610207303899, 0.996551105385896, 0.9909908089691856, 0.9991640260294099, 0.9723944122704663, 0.9751061513774657, 0.999110620932684, 0.9937467351803759, 0.9908427414271829, 0.9948663235132773, 0.9855491598934231, 0.9746842240343689, 0.9891486712446778, 0.9965906532765586, 0.9979484991414243, 0.9963949988523636, 0.9783481785267805, 0.9656908799787438, 0.9977298949371376, 0.9365856317926599, 0.9819533351150017, 0.9956280745901528, 0.9899477791972505, 0.9966314910226153, 0.9994692347182024, 0.9975639426184019, 0.9935138629736733, 0.9890264138920901, 0.9968562593519856, 0.9973754753278752, 0.9947755500466529, 0.9829361453013923, 0.9921582601192056, 0.9478274394999567, 0.9757335624459768, 0.9889948626004159, 0.9497943387134422, 0.9989723175443003, 0.9762898586509695, 0.9972781093902432, 0.9820312213949872, 0.9973684663026479, 0.9985291530494825, 0.995862736597866, 0.9843902401824766, 0.9914340067083826, 0.9880236951279251, 0.988795589438675, 0.9971487606560319, 0.9820144754629482, 0.9514971279497882, 0.9892236293958403, 0.9969918971518272, 0.970451992210418, 0.9947135117683896, 0.9961832528690909, 0.984087608054084, 0.9852628714703224, 0.9905602746145684, 0.9970788054324409, 0.9707965620120766, 0.9866078737826093, 0.9921067707099448, 0.9975386912872249, 0.9987325530834742, 0.9891630644425777, 0.9632975190039168, 0.9893593265264641, 0.9969271084738613, 0.9927458251759531, 0.99067099742838, 0.9971264761618794, 0.9888814308000189, 0.9804957927590301, 0.936326723437335, 0.9867586493042855, 0.9862869972875292, 0.9989894605144862, 0.9970858839824339, 0.9808062279315306, 0.9979090423909933, 0.9886210733335161, 0.9757813710116018, 0.9923893175738304, 0.979418197478081, 0.9876219549021927, 0.987263100907167, 0.9873915211777076, 0.9748600090608912, 0.5821612230742297, 0.9702970327422794, 0.9919508746442376, 0.9838549252423457, 0.9922528067898714, 0.9966267561569679, 0.9852719496402568, 0.971378367961746, 0.9890610904132479, 0.9818425184758666, 0.972022041832597, 0.9814600480484106, 0.8553744468668497, 0.9829184401663711, 0.9972110332134011, 0.9728450551223304, 0.9943109828632589, 0.9870407279202082, 0.9963511483117756, 0.994997431718891, 0.9944849310041776, 0.9861516572882117, 0.9631626978645373, 0.9978697160677379, 0.9984671439714846, 0.9921928275944436, 0.9752969705321959, 0.9825084121436923, 0.9987561144396452, 0.9930912570581937, 0.9837074585910821, 0.984933567064137, 0.9977870043659781, 0.9835412582988694, 0.9992586700204159, 0.9967731705365146, 0.9988602339133679, 0.9916391300788878, 0.9889826701398775, 0.991618826768047, 0.9922963762944809, 0.997116545430037, 0.9989476564333202, 0.9864965510292031, 0.9952908723177067, 0.988331689762582, 0.9800480869592361, 0.9970097207498083, 0.9890490299991089, 0.9915301521581334, 0.9614248251274412, 0.9857513833350642, 0.9836600129878218, 0.9902222641954755, 0.991156506149334, 0.9978870669866118, 0.9958940364511808, 0.9862400601903817, 0.9738513081700451, 0.9968747325355045, 0.9982331146933164, 0.9967193852695317, 0.9810785151814819, 0.9711910626599161, 0.9596669139630819, 0.9991447695004183, 0.9888998308415776, 0.9944048671844904, 0.9805081950027585, 0.989488597624048, 0.9966018171097045, 0.9807746064257028, 0.9632906142670604, 0.9941290429595451, 0.9970796207694134, 0.9901484915731608, 0.9968129719269959, 0.9989514853430552, 0.9901520260520765, 0.9993889334792895, 0.9975277963761314, 0.9862151619622176, 0.9997654618341406, 0.9956427587248173, 0.9925206532028481, 0.9992518707558876, 0.9656565051062216, 0.996018012526635, 0.9983337162317621, 0.9976912561323736, 0.9866934880129274, 0.9979907710886057, 0.9900573674607286, 0.9962765655525369, 0.9702505836416013, 0.9801439538441742, 0.9930911147083337, 0.9884048445678945, 0.9945766293461791, 0.992464054985903, 0.9862001207740453, 0.9749548889029452, 0.9933592204479279, 0.9905308784565338, 0.9921835922956698, 0.9730483008038707, 0.9659255788557615, 0.9903872252843079, 0.986360832248461, 0.9933236809379208, 0.9683083877250688, 0.9510736407196307, 0.9882446277885113, 0.9900564606226203, 0.9955774615788556, 0.9974002700594583, 0.9928796846486099, 0.973846926847384, 0.9918985280758674, 0.98610155836798, 0.9920107009831959, 0.9241788796215922, 0.9962058646369362, 0.9977058164382985, 0.9859470515399567, 0.9977429766267294, 0.9932979011909698, 0.9964739229212259, 0.9715985346780748, 0.9972255224360813, 0.9969466970089652, 0.9858731960831193, 0.9968062076866252, 0.9698186776869331, 0.9956055863435963, 0.9878511617154402, 0.9862211399285278, 0.9997830500344125, 0.993042027015747, 0.967331319243347, 0.9619944384566065, 0.9983920088644346, 0.9885605580683674, 0.9942756438216711, 0.9631537252783368, 0.9958058171594938, 0.9988052281735857, 0.9783785405475375, 0.9993549033860217, 0.982270660492162, 0.992354889387379, 0.9931853045966682, 0.9646603531267681, 0.9954437776352695, 0.9965798526862878, 0.9815792930727607, 0.9964048504248968, 0.9795082633525141, 0.9753304093421422, 0.9869906108600253, 0.9982602324098323, 0.9589654016053081, 0.9995103816441215, 0.9958605164218779, 0.9864559524285856, 0.996988839805424, 0.9987435689877803, 0.9833624631674387, 0.9881222474435526, 0.9471551020751234, 0.9852643256540672, 0.9835997713669877, 0.9987072426011497, 0.9993050393357276, 0.9949091064047684, 0.9832165000292664, 0.9965889084688051, 0.9938628319398481, 0.9926396181343944, 0.9967013077967342, 0.9933086333709352, 0.9920324710328465, 0.997795754544736, 0.9899199773485741, 0.9826122577641025, 0.9901804533605763, 0.9743018817744167, 0.980813226840422, 0.9875904761066636, 0.9847575034248272, 0.994348570818172, 0.9886070255282005, 0.9966702962579206, 0.9984617823184532, 0.9969215416477711, 0.9399370979597212, 0.9797181055133382, 0.982856396615922, 0.9853313506527337, 0.9929295428989259, 0.9895969375793362, 0.9937106965726717, 0.9896571412298151, 0.9932733438836341, 0.971171101495064, 0.9670013768092435, 0.9452138565785108, 0.984713662220143, 0.9970144638518892, 0.9966089916020616, 0.9968498760959704, 0.9943586176078435, 0.9913340060430176, 0.9855972029901932, 0.990732668441821, 0.9409188804709763, 0.9918231248608427, 0.9880594910955021, 0.9942873467193859, 0.9897624856917793, 0.989752098921252, 0.9834186016480732, 0.998040033510886, 0.9972177230033271, 0.9979169067284526, 0.9980733529964202, 0.9899546535666561, 0.9800233888080485, 0.989791551425794, 0.9977620200270115, 0.9633498729759761, 0.9992757396840845, 0.9990104656218284, 0.9866428646046123, 0.9596331431152877, 0.9968364195117683, 0.9906574574437913, 0.997996021713063, 0.9833285801456865, 0.9930598810800354, 0.9933019250672789, 0.9993708802025927, 0.9635053073133779, 0.9993027936254744, 0.9967120364038965, 0.9969310670994209, 0.9820093616785396, 0.9535311445437391, 0.9531886522538278, 0.9865115090322216, 0.9995285433494363, 0.9979820586813073, 0.9699734492419623, 0.9881934449204006, 0.9799293668136532, 0.9990539986241131, 0.9983175205470055, 0.990344129403816, 0.9875690748269654, 0.9983452339260465, 0.9918645858416032, 0.963739779811785, 0.9857196251621803, 0.9968269598437687, 0.9948142520903063, 0.9987308316415725, 0.990328571224571, 0.9946113117523605, 0.9985512246649304, 0.9966490637671999, 0.9885493971022045, 0.9824584567586504, 0.9965689622378789, 0.998797759101323, 0.9993205345944289, 0.9934341908355524, 0.99051211133069, 0.99214634344474, 0.9931715633734938, 0.9979678197047519, 0.9830750129063834, 0.9804570741359376, 0.9947440694159138, 0.9976499532425006, 0.9818633912332944, 0.9813805601763931, 0.9890526746507299, 0.998482387916975, 0.9970789752087343, 0.9767803020703758, 0.9941708818670053, 0.9962895337192129, 0.9769907040300825, 0.9943189835127759, 0.9961476161292246, 0.9930185005925045, 0.9955587238439221, 0.9842386251688511, 0.9895406369032267, 0.975918522549658, 0.9916020914593894, 0.9775462073513279, 0.992443894805257, 0.9943300077622588, 0.9856640810298704, 0.9930327400439406, 0.9883960228589561, 0.9989038197943909, 0.9932197312294048, 0.9892503080285541, 0.9982116739375493, 0.9946322720923364, 0.9987659028127909, 0.9941354269655915, 0.9942721532359071, 0.9875499734228543, 0.9974127384244161, 0.9945069435036398, 0.9697160087827864, 0.9847482896581775, 0.9965327014079686, 0.9982221402152861, 0.9926046184297943, 0.9989268289384594, 0.9903755330567732, 0.9935330829036939, 0.9717496460311448, 0.9991058235468249, 0.9694817030774865, 0.979155366663714, 0.9794591016600251, 0.9948074538234289, 0.9891400823405416, 0.9941702040578231, 0.9843214305343866, 0.9825632961955933, 0.9903105733363244, 0.9882864458501556, 0.9942226775178346, 0.9983587121925461, 0.9822302880889042, 0.999203293192919, 0.9922998046153184, 0.9985222282262368, 0.9850898405478842, 0.9926155236490518, 0.9865879923209028, 0.9761826610983363, 0.9974614733841259, 0.9716286652910214, 0.9932850979593825, 0.9846076726748233, 0.9030951477232787, 0.9995059419095514, 0.9906877346441253, 0.9912254665195508, 0.99442788079478, 0.9870097832040142, 0.9957454794940058, 0.9966938853744961, 0.9878412977082267, 0.9945606392695212, 0.9994181281556842, 0.9989625828458438, 0.9489982251241734, 0.9844800626222494, 0.9899054674720443, 0.9949183480260022, 0.994811800167958, 0.9949359907618262, 0.9982167981135359, 0.9656637707777497, 0.97910080846205, 0.9965583864047459, 0.9820162004914995, 0.9889023428765306, 0.976928353506847, 0.996710244563056, 0.9782416750697206, 0.9975223713359153, 0.9900375391461327, 0.9641600822730315, 0.9972884005759407, 0.9955916039777147, 0.9935153643002073, 0.9915359358693381, 0.9965561862658044, 0.9987120102950371, 0.8810888256214797, 0.9977961382475959, 0.985731614206498, 0.985515505001769, 0.9860280467628452, 0.9961682430060808, 0.9899325977423444, 0.9882217680562444, 0.9978839820281823, 0.9956490126103478, 0.9990909451984404, 0.9977488027026437, 0.9964454124809002, 0.9993455144190662, 0.9961756323521965, 0.9922591540411169, 0.9937054747474806, 0.9985437532742544, 0.9958903452458651, 0.9951912495601972, 0.9990785284261606, 0.9883608736650941, 0.9850147307738973, 0.9771521886838855, 0.9857509496085907, 0.9878808526620677, 0.9406724033405802, 0.9942598863664971, 0.8420299920232608, 0.9953686977471321, 0.9982478017026751, 0.9982749835628199, 0.9471573828144999, 0.9975384900681962, 0.9909805129009229, 0.9988784214844518, 0.9975469576246596, 0.9995343405378093, 0.9534555879194619, 0.9744412723620268, 0.9962056195421108, 0.9978357277944389, 0.9873331957280634, 0.9969454871977025, 0.9980612440217259, 0.9984575047333826, 0.9989666762226408, 0.9953464876042061, 0.9963815833376636, 0.9937288188088214, 0.9959844547559389, 0.9796021814027486, 0.9896063282039789, 0.9948554924896904, 0.987709002061253, 0.9953963862002778, 0.9982965929457395, 0.9955488514684006, 0.994672552825533, 0.9962288660555947, 0.9991243090528908, 0.9880078825164077, 0.9821188747896953, 0.9959884947423989, 0.9870567701496005, 0.996994414854002, 0.9845996322188331, 0.9873628549398514, 0.9763934481672938, 0.9847093750450449, 0.9877653462813579, 0.9955838590635991, 0.9979276984108811, 0.9742727927564654, 0.993036333591332, 0.9949703174220964, 0.9956237465580757, 0.98735588401264, 0.9554001831089957, 0.9777131350125072, 0.9950265772950285, 0.9874539764909844, 0.9916362027156629, 0.9777032382347197, 0.9846948670682384, 0.4691393417587259, 0.9437948094359833, 0.9863810759399505, 0.9878873014535646, 0.9451517938363451, 0.9990536734911544, 0.9937905000655624, 0.9575605509777971, 0.9921050327291369, 0.8394048090312191, 0.9845395056269017, 0.9528601105217769, 0.9852312433960196, 0.9976665369050779, 0.9961069593688953, 0.9984311186835755, 0.988542045911378, 0.9832779568480262, 0.9863610810561927, 0.9901938161584352, 0.9900713909978929, 0.9767541533572376, 0.9920852129474693, 0.9878064078241238, 0.9838845922131373, 0.9806886693849404, 0.9930145676832587, 0.9879573255694717, 0.995964684605399, 0.9969976864882796, 0.9885738481569613, 0.9979259800557168, 0.99411780959536, 0.9946246338698844, 0.9896274328114283, 0.9868055188091683, 0.992632206602033, 0.9857330665043567, 0.9951471036870156, 0.947348981521333, 0.9510689924077057, 0.9943699087911605, 0.98217789424093, 0.9892043310104666, 0.9847041864730166, 0.9867679835428999, 0.9738954375370646, 0.9895000322246369, 0.9942649415054072, 0.9945662387266578, 0.984179821387417, 0.9950245818668662, 0.9883398744771883, 0.9954612846963756, 0.9886951491159265, 0.998941468017825, 0.9889701315783658, 0.9587564247330181, 0.9975106705012838, 0.9958173821896621, 0.9971617792931537, 0.9939584893559618, 0.9839556896463427, 0.9952165969248987, 0.9907234854515288, 0.9902226336135328, 0.9684388418992557, 0.9952585551150482, 0.9978023337529992, 0.989917755244439, 0.9549899139538498, 0.9947086714997662, 0.8561394535521311, 0.9929644933816316, 0.992360404151196, 0.9931469515635776, 0.9930747335694696, 0.996441553329433, 0.9902139447760436, 0.9832312995684193, 0.9641880687072321, 0.9725842733309077, 0.9907215691953212, 0.9177382886737994, 0.9976399433568924, 0.999728617572321, 0.9984041786017188, 0.9676697313168647, 0.991381921557555, 0.9983310733158737, 0.9901079662396345, 0.9933169683714581, 0.9887567389391616, 0.9801455342755451, 0.9944208149493562, 0.9962203677210653, 0.9969042813570268, 0.9952958077051808, 0.9965524903803155, 0.9899358006137844, 0.9948384369335245, 0.9495707265794586, 0.9842085075306751, 0.9981394644234675, 0.9957398824974326, 0.9902134619951505, 0.9988581349181251, 0.9948339926698538, 0.9980010652210812, 0.9961334169310044, 0.9949426913190044, 0.9894332747073744, 0.9988944183912809, 0.9960496763743223, 0.9873537063898272, 0.9989999787981817, 0.9990862372967949, 0.9936132639608626, 0.9907244560693474, 0.9947764625039326, 0.9901478553906579, 0.9461817865654001, 0.9915169209433642, 0.9778578371039296, 0.9980635243994611, 0.9934690655039858, 0.9968009078869882, 0.9836377338888962, 0.9850380767639666, 0.9816028790118565, 0.9960932273826097, 0.9995887996329227, 0.8421165630924142, 0.9927684236043917, 0.9818383504109912, 0.9985805492904309, 0.9693210431862168, 0.9901172463327926, 0.9987658535539268, 0.998733988899733, 0.9845265226557112, 0.9977140351136946, 0.9942597803512092, 0.9850059040079537, 0.9992856864978942, 0.9735684085117045, 0.9923348568031353, 0.9420042077653547, 0.870860987038686, 0.9981672936189873, 0.9908843973243708, 0.998591786369339, 0.9988861083661934, 0.9943504498761175, 0.994744302400123, 0.99969303048801, 0.9986353105268225, 0.9279393246657354, 0.9863346854535648, 0.9928252578756029, 0.9917259632813745, 0.9965937726442796, 0.9972135799238578, 0.994622441426696, 0.9858248305625005, 0.9949879803663243, 0.9814238447684704, 0.995140250070144, 0.8991940627084897, 0.999790194079708, 0.99736661446782, 0.9916119878379386, 0.9922664900062138, 0.9828263195592521, 0.999552824905833, 0.9641496107811738, 0.9907380323784716, 0.998222074810666, 0.9849581159143007, 0.9939902443663985, 0.9970923029375253, 0.9874445569493833, 0.9975485381801407, 0.999527920959665, 0.9982778610318038, 0.9801830033069125, 0.9932583034632392, 0.9865480624394408, 0.9884655197621116, 0.9876434394785295, 0.9909951555689297, 0.9874333809821347, 0.9969823503594745, 0.9581598055530928, 0.9864172413254942, 0.9835796778103681, 0.9804931121430557, 0.9902095757063546, 0.9969991243280054, 0.9545331534794887, 0.996954475761451, 0.9835714514760177, 0.9970785744252111, 0.9931392700577928, 0.9958693562310555, 0.9989014651786682, 0.9912425286327567, 0.9936286962070885, 0.983934622079553, 0.9876013111917438, 0.9817755747853478, 0.9976439457647905, 0.9719716082050261, 0.9900180146205774, 0.9959943319813428, 0.9946309064638612, 0.9928815865168485, 0.9952395911798646, 0.9875742286270367, 0.9975757998370693, 0.9898482027392428, 0.9984034544024656, 0.9849210179799449, 0.9387576479416591, 0.9887980654784128, 0.9934382169286422, 0.9965737772465131, 0.9959527768387224, 0.993516012582319, 0.9903802470617944, 0.9973829716175121, 0.9865391747412826, 0.9867092103117998, 0.9983088925424086, 0.9959887277186622, 0.8657618167581256, 0.9988410217026497, 0.9926438601742376, 0.9809408871343611, 0.9971896757576194, 0.9675935344476737, 0.9881814918614469, 0.9775201790858442, 0.9604646781253727, 0.9994421477552695, 0.998445253468544, 0.9808706205387846, 0.9991136797713015, 0.9879606703960909, 0.9682796249082434, 0.9864013463040829, 0.9760248023370923, 0.9971026969322334, 0.996618809441423, 0.9971833129550857, 0.9661118520675236, 0.9993994833408814, 0.9982939471079342, 0.9862368403360212, 0.947615818679824, 0.9918631681637126, 0.9882790367366598, 0.9977861107621865, 0.993979173781178, 0.9982511049434662, 0.9721206903588344, 0.9792615808497598, 0.9787954635558908, 0.9950364935447242, 0.9981190510378329, 0.966119818962993, 0.9575722215180303, 0.8467017428278054, 0.9847003259849275, 0.9898321565709376, 0.9927584464840168, 0.9933111243308813, 0.9971289714963031, 0.9869103139860014, 0.9964112338653482, 0.9958724384579758, 0.9987102473821781, 0.9610537735391181, 0.9944090845403761, 0.9153086535312506, 0.9215195064714479, 0.9731789067091811, 0.9933673003363562, 0.9681550804457799, 0.9921525429123836, 0.9857069297552701, 0.9888783332490091, 0.968464957742944, 0.9077603567706829, 0.978848562517422, 0.9852983246009577, 0.9915665625756763, 0.9985116305555415, 0.9937877203777332, 0.958355337291383, 0.9528035479607917, 0.9980005480212595, 0.978694466137661, 0.9788407974891011, 0.9784514791517438, 0.9778437451400408, 0.8881984941549825, 0.9931744784350864, 0.9662791069872898, 0.9973277970647407, 0.9846789879578629, 0.986811177171364, 0.9948358694859113, 0.9963400430326577, 0.9973906326964759, 0.9983416933917003, 0.8915852483424693, 0.9908790170064887, 0.9885208665953429, 0.9824682777637709, 0.9839657335653775, 0.9972455882146314, 0.9981903605463236, 0.9782710588157102, 0.9954000979797405, 0.994842334341269, 0.9795489812395012, 0.9955793564699669, 0.9864443360530637, 0.9982910033897766, 0.9932361583759776, 0.998504857647323, 0.9991507450185837, 0.9930004489602411, 0.9912124766354787, 0.9440491466443593, 0.993309205086174, 0.9940723159201574, 0.9877556728487402, 0.9965892724846711, 0.9883369449028767, 0.9911724982393134, 0.9899119454348135, 0.9981461853294966, 0.9713902198254437, 0.9521793049938775, 0.9944388749261707, 0.9861251009201962, 0.9949842765460339, 0.9886273088780745, 0.9953581221186758, 0.9852630746003157, 0.9886821911142356, 0.9970629725878228, 0.9973239300039722, 0.9900021180610457, 0.9900661541635157, 0.9876619707197506, 0.9905663952405634, 0.9972296172448014, 0.9938412579783511, 0.981283747871485, 0.9993787852461248, 0.9973516623658661, 0.984080582951977, 0.9936757972973552, 0.99935944072364, 0.991205104158289, 0.9968722894914616, 0.9923386483541365, 0.9864851997287983, 0.9762057168079213, 0.9800148824490592, 0.9918020569760541, 0.9978971021377653, 0.9810384866088183, 0.9915994400032354, 0.9972345261475823, 0.9922257993145551, 0.9990245156533007, 0.9886798901659514, 0.9949634711567685, 0.9757215267957204, 0.9835616673690949, 0.9995967405697507, 0.9989793193562562, 0.9944762131661086, 0.9953594997170991, 0.9930967390802593, 0.9837285188017817, 0.9957815119553383, 0.9824904539128196, 0.9753910731963609, 0.9953544277250557, 0.9999046348064509, 0.9966838799936304, 0.9892495333233258, 0.9818396456470828, 0.99861685665154, 0.9988734075866019, 0.9968177766737807, 0.9913525022784869, 0.9942772236762394, 0.996829588301718, 0.9985515491011667, 0.9993305534547713, 0.9982658040213067, 0.9968148287779516, 0.995344561797991, 0.9904678353196005, 0.9984324996893024, 0.9960556264087139, 0.9756326448345194, 0.9884123338456648, 0.9971882713334256, 0.995418994665721, 0.9933725250177113, 0.9947400047557325, 0.9954658132349739, 0.9717827344278113, 0.9980607268683375, 0.9965367092406173, 0.9785744375654499, 0.9906017050618793, 0.9878305679547672, 0.9886483942222187, 0.9965596639835955, 0.9782558980718213, 0.9938646256099124, 0.9984197235052695, 0.9950916891077689, 0.9818884043191559, 0.9926363983519163, 0.9987644660754881, 0.9866979986013357, 0.9962310569781496, 0.989931364917273, 0.9774578287505249, 0.9939893651962909, 0.981397176179249, 0.9969195603518468, 0.9912192819694875, 0.996152852451372, 0.9962491412260244, 0.9984124986480138, 0.9867794336140657, 0.9764277663439291, 0.9965553744083142, 0.9877061574707142, 0.9859400973528099, 0.9822037112460086, 0.992479888854905, 0.9945759231273081, 0.9791389503835012, 0.9900923396035671, 0.9952644959873856, 0.9849049277236354, 0.9932002307917932, 0.9868600597147718, 0.9987561568146972, 0.9890370655652396, 0.9736069264637557, 0.9821303992233563, 0.9925445246457615, 0.9898427487465622, 0.9804624411737992, 0.976495204556657, 0.9953304846096493, 0.9977967802984198, 0.9929102776093185, 0.9934206617762463, 0.9865841175578937, 0.9930109593663253, 0.9707808854940765, 0.9968185613392335, 0.9950637609337004, 0.9709260082428781, 0.997316184818209, 0.994104302584837, 0.9943855451540289, 0.9965215368847786, 0.9825649302802396, 0.9962015832603413, 0.9793211949845714, 0.9939373556499739, 0.982625543739883, 0.9771688230555886, 0.988318624507221, 0.8867826123566545, 0.9946472283095991, 0.9968868551016467, 0.9967952663945777, 0.9965657900497698, 0.9878904575871417, 0.9991295629018089, 0.9807036996435387, 0.9945642727445441, 0.9978289524313833, 0.9973190658864561, 0.9940932893866221, 0.9722385468366725, 0.9910241478850649, 0.9361318135918122, 0.9775254775606718, 0.9681044788245936, 0.9799401182259337, 0.985160445274422, 0.985239189212247, 0.9910782161275554, 0.9851162781914524, 0.9936533146308092, 0.9901416445228549, 0.9851713930265056, 0.9953266806640259, 0.9975110288506203, 0.9946654800854845, 0.9975428183114936, 0.9958801360280545, 0.9989444923745971, 0.9884498896274608, 0.9742103706433569, 0.9992013508004294, 0.9788278412293099, 0.9902359676934955, 0.994753732732626, 0.9858825032560559, 0.9881941375242291, 0.9847932045250399, 0.997210097812049, 0.9986467944477891, 0.9974814139596592, 0.9890778425725488, 0.9969427229303951, 0.9789573130239043, 0.9935440933285897, 0.9922190726997311, 0.9901887747535348, 0.9908397662454946, 0.9489826614076959, 0.9920621248307682, 0.998315769784558, 0.9958010763909184, 0.9903050372500631, 0.9762213740078249, 0.9906277885616255, 0.9792139953175211, 0.9863730203670704, 0.9960813659930596, 0.9759396677222797, 0.9946498827849154, 0.9737910000280006, 0.8463805451392399, 0.9935383674789052, 0.9994386278094033, 0.9894725801869433, 0.9964960090445721, 0.9804193748681096, 0.9877996805479655, 0.9886491990658605, 0.9910946595842729, 0.9937892877253349, 0.9906422515884451, 0.9931389100276561, 0.9968219552146518, 0.9917813830303736, 0.9931656000952608, 0.9746596808474415, 0.9973698125761203, 0.9958339057505814, 0.9966458480399891, 0.9924355164082397, 0.9957695123935061, 0.9779937830516655, 0.9810760378015411, 0.9887838593727201, 0.9885629354788704, 0.9983990941430413, 0.9852744135250835, 0.9991364016064543, 0.9826863692089169, 0.9977950686370486, 0.9924880743828369, 0.9954114933922571, 0.9976268562936339, 0.99161020909309, 0.9778524232559528, 0.9879482322988506, 0.9973090928236139, 0.9908032073845899, 0.9984066104781423, 0.9988910895392324, 0.9881997797778561, 0.9877029847788712, 0.9931883051721794, 0.9956535905342756, 0.9898224025690701, 0.9968510345287742, 0.9735624482984383, 0.9741956901741131, 0.977745532152768, 0.9957561072531617, 0.9938068131924538, 0.9837234115613331, 0.9953415551766567, 0.9868546994591104, 0.9979310763584426, 0.9939460496142662, 0.9961047541969734, 0.9876830925919052, 0.9834850820335759, 0.996037217411653, 0.9963658750790044, 0.9956307178613356, 0.9986206243549316, 0.9956350983005684, 0.9983545507443754, 0.9905025127511706, 0.9848443657344294, 0.9902260908434815, 0.9944664009582346, 0.9880096870787195, 0.9960871393749253, 0.9955021737695352, 0.9879641705910485, 0.9805741633590267, 0.9713212299675376, 0.9816309680518432, 0.973820040290587, 0.9762338385204236, 0.9918952223053454, 0.9488393888645674, 0.9928282504437985, 0.9770820209202461, 0.9927033702780497, 0.9898986294140818, 0.95586906551635, 0.9987637438563784, 0.9907737149097656, 0.9784306476507818, 0.9950204940895708, 0.992429251412452, 0.9791438103738734, 0.9902223044483615, 0.9622606032215745, 0.996219832918241, 0.9991556001937699, 0.9728207668781031, 0.9960350827038815, 0.9941943091168784, 0.9969125301147056, 0.9946846881825648, 0.9956318326559327, 0.9973001826218387, 0.9983841011081799, 0.9960166951521944, 0.9888866153020881, 0.9987213949106133, 0.9952137642511156, 0.9855190328906489, 0.9836204748585455, 0.9967740869642391, 0.9985262217151737, 0.9648441012743133, 0.9961150819066992, 0.9851902379457566, 0.9600929321354633, 0.873040052316933, 0.9953778709648959, 0.9967431753929376, 0.9988870846026469, 0.9598151563433247, 0.9896038483079364, 0.9940340145187897, 0.9989641568862233, 0.9904912582762629, 0.9647883586160607, 0.9546585983105078, 0.9985062782373387, 0.9838818244971016, 0.9988590398590719, 0.9906562678208042, 0.9830184785845864, 0.9821448987545386, 0.9724834949571471, 0.9987527658092052, 0.9977830250465339, 0.9589821092419013, 0.9868947915469733, 0.9982313618422521, 0.9913113156616782, 0.9837245262417373, 0.9398395889974487, 0.9991350422955672, 0.989295598912565, 0.9944118140192161, 0.8815774087882862, 0.9829131099849374, 0.9969985885035978, 0.9723096275165143, 0.9579584166537647, 0.984612918959087, 0.9809623947382722, 0.9864423486255653, 0.9961684711438206, 0.998690200907294, 0.998111063082239, 0.9903600617005016, 0.9954139642053008, 0.9962286497173289, 0.9884892157558318, 0.9971464978775377, 0.9598276706251299, 0.9884429240379445, 0.9898197784143127, 0.9948652590001231, 0.9974347789475791, 0.9970127919258329, 0.9845785399058762, 0.9936008227284956, 0.997908453826663, 0.9928507341720718, 0.9945875869260231, 0.9823391345208454, 0.9984148043633714, 0.9902723531903161, 0.995894368563489, 0.9797530307917933, 0.9331590052818998, 0.9886546591668356, 0.9911152890208406, 0.9981159590743823, 0.9974232613527289, 0.9931239597922703, 0.9892818157370856, 0.9977497176548559, 0.9899781605390451, 0.975866652006364, 0.9946713729859074, 0.9975858860643928, 0.996080078840033, 0.9929648500701006, 0.9972060904333127, 0.9946979843007394, 0.9943797041256435, 0.9794321291701343, 0.9970356780704707, 0.9980300277906374, 0.9724938899410839, 0.9965851228936988, 0.9982869152038474, 0.9568138506697671, 0.9940104690892836, 0.9928672465137728, 0.9932454591235346, 0.9776354408881137, 0.9873974870973452, 0.996091072969699, 0.9743841880625288, 0.9966896302395686, 0.797099511165894, 0.9971596386844211, 0.9994760345101993, 0.9904733260408707, 0.9676337362580975, 0.9758552940930278, 0.9987271470826848, 0.9885110726754576, 0.994986458248373, 0.9896246810583609, 0.9987864094274291, 0.9959975722208628, 0.9991452693786059, 0.9706459984121065, 0.9819032972903351, 0.9892431243076725, 0.9863599790714312, 0.9657635057331191, 0.9854321735118823, 0.992491946330255, 0.9988359251603025, 0.9980772114606062, 0.9929745227925517, 0.9988487464588424, 0.9948781196578499, 0.9786238520789681, 0.9970398152558186, 0.9963067024745247, 0.9962891674480944, 0.9943818809354534, 0.9901035729705442, 0.995804029365542, 0.9985476131812666, 0.9993533235002142, 0.9988367815437469, 0.9948506276609235, 0.9954552791460506, 0.9995223886949272, 0.9894302090748658, 0.9922677192922883, 0.9925301212925887, 0.9957701500804227, 0.9790631145036571, 0.9951459241054398, 0.99489410043339, 0.9971246164357875, 0.983461036268267, 0.9971506807772074, 0.9971819467024043, 0.9770242871452004, 0.9811633910433787, 0.9963273886694195, 0.9979584341859268, 0.9859240746588919, 0.9919858463097897, 0.9971459852651612, 0.9896662046674712, 0.986539777982833, 0.9843103100816349, 0.9788577993103189, 0.9959234975436524, 0.9640392179000657, 0.971816544649263, 0.9976696396689936, 0.9992750486079914, 0.9938863905935089, 0.9995983525813669, 0.98227618687454, 0.9803828597401947, 0.9977750711354726, 0.9940589734534644, 0.9534166403135681, 0.9990331575296549, 0.9934288243163762, 0.9925209528801571, 0.9988741495066069, 0.9958432815672174, 0.99575353360924, 0.9942545898146896, 0.9909809032310154, 0.9971466062417754, 0.979120759017839, 0.9990046486867984, 0.9892223041699557, 0.9978224842176817, 0.9667303274199273, 0.9910721207665277, 0.9820087586312496, 0.9790935647201494, 0.9984898261267112, 0.9963792165425346, 0.9885790846453563, 0.9945327409612141, 0.9949918732428965, 0.9760187564823671, 0.9863124976306036, 0.9930986036127383, 0.9994471170900272, 0.9981789210661642, 0.9666849482977116, 0.9922501203659946, 0.9901406877274076, 0.9944181104912946, 0.9462567566411666, 0.9968277029100416, 0.9933176738848958, 0.9926398275866064, 0.9883260819281343, 0.9932483102980361, 0.999604116602585, 0.9790322706772829, 0.9594368709189761, 0.9808975561202751, 0.9941998886566895, 0.9908692738642396, 0.9985564497599806, 0.9977791078566741, 0.9767072100837908, 0.9873758900408142, 0.9893671743649248, 0.986783966708833, 0.9933534841145438, 0.9898578675089418, 0.9870569949871059, 0.9759832233831356, 0.9759061198993934, 0.9920832611034894, 0.9968981011220542, 0.9921358997081282, 0.9931870198455814, 0.9983707412624488, 0.9826734556732414, 0.9966421396478236, 0.9956005859865962, 0.9944757419253244, 0.9910734063064862, 0.9933736388412271, 0.996150846646658, 0.996106829604135, 0.990843689410725, 0.9937887876785516, 0.9681158754743613, 0.993025205400814, 0.9879486248323137, 0.9994711193763001, 0.9972206432985978, 0.9980514387570182, 0.9928181276920772, 0.9971867670816172, 0.992785508957524, 0.9961903434808144, 0.9972911802021134, 0.9229719598484446, 0.9927204833835471, 0.9966522347073976, 0.991612332870988, 0.9983307231430653, 0.9587372586502605, 0.9414335241508845, 0.9990193532800352, 0.9749278137710868, 0.9979546612900879, 0.9973759586554575, 0.9852014505563784, 0.9984107637762869, 0.9920861686075086, 0.9959398295746932, 0.9974517386872138, 0.9804104773461055, 0.9664711663490045, 0.9766780879591382, 0.9951710092124391, 0.9945699518314798, 0.9745165622034727, 0.9962590419062903, 0.9954918038643872, 0.9582363801728301, 0.9748915482178027, 0.9859482620368888, 0.9914534963849013, 0.9864373279320451, 0.9984508880390285, 0.9935060085402756, 0.9921351282470485, 0.9944362429653536, 0.9848234116440543, 0.9985290384787321, 0.9893567529220925, 0.9909213878426172, 0.9912011731175002, 0.9937799607668708, 0.9854915815432546, 0.9832761933377583, 0.9901335312777667, 0.9942035800416643, 0.9755944815688689, 0.995368779399383, 0.9666685516840818, 0.9998598583063124, 0.9872949451925558, 0.9980570136556639, 0.9627437028959938, 0.9579489027321545, 0.9893194073002345, 0.992763142224113, 0.9792045468166869, 0.9729271654726458, 0.998764359307202, 0.9950089870726923, 0.9975699821957277, 0.9622266323705593, 0.9940391901794166, 0.9966545606489312, 0.9977139685770265, 0.9937800240662958, 0.9945019326768427, 0.998060593970017, 0.9719651741916908, 0.9922252514443256, 0.9927517393278608, 0.9949349055903686, 0.9788092418244257, 0.9922473672933069, 0.9985694394092518, 0.9981474630377625, 0.992322536721703, 0.983688372858213, 0.9889103216181241, 0.9801304173386823, 0.9994009409614868, 0.9996200578584953, 0.9996682897700561, 0.9986415108576893, 0.9965034901831841, 0.9956617813676162, 0.9878442237724815, 0.9703359677396544, 0.9952457623759043, 0.9978478595219273, 0.9970602189617974, 0.9962277528156235, 0.9874452444698785, 0.9384616135079393, 0.99797206735439, 0.9967363701632533, 0.9776505902050417, 0.9899903197765986, 0.9900039314620754, 0.9994847565627069, 0.9978772363369326, 0.9834302629034155, 0.9995553760711504, 0.9802312271408478, 0.9974091251084527, 0.9993671059747588, 0.9958891089909649, 0.9880784357075195, 0.9995886782984176, 0.9944286834013449, 0.9846515164216461, 0.9967407761763959, 0.9938203886724607, 0.9985343362569801, 0.9761043851717368, 0.9744845322057103, 0.9996579401335622, 0.9979653701286134, 0.9800748028907457, 0.998979968843812, 0.9895963658949195, 0.9883540154162699, 0.9834929638639629], \"Term\": [\"aaron\", \"abby\", \"abc\", \"abroad\", \"abuse\", \"academy\", \"accept\", \"access\", \"accusation\", \"accuse\", \"achieve\", \"acid\", \"act\", \"action\", \"active\", \"activism\", \"activist\", \"activity\", \"actor\", \"actress\", \"ad\", \"adam\", \"address\", \"admit\", \"adopt\", \"adoption\", \"adorable\", \"adult\", \"advance\", \"advice\", \"adviser\", \"advocate\", \"affect\", \"afford\", \"afghanistan\", \"age\", \"agency\", \"agent\", \"agree\", \"ahead\", \"aid\", \"aim\", \"air\", \"air_force\", \"airbnb\", \"airline\", \"airport\", \"al\", \"alabama\", \"alarm\", \"alaska\", \"album\", \"alec_baldwin\", \"alert\", \"alex\", \"alice\", \"alive\", \"allege\", \"allegedly\", \"allow\", \"alternative\", \"amazon\", \"amendment\", \"america\", \"american\", \"american_idol\", \"americans\", \"amtrak\", \"amy\", \"analyst\", \"ancient\", \"andrew\", \"angry\", \"animal\", \"anna\", \"anne\", \"anniversary\", \"announce\", \"announcement\", \"annual\", \"answer\", \"anthony\", \"anti\", \"anti_semitism\", \"anxiety\", \"apartment\", \"apologize\", \"apology\", \"app\", \"apparently\", \"appear\", \"appearance\", \"apple\", \"approve\", \"arctic\", \"area\", \"aren\", \"argument\", \"arizona\", \"arm\", \"arrest\", \"arrested_allegedly\", \"artist\", \"ashamed\", \"ashley\", \"asia\", \"ask\", \"assad\", \"assault\", \"athlete\", \"atlanta\", \"attack\", \"attempt\", \"attend\", \"attorney\", \"audience\", \"audio\", \"austin\", \"australia\", \"authority\", \"auto\", \"avenger\", \"avoid\", \"award\", \"awful\", \"awkward\", \"baby\", \"bachelor\", \"back\", \"bacon\", \"bad\", \"bag\", \"baking\", \"ball\", \"ban\", \"band\", \"bank_america\", \"bankruptcy\", \"bar\", \"barack_obama\", \"barbara\", \"barbie\", \"barely\", \"bargain\", \"base\", \"basic\", \"bathroom\", \"batman\", \"battle\", \"bbc\", \"bbq\", \"bean\", \"bear\", \"beast\", \"beat\", \"beauty\", \"bedtime\", \"bee\", \"beg\", \"belief\", \"believe\", \"ben\", \"bench\", \"benefit\", \"berry\", \"bet\", \"beyonce\", \"bible\", \"bid\", \"big\", \"bill\", \"billboard\", \"billboard_music\", \"billionaire\", \"birth\", \"birthday\", \"bit\", \"bite\", \"bizarre\", \"black\", \"blake\", \"blame\", \"blast\", \"block\", \"blood\", \"bloom\", \"bloomberg\", \"blow\", \"blue\", \"board\", \"bob\", \"bohemian\", \"bold\", \"bomb\", \"bombing\", \"book\", \"boost\", \"boot\", \"border\", \"boss\", \"bow\", \"box_office\", \"boy\", \"boy_scout\", \"boycott\", \"boyfriend\", \"brad_pitt\", \"break\", \"breakup\", \"brian\", \"bring\", \"british\", \"broadway\", \"broken\", \"brooklyn\", \"brother\", \"brown\", \"brutal\", \"bryant\", \"budget\", \"bug\", \"building\", \"bully\", \"bureau\", \"burn\", \"burst\", \"bus\", \"business\", \"busy\", \"buy\", \"cage\", \"cake\", \"california\", \"call\", \"campaign\", \"canada\", \"canadian\", \"cancel\", \"cancer\", \"candidate\", \"cape\", \"capture\", \"car\", \"card\", \"cardiac\", \"cardinal\", \"care\", \"career\", \"cargo\", \"carry\", \"cartoon\", \"case\", \"cash\", \"cast\", \"cat\", \"catch\", \"cause\", \"cdc\", \"celebrate\", \"celebration\", \"celebrity\", \"cell\", \"cell_phone\", \"censor\", \"census\", \"center\", \"central\", \"century\", \"ceo\", \"ceremony\", \"challenge\", \"challenger\", \"champion\", \"change\", \"chapter\", \"character\", \"charge\", \"charming\", \"chart\", \"chat\", \"cheap\", \"cheat\", \"check\", \"cheer\", \"cheerleader\", \"chef\", \"cher\", \"chew\", \"chic\", \"chicago\", \"chicken\", \"child\", \"china\", \"chinese\", \"chip\", \"choice\", \"choose\", \"christian\", \"christopher\", \"church\", \"cia\", \"circle\", \"citizen\", \"citizenship\", \"city\", \"civil_rights\", \"claim\", \"claire\", \"class\", \"clean\", \"clear\", \"cleveland\", \"clever\", \"client\", \"climate\", \"climate_change\", \"clinic\", \"clinton\", \"clip\", \"close\", \"cloud\", \"club\", \"coach\", \"coachella\", \"coal\", \"coat\", \"coffee\", \"cohen\", \"colbert\", \"cole\", \"college\", \"color\", \"column\", \"columnist\", \"combat\", \"come\", \"comeback\", \"comedian\", \"comedy\", \"comic\", \"comic_strip\", \"command\", \"comment\", \"commit\", \"common\", \"community\", \"commuter\", \"company\", \"compare\", \"compete\", \"competition\", \"complain\", \"complaint\", \"complete\", \"completely\", \"complex\", \"composer\", \"conan_brien\", \"concert\", \"condemn\", \"conference\", \"confession\", \"confirm\", \"confront\", \"congress\", \"connecticut\", \"consequence\", \"conservative\", \"conservative_group\", \"consider\", \"consumer\", \"contestant\", \"continue\", \"contract\", \"control\", \"controversial\", \"controversy\", \"convention\", \"convict\", \"cook\", \"cool\", \"cop\", \"cord\", \"correspondents_dinner\", \"cost\", \"costume\", \"council\", \"count\", \"country\", \"county\", \"couple\", \"court\", \"cover\", \"coverage\", \"cozy\", \"crack\", \"crash\", \"crazy\", \"create\", \"creator\", \"credit\", \"crime\", \"criminal\", \"crisis\", \"critic\", \"cross\", \"crow\", \"crowd\", \"crown\", \"crush\", \"cuba\", \"culture\", \"cup\", \"current\", \"curse\", \"custody\", \"cut\", \"cute\", \"cutest\", \"cyber\", \"cynthia\", \"dad\", \"daddy\", \"daily\", \"dallas\", \"dan\", \"dance\", \"dancing\", \"dancing_star\", \"danger\", \"dangerous\", \"daniel\", \"dark\", \"date\", \"datum\", \"daughter\", \"david\", \"davis\", \"day\", \"dead\", \"deadly\", \"deal\", \"dean\", \"dear\", \"death\", \"debate\", \"debunk\", \"debut\", \"decide\", \"decision\", \"dee\", \"deem\", \"deep\", \"defeat\", \"defend\", \"defense\", \"definition\", \"degree\", \"delay\", \"deliver\", \"demand\", \"democratic\", \"democrats\", \"dennis\", \"denver\", \"deny\", \"deportation\", \"deputy\", \"deserve\", \"desk\", \"dessert\", \"destination\", \"detail\", \"detective\", \"device\", \"devil\", \"diary\", \"diaz\", \"didn\", \"die\", \"difficult\", \"dinner\", \"direct\", \"director\", \"disclosure\", \"discover\", \"discuss\", \"disgusting\", \"dish\", \"dismiss\", \"disney\", \"ditch\", \"divide\", \"divorce\", \"dj\", \"dna\", \"doc\", \"doctor\", \"document\", \"documentary\", \"dodge\", \"doesn\", \"dog\", \"dominate\", \"don\", \"donald\", \"donate\", \"donation\", \"donor\", \"door\", \"double\", \"dozen\", \"dr\", \"draft\", \"drag\", \"drama\", \"dream\", \"dreamer\", \"dress\", \"drive\", \"driver\", \"drop\", \"drug\", \"drunk\", \"dude\", \"dumb\", \"duty\", \"ear\", \"easy\", \"eat\", \"economy\", \"ed\", \"editor\", \"education\", \"effective\", \"egg\", \"election\", \"elite\", \"elle\", \"ellen\", \"ellen_degenere\", \"email\", \"embarrass\", \"emerge\", \"emily\", \"emmy\", \"emotional\", \"empire\", \"employee\", \"end\", \"engage\", \"ensure\", \"enter\", \"entire\", \"environmental\", \"epic\", \"epidemic\", \"episode\", \"era\", \"eric\", \"ers\", \"estate\", \"ethic\", \"ethical\", \"europe\", \"european\", \"event\", \"everyday\", \"evil\", \"examine\", \"exchange\", \"exclude\", \"exclusive\", \"excuse\", \"executive\", \"exist\", \"exit\", \"expand\", \"expect\", \"experience\", \"explain\", \"explore\", \"expose\", \"extend\", \"extreme\", \"eye\", \"eyed\", \"face\", \"facebook\", \"facial\", \"facility\", \"fact\", \"factor\", \"fail\", \"fairy\", \"faith\", \"fake\", \"fall\", \"fame\", \"family\", \"famous\", \"fan\", \"fancy\", \"fans\", \"farewell\", \"farm\", \"fashion\", \"father\", \"fault\", \"favor\", \"fcc\", \"fear\", \"feature\", \"fed\", \"federal\", \"feel\", \"female\", \"feminist\", \"ferguson\", \"festival\", \"field\", \"fight\", \"figure\", \"file\", \"film\", \"final\", \"finale\", \"finalist\", \"finally\", \"financial\", \"find\", \"fine\", \"finger\", \"fire\", \"fish\", \"fix\", \"flag\", \"flame\", \"flat\", \"flight\", \"flip\", \"float\", \"floor\", \"florida\", \"focus\", \"food_stamp\", \"foot\", \"force\", \"foreign\", \"forever\", \"forget\", \"forgive\", \"form\", \"forum\", \"forward\", \"foster\", \"founder\", \"fourth\", \"fox\", \"france\", \"frank\", \"fraud\", \"freak\", \"free\", \"freedom\", \"freeze\", \"french\", \"fresh\", \"friend\", \"frozen\", \"fruit\", \"fuel\", \"fun\", \"fund\", \"funding\", \"funeral\", \"funny\", \"future\", \"gain\", \"game\", \"gap\", \"gas\", \"gavin\", \"gay\", \"gay_men\", \"geek\", \"gen\", \"gender\", \"genius\", \"george\", \"georgia\", \"german\", \"germany\", \"ghost\", \"giant\", \"gift\", \"gig\", \"girl\", \"girlfriend\", \"give\", \"giveaway\", \"glass\", \"glee\", \"glimpse\", \"global\", \"global_warme\", \"god\", \"golf\", \"golfer\", \"good\", \"goodbye\", \"gop\", \"government\", \"governor\", \"gown\", \"grace\", \"graduate\", \"graphic\", \"great\", \"green\", \"greg\", \"grey\", \"grill\", \"groom\", \"ground\", \"group\", \"grow\", \"guarantee\", \"guard\", \"guest\", \"guild\", \"guilty\", \"gulf\", \"gun\", \"gun_control\", \"guy\", \"hack\", \"hacker\", \"half\", \"hand\", \"handle\", \"hang\", \"happen\", \"happy\", \"harass\", \"hard\", \"harm\", \"harmful\", \"hasn\", \"hate\", \"haunt\", \"hawaii\", \"head\", \"heal\", \"health\", \"health_care\", \"hear\", \"heart\", \"heat\", \"heel\", \"hell\", \"help\", \"hero\", \"hide\", \"high\", \"high_school\", \"highlight\", \"highly\", \"highway\", \"hilarious\", \"hip_hop\", \"hire\", \"hispanic\", \"historic\", \"history\", \"hit\", \"hitler\", \"hold\", \"hole\", \"holiday\", \"hollywood\", \"home\", \"homophobia\", \"honesty\", \"honor\", \"hope\", \"horror\", \"hospital\", \"host\", \"hot\", \"house\", \"housing\", \"huffpost\", \"huge\", \"human\", \"humanity\", \"humor\", \"hunt\", \"hunter\", \"hurt\", \"husband\", \"ice\", \"ice_cream\", \"icon\", \"idea\", \"ignore\", \"illegal\", \"image\", \"imagine\", \"impact\", \"impossible\", \"impression\", \"inauguration\", \"inch\", \"incident\", \"include\", \"increase\", \"increasingly\", \"incredible\", \"india\", \"indian\", \"indiana\", \"indie\", \"individual\", \"industry\", \"infection\", \"influence\", \"influencer\", \"injure\", \"injustice\", \"inquiry\", \"insane\", \"inside\", \"insist\", \"inspire\", \"instagram\", \"insult\", \"insurance\", \"intel\", \"intention\", \"interest\", \"interior\", \"international\", \"internet\", \"interview\", \"introduce\", \"inventor\", \"investigate\", \"investigation\", \"investment\", \"investor\", \"invite\", \"involve\", \"iowa\", \"iran\", \"ireland\", \"irish\", \"island\", \"isn\", \"israel\", \"issue\", \"italian\", \"italy\", \"jackson\", \"jada_pinkett\", \"jail\", \"jam\", \"james\", \"janelle_monae\", \"janet_jackson\", \"japan\", \"japanese\", \"jay\", \"jeff\", \"jeffrey\", \"jennifer_garner\", \"jerry\", \"jersey\", \"jessica\", \"jesus\", \"jet\", \"jim\", \"jimmy_fallon\", \"jimmy_kimmel\", \"job\", \"joe\", \"joe_biden\", \"john\", \"johnson\", \"join\", \"joke\", \"jon\", \"jones\", \"jordan\", \"josh\", \"journalist\", \"journey\", \"joy\", \"jr\", \"judd\", \"judge\", \"judicial\", \"jump\", \"justice\", \"justin_timberlake\", \"kanye_west\", \"kelly\", \"kelly_clarkson\", \"kentucky\", \"kenya\", \"kerr\", \"kevin\", \"kevin_hart\", \"key\", \"kid\", \"kill\", \"killer\", \"kim\", \"kim_kardashian\", \"knife\", \"know\", \"korean\", \"kris_jenner\", \"kristen_stewart\", \"la\", \"lady\", \"lake\", \"land\", \"lane\", \"large\", \"lash\", \"last\", \"late\", \"late_night\", \"laugh\", \"launch\", \"lauren\", \"law\", \"lawsuit\", \"lawyer\", \"lazy\", \"lead\", \"leader\", \"leak\", \"learn\", \"leave\", \"lee\", \"leftover\", \"legacy\", \"legal\", \"legalize\", \"lego\", \"leon\", \"lesson\", \"let\", \"letter\", \"liar\", \"library\", \"license\", \"lie\", \"life\", \"lifelong\", \"lifestyle\", \"lift\", \"light\", \"limbaugh\", \"limit\", \"line\", \"link\", \"lip\", \"list\", \"listen\", \"literally\", \"live\", \"ll\", \"loan\", \"lobbying\", \"lobbyist\", \"london\", \"lonely\", \"long\", \"lose\", \"lot\", \"louis\", \"love\", \"low\", \"lunar\", \"mac\", \"machine\", \"macy\", \"madonna\", \"magazine\", \"magic\", \"magical\", \"maher\", \"mail\", \"major\", \"majority\", \"make\", \"makeover\", \"maker\", \"male\", \"mall\", \"man\", \"mandatory\", \"manhattan\", \"march\", \"marie\", \"marijuana\", \"mark\", \"mark_zuckerberg\", \"market\", \"marriage\", \"marry\", \"marvel\", \"mary\", \"maryland\", \"mask\", \"mass\", \"massage\", \"massive\", \"match\", \"matching\", \"math\", \"matt\", \"mayor\", \"mcdonald\", \"mean\", \"meaning\", \"meat\", \"media\", \"medical\", \"medication\", \"medium\", \"meet\", \"meeting\", \"member\", \"meme\", \"memo\", \"memorial\", \"memory\", \"men\", \"mental\", \"mental_health\", \"message\", \"met_gala\", \"mexican\", \"mia\", \"michael\", \"michelle\", \"michelle_obama\", \"michigan\", \"mickey\", \"mike\", \"mile\", \"miley_cyrus\", \"military\", \"miller\", \"million\", \"mind\", \"mini\", \"minor\", \"minute\", \"mirror\", \"misogyny\", \"miss\", \"mission\", \"missouri\", \"mitt_romney\", \"mlb\", \"mock\", \"mocks\", \"moderate\", \"mom\", \"moment\", \"monday\", \"money\", \"monitor\", \"monkey\", \"monster\", \"montana\", \"month\", \"moon\", \"morning\", \"moscow\", \"mother\", \"mother_day\", \"mount\", \"mourn\", \"mouse\", \"mouth\", \"move\", \"movement\", \"movie\", \"mtv\", \"multiple\", \"murder\", \"museum\", \"music\", \"musician\", \"muslim\", \"muslims\", \"myanmar\", \"mysterious\", \"mystery\", \"nail\", \"name\", \"nap\", \"nasa\", \"nation\", \"national\", \"national_anthem\", \"national_park\", \"national_security\", \"nationwide\", \"nba\", \"nbc\", \"nebraska\", \"need\", \"negative\", \"neglect\", \"neighbor\", \"nephew\", \"netflix\", \"new\", \"newly\", \"news\", \"nfl\", \"nicolas\", \"nigerian\", \"night\", \"nightmare\", \"nod\", \"nomination\", \"nominee\", \"nordstrom\", \"north\", \"north_korea\", \"note\", \"nsfw\", \"nuclear\", \"nude\", \"number\", \"nyc\", \"obama\", \"obama_administration\", \"obamacare\", \"ocean\", \"ode\", \"offend\", \"offer\", \"office\", \"officer\", \"official\", \"ohio\", \"oklahoma\", \"old\", \"oliver\", \"olympic\", \"onion\", \"online\", \"open\", \"open_letter\", \"opening\", \"opposition\", \"oprah\", \"option\", \"oral\", \"order\", \"original\", \"orleans\", \"out\", \"outfit\", \"outlet\", \"outrage\", \"owe\", \"own\", \"owner\", \"oyster\", \"pack\", \"package\", \"page\", \"pain\", \"paint\", \"painting\", \"pan\", \"panel\", \"panic\", \"pant\", \"paper\", \"pardon\", \"parent\", \"park\", \"parody\", \"partner\", \"party\", \"pass\", \"passenger\", \"passion\", \"passport\", \"pastor\", \"pat\", \"path\", \"patient\", \"patrick\", \"pattern\", \"paul\", \"paul_ryan\", \"pay\", \"payment\", \"peace\", \"pen\", \"penny\", \"people\", \"perfect\", \"perform\", \"performance\", \"person\", \"peru\", \"pet\", \"phil\", \"philadelphia\", \"phone\", \"photo\", \"photographer\", \"physical\", \"pic\", \"pick\", \"picture\", \"pie\", \"pill\", \"pilot\", \"pink\", \"place\", \"plan\", \"plane\", \"planet\", \"plant\", \"plastic\", \"play\", \"player\", \"plea\", \"pledge\", \"point\", \"police\", \"policy\", \"politic\", \"political\", \"politician\", \"poll\", \"pop\", \"pope\", \"popular\", \"porn\", \"portrait\", \"pose\", \"position\", \"positive\", \"post\", \"pot\", \"potential\", \"pound\", \"power\", \"powerful\", \"practice\", \"praise\", \"prayer\", \"predict\", \"prefer\", \"pregnant\", \"prep\", \"prepare\", \"present\", \"president\", \"press\", \"pretend\", \"pretty\", \"prevention\", \"pride\", \"primary\", \"prince\", \"prison\", \"prisoner\", \"privacy\", \"private\", \"prize\", \"pro\", \"probe\", \"problem\", \"produce\", \"producer\", \"production\", \"professional\", \"professor\", \"profile\", \"profit\", \"program\", \"project\", \"prom\", \"promise\", \"promote\", \"proof\", \"property\", \"proposal\", \"propose\", \"prosecutor\", \"protect\", \"protection\", \"protest\", \"prove\", \"provide\", \"public\", \"public_health\", \"pull\", \"punch\", \"punishment\", \"punk\", \"puppet\", \"puppy\", \"push\", \"put\", \"queen\", \"queer\", \"question\", \"quiet\", \"quit\", \"quiz\", \"race\", \"rachel\", \"racism\", \"racist\", \"rack\", \"rage\", \"rail\", \"rain\", \"rainbow\", \"rally\", \"rank\", \"rant\", \"rap\", \"rape\", \"rapper\", \"rare\", \"rate\", \"reach\", \"read\", \"ready\", \"real\", \"real_life\", \"reality_tv\", \"reason\", \"reboot\", \"recall\", \"receive\", \"recent\", \"reclaim\", \"recognize\", \"record\", \"red\", \"red_carpet\", \"reddit\", \"reduce\", \"reef\", \"reflect\", \"reform\", \"refuse\", \"regret\", \"reid\", \"reject\", \"relationship\", \"release\", \"relief\", \"religious\", \"remind\", \"reminder\", \"remote\", \"remove\", \"renew\", \"rent\", \"repeal\", \"repeatedly\", \"replace\", \"report\", \"report_find\", \"reportedly\", \"reporter\", \"republic\", \"republican\", \"republicans\", \"request\", \"require\", \"rescue\", \"research\", \"researcher\", \"resident\", \"resign\", \"resort\", \"respond\", \"restaurant\", \"restore\", \"result\", \"resume\", \"retail\", \"retire\", \"retro\", \"return\", \"reunion\", \"reveal\", \"reverse\", \"review\", \"rice\", \"richard\", \"ride\", \"ridiculous\", \"ridley\", \"right\", \"rihanna\", \"rip\", \"rise\", \"risk\", \"rival\", \"roast\", \"rob\", \"robert\", \"robot\", \"rock\", \"rocks\", \"rod\", \"roger\", \"role\", \"roll\", \"roman\", \"romantic\", \"ron\", \"room\", \"root\", \"round\", \"route\", \"rover\", \"row\", \"royal\", \"ruin\", \"rule\", \"rumor\", \"run\", \"runner\", \"rush\", \"russia\", \"russian\", \"ryan\", \"safe\", \"safety\", \"salary\", \"salute\", \"sanction\", \"sander\", \"sanders\", \"sandy_hook\", \"santa\", \"sao\", \"sarah\", \"sarah_palin\", \"saturday\", \"saturday_night\", \"saudi_arabia\", \"save\", \"scam\", \"scan\", \"scandal\", \"scare\", \"scarlett_johansson\", \"scary\", \"scenario\", \"scene\", \"school\", \"schooler\", \"scientist\", \"scott\", \"screen\", \"sea\", \"seal\", \"search\", \"season\", \"seat\", \"seattle\", \"secret\", \"security\", \"see\", \"seed\", \"seek\", \"sell\", \"senator\", \"send\", \"sentence\", \"sentenced_years\", \"sentencing\", \"serve\", \"service\", \"set\", \"seth_meyer\", \"settle\", \"settlement\", \"sex\", \"sexual\", \"sexual_abuse\", \"sexual_harassment\", \"sexy\", \"shadow\", \"share\", \"shark\", \"shave\", \"shell\", \"shocking\", \"shoe\", \"shoot\", \"shooter\", \"shooting\", \"shop\", \"shopper\", \"shot\", \"shout\", \"show\", \"shower\", \"shut\", \"shutdown\", \"side\", \"sign\", \"signal\", \"sikh\", \"silence\", \"silicon_valley\", \"simpson\", \"sing\", \"singer\", \"single\", \"sink\", \"sit\", \"site\", \"situation\", \"size\", \"skewer\", \"skip\", \"slam\", \"slow\", \"small\", \"smart\", \"smash\", \"smile\", \"smith\", \"smoke\", \"smoking\", \"snap\", \"snl\", \"soccer\", \"social_media\", \"sock\", \"solidarity\", \"solo\", \"solve\", \"son\", \"song\", \"source\", \"southern\", \"space\", \"spain\", \"spanish\", \"spark\", \"speak\", \"special\", \"speech\", \"spend\", \"spending\", \"spice\", \"spill\", \"spirit\", \"split\", \"spoof\", \"sport\", \"spot\", \"spotify\", \"spotlight\", \"spray\", \"spread\", \"spy\", \"square\", \"st\", \"staff\", \"stage\", \"stalker\", \"stand\", \"star\", \"star_war\", \"starbucks\", \"startup\", \"state\", \"statement\", \"station\", \"status\", \"stay\", \"steal\", \"step\", \"stephen\", \"stephen_colbert\", \"steve\", \"steven\", \"stir\", \"stock\", \"stone\", \"stop\", \"store\", \"storm\", \"story\", \"straight\", \"strand\", \"strange\", \"strategy\", \"street\", \"strike\", \"strip\", \"struggle\", \"student\", \"study\", \"study_find\", \"stun\", \"stunning\", \"style\", \"subway\", \"successful\", \"suck\", \"sue\", \"sues\", \"suggest\", \"suicide\", \"suit\", \"summit\", \"super\", \"support\", \"surf\", \"surface\", \"surgery\", \"surprise\", \"surrender\", \"survival\", \"survive\", \"survivor\", \"suspect\", \"suspend\", \"swedish\", \"sweet\", \"swimmer\", \"swing\", \"table\", \"take\", \"tale\", \"talk\", \"tap\", \"tape\", \"target\", \"tattoo\", \"taunt\", \"tax\", \"taylor\", \"taylor_swift\", \"teach\", \"teacher\", \"team\", \"tear\", \"tech\", \"technology\", \"ted\", \"teen\", \"teenager\", \"tell\", \"tennessee\", \"term\", \"terrible\", \"terrorist\", \"test\", \"texas\", \"text\", \"theater\", \"theme\", \"theory\", \"therapist\", \"therapy\", \"thing\", \"think\", \"thompson\", \"thousand\", \"threat\", \"threaten\", \"thrill\", \"throw\", \"ticket\", \"tie\", \"tiger\", \"tim\", \"time\", \"timeline\", \"times\", \"tina_fey\", \"tiny\", \"title\", \"today\", \"toddler\", \"toll\", \"tom\", \"tom_cruise\", \"tonight\", \"tool\", \"top\", \"toronto\", \"torture\", \"toss\", \"total\", \"totally\", \"touch\", \"tough\", \"tour\", \"tower\", \"town\", \"track\", \"trade\", \"traditional\", \"trailer\", \"train\", \"training\", \"transformation\", \"transgender\", \"transparency\", \"trap\", \"trash\", \"travel\", \"treat\", \"treatment\", \"tree\", \"trial\", \"tribute\", \"trick\", \"trip\", \"troll\", \"trouble\", \"true\", \"trust\", \"tsa\", \"tunnel\", \"turban\", \"turn\", \"turner\", \"tv\", \"tweet\", \"twist\", \"twitter\", \"tyler\", \"uk\", \"ultimate\", \"uncertainty\", \"unconscious\", \"uncover\", \"understand\", \"underwear\", \"undocumented\", \"union\", \"unique\", \"united\", \"universe\", \"university\", \"unveil\", \"upcoming\", \"update\", \"urban\", \"urge\", \"user\", \"utah\", \"vacation\", \"van\", \"vanessa\", \"vanity_fair\", \"ve\", \"verdict\", \"vermont\", \"version\", \"veteran\", \"vibe\", \"victim\", \"victory\", \"video\", \"video_show\", \"view\", \"viewer\", \"violate\", \"violence\", \"viral\", \"virginia\", \"vision\", \"visit\", \"voice\", \"vote\", \"voter\", \"vow\", \"wait\", \"walk\", \"wall\", \"want\", \"war\", \"warehouse\", \"warn\", \"warrior\", \"washington\", \"wasn\", \"waste\", \"watch\", \"water\", \"wave\", \"weak\", \"wealthy\", \"weapon\", \"wear\", \"wedding\", \"week\", \"weekend\", \"weight\", \"weird\", \"welcome\", \"welfare\", \"west\", \"white\", \"white_house\", \"whitney_houston\", \"wide\", \"widow\", \"wife\", \"wild\", \"wildlife\", \"william\", \"wilson\", \"win\", \"winter\", \"wish\", \"woman\", \"wonderful\", \"word\", \"work\", \"worker\", \"working\", \"world\", \"worthy\", \"wreck\", \"write\", \"writer\", \"wrong\", \"yale\", \"yard\", \"year\", \"york\", \"york_time\", \"young\", \"youth\", \"zombie\", \"zoo\"]}, \"R\": 30, \"lambda.step\": 0.01, \"plot.opts\": {\"xlab\": \"PC1\", \"ylab\": \"PC2\"}, \"topic.order\": [30, 27, 40, 2, 25, 55, 59, 6, 32, 15, 49, 31, 29, 50, 28, 16, 62, 35, 52, 46, 12, 1, 3, 58, 22, 56, 34, 37, 54, 23, 5, 45, 11, 43, 17, 38, 60, 36, 39, 10, 7, 24, 4, 48, 19, 18, 9, 41, 26, 21, 44, 33, 47, 8, 51, 53, 14, 57, 13, 42, 20, 61]};\n",
              "\n",
              "function LDAvis_load_lib(url, callback){\n",
              "  var s = document.createElement('script');\n",
              "  s.src = url;\n",
              "  s.async = true;\n",
              "  s.onreadystatechange = s.onload = callback;\n",
              "  s.onerror = function(){console.warn(\"failed to load library \" + url);};\n",
              "  document.getElementsByTagName(\"head\")[0].appendChild(s);\n",
              "}\n",
              "\n",
              "if(typeof(LDAvis) !== \"undefined\"){\n",
              "   // already loaded: just create the visualization\n",
              "   !function(LDAvis){\n",
              "       new LDAvis(\"#\" + \"ldavis_el1898018298349068001376081733\", ldavis_el1898018298349068001376081733_data);\n",
              "   }(LDAvis);\n",
              "}else if(typeof define === \"function\" && define.amd){\n",
              "   // require.js is available: use it to load d3/LDAvis\n",
              "   require.config({paths: {d3: \"https://d3js.org/d3.v5\"}});\n",
              "   require([\"d3\"], function(d3){\n",
              "      window.d3 = d3;\n",
              "      LDAvis_load_lib(\"https://cdn.jsdelivr.net/gh/bmabey/pyLDAvis@3.4.0/pyLDAvis/js/ldavis.v3.0.0.js\", function(){\n",
              "        new LDAvis(\"#\" + \"ldavis_el1898018298349068001376081733\", ldavis_el1898018298349068001376081733_data);\n",
              "      });\n",
              "    });\n",
              "}else{\n",
              "    // require.js not available: dynamically load d3 & LDAvis\n",
              "    LDAvis_load_lib(\"https://d3js.org/d3.v5.js\", function(){\n",
              "         LDAvis_load_lib(\"https://cdn.jsdelivr.net/gh/bmabey/pyLDAvis@3.4.0/pyLDAvis/js/ldavis.v3.0.0.js\", function(){\n",
              "                 new LDAvis(\"#\" + \"ldavis_el1898018298349068001376081733\", ldavis_el1898018298349068001376081733_data);\n",
              "            })\n",
              "         });\n",
              "}\n",
              "</script>"
            ],
            "text/plain": [
              "PreparedData(topic_coordinates=              x         y  topics  cluster      Freq\n",
              "topic                                               \n",
              "29    -0.302920  0.358541       1        1  2.808412\n",
              "26    -0.108920 -0.064814       2        1  2.297421\n",
              "39    -0.184920 -0.271998       3        1  2.287683\n",
              "1     -0.111930 -0.068318       4        1  2.138396\n",
              "24    -0.063524 -0.027567       5        1  2.014818\n",
              "...         ...       ...     ...      ...       ...\n",
              "56     0.063885  0.015737      58        1  1.185298\n",
              "12     0.054512  0.013978      59        1  1.182209\n",
              "41     0.080815  0.018439      60        1  1.154138\n",
              "19     0.073444  0.017285      61        1  1.110739\n",
              "60     0.092784  0.020070      62        1  1.070489\n",
              "\n",
              "[62 rows x 5 columns], topic_info=            Term          Freq         Total Category  logprob  loglift\n",
              "204        photo  25480.000000  25480.000000  Default  30.0000  30.0000\n",
              "305        video  15823.000000  15823.000000  Default  29.0000  29.0000\n",
              "294         make   8951.000000   8951.000000  Default  28.0000  28.0000\n",
              "496          day   8231.000000   8231.000000  Default  27.0000  27.0000\n",
              "87          love   7794.000000   7794.000000  Default  26.0000  26.0000\n",
              "...          ...           ...           ...      ...      ...      ...\n",
              "3679  kevin_hart     19.873325     21.792705  Topic62  -6.3458   4.4449\n",
              "3243    misogyny     15.406401     17.325781  Topic62  -6.6004   4.4196\n",
              "1271    lobbyist     13.008371     14.927756  Topic62  -6.7696   4.3994\n",
              "1046       intel      9.993823     11.913203  Topic62  -7.0333   4.3614\n",
              "2608   injustice      2.343746      4.263126  Topic62  -8.4835   3.9388\n",
              "\n",
              "[1890 rows x 6 columns], token_table=      Topic      Freq       Term\n",
              "term                            \n",
              "1144      5  0.988066      aaron\n",
              "2692     57  0.960839       abby\n",
              "3195      6  0.977195        abc\n",
              "601      43  0.991282     abroad\n",
              "473      45  0.991310      abuse\n",
              "...     ...       ...        ...\n",
              "3794     53  0.980075  york_time\n",
              "1063     10  0.998980      young\n",
              "1236     59  0.989596      youth\n",
              "1122     24  0.988354     zombie\n",
              "2767     46  0.983493        zoo\n",
              "\n",
              "[1860 rows x 3 columns], R=30, lambda_step=0.01, plot_opts={'xlab': 'PC1', 'ylab': 'PC2'}, topic_order=[30, 27, 40, 2, 25, 55, 59, 6, 32, 15, 49, 31, 29, 50, 28, 16, 62, 35, 52, 46, 12, 1, 3, 58, 22, 56, 34, 37, 54, 23, 5, 45, 11, 43, 17, 38, 60, 36, 39, 10, 7, 24, 4, 48, 19, 18, 9, 41, 26, 21, 44, 33, 47, 8, 51, 53, 14, 57, 13, 42, 20, 61])"
            ]
          },
          "execution_count": 33,
          "metadata": {},
          "output_type": "execute_result"
        }
      ],
      "source": [
        "# Visualize the topics\n",
        "pyLDAvis.enable_notebook()\n",
        "vis = pyLDAvis.gensim_models.prepare(lda_model, corpus, dictionary)\n",
        "vis"
      ]
    },
    {
      "cell_type": "markdown",
      "metadata": {},
      "source": [
        "### LSI\n"
      ]
    },
    {
      "cell_type": "code",
      "execution_count": 34,
      "metadata": {},
      "outputs": [
        {
          "name": "stderr",
          "output_type": "stream",
          "text": [
            "c:\\Users\\David-Desktop\\miniconda3\\envs\\NLP\\lib\\site-packages\\gensim\\models\\lsimodel.py:963: DeprecationWarning: Please use `csc_matvecs` from the `scipy.sparse` namespace, the `scipy.sparse.sparsetools` namespace is deprecated.\n",
            "  sparsetools.csc_matvecs(\n",
            "c:\\Users\\David-Desktop\\miniconda3\\envs\\NLP\\lib\\site-packages\\scipy\\linalg\\_special_matrices.py:154: DeprecationWarning: 'tri'/'tril/'triu' are deprecated as of SciPy 1.11.0 and will be removed in v1.13.0. Please use numpy.(tri/tril/triu) instead.\n",
            "  out = (1 - tri(m.shape[0], m.shape[1], k - 1, m.dtype.char)) * m\n",
            "c:\\Users\\David-Desktop\\miniconda3\\envs\\NLP\\lib\\site-packages\\scipy\\linalg\\_special_matrices.py:154: DeprecationWarning: 'tri'/'tril/'triu' are deprecated as of SciPy 1.11.0 and will be removed in v1.13.0. Please use numpy.(tri/tril/triu) instead.\n",
            "  out = (1 - tri(m.shape[0], m.shape[1], k - 1, m.dtype.char)) * m\n",
            "c:\\Users\\David-Desktop\\miniconda3\\envs\\NLP\\lib\\site-packages\\scipy\\linalg\\_special_matrices.py:154: DeprecationWarning: 'tri'/'tril/'triu' are deprecated as of SciPy 1.11.0 and will be removed in v1.13.0. Please use numpy.(tri/tril/triu) instead.\n",
            "  out = (1 - tri(m.shape[0], m.shape[1], k - 1, m.dtype.char)) * m\n",
            "c:\\Users\\David-Desktop\\miniconda3\\envs\\NLP\\lib\\site-packages\\gensim\\models\\lsimodel.py:963: DeprecationWarning: Please use `csc_matvecs` from the `scipy.sparse` namespace, the `scipy.sparse.sparsetools` namespace is deprecated.\n",
            "  sparsetools.csc_matvecs(\n",
            "c:\\Users\\David-Desktop\\miniconda3\\envs\\NLP\\lib\\site-packages\\scipy\\linalg\\_special_matrices.py:154: DeprecationWarning: 'tri'/'tril/'triu' are deprecated as of SciPy 1.11.0 and will be removed in v1.13.0. Please use numpy.(tri/tril/triu) instead.\n",
            "  out = (1 - tri(m.shape[0], m.shape[1], k - 1, m.dtype.char)) * m\n",
            "c:\\Users\\David-Desktop\\miniconda3\\envs\\NLP\\lib\\site-packages\\scipy\\linalg\\_special_matrices.py:154: DeprecationWarning: 'tri'/'tril/'triu' are deprecated as of SciPy 1.11.0 and will be removed in v1.13.0. Please use numpy.(tri/tril/triu) instead.\n",
            "  out = (1 - tri(m.shape[0], m.shape[1], k - 1, m.dtype.char)) * m\n",
            "c:\\Users\\David-Desktop\\miniconda3\\envs\\NLP\\lib\\site-packages\\scipy\\linalg\\_special_matrices.py:154: DeprecationWarning: 'tri'/'tril/'triu' are deprecated as of SciPy 1.11.0 and will be removed in v1.13.0. Please use numpy.(tri/tril/triu) instead.\n",
            "  out = (1 - tri(m.shape[0], m.shape[1], k - 1, m.dtype.char)) * m\n",
            "c:\\Users\\David-Desktop\\miniconda3\\envs\\NLP\\lib\\site-packages\\scipy\\linalg\\_special_matrices.py:154: DeprecationWarning: 'tri'/'tril/'triu' are deprecated as of SciPy 1.11.0 and will be removed in v1.13.0. Please use numpy.(tri/tril/triu) instead.\n",
            "  out = (1 - tri(m.shape[0], m.shape[1], k - 1, m.dtype.char)) * m\n",
            "c:\\Users\\David-Desktop\\miniconda3\\envs\\NLP\\lib\\site-packages\\gensim\\models\\lsimodel.py:963: DeprecationWarning: Please use `csc_matvecs` from the `scipy.sparse` namespace, the `scipy.sparse.sparsetools` namespace is deprecated.\n",
            "  sparsetools.csc_matvecs(\n",
            "c:\\Users\\David-Desktop\\miniconda3\\envs\\NLP\\lib\\site-packages\\scipy\\linalg\\_special_matrices.py:154: DeprecationWarning: 'tri'/'tril/'triu' are deprecated as of SciPy 1.11.0 and will be removed in v1.13.0. Please use numpy.(tri/tril/triu) instead.\n",
            "  out = (1 - tri(m.shape[0], m.shape[1], k - 1, m.dtype.char)) * m\n",
            "c:\\Users\\David-Desktop\\miniconda3\\envs\\NLP\\lib\\site-packages\\scipy\\linalg\\_special_matrices.py:154: DeprecationWarning: 'tri'/'tril/'triu' are deprecated as of SciPy 1.11.0 and will be removed in v1.13.0. Please use numpy.(tri/tril/triu) instead.\n",
            "  out = (1 - tri(m.shape[0], m.shape[1], k - 1, m.dtype.char)) * m\n",
            "c:\\Users\\David-Desktop\\miniconda3\\envs\\NLP\\lib\\site-packages\\scipy\\linalg\\_special_matrices.py:154: DeprecationWarning: 'tri'/'tril/'triu' are deprecated as of SciPy 1.11.0 and will be removed in v1.13.0. Please use numpy.(tri/tril/triu) instead.\n",
            "  out = (1 - tri(m.shape[0], m.shape[1], k - 1, m.dtype.char)) * m\n",
            "c:\\Users\\David-Desktop\\miniconda3\\envs\\NLP\\lib\\site-packages\\scipy\\linalg\\_special_matrices.py:154: DeprecationWarning: 'tri'/'tril/'triu' are deprecated as of SciPy 1.11.0 and will be removed in v1.13.0. Please use numpy.(tri/tril/triu) instead.\n",
            "  out = (1 - tri(m.shape[0], m.shape[1], k - 1, m.dtype.char)) * m\n",
            "c:\\Users\\David-Desktop\\miniconda3\\envs\\NLP\\lib\\site-packages\\gensim\\models\\lsimodel.py:963: DeprecationWarning: Please use `csc_matvecs` from the `scipy.sparse` namespace, the `scipy.sparse.sparsetools` namespace is deprecated.\n",
            "  sparsetools.csc_matvecs(\n",
            "c:\\Users\\David-Desktop\\miniconda3\\envs\\NLP\\lib\\site-packages\\scipy\\linalg\\_special_matrices.py:154: DeprecationWarning: 'tri'/'tril/'triu' are deprecated as of SciPy 1.11.0 and will be removed in v1.13.0. Please use numpy.(tri/tril/triu) instead.\n",
            "  out = (1 - tri(m.shape[0], m.shape[1], k - 1, m.dtype.char)) * m\n",
            "c:\\Users\\David-Desktop\\miniconda3\\envs\\NLP\\lib\\site-packages\\scipy\\linalg\\_special_matrices.py:154: DeprecationWarning: 'tri'/'tril/'triu' are deprecated as of SciPy 1.11.0 and will be removed in v1.13.0. Please use numpy.(tri/tril/triu) instead.\n",
            "  out = (1 - tri(m.shape[0], m.shape[1], k - 1, m.dtype.char)) * m\n",
            "c:\\Users\\David-Desktop\\miniconda3\\envs\\NLP\\lib\\site-packages\\scipy\\linalg\\_special_matrices.py:154: DeprecationWarning: 'tri'/'tril/'triu' are deprecated as of SciPy 1.11.0 and will be removed in v1.13.0. Please use numpy.(tri/tril/triu) instead.\n",
            "  out = (1 - tri(m.shape[0], m.shape[1], k - 1, m.dtype.char)) * m\n",
            "c:\\Users\\David-Desktop\\miniconda3\\envs\\NLP\\lib\\site-packages\\scipy\\linalg\\_special_matrices.py:154: DeprecationWarning: 'tri'/'tril/'triu' are deprecated as of SciPy 1.11.0 and will be removed in v1.13.0. Please use numpy.(tri/tril/triu) instead.\n",
            "  out = (1 - tri(m.shape[0], m.shape[1], k - 1, m.dtype.char)) * m\n",
            "c:\\Users\\David-Desktop\\miniconda3\\envs\\NLP\\lib\\site-packages\\gensim\\models\\lsimodel.py:963: DeprecationWarning: Please use `csc_matvecs` from the `scipy.sparse` namespace, the `scipy.sparse.sparsetools` namespace is deprecated.\n",
            "  sparsetools.csc_matvecs(\n",
            "c:\\Users\\David-Desktop\\miniconda3\\envs\\NLP\\lib\\site-packages\\scipy\\linalg\\_special_matrices.py:154: DeprecationWarning: 'tri'/'tril/'triu' are deprecated as of SciPy 1.11.0 and will be removed in v1.13.0. Please use numpy.(tri/tril/triu) instead.\n",
            "  out = (1 - tri(m.shape[0], m.shape[1], k - 1, m.dtype.char)) * m\n",
            "c:\\Users\\David-Desktop\\miniconda3\\envs\\NLP\\lib\\site-packages\\scipy\\linalg\\_special_matrices.py:154: DeprecationWarning: 'tri'/'tril/'triu' are deprecated as of SciPy 1.11.0 and will be removed in v1.13.0. Please use numpy.(tri/tril/triu) instead.\n",
            "  out = (1 - tri(m.shape[0], m.shape[1], k - 1, m.dtype.char)) * m\n",
            "c:\\Users\\David-Desktop\\miniconda3\\envs\\NLP\\lib\\site-packages\\scipy\\linalg\\_special_matrices.py:154: DeprecationWarning: 'tri'/'tril/'triu' are deprecated as of SciPy 1.11.0 and will be removed in v1.13.0. Please use numpy.(tri/tril/triu) instead.\n",
            "  out = (1 - tri(m.shape[0], m.shape[1], k - 1, m.dtype.char)) * m\n",
            "c:\\Users\\David-Desktop\\miniconda3\\envs\\NLP\\lib\\site-packages\\scipy\\linalg\\_special_matrices.py:154: DeprecationWarning: 'tri'/'tril/'triu' are deprecated as of SciPy 1.11.0 and will be removed in v1.13.0. Please use numpy.(tri/tril/triu) instead.\n",
            "  out = (1 - tri(m.shape[0], m.shape[1], k - 1, m.dtype.char)) * m\n",
            "c:\\Users\\David-Desktop\\miniconda3\\envs\\NLP\\lib\\site-packages\\gensim\\models\\lsimodel.py:963: DeprecationWarning: Please use `csc_matvecs` from the `scipy.sparse` namespace, the `scipy.sparse.sparsetools` namespace is deprecated.\n",
            "  sparsetools.csc_matvecs(\n",
            "c:\\Users\\David-Desktop\\miniconda3\\envs\\NLP\\lib\\site-packages\\scipy\\linalg\\_special_matrices.py:154: DeprecationWarning: 'tri'/'tril/'triu' are deprecated as of SciPy 1.11.0 and will be removed in v1.13.0. Please use numpy.(tri/tril/triu) instead.\n",
            "  out = (1 - tri(m.shape[0], m.shape[1], k - 1, m.dtype.char)) * m\n",
            "c:\\Users\\David-Desktop\\miniconda3\\envs\\NLP\\lib\\site-packages\\scipy\\linalg\\_special_matrices.py:154: DeprecationWarning: 'tri'/'tril/'triu' are deprecated as of SciPy 1.11.0 and will be removed in v1.13.0. Please use numpy.(tri/tril/triu) instead.\n",
            "  out = (1 - tri(m.shape[0], m.shape[1], k - 1, m.dtype.char)) * m\n",
            "c:\\Users\\David-Desktop\\miniconda3\\envs\\NLP\\lib\\site-packages\\scipy\\linalg\\_special_matrices.py:154: DeprecationWarning: 'tri'/'tril/'triu' are deprecated as of SciPy 1.11.0 and will be removed in v1.13.0. Please use numpy.(tri/tril/triu) instead.\n",
            "  out = (1 - tri(m.shape[0], m.shape[1], k - 1, m.dtype.char)) * m\n",
            "c:\\Users\\David-Desktop\\miniconda3\\envs\\NLP\\lib\\site-packages\\scipy\\linalg\\_special_matrices.py:154: DeprecationWarning: 'tri'/'tril/'triu' are deprecated as of SciPy 1.11.0 and will be removed in v1.13.0. Please use numpy.(tri/tril/triu) instead.\n",
            "  out = (1 - tri(m.shape[0], m.shape[1], k - 1, m.dtype.char)) * m\n",
            "c:\\Users\\David-Desktop\\miniconda3\\envs\\NLP\\lib\\site-packages\\gensim\\models\\lsimodel.py:963: DeprecationWarning: Please use `csc_matvecs` from the `scipy.sparse` namespace, the `scipy.sparse.sparsetools` namespace is deprecated.\n",
            "  sparsetools.csc_matvecs(\n",
            "c:\\Users\\David-Desktop\\miniconda3\\envs\\NLP\\lib\\site-packages\\scipy\\linalg\\_special_matrices.py:154: DeprecationWarning: 'tri'/'tril/'triu' are deprecated as of SciPy 1.11.0 and will be removed in v1.13.0. Please use numpy.(tri/tril/triu) instead.\n",
            "  out = (1 - tri(m.shape[0], m.shape[1], k - 1, m.dtype.char)) * m\n",
            "c:\\Users\\David-Desktop\\miniconda3\\envs\\NLP\\lib\\site-packages\\scipy\\linalg\\_special_matrices.py:154: DeprecationWarning: 'tri'/'tril/'triu' are deprecated as of SciPy 1.11.0 and will be removed in v1.13.0. Please use numpy.(tri/tril/triu) instead.\n",
            "  out = (1 - tri(m.shape[0], m.shape[1], k - 1, m.dtype.char)) * m\n",
            "c:\\Users\\David-Desktop\\miniconda3\\envs\\NLP\\lib\\site-packages\\scipy\\linalg\\_special_matrices.py:154: DeprecationWarning: 'tri'/'tril/'triu' are deprecated as of SciPy 1.11.0 and will be removed in v1.13.0. Please use numpy.(tri/tril/triu) instead.\n",
            "  out = (1 - tri(m.shape[0], m.shape[1], k - 1, m.dtype.char)) * m\n",
            "c:\\Users\\David-Desktop\\miniconda3\\envs\\NLP\\lib\\site-packages\\scipy\\linalg\\_special_matrices.py:154: DeprecationWarning: 'tri'/'tril/'triu' are deprecated as of SciPy 1.11.0 and will be removed in v1.13.0. Please use numpy.(tri/tril/triu) instead.\n",
            "  out = (1 - tri(m.shape[0], m.shape[1], k - 1, m.dtype.char)) * m\n",
            "c:\\Users\\David-Desktop\\miniconda3\\envs\\NLP\\lib\\site-packages\\gensim\\models\\lsimodel.py:963: DeprecationWarning: Please use `csc_matvecs` from the `scipy.sparse` namespace, the `scipy.sparse.sparsetools` namespace is deprecated.\n",
            "  sparsetools.csc_matvecs(\n",
            "c:\\Users\\David-Desktop\\miniconda3\\envs\\NLP\\lib\\site-packages\\scipy\\linalg\\_special_matrices.py:154: DeprecationWarning: 'tri'/'tril/'triu' are deprecated as of SciPy 1.11.0 and will be removed in v1.13.0. Please use numpy.(tri/tril/triu) instead.\n",
            "  out = (1 - tri(m.shape[0], m.shape[1], k - 1, m.dtype.char)) * m\n",
            "c:\\Users\\David-Desktop\\miniconda3\\envs\\NLP\\lib\\site-packages\\scipy\\linalg\\_special_matrices.py:154: DeprecationWarning: 'tri'/'tril/'triu' are deprecated as of SciPy 1.11.0 and will be removed in v1.13.0. Please use numpy.(tri/tril/triu) instead.\n",
            "  out = (1 - tri(m.shape[0], m.shape[1], k - 1, m.dtype.char)) * m\n",
            "c:\\Users\\David-Desktop\\miniconda3\\envs\\NLP\\lib\\site-packages\\scipy\\linalg\\_special_matrices.py:154: DeprecationWarning: 'tri'/'tril/'triu' are deprecated as of SciPy 1.11.0 and will be removed in v1.13.0. Please use numpy.(tri/tril/triu) instead.\n",
            "  out = (1 - tri(m.shape[0], m.shape[1], k - 1, m.dtype.char)) * m\n",
            "c:\\Users\\David-Desktop\\miniconda3\\envs\\NLP\\lib\\site-packages\\scipy\\linalg\\_special_matrices.py:154: DeprecationWarning: 'tri'/'tril/'triu' are deprecated as of SciPy 1.11.0 and will be removed in v1.13.0. Please use numpy.(tri/tril/triu) instead.\n",
            "  out = (1 - tri(m.shape[0], m.shape[1], k - 1, m.dtype.char)) * m\n",
            "c:\\Users\\David-Desktop\\miniconda3\\envs\\NLP\\lib\\site-packages\\gensim\\models\\lsimodel.py:963: DeprecationWarning: Please use `csc_matvecs` from the `scipy.sparse` namespace, the `scipy.sparse.sparsetools` namespace is deprecated.\n",
            "  sparsetools.csc_matvecs(\n",
            "c:\\Users\\David-Desktop\\miniconda3\\envs\\NLP\\lib\\site-packages\\scipy\\linalg\\_special_matrices.py:154: DeprecationWarning: 'tri'/'tril/'triu' are deprecated as of SciPy 1.11.0 and will be removed in v1.13.0. Please use numpy.(tri/tril/triu) instead.\n",
            "  out = (1 - tri(m.shape[0], m.shape[1], k - 1, m.dtype.char)) * m\n",
            "c:\\Users\\David-Desktop\\miniconda3\\envs\\NLP\\lib\\site-packages\\scipy\\linalg\\_special_matrices.py:154: DeprecationWarning: 'tri'/'tril/'triu' are deprecated as of SciPy 1.11.0 and will be removed in v1.13.0. Please use numpy.(tri/tril/triu) instead.\n",
            "  out = (1 - tri(m.shape[0], m.shape[1], k - 1, m.dtype.char)) * m\n",
            "c:\\Users\\David-Desktop\\miniconda3\\envs\\NLP\\lib\\site-packages\\scipy\\linalg\\_special_matrices.py:154: DeprecationWarning: 'tri'/'tril/'triu' are deprecated as of SciPy 1.11.0 and will be removed in v1.13.0. Please use numpy.(tri/tril/triu) instead.\n",
            "  out = (1 - tri(m.shape[0], m.shape[1], k - 1, m.dtype.char)) * m\n",
            "c:\\Users\\David-Desktop\\miniconda3\\envs\\NLP\\lib\\site-packages\\scipy\\linalg\\_special_matrices.py:154: DeprecationWarning: 'tri'/'tril/'triu' are deprecated as of SciPy 1.11.0 and will be removed in v1.13.0. Please use numpy.(tri/tril/triu) instead.\n",
            "  out = (1 - tri(m.shape[0], m.shape[1], k - 1, m.dtype.char)) * m\n",
            "c:\\Users\\David-Desktop\\miniconda3\\envs\\NLP\\lib\\site-packages\\gensim\\models\\lsimodel.py:963: DeprecationWarning: Please use `csc_matvecs` from the `scipy.sparse` namespace, the `scipy.sparse.sparsetools` namespace is deprecated.\n",
            "  sparsetools.csc_matvecs(\n",
            "c:\\Users\\David-Desktop\\miniconda3\\envs\\NLP\\lib\\site-packages\\scipy\\linalg\\_special_matrices.py:154: DeprecationWarning: 'tri'/'tril/'triu' are deprecated as of SciPy 1.11.0 and will be removed in v1.13.0. Please use numpy.(tri/tril/triu) instead.\n",
            "  out = (1 - tri(m.shape[0], m.shape[1], k - 1, m.dtype.char)) * m\n",
            "c:\\Users\\David-Desktop\\miniconda3\\envs\\NLP\\lib\\site-packages\\scipy\\linalg\\_special_matrices.py:154: DeprecationWarning: 'tri'/'tril/'triu' are deprecated as of SciPy 1.11.0 and will be removed in v1.13.0. Please use numpy.(tri/tril/triu) instead.\n",
            "  out = (1 - tri(m.shape[0], m.shape[1], k - 1, m.dtype.char)) * m\n",
            "c:\\Users\\David-Desktop\\miniconda3\\envs\\NLP\\lib\\site-packages\\scipy\\linalg\\_special_matrices.py:154: DeprecationWarning: 'tri'/'tril/'triu' are deprecated as of SciPy 1.11.0 and will be removed in v1.13.0. Please use numpy.(tri/tril/triu) instead.\n",
            "  out = (1 - tri(m.shape[0], m.shape[1], k - 1, m.dtype.char)) * m\n",
            "c:\\Users\\David-Desktop\\miniconda3\\envs\\NLP\\lib\\site-packages\\scipy\\linalg\\_special_matrices.py:154: DeprecationWarning: 'tri'/'tril/'triu' are deprecated as of SciPy 1.11.0 and will be removed in v1.13.0. Please use numpy.(tri/tril/triu) instead.\n",
            "  out = (1 - tri(m.shape[0], m.shape[1], k - 1, m.dtype.char)) * m\n",
            "c:\\Users\\David-Desktop\\miniconda3\\envs\\NLP\\lib\\site-packages\\gensim\\models\\lsimodel.py:963: DeprecationWarning: Please use `csc_matvecs` from the `scipy.sparse` namespace, the `scipy.sparse.sparsetools` namespace is deprecated.\n",
            "  sparsetools.csc_matvecs(\n",
            "c:\\Users\\David-Desktop\\miniconda3\\envs\\NLP\\lib\\site-packages\\scipy\\linalg\\_special_matrices.py:154: DeprecationWarning: 'tri'/'tril/'triu' are deprecated as of SciPy 1.11.0 and will be removed in v1.13.0. Please use numpy.(tri/tril/triu) instead.\n",
            "  out = (1 - tri(m.shape[0], m.shape[1], k - 1, m.dtype.char)) * m\n",
            "c:\\Users\\David-Desktop\\miniconda3\\envs\\NLP\\lib\\site-packages\\scipy\\linalg\\_special_matrices.py:154: DeprecationWarning: 'tri'/'tril/'triu' are deprecated as of SciPy 1.11.0 and will be removed in v1.13.0. Please use numpy.(tri/tril/triu) instead.\n",
            "  out = (1 - tri(m.shape[0], m.shape[1], k - 1, m.dtype.char)) * m\n",
            "c:\\Users\\David-Desktop\\miniconda3\\envs\\NLP\\lib\\site-packages\\scipy\\linalg\\_special_matrices.py:154: DeprecationWarning: 'tri'/'tril/'triu' are deprecated as of SciPy 1.11.0 and will be removed in v1.13.0. Please use numpy.(tri/tril/triu) instead.\n",
            "  out = (1 - tri(m.shape[0], m.shape[1], k - 1, m.dtype.char)) * m\n",
            "c:\\Users\\David-Desktop\\miniconda3\\envs\\NLP\\lib\\site-packages\\scipy\\linalg\\_special_matrices.py:154: DeprecationWarning: 'tri'/'tril/'triu' are deprecated as of SciPy 1.11.0 and will be removed in v1.13.0. Please use numpy.(tri/tril/triu) instead.\n",
            "  out = (1 - tri(m.shape[0], m.shape[1], k - 1, m.dtype.char)) * m\n"
          ]
        },
        {
          "name": "stdout",
          "output_type": "stream",
          "text": [
            "Number of topics:  62  Coherence Score:  -0.03960764732998162 0.2301843668167099\n"
          ]
        }
      ],
      "source": [
        "lsi_model = LsiModel(corpus, num_topics=optimal_n, id2word=dictionary)\n",
        "coherence_model_cv= CoherenceModel(model=lsi_model, texts=l_texts, dictionary=dictionary, coherence='c_v')\n",
        "coherence_score_cv = coherence_model_cv.get_coherence()\n",
        "coherence_model_npmi= CoherenceModel(model=lsi_model, texts=l_texts, dictionary=dictionary, coherence='c_npmi')\n",
        "coherence_score_npmi = coherence_model_npmi.get_coherence()\n",
        "print(\"Number of topics: \", optimal_n, \" Coherence Score: \", coherence_score_npmi,coherence_score_cv)"
      ]
    },
    {
      "cell_type": "code",
      "execution_count": 35,
      "metadata": {},
      "outputs": [],
      "source": [
        "# Visualize the topics\n",
        "#Not possible with LSI"
      ]
    },
    {
      "cell_type": "markdown",
      "metadata": {
        "id": "7eMxYmxOktWw"
      },
      "source": [
        "## BERTOPIC"
      ]
    },
    {
      "cell_type": "code",
      "execution_count": 36,
      "metadata": {},
      "outputs": [
        {
          "name": "stderr",
          "output_type": "stream",
          "text": [
            "c:\\Users\\David-Desktop\\miniconda3\\envs\\NLP\\lib\\site-packages\\hdbscan\\hdbscan_.py:1170: DeprecationWarning: `alltrue` is deprecated as of NumPy 1.25.0, and will be removed in NumPy 2.0. Please use `all` instead.\n",
            "  self._all_finite = is_finite(X)\n"
          ]
        }
      ],
      "source": [
        "representation=bertopic.representation.KeyBERTInspired()\n",
        "model_trained_representation= bertopic.BERTopic(representation_model=representation,nr_topics=optimal_n)\n",
        "topics,probs = model_trained_representation.fit_transform(dataset['headline'])"
      ]
    },
    {
      "cell_type": "code",
      "execution_count": 37,
      "metadata": {},
      "outputs": [
        {
          "name": "stdout",
          "output_type": "stream",
          "text": [
            "Coherence Score:  1.0 nan\n"
          ]
        },
        {
          "name": "stderr",
          "output_type": "stream",
          "text": [
            "c:\\Users\\David-Desktop\\miniconda3\\envs\\NLP\\lib\\site-packages\\numpy\\core\\fromnumeric.py:3504: RuntimeWarning: Mean of empty slice.\n",
            "  return _methods._mean(a, axis=axis, dtype=dtype,\n",
            "c:\\Users\\David-Desktop\\miniconda3\\envs\\NLP\\lib\\site-packages\\numpy\\core\\_methods.py:129: RuntimeWarning: invalid value encountered in scalar divide\n",
            "  ret = ret.dtype.type(ret / rcount)\n"
          ]
        }
      ],
      "source": [
        "dictionary = corpora.Dictionary(l_texts)\n",
        "coherence_model= CoherenceModel(model=model_trained_representation, texts=l_texts, dictionary=dictionary, coherence='c_v')\n",
        "coherence_score_cv = coherence_model.get_coherence()\n",
        "coherence_model= CoherenceModel(model=model_trained_representation, texts=l_texts, dictionary=dictionary, coherence='c_npmi')\n",
        "coherence_score_c_npmi = coherence_model.get_coherence()\n",
        "print(\"Coherence Score: \", coherence_score_cv,coherence_score_c_npmi)"
      ]
    },
    {
      "cell_type": "code",
      "execution_count": 38,
      "metadata": {},
      "outputs": [
        {
          "name": "stderr",
          "output_type": "stream",
          "text": [
            "c:\\Users\\David-Desktop\\miniconda3\\envs\\NLP\\lib\\site-packages\\pandas\\core\\dtypes\\cast.py:1841: DeprecationWarning: np.find_common_type is deprecated.  Please use `np.result_type` or `np.promote_types`.\n",
            "See https://numpy.org/devdocs/release/1.25.0-notes.html and the docs for more information.  (Deprecated NumPy 1.25)\n",
            "  return np.find_common_type(types, [])\n",
            "c:\\Users\\David-Desktop\\miniconda3\\envs\\NLP\\lib\\site-packages\\pandas\\core\\dtypes\\cast.py:1841: DeprecationWarning: np.find_common_type is deprecated.  Please use `np.result_type` or `np.promote_types`.\n",
            "See https://numpy.org/devdocs/release/1.25.0-notes.html and the docs for more information.  (Deprecated NumPy 1.25)\n",
            "  return np.find_common_type(types, [])\n"
          ]
        },
        {
          "data": {
            "application/vnd.plotly.v1+json": {
              "config": {
                "plotlyServerURL": "https://plot.ly"
              },
              "data": [
                {
                  "customdata": [
                    [
                      0,
                      "hillary | sanders | clinton | trump | bernie",
                      15651
                    ],
                    [
                      1,
                      "kardashian | kardashians | kylie | kim | jennifer",
                      14225
                    ],
                    [
                      2,
                      "happiness | meditation | mindfulness | meditations | meditate",
                      7402
                    ],
                    [
                      3,
                      "parenthood | parenting | mothers | parental | motherhood",
                      5100
                    ],
                    [
                      4,
                      "vintage | ebay | photos | weekly | house",
                      5018
                    ],
                    [
                      5,
                      "isis | iran | irans | syria | sanctions",
                      4887
                    ],
                    [
                      6,
                      "recipes | recipe | cooking | cook | chef",
                      4781
                    ],
                    [
                      7,
                      "travel | traveling | travelers | destinations | trip",
                      4656
                    ],
                    [
                      8,
                      "cancer | patient | disease | patients | prostate",
                      3716
                    ],
                    [
                      9,
                      "fashion | fashionably | wardrobe | dresses | dress",
                      3687
                    ],
                    [
                      10,
                      "divorce | divorced | divorcing | alimony | marriage",
                      3222
                    ],
                    [
                      11,
                      "scalias | scalia | justice | judge | court",
                      3053
                    ],
                    [
                      12,
                      "nfl | bowl | sports | basketball | olympics",
                      2962
                    ],
                    [
                      13,
                      "pope | popes | vatican | catholic | francis",
                      2764
                    ],
                    [
                      14,
                      "homeless | homelessness | walmart | shopping | friday",
                      2695
                    ],
                    [
                      15,
                      "pets | dogs | dog | pet | pup",
                      2219
                    ],
                    [
                      16,
                      "diet | obese | obesity | fitness | exercise",
                      2055
                    ],
                    [
                      17,
                      "taxes | tax | irs | gop | fiscal",
                      2008
                    ],
                    [
                      18,
                      "huffpost | huffington | news | march | rise",
                      1962
                    ],
                    [
                      19,
                      "immigration | deported | deportations | immigrants | deportation",
                      1840
                    ],
                    [
                      20,
                      "charlottesville | confederate | charleston | carolina | civil",
                      1777
                    ],
                    [
                      21,
                      "climate | warming | sustainability | drought | environmental",
                      1767
                    ],
                    [
                      22,
                      "roundup | sunday | weekend | friday | week",
                      1694
                    ],
                    [
                      23,
                      "airlines | airline | airplane | flights | flight",
                      1565
                    ],
                    [
                      24,
                      "cardiac | hospice | funeral | dying | heart",
                      1554
                    ],
                    [
                      25,
                      "marijuana | cannabis | legalizing | legalization | legalize",
                      1368
                    ],
                    [
                      26,
                      "autism | autistic | aspergers | disabilities | adhd",
                      1284
                    ],
                    [
                      27,
                      "wine | wines | drinks | alcohol | drinking",
                      1182
                    ],
                    [
                      28,
                      "hurricane | katrina | hurricanes | typhoon | sandy",
                      1121
                    ],
                    [
                      29,
                      "gps | maps | trips | guide | trip",
                      1095
                    ],
                    [
                      30,
                      "letter | emails | open | obama | email",
                      1066
                    ],
                    [
                      31,
                      "loans | tuition | loan | students | student",
                      1061
                    ],
                    [
                      32,
                      "korea | koreas | missile | korean | icbm",
                      931
                    ],
                    [
                      33,
                      "sleep | sleeps | sleeping | insomnia | nap",
                      915
                    ],
                    [
                      34,
                      "rohingya | rohingyas | myanmars | burmas | boko",
                      821
                    ],
                    [
                      35,
                      "golfer | golfers | fifa | golf | tiger",
                      701
                    ],
                    [
                      36,
                      "martian | mars | rover | nasa | planets",
                      646
                    ],
                    [
                      37,
                      "cruise | cruises | seaworld | ships | seas",
                      562
                    ],
                    [
                      38,
                      "iphone | iphones | apple | ios | ipad",
                      523
                    ],
                    [
                      39,
                      "snow | colds | ice | winter | cold",
                      455
                    ],
                    [
                      40,
                      "nicotine | cigarettes | tobacco | smoking | cigarette",
                      351
                    ],
                    [
                      41,
                      "interview | hiring | jobs | job | jobless",
                      334
                    ],
                    [
                      42,
                      "names | naming | named | nicknames | babies",
                      334
                    ],
                    [
                      43,
                      "uber | ubers | taxis | lyft | ride",
                      264
                    ],
                    [
                      44,
                      "news | fark | farts | fart | farting",
                      259
                    ],
                    [
                      45,
                      "pain | massage | massages | fibromyalgia | aching",
                      244
                    ],
                    [
                      46,
                      "allergies | allergy | pollen | salt | peanuts",
                      232
                    ],
                    [
                      47,
                      "scott | walker | scotts | governor | walkers",
                      221
                    ],
                    [
                      48,
                      "brexit | eu | britons | brits | britains",
                      200
                    ],
                    [
                      49,
                      "patrick | patricks | irish | shamrock | irelands",
                      193
                    ],
                    [
                      50,
                      "farmers | farmer | farms | village | farmervendor",
                      167
                    ],
                    [
                      51,
                      "rock | standing | cave | stone | stones",
                      118
                    ],
                    [
                      52,
                      "gawker | gawkers | gawkercom | gawken | gabbana",
                      87
                    ],
                    [
                      53,
                      "pokemon | poke | pokemonument | pokedates | pikachu",
                      75
                    ],
                    [
                      54,
                      "dylan | nobel | dylans | nobels | laureate",
                      67
                    ],
                    [
                      55,
                      "conyers | allegations | accuser | misconduct | resign",
                      66
                    ],
                    [
                      56,
                      "1915 | 1914 | 1916 | wwis | archduke",
                      40
                    ],
                    [
                      57,
                      "normal | new | abnormal | unusual | usual",
                      33
                    ],
                    [
                      58,
                      "knives | knife | blades | chef | kitchen",
                      25
                    ],
                    [
                      59,
                      "rune | raidho | weekly | othala | tiwaz",
                      23
                    ],
                    [
                      60,
                      "ninja | ninjas | warrior | ninjalike | zakis",
                      22
                    ]
                  ],
                  "hovertemplate": "<b>Topic %{customdata[0]}</b><br>%{customdata[1]}<br>Size: %{customdata[2]}",
                  "legendgroup": "",
                  "marker": {
                    "color": "#B0BEC5",
                    "line": {
                      "color": "DarkSlateGrey",
                      "width": 2
                    },
                    "size": [
                      15651,
                      14225,
                      7402,
                      5100,
                      5018,
                      4887,
                      4781,
                      4656,
                      3716,
                      3687,
                      3222,
                      3053,
                      2962,
                      2764,
                      2695,
                      2219,
                      2055,
                      2008,
                      1962,
                      1840,
                      1777,
                      1767,
                      1694,
                      1565,
                      1554,
                      1368,
                      1284,
                      1182,
                      1121,
                      1095,
                      1066,
                      1061,
                      931,
                      915,
                      821,
                      701,
                      646,
                      562,
                      523,
                      455,
                      351,
                      334,
                      334,
                      264,
                      259,
                      244,
                      232,
                      221,
                      200,
                      193,
                      167,
                      118,
                      87,
                      75,
                      67,
                      66,
                      40,
                      33,
                      25,
                      23,
                      22
                    ],
                    "sizemode": "area",
                    "sizeref": 9.781875,
                    "symbol": "circle"
                  },
                  "mode": "markers",
                  "name": "",
                  "orientation": "v",
                  "showlegend": false,
                  "type": "scatter",
                  "x": [
                    0.910312831401825,
                    9.906357765197754,
                    9.415763854980469,
                    10.514161109924316,
                    9.486261367797852,
                    -6.342122554779053,
                    19.337812423706055,
                    6.094849586486816,
                    14.578917503356934,
                    9.837057113647461,
                    9.645620346069336,
                    0.6808521747589111,
                    1.7941383123397827,
                    0.4681956470012665,
                    6.344488620758057,
                    9.600761413574219,
                    19.320945739746094,
                    6.699667930603027,
                    0.08349346369504929,
                    0.8509743213653564,
                    0.5979341864585876,
                    -0.08680924028158188,
                    8.369815826416016,
                    5.443614482879639,
                    9.207513809204102,
                    14.567968368530273,
                    10.090811729431152,
                    19.15619659423828,
                    -0.08255559206008911,
                    5.589633464813232,
                    1.02750563621521,
                    6.392120361328125,
                    -6.2845354080200195,
                    9.073333740234375,
                    -6.357665061950684,
                    1.7941334247589111,
                    8.56612491607666,
                    6.204047203063965,
                    -0.047757647931575775,
                    0.06232935190200806,
                    14.467464447021484,
                    6.132018566131592,
                    10.63503360748291,
                    6.787874698638916,
                    9.426992416381836,
                    10.010675430297852,
                    19.721153259277344,
                    0.6066572070121765,
                    0.9222396016120911,
                    8.363325119018555,
                    6.194780349731445,
                    5.990062713623047,
                    -0.1739674210548401,
                    5.5286688804626465,
                    0.6819698214530945,
                    0.7042528390884399,
                    8.569026947021484,
                    9.547677993774414,
                    19.55380630493164,
                    8.504810333251953,
                    9.131267547607422
                  ],
                  "xaxis": "x",
                  "y": [
                    2.7588484287261963,
                    5.73390007019043,
                    8.975229263305664,
                    9.449169158935547,
                    5.736782073974609,
                    0.7172327637672424,
                    0.24842549860477448,
                    4.854262351989746,
                    -2.142033100128174,
                    5.722871780395508,
                    9.214426040649414,
                    3.6171393394470215,
                    20.213634490966797,
                    3.5927059650421143,
                    0.9029200673103333,
                    5.69198751449585,
                    0.26496508717536926,
                    0.5804010033607483,
                    2.7650017738342285,
                    2.18109393119812,
                    3.5148396492004395,
                    -6.376018524169922,
                    5.9672346115112305,
                    4.758903503417969,
                    9.138242721557617,
                    -2.1314926147460938,
                    9.554479598999023,
                    0.4295612871646881,
                    -6.3716583251953125,
                    4.8823628425598145,
                    2.812281608581543,
                    0.8541138768196106,
                    0.774847686290741,
                    8.746675491333008,
                    0.7014621496200562,
                    20.21364402770996,
                    6.2015180587768555,
                    5.136948585510254,
                    2.532806873321533,
                    -6.226871490478516,
                    -2.0307586193084717,
                    1.117071270942688,
                    9.37375545501709,
                    0.492716521024704,
                    9.239035606384277,
                    9.704894065856934,
                    -0.1355905681848526,
                    2.8801398277282715,
                    2.6441900730133057,
                    5.570715427398682,
                    1.0506839752197266,
                    4.9157538414001465,
                    2.740208864212036,
                    4.8184967041015625,
                    2.206230401992798,
                    2.4556620121002197,
                    5.864445209503174,
                    8.750694274902344,
                    0.031261857599020004,
                    5.729909420013428,
                    9.066802024841309
                  ],
                  "yaxis": "y"
                }
              ],
              "layout": {
                "annotations": [
                  {
                    "showarrow": false,
                    "text": "D1",
                    "x": -7.311314821243286,
                    "y": 7.956634664535523,
                    "yshift": 10
                  },
                  {
                    "showarrow": false,
                    "text": "D2",
                    "x": 7.684005713462829,
                    "xshift": 10,
                    "y": 23.245690631866456
                  }
                ],
                "height": 650,
                "hoverlabel": {
                  "bgcolor": "white",
                  "font": {
                    "family": "Rockwell",
                    "size": 16
                  }
                },
                "legend": {
                  "itemsizing": "constant",
                  "tracegroupgap": 0
                },
                "margin": {
                  "t": 60
                },
                "shapes": [
                  {
                    "line": {
                      "color": "#CFD8DC",
                      "width": 2
                    },
                    "type": "line",
                    "x0": 7.684005713462829,
                    "x1": 7.684005713462829,
                    "y0": -7.33242130279541,
                    "y1": 23.245690631866456
                  },
                  {
                    "line": {
                      "color": "#9E9E9E",
                      "width": 2
                    },
                    "type": "line",
                    "x0": -7.311314821243286,
                    "x1": 22.679326248168945,
                    "y0": 7.956634664535523,
                    "y1": 7.956634664535523
                  }
                ],
                "sliders": [
                  {
                    "active": 0,
                    "pad": {
                      "t": 50
                    },
                    "steps": [
                      {
                        "args": [
                          {
                            "marker.color": [
                              [
                                "red",
                                "#B0BEC5",
                                "#B0BEC5",
                                "#B0BEC5",
                                "#B0BEC5",
                                "#B0BEC5",
                                "#B0BEC5",
                                "#B0BEC5",
                                "#B0BEC5",
                                "#B0BEC5",
                                "#B0BEC5",
                                "#B0BEC5",
                                "#B0BEC5",
                                "#B0BEC5",
                                "#B0BEC5",
                                "#B0BEC5",
                                "#B0BEC5",
                                "#B0BEC5",
                                "#B0BEC5",
                                "#B0BEC5",
                                "#B0BEC5",
                                "#B0BEC5",
                                "#B0BEC5",
                                "#B0BEC5",
                                "#B0BEC5",
                                "#B0BEC5",
                                "#B0BEC5",
                                "#B0BEC5",
                                "#B0BEC5",
                                "#B0BEC5",
                                "#B0BEC5",
                                "#B0BEC5",
                                "#B0BEC5",
                                "#B0BEC5",
                                "#B0BEC5",
                                "#B0BEC5",
                                "#B0BEC5",
                                "#B0BEC5",
                                "#B0BEC5",
                                "#B0BEC5",
                                "#B0BEC5",
                                "#B0BEC5",
                                "#B0BEC5",
                                "#B0BEC5",
                                "#B0BEC5",
                                "#B0BEC5",
                                "#B0BEC5",
                                "#B0BEC5",
                                "#B0BEC5",
                                "#B0BEC5",
                                "#B0BEC5",
                                "#B0BEC5",
                                "#B0BEC5",
                                "#B0BEC5",
                                "#B0BEC5",
                                "#B0BEC5",
                                "#B0BEC5",
                                "#B0BEC5",
                                "#B0BEC5",
                                "#B0BEC5",
                                "#B0BEC5"
                              ]
                            ]
                          }
                        ],
                        "label": "Topic 0",
                        "method": "update"
                      },
                      {
                        "args": [
                          {
                            "marker.color": [
                              [
                                "#B0BEC5",
                                "red",
                                "#B0BEC5",
                                "#B0BEC5",
                                "#B0BEC5",
                                "#B0BEC5",
                                "#B0BEC5",
                                "#B0BEC5",
                                "#B0BEC5",
                                "#B0BEC5",
                                "#B0BEC5",
                                "#B0BEC5",
                                "#B0BEC5",
                                "#B0BEC5",
                                "#B0BEC5",
                                "#B0BEC5",
                                "#B0BEC5",
                                "#B0BEC5",
                                "#B0BEC5",
                                "#B0BEC5",
                                "#B0BEC5",
                                "#B0BEC5",
                                "#B0BEC5",
                                "#B0BEC5",
                                "#B0BEC5",
                                "#B0BEC5",
                                "#B0BEC5",
                                "#B0BEC5",
                                "#B0BEC5",
                                "#B0BEC5",
                                "#B0BEC5",
                                "#B0BEC5",
                                "#B0BEC5",
                                "#B0BEC5",
                                "#B0BEC5",
                                "#B0BEC5",
                                "#B0BEC5",
                                "#B0BEC5",
                                "#B0BEC5",
                                "#B0BEC5",
                                "#B0BEC5",
                                "#B0BEC5",
                                "#B0BEC5",
                                "#B0BEC5",
                                "#B0BEC5",
                                "#B0BEC5",
                                "#B0BEC5",
                                "#B0BEC5",
                                "#B0BEC5",
                                "#B0BEC5",
                                "#B0BEC5",
                                "#B0BEC5",
                                "#B0BEC5",
                                "#B0BEC5",
                                "#B0BEC5",
                                "#B0BEC5",
                                "#B0BEC5",
                                "#B0BEC5",
                                "#B0BEC5",
                                "#B0BEC5",
                                "#B0BEC5"
                              ]
                            ]
                          }
                        ],
                        "label": "Topic 1",
                        "method": "update"
                      },
                      {
                        "args": [
                          {
                            "marker.color": [
                              [
                                "#B0BEC5",
                                "#B0BEC5",
                                "red",
                                "#B0BEC5",
                                "#B0BEC5",
                                "#B0BEC5",
                                "#B0BEC5",
                                "#B0BEC5",
                                "#B0BEC5",
                                "#B0BEC5",
                                "#B0BEC5",
                                "#B0BEC5",
                                "#B0BEC5",
                                "#B0BEC5",
                                "#B0BEC5",
                                "#B0BEC5",
                                "#B0BEC5",
                                "#B0BEC5",
                                "#B0BEC5",
                                "#B0BEC5",
                                "#B0BEC5",
                                "#B0BEC5",
                                "#B0BEC5",
                                "#B0BEC5",
                                "#B0BEC5",
                                "#B0BEC5",
                                "#B0BEC5",
                                "#B0BEC5",
                                "#B0BEC5",
                                "#B0BEC5",
                                "#B0BEC5",
                                "#B0BEC5",
                                "#B0BEC5",
                                "#B0BEC5",
                                "#B0BEC5",
                                "#B0BEC5",
                                "#B0BEC5",
                                "#B0BEC5",
                                "#B0BEC5",
                                "#B0BEC5",
                                "#B0BEC5",
                                "#B0BEC5",
                                "#B0BEC5",
                                "#B0BEC5",
                                "#B0BEC5",
                                "#B0BEC5",
                                "#B0BEC5",
                                "#B0BEC5",
                                "#B0BEC5",
                                "#B0BEC5",
                                "#B0BEC5",
                                "#B0BEC5",
                                "#B0BEC5",
                                "#B0BEC5",
                                "#B0BEC5",
                                "#B0BEC5",
                                "#B0BEC5",
                                "#B0BEC5",
                                "#B0BEC5",
                                "#B0BEC5",
                                "#B0BEC5"
                              ]
                            ]
                          }
                        ],
                        "label": "Topic 2",
                        "method": "update"
                      },
                      {
                        "args": [
                          {
                            "marker.color": [
                              [
                                "#B0BEC5",
                                "#B0BEC5",
                                "#B0BEC5",
                                "red",
                                "#B0BEC5",
                                "#B0BEC5",
                                "#B0BEC5",
                                "#B0BEC5",
                                "#B0BEC5",
                                "#B0BEC5",
                                "#B0BEC5",
                                "#B0BEC5",
                                "#B0BEC5",
                                "#B0BEC5",
                                "#B0BEC5",
                                "#B0BEC5",
                                "#B0BEC5",
                                "#B0BEC5",
                                "#B0BEC5",
                                "#B0BEC5",
                                "#B0BEC5",
                                "#B0BEC5",
                                "#B0BEC5",
                                "#B0BEC5",
                                "#B0BEC5",
                                "#B0BEC5",
                                "#B0BEC5",
                                "#B0BEC5",
                                "#B0BEC5",
                                "#B0BEC5",
                                "#B0BEC5",
                                "#B0BEC5",
                                "#B0BEC5",
                                "#B0BEC5",
                                "#B0BEC5",
                                "#B0BEC5",
                                "#B0BEC5",
                                "#B0BEC5",
                                "#B0BEC5",
                                "#B0BEC5",
                                "#B0BEC5",
                                "#B0BEC5",
                                "#B0BEC5",
                                "#B0BEC5",
                                "#B0BEC5",
                                "#B0BEC5",
                                "#B0BEC5",
                                "#B0BEC5",
                                "#B0BEC5",
                                "#B0BEC5",
                                "#B0BEC5",
                                "#B0BEC5",
                                "#B0BEC5",
                                "#B0BEC5",
                                "#B0BEC5",
                                "#B0BEC5",
                                "#B0BEC5",
                                "#B0BEC5",
                                "#B0BEC5",
                                "#B0BEC5",
                                "#B0BEC5"
                              ]
                            ]
                          }
                        ],
                        "label": "Topic 3",
                        "method": "update"
                      },
                      {
                        "args": [
                          {
                            "marker.color": [
                              [
                                "#B0BEC5",
                                "#B0BEC5",
                                "#B0BEC5",
                                "#B0BEC5",
                                "red",
                                "#B0BEC5",
                                "#B0BEC5",
                                "#B0BEC5",
                                "#B0BEC5",
                                "#B0BEC5",
                                "#B0BEC5",
                                "#B0BEC5",
                                "#B0BEC5",
                                "#B0BEC5",
                                "#B0BEC5",
                                "#B0BEC5",
                                "#B0BEC5",
                                "#B0BEC5",
                                "#B0BEC5",
                                "#B0BEC5",
                                "#B0BEC5",
                                "#B0BEC5",
                                "#B0BEC5",
                                "#B0BEC5",
                                "#B0BEC5",
                                "#B0BEC5",
                                "#B0BEC5",
                                "#B0BEC5",
                                "#B0BEC5",
                                "#B0BEC5",
                                "#B0BEC5",
                                "#B0BEC5",
                                "#B0BEC5",
                                "#B0BEC5",
                                "#B0BEC5",
                                "#B0BEC5",
                                "#B0BEC5",
                                "#B0BEC5",
                                "#B0BEC5",
                                "#B0BEC5",
                                "#B0BEC5",
                                "#B0BEC5",
                                "#B0BEC5",
                                "#B0BEC5",
                                "#B0BEC5",
                                "#B0BEC5",
                                "#B0BEC5",
                                "#B0BEC5",
                                "#B0BEC5",
                                "#B0BEC5",
                                "#B0BEC5",
                                "#B0BEC5",
                                "#B0BEC5",
                                "#B0BEC5",
                                "#B0BEC5",
                                "#B0BEC5",
                                "#B0BEC5",
                                "#B0BEC5",
                                "#B0BEC5",
                                "#B0BEC5",
                                "#B0BEC5"
                              ]
                            ]
                          }
                        ],
                        "label": "Topic 4",
                        "method": "update"
                      },
                      {
                        "args": [
                          {
                            "marker.color": [
                              [
                                "#B0BEC5",
                                "#B0BEC5",
                                "#B0BEC5",
                                "#B0BEC5",
                                "#B0BEC5",
                                "red",
                                "#B0BEC5",
                                "#B0BEC5",
                                "#B0BEC5",
                                "#B0BEC5",
                                "#B0BEC5",
                                "#B0BEC5",
                                "#B0BEC5",
                                "#B0BEC5",
                                "#B0BEC5",
                                "#B0BEC5",
                                "#B0BEC5",
                                "#B0BEC5",
                                "#B0BEC5",
                                "#B0BEC5",
                                "#B0BEC5",
                                "#B0BEC5",
                                "#B0BEC5",
                                "#B0BEC5",
                                "#B0BEC5",
                                "#B0BEC5",
                                "#B0BEC5",
                                "#B0BEC5",
                                "#B0BEC5",
                                "#B0BEC5",
                                "#B0BEC5",
                                "#B0BEC5",
                                "#B0BEC5",
                                "#B0BEC5",
                                "#B0BEC5",
                                "#B0BEC5",
                                "#B0BEC5",
                                "#B0BEC5",
                                "#B0BEC5",
                                "#B0BEC5",
                                "#B0BEC5",
                                "#B0BEC5",
                                "#B0BEC5",
                                "#B0BEC5",
                                "#B0BEC5",
                                "#B0BEC5",
                                "#B0BEC5",
                                "#B0BEC5",
                                "#B0BEC5",
                                "#B0BEC5",
                                "#B0BEC5",
                                "#B0BEC5",
                                "#B0BEC5",
                                "#B0BEC5",
                                "#B0BEC5",
                                "#B0BEC5",
                                "#B0BEC5",
                                "#B0BEC5",
                                "#B0BEC5",
                                "#B0BEC5",
                                "#B0BEC5"
                              ]
                            ]
                          }
                        ],
                        "label": "Topic 5",
                        "method": "update"
                      },
                      {
                        "args": [
                          {
                            "marker.color": [
                              [
                                "#B0BEC5",
                                "#B0BEC5",
                                "#B0BEC5",
                                "#B0BEC5",
                                "#B0BEC5",
                                "#B0BEC5",
                                "red",
                                "#B0BEC5",
                                "#B0BEC5",
                                "#B0BEC5",
                                "#B0BEC5",
                                "#B0BEC5",
                                "#B0BEC5",
                                "#B0BEC5",
                                "#B0BEC5",
                                "#B0BEC5",
                                "#B0BEC5",
                                "#B0BEC5",
                                "#B0BEC5",
                                "#B0BEC5",
                                "#B0BEC5",
                                "#B0BEC5",
                                "#B0BEC5",
                                "#B0BEC5",
                                "#B0BEC5",
                                "#B0BEC5",
                                "#B0BEC5",
                                "#B0BEC5",
                                "#B0BEC5",
                                "#B0BEC5",
                                "#B0BEC5",
                                "#B0BEC5",
                                "#B0BEC5",
                                "#B0BEC5",
                                "#B0BEC5",
                                "#B0BEC5",
                                "#B0BEC5",
                                "#B0BEC5",
                                "#B0BEC5",
                                "#B0BEC5",
                                "#B0BEC5",
                                "#B0BEC5",
                                "#B0BEC5",
                                "#B0BEC5",
                                "#B0BEC5",
                                "#B0BEC5",
                                "#B0BEC5",
                                "#B0BEC5",
                                "#B0BEC5",
                                "#B0BEC5",
                                "#B0BEC5",
                                "#B0BEC5",
                                "#B0BEC5",
                                "#B0BEC5",
                                "#B0BEC5",
                                "#B0BEC5",
                                "#B0BEC5",
                                "#B0BEC5",
                                "#B0BEC5",
                                "#B0BEC5",
                                "#B0BEC5"
                              ]
                            ]
                          }
                        ],
                        "label": "Topic 6",
                        "method": "update"
                      },
                      {
                        "args": [
                          {
                            "marker.color": [
                              [
                                "#B0BEC5",
                                "#B0BEC5",
                                "#B0BEC5",
                                "#B0BEC5",
                                "#B0BEC5",
                                "#B0BEC5",
                                "#B0BEC5",
                                "red",
                                "#B0BEC5",
                                "#B0BEC5",
                                "#B0BEC5",
                                "#B0BEC5",
                                "#B0BEC5",
                                "#B0BEC5",
                                "#B0BEC5",
                                "#B0BEC5",
                                "#B0BEC5",
                                "#B0BEC5",
                                "#B0BEC5",
                                "#B0BEC5",
                                "#B0BEC5",
                                "#B0BEC5",
                                "#B0BEC5",
                                "#B0BEC5",
                                "#B0BEC5",
                                "#B0BEC5",
                                "#B0BEC5",
                                "#B0BEC5",
                                "#B0BEC5",
                                "#B0BEC5",
                                "#B0BEC5",
                                "#B0BEC5",
                                "#B0BEC5",
                                "#B0BEC5",
                                "#B0BEC5",
                                "#B0BEC5",
                                "#B0BEC5",
                                "#B0BEC5",
                                "#B0BEC5",
                                "#B0BEC5",
                                "#B0BEC5",
                                "#B0BEC5",
                                "#B0BEC5",
                                "#B0BEC5",
                                "#B0BEC5",
                                "#B0BEC5",
                                "#B0BEC5",
                                "#B0BEC5",
                                "#B0BEC5",
                                "#B0BEC5",
                                "#B0BEC5",
                                "#B0BEC5",
                                "#B0BEC5",
                                "#B0BEC5",
                                "#B0BEC5",
                                "#B0BEC5",
                                "#B0BEC5",
                                "#B0BEC5",
                                "#B0BEC5",
                                "#B0BEC5",
                                "#B0BEC5"
                              ]
                            ]
                          }
                        ],
                        "label": "Topic 7",
                        "method": "update"
                      },
                      {
                        "args": [
                          {
                            "marker.color": [
                              [
                                "#B0BEC5",
                                "#B0BEC5",
                                "#B0BEC5",
                                "#B0BEC5",
                                "#B0BEC5",
                                "#B0BEC5",
                                "#B0BEC5",
                                "#B0BEC5",
                                "red",
                                "#B0BEC5",
                                "#B0BEC5",
                                "#B0BEC5",
                                "#B0BEC5",
                                "#B0BEC5",
                                "#B0BEC5",
                                "#B0BEC5",
                                "#B0BEC5",
                                "#B0BEC5",
                                "#B0BEC5",
                                "#B0BEC5",
                                "#B0BEC5",
                                "#B0BEC5",
                                "#B0BEC5",
                                "#B0BEC5",
                                "#B0BEC5",
                                "#B0BEC5",
                                "#B0BEC5",
                                "#B0BEC5",
                                "#B0BEC5",
                                "#B0BEC5",
                                "#B0BEC5",
                                "#B0BEC5",
                                "#B0BEC5",
                                "#B0BEC5",
                                "#B0BEC5",
                                "#B0BEC5",
                                "#B0BEC5",
                                "#B0BEC5",
                                "#B0BEC5",
                                "#B0BEC5",
                                "#B0BEC5",
                                "#B0BEC5",
                                "#B0BEC5",
                                "#B0BEC5",
                                "#B0BEC5",
                                "#B0BEC5",
                                "#B0BEC5",
                                "#B0BEC5",
                                "#B0BEC5",
                                "#B0BEC5",
                                "#B0BEC5",
                                "#B0BEC5",
                                "#B0BEC5",
                                "#B0BEC5",
                                "#B0BEC5",
                                "#B0BEC5",
                                "#B0BEC5",
                                "#B0BEC5",
                                "#B0BEC5",
                                "#B0BEC5",
                                "#B0BEC5"
                              ]
                            ]
                          }
                        ],
                        "label": "Topic 8",
                        "method": "update"
                      },
                      {
                        "args": [
                          {
                            "marker.color": [
                              [
                                "#B0BEC5",
                                "#B0BEC5",
                                "#B0BEC5",
                                "#B0BEC5",
                                "#B0BEC5",
                                "#B0BEC5",
                                "#B0BEC5",
                                "#B0BEC5",
                                "#B0BEC5",
                                "red",
                                "#B0BEC5",
                                "#B0BEC5",
                                "#B0BEC5",
                                "#B0BEC5",
                                "#B0BEC5",
                                "#B0BEC5",
                                "#B0BEC5",
                                "#B0BEC5",
                                "#B0BEC5",
                                "#B0BEC5",
                                "#B0BEC5",
                                "#B0BEC5",
                                "#B0BEC5",
                                "#B0BEC5",
                                "#B0BEC5",
                                "#B0BEC5",
                                "#B0BEC5",
                                "#B0BEC5",
                                "#B0BEC5",
                                "#B0BEC5",
                                "#B0BEC5",
                                "#B0BEC5",
                                "#B0BEC5",
                                "#B0BEC5",
                                "#B0BEC5",
                                "#B0BEC5",
                                "#B0BEC5",
                                "#B0BEC5",
                                "#B0BEC5",
                                "#B0BEC5",
                                "#B0BEC5",
                                "#B0BEC5",
                                "#B0BEC5",
                                "#B0BEC5",
                                "#B0BEC5",
                                "#B0BEC5",
                                "#B0BEC5",
                                "#B0BEC5",
                                "#B0BEC5",
                                "#B0BEC5",
                                "#B0BEC5",
                                "#B0BEC5",
                                "#B0BEC5",
                                "#B0BEC5",
                                "#B0BEC5",
                                "#B0BEC5",
                                "#B0BEC5",
                                "#B0BEC5",
                                "#B0BEC5",
                                "#B0BEC5",
                                "#B0BEC5"
                              ]
                            ]
                          }
                        ],
                        "label": "Topic 9",
                        "method": "update"
                      },
                      {
                        "args": [
                          {
                            "marker.color": [
                              [
                                "#B0BEC5",
                                "#B0BEC5",
                                "#B0BEC5",
                                "#B0BEC5",
                                "#B0BEC5",
                                "#B0BEC5",
                                "#B0BEC5",
                                "#B0BEC5",
                                "#B0BEC5",
                                "#B0BEC5",
                                "red",
                                "#B0BEC5",
                                "#B0BEC5",
                                "#B0BEC5",
                                "#B0BEC5",
                                "#B0BEC5",
                                "#B0BEC5",
                                "#B0BEC5",
                                "#B0BEC5",
                                "#B0BEC5",
                                "#B0BEC5",
                                "#B0BEC5",
                                "#B0BEC5",
                                "#B0BEC5",
                                "#B0BEC5",
                                "#B0BEC5",
                                "#B0BEC5",
                                "#B0BEC5",
                                "#B0BEC5",
                                "#B0BEC5",
                                "#B0BEC5",
                                "#B0BEC5",
                                "#B0BEC5",
                                "#B0BEC5",
                                "#B0BEC5",
                                "#B0BEC5",
                                "#B0BEC5",
                                "#B0BEC5",
                                "#B0BEC5",
                                "#B0BEC5",
                                "#B0BEC5",
                                "#B0BEC5",
                                "#B0BEC5",
                                "#B0BEC5",
                                "#B0BEC5",
                                "#B0BEC5",
                                "#B0BEC5",
                                "#B0BEC5",
                                "#B0BEC5",
                                "#B0BEC5",
                                "#B0BEC5",
                                "#B0BEC5",
                                "#B0BEC5",
                                "#B0BEC5",
                                "#B0BEC5",
                                "#B0BEC5",
                                "#B0BEC5",
                                "#B0BEC5",
                                "#B0BEC5",
                                "#B0BEC5",
                                "#B0BEC5"
                              ]
                            ]
                          }
                        ],
                        "label": "Topic 10",
                        "method": "update"
                      },
                      {
                        "args": [
                          {
                            "marker.color": [
                              [
                                "#B0BEC5",
                                "#B0BEC5",
                                "#B0BEC5",
                                "#B0BEC5",
                                "#B0BEC5",
                                "#B0BEC5",
                                "#B0BEC5",
                                "#B0BEC5",
                                "#B0BEC5",
                                "#B0BEC5",
                                "#B0BEC5",
                                "red",
                                "#B0BEC5",
                                "#B0BEC5",
                                "#B0BEC5",
                                "#B0BEC5",
                                "#B0BEC5",
                                "#B0BEC5",
                                "#B0BEC5",
                                "#B0BEC5",
                                "#B0BEC5",
                                "#B0BEC5",
                                "#B0BEC5",
                                "#B0BEC5",
                                "#B0BEC5",
                                "#B0BEC5",
                                "#B0BEC5",
                                "#B0BEC5",
                                "#B0BEC5",
                                "#B0BEC5",
                                "#B0BEC5",
                                "#B0BEC5",
                                "#B0BEC5",
                                "#B0BEC5",
                                "#B0BEC5",
                                "#B0BEC5",
                                "#B0BEC5",
                                "#B0BEC5",
                                "#B0BEC5",
                                "#B0BEC5",
                                "#B0BEC5",
                                "#B0BEC5",
                                "#B0BEC5",
                                "#B0BEC5",
                                "#B0BEC5",
                                "#B0BEC5",
                                "#B0BEC5",
                                "#B0BEC5",
                                "#B0BEC5",
                                "#B0BEC5",
                                "#B0BEC5",
                                "#B0BEC5",
                                "#B0BEC5",
                                "#B0BEC5",
                                "#B0BEC5",
                                "#B0BEC5",
                                "#B0BEC5",
                                "#B0BEC5",
                                "#B0BEC5",
                                "#B0BEC5",
                                "#B0BEC5"
                              ]
                            ]
                          }
                        ],
                        "label": "Topic 11",
                        "method": "update"
                      },
                      {
                        "args": [
                          {
                            "marker.color": [
                              [
                                "#B0BEC5",
                                "#B0BEC5",
                                "#B0BEC5",
                                "#B0BEC5",
                                "#B0BEC5",
                                "#B0BEC5",
                                "#B0BEC5",
                                "#B0BEC5",
                                "#B0BEC5",
                                "#B0BEC5",
                                "#B0BEC5",
                                "#B0BEC5",
                                "red",
                                "#B0BEC5",
                                "#B0BEC5",
                                "#B0BEC5",
                                "#B0BEC5",
                                "#B0BEC5",
                                "#B0BEC5",
                                "#B0BEC5",
                                "#B0BEC5",
                                "#B0BEC5",
                                "#B0BEC5",
                                "#B0BEC5",
                                "#B0BEC5",
                                "#B0BEC5",
                                "#B0BEC5",
                                "#B0BEC5",
                                "#B0BEC5",
                                "#B0BEC5",
                                "#B0BEC5",
                                "#B0BEC5",
                                "#B0BEC5",
                                "#B0BEC5",
                                "#B0BEC5",
                                "#B0BEC5",
                                "#B0BEC5",
                                "#B0BEC5",
                                "#B0BEC5",
                                "#B0BEC5",
                                "#B0BEC5",
                                "#B0BEC5",
                                "#B0BEC5",
                                "#B0BEC5",
                                "#B0BEC5",
                                "#B0BEC5",
                                "#B0BEC5",
                                "#B0BEC5",
                                "#B0BEC5",
                                "#B0BEC5",
                                "#B0BEC5",
                                "#B0BEC5",
                                "#B0BEC5",
                                "#B0BEC5",
                                "#B0BEC5",
                                "#B0BEC5",
                                "#B0BEC5",
                                "#B0BEC5",
                                "#B0BEC5",
                                "#B0BEC5",
                                "#B0BEC5"
                              ]
                            ]
                          }
                        ],
                        "label": "Topic 12",
                        "method": "update"
                      },
                      {
                        "args": [
                          {
                            "marker.color": [
                              [
                                "#B0BEC5",
                                "#B0BEC5",
                                "#B0BEC5",
                                "#B0BEC5",
                                "#B0BEC5",
                                "#B0BEC5",
                                "#B0BEC5",
                                "#B0BEC5",
                                "#B0BEC5",
                                "#B0BEC5",
                                "#B0BEC5",
                                "#B0BEC5",
                                "#B0BEC5",
                                "red",
                                "#B0BEC5",
                                "#B0BEC5",
                                "#B0BEC5",
                                "#B0BEC5",
                                "#B0BEC5",
                                "#B0BEC5",
                                "#B0BEC5",
                                "#B0BEC5",
                                "#B0BEC5",
                                "#B0BEC5",
                                "#B0BEC5",
                                "#B0BEC5",
                                "#B0BEC5",
                                "#B0BEC5",
                                "#B0BEC5",
                                "#B0BEC5",
                                "#B0BEC5",
                                "#B0BEC5",
                                "#B0BEC5",
                                "#B0BEC5",
                                "#B0BEC5",
                                "#B0BEC5",
                                "#B0BEC5",
                                "#B0BEC5",
                                "#B0BEC5",
                                "#B0BEC5",
                                "#B0BEC5",
                                "#B0BEC5",
                                "#B0BEC5",
                                "#B0BEC5",
                                "#B0BEC5",
                                "#B0BEC5",
                                "#B0BEC5",
                                "#B0BEC5",
                                "#B0BEC5",
                                "#B0BEC5",
                                "#B0BEC5",
                                "#B0BEC5",
                                "#B0BEC5",
                                "#B0BEC5",
                                "#B0BEC5",
                                "#B0BEC5",
                                "#B0BEC5",
                                "#B0BEC5",
                                "#B0BEC5",
                                "#B0BEC5",
                                "#B0BEC5"
                              ]
                            ]
                          }
                        ],
                        "label": "Topic 13",
                        "method": "update"
                      },
                      {
                        "args": [
                          {
                            "marker.color": [
                              [
                                "#B0BEC5",
                                "#B0BEC5",
                                "#B0BEC5",
                                "#B0BEC5",
                                "#B0BEC5",
                                "#B0BEC5",
                                "#B0BEC5",
                                "#B0BEC5",
                                "#B0BEC5",
                                "#B0BEC5",
                                "#B0BEC5",
                                "#B0BEC5",
                                "#B0BEC5",
                                "#B0BEC5",
                                "red",
                                "#B0BEC5",
                                "#B0BEC5",
                                "#B0BEC5",
                                "#B0BEC5",
                                "#B0BEC5",
                                "#B0BEC5",
                                "#B0BEC5",
                                "#B0BEC5",
                                "#B0BEC5",
                                "#B0BEC5",
                                "#B0BEC5",
                                "#B0BEC5",
                                "#B0BEC5",
                                "#B0BEC5",
                                "#B0BEC5",
                                "#B0BEC5",
                                "#B0BEC5",
                                "#B0BEC5",
                                "#B0BEC5",
                                "#B0BEC5",
                                "#B0BEC5",
                                "#B0BEC5",
                                "#B0BEC5",
                                "#B0BEC5",
                                "#B0BEC5",
                                "#B0BEC5",
                                "#B0BEC5",
                                "#B0BEC5",
                                "#B0BEC5",
                                "#B0BEC5",
                                "#B0BEC5",
                                "#B0BEC5",
                                "#B0BEC5",
                                "#B0BEC5",
                                "#B0BEC5",
                                "#B0BEC5",
                                "#B0BEC5",
                                "#B0BEC5",
                                "#B0BEC5",
                                "#B0BEC5",
                                "#B0BEC5",
                                "#B0BEC5",
                                "#B0BEC5",
                                "#B0BEC5",
                                "#B0BEC5",
                                "#B0BEC5"
                              ]
                            ]
                          }
                        ],
                        "label": "Topic 14",
                        "method": "update"
                      },
                      {
                        "args": [
                          {
                            "marker.color": [
                              [
                                "#B0BEC5",
                                "#B0BEC5",
                                "#B0BEC5",
                                "#B0BEC5",
                                "#B0BEC5",
                                "#B0BEC5",
                                "#B0BEC5",
                                "#B0BEC5",
                                "#B0BEC5",
                                "#B0BEC5",
                                "#B0BEC5",
                                "#B0BEC5",
                                "#B0BEC5",
                                "#B0BEC5",
                                "#B0BEC5",
                                "red",
                                "#B0BEC5",
                                "#B0BEC5",
                                "#B0BEC5",
                                "#B0BEC5",
                                "#B0BEC5",
                                "#B0BEC5",
                                "#B0BEC5",
                                "#B0BEC5",
                                "#B0BEC5",
                                "#B0BEC5",
                                "#B0BEC5",
                                "#B0BEC5",
                                "#B0BEC5",
                                "#B0BEC5",
                                "#B0BEC5",
                                "#B0BEC5",
                                "#B0BEC5",
                                "#B0BEC5",
                                "#B0BEC5",
                                "#B0BEC5",
                                "#B0BEC5",
                                "#B0BEC5",
                                "#B0BEC5",
                                "#B0BEC5",
                                "#B0BEC5",
                                "#B0BEC5",
                                "#B0BEC5",
                                "#B0BEC5",
                                "#B0BEC5",
                                "#B0BEC5",
                                "#B0BEC5",
                                "#B0BEC5",
                                "#B0BEC5",
                                "#B0BEC5",
                                "#B0BEC5",
                                "#B0BEC5",
                                "#B0BEC5",
                                "#B0BEC5",
                                "#B0BEC5",
                                "#B0BEC5",
                                "#B0BEC5",
                                "#B0BEC5",
                                "#B0BEC5",
                                "#B0BEC5",
                                "#B0BEC5"
                              ]
                            ]
                          }
                        ],
                        "label": "Topic 15",
                        "method": "update"
                      },
                      {
                        "args": [
                          {
                            "marker.color": [
                              [
                                "#B0BEC5",
                                "#B0BEC5",
                                "#B0BEC5",
                                "#B0BEC5",
                                "#B0BEC5",
                                "#B0BEC5",
                                "#B0BEC5",
                                "#B0BEC5",
                                "#B0BEC5",
                                "#B0BEC5",
                                "#B0BEC5",
                                "#B0BEC5",
                                "#B0BEC5",
                                "#B0BEC5",
                                "#B0BEC5",
                                "#B0BEC5",
                                "red",
                                "#B0BEC5",
                                "#B0BEC5",
                                "#B0BEC5",
                                "#B0BEC5",
                                "#B0BEC5",
                                "#B0BEC5",
                                "#B0BEC5",
                                "#B0BEC5",
                                "#B0BEC5",
                                "#B0BEC5",
                                "#B0BEC5",
                                "#B0BEC5",
                                "#B0BEC5",
                                "#B0BEC5",
                                "#B0BEC5",
                                "#B0BEC5",
                                "#B0BEC5",
                                "#B0BEC5",
                                "#B0BEC5",
                                "#B0BEC5",
                                "#B0BEC5",
                                "#B0BEC5",
                                "#B0BEC5",
                                "#B0BEC5",
                                "#B0BEC5",
                                "#B0BEC5",
                                "#B0BEC5",
                                "#B0BEC5",
                                "#B0BEC5",
                                "#B0BEC5",
                                "#B0BEC5",
                                "#B0BEC5",
                                "#B0BEC5",
                                "#B0BEC5",
                                "#B0BEC5",
                                "#B0BEC5",
                                "#B0BEC5",
                                "#B0BEC5",
                                "#B0BEC5",
                                "#B0BEC5",
                                "#B0BEC5",
                                "#B0BEC5",
                                "#B0BEC5",
                                "#B0BEC5"
                              ]
                            ]
                          }
                        ],
                        "label": "Topic 16",
                        "method": "update"
                      },
                      {
                        "args": [
                          {
                            "marker.color": [
                              [
                                "#B0BEC5",
                                "#B0BEC5",
                                "#B0BEC5",
                                "#B0BEC5",
                                "#B0BEC5",
                                "#B0BEC5",
                                "#B0BEC5",
                                "#B0BEC5",
                                "#B0BEC5",
                                "#B0BEC5",
                                "#B0BEC5",
                                "#B0BEC5",
                                "#B0BEC5",
                                "#B0BEC5",
                                "#B0BEC5",
                                "#B0BEC5",
                                "#B0BEC5",
                                "red",
                                "#B0BEC5",
                                "#B0BEC5",
                                "#B0BEC5",
                                "#B0BEC5",
                                "#B0BEC5",
                                "#B0BEC5",
                                "#B0BEC5",
                                "#B0BEC5",
                                "#B0BEC5",
                                "#B0BEC5",
                                "#B0BEC5",
                                "#B0BEC5",
                                "#B0BEC5",
                                "#B0BEC5",
                                "#B0BEC5",
                                "#B0BEC5",
                                "#B0BEC5",
                                "#B0BEC5",
                                "#B0BEC5",
                                "#B0BEC5",
                                "#B0BEC5",
                                "#B0BEC5",
                                "#B0BEC5",
                                "#B0BEC5",
                                "#B0BEC5",
                                "#B0BEC5",
                                "#B0BEC5",
                                "#B0BEC5",
                                "#B0BEC5",
                                "#B0BEC5",
                                "#B0BEC5",
                                "#B0BEC5",
                                "#B0BEC5",
                                "#B0BEC5",
                                "#B0BEC5",
                                "#B0BEC5",
                                "#B0BEC5",
                                "#B0BEC5",
                                "#B0BEC5",
                                "#B0BEC5",
                                "#B0BEC5",
                                "#B0BEC5",
                                "#B0BEC5"
                              ]
                            ]
                          }
                        ],
                        "label": "Topic 17",
                        "method": "update"
                      },
                      {
                        "args": [
                          {
                            "marker.color": [
                              [
                                "#B0BEC5",
                                "#B0BEC5",
                                "#B0BEC5",
                                "#B0BEC5",
                                "#B0BEC5",
                                "#B0BEC5",
                                "#B0BEC5",
                                "#B0BEC5",
                                "#B0BEC5",
                                "#B0BEC5",
                                "#B0BEC5",
                                "#B0BEC5",
                                "#B0BEC5",
                                "#B0BEC5",
                                "#B0BEC5",
                                "#B0BEC5",
                                "#B0BEC5",
                                "#B0BEC5",
                                "red",
                                "#B0BEC5",
                                "#B0BEC5",
                                "#B0BEC5",
                                "#B0BEC5",
                                "#B0BEC5",
                                "#B0BEC5",
                                "#B0BEC5",
                                "#B0BEC5",
                                "#B0BEC5",
                                "#B0BEC5",
                                "#B0BEC5",
                                "#B0BEC5",
                                "#B0BEC5",
                                "#B0BEC5",
                                "#B0BEC5",
                                "#B0BEC5",
                                "#B0BEC5",
                                "#B0BEC5",
                                "#B0BEC5",
                                "#B0BEC5",
                                "#B0BEC5",
                                "#B0BEC5",
                                "#B0BEC5",
                                "#B0BEC5",
                                "#B0BEC5",
                                "#B0BEC5",
                                "#B0BEC5",
                                "#B0BEC5",
                                "#B0BEC5",
                                "#B0BEC5",
                                "#B0BEC5",
                                "#B0BEC5",
                                "#B0BEC5",
                                "#B0BEC5",
                                "#B0BEC5",
                                "#B0BEC5",
                                "#B0BEC5",
                                "#B0BEC5",
                                "#B0BEC5",
                                "#B0BEC5",
                                "#B0BEC5",
                                "#B0BEC5"
                              ]
                            ]
                          }
                        ],
                        "label": "Topic 18",
                        "method": "update"
                      },
                      {
                        "args": [
                          {
                            "marker.color": [
                              [
                                "#B0BEC5",
                                "#B0BEC5",
                                "#B0BEC5",
                                "#B0BEC5",
                                "#B0BEC5",
                                "#B0BEC5",
                                "#B0BEC5",
                                "#B0BEC5",
                                "#B0BEC5",
                                "#B0BEC5",
                                "#B0BEC5",
                                "#B0BEC5",
                                "#B0BEC5",
                                "#B0BEC5",
                                "#B0BEC5",
                                "#B0BEC5",
                                "#B0BEC5",
                                "#B0BEC5",
                                "#B0BEC5",
                                "red",
                                "#B0BEC5",
                                "#B0BEC5",
                                "#B0BEC5",
                                "#B0BEC5",
                                "#B0BEC5",
                                "#B0BEC5",
                                "#B0BEC5",
                                "#B0BEC5",
                                "#B0BEC5",
                                "#B0BEC5",
                                "#B0BEC5",
                                "#B0BEC5",
                                "#B0BEC5",
                                "#B0BEC5",
                                "#B0BEC5",
                                "#B0BEC5",
                                "#B0BEC5",
                                "#B0BEC5",
                                "#B0BEC5",
                                "#B0BEC5",
                                "#B0BEC5",
                                "#B0BEC5",
                                "#B0BEC5",
                                "#B0BEC5",
                                "#B0BEC5",
                                "#B0BEC5",
                                "#B0BEC5",
                                "#B0BEC5",
                                "#B0BEC5",
                                "#B0BEC5",
                                "#B0BEC5",
                                "#B0BEC5",
                                "#B0BEC5",
                                "#B0BEC5",
                                "#B0BEC5",
                                "#B0BEC5",
                                "#B0BEC5",
                                "#B0BEC5",
                                "#B0BEC5",
                                "#B0BEC5",
                                "#B0BEC5"
                              ]
                            ]
                          }
                        ],
                        "label": "Topic 19",
                        "method": "update"
                      },
                      {
                        "args": [
                          {
                            "marker.color": [
                              [
                                "#B0BEC5",
                                "#B0BEC5",
                                "#B0BEC5",
                                "#B0BEC5",
                                "#B0BEC5",
                                "#B0BEC5",
                                "#B0BEC5",
                                "#B0BEC5",
                                "#B0BEC5",
                                "#B0BEC5",
                                "#B0BEC5",
                                "#B0BEC5",
                                "#B0BEC5",
                                "#B0BEC5",
                                "#B0BEC5",
                                "#B0BEC5",
                                "#B0BEC5",
                                "#B0BEC5",
                                "#B0BEC5",
                                "#B0BEC5",
                                "red",
                                "#B0BEC5",
                                "#B0BEC5",
                                "#B0BEC5",
                                "#B0BEC5",
                                "#B0BEC5",
                                "#B0BEC5",
                                "#B0BEC5",
                                "#B0BEC5",
                                "#B0BEC5",
                                "#B0BEC5",
                                "#B0BEC5",
                                "#B0BEC5",
                                "#B0BEC5",
                                "#B0BEC5",
                                "#B0BEC5",
                                "#B0BEC5",
                                "#B0BEC5",
                                "#B0BEC5",
                                "#B0BEC5",
                                "#B0BEC5",
                                "#B0BEC5",
                                "#B0BEC5",
                                "#B0BEC5",
                                "#B0BEC5",
                                "#B0BEC5",
                                "#B0BEC5",
                                "#B0BEC5",
                                "#B0BEC5",
                                "#B0BEC5",
                                "#B0BEC5",
                                "#B0BEC5",
                                "#B0BEC5",
                                "#B0BEC5",
                                "#B0BEC5",
                                "#B0BEC5",
                                "#B0BEC5",
                                "#B0BEC5",
                                "#B0BEC5",
                                "#B0BEC5",
                                "#B0BEC5"
                              ]
                            ]
                          }
                        ],
                        "label": "Topic 20",
                        "method": "update"
                      },
                      {
                        "args": [
                          {
                            "marker.color": [
                              [
                                "#B0BEC5",
                                "#B0BEC5",
                                "#B0BEC5",
                                "#B0BEC5",
                                "#B0BEC5",
                                "#B0BEC5",
                                "#B0BEC5",
                                "#B0BEC5",
                                "#B0BEC5",
                                "#B0BEC5",
                                "#B0BEC5",
                                "#B0BEC5",
                                "#B0BEC5",
                                "#B0BEC5",
                                "#B0BEC5",
                                "#B0BEC5",
                                "#B0BEC5",
                                "#B0BEC5",
                                "#B0BEC5",
                                "#B0BEC5",
                                "#B0BEC5",
                                "red",
                                "#B0BEC5",
                                "#B0BEC5",
                                "#B0BEC5",
                                "#B0BEC5",
                                "#B0BEC5",
                                "#B0BEC5",
                                "#B0BEC5",
                                "#B0BEC5",
                                "#B0BEC5",
                                "#B0BEC5",
                                "#B0BEC5",
                                "#B0BEC5",
                                "#B0BEC5",
                                "#B0BEC5",
                                "#B0BEC5",
                                "#B0BEC5",
                                "#B0BEC5",
                                "#B0BEC5",
                                "#B0BEC5",
                                "#B0BEC5",
                                "#B0BEC5",
                                "#B0BEC5",
                                "#B0BEC5",
                                "#B0BEC5",
                                "#B0BEC5",
                                "#B0BEC5",
                                "#B0BEC5",
                                "#B0BEC5",
                                "#B0BEC5",
                                "#B0BEC5",
                                "#B0BEC5",
                                "#B0BEC5",
                                "#B0BEC5",
                                "#B0BEC5",
                                "#B0BEC5",
                                "#B0BEC5",
                                "#B0BEC5",
                                "#B0BEC5",
                                "#B0BEC5"
                              ]
                            ]
                          }
                        ],
                        "label": "Topic 21",
                        "method": "update"
                      },
                      {
                        "args": [
                          {
                            "marker.color": [
                              [
                                "#B0BEC5",
                                "#B0BEC5",
                                "#B0BEC5",
                                "#B0BEC5",
                                "#B0BEC5",
                                "#B0BEC5",
                                "#B0BEC5",
                                "#B0BEC5",
                                "#B0BEC5",
                                "#B0BEC5",
                                "#B0BEC5",
                                "#B0BEC5",
                                "#B0BEC5",
                                "#B0BEC5",
                                "#B0BEC5",
                                "#B0BEC5",
                                "#B0BEC5",
                                "#B0BEC5",
                                "#B0BEC5",
                                "#B0BEC5",
                                "#B0BEC5",
                                "#B0BEC5",
                                "red",
                                "#B0BEC5",
                                "#B0BEC5",
                                "#B0BEC5",
                                "#B0BEC5",
                                "#B0BEC5",
                                "#B0BEC5",
                                "#B0BEC5",
                                "#B0BEC5",
                                "#B0BEC5",
                                "#B0BEC5",
                                "#B0BEC5",
                                "#B0BEC5",
                                "#B0BEC5",
                                "#B0BEC5",
                                "#B0BEC5",
                                "#B0BEC5",
                                "#B0BEC5",
                                "#B0BEC5",
                                "#B0BEC5",
                                "#B0BEC5",
                                "#B0BEC5",
                                "#B0BEC5",
                                "#B0BEC5",
                                "#B0BEC5",
                                "#B0BEC5",
                                "#B0BEC5",
                                "#B0BEC5",
                                "#B0BEC5",
                                "#B0BEC5",
                                "#B0BEC5",
                                "#B0BEC5",
                                "#B0BEC5",
                                "#B0BEC5",
                                "#B0BEC5",
                                "#B0BEC5",
                                "#B0BEC5",
                                "#B0BEC5",
                                "#B0BEC5"
                              ]
                            ]
                          }
                        ],
                        "label": "Topic 22",
                        "method": "update"
                      },
                      {
                        "args": [
                          {
                            "marker.color": [
                              [
                                "#B0BEC5",
                                "#B0BEC5",
                                "#B0BEC5",
                                "#B0BEC5",
                                "#B0BEC5",
                                "#B0BEC5",
                                "#B0BEC5",
                                "#B0BEC5",
                                "#B0BEC5",
                                "#B0BEC5",
                                "#B0BEC5",
                                "#B0BEC5",
                                "#B0BEC5",
                                "#B0BEC5",
                                "#B0BEC5",
                                "#B0BEC5",
                                "#B0BEC5",
                                "#B0BEC5",
                                "#B0BEC5",
                                "#B0BEC5",
                                "#B0BEC5",
                                "#B0BEC5",
                                "#B0BEC5",
                                "red",
                                "#B0BEC5",
                                "#B0BEC5",
                                "#B0BEC5",
                                "#B0BEC5",
                                "#B0BEC5",
                                "#B0BEC5",
                                "#B0BEC5",
                                "#B0BEC5",
                                "#B0BEC5",
                                "#B0BEC5",
                                "#B0BEC5",
                                "#B0BEC5",
                                "#B0BEC5",
                                "#B0BEC5",
                                "#B0BEC5",
                                "#B0BEC5",
                                "#B0BEC5",
                                "#B0BEC5",
                                "#B0BEC5",
                                "#B0BEC5",
                                "#B0BEC5",
                                "#B0BEC5",
                                "#B0BEC5",
                                "#B0BEC5",
                                "#B0BEC5",
                                "#B0BEC5",
                                "#B0BEC5",
                                "#B0BEC5",
                                "#B0BEC5",
                                "#B0BEC5",
                                "#B0BEC5",
                                "#B0BEC5",
                                "#B0BEC5",
                                "#B0BEC5",
                                "#B0BEC5",
                                "#B0BEC5",
                                "#B0BEC5"
                              ]
                            ]
                          }
                        ],
                        "label": "Topic 23",
                        "method": "update"
                      },
                      {
                        "args": [
                          {
                            "marker.color": [
                              [
                                "#B0BEC5",
                                "#B0BEC5",
                                "#B0BEC5",
                                "#B0BEC5",
                                "#B0BEC5",
                                "#B0BEC5",
                                "#B0BEC5",
                                "#B0BEC5",
                                "#B0BEC5",
                                "#B0BEC5",
                                "#B0BEC5",
                                "#B0BEC5",
                                "#B0BEC5",
                                "#B0BEC5",
                                "#B0BEC5",
                                "#B0BEC5",
                                "#B0BEC5",
                                "#B0BEC5",
                                "#B0BEC5",
                                "#B0BEC5",
                                "#B0BEC5",
                                "#B0BEC5",
                                "#B0BEC5",
                                "#B0BEC5",
                                "red",
                                "#B0BEC5",
                                "#B0BEC5",
                                "#B0BEC5",
                                "#B0BEC5",
                                "#B0BEC5",
                                "#B0BEC5",
                                "#B0BEC5",
                                "#B0BEC5",
                                "#B0BEC5",
                                "#B0BEC5",
                                "#B0BEC5",
                                "#B0BEC5",
                                "#B0BEC5",
                                "#B0BEC5",
                                "#B0BEC5",
                                "#B0BEC5",
                                "#B0BEC5",
                                "#B0BEC5",
                                "#B0BEC5",
                                "#B0BEC5",
                                "#B0BEC5",
                                "#B0BEC5",
                                "#B0BEC5",
                                "#B0BEC5",
                                "#B0BEC5",
                                "#B0BEC5",
                                "#B0BEC5",
                                "#B0BEC5",
                                "#B0BEC5",
                                "#B0BEC5",
                                "#B0BEC5",
                                "#B0BEC5",
                                "#B0BEC5",
                                "#B0BEC5",
                                "#B0BEC5",
                                "#B0BEC5"
                              ]
                            ]
                          }
                        ],
                        "label": "Topic 24",
                        "method": "update"
                      },
                      {
                        "args": [
                          {
                            "marker.color": [
                              [
                                "#B0BEC5",
                                "#B0BEC5",
                                "#B0BEC5",
                                "#B0BEC5",
                                "#B0BEC5",
                                "#B0BEC5",
                                "#B0BEC5",
                                "#B0BEC5",
                                "#B0BEC5",
                                "#B0BEC5",
                                "#B0BEC5",
                                "#B0BEC5",
                                "#B0BEC5",
                                "#B0BEC5",
                                "#B0BEC5",
                                "#B0BEC5",
                                "#B0BEC5",
                                "#B0BEC5",
                                "#B0BEC5",
                                "#B0BEC5",
                                "#B0BEC5",
                                "#B0BEC5",
                                "#B0BEC5",
                                "#B0BEC5",
                                "#B0BEC5",
                                "red",
                                "#B0BEC5",
                                "#B0BEC5",
                                "#B0BEC5",
                                "#B0BEC5",
                                "#B0BEC5",
                                "#B0BEC5",
                                "#B0BEC5",
                                "#B0BEC5",
                                "#B0BEC5",
                                "#B0BEC5",
                                "#B0BEC5",
                                "#B0BEC5",
                                "#B0BEC5",
                                "#B0BEC5",
                                "#B0BEC5",
                                "#B0BEC5",
                                "#B0BEC5",
                                "#B0BEC5",
                                "#B0BEC5",
                                "#B0BEC5",
                                "#B0BEC5",
                                "#B0BEC5",
                                "#B0BEC5",
                                "#B0BEC5",
                                "#B0BEC5",
                                "#B0BEC5",
                                "#B0BEC5",
                                "#B0BEC5",
                                "#B0BEC5",
                                "#B0BEC5",
                                "#B0BEC5",
                                "#B0BEC5",
                                "#B0BEC5",
                                "#B0BEC5",
                                "#B0BEC5"
                              ]
                            ]
                          }
                        ],
                        "label": "Topic 25",
                        "method": "update"
                      },
                      {
                        "args": [
                          {
                            "marker.color": [
                              [
                                "#B0BEC5",
                                "#B0BEC5",
                                "#B0BEC5",
                                "#B0BEC5",
                                "#B0BEC5",
                                "#B0BEC5",
                                "#B0BEC5",
                                "#B0BEC5",
                                "#B0BEC5",
                                "#B0BEC5",
                                "#B0BEC5",
                                "#B0BEC5",
                                "#B0BEC5",
                                "#B0BEC5",
                                "#B0BEC5",
                                "#B0BEC5",
                                "#B0BEC5",
                                "#B0BEC5",
                                "#B0BEC5",
                                "#B0BEC5",
                                "#B0BEC5",
                                "#B0BEC5",
                                "#B0BEC5",
                                "#B0BEC5",
                                "#B0BEC5",
                                "#B0BEC5",
                                "red",
                                "#B0BEC5",
                                "#B0BEC5",
                                "#B0BEC5",
                                "#B0BEC5",
                                "#B0BEC5",
                                "#B0BEC5",
                                "#B0BEC5",
                                "#B0BEC5",
                                "#B0BEC5",
                                "#B0BEC5",
                                "#B0BEC5",
                                "#B0BEC5",
                                "#B0BEC5",
                                "#B0BEC5",
                                "#B0BEC5",
                                "#B0BEC5",
                                "#B0BEC5",
                                "#B0BEC5",
                                "#B0BEC5",
                                "#B0BEC5",
                                "#B0BEC5",
                                "#B0BEC5",
                                "#B0BEC5",
                                "#B0BEC5",
                                "#B0BEC5",
                                "#B0BEC5",
                                "#B0BEC5",
                                "#B0BEC5",
                                "#B0BEC5",
                                "#B0BEC5",
                                "#B0BEC5",
                                "#B0BEC5",
                                "#B0BEC5",
                                "#B0BEC5"
                              ]
                            ]
                          }
                        ],
                        "label": "Topic 26",
                        "method": "update"
                      },
                      {
                        "args": [
                          {
                            "marker.color": [
                              [
                                "#B0BEC5",
                                "#B0BEC5",
                                "#B0BEC5",
                                "#B0BEC5",
                                "#B0BEC5",
                                "#B0BEC5",
                                "#B0BEC5",
                                "#B0BEC5",
                                "#B0BEC5",
                                "#B0BEC5",
                                "#B0BEC5",
                                "#B0BEC5",
                                "#B0BEC5",
                                "#B0BEC5",
                                "#B0BEC5",
                                "#B0BEC5",
                                "#B0BEC5",
                                "#B0BEC5",
                                "#B0BEC5",
                                "#B0BEC5",
                                "#B0BEC5",
                                "#B0BEC5",
                                "#B0BEC5",
                                "#B0BEC5",
                                "#B0BEC5",
                                "#B0BEC5",
                                "#B0BEC5",
                                "red",
                                "#B0BEC5",
                                "#B0BEC5",
                                "#B0BEC5",
                                "#B0BEC5",
                                "#B0BEC5",
                                "#B0BEC5",
                                "#B0BEC5",
                                "#B0BEC5",
                                "#B0BEC5",
                                "#B0BEC5",
                                "#B0BEC5",
                                "#B0BEC5",
                                "#B0BEC5",
                                "#B0BEC5",
                                "#B0BEC5",
                                "#B0BEC5",
                                "#B0BEC5",
                                "#B0BEC5",
                                "#B0BEC5",
                                "#B0BEC5",
                                "#B0BEC5",
                                "#B0BEC5",
                                "#B0BEC5",
                                "#B0BEC5",
                                "#B0BEC5",
                                "#B0BEC5",
                                "#B0BEC5",
                                "#B0BEC5",
                                "#B0BEC5",
                                "#B0BEC5",
                                "#B0BEC5",
                                "#B0BEC5",
                                "#B0BEC5"
                              ]
                            ]
                          }
                        ],
                        "label": "Topic 27",
                        "method": "update"
                      },
                      {
                        "args": [
                          {
                            "marker.color": [
                              [
                                "#B0BEC5",
                                "#B0BEC5",
                                "#B0BEC5",
                                "#B0BEC5",
                                "#B0BEC5",
                                "#B0BEC5",
                                "#B0BEC5",
                                "#B0BEC5",
                                "#B0BEC5",
                                "#B0BEC5",
                                "#B0BEC5",
                                "#B0BEC5",
                                "#B0BEC5",
                                "#B0BEC5",
                                "#B0BEC5",
                                "#B0BEC5",
                                "#B0BEC5",
                                "#B0BEC5",
                                "#B0BEC5",
                                "#B0BEC5",
                                "#B0BEC5",
                                "#B0BEC5",
                                "#B0BEC5",
                                "#B0BEC5",
                                "#B0BEC5",
                                "#B0BEC5",
                                "#B0BEC5",
                                "#B0BEC5",
                                "red",
                                "#B0BEC5",
                                "#B0BEC5",
                                "#B0BEC5",
                                "#B0BEC5",
                                "#B0BEC5",
                                "#B0BEC5",
                                "#B0BEC5",
                                "#B0BEC5",
                                "#B0BEC5",
                                "#B0BEC5",
                                "#B0BEC5",
                                "#B0BEC5",
                                "#B0BEC5",
                                "#B0BEC5",
                                "#B0BEC5",
                                "#B0BEC5",
                                "#B0BEC5",
                                "#B0BEC5",
                                "#B0BEC5",
                                "#B0BEC5",
                                "#B0BEC5",
                                "#B0BEC5",
                                "#B0BEC5",
                                "#B0BEC5",
                                "#B0BEC5",
                                "#B0BEC5",
                                "#B0BEC5",
                                "#B0BEC5",
                                "#B0BEC5",
                                "#B0BEC5",
                                "#B0BEC5",
                                "#B0BEC5"
                              ]
                            ]
                          }
                        ],
                        "label": "Topic 28",
                        "method": "update"
                      },
                      {
                        "args": [
                          {
                            "marker.color": [
                              [
                                "#B0BEC5",
                                "#B0BEC5",
                                "#B0BEC5",
                                "#B0BEC5",
                                "#B0BEC5",
                                "#B0BEC5",
                                "#B0BEC5",
                                "#B0BEC5",
                                "#B0BEC5",
                                "#B0BEC5",
                                "#B0BEC5",
                                "#B0BEC5",
                                "#B0BEC5",
                                "#B0BEC5",
                                "#B0BEC5",
                                "#B0BEC5",
                                "#B0BEC5",
                                "#B0BEC5",
                                "#B0BEC5",
                                "#B0BEC5",
                                "#B0BEC5",
                                "#B0BEC5",
                                "#B0BEC5",
                                "#B0BEC5",
                                "#B0BEC5",
                                "#B0BEC5",
                                "#B0BEC5",
                                "#B0BEC5",
                                "#B0BEC5",
                                "red",
                                "#B0BEC5",
                                "#B0BEC5",
                                "#B0BEC5",
                                "#B0BEC5",
                                "#B0BEC5",
                                "#B0BEC5",
                                "#B0BEC5",
                                "#B0BEC5",
                                "#B0BEC5",
                                "#B0BEC5",
                                "#B0BEC5",
                                "#B0BEC5",
                                "#B0BEC5",
                                "#B0BEC5",
                                "#B0BEC5",
                                "#B0BEC5",
                                "#B0BEC5",
                                "#B0BEC5",
                                "#B0BEC5",
                                "#B0BEC5",
                                "#B0BEC5",
                                "#B0BEC5",
                                "#B0BEC5",
                                "#B0BEC5",
                                "#B0BEC5",
                                "#B0BEC5",
                                "#B0BEC5",
                                "#B0BEC5",
                                "#B0BEC5",
                                "#B0BEC5",
                                "#B0BEC5"
                              ]
                            ]
                          }
                        ],
                        "label": "Topic 29",
                        "method": "update"
                      },
                      {
                        "args": [
                          {
                            "marker.color": [
                              [
                                "#B0BEC5",
                                "#B0BEC5",
                                "#B0BEC5",
                                "#B0BEC5",
                                "#B0BEC5",
                                "#B0BEC5",
                                "#B0BEC5",
                                "#B0BEC5",
                                "#B0BEC5",
                                "#B0BEC5",
                                "#B0BEC5",
                                "#B0BEC5",
                                "#B0BEC5",
                                "#B0BEC5",
                                "#B0BEC5",
                                "#B0BEC5",
                                "#B0BEC5",
                                "#B0BEC5",
                                "#B0BEC5",
                                "#B0BEC5",
                                "#B0BEC5",
                                "#B0BEC5",
                                "#B0BEC5",
                                "#B0BEC5",
                                "#B0BEC5",
                                "#B0BEC5",
                                "#B0BEC5",
                                "#B0BEC5",
                                "#B0BEC5",
                                "#B0BEC5",
                                "red",
                                "#B0BEC5",
                                "#B0BEC5",
                                "#B0BEC5",
                                "#B0BEC5",
                                "#B0BEC5",
                                "#B0BEC5",
                                "#B0BEC5",
                                "#B0BEC5",
                                "#B0BEC5",
                                "#B0BEC5",
                                "#B0BEC5",
                                "#B0BEC5",
                                "#B0BEC5",
                                "#B0BEC5",
                                "#B0BEC5",
                                "#B0BEC5",
                                "#B0BEC5",
                                "#B0BEC5",
                                "#B0BEC5",
                                "#B0BEC5",
                                "#B0BEC5",
                                "#B0BEC5",
                                "#B0BEC5",
                                "#B0BEC5",
                                "#B0BEC5",
                                "#B0BEC5",
                                "#B0BEC5",
                                "#B0BEC5",
                                "#B0BEC5",
                                "#B0BEC5"
                              ]
                            ]
                          }
                        ],
                        "label": "Topic 30",
                        "method": "update"
                      },
                      {
                        "args": [
                          {
                            "marker.color": [
                              [
                                "#B0BEC5",
                                "#B0BEC5",
                                "#B0BEC5",
                                "#B0BEC5",
                                "#B0BEC5",
                                "#B0BEC5",
                                "#B0BEC5",
                                "#B0BEC5",
                                "#B0BEC5",
                                "#B0BEC5",
                                "#B0BEC5",
                                "#B0BEC5",
                                "#B0BEC5",
                                "#B0BEC5",
                                "#B0BEC5",
                                "#B0BEC5",
                                "#B0BEC5",
                                "#B0BEC5",
                                "#B0BEC5",
                                "#B0BEC5",
                                "#B0BEC5",
                                "#B0BEC5",
                                "#B0BEC5",
                                "#B0BEC5",
                                "#B0BEC5",
                                "#B0BEC5",
                                "#B0BEC5",
                                "#B0BEC5",
                                "#B0BEC5",
                                "#B0BEC5",
                                "#B0BEC5",
                                "red",
                                "#B0BEC5",
                                "#B0BEC5",
                                "#B0BEC5",
                                "#B0BEC5",
                                "#B0BEC5",
                                "#B0BEC5",
                                "#B0BEC5",
                                "#B0BEC5",
                                "#B0BEC5",
                                "#B0BEC5",
                                "#B0BEC5",
                                "#B0BEC5",
                                "#B0BEC5",
                                "#B0BEC5",
                                "#B0BEC5",
                                "#B0BEC5",
                                "#B0BEC5",
                                "#B0BEC5",
                                "#B0BEC5",
                                "#B0BEC5",
                                "#B0BEC5",
                                "#B0BEC5",
                                "#B0BEC5",
                                "#B0BEC5",
                                "#B0BEC5",
                                "#B0BEC5",
                                "#B0BEC5",
                                "#B0BEC5",
                                "#B0BEC5"
                              ]
                            ]
                          }
                        ],
                        "label": "Topic 31",
                        "method": "update"
                      },
                      {
                        "args": [
                          {
                            "marker.color": [
                              [
                                "#B0BEC5",
                                "#B0BEC5",
                                "#B0BEC5",
                                "#B0BEC5",
                                "#B0BEC5",
                                "#B0BEC5",
                                "#B0BEC5",
                                "#B0BEC5",
                                "#B0BEC5",
                                "#B0BEC5",
                                "#B0BEC5",
                                "#B0BEC5",
                                "#B0BEC5",
                                "#B0BEC5",
                                "#B0BEC5",
                                "#B0BEC5",
                                "#B0BEC5",
                                "#B0BEC5",
                                "#B0BEC5",
                                "#B0BEC5",
                                "#B0BEC5",
                                "#B0BEC5",
                                "#B0BEC5",
                                "#B0BEC5",
                                "#B0BEC5",
                                "#B0BEC5",
                                "#B0BEC5",
                                "#B0BEC5",
                                "#B0BEC5",
                                "#B0BEC5",
                                "#B0BEC5",
                                "#B0BEC5",
                                "red",
                                "#B0BEC5",
                                "#B0BEC5",
                                "#B0BEC5",
                                "#B0BEC5",
                                "#B0BEC5",
                                "#B0BEC5",
                                "#B0BEC5",
                                "#B0BEC5",
                                "#B0BEC5",
                                "#B0BEC5",
                                "#B0BEC5",
                                "#B0BEC5",
                                "#B0BEC5",
                                "#B0BEC5",
                                "#B0BEC5",
                                "#B0BEC5",
                                "#B0BEC5",
                                "#B0BEC5",
                                "#B0BEC5",
                                "#B0BEC5",
                                "#B0BEC5",
                                "#B0BEC5",
                                "#B0BEC5",
                                "#B0BEC5",
                                "#B0BEC5",
                                "#B0BEC5",
                                "#B0BEC5",
                                "#B0BEC5"
                              ]
                            ]
                          }
                        ],
                        "label": "Topic 32",
                        "method": "update"
                      },
                      {
                        "args": [
                          {
                            "marker.color": [
                              [
                                "#B0BEC5",
                                "#B0BEC5",
                                "#B0BEC5",
                                "#B0BEC5",
                                "#B0BEC5",
                                "#B0BEC5",
                                "#B0BEC5",
                                "#B0BEC5",
                                "#B0BEC5",
                                "#B0BEC5",
                                "#B0BEC5",
                                "#B0BEC5",
                                "#B0BEC5",
                                "#B0BEC5",
                                "#B0BEC5",
                                "#B0BEC5",
                                "#B0BEC5",
                                "#B0BEC5",
                                "#B0BEC5",
                                "#B0BEC5",
                                "#B0BEC5",
                                "#B0BEC5",
                                "#B0BEC5",
                                "#B0BEC5",
                                "#B0BEC5",
                                "#B0BEC5",
                                "#B0BEC5",
                                "#B0BEC5",
                                "#B0BEC5",
                                "#B0BEC5",
                                "#B0BEC5",
                                "#B0BEC5",
                                "#B0BEC5",
                                "red",
                                "#B0BEC5",
                                "#B0BEC5",
                                "#B0BEC5",
                                "#B0BEC5",
                                "#B0BEC5",
                                "#B0BEC5",
                                "#B0BEC5",
                                "#B0BEC5",
                                "#B0BEC5",
                                "#B0BEC5",
                                "#B0BEC5",
                                "#B0BEC5",
                                "#B0BEC5",
                                "#B0BEC5",
                                "#B0BEC5",
                                "#B0BEC5",
                                "#B0BEC5",
                                "#B0BEC5",
                                "#B0BEC5",
                                "#B0BEC5",
                                "#B0BEC5",
                                "#B0BEC5",
                                "#B0BEC5",
                                "#B0BEC5",
                                "#B0BEC5",
                                "#B0BEC5",
                                "#B0BEC5"
                              ]
                            ]
                          }
                        ],
                        "label": "Topic 33",
                        "method": "update"
                      },
                      {
                        "args": [
                          {
                            "marker.color": [
                              [
                                "#B0BEC5",
                                "#B0BEC5",
                                "#B0BEC5",
                                "#B0BEC5",
                                "#B0BEC5",
                                "#B0BEC5",
                                "#B0BEC5",
                                "#B0BEC5",
                                "#B0BEC5",
                                "#B0BEC5",
                                "#B0BEC5",
                                "#B0BEC5",
                                "#B0BEC5",
                                "#B0BEC5",
                                "#B0BEC5",
                                "#B0BEC5",
                                "#B0BEC5",
                                "#B0BEC5",
                                "#B0BEC5",
                                "#B0BEC5",
                                "#B0BEC5",
                                "#B0BEC5",
                                "#B0BEC5",
                                "#B0BEC5",
                                "#B0BEC5",
                                "#B0BEC5",
                                "#B0BEC5",
                                "#B0BEC5",
                                "#B0BEC5",
                                "#B0BEC5",
                                "#B0BEC5",
                                "#B0BEC5",
                                "#B0BEC5",
                                "#B0BEC5",
                                "red",
                                "#B0BEC5",
                                "#B0BEC5",
                                "#B0BEC5",
                                "#B0BEC5",
                                "#B0BEC5",
                                "#B0BEC5",
                                "#B0BEC5",
                                "#B0BEC5",
                                "#B0BEC5",
                                "#B0BEC5",
                                "#B0BEC5",
                                "#B0BEC5",
                                "#B0BEC5",
                                "#B0BEC5",
                                "#B0BEC5",
                                "#B0BEC5",
                                "#B0BEC5",
                                "#B0BEC5",
                                "#B0BEC5",
                                "#B0BEC5",
                                "#B0BEC5",
                                "#B0BEC5",
                                "#B0BEC5",
                                "#B0BEC5",
                                "#B0BEC5",
                                "#B0BEC5"
                              ]
                            ]
                          }
                        ],
                        "label": "Topic 34",
                        "method": "update"
                      },
                      {
                        "args": [
                          {
                            "marker.color": [
                              [
                                "#B0BEC5",
                                "#B0BEC5",
                                "#B0BEC5",
                                "#B0BEC5",
                                "#B0BEC5",
                                "#B0BEC5",
                                "#B0BEC5",
                                "#B0BEC5",
                                "#B0BEC5",
                                "#B0BEC5",
                                "#B0BEC5",
                                "#B0BEC5",
                                "#B0BEC5",
                                "#B0BEC5",
                                "#B0BEC5",
                                "#B0BEC5",
                                "#B0BEC5",
                                "#B0BEC5",
                                "#B0BEC5",
                                "#B0BEC5",
                                "#B0BEC5",
                                "#B0BEC5",
                                "#B0BEC5",
                                "#B0BEC5",
                                "#B0BEC5",
                                "#B0BEC5",
                                "#B0BEC5",
                                "#B0BEC5",
                                "#B0BEC5",
                                "#B0BEC5",
                                "#B0BEC5",
                                "#B0BEC5",
                                "#B0BEC5",
                                "#B0BEC5",
                                "#B0BEC5",
                                "red",
                                "#B0BEC5",
                                "#B0BEC5",
                                "#B0BEC5",
                                "#B0BEC5",
                                "#B0BEC5",
                                "#B0BEC5",
                                "#B0BEC5",
                                "#B0BEC5",
                                "#B0BEC5",
                                "#B0BEC5",
                                "#B0BEC5",
                                "#B0BEC5",
                                "#B0BEC5",
                                "#B0BEC5",
                                "#B0BEC5",
                                "#B0BEC5",
                                "#B0BEC5",
                                "#B0BEC5",
                                "#B0BEC5",
                                "#B0BEC5",
                                "#B0BEC5",
                                "#B0BEC5",
                                "#B0BEC5",
                                "#B0BEC5",
                                "#B0BEC5"
                              ]
                            ]
                          }
                        ],
                        "label": "Topic 35",
                        "method": "update"
                      },
                      {
                        "args": [
                          {
                            "marker.color": [
                              [
                                "#B0BEC5",
                                "#B0BEC5",
                                "#B0BEC5",
                                "#B0BEC5",
                                "#B0BEC5",
                                "#B0BEC5",
                                "#B0BEC5",
                                "#B0BEC5",
                                "#B0BEC5",
                                "#B0BEC5",
                                "#B0BEC5",
                                "#B0BEC5",
                                "#B0BEC5",
                                "#B0BEC5",
                                "#B0BEC5",
                                "#B0BEC5",
                                "#B0BEC5",
                                "#B0BEC5",
                                "#B0BEC5",
                                "#B0BEC5",
                                "#B0BEC5",
                                "#B0BEC5",
                                "#B0BEC5",
                                "#B0BEC5",
                                "#B0BEC5",
                                "#B0BEC5",
                                "#B0BEC5",
                                "#B0BEC5",
                                "#B0BEC5",
                                "#B0BEC5",
                                "#B0BEC5",
                                "#B0BEC5",
                                "#B0BEC5",
                                "#B0BEC5",
                                "#B0BEC5",
                                "#B0BEC5",
                                "red",
                                "#B0BEC5",
                                "#B0BEC5",
                                "#B0BEC5",
                                "#B0BEC5",
                                "#B0BEC5",
                                "#B0BEC5",
                                "#B0BEC5",
                                "#B0BEC5",
                                "#B0BEC5",
                                "#B0BEC5",
                                "#B0BEC5",
                                "#B0BEC5",
                                "#B0BEC5",
                                "#B0BEC5",
                                "#B0BEC5",
                                "#B0BEC5",
                                "#B0BEC5",
                                "#B0BEC5",
                                "#B0BEC5",
                                "#B0BEC5",
                                "#B0BEC5",
                                "#B0BEC5",
                                "#B0BEC5",
                                "#B0BEC5"
                              ]
                            ]
                          }
                        ],
                        "label": "Topic 36",
                        "method": "update"
                      },
                      {
                        "args": [
                          {
                            "marker.color": [
                              [
                                "#B0BEC5",
                                "#B0BEC5",
                                "#B0BEC5",
                                "#B0BEC5",
                                "#B0BEC5",
                                "#B0BEC5",
                                "#B0BEC5",
                                "#B0BEC5",
                                "#B0BEC5",
                                "#B0BEC5",
                                "#B0BEC5",
                                "#B0BEC5",
                                "#B0BEC5",
                                "#B0BEC5",
                                "#B0BEC5",
                                "#B0BEC5",
                                "#B0BEC5",
                                "#B0BEC5",
                                "#B0BEC5",
                                "#B0BEC5",
                                "#B0BEC5",
                                "#B0BEC5",
                                "#B0BEC5",
                                "#B0BEC5",
                                "#B0BEC5",
                                "#B0BEC5",
                                "#B0BEC5",
                                "#B0BEC5",
                                "#B0BEC5",
                                "#B0BEC5",
                                "#B0BEC5",
                                "#B0BEC5",
                                "#B0BEC5",
                                "#B0BEC5",
                                "#B0BEC5",
                                "#B0BEC5",
                                "#B0BEC5",
                                "red",
                                "#B0BEC5",
                                "#B0BEC5",
                                "#B0BEC5",
                                "#B0BEC5",
                                "#B0BEC5",
                                "#B0BEC5",
                                "#B0BEC5",
                                "#B0BEC5",
                                "#B0BEC5",
                                "#B0BEC5",
                                "#B0BEC5",
                                "#B0BEC5",
                                "#B0BEC5",
                                "#B0BEC5",
                                "#B0BEC5",
                                "#B0BEC5",
                                "#B0BEC5",
                                "#B0BEC5",
                                "#B0BEC5",
                                "#B0BEC5",
                                "#B0BEC5",
                                "#B0BEC5",
                                "#B0BEC5"
                              ]
                            ]
                          }
                        ],
                        "label": "Topic 37",
                        "method": "update"
                      },
                      {
                        "args": [
                          {
                            "marker.color": [
                              [
                                "#B0BEC5",
                                "#B0BEC5",
                                "#B0BEC5",
                                "#B0BEC5",
                                "#B0BEC5",
                                "#B0BEC5",
                                "#B0BEC5",
                                "#B0BEC5",
                                "#B0BEC5",
                                "#B0BEC5",
                                "#B0BEC5",
                                "#B0BEC5",
                                "#B0BEC5",
                                "#B0BEC5",
                                "#B0BEC5",
                                "#B0BEC5",
                                "#B0BEC5",
                                "#B0BEC5",
                                "#B0BEC5",
                                "#B0BEC5",
                                "#B0BEC5",
                                "#B0BEC5",
                                "#B0BEC5",
                                "#B0BEC5",
                                "#B0BEC5",
                                "#B0BEC5",
                                "#B0BEC5",
                                "#B0BEC5",
                                "#B0BEC5",
                                "#B0BEC5",
                                "#B0BEC5",
                                "#B0BEC5",
                                "#B0BEC5",
                                "#B0BEC5",
                                "#B0BEC5",
                                "#B0BEC5",
                                "#B0BEC5",
                                "#B0BEC5",
                                "red",
                                "#B0BEC5",
                                "#B0BEC5",
                                "#B0BEC5",
                                "#B0BEC5",
                                "#B0BEC5",
                                "#B0BEC5",
                                "#B0BEC5",
                                "#B0BEC5",
                                "#B0BEC5",
                                "#B0BEC5",
                                "#B0BEC5",
                                "#B0BEC5",
                                "#B0BEC5",
                                "#B0BEC5",
                                "#B0BEC5",
                                "#B0BEC5",
                                "#B0BEC5",
                                "#B0BEC5",
                                "#B0BEC5",
                                "#B0BEC5",
                                "#B0BEC5",
                                "#B0BEC5"
                              ]
                            ]
                          }
                        ],
                        "label": "Topic 38",
                        "method": "update"
                      },
                      {
                        "args": [
                          {
                            "marker.color": [
                              [
                                "#B0BEC5",
                                "#B0BEC5",
                                "#B0BEC5",
                                "#B0BEC5",
                                "#B0BEC5",
                                "#B0BEC5",
                                "#B0BEC5",
                                "#B0BEC5",
                                "#B0BEC5",
                                "#B0BEC5",
                                "#B0BEC5",
                                "#B0BEC5",
                                "#B0BEC5",
                                "#B0BEC5",
                                "#B0BEC5",
                                "#B0BEC5",
                                "#B0BEC5",
                                "#B0BEC5",
                                "#B0BEC5",
                                "#B0BEC5",
                                "#B0BEC5",
                                "#B0BEC5",
                                "#B0BEC5",
                                "#B0BEC5",
                                "#B0BEC5",
                                "#B0BEC5",
                                "#B0BEC5",
                                "#B0BEC5",
                                "#B0BEC5",
                                "#B0BEC5",
                                "#B0BEC5",
                                "#B0BEC5",
                                "#B0BEC5",
                                "#B0BEC5",
                                "#B0BEC5",
                                "#B0BEC5",
                                "#B0BEC5",
                                "#B0BEC5",
                                "#B0BEC5",
                                "red",
                                "#B0BEC5",
                                "#B0BEC5",
                                "#B0BEC5",
                                "#B0BEC5",
                                "#B0BEC5",
                                "#B0BEC5",
                                "#B0BEC5",
                                "#B0BEC5",
                                "#B0BEC5",
                                "#B0BEC5",
                                "#B0BEC5",
                                "#B0BEC5",
                                "#B0BEC5",
                                "#B0BEC5",
                                "#B0BEC5",
                                "#B0BEC5",
                                "#B0BEC5",
                                "#B0BEC5",
                                "#B0BEC5",
                                "#B0BEC5",
                                "#B0BEC5"
                              ]
                            ]
                          }
                        ],
                        "label": "Topic 39",
                        "method": "update"
                      },
                      {
                        "args": [
                          {
                            "marker.color": [
                              [
                                "#B0BEC5",
                                "#B0BEC5",
                                "#B0BEC5",
                                "#B0BEC5",
                                "#B0BEC5",
                                "#B0BEC5",
                                "#B0BEC5",
                                "#B0BEC5",
                                "#B0BEC5",
                                "#B0BEC5",
                                "#B0BEC5",
                                "#B0BEC5",
                                "#B0BEC5",
                                "#B0BEC5",
                                "#B0BEC5",
                                "#B0BEC5",
                                "#B0BEC5",
                                "#B0BEC5",
                                "#B0BEC5",
                                "#B0BEC5",
                                "#B0BEC5",
                                "#B0BEC5",
                                "#B0BEC5",
                                "#B0BEC5",
                                "#B0BEC5",
                                "#B0BEC5",
                                "#B0BEC5",
                                "#B0BEC5",
                                "#B0BEC5",
                                "#B0BEC5",
                                "#B0BEC5",
                                "#B0BEC5",
                                "#B0BEC5",
                                "#B0BEC5",
                                "#B0BEC5",
                                "#B0BEC5",
                                "#B0BEC5",
                                "#B0BEC5",
                                "#B0BEC5",
                                "#B0BEC5",
                                "red",
                                "#B0BEC5",
                                "#B0BEC5",
                                "#B0BEC5",
                                "#B0BEC5",
                                "#B0BEC5",
                                "#B0BEC5",
                                "#B0BEC5",
                                "#B0BEC5",
                                "#B0BEC5",
                                "#B0BEC5",
                                "#B0BEC5",
                                "#B0BEC5",
                                "#B0BEC5",
                                "#B0BEC5",
                                "#B0BEC5",
                                "#B0BEC5",
                                "#B0BEC5",
                                "#B0BEC5",
                                "#B0BEC5",
                                "#B0BEC5"
                              ]
                            ]
                          }
                        ],
                        "label": "Topic 40",
                        "method": "update"
                      },
                      {
                        "args": [
                          {
                            "marker.color": [
                              [
                                "#B0BEC5",
                                "#B0BEC5",
                                "#B0BEC5",
                                "#B0BEC5",
                                "#B0BEC5",
                                "#B0BEC5",
                                "#B0BEC5",
                                "#B0BEC5",
                                "#B0BEC5",
                                "#B0BEC5",
                                "#B0BEC5",
                                "#B0BEC5",
                                "#B0BEC5",
                                "#B0BEC5",
                                "#B0BEC5",
                                "#B0BEC5",
                                "#B0BEC5",
                                "#B0BEC5",
                                "#B0BEC5",
                                "#B0BEC5",
                                "#B0BEC5",
                                "#B0BEC5",
                                "#B0BEC5",
                                "#B0BEC5",
                                "#B0BEC5",
                                "#B0BEC5",
                                "#B0BEC5",
                                "#B0BEC5",
                                "#B0BEC5",
                                "#B0BEC5",
                                "#B0BEC5",
                                "#B0BEC5",
                                "#B0BEC5",
                                "#B0BEC5",
                                "#B0BEC5",
                                "#B0BEC5",
                                "#B0BEC5",
                                "#B0BEC5",
                                "#B0BEC5",
                                "#B0BEC5",
                                "#B0BEC5",
                                "red",
                                "#B0BEC5",
                                "#B0BEC5",
                                "#B0BEC5",
                                "#B0BEC5",
                                "#B0BEC5",
                                "#B0BEC5",
                                "#B0BEC5",
                                "#B0BEC5",
                                "#B0BEC5",
                                "#B0BEC5",
                                "#B0BEC5",
                                "#B0BEC5",
                                "#B0BEC5",
                                "#B0BEC5",
                                "#B0BEC5",
                                "#B0BEC5",
                                "#B0BEC5",
                                "#B0BEC5",
                                "#B0BEC5"
                              ]
                            ]
                          }
                        ],
                        "label": "Topic 41",
                        "method": "update"
                      },
                      {
                        "args": [
                          {
                            "marker.color": [
                              [
                                "#B0BEC5",
                                "#B0BEC5",
                                "#B0BEC5",
                                "#B0BEC5",
                                "#B0BEC5",
                                "#B0BEC5",
                                "#B0BEC5",
                                "#B0BEC5",
                                "#B0BEC5",
                                "#B0BEC5",
                                "#B0BEC5",
                                "#B0BEC5",
                                "#B0BEC5",
                                "#B0BEC5",
                                "#B0BEC5",
                                "#B0BEC5",
                                "#B0BEC5",
                                "#B0BEC5",
                                "#B0BEC5",
                                "#B0BEC5",
                                "#B0BEC5",
                                "#B0BEC5",
                                "#B0BEC5",
                                "#B0BEC5",
                                "#B0BEC5",
                                "#B0BEC5",
                                "#B0BEC5",
                                "#B0BEC5",
                                "#B0BEC5",
                                "#B0BEC5",
                                "#B0BEC5",
                                "#B0BEC5",
                                "#B0BEC5",
                                "#B0BEC5",
                                "#B0BEC5",
                                "#B0BEC5",
                                "#B0BEC5",
                                "#B0BEC5",
                                "#B0BEC5",
                                "#B0BEC5",
                                "#B0BEC5",
                                "#B0BEC5",
                                "red",
                                "#B0BEC5",
                                "#B0BEC5",
                                "#B0BEC5",
                                "#B0BEC5",
                                "#B0BEC5",
                                "#B0BEC5",
                                "#B0BEC5",
                                "#B0BEC5",
                                "#B0BEC5",
                                "#B0BEC5",
                                "#B0BEC5",
                                "#B0BEC5",
                                "#B0BEC5",
                                "#B0BEC5",
                                "#B0BEC5",
                                "#B0BEC5",
                                "#B0BEC5",
                                "#B0BEC5"
                              ]
                            ]
                          }
                        ],
                        "label": "Topic 42",
                        "method": "update"
                      },
                      {
                        "args": [
                          {
                            "marker.color": [
                              [
                                "#B0BEC5",
                                "#B0BEC5",
                                "#B0BEC5",
                                "#B0BEC5",
                                "#B0BEC5",
                                "#B0BEC5",
                                "#B0BEC5",
                                "#B0BEC5",
                                "#B0BEC5",
                                "#B0BEC5",
                                "#B0BEC5",
                                "#B0BEC5",
                                "#B0BEC5",
                                "#B0BEC5",
                                "#B0BEC5",
                                "#B0BEC5",
                                "#B0BEC5",
                                "#B0BEC5",
                                "#B0BEC5",
                                "#B0BEC5",
                                "#B0BEC5",
                                "#B0BEC5",
                                "#B0BEC5",
                                "#B0BEC5",
                                "#B0BEC5",
                                "#B0BEC5",
                                "#B0BEC5",
                                "#B0BEC5",
                                "#B0BEC5",
                                "#B0BEC5",
                                "#B0BEC5",
                                "#B0BEC5",
                                "#B0BEC5",
                                "#B0BEC5",
                                "#B0BEC5",
                                "#B0BEC5",
                                "#B0BEC5",
                                "#B0BEC5",
                                "#B0BEC5",
                                "#B0BEC5",
                                "#B0BEC5",
                                "#B0BEC5",
                                "#B0BEC5",
                                "red",
                                "#B0BEC5",
                                "#B0BEC5",
                                "#B0BEC5",
                                "#B0BEC5",
                                "#B0BEC5",
                                "#B0BEC5",
                                "#B0BEC5",
                                "#B0BEC5",
                                "#B0BEC5",
                                "#B0BEC5",
                                "#B0BEC5",
                                "#B0BEC5",
                                "#B0BEC5",
                                "#B0BEC5",
                                "#B0BEC5",
                                "#B0BEC5",
                                "#B0BEC5"
                              ]
                            ]
                          }
                        ],
                        "label": "Topic 43",
                        "method": "update"
                      },
                      {
                        "args": [
                          {
                            "marker.color": [
                              [
                                "#B0BEC5",
                                "#B0BEC5",
                                "#B0BEC5",
                                "#B0BEC5",
                                "#B0BEC5",
                                "#B0BEC5",
                                "#B0BEC5",
                                "#B0BEC5",
                                "#B0BEC5",
                                "#B0BEC5",
                                "#B0BEC5",
                                "#B0BEC5",
                                "#B0BEC5",
                                "#B0BEC5",
                                "#B0BEC5",
                                "#B0BEC5",
                                "#B0BEC5",
                                "#B0BEC5",
                                "#B0BEC5",
                                "#B0BEC5",
                                "#B0BEC5",
                                "#B0BEC5",
                                "#B0BEC5",
                                "#B0BEC5",
                                "#B0BEC5",
                                "#B0BEC5",
                                "#B0BEC5",
                                "#B0BEC5",
                                "#B0BEC5",
                                "#B0BEC5",
                                "#B0BEC5",
                                "#B0BEC5",
                                "#B0BEC5",
                                "#B0BEC5",
                                "#B0BEC5",
                                "#B0BEC5",
                                "#B0BEC5",
                                "#B0BEC5",
                                "#B0BEC5",
                                "#B0BEC5",
                                "#B0BEC5",
                                "#B0BEC5",
                                "#B0BEC5",
                                "#B0BEC5",
                                "red",
                                "#B0BEC5",
                                "#B0BEC5",
                                "#B0BEC5",
                                "#B0BEC5",
                                "#B0BEC5",
                                "#B0BEC5",
                                "#B0BEC5",
                                "#B0BEC5",
                                "#B0BEC5",
                                "#B0BEC5",
                                "#B0BEC5",
                                "#B0BEC5",
                                "#B0BEC5",
                                "#B0BEC5",
                                "#B0BEC5",
                                "#B0BEC5"
                              ]
                            ]
                          }
                        ],
                        "label": "Topic 44",
                        "method": "update"
                      },
                      {
                        "args": [
                          {
                            "marker.color": [
                              [
                                "#B0BEC5",
                                "#B0BEC5",
                                "#B0BEC5",
                                "#B0BEC5",
                                "#B0BEC5",
                                "#B0BEC5",
                                "#B0BEC5",
                                "#B0BEC5",
                                "#B0BEC5",
                                "#B0BEC5",
                                "#B0BEC5",
                                "#B0BEC5",
                                "#B0BEC5",
                                "#B0BEC5",
                                "#B0BEC5",
                                "#B0BEC5",
                                "#B0BEC5",
                                "#B0BEC5",
                                "#B0BEC5",
                                "#B0BEC5",
                                "#B0BEC5",
                                "#B0BEC5",
                                "#B0BEC5",
                                "#B0BEC5",
                                "#B0BEC5",
                                "#B0BEC5",
                                "#B0BEC5",
                                "#B0BEC5",
                                "#B0BEC5",
                                "#B0BEC5",
                                "#B0BEC5",
                                "#B0BEC5",
                                "#B0BEC5",
                                "#B0BEC5",
                                "#B0BEC5",
                                "#B0BEC5",
                                "#B0BEC5",
                                "#B0BEC5",
                                "#B0BEC5",
                                "#B0BEC5",
                                "#B0BEC5",
                                "#B0BEC5",
                                "#B0BEC5",
                                "#B0BEC5",
                                "#B0BEC5",
                                "red",
                                "#B0BEC5",
                                "#B0BEC5",
                                "#B0BEC5",
                                "#B0BEC5",
                                "#B0BEC5",
                                "#B0BEC5",
                                "#B0BEC5",
                                "#B0BEC5",
                                "#B0BEC5",
                                "#B0BEC5",
                                "#B0BEC5",
                                "#B0BEC5",
                                "#B0BEC5",
                                "#B0BEC5",
                                "#B0BEC5"
                              ]
                            ]
                          }
                        ],
                        "label": "Topic 45",
                        "method": "update"
                      },
                      {
                        "args": [
                          {
                            "marker.color": [
                              [
                                "#B0BEC5",
                                "#B0BEC5",
                                "#B0BEC5",
                                "#B0BEC5",
                                "#B0BEC5",
                                "#B0BEC5",
                                "#B0BEC5",
                                "#B0BEC5",
                                "#B0BEC5",
                                "#B0BEC5",
                                "#B0BEC5",
                                "#B0BEC5",
                                "#B0BEC5",
                                "#B0BEC5",
                                "#B0BEC5",
                                "#B0BEC5",
                                "#B0BEC5",
                                "#B0BEC5",
                                "#B0BEC5",
                                "#B0BEC5",
                                "#B0BEC5",
                                "#B0BEC5",
                                "#B0BEC5",
                                "#B0BEC5",
                                "#B0BEC5",
                                "#B0BEC5",
                                "#B0BEC5",
                                "#B0BEC5",
                                "#B0BEC5",
                                "#B0BEC5",
                                "#B0BEC5",
                                "#B0BEC5",
                                "#B0BEC5",
                                "#B0BEC5",
                                "#B0BEC5",
                                "#B0BEC5",
                                "#B0BEC5",
                                "#B0BEC5",
                                "#B0BEC5",
                                "#B0BEC5",
                                "#B0BEC5",
                                "#B0BEC5",
                                "#B0BEC5",
                                "#B0BEC5",
                                "#B0BEC5",
                                "#B0BEC5",
                                "red",
                                "#B0BEC5",
                                "#B0BEC5",
                                "#B0BEC5",
                                "#B0BEC5",
                                "#B0BEC5",
                                "#B0BEC5",
                                "#B0BEC5",
                                "#B0BEC5",
                                "#B0BEC5",
                                "#B0BEC5",
                                "#B0BEC5",
                                "#B0BEC5",
                                "#B0BEC5",
                                "#B0BEC5"
                              ]
                            ]
                          }
                        ],
                        "label": "Topic 46",
                        "method": "update"
                      },
                      {
                        "args": [
                          {
                            "marker.color": [
                              [
                                "#B0BEC5",
                                "#B0BEC5",
                                "#B0BEC5",
                                "#B0BEC5",
                                "#B0BEC5",
                                "#B0BEC5",
                                "#B0BEC5",
                                "#B0BEC5",
                                "#B0BEC5",
                                "#B0BEC5",
                                "#B0BEC5",
                                "#B0BEC5",
                                "#B0BEC5",
                                "#B0BEC5",
                                "#B0BEC5",
                                "#B0BEC5",
                                "#B0BEC5",
                                "#B0BEC5",
                                "#B0BEC5",
                                "#B0BEC5",
                                "#B0BEC5",
                                "#B0BEC5",
                                "#B0BEC5",
                                "#B0BEC5",
                                "#B0BEC5",
                                "#B0BEC5",
                                "#B0BEC5",
                                "#B0BEC5",
                                "#B0BEC5",
                                "#B0BEC5",
                                "#B0BEC5",
                                "#B0BEC5",
                                "#B0BEC5",
                                "#B0BEC5",
                                "#B0BEC5",
                                "#B0BEC5",
                                "#B0BEC5",
                                "#B0BEC5",
                                "#B0BEC5",
                                "#B0BEC5",
                                "#B0BEC5",
                                "#B0BEC5",
                                "#B0BEC5",
                                "#B0BEC5",
                                "#B0BEC5",
                                "#B0BEC5",
                                "#B0BEC5",
                                "red",
                                "#B0BEC5",
                                "#B0BEC5",
                                "#B0BEC5",
                                "#B0BEC5",
                                "#B0BEC5",
                                "#B0BEC5",
                                "#B0BEC5",
                                "#B0BEC5",
                                "#B0BEC5",
                                "#B0BEC5",
                                "#B0BEC5",
                                "#B0BEC5",
                                "#B0BEC5"
                              ]
                            ]
                          }
                        ],
                        "label": "Topic 47",
                        "method": "update"
                      },
                      {
                        "args": [
                          {
                            "marker.color": [
                              [
                                "#B0BEC5",
                                "#B0BEC5",
                                "#B0BEC5",
                                "#B0BEC5",
                                "#B0BEC5",
                                "#B0BEC5",
                                "#B0BEC5",
                                "#B0BEC5",
                                "#B0BEC5",
                                "#B0BEC5",
                                "#B0BEC5",
                                "#B0BEC5",
                                "#B0BEC5",
                                "#B0BEC5",
                                "#B0BEC5",
                                "#B0BEC5",
                                "#B0BEC5",
                                "#B0BEC5",
                                "#B0BEC5",
                                "#B0BEC5",
                                "#B0BEC5",
                                "#B0BEC5",
                                "#B0BEC5",
                                "#B0BEC5",
                                "#B0BEC5",
                                "#B0BEC5",
                                "#B0BEC5",
                                "#B0BEC5",
                                "#B0BEC5",
                                "#B0BEC5",
                                "#B0BEC5",
                                "#B0BEC5",
                                "#B0BEC5",
                                "#B0BEC5",
                                "#B0BEC5",
                                "#B0BEC5",
                                "#B0BEC5",
                                "#B0BEC5",
                                "#B0BEC5",
                                "#B0BEC5",
                                "#B0BEC5",
                                "#B0BEC5",
                                "#B0BEC5",
                                "#B0BEC5",
                                "#B0BEC5",
                                "#B0BEC5",
                                "#B0BEC5",
                                "#B0BEC5",
                                "red",
                                "#B0BEC5",
                                "#B0BEC5",
                                "#B0BEC5",
                                "#B0BEC5",
                                "#B0BEC5",
                                "#B0BEC5",
                                "#B0BEC5",
                                "#B0BEC5",
                                "#B0BEC5",
                                "#B0BEC5",
                                "#B0BEC5",
                                "#B0BEC5"
                              ]
                            ]
                          }
                        ],
                        "label": "Topic 48",
                        "method": "update"
                      },
                      {
                        "args": [
                          {
                            "marker.color": [
                              [
                                "#B0BEC5",
                                "#B0BEC5",
                                "#B0BEC5",
                                "#B0BEC5",
                                "#B0BEC5",
                                "#B0BEC5",
                                "#B0BEC5",
                                "#B0BEC5",
                                "#B0BEC5",
                                "#B0BEC5",
                                "#B0BEC5",
                                "#B0BEC5",
                                "#B0BEC5",
                                "#B0BEC5",
                                "#B0BEC5",
                                "#B0BEC5",
                                "#B0BEC5",
                                "#B0BEC5",
                                "#B0BEC5",
                                "#B0BEC5",
                                "#B0BEC5",
                                "#B0BEC5",
                                "#B0BEC5",
                                "#B0BEC5",
                                "#B0BEC5",
                                "#B0BEC5",
                                "#B0BEC5",
                                "#B0BEC5",
                                "#B0BEC5",
                                "#B0BEC5",
                                "#B0BEC5",
                                "#B0BEC5",
                                "#B0BEC5",
                                "#B0BEC5",
                                "#B0BEC5",
                                "#B0BEC5",
                                "#B0BEC5",
                                "#B0BEC5",
                                "#B0BEC5",
                                "#B0BEC5",
                                "#B0BEC5",
                                "#B0BEC5",
                                "#B0BEC5",
                                "#B0BEC5",
                                "#B0BEC5",
                                "#B0BEC5",
                                "#B0BEC5",
                                "#B0BEC5",
                                "#B0BEC5",
                                "red",
                                "#B0BEC5",
                                "#B0BEC5",
                                "#B0BEC5",
                                "#B0BEC5",
                                "#B0BEC5",
                                "#B0BEC5",
                                "#B0BEC5",
                                "#B0BEC5",
                                "#B0BEC5",
                                "#B0BEC5",
                                "#B0BEC5"
                              ]
                            ]
                          }
                        ],
                        "label": "Topic 49",
                        "method": "update"
                      },
                      {
                        "args": [
                          {
                            "marker.color": [
                              [
                                "#B0BEC5",
                                "#B0BEC5",
                                "#B0BEC5",
                                "#B0BEC5",
                                "#B0BEC5",
                                "#B0BEC5",
                                "#B0BEC5",
                                "#B0BEC5",
                                "#B0BEC5",
                                "#B0BEC5",
                                "#B0BEC5",
                                "#B0BEC5",
                                "#B0BEC5",
                                "#B0BEC5",
                                "#B0BEC5",
                                "#B0BEC5",
                                "#B0BEC5",
                                "#B0BEC5",
                                "#B0BEC5",
                                "#B0BEC5",
                                "#B0BEC5",
                                "#B0BEC5",
                                "#B0BEC5",
                                "#B0BEC5",
                                "#B0BEC5",
                                "#B0BEC5",
                                "#B0BEC5",
                                "#B0BEC5",
                                "#B0BEC5",
                                "#B0BEC5",
                                "#B0BEC5",
                                "#B0BEC5",
                                "#B0BEC5",
                                "#B0BEC5",
                                "#B0BEC5",
                                "#B0BEC5",
                                "#B0BEC5",
                                "#B0BEC5",
                                "#B0BEC5",
                                "#B0BEC5",
                                "#B0BEC5",
                                "#B0BEC5",
                                "#B0BEC5",
                                "#B0BEC5",
                                "#B0BEC5",
                                "#B0BEC5",
                                "#B0BEC5",
                                "#B0BEC5",
                                "#B0BEC5",
                                "#B0BEC5",
                                "red",
                                "#B0BEC5",
                                "#B0BEC5",
                                "#B0BEC5",
                                "#B0BEC5",
                                "#B0BEC5",
                                "#B0BEC5",
                                "#B0BEC5",
                                "#B0BEC5",
                                "#B0BEC5",
                                "#B0BEC5"
                              ]
                            ]
                          }
                        ],
                        "label": "Topic 50",
                        "method": "update"
                      },
                      {
                        "args": [
                          {
                            "marker.color": [
                              [
                                "#B0BEC5",
                                "#B0BEC5",
                                "#B0BEC5",
                                "#B0BEC5",
                                "#B0BEC5",
                                "#B0BEC5",
                                "#B0BEC5",
                                "#B0BEC5",
                                "#B0BEC5",
                                "#B0BEC5",
                                "#B0BEC5",
                                "#B0BEC5",
                                "#B0BEC5",
                                "#B0BEC5",
                                "#B0BEC5",
                                "#B0BEC5",
                                "#B0BEC5",
                                "#B0BEC5",
                                "#B0BEC5",
                                "#B0BEC5",
                                "#B0BEC5",
                                "#B0BEC5",
                                "#B0BEC5",
                                "#B0BEC5",
                                "#B0BEC5",
                                "#B0BEC5",
                                "#B0BEC5",
                                "#B0BEC5",
                                "#B0BEC5",
                                "#B0BEC5",
                                "#B0BEC5",
                                "#B0BEC5",
                                "#B0BEC5",
                                "#B0BEC5",
                                "#B0BEC5",
                                "#B0BEC5",
                                "#B0BEC5",
                                "#B0BEC5",
                                "#B0BEC5",
                                "#B0BEC5",
                                "#B0BEC5",
                                "#B0BEC5",
                                "#B0BEC5",
                                "#B0BEC5",
                                "#B0BEC5",
                                "#B0BEC5",
                                "#B0BEC5",
                                "#B0BEC5",
                                "#B0BEC5",
                                "#B0BEC5",
                                "#B0BEC5",
                                "red",
                                "#B0BEC5",
                                "#B0BEC5",
                                "#B0BEC5",
                                "#B0BEC5",
                                "#B0BEC5",
                                "#B0BEC5",
                                "#B0BEC5",
                                "#B0BEC5",
                                "#B0BEC5"
                              ]
                            ]
                          }
                        ],
                        "label": "Topic 51",
                        "method": "update"
                      },
                      {
                        "args": [
                          {
                            "marker.color": [
                              [
                                "#B0BEC5",
                                "#B0BEC5",
                                "#B0BEC5",
                                "#B0BEC5",
                                "#B0BEC5",
                                "#B0BEC5",
                                "#B0BEC5",
                                "#B0BEC5",
                                "#B0BEC5",
                                "#B0BEC5",
                                "#B0BEC5",
                                "#B0BEC5",
                                "#B0BEC5",
                                "#B0BEC5",
                                "#B0BEC5",
                                "#B0BEC5",
                                "#B0BEC5",
                                "#B0BEC5",
                                "#B0BEC5",
                                "#B0BEC5",
                                "#B0BEC5",
                                "#B0BEC5",
                                "#B0BEC5",
                                "#B0BEC5",
                                "#B0BEC5",
                                "#B0BEC5",
                                "#B0BEC5",
                                "#B0BEC5",
                                "#B0BEC5",
                                "#B0BEC5",
                                "#B0BEC5",
                                "#B0BEC5",
                                "#B0BEC5",
                                "#B0BEC5",
                                "#B0BEC5",
                                "#B0BEC5",
                                "#B0BEC5",
                                "#B0BEC5",
                                "#B0BEC5",
                                "#B0BEC5",
                                "#B0BEC5",
                                "#B0BEC5",
                                "#B0BEC5",
                                "#B0BEC5",
                                "#B0BEC5",
                                "#B0BEC5",
                                "#B0BEC5",
                                "#B0BEC5",
                                "#B0BEC5",
                                "#B0BEC5",
                                "#B0BEC5",
                                "#B0BEC5",
                                "red",
                                "#B0BEC5",
                                "#B0BEC5",
                                "#B0BEC5",
                                "#B0BEC5",
                                "#B0BEC5",
                                "#B0BEC5",
                                "#B0BEC5",
                                "#B0BEC5"
                              ]
                            ]
                          }
                        ],
                        "label": "Topic 52",
                        "method": "update"
                      },
                      {
                        "args": [
                          {
                            "marker.color": [
                              [
                                "#B0BEC5",
                                "#B0BEC5",
                                "#B0BEC5",
                                "#B0BEC5",
                                "#B0BEC5",
                                "#B0BEC5",
                                "#B0BEC5",
                                "#B0BEC5",
                                "#B0BEC5",
                                "#B0BEC5",
                                "#B0BEC5",
                                "#B0BEC5",
                                "#B0BEC5",
                                "#B0BEC5",
                                "#B0BEC5",
                                "#B0BEC5",
                                "#B0BEC5",
                                "#B0BEC5",
                                "#B0BEC5",
                                "#B0BEC5",
                                "#B0BEC5",
                                "#B0BEC5",
                                "#B0BEC5",
                                "#B0BEC5",
                                "#B0BEC5",
                                "#B0BEC5",
                                "#B0BEC5",
                                "#B0BEC5",
                                "#B0BEC5",
                                "#B0BEC5",
                                "#B0BEC5",
                                "#B0BEC5",
                                "#B0BEC5",
                                "#B0BEC5",
                                "#B0BEC5",
                                "#B0BEC5",
                                "#B0BEC5",
                                "#B0BEC5",
                                "#B0BEC5",
                                "#B0BEC5",
                                "#B0BEC5",
                                "#B0BEC5",
                                "#B0BEC5",
                                "#B0BEC5",
                                "#B0BEC5",
                                "#B0BEC5",
                                "#B0BEC5",
                                "#B0BEC5",
                                "#B0BEC5",
                                "#B0BEC5",
                                "#B0BEC5",
                                "#B0BEC5",
                                "#B0BEC5",
                                "red",
                                "#B0BEC5",
                                "#B0BEC5",
                                "#B0BEC5",
                                "#B0BEC5",
                                "#B0BEC5",
                                "#B0BEC5",
                                "#B0BEC5"
                              ]
                            ]
                          }
                        ],
                        "label": "Topic 53",
                        "method": "update"
                      },
                      {
                        "args": [
                          {
                            "marker.color": [
                              [
                                "#B0BEC5",
                                "#B0BEC5",
                                "#B0BEC5",
                                "#B0BEC5",
                                "#B0BEC5",
                                "#B0BEC5",
                                "#B0BEC5",
                                "#B0BEC5",
                                "#B0BEC5",
                                "#B0BEC5",
                                "#B0BEC5",
                                "#B0BEC5",
                                "#B0BEC5",
                                "#B0BEC5",
                                "#B0BEC5",
                                "#B0BEC5",
                                "#B0BEC5",
                                "#B0BEC5",
                                "#B0BEC5",
                                "#B0BEC5",
                                "#B0BEC5",
                                "#B0BEC5",
                                "#B0BEC5",
                                "#B0BEC5",
                                "#B0BEC5",
                                "#B0BEC5",
                                "#B0BEC5",
                                "#B0BEC5",
                                "#B0BEC5",
                                "#B0BEC5",
                                "#B0BEC5",
                                "#B0BEC5",
                                "#B0BEC5",
                                "#B0BEC5",
                                "#B0BEC5",
                                "#B0BEC5",
                                "#B0BEC5",
                                "#B0BEC5",
                                "#B0BEC5",
                                "#B0BEC5",
                                "#B0BEC5",
                                "#B0BEC5",
                                "#B0BEC5",
                                "#B0BEC5",
                                "#B0BEC5",
                                "#B0BEC5",
                                "#B0BEC5",
                                "#B0BEC5",
                                "#B0BEC5",
                                "#B0BEC5",
                                "#B0BEC5",
                                "#B0BEC5",
                                "#B0BEC5",
                                "#B0BEC5",
                                "red",
                                "#B0BEC5",
                                "#B0BEC5",
                                "#B0BEC5",
                                "#B0BEC5",
                                "#B0BEC5",
                                "#B0BEC5"
                              ]
                            ]
                          }
                        ],
                        "label": "Topic 54",
                        "method": "update"
                      },
                      {
                        "args": [
                          {
                            "marker.color": [
                              [
                                "#B0BEC5",
                                "#B0BEC5",
                                "#B0BEC5",
                                "#B0BEC5",
                                "#B0BEC5",
                                "#B0BEC5",
                                "#B0BEC5",
                                "#B0BEC5",
                                "#B0BEC5",
                                "#B0BEC5",
                                "#B0BEC5",
                                "#B0BEC5",
                                "#B0BEC5",
                                "#B0BEC5",
                                "#B0BEC5",
                                "#B0BEC5",
                                "#B0BEC5",
                                "#B0BEC5",
                                "#B0BEC5",
                                "#B0BEC5",
                                "#B0BEC5",
                                "#B0BEC5",
                                "#B0BEC5",
                                "#B0BEC5",
                                "#B0BEC5",
                                "#B0BEC5",
                                "#B0BEC5",
                                "#B0BEC5",
                                "#B0BEC5",
                                "#B0BEC5",
                                "#B0BEC5",
                                "#B0BEC5",
                                "#B0BEC5",
                                "#B0BEC5",
                                "#B0BEC5",
                                "#B0BEC5",
                                "#B0BEC5",
                                "#B0BEC5",
                                "#B0BEC5",
                                "#B0BEC5",
                                "#B0BEC5",
                                "#B0BEC5",
                                "#B0BEC5",
                                "#B0BEC5",
                                "#B0BEC5",
                                "#B0BEC5",
                                "#B0BEC5",
                                "#B0BEC5",
                                "#B0BEC5",
                                "#B0BEC5",
                                "#B0BEC5",
                                "#B0BEC5",
                                "#B0BEC5",
                                "#B0BEC5",
                                "#B0BEC5",
                                "red",
                                "#B0BEC5",
                                "#B0BEC5",
                                "#B0BEC5",
                                "#B0BEC5",
                                "#B0BEC5"
                              ]
                            ]
                          }
                        ],
                        "label": "Topic 55",
                        "method": "update"
                      },
                      {
                        "args": [
                          {
                            "marker.color": [
                              [
                                "#B0BEC5",
                                "#B0BEC5",
                                "#B0BEC5",
                                "#B0BEC5",
                                "#B0BEC5",
                                "#B0BEC5",
                                "#B0BEC5",
                                "#B0BEC5",
                                "#B0BEC5",
                                "#B0BEC5",
                                "#B0BEC5",
                                "#B0BEC5",
                                "#B0BEC5",
                                "#B0BEC5",
                                "#B0BEC5",
                                "#B0BEC5",
                                "#B0BEC5",
                                "#B0BEC5",
                                "#B0BEC5",
                                "#B0BEC5",
                                "#B0BEC5",
                                "#B0BEC5",
                                "#B0BEC5",
                                "#B0BEC5",
                                "#B0BEC5",
                                "#B0BEC5",
                                "#B0BEC5",
                                "#B0BEC5",
                                "#B0BEC5",
                                "#B0BEC5",
                                "#B0BEC5",
                                "#B0BEC5",
                                "#B0BEC5",
                                "#B0BEC5",
                                "#B0BEC5",
                                "#B0BEC5",
                                "#B0BEC5",
                                "#B0BEC5",
                                "#B0BEC5",
                                "#B0BEC5",
                                "#B0BEC5",
                                "#B0BEC5",
                                "#B0BEC5",
                                "#B0BEC5",
                                "#B0BEC5",
                                "#B0BEC5",
                                "#B0BEC5",
                                "#B0BEC5",
                                "#B0BEC5",
                                "#B0BEC5",
                                "#B0BEC5",
                                "#B0BEC5",
                                "#B0BEC5",
                                "#B0BEC5",
                                "#B0BEC5",
                                "#B0BEC5",
                                "red",
                                "#B0BEC5",
                                "#B0BEC5",
                                "#B0BEC5",
                                "#B0BEC5"
                              ]
                            ]
                          }
                        ],
                        "label": "Topic 56",
                        "method": "update"
                      },
                      {
                        "args": [
                          {
                            "marker.color": [
                              [
                                "#B0BEC5",
                                "#B0BEC5",
                                "#B0BEC5",
                                "#B0BEC5",
                                "#B0BEC5",
                                "#B0BEC5",
                                "#B0BEC5",
                                "#B0BEC5",
                                "#B0BEC5",
                                "#B0BEC5",
                                "#B0BEC5",
                                "#B0BEC5",
                                "#B0BEC5",
                                "#B0BEC5",
                                "#B0BEC5",
                                "#B0BEC5",
                                "#B0BEC5",
                                "#B0BEC5",
                                "#B0BEC5",
                                "#B0BEC5",
                                "#B0BEC5",
                                "#B0BEC5",
                                "#B0BEC5",
                                "#B0BEC5",
                                "#B0BEC5",
                                "#B0BEC5",
                                "#B0BEC5",
                                "#B0BEC5",
                                "#B0BEC5",
                                "#B0BEC5",
                                "#B0BEC5",
                                "#B0BEC5",
                                "#B0BEC5",
                                "#B0BEC5",
                                "#B0BEC5",
                                "#B0BEC5",
                                "#B0BEC5",
                                "#B0BEC5",
                                "#B0BEC5",
                                "#B0BEC5",
                                "#B0BEC5",
                                "#B0BEC5",
                                "#B0BEC5",
                                "#B0BEC5",
                                "#B0BEC5",
                                "#B0BEC5",
                                "#B0BEC5",
                                "#B0BEC5",
                                "#B0BEC5",
                                "#B0BEC5",
                                "#B0BEC5",
                                "#B0BEC5",
                                "#B0BEC5",
                                "#B0BEC5",
                                "#B0BEC5",
                                "#B0BEC5",
                                "#B0BEC5",
                                "red",
                                "#B0BEC5",
                                "#B0BEC5",
                                "#B0BEC5"
                              ]
                            ]
                          }
                        ],
                        "label": "Topic 57",
                        "method": "update"
                      },
                      {
                        "args": [
                          {
                            "marker.color": [
                              [
                                "#B0BEC5",
                                "#B0BEC5",
                                "#B0BEC5",
                                "#B0BEC5",
                                "#B0BEC5",
                                "#B0BEC5",
                                "#B0BEC5",
                                "#B0BEC5",
                                "#B0BEC5",
                                "#B0BEC5",
                                "#B0BEC5",
                                "#B0BEC5",
                                "#B0BEC5",
                                "#B0BEC5",
                                "#B0BEC5",
                                "#B0BEC5",
                                "#B0BEC5",
                                "#B0BEC5",
                                "#B0BEC5",
                                "#B0BEC5",
                                "#B0BEC5",
                                "#B0BEC5",
                                "#B0BEC5",
                                "#B0BEC5",
                                "#B0BEC5",
                                "#B0BEC5",
                                "#B0BEC5",
                                "#B0BEC5",
                                "#B0BEC5",
                                "#B0BEC5",
                                "#B0BEC5",
                                "#B0BEC5",
                                "#B0BEC5",
                                "#B0BEC5",
                                "#B0BEC5",
                                "#B0BEC5",
                                "#B0BEC5",
                                "#B0BEC5",
                                "#B0BEC5",
                                "#B0BEC5",
                                "#B0BEC5",
                                "#B0BEC5",
                                "#B0BEC5",
                                "#B0BEC5",
                                "#B0BEC5",
                                "#B0BEC5",
                                "#B0BEC5",
                                "#B0BEC5",
                                "#B0BEC5",
                                "#B0BEC5",
                                "#B0BEC5",
                                "#B0BEC5",
                                "#B0BEC5",
                                "#B0BEC5",
                                "#B0BEC5",
                                "#B0BEC5",
                                "#B0BEC5",
                                "#B0BEC5",
                                "red",
                                "#B0BEC5",
                                "#B0BEC5"
                              ]
                            ]
                          }
                        ],
                        "label": "Topic 58",
                        "method": "update"
                      },
                      {
                        "args": [
                          {
                            "marker.color": [
                              [
                                "#B0BEC5",
                                "#B0BEC5",
                                "#B0BEC5",
                                "#B0BEC5",
                                "#B0BEC5",
                                "#B0BEC5",
                                "#B0BEC5",
                                "#B0BEC5",
                                "#B0BEC5",
                                "#B0BEC5",
                                "#B0BEC5",
                                "#B0BEC5",
                                "#B0BEC5",
                                "#B0BEC5",
                                "#B0BEC5",
                                "#B0BEC5",
                                "#B0BEC5",
                                "#B0BEC5",
                                "#B0BEC5",
                                "#B0BEC5",
                                "#B0BEC5",
                                "#B0BEC5",
                                "#B0BEC5",
                                "#B0BEC5",
                                "#B0BEC5",
                                "#B0BEC5",
                                "#B0BEC5",
                                "#B0BEC5",
                                "#B0BEC5",
                                "#B0BEC5",
                                "#B0BEC5",
                                "#B0BEC5",
                                "#B0BEC5",
                                "#B0BEC5",
                                "#B0BEC5",
                                "#B0BEC5",
                                "#B0BEC5",
                                "#B0BEC5",
                                "#B0BEC5",
                                "#B0BEC5",
                                "#B0BEC5",
                                "#B0BEC5",
                                "#B0BEC5",
                                "#B0BEC5",
                                "#B0BEC5",
                                "#B0BEC5",
                                "#B0BEC5",
                                "#B0BEC5",
                                "#B0BEC5",
                                "#B0BEC5",
                                "#B0BEC5",
                                "#B0BEC5",
                                "#B0BEC5",
                                "#B0BEC5",
                                "#B0BEC5",
                                "#B0BEC5",
                                "#B0BEC5",
                                "#B0BEC5",
                                "#B0BEC5",
                                "red",
                                "#B0BEC5"
                              ]
                            ]
                          }
                        ],
                        "label": "Topic 59",
                        "method": "update"
                      },
                      {
                        "args": [
                          {
                            "marker.color": [
                              [
                                "#B0BEC5",
                                "#B0BEC5",
                                "#B0BEC5",
                                "#B0BEC5",
                                "#B0BEC5",
                                "#B0BEC5",
                                "#B0BEC5",
                                "#B0BEC5",
                                "#B0BEC5",
                                "#B0BEC5",
                                "#B0BEC5",
                                "#B0BEC5",
                                "#B0BEC5",
                                "#B0BEC5",
                                "#B0BEC5",
                                "#B0BEC5",
                                "#B0BEC5",
                                "#B0BEC5",
                                "#B0BEC5",
                                "#B0BEC5",
                                "#B0BEC5",
                                "#B0BEC5",
                                "#B0BEC5",
                                "#B0BEC5",
                                "#B0BEC5",
                                "#B0BEC5",
                                "#B0BEC5",
                                "#B0BEC5",
                                "#B0BEC5",
                                "#B0BEC5",
                                "#B0BEC5",
                                "#B0BEC5",
                                "#B0BEC5",
                                "#B0BEC5",
                                "#B0BEC5",
                                "#B0BEC5",
                                "#B0BEC5",
                                "#B0BEC5",
                                "#B0BEC5",
                                "#B0BEC5",
                                "#B0BEC5",
                                "#B0BEC5",
                                "#B0BEC5",
                                "#B0BEC5",
                                "#B0BEC5",
                                "#B0BEC5",
                                "#B0BEC5",
                                "#B0BEC5",
                                "#B0BEC5",
                                "#B0BEC5",
                                "#B0BEC5",
                                "#B0BEC5",
                                "#B0BEC5",
                                "#B0BEC5",
                                "#B0BEC5",
                                "#B0BEC5",
                                "#B0BEC5",
                                "#B0BEC5",
                                "#B0BEC5",
                                "#B0BEC5",
                                "red"
                              ]
                            ]
                          }
                        ],
                        "label": "Topic 60",
                        "method": "update"
                      }
                    ]
                  }
                ],
                "template": {
                  "data": {
                    "bar": [
                      {
                        "error_x": {
                          "color": "rgb(36,36,36)"
                        },
                        "error_y": {
                          "color": "rgb(36,36,36)"
                        },
                        "marker": {
                          "line": {
                            "color": "white",
                            "width": 0.5
                          },
                          "pattern": {
                            "fillmode": "overlay",
                            "size": 10,
                            "solidity": 0.2
                          }
                        },
                        "type": "bar"
                      }
                    ],
                    "barpolar": [
                      {
                        "marker": {
                          "line": {
                            "color": "white",
                            "width": 0.5
                          },
                          "pattern": {
                            "fillmode": "overlay",
                            "size": 10,
                            "solidity": 0.2
                          }
                        },
                        "type": "barpolar"
                      }
                    ],
                    "carpet": [
                      {
                        "aaxis": {
                          "endlinecolor": "rgb(36,36,36)",
                          "gridcolor": "white",
                          "linecolor": "white",
                          "minorgridcolor": "white",
                          "startlinecolor": "rgb(36,36,36)"
                        },
                        "baxis": {
                          "endlinecolor": "rgb(36,36,36)",
                          "gridcolor": "white",
                          "linecolor": "white",
                          "minorgridcolor": "white",
                          "startlinecolor": "rgb(36,36,36)"
                        },
                        "type": "carpet"
                      }
                    ],
                    "choropleth": [
                      {
                        "colorbar": {
                          "outlinewidth": 1,
                          "tickcolor": "rgb(36,36,36)",
                          "ticks": "outside"
                        },
                        "type": "choropleth"
                      }
                    ],
                    "contour": [
                      {
                        "colorbar": {
                          "outlinewidth": 1,
                          "tickcolor": "rgb(36,36,36)",
                          "ticks": "outside"
                        },
                        "colorscale": [
                          [
                            0,
                            "#440154"
                          ],
                          [
                            0.1111111111111111,
                            "#482878"
                          ],
                          [
                            0.2222222222222222,
                            "#3e4989"
                          ],
                          [
                            0.3333333333333333,
                            "#31688e"
                          ],
                          [
                            0.4444444444444444,
                            "#26828e"
                          ],
                          [
                            0.5555555555555556,
                            "#1f9e89"
                          ],
                          [
                            0.6666666666666666,
                            "#35b779"
                          ],
                          [
                            0.7777777777777778,
                            "#6ece58"
                          ],
                          [
                            0.8888888888888888,
                            "#b5de2b"
                          ],
                          [
                            1,
                            "#fde725"
                          ]
                        ],
                        "type": "contour"
                      }
                    ],
                    "contourcarpet": [
                      {
                        "colorbar": {
                          "outlinewidth": 1,
                          "tickcolor": "rgb(36,36,36)",
                          "ticks": "outside"
                        },
                        "type": "contourcarpet"
                      }
                    ],
                    "heatmap": [
                      {
                        "colorbar": {
                          "outlinewidth": 1,
                          "tickcolor": "rgb(36,36,36)",
                          "ticks": "outside"
                        },
                        "colorscale": [
                          [
                            0,
                            "#440154"
                          ],
                          [
                            0.1111111111111111,
                            "#482878"
                          ],
                          [
                            0.2222222222222222,
                            "#3e4989"
                          ],
                          [
                            0.3333333333333333,
                            "#31688e"
                          ],
                          [
                            0.4444444444444444,
                            "#26828e"
                          ],
                          [
                            0.5555555555555556,
                            "#1f9e89"
                          ],
                          [
                            0.6666666666666666,
                            "#35b779"
                          ],
                          [
                            0.7777777777777778,
                            "#6ece58"
                          ],
                          [
                            0.8888888888888888,
                            "#b5de2b"
                          ],
                          [
                            1,
                            "#fde725"
                          ]
                        ],
                        "type": "heatmap"
                      }
                    ],
                    "heatmapgl": [
                      {
                        "colorbar": {
                          "outlinewidth": 1,
                          "tickcolor": "rgb(36,36,36)",
                          "ticks": "outside"
                        },
                        "colorscale": [
                          [
                            0,
                            "#440154"
                          ],
                          [
                            0.1111111111111111,
                            "#482878"
                          ],
                          [
                            0.2222222222222222,
                            "#3e4989"
                          ],
                          [
                            0.3333333333333333,
                            "#31688e"
                          ],
                          [
                            0.4444444444444444,
                            "#26828e"
                          ],
                          [
                            0.5555555555555556,
                            "#1f9e89"
                          ],
                          [
                            0.6666666666666666,
                            "#35b779"
                          ],
                          [
                            0.7777777777777778,
                            "#6ece58"
                          ],
                          [
                            0.8888888888888888,
                            "#b5de2b"
                          ],
                          [
                            1,
                            "#fde725"
                          ]
                        ],
                        "type": "heatmapgl"
                      }
                    ],
                    "histogram": [
                      {
                        "marker": {
                          "line": {
                            "color": "white",
                            "width": 0.6
                          }
                        },
                        "type": "histogram"
                      }
                    ],
                    "histogram2d": [
                      {
                        "colorbar": {
                          "outlinewidth": 1,
                          "tickcolor": "rgb(36,36,36)",
                          "ticks": "outside"
                        },
                        "colorscale": [
                          [
                            0,
                            "#440154"
                          ],
                          [
                            0.1111111111111111,
                            "#482878"
                          ],
                          [
                            0.2222222222222222,
                            "#3e4989"
                          ],
                          [
                            0.3333333333333333,
                            "#31688e"
                          ],
                          [
                            0.4444444444444444,
                            "#26828e"
                          ],
                          [
                            0.5555555555555556,
                            "#1f9e89"
                          ],
                          [
                            0.6666666666666666,
                            "#35b779"
                          ],
                          [
                            0.7777777777777778,
                            "#6ece58"
                          ],
                          [
                            0.8888888888888888,
                            "#b5de2b"
                          ],
                          [
                            1,
                            "#fde725"
                          ]
                        ],
                        "type": "histogram2d"
                      }
                    ],
                    "histogram2dcontour": [
                      {
                        "colorbar": {
                          "outlinewidth": 1,
                          "tickcolor": "rgb(36,36,36)",
                          "ticks": "outside"
                        },
                        "colorscale": [
                          [
                            0,
                            "#440154"
                          ],
                          [
                            0.1111111111111111,
                            "#482878"
                          ],
                          [
                            0.2222222222222222,
                            "#3e4989"
                          ],
                          [
                            0.3333333333333333,
                            "#31688e"
                          ],
                          [
                            0.4444444444444444,
                            "#26828e"
                          ],
                          [
                            0.5555555555555556,
                            "#1f9e89"
                          ],
                          [
                            0.6666666666666666,
                            "#35b779"
                          ],
                          [
                            0.7777777777777778,
                            "#6ece58"
                          ],
                          [
                            0.8888888888888888,
                            "#b5de2b"
                          ],
                          [
                            1,
                            "#fde725"
                          ]
                        ],
                        "type": "histogram2dcontour"
                      }
                    ],
                    "mesh3d": [
                      {
                        "colorbar": {
                          "outlinewidth": 1,
                          "tickcolor": "rgb(36,36,36)",
                          "ticks": "outside"
                        },
                        "type": "mesh3d"
                      }
                    ],
                    "parcoords": [
                      {
                        "line": {
                          "colorbar": {
                            "outlinewidth": 1,
                            "tickcolor": "rgb(36,36,36)",
                            "ticks": "outside"
                          }
                        },
                        "type": "parcoords"
                      }
                    ],
                    "pie": [
                      {
                        "automargin": true,
                        "type": "pie"
                      }
                    ],
                    "scatter": [
                      {
                        "fillpattern": {
                          "fillmode": "overlay",
                          "size": 10,
                          "solidity": 0.2
                        },
                        "type": "scatter"
                      }
                    ],
                    "scatter3d": [
                      {
                        "line": {
                          "colorbar": {
                            "outlinewidth": 1,
                            "tickcolor": "rgb(36,36,36)",
                            "ticks": "outside"
                          }
                        },
                        "marker": {
                          "colorbar": {
                            "outlinewidth": 1,
                            "tickcolor": "rgb(36,36,36)",
                            "ticks": "outside"
                          }
                        },
                        "type": "scatter3d"
                      }
                    ],
                    "scattercarpet": [
                      {
                        "marker": {
                          "colorbar": {
                            "outlinewidth": 1,
                            "tickcolor": "rgb(36,36,36)",
                            "ticks": "outside"
                          }
                        },
                        "type": "scattercarpet"
                      }
                    ],
                    "scattergeo": [
                      {
                        "marker": {
                          "colorbar": {
                            "outlinewidth": 1,
                            "tickcolor": "rgb(36,36,36)",
                            "ticks": "outside"
                          }
                        },
                        "type": "scattergeo"
                      }
                    ],
                    "scattergl": [
                      {
                        "marker": {
                          "colorbar": {
                            "outlinewidth": 1,
                            "tickcolor": "rgb(36,36,36)",
                            "ticks": "outside"
                          }
                        },
                        "type": "scattergl"
                      }
                    ],
                    "scattermapbox": [
                      {
                        "marker": {
                          "colorbar": {
                            "outlinewidth": 1,
                            "tickcolor": "rgb(36,36,36)",
                            "ticks": "outside"
                          }
                        },
                        "type": "scattermapbox"
                      }
                    ],
                    "scatterpolar": [
                      {
                        "marker": {
                          "colorbar": {
                            "outlinewidth": 1,
                            "tickcolor": "rgb(36,36,36)",
                            "ticks": "outside"
                          }
                        },
                        "type": "scatterpolar"
                      }
                    ],
                    "scatterpolargl": [
                      {
                        "marker": {
                          "colorbar": {
                            "outlinewidth": 1,
                            "tickcolor": "rgb(36,36,36)",
                            "ticks": "outside"
                          }
                        },
                        "type": "scatterpolargl"
                      }
                    ],
                    "scatterternary": [
                      {
                        "marker": {
                          "colorbar": {
                            "outlinewidth": 1,
                            "tickcolor": "rgb(36,36,36)",
                            "ticks": "outside"
                          }
                        },
                        "type": "scatterternary"
                      }
                    ],
                    "surface": [
                      {
                        "colorbar": {
                          "outlinewidth": 1,
                          "tickcolor": "rgb(36,36,36)",
                          "ticks": "outside"
                        },
                        "colorscale": [
                          [
                            0,
                            "#440154"
                          ],
                          [
                            0.1111111111111111,
                            "#482878"
                          ],
                          [
                            0.2222222222222222,
                            "#3e4989"
                          ],
                          [
                            0.3333333333333333,
                            "#31688e"
                          ],
                          [
                            0.4444444444444444,
                            "#26828e"
                          ],
                          [
                            0.5555555555555556,
                            "#1f9e89"
                          ],
                          [
                            0.6666666666666666,
                            "#35b779"
                          ],
                          [
                            0.7777777777777778,
                            "#6ece58"
                          ],
                          [
                            0.8888888888888888,
                            "#b5de2b"
                          ],
                          [
                            1,
                            "#fde725"
                          ]
                        ],
                        "type": "surface"
                      }
                    ],
                    "table": [
                      {
                        "cells": {
                          "fill": {
                            "color": "rgb(237,237,237)"
                          },
                          "line": {
                            "color": "white"
                          }
                        },
                        "header": {
                          "fill": {
                            "color": "rgb(217,217,217)"
                          },
                          "line": {
                            "color": "white"
                          }
                        },
                        "type": "table"
                      }
                    ]
                  },
                  "layout": {
                    "annotationdefaults": {
                      "arrowhead": 0,
                      "arrowwidth": 1
                    },
                    "autotypenumbers": "strict",
                    "coloraxis": {
                      "colorbar": {
                        "outlinewidth": 1,
                        "tickcolor": "rgb(36,36,36)",
                        "ticks": "outside"
                      }
                    },
                    "colorscale": {
                      "diverging": [
                        [
                          0,
                          "rgb(103,0,31)"
                        ],
                        [
                          0.1,
                          "rgb(178,24,43)"
                        ],
                        [
                          0.2,
                          "rgb(214,96,77)"
                        ],
                        [
                          0.3,
                          "rgb(244,165,130)"
                        ],
                        [
                          0.4,
                          "rgb(253,219,199)"
                        ],
                        [
                          0.5,
                          "rgb(247,247,247)"
                        ],
                        [
                          0.6,
                          "rgb(209,229,240)"
                        ],
                        [
                          0.7,
                          "rgb(146,197,222)"
                        ],
                        [
                          0.8,
                          "rgb(67,147,195)"
                        ],
                        [
                          0.9,
                          "rgb(33,102,172)"
                        ],
                        [
                          1,
                          "rgb(5,48,97)"
                        ]
                      ],
                      "sequential": [
                        [
                          0,
                          "#440154"
                        ],
                        [
                          0.1111111111111111,
                          "#482878"
                        ],
                        [
                          0.2222222222222222,
                          "#3e4989"
                        ],
                        [
                          0.3333333333333333,
                          "#31688e"
                        ],
                        [
                          0.4444444444444444,
                          "#26828e"
                        ],
                        [
                          0.5555555555555556,
                          "#1f9e89"
                        ],
                        [
                          0.6666666666666666,
                          "#35b779"
                        ],
                        [
                          0.7777777777777778,
                          "#6ece58"
                        ],
                        [
                          0.8888888888888888,
                          "#b5de2b"
                        ],
                        [
                          1,
                          "#fde725"
                        ]
                      ],
                      "sequentialminus": [
                        [
                          0,
                          "#440154"
                        ],
                        [
                          0.1111111111111111,
                          "#482878"
                        ],
                        [
                          0.2222222222222222,
                          "#3e4989"
                        ],
                        [
                          0.3333333333333333,
                          "#31688e"
                        ],
                        [
                          0.4444444444444444,
                          "#26828e"
                        ],
                        [
                          0.5555555555555556,
                          "#1f9e89"
                        ],
                        [
                          0.6666666666666666,
                          "#35b779"
                        ],
                        [
                          0.7777777777777778,
                          "#6ece58"
                        ],
                        [
                          0.8888888888888888,
                          "#b5de2b"
                        ],
                        [
                          1,
                          "#fde725"
                        ]
                      ]
                    },
                    "colorway": [
                      "#1F77B4",
                      "#FF7F0E",
                      "#2CA02C",
                      "#D62728",
                      "#9467BD",
                      "#8C564B",
                      "#E377C2",
                      "#7F7F7F",
                      "#BCBD22",
                      "#17BECF"
                    ],
                    "font": {
                      "color": "rgb(36,36,36)"
                    },
                    "geo": {
                      "bgcolor": "white",
                      "lakecolor": "white",
                      "landcolor": "white",
                      "showlakes": true,
                      "showland": true,
                      "subunitcolor": "white"
                    },
                    "hoverlabel": {
                      "align": "left"
                    },
                    "hovermode": "closest",
                    "mapbox": {
                      "style": "light"
                    },
                    "paper_bgcolor": "white",
                    "plot_bgcolor": "white",
                    "polar": {
                      "angularaxis": {
                        "gridcolor": "rgb(232,232,232)",
                        "linecolor": "rgb(36,36,36)",
                        "showgrid": false,
                        "showline": true,
                        "ticks": "outside"
                      },
                      "bgcolor": "white",
                      "radialaxis": {
                        "gridcolor": "rgb(232,232,232)",
                        "linecolor": "rgb(36,36,36)",
                        "showgrid": false,
                        "showline": true,
                        "ticks": "outside"
                      }
                    },
                    "scene": {
                      "xaxis": {
                        "backgroundcolor": "white",
                        "gridcolor": "rgb(232,232,232)",
                        "gridwidth": 2,
                        "linecolor": "rgb(36,36,36)",
                        "showbackground": true,
                        "showgrid": false,
                        "showline": true,
                        "ticks": "outside",
                        "zeroline": false,
                        "zerolinecolor": "rgb(36,36,36)"
                      },
                      "yaxis": {
                        "backgroundcolor": "white",
                        "gridcolor": "rgb(232,232,232)",
                        "gridwidth": 2,
                        "linecolor": "rgb(36,36,36)",
                        "showbackground": true,
                        "showgrid": false,
                        "showline": true,
                        "ticks": "outside",
                        "zeroline": false,
                        "zerolinecolor": "rgb(36,36,36)"
                      },
                      "zaxis": {
                        "backgroundcolor": "white",
                        "gridcolor": "rgb(232,232,232)",
                        "gridwidth": 2,
                        "linecolor": "rgb(36,36,36)",
                        "showbackground": true,
                        "showgrid": false,
                        "showline": true,
                        "ticks": "outside",
                        "zeroline": false,
                        "zerolinecolor": "rgb(36,36,36)"
                      }
                    },
                    "shapedefaults": {
                      "fillcolor": "black",
                      "line": {
                        "width": 0
                      },
                      "opacity": 0.3
                    },
                    "ternary": {
                      "aaxis": {
                        "gridcolor": "rgb(232,232,232)",
                        "linecolor": "rgb(36,36,36)",
                        "showgrid": false,
                        "showline": true,
                        "ticks": "outside"
                      },
                      "baxis": {
                        "gridcolor": "rgb(232,232,232)",
                        "linecolor": "rgb(36,36,36)",
                        "showgrid": false,
                        "showline": true,
                        "ticks": "outside"
                      },
                      "bgcolor": "white",
                      "caxis": {
                        "gridcolor": "rgb(232,232,232)",
                        "linecolor": "rgb(36,36,36)",
                        "showgrid": false,
                        "showline": true,
                        "ticks": "outside"
                      }
                    },
                    "title": {
                      "x": 0.05
                    },
                    "xaxis": {
                      "automargin": true,
                      "gridcolor": "rgb(232,232,232)",
                      "linecolor": "rgb(36,36,36)",
                      "showgrid": false,
                      "showline": true,
                      "ticks": "outside",
                      "title": {
                        "standoff": 15
                      },
                      "zeroline": false,
                      "zerolinecolor": "rgb(36,36,36)"
                    },
                    "yaxis": {
                      "automargin": true,
                      "gridcolor": "rgb(232,232,232)",
                      "linecolor": "rgb(36,36,36)",
                      "showgrid": false,
                      "showline": true,
                      "ticks": "outside",
                      "title": {
                        "standoff": 15
                      },
                      "zeroline": false,
                      "zerolinecolor": "rgb(36,36,36)"
                    }
                  }
                },
                "title": {
                  "font": {
                    "color": "Black",
                    "size": 22
                  },
                  "text": "<b>Intertopic Distance Map</b>",
                  "x": 0.5,
                  "xanchor": "center",
                  "y": 0.95,
                  "yanchor": "top"
                },
                "width": 650,
                "xaxis": {
                  "anchor": "y",
                  "domain": [
                    0,
                    1
                  ],
                  "range": [
                    -7.311314821243286,
                    22.679326248168945
                  ],
                  "title": {
                    "text": ""
                  },
                  "visible": false
                },
                "yaxis": {
                  "anchor": "x",
                  "domain": [
                    0,
                    1
                  ],
                  "range": [
                    -7.33242130279541,
                    23.245690631866456
                  ],
                  "title": {
                    "text": ""
                  },
                  "visible": false
                }
              }
            }
          },
          "metadata": {},
          "output_type": "display_data"
        }
      ],
      "source": [
        "model_trained_representation.visualize_topics()"
      ]
    },
    {
      "cell_type": "code",
      "execution_count": 39,
      "metadata": {},
      "outputs": [
        {
          "data": {
            "text/html": [
              "<div>\n",
              "<style scoped>\n",
              "    .dataframe tbody tr th:only-of-type {\n",
              "        vertical-align: middle;\n",
              "    }\n",
              "\n",
              "    .dataframe tbody tr th {\n",
              "        vertical-align: top;\n",
              "    }\n",
              "\n",
              "    .dataframe thead th {\n",
              "        text-align: right;\n",
              "    }\n",
              "</style>\n",
              "<table border=\"1\" class=\"dataframe\">\n",
              "  <thead>\n",
              "    <tr style=\"text-align: right;\">\n",
              "      <th></th>\n",
              "      <th>Topic</th>\n",
              "      <th>Count</th>\n",
              "      <th>Name</th>\n",
              "      <th>Representation</th>\n",
              "      <th>Representative_Docs</th>\n",
              "    </tr>\n",
              "  </thead>\n",
              "  <tbody>\n",
              "    <tr>\n",
              "      <th>0</th>\n",
              "      <td>-1</td>\n",
              "      <td>81507</td>\n",
              "      <td>-1_wedding_mom_ways_things</td>\n",
              "      <td>[wedding, mom, ways, things, love, best, what,...</td>\n",
              "      <td>[What Your Wedding Style Reveals About Your Fu...</td>\n",
              "    </tr>\n",
              "    <tr>\n",
              "      <th>1</th>\n",
              "      <td>0</td>\n",
              "      <td>15651</td>\n",
              "      <td>0_hillary_sanders_clinton_trump</td>\n",
              "      <td>[hillary, sanders, clinton, trump, bernie, pre...</td>\n",
              "      <td>[Mitt Romney's Top Strategist Says Hillary Cli...</td>\n",
              "    </tr>\n",
              "    <tr>\n",
              "      <th>2</th>\n",
              "      <td>1</td>\n",
              "      <td>14225</td>\n",
              "      <td>1_kardashian_kardashians_kylie_kim</td>\n",
              "      <td>[kardashian, kardashians, kylie, kim, jennifer...</td>\n",
              "      <td>[Katy Perry's Movie Premiere Look: A New Take ...</td>\n",
              "    </tr>\n",
              "    <tr>\n",
              "      <th>3</th>\n",
              "      <td>2</td>\n",
              "      <td>7402</td>\n",
              "      <td>2_happiness_meditation_mindfulness_meditations</td>\n",
              "      <td>[happiness, meditation, mindfulness, meditatio...</td>\n",
              "      <td>[Is Meditation The Path To True Happiness?, Da...</td>\n",
              "    </tr>\n",
              "    <tr>\n",
              "      <th>4</th>\n",
              "      <td>3</td>\n",
              "      <td>5100</td>\n",
              "      <td>3_parenthood_parenting_mothers_parental</td>\n",
              "      <td>[parenthood, parenting, mothers, parental, mot...</td>\n",
              "      <td>[Funniest Parenting Tweets: What Moms And Dads...</td>\n",
              "    </tr>\n",
              "    <tr>\n",
              "      <th>...</th>\n",
              "      <td>...</td>\n",
              "      <td>...</td>\n",
              "      <td>...</td>\n",
              "      <td>...</td>\n",
              "      <td>...</td>\n",
              "    </tr>\n",
              "    <tr>\n",
              "      <th>57</th>\n",
              "      <td>56</td>\n",
              "      <td>40</td>\n",
              "      <td>56_1915_1914_1916_wwis</td>\n",
              "      <td>[1915, 1914, 1916, wwis, archduke, september, ...</td>\n",
              "      <td>[This Week in World War I, April 4-11, 1915, T...</td>\n",
              "    </tr>\n",
              "    <tr>\n",
              "      <th>58</th>\n",
              "      <td>57</td>\n",
              "      <td>33</td>\n",
              "      <td>57_normal_new_abnormal_unusual</td>\n",
              "      <td>[normal, new, abnormal, unusual, usual, abnorm...</td>\n",
              "      <td>[Their New Normal, Is This the New Normal?, Th...</td>\n",
              "    </tr>\n",
              "    <tr>\n",
              "      <th>59</th>\n",
              "      <td>58</td>\n",
              "      <td>25</td>\n",
              "      <td>58_knives_knife_blades_chef</td>\n",
              "      <td>[knives, knife, blades, chef, kitchen, sharpen...</td>\n",
              "      <td>[Kitchen Knives: Everything You Ever Wanted To...</td>\n",
              "    </tr>\n",
              "    <tr>\n",
              "      <th>60</th>\n",
              "      <td>59</td>\n",
              "      <td>23</td>\n",
              "      <td>59_rune_raidho_weekly_othala</td>\n",
              "      <td>[rune, raidho, weekly, othala, tiwaz, eihwaz, ...</td>\n",
              "      <td>[The Weekly Rune: Othala, The Weekly Rune: Rai...</td>\n",
              "    </tr>\n",
              "    <tr>\n",
              "      <th>61</th>\n",
              "      <td>60</td>\n",
              "      <td>22</td>\n",
              "      <td>60_ninja_ninjas_warrior_ninjalike</td>\n",
              "      <td>[ninja, ninjas, warrior, ninjalike, zakis, kni...</td>\n",
              "      <td>[This T. Rex Dominates 'American Ninja Warrior...</td>\n",
              "    </tr>\n",
              "  </tbody>\n",
              "</table>\n",
              "<p>62 rows × 5 columns</p>\n",
              "</div>"
            ],
            "text/plain": [
              "    Topic  Count                                            Name  \\\n",
              "0      -1  81507                      -1_wedding_mom_ways_things   \n",
              "1       0  15651                 0_hillary_sanders_clinton_trump   \n",
              "2       1  14225              1_kardashian_kardashians_kylie_kim   \n",
              "3       2   7402  2_happiness_meditation_mindfulness_meditations   \n",
              "4       3   5100         3_parenthood_parenting_mothers_parental   \n",
              "..    ...    ...                                             ...   \n",
              "57     56     40                          56_1915_1914_1916_wwis   \n",
              "58     57     33                  57_normal_new_abnormal_unusual   \n",
              "59     58     25                     58_knives_knife_blades_chef   \n",
              "60     59     23                    59_rune_raidho_weekly_othala   \n",
              "61     60     22               60_ninja_ninjas_warrior_ninjalike   \n",
              "\n",
              "                                       Representation  \\\n",
              "0   [wedding, mom, ways, things, love, best, what,...   \n",
              "1   [hillary, sanders, clinton, trump, bernie, pre...   \n",
              "2   [kardashian, kardashians, kylie, kim, jennifer...   \n",
              "3   [happiness, meditation, mindfulness, meditatio...   \n",
              "4   [parenthood, parenting, mothers, parental, mot...   \n",
              "..                                                ...   \n",
              "57  [1915, 1914, 1916, wwis, archduke, september, ...   \n",
              "58  [normal, new, abnormal, unusual, usual, abnorm...   \n",
              "59  [knives, knife, blades, chef, kitchen, sharpen...   \n",
              "60  [rune, raidho, weekly, othala, tiwaz, eihwaz, ...   \n",
              "61  [ninja, ninjas, warrior, ninjalike, zakis, kni...   \n",
              "\n",
              "                                  Representative_Docs  \n",
              "0   [What Your Wedding Style Reveals About Your Fu...  \n",
              "1   [Mitt Romney's Top Strategist Says Hillary Cli...  \n",
              "2   [Katy Perry's Movie Premiere Look: A New Take ...  \n",
              "3   [Is Meditation The Path To True Happiness?, Da...  \n",
              "4   [Funniest Parenting Tweets: What Moms And Dads...  \n",
              "..                                                ...  \n",
              "57  [This Week in World War I, April 4-11, 1915, T...  \n",
              "58  [Their New Normal, Is This the New Normal?, Th...  \n",
              "59  [Kitchen Knives: Everything You Ever Wanted To...  \n",
              "60  [The Weekly Rune: Othala, The Weekly Rune: Rai...  \n",
              "61  [This T. Rex Dominates 'American Ninja Warrior...  \n",
              "\n",
              "[62 rows x 5 columns]"
            ]
          },
          "execution_count": 39,
          "metadata": {},
          "output_type": "execute_result"
        }
      ],
      "source": [
        "(model_trained_representation.get_topic_info())"
      ]
    },
    {
      "cell_type": "markdown",
      "metadata": {},
      "source": [
        "Pour choisir les modèles nous avons choisi LDA car c'était le modèle le plus simple. On a ensuite implémenté LSI/LSA car nous l'avons compris comme étant une version plus aboutie de LDA. Elle a par exemple l'avantage d'être deterministe. \n",
        "Finalement nous avons voulu implémenter une architecture un peu plus récente. C'est pour quoi nous avons choisi BERT. \n",
        "\n",
        "Bert nous a rapporté les meilleures perfomances, il a aussi l'avantage d'être implémenté de manière à bénéficier des GPU. LDA avait l'avantage d'être assez simpliste et peut suffire dans certains cas avec assez peu de topics différents. \n",
        "\n",
        "LSA/LSI souffre pas mal du manque de GPU quand le nombre de topics augmente. Pour faire 2000 topics il nous fallait plusieurs heures là ou BERT s'exécutait en moins d'une demi heure. \n",
        "\n",
        "En terme de metriques nous avons implémenté coherence CV et coherence NPMI car nous avons vu que c'était le score utilisé par pas mal d'articles sur paperwithcode. Nous avons aussi testé Intertopic distance map via multi dimensional scaling sur BERT et LDA, mais les résultats étaient un peu étranges pour le second."
      ]
    },
    {
      "cell_type": "markdown",
      "metadata": {},
      "source": []
    }
  ],
  "metadata": {
    "colab": {
      "provenance": []
    },
    "kernelspec": {
      "display_name": "Python 3",
      "name": "python3"
    },
    "language_info": {
      "codemirror_mode": {
        "name": "ipython",
        "version": 3
      },
      "file_extension": ".py",
      "mimetype": "text/x-python",
      "name": "python",
      "nbconvert_exporter": "python",
      "pygments_lexer": "ipython3",
      "version": "3.10.10"
    }
  },
  "nbformat": 4,
  "nbformat_minor": 0
}
