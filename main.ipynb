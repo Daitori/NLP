{
  "cells": [
    {
      "cell_type": "code",
      "execution_count": 1,
      "metadata": {
        "id": "9e_Rmpt0B_Oa"
      },
      "outputs": [
        {
          "name": "stderr",
          "output_type": "stream",
          "text": [
            "c:\\Users\\Daito\\miniconda3\\envs\\NLP\\Lib\\site-packages\\tqdm\\auto.py:21: TqdmWarning: IProgress not found. Please update jupyter and ipywidgets. See https://ipywidgets.readthedocs.io/en/stable/user_install.html\n",
            "  from .autonotebook import tqdm as notebook_tqdm\n",
            "c:\\Users\\Daito\\miniconda3\\envs\\NLP\\Lib\\site-packages\\catalogue\\__init__.py:123: DeprecationWarning: SelectableGroups dict interface is deprecated. Use select.\n",
            "  for entry_point in AVAILABLE_ENTRY_POINTS.get(self.entry_point_namespace, []):\n"
          ]
        }
      ],
      "source": [
        "import itertools\n",
        "import pandas as pd\n",
        "import numpy as np\n",
        "import ast\n",
        "import matplotlib.pyplot as plt\n",
        "import pyLDAvis\n",
        "import pyLDAvis.gensim_models \n",
        "import bertopic\n",
        "\n",
        "from gensim import corpora\n",
        "from gensim.models import CoherenceModel,LdaModel,LsiModel\n",
        "from sklearn.metrics import silhouette_samples, silhouette_score\n",
        "\n",
        "import warnings\n",
        "warnings.simplefilter(action='ignore', category=FutureWarning)"
      ]
    },
    {
      "cell_type": "markdown",
      "metadata": {},
      "source": [
        "## Chargement des données "
      ]
    },
    {
      "cell_type": "code",
      "execution_count": 2,
      "metadata": {},
      "outputs": [],
      "source": [
        "def force_format(texts):\n",
        "    return [str(t) for t in texts]\n",
        "\n",
        "def compute_word_occurences(texts):\n",
        "    words = itertools.chain.from_iterable(texts)\n",
        "    word_count = pd.Series(words).value_counts()\n",
        "    word_count = pd.DataFrame({\"Word\": word_count.index, \"Count\": word_count.values})\n",
        "    return word_count\n",
        "\n",
        "def get_l_texts(text_file): #text_file is a .txt file from preprocessing to avoid doing it again\n",
        "    l_texts=[]\n",
        "    with open(text_file, \"r\") as f:\n",
        "        line = f.readlines()\n",
        "        list_line = [l.strip() for l in line]\n",
        "        for l in list_line:\n",
        "            l_texts.append(ast.literal_eval(l))\n",
        "    return l_texts"
      ]
    },
    {
      "cell_type": "code",
      "execution_count": 3,
      "metadata": {},
      "outputs": [
        {
          "name": "stdout",
          "output_type": "stream",
          "text": [
            "[['mass_shooting', 'texas', 'week', 'tv'], ['smith', 'join', 'diplo', 'nicky', 'jam', 'world_cup', 'official', 'song'], ['hugh', 'grant', 'marries', 'time', 'age'], ['jim_carrey', 'blasts', 'castrato', 'adam', 'schiff', 'democrats', 'artwork'], ['julianna', 'margulie', 'donald', 'poop', 'bag', 'pick', 'dog'], ['morgan_freeman', 'devastate', 'sexual_harassment', 'claim', 'undermine', 'legacy'], ['donald', 'lovin', 'mcdonald', 'jingle', 'tonight', 'bit'], ['watch', 'amazon', 'prime', 'week'], ['mike', 'myers', 'reveal', 'fourth', 'austin', 'power', 'film'], ['watch', 'hulu', 'week']] \n",
            " ['There Were 2 Mass Shootings In Texas Last Week, But Only 1 On TV', \"Will Smith Joins Diplo And Nicky Jam For The 2018 World Cup's Official Song\", 'Hugh Grant Marries For The First Time At Age 57', \"Jim Carrey Blasts 'Castrato' Adam Schiff And Democrats In New Artwork\", 'Julianna Margulies Uses Donald Trump Poop Bags To Pick Up After Her Dog', \"Morgan Freeman 'Devastated' That Sexual Harassment Claims Could Undermine Legacy\", \"Donald Trump Is Lovin' New McDonald's Jingle In 'Tonight Show' Bit\", 'What To Watch On Amazon Prime That’s New This Week', \"Mike Myers Reveals He'd 'Like To' Do A Fourth Austin Powers Film\", 'What To Watch On Hulu That’s New This Week'] \n",
            " 0    There Were 2 Mass Shootings In Texas Last Week...\n",
            "1    Will Smith Joins Diplo And Nicky Jam For The 2...\n",
            "2      Hugh Grant Marries For The First Time At Age 57\n",
            "3    Jim Carrey Blasts 'Castrato' Adam Schiff And D...\n",
            "4    Julianna Margulies Uses Donald Trump Poop Bags...\n",
            "5    Morgan Freeman 'Devastated' That Sexual Harass...\n",
            "6    Donald Trump Is Lovin' New McDonald's Jingle I...\n",
            "7    What To Watch On Amazon Prime That’s New This ...\n",
            "8    Mike Myers Reveals He'd 'Like To' Do A Fourth ...\n",
            "9           What To Watch On Hulu That’s New This Week\n",
            "Name: headline, dtype: object\n"
          ]
        }
      ],
      "source": [
        "dataset = pd.read_json(\"News_Category_Dataset_v2.json\", lines=True, dtype={\"headline\": str})\n",
        "texts = force_format(dataset[\"headline\"])\n",
        "l_texts = get_l_texts(\"l_texts.txt\")\n",
        "print(l_texts[:10],\"\\n\",texts[:10],\"\\n\",dataset[\"headline\"][:10])"
      ]
    },
    {
      "cell_type": "code",
      "execution_count": 4,
      "metadata": {},
      "outputs": [
        {
          "name": "stdout",
          "output_type": "stream",
          "text": [
            "Number of unique tokens: 47649\n",
            "Number of documents: 200853\n"
          ]
        }
      ],
      "source": [
        "# Create a dictionary\n",
        "dictionary = corpora.Dictionary(l_texts)\n",
        "# Create a corpus\n",
        "corpus = [dictionary.doc2bow(text) for text in l_texts]\n",
        "\n",
        "print(\"Number of unique tokens: {}\".format(len(dictionary)))\n",
        "print(\"Number of documents: {}\".format(len(corpus)))"
      ]
    },
    {
      "cell_type": "markdown",
      "metadata": {},
      "source": [
        "## Pour les modèles disponibles dans la librairie gensim"
      ]
    },
    {
      "cell_type": "markdown",
      "metadata": {},
      "source": [
        "### LDA"
      ]
    },
    {
      "cell_type": "code",
      "execution_count": 5,
      "metadata": {},
      "outputs": [
        {
          "name": "stdout",
          "output_type": "stream",
          "text": [
            "Number of topics:  50  Coherence Score:  -0.2824209588809716 0.5098044333816348\n",
            "Number of topics:  51  Coherence Score:  -0.28828241735395443 0.5181689460125675\n",
            "Number of topics:  52  Coherence Score:  -0.2874787327215478 0.5153331178821003\n",
            "Number of topics:  53  Coherence Score:  -0.2943429399351826 0.5255018014061624\n",
            "Number of topics:  54  Coherence Score:  -0.29591946141787323 0.5268862888920597\n",
            "Number of topics:  55  Coherence Score:  -0.2960636395784447 0.5284503792971005\n",
            "Number of topics:  56  Coherence Score:  -0.3000395592161475 0.5323435274476381\n",
            "Number of topics:  57  Coherence Score:  -0.29919743955948835 0.5319902171309276\n",
            "Number of topics:  58  Coherence Score:  -0.2971918680648036 0.5283476888252082\n",
            "Number of topics:  59  Coherence Score:  -0.29820176195152787 0.5307283765564802\n",
            "Number of topics:  60  Coherence Score:  -0.30102524437381867 0.5353576336774502\n",
            "Number of topics:  61  Coherence Score:  -0.2973235104383298 0.5288722685081988\n",
            "Number of topics:  62  Coherence Score:  -0.2986746534553317 0.5284313055018343\n",
            "Number of topics:  63  Coherence Score:  -0.29649677888427367 0.5272301622094987\n",
            "Number of topics:  64  Coherence Score:  -0.29845363328131747 0.529582033609373\n"
          ]
        }
      ],
      "source": [
        "result={\"num_topics\":[], \"coherence_score_cv\":[],\"coherence_score_npmi\":[]}\n",
        "\n",
        "for n in range(50, 65):\n",
        "    lda_model = LdaModel(corpus, num_topics=n, id2word=dictionary)\n",
        "    coherence_model_cv= CoherenceModel(model=lda_model, texts=l_texts, dictionary=dictionary, coherence='c_v')\n",
        "    coherence_score_cv = coherence_model_cv.get_coherence()\n",
        "    coherence_model_npmi= CoherenceModel(model=lda_model, texts=l_texts, dictionary=dictionary, coherence='c_npmi')\n",
        "    coherence_score_npmi = coherence_model_npmi.get_coherence()\n",
        "    print(\"Number of topics: \", n, \" Coherence Score: \", coherence_score_npmi,coherence_score_cv)\n",
        "    result[\"num_topics\"].append(n)\n",
        "    result[\"coherence_score_cv\"].append(coherence_score_cv)\n",
        "    result[\"coherence_score_npmi\"].append(coherence_score_npmi)"
      ]
    },
    {
      "cell_type": "code",
      "execution_count": 6,
      "metadata": {},
      "outputs": [
        {
          "name": "stdout",
          "output_type": "stream",
          "text": [
            "Optimal number of topics:  60  Coherence Score:  -0.2963964682921284 0.5238451755756386\n"
          ]
        }
      ],
      "source": [
        "optimal_n=result[\"num_topics\"][np.argmax(result[\"coherence_score_cv\"])]\n",
        "lda_model = LdaModel(corpus, num_topics=n, id2word=dictionary)\n",
        "coherence_model_cv= CoherenceModel(model=lda_model, texts=l_texts, dictionary=dictionary, coherence='c_v')\n",
        "coherence_score_cv = coherence_model_cv.get_coherence()\n",
        "coherence_model_npmi= CoherenceModel(model=lda_model, texts=l_texts, dictionary=dictionary, coherence='c_npmi')\n",
        "coherence_score_npmi = coherence_model_npmi.get_coherence()\n",
        "print(\"Optimal number of topics: \", optimal_n, \" Coherence Score: \", coherence_score_npmi,coherence_score_cv)"
      ]
    },
    {
      "cell_type": "code",
      "execution_count": 7,
      "metadata": {},
      "outputs": [
        {
          "data": {
            "text/html": [
              "\n",
              "<link rel=\"stylesheet\" type=\"text/css\" href=\"https://cdn.jsdelivr.net/gh/bmabey/pyLDAvis@3.4.0/pyLDAvis/js/ldavis.v1.0.0.css\">\n",
              "\n",
              "\n",
              "<div id=\"ldavis_el1180417872461670882293494355\" style=\"background-color:white;\"></div>\n",
              "<script type=\"text/javascript\">\n",
              "\n",
              "var ldavis_el1180417872461670882293494355_data = {\"mdsDat\": {\"x\": [0.2732279253507594, 0.12127620424178372, 0.11493547811616683, 0.18451994215431058, 0.08648005793270162, 0.15819561098162307, 0.0658923132022343, 0.11460651988960723, 0.04593870910138969, 0.050101469912077305, 0.09787869453355348, 0.017527604147273584, 0.04437137955271905, 0.05921065325467671, 0.027046230697799083, -0.004059260602792625, 0.01770535846775233, -0.027147432209614405, 0.0050269583404995155, -0.018164501706778944, 0.02475825991950114, 0.03315587121292192, -0.01945762280903878, -0.013352676616891367, -0.0009107376004863076, -0.04038442486827151, -0.047928631806358195, 0.0011343183000486067, -0.019094910872890117, -0.015654773952786676, -0.00181893385203789, -0.012084674201671839, 0.0349351072377379, -0.02572525850354011, -0.04140154650557463, -0.02710844131770621, 0.0030395577185552834, -0.10881527022192576, -0.011130917318937256, 0.06839292587272044, -0.01426918238723374, -0.04031929884031896, -0.033579387042419896, -0.028939954720594227, -0.019587092632214104, -0.056949579031691615, -0.0158025128827921, -0.05410128923176499, -0.017965602535090934, -0.07510324990041037, -0.03581948540889582, -0.04100123002462056, -0.030530051311958725, -0.047760604578131825, -0.07577431706331159, -0.072872079917281, -0.0758187183667874, -0.04578709241993729, -0.06908536531937916, -0.06482213940204012, -0.08996205122496163, -0.09775856012764907, -0.03573165511908553, -0.07577663568253974], \"y\": [-0.39393644092754, 0.06061429753934799, 0.054517816587356126, 0.20471839454590754, 0.03289436473066821, 0.11620728754121969, 0.022030814050863615, 0.05413431845994592, 0.01358376743353711, 0.015204453628406674, 0.04048681399616248, 0.004340431837265054, 0.013098769264232556, 0.01902483836572477, 0.007199130726400346, -0.0011654807285068252, 0.004367206831644701, -0.005956490438944791, 0.0009685632391800301, -0.0042364019925435715, 0.006473890435285747, 0.009008535065846118, -0.004533750004349517, -0.0032416138219457757, -0.0004673072116286983, -0.008314003375295401, -0.009525944599872055, 5.1260896387077175e-05, -0.00441795223639104, -0.0037335100708621224, -0.0006707963684732846, -0.0029738978558427444, 0.009778216745735114, -0.005676560148755229, -0.008484816769859613, -0.005971840978524093, 0.0005131089239359109, -0.0167005693624552, -0.0027753077352954494, 0.02325893825909043, -0.0034378750876813873, -0.008333458114846181, -0.007136188850525989, -0.006345372800243177, -0.004522712148544552, -0.010890693555645967, -0.0037302029436444115, -0.01047019224936438, -0.00422182732820399, -0.01327972079785875, -0.0075285852296223385, -0.008446411326206384, -0.006616936983017842, -0.009501277133321294, -0.013396581401036705, -0.013001757990502613, -0.013384999145421126, -0.00924988440088843, -0.012533822179333673, -0.012016827327150087, -0.014965468553637309, -0.015725952871910778, -0.007575965633287671, -0.01337982042515676], \"topics\": [1, 2, 3, 4, 5, 6, 7, 8, 9, 10, 11, 12, 13, 14, 15, 16, 17, 18, 19, 20, 21, 22, 23, 24, 25, 26, 27, 28, 29, 30, 31, 32, 33, 34, 35, 36, 37, 38, 39, 40, 41, 42, 43, 44, 45, 46, 47, 48, 49, 50, 51, 52, 53, 54, 55, 56, 57, 58, 59, 60, 61, 62, 63, 64], \"cluster\": [1, 1, 1, 1, 1, 1, 1, 1, 1, 1, 1, 1, 1, 1, 1, 1, 1, 1, 1, 1, 1, 1, 1, 1, 1, 1, 1, 1, 1, 1, 1, 1, 1, 1, 1, 1, 1, 1, 1, 1, 1, 1, 1, 1, 1, 1, 1, 1, 1, 1, 1, 1, 1, 1, 1, 1, 1, 1, 1, 1, 1, 1, 1, 1], \"Freq\": [3.1208978733544406, 2.526671441918005, 2.422017341178419, 2.264359969122165, 2.1187211472383085, 2.0966748994872884, 2.029857791026765, 1.9362082218045984, 1.8742083041145896, 1.8317304432180783, 1.821061933820528, 1.7696411773634582, 1.7665846077095801, 1.7410487123410974, 1.6967220649262427, 1.6796741199568306, 1.6792185522961613, 1.641695599607897, 1.638974791628521, 1.6303420276533822, 1.6072578093777763, 1.599113131837147, 1.5725809854793757, 1.5475083110883632, 1.5305985347662563, 1.5213279065308718, 1.5173246892169328, 1.5148329153078601, 1.5133458410702496, 1.509463724668962, 1.5025866397391434, 1.500470070657756, 1.4892147111621787, 1.4872291378748257, 1.4728260754283535, 1.4630345103458653, 1.4585164323124078, 1.448464967315113, 1.4437022612489787, 1.4361261958656384, 1.4001224369792877, 1.3885912294366396, 1.3877483551176886, 1.3863576856725812, 1.3815014190059014, 1.3661440326095344, 1.3656142761915613, 1.3613623756370858, 1.3518766961302693, 1.3503599124335854, 1.3173993088295624, 1.314299659526571, 1.3003217938605638, 1.2959730349249168, 1.2872506551635658, 1.2712977942931922, 1.2237952417585656, 1.209228434518295, 1.1662554270501775, 1.1621769704262939, 1.1046009757451258, 1.090093943579717, 1.069261714191393, 1.026530755857503]}, \"tinfo\": {\"Term\": [\"photo\", \"video\", \"make\", \"day\", \"divorce\", \"week\", \"woman\", \"child\", \"year\", \"kid\", \"wedding\", \"life\", \"love\", \"america\", \"style\", \"fashion\", \"mom\", \"parent\", \"home\", \"time\", \"wear\", \"man\", \"marriage\", \"study\", \"health\", \"work\", \"good\", \"eat\", \"thing\", \"people\", \"photo\", \"dad\", \"word\", \"crazy\", \"search\", \"tweet\", \"event\", \"michael\", \"come\", \"foot\", \"blame\", \"send\", \"message\", \"freedom\", \"donation\", \"canada\", \"lifestyle\", \"north\", \"denver\", \"batman\", \"magical\", \"shopper\", \"mayor\", \"meme\", \"suspend\", \"boycott\", \"mtv\", \"bombing\", \"propaganda\", \"nra\", \"kid\", \"life\", \"girl\", \"watch\", \"end\", \"fight\", \"future\", \"test\", \"apple\", \"pant\", \"site\", \"credit\", \"reportedly\", \"private\", \"maher\", \"saving\", \"brother\", \"concert\", \"policy\", \"invite\", \"jail\", \"suspect\", \"definition\", \"millennial\", \"nuclear\", \"sanders\", \"entitle\", \"reputation\", \"violation\", \"charter\", \"make\", \"baby\", \"talk\", \"dog\", \"meet\", \"help\", \"common\", \"case\", \"cat\", \"drop\", \"prepare\", \"victim\", \"charge\", \"ground\", \"privacy\", \"eric\", \"teenager\", \"killer\", \"missouri\", \"north_korea\", \"poop\", \"kim_jong\", \"gov\", \"invasion\", \"dem\", \"infamous\", \"south_korean\", \"golden_state\", \"admin\", \"julianna\", \"felony\", \"prosecutor\", \"video\", \"couple\", \"report\", \"show\", \"financial\", \"wrong\", \"adorable\", \"smith\", \"force\", \"focus\", \"tattoo\", \"pie\", \"ticket\", \"theater\", \"jump\", \"station\", \"harm\", \"fed\", \"bbq\", \"adoption\", \"shock\", \"jada_pinkett\", \"potential\", \"zoo\", \"tap\", \"scarlett_johansson\", \"colin\", \"rival\", \"literally\", \"honesty\", \"time\", \"star\", \"inspire\", \"holiday\", \"risk\", \"lead\", \"airline\", \"college\", \"choose\", \"ride\", \"hollywood\", \"race\", \"queen\", \"cup\", \"owner\", \"ice_cream\", \"awkward\", \"robot\", \"oyster\", \"attempt\", \"scam\", \"nightmare\", \"roast\", \"agency\", \"seed\", \"ed\", \"out\", \"prisoner\", \"region\", \"national_anthem\", \"wedding\", \"love\", \"world\", \"beauty\", \"cover\", \"place\", \"sign\", \"trick\", \"technology\", \"royal\", \"fix\", \"class\", \"chic\", \"europe\", \"dangerous\", \"extreme\", \"ceremony\", \"prom\", \"transgender\", \"finger\", \"welcome\", \"belief\", \"flip\", \"fate\", \"reality_tv\", \"school_shooting\", \"planned_parenthood\", \"hart\", \"portray\", \"fox_new\", \"year\", \"break\", \"green\", \"age\", \"visit\", \"project\", \"company\", \"china\", \"order\", \"stage\", \"nasa\", \"phone\", \"taylor\", \"chinese\", \"sit\", \"carry\", \"girlfriend\", \"hunt\", \"gap\", \"sarah\", \"trailer\", \"survival\", \"investment\", \"mission\", \"soccer\", \"paul_ryan\", \"blast\", \"impossible\", \"tom_cruise\", \"expand\", \"style\", \"dress\", \"travel\", \"american\", \"story\", \"relationship\", \"care\", \"advice\", \"explain\", \"beat\", \"speak\", \"miley_cyrus\", \"meat\", \"australia\", \"france\", \"church\", \"century\", \"hell\", \"measure\", \"border\", \"pastor\", \"mocks\", \"jerusalem\", \"jews\", \"isis\", \"lash\", \"airbnb\", \"mormon\", \"racially\", \"hundred\", \"big\", \"money\", \"daughter\", \"save\", \"kim_kardashian\", \"moment\", \"animal\", \"claim\", \"lie\", \"ultimate\", \"note\", \"brown\", \"didn\", \"stun\", \"delay\", \"danger\", \"spread\", \"onion\", \"slam\", \"announcement\", \"traditional\", \"epidemic\", \"expose\", \"term\", \"macy\", \"completely\", \"forgive\", \"twist\", \"dig\", \"fairy\", \"party\", \"step\", \"drug\", \"deal\", \"happy\", \"long\", \"set\", \"app\", \"shop\", \"president\", \"coffee\", \"economy\", \"struggle\", \"climate_change\", \"wave\", \"serve\", \"boston\", \"device\", \"achieve\", \"leftover\", \"crush\", \"bob\", \"smash\", \"nbc\", \"virginia\", \"afford\", \"surf\", \"world_record\", \"believe\", \"brazilian\", \"day\", \"facebook\", \"book\", \"tax\", \"vacation\", \"national\", \"david\", \"dr\", \"crisis\", \"morning\", \"stunning\", \"action\", \"glass\", \"let\", \"puppy\", \"quit\", \"user\", \"housing\", \"demand\", \"straight\", \"busy\", \"rainbow\", \"peru\", \"up\", \"reddit\", \"seattle\", \"combat\", \"saturday\", \"forum\", \"foreign\", \"find\", \"friend\", \"plan\", \"gift\", \"olympic\", \"trip\", \"surprise\", \"vote\", \"community\", \"hear\", \"sport\", \"coach\", \"ball\", \"trouble\", \"plant\", \"ve\", \"celebration\", \"cast\", \"jack\", \"donate\", \"remind\", \"politician\", \"profit\", \"back\", \"queer\", \"pardon\", \"coal\", \"trans\", \"cord\", \"molly\", \"study\", \"don\", \"lose\", \"bring\", \"cost\", \"cook\", \"patient\", \"view\", \"record\", \"propose\", \"digital\", \"union\", \"spark\", \"warn\", \"executive\", \"limit\", \"admit\", \"hawaii\", \"mock\", \"preview\", \"ability\", \"summit\", \"approve\", \"conservative\", \"syria\", \"minister\", \"bid\", \"overdose\", \"homophobia\", \"teachers\", \"week\", \"thing\", \"heart\", \"night\", \"give\", \"wait\", \"practice\", \"allegedly\", \"peace\", \"gender\", \"introduce\", \"runner\", \"investor\", \"boss\", \"right\", \"coverage\", \"bill\", \"chip\", \"german\", \"duty\", \"prefer\", \"neighbor\", \"cohen\", \"assault\", \"drag\", \"democratic\", \"momentum\", \"property\", \"criticize\", \"publicly\", \"parent\", \"house\", \"ad\", \"young\", \"actress\", \"return\", \"huffpost\", \"hour\", \"hold\", \"hurt\", \"root\", \"la\", \"continue\", \"seat\", \"normal\", \"audio\", \"deadly\", \"university\", \"violence\", \"republicans\", \"broadway\", \"arizona\", \"foster\", \"dna\", \"theory\", \"rage\", \"allison\", \"times\", \"skewer\", \"fans\", \"woman\", \"open\", \"job\", \"experience\", \"health_care\", \"pain\", \"unique\", \"miller\", \"fine\", \"jersey\", \"bachelor\", \"abuse\", \"dj\", \"kentucky\", \"southern\", \"chew\", \"oral\", \"complain\", \"wonderful\", \"voter\", \"mac\", \"brush\", \"bash\", \"surrender\", \"pray\", \"cape\", \"degree\", \"charlie\", \"blake\", \"influential\", \"family\", \"reveal\", \"secret\", \"hit\", \"hope\", \"debut\", \"finally\", \"king\", \"famous\", \"lake\", \"block\", \"diary\", \"researcher\", \"mystery\", \"transformation\", \"tyler\", \"tom\", \"frank\", \"solve\", \"cole\", \"area\", \"graduate\", \"federal\", \"current\", \"anne\", \"dozen\", \"colbert\", \"afghanistan\", \"provide\", \"video_show\", \"teen\", \"question\", \"campaign\", \"student\", \"outfit\", \"release\", \"debate\", \"public\", \"social_media\", \"comedy\", \"internet\", \"ask\", \"detail\", \"underwear\", \"leader\", \"deliver\", \"professor\", \"leak\", \"atlantic\", \"kevin\", \"meeting\", \"tower\", \"settle\", \"influencer\", \"alex\", \"dean\", \"liberal\", \"prime_minister\", \"dumb\", \"elect\", \"shoe\", \"rise\", \"spot\", \"award\", \"chef\", \"song\", \"call\", \"makeover\", \"host\", \"smart\", \"ready\", \"wild\", \"japan\", \"highlight\", \"dessert\", \"controversy\", \"perform\", \"justice\", \"incredible\", \"request\", \"germany\", \"salary\", \"cdc\", \"apologize\", \"desk\", \"comment\", \"kanye_w\", \"reverse\", \"wasn\", \"position\", \"win\", \"turn\", \"die\", \"hard\", \"super\", \"town\", \"heat\", \"paper\", \"cash\", \"atlanta\", \"mirror\", \"pro\", \"episode\", \"ohio\", \"costume\", \"hilarious\", \"blow\", \"rap\", \"mini\", \"lane\", \"ghost\", \"retro\", \"ill\", \"prank\", \"emmy\", \"phil\", \"evans\", \"jennifer_garner\", \"mlb\", \"resist\", \"man\", \"marriage\", \"fall\", \"happen\", \"engage\", \"johnson\", \"attack\", \"lauren\", \"anna\", \"defense\", \"newly\", \"panic\", \"ryan\", \"impression\", \"rank\", \"driver\", \"jeff\", \"cutest\", \"terrible\", \"andrew\", \"media\", \"pat\", \"dancing\", \"roger\", \"condemn\", \"bohemian\", \"ve_heard\", \"bounce\", \"evangelical\", \"sober\", \"change\", \"weekend\", \"poll\", \"london\", \"red_carpet\", \"mean\", \"chicken\", \"fact\", \"medical\", \"screen\", \"hate\", \"check\", \"cute\", \"police\", \"grace\", \"flat\", \"receive\", \"kristen_stewart\", \"irish\", \"heel\", \"professional\", \"forever\", \"prison\", \"ditch\", \"square\", \"exit\", \"tape\", \"al\", \"decode\", \"penny\", \"fear\", \"gay\", \"son\", \"air\", \"kill\", \"stand\", \"seek\", \"guest\", \"fresh\", \"tale\", \"prince\", \"michelle\", \"faith\", \"bizarre\", \"grand\", \"vanessa\", \"porn\", \"joe\", \"william\", \"indiana\", \"ridiculous\", \"recent\", \"elite\", \"israel\", \"bloom\", \"natalie_portman\", \"humor\", \"verdict\", \"wildlife\", \"cheer\", \"high\", \"pay\", \"buy\", \"movie\", \"teach\", \"fail\", \"florida\", \"scene\", \"custody\", \"mitt_romney\", \"respond\", \"speech\", \"tribute\", \"survivor\", \"basic\", \"statement\", \"last\", \"math\", \"report_find\", \"alert\", \"utah\", \"trigger\", \"multiple\", \"liar\", \"nomination\", \"louisiana\", \"doc\", \"outage\", \"secure\", \"robinson\", \"eat\", \"leave\", \"feel\", \"feature\", \"destination\", \"pretty\", \"control\", \"result\", \"planet\", \"major\", \"pill\", \"fund\", \"suggest\", \"spice\", \"coat\", \"praise\", \"involve\", \"central\", \"surface\", \"lonely\", \"matt\", \"maryland\", \"new\", \"monitor\", \"declare\", \"champion\", \"strand\", \"victory\", \"gun_control\", \"allegation\", \"cool\", \"obama\", \"list\", \"blue\", \"round\", \"katy_perry\", \"team\", \"guy\", \"birth\", \"spirit\", \"taylor_swift\", \"everyday\", \"exclusive\", \"laugh\", \"title\", \"bus\", \"cell\", \"avenger\", \"emily\", \"nap\", \"gop\", \"candidate\", \"plea\", \"terrorist\", \"pennsylvania\", \"deportation\", \"district\", \"olive\", \"describe\", \"cosby\", \"black\", \"white\", \"room\", \"tour\", \"history\", \"hospital\", \"tie\", \"uk\", \"european\", \"rare\", \"russian\", \"official\", \"ellen\", \"shooting\", \"rescue\", \"cop\", \"accept\", \"mark_zuckerberg\", \"incident\", \"extend\", \"gig\", \"ensure\", \"spy\", \"yale\", \"dorm\", \"superman\", \"bishop\", \"citizenship\", \"census\", \"poisoning\", \"school\", \"death\", \"hot\", \"easy\", \"update\", \"pet\", \"boost\", \"park\", \"plane\", \"texas\", \"tree\", \"teacher\", \"bathroom\", \"source\", \"conference\", \"rush\", \"united\", \"mount\", \"aaron\", \"cargo\", \"nod\", \"parody\", \"guard\", \"tennessee\", \"men\", \"beg\", \"funding\", \"authority\", \"limbaugh\", \"gay_men\", \"mother\", \"sex\", \"single\", \"fan\", \"memory\", \"rate\", \"honor\", \"center\", \"forget\", \"italy\", \"education\", \"government\", \"promise\", \"shut\", \"crack\", \"solo\", \"youth\", \"crash\", \"refuse\", \"hole\", \"star_war\", \"swedish\", \"entire\", \"vermont\", \"musician\", \"stephen_colbert\", \"staff\", \"dismiss\", \"transparency\", \"mourn\", \"people\", \"power\", \"boy\", \"mistake\", \"sweet\", \"anxiety\", \"performance\", \"icon\", \"romantic\", \"cause\", \"career\", \"insurance\", \"smoking\", \"pot\", \"urban\", \"scary\", \"security\", \"reflect\", \"forward\", \"fourth\", \"guilty\", \"route\", \"injure\", \"probe\", \"austin\", \"resume\", \"detective\", \"stalk\", \"amtrak\", \"nicole_kidman\", \"child\", \"clean\", \"eye\", \"pick\", \"card\", \"hide\", \"disney\", \"legacy\", \"india\", \"person\", \"roll\", \"climate\", \"character\", \"accuse\", \"mouse\", \"mike\", \"unveil\", \"mia\", \"pride\", \"memorial\", \"producer\", \"weapon\", \"alarm\", \"hopeful\", \"netflix\", \"sues\", \"flip_flop\", \"woody_allen\", \"outrage\", \"columnist\", \"good\", \"cancer\", \"take\", \"cheap\", \"impact\", \"aren\", \"reduce\", \"ice\", \"indian\", \"washington\", \"lot\", \"apartment\", \"hire\", \"bomb\", \"effective\", \"cannes\", \"russia\", \"racist\", \"mysterious\", \"remote\", \"adopt\", \"excuse\", \"bow\", \"shave\", \"zombie\", \"arctic\", \"massive\", \"mail\", \"complex\", \"circle\", \"work\", \"bad\", \"link\", \"water\", \"month\", \"bar\", \"restaurant\", \"discuss\", \"write\", \"daily\", \"touch\", \"activity\", \"burn\", \"tool\", \"need\", \"column\", \"comic\", \"facial\", \"korean\", \"toss\", \"rio\", \"bargain\", \"sexuality\", \"beast\", \"insult\", \"recognition\", \"south_korea\", \"potentially\", \"hacking\", \"shove\", \"celebrate\", \"date\", \"problem\", \"birthday\", \"wife\", \"review\", \"battle\", \"sue\", \"rumor\", \"doesn\", \"medium\", \"employee\", \"recall\", \"lee\", \"activist\", \"massage\", \"republican\", \"allow\", \"curse\", \"therapist\", \"comic_strip\", \"diversity\", \"standard\", \"hacker\", \"deaf\", \"lawmaker\", \"server\", \"michael_jordan\", \"stan\", \"classified\", \"learn\", \"line\", \"post\", \"expect\", \"include\", \"support\", \"nyc\", \"bear\", \"weird\", \"track\", \"dear\", \"brooklyn\", \"fake\", \"jay\", \"produce\", \"amazon\", \"viral\", \"hack\", \"japanese\", \"email\", \"confirm\", \"angry\", \"shadow\", \"ear\", \"confront\", \"pageant\", \"pbs\", \"coke\", \"boxer\", \"stern\", \"free\", \"cut\", \"film\", \"store\", \"french\", \"sell\", \"egg\", \"match\", \"isn\", \"industry\", \"spending\", \"protest\", \"boot\", \"rip\", \"status\", \"client\", \"own\", \"interior\", \"congress\", \"iran\", \"cage\", \"package\", \"firm\", \"spur\", \"racism\", \"long_island\", \"withdrawal\", \"theft\", \"deputy\", \"rack\", \"mom\", \"news\", \"sexy\", \"father\", \"pregnant\", \"market\", \"toddler\", \"island\", \"throw\", \"sea\", \"fish\", \"mental_health\", \"pound\", \"rent\", \"pilot\", \"suck\", \"spill\", \"rant\", \"primary\", \"complaint\", \"jon\", \"insane\", \"profile\", \"donor\", \"outlet\", \"protester\", \"broken\", \"spanish\", \"speaker\", \"optimism\", \"michelle_obama\", \"dinner\", \"percent\", \"september\", \"west\", \"pass\", \"funniest\", \"athlete\", \"field\", \"wrap\", \"direct\", \"environment\", \"abandon\", \"exist\", \"volunteer\", \"donald\", \"license\", \"bloomberg\", \"ny\", \"proud\", \"bryant\", \"senate\", \"schooler\", \"hulu\", \"hurdle\", \"intimate\", \"hearing\", \"suppose\", \"sexist\", \"adapt\", \"health\", \"picture\", \"challenge\", \"treatment\", \"hand\", \"answer\", \"global\", \"prove\", \"street\", \"player\", \"large\", \"tech\", \"male\", \"clear\", \"fox\", \"van\", \"panel\", \"inside\", \"academy\", \"divide\", \"wreck\", \"dominate\", \"amendment\", \"greg\", \"illegal\", \"regulate\", \"inauguration\", \"draft\", \"motion\", \"ram\", \"divorce\", \"home\", \"stay\", \"fun\", \"fruit\", \"italian\", \"handle\", \"trap\", \"documentary\", \"jessica\", \"historic\", \"ireland\", \"address\", \"wilson\", \"alive\", \"rape\", \"barack_obama\", \"library\", \"memo\", \"pic\", \"charming\", \"rapper\", \"jeffrey\", \"haunt\", \"walter\", \"dee\", \"lo\", \"moscow\", \"flub\", \"throwback\", \"live\", \"great\", \"share\", \"office\", \"suit\", \"sick\", \"political\", \"machine\", \"open_letter\", \"mary\", \"stone\", \"building\", \"thousand\", \"josh\", \"apparently\", \"dennis\", \"sink\", \"press\", \"saturday_night\", \"baking\", \"complete\", \"sock\", \"berry\", \"playground\", \"jenna\", \"challenger\", \"pen\", \"fischer\", \"trading\", \"wet\", \"red\", \"state\", \"launch\", \"lady\", \"name\", \"reach\", \"strange\", \"funny\", \"count\", \"breakup\", \"mile\", \"form\", \"ben\", \"regret\", \"mental\", \"justin_timberlake\", \"aim\", \"murder\", \"female\", \"barbara\", \"arm\", \"document\", \"cancel\", \"clever\", \"dan\", \"anthony\", \"funeral\", \"meaning\", \"bush\", \"seth_meyer\", \"real\", \"miss\", \"country\", \"low\", \"airport\", \"cake\", \"mark\", \"want\", \"train\", \"join\", \"storm\", \"emotional\", \"row\", \"base\", \"grill\", \"urge\", \"restore\", \"reject\", \"punch\", \"mouth\", \"agent\", \"jam\", \"fcc\", \"toll\", \"hiding\", \"immigrant\", \"rogue\", \"remark\", \"world_cup\", \"suspicious\", \"lesson\", \"offer\", \"online\", \"law\", \"cheat\", \"americans\", \"rihanna\", \"actor\", \"arrest\", \"pose\", \"safety\", \"rachel\", \"nude\", \"defend\", \"partner\", \"fraud\", \"require\", \"shark\", \"farm\", \"pattern\", \"neglect\", \"jerry\", \"censor\", \"page\", \"gulf\", \"massachusetts\", \"karma\", \"advance\", \"graduation\", \"starbuck\", \"reason\", \"tv\", \"grow\", \"proposal\", \"march\", \"artist\", \"increase\", \"letter\", \"paint\", \"st\", \"christian\", \"portrait\", \"connect\", \"bold\", \"orleans\", \"spray\", \"louis\", \"threat\", \"republic\", \"mass\", \"belly\", \"see\", \"difficult\", \"fuel\", \"reclaim\", \"finale\", \"jesus\", \"cave\", \"curry\", \"alec_baldwin\", \"raise\", \"dream\", \"season\", \"car\", \"true\", \"moon\", \"jimmy_fallon\", \"therapy\", \"court\", \"judge\", \"controversial\", \"powerful\", \"annual\", \"scare\", \"deny\", \"george\", \"figure\", \"appear\", \"payment\", \"inch\", \"rover\", \"criminal\", \"civil_rights\", \"retail\", \"attorney\", \"viewer\", \"senator\", \"sexual_harassment\", \"native_american\", \"idaho\", \"wear\", \"create\", \"music\", \"doctor\", \"winter\", \"think\", \"white_house\", \"lawsuit\", \"slow\", \"gps\", \"tiny\", \"lego\", \"crowd\", \"jackson\", \"devil\", \"ted\", \"mask\", \"royal_family\", \"rally\", \"imagine\", \"secretary\", \"patrick\", \"weak\", \"revive\", \"congressman\", \"middle_school\", \"rev\", \"cardboard\", \"staffer\", \"withdraw\", \"singer\", \"shoot\", \"california\", \"move\", \"catch\", \"worker\", \"spouse\", \"put\", \"wall\", \"military\", \"kelly\", \"failure\", \"graphic\", \"tear\", \"gas\", \"epic\", \"top\", \"investigation\", \"relief\", \"access\", \"defeat\", \"inventor\", \"flag\", \"nsfw\", \"investigate\", \"journalist\", \"assistant\", \"crackdown\", \"danish\", \"gather\", \"perfect\", \"rule\", \"minute\", \"husband\", \"affect\", \"key\", \"festival\", \"bully\", \"trial\", \"blood\", \"pull\", \"hang\", \"bite\", \"capture\", \"clip\", \"cuba\", \"wide\", \"prevention\", \"commit\", \"drama\", \"prize\", \"oliver\", \"ballet\", \"salute\", \"scan\", \"eyed\", \"fault\", \"eliminate\", \"expression\", \"cardinal\", \"split\", \"john\", \"rock\", \"add\", \"dead\", \"push\", \"anti\", \"club\", \"instagram\", \"pack\", \"theme\", \"allege\", \"spotlight\", \"election\", \"comeback\", \"adam\", \"freak\", \"physical\", \"goodbye\", \"button\", \"golf\", \"sake\", \"nikki\", \"bella\", \"sanity\", \"democrats\", \"explosion\", \"domestic\", \"conspiracy\", \"hostage\", \"idea\", \"twitter\", \"mind\", \"protect\", \"late_night\", \"choice\", \"human\", \"special\", \"voice\", \"adult\", \"ceo\", \"scott\", \"nation\", \"replace\", \"joke\", \"kanye_west\", \"maker\", \"upcoming\", \"bug\", \"creator\", \"float\", \"bet\", \"renew\", \"chairman\", \"principal\", \"bureau\", \"resign\", \"amber\", \"harriet\", \"stepping\", \"magazine\", \"york\", \"mother_day\", \"today\", \"act\", \"joy\", \"georgia\", \"tough\", \"listen\", \"nail\", \"know\", \"understand\", \"politic\", \"rob\", \"critic\", \"opening\", \"strip\", \"compete\", \"highway\", \"barbie\", \"daddy\", \"vision\", \"billionaire\", \"iowa\", \"governor\", \"ode\", \"indie\", \"reminder\", \"rod\", \"shooter\", \"celebrity\", \"face\", \"treat\", \"spend\", \"read\", \"totally\", \"whitney_houston\", \"pop\", \"tonight\", \"cross\", \"bit\", \"album\", \"shot\", \"promote\", \"mcdonald\", \"brian\", \"silence\", \"text\", \"daniel\", \"kelly_clarkson\", \"shocking\", \"nominee\", \"yard\", \"hint\", \"punishment\", \"deem\", \"harmful\", \"religious\", \"ridley\", \"lgbtq\", \"stop\", \"marry\", \"war\", \"close\", \"target\", \"popular\", \"culture\", \"scientist\", \"writer\", \"vow\", \"fire\", \"trade\", \"door\", \"trust\", \"abroad\", \"marijuana\", \"steve\", \"asia\", \"manhattan\", \"monster\", \"situation\", \"minor\", \"debunk\", \"barely\", \"stephen\", \"needle\", \"gop_candidate\", \"korea\", \"treasury\", \"prosecute\", \"america\", \"drive\", \"positive\", \"file\", \"old\", \"scandal\", \"lip\", \"smile\", \"smoke\", \"jim\", \"accident\", \"painting\", \"react\", \"ignore\", \"myanmar\", \"second\", \"knife\", \"bench\", \"highly\", \"gang\", \"undocumented\", \"represent\", \"chilean\", \"stir\", \"crow\", \"israeli\", \"muslim\", \"immigration\", \"fbi\", \"savage\", \"interview\", \"light\", \"snl\", \"issue\", \"business\", \"james\", \"hero\", \"lawyer\", \"oprah\", \"group\", \"threaten\", \"deserve\", \"chat\", \"bedtime\", \"wealthy\", \"apology\", \"pledge\", \"sander\", \"abc\", \"reporter\", \"bullet\", \"sexual_abuse\", \"session\", \"ethic\", \"disarm\", \"quietly\", \"vice_president\", \"analogy\", \"watchdog\", \"fifa\", \"head\", \"resort\", \"safe\", \"dark\", \"museum\", \"program\", \"gun\", \"settlement\", \"photographer\", \"board\", \"ahead\", \"deep\", \"reform\", \"plastic\", \"factor\", \"agree\", \"ocean\", \"advocate\", \"crime\", \"sentence\", \"county\", \"snap\", \"side\", \"uncertainty\", \"jewish\", \"enter\", \"philadelphia\", \"banker\", \"rnc\", \"starbucks\", \"game\", \"budget\", \"paul\", \"international\", \"director\", \"editor\", \"point\", \"journey\", \"seal\", \"robert\", \"australian\", \"jones\", \"jet\", \"loan\", \"worthy\", \"ashley\", \"real_life\", \"floor\", \"proof\", \"christopher\", \"marie\", \"alice\", \"bank_america\", \"working\", \"nba\", \"ers\", \"cleveland\", \"lebron_jame\", \"espn\", \"cloud\", \"city\", \"run\", \"number\", \"research\", \"double\", \"strategy\", \"gown\", \"announce\", \"ruin\", \"attend\", \"met_gala\", \"legal\", \"subway\", \"convention\", \"offend\", \"simpson\", \"dude\", \"ferguson\", \"monkey\", \"pretend\", \"catholic\", \"commuter\", \"priest\", \"african_american\", \"kanye\", \"dressed\", \"shawn\", \"unconscious\", \"terrify\", \"rejoice\", \"tsa\", \"dance\", \"flight\", \"remove\", \"passenger\", \"land\", \"nfl\", \"member\", \"bacon\", \"richard\", \"strike\", \"high_school\", \"map\", \"huge\", \"boyfriend\", \"comedian\", \"jr\", \"warrior\", \"southwest\", \"ethical\", \"audience\", \"canadian\", \"glimpse\", \"giveaway\", \"marvel\", \"connecticut\", \"reboot\", \"swimmer\", \"congressional\", \"accusation\", \"play\", \"walk\", \"anniversary\", \"steal\", \"role\", \"image\", \"veteran\", \"santa\", \"kim\", \"pan\", \"hunter\", \"compare\", \"rice\", \"ron\", \"examine\", \"prayer\", \"air_force\", \"monday\", \"bend\", \"adviser\", \"turner\", \"increasingly\", \"contestant\", \"screw\", \"universe\", \"fancy\", \"humanity\", \"fame\", \"embarrass\", \"reid\", \"avoid\", \"tell\", \"ban\", \"service\", \"decision\", \"national_park\", \"god\", \"protection\", \"american_idol\", \"jordan\", \"passion\", \"bean\", \"era\", \"lift\", \"evil\", \"genius\", \"alaska\", \"ellen_degenere\", \"rain\", \"trash\", \"burst\", \"tactic\", \"spoof\", \"ian\", \"kenya\", \"saudi_arabia\", \"conan_brien\", \"curious\", \"thrill\", \"hunting\", \"fashion\", \"study_find\", \"madonna\", \"band\", \"movement\", \"chapter\", \"frozen\", \"total\", \"original\", \"sexual\", \"favor\", \"bankruptcy\", \"amy\", \"merger\", \"officer\", \"consider\", \"reunion\", \"roman\", \"coachella\", \"recognize\", \"council\", \"retire\", \"vibe\", \"emerge\", \"public_health\", \"rail\", \"leon\", \"neil\", \"swing\", \"advise\", \"color\", \"bag\", \"late\", \"discover\", \"british\", \"elle\", \"magic\", \"brad_pitt\", \"competition\", \"drunk\", \"medication\", \"negative\", \"exchange\", \"datum\", \"skip\", \"million\", \"tiger\", \"jimmy_kimmel\", \"toronto\", \"punk\", \"information\", \"flame\", \"auto\", \"nebraska\", \"finalist\", \"cameo\", \"loser\", \"nyt\", \"boy_scout\", \"interest\"], \"Freq\": [27454.0, 14917.0, 8629.0, 7678.0, 5602.0, 5695.0, 5634.0, 5392.0, 5670.0, 5664.0, 4951.0, 5150.0, 4854.0, 4160.0, 4477.0, 3850.0, 4108.0, 4250.0, 4006.0, 4331.0, 3765.0, 3883.0, 3880.0, 3708.0, 3453.0, 3413.0, 3388.0, 3294.0, 3382.0, 3218.0, 27452.798543984012, 1024.1648529826352, 435.8041260450501, 291.04823324388315, 288.2889709037927, 285.1765754050176, 284.4820607094463, 263.31597473475745, 239.8620602635414, 205.61546556220227, 195.61169754463145, 165.98608971781053, 150.5756527709933, 110.82419234255765, 101.20571293572434, 100.59693585782472, 93.71376947807238, 79.58167518096158, 69.93197091516278, 69.37258448856277, 66.24749908405049, 65.12614979544321, 56.92101440823031, 54.37800344360578, 53.763785087943084, 32.35701005567927, 29.359087120218753, 25.34937108234885, 20.15297581388094, 15.810134368705425, 5662.648614523988, 5148.928280385756, 2586.9227097814187, 1536.2851086441276, 1430.2836582593343, 1381.7709908967397, 1066.476310883598, 965.506167592667, 724.4731538945362, 649.7590455232754, 587.9969938539834, 484.58740931889145, 476.2997946062738, 368.76779695280754, 330.6771869000231, 303.3889484914609, 280.4997539355439, 242.06312508459382, 239.4030915640812, 209.38809651111043, 194.30256854522014, 147.5778019560452, 119.39634788722152, 95.84071908374706, 85.8489624128133, 73.3904986746931, 22.85236639269723, 22.46994594624155, 19.94707277798169, 7.513894059061824, 8627.975432075973, 3296.5975536510605, 3173.4880626070058, 1528.1986038543118, 1124.1536282160403, 1086.364779269234, 990.9951233941092, 933.6924052646003, 826.2165278835895, 458.0543660494562, 424.9072699031163, 389.23646060905963, 362.5937965285665, 219.61578236067552, 198.9937479367328, 195.25053136841052, 156.81287222273258, 149.95476506540476, 74.0104342596081, 46.85083311222513, 32.941627248266585, 22.09422131686154, 22.001454422212156, 14.028159971107469, 12.785137300164736, 6.213150432887844, 1.4483096201144148, 0.10737173294456046, 0.02657877625820223, 0.026451063470391174, 0.028260824375883484, 0.028334187390067402, 14915.355642198863, 1232.837342755052, 1228.6239811927107, 1108.58112120455, 627.5939629540109, 498.7501127690085, 366.9235316886195, 342.8504673676157, 259.7142958544848, 233.6451032814375, 211.92946618057354, 207.90274710734218, 183.99784405313503, 177.9553325287564, 152.9042812066955, 129.09893792558984, 99.09195042145585, 91.67556201695768, 88.70280272310292, 85.70744968856394, 78.30619445885847, 76.44296137306235, 71.74653235430382, 69.86793731046777, 67.6588509158032, 60.03976613433431, 55.67035765714137, 53.45291788391314, 51.8025983001045, 45.96907748203515, 4329.336594404679, 3406.9907734217877, 1618.7281451220053, 1478.0301157820984, 1423.3863281058982, 1069.9172627696307, 789.6816427526302, 776.244162353127, 707.2773820878174, 577.6234440689025, 554.1360686284548, 494.3122017208298, 418.31119665349996, 325.1957888970986, 319.0842928583138, 311.67986548381805, 276.2355902018332, 201.2799907515536, 198.54693256333115, 188.12201057925563, 180.24147420979634, 165.77415775308612, 145.5288638168344, 139.92452191145296, 117.6861572375007, 92.84782226278507, 91.69694880239729, 74.5016595871384, 67.87868627760945, 58.69237446874566, 4949.023448255184, 4852.803939780527, 3443.1968705393115, 1276.710189120027, 1154.1286596020254, 818.2790874953678, 604.0421568890374, 515.8328804987253, 412.57049856931457, 410.7820238786693, 391.2523994220753, 369.05957296126866, 328.40777637124836, 326.5398561699389, 286.04525587391237, 210.36495399696182, 158.47316770344128, 150.87237760967082, 128.44218598497793, 118.1813456664892, 90.76641326426227, 85.25079398229157, 58.72417771341918, 58.39093128383339, 37.09677791047379, 16.784454226408776, 15.534512730890196, 14.838730281540547, 12.224588825268523, 11.363854637628311, 5668.289368820351, 1795.871265844198, 1741.602185942768, 1296.1195379149503, 1209.099935153172, 808.6227044140135, 805.5451147259157, 634.9830741256226, 478.4900835581475, 455.75503301943905, 419.2869998314802, 360.4833312697793, 336.95449261241816, 332.49233571736005, 328.2986165466376, 320.16723049785253, 299.04148572601343, 290.99521700574087, 255.92217559647602, 244.17538399850056, 227.7771925122673, 205.30901901345075, 200.85784693582409, 191.87624802311, 178.5150084031106, 157.33943177733158, 157.0806382825077, 145.117121638979, 136.69814946825917, 127.5548696497986, 4475.593989108016, 3123.8450702106097, 2777.5962691192035, 1290.1291433281524, 1170.7981805397308, 1118.9701829768503, 877.232948510861, 790.5913519357301, 654.7090084556428, 488.9603335351781, 417.9191560754239, 404.69982443113963, 345.75959772120956, 283.5316197565882, 278.2471660134734, 224.57099048725036, 170.961175764639, 126.7742611560208, 122.3664112984065, 69.8693472036274, 54.0016097087321, 37.746810468813464, 30.74539976038073, 20.024603903330664, 19.047981671172966, 18.76445957515552, 18.196371636658878, 17.95727854717223, 11.643385422375744, 11.390177302166899, 3072.936657181172, 1911.490967568015, 1890.9050515234558, 1497.3919484326002, 1128.2325991494815, 1051.163257537218, 873.7098265055081, 687.3353539807006, 564.8995076186155, 515.9357217094058, 493.1385555542779, 454.2420062001577, 423.4633747819498, 286.7936265493221, 284.6872377129203, 263.9950009085248, 258.9030955767171, 253.40857541969447, 248.6824282813253, 243.32009318713995, 203.56283525265275, 194.44899385518463, 189.84878739792816, 189.76840483910146, 178.21916219655662, 169.55425120117735, 156.69869498656251, 135.63325476436464, 129.2249949685719, 113.71911438819308, 1899.6208659318224, 1795.6346933214497, 1570.6969851529673, 1388.5730172876426, 1383.561741634427, 1284.1546613332403, 1163.3368830533966, 1059.929290116991, 766.6972968051606, 690.70402361476, 685.4402558207141, 462.91613707109127, 429.6034969139544, 401.45408992270677, 336.52009528002645, 319.9374067053414, 245.18463838075854, 209.85301805374982, 206.52842384616133, 193.8601940205966, 180.4174972759366, 176.6958923995428, 156.7876165489236, 147.41408054584906, 131.0226479066434, 127.78978613051142, 103.81817252996996, 86.44006329409632, 79.68755063150081, 79.14218457974847, 7676.488484540545, 1312.8809374562895, 1066.166310967319, 1052.9345454174434, 802.3664939134675, 762.6826856645781, 528.2702335995258, 433.2064459885825, 407.7250295469122, 354.76404066398, 317.1420772362728, 291.4828957438096, 282.92206262519767, 268.5937112742632, 248.70246087852402, 218.13205987311338, 216.72331268325462, 201.71804322009177, 197.3264404823943, 193.54176636555482, 173.90103490840644, 132.58965236154052, 130.33622050742767, 128.82651899608462, 123.31451895173657, 121.60347424214874, 111.67691260925358, 104.75447801618839, 66.06365352951579, 58.37003759863641, 2057.1110707788607, 1825.0977600911779, 1735.9759159839437, 1694.4735827972731, 1310.9648453789603, 971.4014048386497, 697.22254921158, 659.1654283870488, 628.8077040975263, 565.6212422611744, 543.8044712609494, 433.69265548687423, 432.1004588550764, 406.3622259589758, 398.7592585288858, 310.3645052232489, 301.07556350795227, 292.9461434030337, 274.91002826849177, 226.04866119065807, 221.22408351168417, 142.81932791123867, 135.4102740384626, 122.38773099990684, 117.82434746031488, 111.14174769189854, 95.16139710941857, 85.05171776731528, 75.64907762476442, 72.38882581015277, 3706.519418933025, 3317.5783169288316, 1454.2395980566378, 1345.874574678003, 1274.990789165407, 860.639438735297, 734.0209601540042, 726.2888205748995, 507.6444585757754, 451.46529999900906, 404.11962348384867, 371.0243219360372, 260.1744431217543, 236.23245978923595, 234.6192088072551, 175.68007684459826, 159.88876970325362, 158.5482161768584, 152.47977486765484, 138.75292329141234, 135.31644776937583, 120.235608050711, 115.37465400948264, 105.22386561836572, 49.862725400426164, 42.029639004589036, 39.71112727548519, 37.769207075682665, 33.057672868734926, 19.891431363422193, 5693.985359505356, 3380.954300060279, 2022.1457577366386, 1221.094726661719, 650.8669543198693, 519.5058969866011, 469.0910483342361, 402.8408641422351, 336.92811757080966, 309.85639415383656, 196.42622828841007, 192.96338239828515, 188.51515069488653, 173.32084709522306, 171.30066630838488, 153.57012306466078, 146.69233019596757, 136.0758736811185, 116.70062666112294, 95.55712722125284, 77.82842888365285, 75.99108258419143, 69.90380624679499, 64.00285684697302, 60.30427485898287, 42.53201528445754, 40.215765679017004, 38.93730580173307, 31.754895334315993, 27.60697787884481, 4248.468048047956, 1455.2962589919964, 1419.51497169464, 1299.8308847436836, 1205.698017242092, 1051.2585532350156, 700.6412347327064, 640.3281489351839, 633.7742315766582, 441.43241837470936, 399.72276140129753, 389.68369281895525, 305.2665331464605, 294.37763490683557, 293.9581724215044, 266.9244340661489, 236.42574826218748, 184.16722860693656, 164.23755908508633, 128.7914821889361, 112.6530979152844, 110.1266225151994, 100.39408935674669, 88.38520286631616, 76.17260612583244, 73.59450071409603, 50.04692544381547, 44.51612525495336, 42.9470002239761, 36.17107130660228, 5632.552904220881, 2072.0825368046676, 1658.3956206731036, 861.4209814488078, 839.879748081756, 726.8139692662501, 495.66489902459455, 409.28359954332103, 393.80842941497605, 365.5899170349309, 308.6657210498268, 252.31724277258647, 227.53777114660758, 157.91228752207684, 152.19930090019395, 134.1133009686272, 116.4115378036081, 108.02285131122485, 101.57070520783334, 95.64164231922787, 91.10265821406816, 90.16831731650201, 89.60150723911188, 89.1053704343554, 82.47464951967417, 77.49379396083134, 77.32840674744553, 72.50329398795334, 53.95677121659085, 53.54429245993078, 2946.620674259681, 2326.452795956906, 2053.9622364201887, 1267.9612548464277, 641.7051230475, 608.6673730960989, 545.8156270563985, 487.85966339041477, 482.6467030975937, 374.73675654990967, 363.6156664492616, 314.9146704228143, 312.365196891235, 253.22397896810776, 246.24007276332702, 219.33574792592805, 214.4430939640008, 211.3499388787788, 201.2153909530883, 195.3889474530987, 188.80906983757885, 173.34988228391452, 153.81852883178615, 152.10713861093063, 149.7088219918479, 142.74845336148354, 134.37570612281243, 118.36283933973367, 103.92223949131527, 103.22947835681398, 2482.7484199935357, 1809.0565984232758, 1071.9035302300067, 1054.2359818290756, 1046.0788009204232, 940.8570058704079, 714.121062249577, 645.2467456406445, 629.926899904221, 622.7964060275175, 622.235259196929, 591.0738416363506, 398.202905341145, 382.7385168809121, 378.82171977103803, 284.91231858505745, 224.28629075927898, 222.55766852939465, 218.6047033734263, 186.8784817212226, 185.26893084845761, 167.1162451527344, 161.81578967811777, 152.72178355405396, 122.09112195580242, 71.52613023819481, 51.80204812638613, 41.24372970391804, 40.56644056155379, 25.28424357646742, 1498.1476360307659, 1335.7183583927047, 1056.6696945037731, 999.1017765448868, 904.4125948868902, 896.0894102938854, 868.6415642609055, 829.8286641515723, 818.502965485458, 713.4213059811523, 628.8898914141482, 620.4836662593091, 419.3904445391738, 391.2105814134482, 369.80223990002435, 353.2255666252507, 323.0468493220178, 297.17309045258645, 291.08873756733925, 289.7708483083759, 186.42619056402674, 172.4502539825458, 170.8530156273418, 162.16666590019815, 161.0640843392048, 150.6972618260069, 133.7750897311734, 111.97293562333844, 89.31055238020592, 87.11219890740465, 2990.336165454323, 2112.4878847949904, 1556.8009776961367, 955.4442869874938, 853.6900988824067, 647.8898542516054, 568.2999294685868, 509.03951333168976, 475.4056548278361, 396.4969008781043, 390.79046799538787, 383.0873203636374, 364.2321979990491, 351.4870748354309, 319.6236883827626, 277.4659859768265, 270.4795253285437, 229.3648245800215, 218.09169317016418, 190.29392560317126, 184.11654214079473, 176.666909110448, 144.4190482790803, 133.81214199225272, 131.29918955441408, 114.88233125301949, 108.37451902871189, 105.54141501357594, 68.85450145863626, 60.15954524476637, 3881.144136086839, 3878.219878262787, 2847.1252006574723, 591.6374222033212, 567.6239573923682, 412.5201031189396, 382.77513986845, 274.12949386254616, 268.1140868964027, 233.14061225451934, 200.94215334290212, 191.86264142299936, 188.49811942228018, 158.9415307466431, 152.45534577446583, 146.1175948974772, 123.30608345033907, 119.36905483592184, 116.58587198258284, 113.38063660722675, 102.73848708708417, 102.58405637485752, 96.54037737937644, 90.77570346803662, 72.24701234858156, 61.513396595111196, 56.75047063053274, 40.699578502552136, 34.420098583200804, 33.78200149516386, 2363.9040727576894, 1304.967776957155, 1244.6540352981435, 1058.0771587439667, 725.5345608333321, 700.0635998017904, 636.9215658378868, 593.3171130749619, 548.8396519687786, 547.9470346702442, 518.7036511206118, 480.20370575718863, 434.75131387622343, 414.8029849609478, 393.19158334843456, 318.5920557320781, 296.9501057631942, 296.0765614838593, 255.20133166576974, 242.52303868194568, 228.7098695301026, 227.99567165662492, 217.6071497975854, 157.40081603347062, 141.47880147119946, 133.15180501958247, 123.54073725389456, 118.01072025374842, 96.37285285674271, 87.37696877436608, 2040.8245003010243, 1942.6551880812003, 1673.3213501464031, 965.7710007962364, 920.5340134603662, 824.2980844236312, 651.4209759333487, 624.037260996476, 496.3559684096668, 400.02424138640555, 326.7619716271991, 280.47123744212576, 277.33073762363796, 258.3083577580057, 248.71237575620927, 244.48100349341635, 242.71315861099302, 225.5804172815278, 211.1879324028957, 209.38564364894145, 206.93316868999472, 177.92849911670544, 176.9389896228687, 173.16572705195406, 170.14612181225553, 120.15996479564313, 120.1302953221462, 119.07379699355657, 114.35802484711382, 113.15836433331994, 2093.731496214121, 1528.773238941545, 1499.890918382267, 1407.5812519058381, 1251.1657351336582, 1086.6008438285785, 899.1161112243317, 646.5177174591056, 563.9977952740556, 552.4939731945798, 450.3200916898941, 340.2193021059396, 325.22218925025595, 190.09340499188022, 171.2084986567658, 165.77407214112424, 158.51467020176474, 156.45714533443712, 147.10876448034273, 145.95991378857346, 122.76870887332937, 113.933263905809, 92.83452347747851, 92.04402316480268, 74.72865396492034, 70.78078966168273, 59.95988803584318, 56.96306629646345, 54.73681532905269, 52.58805541926982, 3292.6902857787077, 1536.1062507033123, 1339.59773560424, 1326.7307862104724, 819.7317249408934, 658.6607001139979, 602.0231536298052, 537.2762172087029, 424.15537844822177, 388.8759745992083, 346.6199172590059, 329.86679984340833, 319.2072064388082, 296.8617403132861, 256.1699811718265, 204.19479226148354, 186.17114461292047, 179.5259475667093, 176.09038167450316, 163.5877039548009, 160.5743908517791, 132.50873995377628, 118.24967801734073, 99.66240052020672, 90.1936302886778, 87.10577003764587, 86.50107211846499, 79.87971326166004, 73.93781824024002, 66.2927072169395, 1573.4957339124562, 1507.6045226615809, 1337.055436581798, 1206.1391875993686, 957.5740805747412, 931.0677912442559, 929.9141128995813, 839.2366625721355, 802.8960046599908, 719.1045738268316, 422.04514674021806, 320.68320011625303, 279.08014817618084, 248.83820061812386, 246.9447357073976, 241.12727681374727, 230.4850844559053, 178.2826089751155, 166.76149643085722, 164.208428988148, 163.01499603821512, 142.7307748071419, 105.37120081367749, 91.35174151874607, 89.15126188397099, 82.01615751856409, 74.59994415546964, 58.49000146475587, 49.390939370566116, 41.720310030289525, 2340.2989188511556, 1714.3350082796883, 1420.654389433511, 1394.184405668188, 1339.6597545151885, 690.2116199768278, 625.8953494331703, 566.2195192839501, 529.0334176374743, 448.2924170523204, 373.49819781735386, 364.69039486537724, 265.2202681436721, 255.30169697686506, 238.21242942758417, 205.8986107158479, 197.76192618370882, 162.88880573119334, 161.06101723495593, 134.43235870606506, 122.26895617659146, 118.6907422922847, 118.29203623989407, 107.42199979979318, 49.12115774517545, 48.118929709364004, 40.74633767558349, 32.89497307248615, 29.25950712289589, 19.129208197825733, 1929.6852862399069, 1539.3945430878853, 1421.247574187214, 1417.4885186025283, 1372.2349509118305, 1055.854063907182, 838.2324833416917, 813.386855656323, 703.33335991891, 407.7638770811921, 371.7617336567827, 361.6423686851927, 305.41263463161346, 232.50954251709226, 207.07100767166762, 138.70066070768036, 135.67175281263164, 134.19824256351998, 133.61577291082747, 95.69702539824786, 95.28017464816095, 92.1432333256812, 88.63912020447087, 84.41110099316282, 73.8716599473221, 71.25186053116153, 68.1456941767447, 63.98926670943363, 63.19380620547972, 57.40534604621458, 2481.434431217494, 1899.819408529488, 1092.9238718049437, 1017.3048371436728, 827.1167259180868, 800.8701610419412, 778.3700111392843, 697.8430929054905, 554.866218859994, 395.11711768069193, 375.08666233645926, 339.2540880774345, 327.60273512310044, 283.26602084513644, 249.3858952904013, 247.59847775887195, 242.32702736518704, 214.0806361290809, 191.95334658646595, 183.0368896900889, 176.88144921535897, 153.91560798564527, 112.70235068695014, 101.85365816041256, 100.91109491658678, 81.82356829242799, 80.69834897024523, 62.873527865841744, 62.42068787705955, 59.62591711335667, 3216.6464756094865, 1432.0077974693716, 1240.8578635595368, 1023.4910199182519, 685.6630295477971, 578.5087062584089, 550.4489863983888, 517.0842611832644, 459.36013694665587, 431.73274511602364, 430.2724476863625, 328.33388472453646, 312.5023703422121, 289.51628535075395, 277.82277632350156, 276.62277441098354, 261.8957081621047, 258.1028391289517, 236.07955294412983, 186.3189479090888, 167.88159180392583, 163.96818693080618, 148.9660948251266, 135.10608017510904, 123.49845349180028, 111.13423043836649, 101.91966646549749, 71.3728701060204, 65.42683459101447, 65.0165276754584, 5390.170582020302, 1268.9036619741385, 1022.7223329122172, 974.4161482804881, 706.3765962260056, 628.4937020794493, 451.3753796309788, 382.26574691303756, 362.02524831204636, 360.30405188554295, 315.2814232756402, 260.41713189617, 260.03858361835285, 244.36504382003378, 223.90887726876102, 165.35448815334266, 154.0047049227103, 146.44909872798002, 139.78889740010777, 107.7312214559192, 104.25157807788256, 91.59010980893157, 90.1455744389015, 77.00868431004311, 69.79667903177504, 57.739383915555436, 52.78446793008597, 47.796907746936355, 47.14055423647941, 42.61128289342483, 3386.713580110517, 2036.6216683725156, 1918.371674824224, 575.3630415407565, 542.1285998112538, 471.76899225255534, 470.93906892565167, 353.9627130578266, 343.86004717016925, 323.7852857386296, 323.22472660529536, 318.78116400202, 307.2366631129391, 270.4497555259426, 253.35787862670674, 223.37351142274488, 200.8926201661407, 192.49085930047377, 192.3605108138755, 187.4690037802001, 175.42587149106384, 165.26005026041605, 163.24051396113225, 154.76209404564815, 141.24080134000994, 113.12393171208363, 110.09578831571642, 97.65381598464107, 85.60036733678447, 76.88898259520147, 3411.785304757818, 2639.787553775905, 1382.5713847810096, 971.7946927161597, 935.9773984942682, 880.2840182342966, 587.842143956155, 578.3694420947273, 446.9611800948333, 342.7689168212766, 331.6679319350957, 314.61043343615876, 311.99054803926936, 264.9278516974874, 195.4851375423128, 178.5512847396083, 152.76220990051738, 135.75821829493992, 105.72006490323565, 85.72563247989791, 64.78579417095422, 50.17495158418442, 42.98660139173338, 41.552851522206595, 41.27012374001057, 26.175667648437937, 25.3243960953504, 21.15321264321734, 17.009235868307936, 3.5429907800357388, 1987.5105265904263, 1629.005203707869, 1477.088499689988, 1138.796798130915, 1127.1814189933384, 1121.0379577113952, 827.8261008365154, 587.5003998177373, 538.8587127254485, 537.038004391227, 498.88411098903657, 420.20070706217246, 346.3101423454311, 325.42359955944073, 290.3984054009691, 229.5692195903498, 192.6591211348595, 168.38077681140268, 125.70509219090434, 113.17354621226201, 95.19015186258791, 63.37344377759621, 60.87025935224231, 56.94180434112324, 53.17771679629368, 33.07237393392401, 20.895457873881696, 20.190975350994673, 13.795215249232452, 8.838659108524517, 2134.2590443670815, 1315.4940382278717, 1039.7287414253576, 1000.1117148827501, 847.610384500278, 828.2457150735976, 733.4414712548248, 657.9995159131538, 593.3651552844655, 591.0856573866502, 439.57976717984366, 365.7196915094459, 333.1347414754159, 282.3536746463207, 272.13565531375656, 265.43066901253746, 248.8123087809385, 207.7506265635048, 199.03791904808122, 194.56809271776783, 173.48831206930691, 173.4695983863382, 159.60818903299838, 144.3313777450822, 137.5768270422687, 120.46039829119131, 70.50589117450829, 70.27605695024317, 64.90575258569041, 56.16563148464569, 2195.0691902390026, 1435.354356913561, 1317.2236168981644, 1113.6136084387115, 1068.2284425275736, 1035.9986546667365, 853.3650168412131, 710.151364470504, 583.0278587919363, 515.9859750947928, 335.9084558597088, 296.6098703185408, 275.81324885587367, 223.20428333141965, 213.08312436302904, 204.28311603483021, 179.82717698027463, 176.59052375868137, 137.12188027242942, 119.18082475194207, 106.43741755376487, 103.75343823222696, 91.54839883831785, 84.13898051645556, 70.79252523214959, 59.36505891901986, 51.762374905455026, 49.73786766174713, 45.51907284249729, 42.51919127477007, 4106.893633368838, 1322.1695867309395, 959.495322566852, 914.4863248166364, 813.3262646839173, 782.0923228546637, 622.2480424651416, 568.7257733072283, 528.2053111706919, 366.4725632823574, 332.1545107986112, 302.6098872089655, 300.39000267844784, 280.97257610578214, 254.98052111619066, 209.28751208203252, 163.02588101850696, 127.67368145391767, 125.87041165291403, 124.58074336330381, 115.86860304657161, 95.4976767919588, 88.02662511230635, 68.22746224665782, 59.85305762315423, 56.684777221476175, 54.09011842719674, 52.98817692448103, 47.215472197602764, 41.199987817759464, 1944.5173665880657, 1851.8923705045158, 984.3944007661389, 626.0204820759633, 613.5166815743421, 568.002201247294, 560.9039955856425, 542.9868330924592, 512.048726291253, 464.6189292040291, 426.5623136353541, 409.63292151253205, 394.86031318616045, 368.7200501685104, 314.80573806256047, 240.28348799498818, 199.1533220184533, 186.94819990684098, 181.925808341858, 174.73886582883196, 173.96977504264652, 144.56412439508213, 102.9744114678889, 91.71816685726627, 88.0279060407423, 74.82559731524792, 70.8426048341532, 66.61090644572243, 44.81047869954391, 24.443188582426654, 3451.244040761141, 1277.3037676533118, 1214.0782470703261, 835.3743374632376, 752.8518234070883, 648.8376256927068, 601.9274393455908, 523.8510585091313, 489.7331466068313, 394.63498094335233, 358.99532989652016, 335.9675623414114, 299.5427068745862, 299.22157227001964, 237.6887466945752, 236.18731505162586, 204.10533335705912, 167.62243002831653, 161.55800097296708, 143.9296665086243, 137.4930850539121, 119.07542632254872, 104.7142088209723, 97.6651576724138, 91.61106736962206, 90.96047308100337, 75.20860441725615, 65.76740927531753, 55.59176779416388, 54.31803774832379, 5600.814588305295, 4004.4203701620613, 936.70779720461, 528.4280240540254, 269.721406848136, 243.22681229408337, 219.81378750295366, 215.291807579627, 207.92594092934937, 193.4309988225226, 173.08650591009126, 133.88008748691428, 132.1399617078329, 131.58050765294246, 123.84663574935178, 123.29980904812942, 106.79146937387097, 102.98779051833772, 87.1004066231972, 86.10999457759247, 84.67083016508423, 84.25920957920242, 82.48298542360357, 74.40477039860137, 56.98731788514597, 43.72973964892522, 36.94803674616986, 31.08501629144511, 31.040261382676483, 27.141304047476225, 2879.026295659503, 2663.16622680632, 1821.2563554856133, 829.8686536231842, 551.2498577209017, 462.02515059519465, 339.3175918265027, 297.10735953371733, 295.79245173777093, 280.2900540067217, 268.5854507175699, 232.0403878527511, 203.65621629759352, 179.21099917485495, 161.60679708747887, 158.9568867609166, 158.54822941643675, 150.69088453144587, 145.1133949450694, 121.19431207718596, 118.17619610072911, 110.73827359664817, 102.92733567960103, 93.92520507758071, 85.26532672672836, 79.07080733430642, 71.9780077577748, 67.79635005850842, 62.82012916073743, 57.17251502294916, 1734.6678629217054, 1462.482004733009, 1188.6762937551089, 830.3087483150401, 802.9647944532882, 587.3964759661501, 537.3208179153065, 525.4875047542353, 369.7185601079304, 360.6834158924498, 352.3342152201836, 341.2434304011385, 318.5554172323196, 311.0233426653896, 280.1238814646627, 276.58022764183954, 275.4909907962092, 273.35607124859115, 242.44440065247483, 205.36305702540346, 204.2987043510938, 197.52992231094976, 192.35653320624186, 172.7416330695473, 141.97102752823338, 136.21130000390866, 129.77271914579973, 113.6350602910879, 77.99273489359295, 68.62365960791176, 1691.74143092164, 1406.4805968525507, 1211.0164085977071, 1123.3622780162525, 1067.8282569179528, 716.8374127332227, 614.1941020046573, 544.9512883485644, 472.5006113244666, 465.65797929051456, 455.3281241091876, 445.9727040724913, 433.6348837900885, 378.9023360770249, 311.0303031853582, 207.6892085793242, 207.5859841696128, 203.99643944992926, 173.51463786885301, 169.51015728649043, 168.81458946446475, 149.7902185839444, 96.62530438748733, 83.82956771029401, 67.10017530911085, 47.15791631598277, 44.7971504005994, 40.62914681350711, 38.523367487458906, 26.712000586164795, 1390.3724957521206, 1085.6383101187328, 1050.2950127231657, 986.0617734808733, 808.2419768721963, 748.9681100475274, 674.8994864132616, 652.522755646778, 581.828781406567, 559.3348540562288, 416.4102309651149, 387.0753630016522, 353.6207126064411, 344.9388727616158, 341.99102883712146, 292.92643849097726, 264.50260451296896, 232.2242109692864, 216.12251273127174, 182.4656517657134, 153.1930444874235, 152.21940817563532, 145.7526192963445, 143.74094048110456, 133.13694547085655, 122.84663170895281, 102.86848837249303, 83.54441703868545, 69.16915457780452, 57.126525720824596, 2157.163091981994, 1118.8636932520617, 1053.2595618267335, 961.2202746657758, 952.4420376618657, 842.6505073294799, 642.3957568867287, 607.5613196483631, 553.1134159354767, 434.70869605764807, 315.7525923849892, 310.7374374341347, 282.96082171181365, 279.98759796618566, 267.3802326902787, 258.24605422849567, 251.1331351862994, 204.314100854422, 179.93051771020683, 172.0954888016617, 142.2864334647537, 141.7790623255147, 132.36848384190722, 125.80685327010156, 124.96410351641255, 123.62250735194996, 113.86334101010425, 80.94365855661651, 73.79196970301294, 58.4391243857196, 1666.9937181650134, 1479.5147711213028, 1408.7134175711683, 1056.7663619928571, 789.604111511127, 537.2807519034566, 527.6077320599433, 516.6137665183592, 474.9768018423762, 462.60495468122457, 433.4334286172922, 356.073617112816, 322.74162112972203, 312.30279428912553, 306.16260258873007, 282.80252657061067, 271.1487884325734, 178.27979620245446, 173.4257799661412, 139.39140371024234, 127.16186942004062, 121.86934693687456, 112.84576423102818, 110.32625544003331, 108.70537270802355, 66.68022570634022, 59.4303895245728, 52.84372620420128, 51.93000768210895, 30.386757188273695, 3763.4383795398853, 1745.7570259859817, 1183.0410818477194, 1112.6051125972242, 1015.5677099680528, 648.5657113093984, 476.98565834650304, 453.26631614066093, 347.2504451439264, 242.7426025348459, 217.9095231855278, 205.05764241693757, 152.94316541264106, 147.46285230179646, 125.1563276007409, 121.43121695237178, 121.23143967078886, 111.48642475651468, 109.72977521784685, 104.78177749757944, 87.59563430952434, 82.6854826796262, 80.66743733593054, 69.66015468556624, 49.64857167495935, 44.16792203476767, 40.025289521393674, 27.980471750252704, 24.27531897481041, 24.15611523214499, 1558.3612807807558, 1033.2272364112123, 908.3848368481493, 813.871955276662, 773.414973990572, 755.5315530452193, 699.5141324063475, 620.0811195797374, 563.4239222095338, 524.4118196929708, 478.018908411825, 452.73530128767595, 365.7074156303239, 346.50587426354724, 320.1845824535933, 316.0448743436726, 280.53968122189724, 265.4974132489217, 239.19882683013762, 189.9640379364709, 159.50264885800053, 147.03126992231904, 146.19490100384868, 140.01049995506892, 115.37449299195154, 87.33152329683203, 84.92317506955264, 77.63242297171968, 73.60069295284396, 44.792811908981896, 1834.832979496611, 1347.6757307948967, 1327.3792133542752, 1022.1290278170987, 953.7618055641584, 782.9626690086665, 693.1631481901785, 649.8237809032868, 457.11373780774426, 391.46758232063553, 301.38944652467495, 273.31023252038057, 265.5766014028077, 264.9911474894595, 234.03340954629843, 187.26617721515765, 185.6020563816592, 183.03025144683346, 175.80156000433206, 156.61303948029342, 140.24476934927833, 127.86756415766737, 112.13132146909301, 103.56782202219172, 88.93183398399078, 70.88675023365158, 69.26272661017872, 65.97260327793694, 49.332777490489754, 43.13319446894115, 1382.8928654968822, 1079.1071071042804, 1014.1240613638477, 971.1430360262955, 938.3058048478099, 715.8774094154892, 596.5604436128309, 547.7169656803936, 545.4437458711296, 495.3078417143083, 467.92234483562277, 455.9543842897383, 416.62052037470824, 386.82970722706125, 335.1728835138158, 261.9792787627991, 238.70123105112762, 218.54291730137234, 197.82376596265158, 177.09926367907005, 169.35840315431295, 115.51581164109541, 92.8674716395578, 80.94305740240974, 75.02699552785587, 65.01721458485483, 49.679729452035716, 48.624861220015816, 45.49744026641531, 39.02271379232014, 2713.739965140327, 1038.3404146609869, 1016.6621556221089, 773.203601637598, 773.0415894510885, 666.2626765207074, 556.600528439129, 556.4359190710468, 504.8046246715444, 494.855497333463, 402.58397317590436, 383.6122630258281, 353.135609888317, 306.23606865261684, 266.5477319127973, 221.06682319577678, 190.61980390001102, 173.37123282211408, 163.30336234252556, 142.56939956578404, 132.5996765778306, 105.74226738447081, 94.75396224844576, 70.60756909619279, 67.55542624141022, 60.79328093241582, 55.279873509518154, 45.18798883981239, 25.487329360944642, 19.11745586374782, 1812.7616236602887, 1390.9590346223306, 1185.3444054619044, 1045.9225142024952, 715.4206053321083, 713.7357356456578, 409.2983146422724, 394.01078974510324, 393.2609338609049, 352.84292438138175, 351.25819958064045, 326.73350734702706, 320.8643174553525, 274.4132846786333, 248.11409762023348, 233.50646969615914, 222.43391737156054, 191.40938157338226, 176.29482360623962, 175.35180339527219, 165.35454544504228, 158.62072818889786, 137.62231486945666, 128.8167292377515, 128.17291292529063, 121.91723891583086, 93.84117324752543, 87.39549601765012, 85.83943493743041, 63.6885975441289, 2725.8914690389684, 2386.1169428328026, 763.1100269587027, 707.5106345412023, 592.3380951139928, 529.6702225225185, 429.10210025298045, 416.6321675375823, 307.0373478864374, 274.54344706187123, 273.3321866144101, 270.18678035741453, 260.72072228143657, 226.28772806497932, 190.92396030446608, 183.19396529775722, 165.66628320388347, 155.23865096104268, 148.59163815250193, 147.72490119252552, 129.51083817842377, 115.06380797349715, 98.97031592848636, 88.60063833234605, 81.74102047574142, 79.45485289976186, 79.01678678004883, 78.86699423804613, 72.79011339070432, 67.3957810098996, 2110.313267338552, 1745.347123436681, 926.3550147320445, 816.2402841329895, 782.6748000619825, 646.4869493793996, 598.6991827762794, 561.0343983392534, 413.7862343478358, 368.2436730989448, 307.5890456240686, 298.7372231697189, 296.01059031466764, 223.89028261867946, 217.15729814504803, 199.78625543375355, 199.33647087512585, 194.3673920019431, 192.66767928987818, 164.05924032073898, 163.71856451030743, 119.596320418886, 118.70776309661302, 110.18538748774174, 98.77415305574249, 66.28502084545333, 52.85851295932829, 24.316535985398552, 23.034088225694305, 20.883032441094652, 4158.1323461712855, 822.1815604637944, 598.2636696140626, 521.5661598533737, 519.6204199067867, 451.9890553803176, 434.5572333228454, 393.0898688288723, 341.04789801755805, 313.07999261382815, 285.382560086125, 270.7452775890948, 243.06583767436817, 235.66158559386992, 207.14489280563274, 183.7589243015038, 176.4810011736103, 131.6011054249745, 124.69175171113379, 110.94023108578688, 101.79271939831493, 100.36212902452819, 88.92714463117326, 86.70238595183194, 82.60758826315148, 65.3576908097341, 61.38145022919569, 57.086532303873454, 56.8953132082775, 49.92477763151777, 1454.789517196025, 1344.3192549335058, 1317.9398993137204, 1316.3932145882336, 1078.611791677428, 551.2352080556058, 543.8237430745229, 526.1332608343264, 458.0873535602714, 381.9309505869823, 348.5721651056684, 273.2850204019874, 230.96329819079295, 226.5122437147945, 225.94993138492316, 212.03831532124437, 189.20202111974905, 175.90742980420285, 130.2546536626119, 126.85792227364759, 102.20142511552056, 67.7187480657302, 58.305956459362704, 56.42099710754893, 53.24203768481086, 29.17669404543018, 25.179593804558994, 19.986865568656945, 17.93858664077946, 14.06834251764957, 1205.625271679578, 942.4740892184954, 875.4523215721778, 849.2950868941133, 643.6250073969617, 559.2871953654908, 523.3711445346466, 519.9933915864075, 512.7096609285061, 441.91248798546223, 405.0268428953658, 369.5709078234098, 352.21339004989056, 267.0835545202925, 257.7099897144755, 246.5390999873572, 231.54638565041424, 191.26853586127507, 179.6650466053043, 168.29071048644855, 167.1303000383731, 165.39669310350268, 149.19827088587388, 131.33271013648604, 105.36816144805832, 101.87896837133584, 95.52974003354859, 73.78515686429026, 70.2435852383283, 61.61797091598011, 2151.9541728083645, 721.4076234371832, 662.7884417751685, 585.3932482387072, 576.171449799108, 564.0776372934226, 559.0283336156044, 455.7415783064165, 394.4398095398932, 390.4895445963639, 381.8145240060911, 313.53997882138935, 294.3514281135547, 269.9895140868182, 257.2667020365531, 256.24487874758904, 248.9296986735911, 223.0739673467808, 210.84295975377088, 150.06437986369696, 139.528667291095, 135.26538061096898, 130.3720692969923, 121.44939429061701, 120.72799367592972, 111.99470987220415, 111.56777211045026, 91.691088510667, 74.49620531897489, 74.22009871577909, 2406.747468955304, 1410.5876981684999, 855.4152201472415, 770.54380736142, 706.6092268818126, 614.6723890577915, 515.2580158714402, 507.2528578959572, 468.4605019868705, 310.274860270236, 278.3015231092513, 186.6985305154454, 144.1595551244967, 142.9408475934933, 140.29865343073496, 138.84525408241603, 127.73971546017148, 118.59729945286124, 103.25705364423526, 83.65711973720106, 79.2878168223293, 72.80809817915782, 69.49791465872451, 61.68834469371903, 60.99278206522202, 56.28114408878132, 50.48498620012804, 48.28611987949791, 43.38130518862098, 38.93598465719282, 1040.1999440508496, 957.1047389626597, 851.3057892079328, 689.8438022096182, 651.3436837087961, 614.0611383004301, 450.8879229115888, 424.8814579620824, 422.48943157996246, 376.30443400684294, 361.61050201685634, 318.3465388634113, 316.1630776060633, 293.2641253307099, 280.8907581580663, 244.761656018556, 229.09317524441326, 198.85879301057344, 188.71411477365865, 164.6141545585689, 163.08128222799903, 160.74055512242137, 123.37382070483055, 120.19280732538606, 103.18505801110761, 101.11803396831426, 82.59251112795067, 79.21956651152779, 77.10709140136474, 65.08495472652109, 2014.6583388916422, 1122.4946053753395, 896.3842150461279, 675.8371392208971, 533.5668339899067, 520.0807091213175, 507.8911637039676, 305.0825752364494, 262.863474481026, 259.3288255551197, 248.79155876194403, 233.78734274950537, 202.73186946505405, 164.1902722072556, 154.79663683415058, 148.8257186036235, 142.2646106470721, 127.75784866040411, 121.03018229047004, 106.54563244757539, 104.72663208543194, 99.37752322088886, 92.90147470902238, 92.51521206178762, 91.93854561153118, 90.98909623658479, 83.36444034891015, 72.64283998318024, 63.527591367881435, 60.09452489066797, 1374.6403708184102, 1209.0238195097063, 1206.8058162984435, 715.1415894597585, 488.71373756575355, 432.93038085405794, 424.7735326364037, 317.1660563808112, 316.64157796469163, 286.7024888854792, 279.40455600718377, 272.2906472500615, 213.1319963135216, 199.24353707294821, 197.92328273916866, 181.66892188701547, 177.67649246706776, 174.01796270502828, 168.42903860871544, 158.3744832795257, 104.04490208166912, 94.89384436900433, 88.13552467120263, 81.16745121552628, 80.28572359021334, 61.03708096799921, 60.458580522847846, 52.74570688411653, 47.27289119848551, 36.40290947215454, 3848.942600015824, 1376.9626134069356, 681.9049628087971, 299.1943250428396, 247.89723215874304, 222.29447129661614, 205.8415960071978, 182.08984158490244, 175.23662351920188, 173.9450464590862, 173.69378438732167, 163.56345079079995, 158.759253366124, 138.4145089237637, 126.90619168697083, 124.68961732494952, 122.98146948324275, 111.507628450852, 104.91812014795813, 102.2197959007008, 100.70735400926559, 95.49253033961816, 75.99651078914944, 74.13778382968336, 73.8601402416796, 73.36225367991051, 69.42585320211408, 61.32277523222065, 60.77248399656368, 58.76224513300701, 1471.756920185215, 987.8899680010898, 890.0916858381884, 730.5304175696264, 604.8792246036493, 600.9374454341212, 438.3641896652552, 270.7499751882437, 254.16394809973704, 239.85206952345663, 227.89389306926927, 211.56884877212414, 200.60425258504952, 191.90874553536864, 188.72554879073164, 175.1898795012589, 173.58682670431955, 157.60880492693806, 152.0047580374306, 139.0249319045596, 127.00050799631502, 118.12229680268159, 104.58292405083144, 90.28430103661226, 82.19719392929349, 70.26244238058077, 61.46177116563078, 53.30595268871133, 48.25310444970934, 42.19413881275958], \"Total\": [27454.0, 14917.0, 8629.0, 7678.0, 5602.0, 5695.0, 5634.0, 5392.0, 5670.0, 5664.0, 4951.0, 5150.0, 4854.0, 4160.0, 4477.0, 3850.0, 4108.0, 4250.0, 4006.0, 4331.0, 3765.0, 3883.0, 3880.0, 3708.0, 3453.0, 3413.0, 3388.0, 3294.0, 3382.0, 3218.0, 27454.80739531692, 1026.173654555648, 437.81295589658083, 293.05701936993455, 290.29775518011087, 287.1854094384204, 286.4908514869316, 265.3247845881279, 241.87084817856393, 207.6242566924152, 197.62078313564413, 167.99488555065966, 152.58444337010516, 112.83297653220241, 103.21449670432436, 102.60571962642474, 95.7225532466724, 81.5904591740434, 71.9407546837628, 71.38136825716279, 68.25628285265051, 67.13493356404324, 58.92979860274233, 56.38679889239095, 55.77257636600199, 34.36579449168788, 31.367870888818867, 27.358159026825046, 22.161759582481054, 17.818943715350827, 5664.643965699963, 5150.923650032786, 2588.9180895028467, 1538.2804668873814, 1432.2790359191372, 1383.7663606144652, 1068.4716577029583, 967.5015325229424, 726.4685003311051, 651.7543919598444, 589.9923587188073, 486.58275600002986, 478.29517172789093, 370.7631433893766, 332.6725352470399, 305.38429492802993, 282.4951019258377, 244.05847152116277, 241.3984415762976, 211.38344294767938, 196.2979178422983, 149.57360790172996, 121.39169432379039, 97.83606552031593, 87.84430983323834, 75.38584557675489, 24.847712829266182, 24.4652923828105, 21.94241921455064, 9.509240495630772, 8629.97134039026, 3298.593076228264, 3175.48361300724, 1530.1941503289822, 1126.1491554108509, 1088.3603061011681, 992.9906438010539, 935.687934856784, 828.2120487266563, 460.0498871668766, 426.90279114163576, 391.23198889620323, 364.58933095817696, 221.61130243533205, 200.98926868042966, 197.24605952549518, 158.80839333752485, 151.95028851273113, 76.00595517805124, 48.84637697409583, 34.9371473229231, 24.089755279326564, 23.997001199889798, 16.023680045764003, 14.780658899957436, 8.208670762056563, 3.4438297992243547, 2.1028927662121606, 2.022098850914726, 2.021971138126915, 4.022972909856359, 53.886884160219054, 14917.361198143086, 1234.8424711145933, 1230.6361162870937, 1110.5862808423508, 629.5990896086946, 500.7552396295509, 368.92865834330325, 344.85559919896053, 261.7194727990343, 235.65023023970886, 213.9345944643267, 209.90787376202587, 186.00297070781872, 179.9604591834401, 154.90940786137918, 131.10406458027353, 101.09707707613948, 93.68068867164132, 90.70792937778656, 87.71257634324758, 80.3113211135421, 78.44808802774598, 73.75165927007387, 71.87306416655436, 69.66397757048684, 62.044892789018, 57.67548454960414, 55.45804453859683, 53.80772495478819, 47.974204136718846, 4331.332168541045, 3408.9862946172593, 1620.723550622276, 1480.025521282369, 1425.381736860933, 1071.9127135927365, 791.6770482529013, 778.2395766887556, 709.2727875880885, 579.6188511917771, 556.1314854799596, 496.3076263088416, 420.3066023423176, 327.19119439736977, 321.07969835858495, 313.6752709840892, 278.23099570210434, 203.27539625182467, 200.54233806360222, 190.1174160795267, 182.2368797100674, 167.76956715913798, 147.52426955111622, 141.9199306504951, 119.6815627377717, 94.84322776305608, 93.69235430266829, 76.49706508740941, 69.87409177788045, 60.687779969016724, 4951.02728703874, 4854.80777888635, 3445.2007136825578, 1278.714019970806, 1156.1325222456585, 820.2829193470493, 606.046034597661, 517.836711349505, 414.574331163517, 412.78585472944894, 393.2562315667217, 371.0634059437842, 330.411607222028, 328.5436898252973, 288.0490872587105, 212.36881866776233, 160.47700340351744, 152.87620996630397, 130.44603006600562, 120.1851765172687, 92.77024456249865, 87.25462483307108, 60.728012229824884, 60.39476213461297, 39.10060876125337, 18.78828561879456, 17.538343581669785, 16.842561132320135, 14.228419676048112, 13.367707048296024, 5670.282937498454, 1797.8649318945563, 1743.5956994317464, 1298.1130512945617, 1211.0934629544674, 810.616217804455, 807.5386451120012, 636.9766135782734, 480.4835997766818, 457.74854704262304, 421.2805142759831, 362.47684570226, 338.9480057708017, 334.4858552027157, 330.29213175790676, 322.16074365623604, 301.03499935435246, 292.9887301641244, 257.91568948144, 246.16889938181308, 229.77071063651402, 207.30253217183423, 202.85136009420756, 193.8697611814935, 180.5085215614941, 159.33295122140598, 159.07415173473967, 147.11063479736248, 138.69166262664265, 129.54838309400935, 4477.594835685837, 3125.8459187183053, 2779.597116613542, 1292.1300424015947, 1172.799106533364, 1120.9710295546704, 879.2338146674232, 792.5921985135508, 656.7098550334634, 490.9611801129988, 419.92000467682385, 406.70067100896034, 347.76044429903027, 285.5324663344089, 280.2480125912941, 226.57185215332854, 172.96202234245965, 128.77510773384145, 124.36725787622709, 71.87020133447204, 56.00246354877008, 39.7476570466341, 32.74624824145588, 22.025450481151317, 21.04882824899362, 20.765306152976173, 20.19721821447953, 19.958125124992883, 13.644232000196396, 13.391023879987552, 3074.9297773950775, 1913.4838432500985, 1892.8979276097086, 1499.3848315240116, 1130.2254739761522, 1053.156138773534, 875.7027010845903, 689.3283687006085, 566.8923907570972, 517.928593465595, 495.1314273104671, 456.2348817225779, 425.4562483413863, 288.7865019826395, 286.6801094691095, 265.98787266471396, 260.89596733290625, 255.40144742650125, 250.67533719842748, 245.31296517322454, 205.5557070088419, 196.44186561137377, 191.8416591541173, 191.7612774045964, 180.21203395274577, 171.54712589942713, 158.69156674275166, 137.62612652055378, 131.21786672476105, 115.71198614438215, 1901.6150216140672, 1797.6288178444204, 1572.6911093996698, 1390.5672945918302, 1385.555869809891, 1286.1487887997143, 1165.3310505012234, 1061.9234146272934, 768.691421337054, 692.6981909560593, 687.4343800674174, 464.91026131779444, 431.5976233989275, 403.4482151848678, 338.5142195267296, 321.9315344742824, 247.17876262746165, 211.84714230045293, 208.52254809286444, 195.8543182672997, 182.4116215226397, 178.69001713202638, 158.78174079562672, 149.40820536456454, 133.01677215334652, 129.78391037721454, 105.81229677667301, 88.43418754079937, 81.68167487820386, 81.13630882645153, 7678.48903124816, 1314.8814312803531, 1068.1667131332706, 1054.9349275596308, 804.3668760556556, 764.6831261443951, 530.2706239793597, 435.2068283415736, 409.7254116891002, 356.764422806168, 319.14245937846084, 293.4832866063974, 284.9224447673857, 270.59409341645124, 250.70284440044284, 220.132477477364, 218.72369798440522, 203.71842536227976, 199.3268226245823, 195.54214894216568, 175.9014172951638, 134.5900350129099, 132.33660264961566, 130.8269011382726, 125.3149010939245, 123.60385638433667, 113.67729475144151, 106.75486015837632, 68.06403567170372, 60.37041974082439, 2059.1010796251294, 1827.0877693374562, 1737.96593396315, 1696.463602023299, 1312.954848929847, 973.3914104972769, 699.212554734359, 661.1555507605838, 630.7977181655524, 567.6112500424144, 545.7944764300154, 435.6826600446671, 434.0904648026866, 408.35222950986304, 400.7492620797731, 312.35450877413615, 303.0655672935517, 294.93615336223513, 276.900031819379, 228.0386655151759, 223.21408706257142, 144.80933239900585, 137.40027842845709, 124.37774127377008, 119.81435341104459, 113.13175153961278, 97.15140066030577, 87.04172602648813, 77.63908117565161, 74.37882936103996, 3708.5136399892, 3319.572552805187, 1456.2338218159439, 1347.8688145017559, 1276.985010480867, 862.6336592890807, 736.015180707788, 728.2830411286833, 509.6386884103976, 453.4595213951984, 406.11384403763236, 373.0185430375966, 262.16866367553797, 238.22713087108303, 236.61343016575532, 177.67429778833142, 161.882995045223, 160.54243673064215, 154.47401929161614, 140.7471438451961, 137.31066832315958, 122.2298311121046, 117.3688849555436, 107.21808958414145, 51.85694595420988, 44.023860425117064, 41.70534806630356, 39.76342762946638, 35.05189342251864, 21.885652298161375, 5695.982061808913, 3382.9509940334233, 2024.1424498177907, 1223.09141784036, 652.8636535301606, 521.5025867809378, 471.0877381285728, 404.837556537416, 338.9248077668382, 311.85308394817326, 198.4229180827468, 194.96007219262188, 190.51184048922326, 175.31753689188957, 173.297356347291, 155.5668138906359, 148.6890212426815, 138.07256347545524, 118.69731710665046, 97.55381701558949, 79.82511887098191, 77.98777282670054, 71.9004967712102, 65.99955073341306, 62.30096569208908, 44.52870982283383, 42.21245547335369, 40.93399559606976, 33.751585128652685, 29.603667673181505, 4250.460844900963, 1457.2891645437192, 1421.5078216027784, 1301.8236964227588, 1207.6908220054977, 1053.2513491949542, 702.6340323210674, 642.320944489676, 635.7670493994983, 443.4252141718028, 401.7155569557895, 391.67648850091746, 307.2593305720964, 296.3704367276783, 295.9509679759964, 268.91722962064085, 238.4185471806588, 186.16003254329053, 166.23065106449124, 130.78429629514991, 114.6458948471939, 112.11942022843894, 102.38688511189714, 90.37799867655167, 78.1654066430834, 75.58729681832989, 52.03972124186021, 46.5089209190697, 44.939797580829065, 38.16386724472243, 5634.544747047042, 2074.070382097338, 1660.3834770220801, 863.4088034024071, 841.8676512873293, 728.8017912198494, 497.65272097819377, 411.27142149692025, 395.7962664868344, 367.5777403316898, 310.653543003426, 254.30510285892936, 229.52559343890752, 159.90011907439205, 154.1871238890541, 136.10112292222644, 118.39936001786103, 110.01067326482405, 103.55852744416451, 97.62948471171671, 93.09048016766735, 92.1561392701012, 91.58933275367588, 91.09319238795459, 84.46247147327337, 79.48161591443053, 79.31622870104472, 74.49111767832323, 55.944593408513214, 55.53211441353, 2948.612430426798, 2328.44458978739, 2055.9539457370824, 1269.9529678095423, 643.6968177678807, 610.6590700030771, 547.8073344349175, 489.8513581107953, 484.6383978179742, 376.7284512702902, 365.6073611696421, 316.9063651431948, 314.3568916116155, 255.21567428153423, 248.23176748370756, 221.32744264630858, 216.43479354372246, 213.34163359915934, 203.20708567346884, 197.38064812749357, 190.80076455795938, 175.34157721840467, 155.8103046611664, 154.09883333131117, 151.70051671222845, 144.74015316467538, 136.36741481706738, 120.35453695885458, 105.91393421169575, 105.22117421146622, 2484.73281362553, 1811.0404552887946, 1073.887445429968, 1056.2200137909128, 1048.0626542392176, 942.8409048795413, 716.1049288757239, 647.2306123995985, 631.9107537142975, 624.780259603658, 624.219113842157, 593.0577039007469, 400.1867586599398, 384.72237019970686, 380.8056943829278, 286.8961734532784, 226.27014427106613, 224.5417635805908, 220.58855669222106, 188.8623366398083, 187.25278912609608, 169.10009870425483, 163.79964299691252, 154.7056370658411, 124.07497549478724, 73.50998355698952, 53.78590144518088, 43.22758651931278, 42.55029388034854, 27.268098309745955, 1500.1379845101853, 1337.708760604262, 1058.6600469799878, 1001.0921271935689, 906.4029431229259, 898.0797730210274, 870.6332692150738, 831.8190123876079, 820.4936524484118, 715.4116542171879, 630.8802465836952, 622.4740152841906, 421.38079277520944, 393.20093003536107, 371.79258813606, 355.2159148612863, 325.03719781271326, 299.1634418411066, 293.07908793645544, 291.7612012147032, 188.41653905457446, 174.44060221858135, 172.84336386337733, 164.15701927335672, 163.05443257524036, 152.68761259276204, 135.7654386041191, 113.96330975936309, 91.30090114737696, 89.10254714344015, 2992.322502819064, 2114.4740220285785, 1558.7871000528567, 957.4304083002637, 855.676205242374, 649.8759575731871, 570.2860335882626, 511.02561826359783, 477.39175766826946, 398.4830091608324, 392.77657083582125, 385.07342654785333, 366.21830355082955, 353.4731806623115, 321.609791223196, 279.45208969566687, 272.46562816897705, 231.35093084285634, 220.0777960105975, 192.28002873937757, 186.10264498122805, 178.6530119508813, 146.40515111951362, 135.79824483268604, 133.2852932191482, 116.86843409345276, 110.36062186914516, 107.52751785400922, 70.84060429906954, 62.145648085199674, 3883.139492720516, 3880.213907679112, 2849.119226972211, 593.6314472552746, 569.6179862672137, 414.5141293026042, 384.76922295463373, 276.1235189144995, 270.10811194835605, 235.13463989297924, 202.93617839485543, 193.85666647495268, 190.4921444742335, 160.93555579859643, 154.44937398190297, 148.11162018692573, 125.30010850229235, 121.36307988787512, 118.57989703453612, 115.37466165918002, 104.73251458226093, 104.5780814268108, 98.53440265008297, 92.76972891758678, 74.24103740053484, 63.50742164706449, 58.74449568248603, 42.69360355450543, 36.4141236351541, 35.776026547117155, 2365.8995779535053, 1306.9632673646338, 1246.6495257056224, 1060.0726500734681, 727.5300514083773, 702.0590902092698, 638.9170562453662, 595.3126034824413, 550.8351423762581, 549.9425277031977, 520.6991430619581, 482.1991965142727, 436.74680428370283, 416.7987369649496, 395.18707375591396, 320.5875461395575, 298.9456033131519, 298.0720518913387, 257.19682207324917, 244.51852908942502, 230.7053601871004, 229.99116315275677, 219.6026604882883, 159.39630644094996, 143.4742918786788, 135.14729811551962, 125.53623217540236, 120.00621133026807, 98.36834326422202, 89.37245918184539, 2042.811683392224, 1944.642522598831, 1675.3085788531428, 967.7581848178118, 922.5212598058039, 826.2852768195066, 653.4081590245488, 626.024444595279, 498.3431515008669, 402.0114265005095, 328.7491638707381, 282.45842053332586, 279.31792071483807, 260.2955420634589, 250.69955884740932, 246.4681865846164, 244.7003420685685, 227.56760037272784, 213.17512567140466, 211.37282843106723, 208.92035178119477, 179.91568297993223, 178.92617271406874, 175.1529761950647, 172.13330490345558, 122.14714788684316, 122.11747841334622, 121.0609800847566, 116.34520793831385, 115.14554742451996, 2095.7204664176984, 1530.762114947349, 1501.8797775722207, 1409.5701183561696, 1253.1545892938827, 1088.5897148399695, 901.1050232206103, 648.506572584705, 565.9866484203169, 554.482826340841, 452.30895135187325, 342.20815695403746, 327.21104795816433, 192.08228083922896, 173.19735180302706, 167.76292554473116, 160.503523348026, 158.44599848069836, 149.09761762660398, 147.94876701427575, 124.75756201959058, 115.922117153177, 94.82337750362966, 94.03287681821679, 76.7175098165088, 72.76964301733113, 61.94874118210439, 58.95191959438485, 56.7256684753139, 54.576908565531035, 3294.6817303848825, 1538.0977130146214, 1341.5891865112394, 1328.7222442877007, 821.7231693048752, 660.6521499194533, 604.014597993787, 539.2676618911562, 426.1468232884868, 390.86742358900585, 348.6113616229879, 331.85825185055836, 321.1986508027902, 298.8531849031003, 258.1614255358085, 206.18624274090888, 188.16258944065356, 181.5173919306912, 178.08182603848505, 165.57914831878279, 162.56583593566648, 134.5001849108648, 120.24112293557576, 101.65384488418857, 92.18507602817262, 89.09721517884603, 88.49251648244685, 81.87116014882233, 75.92929088526242, 68.2842665580205, 1575.4795107372986, 1509.5884575764078, 1339.0392156302496, 1208.122964424211, 959.557859400375, 933.0515680690987, 931.8979258771564, 841.2204451604888, 804.8797817847699, 721.0883506516744, 424.02893041177356, 322.6669769410959, 281.06392500102373, 250.82197765301973, 248.9285125322404, 243.11105363859008, 232.46886128074811, 180.26638627782677, 168.74527325570003, 166.1922061087638, 164.9989683932895, 144.7145728409575, 107.35497776030043, 93.33551890214169, 91.13504397183, 83.99993434340685, 76.5837224580631, 60.473778289598656, 51.374716419608475, 43.704088370823136, 2342.2811084278655, 1716.3171057098798, 1422.636450948179, 1396.1664667705518, 1341.641826048902, 692.1936804187292, 627.8774125785858, 568.2016206614429, 531.0154943252862, 450.2744774942218, 375.4804225700706, 366.6724744990904, 267.2023323787466, 257.2837589316053, 240.1944910157526, 207.8807056095616, 199.7439871101312, 164.87087000074217, 163.04307814647473, 136.41441914796638, 124.25102203390674, 120.67280284578803, 120.27409775120385, 109.40406024169447, 51.103218187076756, 50.10099015126531, 42.72840125258424, 34.877033514387456, 31.24156756479721, 21.111268639727054, 1931.6775130390724, 1541.3867239819494, 1423.2396331893938, 1419.4805775895652, 1374.2270096359389, 1057.8461226312904, 840.2245430118711, 815.3789179948387, 705.3254186430187, 409.75594725860304, 373.75379264766684, 363.63446598027343, 307.4046940933656, 234.5016016331899, 209.06306639577625, 140.692719431789, 137.66381153674027, 136.1903012876286, 135.6078316349361, 97.68908412235643, 97.27223337226953, 94.13529204978977, 90.63117945893909, 86.40316632653929, 75.86371867143068, 73.2439192552701, 70.13779335786788, 65.98132594038863, 65.18586492958829, 59.39740477032317, 2483.4229183223447, 1901.8079991285906, 1094.9123609900662, 1019.2933796248075, 829.1052125542275, 802.8586476780819, 780.3585158548303, 699.8315806423915, 556.8547059108259, 397.1056046254033, 377.0751498938172, 341.24261035156815, 329.5912268021775, 285.25451096220166, 251.37438223012967, 249.58696813156166, 244.31551432234636, 216.0691287971352, 193.94183961166848, 185.02537632622963, 178.86995116814765, 155.904094621786, 114.6908373230908, 103.84214479655323, 102.89958155272744, 83.81208349692082, 82.68684273260507, 64.8620147465518, 64.40917472151757, 61.61440374949734, 3218.6359365271696, 1433.9970584797115, 1242.8471228780375, 1025.4802769585629, 687.6522868050121, 580.4979632987202, 552.4382434387, 519.0735184437658, 461.3493939869672, 433.72200215633495, 432.2617047266738, 330.3231417648478, 314.4916273825234, 291.50554239106526, 279.81203358504126, 278.61203145129485, 263.8849701220844, 260.092096169263, 238.0688099844411, 188.30820523213202, 169.87084970587387, 165.95744397111744, 150.95535186543785, 137.0954033037125, 125.48771053211148, 113.12348747867769, 103.90892350580869, 73.3621277075492, 67.41609163132567, 67.00578471576961, 5392.162459445685, 1270.895501927935, 1024.7141728660138, 976.4079971390153, 708.3684457674166, 630.4855420332462, 453.36722178936856, 384.25758816870086, 364.0170882658433, 362.2959022095353, 317.27326520439044, 262.40899398645394, 262.030427906316, 246.3570240568857, 225.9007172225579, 167.34633099825137, 155.99654701573016, 148.44093868177688, 141.78073735390464, 109.723061409716, 106.24341936158089, 93.58195060512386, 92.1374143926983, 79.0005242638399, 71.78851898557184, 59.73122410215778, 54.77630788388279, 49.788747700733175, 49.132394414558604, 44.60312284722165, 3388.7036782621412, 2038.61176652414, 1920.36182736358, 577.3531396923813, 544.1186979628786, 473.75909623710396, 472.92916707727653, 355.95284551795646, 345.85014557225475, 325.77538706311327, 325.2148247569202, 320.77126215364484, 309.22680736646356, 272.43985367756744, 255.34797677833157, 225.3636099540599, 202.88274250076964, 194.48104620515412, 194.35060896550033, 189.45910213322787, 177.41596964268868, 167.25014864787698, 165.2306121127571, 156.752192197273, 143.23089965177348, 115.11402986370838, 112.0858898540787, 99.64391413626582, 87.59046548840922, 78.87908097963174, 3413.782713275352, 2641.784941353622, 1384.5687804872455, 973.7920748059706, 937.9748013990462, 882.2814004928329, 589.8395269731053, 580.3668252233888, 448.9585717069463, 344.7662991812703, 333.66531402490654, 316.60781576949995, 313.9879316805513, 266.9252337872983, 197.48251963212365, 180.54866682941915, 154.75959223007985, 137.75560038475078, 107.71747303227218, 87.7230145697087, 66.783176260765, 52.17233367399522, 44.98398371168701, 43.550233612017394, 43.26750986356414, 28.17304973824875, 27.32177924288642, 23.150594733028154, 19.00661795811875, 5.540372869846547, 1989.498241025552, 1630.9929227278735, 1479.0762079159197, 1140.7845103778, 1129.1691461252665, 1123.0256746584541, 829.8138097051838, 589.4881534391077, 540.84642458672, 539.0257150481696, 500.87181975143056, 422.18841483581383, 348.297850378323, 327.41130645029943, 292.3861172783799, 231.55692624025897, 194.64683314461578, 170.36848370588123, 127.69279884081347, 115.16125286217114, 97.17785851249704, 65.3611507756789, 62.85796600215144, 58.929514037032945, 55.165423446202816, 35.06009084264365, 22.883164523790846, 22.178682370404434, 15.7829218991416, 10.826366076905147, 2136.24381288534, 1317.478809450218, 1041.7135164167976, 1002.0964851078164, 849.5951729305917, 830.2304998188857, 735.4262400728497, 659.984286014593, 595.3499286101782, 593.0704262080757, 441.56453569810276, 367.704460027705, 335.1195158662175, 284.3384431645798, 274.12042383201566, 267.4154403722674, 250.79707729919753, 209.7353950817638, 201.02268756634024, 196.5528722264612, 175.4730865067409, 175.4543669045972, 161.5929575512574, 146.31614648934436, 139.56159771212984, 122.44516680945027, 72.49065969276725, 72.26082546850213, 66.89052110394937, 58.15040000290467, 2197.057244008432, 1437.3424219313415, 1319.2117812184777, 1115.6016650430345, 1070.2164988879786, 1037.986712474781, 855.3530699471908, 712.1394175764816, 585.0159245862061, 517.9740288801413, 337.8965089656865, 298.5982696029894, 277.80130220642076, 225.1923755485745, 215.0711774690067, 206.27116914080787, 181.81523698938364, 178.57857933396716, 139.1099427905568, 121.1688795883969, 108.42547065974246, 105.74149133820454, 93.53645268698791, 86.12703362243315, 72.78057909904102, 61.353112024997465, 53.75042801143263, 51.725920993478894, 47.507125948474894, 44.50724438074768, 4108.887131671894, 1324.163063767252, 961.4887996031646, 916.4798157406882, 815.3197419447116, 784.0857998909763, 624.2415213258816, 570.7192503435409, 530.1987917750265, 368.46604297633405, 334.14798783492375, 304.60336424527804, 302.383480045058, 282.96605455355, 256.97399834549566, 211.2809902117731, 165.01935835912994, 129.66716258373324, 127.86391597153987, 126.57422062409806, 117.86208008288406, 97.49115382827125, 90.02010335279715, 70.22094041350115, 61.8465346594667, 58.67825627048546, 56.08359546350921, 54.98165770452289, 49.20895017413605, 43.193464854071934, 1946.4801472597214, 1853.8551482216237, 986.357175571026, 627.9832568808504, 615.4794576349094, 569.9649854502579, 562.8667703905296, 544.9496078973463, 514.0115010961401, 466.58170400891606, 428.52508907524975, 411.595696317419, 396.82308799104743, 370.6828249733974, 316.76851286744744, 242.24766018946045, 201.11609695938427, 188.91097493048122, 183.88858406021023, 176.70164286776816, 175.93255006628675, 146.52700916490116, 104.9371862727758, 93.68094166215317, 89.9906808456292, 76.7883723636803, 72.80538007521439, 68.57368125060934, 46.77325350443082, 26.40596338731358, 3453.2355166335497, 1279.2952429502782, 1216.0697223672926, 837.3658144309609, 754.8433169558834, 650.8291041100771, 603.9189146425574, 525.842533806098, 491.72462387629986, 396.6264819533912, 360.9868051934867, 337.95903763837794, 301.53421780372383, 301.2130490294236, 239.68022404315735, 238.17879096448465, 206.09681239210948, 169.61390532528307, 163.54947626993362, 145.92114180559085, 139.48456059426286, 121.06690161951519, 106.70568411793877, 99.65663296938027, 93.60254341314025, 92.95194837796984, 77.20008007777723, 67.75888632392379, 57.583243091130356, 56.30951304529027, 5602.816668406353, 4006.4224587169047, 938.7098749007721, 530.4301021319609, 271.72348454429806, 245.22888999024545, 221.8158668510781, 217.29388527578908, 209.92801862551144, 195.43307830938824, 175.08858428694433, 135.88216565695228, 134.1420420378843, 133.58258534910453, 125.84871344551377, 125.30198716266753, 108.79354707003296, 104.98986821449971, 89.10248831593209, 88.11207341389023, 86.67290786124622, 86.26128728051089, 84.48506480020481, 76.40684809476336, 58.989395835967855, 45.73181734508723, 38.95011444233187, 33.087093987607126, 33.0423410095651, 29.14338381317947, 2881.018156672086, 2665.1580965891685, 1823.248225226472, 831.8605990063479, 553.2417327646672, 464.0170062798618, 341.30945315643123, 299.0992152183845, 297.7843074919166, 282.2819096913888, 270.57730698242904, 234.03224353741825, 205.64807636859734, 181.2028550837217, 163.598652772146, 160.94874266248743, 160.5400851011039, 152.68274282268916, 147.10525062973653, 123.18616776185304, 120.1680517853962, 112.73012928131526, 104.91919136426812, 95.9170607622478, 87.25718241139545, 81.06266301897351, 73.96986350102182, 69.78820574317551, 64.81198484540451, 59.16437070761627, 1736.65505478194, 1464.4697117582793, 1190.6634861548123, 832.2959414681487, 804.9519967634914, 589.3836658708706, 539.3080102132477, 527.4746950585845, 371.7057498845103, 362.67060566902967, 354.3214049967635, 343.2306227080267, 320.5426070088995, 313.0105324419695, 282.1110712412426, 278.5674176467941, 277.47818147523736, 275.3432784249396, 244.43159970129275, 207.35024783975757, 206.2858941276737, 199.51711208752968, 194.3437242885692, 174.72882284612723, 143.9582173048133, 138.1984897804886, 131.75990959541696, 115.62225006766778, 79.97992700284139, 70.610861418447, 1693.7299457987062, 1408.4691145752995, 1213.005015972671, 1125.3507926359482, 1069.816773082387, 718.825927284668, 616.1826190074688, 546.9398029289121, 474.489126650203, 467.6465017992358, 457.31664469268776, 447.961218627104, 435.62339829688267, 380.8908545179096, 313.01881749658673, 209.6777228905528, 209.5745060518414, 205.98495671691356, 175.5031530981806, 171.498671597719, 170.8031100083613, 151.778732895173, 98.61381869871586, 85.81808202152254, 69.08868962033938, 49.1464710064503, 46.78566471182794, 42.617662824698236, 40.51188247482414, 28.700514897393347, 1392.3620383708126, 1087.6278603176822, 1052.2845553418576, 988.0514540788051, 810.2315194908888, 750.9576574022826, 676.889029031954, 654.5122982654705, 583.8183802135082, 561.3243995765532, 418.3997735838071, 389.06490728614506, 355.61025538355904, 346.9285004217411, 343.9805714558136, 294.9159813443662, 266.49214736446663, 234.21375383136282, 218.11205665301028, 184.45519438440562, 155.1825871061157, 154.20895094385938, 147.74216191503672, 145.73048534059996, 135.12648808954876, 124.83617432764495, 104.85803099118517, 85.5339612533048, 71.15869733273202, 59.11608617005166, 2159.154422479398, 1120.855027150985, 1055.250890372878, 963.2116024279328, 954.4333651856995, 844.6418350973983, 644.3870844105625, 609.5526661170328, 555.104744798249, 436.70002358148156, 317.74392326344145, 312.7287670874302, 284.95214923564714, 281.97892549001915, 269.3715602141122, 260.23738175232916, 253.12446419289955, 206.30544104327709, 181.9218452340404, 174.08681657006466, 144.2777609885873, 143.77039063373465, 134.3598113657408, 127.79819845617413, 126.95543104024605, 125.61383487578347, 115.85466853393775, 82.93498608045002, 75.78329782729112, 60.43045190955313, 1668.9776730555545, 1481.498726011844, 1410.697378458206, 1058.7503253793084, 791.5880664016684, 539.2647067939979, 529.5916913477138, 518.5977217056663, 476.96076163542205, 464.5889972390479, 435.4173850154054, 358.0575762813061, 324.72557602026313, 314.2867653328812, 308.1466112508746, 284.7864836610473, 273.13274425637314, 180.2637521952383, 175.40973639753446, 141.37535860078347, 129.14582431058176, 123.85330182741565, 114.82971912156927, 112.31021033057439, 110.68934064262635, 68.66418059688131, 61.414350017102116, 54.82768325629945, 53.91396257265006, 32.37071207881479, 3765.4306824879804, 1747.7493267942612, 1185.0333933218199, 1114.5974168144573, 1017.5600107763323, 650.5580193469904, 478.97797735925707, 455.25862531120157, 349.2427459522056, 244.7349033431252, 219.9018248840377, 207.0499434686011, 154.935473006313, 149.4551533416432, 127.14862840902015, 123.42351776065104, 123.22374047906811, 113.47872556479393, 111.7220840005201, 106.7740783058587, 89.5884390336262, 84.67778397796022, 82.6597381442098, 71.6524554938455, 51.64087248323861, 46.16022284304694, 42.01759032967294, 29.972772558531975, 26.267619783089682, 26.148416236689915, 1560.3460442747198, 1035.2120062611316, 910.369604010729, 815.8567208696313, 775.3997322385609, 757.5163216984364, 701.4988906543364, 622.0658855734991, 565.4086847320541, 526.3965779409597, 480.0036671417241, 454.7200595356644, 367.69217387831236, 348.49063298014113, 322.1693412038069, 318.02963295112704, 282.5244394698857, 267.4821821691854, 241.18358507812619, 191.94879709284172, 161.48740760339757, 149.0160281703076, 148.179659535883, 141.99525845367515, 117.3592557732724, 89.3162835911607, 86.90793331754115, 79.617181753322, 75.58545120083245, 46.77757015697042, 1836.8252840561656, 1349.6680625099586, 1329.3715179138298, 1024.1213401550694, 955.7541101237134, 784.9549782389324, 695.1554528036104, 651.8160854628418, 459.10604236729887, 393.45988688019014, 303.38175556556763, 275.302537741508, 267.5689059623623, 266.9834520490141, 236.02571438212132, 189.2584817747124, 187.59436094121395, 185.0225560063882, 177.7938645638868, 158.6053441014217, 142.23710760465462, 129.85986871722213, 114.12362610176626, 105.56012658174639, 90.92413854354545, 72.87905479320625, 71.25503116973339, 67.96490941183895, 51.325082050044436, 45.12549902849583, 1384.872368652902, 1081.0866109137546, 1016.1035640180248, 973.1225386804726, 940.2853416546567, 717.8569158190701, 598.5399610076297, 549.6964711873844, 547.4232506359884, 497.2873445929668, 469.9018505863339, 457.93390017171447, 418.6000230288849, 388.80978695179016, 337.15238616799246, 263.95878141697574, 240.68073370530445, 220.52242024264316, 199.80326884595203, 179.07876633324688, 171.33790786418686, 117.49531429527217, 94.84697429373456, 82.92256005658648, 77.00649818203262, 66.99672063351572, 51.65923210621248, 50.60436387419258, 47.47694292059207, 41.00221748427109, 2715.7297474600377, 1040.3303596747114, 1018.6519658666433, 775.1933885604126, 775.031369532145, 668.2524569903219, 558.5903085201855, 558.4256991521033, 506.7944052553131, 496.8452779421219, 404.5737620601301, 385.6020501383984, 355.1253911801824, 308.225849659148, 268.5375267181098, 223.05660419915276, 192.6095861497611, 175.3610134496981, 165.2931425857335, 144.55918131288252, 134.5894566588869, 107.73204776983746, 96.74374232950197, 72.59734941005452, 69.54520632246643, 62.78306101347205, 57.269657196102926, 47.17776892086862, 27.47710944200088, 21.10723594480406, 1814.7505470781432, 1392.9479769487639, 1187.3333745884238, 1047.911427569182, 717.4095187230993, 715.7246508176967, 411.2872298614965, 395.99970289254105, 395.2498470083427, 354.8318378809379, 353.24711326981026, 328.72242049446487, 322.85323115429577, 276.4022014832981, 250.10301188863176, 235.4953829996931, 224.4228305189985, 193.39829472082022, 178.28373675367757, 177.34071654271014, 167.34345859248023, 160.6096413363358, 139.61122801689461, 130.8056428929369, 130.16190339288275, 123.90615206326872, 95.83008639496329, 89.38440916508797, 87.8283483306626, 65.67752485443651, 2727.882704082947, 2388.1082400196556, 765.1012614205188, 709.5018692426469, 594.3293313901544, 531.6614569843346, 431.0933348634088, 418.62340199939797, 309.02858234825305, 276.5346815236869, 275.32342129641586, 272.1780173447184, 262.7119569815754, 228.27896252679508, 192.9151950884565, 185.1852033778373, 167.65751909706876, 157.22988812465556, 150.5828726143177, 149.71613583621408, 131.50207264023953, 117.0550507481931, 100.96155039030205, 90.59187279416174, 83.73225514836021, 81.44608736157755, 81.00802124186453, 80.85822869986183, 74.78134785252001, 69.38703847651693, 2112.301193224644, 1747.3350471314513, 928.3429682942032, 818.2282229315907, 784.6627210475114, 648.4748666508361, 600.6870987387604, 563.022316879614, 415.77415086255974, 370.231591347261, 309.57698074710055, 300.7251387345356, 297.9985853697447, 225.8781981834963, 219.14521370986486, 201.77417363095776, 201.3243882595906, 196.35530756675993, 194.655594854695, 166.0471558855558, 165.70649947588706, 121.58423598370274, 120.69567866142977, 112.17330305255848, 100.76208705212517, 68.27293641027008, 54.8464295188549, 26.304451550215315, 25.022003790511068, 22.87094878763838, 4160.11379388444, 824.1629856961312, 600.2450948463993, 523.5475941151817, 521.6018451391234, 453.9705682063672, 436.53865855518177, 395.0712940612087, 343.02932324989445, 315.06141784616455, 287.3639853184614, 272.7267030660006, 245.04726290670467, 237.64301844030976, 209.1263249770443, 185.74034953384032, 178.46242640594681, 133.582530657311, 126.67317694347024, 112.92165631812333, 103.77414463065138, 102.34355425686464, 90.90856986350971, 88.68381118416839, 84.58901349548793, 67.33911827184791, 63.36300826280262, 59.067973017096975, 58.87679304242276, 51.906203711518984, 1456.7721295312233, 1346.3018432303893, 1319.9225391869256, 1318.3758070412282, 1080.5943834059783, 553.2177963524895, 545.8063325279227, 528.1158902815681, 460.06994185715484, 383.9135581983745, 350.554763656359, 275.26760869887084, 232.94588648767646, 228.494832011678, 227.93251983806536, 214.02090681349534, 191.1846117981971, 177.89001946800428, 132.2372419594954, 128.84052964491687, 104.18401341240403, 69.70133712389972, 60.288544756246175, 58.40358648200028, 55.22462598169433, 31.159282342313652, 27.162182101442465, 21.969453865540416, 19.921179883108028, 16.050930814533046, 1207.6086377096199, 944.4574398543058, 877.4356727137604, 851.2784375299237, 645.6083580327721, 561.270549126494, 525.354518983352, 521.9767452063388, 514.6930127466762, 443.89583862127245, 407.01038290366466, 371.55425845922, 354.1967430471069, 269.06690515610273, 259.6933403502857, 248.5224525038679, 233.52973652977732, 193.2518894544576, 181.64839724111462, 170.27406150670257, 169.113656826642, 167.38004397906462, 151.18162174588377, 133.31606077229637, 107.351512402081, 103.8623190071461, 97.51309066935885, 75.76850750010051, 72.22694579623578, 63.60132155179037, 2153.9448875286516, 723.3983261279457, 664.7791444659309, 587.3839509294696, 578.1621672752834, 566.0683399841851, 561.0190718360038, 457.7322809971786, 396.43051223065527, 392.48024728712596, 383.8052266968532, 315.53068151215143, 296.34213080431675, 271.98021677758027, 259.2574047273152, 258.2355814383511, 250.9204013643533, 225.06467079179257, 212.83366244453308, 152.05508281020272, 141.51936998185718, 137.25608330173117, 132.36277198775448, 123.44009698137914, 122.71869770985151, 113.98541256296629, 113.5584748012124, 93.68179120142914, 76.48690800973702, 76.21080140654122, 2408.734283823444, 1412.5745203356944, 857.4020154637337, 772.5306045256763, 708.5960227637203, 616.6591843681648, 517.2448111818135, 509.2396532063303, 470.44729729724355, 312.26165623470047, 280.2883188685979, 188.68533508138697, 146.146350641805, 144.92767054659808, 142.2854487411081, 140.8320513566206, 129.72651133765342, 120.58409476323432, 105.24384925403282, 85.64391504757414, 81.27461213270239, 74.7948934895309, 71.4847099690976, 63.675140004092135, 62.97957761534675, 58.26793939915442, 52.471782064671814, 50.272915189871014, 45.3681007317996, 40.92278052594017, 1042.1879572574696, 959.0927534991815, 853.2938049538645, 691.831816289358, 653.3317134206237, 616.0491515070504, 452.87594856349773, 426.8695001912352, 424.4774455658413, 378.292447213463, 363.5985245938865, 320.33455435388953, 318.1510908126834, 295.25214064150924, 282.87877278516515, 246.74966922517612, 231.08119221510526, 200.84680621719355, 190.70212798027876, 166.60216776518902, 165.06929543461914, 162.72856832904148, 125.36183391145063, 122.18082053200614, 105.17308213653672, 103.10604717493435, 84.58052433457075, 81.20757971814787, 79.09511071445417, 67.07297144794204, 2016.641697659712, 1124.477941586887, 898.3675468820404, 677.8204696439719, 535.5501652773003, 522.0640389682268, 509.8744935508768, 307.0659759784167, 264.8468061197207, 261.3121554020289, 250.7748886088533, 235.77067259641464, 204.71519931196332, 166.17360205416486, 156.77996668105985, 150.80905002384205, 144.24794049398136, 129.74117850731338, 123.01351213737928, 108.52896229448463, 106.70996193234119, 101.3608530677981, 94.88480480050102, 94.49854190869686, 93.92187545844043, 92.97242608349403, 85.3477704687405, 74.62616983008948, 65.51092121479067, 62.07785632887888, 1376.6217563688135, 1211.0053477887855, 1208.7872212580776, 717.1229758914862, 490.6951228956838, 434.9117661839882, 426.7549191345813, 319.1474417107415, 318.6229663489831, 288.6838742154095, 281.38594133711405, 274.27203279059137, 215.11338658184712, 201.2249225497632, 199.90466806909896, 183.65030721694578, 179.6578818178482, 175.99934823061912, 170.41042393864575, 160.355868609456, 106.02628741159943, 96.87522969893463, 90.1169474946161, 83.14883654545659, 82.26710892014364, 63.01846629792952, 62.43996585277816, 54.72709221404684, 49.25427652841582, 38.38429480208485, 3850.9385545642417, 1378.9585679553527, 683.9009173572144, 301.19027959125685, 249.89318937940675, 224.29042584503338, 207.83755080263188, 184.08579633666668, 177.23257806761913, 175.9410089172952, 175.68973893573892, 165.5594053392172, 160.75520958458924, 140.41046347218094, 128.90214623538807, 126.68557340228071, 124.9774250091876, 113.50358508040014, 106.91407469637538, 104.21575044911805, 102.70330855768283, 97.4884848880354, 77.99246533756668, 76.1337383781006, 75.85609512853145, 75.35820822832775, 71.42180775053133, 63.31873147661912, 62.76843908629438, 60.758199681424266, 1473.7465072697178, 989.8795564034618, 892.0813028631762, 732.5200046541291, 606.8688136463527, 602.927032518624, 440.353776749758, 272.7395622727465, 256.15353518423984, 241.8416811850587, 229.8834801537721, 213.55843585662697, 202.59383966955235, 193.89833261987147, 190.71513587523447, 177.17946658576173, 175.57641378882238, 159.59841076300268, 153.99434585814154, 141.01451898906242, 128.99009530994147, 120.11188388718442, 106.57251113533427, 92.27388812111509, 84.18678101379632, 72.25203422642504, 63.45135825013361, 55.29553977321416, 50.242691760288544, 44.183725897262406], \"Category\": [\"Default\", \"Default\", \"Default\", \"Default\", \"Default\", \"Default\", \"Default\", \"Default\", \"Default\", \"Default\", \"Default\", \"Default\", \"Default\", \"Default\", \"Default\", \"Default\", \"Default\", \"Default\", \"Default\", \"Default\", \"Default\", \"Default\", \"Default\", \"Default\", \"Default\", \"Default\", \"Default\", \"Default\", \"Default\", \"Default\", \"Topic1\", \"Topic1\", \"Topic1\", \"Topic1\", \"Topic1\", \"Topic1\", \"Topic1\", \"Topic1\", \"Topic1\", \"Topic1\", \"Topic1\", \"Topic1\", \"Topic1\", \"Topic1\", \"Topic1\", \"Topic1\", \"Topic1\", \"Topic1\", \"Topic1\", \"Topic1\", \"Topic1\", \"Topic1\", \"Topic1\", \"Topic1\", \"Topic1\", \"Topic1\", \"Topic1\", \"Topic1\", \"Topic1\", \"Topic1\", \"Topic2\", \"Topic2\", \"Topic2\", \"Topic2\", \"Topic2\", \"Topic2\", \"Topic2\", \"Topic2\", \"Topic2\", \"Topic2\", \"Topic2\", \"Topic2\", \"Topic2\", \"Topic2\", \"Topic2\", \"Topic2\", \"Topic2\", \"Topic2\", \"Topic2\", \"Topic2\", \"Topic2\", \"Topic2\", \"Topic2\", \"Topic2\", \"Topic2\", \"Topic2\", \"Topic2\", \"Topic2\", \"Topic2\", \"Topic2\", \"Topic3\", \"Topic3\", \"Topic3\", \"Topic3\", \"Topic3\", \"Topic3\", \"Topic3\", \"Topic3\", \"Topic3\", \"Topic3\", \"Topic3\", \"Topic3\", \"Topic3\", \"Topic3\", \"Topic3\", \"Topic3\", \"Topic3\", \"Topic3\", \"Topic3\", \"Topic3\", \"Topic3\", \"Topic3\", \"Topic3\", \"Topic3\", \"Topic3\", \"Topic3\", \"Topic3\", \"Topic3\", \"Topic3\", \"Topic3\", \"Topic3\", \"Topic3\", \"Topic4\", \"Topic4\", \"Topic4\", \"Topic4\", \"Topic4\", \"Topic4\", \"Topic4\", \"Topic4\", \"Topic4\", \"Topic4\", \"Topic4\", \"Topic4\", \"Topic4\", \"Topic4\", \"Topic4\", \"Topic4\", \"Topic4\", \"Topic4\", \"Topic4\", \"Topic4\", \"Topic4\", \"Topic4\", \"Topic4\", \"Topic4\", \"Topic4\", \"Topic4\", \"Topic4\", \"Topic4\", \"Topic4\", \"Topic4\", \"Topic5\", \"Topic5\", \"Topic5\", \"Topic5\", \"Topic5\", \"Topic5\", \"Topic5\", \"Topic5\", \"Topic5\", \"Topic5\", \"Topic5\", \"Topic5\", \"Topic5\", \"Topic5\", \"Topic5\", \"Topic5\", \"Topic5\", \"Topic5\", \"Topic5\", \"Topic5\", \"Topic5\", \"Topic5\", \"Topic5\", \"Topic5\", \"Topic5\", \"Topic5\", \"Topic5\", \"Topic5\", \"Topic5\", \"Topic5\", \"Topic6\", \"Topic6\", \"Topic6\", \"Topic6\", \"Topic6\", \"Topic6\", \"Topic6\", \"Topic6\", \"Topic6\", \"Topic6\", \"Topic6\", \"Topic6\", \"Topic6\", \"Topic6\", \"Topic6\", \"Topic6\", \"Topic6\", \"Topic6\", \"Topic6\", \"Topic6\", \"Topic6\", \"Topic6\", \"Topic6\", \"Topic6\", \"Topic6\", \"Topic6\", \"Topic6\", \"Topic6\", \"Topic6\", \"Topic6\", \"Topic7\", \"Topic7\", \"Topic7\", \"Topic7\", \"Topic7\", \"Topic7\", \"Topic7\", \"Topic7\", \"Topic7\", \"Topic7\", \"Topic7\", \"Topic7\", \"Topic7\", \"Topic7\", \"Topic7\", \"Topic7\", \"Topic7\", \"Topic7\", \"Topic7\", \"Topic7\", \"Topic7\", \"Topic7\", \"Topic7\", \"Topic7\", \"Topic7\", \"Topic7\", \"Topic7\", \"Topic7\", \"Topic7\", \"Topic7\", \"Topic8\", \"Topic8\", \"Topic8\", \"Topic8\", \"Topic8\", \"Topic8\", \"Topic8\", \"Topic8\", \"Topic8\", \"Topic8\", \"Topic8\", \"Topic8\", \"Topic8\", \"Topic8\", \"Topic8\", \"Topic8\", \"Topic8\", \"Topic8\", \"Topic8\", \"Topic8\", \"Topic8\", \"Topic8\", \"Topic8\", \"Topic8\", \"Topic8\", \"Topic8\", \"Topic8\", \"Topic8\", \"Topic8\", \"Topic8\", \"Topic9\", \"Topic9\", \"Topic9\", \"Topic9\", \"Topic9\", \"Topic9\", \"Topic9\", \"Topic9\", \"Topic9\", \"Topic9\", \"Topic9\", \"Topic9\", \"Topic9\", \"Topic9\", \"Topic9\", \"Topic9\", \"Topic9\", \"Topic9\", \"Topic9\", \"Topic9\", \"Topic9\", \"Topic9\", \"Topic9\", \"Topic9\", \"Topic9\", \"Topic9\", \"Topic9\", \"Topic9\", \"Topic9\", \"Topic9\", \"Topic10\", \"Topic10\", \"Topic10\", \"Topic10\", \"Topic10\", \"Topic10\", \"Topic10\", \"Topic10\", \"Topic10\", \"Topic10\", \"Topic10\", \"Topic10\", \"Topic10\", \"Topic10\", \"Topic10\", \"Topic10\", \"Topic10\", \"Topic10\", \"Topic10\", \"Topic10\", \"Topic10\", \"Topic10\", \"Topic10\", \"Topic10\", \"Topic10\", \"Topic10\", \"Topic10\", \"Topic10\", \"Topic10\", \"Topic10\", \"Topic11\", \"Topic11\", \"Topic11\", \"Topic11\", \"Topic11\", \"Topic11\", \"Topic11\", \"Topic11\", \"Topic11\", \"Topic11\", \"Topic11\", \"Topic11\", \"Topic11\", \"Topic11\", \"Topic11\", \"Topic11\", \"Topic11\", \"Topic11\", \"Topic11\", \"Topic11\", \"Topic11\", \"Topic11\", \"Topic11\", \"Topic11\", \"Topic11\", \"Topic11\", \"Topic11\", \"Topic11\", \"Topic11\", \"Topic11\", \"Topic12\", \"Topic12\", \"Topic12\", \"Topic12\", \"Topic12\", \"Topic12\", \"Topic12\", \"Topic12\", \"Topic12\", \"Topic12\", \"Topic12\", \"Topic12\", \"Topic12\", \"Topic12\", \"Topic12\", \"Topic12\", \"Topic12\", \"Topic12\", \"Topic12\", \"Topic12\", \"Topic12\", \"Topic12\", \"Topic12\", \"Topic12\", \"Topic12\", \"Topic12\", \"Topic12\", \"Topic12\", \"Topic12\", \"Topic12\", \"Topic13\", \"Topic13\", \"Topic13\", \"Topic13\", \"Topic13\", \"Topic13\", \"Topic13\", \"Topic13\", \"Topic13\", \"Topic13\", \"Topic13\", \"Topic13\", \"Topic13\", \"Topic13\", \"Topic13\", \"Topic13\", \"Topic13\", \"Topic13\", \"Topic13\", \"Topic13\", \"Topic13\", \"Topic13\", \"Topic13\", \"Topic13\", \"Topic13\", \"Topic13\", \"Topic13\", \"Topic13\", \"Topic13\", \"Topic13\", \"Topic14\", \"Topic14\", \"Topic14\", \"Topic14\", \"Topic14\", \"Topic14\", \"Topic14\", \"Topic14\", \"Topic14\", \"Topic14\", \"Topic14\", \"Topic14\", \"Topic14\", \"Topic14\", \"Topic14\", \"Topic14\", \"Topic14\", \"Topic14\", \"Topic14\", \"Topic14\", \"Topic14\", \"Topic14\", \"Topic14\", \"Topic14\", \"Topic14\", \"Topic14\", \"Topic14\", \"Topic14\", \"Topic14\", \"Topic14\", \"Topic15\", \"Topic15\", \"Topic15\", \"Topic15\", \"Topic15\", \"Topic15\", \"Topic15\", \"Topic15\", \"Topic15\", \"Topic15\", \"Topic15\", \"Topic15\", \"Topic15\", \"Topic15\", \"Topic15\", \"Topic15\", \"Topic15\", \"Topic15\", \"Topic15\", \"Topic15\", \"Topic15\", \"Topic15\", \"Topic15\", \"Topic15\", \"Topic15\", \"Topic15\", \"Topic15\", \"Topic15\", \"Topic15\", \"Topic15\", \"Topic16\", \"Topic16\", \"Topic16\", \"Topic16\", \"Topic16\", \"Topic16\", \"Topic16\", \"Topic16\", \"Topic16\", \"Topic16\", \"Topic16\", \"Topic16\", \"Topic16\", \"Topic16\", \"Topic16\", \"Topic16\", \"Topic16\", \"Topic16\", \"Topic16\", \"Topic16\", \"Topic16\", \"Topic16\", \"Topic16\", \"Topic16\", \"Topic16\", \"Topic16\", \"Topic16\", \"Topic16\", \"Topic16\", \"Topic16\", \"Topic17\", \"Topic17\", \"Topic17\", \"Topic17\", \"Topic17\", \"Topic17\", \"Topic17\", \"Topic17\", \"Topic17\", \"Topic17\", \"Topic17\", \"Topic17\", \"Topic17\", \"Topic17\", \"Topic17\", \"Topic17\", \"Topic17\", \"Topic17\", \"Topic17\", \"Topic17\", \"Topic17\", \"Topic17\", \"Topic17\", \"Topic17\", \"Topic17\", \"Topic17\", \"Topic17\", \"Topic17\", \"Topic17\", \"Topic17\", \"Topic18\", \"Topic18\", \"Topic18\", \"Topic18\", \"Topic18\", \"Topic18\", \"Topic18\", \"Topic18\", \"Topic18\", \"Topic18\", \"Topic18\", \"Topic18\", \"Topic18\", \"Topic18\", \"Topic18\", \"Topic18\", \"Topic18\", \"Topic18\", \"Topic18\", \"Topic18\", \"Topic18\", \"Topic18\", \"Topic18\", \"Topic18\", \"Topic18\", \"Topic18\", \"Topic18\", \"Topic18\", \"Topic18\", \"Topic18\", \"Topic19\", \"Topic19\", \"Topic19\", \"Topic19\", \"Topic19\", \"Topic19\", \"Topic19\", \"Topic19\", \"Topic19\", \"Topic19\", \"Topic19\", \"Topic19\", \"Topic19\", \"Topic19\", \"Topic19\", \"Topic19\", \"Topic19\", \"Topic19\", \"Topic19\", \"Topic19\", \"Topic19\", \"Topic19\", \"Topic19\", \"Topic19\", \"Topic19\", \"Topic19\", \"Topic19\", \"Topic19\", \"Topic19\", \"Topic19\", \"Topic20\", \"Topic20\", \"Topic20\", \"Topic20\", \"Topic20\", \"Topic20\", \"Topic20\", \"Topic20\", \"Topic20\", \"Topic20\", \"Topic20\", \"Topic20\", \"Topic20\", \"Topic20\", \"Topic20\", \"Topic20\", \"Topic20\", \"Topic20\", \"Topic20\", \"Topic20\", \"Topic20\", \"Topic20\", \"Topic20\", \"Topic20\", \"Topic20\", \"Topic20\", \"Topic20\", \"Topic20\", \"Topic20\", \"Topic20\", \"Topic21\", \"Topic21\", \"Topic21\", \"Topic21\", \"Topic21\", \"Topic21\", \"Topic21\", \"Topic21\", \"Topic21\", \"Topic21\", \"Topic21\", \"Topic21\", \"Topic21\", \"Topic21\", \"Topic21\", \"Topic21\", \"Topic21\", \"Topic21\", \"Topic21\", \"Topic21\", \"Topic21\", \"Topic21\", \"Topic21\", \"Topic21\", \"Topic21\", \"Topic21\", \"Topic21\", \"Topic21\", \"Topic21\", \"Topic21\", \"Topic22\", \"Topic22\", \"Topic22\", \"Topic22\", \"Topic22\", \"Topic22\", \"Topic22\", \"Topic22\", \"Topic22\", \"Topic22\", \"Topic22\", \"Topic22\", \"Topic22\", \"Topic22\", \"Topic22\", \"Topic22\", \"Topic22\", \"Topic22\", \"Topic22\", \"Topic22\", \"Topic22\", \"Topic22\", \"Topic22\", \"Topic22\", \"Topic22\", \"Topic22\", \"Topic22\", \"Topic22\", \"Topic22\", \"Topic22\", \"Topic23\", \"Topic23\", \"Topic23\", \"Topic23\", \"Topic23\", \"Topic23\", \"Topic23\", \"Topic23\", \"Topic23\", \"Topic23\", \"Topic23\", \"Topic23\", \"Topic23\", \"Topic23\", \"Topic23\", \"Topic23\", \"Topic23\", \"Topic23\", \"Topic23\", \"Topic23\", \"Topic23\", \"Topic23\", \"Topic23\", \"Topic23\", \"Topic23\", \"Topic23\", \"Topic23\", \"Topic23\", \"Topic23\", \"Topic23\", \"Topic24\", \"Topic24\", \"Topic24\", \"Topic24\", \"Topic24\", \"Topic24\", \"Topic24\", \"Topic24\", \"Topic24\", \"Topic24\", \"Topic24\", \"Topic24\", \"Topic24\", \"Topic24\", \"Topic24\", \"Topic24\", \"Topic24\", \"Topic24\", \"Topic24\", \"Topic24\", \"Topic24\", \"Topic24\", \"Topic24\", \"Topic24\", \"Topic24\", \"Topic24\", \"Topic24\", \"Topic24\", \"Topic24\", \"Topic24\", \"Topic25\", \"Topic25\", \"Topic25\", \"Topic25\", \"Topic25\", \"Topic25\", \"Topic25\", \"Topic25\", \"Topic25\", \"Topic25\", \"Topic25\", \"Topic25\", \"Topic25\", \"Topic25\", \"Topic25\", \"Topic25\", \"Topic25\", \"Topic25\", \"Topic25\", \"Topic25\", \"Topic25\", \"Topic25\", \"Topic25\", \"Topic25\", \"Topic25\", \"Topic25\", \"Topic25\", \"Topic25\", \"Topic25\", \"Topic25\", \"Topic26\", \"Topic26\", \"Topic26\", \"Topic26\", \"Topic26\", \"Topic26\", \"Topic26\", \"Topic26\", \"Topic26\", \"Topic26\", \"Topic26\", \"Topic26\", \"Topic26\", \"Topic26\", \"Topic26\", \"Topic26\", \"Topic26\", \"Topic26\", \"Topic26\", \"Topic26\", \"Topic26\", \"Topic26\", \"Topic26\", \"Topic26\", \"Topic26\", \"Topic26\", \"Topic26\", \"Topic26\", \"Topic26\", \"Topic26\", \"Topic27\", \"Topic27\", \"Topic27\", \"Topic27\", \"Topic27\", \"Topic27\", \"Topic27\", \"Topic27\", \"Topic27\", \"Topic27\", \"Topic27\", \"Topic27\", \"Topic27\", \"Topic27\", \"Topic27\", \"Topic27\", \"Topic27\", \"Topic27\", \"Topic27\", \"Topic27\", \"Topic27\", \"Topic27\", \"Topic27\", \"Topic27\", \"Topic27\", \"Topic27\", \"Topic27\", \"Topic27\", \"Topic27\", \"Topic27\", \"Topic28\", \"Topic28\", \"Topic28\", \"Topic28\", \"Topic28\", \"Topic28\", \"Topic28\", \"Topic28\", \"Topic28\", \"Topic28\", \"Topic28\", \"Topic28\", \"Topic28\", \"Topic28\", \"Topic28\", \"Topic28\", \"Topic28\", \"Topic28\", \"Topic28\", \"Topic28\", \"Topic28\", \"Topic28\", \"Topic28\", \"Topic28\", \"Topic28\", \"Topic28\", \"Topic28\", \"Topic28\", \"Topic28\", \"Topic28\", \"Topic29\", \"Topic29\", \"Topic29\", \"Topic29\", \"Topic29\", \"Topic29\", \"Topic29\", \"Topic29\", \"Topic29\", \"Topic29\", \"Topic29\", \"Topic29\", \"Topic29\", \"Topic29\", \"Topic29\", \"Topic29\", \"Topic29\", \"Topic29\", \"Topic29\", \"Topic29\", \"Topic29\", \"Topic29\", \"Topic29\", \"Topic29\", \"Topic29\", \"Topic29\", \"Topic29\", \"Topic29\", \"Topic29\", \"Topic29\", \"Topic30\", \"Topic30\", \"Topic30\", \"Topic30\", \"Topic30\", \"Topic30\", \"Topic30\", \"Topic30\", \"Topic30\", \"Topic30\", \"Topic30\", \"Topic30\", \"Topic30\", \"Topic30\", \"Topic30\", \"Topic30\", \"Topic30\", \"Topic30\", \"Topic30\", \"Topic30\", \"Topic30\", \"Topic30\", \"Topic30\", \"Topic30\", \"Topic30\", \"Topic30\", \"Topic30\", \"Topic30\", \"Topic30\", \"Topic30\", \"Topic31\", \"Topic31\", \"Topic31\", \"Topic31\", \"Topic31\", \"Topic31\", \"Topic31\", \"Topic31\", \"Topic31\", \"Topic31\", \"Topic31\", \"Topic31\", \"Topic31\", \"Topic31\", \"Topic31\", \"Topic31\", \"Topic31\", \"Topic31\", \"Topic31\", \"Topic31\", \"Topic31\", \"Topic31\", \"Topic31\", \"Topic31\", \"Topic31\", \"Topic31\", \"Topic31\", \"Topic31\", \"Topic31\", \"Topic31\", \"Topic32\", \"Topic32\", \"Topic32\", \"Topic32\", \"Topic32\", \"Topic32\", \"Topic32\", \"Topic32\", \"Topic32\", \"Topic32\", \"Topic32\", \"Topic32\", \"Topic32\", \"Topic32\", \"Topic32\", \"Topic32\", \"Topic32\", \"Topic32\", \"Topic32\", \"Topic32\", \"Topic32\", \"Topic32\", \"Topic32\", \"Topic32\", \"Topic32\", \"Topic32\", \"Topic32\", \"Topic32\", \"Topic32\", \"Topic32\", \"Topic33\", \"Topic33\", \"Topic33\", \"Topic33\", \"Topic33\", \"Topic33\", \"Topic33\", \"Topic33\", \"Topic33\", \"Topic33\", \"Topic33\", \"Topic33\", \"Topic33\", \"Topic33\", \"Topic33\", \"Topic33\", \"Topic33\", \"Topic33\", \"Topic33\", \"Topic33\", \"Topic33\", \"Topic33\", \"Topic33\", \"Topic33\", \"Topic33\", \"Topic33\", \"Topic33\", \"Topic33\", \"Topic33\", \"Topic33\", \"Topic34\", \"Topic34\", \"Topic34\", \"Topic34\", \"Topic34\", \"Topic34\", \"Topic34\", \"Topic34\", \"Topic34\", \"Topic34\", \"Topic34\", \"Topic34\", \"Topic34\", \"Topic34\", \"Topic34\", \"Topic34\", \"Topic34\", \"Topic34\", \"Topic34\", \"Topic34\", \"Topic34\", \"Topic34\", \"Topic34\", \"Topic34\", \"Topic34\", \"Topic34\", \"Topic34\", \"Topic34\", \"Topic34\", \"Topic34\", \"Topic35\", \"Topic35\", \"Topic35\", \"Topic35\", \"Topic35\", \"Topic35\", \"Topic35\", \"Topic35\", \"Topic35\", \"Topic35\", \"Topic35\", \"Topic35\", \"Topic35\", \"Topic35\", \"Topic35\", \"Topic35\", \"Topic35\", \"Topic35\", \"Topic35\", \"Topic35\", \"Topic35\", \"Topic35\", \"Topic35\", \"Topic35\", \"Topic35\", \"Topic35\", \"Topic35\", \"Topic35\", \"Topic35\", \"Topic35\", \"Topic36\", \"Topic36\", \"Topic36\", \"Topic36\", \"Topic36\", \"Topic36\", \"Topic36\", \"Topic36\", \"Topic36\", \"Topic36\", \"Topic36\", \"Topic36\", \"Topic36\", \"Topic36\", \"Topic36\", \"Topic36\", \"Topic36\", \"Topic36\", \"Topic36\", \"Topic36\", \"Topic36\", \"Topic36\", \"Topic36\", \"Topic36\", \"Topic36\", \"Topic36\", \"Topic36\", \"Topic36\", \"Topic36\", \"Topic36\", \"Topic37\", \"Topic37\", \"Topic37\", \"Topic37\", \"Topic37\", \"Topic37\", \"Topic37\", \"Topic37\", \"Topic37\", \"Topic37\", \"Topic37\", \"Topic37\", \"Topic37\", \"Topic37\", \"Topic37\", \"Topic37\", \"Topic37\", \"Topic37\", \"Topic37\", \"Topic37\", \"Topic37\", \"Topic37\", \"Topic37\", \"Topic37\", \"Topic37\", \"Topic37\", \"Topic37\", \"Topic37\", \"Topic37\", \"Topic37\", \"Topic38\", \"Topic38\", \"Topic38\", \"Topic38\", \"Topic38\", \"Topic38\", \"Topic38\", \"Topic38\", \"Topic38\", \"Topic38\", \"Topic38\", \"Topic38\", \"Topic38\", \"Topic38\", \"Topic38\", \"Topic38\", \"Topic38\", \"Topic38\", \"Topic38\", \"Topic38\", \"Topic38\", \"Topic38\", \"Topic38\", \"Topic38\", \"Topic38\", \"Topic38\", \"Topic38\", \"Topic38\", \"Topic38\", \"Topic38\", \"Topic39\", \"Topic39\", \"Topic39\", \"Topic39\", \"Topic39\", \"Topic39\", \"Topic39\", \"Topic39\", \"Topic39\", \"Topic39\", \"Topic39\", \"Topic39\", \"Topic39\", \"Topic39\", \"Topic39\", \"Topic39\", \"Topic39\", \"Topic39\", \"Topic39\", \"Topic39\", \"Topic39\", \"Topic39\", \"Topic39\", \"Topic39\", \"Topic39\", \"Topic39\", \"Topic39\", \"Topic39\", \"Topic39\", \"Topic39\", \"Topic40\", \"Topic40\", \"Topic40\", \"Topic40\", \"Topic40\", \"Topic40\", \"Topic40\", \"Topic40\", \"Topic40\", \"Topic40\", \"Topic40\", \"Topic40\", \"Topic40\", \"Topic40\", \"Topic40\", \"Topic40\", \"Topic40\", \"Topic40\", \"Topic40\", \"Topic40\", \"Topic40\", \"Topic40\", \"Topic40\", \"Topic40\", \"Topic40\", \"Topic40\", \"Topic40\", \"Topic40\", \"Topic40\", \"Topic40\", \"Topic41\", \"Topic41\", \"Topic41\", \"Topic41\", \"Topic41\", \"Topic41\", \"Topic41\", \"Topic41\", \"Topic41\", \"Topic41\", \"Topic41\", \"Topic41\", \"Topic41\", \"Topic41\", \"Topic41\", \"Topic41\", \"Topic41\", \"Topic41\", \"Topic41\", \"Topic41\", \"Topic41\", \"Topic41\", \"Topic41\", \"Topic41\", \"Topic41\", \"Topic41\", \"Topic41\", \"Topic41\", \"Topic41\", \"Topic41\", \"Topic42\", \"Topic42\", \"Topic42\", \"Topic42\", \"Topic42\", \"Topic42\", \"Topic42\", \"Topic42\", \"Topic42\", \"Topic42\", \"Topic42\", \"Topic42\", \"Topic42\", \"Topic42\", \"Topic42\", \"Topic42\", \"Topic42\", \"Topic42\", \"Topic42\", \"Topic42\", \"Topic42\", \"Topic42\", \"Topic42\", \"Topic42\", \"Topic42\", \"Topic42\", \"Topic42\", \"Topic42\", \"Topic42\", \"Topic42\", \"Topic43\", \"Topic43\", \"Topic43\", \"Topic43\", \"Topic43\", \"Topic43\", \"Topic43\", \"Topic43\", \"Topic43\", \"Topic43\", \"Topic43\", \"Topic43\", \"Topic43\", \"Topic43\", \"Topic43\", \"Topic43\", \"Topic43\", \"Topic43\", \"Topic43\", \"Topic43\", \"Topic43\", \"Topic43\", \"Topic43\", \"Topic43\", \"Topic43\", \"Topic43\", \"Topic43\", \"Topic43\", \"Topic43\", \"Topic43\", \"Topic44\", \"Topic44\", \"Topic44\", \"Topic44\", \"Topic44\", \"Topic44\", \"Topic44\", \"Topic44\", \"Topic44\", \"Topic44\", \"Topic44\", \"Topic44\", \"Topic44\", \"Topic44\", \"Topic44\", \"Topic44\", \"Topic44\", \"Topic44\", \"Topic44\", \"Topic44\", \"Topic44\", \"Topic44\", \"Topic44\", \"Topic44\", \"Topic44\", \"Topic44\", \"Topic44\", \"Topic44\", \"Topic44\", \"Topic44\", \"Topic45\", \"Topic45\", \"Topic45\", \"Topic45\", \"Topic45\", \"Topic45\", \"Topic45\", \"Topic45\", \"Topic45\", \"Topic45\", \"Topic45\", \"Topic45\", \"Topic45\", \"Topic45\", \"Topic45\", \"Topic45\", \"Topic45\", \"Topic45\", \"Topic45\", \"Topic45\", \"Topic45\", \"Topic45\", \"Topic45\", \"Topic45\", \"Topic45\", \"Topic45\", \"Topic45\", \"Topic45\", \"Topic45\", \"Topic45\", \"Topic46\", \"Topic46\", \"Topic46\", \"Topic46\", \"Topic46\", \"Topic46\", \"Topic46\", \"Topic46\", \"Topic46\", \"Topic46\", \"Topic46\", \"Topic46\", \"Topic46\", \"Topic46\", \"Topic46\", \"Topic46\", \"Topic46\", \"Topic46\", \"Topic46\", \"Topic46\", \"Topic46\", \"Topic46\", \"Topic46\", \"Topic46\", \"Topic46\", \"Topic46\", \"Topic46\", \"Topic46\", \"Topic46\", \"Topic46\", \"Topic47\", \"Topic47\", \"Topic47\", \"Topic47\", \"Topic47\", \"Topic47\", \"Topic47\", \"Topic47\", \"Topic47\", \"Topic47\", \"Topic47\", \"Topic47\", \"Topic47\", \"Topic47\", \"Topic47\", \"Topic47\", \"Topic47\", \"Topic47\", \"Topic47\", \"Topic47\", \"Topic47\", \"Topic47\", \"Topic47\", \"Topic47\", \"Topic47\", \"Topic47\", \"Topic47\", \"Topic47\", \"Topic47\", \"Topic47\", \"Topic48\", \"Topic48\", \"Topic48\", \"Topic48\", \"Topic48\", \"Topic48\", \"Topic48\", \"Topic48\", \"Topic48\", \"Topic48\", \"Topic48\", \"Topic48\", \"Topic48\", \"Topic48\", \"Topic48\", \"Topic48\", \"Topic48\", \"Topic48\", \"Topic48\", \"Topic48\", \"Topic48\", \"Topic48\", \"Topic48\", \"Topic48\", \"Topic48\", \"Topic48\", \"Topic48\", \"Topic48\", \"Topic48\", \"Topic48\", \"Topic49\", \"Topic49\", \"Topic49\", \"Topic49\", \"Topic49\", \"Topic49\", \"Topic49\", \"Topic49\", \"Topic49\", \"Topic49\", \"Topic49\", \"Topic49\", \"Topic49\", \"Topic49\", \"Topic49\", \"Topic49\", \"Topic49\", \"Topic49\", \"Topic49\", \"Topic49\", \"Topic49\", \"Topic49\", \"Topic49\", \"Topic49\", \"Topic49\", \"Topic49\", \"Topic49\", \"Topic49\", \"Topic49\", \"Topic49\", \"Topic50\", \"Topic50\", \"Topic50\", \"Topic50\", \"Topic50\", \"Topic50\", \"Topic50\", \"Topic50\", \"Topic50\", \"Topic50\", \"Topic50\", \"Topic50\", \"Topic50\", \"Topic50\", \"Topic50\", \"Topic50\", \"Topic50\", \"Topic50\", \"Topic50\", \"Topic50\", \"Topic50\", \"Topic50\", \"Topic50\", \"Topic50\", \"Topic50\", \"Topic50\", \"Topic50\", \"Topic50\", \"Topic50\", \"Topic50\", \"Topic51\", \"Topic51\", \"Topic51\", \"Topic51\", \"Topic51\", \"Topic51\", \"Topic51\", \"Topic51\", \"Topic51\", \"Topic51\", \"Topic51\", \"Topic51\", \"Topic51\", \"Topic51\", \"Topic51\", \"Topic51\", \"Topic51\", \"Topic51\", \"Topic51\", \"Topic51\", \"Topic51\", \"Topic51\", \"Topic51\", \"Topic51\", \"Topic51\", \"Topic51\", \"Topic51\", \"Topic51\", \"Topic51\", \"Topic51\", \"Topic52\", \"Topic52\", \"Topic52\", \"Topic52\", \"Topic52\", \"Topic52\", \"Topic52\", \"Topic52\", \"Topic52\", \"Topic52\", \"Topic52\", \"Topic52\", \"Topic52\", \"Topic52\", \"Topic52\", \"Topic52\", \"Topic52\", \"Topic52\", \"Topic52\", \"Topic52\", \"Topic52\", \"Topic52\", \"Topic52\", \"Topic52\", \"Topic52\", \"Topic52\", \"Topic52\", \"Topic52\", \"Topic52\", \"Topic52\", \"Topic53\", \"Topic53\", \"Topic53\", \"Topic53\", \"Topic53\", \"Topic53\", \"Topic53\", \"Topic53\", \"Topic53\", \"Topic53\", \"Topic53\", \"Topic53\", \"Topic53\", \"Topic53\", \"Topic53\", \"Topic53\", \"Topic53\", \"Topic53\", \"Topic53\", \"Topic53\", \"Topic53\", \"Topic53\", \"Topic53\", \"Topic53\", \"Topic53\", \"Topic53\", \"Topic53\", \"Topic53\", \"Topic53\", \"Topic53\", \"Topic54\", \"Topic54\", \"Topic54\", \"Topic54\", \"Topic54\", \"Topic54\", \"Topic54\", \"Topic54\", \"Topic54\", \"Topic54\", \"Topic54\", \"Topic54\", \"Topic54\", \"Topic54\", \"Topic54\", \"Topic54\", \"Topic54\", \"Topic54\", \"Topic54\", \"Topic54\", \"Topic54\", \"Topic54\", \"Topic54\", \"Topic54\", \"Topic54\", \"Topic54\", \"Topic54\", \"Topic54\", \"Topic54\", \"Topic54\", \"Topic55\", \"Topic55\", \"Topic55\", \"Topic55\", \"Topic55\", \"Topic55\", \"Topic55\", \"Topic55\", \"Topic55\", \"Topic55\", \"Topic55\", \"Topic55\", \"Topic55\", \"Topic55\", \"Topic55\", \"Topic55\", \"Topic55\", \"Topic55\", \"Topic55\", \"Topic55\", \"Topic55\", \"Topic55\", \"Topic55\", \"Topic55\", \"Topic55\", \"Topic55\", \"Topic55\", \"Topic55\", \"Topic55\", \"Topic55\", \"Topic56\", \"Topic56\", \"Topic56\", \"Topic56\", \"Topic56\", \"Topic56\", \"Topic56\", \"Topic56\", \"Topic56\", \"Topic56\", \"Topic56\", \"Topic56\", \"Topic56\", \"Topic56\", \"Topic56\", \"Topic56\", \"Topic56\", \"Topic56\", \"Topic56\", \"Topic56\", \"Topic56\", \"Topic56\", \"Topic56\", \"Topic56\", \"Topic56\", \"Topic56\", \"Topic56\", \"Topic56\", \"Topic56\", \"Topic56\", \"Topic57\", \"Topic57\", \"Topic57\", \"Topic57\", \"Topic57\", \"Topic57\", \"Topic57\", \"Topic57\", \"Topic57\", \"Topic57\", \"Topic57\", \"Topic57\", \"Topic57\", \"Topic57\", \"Topic57\", \"Topic57\", \"Topic57\", \"Topic57\", \"Topic57\", \"Topic57\", \"Topic57\", \"Topic57\", \"Topic57\", \"Topic57\", \"Topic57\", \"Topic57\", \"Topic57\", \"Topic57\", \"Topic57\", \"Topic57\", \"Topic58\", \"Topic58\", \"Topic58\", \"Topic58\", \"Topic58\", \"Topic58\", \"Topic58\", \"Topic58\", \"Topic58\", \"Topic58\", \"Topic58\", \"Topic58\", \"Topic58\", \"Topic58\", \"Topic58\", \"Topic58\", \"Topic58\", \"Topic58\", \"Topic58\", \"Topic58\", \"Topic58\", \"Topic58\", \"Topic58\", \"Topic58\", \"Topic58\", \"Topic58\", \"Topic58\", \"Topic58\", \"Topic58\", \"Topic58\", \"Topic59\", \"Topic59\", \"Topic59\", \"Topic59\", \"Topic59\", \"Topic59\", \"Topic59\", \"Topic59\", \"Topic59\", \"Topic59\", \"Topic59\", \"Topic59\", \"Topic59\", \"Topic59\", \"Topic59\", \"Topic59\", \"Topic59\", \"Topic59\", \"Topic59\", \"Topic59\", \"Topic59\", \"Topic59\", \"Topic59\", \"Topic59\", \"Topic59\", \"Topic59\", \"Topic59\", \"Topic59\", \"Topic59\", \"Topic59\", \"Topic60\", \"Topic60\", \"Topic60\", \"Topic60\", \"Topic60\", \"Topic60\", \"Topic60\", \"Topic60\", \"Topic60\", \"Topic60\", \"Topic60\", \"Topic60\", \"Topic60\", \"Topic60\", \"Topic60\", \"Topic60\", \"Topic60\", \"Topic60\", \"Topic60\", \"Topic60\", \"Topic60\", \"Topic60\", \"Topic60\", \"Topic60\", \"Topic60\", \"Topic60\", \"Topic60\", \"Topic60\", \"Topic60\", \"Topic60\", \"Topic61\", \"Topic61\", \"Topic61\", \"Topic61\", \"Topic61\", \"Topic61\", \"Topic61\", \"Topic61\", \"Topic61\", \"Topic61\", \"Topic61\", \"Topic61\", \"Topic61\", \"Topic61\", \"Topic61\", \"Topic61\", \"Topic61\", \"Topic61\", \"Topic61\", \"Topic61\", \"Topic61\", \"Topic61\", \"Topic61\", \"Topic61\", \"Topic61\", \"Topic61\", \"Topic61\", \"Topic61\", \"Topic61\", \"Topic61\", \"Topic62\", \"Topic62\", \"Topic62\", \"Topic62\", \"Topic62\", \"Topic62\", \"Topic62\", \"Topic62\", \"Topic62\", \"Topic62\", \"Topic62\", \"Topic62\", \"Topic62\", \"Topic62\", \"Topic62\", \"Topic62\", \"Topic62\", \"Topic62\", \"Topic62\", \"Topic62\", \"Topic62\", \"Topic62\", \"Topic62\", \"Topic62\", \"Topic62\", \"Topic62\", \"Topic62\", \"Topic62\", \"Topic62\", \"Topic62\", \"Topic63\", \"Topic63\", \"Topic63\", \"Topic63\", \"Topic63\", \"Topic63\", \"Topic63\", \"Topic63\", \"Topic63\", \"Topic63\", \"Topic63\", \"Topic63\", \"Topic63\", \"Topic63\", \"Topic63\", \"Topic63\", \"Topic63\", \"Topic63\", \"Topic63\", \"Topic63\", \"Topic63\", \"Topic63\", \"Topic63\", \"Topic63\", \"Topic63\", \"Topic63\", \"Topic63\", \"Topic63\", \"Topic63\", \"Topic63\", \"Topic64\", \"Topic64\", \"Topic64\", \"Topic64\", \"Topic64\", \"Topic64\", \"Topic64\", \"Topic64\", \"Topic64\", \"Topic64\", \"Topic64\", \"Topic64\", \"Topic64\", \"Topic64\", \"Topic64\", \"Topic64\", \"Topic64\", \"Topic64\", \"Topic64\", \"Topic64\", \"Topic64\", \"Topic64\", \"Topic64\", \"Topic64\", \"Topic64\", \"Topic64\", \"Topic64\", \"Topic64\", \"Topic64\", \"Topic64\"], \"logprob\": [30.0, 29.0, 28.0, 27.0, 26.0, 25.0, 24.0, 23.0, 22.0, 21.0, 20.0, 19.0, 18.0, 17.0, 16.0, 15.0, 14.0, 13.0, 12.0, 11.0, 10.0, 9.0, 8.0, 7.0, 6.0, 5.0, 4.0, 3.0, 2.0, 1.0, -0.185, -3.4736, -4.328, -4.7317, -4.7413, -4.7521, -4.7546, -4.8319, -4.9252, -5.0792, -5.1291, -5.2933, -5.3908, -5.6973, -5.7881, -5.7941, -5.865, -6.0284, -6.1577, -6.1657, -6.2118, -6.2289, -6.3636, -6.4093, -6.4206, -6.9284, -7.0256, -7.1725, -7.4019, -7.6446, -1.5524, -1.6475, -2.3358, -2.8569, -2.9284, -2.9629, -3.2219, -3.3214, -3.6086, -3.7174, -3.8173, -4.0107, -4.028, -4.2838, -4.3929, -4.479, -4.5574, -4.7048, -4.7159, -4.8498, -4.9246, -5.1997, -5.4116, -5.6313, -5.7414, -5.8982, -7.065, -7.0818, -7.2009, -8.1773, -1.0889, -2.0511, -2.0891, -2.8199, -3.1269, -3.1611, -3.253, -3.3126, -3.4349, -4.0247, -4.0998, -4.1875, -4.2584, -4.7598, -4.8584, -4.8774, -5.0967, -5.1414, -5.8475, -6.3047, -6.657, -7.0564, -7.0606, -7.5106, -7.6034, -8.325, -9.7813, -12.3832, -13.7794, -13.7842, -13.718, -13.7154, -0.4743, -2.9673, -2.9708, -3.0736, -3.6425, -3.8723, -4.1792, -4.2471, -4.5248, -4.6306, -4.7281, -4.7473, -4.8695, -4.9029, -5.0546, -5.2238, -5.4884, -5.5661, -5.5991, -5.6335, -5.7238, -5.7479, -5.8113, -5.8378, -5.8699, -5.9894, -6.065, -6.1056, -6.137, -6.2564, -1.6448, -1.8843, -2.6285, -2.7195, -2.7571, -3.0426, -3.3463, -3.3635, -3.4565, -3.659, -3.7005, -3.8148, -3.9817, -4.2335, -4.2525, -4.2759, -4.3967, -4.7132, -4.7269, -4.7808, -4.8236, -4.9073, -5.0375, -5.0768, -5.2499, -5.487, -5.4994, -5.7071, -5.8002, -5.9456, -1.5005, -1.5202, -1.8633, -2.8554, -2.9564, -3.3003, -3.6038, -3.7617, -3.9851, -3.9894, -4.0381, -4.0965, -4.2132, -4.2189, -4.3513, -4.6586, -4.9419, -4.991, -5.152, -5.2352, -5.4992, -5.5619, -5.9346, -5.9403, -6.3939, -7.187, -7.2644, -7.3102, -7.504, -7.577, -1.3324, -2.4818, -2.5125, -2.8079, -2.8774, -3.2797, -3.2836, -3.5215, -3.8044, -3.8531, -3.9365, -4.0876, -4.1551, -4.1685, -4.1812, -4.2062, -4.2745, -4.3018, -4.4302, -4.4772, -4.5467, -4.6506, -4.6725, -4.7182, -4.7904, -4.9167, -4.9183, -4.9975, -5.0573, -5.1265, -1.5214, -1.881, -1.9985, -2.7653, -2.8624, -2.9077, -3.1511, -3.2551, -3.4437, -3.7356, -3.8926, -3.9247, -4.0821, -4.2805, -4.2993, -4.5136, -4.7864, -5.0854, -5.1208, -5.6812, -5.9388, -6.2969, -6.5021, -6.9309, -6.9809, -6.9959, -7.0266, -7.0398, -7.4731, -7.4951, -1.8649, -2.3397, -2.3505, -2.5838, -2.8669, -2.9376, -3.1225, -3.3625, -3.5586, -3.6493, -3.6945, -3.7767, -3.8468, -4.2365, -4.2439, -4.3194, -4.3388, -4.3603, -4.3791, -4.4009, -4.5793, -4.6251, -4.6491, -4.6495, -4.7123, -4.7621, -4.841, -4.9853, -5.0337, -5.1616, -2.323, -2.3793, -2.5131, -2.6363, -2.64, -2.7145, -2.8133, -2.9064, -3.2303, -3.3347, -3.3423, -3.7348, -3.8095, -3.8773, -4.0537, -4.1042, -4.3704, -4.526, -4.5419, -4.6052, -4.6771, -4.6979, -4.8175, -4.8791, -4.997, -5.022, -5.2297, -5.4129, -5.4943, -5.5011, -0.9206, -2.6866, -2.8947, -2.9072, -3.179, -3.2297, -3.5969, -3.7953, -3.8559, -3.9951, -4.1072, -4.1915, -4.2214, -4.2733, -4.3503, -4.4814, -4.4879, -4.5597, -4.5817, -4.601, -4.708, -4.9793, -4.9964, -5.0081, -5.0518, -5.0658, -5.1509, -5.2149, -5.6759, -5.7997, -2.2088, -2.3285, -2.3786, -2.4028, -2.6594, -2.9591, -3.2908, -3.3469, -3.3941, -3.5, -3.5393, -3.7656, -3.7692, -3.8306, -3.8495, -4.1001, -4.1305, -4.1579, -4.2214, -4.4171, -4.4387, -4.8763, -4.9296, -5.0307, -5.0687, -5.1271, -5.2823, -5.3946, -5.5118, -5.5558, -1.6183, -1.7292, -2.5539, -2.6314, -2.6855, -3.0785, -3.2376, -3.2482, -3.6064, -3.7237, -3.8344, -3.9199, -4.2748, -4.3713, -4.3782, -4.6675, -4.7617, -4.7701, -4.8091, -4.9035, -4.9285, -5.0467, -5.088, -5.1801, -5.9269, -6.0978, -6.1545, -6.2047, -6.3379, -6.8459, -1.1744, -1.6957, -2.2097, -2.7141, -3.3433, -3.5687, -3.6708, -3.8231, -4.0017, -4.0855, -4.5413, -4.5591, -4.5824, -4.6665, -4.6782, -4.7874, -4.8333, -4.9084, -5.062, -5.2619, -5.4671, -5.491, -5.5745, -5.6627, -5.7222, -6.0713, -6.1273, -6.1596, -6.3636, -6.5035, -1.4415, -2.5128, -2.5377, -2.6258, -2.701, -2.8381, -3.2438, -3.3338, -3.3441, -3.7058, -3.805, -3.8305, -4.0746, -4.1109, -4.1124, -4.2088, -4.3302, -4.58, -4.6945, -4.9376, -5.0715, -5.0942, -5.1867, -5.3141, -5.4628, -5.4972, -5.8828, -6.0, -6.0358, -6.2075, -1.1494, -2.1494, -2.3721, -3.0271, -3.0525, -3.197, -3.5798, -3.7713, -3.8098, -3.8842, -4.0535, -4.255, -4.3584, -4.7237, -4.7605, -4.887, -5.0286, -5.1034, -5.165, -5.2251, -5.2737, -5.284, -5.2903, -5.2959, -5.3732, -5.4355, -5.4376, -5.5021, -5.7975, -5.8052, -1.797, -2.0333, -2.1579, -2.6403, -3.3213, -3.3742, -3.4832, -3.5954, -3.6062, -3.8592, -3.8893, -4.0331, -4.0413, -4.2512, -4.2791, -4.3948, -4.4174, -4.4319, -4.4811, -4.5104, -4.5447, -4.6301, -4.7497, -4.7609, -4.7767, -4.8244, -4.8848, -5.0117, -5.1418, -5.1485, -1.9457, -2.2623, -2.7856, -2.8023, -2.81, -2.916, -3.1918, -3.2932, -3.3172, -3.3286, -3.3295, -3.3809, -3.7759, -3.8155, -3.8258, -4.1107, -4.3499, -4.3577, -4.3756, -4.5324, -4.541, -4.6442, -4.6764, -4.7342, -4.9581, -5.4928, -5.8154, -6.0433, -6.0599, -6.5327, -2.4492, -2.564, -2.7983, -2.8543, -2.9539, -2.9631, -2.9943, -3.04, -3.0537, -3.1911, -3.3172, -3.3307, -3.7224, -3.7919, -3.8482, -3.8941, -3.9834, -4.0669, -4.0876, -4.0921, -4.5331, -4.6111, -4.6204, -4.6726, -4.6794, -4.7459, -4.865, -5.0429, -5.2691, -5.294, -1.7528, -2.1003, -2.4055, -2.8937, -3.0063, -3.2822, -3.4133, -3.5234, -3.5917, -3.7732, -3.7877, -3.8076, -3.8581, -3.8937, -3.9888, -4.1302, -4.1557, -4.3206, -4.371, -4.5073, -4.5403, -4.5816, -4.7832, -4.8595, -4.8784, -5.012, -5.0703, -5.0968, -5.5239, -5.6589, -1.4778, -1.4785, -1.7876, -3.3587, -3.4002, -3.7194, -3.7942, -4.128, -4.1502, -4.29, -4.4386, -4.4849, -4.5026, -4.6731, -4.7148, -4.7572, -4.927, -4.9594, -4.983, -5.0109, -5.1095, -5.111, -5.1717, -5.2332, -5.4615, -5.6224, -5.703, -6.0354, -6.203, -6.2217, -1.9685, -2.5626, -2.6099, -2.7724, -3.1497, -3.1854, -3.2799, -3.3508, -3.4288, -3.4304, -3.4852, -3.5623, -3.6618, -3.7088, -3.7623, -3.9726, -4.043, -4.0459, -4.1945, -4.2455, -4.3041, -4.3072, -4.3539, -4.6778, -4.7844, -4.8451, -4.92, -4.9658, -5.1683, -5.2663, -2.0987, -2.148, -2.2973, -2.8469, -2.8949, -3.0053, -3.2407, -3.2836, -3.5125, -3.7283, -3.9306, -4.0834, -4.0946, -4.1657, -4.2035, -4.2207, -4.2279, -4.3012, -4.3671, -4.3757, -4.3874, -4.5384, -4.544, -4.5656, -4.5832, -4.931, -4.9313, -4.9401, -4.9805, -4.991, -2.0571, -2.3715, -2.3906, -2.4541, -2.5719, -2.7129, -2.9023, -3.2322, -3.3687, -3.3893, -3.5938, -3.8742, -3.9192, -4.4562, -4.5609, -4.5931, -4.6379, -4.651, -4.7126, -4.7204, -4.8935, -4.9681, -5.1729, -5.1815, -5.3899, -5.4442, -5.6101, -5.6614, -5.7012, -5.7413, -1.5933, -2.3558, -2.4926, -2.5023, -2.9838, -3.2026, -3.2925, -3.4063, -3.6427, -3.7295, -3.8445, -3.8941, -3.9269, -3.9995, -4.1469, -4.3737, -4.4661, -4.5024, -4.5218, -4.5954, -4.614, -4.8061, -4.92, -5.091, -5.1908, -5.2256, -5.2326, -5.3122, -5.3895, -5.4987, -2.3256, -2.3684, -2.4885, -2.5915, -2.8223, -2.8504, -2.8516, -2.9542, -2.9985, -3.1087, -3.6416, -3.9162, -4.0552, -4.1699, -4.1775, -4.2014, -4.2465, -4.5033, -4.5701, -4.5856, -4.5929, -4.7257, -5.0292, -5.172, -5.1964, -5.2798, -5.3746, -5.6178, -5.7869, -5.9557, -1.926, -2.2373, -2.4252, -2.444, -2.4839, -3.1471, -3.2449, -3.3451, -3.413, -3.5786, -3.7611, -3.785, -4.1035, -4.1416, -4.2109, -4.3567, -4.397, -4.591, -4.6023, -4.783, -4.8778, -4.9075, -4.9109, -5.0073, -5.7898, -5.8104, -5.9767, -6.1907, -6.3079, -6.7328, -2.1173, -2.3433, -2.4231, -2.4258, -2.4582, -2.7203, -2.9511, -2.9812, -3.1266, -3.6717, -3.7642, -3.7918, -3.9608, -4.2335, -4.3494, -4.7501, -4.7722, -4.7831, -4.7874, -5.1212, -5.1256, -5.1591, -5.1978, -5.2467, -5.3801, -5.4162, -5.4608, -5.5237, -5.5362, -5.6323, -1.8648, -2.1319, -2.6848, -2.7565, -2.9635, -2.9957, -3.0242, -3.1334, -3.3627, -3.7023, -3.7543, -3.8547, -3.8896, -4.035, -4.1624, -4.1696, -4.1911, -4.3151, -4.4242, -4.4717, -4.506, -4.645, -4.9567, -5.0579, -5.0672, -5.2769, -5.2907, -5.5403, -5.5475, -5.5933, -1.6028, -2.412, -2.5553, -2.7479, -3.1485, -3.3184, -3.3681, -3.4307, -3.549, -3.6111, -3.6144, -3.8848, -3.9343, -4.0107, -4.0519, -4.0562, -4.1109, -4.1255, -4.2147, -4.4514, -4.5556, -4.5792, -4.6751, -4.7728, -4.8626, -4.9681, -5.0547, -5.4109, -5.4979, -5.5042, -1.082, -2.5284, -2.7441, -2.7925, -3.1141, -3.231, -3.562, -3.7282, -3.7826, -3.7873, -3.9208, -4.112, -4.1135, -4.1756, -4.2631, -4.5662, -4.6373, -4.6876, -4.7342, -4.9947, -5.0275, -5.157, -5.1729, -5.3304, -5.4287, -5.6184, -5.7081, -5.8073, -5.8212, -5.9222, -1.5453, -2.0538, -2.1137, -3.3179, -3.3774, -3.5164, -3.5182, -3.8037, -3.8327, -3.8928, -3.8945, -3.9084, -3.9453, -4.0728, -4.1381, -4.264, -4.3701, -4.4128, -4.4135, -4.4393, -4.5057, -4.5654, -4.5777, -4.631, -4.7224, -4.9444, -4.9715, -5.0915, -5.2232, -5.3305, -1.5304, -1.7869, -2.4337, -2.7862, -2.8238, -2.8851, -3.2889, -3.3051, -3.5629, -3.8283, -3.8612, -3.914, -3.9224, -4.0859, -4.3899, -4.4805, -4.6365, -4.7545, -5.0046, -5.2142, -5.4943, -5.7498, -5.9045, -5.9384, -5.9452, -6.4005, -6.4336, -6.6136, -6.8316, -8.4004, -2.0694, -2.2683, -2.3662, -2.6263, -2.6365, -2.642, -2.9452, -3.2881, -3.3746, -3.378, -3.4517, -3.6233, -3.8167, -3.8789, -3.9928, -4.2278, -4.4031, -4.5378, -4.8301, -4.9351, -5.1081, -5.515, -5.5553, -5.622, -5.6904, -6.1653, -6.6245, -6.6588, -7.0397, -7.4849, -1.9884, -2.4723, -2.7076, -2.7464, -2.9119, -2.935, -3.0565, -3.1651, -3.2685, -3.2723, -3.5685, -3.7524, -3.8457, -4.0111, -4.048, -4.0729, -4.1376, -4.318, -4.3608, -4.3835, -4.4982, -4.4983, -4.5816, -4.6822, -4.7301, -4.863, -5.3986, -5.4019, -5.4814, -5.626, -1.9537, -2.3785, -2.4643, -2.6323, -2.6739, -2.7045, -2.8984, -3.0821, -3.2794, -3.4015, -3.8308, -3.9552, -4.0279, -4.2395, -4.2859, -4.3281, -4.4556, -4.4738, -4.7268, -4.867, -4.9801, -5.0056, -5.1308, -5.2152, -5.3879, -5.5639, -5.701, -5.7409, -5.8295, -5.8977, -1.3241, -2.4575, -2.7781, -2.8262, -2.9434, -2.9826, -3.2112, -3.3011, -3.375, -3.7406, -3.8389, -3.9321, -3.9394, -4.0063, -4.1033, -4.3008, -4.5506, -4.7951, -4.8093, -4.8196, -4.8921, -5.0854, -5.1669, -5.4217, -5.5526, -5.607, -5.6539, -5.6745, -5.7898, -5.9261, -2.0648, -2.1137, -2.7456, -3.1982, -3.2184, -3.2955, -3.3081, -3.3405, -3.3992, -3.4964, -3.5819, -3.6224, -3.6591, -3.7276, -3.8857, -4.1558, -4.3435, -4.4068, -4.434, -4.4743, -4.4787, -4.6639, -5.0031, -5.1189, -5.16, -5.3225, -5.3772, -5.4387, -5.8352, -6.4413, -1.4878, -2.4818, -2.5326, -2.9064, -3.0105, -3.1591, -3.2342, -3.3731, -3.4405, -3.6564, -3.751, -3.8173, -3.9321, -3.9331, -4.1634, -4.1697, -4.3157, -4.5126, -4.5495, -4.665, -4.7107, -4.8546, -4.9831, -5.0528, -5.1168, -5.1239, -5.3141, -5.4482, -5.6163, -5.6395, -0.9984, -1.3339, -2.7867, -3.3592, -4.0317, -4.1351, -4.2363, -4.2571, -4.2919, -4.3641, -4.4753, -4.7321, -4.7452, -4.7494, -4.81, -4.8144, -4.9582, -4.9944, -5.162, -5.1734, -5.1903, -5.1952, -5.2165, -5.3195, -5.5862, -5.851, -6.0195, -6.1923, -6.1938, -6.328, -1.6385, -1.7164, -2.0964, -2.8824, -3.2915, -3.4681, -3.7767, -3.9096, -3.914, -3.9678, -4.0105, -4.1568, -4.2872, -4.4151, -4.5185, -4.535, -4.5376, -4.5884, -4.6262, -4.8063, -4.8315, -4.8965, -4.9696, -5.0612, -5.1579, -5.2333, -5.3273, -5.3872, -5.4634, -5.5576, -2.1368, -2.3075, -2.5148, -2.8736, -2.9071, -3.2197, -3.3088, -3.3311, -3.6827, -3.7074, -3.7308, -3.7628, -3.8316, -3.8555, -3.9602, -3.9729, -3.9768, -3.9846, -4.1046, -4.2706, -4.2758, -4.3095, -4.336, -4.4436, -4.6398, -4.6812, -4.7296, -4.8624, -5.2388, -5.3668, -2.1613, -2.3459, -2.4956, -2.5707, -2.6214, -3.0199, -3.1745, -3.2941, -3.4368, -3.4513, -3.4738, -3.4945, -3.5226, -3.6575, -3.8549, -4.2587, -4.2592, -4.2767, -4.4385, -4.4619, -4.466, -4.5856, -5.024, -5.166, -5.3886, -5.7413, -5.7926, -5.8903, -5.9435, -6.3097, -2.3565, -2.6039, -2.637, -2.7001, -2.8989, -2.9751, -3.0792, -3.1129, -3.2276, -3.267, -3.5621, -3.6352, -3.7256, -3.7504, -3.759, -3.9139, -4.0159, -4.1461, -4.2179, -4.3872, -4.5621, -4.5685, -4.6119, -4.6258, -4.7024, -4.7829, -4.9603, -5.1684, -5.3572, -5.5485, -1.9137, -2.5702, -2.6306, -2.7221, -2.7313, -2.8537, -3.1251, -3.1808, -3.2747, -3.5156, -3.8353, -3.8513, -3.945, -3.9555, -4.0016, -4.0364, -4.0643, -4.2706, -4.3977, -4.4422, -4.6324, -4.636, -4.7047, -4.7555, -4.7623, -4.773, -4.8553, -5.1965, -5.289, -5.5223, -2.1603, -2.2796, -2.3287, -2.6161, -2.9076, -3.2926, -3.3107, -3.3318, -3.4158, -3.4422, -3.5074, -3.704, -3.8023, -3.8351, -3.855, -3.9344, -3.9764, -4.3957, -4.4234, -4.6418, -4.7336, -4.7762, -4.8531, -4.8757, -4.8905, -5.3792, -5.4943, -5.6118, -5.6292, -6.1651, -1.3456, -2.1138, -2.5029, -2.5643, -2.6555, -3.104, -3.4112, -3.4622, -3.7287, -4.0867, -4.1946, -4.2554, -4.5486, -4.5851, -4.7492, -4.7794, -4.781, -4.8648, -4.8807, -4.9268, -5.106, -5.1637, -5.1884, -5.3351, -5.6737, -5.7907, -5.8892, -6.2472, -6.3893, -6.3942, -2.2242, -2.6352, -2.7639, -2.8738, -2.9248, -2.9482, -3.0252, -3.1457, -3.2416, -3.3133, -3.4059, -3.4603, -3.6738, -3.7277, -3.8067, -3.8197, -3.9389, -3.994, -4.0983, -4.3288, -4.5035, -4.585, -4.5907, -4.6339, -4.8274, -5.1059, -5.1338, -5.2236, -5.2769, -5.7735, -2.0539, -2.3625, -2.3776, -2.639, -2.7082, -2.9055, -3.0273, -3.0919, -3.4437, -3.5987, -3.8602, -3.958, -3.9867, -3.9889, -4.1131, -4.3361, -4.345, -4.359, -4.3992, -4.5148, -4.6252, -4.7176, -4.8489, -4.9284, -5.0807, -5.3075, -5.3307, -5.3794, -5.67, -5.8043, -2.3355, -2.5836, -2.6457, -2.689, -2.7234, -2.994, -3.1763, -3.2617, -3.2659, -3.3623, -3.4192, -3.4451, -3.5353, -3.6095, -3.7528, -3.9992, -4.0923, -4.1805, -4.2801, -4.3908, -4.4355, -4.8181, -5.0363, -5.1737, -5.2496, -5.3928, -5.6619, -5.6833, -5.7498, -5.9033, -1.6367, -2.5974, -2.6185, -2.8922, -2.8924, -3.0411, -3.2209, -3.2212, -3.3186, -3.3385, -3.5449, -3.5931, -3.6759, -3.8184, -3.9572, -4.1443, -4.2925, -4.3873, -4.4472, -4.5829, -4.6554, -4.8818, -4.9915, -5.2856, -5.3298, -5.4353, -5.5304, -5.7319, -6.3046, -6.5922, -2.0378, -2.3027, -2.4626, -2.5878, -2.9675, -2.9699, -3.526, -3.564, -3.5659, -3.6744, -3.6789, -3.7513, -3.7694, -3.9258, -4.0265, -4.0872, -4.1358, -4.286, -4.3683, -4.3736, -4.4323, -4.4739, -4.6159, -4.682, -4.687, -4.7371, -4.9988, -5.07, -5.0879, -5.3864, -1.6192, -1.7523, -2.8923, -2.968, -3.1456, -3.2575, -3.468, -3.4975, -3.8028, -3.9146, -3.919, -3.9306, -3.9663, -4.1079, -4.2778, -4.3192, -4.4197, -4.4848, -4.5285, -4.5344, -4.666, -4.7842, -4.9349, -5.0456, -5.1262, -5.1545, -5.1601, -5.162, -5.2421, -5.3191, -1.8718, -2.0617, -2.6951, -2.8217, -2.8637, -3.0548, -3.1316, -3.1966, -3.501, -3.6176, -3.7976, -3.8268, -3.836, -4.1152, -4.1457, -4.2291, -4.2314, -4.2566, -4.2654, -4.4261, -4.4282, -4.7422, -4.7497, -4.8242, -4.9335, -5.3324, -5.5588, -6.3352, -6.3894, -6.4874, -1.1868, -2.8077, -3.1256, -3.2628, -3.2665, -3.406, -3.4453, -3.5456, -3.6876, -3.7732, -3.8658, -3.9184, -4.0263, -4.0572, -4.1862, -4.306, -4.3464, -4.6398, -4.6938, -4.8106, -4.8967, -4.9108, -5.0318, -5.0571, -5.1055, -5.3397, -5.4025, -5.4751, -5.4784, -5.6091, -2.2245, -2.3035, -2.3233, -2.3245, -2.5237, -3.195, -3.2085, -3.2416, -3.3801, -3.5619, -3.6533, -3.8966, -4.0649, -4.0843, -4.0868, -4.1504, -4.2643, -4.3372, -4.6377, -4.6641, -4.8802, -5.2918, -5.4414, -5.4743, -5.5323, -6.1338, -6.2811, -6.5121, -6.6202, -6.8632, -2.3743, -2.6206, -2.6943, -2.7247, -3.002, -3.1424, -3.2088, -3.2153, -3.2294, -3.378, -3.4651, -3.5567, -3.6048, -3.8815, -3.9172, -3.9615, -4.0243, -4.2154, -4.278, -4.3434, -4.3503, -4.3607, -4.4638, -4.5913, -4.8116, -4.8453, -4.9096, -5.1679, -5.2171, -5.3481, -1.783, -2.8759, -2.9606, -3.0848, -3.1007, -3.1219, -3.1309, -3.3352, -3.4796, -3.4897, -3.5122, -3.7092, -3.7723, -3.8587, -3.907, -3.911, -3.9399, -4.0496, -4.106, -4.446, -4.5188, -4.5499, -4.5867, -4.6576, -4.6636, -4.7386, -4.7425, -4.9387, -5.1463, -5.1501, -1.6349, -2.1691, -2.6693, -2.7738, -2.8604, -2.9998, -3.1762, -3.1919, -3.2715, -3.6834, -3.7922, -4.1914, -4.45, -4.4585, -4.4771, -4.4875, -4.5709, -4.6452, -4.7837, -4.9942, -5.0478, -5.1331, -5.1796, -5.2988, -5.3102, -5.3905, -5.4992, -5.5438, -5.6509, -5.759, -2.4702, -2.5535, -2.6706, -2.8809, -2.9384, -2.9973, -3.3062, -3.3656, -3.3712, -3.487, -3.5268, -3.6543, -3.6611, -3.7363, -3.7794, -3.9171, -3.9833, -4.1248, -4.1772, -4.3138, -4.3232, -4.3376, -4.6022, -4.6283, -4.7809, -4.8011, -5.0035, -5.0452, -5.0722, -5.2417, -1.7584, -2.3433, -2.5682, -2.8506, -3.087, -3.1126, -3.1363, -3.646, -3.795, -3.8085, -3.85, -3.9122, -4.0547, -4.2656, -4.3245, -4.3638, -4.4089, -4.5165, -4.5706, -4.698, -4.7152, -4.7677, -4.8351, -4.8392, -4.8455, -4.8559, -4.9434, -5.081, -5.2151, -5.2707, -2.1274, -2.2558, -2.2576, -2.7809, -3.1616, -3.2828, -3.3018, -3.5939, -3.5956, -3.6949, -3.7207, -3.7465, -3.9915, -4.0588, -4.0655, -4.1512, -4.1734, -4.1942, -4.2269, -4.2884, -4.7086, -4.8006, -4.8745, -4.9569, -4.9678, -5.2419, -5.2514, -5.3879, -5.4974, -5.7587, -1.0785, -2.1064, -2.8092, -3.633, -3.8211, -3.9301, -4.007, -4.1296, -4.1679, -4.1753, -4.1768, -4.2369, -4.2667, -4.4038, -4.4906, -4.5083, -4.522, -4.62, -4.6809, -4.707, -4.7219, -4.775, -5.0034, -5.0282, -5.0319, -5.0387, -5.0938, -5.2179, -5.2269, -5.2606, -1.9991, -2.3977, -2.502, -2.6995, -2.8883, -2.8948, -3.2102, -3.6921, -3.7553, -3.8133, -3.8644, -3.9387, -3.992, -4.0363, -4.053, -4.1274, -4.1366, -4.2332, -4.2694, -4.3586, -4.4491, -4.5216, -4.6433, -4.7903, -4.8842, -5.0411, -5.1749, -5.3172, -5.4168, -5.551], \"loglift\": [30.0, 29.0, 28.0, 27.0, 26.0, 25.0, 24.0, 23.0, 22.0, 21.0, 20.0, 19.0, 18.0, 17.0, 16.0, 15.0, 14.0, 13.0, 12.0, 11.0, 10.0, 9.0, 8.0, 7.0, 6.0, 5.0, 4.0, 3.0, 2.0, 1.0, 3.467, 3.4651, 3.4625, 3.4602, 3.4601, 3.46, 3.46, 3.4594, 3.4587, 3.4573, 3.4568, 3.455, 3.4538, 3.4491, 3.4474, 3.4473, 3.4458, 3.4421, 3.4387, 3.4385, 3.4372, 3.4367, 3.4324, 3.4308, 3.4304, 3.4068, 3.4009, 3.3908, 3.372, 3.3474, 3.6779, 3.6779, 3.6775, 3.677, 3.6769, 3.6768, 3.6764, 3.6762, 3.6755, 3.6752, 3.6749, 3.6742, 3.6741, 3.6729, 3.6723, 3.6717, 3.6712, 3.6701, 3.67, 3.6688, 3.6681, 3.6648, 3.6617, 3.6577, 3.6553, 3.6514, 3.5946, 3.5932, 3.5829, 3.4428, 3.7203, 3.72, 3.7199, 3.7193, 3.7188, 3.7187, 3.7186, 3.7184, 3.7182, 3.7162, 3.7159, 3.7155, 3.7151, 3.7115, 3.7106, 3.7104, 3.7079, 3.7073, 3.694, 3.6789, 3.6618, 3.6341, 3.6337, 3.5876, 3.5755, 3.442, 2.8544, 0.7458, -0.6112, -0.616, -1.2377, -3.83, 3.7877, 3.7863, 3.7862, 3.7861, 3.7847, 3.7839, 3.7824, 3.782, 3.7802, 3.7793, 3.7785, 3.7783, 3.777, 3.7767, 3.7748, 3.7725, 3.7678, 3.7662, 3.7655, 3.7648, 3.7626, 3.762, 3.7603, 3.7596, 3.7587, 3.755, 3.7525, 3.7511, 3.7499, 3.7452, 3.8539, 3.8538, 3.8531, 3.853, 3.853, 3.8525, 3.8518, 3.8518, 3.8515, 3.8509, 3.8508, 3.8503, 3.8496, 3.8482, 3.8481, 3.848, 3.8472, 3.8445, 3.8444, 3.8438, 3.8433, 3.8424, 3.8407, 3.8402, 3.8375, 3.8331, 3.8328, 3.8279, 3.8254, 3.8209, 3.8644, 3.8644, 3.8642, 3.8632, 3.8631, 3.8624, 3.8615, 3.8609, 3.86, 3.86, 3.8597, 3.8594, 3.8587, 3.8587, 3.8578, 3.8553, 3.8523, 3.8516, 3.8493, 3.848, 3.843, 3.8416, 3.8313, 3.8311, 3.8122, 3.752, 3.7435, 3.7381, 3.713, 3.7024, 3.8969, 3.8961, 3.8961, 3.8957, 3.8956, 3.8947, 3.8947, 3.8941, 3.893, 3.8928, 3.8925, 3.8917, 3.8913, 3.8912, 3.8912, 3.891, 3.8906, 3.8904, 3.8894, 3.8891, 3.8885, 3.8875, 3.8873, 3.8869, 3.8861, 3.8846, 3.8846, 3.8836, 3.8827, 3.8817, 3.944, 3.9438, 3.9437, 3.9429, 3.9427, 3.9427, 3.9422, 3.9419, 3.9414, 3.9404, 3.9397, 3.9395, 3.9387, 3.9374, 3.9373, 3.9356, 3.9328, 3.9288, 3.9282, 3.9162, 3.9081, 3.8928, 3.8814, 3.8492, 3.8446, 3.8431, 3.8401, 3.8388, 3.7859, 3.7826, 3.9763, 3.9759, 3.9759, 3.9757, 3.9752, 3.9751, 3.9747, 3.9741, 3.9735, 3.9731, 3.973, 3.9726, 3.9723, 3.9701, 3.97, 3.9695, 3.9693, 3.9692, 3.969, 3.9688, 3.9672, 3.9668, 3.9665, 3.9665, 3.9659, 3.9653, 3.9643, 3.9624, 3.9617, 3.9596, 3.9989, 3.9988, 3.9986, 3.9985, 3.9985, 3.9984, 3.9982, 3.998, 3.9973, 3.997, 3.997, 3.9956, 3.9953, 3.995, 3.994, 3.9937, 3.9918, 3.9905, 3.9903, 3.9897, 3.9889, 3.9887, 3.9873, 3.9865, 3.9848, 3.9844, 3.9809, 3.9771, 3.9752, 3.975, 4.0055, 4.0042, 4.0039, 4.0039, 4.0033, 4.0031, 4.002, 4.0011, 4.0009, 4.0001, 3.9995, 3.9989, 3.9987, 3.9983, 3.9977, 3.9966, 3.9966, 3.9959, 3.9957, 3.9955, 3.9943, 3.9908, 3.9905, 3.9903, 3.9897, 3.9894, 3.988, 3.9868, 3.9759, 3.9721, 4.0334, 4.0333, 4.0332, 4.0332, 4.0329, 4.0323, 4.0315, 4.0314, 4.0312, 4.0309, 4.0307, 4.0298, 4.0298, 4.0295, 4.0294, 4.028, 4.0278, 4.0276, 4.0272, 4.0256, 4.0254, 4.0206, 4.0198, 4.0183, 4.0176, 4.0166, 4.0137, 4.0113, 4.0084, 4.0073, 4.0356, 4.0355, 4.0348, 4.0346, 4.0346, 4.0338, 4.0334, 4.0334, 4.0322, 4.0317, 4.0312, 4.0308, 4.0285, 4.0277, 4.0277, 4.0248, 4.0237, 4.0236, 4.0231, 4.0219, 4.0215, 4.0197, 4.019, 4.0173, 3.9969, 3.9898, 3.9871, 3.9847, 3.9775, 3.9406, 4.0503, 4.0501, 4.0497, 4.049, 4.0476, 4.0468, 4.0464, 4.0457, 4.0448, 4.0443, 4.0406, 4.0404, 4.0401, 4.0392, 4.0391, 4.0378, 4.0372, 4.0361, 4.0337, 4.03, 4.0254, 4.0247, 4.0225, 4.02, 4.0181, 4.0048, 4.0022, 4.0007, 3.9897, 3.9809, 4.076, 4.0751, 4.0751, 4.0749, 4.0748, 4.0746, 4.0736, 4.0734, 4.0733, 4.072, 4.0715, 4.0714, 4.07, 4.0697, 4.0697, 4.069, 4.0681, 4.0657, 4.0644, 4.0611, 4.0589, 4.0585, 4.0568, 4.0542, 4.0506, 4.0498, 4.0374, 4.0327, 4.0311, 4.0228, 4.0862, 4.0856, 4.0854, 4.0843, 4.0842, 4.0838, 4.0826, 4.0817, 4.0815, 4.0811, 4.0802, 4.0787, 4.0779, 4.0741, 4.0736, 4.0719, 4.0696, 4.0683, 4.0672, 4.066, 4.065, 4.0648, 4.0646, 4.0645, 4.0628, 4.0612, 4.0612, 4.0595, 4.0504, 4.0501, 4.0862, 4.086, 4.0859, 4.0853, 4.0837, 4.0836, 4.0832, 4.0828, 4.0827, 4.0815, 4.0814, 4.0805, 4.0805, 4.079, 4.0788, 4.0778, 4.0776, 4.0775, 4.077, 4.0767, 4.0763, 4.0754, 4.074, 4.0738, 4.0736, 4.073, 4.0721, 4.0702, 4.0679, 4.0677, 4.1086, 4.1083, 4.1076, 4.1076, 4.1075, 4.1073, 4.1067, 4.1064, 4.1063, 4.1063, 4.1063, 4.1061, 4.1045, 4.1043, 4.1042, 4.1025, 4.1006, 4.1006, 4.1004, 4.0989, 4.0988, 4.0976, 4.0973, 4.0965, 4.0933, 4.0821, 4.0719, 4.0625, 4.0617, 4.0339, 4.1098, 4.1096, 4.1092, 4.1091, 4.1089, 4.1089, 4.1088, 4.1087, 4.1087, 4.1083, 4.1079, 4.1079, 4.1064, 4.106, 4.1057, 4.1055, 4.105, 4.1044, 4.1043, 4.1043, 4.1005, 4.0996, 4.0995, 4.0989, 4.0988, 4.098, 4.0963, 4.0935, 4.0891, 4.0885, 4.1157, 4.1154, 4.1151, 4.1143, 4.1141, 4.1133, 4.1129, 4.1125, 4.1122, 4.1114, 4.1113, 4.1112, 4.1109, 4.1107, 4.1102, 4.1092, 4.1091, 4.1078, 4.1073, 4.106, 4.1057, 4.1052, 4.1027, 4.1016, 4.1014, 4.0992, 4.0982, 4.0977, 4.0879, 4.0839, 4.1301, 4.1301, 4.1299, 4.1273, 4.1271, 4.1258, 4.1254, 4.1234, 4.1232, 4.1221, 4.1208, 4.1203, 4.1201, 4.1182, 4.1176, 4.1171, 4.1146, 4.1141, 4.1137, 4.1132, 4.1114, 4.1114, 4.1102, 4.1089, 4.1034, 4.0987, 4.0961, 4.0828, 4.0743, 4.0733, 4.1349, 4.1342, 4.1341, 4.1338, 4.133, 4.1329, 4.1326, 4.1324, 4.1321, 4.1321, 4.1319, 4.1316, 4.1311, 4.1309, 4.1307, 4.1295, 4.129, 4.129, 4.1279, 4.1275, 4.127, 4.127, 4.1266, 4.1231, 4.1217, 4.1208, 4.1197, 4.119, 4.1152, 4.1131, 4.1515, 4.1514, 4.1513, 4.1504, 4.1503, 4.15, 4.1494, 4.1493, 4.1485, 4.1475, 4.1464, 4.1454, 4.1453, 4.1448, 4.1445, 4.1444, 4.1443, 4.1437, 4.1431, 4.143, 4.1429, 4.1413, 4.1413, 4.141, 4.1408, 4.136, 4.136, 4.1359, 4.1352, 4.135, 4.1676, 4.1672, 4.1672, 4.1671, 4.1669, 4.1667, 4.1663, 4.1655, 4.165, 4.1649, 4.1641, 4.1627, 4.1624, 4.1581, 4.157, 4.1566, 4.1561, 4.1559, 4.1551, 4.155, 4.1525, 4.1512, 4.1473, 4.1471, 4.1423, 4.1408, 4.1359, 4.1342, 4.1328, 4.1314, 4.1789, 4.1782, 4.178, 4.178, 4.1771, 4.1765, 4.1762, 4.1758, 4.1748, 4.1744, 4.1738, 4.1735, 4.1733, 4.1728, 4.1718, 4.1698, 4.1689, 4.1685, 4.1683, 4.1674, 4.1672, 4.1646, 4.1628, 4.1597, 4.1577, 4.1569, 4.1568, 4.1549, 4.1529, 4.1499, 4.1843, 4.1843, 4.1841, 4.1839, 4.1835, 4.1835, 4.1835, 4.1832, 4.1831, 4.1828, 4.1809, 4.1794, 4.1785, 4.1776, 4.1776, 4.1774, 4.177, 4.1745, 4.1738, 4.1736, 4.1735, 4.1718, 4.1669, 4.1641, 4.1636, 4.1617, 4.1593, 4.1522, 4.1462, 4.1391, 4.1874, 4.1871, 4.1868, 4.1868, 4.1867, 4.1854, 4.1851, 4.1847, 4.1845, 4.1838, 4.1829, 4.1828, 4.1808, 4.1805, 4.1799, 4.1786, 4.1782, 4.1761, 4.176, 4.1736, 4.1721, 4.1717, 4.1716, 4.1699, 4.1487, 4.1479, 4.1407, 4.1297, 4.1227, 4.0896, 4.1888, 4.1886, 4.1885, 4.1885, 4.1884, 4.188, 4.1875, 4.1874, 4.187, 4.185, 4.1845, 4.1844, 4.1834, 4.1813, 4.1803, 4.1756, 4.1753, 4.1751, 4.1751, 4.1693, 4.1692, 4.1685, 4.1676, 4.1665, 4.1633, 4.1623, 4.1611, 4.1592, 4.1588, 4.1558, 4.19, 4.1898, 4.189, 4.1889, 4.1884, 4.1884, 4.1883, 4.188, 4.1873, 4.1858, 4.1856, 4.185, 4.1848, 4.1839, 4.1829, 4.1828, 4.1827, 4.1816, 4.1805, 4.18, 4.1797, 4.178, 4.1734, 4.1715, 4.1713, 4.1668, 4.1665, 4.1597, 4.1595, 4.158, 4.1928, 4.192, 4.1918, 4.1915, 4.1905, 4.19, 4.1898, 4.1896, 4.1891, 4.1888, 4.1888, 4.1874, 4.1871, 4.1866, 4.1863, 4.1863, 4.1858, 4.1857, 4.185, 4.1828, 4.1816, 4.1814, 4.1802, 4.1788, 4.1774, 4.1757, 4.1741, 4.1659, 4.1635, 4.1633, 4.1976, 4.1964, 4.196, 4.1959, 4.1952, 4.1948, 4.1936, 4.1928, 4.1925, 4.1925, 4.1917, 4.1904, 4.1904, 4.1899, 4.1891, 4.186, 4.1851, 4.1845, 4.1838, 4.1797, 4.1791, 4.1765, 4.1761, 4.1724, 4.1698, 4.1641, 4.1609, 4.1572, 4.1566, 4.1523, 4.1988, 4.1984, 4.1984, 4.1959, 4.1957, 4.1952, 4.1952, 4.1938, 4.1936, 4.1933, 4.1933, 4.1932, 4.1929, 4.1921, 4.1916, 4.1905, 4.1895, 4.1891, 4.1891, 4.1888, 4.1881, 4.1874, 4.1873, 4.1866, 4.1854, 4.182, 4.1815, 4.1792, 4.1764, 4.1738, 4.2063, 4.2062, 4.2055, 4.2049, 4.2048, 4.2047, 4.2035, 4.2035, 4.2025, 4.2011, 4.2009, 4.2006, 4.2005, 4.1994, 4.1968, 4.1958, 4.1939, 4.1923, 4.1882, 4.1839, 4.1766, 4.1679, 4.1615, 4.16, 4.1597, 4.1334, 4.131, 4.1167, 4.0959, 3.7598, 4.2073, 4.207, 4.2069, 4.2065, 4.2065, 4.2065, 4.2059, 4.2049, 4.2046, 4.2046, 4.2043, 4.2035, 4.2025, 4.2022, 4.2014, 4.1996, 4.198, 4.1965, 4.1926, 4.1908, 4.1876, 4.1774, 4.1761, 4.1739, 4.1716, 4.1499, 4.1174, 4.1144, 4.0736, 4.0054, 4.2171, 4.2165, 4.2161, 4.216, 4.2156, 4.2156, 4.2153, 4.215, 4.2146, 4.2146, 4.2135, 4.2126, 4.212, 4.211, 4.2107, 4.2105, 4.21, 4.2085, 4.2081, 4.2078, 4.2066, 4.2066, 4.2056, 4.2043, 4.2037, 4.2016, 4.1902, 4.1901, 4.1879, 4.1833, 4.2238, 4.2233, 4.2231, 4.2229, 4.2228, 4.2227, 4.2223, 4.2219, 4.2213, 4.2208, 4.2188, 4.218, 4.2175, 4.2158, 4.2154, 4.215, 4.2137, 4.2135, 4.2103, 4.2081, 4.2062, 4.2057, 4.2032, 4.2013, 4.197, 4.1917, 4.187, 4.1855, 4.1819, 4.179, 4.2273, 4.2262, 4.2257, 4.2256, 4.2253, 4.2252, 4.2246, 4.2243, 4.224, 4.2223, 4.2218, 4.2212, 4.2211, 4.2207, 4.22, 4.2183, 4.2156, 4.2123, 4.212, 4.2119, 4.2107, 4.2071, 4.2054, 4.199, 4.195, 4.1932, 4.1916, 4.1908, 4.1864, 4.1805, 4.2337, 4.2336, 4.2327, 4.2315, 4.2315, 4.2312, 4.2312, 4.2311, 4.2308, 4.2305, 4.2301, 4.2299, 4.2297, 4.2294, 4.2285, 4.2265, 4.2249, 4.2242, 4.2239, 4.2235, 4.2234, 4.2212, 4.2158, 4.2135, 4.2126, 4.2088, 4.2073, 4.2056, 4.1918, 4.1574, 4.2374, 4.2364, 4.2363, 4.2356, 4.2353, 4.2349, 4.2347, 4.2342, 4.2339, 4.2329, 4.2324, 4.232, 4.2313, 4.2313, 4.2296, 4.2296, 4.2282, 4.2261, 4.2257, 4.2242, 4.2236, 4.2214, 4.2191, 4.2178, 4.2165, 4.2163, 4.2118, 4.2081, 4.2028, 4.202, 4.2429, 4.2427, 4.2411, 4.2394, 4.2358, 4.235, 4.2342, 4.234, 4.2336, 4.2329, 4.2317, 4.2284, 4.2282, 4.2281, 4.2272, 4.2271, 4.2246, 4.224, 4.2205, 4.2202, 4.2199, 4.2197, 4.2192, 4.2167, 4.2087, 4.1985, 4.1905, 4.1808, 4.1807, 4.172, 4.2679, 4.2679, 4.2675, 4.2662, 4.265, 4.2643, 4.2628, 4.2619, 4.2619, 4.2615, 4.2612, 4.2601, 4.2589, 4.2576, 4.2564, 4.2562, 4.2561, 4.2555, 4.255, 4.2523, 4.2519, 4.2508, 4.2494, 4.2476, 4.2455, 4.2437, 4.2413, 4.2397, 4.2374, 4.2344, 4.2757, 4.2755, 4.2752, 4.2745, 4.2744, 4.2735, 4.2732, 4.2731, 4.2715, 4.2714, 4.2713, 4.2711, 4.2707, 4.2705, 4.2698, 4.2697, 4.2697, 4.2696, 4.2687, 4.2673, 4.2672, 4.2669, 4.2666, 4.2654, 4.263, 4.2624, 4.2617, 4.2595, 4.2517, 4.2483, 4.2763, 4.2761, 4.2758, 4.2757, 4.2756, 4.2747, 4.2743, 4.2738, 4.2733, 4.2732, 4.2731, 4.273, 4.2729, 4.2723, 4.2711, 4.268, 4.268, 4.2678, 4.2661, 4.2658, 4.2658, 4.2643, 4.2571, 4.254, 4.2483, 4.2362, 4.2341, 4.2297, 4.2272, 4.2057, 4.2771, 4.2767, 4.2766, 4.2765, 4.276, 4.2758, 4.2755, 4.2754, 4.2751, 4.2749, 4.2737, 4.2734, 4.2729, 4.2727, 4.2727, 4.2717, 4.271, 4.27, 4.2693, 4.2676, 4.2656, 4.2655, 4.2649, 4.2647, 4.2637, 4.2624, 4.2593, 4.255, 4.2501, 4.2443, 4.2811, 4.2802, 4.2801, 4.2799, 4.2799, 4.2796, 4.2789, 4.2787, 4.2784, 4.2774, 4.2757, 4.2756, 4.275, 4.2749, 4.2746, 4.2743, 4.2741, 4.2723, 4.271, 4.2705, 4.2681, 4.2681, 4.2671, 4.2663, 4.2662, 4.266, 4.2647, 4.2577, 4.2554, 4.2485, 4.292, 4.2918, 4.2918, 4.2913, 4.2907, 4.2895, 4.2894, 4.2893, 4.289, 4.2889, 4.2886, 4.2876, 4.287, 4.2868, 4.2867, 4.2862, 4.2859, 4.2821, 4.2818, 4.279, 4.2777, 4.277, 4.2757, 4.2754, 4.2751, 4.2639, 4.2603, 4.2563, 4.2557, 4.2299, 4.293, 4.2924, 4.2919, 4.2918, 4.2916, 4.2905, 4.2894, 4.2892, 4.2878, 4.2854, 4.2845, 4.2839, 4.2806, 4.2801, 4.2778, 4.2773, 4.2773, 4.2759, 4.2756, 4.2747, 4.2711, 4.2698, 4.2692, 4.2654, 4.2542, 4.2494, 4.245, 4.2248, 4.2147, 4.2143, 4.2954, 4.2948, 4.2945, 4.2942, 4.2941, 4.2941, 4.2939, 4.2935, 4.2932, 4.2929, 4.2925, 4.2923, 4.2913, 4.291, 4.2905, 4.2904, 4.2896, 4.2892, 4.2884, 4.2863, 4.2843, 4.2833, 4.2832, 4.2826, 4.2796, 4.2742, 4.2736, 4.2714, 4.2701, 4.2533, 4.3026, 4.3022, 4.3022, 4.3017, 4.3016, 4.3011, 4.3008, 4.3006, 4.2993, 4.2986, 4.2971, 4.2964, 4.2962, 4.2962, 4.2952, 4.2931, 4.293, 4.2929, 4.2924, 4.291, 4.2896, 4.2882, 4.2861, 4.2846, 4.2815, 4.276, 4.2753, 4.2739, 4.2641, 4.2585, 4.3034, 4.303, 4.3028, 4.3028, 4.3027, 4.302, 4.3015, 4.3012, 4.3012, 4.3008, 4.3006, 4.3005, 4.3001, 4.2997, 4.2989, 4.2973, 4.2965, 4.2958, 4.2948, 4.2937, 4.2932, 4.2878, 4.2837, 4.2806, 4.2788, 4.2748, 4.2657, 4.2649, 4.2622, 4.2553, 4.3288, 4.3276, 4.3276, 4.3269, 4.3269, 4.3265, 4.3259, 4.3259, 4.3256, 4.3255, 4.3246, 4.3243, 4.3239, 4.323, 4.3221, 4.3206, 4.3191, 4.3181, 4.3174, 4.3157, 4.3146, 4.3109, 4.3087, 4.3017, 4.3005, 4.2973, 4.2941, 4.2864, 4.2543, 4.2305, 4.3308, 4.3304, 4.3302, 4.33, 4.3291, 4.3291, 4.327, 4.3268, 4.3268, 4.3262, 4.3262, 4.3258, 4.3257, 4.3246, 4.3239, 4.3234, 4.323, 4.3215, 4.3206, 4.3206, 4.3199, 4.3194, 4.3175, 4.3165, 4.3165, 4.3157, 4.3109, 4.3094, 4.309, 4.3011, 4.3418, 4.3417, 4.34, 4.3397, 4.3392, 4.3388, 4.3379, 4.3378, 4.3361, 4.3353, 4.3353, 4.3352, 4.335, 4.3338, 4.3322, 4.3317, 4.3306, 4.3298, 4.3292, 4.3292, 4.3273, 4.3254, 4.3226, 4.3203, 4.3185, 4.3178, 4.3177, 4.3176, 4.3156, 4.3134, 4.345, 4.3448, 4.3438, 4.3435, 4.3434, 4.3428, 4.3426, 4.3424, 4.3411, 4.3405, 4.3395, 4.3393, 4.3392, 4.3371, 4.3368, 4.336, 4.336, 4.3357, 4.3356, 4.3339, 4.3338, 4.3294, 4.3293, 4.328, 4.326, 4.3164, 4.309, 4.2673, 4.2631, 4.255, 4.3522, 4.3503, 4.3494, 4.3489, 4.3489, 4.3483, 4.3481, 4.3476, 4.3469, 4.3464, 4.3457, 4.3454, 4.3445, 4.3443, 4.3431, 4.3419, 4.3415, 4.3377, 4.3369, 4.335, 4.3334, 4.3331, 4.3306, 4.3301, 4.329, 4.3228, 4.3209, 4.3185, 4.3184, 4.3137, 4.3638, 4.3637, 4.3636, 4.3636, 4.3633, 4.3615, 4.3615, 4.3614, 4.3608, 4.36, 4.3595, 4.3579, 4.3566, 4.3564, 4.3564, 4.3558, 4.3547, 4.3539, 4.35, 4.3496, 4.3459, 4.3363, 4.3317, 4.3306, 4.3286, 4.2994, 4.2893, 4.2706, 4.2603, 4.2333, 4.4016, 4.4011, 4.401, 4.4009, 4.4001, 4.3997, 4.3994, 4.3994, 4.3994, 4.3987, 4.3983, 4.3979, 4.3976, 4.3958, 4.3955, 4.3952, 4.3947, 4.3929, 4.3922, 4.3915, 4.3914, 4.3913, 4.39, 4.3882, 4.3846, 4.3839, 4.3827, 4.3767, 4.3754, 4.3715, 4.4143, 4.4124, 4.4122, 4.4118, 4.4117, 4.4117, 4.4116, 4.4108, 4.4102, 4.4101, 4.41, 4.4089, 4.4084, 4.4078, 4.4075, 4.4074, 4.4072, 4.4063, 4.4058, 4.402, 4.401, 4.4006, 4.4, 4.3989, 4.3988, 4.3976, 4.3975, 4.3937, 4.3888, 4.3887, 4.4505, 4.45, 4.4491, 4.4488, 4.4486, 4.4481, 4.4475, 4.4475, 4.4471, 4.445, 4.4443, 4.4408, 4.4377, 4.4376, 4.4373, 4.4372, 4.4359, 4.4348, 4.4323, 4.4279, 4.4266, 4.4244, 4.4232, 4.4197, 4.4193, 4.4167, 4.4128, 4.411, 4.4066, 4.4016, 4.453, 4.4528, 4.4525, 4.452, 4.4518, 4.4516, 4.4505, 4.4502, 4.4502, 4.4496, 4.4494, 4.4486, 4.4486, 4.4481, 4.4478, 4.4468, 4.4462, 4.4449, 4.4444, 4.4429, 4.4428, 4.4426, 4.4389, 4.4385, 4.4358, 4.4354, 4.4311, 4.4301, 4.4294, 4.4248, 4.5047, 4.5039, 4.5035, 4.5028, 4.502, 4.5019, 4.5018, 4.4992, 4.4982, 4.4981, 4.4977, 4.4972, 4.496, 4.4937, 4.493, 4.4924, 4.4918, 4.4903, 4.4894, 4.4872, 4.4869, 4.4859, 4.4846, 4.4845, 4.4843, 4.4841, 4.4822, 4.4787, 4.4749, 4.4732, 4.5175, 4.5173, 4.5173, 4.5161, 4.5149, 4.5143, 4.5143, 4.5127, 4.5127, 4.512, 4.5118, 4.5117, 4.5097, 4.509, 4.5089, 4.5081, 4.5078, 4.5076, 4.5072, 4.5065, 4.5, 4.4982, 4.4967, 4.4948, 4.4945, 4.487, 4.4867, 4.482, 4.4778, 4.4659, 4.5377, 4.5368, 4.5353, 4.5316, 4.5302, 4.5293, 4.5286, 4.5273, 4.5269, 4.5268, 4.5268, 4.5261, 4.5257, 4.5239, 4.5226, 4.5223, 4.5221, 4.5205, 4.5194, 4.5189, 4.5186, 4.5175, 4.5123, 4.5116, 4.5115, 4.5114, 4.5099, 4.5062, 4.5059, 4.5048, 4.5776, 4.577, 4.5768, 4.5763, 4.5757, 4.5757, 4.5745, 4.5717, 4.5712, 4.5707, 4.5703, 4.5696, 4.5691, 4.5687, 4.5685, 4.5677, 4.5676, 4.5664, 4.566, 4.5648, 4.5634, 4.5623, 4.5601, 4.5572, 4.5551, 4.5511, 4.5471, 4.5423, 4.5386, 4.5329]}, \"token.table\": {\"Topic\": [28, 38, 56, 13, 54, 16, 39, 27, 48, 55, 60, 31, 10, 52, 11, 34, 33, 44, 15, 15, 50, 38, 50, 40, 13, 32, 4, 4, 51, 44, 8, 63, 61, 57, 49, 10, 17, 59, 7, 5, 43, 57, 57, 42, 23, 61, 8, 5, 43, 22, 31, 62, 53, 45, 24, 18, 58, 40, 25, 50, 14, 15, 34, 35, 51, 39, 55, 8, 62, 44, 30, 63, 56, 21, 35, 9, 21, 17, 61, 59, 9, 46, 39, 42, 50, 30, 32, 19, 56, 10, 41, 46, 2, 13, 32, 17, 32, 15, 42, 44, 45, 58, 54, 18, 14, 48, 38, 20, 18, 21, 5, 59, 46, 60, 15, 30, 8, 58, 28, 64, 26, 62, 19, 5, 3, 16, 12, 60, 33, 64, 41, 12, 49, 62, 63, 58, 57, 63, 33, 40, 42, 52, 54, 33, 43, 16, 24, 28, 1, 34, 4, 62, 35, 33, 8, 6, 56, 28, 6, 10, 50, 45, 42, 55, 61, 41, 51, 13, 9, 14, 52, 26, 34, 27, 53, 49, 23, 27, 16, 1, 7, 17, 49, 23, 38, 20, 26, 57, 10, 21, 45, 32, 1, 11, 28, 36, 8, 14, 10, 21, 32, 35, 30, 64, 1, 60, 64, 10, 7, 42, 53, 13, 64, 15, 37, 35, 2, 9, 16, 38, 58, 51, 41, 56, 49, 51, 33, 62, 26, 42, 56, 11, 50, 24, 36, 43, 48, 19, 64, 18, 1, 60, 42, 32, 26, 32, 16, 49, 46, 31, 47, 49, 8, 30, 28, 7, 3, 20, 12, 3, 48, 59, 30, 45, 19, 34, 12, 53, 26, 44, 27, 29, 25, 8, 51, 6, 51, 39, 41, 25, 22, 63, 31, 3, 16, 40, 2, 56, 32, 44, 22, 23, 19, 16, 6, 22, 31, 55, 7, 7, 14, 51, 5, 45, 58, 8, 32, 27, 59, 46, 9, 6, 34, 31, 39, 58, 42, 36, 31, 10, 49, 54, 58, 50, 12, 63, 12, 25, 10, 14, 35, 17, 17, 4, 5, 64, 33, 31, 11, 1, 50, 60, 18, 33, 34, 19, 49, 3, 12, 59, 7, 61, 52, 64, 16, 37, 41, 9, 32, 62, 2, 21, 28, 35, 35, 36, 60, 47, 45, 60, 13, 63, 50, 61, 15, 25, 46, 19, 59, 13, 26, 27, 12, 26, 13, 20, 63, 42, 43, 57, 4, 46, 6, 14, 29, 48, 29, 1, 47, 51, 2, 57, 46, 11, 52, 14, 53, 55, 47, 10, 49, 54, 5, 62, 17, 45, 34, 24, 36, 22, 21, 1, 52, 33, 42, 60, 21, 9, 6, 53, 48, 57, 34, 64, 9, 11, 11, 50, 15, 34, 10, 18, 35, 28, 18, 54, 17, 62, 25, 22, 40, 53, 57, 48, 44, 21, 2, 16, 9, 18, 3, 11, 14, 50, 41, 1, 46, 26, 36, 26, 56, 19, 19, 25, 18, 30, 10, 47, 17, 9, 20, 45, 9, 13, 38, 38, 58, 56, 64, 33, 29, 31, 26, 22, 34, 39, 40, 16, 15, 24, 47, 42, 40, 34, 3, 50, 39, 13, 38, 12, 1, 37, 54, 27, 59, 17, 11, 39, 14, 49, 46, 8, 59, 55, 21, 3, 10, 64, 59, 18, 14, 35, 28, 25, 10, 5, 58, 29, 32, 36, 18, 50, 49, 23, 64, 27, 62, 35, 61, 63, 26, 20, 43, 34, 2, 21, 27, 57, 29, 2, 38, 48, 9, 20, 62, 3, 58, 58, 56, 60, 6, 27, 21, 20, 1, 26, 62, 61, 64, 26, 32, 13, 38, 22, 7, 35, 16, 8, 50, 9, 49, 27, 6, 31, 49, 53, 11, 33, 22, 57, 24, 48, 9, 23, 35, 21, 61, 17, 17, 29, 61, 15, 44, 63, 6, 37, 49, 63, 55, 43, 23, 25, 4, 17, 25, 37, 42, 59, 49, 38, 56, 2, 46, 55, 36, 45, 64, 17, 4, 12, 16, 6, 54, 36, 41, 37, 6, 48, 64, 22, 60, 6, 31, 51, 58, 24, 40, 4, 1, 4, 11, 22, 29, 9, 42, 11, 30, 15, 30, 39, 6, 8, 17, 44, 50, 36, 1, 36, 23, 12, 63, 40, 45, 40, 25, 28, 42, 38, 42, 2, 58, 55, 7, 48, 48, 23, 28, 14, 62, 46, 52, 14, 19, 20, 12, 27, 2, 7, 14, 60, 11, 60, 39, 62, 50, 32, 50, 26, 54, 3, 29, 52, 59, 47, 22, 17, 44, 23, 48, 41, 7, 39, 43, 3, 56, 45, 28, 23, 30, 44, 57, 25, 26, 35, 34, 33, 39, 40, 49, 21, 10, 20, 4, 53, 51, 6, 22, 40, 13, 57, 39, 16, 12, 38, 14, 20, 22, 8, 3, 56, 31, 43, 24, 60, 19, 55, 52, 20, 53, 32, 40, 27, 17, 15, 29, 5, 5, 40, 13, 4, 29, 17, 31, 27, 19, 50, 28, 15, 15, 11, 15, 60, 38, 51, 61, 23, 8, 7, 61, 62, 38, 15, 49, 62, 32, 5, 30, 46, 51, 55, 20, 39, 61, 47, 43, 55, 32, 7, 21, 39, 46, 27, 35, 45, 61, 19, 31, 32, 23, 52, 36, 3, 18, 16, 64, 30, 37, 39, 5, 50, 33, 30, 64, 36, 58, 18, 56, 38, 14, 3, 48, 48, 48, 7, 14, 2, 25, 52, 36, 40, 22, 8, 37, 36, 23, 55, 56, 40, 29, 12, 47, 4, 2, 43, 56, 19, 35, 35, 21, 40, 41, 20, 44, 16, 8, 40, 45, 58, 57, 8, 55, 46, 64, 16, 23, 50, 21, 43, 51, 37, 58, 62, 41, 48, 58, 52, 60, 46, 4, 19, 42, 59, 19, 51, 44, 26, 48, 53, 16, 62, 18, 49, 2, 23, 3, 61, 3, 9, 17, 55, 52, 54, 33, 22, 15, 42, 17, 60, 20, 39, 8, 24, 64, 51, 26, 42, 21, 44, 34, 47, 56, 5, 18, 18, 35, 25, 58, 34, 10, 31, 59, 47, 63, 44, 11, 45, 53, 24, 18, 40, 38, 9, 2, 1, 62, 56, 28, 13, 35, 33, 55, 26, 52, 4, 41, 40, 58, 22, 25, 10, 36, 13, 64, 32, 45, 24, 6, 43, 16, 41, 9, 63, 52, 64, 1, 2, 32, 25, 3, 19, 51, 39, 21, 54, 60, 45, 58, 54, 43, 27, 37, 21, 54, 60, 41, 25, 47, 45, 44, 34, 32, 36, 24, 25, 1, 53, 22, 42, 8, 8, 21, 22, 64, 34, 3, 18, 60, 1, 40, 31, 29, 28, 42, 37, 63, 1, 59, 31, 1, 34, 23, 38, 47, 31, 42, 8, 48, 2, 16, 64, 51, 20, 13, 54, 49, 20, 43, 7, 3, 30, 24, 20, 13, 8, 12, 37, 9, 14, 61, 9, 25, 59, 54, 33, 46, 8, 11, 40, 29, 52, 39, 28, 29, 31, 43, 48, 63, 24, 1, 24, 42, 57, 47, 29, 55, 55, 32, 17, 52, 42, 26, 7, 23, 51, 11, 5, 62, 46, 58, 10, 64, 33, 54, 64, 44, 14, 63, 31, 25, 21, 37, 60, 30, 14, 5, 50, 28, 24, 53, 15, 1, 3, 9, 1, 48, 2, 44, 59, 38, 35, 64, 26, 57, 52, 59, 44, 41, 63, 27, 20, 55, 26, 49, 12, 9, 44, 16, 41, 52, 56, 37, 16, 7, 63, 45, 5, 24, 18, 37, 31, 13, 36, 5, 5, 50, 36, 44, 35, 16, 45, 55, 61, 39, 21, 2, 20, 12, 15, 28, 28, 44, 10, 38, 60, 62, 8, 21, 13, 47, 44, 58, 7, 24, 46, 35, 14, 41, 26, 22, 30, 38, 49, 19, 30, 31, 11, 28, 20, 57, 7, 1, 57, 50, 40, 31, 39, 4, 25, 37, 6, 12, 28, 25, 6, 12, 57, 61, 39, 41, 26, 56, 58, 27, 22, 2, 52, 41, 12, 22, 3, 53, 54, 23, 45, 6, 44, 19, 55, 35, 30, 4, 33, 37, 30, 46, 14, 25, 20, 16, 61, 14, 37, 3, 10, 41, 59, 25, 49, 13, 31, 59, 37, 18, 23, 51, 22, 5, 3, 2, 49, 20, 30, 34, 35, 31, 22, 18, 37, 12, 57, 7, 6, 29, 53, 58, 1, 14, 45, 13, 54, 42, 51, 62, 36, 37, 38, 39, 17, 18, 63, 14, 49, 43, 53, 64, 11, 50, 48, 5, 12, 18, 56, 11, 5, 44, 8, 36, 32, 36, 15, 63, 62, 11, 46, 47, 39, 21, 37, 20, 40, 40, 27, 29, 42, 55, 53, 19, 43, 58, 6, 45, 60, 34, 22, 23, 45, 33, 63, 13, 42, 22, 11, 32, 30, 57, 29, 5, 42, 39, 61, 43, 59, 8, 18, 48, 53, 43, 12, 52, 32, 60, 51, 37, 51, 4, 24, 2, 56, 55, 45, 34, 15, 2, 19, 44, 27, 59, 17, 51, 20, 57, 24, 33, 43, 25, 30, 46, 63, 20, 15, 63, 47, 17, 19, 34, 47, 61, 60, 5, 23, 53, 14, 44, 33, 36, 19, 5, 4, 57, 5, 52, 58, 24, 5, 50, 52, 21, 43, 61, 31, 63, 30, 61, 27, 15, 26, 30, 46, 43, 6, 47, 59, 49, 34, 59, 14, 28, 32, 27, 21, 57, 44, 50, 19, 49, 56, 2, 50, 61, 7, 11, 41, 62, 55, 9, 2, 5, 49, 55, 46, 4, 30, 24, 28, 6, 38, 54, 51, 22, 61, 37, 58, 1, 46, 15, 11, 55, 17, 47, 24, 30, 45, 5, 23, 36, 38, 46, 1, 57, 38, 10, 34, 62, 56, 10, 42, 18, 57, 29, 38, 63, 56, 46, 33, 37, 35, 41, 44, 32, 59, 4, 53, 19, 48, 52, 27, 10, 1, 53, 33, 4, 29, 41, 57, 6, 53, 59, 48, 29, 41, 7, 2, 54, 15, 64, 9, 47, 19, 10, 55, 4, 55, 30, 57, 56, 21, 7, 18, 41, 29, 17, 23, 19, 28, 33, 3, 16, 60, 37, 13, 8, 37, 51, 24, 53, 36, 25, 37, 26, 50, 62, 12, 19, 50, 48, 45, 9, 36, 27, 22, 45, 29, 47, 7, 30, 34, 23, 34, 5, 29, 44, 57, 42, 24, 4, 36, 40, 61, 10, 54, 29, 51, 35, 54, 55, 41, 54, 36, 43, 8, 11, 25, 42, 59, 39, 60, 52, 10, 18, 13, 63, 9, 11, 8, 59, 37, 34, 31, 25, 41, 13, 20, 27, 35, 38, 10, 25, 12, 16, 7, 24, 2, 1, 43, 29, 30, 60, 63, 13, 62, 32, 23, 3, 4, 22, 54, 4, 11, 7, 26, 24, 28, 13, 26, 48, 39, 6, 47, 18, 3, 62, 28, 9, 21, 59, 26, 2, 28, 53, 4, 36, 50, 15, 34, 46, 14, 47, 41, 45, 56, 62, 37, 40, 4, 27, 64, 5, 15, 47, 26, 52, 37, 43, 17, 7, 53, 33, 48, 64, 33, 63, 53, 33, 52, 27, 18, 20, 35, 54, 41, 9, 7, 43, 12, 17, 6, 29, 40, 62, 8, 54, 53, 39, 28, 49, 24, 6, 24, 12, 12, 46, 54, 60, 20, 61, 45, 1, 9, 51, 17, 27, 9, 57, 59, 52, 18, 55, 13, 16, 28, 61, 15, 31, 11, 51, 28, 30, 43, 11, 24, 11, 39, 23, 12, 21, 23, 29, 61, 63, 56, 3, 25, 4, 17, 13, 46, 2, 15, 35, 10, 52, 7, 51, 38, 12, 16, 54, 14, 61, 48, 40, 43, 54, 13, 60, 32, 19, 2, 56, 33, 10, 47, 56, 31, 47, 6, 14, 22, 35, 6, 38, 41, 27, 47, 53, 49, 34, 19, 23, 23, 40, 20, 47, 47, 36, 16, 16, 31, 1, 33, 48, 58, 6, 43, 10, 58, 38, 39, 33, 54, 4, 27, 53, 7, 52, 15, 29, 32, 4], \"Freq\": [0.9881435193266384, 0.9954057915322494, 0.9830816044985219, 0.9831719679805109, 0.9902109944655009, 0.9909356798860302, 0.9905259478338148, 0.9912688880633507, 0.9898473076030837, 0.9917735504821817, 0.9690937884040078, 0.9904324868921073, 0.9926984006919656, 0.9966413622063617, 0.9915385757222765, 0.9918391567267604, 0.9949217432753761, 0.9976894272735926, 0.9985999545788632, 0.9989392801222308, 0.9925792148059608, 0.9088856046634718, 0.9978188372007591, 0.9840315384696519, 0.9883681726749807, 0.9863824567339998, 0.9804751335025697, 0.9947722729051085, 0.9962860109091408, 0.9820660562093921, 0.9979911504093317, 0.9710623472939768, 0.9859119421934956, 0.9883473871287127, 0.9981646847184509, 0.9862547647699192, 0.9804366580741404, 0.9736924017130629, 0.9983722131963356, 0.9864717334507209, 0.9894433420546439, 0.9938739840665133, 0.9950606102740615, 0.9910689140960133, 0.9981832395267803, 0.9844161345646724, 0.8912118396134212, 0.9978816510386372, 0.9983017904298205, 0.9832824375669457, 0.976801884372526, 0.9907720062093959, 0.9919978205221478, 0.9597810072115494, 0.9868280956063141, 0.9832764384074014, 0.9835629631309557, 0.9853100330158387, 0.9665476884623255, 0.9957769010527735, 0.9954610027954603, 0.9608045317464253, 0.9860978764712721, 0.9909674610826327, 0.9538390862755423, 0.9840150585037857, 0.9994918903690693, 0.9983515262924808, 0.994906310842623, 0.9973931187957327, 0.9641614995342892, 0.9890814761827943, 0.9103549010551624, 0.9794178234195404, 0.9860113661010685, 0.9980556174116153, 0.9921953030838292, 0.9887903037571436, 0.9973646121899021, 0.9956019662015149, 0.9905713700391201, 0.9946860483199036, 0.9971895784952978, 0.9840917959090536, 0.9974271375213826, 0.9974195201474819, 0.9944781145862237, 0.9868600241226065, 0.9905574327126068, 0.998188744498144, 0.9902282033191767, 0.9874420000267913, 0.9966020545557308, 0.9798167550416715, 0.981635341354904, 0.9905620684375593, 0.9962869393937218, 0.981096760720661, 0.9889188054406719, 0.9968853666223334, 0.9980561759681145, 0.9913428605543082, 0.9880048693567444, 0.996530347911826, 0.9697035705365679, 0.978046499960251, 0.996422407009579, 0.993768845587516, 0.9927985534878062, 0.9954018594807352, 0.9888625875356891, 0.9927571759466984, 0.9847380006708994, 0.9874640802871861, 0.9928705586349172, 0.9801756640426165, 0.9946329524131448, 0.9952965030924943, 0.9699714136969804, 0.985244683468729, 0.9874275713591228, 0.9988219303077911, 0.9979101551827864, 0.9919814983356743, 0.9995170437239607, 0.9946772118307764, 0.9808829035692456, 0.9941635401557347, 0.9993243426723799, 0.9981012271732423, 0.9822531392803825, 0.9951842646356289, 0.9813918802415849, 0.9985214757182679, 0.9927279207209833, 0.9821492708843157, 0.9766590690716962, 0.9905809921458578, 0.9974142031198227, 0.9835142145987904, 0.9886653241833891, 0.9868010201585804, 0.9806254875855783, 0.9583623441579345, 0.9950357051226583, 0.9826471849298183, 0.9873130173172275, 0.9921774320966119, 0.966638797836103, 0.997814196770444, 0.9811711127185667, 0.9917161339146595, 0.9969934344549696, 0.9644035523246971, 0.9960054273281903, 0.9986595752106908, 0.9934579176320206, 0.969363746805389, 0.9741603973728102, 0.9794118462836197, 0.9768149939500841, 0.984212667475707, 0.9951875133752291, 0.9881531615734188, 0.9836317807499828, 0.9817079093032189, 0.9839226320700979, 0.9591096071517644, 0.99937241578352, 0.9886405786482059, 0.9884591802551895, 0.9976645185687214, 0.9984357165077488, 0.9595491241910272, 0.9915611200620871, 0.9941364413898565, 0.991181016604198, 0.9990261167117569, 0.9652407267613228, 0.9917985188099794, 0.9869611013975521, 0.9956035864143986, 0.9937480618426061, 0.9876066696990912, 0.9898842566918917, 0.9909506817959147, 0.9982427579917555, 0.9957290912499633, 0.9905421849572172, 0.9762638506182503, 0.9929820092527121, 0.9910444318456616, 0.9138041772287075, 0.9979715590210493, 0.9973524422365753, 0.9935158611852644, 0.973978070191171, 0.9867809180246544, 0.9911854780552268, 0.9603312109191424, 0.9865000069646, 0.9717370851243414, 0.998513797196746, 0.9553628262795197, 0.9311584519816617, 0.9933583818726759, 0.9936218924080882, 0.9736701255288673, 0.9989626963285885, 0.9953936005760714, 0.9881999029189239, 0.9986135041617928, 0.9969205640422945, 0.985643665223359, 0.9628483971776577, 0.9953645924567339, 0.9911676276550356, 0.9951014667836449, 0.9766034114799258, 0.9890153921741109, 0.9966846396496617, 0.986126813551602, 0.9913163950970998, 0.9790369621895945, 0.9972138069259947, 0.9715996483018017, 0.9936687640511808, 0.9808888204890804, 0.9913165049182486, 0.9752447010514144, 0.9985245311002331, 0.9891904378918492, 0.9883918882410743, 0.9987483834589881, 0.9776300656572292, 0.9974598477665305, 0.997397096739292, 0.9981240445629348, 0.9688308536840975, 0.9982424178269331, 0.9843505836490307, 0.9893775976351843, 0.98794031401246, 0.9992093803486242, 0.9881520374396446, 0.989512015917114, 0.9687774853860265, 0.9925708802032795, 0.9983468006220624, 0.9966564775978259, 0.9341811787788578, 0.9528980493455901, 0.9974593621967689, 0.9947677420832273, 0.9827095919924805, 0.9932929641528836, 0.9981960493516011, 0.994989947710971, 0.9934353474805878, 0.9973291275705813, 0.9969051675686901, 0.9720132514568205, 0.9960297099345349, 0.976668639232989, 0.9893350613979348, 0.9992469251821103, 0.9931844210742986, 0.9993098295318457, 0.9893798194427145, 0.9882080924466328, 0.928250477184026, 0.9973828265356213, 0.9916405149140167, 0.988656340184466, 0.9961100738413773, 0.9845647454091035, 0.9779971386967292, 0.9982980232718371, 0.9745547093796965, 0.9764614957421929, 0.9991971011909354, 0.9897881247654509, 0.9922511750923754, 0.9956407639411717, 0.9799826110172979, 0.9806986069519629, 0.8412869570052176, 0.9916466157998484, 0.9959242627594698, 0.9972458248818918, 0.995439236460429, 0.9813666487978929, 0.9973489239623972, 0.9845620456531641, 0.9927012030772652, 0.9969995225098045, 0.9995989624826869, 0.9790056111720243, 0.9968968820265323, 0.9925681305680052, 0.9849893170425298, 0.996629332272916, 0.9967956086461216, 0.9945115448769871, 0.9864846161521091, 0.9930624561771918, 0.9761777019167229, 0.9461813885744285, 0.9992800020180345, 0.9840658051280944, 0.9966222647923261, 0.9944392092814003, 0.8313038683588245, 0.9985085304613484, 0.9926528779660957, 0.986276015031546, 0.9901056802308472, 0.9889894009411587, 0.9908196973363714, 0.9939317734154655, 0.9914173996362035, 0.9972767708701036, 0.9709909702333681, 0.9969138037511504, 0.9961378769481104, 0.9820970746666317, 0.9778551760892441, 0.9916276200779317, 0.9964587455355687, 0.9735676823310743, 0.9687129858558341, 0.9826394390460272, 0.9879387966850942, 0.9709497967344664, 0.9971222528950731, 0.9988149201636085, 0.9914224410702389, 0.9640580581607974, 0.9852451208035082, 0.9922650943978881, 0.9936159841771964, 0.9929091324390817, 0.9971505828228514, 0.9886301572346877, 0.977588943141642, 0.9889472854797781, 0.98991042481535, 0.9979953045746394, 0.9971500877162643, 0.9760024594488909, 0.9980946483226351, 0.9924898522071673, 0.9875991940658925, 0.9915927953807434, 0.9817229255566517, 0.9875628653580795, 0.9819581681388324, 0.9909813359371922, 0.9818420249334137, 0.9609230110962721, 0.9915656624892684, 0.9698140344073547, 0.9901318466654906, 0.9859061776596384, 0.9888106919257911, 0.9848325522372364, 0.9735115015892974, 0.9682253144779612, 0.993149203328055, 0.9795739703670229, 0.9793123567791164, 0.9866948275402417, 0.9478285085723631, 0.9801358625918671, 0.9926468284367811, 0.9966646534695048, 0.994448120128874, 0.9937617804592127, 0.986699085555382, 0.998106195751245, 0.9984261866178519, 0.990952957350963, 0.9788884521708425, 0.9610084906390408, 0.9984455491140656, 0.9949945826677932, 0.9834152513526263, 0.9954110209889402, 0.998347067039073, 0.9875015603925548, 0.9985079302358865, 0.9958890504353044, 0.9981554690274466, 0.989928353924267, 0.9905543985466428, 0.979688030677442, 0.9904237647985433, 0.9929808220449485, 0.9989990974292235, 0.9892142353137167, 0.9967472007988097, 0.9909253411197094, 0.9850363147362987, 0.9957888584894279, 0.9915914171814604, 0.9481036187789084, 0.9944503108426367, 0.981214895057587, 0.9875078768679776, 0.9867792331293959, 0.988066681326331, 0.9971913850949975, 0.9933030153778876, 0.9684417325281619, 0.9863799531382649, 0.9764684583751524, 0.9867431925983252, 0.996489937658668, 0.9983703104454441, 0.9960004188546548, 0.980528840483792, 0.9978817868242883, 0.9859961147439466, 0.9948768218196941, 0.9863973217960388, 0.9978179863297411, 0.9844277469714617, 0.9925264537634776, 0.9928863261529098, 0.9894883622098787, 0.979024386629381, 0.9973235108168194, 0.9987780923509219, 0.9902096495920207, 0.9989973428667095, 0.9957179902550135, 0.9996758436148009, 0.99756952325702, 0.9898558765278181, 0.9607467266463652, 0.9988729099282533, 0.9794587961536014, 0.9964568357021035, 0.998451573544254, 0.9970605859688347, 0.9859507922716404, 0.9972831485118714, 0.9965454661834, 0.9762968571235453, 0.9759237251982527, 0.962131018498147, 0.9699667910292827, 0.9958168735148796, 0.990789327629492, 0.9944412165060041, 0.9909216273112681, 0.9802977103407835, 0.9707975437186386, 0.9941394278374569, 0.9933907328548348, 0.8795277726108297, 0.9883265955181321, 0.9656691193408454, 0.9701967407563402, 0.9878921535499412, 0.9730228756663177, 0.9930337989369385, 0.9761912392070361, 0.9682757919283628, 0.9537765542059108, 0.9917621666072906, 0.9874003267326551, 0.9951785264331199, 0.9979029807491824, 0.9945356546346952, 0.9816288780462442, 0.9912807778269049, 0.9831014424936753, 0.9939844529713582, 0.9942267898263057, 0.9988535316639482, 0.9824366278744084, 0.9830978297382842, 0.9947949471098639, 0.99899930249491, 0.9964410740137972, 0.9962602754077232, 0.9597167759464457, 0.9979249649914382, 0.9959218461143471, 0.9712926779436684, 0.9947785775512717, 0.9793203776568796, 0.9849663615521875, 0.963875318172068, 0.986834383408606, 0.9996757580135369, 0.9933532752663873, 0.9736883012306773, 0.9685426831131907, 0.9985668217148549, 0.9923960803579388, 0.9908158108758659, 0.9962418953463315, 0.9985660967737261, 0.9682959383071945, 0.9829276078608918, 0.9995262785252703, 0.9907216433475454, 0.9910600006776473, 0.9785447124673953, 0.9683721066618735, 0.9932933058481974, 0.9588437233174363, 0.9977476266977969, 0.9879773986234798, 0.9949292423788866, 0.9740419829878052, 0.9630669337701574, 0.9898783732003686, 0.9989883717174173, 0.9994094658641837, 0.961077405129804, 0.9973755364731599, 0.9857430484909911, 0.9955442067826591, 0.9989247034019825, 0.9923847652065839, 0.9866911449336702, 0.9635656128555077, 0.9840722068789868, 0.9841702604605361, 0.9982524751456779, 0.9994895621117594, 0.9958911181861639, 0.9805655310713279, 0.996346130249498, 0.9944967206287618, 0.9908047958399535, 0.9972490074217703, 0.9168222776674049, 0.9953453153379224, 0.9710893543617867, 0.9892348185575576, 0.9968038710910438, 0.9917578100492593, 0.9886400248028232, 0.9920994681539325, 0.976936346081338, 0.9719738131404518, 0.9896573502651217, 0.9828541231822875, 0.9956219008575905, 0.9948164971872454, 0.9984088045262252, 0.9971595239156393, 0.9861376979208334, 0.9820693488750433, 0.9852574332653303, 0.9256385148217785, 0.9961231462532386, 0.9936181011426726, 0.9875695254482841, 0.993942674275641, 0.9901754762201049, 0.9886129054699576, 0.9825818715015877, 0.9674858341845844, 0.9588452246380271, 0.990383271798437, 0.995301416910128, 0.9962044528891815, 0.9337036458891047, 0.9786099259938553, 0.9913056508645784, 0.9948337541173288, 0.9904721180976095, 0.9886467211421159, 0.9921328325078786, 0.9926567416966933, 0.9865462083826642, 0.9931811555894141, 0.9954602024695421, 0.9841114240131965, 0.9880478392934805, 0.9979079009466929, 0.9972101241116436, 0.9973963310884435, 0.9678812084778755, 0.9904001082859808, 0.9546989121658419, 0.9823008508701159, 0.9888457322377999, 0.9983271697499612, 0.9742168062066934, 0.9991171924352816, 0.998569124762435, 0.9872556877553624, 0.9961153124108021, 0.9934794617836497, 0.9985396565682203, 0.9962173220653145, 0.9852047639883565, 0.9917014965996239, 0.9936753433749181, 0.9992561817167395, 0.9782091210926143, 0.9994531561997911, 0.9966193396450821, 0.9977500299024294, 0.978784827216161, 0.9433006296021621, 0.990316644180884, 0.9994966020525193, 0.9603481816970266, 0.9972941949205024, 0.968352674432746, 0.9903822559816259, 0.968123381973769, 0.9836349639430718, 0.9991131422406907, 0.9987038342323952, 0.9820593903026026, 0.9883813547178205, 0.9988154447522255, 0.49714478442048726, 0.9900520239434497, 0.986863153334238, 0.9968993225976761, 0.9960866613065066, 0.8722235589803885, 0.9987235123899957, 0.9921915467800109, 0.9970440240150521, 0.9983234070147291, 0.9871524113774621, 0.9740246510501696, 0.996700784525308, 0.9974601462500708, 0.9989796131691059, 0.9954616386284327, 0.9818182526282289, 0.9949060141897669, 0.9835737550136787, 0.9743766769164949, 0.9935717469111772, 0.9942626934156061, 0.985290426886457, 0.9824173610567293, 0.9950480105709832, 0.9973118227970862, 0.9715450552986119, 0.9675716025320968, 0.9881903330443237, 0.9908263221209757, 0.9976639535166647, 0.9381901842555924, 0.9929971201894001, 0.9921769415660259, 0.9934300922256762, 0.9607354106365201, 0.9913424362681523, 0.9966693180624338, 0.9893405378907514, 0.9935010964627005, 0.9696750912382087, 0.9913100334958775, 0.9766875893402895, 0.9877424075637774, 0.992989725999026, 0.8228785954283884, 0.9919784887303641, 0.9890240195518566, 0.9935032976658904, 0.9930167501177624, 0.9990636365920632, 0.9837549572072196, 0.9979289247640252, 0.9952981163806305, 0.9988573240035353, 0.9911587160475305, 0.9936572116790403, 0.9859293911972414, 0.9954186194897432, 0.9944004651377626, 0.9695200938677939, 0.9866430570511094, 0.9966834595880755, 0.9953084098976356, 0.9976867353615425, 0.999097057895997, 0.9829823934506449, 0.9925724197496801, 0.9932664567158966, 0.9619995191925218, 0.9991553601344498, 0.9596378868808593, 0.9940578302939559, 0.991013860842627, 0.9937269366225484, 0.9944388502841026, 0.9857004593867492, 0.9871744854952754, 0.9887016921149071, 0.998547801426237, 0.9818832714849424, 0.9992591154155769, 0.9932399908358926, 0.997145416933408, 0.9821508766882535, 0.9932527436757214, 0.9811598647071571, 0.9968225624400369, 0.995887758861362, 0.9863549876770993, 0.9994972477903364, 0.9909747780585995, 0.9878849642955053, 0.9663345538615209, 0.9167812184841259, 0.9934281057419597, 0.9833906593517058, 0.9956600605104486, 0.9929110914731568, 0.9944657254724257, 0.9866456247539738, 0.9696636192953598, 0.9932207345907467, 0.9953978517941685, 0.9991902556955513, 0.9990848225696666, 0.9833765910003274, 0.9935504915879099, 0.992729150464687, 0.9950156535045169, 0.9978669618823228, 0.9820020056157595, 0.996766189223509, 0.9889866347927665, 0.984262981154816, 0.9955182283614722, 0.9745909534677758, 0.9973604479381559, 0.9917257881957059, 0.9672572552385146, 0.894425301621764, 0.997558013809651, 0.991813629579992, 0.9916363366629408, 0.9972517506226839, 0.9988770789805074, 0.9974615300713308, 0.9792567981509485, 0.9752120689892029, 0.9098482521522286, 0.8906008938994235, 0.9967368045740073, 0.9684995762188976, 0.9903923425976768, 0.9986679147039964, 0.999352631286577, 0.9977815381260067, 0.9971613493525824, 0.9752026557192714, 0.9989415518566969, 0.9959914263130752, 0.9937897177155451, 0.9862154436126714, 0.9978313191983054, 0.9966905247882402, 0.9960577334965832, 0.9697679948510055, 0.9991790573002137, 0.9927121369762988, 0.9944025309523985, 0.9867913872230668, 0.9871904370232443, 0.9912253664005974, 0.9824280838328763, 0.9927987893888366, 0.9880712709200878, 0.998776256064007, 0.9984621731205441, 0.9972206024185001, 0.9890535213793671, 0.9986314281387432, 0.9961672993966165, 0.9993953561458218, 0.941461267219293, 0.958848631837796, 0.996977650904153, 0.9973639488016041, 0.974677076101942, 0.9968308285949647, 0.9981795685512561, 0.9511680682870587, 0.9984263836270671, 0.996386628040722, 0.9984291624480472, 0.9915647032946391, 0.9976744190490325, 0.9923721445791522, 0.9820567381974528, 0.9971529965774046, 0.9724917188129665, 0.9826603165995704, 0.8214457758109999, 0.9932122639563291, 0.9929223830236779, 0.9378835845655461, 0.9778790333963132, 0.9945307256008605, 0.9979286242050691, 0.9741567454851657, 0.9945137521934546, 0.9946592188194071, 0.9960053472772366, 0.9267636722651424, 0.9993630634780005, 0.9930861909973491, 0.9835719501593886, 0.9828792749138557, 0.9960463873889762, 0.9833847471782732, 0.9563250226823289, 0.9649899444408155, 0.9961061842373533, 0.9856527381567636, 0.9879731002326255, 0.9715015829574178, 0.9831982134348389, 0.9874690899503304, 0.9981224317399434, 0.9962955737811754, 0.9767084333216989, 0.9929060515675339, 0.9944588088557803, 0.9946504415396633, 0.988774203152412, 0.9809027992793349, 0.9961889423598917, 0.7309344197033902, 0.988974952056109, 0.9724102993428121, 0.9845717199823785, 0.987046819862466, 0.9744473859376065, 0.990484828928454, 0.9989365548358854, 0.9955733509068657, 0.9475932432738953, 0.9929670632446891, 0.9505762392619381, 0.9911603097087306, 0.9959414094891471, 0.9964449761422748, 0.9987835231775106, 0.9767103754301456, 0.9877891218103324, 0.8737069112722966, 0.9864710649246166, 0.9798971477986341, 0.9907201962050115, 0.990873316829881, 0.9920643226933248, 0.9887245523374821, 0.9885068044233328, 0.9861959862510304, 0.9821003578165908, 0.9861485453381426, 0.9914585955785118, 0.9026630734615084, 0.996987572536749, 0.9965540688697799, 0.987708023912383, 0.9652636040999989, 0.9981979288238305, 0.9909109812048078, 0.9946976204795962, 0.9931382029575988, 0.9835726417808364, 0.9687935284429096, 0.9882937227885199, 0.988280750133805, 0.9959910972367266, 0.9943500206558311, 0.9899380135106753, 0.9917758459301041, 0.9816432042255553, 0.9705857502023388, 0.9741318439466289, 0.9857941680000171, 0.985675598398542, 0.9957077370075073, 0.9466733340387624, 0.9875503249990442, 0.983991421688851, 0.9920965311346049, 0.9780952093783877, 0.908040451527444, 0.9934570920798336, 0.996994493354563, 0.9899847952409987, 0.9985645020833651, 0.993111495792194, 0.998069894777449, 0.9963472190799584, 0.9964791743487847, 0.9942744437364102, 0.9842011944675115, 0.9951488663326945, 0.9941670652024261, 0.9878431546638495, 0.9740665027917716, 0.9962155149000967, 0.9975903431358326, 0.9909936754473382, 0.9965797785817336, 0.9876740355041069, 0.9927683615758919, 0.9943732915355467, 0.968567943922438, 0.9869964062852035, 0.990779899987554, 0.9822805084777783, 0.9978012275641481, 0.995825725345693, 0.9885374022871423, 0.9881168376522094, 0.9724420980644365, 0.9901391845884017, 0.9975094390211799, 0.9997097848143824, 0.9983509758830662, 0.9871649568301561, 0.993026889216531, 0.9132512864869177, 0.998030946897416, 0.9962205716486418, 0.9862019896538583, 0.9936386931827694, 0.9123930964378365, 0.9840557619490607, 0.9930484865045515, 0.995719711164349, 0.997241436184227, 0.9954119438962945, 0.9966737207542004, 0.9881421447961817, 0.9944961833371672, 0.9149877136425864, 0.9906324589226254, 0.9976669134791906, 0.9973789841134155, 0.9927359728598416, 0.998602891434771, 0.9923095326220398, 0.9979237376046192, 0.9412411436156931, 0.9950388083044936, 0.9959935114233355, 0.9982156069533632, 0.9952582264142509, 0.9931337335380042, 0.9989496456950251, 0.9986361640116415, 0.9820478325631814, 0.9926352376879035, 0.9905321553095963, 0.9941248052394747, 0.991068012356869, 0.9900992802303664, 0.9660914806442531, 0.9983035745691714, 0.9941089127396514, 0.9974527777444998, 0.9655982078363988, 0.9783812121142829, 0.9667961046074297, 0.9810470453164651, 0.9894782317707189, 0.9966618166199587, 0.9996265427011768, 0.9820047294159249, 0.988943106442429, 0.9982902472859533, 0.9664671945068245, 0.9905765898097086, 0.9981185204403763, 0.9988669537336431, 0.9964753212000186, 0.998477105370443, 0.9943077852518556, 0.9664039883435487, 0.9992994988013483, 0.9499330240680257, 0.9927192617130692, 0.998044803746871, 0.9904628793249829, 0.9983292844354971, 0.9616464112849121, 0.9984660280632967, 0.9613663392283892, 0.9931896562262323, 0.9916070372744352, 0.975681576218401, 0.9996276312124628, 0.9979110579107143, 0.9775435666042098, 0.9929815422054794, 0.9877253815728766, 0.9972204784216987, 0.9990353786745172, 0.9946548051270703, 0.9669439536061273, 0.9949724276282745, 0.9835021119903247, 0.9952223606360978, 0.9997715704592165, 0.9978132113350153, 0.9916432708156614, 0.9949119611866986, 0.9994490301663057, 0.9914947481682668, 0.9932387759313078, 0.9974504608970517, 0.9892638726271042, 0.9912071322160253, 0.9964578374330251, 0.988652513323101, 0.9973398320805372, 0.9994294366929797, 0.9986636523228417, 0.9793380388556494, 0.9919162028700897, 0.9888462241753869, 0.9819536359598996, 0.9880127822934555, 0.9852913281143514, 0.9932762700492771, 0.9813902547698532, 0.99699578829134, 0.9845625733426374, 0.9903679889033625, 0.9672525844564396, 0.9900723471389679, 0.997067069940429, 0.9859693954518411, 0.9809655859857984, 0.9949377672823637, 0.9834577199910526, 0.9966684362796073, 0.9918068051148685, 0.9962628766929641, 0.9980915890221781, 0.9879692626389717, 0.995620440930079, 0.9576709630751351, 0.9764037081829043, 0.9842962692839755, 0.9974608619963419, 0.9754333335609011, 0.9925168791428347, 0.9947362227950084, 0.9828327361610162, 0.9896159573341171, 0.9918358393320319, 0.9835561624478157, 0.9912379667367421, 0.9017668257284887, 0.9912963453924157, 0.9992395775205798, 0.953201637470597, 0.9859791906744828, 0.9934483072034989, 0.9958183717653053, 0.9954472007581545, 0.9812332445039436, 0.9944770743159034, 0.9876991017765211, 0.9983782823555071, 0.9905588112555551, 0.9540281019071561, 0.9869700543751816, 0.9982160608363632, 0.995476892035488, 0.9982469515662443, 0.9903555811380864, 0.9736079209405093, 0.99758135089061, 0.9955222664744627, 0.9740176651895992, 0.9839842369418401, 0.9560311933711299, 0.9680173863789525, 0.9995407195156694, 0.9979526884056861, 0.9475876148747071, 0.9865796000364276, 0.998701926196628, 0.9837306214430673, 0.9786795212267776, 0.9876712378803599, 0.9978946114585374, 0.9958003801000405, 0.9018883230398836, 0.9950543756793636, 0.9369212059424483, 0.9990243633879398, 0.9980347772257032, 0.9725051420145833, 0.9839173475135885, 0.9737982735975026, 0.991586050518444, 0.9912613224128382, 0.9977242071773924, 0.9924240056957601, 0.9988861012760396, 0.9245128591222652, 0.9807708019727533, 0.9914896109382295, 0.997508771358424, 0.9982841046224697, 0.981539462803801, 0.9627068169964109, 0.9898323418762429, 0.9879053172099008, 0.9913184239652535, 0.9948374478122436, 0.997575014694864, 0.9868092122964592, 0.9945867083838369, 0.9824216289615516, 0.9940150965462674, 0.9977989233881992, 0.9721891298400042, 0.9956042435899988, 0.9644996865131003, 0.9859948178889977, 0.9838817061038356, 0.9753571875270881, 0.9874291677220436, 0.9667080906464693, 0.9927025319773684, 0.9859353607462207, 0.9745117374858538, 0.9633800074236274, 0.975086281053781, 0.9813614270986429, 0.99045917583464, 0.9983664672226259, 0.9958576988478894, 0.9700654992061073, 0.9982900559926642, 0.9894523947989956, 0.9805267979554666, 0.9766404728924699, 0.9776125447682452, 0.9824437242557446, 0.9934077999834262, 0.9805067995676953, 0.9622003291037327, 0.9956952291999623, 0.8979207889980692, 0.9859484149301642, 0.9790047888504158, 0.9954718533586097, 0.9971984956643302, 0.9897297373305574, 0.9967009063035208, 0.9584859867065418, 0.9989477545562596, 0.9934495000400848, 0.984616162865784, 0.9839375792723083, 0.9985032929211589, 0.9977633283646679, 0.98524348669948, 0.995438778159241, 0.9930032013810003, 0.9969289887410269, 0.9590933730359603, 0.985677879274065, 0.9985111072696519, 0.990597361719368, 0.9978289566921227, 0.9990017782833173, 0.9940080539940305, 0.993650053853943, 0.9955008104880768, 0.9492176684254783, 0.9797350254469359, 0.9948310415218415, 0.9874031168989296, 0.9911959517469953, 0.981937114129919, 0.9668896346749196, 0.9980319361338994, 0.9701432801427937, 0.9565990129329673, 0.9556520216039021, 0.9900160348525155, 0.9935227970836626, 0.9923091648452156, 0.9954003563174546, 0.9835306716770758, 0.9881254403527479, 0.9800305159185625, 0.9975277349183876, 0.996208382619727, 0.9936687422001991, 0.9911517495293257, 0.9898260804338875, 0.9904224780673583, 0.9973082007862365, 0.9960361708078733, 0.9811569120905341, 0.9994210404493162, 0.9970824386768683, 0.9773167745773776, 0.994242199646825, 0.9991507105298861, 0.9965524453248551, 0.9964310420377183, 0.9915207514427469, 0.96424329535028, 0.9849100174216218, 0.9972620392070581, 0.9801862554835291, 0.9866894809192037, 0.9973237059544636, 0.985358011613278, 0.9988488642812998, 0.9862622426381553, 0.9794365274218082, 0.99432084131132, 0.9733693776385757, 0.9765727443716388, 0.973454247499018, 0.999491729863386, 0.9976102210949483, 0.9990062832475091, 0.9937324163928859, 0.9955863963661838, 0.9936629087010554, 0.9823434892325125, 0.9982548287583658, 0.984012499971047, 0.9844832046756744, 0.9931668857428358, 0.9999341683483371, 0.9967106358455472, 0.9930963017684641, 0.9760296934113767, 0.997533820753137, 0.9982058536034379, 0.9909108994920846, 0.995377770777504, 0.9923182953987365, 0.9972169122467325, 0.9988688305537341, 0.9967030556654366, 0.9949622450029776, 0.9122868374367129, 0.9956350210835201, 0.9923182482999773, 0.9991859249654427, 0.9958992098929432, 0.9800133495854333, 0.9780636370158954, 0.9885732864290195, 0.9964010638187465, 0.8999932843564843, 0.9956843991945664, 0.990064386660344, 0.9942598339571516, 0.993233550565115, 0.9875054157834218, 0.9986768328454714, 0.9445533630717442, 0.9961220467091797, 0.9961835581020773, 0.9930513294170548, 0.9944719921242586, 0.843382488935198, 0.9958590797437156, 0.9764030635391893, 0.9962597031351438, 0.9983550982205822, 0.9948352872514323, 0.9762492222221142, 0.9071041259272715, 0.9921176909376702, 0.9986073482732044, 0.9942535044149168, 0.9955682605179526, 0.9893967574565288, 0.9867579670495623, 0.9708453774756926, 0.9880043669557228, 0.9771360331585378, 0.9971548070954611, 0.9955427999509039, 0.9975484403189858, 0.9889788276554389, 0.9808052323780275, 0.9974992135881874, 0.9890685976345588, 0.9875866479598497, 0.9874402024764501, 0.9652413786084924, 0.9854226584773554, 0.9484684041215773, 0.994679335910263, 0.9777812676936836, 0.9927019987611955, 0.9804297709239068, 0.9901026124753328, 0.9952445559360119, 0.9842719832937504, 0.994615503421149, 0.9847157289506603, 0.9985962806346232, 0.9922646266105474, 0.978884157013567, 0.9926080599700094, 0.9899671064497729, 0.9775594197567161, 0.9825307600835257, 0.9959546262849037, 0.9980061861964316, 0.9877272600706315, 0.9951721202726899, 0.9900167650072985, 0.9913845280700794, 0.902455417656009, 0.9527533149914286, 0.9977039287915987, 0.9945760949342711, 0.9181954012922448, 0.9649843521364331, 0.997170527260964, 0.9932713177983491, 0.9946474251002378, 0.9713990091534195, 0.9903699657787475, 0.9964960350530004, 0.9819293445575323, 0.9965536049178383, 0.9755313646795757, 0.9458287503127764, 0.9921493118097113, 0.9914351789603477, 0.9793119730826438, 0.985714102324324, 0.9932077180675185, 0.9974132507772091, 0.9966789923360054, 0.9945120958617752, 0.9848569611286877, 0.998873324291108, 0.930701794778457, 0.990312753929809, 0.9953504113446655, 0.9946926406173497, 0.8794925210761053, 0.975534969340956, 0.9872427351993114, 0.9661348528375829, 0.9790004817589274, 0.9687066839330545, 0.9858551848945954, 0.9881860866389002, 0.9988150392378025, 0.9845860018104202, 0.9589853841670998, 0.9841412501795574, 0.9871427541829901, 0.9898382477464368, 0.9816284863888146, 0.9737856070573412, 0.9949486866169291, 0.9976849627472318, 0.9959556635025701, 0.9916454365479523, 0.996080739638567, 0.9970196458141192, 0.9989786176934539, 0.9923465714469157, 0.9462768271952082, 0.9990021915723267, 0.9813133774352266, 0.9934026283084232, 0.9934917814759971, 0.9893523291121546, 0.9845974998924925, 0.9228677846935918, 0.9787388140509542, 0.9967846075118261, 0.9990469870355758, 0.9978969234254786, 0.9815273277661571, 0.9959208118010592, 0.991956325470569, 0.9937979580833843, 0.9899875157647434, 0.9731790177132046, 0.9935767898086872, 0.9790004576339525, 0.9665282203388158, 0.9903635840764746, 0.9530144212776217, 0.9982416766332904, 0.9980474915014675, 0.9909463777254208, 0.9770186815894842, 0.9620424322339716, 0.9900808811320642, 0.9733241044231316, 0.987020406485941, 0.997352223118065, 0.9819756576754813, 0.993051977359433, 0.9927785107523931, 0.998670511725245, 0.9859312465216098, 0.995201348741198, 0.9857146687460122, 0.9771011054493699, 0.989435874336213, 0.991539378689032, 0.9863569530463874, 0.8992330709056789, 0.9939635523593586, 0.9944007829903299, 0.9908636913091872, 0.9980187134118575, 0.9925024974018148, 0.960368940426321, 0.9654738802907316, 0.9973980406627059, 0.9948951897923484, 0.996881309425726, 0.9924871298446389, 0.9957949232794644, 0.9812285889870754, 0.9794300952355578, 0.974474063363551, 0.9907473603001119, 0.9978624767994126, 0.9841777424279446, 0.9519822456775178, 0.9989501189772296, 0.9827724399764391, 0.9981962347752467, 0.9769379083737412, 0.991621534122879, 0.9939400132613025, 0.9972070418544039, 0.9908082110487446, 0.9761792491888072, 0.9867432695125075, 0.9972092485607935, 0.9732990198938379, 0.9902644326068598, 0.9987226213548231, 0.9983290533340365, 0.9556774033587477, 0.9691673824542109, 0.9896676692197546, 0.9913090363593098, 0.9936805806043241, 0.9711066711732559, 0.9888063371476308, 0.9979297739989155, 0.9791827084829251, 0.9809234225621276, 0.9618330802217606, 0.9971054713866112, 0.9928349928793213, 0.9867529727864095, 0.994907560262161, 0.9869196910502285, 0.998849705455608, 0.9957294236529198, 0.9983764820587802, 0.9882051451005831, 0.983384485545415, 0.9962733904945659, 0.9956736532781157, 0.9781569139725786, 0.9947979352601164, 0.9987640942567341, 0.9965860464213461, 0.9988853541437798, 0.9899462891525537, 0.9879686778489654, 0.9907200460839468, 0.9933940029333814, 0.9869173372943439, 0.9972241011056374, 0.9942644003765782, 0.9872734133761764, 0.9860089784858506, 0.9852204934546169, 0.9893753484672353, 0.9683515445306544, 0.9739437809872936, 0.9932718824616312, 0.9911893850634272, 0.9835617773675794, 0.985688813820552, 0.9679702408435821, 0.9632759944820245, 0.9984094600172875, 0.9921924769294641, 0.9877254279505543, 0.9788379788429457, 0.9956592599953057, 0.9927239528191423, 0.9670417225802678, 0.9942140637541826, 0.9976768584184114, 0.999131577073425, 0.9048191168115053, 0.9815395634132952, 0.9964081052935484, 0.9958453277470298, 0.9964677623472573, 0.9841421689855836, 0.9933072720720361, 0.9938690081725063, 0.992084833109766, 0.9987967805965152, 0.9920017773909873, 0.9870242205117808, 0.9906302021170513, 0.999049615998873, 0.9822695980557269, 0.9695787018170638, 0.9928568492505946, 0.9876859857865669, 0.9859496926735818, 0.996314464410509, 0.9980859943090753, 0.9895786505600297, 0.9606875263447421, 0.9881253197433912, 0.9866446980439646, 0.9968418634428232, 0.9940001700130539, 0.9177052403817233, 0.9970395929807616, 0.9620401393747513, 0.9979996667039629, 0.9771867757156951, 0.9890131445710999, 0.9962129630783505, 0.9990493261520516, 0.9620883010786744, 0.9889678425215374, 0.9755910403716437, 0.966664955589028, 0.95589577560754, 0.9974115147215529, 0.9901421598106953, 0.9987669121541622, 0.990548147599578, 0.9888218966975093, 0.9528931176451121, 0.9712204819757053, 0.9885775744056228, 0.9985748080961476, 0.9978632335717196, 0.9744581596496751, 0.9911235791132375, 0.9977996094530209, 0.9681993643144575, 0.993483520882548, 0.721973068233364, 0.9985716725753647, 0.9920964932172435, 0.9956531630251386, 0.9855695307360124, 0.9966239617440624, 0.9901136608367138, 0.9869912328978194, 0.9984964589852822, 0.9982534118179678, 0.9904068501014311, 0.9930602895512303, 0.9966230770799578, 0.9897016744588502, 0.956835640451203, 0.9910068182718518, 0.9933167051168607, 0.9935782604558019, 0.9966289978602225, 0.9887786795465352, 0.9947571638528417, 0.9946191994467517, 0.9940841114378548, 0.9952570203698647, 0.9857805989143944, 0.998543445444829, 0.9503570765529783, 0.9916429343698315, 0.9969762285210906, 0.9846524678686586, 0.9936416226238016, 0.9891387366431927, 0.9986219978323497, 0.9976842001306506, 0.9935966252565783, 0.9150209354139729, 0.29037439661658876, 0.9858151327173865, 0.9910744153811709, 0.9639578399914291, 0.9917279828750932, 0.9954276894278912, 0.9551108047150118, 0.9956561828085877, 0.9935473281125381, 0.9978832060805561, 0.9943873081983244, 0.9937990123688955, 0.987762900188139, 0.9971038907371238, 0.9986479846841603, 0.976508885914688, 0.9967121755394945, 0.9984319357429957, 0.9961776805043929, 0.9978633028871389, 0.9914025351113527, 0.9927328607172875, 0.9753035309243586, 0.9810923732231357, 0.9827544583334061, 0.9961071136027444, 0.9795996233879671, 0.9136724300939704, 0.9961801144887955, 0.9678018102614799, 0.8870347385271817, 0.9972342762437896, 0.9704418370443636, 0.999417335698769, 0.9895457501053948, 0.9642045624609757, 0.9748225113453591, 0.9983135794899342, 0.9894915665126435, 0.9839511872724187, 0.9903698045764167, 0.9981784841658847, 0.9973142303522817, 0.9990939075807799, 0.9825124002124567, 0.9783792095206965, 0.9001652347889353, 0.9630200307685373, 0.988454512244222, 0.9810133195485742, 0.9941705865875461, 0.998910575238027, 0.9985643038252613, 0.994934265525707, 0.998465972114626, 0.9921134704179722, 0.9831339807955072, 0.9957204228946366, 0.9973093981080249, 0.996492703857894, 0.995603599888993, 0.9892041709241637, 0.9962983498696173, 0.9978981521255738, 0.9995918472638531, 0.9985796759954458, 0.9938137621724893, 0.9932868243773224, 0.9996438186695397, 0.9853136897884947, 0.9892039969640108, 0.9974755159532457, 0.9710164302141726, 0.9931548566679997, 0.9959480049462922, 0.9817570629704995, 0.9980410753131798, 0.9580648976213448, 0.9973133969188408, 0.9770512356649169, 0.9828725315310183, 0.9883097220822795, 0.996835647873629, 0.9770214180326457, 0.9888928893066986, 0.9891594329777258, 0.9894793745781421, 0.9682177786737045, 0.940749672837828, 0.9877867568109406, 0.9975972059764551, 0.9728155952214085, 0.9718259827385046, 0.9641909888821919, 0.9806428361020417, 0.9987701133557615, 0.9949965937087438, 0.9992178788147208, 0.976114232512733, 0.9877626391299056, 0.9978809735662073, 0.9909570751323752, 0.998165832309575, 0.994252788812338, 0.9952151132475718, 0.9982806675949718, 0.9955051950978648, 0.9138407084023815, 0.997963375789929, 0.9957226024487549, 0.9942033281545968, 0.9962025358417667, 0.9803642141739077, 0.9993026157114246, 0.9886127345065361, 0.9983440636389863, 0.9721865942104816, 0.9908152603672936, 0.9866765187519435, 0.9478025155648682, 0.9749771691461814, 0.9984480308583834, 0.9957146509517412, 0.9858176574997773, 0.9891061670306046, 0.9666333443594657, 0.9959526641915523, 0.9722971230358844, 0.9812328121789557, 0.9969191501643867, 0.9994232863447138, 0.9976051031565881, 0.9919859383189981, 0.9888251079001185, 0.9955648480136384, 0.9542318619355766, 0.995852891766001, 0.9264538453420714, 0.9892315122699569, 0.9970099058494944, 0.9910214945458538, 0.9994615586036131, 0.9675563120095738, 0.9913514820304897, 0.9922527455267277, 0.9981759645721052, 0.9964092082162034, 0.9788146975707686, 0.9887504522546621, 0.987802708579559, 0.9934356157840216, 0.992787366859319, 0.9946042208852938, 0.9870492267295403, 0.9803584660404082, 0.9886694336109884, 0.996874971915853, 0.9950090286436479, 0.9949502414321667, 0.9984482747422211, 0.987580736378352, 0.997113360555463, 0.9965089707451552, 0.9942634036456178, 0.9720424416915078, 0.9924317012089818, 0.9922935754883259, 0.9968616211277255, 0.9765431348883545, 0.9910093397540102, 0.9812487197596743, 0.9625957834123168, 0.989443397024828, 0.9853084977189474, 0.9994254143508798, 0.9191909725759909, 0.9972536165779972, 0.9971746942731731, 0.9953076258163349, 0.9954127321948554, 0.9932427466249641, 0.996453107110312, 0.9834188919217447, 0.9975432179989597, 0.9942397045004839, 0.9979938222049162, 0.9916849071818321, 0.9979006116485675, 0.9988299586550584, 0.9839756110734499, 0.9983449892215764, 0.9923902490635097, 0.9881844635051112, 0.9977599810934672, 0.989484166000924, 0.9961252826789195, 0.9962763332823734, 0.9826272936742994, 0.9547884744442081, 0.994760258543138, 0.9955230827913314, 0.982903789407604, 0.9945886254845161, 0.9966789672626623, 0.9879139512543845, 0.9795375097754427, 0.9883969049973805, 0.9872013384018761, 0.9860357378919973, 0.9865362693608328, 0.9983794455935422, 0.9935241041572627, 0.9919985639512666, 0.9921192902264842, 0.9859121804631402, 0.9970574670264122, 0.9908522880829909, 0.9899857802387447, 0.9924620624706951, 0.9703036742043879, 0.9829756864407204, 0.9822601430261062, 0.9963236177243885, 0.97445310481028, 0.9203973343022526, 0.9942949734184559, 0.9771450637144875, 0.9998417147569384, 0.9788904255430351, 0.9968651732914925, 0.9757634827589147, 0.9114765242812166, 0.9865809882220468, 0.9928345365163341, 0.984838211597696, 0.9899779283301864, 0.9982714274178638, 0.9964593033452902, 0.9944170181201454, 0.9967397222059105, 0.9833095020778988, 0.9939724448172014, 0.997118735709035, 0.9977963626539529, 0.9957399226487023, 0.9662753651266445, 0.9964533520535089, 0.9974761824301763, 0.9906512290899048, 0.9908049012479868, 0.9945502725693353, 0.9747987027678635, 0.9985175220407005, 0.9035609389413187, 0.9981596946079812, 0.9955268658171978, 0.979920839558986, 0.99152152646126, 0.9830955585463373, 0.9993544742439995, 0.9995905320408863, 0.9996520245697045, 0.9984978404415354, 0.9960528615235347, 0.9809179702948174, 0.997596251805715, 0.9634176670565406, 0.998649954776905, 0.9958704210783088, 0.9951441261227755, 0.9915010188301259, 0.9980789891995279, 0.9960255123532167, 0.9798426769793795, 0.9897965315392497, 0.9881527570007078, 0.9992238460871526, 0.9984669102954015, 0.9178376152022781, 0.9674341567836386, 0.9997258435035321, 0.9849502741818648, 0.9640732538306676, 0.9958590629350652, 0.9994777894713629, 0.9979982983138415, 0.9802325416047978, 0.9993612233755155, 0.9626805178514306, 0.9724745869387181, 0.9912928051960965, 0.9966100170766965, 0.9821875583671943, 0.9956375224121464, 0.9957328976347397, 0.9964948152497628, 0.978025859036827, 0.9805713127153952, 0.9995973856113323, 0.9986015436462811, 0.9985991218106031, 0.9905224425523329, 0.9844244527040094, 0.9739392749109204], \"Term\": [\"aaron\", \"abandon\", \"abc\", \"ability\", \"abroad\", \"abuse\", \"academy\", \"accept\", \"access\", \"accident\", \"accusation\", \"accuse\", \"achieve\", \"act\", \"action\", \"activist\", \"activity\", \"actor\", \"actress\", \"ad\", \"adam\", \"adapt\", \"add\", \"address\", \"admit\", \"adopt\", \"adoption\", \"adorable\", \"adult\", \"advance\", \"advice\", \"advise\", \"adviser\", \"advocate\", \"affect\", \"afford\", \"afghanistan\", \"african_american\", \"age\", \"agency\", \"agent\", \"agree\", \"ahead\", \"aim\", \"air\", \"air_force\", \"airbnb\", \"airline\", \"airport\", \"al\", \"alarm\", \"alaska\", \"album\", \"alec_baldwin\", \"alert\", \"alex\", \"alice\", \"alive\", \"allegation\", \"allege\", \"allegedly\", \"allison\", \"allow\", \"amazon\", \"amber\", \"amendment\", \"america\", \"american\", \"american_idol\", \"americans\", \"amtrak\", \"amy\", \"analogy\", \"andrew\", \"angry\", \"animal\", \"anna\", \"anne\", \"anniversary\", \"announce\", \"announcement\", \"annual\", \"answer\", \"anthony\", \"anti\", \"anxiety\", \"apartment\", \"apologize\", \"apology\", \"app\", \"apparently\", \"appear\", \"apple\", \"approve\", \"arctic\", \"area\", \"aren\", \"arizona\", \"arm\", \"arrest\", \"artist\", \"ashley\", \"asia\", \"ask\", \"assault\", \"assistant\", \"athlete\", \"atlanta\", \"atlantic\", \"attack\", \"attempt\", \"attend\", \"attorney\", \"audience\", \"audio\", \"austin\", \"australia\", \"australian\", \"authority\", \"auto\", \"avenger\", \"avoid\", \"award\", \"awkward\", \"baby\", \"bachelor\", \"back\", \"bacon\", \"bad\", \"bag\", \"baking\", \"ball\", \"ballet\", \"ban\", \"band\", \"bank_america\", \"banker\", \"bankruptcy\", \"bar\", \"barack_obama\", \"barbara\", \"barbie\", \"barely\", \"bargain\", \"base\", \"bash\", \"basic\", \"bathroom\", \"batman\", \"battle\", \"bbq\", \"bean\", \"bear\", \"beast\", \"beat\", \"beauty\", \"bedtime\", \"beg\", \"belief\", \"believe\", \"bella\", \"belly\", \"ben\", \"bench\", \"bend\", \"berry\", \"bet\", \"bid\", \"big\", \"bill\", \"billionaire\", \"birth\", \"birthday\", \"bishop\", \"bit\", \"bite\", \"bizarre\", \"black\", \"blake\", \"blame\", \"blast\", \"block\", \"blood\", \"bloom\", \"bloomberg\", \"blow\", \"blue\", \"board\", \"bob\", \"bohemian\", \"bold\", \"bomb\", \"bombing\", \"book\", \"boost\", \"boot\", \"border\", \"boss\", \"boston\", \"bounce\", \"bow\", \"boxer\", \"boy\", \"boy_scout\", \"boycott\", \"boyfriend\", \"brad_pitt\", \"brazilian\", \"break\", \"breakup\", \"brian\", \"bring\", \"british\", \"broadway\", \"broken\", \"brooklyn\", \"brother\", \"brown\", \"brush\", \"bryant\", \"budget\", \"bug\", \"building\", \"bullet\", \"bully\", \"bureau\", \"burn\", \"burst\", \"bus\", \"bush\", \"business\", \"busy\", \"button\", \"buy\", \"cage\", \"cake\", \"california\", \"call\", \"cameo\", \"campaign\", \"canada\", \"canadian\", \"cancel\", \"cancer\", \"candidate\", \"cannes\", \"cape\", \"capture\", \"car\", \"card\", \"cardboard\", \"cardinal\", \"care\", \"career\", \"cargo\", \"carry\", \"case\", \"cash\", \"cast\", \"cat\", \"catch\", \"catholic\", \"cause\", \"cave\", \"cdc\", \"celebrate\", \"celebration\", \"celebrity\", \"cell\", \"censor\", \"census\", \"center\", \"central\", \"century\", \"ceo\", \"ceremony\", \"chairman\", \"challenge\", \"challenger\", \"champion\", \"change\", \"chapter\", \"character\", \"charge\", \"charlie\", \"charming\", \"charter\", \"chat\", \"cheap\", \"cheat\", \"check\", \"cheer\", \"chef\", \"chew\", \"chic\", \"chicken\", \"child\", \"chilean\", \"china\", \"chinese\", \"chip\", \"choice\", \"choose\", \"christian\", \"christopher\", \"church\", \"circle\", \"citizenship\", \"city\", \"civil_rights\", \"claim\", \"class\", \"classified\", \"clean\", \"clear\", \"cleveland\", \"clever\", \"client\", \"climate\", \"climate_change\", \"clip\", \"close\", \"cloud\", \"club\", \"coach\", \"coachella\", \"coal\", \"coat\", \"coffee\", \"cohen\", \"coke\", \"colbert\", \"cole\", \"colin\", \"college\", \"color\", \"column\", \"columnist\", \"combat\", \"come\", \"comeback\", \"comedian\", \"comedy\", \"comic\", \"comic_strip\", \"comment\", \"commit\", \"common\", \"community\", \"commuter\", \"company\", \"compare\", \"compete\", \"competition\", \"complain\", \"complaint\", \"complete\", \"completely\", \"complex\", \"conan_brien\", \"concert\", \"condemn\", \"conference\", \"confirm\", \"confront\", \"congress\", \"congressional\", \"congressman\", \"connect\", \"connecticut\", \"conservative\", \"consider\", \"conspiracy\", \"contestant\", \"continue\", \"control\", \"controversial\", \"controversy\", \"convention\", \"cook\", \"cool\", \"cop\", \"cord\", \"cosby\", \"cost\", \"costume\", \"council\", \"count\", \"country\", \"county\", \"couple\", \"court\", \"cover\", \"coverage\", \"crack\", \"crackdown\", \"crash\", \"crazy\", \"create\", \"creator\", \"credit\", \"crime\", \"criminal\", \"crisis\", \"critic\", \"criticize\", \"cross\", \"crow\", \"crowd\", \"crush\", \"cuba\", \"culture\", \"cup\", \"curious\", \"current\", \"curry\", \"curse\", \"custody\", \"cut\", \"cute\", \"cutest\", \"dad\", \"daddy\", \"daily\", \"dan\", \"dance\", \"dancing\", \"danger\", \"dangerous\", \"daniel\", \"danish\", \"dark\", \"date\", \"datum\", \"daughter\", \"david\", \"day\", \"dead\", \"deadly\", \"deaf\", \"deal\", \"dean\", \"dear\", \"death\", \"debate\", \"debunk\", \"debut\", \"decision\", \"declare\", \"decode\", \"dee\", \"deem\", \"deep\", \"defeat\", \"defend\", \"defense\", \"definition\", \"degree\", \"delay\", \"deliver\", \"dem\", \"demand\", \"democratic\", \"democrats\", \"dennis\", \"denver\", \"deny\", \"deportation\", \"deputy\", \"describe\", \"deserve\", \"desk\", \"dessert\", \"destination\", \"detail\", \"detective\", \"device\", \"devil\", \"diary\", \"didn\", \"die\", \"difficult\", \"dig\", \"digital\", \"dinner\", \"direct\", \"director\", \"disarm\", \"discover\", \"discuss\", \"dismiss\", \"disney\", \"district\", \"ditch\", \"diversity\", \"divide\", \"divorce\", \"dj\", \"dna\", \"doc\", \"doctor\", \"document\", \"documentary\", \"doesn\", \"dog\", \"domestic\", \"dominate\", \"don\", \"donald\", \"donate\", \"donation\", \"donor\", \"door\", \"dorm\", \"double\", \"dozen\", \"dr\", \"draft\", \"drag\", \"drama\", \"dream\", \"dress\", \"dressed\", \"drive\", \"driver\", \"drop\", \"drug\", \"drunk\", \"dude\", \"dumb\", \"duty\", \"ear\", \"easy\", \"eat\", \"economy\", \"ed\", \"editor\", \"education\", \"effective\", \"egg\", \"elect\", \"election\", \"eliminate\", \"elite\", \"elle\", \"ellen\", \"ellen_degenere\", \"email\", \"embarrass\", \"emerge\", \"emily\", \"emmy\", \"emotional\", \"employee\", \"end\", \"engage\", \"ensure\", \"enter\", \"entire\", \"entitle\", \"environment\", \"epic\", \"epidemic\", \"episode\", \"era\", \"eric\", \"ers\", \"espn\", \"ethic\", \"ethical\", \"europe\", \"european\", \"evangelical\", \"evans\", \"event\", \"everyday\", \"evil\", \"examine\", \"exchange\", \"exclusive\", \"excuse\", \"executive\", \"exist\", \"exit\", \"expand\", \"expect\", \"experience\", \"explain\", \"explosion\", \"expose\", \"expression\", \"extend\", \"extreme\", \"eye\", \"eyed\", \"face\", \"facebook\", \"facial\", \"fact\", \"factor\", \"fail\", \"failure\", \"fairy\", \"faith\", \"fake\", \"fall\", \"fame\", \"family\", \"famous\", \"fan\", \"fancy\", \"fans\", \"farm\", \"fashion\", \"fate\", \"father\", \"fault\", \"favor\", \"fbi\", \"fcc\", \"fear\", \"feature\", \"fed\", \"federal\", \"feel\", \"felony\", \"female\", \"ferguson\", \"festival\", \"field\", \"fifa\", \"fight\", \"figure\", \"file\", \"film\", \"finale\", \"finalist\", \"finally\", \"financial\", \"find\", \"fine\", \"finger\", \"fire\", \"firm\", \"fischer\", \"fish\", \"fix\", \"flag\", \"flame\", \"flat\", \"flight\", \"flip\", \"flip_flop\", \"float\", \"floor\", \"florida\", \"flub\", \"focus\", \"foot\", \"force\", \"foreign\", \"forever\", \"forget\", \"forgive\", \"form\", \"forum\", \"forward\", \"foster\", \"fourth\", \"fox\", \"fox_new\", \"france\", \"frank\", \"fraud\", \"freak\", \"free\", \"freedom\", \"french\", \"fresh\", \"friend\", \"frozen\", \"fruit\", \"fuel\", \"fun\", \"fund\", \"funding\", \"funeral\", \"funniest\", \"funny\", \"future\", \"game\", \"gang\", \"gap\", \"gas\", \"gather\", \"gay\", \"gay_men\", \"gender\", \"genius\", \"george\", \"georgia\", \"german\", \"germany\", \"ghost\", \"gift\", \"gig\", \"girl\", \"girlfriend\", \"give\", \"giveaway\", \"glass\", \"glimpse\", \"global\", \"god\", \"golf\", \"good\", \"goodbye\", \"gop\", \"gop_candidate\", \"gov\", \"government\", \"governor\", \"gown\", \"gps\", \"grace\", \"graduate\", \"graduation\", \"grand\", \"graphic\", \"great\", \"green\", \"greg\", \"grill\", \"ground\", \"group\", \"grow\", \"guard\", \"guest\", \"guilty\", \"gulf\", \"gun\", \"gun_control\", \"guy\", \"hack\", \"hacker\", \"hacking\", \"hand\", \"handle\", \"hang\", \"happen\", \"happy\", \"hard\", \"harm\", \"harmful\", \"harriet\", \"hart\", \"hate\", \"haunt\", \"hawaii\", \"head\", \"health\", \"health_care\", \"hear\", \"hearing\", \"heart\", \"heat\", \"heel\", \"hell\", \"help\", \"hero\", \"hide\", \"hiding\", \"high\", \"high_school\", \"highlight\", \"highly\", \"highway\", \"hilarious\", \"hint\", \"hire\", \"historic\", \"history\", \"hit\", \"hold\", \"hole\", \"holiday\", \"hollywood\", \"home\", \"homophobia\", \"honesty\", \"honor\", \"hope\", \"hopeful\", \"hospital\", \"host\", \"hostage\", \"hot\", \"hour\", \"house\", \"housing\", \"huffpost\", \"huge\", \"hulu\", \"human\", \"humanity\", \"humor\", \"hundred\", \"hunt\", \"hunter\", \"hunting\", \"hurdle\", \"hurt\", \"husband\", \"ian\", \"ice\", \"ice_cream\", \"icon\", \"idaho\", \"idea\", \"ignore\", \"ill\", \"illegal\", \"image\", \"imagine\", \"immigrant\", \"immigration\", \"impact\", \"impossible\", \"impression\", \"inauguration\", \"inch\", \"incident\", \"include\", \"increase\", \"increasingly\", \"incredible\", \"india\", \"indian\", \"indiana\", \"indie\", \"industry\", \"infamous\", \"influencer\", \"influential\", \"information\", \"injure\", \"insane\", \"inside\", \"inspire\", \"instagram\", \"insult\", \"insurance\", \"interest\", \"interior\", \"international\", \"internet\", \"interview\", \"intimate\", \"introduce\", \"invasion\", \"inventor\", \"investigate\", \"investigation\", \"investment\", \"investor\", \"invite\", \"involve\", \"iowa\", \"iran\", \"ireland\", \"irish\", \"isis\", \"island\", \"isn\", \"israel\", \"israeli\", \"issue\", \"italian\", \"italy\", \"jack\", \"jackson\", \"jada_pinkett\", \"jail\", \"jam\", \"james\", \"japan\", \"japanese\", \"jay\", \"jeff\", \"jeffrey\", \"jenna\", \"jennifer_garner\", \"jerry\", \"jersey\", \"jerusalem\", \"jessica\", \"jesus\", \"jet\", \"jewish\", \"jews\", \"jim\", \"jimmy_fallon\", \"jimmy_kimmel\", \"job\", \"joe\", \"john\", \"johnson\", \"join\", \"joke\", \"jon\", \"jones\", \"jordan\", \"josh\", \"journalist\", \"journey\", \"joy\", \"jr\", \"judge\", \"jump\", \"justice\", \"justin_timberlake\", \"kanye\", \"kanye_w\", \"kanye_west\", \"karma\", \"katy_perry\", \"kelly\", \"kelly_clarkson\", \"kentucky\", \"kenya\", \"kevin\", \"key\", \"kid\", \"kill\", \"killer\", \"kim\", \"kim_jong\", \"kim_kardashian\", \"king\", \"knife\", \"know\", \"korea\", \"korean\", \"kristen_stewart\", \"la\", \"lady\", \"lake\", \"land\", \"lane\", \"large\", \"lash\", \"last\", \"late\", \"late_night\", \"laugh\", \"launch\", \"lauren\", \"law\", \"lawmaker\", \"lawsuit\", \"lawyer\", \"lead\", \"leader\", \"leak\", \"learn\", \"leave\", \"lebron_jame\", \"lee\", \"leftover\", \"legacy\", \"legal\", \"lego\", \"leon\", \"lesson\", \"let\", \"letter\", \"lgbtq\", \"liar\", \"liberal\", \"library\", \"license\", \"lie\", \"life\", \"lifestyle\", \"lift\", \"light\", \"limbaugh\", \"limit\", \"line\", \"link\", \"lip\", \"list\", \"listen\", \"literally\", \"live\", \"lo\", \"loan\", \"london\", \"lonely\", \"long\", \"long_island\", \"lose\", \"loser\", \"lot\", \"louis\", \"louisiana\", \"love\", \"low\", \"mac\", \"machine\", \"macy\", \"madonna\", \"magazine\", \"magic\", \"magical\", \"maher\", \"mail\", \"major\", \"make\", \"makeover\", \"maker\", \"male\", \"man\", \"manhattan\", \"map\", \"march\", \"marie\", \"marijuana\", \"mark\", \"mark_zuckerberg\", \"market\", \"marriage\", \"marry\", \"marvel\", \"mary\", \"maryland\", \"mask\", \"mass\", \"massachusetts\", \"massage\", \"massive\", \"match\", \"math\", \"matt\", \"mayor\", \"mcdonald\", \"mean\", \"meaning\", \"measure\", \"meat\", \"media\", \"medical\", \"medication\", \"medium\", \"meet\", \"meeting\", \"member\", \"meme\", \"memo\", \"memorial\", \"memory\", \"men\", \"mental\", \"mental_health\", \"merger\", \"message\", \"met_gala\", \"mia\", \"michael\", \"michael_jordan\", \"michelle\", \"michelle_obama\", \"middle_school\", \"mike\", \"mile\", \"miley_cyrus\", \"military\", \"millennial\", \"miller\", \"million\", \"mind\", \"mini\", \"minister\", \"minor\", \"minute\", \"mirror\", \"miss\", \"mission\", \"missouri\", \"mistake\", \"mitt_romney\", \"mlb\", \"mock\", \"mocks\", \"molly\", \"mom\", \"moment\", \"momentum\", \"monday\", \"money\", \"monitor\", \"monkey\", \"monster\", \"month\", \"moon\", \"mormon\", \"morning\", \"moscow\", \"mother\", \"mother_day\", \"motion\", \"mount\", \"mourn\", \"mouse\", \"mouth\", \"move\", \"movement\", \"movie\", \"mtv\", \"multiple\", \"murder\", \"museum\", \"music\", \"musician\", \"muslim\", \"myanmar\", \"mysterious\", \"mystery\", \"nail\", \"name\", \"nap\", \"nasa\", \"natalie_portman\", \"nation\", \"national\", \"national_anthem\", \"national_park\", \"native_american\", \"nba\", \"nbc\", \"nebraska\", \"need\", \"needle\", \"negative\", \"neglect\", \"neighbor\", \"neil\", \"netflix\", \"new\", \"newly\", \"news\", \"nfl\", \"nicole_kidman\", \"night\", \"nightmare\", \"nikki\", \"nod\", \"nomination\", \"nominee\", \"normal\", \"north\", \"north_korea\", \"note\", \"nra\", \"nsfw\", \"nuclear\", \"nude\", \"number\", \"ny\", \"nyc\", \"nyt\", \"obama\", \"ocean\", \"ode\", \"offend\", \"offer\", \"office\", \"officer\", \"official\", \"ohio\", \"old\", \"olive\", \"oliver\", \"olympic\", \"onion\", \"online\", \"open\", \"open_letter\", \"opening\", \"oprah\", \"optimism\", \"oral\", \"order\", \"original\", \"orleans\", \"out\", \"outage\", \"outfit\", \"outlet\", \"outrage\", \"overdose\", \"own\", \"owner\", \"oyster\", \"pack\", \"package\", \"page\", \"pageant\", \"pain\", \"paint\", \"painting\", \"pan\", \"panel\", \"panic\", \"pant\", \"paper\", \"pardon\", \"parent\", \"park\", \"parody\", \"partner\", \"party\", \"pass\", \"passenger\", \"passion\", \"pastor\", \"pat\", \"patient\", \"patrick\", \"pattern\", \"paul\", \"paul_ryan\", \"pay\", \"payment\", \"pbs\", \"peace\", \"pen\", \"pennsylvania\", \"penny\", \"people\", \"percent\", \"perfect\", \"perform\", \"performance\", \"person\", \"peru\", \"pet\", \"phil\", \"philadelphia\", \"phone\", \"photo\", \"photographer\", \"physical\", \"pic\", \"pick\", \"picture\", \"pie\", \"pill\", \"pilot\", \"place\", \"plan\", \"plane\", \"planet\", \"planned_parenthood\", \"plant\", \"plastic\", \"play\", \"player\", \"playground\", \"plea\", \"pledge\", \"point\", \"poisoning\", \"police\", \"policy\", \"politic\", \"political\", \"politician\", \"poll\", \"poop\", \"pop\", \"popular\", \"porn\", \"portrait\", \"portray\", \"pose\", \"position\", \"positive\", \"post\", \"pot\", \"potential\", \"potentially\", \"pound\", \"power\", \"powerful\", \"practice\", \"praise\", \"prank\", \"pray\", \"prayer\", \"prefer\", \"pregnant\", \"prepare\", \"president\", \"press\", \"pretend\", \"pretty\", \"prevention\", \"preview\", \"pride\", \"priest\", \"primary\", \"prime_minister\", \"prince\", \"principal\", \"prison\", \"prisoner\", \"privacy\", \"private\", \"prize\", \"pro\", \"probe\", \"problem\", \"produce\", \"producer\", \"professional\", \"professor\", \"profile\", \"profit\", \"program\", \"project\", \"prom\", \"promise\", \"promote\", \"proof\", \"propaganda\", \"property\", \"proposal\", \"propose\", \"prosecute\", \"prosecutor\", \"protect\", \"protection\", \"protest\", \"protester\", \"proud\", \"prove\", \"provide\", \"public\", \"public_health\", \"publicly\", \"pull\", \"punch\", \"punishment\", \"punk\", \"puppy\", \"push\", \"put\", \"queen\", \"queer\", \"question\", \"quietly\", \"quit\", \"race\", \"rachel\", \"racially\", \"racism\", \"racist\", \"rack\", \"rage\", \"rail\", \"rain\", \"rainbow\", \"raise\", \"rally\", \"ram\", \"rank\", \"rant\", \"rap\", \"rape\", \"rapper\", \"rare\", \"rate\", \"reach\", \"react\", \"read\", \"ready\", \"real\", \"real_life\", \"reality_tv\", \"reason\", \"reboot\", \"recall\", \"receive\", \"recent\", \"reclaim\", \"recognition\", \"recognize\", \"record\", \"red\", \"red_carpet\", \"reddit\", \"reduce\", \"reflect\", \"reform\", \"refuse\", \"region\", \"regret\", \"regulate\", \"reid\", \"reject\", \"rejoice\", \"relationship\", \"release\", \"relief\", \"religious\", \"remark\", \"remind\", \"reminder\", \"remote\", \"remove\", \"renew\", \"rent\", \"replace\", \"report\", \"report_find\", \"reportedly\", \"reporter\", \"represent\", \"republic\", \"republican\", \"republicans\", \"reputation\", \"request\", \"require\", \"rescue\", \"research\", \"researcher\", \"resign\", \"resist\", \"resort\", \"respond\", \"restaurant\", \"restore\", \"result\", \"resume\", \"retail\", \"retire\", \"retro\", \"return\", \"reunion\", \"rev\", \"reveal\", \"reverse\", \"review\", \"revive\", \"rice\", \"richard\", \"ride\", \"ridiculous\", \"ridley\", \"right\", \"rihanna\", \"rio\", \"rip\", \"rise\", \"risk\", \"rival\", \"rnc\", \"roast\", \"rob\", \"robert\", \"robinson\", \"robot\", \"rock\", \"rod\", \"roger\", \"rogue\", \"role\", \"roll\", \"roman\", \"romantic\", \"ron\", \"room\", \"root\", \"round\", \"route\", \"rover\", \"row\", \"royal\", \"royal_family\", \"ruin\", \"rule\", \"rumor\", \"run\", \"runner\", \"rush\", \"russia\", \"russian\", \"ryan\", \"safe\", \"safety\", \"sake\", \"salary\", \"salute\", \"sander\", \"sanders\", \"sanity\", \"santa\", \"sarah\", \"saturday\", \"saturday_night\", \"saudi_arabia\", \"savage\", \"save\", \"saving\", \"scam\", \"scan\", \"scandal\", \"scare\", \"scarlett_johansson\", \"scary\", \"scene\", \"school\", \"school_shooting\", \"schooler\", \"scientist\", \"scott\", \"screen\", \"screw\", \"sea\", \"seal\", \"search\", \"season\", \"seat\", \"seattle\", \"second\", \"secret\", \"secretary\", \"secure\", \"security\", \"see\", \"seed\", \"seek\", \"sell\", \"senate\", \"senator\", \"send\", \"sentence\", \"september\", \"serve\", \"server\", \"service\", \"session\", \"set\", \"seth_meyer\", \"settle\", \"settlement\", \"sex\", \"sexist\", \"sexual\", \"sexual_abuse\", \"sexual_harassment\", \"sexuality\", \"sexy\", \"shadow\", \"share\", \"shark\", \"shave\", \"shawn\", \"shock\", \"shocking\", \"shoe\", \"shoot\", \"shooter\", \"shooting\", \"shop\", \"shopper\", \"shot\", \"shove\", \"show\", \"shut\", \"sick\", \"side\", \"sign\", \"silence\", \"simpson\", \"singer\", \"single\", \"sink\", \"sit\", \"site\", \"situation\", \"skewer\", \"skip\", \"slam\", \"slow\", \"smart\", \"smash\", \"smile\", \"smith\", \"smoke\", \"smoking\", \"snap\", \"snl\", \"sober\", \"soccer\", \"social_media\", \"sock\", \"solo\", \"solve\", \"son\", \"song\", \"source\", \"south_korea\", \"south_korean\", \"southern\", \"southwest\", \"spanish\", \"spark\", \"speak\", \"speaker\", \"special\", \"speech\", \"spend\", \"spending\", \"spice\", \"spill\", \"spirit\", \"split\", \"spoof\", \"sport\", \"spot\", \"spotlight\", \"spouse\", \"spray\", \"spread\", \"spur\", \"spy\", \"square\", \"st\", \"staff\", \"staffer\", \"stage\", \"stalk\", \"stan\", \"stand\", \"standard\", \"star\", \"star_war\", \"starbuck\", \"starbucks\", \"state\", \"statement\", \"station\", \"status\", \"stay\", \"steal\", \"step\", \"stephen\", \"stephen_colbert\", \"stepping\", \"stern\", \"steve\", \"stir\", \"stone\", \"stop\", \"store\", \"storm\", \"story\", \"straight\", \"strand\", \"strange\", \"strategy\", \"street\", \"strike\", \"strip\", \"struggle\", \"student\", \"study\", \"study_find\", \"stun\", \"stunning\", \"style\", \"subway\", \"suck\", \"sue\", \"sues\", \"suggest\", \"suit\", \"summit\", \"super\", \"superman\", \"support\", \"suppose\", \"surf\", \"surface\", \"surprise\", \"surrender\", \"survival\", \"survivor\", \"suspect\", \"suspend\", \"suspicious\", \"swedish\", \"sweet\", \"swimmer\", \"swing\", \"syria\", \"tactic\", \"take\", \"tale\", \"talk\", \"tap\", \"tape\", \"target\", \"tattoo\", \"tax\", \"taylor\", \"taylor_swift\", \"teach\", \"teacher\", \"teachers\", \"team\", \"tear\", \"tech\", \"technology\", \"ted\", \"teen\", \"teenager\", \"tell\", \"tennessee\", \"term\", \"terrible\", \"terrify\", \"terrorist\", \"test\", \"texas\", \"text\", \"theater\", \"theft\", \"theme\", \"theory\", \"therapist\", \"therapy\", \"thing\", \"think\", \"thousand\", \"threat\", \"threaten\", \"thrill\", \"throw\", \"throwback\", \"ticket\", \"tie\", \"tiger\", \"time\", \"times\", \"tiny\", \"title\", \"today\", \"toddler\", \"toll\", \"tom\", \"tom_cruise\", \"tonight\", \"tool\", \"top\", \"toronto\", \"toss\", \"total\", \"totally\", \"touch\", \"tough\", \"tour\", \"tower\", \"town\", \"track\", \"trade\", \"trading\", \"traditional\", \"trailer\", \"train\", \"trans\", \"transformation\", \"transgender\", \"transparency\", \"trap\", \"trash\", \"travel\", \"treasury\", \"treat\", \"treatment\", \"tree\", \"trial\", \"tribute\", \"trick\", \"trigger\", \"trip\", \"trouble\", \"true\", \"trust\", \"tsa\", \"turn\", \"turner\", \"tv\", \"tweet\", \"twist\", \"twitter\", \"tyler\", \"uk\", \"ultimate\", \"uncertainty\", \"unconscious\", \"understand\", \"underwear\", \"undocumented\", \"union\", \"unique\", \"united\", \"universe\", \"university\", \"unveil\", \"up\", \"upcoming\", \"update\", \"urban\", \"urge\", \"user\", \"utah\", \"vacation\", \"van\", \"vanessa\", \"ve\", \"ve_heard\", \"verdict\", \"vermont\", \"veteran\", \"vibe\", \"vice_president\", \"victim\", \"victory\", \"video\", \"video_show\", \"view\", \"viewer\", \"violation\", \"violence\", \"viral\", \"virginia\", \"vision\", \"visit\", \"voice\", \"volunteer\", \"vote\", \"voter\", \"vow\", \"wait\", \"walk\", \"wall\", \"walter\", \"want\", \"war\", \"warn\", \"warrior\", \"washington\", \"wasn\", \"watch\", \"watchdog\", \"water\", \"wave\", \"weak\", \"wealthy\", \"weapon\", \"wear\", \"wedding\", \"week\", \"weekend\", \"weird\", \"welcome\", \"west\", \"wet\", \"white\", \"white_house\", \"whitney_houston\", \"wide\", \"wife\", \"wild\", \"wildlife\", \"william\", \"wilson\", \"win\", \"winter\", \"withdraw\", \"withdrawal\", \"woman\", \"wonderful\", \"woody_allen\", \"word\", \"work\", \"worker\", \"working\", \"world\", \"world_cup\", \"world_record\", \"worthy\", \"wrap\", \"wreck\", \"write\", \"writer\", \"wrong\", \"yale\", \"yard\", \"year\", \"york\", \"young\", \"youth\", \"zombie\", \"zoo\"]}, \"R\": 30, \"lambda.step\": 0.01, \"plot.opts\": {\"xlab\": \"PC1\", \"ylab\": \"PC2\"}, \"topic.order\": [41, 8, 37, 52, 13, 44, 16, 64, 62, 18, 15, 17, 7, 26, 6, 54, 56, 39, 2, 55, 61, 14, 50, 59, 57, 42, 60, 63, 34, 24, 4, 43, 5, 35, 38, 20, 49, 28, 23, 31, 10, 9, 11, 40, 19, 12, 30, 53, 51, 45, 33, 47, 29, 48, 25, 36, 46, 32, 21, 3, 27, 22, 58, 1]};\n",
              "\n",
              "function LDAvis_load_lib(url, callback){\n",
              "  var s = document.createElement('script');\n",
              "  s.src = url;\n",
              "  s.async = true;\n",
              "  s.onreadystatechange = s.onload = callback;\n",
              "  s.onerror = function(){console.warn(\"failed to load library \" + url);};\n",
              "  document.getElementsByTagName(\"head\")[0].appendChild(s);\n",
              "}\n",
              "\n",
              "if(typeof(LDAvis) !== \"undefined\"){\n",
              "   // already loaded: just create the visualization\n",
              "   !function(LDAvis){\n",
              "       new LDAvis(\"#\" + \"ldavis_el1180417872461670882293494355\", ldavis_el1180417872461670882293494355_data);\n",
              "   }(LDAvis);\n",
              "}else if(typeof define === \"function\" && define.amd){\n",
              "   // require.js is available: use it to load d3/LDAvis\n",
              "   require.config({paths: {d3: \"https://d3js.org/d3.v5\"}});\n",
              "   require([\"d3\"], function(d3){\n",
              "      window.d3 = d3;\n",
              "      LDAvis_load_lib(\"https://cdn.jsdelivr.net/gh/bmabey/pyLDAvis@3.4.0/pyLDAvis/js/ldavis.v3.0.0.js\", function(){\n",
              "        new LDAvis(\"#\" + \"ldavis_el1180417872461670882293494355\", ldavis_el1180417872461670882293494355_data);\n",
              "      });\n",
              "    });\n",
              "}else{\n",
              "    // require.js not available: dynamically load d3 & LDAvis\n",
              "    LDAvis_load_lib(\"https://d3js.org/d3.v5.js\", function(){\n",
              "         LDAvis_load_lib(\"https://cdn.jsdelivr.net/gh/bmabey/pyLDAvis@3.4.0/pyLDAvis/js/ldavis.v3.0.0.js\", function(){\n",
              "                 new LDAvis(\"#\" + \"ldavis_el1180417872461670882293494355\", ldavis_el1180417872461670882293494355_data);\n",
              "            })\n",
              "         });\n",
              "}\n",
              "</script>"
            ],
            "text/plain": [
              "PreparedData(topic_coordinates=              x         y  topics  cluster      Freq\n",
              "topic                                               \n",
              "40     0.273228 -0.393936       1        1  3.120898\n",
              "7      0.121276  0.060614       2        1  2.526671\n",
              "36     0.114935  0.054518       3        1  2.422017\n",
              "51     0.184520  0.204718       4        1  2.264360\n",
              "12     0.086480  0.032894       5        1  2.118721\n",
              "...         ...       ...     ...      ...       ...\n",
              "2     -0.064822 -0.012017      60        1  1.162177\n",
              "26    -0.089962 -0.014965      61        1  1.104601\n",
              "21    -0.097759 -0.015726      62        1  1.090094\n",
              "57    -0.035732 -0.007576      63        1  1.069262\n",
              "0     -0.075777 -0.013380      64        1  1.026531\n",
              "\n",
              "[64 rows x 5 columns], topic_info=           Term          Freq         Total Category  logprob  loglift\n",
              "204       photo  27454.000000  27454.000000  Default  30.0000  30.0000\n",
              "305       video  14917.000000  14917.000000  Default  29.0000  29.0000\n",
              "294        make   8629.000000   8629.000000  Default  28.0000  28.0000\n",
              "496         day   7678.000000   7678.000000  Default  27.0000  27.0000\n",
              "1550    divorce   5602.000000   5602.000000  Default  26.0000  26.0000\n",
              "...         ...           ...           ...      ...      ...      ...\n",
              "768       cameo     70.262442     72.252034  Topic64  -5.0411   4.5511\n",
              "4499      loser     61.461771     63.451358  Topic64  -5.1749   4.5471\n",
              "4500        nyt     53.305953     55.295540  Topic64  -5.3172   4.5423\n",
              "1192  boy_scout     48.253104     50.242692  Topic64  -5.4168   4.5386\n",
              "444    interest     42.194139     44.183726  Topic64  -5.5510   4.5329\n",
              "\n",
              "[1952 rows x 6 columns], token_table=      Topic      Freq     Term\n",
              "term                          \n",
              "1144     28  0.988144    aaron\n",
              "1163     38  0.995406  abandon\n",
              "3195     56  0.983082      abc\n",
              "4347     13  0.983172  ability\n",
              "601      54  0.990211   abroad\n",
              "...     ...       ...      ...\n",
              "623      52  0.998602     york\n",
              "1063     15  0.998599    young\n",
              "1236     29  0.990522    youth\n",
              "1122     32  0.984424   zombie\n",
              "2767      4  0.973939      zoo\n",
              "\n",
              "[1919 rows x 3 columns], R=30, lambda_step=0.01, plot_opts={'xlab': 'PC1', 'ylab': 'PC2'}, topic_order=[41, 8, 37, 52, 13, 44, 16, 64, 62, 18, 15, 17, 7, 26, 6, 54, 56, 39, 2, 55, 61, 14, 50, 59, 57, 42, 60, 63, 34, 24, 4, 43, 5, 35, 38, 20, 49, 28, 23, 31, 10, 9, 11, 40, 19, 12, 30, 53, 51, 45, 33, 47, 29, 48, 25, 36, 46, 32, 21, 3, 27, 22, 58, 1])"
            ]
          },
          "execution_count": 7,
          "metadata": {},
          "output_type": "execute_result"
        }
      ],
      "source": [
        "# Visualize the topics\n",
        "pyLDAvis.enable_notebook()\n",
        "vis = pyLDAvis.gensim_models.prepare(lda_model, corpus, dictionary)\n",
        "vis"
      ]
    },
    {
      "cell_type": "markdown",
      "metadata": {},
      "source": [
        "### LSI\n"
      ]
    },
    {
      "cell_type": "code",
      "execution_count": 8,
      "metadata": {},
      "outputs": [
        {
          "name": "stderr",
          "output_type": "stream",
          "text": [
            "c:\\Users\\Daito\\miniconda3\\envs\\NLP\\Lib\\site-packages\\gensim\\models\\lsimodel.py:963: DeprecationWarning: Please use `csc_matvecs` from the `scipy.sparse` namespace, the `scipy.sparse.sparsetools` namespace is deprecated.\n",
            "  sparsetools.csc_matvecs(\n",
            "c:\\Users\\Daito\\miniconda3\\envs\\NLP\\Lib\\site-packages\\scipy\\linalg\\_special_matrices.py:154: DeprecationWarning: 'tri'/'tril/'triu' are deprecated as of SciPy 1.11.0 and will be removed in v1.13.0. Please use numpy.(tri/tril/triu) instead.\n",
            "  out = (1 - tri(m.shape[0], m.shape[1], k - 1, m.dtype.char)) * m\n",
            "c:\\Users\\Daito\\miniconda3\\envs\\NLP\\Lib\\site-packages\\scipy\\linalg\\_special_matrices.py:154: DeprecationWarning: 'tri'/'tril/'triu' are deprecated as of SciPy 1.11.0 and will be removed in v1.13.0. Please use numpy.(tri/tril/triu) instead.\n",
            "  out = (1 - tri(m.shape[0], m.shape[1], k - 1, m.dtype.char)) * m\n",
            "c:\\Users\\Daito\\miniconda3\\envs\\NLP\\Lib\\site-packages\\scipy\\linalg\\_special_matrices.py:154: DeprecationWarning: 'tri'/'tril/'triu' are deprecated as of SciPy 1.11.0 and will be removed in v1.13.0. Please use numpy.(tri/tril/triu) instead.\n",
            "  out = (1 - tri(m.shape[0], m.shape[1], k - 1, m.dtype.char)) * m\n",
            "c:\\Users\\Daito\\miniconda3\\envs\\NLP\\Lib\\site-packages\\gensim\\models\\lsimodel.py:963: DeprecationWarning: Please use `csc_matvecs` from the `scipy.sparse` namespace, the `scipy.sparse.sparsetools` namespace is deprecated.\n",
            "  sparsetools.csc_matvecs(\n",
            "c:\\Users\\Daito\\miniconda3\\envs\\NLP\\Lib\\site-packages\\scipy\\linalg\\_special_matrices.py:154: DeprecationWarning: 'tri'/'tril/'triu' are deprecated as of SciPy 1.11.0 and will be removed in v1.13.0. Please use numpy.(tri/tril/triu) instead.\n",
            "  out = (1 - tri(m.shape[0], m.shape[1], k - 1, m.dtype.char)) * m\n",
            "c:\\Users\\Daito\\miniconda3\\envs\\NLP\\Lib\\site-packages\\scipy\\linalg\\_special_matrices.py:154: DeprecationWarning: 'tri'/'tril/'triu' are deprecated as of SciPy 1.11.0 and will be removed in v1.13.0. Please use numpy.(tri/tril/triu) instead.\n",
            "  out = (1 - tri(m.shape[0], m.shape[1], k - 1, m.dtype.char)) * m\n",
            "c:\\Users\\Daito\\miniconda3\\envs\\NLP\\Lib\\site-packages\\scipy\\linalg\\_special_matrices.py:154: DeprecationWarning: 'tri'/'tril/'triu' are deprecated as of SciPy 1.11.0 and will be removed in v1.13.0. Please use numpy.(tri/tril/triu) instead.\n",
            "  out = (1 - tri(m.shape[0], m.shape[1], k - 1, m.dtype.char)) * m\n",
            "c:\\Users\\Daito\\miniconda3\\envs\\NLP\\Lib\\site-packages\\scipy\\linalg\\_special_matrices.py:154: DeprecationWarning: 'tri'/'tril/'triu' are deprecated as of SciPy 1.11.0 and will be removed in v1.13.0. Please use numpy.(tri/tril/triu) instead.\n",
            "  out = (1 - tri(m.shape[0], m.shape[1], k - 1, m.dtype.char)) * m\n",
            "c:\\Users\\Daito\\miniconda3\\envs\\NLP\\Lib\\site-packages\\gensim\\models\\lsimodel.py:963: DeprecationWarning: Please use `csc_matvecs` from the `scipy.sparse` namespace, the `scipy.sparse.sparsetools` namespace is deprecated.\n",
            "  sparsetools.csc_matvecs(\n",
            "c:\\Users\\Daito\\miniconda3\\envs\\NLP\\Lib\\site-packages\\scipy\\linalg\\_special_matrices.py:154: DeprecationWarning: 'tri'/'tril/'triu' are deprecated as of SciPy 1.11.0 and will be removed in v1.13.0. Please use numpy.(tri/tril/triu) instead.\n",
            "  out = (1 - tri(m.shape[0], m.shape[1], k - 1, m.dtype.char)) * m\n",
            "c:\\Users\\Daito\\miniconda3\\envs\\NLP\\Lib\\site-packages\\scipy\\linalg\\_special_matrices.py:154: DeprecationWarning: 'tri'/'tril/'triu' are deprecated as of SciPy 1.11.0 and will be removed in v1.13.0. Please use numpy.(tri/tril/triu) instead.\n",
            "  out = (1 - tri(m.shape[0], m.shape[1], k - 1, m.dtype.char)) * m\n",
            "c:\\Users\\Daito\\miniconda3\\envs\\NLP\\Lib\\site-packages\\scipy\\linalg\\_special_matrices.py:154: DeprecationWarning: 'tri'/'tril/'triu' are deprecated as of SciPy 1.11.0 and will be removed in v1.13.0. Please use numpy.(tri/tril/triu) instead.\n",
            "  out = (1 - tri(m.shape[0], m.shape[1], k - 1, m.dtype.char)) * m\n",
            "c:\\Users\\Daito\\miniconda3\\envs\\NLP\\Lib\\site-packages\\scipy\\linalg\\_special_matrices.py:154: DeprecationWarning: 'tri'/'tril/'triu' are deprecated as of SciPy 1.11.0 and will be removed in v1.13.0. Please use numpy.(tri/tril/triu) instead.\n",
            "  out = (1 - tri(m.shape[0], m.shape[1], k - 1, m.dtype.char)) * m\n",
            "c:\\Users\\Daito\\miniconda3\\envs\\NLP\\Lib\\site-packages\\gensim\\models\\lsimodel.py:963: DeprecationWarning: Please use `csc_matvecs` from the `scipy.sparse` namespace, the `scipy.sparse.sparsetools` namespace is deprecated.\n",
            "  sparsetools.csc_matvecs(\n",
            "c:\\Users\\Daito\\miniconda3\\envs\\NLP\\Lib\\site-packages\\scipy\\linalg\\_special_matrices.py:154: DeprecationWarning: 'tri'/'tril/'triu' are deprecated as of SciPy 1.11.0 and will be removed in v1.13.0. Please use numpy.(tri/tril/triu) instead.\n",
            "  out = (1 - tri(m.shape[0], m.shape[1], k - 1, m.dtype.char)) * m\n",
            "c:\\Users\\Daito\\miniconda3\\envs\\NLP\\Lib\\site-packages\\scipy\\linalg\\_special_matrices.py:154: DeprecationWarning: 'tri'/'tril/'triu' are deprecated as of SciPy 1.11.0 and will be removed in v1.13.0. Please use numpy.(tri/tril/triu) instead.\n",
            "  out = (1 - tri(m.shape[0], m.shape[1], k - 1, m.dtype.char)) * m\n",
            "c:\\Users\\Daito\\miniconda3\\envs\\NLP\\Lib\\site-packages\\scipy\\linalg\\_special_matrices.py:154: DeprecationWarning: 'tri'/'tril/'triu' are deprecated as of SciPy 1.11.0 and will be removed in v1.13.0. Please use numpy.(tri/tril/triu) instead.\n",
            "  out = (1 - tri(m.shape[0], m.shape[1], k - 1, m.dtype.char)) * m\n",
            "c:\\Users\\Daito\\miniconda3\\envs\\NLP\\Lib\\site-packages\\scipy\\linalg\\_special_matrices.py:154: DeprecationWarning: 'tri'/'tril/'triu' are deprecated as of SciPy 1.11.0 and will be removed in v1.13.0. Please use numpy.(tri/tril/triu) instead.\n",
            "  out = (1 - tri(m.shape[0], m.shape[1], k - 1, m.dtype.char)) * m\n",
            "c:\\Users\\Daito\\miniconda3\\envs\\NLP\\Lib\\site-packages\\gensim\\models\\lsimodel.py:963: DeprecationWarning: Please use `csc_matvecs` from the `scipy.sparse` namespace, the `scipy.sparse.sparsetools` namespace is deprecated.\n",
            "  sparsetools.csc_matvecs(\n",
            "c:\\Users\\Daito\\miniconda3\\envs\\NLP\\Lib\\site-packages\\scipy\\linalg\\_special_matrices.py:154: DeprecationWarning: 'tri'/'tril/'triu' are deprecated as of SciPy 1.11.0 and will be removed in v1.13.0. Please use numpy.(tri/tril/triu) instead.\n",
            "  out = (1 - tri(m.shape[0], m.shape[1], k - 1, m.dtype.char)) * m\n",
            "c:\\Users\\Daito\\miniconda3\\envs\\NLP\\Lib\\site-packages\\scipy\\linalg\\_special_matrices.py:154: DeprecationWarning: 'tri'/'tril/'triu' are deprecated as of SciPy 1.11.0 and will be removed in v1.13.0. Please use numpy.(tri/tril/triu) instead.\n",
            "  out = (1 - tri(m.shape[0], m.shape[1], k - 1, m.dtype.char)) * m\n",
            "c:\\Users\\Daito\\miniconda3\\envs\\NLP\\Lib\\site-packages\\scipy\\linalg\\_special_matrices.py:154: DeprecationWarning: 'tri'/'tril/'triu' are deprecated as of SciPy 1.11.0 and will be removed in v1.13.0. Please use numpy.(tri/tril/triu) instead.\n",
            "  out = (1 - tri(m.shape[0], m.shape[1], k - 1, m.dtype.char)) * m\n",
            "c:\\Users\\Daito\\miniconda3\\envs\\NLP\\Lib\\site-packages\\scipy\\linalg\\_special_matrices.py:154: DeprecationWarning: 'tri'/'tril/'triu' are deprecated as of SciPy 1.11.0 and will be removed in v1.13.0. Please use numpy.(tri/tril/triu) instead.\n",
            "  out = (1 - tri(m.shape[0], m.shape[1], k - 1, m.dtype.char)) * m\n",
            "c:\\Users\\Daito\\miniconda3\\envs\\NLP\\Lib\\site-packages\\gensim\\models\\lsimodel.py:963: DeprecationWarning: Please use `csc_matvecs` from the `scipy.sparse` namespace, the `scipy.sparse.sparsetools` namespace is deprecated.\n",
            "  sparsetools.csc_matvecs(\n",
            "c:\\Users\\Daito\\miniconda3\\envs\\NLP\\Lib\\site-packages\\scipy\\linalg\\_special_matrices.py:154: DeprecationWarning: 'tri'/'tril/'triu' are deprecated as of SciPy 1.11.0 and will be removed in v1.13.0. Please use numpy.(tri/tril/triu) instead.\n",
            "  out = (1 - tri(m.shape[0], m.shape[1], k - 1, m.dtype.char)) * m\n",
            "c:\\Users\\Daito\\miniconda3\\envs\\NLP\\Lib\\site-packages\\scipy\\linalg\\_special_matrices.py:154: DeprecationWarning: 'tri'/'tril/'triu' are deprecated as of SciPy 1.11.0 and will be removed in v1.13.0. Please use numpy.(tri/tril/triu) instead.\n",
            "  out = (1 - tri(m.shape[0], m.shape[1], k - 1, m.dtype.char)) * m\n",
            "c:\\Users\\Daito\\miniconda3\\envs\\NLP\\Lib\\site-packages\\scipy\\linalg\\_special_matrices.py:154: DeprecationWarning: 'tri'/'tril/'triu' are deprecated as of SciPy 1.11.0 and will be removed in v1.13.0. Please use numpy.(tri/tril/triu) instead.\n",
            "  out = (1 - tri(m.shape[0], m.shape[1], k - 1, m.dtype.char)) * m\n",
            "c:\\Users\\Daito\\miniconda3\\envs\\NLP\\Lib\\site-packages\\scipy\\linalg\\_special_matrices.py:154: DeprecationWarning: 'tri'/'tril/'triu' are deprecated as of SciPy 1.11.0 and will be removed in v1.13.0. Please use numpy.(tri/tril/triu) instead.\n",
            "  out = (1 - tri(m.shape[0], m.shape[1], k - 1, m.dtype.char)) * m\n",
            "c:\\Users\\Daito\\miniconda3\\envs\\NLP\\Lib\\site-packages\\gensim\\models\\lsimodel.py:963: DeprecationWarning: Please use `csc_matvecs` from the `scipy.sparse` namespace, the `scipy.sparse.sparsetools` namespace is deprecated.\n",
            "  sparsetools.csc_matvecs(\n",
            "c:\\Users\\Daito\\miniconda3\\envs\\NLP\\Lib\\site-packages\\scipy\\linalg\\_special_matrices.py:154: DeprecationWarning: 'tri'/'tril/'triu' are deprecated as of SciPy 1.11.0 and will be removed in v1.13.0. Please use numpy.(tri/tril/triu) instead.\n",
            "  out = (1 - tri(m.shape[0], m.shape[1], k - 1, m.dtype.char)) * m\n",
            "c:\\Users\\Daito\\miniconda3\\envs\\NLP\\Lib\\site-packages\\scipy\\linalg\\_special_matrices.py:154: DeprecationWarning: 'tri'/'tril/'triu' are deprecated as of SciPy 1.11.0 and will be removed in v1.13.0. Please use numpy.(tri/tril/triu) instead.\n",
            "  out = (1 - tri(m.shape[0], m.shape[1], k - 1, m.dtype.char)) * m\n",
            "c:\\Users\\Daito\\miniconda3\\envs\\NLP\\Lib\\site-packages\\scipy\\linalg\\_special_matrices.py:154: DeprecationWarning: 'tri'/'tril/'triu' are deprecated as of SciPy 1.11.0 and will be removed in v1.13.0. Please use numpy.(tri/tril/triu) instead.\n",
            "  out = (1 - tri(m.shape[0], m.shape[1], k - 1, m.dtype.char)) * m\n",
            "c:\\Users\\Daito\\miniconda3\\envs\\NLP\\Lib\\site-packages\\scipy\\linalg\\_special_matrices.py:154: DeprecationWarning: 'tri'/'tril/'triu' are deprecated as of SciPy 1.11.0 and will be removed in v1.13.0. Please use numpy.(tri/tril/triu) instead.\n",
            "  out = (1 - tri(m.shape[0], m.shape[1], k - 1, m.dtype.char)) * m\n",
            "c:\\Users\\Daito\\miniconda3\\envs\\NLP\\Lib\\site-packages\\gensim\\models\\lsimodel.py:963: DeprecationWarning: Please use `csc_matvecs` from the `scipy.sparse` namespace, the `scipy.sparse.sparsetools` namespace is deprecated.\n",
            "  sparsetools.csc_matvecs(\n",
            "c:\\Users\\Daito\\miniconda3\\envs\\NLP\\Lib\\site-packages\\scipy\\linalg\\_special_matrices.py:154: DeprecationWarning: 'tri'/'tril/'triu' are deprecated as of SciPy 1.11.0 and will be removed in v1.13.0. Please use numpy.(tri/tril/triu) instead.\n",
            "  out = (1 - tri(m.shape[0], m.shape[1], k - 1, m.dtype.char)) * m\n",
            "c:\\Users\\Daito\\miniconda3\\envs\\NLP\\Lib\\site-packages\\scipy\\linalg\\_special_matrices.py:154: DeprecationWarning: 'tri'/'tril/'triu' are deprecated as of SciPy 1.11.0 and will be removed in v1.13.0. Please use numpy.(tri/tril/triu) instead.\n",
            "  out = (1 - tri(m.shape[0], m.shape[1], k - 1, m.dtype.char)) * m\n",
            "c:\\Users\\Daito\\miniconda3\\envs\\NLP\\Lib\\site-packages\\scipy\\linalg\\_special_matrices.py:154: DeprecationWarning: 'tri'/'tril/'triu' are deprecated as of SciPy 1.11.0 and will be removed in v1.13.0. Please use numpy.(tri/tril/triu) instead.\n",
            "  out = (1 - tri(m.shape[0], m.shape[1], k - 1, m.dtype.char)) * m\n",
            "c:\\Users\\Daito\\miniconda3\\envs\\NLP\\Lib\\site-packages\\scipy\\linalg\\_special_matrices.py:154: DeprecationWarning: 'tri'/'tril/'triu' are deprecated as of SciPy 1.11.0 and will be removed in v1.13.0. Please use numpy.(tri/tril/triu) instead.\n",
            "  out = (1 - tri(m.shape[0], m.shape[1], k - 1, m.dtype.char)) * m\n",
            "c:\\Users\\Daito\\miniconda3\\envs\\NLP\\Lib\\site-packages\\gensim\\models\\lsimodel.py:963: DeprecationWarning: Please use `csc_matvecs` from the `scipy.sparse` namespace, the `scipy.sparse.sparsetools` namespace is deprecated.\n",
            "  sparsetools.csc_matvecs(\n",
            "c:\\Users\\Daito\\miniconda3\\envs\\NLP\\Lib\\site-packages\\scipy\\linalg\\_special_matrices.py:154: DeprecationWarning: 'tri'/'tril/'triu' are deprecated as of SciPy 1.11.0 and will be removed in v1.13.0. Please use numpy.(tri/tril/triu) instead.\n",
            "  out = (1 - tri(m.shape[0], m.shape[1], k - 1, m.dtype.char)) * m\n",
            "c:\\Users\\Daito\\miniconda3\\envs\\NLP\\Lib\\site-packages\\scipy\\linalg\\_special_matrices.py:154: DeprecationWarning: 'tri'/'tril/'triu' are deprecated as of SciPy 1.11.0 and will be removed in v1.13.0. Please use numpy.(tri/tril/triu) instead.\n",
            "  out = (1 - tri(m.shape[0], m.shape[1], k - 1, m.dtype.char)) * m\n",
            "c:\\Users\\Daito\\miniconda3\\envs\\NLP\\Lib\\site-packages\\scipy\\linalg\\_special_matrices.py:154: DeprecationWarning: 'tri'/'tril/'triu' are deprecated as of SciPy 1.11.0 and will be removed in v1.13.0. Please use numpy.(tri/tril/triu) instead.\n",
            "  out = (1 - tri(m.shape[0], m.shape[1], k - 1, m.dtype.char)) * m\n",
            "c:\\Users\\Daito\\miniconda3\\envs\\NLP\\Lib\\site-packages\\scipy\\linalg\\_special_matrices.py:154: DeprecationWarning: 'tri'/'tril/'triu' are deprecated as of SciPy 1.11.0 and will be removed in v1.13.0. Please use numpy.(tri/tril/triu) instead.\n",
            "  out = (1 - tri(m.shape[0], m.shape[1], k - 1, m.dtype.char)) * m\n",
            "c:\\Users\\Daito\\miniconda3\\envs\\NLP\\Lib\\site-packages\\gensim\\models\\lsimodel.py:963: DeprecationWarning: Please use `csc_matvecs` from the `scipy.sparse` namespace, the `scipy.sparse.sparsetools` namespace is deprecated.\n",
            "  sparsetools.csc_matvecs(\n",
            "c:\\Users\\Daito\\miniconda3\\envs\\NLP\\Lib\\site-packages\\scipy\\linalg\\_special_matrices.py:154: DeprecationWarning: 'tri'/'tril/'triu' are deprecated as of SciPy 1.11.0 and will be removed in v1.13.0. Please use numpy.(tri/tril/triu) instead.\n",
            "  out = (1 - tri(m.shape[0], m.shape[1], k - 1, m.dtype.char)) * m\n",
            "c:\\Users\\Daito\\miniconda3\\envs\\NLP\\Lib\\site-packages\\scipy\\linalg\\_special_matrices.py:154: DeprecationWarning: 'tri'/'tril/'triu' are deprecated as of SciPy 1.11.0 and will be removed in v1.13.0. Please use numpy.(tri/tril/triu) instead.\n",
            "  out = (1 - tri(m.shape[0], m.shape[1], k - 1, m.dtype.char)) * m\n",
            "c:\\Users\\Daito\\miniconda3\\envs\\NLP\\Lib\\site-packages\\scipy\\linalg\\_special_matrices.py:154: DeprecationWarning: 'tri'/'tril/'triu' are deprecated as of SciPy 1.11.0 and will be removed in v1.13.0. Please use numpy.(tri/tril/triu) instead.\n",
            "  out = (1 - tri(m.shape[0], m.shape[1], k - 1, m.dtype.char)) * m\n",
            "c:\\Users\\Daito\\miniconda3\\envs\\NLP\\Lib\\site-packages\\scipy\\linalg\\_special_matrices.py:154: DeprecationWarning: 'tri'/'tril/'triu' are deprecated as of SciPy 1.11.0 and will be removed in v1.13.0. Please use numpy.(tri/tril/triu) instead.\n",
            "  out = (1 - tri(m.shape[0], m.shape[1], k - 1, m.dtype.char)) * m\n",
            "c:\\Users\\Daito\\miniconda3\\envs\\NLP\\Lib\\site-packages\\gensim\\models\\lsimodel.py:963: DeprecationWarning: Please use `csc_matvecs` from the `scipy.sparse` namespace, the `scipy.sparse.sparsetools` namespace is deprecated.\n",
            "  sparsetools.csc_matvecs(\n",
            "c:\\Users\\Daito\\miniconda3\\envs\\NLP\\Lib\\site-packages\\scipy\\linalg\\_special_matrices.py:154: DeprecationWarning: 'tri'/'tril/'triu' are deprecated as of SciPy 1.11.0 and will be removed in v1.13.0. Please use numpy.(tri/tril/triu) instead.\n",
            "  out = (1 - tri(m.shape[0], m.shape[1], k - 1, m.dtype.char)) * m\n",
            "c:\\Users\\Daito\\miniconda3\\envs\\NLP\\Lib\\site-packages\\scipy\\linalg\\_special_matrices.py:154: DeprecationWarning: 'tri'/'tril/'triu' are deprecated as of SciPy 1.11.0 and will be removed in v1.13.0. Please use numpy.(tri/tril/triu) instead.\n",
            "  out = (1 - tri(m.shape[0], m.shape[1], k - 1, m.dtype.char)) * m\n",
            "c:\\Users\\Daito\\miniconda3\\envs\\NLP\\Lib\\site-packages\\scipy\\linalg\\_special_matrices.py:154: DeprecationWarning: 'tri'/'tril/'triu' are deprecated as of SciPy 1.11.0 and will be removed in v1.13.0. Please use numpy.(tri/tril/triu) instead.\n",
            "  out = (1 - tri(m.shape[0], m.shape[1], k - 1, m.dtype.char)) * m\n",
            "c:\\Users\\Daito\\miniconda3\\envs\\NLP\\Lib\\site-packages\\scipy\\linalg\\_special_matrices.py:154: DeprecationWarning: 'tri'/'tril/'triu' are deprecated as of SciPy 1.11.0 and will be removed in v1.13.0. Please use numpy.(tri/tril/triu) instead.\n",
            "  out = (1 - tri(m.shape[0], m.shape[1], k - 1, m.dtype.char)) * m\n"
          ]
        },
        {
          "name": "stdout",
          "output_type": "stream",
          "text": [
            "Number of topics:  60  Coherence Score:  -0.0426014760788819 0.23731591431451662\n"
          ]
        }
      ],
      "source": [
        "lsi_model = LsiModel(corpus, num_topics=optimal_n, id2word=dictionary)\n",
        "coherence_model_cv= CoherenceModel(model=lsi_model, texts=l_texts, dictionary=dictionary, coherence='c_v')\n",
        "coherence_score_cv = coherence_model_cv.get_coherence()\n",
        "coherence_model_npmi= CoherenceModel(model=lsi_model, texts=l_texts, dictionary=dictionary, coherence='c_npmi')\n",
        "coherence_score_npmi = coherence_model_npmi.get_coherence()\n",
        "print(\"Number of topics: \", optimal_n, \" Coherence Score: \", coherence_score_npmi,coherence_score_cv)"
      ]
    },
    {
      "cell_type": "code",
      "execution_count": null,
      "metadata": {},
      "outputs": [],
      "source": [
        "# Visualize the topics\n",
        "#Not possible with LSI"
      ]
    },
    {
      "cell_type": "markdown",
      "metadata": {
        "id": "7eMxYmxOktWw"
      },
      "source": [
        "## BERTOPIC"
      ]
    },
    {
      "cell_type": "code",
      "execution_count": null,
      "metadata": {},
      "outputs": [],
      "source": [
        "representation=bertopic.representation.KeyBERTInspired()\n",
        "model_trained_representation= bertopic.BERTopic(representation_model=representation,nr_topics=optimal_n)\n",
        "topics,probs = model_trained_representation.fit_transform(dataset['headline'])"
      ]
    },
    {
      "cell_type": "code",
      "execution_count": null,
      "metadata": {},
      "outputs": [],
      "source": [
        "dictionary = corpora.Dictionary(l_texts)\n",
        "coherence_model= CoherenceModel(model=model_trained_representation, texts=l_texts, dictionary=dictionary, coherence='c_v')\n",
        "coherence_score_cv = coherence_model.get_coherence()\n",
        "coherence_model= CoherenceModel(model=model_trained_representation, texts=l_texts, dictionary=dictionary, coherence='c_npmi')\n",
        "coherence_score_c_npmi = coherence_model.get_coherence()\n",
        "print(\"Coherence Score: \", coherence_score_cv,coherence_score_c_npmi)"
      ]
    },
    {
      "cell_type": "code",
      "execution_count": 9,
      "metadata": {},
      "outputs": [
        {
          "data": {
            "application/vnd.plotly.v1+json": {
              "config": {
                "plotlyServerURL": "https://plot.ly"
              },
              "data": [
                {
                  "customdata": [
                    [
                      0,
                      "fashion | dress | style | makeup | miley",
                      18986
                    ],
                    [
                      1,
                      "trump | colbert | donald | trumps | bernie",
                      15829
                    ],
                    [
                      2,
                      "foods | healthy | food | diet | nutrition",
                      7611
                    ],
                    [
                      3,
                      "meditation | meditations | meditate | mindfulness | tips",
                      6092
                    ],
                    [
                      4,
                      "police | cops | officers | officer | cop",
                      4945
                    ],
                    [
                      5,
                      "isis | syria | syrias | yemen | syrian",
                      4707
                    ],
                    [
                      6,
                      "parenting | mothers | tweets | twitter | parental",
                      4659
                    ],
                    [
                      7,
                      "trumpcare | obamacare | health | medicaid | medical",
                      4527
                    ],
                    [
                      8,
                      "destinations | vacation | travelers | travel | trip",
                      3858
                    ],
                    [
                      9,
                      "wage | deals | shopping | pay | walmart",
                      3849
                    ],
                    [
                      10,
                      "cosby | cosbys | allegations | rape | assault",
                      3699
                    ],
                    [
                      11,
                      "dog | dogs | pets | animal | pet",
                      3670
                    ],
                    [
                      12,
                      "divorce | divorcing | divorced | alimony | marriage",
                      3234
                    ],
                    [
                      13,
                      "nfl | sports | football | olympics | bowl",
                      2796
                    ],
                    [
                      14,
                      "autism | autistic | disabilities | disability | adhd",
                      2663
                    ],
                    [
                      15,
                      "tweets | women | funniest | comedy | laughter",
                      2055
                    ],
                    [
                      16,
                      "vintage | ebay | homes | auction | photos",
                      1930
                    ],
                    [
                      17,
                      "climate | warming | sustainability | sustainable | drought",
                      1871
                    ],
                    [
                      18,
                      "yoga | posture | exercises | pilates | massage",
                      1719
                    ],
                    [
                      19,
                      "airlines | airline | passengers | airplane | flights",
                      1442
                    ],
                    [
                      20,
                      "diet | obese | obesity | lose | fat",
                      1351
                    ],
                    [
                      21,
                      "cuba | cubas | havana | cuban | castro",
                      1347
                    ],
                    [
                      22,
                      "pope | popes | vatican | francis | catholics",
                      1136
                    ],
                    [
                      23,
                      "hurricane | katrina | hurricanes | storms | harvey",
                      1060
                    ],
                    [
                      24,
                      "sleep | sleeping | nap | naps | sleepless",
                      1027
                    ],
                    [
                      25,
                      "iphone | iphones | apple | ipad | smartphone",
                      1023
                    ],
                    [
                      26,
                      "cleaning | spring | clean | wash | cleaners",
                      943
                    ],
                    [
                      27,
                      "boko | rohingya | nigeria | nigerias | nigerian",
                      910
                    ],
                    [
                      28,
                      "letter | letters | open | words | parents",
                      896
                    ],
                    [
                      29,
                      "teachers | teacher | tuition | students | student",
                      879
                    ],
                    [
                      30,
                      "cancer | cancers | tumor | diagnosed | breast",
                      837
                    ],
                    [
                      31,
                      "allergies | allergy | asthma | smog | sneeze",
                      780
                    ],
                    [
                      32,
                      "korea | missile | missiles | koreas | korean",
                      766
                    ],
                    [
                      33,
                      "weather | storms | photos | week | climate",
                      547
                    ],
                    [
                      34,
                      "scientists | science | physicist | scientific | physicists",
                      545
                    ],
                    [
                      35,
                      "uber | ubers | taxi | taxis | driverless",
                      522
                    ],
                    [
                      36,
                      "glass | mirrors | mirror | ceiling | ceilings",
                      512
                    ],
                    [
                      37,
                      "oscars | oscar | nominations | awards | nominees",
                      462
                    ],
                    [
                      38,
                      "greece | greeces | greek | greeks | referendum",
                      407
                    ],
                    [
                      39,
                      "1915 | 1914 | 1916 | wwii | archduke",
                      308
                    ],
                    [
                      40,
                      "gawker | gawkers | gawkercom | gabbana | accuser",
                      298
                    ],
                    [
                      41,
                      "fark | news | fart | farts | farting",
                      263
                    ],
                    [
                      42,
                      "noah | trevor | noahs | nbc | ken",
                      240
                    ],
                    [
                      43,
                      "nc | carolina | carolinas | voter | north",
                      189
                    ],
                    [
                      44,
                      "names | naming | babies | nicknames | surnames",
                      164
                    ],
                    [
                      45,
                      "ryan | lochte | zinke | lochtes | zinkes",
                      95
                    ],
                    [
                      46,
                      "pokemon | poke | pokemonument | pokedates | pikachu",
                      73
                    ],
                    [
                      47,
                      "aziz | ansari | ansaris | hamlet | shakespearean",
                      48
                    ],
                    [
                      48,
                      "normal | abnormal | new | usual | unusual",
                      33
                    ],
                    [
                      49,
                      "linkedin | linkedins | facebook | connectivity | connected",
                      31
                    ],
                    [
                      50,
                      "burkini | burkinis | burkiniwearing | banning | ban",
                      29
                    ],
                    [
                      51,
                      "epipen | epipens | mylan | epinephrine | pricing",
                      22
                    ],
                    [
                      52,
                      "fyrefest | fyre | festival | suing | lawsuit",
                      13
                    ],
                    [
                      53,
                      "record | guinness | records | longest | world",
                      13
                    ]
                  ],
                  "hovertemplate": "<b>Topic %{customdata[0]}</b><br>%{customdata[1]}<br>Size: %{customdata[2]}",
                  "legendgroup": "",
                  "marker": {
                    "color": "#B0BEC5",
                    "line": {
                      "color": "DarkSlateGrey",
                      "width": 2
                    },
                    "size": [
                      18986,
                      15829,
                      7611,
                      6092,
                      4945,
                      4707,
                      4659,
                      4527,
                      3858,
                      3849,
                      3699,
                      3670,
                      3234,
                      2796,
                      2663,
                      2055,
                      1930,
                      1871,
                      1719,
                      1442,
                      1351,
                      1347,
                      1136,
                      1060,
                      1027,
                      1023,
                      943,
                      910,
                      896,
                      879,
                      837,
                      780,
                      766,
                      547,
                      545,
                      522,
                      512,
                      462,
                      407,
                      308,
                      298,
                      263,
                      240,
                      189,
                      164,
                      95,
                      73,
                      48,
                      33,
                      31,
                      29,
                      22,
                      13,
                      13
                    ],
                    "sizemode": "area",
                    "sizeref": 11.86625,
                    "symbol": "circle"
                  },
                  "mode": "markers",
                  "name": "",
                  "orientation": "v",
                  "showlegend": false,
                  "type": "scatter",
                  "x": [
                    3.600613832473755,
                    11.7555513381958,
                    -0.2110573649406433,
                    6.303493976593018,
                    9.883015632629395,
                    19.18735122680664,
                    -11.356487274169922,
                    13.091139793395996,
                    -1.0265734195709229,
                    11.550649642944336,
                    9.838887214660645,
                    -1.2001608610153198,
                    -11.272781372070312,
                    3.089700698852539,
                    6.426088333129883,
                    -0.7129623293876648,
                    -0.6710861921310425,
                    17.7431697845459,
                    -0.05572034791111946,
                    7.564821720123291,
                    0.06922038644552231,
                    11.221017837524414,
                    6.246845722198486,
                    17.544841766357422,
                    6.649606704711914,
                    11.423587799072266,
                    12.865724563598633,
                    19.26858139038086,
                    -11.575170516967773,
                    11.656353950500488,
                    13.203897476196289,
                    12.854086875915527,
                    18.959123611450195,
                    17.84255599975586,
                    3.742218017578125,
                    7.565065860748291,
                    3.7129316329956055,
                    3.7086198329925537,
                    11.30313491821289,
                    19.410816192626953,
                    11.962088584899902,
                    6.04020357131958,
                    11.936767578125,
                    9.728754997253418,
                    -11.434391975402832,
                    11.608976364135742,
                    2.984769582748413,
                    3.540114402770996,
                    6.494313716888428,
                    5.831336975097656,
                    19.05784797668457,
                    11.440274238586426,
                    11.994670867919922,
                    2.9381425380706787
                  ],
                  "xaxis": "x",
                  "y": [
                    -5.215156078338623,
                    -2.666720390319824,
                    11.262994766235352,
                    7.888277053833008,
                    -2.8214666843414307,
                    5.795438289642334,
                    -1.073093056678772,
                    9.213313102722168,
                    11.820802688598633,
                    -2.168260335922241,
                    -2.704766273498535,
                    11.9376802444458,
                    -1.1567537784576416,
                    -5.359989643096924,
                    8.157318115234375,
                    11.712078094482422,
                    11.690616607666016,
                    13.169877052307129,
                    11.115989685058594,
                    2.4449830055236816,
                    10.993159294128418,
                    -2.7480123043060303,
                    7.785367488861084,
                    12.971269607543945,
                    8.261822700500488,
                    -2.7741053104400635,
                    9.431394577026367,
                    5.713647365570068,
                    -0.8542152643203735,
                    -1.9968146085739136,
                    9.102720260620117,
                    9.443798065185547,
                    6.023416042327881,
                    13.269124984741211,
                    -5.719786167144775,
                    2.4434170722961426,
                    -5.648848056793213,
                    -5.0686259269714355,
                    -3.2374913692474365,
                    5.571219444274902,
                    -3.2271318435668945,
                    8.109984397888184,
                    -2.6064488887786865,
                    -2.8902876377105713,
                    -0.9951425790786743,
                    -2.829646110534668,
                    -5.225499153137207,
                    -5.106936931610107,
                    7.6501312255859375,
                    7.597954750061035,
                    5.924968242645264,
                    -2.025088310241699,
                    -3.337552785873413,
                    -5.206144332885742
                  ],
                  "yaxis": "y"
                }
              ],
              "layout": {
                "annotations": [
                  {
                    "showarrow": false,
                    "text": "D1",
                    "x": -13.31144609451294,
                    "y": 4.34086982011795,
                    "yshift": 10
                  },
                  {
                    "showarrow": false,
                    "text": "D2",
                    "x": 4.505496263504027,
                    "xshift": 10,
                    "y": 15.259493732452393
                  }
                ],
                "height": 650,
                "hoverlabel": {
                  "bgcolor": "white",
                  "font": {
                    "family": "Rockwell",
                    "size": 16
                  }
                },
                "legend": {
                  "itemsizing": "constant",
                  "tracegroupgap": 0
                },
                "margin": {
                  "t": 60
                },
                "shapes": [
                  {
                    "line": {
                      "color": "#CFD8DC",
                      "width": 2
                    },
                    "type": "line",
                    "x0": 4.505496263504027,
                    "x1": 4.505496263504027,
                    "y0": -6.577754092216492,
                    "y1": 15.259493732452393
                  },
                  {
                    "line": {
                      "color": "#9E9E9E",
                      "width": 2
                    },
                    "type": "line",
                    "x0": -13.31144609451294,
                    "x1": 22.322438621520995,
                    "y0": 4.34086982011795,
                    "y1": 4.34086982011795
                  }
                ],
                "sliders": [
                  {
                    "active": 0,
                    "pad": {
                      "t": 50
                    },
                    "steps": [
                      {
                        "args": [
                          {
                            "marker.color": [
                              [
                                "red",
                                "#B0BEC5",
                                "#B0BEC5",
                                "#B0BEC5",
                                "#B0BEC5",
                                "#B0BEC5",
                                "#B0BEC5",
                                "#B0BEC5",
                                "#B0BEC5",
                                "#B0BEC5",
                                "#B0BEC5",
                                "#B0BEC5",
                                "#B0BEC5",
                                "#B0BEC5",
                                "#B0BEC5",
                                "#B0BEC5",
                                "#B0BEC5",
                                "#B0BEC5",
                                "#B0BEC5",
                                "#B0BEC5",
                                "#B0BEC5",
                                "#B0BEC5",
                                "#B0BEC5",
                                "#B0BEC5",
                                "#B0BEC5",
                                "#B0BEC5",
                                "#B0BEC5",
                                "#B0BEC5",
                                "#B0BEC5",
                                "#B0BEC5",
                                "#B0BEC5",
                                "#B0BEC5",
                                "#B0BEC5",
                                "#B0BEC5",
                                "#B0BEC5",
                                "#B0BEC5",
                                "#B0BEC5",
                                "#B0BEC5",
                                "#B0BEC5",
                                "#B0BEC5",
                                "#B0BEC5",
                                "#B0BEC5",
                                "#B0BEC5",
                                "#B0BEC5",
                                "#B0BEC5",
                                "#B0BEC5",
                                "#B0BEC5",
                                "#B0BEC5",
                                "#B0BEC5",
                                "#B0BEC5",
                                "#B0BEC5",
                                "#B0BEC5",
                                "#B0BEC5",
                                "#B0BEC5"
                              ]
                            ]
                          }
                        ],
                        "label": "Topic 0",
                        "method": "update"
                      },
                      {
                        "args": [
                          {
                            "marker.color": [
                              [
                                "#B0BEC5",
                                "red",
                                "#B0BEC5",
                                "#B0BEC5",
                                "#B0BEC5",
                                "#B0BEC5",
                                "#B0BEC5",
                                "#B0BEC5",
                                "#B0BEC5",
                                "#B0BEC5",
                                "#B0BEC5",
                                "#B0BEC5",
                                "#B0BEC5",
                                "#B0BEC5",
                                "#B0BEC5",
                                "#B0BEC5",
                                "#B0BEC5",
                                "#B0BEC5",
                                "#B0BEC5",
                                "#B0BEC5",
                                "#B0BEC5",
                                "#B0BEC5",
                                "#B0BEC5",
                                "#B0BEC5",
                                "#B0BEC5",
                                "#B0BEC5",
                                "#B0BEC5",
                                "#B0BEC5",
                                "#B0BEC5",
                                "#B0BEC5",
                                "#B0BEC5",
                                "#B0BEC5",
                                "#B0BEC5",
                                "#B0BEC5",
                                "#B0BEC5",
                                "#B0BEC5",
                                "#B0BEC5",
                                "#B0BEC5",
                                "#B0BEC5",
                                "#B0BEC5",
                                "#B0BEC5",
                                "#B0BEC5",
                                "#B0BEC5",
                                "#B0BEC5",
                                "#B0BEC5",
                                "#B0BEC5",
                                "#B0BEC5",
                                "#B0BEC5",
                                "#B0BEC5",
                                "#B0BEC5",
                                "#B0BEC5",
                                "#B0BEC5",
                                "#B0BEC5",
                                "#B0BEC5"
                              ]
                            ]
                          }
                        ],
                        "label": "Topic 1",
                        "method": "update"
                      },
                      {
                        "args": [
                          {
                            "marker.color": [
                              [
                                "#B0BEC5",
                                "#B0BEC5",
                                "red",
                                "#B0BEC5",
                                "#B0BEC5",
                                "#B0BEC5",
                                "#B0BEC5",
                                "#B0BEC5",
                                "#B0BEC5",
                                "#B0BEC5",
                                "#B0BEC5",
                                "#B0BEC5",
                                "#B0BEC5",
                                "#B0BEC5",
                                "#B0BEC5",
                                "#B0BEC5",
                                "#B0BEC5",
                                "#B0BEC5",
                                "#B0BEC5",
                                "#B0BEC5",
                                "#B0BEC5",
                                "#B0BEC5",
                                "#B0BEC5",
                                "#B0BEC5",
                                "#B0BEC5",
                                "#B0BEC5",
                                "#B0BEC5",
                                "#B0BEC5",
                                "#B0BEC5",
                                "#B0BEC5",
                                "#B0BEC5",
                                "#B0BEC5",
                                "#B0BEC5",
                                "#B0BEC5",
                                "#B0BEC5",
                                "#B0BEC5",
                                "#B0BEC5",
                                "#B0BEC5",
                                "#B0BEC5",
                                "#B0BEC5",
                                "#B0BEC5",
                                "#B0BEC5",
                                "#B0BEC5",
                                "#B0BEC5",
                                "#B0BEC5",
                                "#B0BEC5",
                                "#B0BEC5",
                                "#B0BEC5",
                                "#B0BEC5",
                                "#B0BEC5",
                                "#B0BEC5",
                                "#B0BEC5",
                                "#B0BEC5",
                                "#B0BEC5"
                              ]
                            ]
                          }
                        ],
                        "label": "Topic 2",
                        "method": "update"
                      },
                      {
                        "args": [
                          {
                            "marker.color": [
                              [
                                "#B0BEC5",
                                "#B0BEC5",
                                "#B0BEC5",
                                "red",
                                "#B0BEC5",
                                "#B0BEC5",
                                "#B0BEC5",
                                "#B0BEC5",
                                "#B0BEC5",
                                "#B0BEC5",
                                "#B0BEC5",
                                "#B0BEC5",
                                "#B0BEC5",
                                "#B0BEC5",
                                "#B0BEC5",
                                "#B0BEC5",
                                "#B0BEC5",
                                "#B0BEC5",
                                "#B0BEC5",
                                "#B0BEC5",
                                "#B0BEC5",
                                "#B0BEC5",
                                "#B0BEC5",
                                "#B0BEC5",
                                "#B0BEC5",
                                "#B0BEC5",
                                "#B0BEC5",
                                "#B0BEC5",
                                "#B0BEC5",
                                "#B0BEC5",
                                "#B0BEC5",
                                "#B0BEC5",
                                "#B0BEC5",
                                "#B0BEC5",
                                "#B0BEC5",
                                "#B0BEC5",
                                "#B0BEC5",
                                "#B0BEC5",
                                "#B0BEC5",
                                "#B0BEC5",
                                "#B0BEC5",
                                "#B0BEC5",
                                "#B0BEC5",
                                "#B0BEC5",
                                "#B0BEC5",
                                "#B0BEC5",
                                "#B0BEC5",
                                "#B0BEC5",
                                "#B0BEC5",
                                "#B0BEC5",
                                "#B0BEC5",
                                "#B0BEC5",
                                "#B0BEC5",
                                "#B0BEC5"
                              ]
                            ]
                          }
                        ],
                        "label": "Topic 3",
                        "method": "update"
                      },
                      {
                        "args": [
                          {
                            "marker.color": [
                              [
                                "#B0BEC5",
                                "#B0BEC5",
                                "#B0BEC5",
                                "#B0BEC5",
                                "red",
                                "#B0BEC5",
                                "#B0BEC5",
                                "#B0BEC5",
                                "#B0BEC5",
                                "#B0BEC5",
                                "#B0BEC5",
                                "#B0BEC5",
                                "#B0BEC5",
                                "#B0BEC5",
                                "#B0BEC5",
                                "#B0BEC5",
                                "#B0BEC5",
                                "#B0BEC5",
                                "#B0BEC5",
                                "#B0BEC5",
                                "#B0BEC5",
                                "#B0BEC5",
                                "#B0BEC5",
                                "#B0BEC5",
                                "#B0BEC5",
                                "#B0BEC5",
                                "#B0BEC5",
                                "#B0BEC5",
                                "#B0BEC5",
                                "#B0BEC5",
                                "#B0BEC5",
                                "#B0BEC5",
                                "#B0BEC5",
                                "#B0BEC5",
                                "#B0BEC5",
                                "#B0BEC5",
                                "#B0BEC5",
                                "#B0BEC5",
                                "#B0BEC5",
                                "#B0BEC5",
                                "#B0BEC5",
                                "#B0BEC5",
                                "#B0BEC5",
                                "#B0BEC5",
                                "#B0BEC5",
                                "#B0BEC5",
                                "#B0BEC5",
                                "#B0BEC5",
                                "#B0BEC5",
                                "#B0BEC5",
                                "#B0BEC5",
                                "#B0BEC5",
                                "#B0BEC5",
                                "#B0BEC5"
                              ]
                            ]
                          }
                        ],
                        "label": "Topic 4",
                        "method": "update"
                      },
                      {
                        "args": [
                          {
                            "marker.color": [
                              [
                                "#B0BEC5",
                                "#B0BEC5",
                                "#B0BEC5",
                                "#B0BEC5",
                                "#B0BEC5",
                                "red",
                                "#B0BEC5",
                                "#B0BEC5",
                                "#B0BEC5",
                                "#B0BEC5",
                                "#B0BEC5",
                                "#B0BEC5",
                                "#B0BEC5",
                                "#B0BEC5",
                                "#B0BEC5",
                                "#B0BEC5",
                                "#B0BEC5",
                                "#B0BEC5",
                                "#B0BEC5",
                                "#B0BEC5",
                                "#B0BEC5",
                                "#B0BEC5",
                                "#B0BEC5",
                                "#B0BEC5",
                                "#B0BEC5",
                                "#B0BEC5",
                                "#B0BEC5",
                                "#B0BEC5",
                                "#B0BEC5",
                                "#B0BEC5",
                                "#B0BEC5",
                                "#B0BEC5",
                                "#B0BEC5",
                                "#B0BEC5",
                                "#B0BEC5",
                                "#B0BEC5",
                                "#B0BEC5",
                                "#B0BEC5",
                                "#B0BEC5",
                                "#B0BEC5",
                                "#B0BEC5",
                                "#B0BEC5",
                                "#B0BEC5",
                                "#B0BEC5",
                                "#B0BEC5",
                                "#B0BEC5",
                                "#B0BEC5",
                                "#B0BEC5",
                                "#B0BEC5",
                                "#B0BEC5",
                                "#B0BEC5",
                                "#B0BEC5",
                                "#B0BEC5",
                                "#B0BEC5"
                              ]
                            ]
                          }
                        ],
                        "label": "Topic 5",
                        "method": "update"
                      },
                      {
                        "args": [
                          {
                            "marker.color": [
                              [
                                "#B0BEC5",
                                "#B0BEC5",
                                "#B0BEC5",
                                "#B0BEC5",
                                "#B0BEC5",
                                "#B0BEC5",
                                "red",
                                "#B0BEC5",
                                "#B0BEC5",
                                "#B0BEC5",
                                "#B0BEC5",
                                "#B0BEC5",
                                "#B0BEC5",
                                "#B0BEC5",
                                "#B0BEC5",
                                "#B0BEC5",
                                "#B0BEC5",
                                "#B0BEC5",
                                "#B0BEC5",
                                "#B0BEC5",
                                "#B0BEC5",
                                "#B0BEC5",
                                "#B0BEC5",
                                "#B0BEC5",
                                "#B0BEC5",
                                "#B0BEC5",
                                "#B0BEC5",
                                "#B0BEC5",
                                "#B0BEC5",
                                "#B0BEC5",
                                "#B0BEC5",
                                "#B0BEC5",
                                "#B0BEC5",
                                "#B0BEC5",
                                "#B0BEC5",
                                "#B0BEC5",
                                "#B0BEC5",
                                "#B0BEC5",
                                "#B0BEC5",
                                "#B0BEC5",
                                "#B0BEC5",
                                "#B0BEC5",
                                "#B0BEC5",
                                "#B0BEC5",
                                "#B0BEC5",
                                "#B0BEC5",
                                "#B0BEC5",
                                "#B0BEC5",
                                "#B0BEC5",
                                "#B0BEC5",
                                "#B0BEC5",
                                "#B0BEC5",
                                "#B0BEC5",
                                "#B0BEC5"
                              ]
                            ]
                          }
                        ],
                        "label": "Topic 6",
                        "method": "update"
                      },
                      {
                        "args": [
                          {
                            "marker.color": [
                              [
                                "#B0BEC5",
                                "#B0BEC5",
                                "#B0BEC5",
                                "#B0BEC5",
                                "#B0BEC5",
                                "#B0BEC5",
                                "#B0BEC5",
                                "red",
                                "#B0BEC5",
                                "#B0BEC5",
                                "#B0BEC5",
                                "#B0BEC5",
                                "#B0BEC5",
                                "#B0BEC5",
                                "#B0BEC5",
                                "#B0BEC5",
                                "#B0BEC5",
                                "#B0BEC5",
                                "#B0BEC5",
                                "#B0BEC5",
                                "#B0BEC5",
                                "#B0BEC5",
                                "#B0BEC5",
                                "#B0BEC5",
                                "#B0BEC5",
                                "#B0BEC5",
                                "#B0BEC5",
                                "#B0BEC5",
                                "#B0BEC5",
                                "#B0BEC5",
                                "#B0BEC5",
                                "#B0BEC5",
                                "#B0BEC5",
                                "#B0BEC5",
                                "#B0BEC5",
                                "#B0BEC5",
                                "#B0BEC5",
                                "#B0BEC5",
                                "#B0BEC5",
                                "#B0BEC5",
                                "#B0BEC5",
                                "#B0BEC5",
                                "#B0BEC5",
                                "#B0BEC5",
                                "#B0BEC5",
                                "#B0BEC5",
                                "#B0BEC5",
                                "#B0BEC5",
                                "#B0BEC5",
                                "#B0BEC5",
                                "#B0BEC5",
                                "#B0BEC5",
                                "#B0BEC5",
                                "#B0BEC5"
                              ]
                            ]
                          }
                        ],
                        "label": "Topic 7",
                        "method": "update"
                      },
                      {
                        "args": [
                          {
                            "marker.color": [
                              [
                                "#B0BEC5",
                                "#B0BEC5",
                                "#B0BEC5",
                                "#B0BEC5",
                                "#B0BEC5",
                                "#B0BEC5",
                                "#B0BEC5",
                                "#B0BEC5",
                                "red",
                                "#B0BEC5",
                                "#B0BEC5",
                                "#B0BEC5",
                                "#B0BEC5",
                                "#B0BEC5",
                                "#B0BEC5",
                                "#B0BEC5",
                                "#B0BEC5",
                                "#B0BEC5",
                                "#B0BEC5",
                                "#B0BEC5",
                                "#B0BEC5",
                                "#B0BEC5",
                                "#B0BEC5",
                                "#B0BEC5",
                                "#B0BEC5",
                                "#B0BEC5",
                                "#B0BEC5",
                                "#B0BEC5",
                                "#B0BEC5",
                                "#B0BEC5",
                                "#B0BEC5",
                                "#B0BEC5",
                                "#B0BEC5",
                                "#B0BEC5",
                                "#B0BEC5",
                                "#B0BEC5",
                                "#B0BEC5",
                                "#B0BEC5",
                                "#B0BEC5",
                                "#B0BEC5",
                                "#B0BEC5",
                                "#B0BEC5",
                                "#B0BEC5",
                                "#B0BEC5",
                                "#B0BEC5",
                                "#B0BEC5",
                                "#B0BEC5",
                                "#B0BEC5",
                                "#B0BEC5",
                                "#B0BEC5",
                                "#B0BEC5",
                                "#B0BEC5",
                                "#B0BEC5",
                                "#B0BEC5"
                              ]
                            ]
                          }
                        ],
                        "label": "Topic 8",
                        "method": "update"
                      },
                      {
                        "args": [
                          {
                            "marker.color": [
                              [
                                "#B0BEC5",
                                "#B0BEC5",
                                "#B0BEC5",
                                "#B0BEC5",
                                "#B0BEC5",
                                "#B0BEC5",
                                "#B0BEC5",
                                "#B0BEC5",
                                "#B0BEC5",
                                "red",
                                "#B0BEC5",
                                "#B0BEC5",
                                "#B0BEC5",
                                "#B0BEC5",
                                "#B0BEC5",
                                "#B0BEC5",
                                "#B0BEC5",
                                "#B0BEC5",
                                "#B0BEC5",
                                "#B0BEC5",
                                "#B0BEC5",
                                "#B0BEC5",
                                "#B0BEC5",
                                "#B0BEC5",
                                "#B0BEC5",
                                "#B0BEC5",
                                "#B0BEC5",
                                "#B0BEC5",
                                "#B0BEC5",
                                "#B0BEC5",
                                "#B0BEC5",
                                "#B0BEC5",
                                "#B0BEC5",
                                "#B0BEC5",
                                "#B0BEC5",
                                "#B0BEC5",
                                "#B0BEC5",
                                "#B0BEC5",
                                "#B0BEC5",
                                "#B0BEC5",
                                "#B0BEC5",
                                "#B0BEC5",
                                "#B0BEC5",
                                "#B0BEC5",
                                "#B0BEC5",
                                "#B0BEC5",
                                "#B0BEC5",
                                "#B0BEC5",
                                "#B0BEC5",
                                "#B0BEC5",
                                "#B0BEC5",
                                "#B0BEC5",
                                "#B0BEC5",
                                "#B0BEC5"
                              ]
                            ]
                          }
                        ],
                        "label": "Topic 9",
                        "method": "update"
                      },
                      {
                        "args": [
                          {
                            "marker.color": [
                              [
                                "#B0BEC5",
                                "#B0BEC5",
                                "#B0BEC5",
                                "#B0BEC5",
                                "#B0BEC5",
                                "#B0BEC5",
                                "#B0BEC5",
                                "#B0BEC5",
                                "#B0BEC5",
                                "#B0BEC5",
                                "red",
                                "#B0BEC5",
                                "#B0BEC5",
                                "#B0BEC5",
                                "#B0BEC5",
                                "#B0BEC5",
                                "#B0BEC5",
                                "#B0BEC5",
                                "#B0BEC5",
                                "#B0BEC5",
                                "#B0BEC5",
                                "#B0BEC5",
                                "#B0BEC5",
                                "#B0BEC5",
                                "#B0BEC5",
                                "#B0BEC5",
                                "#B0BEC5",
                                "#B0BEC5",
                                "#B0BEC5",
                                "#B0BEC5",
                                "#B0BEC5",
                                "#B0BEC5",
                                "#B0BEC5",
                                "#B0BEC5",
                                "#B0BEC5",
                                "#B0BEC5",
                                "#B0BEC5",
                                "#B0BEC5",
                                "#B0BEC5",
                                "#B0BEC5",
                                "#B0BEC5",
                                "#B0BEC5",
                                "#B0BEC5",
                                "#B0BEC5",
                                "#B0BEC5",
                                "#B0BEC5",
                                "#B0BEC5",
                                "#B0BEC5",
                                "#B0BEC5",
                                "#B0BEC5",
                                "#B0BEC5",
                                "#B0BEC5",
                                "#B0BEC5",
                                "#B0BEC5"
                              ]
                            ]
                          }
                        ],
                        "label": "Topic 10",
                        "method": "update"
                      },
                      {
                        "args": [
                          {
                            "marker.color": [
                              [
                                "#B0BEC5",
                                "#B0BEC5",
                                "#B0BEC5",
                                "#B0BEC5",
                                "#B0BEC5",
                                "#B0BEC5",
                                "#B0BEC5",
                                "#B0BEC5",
                                "#B0BEC5",
                                "#B0BEC5",
                                "#B0BEC5",
                                "red",
                                "#B0BEC5",
                                "#B0BEC5",
                                "#B0BEC5",
                                "#B0BEC5",
                                "#B0BEC5",
                                "#B0BEC5",
                                "#B0BEC5",
                                "#B0BEC5",
                                "#B0BEC5",
                                "#B0BEC5",
                                "#B0BEC5",
                                "#B0BEC5",
                                "#B0BEC5",
                                "#B0BEC5",
                                "#B0BEC5",
                                "#B0BEC5",
                                "#B0BEC5",
                                "#B0BEC5",
                                "#B0BEC5",
                                "#B0BEC5",
                                "#B0BEC5",
                                "#B0BEC5",
                                "#B0BEC5",
                                "#B0BEC5",
                                "#B0BEC5",
                                "#B0BEC5",
                                "#B0BEC5",
                                "#B0BEC5",
                                "#B0BEC5",
                                "#B0BEC5",
                                "#B0BEC5",
                                "#B0BEC5",
                                "#B0BEC5",
                                "#B0BEC5",
                                "#B0BEC5",
                                "#B0BEC5",
                                "#B0BEC5",
                                "#B0BEC5",
                                "#B0BEC5",
                                "#B0BEC5",
                                "#B0BEC5",
                                "#B0BEC5"
                              ]
                            ]
                          }
                        ],
                        "label": "Topic 11",
                        "method": "update"
                      },
                      {
                        "args": [
                          {
                            "marker.color": [
                              [
                                "#B0BEC5",
                                "#B0BEC5",
                                "#B0BEC5",
                                "#B0BEC5",
                                "#B0BEC5",
                                "#B0BEC5",
                                "#B0BEC5",
                                "#B0BEC5",
                                "#B0BEC5",
                                "#B0BEC5",
                                "#B0BEC5",
                                "#B0BEC5",
                                "red",
                                "#B0BEC5",
                                "#B0BEC5",
                                "#B0BEC5",
                                "#B0BEC5",
                                "#B0BEC5",
                                "#B0BEC5",
                                "#B0BEC5",
                                "#B0BEC5",
                                "#B0BEC5",
                                "#B0BEC5",
                                "#B0BEC5",
                                "#B0BEC5",
                                "#B0BEC5",
                                "#B0BEC5",
                                "#B0BEC5",
                                "#B0BEC5",
                                "#B0BEC5",
                                "#B0BEC5",
                                "#B0BEC5",
                                "#B0BEC5",
                                "#B0BEC5",
                                "#B0BEC5",
                                "#B0BEC5",
                                "#B0BEC5",
                                "#B0BEC5",
                                "#B0BEC5",
                                "#B0BEC5",
                                "#B0BEC5",
                                "#B0BEC5",
                                "#B0BEC5",
                                "#B0BEC5",
                                "#B0BEC5",
                                "#B0BEC5",
                                "#B0BEC5",
                                "#B0BEC5",
                                "#B0BEC5",
                                "#B0BEC5",
                                "#B0BEC5",
                                "#B0BEC5",
                                "#B0BEC5",
                                "#B0BEC5"
                              ]
                            ]
                          }
                        ],
                        "label": "Topic 12",
                        "method": "update"
                      },
                      {
                        "args": [
                          {
                            "marker.color": [
                              [
                                "#B0BEC5",
                                "#B0BEC5",
                                "#B0BEC5",
                                "#B0BEC5",
                                "#B0BEC5",
                                "#B0BEC5",
                                "#B0BEC5",
                                "#B0BEC5",
                                "#B0BEC5",
                                "#B0BEC5",
                                "#B0BEC5",
                                "#B0BEC5",
                                "#B0BEC5",
                                "red",
                                "#B0BEC5",
                                "#B0BEC5",
                                "#B0BEC5",
                                "#B0BEC5",
                                "#B0BEC5",
                                "#B0BEC5",
                                "#B0BEC5",
                                "#B0BEC5",
                                "#B0BEC5",
                                "#B0BEC5",
                                "#B0BEC5",
                                "#B0BEC5",
                                "#B0BEC5",
                                "#B0BEC5",
                                "#B0BEC5",
                                "#B0BEC5",
                                "#B0BEC5",
                                "#B0BEC5",
                                "#B0BEC5",
                                "#B0BEC5",
                                "#B0BEC5",
                                "#B0BEC5",
                                "#B0BEC5",
                                "#B0BEC5",
                                "#B0BEC5",
                                "#B0BEC5",
                                "#B0BEC5",
                                "#B0BEC5",
                                "#B0BEC5",
                                "#B0BEC5",
                                "#B0BEC5",
                                "#B0BEC5",
                                "#B0BEC5",
                                "#B0BEC5",
                                "#B0BEC5",
                                "#B0BEC5",
                                "#B0BEC5",
                                "#B0BEC5",
                                "#B0BEC5",
                                "#B0BEC5"
                              ]
                            ]
                          }
                        ],
                        "label": "Topic 13",
                        "method": "update"
                      },
                      {
                        "args": [
                          {
                            "marker.color": [
                              [
                                "#B0BEC5",
                                "#B0BEC5",
                                "#B0BEC5",
                                "#B0BEC5",
                                "#B0BEC5",
                                "#B0BEC5",
                                "#B0BEC5",
                                "#B0BEC5",
                                "#B0BEC5",
                                "#B0BEC5",
                                "#B0BEC5",
                                "#B0BEC5",
                                "#B0BEC5",
                                "#B0BEC5",
                                "red",
                                "#B0BEC5",
                                "#B0BEC5",
                                "#B0BEC5",
                                "#B0BEC5",
                                "#B0BEC5",
                                "#B0BEC5",
                                "#B0BEC5",
                                "#B0BEC5",
                                "#B0BEC5",
                                "#B0BEC5",
                                "#B0BEC5",
                                "#B0BEC5",
                                "#B0BEC5",
                                "#B0BEC5",
                                "#B0BEC5",
                                "#B0BEC5",
                                "#B0BEC5",
                                "#B0BEC5",
                                "#B0BEC5",
                                "#B0BEC5",
                                "#B0BEC5",
                                "#B0BEC5",
                                "#B0BEC5",
                                "#B0BEC5",
                                "#B0BEC5",
                                "#B0BEC5",
                                "#B0BEC5",
                                "#B0BEC5",
                                "#B0BEC5",
                                "#B0BEC5",
                                "#B0BEC5",
                                "#B0BEC5",
                                "#B0BEC5",
                                "#B0BEC5",
                                "#B0BEC5",
                                "#B0BEC5",
                                "#B0BEC5",
                                "#B0BEC5",
                                "#B0BEC5"
                              ]
                            ]
                          }
                        ],
                        "label": "Topic 14",
                        "method": "update"
                      },
                      {
                        "args": [
                          {
                            "marker.color": [
                              [
                                "#B0BEC5",
                                "#B0BEC5",
                                "#B0BEC5",
                                "#B0BEC5",
                                "#B0BEC5",
                                "#B0BEC5",
                                "#B0BEC5",
                                "#B0BEC5",
                                "#B0BEC5",
                                "#B0BEC5",
                                "#B0BEC5",
                                "#B0BEC5",
                                "#B0BEC5",
                                "#B0BEC5",
                                "#B0BEC5",
                                "red",
                                "#B0BEC5",
                                "#B0BEC5",
                                "#B0BEC5",
                                "#B0BEC5",
                                "#B0BEC5",
                                "#B0BEC5",
                                "#B0BEC5",
                                "#B0BEC5",
                                "#B0BEC5",
                                "#B0BEC5",
                                "#B0BEC5",
                                "#B0BEC5",
                                "#B0BEC5",
                                "#B0BEC5",
                                "#B0BEC5",
                                "#B0BEC5",
                                "#B0BEC5",
                                "#B0BEC5",
                                "#B0BEC5",
                                "#B0BEC5",
                                "#B0BEC5",
                                "#B0BEC5",
                                "#B0BEC5",
                                "#B0BEC5",
                                "#B0BEC5",
                                "#B0BEC5",
                                "#B0BEC5",
                                "#B0BEC5",
                                "#B0BEC5",
                                "#B0BEC5",
                                "#B0BEC5",
                                "#B0BEC5",
                                "#B0BEC5",
                                "#B0BEC5",
                                "#B0BEC5",
                                "#B0BEC5",
                                "#B0BEC5",
                                "#B0BEC5"
                              ]
                            ]
                          }
                        ],
                        "label": "Topic 15",
                        "method": "update"
                      },
                      {
                        "args": [
                          {
                            "marker.color": [
                              [
                                "#B0BEC5",
                                "#B0BEC5",
                                "#B0BEC5",
                                "#B0BEC5",
                                "#B0BEC5",
                                "#B0BEC5",
                                "#B0BEC5",
                                "#B0BEC5",
                                "#B0BEC5",
                                "#B0BEC5",
                                "#B0BEC5",
                                "#B0BEC5",
                                "#B0BEC5",
                                "#B0BEC5",
                                "#B0BEC5",
                                "#B0BEC5",
                                "red",
                                "#B0BEC5",
                                "#B0BEC5",
                                "#B0BEC5",
                                "#B0BEC5",
                                "#B0BEC5",
                                "#B0BEC5",
                                "#B0BEC5",
                                "#B0BEC5",
                                "#B0BEC5",
                                "#B0BEC5",
                                "#B0BEC5",
                                "#B0BEC5",
                                "#B0BEC5",
                                "#B0BEC5",
                                "#B0BEC5",
                                "#B0BEC5",
                                "#B0BEC5",
                                "#B0BEC5",
                                "#B0BEC5",
                                "#B0BEC5",
                                "#B0BEC5",
                                "#B0BEC5",
                                "#B0BEC5",
                                "#B0BEC5",
                                "#B0BEC5",
                                "#B0BEC5",
                                "#B0BEC5",
                                "#B0BEC5",
                                "#B0BEC5",
                                "#B0BEC5",
                                "#B0BEC5",
                                "#B0BEC5",
                                "#B0BEC5",
                                "#B0BEC5",
                                "#B0BEC5",
                                "#B0BEC5",
                                "#B0BEC5"
                              ]
                            ]
                          }
                        ],
                        "label": "Topic 16",
                        "method": "update"
                      },
                      {
                        "args": [
                          {
                            "marker.color": [
                              [
                                "#B0BEC5",
                                "#B0BEC5",
                                "#B0BEC5",
                                "#B0BEC5",
                                "#B0BEC5",
                                "#B0BEC5",
                                "#B0BEC5",
                                "#B0BEC5",
                                "#B0BEC5",
                                "#B0BEC5",
                                "#B0BEC5",
                                "#B0BEC5",
                                "#B0BEC5",
                                "#B0BEC5",
                                "#B0BEC5",
                                "#B0BEC5",
                                "#B0BEC5",
                                "red",
                                "#B0BEC5",
                                "#B0BEC5",
                                "#B0BEC5",
                                "#B0BEC5",
                                "#B0BEC5",
                                "#B0BEC5",
                                "#B0BEC5",
                                "#B0BEC5",
                                "#B0BEC5",
                                "#B0BEC5",
                                "#B0BEC5",
                                "#B0BEC5",
                                "#B0BEC5",
                                "#B0BEC5",
                                "#B0BEC5",
                                "#B0BEC5",
                                "#B0BEC5",
                                "#B0BEC5",
                                "#B0BEC5",
                                "#B0BEC5",
                                "#B0BEC5",
                                "#B0BEC5",
                                "#B0BEC5",
                                "#B0BEC5",
                                "#B0BEC5",
                                "#B0BEC5",
                                "#B0BEC5",
                                "#B0BEC5",
                                "#B0BEC5",
                                "#B0BEC5",
                                "#B0BEC5",
                                "#B0BEC5",
                                "#B0BEC5",
                                "#B0BEC5",
                                "#B0BEC5",
                                "#B0BEC5"
                              ]
                            ]
                          }
                        ],
                        "label": "Topic 17",
                        "method": "update"
                      },
                      {
                        "args": [
                          {
                            "marker.color": [
                              [
                                "#B0BEC5",
                                "#B0BEC5",
                                "#B0BEC5",
                                "#B0BEC5",
                                "#B0BEC5",
                                "#B0BEC5",
                                "#B0BEC5",
                                "#B0BEC5",
                                "#B0BEC5",
                                "#B0BEC5",
                                "#B0BEC5",
                                "#B0BEC5",
                                "#B0BEC5",
                                "#B0BEC5",
                                "#B0BEC5",
                                "#B0BEC5",
                                "#B0BEC5",
                                "#B0BEC5",
                                "red",
                                "#B0BEC5",
                                "#B0BEC5",
                                "#B0BEC5",
                                "#B0BEC5",
                                "#B0BEC5",
                                "#B0BEC5",
                                "#B0BEC5",
                                "#B0BEC5",
                                "#B0BEC5",
                                "#B0BEC5",
                                "#B0BEC5",
                                "#B0BEC5",
                                "#B0BEC5",
                                "#B0BEC5",
                                "#B0BEC5",
                                "#B0BEC5",
                                "#B0BEC5",
                                "#B0BEC5",
                                "#B0BEC5",
                                "#B0BEC5",
                                "#B0BEC5",
                                "#B0BEC5",
                                "#B0BEC5",
                                "#B0BEC5",
                                "#B0BEC5",
                                "#B0BEC5",
                                "#B0BEC5",
                                "#B0BEC5",
                                "#B0BEC5",
                                "#B0BEC5",
                                "#B0BEC5",
                                "#B0BEC5",
                                "#B0BEC5",
                                "#B0BEC5",
                                "#B0BEC5"
                              ]
                            ]
                          }
                        ],
                        "label": "Topic 18",
                        "method": "update"
                      },
                      {
                        "args": [
                          {
                            "marker.color": [
                              [
                                "#B0BEC5",
                                "#B0BEC5",
                                "#B0BEC5",
                                "#B0BEC5",
                                "#B0BEC5",
                                "#B0BEC5",
                                "#B0BEC5",
                                "#B0BEC5",
                                "#B0BEC5",
                                "#B0BEC5",
                                "#B0BEC5",
                                "#B0BEC5",
                                "#B0BEC5",
                                "#B0BEC5",
                                "#B0BEC5",
                                "#B0BEC5",
                                "#B0BEC5",
                                "#B0BEC5",
                                "#B0BEC5",
                                "red",
                                "#B0BEC5",
                                "#B0BEC5",
                                "#B0BEC5",
                                "#B0BEC5",
                                "#B0BEC5",
                                "#B0BEC5",
                                "#B0BEC5",
                                "#B0BEC5",
                                "#B0BEC5",
                                "#B0BEC5",
                                "#B0BEC5",
                                "#B0BEC5",
                                "#B0BEC5",
                                "#B0BEC5",
                                "#B0BEC5",
                                "#B0BEC5",
                                "#B0BEC5",
                                "#B0BEC5",
                                "#B0BEC5",
                                "#B0BEC5",
                                "#B0BEC5",
                                "#B0BEC5",
                                "#B0BEC5",
                                "#B0BEC5",
                                "#B0BEC5",
                                "#B0BEC5",
                                "#B0BEC5",
                                "#B0BEC5",
                                "#B0BEC5",
                                "#B0BEC5",
                                "#B0BEC5",
                                "#B0BEC5",
                                "#B0BEC5",
                                "#B0BEC5"
                              ]
                            ]
                          }
                        ],
                        "label": "Topic 19",
                        "method": "update"
                      },
                      {
                        "args": [
                          {
                            "marker.color": [
                              [
                                "#B0BEC5",
                                "#B0BEC5",
                                "#B0BEC5",
                                "#B0BEC5",
                                "#B0BEC5",
                                "#B0BEC5",
                                "#B0BEC5",
                                "#B0BEC5",
                                "#B0BEC5",
                                "#B0BEC5",
                                "#B0BEC5",
                                "#B0BEC5",
                                "#B0BEC5",
                                "#B0BEC5",
                                "#B0BEC5",
                                "#B0BEC5",
                                "#B0BEC5",
                                "#B0BEC5",
                                "#B0BEC5",
                                "#B0BEC5",
                                "red",
                                "#B0BEC5",
                                "#B0BEC5",
                                "#B0BEC5",
                                "#B0BEC5",
                                "#B0BEC5",
                                "#B0BEC5",
                                "#B0BEC5",
                                "#B0BEC5",
                                "#B0BEC5",
                                "#B0BEC5",
                                "#B0BEC5",
                                "#B0BEC5",
                                "#B0BEC5",
                                "#B0BEC5",
                                "#B0BEC5",
                                "#B0BEC5",
                                "#B0BEC5",
                                "#B0BEC5",
                                "#B0BEC5",
                                "#B0BEC5",
                                "#B0BEC5",
                                "#B0BEC5",
                                "#B0BEC5",
                                "#B0BEC5",
                                "#B0BEC5",
                                "#B0BEC5",
                                "#B0BEC5",
                                "#B0BEC5",
                                "#B0BEC5",
                                "#B0BEC5",
                                "#B0BEC5",
                                "#B0BEC5",
                                "#B0BEC5"
                              ]
                            ]
                          }
                        ],
                        "label": "Topic 20",
                        "method": "update"
                      },
                      {
                        "args": [
                          {
                            "marker.color": [
                              [
                                "#B0BEC5",
                                "#B0BEC5",
                                "#B0BEC5",
                                "#B0BEC5",
                                "#B0BEC5",
                                "#B0BEC5",
                                "#B0BEC5",
                                "#B0BEC5",
                                "#B0BEC5",
                                "#B0BEC5",
                                "#B0BEC5",
                                "#B0BEC5",
                                "#B0BEC5",
                                "#B0BEC5",
                                "#B0BEC5",
                                "#B0BEC5",
                                "#B0BEC5",
                                "#B0BEC5",
                                "#B0BEC5",
                                "#B0BEC5",
                                "#B0BEC5",
                                "red",
                                "#B0BEC5",
                                "#B0BEC5",
                                "#B0BEC5",
                                "#B0BEC5",
                                "#B0BEC5",
                                "#B0BEC5",
                                "#B0BEC5",
                                "#B0BEC5",
                                "#B0BEC5",
                                "#B0BEC5",
                                "#B0BEC5",
                                "#B0BEC5",
                                "#B0BEC5",
                                "#B0BEC5",
                                "#B0BEC5",
                                "#B0BEC5",
                                "#B0BEC5",
                                "#B0BEC5",
                                "#B0BEC5",
                                "#B0BEC5",
                                "#B0BEC5",
                                "#B0BEC5",
                                "#B0BEC5",
                                "#B0BEC5",
                                "#B0BEC5",
                                "#B0BEC5",
                                "#B0BEC5",
                                "#B0BEC5",
                                "#B0BEC5",
                                "#B0BEC5",
                                "#B0BEC5",
                                "#B0BEC5"
                              ]
                            ]
                          }
                        ],
                        "label": "Topic 21",
                        "method": "update"
                      },
                      {
                        "args": [
                          {
                            "marker.color": [
                              [
                                "#B0BEC5",
                                "#B0BEC5",
                                "#B0BEC5",
                                "#B0BEC5",
                                "#B0BEC5",
                                "#B0BEC5",
                                "#B0BEC5",
                                "#B0BEC5",
                                "#B0BEC5",
                                "#B0BEC5",
                                "#B0BEC5",
                                "#B0BEC5",
                                "#B0BEC5",
                                "#B0BEC5",
                                "#B0BEC5",
                                "#B0BEC5",
                                "#B0BEC5",
                                "#B0BEC5",
                                "#B0BEC5",
                                "#B0BEC5",
                                "#B0BEC5",
                                "#B0BEC5",
                                "red",
                                "#B0BEC5",
                                "#B0BEC5",
                                "#B0BEC5",
                                "#B0BEC5",
                                "#B0BEC5",
                                "#B0BEC5",
                                "#B0BEC5",
                                "#B0BEC5",
                                "#B0BEC5",
                                "#B0BEC5",
                                "#B0BEC5",
                                "#B0BEC5",
                                "#B0BEC5",
                                "#B0BEC5",
                                "#B0BEC5",
                                "#B0BEC5",
                                "#B0BEC5",
                                "#B0BEC5",
                                "#B0BEC5",
                                "#B0BEC5",
                                "#B0BEC5",
                                "#B0BEC5",
                                "#B0BEC5",
                                "#B0BEC5",
                                "#B0BEC5",
                                "#B0BEC5",
                                "#B0BEC5",
                                "#B0BEC5",
                                "#B0BEC5",
                                "#B0BEC5",
                                "#B0BEC5"
                              ]
                            ]
                          }
                        ],
                        "label": "Topic 22",
                        "method": "update"
                      },
                      {
                        "args": [
                          {
                            "marker.color": [
                              [
                                "#B0BEC5",
                                "#B0BEC5",
                                "#B0BEC5",
                                "#B0BEC5",
                                "#B0BEC5",
                                "#B0BEC5",
                                "#B0BEC5",
                                "#B0BEC5",
                                "#B0BEC5",
                                "#B0BEC5",
                                "#B0BEC5",
                                "#B0BEC5",
                                "#B0BEC5",
                                "#B0BEC5",
                                "#B0BEC5",
                                "#B0BEC5",
                                "#B0BEC5",
                                "#B0BEC5",
                                "#B0BEC5",
                                "#B0BEC5",
                                "#B0BEC5",
                                "#B0BEC5",
                                "#B0BEC5",
                                "red",
                                "#B0BEC5",
                                "#B0BEC5",
                                "#B0BEC5",
                                "#B0BEC5",
                                "#B0BEC5",
                                "#B0BEC5",
                                "#B0BEC5",
                                "#B0BEC5",
                                "#B0BEC5",
                                "#B0BEC5",
                                "#B0BEC5",
                                "#B0BEC5",
                                "#B0BEC5",
                                "#B0BEC5",
                                "#B0BEC5",
                                "#B0BEC5",
                                "#B0BEC5",
                                "#B0BEC5",
                                "#B0BEC5",
                                "#B0BEC5",
                                "#B0BEC5",
                                "#B0BEC5",
                                "#B0BEC5",
                                "#B0BEC5",
                                "#B0BEC5",
                                "#B0BEC5",
                                "#B0BEC5",
                                "#B0BEC5",
                                "#B0BEC5",
                                "#B0BEC5"
                              ]
                            ]
                          }
                        ],
                        "label": "Topic 23",
                        "method": "update"
                      },
                      {
                        "args": [
                          {
                            "marker.color": [
                              [
                                "#B0BEC5",
                                "#B0BEC5",
                                "#B0BEC5",
                                "#B0BEC5",
                                "#B0BEC5",
                                "#B0BEC5",
                                "#B0BEC5",
                                "#B0BEC5",
                                "#B0BEC5",
                                "#B0BEC5",
                                "#B0BEC5",
                                "#B0BEC5",
                                "#B0BEC5",
                                "#B0BEC5",
                                "#B0BEC5",
                                "#B0BEC5",
                                "#B0BEC5",
                                "#B0BEC5",
                                "#B0BEC5",
                                "#B0BEC5",
                                "#B0BEC5",
                                "#B0BEC5",
                                "#B0BEC5",
                                "#B0BEC5",
                                "red",
                                "#B0BEC5",
                                "#B0BEC5",
                                "#B0BEC5",
                                "#B0BEC5",
                                "#B0BEC5",
                                "#B0BEC5",
                                "#B0BEC5",
                                "#B0BEC5",
                                "#B0BEC5",
                                "#B0BEC5",
                                "#B0BEC5",
                                "#B0BEC5",
                                "#B0BEC5",
                                "#B0BEC5",
                                "#B0BEC5",
                                "#B0BEC5",
                                "#B0BEC5",
                                "#B0BEC5",
                                "#B0BEC5",
                                "#B0BEC5",
                                "#B0BEC5",
                                "#B0BEC5",
                                "#B0BEC5",
                                "#B0BEC5",
                                "#B0BEC5",
                                "#B0BEC5",
                                "#B0BEC5",
                                "#B0BEC5",
                                "#B0BEC5"
                              ]
                            ]
                          }
                        ],
                        "label": "Topic 24",
                        "method": "update"
                      },
                      {
                        "args": [
                          {
                            "marker.color": [
                              [
                                "#B0BEC5",
                                "#B0BEC5",
                                "#B0BEC5",
                                "#B0BEC5",
                                "#B0BEC5",
                                "#B0BEC5",
                                "#B0BEC5",
                                "#B0BEC5",
                                "#B0BEC5",
                                "#B0BEC5",
                                "#B0BEC5",
                                "#B0BEC5",
                                "#B0BEC5",
                                "#B0BEC5",
                                "#B0BEC5",
                                "#B0BEC5",
                                "#B0BEC5",
                                "#B0BEC5",
                                "#B0BEC5",
                                "#B0BEC5",
                                "#B0BEC5",
                                "#B0BEC5",
                                "#B0BEC5",
                                "#B0BEC5",
                                "#B0BEC5",
                                "red",
                                "#B0BEC5",
                                "#B0BEC5",
                                "#B0BEC5",
                                "#B0BEC5",
                                "#B0BEC5",
                                "#B0BEC5",
                                "#B0BEC5",
                                "#B0BEC5",
                                "#B0BEC5",
                                "#B0BEC5",
                                "#B0BEC5",
                                "#B0BEC5",
                                "#B0BEC5",
                                "#B0BEC5",
                                "#B0BEC5",
                                "#B0BEC5",
                                "#B0BEC5",
                                "#B0BEC5",
                                "#B0BEC5",
                                "#B0BEC5",
                                "#B0BEC5",
                                "#B0BEC5",
                                "#B0BEC5",
                                "#B0BEC5",
                                "#B0BEC5",
                                "#B0BEC5",
                                "#B0BEC5",
                                "#B0BEC5"
                              ]
                            ]
                          }
                        ],
                        "label": "Topic 25",
                        "method": "update"
                      },
                      {
                        "args": [
                          {
                            "marker.color": [
                              [
                                "#B0BEC5",
                                "#B0BEC5",
                                "#B0BEC5",
                                "#B0BEC5",
                                "#B0BEC5",
                                "#B0BEC5",
                                "#B0BEC5",
                                "#B0BEC5",
                                "#B0BEC5",
                                "#B0BEC5",
                                "#B0BEC5",
                                "#B0BEC5",
                                "#B0BEC5",
                                "#B0BEC5",
                                "#B0BEC5",
                                "#B0BEC5",
                                "#B0BEC5",
                                "#B0BEC5",
                                "#B0BEC5",
                                "#B0BEC5",
                                "#B0BEC5",
                                "#B0BEC5",
                                "#B0BEC5",
                                "#B0BEC5",
                                "#B0BEC5",
                                "#B0BEC5",
                                "red",
                                "#B0BEC5",
                                "#B0BEC5",
                                "#B0BEC5",
                                "#B0BEC5",
                                "#B0BEC5",
                                "#B0BEC5",
                                "#B0BEC5",
                                "#B0BEC5",
                                "#B0BEC5",
                                "#B0BEC5",
                                "#B0BEC5",
                                "#B0BEC5",
                                "#B0BEC5",
                                "#B0BEC5",
                                "#B0BEC5",
                                "#B0BEC5",
                                "#B0BEC5",
                                "#B0BEC5",
                                "#B0BEC5",
                                "#B0BEC5",
                                "#B0BEC5",
                                "#B0BEC5",
                                "#B0BEC5",
                                "#B0BEC5",
                                "#B0BEC5",
                                "#B0BEC5",
                                "#B0BEC5"
                              ]
                            ]
                          }
                        ],
                        "label": "Topic 26",
                        "method": "update"
                      },
                      {
                        "args": [
                          {
                            "marker.color": [
                              [
                                "#B0BEC5",
                                "#B0BEC5",
                                "#B0BEC5",
                                "#B0BEC5",
                                "#B0BEC5",
                                "#B0BEC5",
                                "#B0BEC5",
                                "#B0BEC5",
                                "#B0BEC5",
                                "#B0BEC5",
                                "#B0BEC5",
                                "#B0BEC5",
                                "#B0BEC5",
                                "#B0BEC5",
                                "#B0BEC5",
                                "#B0BEC5",
                                "#B0BEC5",
                                "#B0BEC5",
                                "#B0BEC5",
                                "#B0BEC5",
                                "#B0BEC5",
                                "#B0BEC5",
                                "#B0BEC5",
                                "#B0BEC5",
                                "#B0BEC5",
                                "#B0BEC5",
                                "#B0BEC5",
                                "red",
                                "#B0BEC5",
                                "#B0BEC5",
                                "#B0BEC5",
                                "#B0BEC5",
                                "#B0BEC5",
                                "#B0BEC5",
                                "#B0BEC5",
                                "#B0BEC5",
                                "#B0BEC5",
                                "#B0BEC5",
                                "#B0BEC5",
                                "#B0BEC5",
                                "#B0BEC5",
                                "#B0BEC5",
                                "#B0BEC5",
                                "#B0BEC5",
                                "#B0BEC5",
                                "#B0BEC5",
                                "#B0BEC5",
                                "#B0BEC5",
                                "#B0BEC5",
                                "#B0BEC5",
                                "#B0BEC5",
                                "#B0BEC5",
                                "#B0BEC5",
                                "#B0BEC5"
                              ]
                            ]
                          }
                        ],
                        "label": "Topic 27",
                        "method": "update"
                      },
                      {
                        "args": [
                          {
                            "marker.color": [
                              [
                                "#B0BEC5",
                                "#B0BEC5",
                                "#B0BEC5",
                                "#B0BEC5",
                                "#B0BEC5",
                                "#B0BEC5",
                                "#B0BEC5",
                                "#B0BEC5",
                                "#B0BEC5",
                                "#B0BEC5",
                                "#B0BEC5",
                                "#B0BEC5",
                                "#B0BEC5",
                                "#B0BEC5",
                                "#B0BEC5",
                                "#B0BEC5",
                                "#B0BEC5",
                                "#B0BEC5",
                                "#B0BEC5",
                                "#B0BEC5",
                                "#B0BEC5",
                                "#B0BEC5",
                                "#B0BEC5",
                                "#B0BEC5",
                                "#B0BEC5",
                                "#B0BEC5",
                                "#B0BEC5",
                                "#B0BEC5",
                                "red",
                                "#B0BEC5",
                                "#B0BEC5",
                                "#B0BEC5",
                                "#B0BEC5",
                                "#B0BEC5",
                                "#B0BEC5",
                                "#B0BEC5",
                                "#B0BEC5",
                                "#B0BEC5",
                                "#B0BEC5",
                                "#B0BEC5",
                                "#B0BEC5",
                                "#B0BEC5",
                                "#B0BEC5",
                                "#B0BEC5",
                                "#B0BEC5",
                                "#B0BEC5",
                                "#B0BEC5",
                                "#B0BEC5",
                                "#B0BEC5",
                                "#B0BEC5",
                                "#B0BEC5",
                                "#B0BEC5",
                                "#B0BEC5",
                                "#B0BEC5"
                              ]
                            ]
                          }
                        ],
                        "label": "Topic 28",
                        "method": "update"
                      },
                      {
                        "args": [
                          {
                            "marker.color": [
                              [
                                "#B0BEC5",
                                "#B0BEC5",
                                "#B0BEC5",
                                "#B0BEC5",
                                "#B0BEC5",
                                "#B0BEC5",
                                "#B0BEC5",
                                "#B0BEC5",
                                "#B0BEC5",
                                "#B0BEC5",
                                "#B0BEC5",
                                "#B0BEC5",
                                "#B0BEC5",
                                "#B0BEC5",
                                "#B0BEC5",
                                "#B0BEC5",
                                "#B0BEC5",
                                "#B0BEC5",
                                "#B0BEC5",
                                "#B0BEC5",
                                "#B0BEC5",
                                "#B0BEC5",
                                "#B0BEC5",
                                "#B0BEC5",
                                "#B0BEC5",
                                "#B0BEC5",
                                "#B0BEC5",
                                "#B0BEC5",
                                "#B0BEC5",
                                "red",
                                "#B0BEC5",
                                "#B0BEC5",
                                "#B0BEC5",
                                "#B0BEC5",
                                "#B0BEC5",
                                "#B0BEC5",
                                "#B0BEC5",
                                "#B0BEC5",
                                "#B0BEC5",
                                "#B0BEC5",
                                "#B0BEC5",
                                "#B0BEC5",
                                "#B0BEC5",
                                "#B0BEC5",
                                "#B0BEC5",
                                "#B0BEC5",
                                "#B0BEC5",
                                "#B0BEC5",
                                "#B0BEC5",
                                "#B0BEC5",
                                "#B0BEC5",
                                "#B0BEC5",
                                "#B0BEC5",
                                "#B0BEC5"
                              ]
                            ]
                          }
                        ],
                        "label": "Topic 29",
                        "method": "update"
                      },
                      {
                        "args": [
                          {
                            "marker.color": [
                              [
                                "#B0BEC5",
                                "#B0BEC5",
                                "#B0BEC5",
                                "#B0BEC5",
                                "#B0BEC5",
                                "#B0BEC5",
                                "#B0BEC5",
                                "#B0BEC5",
                                "#B0BEC5",
                                "#B0BEC5",
                                "#B0BEC5",
                                "#B0BEC5",
                                "#B0BEC5",
                                "#B0BEC5",
                                "#B0BEC5",
                                "#B0BEC5",
                                "#B0BEC5",
                                "#B0BEC5",
                                "#B0BEC5",
                                "#B0BEC5",
                                "#B0BEC5",
                                "#B0BEC5",
                                "#B0BEC5",
                                "#B0BEC5",
                                "#B0BEC5",
                                "#B0BEC5",
                                "#B0BEC5",
                                "#B0BEC5",
                                "#B0BEC5",
                                "#B0BEC5",
                                "red",
                                "#B0BEC5",
                                "#B0BEC5",
                                "#B0BEC5",
                                "#B0BEC5",
                                "#B0BEC5",
                                "#B0BEC5",
                                "#B0BEC5",
                                "#B0BEC5",
                                "#B0BEC5",
                                "#B0BEC5",
                                "#B0BEC5",
                                "#B0BEC5",
                                "#B0BEC5",
                                "#B0BEC5",
                                "#B0BEC5",
                                "#B0BEC5",
                                "#B0BEC5",
                                "#B0BEC5",
                                "#B0BEC5",
                                "#B0BEC5",
                                "#B0BEC5",
                                "#B0BEC5",
                                "#B0BEC5"
                              ]
                            ]
                          }
                        ],
                        "label": "Topic 30",
                        "method": "update"
                      },
                      {
                        "args": [
                          {
                            "marker.color": [
                              [
                                "#B0BEC5",
                                "#B0BEC5",
                                "#B0BEC5",
                                "#B0BEC5",
                                "#B0BEC5",
                                "#B0BEC5",
                                "#B0BEC5",
                                "#B0BEC5",
                                "#B0BEC5",
                                "#B0BEC5",
                                "#B0BEC5",
                                "#B0BEC5",
                                "#B0BEC5",
                                "#B0BEC5",
                                "#B0BEC5",
                                "#B0BEC5",
                                "#B0BEC5",
                                "#B0BEC5",
                                "#B0BEC5",
                                "#B0BEC5",
                                "#B0BEC5",
                                "#B0BEC5",
                                "#B0BEC5",
                                "#B0BEC5",
                                "#B0BEC5",
                                "#B0BEC5",
                                "#B0BEC5",
                                "#B0BEC5",
                                "#B0BEC5",
                                "#B0BEC5",
                                "#B0BEC5",
                                "red",
                                "#B0BEC5",
                                "#B0BEC5",
                                "#B0BEC5",
                                "#B0BEC5",
                                "#B0BEC5",
                                "#B0BEC5",
                                "#B0BEC5",
                                "#B0BEC5",
                                "#B0BEC5",
                                "#B0BEC5",
                                "#B0BEC5",
                                "#B0BEC5",
                                "#B0BEC5",
                                "#B0BEC5",
                                "#B0BEC5",
                                "#B0BEC5",
                                "#B0BEC5",
                                "#B0BEC5",
                                "#B0BEC5",
                                "#B0BEC5",
                                "#B0BEC5",
                                "#B0BEC5"
                              ]
                            ]
                          }
                        ],
                        "label": "Topic 31",
                        "method": "update"
                      },
                      {
                        "args": [
                          {
                            "marker.color": [
                              [
                                "#B0BEC5",
                                "#B0BEC5",
                                "#B0BEC5",
                                "#B0BEC5",
                                "#B0BEC5",
                                "#B0BEC5",
                                "#B0BEC5",
                                "#B0BEC5",
                                "#B0BEC5",
                                "#B0BEC5",
                                "#B0BEC5",
                                "#B0BEC5",
                                "#B0BEC5",
                                "#B0BEC5",
                                "#B0BEC5",
                                "#B0BEC5",
                                "#B0BEC5",
                                "#B0BEC5",
                                "#B0BEC5",
                                "#B0BEC5",
                                "#B0BEC5",
                                "#B0BEC5",
                                "#B0BEC5",
                                "#B0BEC5",
                                "#B0BEC5",
                                "#B0BEC5",
                                "#B0BEC5",
                                "#B0BEC5",
                                "#B0BEC5",
                                "#B0BEC5",
                                "#B0BEC5",
                                "#B0BEC5",
                                "red",
                                "#B0BEC5",
                                "#B0BEC5",
                                "#B0BEC5",
                                "#B0BEC5",
                                "#B0BEC5",
                                "#B0BEC5",
                                "#B0BEC5",
                                "#B0BEC5",
                                "#B0BEC5",
                                "#B0BEC5",
                                "#B0BEC5",
                                "#B0BEC5",
                                "#B0BEC5",
                                "#B0BEC5",
                                "#B0BEC5",
                                "#B0BEC5",
                                "#B0BEC5",
                                "#B0BEC5",
                                "#B0BEC5",
                                "#B0BEC5",
                                "#B0BEC5"
                              ]
                            ]
                          }
                        ],
                        "label": "Topic 32",
                        "method": "update"
                      },
                      {
                        "args": [
                          {
                            "marker.color": [
                              [
                                "#B0BEC5",
                                "#B0BEC5",
                                "#B0BEC5",
                                "#B0BEC5",
                                "#B0BEC5",
                                "#B0BEC5",
                                "#B0BEC5",
                                "#B0BEC5",
                                "#B0BEC5",
                                "#B0BEC5",
                                "#B0BEC5",
                                "#B0BEC5",
                                "#B0BEC5",
                                "#B0BEC5",
                                "#B0BEC5",
                                "#B0BEC5",
                                "#B0BEC5",
                                "#B0BEC5",
                                "#B0BEC5",
                                "#B0BEC5",
                                "#B0BEC5",
                                "#B0BEC5",
                                "#B0BEC5",
                                "#B0BEC5",
                                "#B0BEC5",
                                "#B0BEC5",
                                "#B0BEC5",
                                "#B0BEC5",
                                "#B0BEC5",
                                "#B0BEC5",
                                "#B0BEC5",
                                "#B0BEC5",
                                "#B0BEC5",
                                "red",
                                "#B0BEC5",
                                "#B0BEC5",
                                "#B0BEC5",
                                "#B0BEC5",
                                "#B0BEC5",
                                "#B0BEC5",
                                "#B0BEC5",
                                "#B0BEC5",
                                "#B0BEC5",
                                "#B0BEC5",
                                "#B0BEC5",
                                "#B0BEC5",
                                "#B0BEC5",
                                "#B0BEC5",
                                "#B0BEC5",
                                "#B0BEC5",
                                "#B0BEC5",
                                "#B0BEC5",
                                "#B0BEC5",
                                "#B0BEC5"
                              ]
                            ]
                          }
                        ],
                        "label": "Topic 33",
                        "method": "update"
                      },
                      {
                        "args": [
                          {
                            "marker.color": [
                              [
                                "#B0BEC5",
                                "#B0BEC5",
                                "#B0BEC5",
                                "#B0BEC5",
                                "#B0BEC5",
                                "#B0BEC5",
                                "#B0BEC5",
                                "#B0BEC5",
                                "#B0BEC5",
                                "#B0BEC5",
                                "#B0BEC5",
                                "#B0BEC5",
                                "#B0BEC5",
                                "#B0BEC5",
                                "#B0BEC5",
                                "#B0BEC5",
                                "#B0BEC5",
                                "#B0BEC5",
                                "#B0BEC5",
                                "#B0BEC5",
                                "#B0BEC5",
                                "#B0BEC5",
                                "#B0BEC5",
                                "#B0BEC5",
                                "#B0BEC5",
                                "#B0BEC5",
                                "#B0BEC5",
                                "#B0BEC5",
                                "#B0BEC5",
                                "#B0BEC5",
                                "#B0BEC5",
                                "#B0BEC5",
                                "#B0BEC5",
                                "#B0BEC5",
                                "red",
                                "#B0BEC5",
                                "#B0BEC5",
                                "#B0BEC5",
                                "#B0BEC5",
                                "#B0BEC5",
                                "#B0BEC5",
                                "#B0BEC5",
                                "#B0BEC5",
                                "#B0BEC5",
                                "#B0BEC5",
                                "#B0BEC5",
                                "#B0BEC5",
                                "#B0BEC5",
                                "#B0BEC5",
                                "#B0BEC5",
                                "#B0BEC5",
                                "#B0BEC5",
                                "#B0BEC5",
                                "#B0BEC5"
                              ]
                            ]
                          }
                        ],
                        "label": "Topic 34",
                        "method": "update"
                      },
                      {
                        "args": [
                          {
                            "marker.color": [
                              [
                                "#B0BEC5",
                                "#B0BEC5",
                                "#B0BEC5",
                                "#B0BEC5",
                                "#B0BEC5",
                                "#B0BEC5",
                                "#B0BEC5",
                                "#B0BEC5",
                                "#B0BEC5",
                                "#B0BEC5",
                                "#B0BEC5",
                                "#B0BEC5",
                                "#B0BEC5",
                                "#B0BEC5",
                                "#B0BEC5",
                                "#B0BEC5",
                                "#B0BEC5",
                                "#B0BEC5",
                                "#B0BEC5",
                                "#B0BEC5",
                                "#B0BEC5",
                                "#B0BEC5",
                                "#B0BEC5",
                                "#B0BEC5",
                                "#B0BEC5",
                                "#B0BEC5",
                                "#B0BEC5",
                                "#B0BEC5",
                                "#B0BEC5",
                                "#B0BEC5",
                                "#B0BEC5",
                                "#B0BEC5",
                                "#B0BEC5",
                                "#B0BEC5",
                                "#B0BEC5",
                                "red",
                                "#B0BEC5",
                                "#B0BEC5",
                                "#B0BEC5",
                                "#B0BEC5",
                                "#B0BEC5",
                                "#B0BEC5",
                                "#B0BEC5",
                                "#B0BEC5",
                                "#B0BEC5",
                                "#B0BEC5",
                                "#B0BEC5",
                                "#B0BEC5",
                                "#B0BEC5",
                                "#B0BEC5",
                                "#B0BEC5",
                                "#B0BEC5",
                                "#B0BEC5",
                                "#B0BEC5"
                              ]
                            ]
                          }
                        ],
                        "label": "Topic 35",
                        "method": "update"
                      },
                      {
                        "args": [
                          {
                            "marker.color": [
                              [
                                "#B0BEC5",
                                "#B0BEC5",
                                "#B0BEC5",
                                "#B0BEC5",
                                "#B0BEC5",
                                "#B0BEC5",
                                "#B0BEC5",
                                "#B0BEC5",
                                "#B0BEC5",
                                "#B0BEC5",
                                "#B0BEC5",
                                "#B0BEC5",
                                "#B0BEC5",
                                "#B0BEC5",
                                "#B0BEC5",
                                "#B0BEC5",
                                "#B0BEC5",
                                "#B0BEC5",
                                "#B0BEC5",
                                "#B0BEC5",
                                "#B0BEC5",
                                "#B0BEC5",
                                "#B0BEC5",
                                "#B0BEC5",
                                "#B0BEC5",
                                "#B0BEC5",
                                "#B0BEC5",
                                "#B0BEC5",
                                "#B0BEC5",
                                "#B0BEC5",
                                "#B0BEC5",
                                "#B0BEC5",
                                "#B0BEC5",
                                "#B0BEC5",
                                "#B0BEC5",
                                "#B0BEC5",
                                "red",
                                "#B0BEC5",
                                "#B0BEC5",
                                "#B0BEC5",
                                "#B0BEC5",
                                "#B0BEC5",
                                "#B0BEC5",
                                "#B0BEC5",
                                "#B0BEC5",
                                "#B0BEC5",
                                "#B0BEC5",
                                "#B0BEC5",
                                "#B0BEC5",
                                "#B0BEC5",
                                "#B0BEC5",
                                "#B0BEC5",
                                "#B0BEC5",
                                "#B0BEC5"
                              ]
                            ]
                          }
                        ],
                        "label": "Topic 36",
                        "method": "update"
                      },
                      {
                        "args": [
                          {
                            "marker.color": [
                              [
                                "#B0BEC5",
                                "#B0BEC5",
                                "#B0BEC5",
                                "#B0BEC5",
                                "#B0BEC5",
                                "#B0BEC5",
                                "#B0BEC5",
                                "#B0BEC5",
                                "#B0BEC5",
                                "#B0BEC5",
                                "#B0BEC5",
                                "#B0BEC5",
                                "#B0BEC5",
                                "#B0BEC5",
                                "#B0BEC5",
                                "#B0BEC5",
                                "#B0BEC5",
                                "#B0BEC5",
                                "#B0BEC5",
                                "#B0BEC5",
                                "#B0BEC5",
                                "#B0BEC5",
                                "#B0BEC5",
                                "#B0BEC5",
                                "#B0BEC5",
                                "#B0BEC5",
                                "#B0BEC5",
                                "#B0BEC5",
                                "#B0BEC5",
                                "#B0BEC5",
                                "#B0BEC5",
                                "#B0BEC5",
                                "#B0BEC5",
                                "#B0BEC5",
                                "#B0BEC5",
                                "#B0BEC5",
                                "#B0BEC5",
                                "red",
                                "#B0BEC5",
                                "#B0BEC5",
                                "#B0BEC5",
                                "#B0BEC5",
                                "#B0BEC5",
                                "#B0BEC5",
                                "#B0BEC5",
                                "#B0BEC5",
                                "#B0BEC5",
                                "#B0BEC5",
                                "#B0BEC5",
                                "#B0BEC5",
                                "#B0BEC5",
                                "#B0BEC5",
                                "#B0BEC5",
                                "#B0BEC5"
                              ]
                            ]
                          }
                        ],
                        "label": "Topic 37",
                        "method": "update"
                      },
                      {
                        "args": [
                          {
                            "marker.color": [
                              [
                                "#B0BEC5",
                                "#B0BEC5",
                                "#B0BEC5",
                                "#B0BEC5",
                                "#B0BEC5",
                                "#B0BEC5",
                                "#B0BEC5",
                                "#B0BEC5",
                                "#B0BEC5",
                                "#B0BEC5",
                                "#B0BEC5",
                                "#B0BEC5",
                                "#B0BEC5",
                                "#B0BEC5",
                                "#B0BEC5",
                                "#B0BEC5",
                                "#B0BEC5",
                                "#B0BEC5",
                                "#B0BEC5",
                                "#B0BEC5",
                                "#B0BEC5",
                                "#B0BEC5",
                                "#B0BEC5",
                                "#B0BEC5",
                                "#B0BEC5",
                                "#B0BEC5",
                                "#B0BEC5",
                                "#B0BEC5",
                                "#B0BEC5",
                                "#B0BEC5",
                                "#B0BEC5",
                                "#B0BEC5",
                                "#B0BEC5",
                                "#B0BEC5",
                                "#B0BEC5",
                                "#B0BEC5",
                                "#B0BEC5",
                                "#B0BEC5",
                                "red",
                                "#B0BEC5",
                                "#B0BEC5",
                                "#B0BEC5",
                                "#B0BEC5",
                                "#B0BEC5",
                                "#B0BEC5",
                                "#B0BEC5",
                                "#B0BEC5",
                                "#B0BEC5",
                                "#B0BEC5",
                                "#B0BEC5",
                                "#B0BEC5",
                                "#B0BEC5",
                                "#B0BEC5",
                                "#B0BEC5"
                              ]
                            ]
                          }
                        ],
                        "label": "Topic 38",
                        "method": "update"
                      },
                      {
                        "args": [
                          {
                            "marker.color": [
                              [
                                "#B0BEC5",
                                "#B0BEC5",
                                "#B0BEC5",
                                "#B0BEC5",
                                "#B0BEC5",
                                "#B0BEC5",
                                "#B0BEC5",
                                "#B0BEC5",
                                "#B0BEC5",
                                "#B0BEC5",
                                "#B0BEC5",
                                "#B0BEC5",
                                "#B0BEC5",
                                "#B0BEC5",
                                "#B0BEC5",
                                "#B0BEC5",
                                "#B0BEC5",
                                "#B0BEC5",
                                "#B0BEC5",
                                "#B0BEC5",
                                "#B0BEC5",
                                "#B0BEC5",
                                "#B0BEC5",
                                "#B0BEC5",
                                "#B0BEC5",
                                "#B0BEC5",
                                "#B0BEC5",
                                "#B0BEC5",
                                "#B0BEC5",
                                "#B0BEC5",
                                "#B0BEC5",
                                "#B0BEC5",
                                "#B0BEC5",
                                "#B0BEC5",
                                "#B0BEC5",
                                "#B0BEC5",
                                "#B0BEC5",
                                "#B0BEC5",
                                "#B0BEC5",
                                "red",
                                "#B0BEC5",
                                "#B0BEC5",
                                "#B0BEC5",
                                "#B0BEC5",
                                "#B0BEC5",
                                "#B0BEC5",
                                "#B0BEC5",
                                "#B0BEC5",
                                "#B0BEC5",
                                "#B0BEC5",
                                "#B0BEC5",
                                "#B0BEC5",
                                "#B0BEC5",
                                "#B0BEC5"
                              ]
                            ]
                          }
                        ],
                        "label": "Topic 39",
                        "method": "update"
                      },
                      {
                        "args": [
                          {
                            "marker.color": [
                              [
                                "#B0BEC5",
                                "#B0BEC5",
                                "#B0BEC5",
                                "#B0BEC5",
                                "#B0BEC5",
                                "#B0BEC5",
                                "#B0BEC5",
                                "#B0BEC5",
                                "#B0BEC5",
                                "#B0BEC5",
                                "#B0BEC5",
                                "#B0BEC5",
                                "#B0BEC5",
                                "#B0BEC5",
                                "#B0BEC5",
                                "#B0BEC5",
                                "#B0BEC5",
                                "#B0BEC5",
                                "#B0BEC5",
                                "#B0BEC5",
                                "#B0BEC5",
                                "#B0BEC5",
                                "#B0BEC5",
                                "#B0BEC5",
                                "#B0BEC5",
                                "#B0BEC5",
                                "#B0BEC5",
                                "#B0BEC5",
                                "#B0BEC5",
                                "#B0BEC5",
                                "#B0BEC5",
                                "#B0BEC5",
                                "#B0BEC5",
                                "#B0BEC5",
                                "#B0BEC5",
                                "#B0BEC5",
                                "#B0BEC5",
                                "#B0BEC5",
                                "#B0BEC5",
                                "#B0BEC5",
                                "red",
                                "#B0BEC5",
                                "#B0BEC5",
                                "#B0BEC5",
                                "#B0BEC5",
                                "#B0BEC5",
                                "#B0BEC5",
                                "#B0BEC5",
                                "#B0BEC5",
                                "#B0BEC5",
                                "#B0BEC5",
                                "#B0BEC5",
                                "#B0BEC5",
                                "#B0BEC5"
                              ]
                            ]
                          }
                        ],
                        "label": "Topic 40",
                        "method": "update"
                      },
                      {
                        "args": [
                          {
                            "marker.color": [
                              [
                                "#B0BEC5",
                                "#B0BEC5",
                                "#B0BEC5",
                                "#B0BEC5",
                                "#B0BEC5",
                                "#B0BEC5",
                                "#B0BEC5",
                                "#B0BEC5",
                                "#B0BEC5",
                                "#B0BEC5",
                                "#B0BEC5",
                                "#B0BEC5",
                                "#B0BEC5",
                                "#B0BEC5",
                                "#B0BEC5",
                                "#B0BEC5",
                                "#B0BEC5",
                                "#B0BEC5",
                                "#B0BEC5",
                                "#B0BEC5",
                                "#B0BEC5",
                                "#B0BEC5",
                                "#B0BEC5",
                                "#B0BEC5",
                                "#B0BEC5",
                                "#B0BEC5",
                                "#B0BEC5",
                                "#B0BEC5",
                                "#B0BEC5",
                                "#B0BEC5",
                                "#B0BEC5",
                                "#B0BEC5",
                                "#B0BEC5",
                                "#B0BEC5",
                                "#B0BEC5",
                                "#B0BEC5",
                                "#B0BEC5",
                                "#B0BEC5",
                                "#B0BEC5",
                                "#B0BEC5",
                                "#B0BEC5",
                                "red",
                                "#B0BEC5",
                                "#B0BEC5",
                                "#B0BEC5",
                                "#B0BEC5",
                                "#B0BEC5",
                                "#B0BEC5",
                                "#B0BEC5",
                                "#B0BEC5",
                                "#B0BEC5",
                                "#B0BEC5",
                                "#B0BEC5",
                                "#B0BEC5"
                              ]
                            ]
                          }
                        ],
                        "label": "Topic 41",
                        "method": "update"
                      },
                      {
                        "args": [
                          {
                            "marker.color": [
                              [
                                "#B0BEC5",
                                "#B0BEC5",
                                "#B0BEC5",
                                "#B0BEC5",
                                "#B0BEC5",
                                "#B0BEC5",
                                "#B0BEC5",
                                "#B0BEC5",
                                "#B0BEC5",
                                "#B0BEC5",
                                "#B0BEC5",
                                "#B0BEC5",
                                "#B0BEC5",
                                "#B0BEC5",
                                "#B0BEC5",
                                "#B0BEC5",
                                "#B0BEC5",
                                "#B0BEC5",
                                "#B0BEC5",
                                "#B0BEC5",
                                "#B0BEC5",
                                "#B0BEC5",
                                "#B0BEC5",
                                "#B0BEC5",
                                "#B0BEC5",
                                "#B0BEC5",
                                "#B0BEC5",
                                "#B0BEC5",
                                "#B0BEC5",
                                "#B0BEC5",
                                "#B0BEC5",
                                "#B0BEC5",
                                "#B0BEC5",
                                "#B0BEC5",
                                "#B0BEC5",
                                "#B0BEC5",
                                "#B0BEC5",
                                "#B0BEC5",
                                "#B0BEC5",
                                "#B0BEC5",
                                "#B0BEC5",
                                "#B0BEC5",
                                "red",
                                "#B0BEC5",
                                "#B0BEC5",
                                "#B0BEC5",
                                "#B0BEC5",
                                "#B0BEC5",
                                "#B0BEC5",
                                "#B0BEC5",
                                "#B0BEC5",
                                "#B0BEC5",
                                "#B0BEC5",
                                "#B0BEC5"
                              ]
                            ]
                          }
                        ],
                        "label": "Topic 42",
                        "method": "update"
                      },
                      {
                        "args": [
                          {
                            "marker.color": [
                              [
                                "#B0BEC5",
                                "#B0BEC5",
                                "#B0BEC5",
                                "#B0BEC5",
                                "#B0BEC5",
                                "#B0BEC5",
                                "#B0BEC5",
                                "#B0BEC5",
                                "#B0BEC5",
                                "#B0BEC5",
                                "#B0BEC5",
                                "#B0BEC5",
                                "#B0BEC5",
                                "#B0BEC5",
                                "#B0BEC5",
                                "#B0BEC5",
                                "#B0BEC5",
                                "#B0BEC5",
                                "#B0BEC5",
                                "#B0BEC5",
                                "#B0BEC5",
                                "#B0BEC5",
                                "#B0BEC5",
                                "#B0BEC5",
                                "#B0BEC5",
                                "#B0BEC5",
                                "#B0BEC5",
                                "#B0BEC5",
                                "#B0BEC5",
                                "#B0BEC5",
                                "#B0BEC5",
                                "#B0BEC5",
                                "#B0BEC5",
                                "#B0BEC5",
                                "#B0BEC5",
                                "#B0BEC5",
                                "#B0BEC5",
                                "#B0BEC5",
                                "#B0BEC5",
                                "#B0BEC5",
                                "#B0BEC5",
                                "#B0BEC5",
                                "#B0BEC5",
                                "red",
                                "#B0BEC5",
                                "#B0BEC5",
                                "#B0BEC5",
                                "#B0BEC5",
                                "#B0BEC5",
                                "#B0BEC5",
                                "#B0BEC5",
                                "#B0BEC5",
                                "#B0BEC5",
                                "#B0BEC5"
                              ]
                            ]
                          }
                        ],
                        "label": "Topic 43",
                        "method": "update"
                      },
                      {
                        "args": [
                          {
                            "marker.color": [
                              [
                                "#B0BEC5",
                                "#B0BEC5",
                                "#B0BEC5",
                                "#B0BEC5",
                                "#B0BEC5",
                                "#B0BEC5",
                                "#B0BEC5",
                                "#B0BEC5",
                                "#B0BEC5",
                                "#B0BEC5",
                                "#B0BEC5",
                                "#B0BEC5",
                                "#B0BEC5",
                                "#B0BEC5",
                                "#B0BEC5",
                                "#B0BEC5",
                                "#B0BEC5",
                                "#B0BEC5",
                                "#B0BEC5",
                                "#B0BEC5",
                                "#B0BEC5",
                                "#B0BEC5",
                                "#B0BEC5",
                                "#B0BEC5",
                                "#B0BEC5",
                                "#B0BEC5",
                                "#B0BEC5",
                                "#B0BEC5",
                                "#B0BEC5",
                                "#B0BEC5",
                                "#B0BEC5",
                                "#B0BEC5",
                                "#B0BEC5",
                                "#B0BEC5",
                                "#B0BEC5",
                                "#B0BEC5",
                                "#B0BEC5",
                                "#B0BEC5",
                                "#B0BEC5",
                                "#B0BEC5",
                                "#B0BEC5",
                                "#B0BEC5",
                                "#B0BEC5",
                                "#B0BEC5",
                                "red",
                                "#B0BEC5",
                                "#B0BEC5",
                                "#B0BEC5",
                                "#B0BEC5",
                                "#B0BEC5",
                                "#B0BEC5",
                                "#B0BEC5",
                                "#B0BEC5",
                                "#B0BEC5"
                              ]
                            ]
                          }
                        ],
                        "label": "Topic 44",
                        "method": "update"
                      },
                      {
                        "args": [
                          {
                            "marker.color": [
                              [
                                "#B0BEC5",
                                "#B0BEC5",
                                "#B0BEC5",
                                "#B0BEC5",
                                "#B0BEC5",
                                "#B0BEC5",
                                "#B0BEC5",
                                "#B0BEC5",
                                "#B0BEC5",
                                "#B0BEC5",
                                "#B0BEC5",
                                "#B0BEC5",
                                "#B0BEC5",
                                "#B0BEC5",
                                "#B0BEC5",
                                "#B0BEC5",
                                "#B0BEC5",
                                "#B0BEC5",
                                "#B0BEC5",
                                "#B0BEC5",
                                "#B0BEC5",
                                "#B0BEC5",
                                "#B0BEC5",
                                "#B0BEC5",
                                "#B0BEC5",
                                "#B0BEC5",
                                "#B0BEC5",
                                "#B0BEC5",
                                "#B0BEC5",
                                "#B0BEC5",
                                "#B0BEC5",
                                "#B0BEC5",
                                "#B0BEC5",
                                "#B0BEC5",
                                "#B0BEC5",
                                "#B0BEC5",
                                "#B0BEC5",
                                "#B0BEC5",
                                "#B0BEC5",
                                "#B0BEC5",
                                "#B0BEC5",
                                "#B0BEC5",
                                "#B0BEC5",
                                "#B0BEC5",
                                "#B0BEC5",
                                "red",
                                "#B0BEC5",
                                "#B0BEC5",
                                "#B0BEC5",
                                "#B0BEC5",
                                "#B0BEC5",
                                "#B0BEC5",
                                "#B0BEC5",
                                "#B0BEC5"
                              ]
                            ]
                          }
                        ],
                        "label": "Topic 45",
                        "method": "update"
                      },
                      {
                        "args": [
                          {
                            "marker.color": [
                              [
                                "#B0BEC5",
                                "#B0BEC5",
                                "#B0BEC5",
                                "#B0BEC5",
                                "#B0BEC5",
                                "#B0BEC5",
                                "#B0BEC5",
                                "#B0BEC5",
                                "#B0BEC5",
                                "#B0BEC5",
                                "#B0BEC5",
                                "#B0BEC5",
                                "#B0BEC5",
                                "#B0BEC5",
                                "#B0BEC5",
                                "#B0BEC5",
                                "#B0BEC5",
                                "#B0BEC5",
                                "#B0BEC5",
                                "#B0BEC5",
                                "#B0BEC5",
                                "#B0BEC5",
                                "#B0BEC5",
                                "#B0BEC5",
                                "#B0BEC5",
                                "#B0BEC5",
                                "#B0BEC5",
                                "#B0BEC5",
                                "#B0BEC5",
                                "#B0BEC5",
                                "#B0BEC5",
                                "#B0BEC5",
                                "#B0BEC5",
                                "#B0BEC5",
                                "#B0BEC5",
                                "#B0BEC5",
                                "#B0BEC5",
                                "#B0BEC5",
                                "#B0BEC5",
                                "#B0BEC5",
                                "#B0BEC5",
                                "#B0BEC5",
                                "#B0BEC5",
                                "#B0BEC5",
                                "#B0BEC5",
                                "#B0BEC5",
                                "red",
                                "#B0BEC5",
                                "#B0BEC5",
                                "#B0BEC5",
                                "#B0BEC5",
                                "#B0BEC5",
                                "#B0BEC5",
                                "#B0BEC5"
                              ]
                            ]
                          }
                        ],
                        "label": "Topic 46",
                        "method": "update"
                      },
                      {
                        "args": [
                          {
                            "marker.color": [
                              [
                                "#B0BEC5",
                                "#B0BEC5",
                                "#B0BEC5",
                                "#B0BEC5",
                                "#B0BEC5",
                                "#B0BEC5",
                                "#B0BEC5",
                                "#B0BEC5",
                                "#B0BEC5",
                                "#B0BEC5",
                                "#B0BEC5",
                                "#B0BEC5",
                                "#B0BEC5",
                                "#B0BEC5",
                                "#B0BEC5",
                                "#B0BEC5",
                                "#B0BEC5",
                                "#B0BEC5",
                                "#B0BEC5",
                                "#B0BEC5",
                                "#B0BEC5",
                                "#B0BEC5",
                                "#B0BEC5",
                                "#B0BEC5",
                                "#B0BEC5",
                                "#B0BEC5",
                                "#B0BEC5",
                                "#B0BEC5",
                                "#B0BEC5",
                                "#B0BEC5",
                                "#B0BEC5",
                                "#B0BEC5",
                                "#B0BEC5",
                                "#B0BEC5",
                                "#B0BEC5",
                                "#B0BEC5",
                                "#B0BEC5",
                                "#B0BEC5",
                                "#B0BEC5",
                                "#B0BEC5",
                                "#B0BEC5",
                                "#B0BEC5",
                                "#B0BEC5",
                                "#B0BEC5",
                                "#B0BEC5",
                                "#B0BEC5",
                                "#B0BEC5",
                                "red",
                                "#B0BEC5",
                                "#B0BEC5",
                                "#B0BEC5",
                                "#B0BEC5",
                                "#B0BEC5",
                                "#B0BEC5"
                              ]
                            ]
                          }
                        ],
                        "label": "Topic 47",
                        "method": "update"
                      },
                      {
                        "args": [
                          {
                            "marker.color": [
                              [
                                "#B0BEC5",
                                "#B0BEC5",
                                "#B0BEC5",
                                "#B0BEC5",
                                "#B0BEC5",
                                "#B0BEC5",
                                "#B0BEC5",
                                "#B0BEC5",
                                "#B0BEC5",
                                "#B0BEC5",
                                "#B0BEC5",
                                "#B0BEC5",
                                "#B0BEC5",
                                "#B0BEC5",
                                "#B0BEC5",
                                "#B0BEC5",
                                "#B0BEC5",
                                "#B0BEC5",
                                "#B0BEC5",
                                "#B0BEC5",
                                "#B0BEC5",
                                "#B0BEC5",
                                "#B0BEC5",
                                "#B0BEC5",
                                "#B0BEC5",
                                "#B0BEC5",
                                "#B0BEC5",
                                "#B0BEC5",
                                "#B0BEC5",
                                "#B0BEC5",
                                "#B0BEC5",
                                "#B0BEC5",
                                "#B0BEC5",
                                "#B0BEC5",
                                "#B0BEC5",
                                "#B0BEC5",
                                "#B0BEC5",
                                "#B0BEC5",
                                "#B0BEC5",
                                "#B0BEC5",
                                "#B0BEC5",
                                "#B0BEC5",
                                "#B0BEC5",
                                "#B0BEC5",
                                "#B0BEC5",
                                "#B0BEC5",
                                "#B0BEC5",
                                "#B0BEC5",
                                "red",
                                "#B0BEC5",
                                "#B0BEC5",
                                "#B0BEC5",
                                "#B0BEC5",
                                "#B0BEC5"
                              ]
                            ]
                          }
                        ],
                        "label": "Topic 48",
                        "method": "update"
                      },
                      {
                        "args": [
                          {
                            "marker.color": [
                              [
                                "#B0BEC5",
                                "#B0BEC5",
                                "#B0BEC5",
                                "#B0BEC5",
                                "#B0BEC5",
                                "#B0BEC5",
                                "#B0BEC5",
                                "#B0BEC5",
                                "#B0BEC5",
                                "#B0BEC5",
                                "#B0BEC5",
                                "#B0BEC5",
                                "#B0BEC5",
                                "#B0BEC5",
                                "#B0BEC5",
                                "#B0BEC5",
                                "#B0BEC5",
                                "#B0BEC5",
                                "#B0BEC5",
                                "#B0BEC5",
                                "#B0BEC5",
                                "#B0BEC5",
                                "#B0BEC5",
                                "#B0BEC5",
                                "#B0BEC5",
                                "#B0BEC5",
                                "#B0BEC5",
                                "#B0BEC5",
                                "#B0BEC5",
                                "#B0BEC5",
                                "#B0BEC5",
                                "#B0BEC5",
                                "#B0BEC5",
                                "#B0BEC5",
                                "#B0BEC5",
                                "#B0BEC5",
                                "#B0BEC5",
                                "#B0BEC5",
                                "#B0BEC5",
                                "#B0BEC5",
                                "#B0BEC5",
                                "#B0BEC5",
                                "#B0BEC5",
                                "#B0BEC5",
                                "#B0BEC5",
                                "#B0BEC5",
                                "#B0BEC5",
                                "#B0BEC5",
                                "#B0BEC5",
                                "red",
                                "#B0BEC5",
                                "#B0BEC5",
                                "#B0BEC5",
                                "#B0BEC5"
                              ]
                            ]
                          }
                        ],
                        "label": "Topic 49",
                        "method": "update"
                      },
                      {
                        "args": [
                          {
                            "marker.color": [
                              [
                                "#B0BEC5",
                                "#B0BEC5",
                                "#B0BEC5",
                                "#B0BEC5",
                                "#B0BEC5",
                                "#B0BEC5",
                                "#B0BEC5",
                                "#B0BEC5",
                                "#B0BEC5",
                                "#B0BEC5",
                                "#B0BEC5",
                                "#B0BEC5",
                                "#B0BEC5",
                                "#B0BEC5",
                                "#B0BEC5",
                                "#B0BEC5",
                                "#B0BEC5",
                                "#B0BEC5",
                                "#B0BEC5",
                                "#B0BEC5",
                                "#B0BEC5",
                                "#B0BEC5",
                                "#B0BEC5",
                                "#B0BEC5",
                                "#B0BEC5",
                                "#B0BEC5",
                                "#B0BEC5",
                                "#B0BEC5",
                                "#B0BEC5",
                                "#B0BEC5",
                                "#B0BEC5",
                                "#B0BEC5",
                                "#B0BEC5",
                                "#B0BEC5",
                                "#B0BEC5",
                                "#B0BEC5",
                                "#B0BEC5",
                                "#B0BEC5",
                                "#B0BEC5",
                                "#B0BEC5",
                                "#B0BEC5",
                                "#B0BEC5",
                                "#B0BEC5",
                                "#B0BEC5",
                                "#B0BEC5",
                                "#B0BEC5",
                                "#B0BEC5",
                                "#B0BEC5",
                                "#B0BEC5",
                                "#B0BEC5",
                                "red",
                                "#B0BEC5",
                                "#B0BEC5",
                                "#B0BEC5"
                              ]
                            ]
                          }
                        ],
                        "label": "Topic 50",
                        "method": "update"
                      },
                      {
                        "args": [
                          {
                            "marker.color": [
                              [
                                "#B0BEC5",
                                "#B0BEC5",
                                "#B0BEC5",
                                "#B0BEC5",
                                "#B0BEC5",
                                "#B0BEC5",
                                "#B0BEC5",
                                "#B0BEC5",
                                "#B0BEC5",
                                "#B0BEC5",
                                "#B0BEC5",
                                "#B0BEC5",
                                "#B0BEC5",
                                "#B0BEC5",
                                "#B0BEC5",
                                "#B0BEC5",
                                "#B0BEC5",
                                "#B0BEC5",
                                "#B0BEC5",
                                "#B0BEC5",
                                "#B0BEC5",
                                "#B0BEC5",
                                "#B0BEC5",
                                "#B0BEC5",
                                "#B0BEC5",
                                "#B0BEC5",
                                "#B0BEC5",
                                "#B0BEC5",
                                "#B0BEC5",
                                "#B0BEC5",
                                "#B0BEC5",
                                "#B0BEC5",
                                "#B0BEC5",
                                "#B0BEC5",
                                "#B0BEC5",
                                "#B0BEC5",
                                "#B0BEC5",
                                "#B0BEC5",
                                "#B0BEC5",
                                "#B0BEC5",
                                "#B0BEC5",
                                "#B0BEC5",
                                "#B0BEC5",
                                "#B0BEC5",
                                "#B0BEC5",
                                "#B0BEC5",
                                "#B0BEC5",
                                "#B0BEC5",
                                "#B0BEC5",
                                "#B0BEC5",
                                "#B0BEC5",
                                "red",
                                "#B0BEC5",
                                "#B0BEC5"
                              ]
                            ]
                          }
                        ],
                        "label": "Topic 51",
                        "method": "update"
                      },
                      {
                        "args": [
                          {
                            "marker.color": [
                              [
                                "#B0BEC5",
                                "#B0BEC5",
                                "#B0BEC5",
                                "#B0BEC5",
                                "#B0BEC5",
                                "#B0BEC5",
                                "#B0BEC5",
                                "#B0BEC5",
                                "#B0BEC5",
                                "#B0BEC5",
                                "#B0BEC5",
                                "#B0BEC5",
                                "#B0BEC5",
                                "#B0BEC5",
                                "#B0BEC5",
                                "#B0BEC5",
                                "#B0BEC5",
                                "#B0BEC5",
                                "#B0BEC5",
                                "#B0BEC5",
                                "#B0BEC5",
                                "#B0BEC5",
                                "#B0BEC5",
                                "#B0BEC5",
                                "#B0BEC5",
                                "#B0BEC5",
                                "#B0BEC5",
                                "#B0BEC5",
                                "#B0BEC5",
                                "#B0BEC5",
                                "#B0BEC5",
                                "#B0BEC5",
                                "#B0BEC5",
                                "#B0BEC5",
                                "#B0BEC5",
                                "#B0BEC5",
                                "#B0BEC5",
                                "#B0BEC5",
                                "#B0BEC5",
                                "#B0BEC5",
                                "#B0BEC5",
                                "#B0BEC5",
                                "#B0BEC5",
                                "#B0BEC5",
                                "#B0BEC5",
                                "#B0BEC5",
                                "#B0BEC5",
                                "#B0BEC5",
                                "#B0BEC5",
                                "#B0BEC5",
                                "#B0BEC5",
                                "#B0BEC5",
                                "red",
                                "#B0BEC5"
                              ]
                            ]
                          }
                        ],
                        "label": "Topic 52",
                        "method": "update"
                      },
                      {
                        "args": [
                          {
                            "marker.color": [
                              [
                                "#B0BEC5",
                                "#B0BEC5",
                                "#B0BEC5",
                                "#B0BEC5",
                                "#B0BEC5",
                                "#B0BEC5",
                                "#B0BEC5",
                                "#B0BEC5",
                                "#B0BEC5",
                                "#B0BEC5",
                                "#B0BEC5",
                                "#B0BEC5",
                                "#B0BEC5",
                                "#B0BEC5",
                                "#B0BEC5",
                                "#B0BEC5",
                                "#B0BEC5",
                                "#B0BEC5",
                                "#B0BEC5",
                                "#B0BEC5",
                                "#B0BEC5",
                                "#B0BEC5",
                                "#B0BEC5",
                                "#B0BEC5",
                                "#B0BEC5",
                                "#B0BEC5",
                                "#B0BEC5",
                                "#B0BEC5",
                                "#B0BEC5",
                                "#B0BEC5",
                                "#B0BEC5",
                                "#B0BEC5",
                                "#B0BEC5",
                                "#B0BEC5",
                                "#B0BEC5",
                                "#B0BEC5",
                                "#B0BEC5",
                                "#B0BEC5",
                                "#B0BEC5",
                                "#B0BEC5",
                                "#B0BEC5",
                                "#B0BEC5",
                                "#B0BEC5",
                                "#B0BEC5",
                                "#B0BEC5",
                                "#B0BEC5",
                                "#B0BEC5",
                                "#B0BEC5",
                                "#B0BEC5",
                                "#B0BEC5",
                                "#B0BEC5",
                                "#B0BEC5",
                                "#B0BEC5",
                                "red"
                              ]
                            ]
                          }
                        ],
                        "label": "Topic 53",
                        "method": "update"
                      }
                    ]
                  }
                ],
                "template": {
                  "data": {
                    "bar": [
                      {
                        "error_x": {
                          "color": "rgb(36,36,36)"
                        },
                        "error_y": {
                          "color": "rgb(36,36,36)"
                        },
                        "marker": {
                          "line": {
                            "color": "white",
                            "width": 0.5
                          },
                          "pattern": {
                            "fillmode": "overlay",
                            "size": 10,
                            "solidity": 0.2
                          }
                        },
                        "type": "bar"
                      }
                    ],
                    "barpolar": [
                      {
                        "marker": {
                          "line": {
                            "color": "white",
                            "width": 0.5
                          },
                          "pattern": {
                            "fillmode": "overlay",
                            "size": 10,
                            "solidity": 0.2
                          }
                        },
                        "type": "barpolar"
                      }
                    ],
                    "carpet": [
                      {
                        "aaxis": {
                          "endlinecolor": "rgb(36,36,36)",
                          "gridcolor": "white",
                          "linecolor": "white",
                          "minorgridcolor": "white",
                          "startlinecolor": "rgb(36,36,36)"
                        },
                        "baxis": {
                          "endlinecolor": "rgb(36,36,36)",
                          "gridcolor": "white",
                          "linecolor": "white",
                          "minorgridcolor": "white",
                          "startlinecolor": "rgb(36,36,36)"
                        },
                        "type": "carpet"
                      }
                    ],
                    "choropleth": [
                      {
                        "colorbar": {
                          "outlinewidth": 1,
                          "tickcolor": "rgb(36,36,36)",
                          "ticks": "outside"
                        },
                        "type": "choropleth"
                      }
                    ],
                    "contour": [
                      {
                        "colorbar": {
                          "outlinewidth": 1,
                          "tickcolor": "rgb(36,36,36)",
                          "ticks": "outside"
                        },
                        "colorscale": [
                          [
                            0,
                            "#440154"
                          ],
                          [
                            0.1111111111111111,
                            "#482878"
                          ],
                          [
                            0.2222222222222222,
                            "#3e4989"
                          ],
                          [
                            0.3333333333333333,
                            "#31688e"
                          ],
                          [
                            0.4444444444444444,
                            "#26828e"
                          ],
                          [
                            0.5555555555555556,
                            "#1f9e89"
                          ],
                          [
                            0.6666666666666666,
                            "#35b779"
                          ],
                          [
                            0.7777777777777778,
                            "#6ece58"
                          ],
                          [
                            0.8888888888888888,
                            "#b5de2b"
                          ],
                          [
                            1,
                            "#fde725"
                          ]
                        ],
                        "type": "contour"
                      }
                    ],
                    "contourcarpet": [
                      {
                        "colorbar": {
                          "outlinewidth": 1,
                          "tickcolor": "rgb(36,36,36)",
                          "ticks": "outside"
                        },
                        "type": "contourcarpet"
                      }
                    ],
                    "heatmap": [
                      {
                        "colorbar": {
                          "outlinewidth": 1,
                          "tickcolor": "rgb(36,36,36)",
                          "ticks": "outside"
                        },
                        "colorscale": [
                          [
                            0,
                            "#440154"
                          ],
                          [
                            0.1111111111111111,
                            "#482878"
                          ],
                          [
                            0.2222222222222222,
                            "#3e4989"
                          ],
                          [
                            0.3333333333333333,
                            "#31688e"
                          ],
                          [
                            0.4444444444444444,
                            "#26828e"
                          ],
                          [
                            0.5555555555555556,
                            "#1f9e89"
                          ],
                          [
                            0.6666666666666666,
                            "#35b779"
                          ],
                          [
                            0.7777777777777778,
                            "#6ece58"
                          ],
                          [
                            0.8888888888888888,
                            "#b5de2b"
                          ],
                          [
                            1,
                            "#fde725"
                          ]
                        ],
                        "type": "heatmap"
                      }
                    ],
                    "heatmapgl": [
                      {
                        "colorbar": {
                          "outlinewidth": 1,
                          "tickcolor": "rgb(36,36,36)",
                          "ticks": "outside"
                        },
                        "colorscale": [
                          [
                            0,
                            "#440154"
                          ],
                          [
                            0.1111111111111111,
                            "#482878"
                          ],
                          [
                            0.2222222222222222,
                            "#3e4989"
                          ],
                          [
                            0.3333333333333333,
                            "#31688e"
                          ],
                          [
                            0.4444444444444444,
                            "#26828e"
                          ],
                          [
                            0.5555555555555556,
                            "#1f9e89"
                          ],
                          [
                            0.6666666666666666,
                            "#35b779"
                          ],
                          [
                            0.7777777777777778,
                            "#6ece58"
                          ],
                          [
                            0.8888888888888888,
                            "#b5de2b"
                          ],
                          [
                            1,
                            "#fde725"
                          ]
                        ],
                        "type": "heatmapgl"
                      }
                    ],
                    "histogram": [
                      {
                        "marker": {
                          "line": {
                            "color": "white",
                            "width": 0.6
                          }
                        },
                        "type": "histogram"
                      }
                    ],
                    "histogram2d": [
                      {
                        "colorbar": {
                          "outlinewidth": 1,
                          "tickcolor": "rgb(36,36,36)",
                          "ticks": "outside"
                        },
                        "colorscale": [
                          [
                            0,
                            "#440154"
                          ],
                          [
                            0.1111111111111111,
                            "#482878"
                          ],
                          [
                            0.2222222222222222,
                            "#3e4989"
                          ],
                          [
                            0.3333333333333333,
                            "#31688e"
                          ],
                          [
                            0.4444444444444444,
                            "#26828e"
                          ],
                          [
                            0.5555555555555556,
                            "#1f9e89"
                          ],
                          [
                            0.6666666666666666,
                            "#35b779"
                          ],
                          [
                            0.7777777777777778,
                            "#6ece58"
                          ],
                          [
                            0.8888888888888888,
                            "#b5de2b"
                          ],
                          [
                            1,
                            "#fde725"
                          ]
                        ],
                        "type": "histogram2d"
                      }
                    ],
                    "histogram2dcontour": [
                      {
                        "colorbar": {
                          "outlinewidth": 1,
                          "tickcolor": "rgb(36,36,36)",
                          "ticks": "outside"
                        },
                        "colorscale": [
                          [
                            0,
                            "#440154"
                          ],
                          [
                            0.1111111111111111,
                            "#482878"
                          ],
                          [
                            0.2222222222222222,
                            "#3e4989"
                          ],
                          [
                            0.3333333333333333,
                            "#31688e"
                          ],
                          [
                            0.4444444444444444,
                            "#26828e"
                          ],
                          [
                            0.5555555555555556,
                            "#1f9e89"
                          ],
                          [
                            0.6666666666666666,
                            "#35b779"
                          ],
                          [
                            0.7777777777777778,
                            "#6ece58"
                          ],
                          [
                            0.8888888888888888,
                            "#b5de2b"
                          ],
                          [
                            1,
                            "#fde725"
                          ]
                        ],
                        "type": "histogram2dcontour"
                      }
                    ],
                    "mesh3d": [
                      {
                        "colorbar": {
                          "outlinewidth": 1,
                          "tickcolor": "rgb(36,36,36)",
                          "ticks": "outside"
                        },
                        "type": "mesh3d"
                      }
                    ],
                    "parcoords": [
                      {
                        "line": {
                          "colorbar": {
                            "outlinewidth": 1,
                            "tickcolor": "rgb(36,36,36)",
                            "ticks": "outside"
                          }
                        },
                        "type": "parcoords"
                      }
                    ],
                    "pie": [
                      {
                        "automargin": true,
                        "type": "pie"
                      }
                    ],
                    "scatter": [
                      {
                        "fillpattern": {
                          "fillmode": "overlay",
                          "size": 10,
                          "solidity": 0.2
                        },
                        "type": "scatter"
                      }
                    ],
                    "scatter3d": [
                      {
                        "line": {
                          "colorbar": {
                            "outlinewidth": 1,
                            "tickcolor": "rgb(36,36,36)",
                            "ticks": "outside"
                          }
                        },
                        "marker": {
                          "colorbar": {
                            "outlinewidth": 1,
                            "tickcolor": "rgb(36,36,36)",
                            "ticks": "outside"
                          }
                        },
                        "type": "scatter3d"
                      }
                    ],
                    "scattercarpet": [
                      {
                        "marker": {
                          "colorbar": {
                            "outlinewidth": 1,
                            "tickcolor": "rgb(36,36,36)",
                            "ticks": "outside"
                          }
                        },
                        "type": "scattercarpet"
                      }
                    ],
                    "scattergeo": [
                      {
                        "marker": {
                          "colorbar": {
                            "outlinewidth": 1,
                            "tickcolor": "rgb(36,36,36)",
                            "ticks": "outside"
                          }
                        },
                        "type": "scattergeo"
                      }
                    ],
                    "scattergl": [
                      {
                        "marker": {
                          "colorbar": {
                            "outlinewidth": 1,
                            "tickcolor": "rgb(36,36,36)",
                            "ticks": "outside"
                          }
                        },
                        "type": "scattergl"
                      }
                    ],
                    "scattermapbox": [
                      {
                        "marker": {
                          "colorbar": {
                            "outlinewidth": 1,
                            "tickcolor": "rgb(36,36,36)",
                            "ticks": "outside"
                          }
                        },
                        "type": "scattermapbox"
                      }
                    ],
                    "scatterpolar": [
                      {
                        "marker": {
                          "colorbar": {
                            "outlinewidth": 1,
                            "tickcolor": "rgb(36,36,36)",
                            "ticks": "outside"
                          }
                        },
                        "type": "scatterpolar"
                      }
                    ],
                    "scatterpolargl": [
                      {
                        "marker": {
                          "colorbar": {
                            "outlinewidth": 1,
                            "tickcolor": "rgb(36,36,36)",
                            "ticks": "outside"
                          }
                        },
                        "type": "scatterpolargl"
                      }
                    ],
                    "scatterternary": [
                      {
                        "marker": {
                          "colorbar": {
                            "outlinewidth": 1,
                            "tickcolor": "rgb(36,36,36)",
                            "ticks": "outside"
                          }
                        },
                        "type": "scatterternary"
                      }
                    ],
                    "surface": [
                      {
                        "colorbar": {
                          "outlinewidth": 1,
                          "tickcolor": "rgb(36,36,36)",
                          "ticks": "outside"
                        },
                        "colorscale": [
                          [
                            0,
                            "#440154"
                          ],
                          [
                            0.1111111111111111,
                            "#482878"
                          ],
                          [
                            0.2222222222222222,
                            "#3e4989"
                          ],
                          [
                            0.3333333333333333,
                            "#31688e"
                          ],
                          [
                            0.4444444444444444,
                            "#26828e"
                          ],
                          [
                            0.5555555555555556,
                            "#1f9e89"
                          ],
                          [
                            0.6666666666666666,
                            "#35b779"
                          ],
                          [
                            0.7777777777777778,
                            "#6ece58"
                          ],
                          [
                            0.8888888888888888,
                            "#b5de2b"
                          ],
                          [
                            1,
                            "#fde725"
                          ]
                        ],
                        "type": "surface"
                      }
                    ],
                    "table": [
                      {
                        "cells": {
                          "fill": {
                            "color": "rgb(237,237,237)"
                          },
                          "line": {
                            "color": "white"
                          }
                        },
                        "header": {
                          "fill": {
                            "color": "rgb(217,217,217)"
                          },
                          "line": {
                            "color": "white"
                          }
                        },
                        "type": "table"
                      }
                    ]
                  },
                  "layout": {
                    "annotationdefaults": {
                      "arrowhead": 0,
                      "arrowwidth": 1
                    },
                    "autotypenumbers": "strict",
                    "coloraxis": {
                      "colorbar": {
                        "outlinewidth": 1,
                        "tickcolor": "rgb(36,36,36)",
                        "ticks": "outside"
                      }
                    },
                    "colorscale": {
                      "diverging": [
                        [
                          0,
                          "rgb(103,0,31)"
                        ],
                        [
                          0.1,
                          "rgb(178,24,43)"
                        ],
                        [
                          0.2,
                          "rgb(214,96,77)"
                        ],
                        [
                          0.3,
                          "rgb(244,165,130)"
                        ],
                        [
                          0.4,
                          "rgb(253,219,199)"
                        ],
                        [
                          0.5,
                          "rgb(247,247,247)"
                        ],
                        [
                          0.6,
                          "rgb(209,229,240)"
                        ],
                        [
                          0.7,
                          "rgb(146,197,222)"
                        ],
                        [
                          0.8,
                          "rgb(67,147,195)"
                        ],
                        [
                          0.9,
                          "rgb(33,102,172)"
                        ],
                        [
                          1,
                          "rgb(5,48,97)"
                        ]
                      ],
                      "sequential": [
                        [
                          0,
                          "#440154"
                        ],
                        [
                          0.1111111111111111,
                          "#482878"
                        ],
                        [
                          0.2222222222222222,
                          "#3e4989"
                        ],
                        [
                          0.3333333333333333,
                          "#31688e"
                        ],
                        [
                          0.4444444444444444,
                          "#26828e"
                        ],
                        [
                          0.5555555555555556,
                          "#1f9e89"
                        ],
                        [
                          0.6666666666666666,
                          "#35b779"
                        ],
                        [
                          0.7777777777777778,
                          "#6ece58"
                        ],
                        [
                          0.8888888888888888,
                          "#b5de2b"
                        ],
                        [
                          1,
                          "#fde725"
                        ]
                      ],
                      "sequentialminus": [
                        [
                          0,
                          "#440154"
                        ],
                        [
                          0.1111111111111111,
                          "#482878"
                        ],
                        [
                          0.2222222222222222,
                          "#3e4989"
                        ],
                        [
                          0.3333333333333333,
                          "#31688e"
                        ],
                        [
                          0.4444444444444444,
                          "#26828e"
                        ],
                        [
                          0.5555555555555556,
                          "#1f9e89"
                        ],
                        [
                          0.6666666666666666,
                          "#35b779"
                        ],
                        [
                          0.7777777777777778,
                          "#6ece58"
                        ],
                        [
                          0.8888888888888888,
                          "#b5de2b"
                        ],
                        [
                          1,
                          "#fde725"
                        ]
                      ]
                    },
                    "colorway": [
                      "#1F77B4",
                      "#FF7F0E",
                      "#2CA02C",
                      "#D62728",
                      "#9467BD",
                      "#8C564B",
                      "#E377C2",
                      "#7F7F7F",
                      "#BCBD22",
                      "#17BECF"
                    ],
                    "font": {
                      "color": "rgb(36,36,36)"
                    },
                    "geo": {
                      "bgcolor": "white",
                      "lakecolor": "white",
                      "landcolor": "white",
                      "showlakes": true,
                      "showland": true,
                      "subunitcolor": "white"
                    },
                    "hoverlabel": {
                      "align": "left"
                    },
                    "hovermode": "closest",
                    "mapbox": {
                      "style": "light"
                    },
                    "paper_bgcolor": "white",
                    "plot_bgcolor": "white",
                    "polar": {
                      "angularaxis": {
                        "gridcolor": "rgb(232,232,232)",
                        "linecolor": "rgb(36,36,36)",
                        "showgrid": false,
                        "showline": true,
                        "ticks": "outside"
                      },
                      "bgcolor": "white",
                      "radialaxis": {
                        "gridcolor": "rgb(232,232,232)",
                        "linecolor": "rgb(36,36,36)",
                        "showgrid": false,
                        "showline": true,
                        "ticks": "outside"
                      }
                    },
                    "scene": {
                      "xaxis": {
                        "backgroundcolor": "white",
                        "gridcolor": "rgb(232,232,232)",
                        "gridwidth": 2,
                        "linecolor": "rgb(36,36,36)",
                        "showbackground": true,
                        "showgrid": false,
                        "showline": true,
                        "ticks": "outside",
                        "zeroline": false,
                        "zerolinecolor": "rgb(36,36,36)"
                      },
                      "yaxis": {
                        "backgroundcolor": "white",
                        "gridcolor": "rgb(232,232,232)",
                        "gridwidth": 2,
                        "linecolor": "rgb(36,36,36)",
                        "showbackground": true,
                        "showgrid": false,
                        "showline": true,
                        "ticks": "outside",
                        "zeroline": false,
                        "zerolinecolor": "rgb(36,36,36)"
                      },
                      "zaxis": {
                        "backgroundcolor": "white",
                        "gridcolor": "rgb(232,232,232)",
                        "gridwidth": 2,
                        "linecolor": "rgb(36,36,36)",
                        "showbackground": true,
                        "showgrid": false,
                        "showline": true,
                        "ticks": "outside",
                        "zeroline": false,
                        "zerolinecolor": "rgb(36,36,36)"
                      }
                    },
                    "shapedefaults": {
                      "fillcolor": "black",
                      "line": {
                        "width": 0
                      },
                      "opacity": 0.3
                    },
                    "ternary": {
                      "aaxis": {
                        "gridcolor": "rgb(232,232,232)",
                        "linecolor": "rgb(36,36,36)",
                        "showgrid": false,
                        "showline": true,
                        "ticks": "outside"
                      },
                      "baxis": {
                        "gridcolor": "rgb(232,232,232)",
                        "linecolor": "rgb(36,36,36)",
                        "showgrid": false,
                        "showline": true,
                        "ticks": "outside"
                      },
                      "bgcolor": "white",
                      "caxis": {
                        "gridcolor": "rgb(232,232,232)",
                        "linecolor": "rgb(36,36,36)",
                        "showgrid": false,
                        "showline": true,
                        "ticks": "outside"
                      }
                    },
                    "title": {
                      "x": 0.05
                    },
                    "xaxis": {
                      "automargin": true,
                      "gridcolor": "rgb(232,232,232)",
                      "linecolor": "rgb(36,36,36)",
                      "showgrid": false,
                      "showline": true,
                      "ticks": "outside",
                      "title": {
                        "standoff": 15
                      },
                      "zeroline": false,
                      "zerolinecolor": "rgb(36,36,36)"
                    },
                    "yaxis": {
                      "automargin": true,
                      "gridcolor": "rgb(232,232,232)",
                      "linecolor": "rgb(36,36,36)",
                      "showgrid": false,
                      "showline": true,
                      "ticks": "outside",
                      "title": {
                        "standoff": 15
                      },
                      "zeroline": false,
                      "zerolinecolor": "rgb(36,36,36)"
                    }
                  }
                },
                "title": {
                  "font": {
                    "color": "Black",
                    "size": 22
                  },
                  "text": "<b>Intertopic Distance Map</b>",
                  "x": 0.5,
                  "xanchor": "center",
                  "y": 0.95,
                  "yanchor": "top"
                },
                "width": 650,
                "xaxis": {
                  "anchor": "y",
                  "domain": [
                    0,
                    1
                  ],
                  "range": [
                    -13.31144609451294,
                    22.322438621520995
                  ],
                  "title": {
                    "text": ""
                  },
                  "visible": false
                },
                "yaxis": {
                  "anchor": "x",
                  "domain": [
                    0,
                    1
                  ],
                  "range": [
                    -6.577754092216492,
                    15.259493732452393
                  ],
                  "title": {
                    "text": ""
                  },
                  "visible": false
                }
              }
            }
          },
          "metadata": {},
          "output_type": "display_data"
        }
      ],
      "source": [
        "model_trained_representation.visualize_topics()"
      ]
    },
    {
      "cell_type": "code",
      "execution_count": 20,
      "metadata": {},
      "outputs": [
        {
          "data": {
            "text/html": [
              "<div>\n",
              "<style scoped>\n",
              "    .dataframe tbody tr th:only-of-type {\n",
              "        vertical-align: middle;\n",
              "    }\n",
              "\n",
              "    .dataframe tbody tr th {\n",
              "        vertical-align: top;\n",
              "    }\n",
              "\n",
              "    .dataframe thead th {\n",
              "        text-align: right;\n",
              "    }\n",
              "</style>\n",
              "<table border=\"1\" class=\"dataframe\">\n",
              "  <thead>\n",
              "    <tr style=\"text-align: right;\">\n",
              "      <th></th>\n",
              "      <th>Topic</th>\n",
              "      <th>Count</th>\n",
              "      <th>Name</th>\n",
              "      <th>Representation</th>\n",
              "      <th>Representative_Docs</th>\n",
              "    </tr>\n",
              "  </thead>\n",
              "  <tbody>\n",
              "    <tr>\n",
              "      <th>0</th>\n",
              "      <td>-1</td>\n",
              "      <td>82942</td>\n",
              "      <td>-1_life_mom_love_wedding</td>\n",
              "      <td>[life, mom, love, wedding, house, donald, day,...</td>\n",
              "      <td>[John Legend Says It Would Take A Gun To His H...</td>\n",
              "    </tr>\n",
              "    <tr>\n",
              "      <th>1</th>\n",
              "      <td>0</td>\n",
              "      <td>18986</td>\n",
              "      <td>0_fashion_dress_style_makeup</td>\n",
              "      <td>[fashion, dress, style, makeup, miley, beauty,...</td>\n",
              "      <td>[Lena Dunham's McQ Dress On 'Girls' Shows Hann...</td>\n",
              "    </tr>\n",
              "    <tr>\n",
              "      <th>2</th>\n",
              "      <td>1</td>\n",
              "      <td>15829</td>\n",
              "      <td>1_trump_colbert_donald_trumps</td>\n",
              "      <td>[trump, colbert, donald, trumps, bernie, presi...</td>\n",
              "      <td>[Seth Meyers Calls Out Donald Trump Jr. As The...</td>\n",
              "    </tr>\n",
              "    <tr>\n",
              "      <th>3</th>\n",
              "      <td>2</td>\n",
              "      <td>7611</td>\n",
              "      <td>2_foods_healthy_food_diet</td>\n",
              "      <td>[foods, healthy, food, diet, nutrition, eating...</td>\n",
              "      <td>[Fast Food the Healthy Way: A Guide, Healthy F...</td>\n",
              "    </tr>\n",
              "    <tr>\n",
              "      <th>4</th>\n",
              "      <td>3</td>\n",
              "      <td>6092</td>\n",
              "      <td>3_meditation_meditations_meditate_mindfulness</td>\n",
              "      <td>[meditation, meditations, meditate, mindfulnes...</td>\n",
              "      <td>[Meditation Tips for the Day 1, How We Can Hel...</td>\n",
              "    </tr>\n",
              "    <tr>\n",
              "      <th>5</th>\n",
              "      <td>4</td>\n",
              "      <td>4945</td>\n",
              "      <td>4_police_cops_officers_officer</td>\n",
              "      <td>[police, cops, officers, officer, cop, violenc...</td>\n",
              "      <td>[Florida Cops On What Ferguson Can Learn From ...</td>\n",
              "    </tr>\n",
              "    <tr>\n",
              "      <th>6</th>\n",
              "      <td>5</td>\n",
              "      <td>4707</td>\n",
              "      <td>5_isis_syria_syrias_yemen</td>\n",
              "      <td>[isis, syria, syrias, yemen, syrian, iran, isr...</td>\n",
              "      <td>[Israel Has Lost the War Against Hamas in Gaza...</td>\n",
              "    </tr>\n",
              "    <tr>\n",
              "      <th>7</th>\n",
              "      <td>6</td>\n",
              "      <td>4659</td>\n",
              "      <td>6_parenting_mothers_tweets_twitter</td>\n",
              "      <td>[parenting, mothers, tweets, twitter, parental...</td>\n",
              "      <td>[Best Parenting Tweets: What Moms And Dads Sai...</td>\n",
              "    </tr>\n",
              "    <tr>\n",
              "      <th>8</th>\n",
              "      <td>7</td>\n",
              "      <td>4527</td>\n",
              "      <td>7_trumpcare_obamacare_health_medicaid</td>\n",
              "      <td>[trumpcare, obamacare, health, medicaid, medic...</td>\n",
              "      <td>[Republicans Could Actually Pass This Health C...</td>\n",
              "    </tr>\n",
              "    <tr>\n",
              "      <th>9</th>\n",
              "      <td>8</td>\n",
              "      <td>3858</td>\n",
              "      <td>8_destinations_vacation_travelers_travel</td>\n",
              "      <td>[destinations, vacation, travelers, travel, tr...</td>\n",
              "      <td>[Best New Travel Gadgets for 2014 (PHOTOS), 7 ...</td>\n",
              "    </tr>\n",
              "    <tr>\n",
              "      <th>10</th>\n",
              "      <td>9</td>\n",
              "      <td>3849</td>\n",
              "      <td>9_wage_deals_shopping_pay</td>\n",
              "      <td>[wage, deals, shopping, pay, walmart, money, s...</td>\n",
              "      <td>[Here's How To Get Republicans To Change Their...</td>\n",
              "    </tr>\n",
              "    <tr>\n",
              "      <th>11</th>\n",
              "      <td>10</td>\n",
              "      <td>3699</td>\n",
              "      <td>10_cosby_cosbys_allegations_rape</td>\n",
              "      <td>[cosby, cosbys, allegations, rape, assault, ac...</td>\n",
              "      <td>[Here's What To Know About The Bill Cosby Sexu...</td>\n",
              "    </tr>\n",
              "    <tr>\n",
              "      <th>12</th>\n",
              "      <td>11</td>\n",
              "      <td>3670</td>\n",
              "      <td>11_dog_dogs_pets_animal</td>\n",
              "      <td>[dog, dogs, pets, animal, pet, puppy, pup, ani...</td>\n",
              "      <td>[After All, It's Only A Dog, The Love Of A Dog...</td>\n",
              "    </tr>\n",
              "    <tr>\n",
              "      <th>13</th>\n",
              "      <td>12</td>\n",
              "      <td>3234</td>\n",
              "      <td>12_divorce_divorcing_divorced_alimony</td>\n",
              "      <td>[divorce, divorcing, divorced, alimony, marria...</td>\n",
              "      <td>[Divorce Advice: What Should You Do With Your ...</td>\n",
              "    </tr>\n",
              "    <tr>\n",
              "      <th>14</th>\n",
              "      <td>13</td>\n",
              "      <td>2796</td>\n",
              "      <td>13_nfl_sports_football_olympics</td>\n",
              "      <td>[nfl, sports, football, olympics, bowl, athlet...</td>\n",
              "      <td>[Seattle Seahawks Must Do These 3 Things To Wi...</td>\n",
              "    </tr>\n",
              "    <tr>\n",
              "      <th>15</th>\n",
              "      <td>14</td>\n",
              "      <td>2663</td>\n",
              "      <td>14_autism_autistic_disabilities_disability</td>\n",
              "      <td>[autism, autistic, disabilities, disability, a...</td>\n",
              "      <td>[10 Things I Wish Your Child Knew About My Son...</td>\n",
              "    </tr>\n",
              "    <tr>\n",
              "      <th>16</th>\n",
              "      <td>15</td>\n",
              "      <td>2055</td>\n",
              "      <td>15_tweets_women_funniest_comedy</td>\n",
              "      <td>[tweets, women, funniest, comedy, laughter, pr...</td>\n",
              "      <td>[The 20 Funniest Tweets From Women This Week, ...</td>\n",
              "    </tr>\n",
              "    <tr>\n",
              "      <th>17</th>\n",
              "      <td>16</td>\n",
              "      <td>1930</td>\n",
              "      <td>16_vintage_ebay_homes_auction</td>\n",
              "      <td>[vintage, ebay, homes, auction, photos, etsy, ...</td>\n",
              "      <td>[Weekly Roundup of eBay Vintage Home Finds (PH...</td>\n",
              "    </tr>\n",
              "    <tr>\n",
              "      <th>18</th>\n",
              "      <td>17</td>\n",
              "      <td>1871</td>\n",
              "      <td>17_climate_warming_sustainability_sustainable</td>\n",
              "      <td>[climate, warming, sustainability, sustainable...</td>\n",
              "      <td>[How to Talk to Your Parents About Climate Cha...</td>\n",
              "    </tr>\n",
              "    <tr>\n",
              "      <th>19</th>\n",
              "      <td>18</td>\n",
              "      <td>1719</td>\n",
              "      <td>18_yoga_posture_exercises_pilates</td>\n",
              "      <td>[yoga, posture, exercises, pilates, massage, e...</td>\n",
              "      <td>[4 Yoga Back Benefits, 8 Ways Yoga Can Help Yo...</td>\n",
              "    </tr>\n",
              "    <tr>\n",
              "      <th>20</th>\n",
              "      <td>19</td>\n",
              "      <td>1442</td>\n",
              "      <td>19_airlines_airline_passengers_airplane</td>\n",
              "      <td>[airlines, airline, passengers, airplane, flig...</td>\n",
              "      <td>[Dusty Roads, Former American Airlines Flight ...</td>\n",
              "    </tr>\n",
              "    <tr>\n",
              "      <th>21</th>\n",
              "      <td>20</td>\n",
              "      <td>1351</td>\n",
              "      <td>20_diet_obese_obesity_lose</td>\n",
              "      <td>[diet, obese, obesity, lose, fat, weight, loss...</td>\n",
              "      <td>[I Lost Weight: Yariza Mejia Joined An Office ...</td>\n",
              "    </tr>\n",
              "    <tr>\n",
              "      <th>22</th>\n",
              "      <td>21</td>\n",
              "      <td>1347</td>\n",
              "      <td>21_cuba_cubas_havana_cuban</td>\n",
              "      <td>[cuba, cubas, havana, cuban, castro, castros, ...</td>\n",
              "      <td>[What to know before you go to Cuba, What Was ...</td>\n",
              "    </tr>\n",
              "    <tr>\n",
              "      <th>23</th>\n",
              "      <td>22</td>\n",
              "      <td>1136</td>\n",
              "      <td>22_pope_popes_vatican_francis</td>\n",
              "      <td>[pope, popes, vatican, francis, catholics, cat...</td>\n",
              "      <td>[Pope Francis, Inequality and Abortion, Pope F...</td>\n",
              "    </tr>\n",
              "    <tr>\n",
              "      <th>24</th>\n",
              "      <td>23</td>\n",
              "      <td>1060</td>\n",
              "      <td>23_hurricane_katrina_hurricanes_storms</td>\n",
              "      <td>[hurricane, katrina, hurricanes, storms, harve...</td>\n",
              "      <td>[What Parents Can Learn From Hurricane Sandy, ...</td>\n",
              "    </tr>\n",
              "    <tr>\n",
              "      <th>25</th>\n",
              "      <td>24</td>\n",
              "      <td>1027</td>\n",
              "      <td>24_sleep_sleeping_nap_naps</td>\n",
              "      <td>[sleep, sleeping, nap, naps, sleepless, sleepd...</td>\n",
              "      <td>[How To Get The Kids To Sleep, Sleep Tips: How...</td>\n",
              "    </tr>\n",
              "    <tr>\n",
              "      <th>26</th>\n",
              "      <td>25</td>\n",
              "      <td>1023</td>\n",
              "      <td>25_iphone_iphones_apple_ipad</td>\n",
              "      <td>[iphone, iphones, apple, ipad, smartphone, rum...</td>\n",
              "      <td>[iPhone 5 Preorders, iPad Mini Predictions, An...</td>\n",
              "    </tr>\n",
              "    <tr>\n",
              "      <th>27</th>\n",
              "      <td>26</td>\n",
              "      <td>943</td>\n",
              "      <td>26_cleaning_spring_clean_wash</td>\n",
              "      <td>[cleaning, spring, clean, wash, cleaners, bath...</td>\n",
              "      <td>[Spring Cleaning: How To Clean Your Hairbrush,...</td>\n",
              "    </tr>\n",
              "    <tr>\n",
              "      <th>28</th>\n",
              "      <td>27</td>\n",
              "      <td>910</td>\n",
              "      <td>27_boko_rohingya_nigeria_nigerias</td>\n",
              "      <td>[boko, rohingya, nigeria, nigerias, nigerian, ...</td>\n",
              "      <td>[Nigeria Says It Arrested 20 Suspected Boko Ha...</td>\n",
              "    </tr>\n",
              "    <tr>\n",
              "      <th>29</th>\n",
              "      <td>28</td>\n",
              "      <td>896</td>\n",
              "      <td>28_letter_letters_open_words</td>\n",
              "      <td>[letter, letters, open, words, parents, dear, ...</td>\n",
              "      <td>[An Open Letter to My Mom and Black Women, An ...</td>\n",
              "    </tr>\n",
              "    <tr>\n",
              "      <th>30</th>\n",
              "      <td>29</td>\n",
              "      <td>879</td>\n",
              "      <td>29_teachers_teacher_tuition_students</td>\n",
              "      <td>[teachers, teacher, tuition, students, student...</td>\n",
              "      <td>[Getting Out From Under: Student Loans for Tea...</td>\n",
              "    </tr>\n",
              "    <tr>\n",
              "      <th>31</th>\n",
              "      <td>30</td>\n",
              "      <td>837</td>\n",
              "      <td>30_cancer_cancers_tumor_diagnosed</td>\n",
              "      <td>[cancer, cancers, tumor, diagnosed, breast, su...</td>\n",
              "      <td>[Cancer's New Home, American Cancer X, Life Af...</td>\n",
              "    </tr>\n",
              "    <tr>\n",
              "      <th>32</th>\n",
              "      <td>31</td>\n",
              "      <td>780</td>\n",
              "      <td>31_allergies_allergy_asthma_smog</td>\n",
              "      <td>[allergies, allergy, asthma, smog, sneeze, lis...</td>\n",
              "      <td>[Are You Made of Air Pollution?, Women More Li...</td>\n",
              "    </tr>\n",
              "    <tr>\n",
              "      <th>33</th>\n",
              "      <td>32</td>\n",
              "      <td>766</td>\n",
              "      <td>32_korea_missile_missiles_koreas</td>\n",
              "      <td>[korea, missile, missiles, koreas, korean, icb...</td>\n",
              "      <td>[North Korea Fires Ballistic Missile, South Ko...</td>\n",
              "    </tr>\n",
              "    <tr>\n",
              "      <th>34</th>\n",
              "      <td>33</td>\n",
              "      <td>547</td>\n",
              "      <td>33_weather_storms_photos_week</td>\n",
              "      <td>[weather, storms, photos, week, climate, extre...</td>\n",
              "      <td>[Extreme Weather Photos Of The Week, Extreme W...</td>\n",
              "    </tr>\n",
              "    <tr>\n",
              "      <th>35</th>\n",
              "      <td>34</td>\n",
              "      <td>545</td>\n",
              "      <td>34_scientists_science_physicist_scientific</td>\n",
              "      <td>[scientists, science, physicist, scientific, p...</td>\n",
              "      <td>[How Can Anyone Be Anti-Science When Bill Nye ...</td>\n",
              "    </tr>\n",
              "    <tr>\n",
              "      <th>36</th>\n",
              "      <td>35</td>\n",
              "      <td>522</td>\n",
              "      <td>35_uber_ubers_taxi_taxis</td>\n",
              "      <td>[uber, ubers, taxi, taxis, driverless, driving...</td>\n",
              "      <td>[Uber's CEO Needs To Step Down, Tesla Won't Le...</td>\n",
              "    </tr>\n",
              "    <tr>\n",
              "      <th>37</th>\n",
              "      <td>36</td>\n",
              "      <td>512</td>\n",
              "      <td>36_glass_mirrors_mirror_ceiling</td>\n",
              "      <td>[glass, mirrors, mirror, ceiling, ceilings, wa...</td>\n",
              "      <td>[Looking Through the Glass Ceiling, Glass Ceil...</td>\n",
              "    </tr>\n",
              "    <tr>\n",
              "      <th>38</th>\n",
              "      <td>37</td>\n",
              "      <td>462</td>\n",
              "      <td>37_oscars_oscar_nominations_awards</td>\n",
              "      <td>[oscars, oscar, nominations, awards, nominees,...</td>\n",
              "      <td>[And the Oscar Goes to... You!, Here Are The 2...</td>\n",
              "    </tr>\n",
              "    <tr>\n",
              "      <th>39</th>\n",
              "      <td>38</td>\n",
              "      <td>407</td>\n",
              "      <td>38_greece_greeces_greek_greeks</td>\n",
              "      <td>[greece, greeces, greek, greeks, referendum, c...</td>\n",
              "      <td>[Greece Votes In Crucial Referendum On Debt Cr...</td>\n",
              "    </tr>\n",
              "    <tr>\n",
              "      <th>40</th>\n",
              "      <td>39</td>\n",
              "      <td>308</td>\n",
              "      <td>39_1915_1914_1916_wwii</td>\n",
              "      <td>[1915, 1914, 1916, wwii, archduke, april, war,...</td>\n",
              "      <td>[This Week in World War I, April 4-11, 1915, T...</td>\n",
              "    </tr>\n",
              "    <tr>\n",
              "      <th>41</th>\n",
              "      <td>40</td>\n",
              "      <td>298</td>\n",
              "      <td>40_gawker_gawkers_gawkercom_gabbana</td>\n",
              "      <td>[gawker, gawkers, gawkercom, gabbana, accuser,...</td>\n",
              "      <td>[On Gawker’s Problem With Women, On Gawker's P...</td>\n",
              "    </tr>\n",
              "    <tr>\n",
              "      <th>42</th>\n",
              "      <td>41</td>\n",
              "      <td>263</td>\n",
              "      <td>41_fark_news_fart_farts</td>\n",
              "      <td>[fark, news, fart, farts, farting, quiz, why, ...</td>\n",
              "      <td>[Know Why Nutella Is Weird News? Take The Fark...</td>\n",
              "    </tr>\n",
              "    <tr>\n",
              "      <th>43</th>\n",
              "      <td>42</td>\n",
              "      <td>240</td>\n",
              "      <td>42_noah_trevor_noahs_nbc</td>\n",
              "      <td>[noah, trevor, noahs, nbc, ken, comedian, dona...</td>\n",
              "      <td>[Trevor Noah On The GOP Health Plan: 'You Done...</td>\n",
              "    </tr>\n",
              "    <tr>\n",
              "      <th>44</th>\n",
              "      <td>43</td>\n",
              "      <td>189</td>\n",
              "      <td>43_nc_carolina_carolinas_voter</td>\n",
              "      <td>[nc, carolina, carolinas, voter, north, tennes...</td>\n",
              "      <td>[Why You Shouldn't Boycott North Carolina, Nor...</td>\n",
              "    </tr>\n",
              "    <tr>\n",
              "      <th>45</th>\n",
              "      <td>44</td>\n",
              "      <td>164</td>\n",
              "      <td>44_names_naming_babies_nicknames</td>\n",
              "      <td>[names, naming, babies, nicknames, surnames, b...</td>\n",
              "      <td>[The Most Popular Baby Names Are..., The First...</td>\n",
              "    </tr>\n",
              "    <tr>\n",
              "      <th>46</th>\n",
              "      <td>45</td>\n",
              "      <td>95</td>\n",
              "      <td>45_ryan_lochte_zinke_lochtes</td>\n",
              "      <td>[ryan, lochte, zinke, lochtes, zinkes, bowe, l...</td>\n",
              "      <td>[Ryan Lochte Apologizes For Behavior In Rio, W...</td>\n",
              "    </tr>\n",
              "    <tr>\n",
              "      <th>47</th>\n",
              "      <td>46</td>\n",
              "      <td>73</td>\n",
              "      <td>46_pokemon_poke_pokemonument_pokedates</td>\n",
              "      <td>[pokemon, poke, pokemonument, pokedates, pikac...</td>\n",
              "      <td>[Man Opens Fire On Two 'Pokemon Go' Players In...</td>\n",
              "    </tr>\n",
              "    <tr>\n",
              "      <th>48</th>\n",
              "      <td>47</td>\n",
              "      <td>48</td>\n",
              "      <td>47_aziz_ansari_ansaris_hamlet</td>\n",
              "      <td>[aziz, ansari, ansaris, hamlet, shakespearean,...</td>\n",
              "      <td>[7 Times Aziz Ansari Was The Much-Needed Voice...</td>\n",
              "    </tr>\n",
              "    <tr>\n",
              "      <th>49</th>\n",
              "      <td>48</td>\n",
              "      <td>33</td>\n",
              "      <td>48_normal_abnormal_new_usual</td>\n",
              "      <td>[normal, abnormal, new, usual, unusual, abnorm...</td>\n",
              "      <td>[Their New Normal, Is This the New Normal?, Th...</td>\n",
              "    </tr>\n",
              "    <tr>\n",
              "      <th>50</th>\n",
              "      <td>49</td>\n",
              "      <td>31</td>\n",
              "      <td>49_linkedin_linkedins_facebook_connectivity</td>\n",
              "      <td>[linkedin, linkedins, facebook, connectivity, ...</td>\n",
              "      <td>[LinkedIn, Unemployment And The Online Job Sea...</td>\n",
              "    </tr>\n",
              "    <tr>\n",
              "      <th>51</th>\n",
              "      <td>50</td>\n",
              "      <td>29</td>\n",
              "      <td>50_burkini_burkinis_burkiniwearing_banning</td>\n",
              "      <td>[burkini, burkinis, burkiniwearing, banning, b...</td>\n",
              "      <td>[The Absurdity Of The Burkini Ban In One Perfe...</td>\n",
              "    </tr>\n",
              "    <tr>\n",
              "      <th>52</th>\n",
              "      <td>51</td>\n",
              "      <td>22</td>\n",
              "      <td>51_epipen_epipens_mylan_epinephrine</td>\n",
              "      <td>[epipen, epipens, mylan, epinephrine, pricing,...</td>\n",
              "      <td>[Sarah Jessica Parker Ends Mylan Partnership O...</td>\n",
              "    </tr>\n",
              "    <tr>\n",
              "      <th>53</th>\n",
              "      <td>52</td>\n",
              "      <td>13</td>\n",
              "      <td>52_fyrefest_fyre_festival_suing</td>\n",
              "      <td>[fyrefest, fyre, festival, suing, lawsuit, sue...</td>\n",
              "      <td>[It Should Have Been Easy To Predict The Fyre ...</td>\n",
              "    </tr>\n",
              "    <tr>\n",
              "      <th>54</th>\n",
              "      <td>53</td>\n",
              "      <td>13</td>\n",
              "      <td>53_record_guinness_records_longest</td>\n",
              "      <td>[record, guinness, records, longest, world, 84...</td>\n",
              "      <td>[This 84-Year-Old Drag Queen Just Broke A Guin...</td>\n",
              "    </tr>\n",
              "  </tbody>\n",
              "</table>\n",
              "</div>"
            ],
            "text/plain": [
              "    Topic  Count                                           Name  \\\n",
              "0      -1  82942                       -1_life_mom_love_wedding   \n",
              "1       0  18986                   0_fashion_dress_style_makeup   \n",
              "2       1  15829                  1_trump_colbert_donald_trumps   \n",
              "3       2   7611                      2_foods_healthy_food_diet   \n",
              "4       3   6092  3_meditation_meditations_meditate_mindfulness   \n",
              "5       4   4945                 4_police_cops_officers_officer   \n",
              "6       5   4707                      5_isis_syria_syrias_yemen   \n",
              "7       6   4659             6_parenting_mothers_tweets_twitter   \n",
              "8       7   4527          7_trumpcare_obamacare_health_medicaid   \n",
              "9       8   3858       8_destinations_vacation_travelers_travel   \n",
              "10      9   3849                      9_wage_deals_shopping_pay   \n",
              "11     10   3699               10_cosby_cosbys_allegations_rape   \n",
              "12     11   3670                        11_dog_dogs_pets_animal   \n",
              "13     12   3234          12_divorce_divorcing_divorced_alimony   \n",
              "14     13   2796                13_nfl_sports_football_olympics   \n",
              "15     14   2663     14_autism_autistic_disabilities_disability   \n",
              "16     15   2055                15_tweets_women_funniest_comedy   \n",
              "17     16   1930                  16_vintage_ebay_homes_auction   \n",
              "18     17   1871  17_climate_warming_sustainability_sustainable   \n",
              "19     18   1719              18_yoga_posture_exercises_pilates   \n",
              "20     19   1442        19_airlines_airline_passengers_airplane   \n",
              "21     20   1351                     20_diet_obese_obesity_lose   \n",
              "22     21   1347                     21_cuba_cubas_havana_cuban   \n",
              "23     22   1136                  22_pope_popes_vatican_francis   \n",
              "24     23   1060         23_hurricane_katrina_hurricanes_storms   \n",
              "25     24   1027                     24_sleep_sleeping_nap_naps   \n",
              "26     25   1023                   25_iphone_iphones_apple_ipad   \n",
              "27     26    943                  26_cleaning_spring_clean_wash   \n",
              "28     27    910              27_boko_rohingya_nigeria_nigerias   \n",
              "29     28    896                   28_letter_letters_open_words   \n",
              "30     29    879           29_teachers_teacher_tuition_students   \n",
              "31     30    837              30_cancer_cancers_tumor_diagnosed   \n",
              "32     31    780               31_allergies_allergy_asthma_smog   \n",
              "33     32    766               32_korea_missile_missiles_koreas   \n",
              "34     33    547                  33_weather_storms_photos_week   \n",
              "35     34    545     34_scientists_science_physicist_scientific   \n",
              "36     35    522                       35_uber_ubers_taxi_taxis   \n",
              "37     36    512                36_glass_mirrors_mirror_ceiling   \n",
              "38     37    462             37_oscars_oscar_nominations_awards   \n",
              "39     38    407                 38_greece_greeces_greek_greeks   \n",
              "40     39    308                         39_1915_1914_1916_wwii   \n",
              "41     40    298            40_gawker_gawkers_gawkercom_gabbana   \n",
              "42     41    263                        41_fark_news_fart_farts   \n",
              "43     42    240                       42_noah_trevor_noahs_nbc   \n",
              "44     43    189                 43_nc_carolina_carolinas_voter   \n",
              "45     44    164               44_names_naming_babies_nicknames   \n",
              "46     45     95                   45_ryan_lochte_zinke_lochtes   \n",
              "47     46     73         46_pokemon_poke_pokemonument_pokedates   \n",
              "48     47     48                  47_aziz_ansari_ansaris_hamlet   \n",
              "49     48     33                   48_normal_abnormal_new_usual   \n",
              "50     49     31    49_linkedin_linkedins_facebook_connectivity   \n",
              "51     50     29     50_burkini_burkinis_burkiniwearing_banning   \n",
              "52     51     22            51_epipen_epipens_mylan_epinephrine   \n",
              "53     52     13                52_fyrefest_fyre_festival_suing   \n",
              "54     53     13             53_record_guinness_records_longest   \n",
              "\n",
              "                                       Representation  \\\n",
              "0   [life, mom, love, wedding, house, donald, day,...   \n",
              "1   [fashion, dress, style, makeup, miley, beauty,...   \n",
              "2   [trump, colbert, donald, trumps, bernie, presi...   \n",
              "3   [foods, healthy, food, diet, nutrition, eating...   \n",
              "4   [meditation, meditations, meditate, mindfulnes...   \n",
              "5   [police, cops, officers, officer, cop, violenc...   \n",
              "6   [isis, syria, syrias, yemen, syrian, iran, isr...   \n",
              "7   [parenting, mothers, tweets, twitter, parental...   \n",
              "8   [trumpcare, obamacare, health, medicaid, medic...   \n",
              "9   [destinations, vacation, travelers, travel, tr...   \n",
              "10  [wage, deals, shopping, pay, walmart, money, s...   \n",
              "11  [cosby, cosbys, allegations, rape, assault, ac...   \n",
              "12  [dog, dogs, pets, animal, pet, puppy, pup, ani...   \n",
              "13  [divorce, divorcing, divorced, alimony, marria...   \n",
              "14  [nfl, sports, football, olympics, bowl, athlet...   \n",
              "15  [autism, autistic, disabilities, disability, a...   \n",
              "16  [tweets, women, funniest, comedy, laughter, pr...   \n",
              "17  [vintage, ebay, homes, auction, photos, etsy, ...   \n",
              "18  [climate, warming, sustainability, sustainable...   \n",
              "19  [yoga, posture, exercises, pilates, massage, e...   \n",
              "20  [airlines, airline, passengers, airplane, flig...   \n",
              "21  [diet, obese, obesity, lose, fat, weight, loss...   \n",
              "22  [cuba, cubas, havana, cuban, castro, castros, ...   \n",
              "23  [pope, popes, vatican, francis, catholics, cat...   \n",
              "24  [hurricane, katrina, hurricanes, storms, harve...   \n",
              "25  [sleep, sleeping, nap, naps, sleepless, sleepd...   \n",
              "26  [iphone, iphones, apple, ipad, smartphone, rum...   \n",
              "27  [cleaning, spring, clean, wash, cleaners, bath...   \n",
              "28  [boko, rohingya, nigeria, nigerias, nigerian, ...   \n",
              "29  [letter, letters, open, words, parents, dear, ...   \n",
              "30  [teachers, teacher, tuition, students, student...   \n",
              "31  [cancer, cancers, tumor, diagnosed, breast, su...   \n",
              "32  [allergies, allergy, asthma, smog, sneeze, lis...   \n",
              "33  [korea, missile, missiles, koreas, korean, icb...   \n",
              "34  [weather, storms, photos, week, climate, extre...   \n",
              "35  [scientists, science, physicist, scientific, p...   \n",
              "36  [uber, ubers, taxi, taxis, driverless, driving...   \n",
              "37  [glass, mirrors, mirror, ceiling, ceilings, wa...   \n",
              "38  [oscars, oscar, nominations, awards, nominees,...   \n",
              "39  [greece, greeces, greek, greeks, referendum, c...   \n",
              "40  [1915, 1914, 1916, wwii, archduke, april, war,...   \n",
              "41  [gawker, gawkers, gawkercom, gabbana, accuser,...   \n",
              "42  [fark, news, fart, farts, farting, quiz, why, ...   \n",
              "43  [noah, trevor, noahs, nbc, ken, comedian, dona...   \n",
              "44  [nc, carolina, carolinas, voter, north, tennes...   \n",
              "45  [names, naming, babies, nicknames, surnames, b...   \n",
              "46  [ryan, lochte, zinke, lochtes, zinkes, bowe, l...   \n",
              "47  [pokemon, poke, pokemonument, pokedates, pikac...   \n",
              "48  [aziz, ansari, ansaris, hamlet, shakespearean,...   \n",
              "49  [normal, abnormal, new, usual, unusual, abnorm...   \n",
              "50  [linkedin, linkedins, facebook, connectivity, ...   \n",
              "51  [burkini, burkinis, burkiniwearing, banning, b...   \n",
              "52  [epipen, epipens, mylan, epinephrine, pricing,...   \n",
              "53  [fyrefest, fyre, festival, suing, lawsuit, sue...   \n",
              "54  [record, guinness, records, longest, world, 84...   \n",
              "\n",
              "                                  Representative_Docs  \n",
              "0   [John Legend Says It Would Take A Gun To His H...  \n",
              "1   [Lena Dunham's McQ Dress On 'Girls' Shows Hann...  \n",
              "2   [Seth Meyers Calls Out Donald Trump Jr. As The...  \n",
              "3   [Fast Food the Healthy Way: A Guide, Healthy F...  \n",
              "4   [Meditation Tips for the Day 1, How We Can Hel...  \n",
              "5   [Florida Cops On What Ferguson Can Learn From ...  \n",
              "6   [Israel Has Lost the War Against Hamas in Gaza...  \n",
              "7   [Best Parenting Tweets: What Moms And Dads Sai...  \n",
              "8   [Republicans Could Actually Pass This Health C...  \n",
              "9   [Best New Travel Gadgets for 2014 (PHOTOS), 7 ...  \n",
              "10  [Here's How To Get Republicans To Change Their...  \n",
              "11  [Here's What To Know About The Bill Cosby Sexu...  \n",
              "12  [After All, It's Only A Dog, The Love Of A Dog...  \n",
              "13  [Divorce Advice: What Should You Do With Your ...  \n",
              "14  [Seattle Seahawks Must Do These 3 Things To Wi...  \n",
              "15  [10 Things I Wish Your Child Knew About My Son...  \n",
              "16  [The 20 Funniest Tweets From Women This Week, ...  \n",
              "17  [Weekly Roundup of eBay Vintage Home Finds (PH...  \n",
              "18  [How to Talk to Your Parents About Climate Cha...  \n",
              "19  [4 Yoga Back Benefits, 8 Ways Yoga Can Help Yo...  \n",
              "20  [Dusty Roads, Former American Airlines Flight ...  \n",
              "21  [I Lost Weight: Yariza Mejia Joined An Office ...  \n",
              "22  [What to know before you go to Cuba, What Was ...  \n",
              "23  [Pope Francis, Inequality and Abortion, Pope F...  \n",
              "24  [What Parents Can Learn From Hurricane Sandy, ...  \n",
              "25  [How To Get The Kids To Sleep, Sleep Tips: How...  \n",
              "26  [iPhone 5 Preorders, iPad Mini Predictions, An...  \n",
              "27  [Spring Cleaning: How To Clean Your Hairbrush,...  \n",
              "28  [Nigeria Says It Arrested 20 Suspected Boko Ha...  \n",
              "29  [An Open Letter to My Mom and Black Women, An ...  \n",
              "30  [Getting Out From Under: Student Loans for Tea...  \n",
              "31  [Cancer's New Home, American Cancer X, Life Af...  \n",
              "32  [Are You Made of Air Pollution?, Women More Li...  \n",
              "33  [North Korea Fires Ballistic Missile, South Ko...  \n",
              "34  [Extreme Weather Photos Of The Week, Extreme W...  \n",
              "35  [How Can Anyone Be Anti-Science When Bill Nye ...  \n",
              "36  [Uber's CEO Needs To Step Down, Tesla Won't Le...  \n",
              "37  [Looking Through the Glass Ceiling, Glass Ceil...  \n",
              "38  [And the Oscar Goes to... You!, Here Are The 2...  \n",
              "39  [Greece Votes In Crucial Referendum On Debt Cr...  \n",
              "40  [This Week in World War I, April 4-11, 1915, T...  \n",
              "41  [On Gawker’s Problem With Women, On Gawker's P...  \n",
              "42  [Know Why Nutella Is Weird News? Take The Fark...  \n",
              "43  [Trevor Noah On The GOP Health Plan: 'You Done...  \n",
              "44  [Why You Shouldn't Boycott North Carolina, Nor...  \n",
              "45  [The Most Popular Baby Names Are..., The First...  \n",
              "46  [Ryan Lochte Apologizes For Behavior In Rio, W...  \n",
              "47  [Man Opens Fire On Two 'Pokemon Go' Players In...  \n",
              "48  [7 Times Aziz Ansari Was The Much-Needed Voice...  \n",
              "49  [Their New Normal, Is This the New Normal?, Th...  \n",
              "50  [LinkedIn, Unemployment And The Online Job Sea...  \n",
              "51  [The Absurdity Of The Burkini Ban In One Perfe...  \n",
              "52  [Sarah Jessica Parker Ends Mylan Partnership O...  \n",
              "53  [It Should Have Been Easy To Predict The Fyre ...  \n",
              "54  [This 84-Year-Old Drag Queen Just Broke A Guin...  "
            ]
          },
          "execution_count": 20,
          "metadata": {},
          "output_type": "execute_result"
        }
      ],
      "source": [
        "(model_trained_representation.get_topic_info())"
      ]
    }
  ],
  "metadata": {
    "colab": {
      "provenance": []
    },
    "kernelspec": {
      "display_name": "Python 3",
      "name": "python3"
    },
    "language_info": {
      "codemirror_mode": {
        "name": "ipython",
        "version": 3
      },
      "file_extension": ".py",
      "mimetype": "text/x-python",
      "name": "python",
      "nbconvert_exporter": "python",
      "pygments_lexer": "ipython3",
      "version": "3.11.5"
    }
  },
  "nbformat": 4,
  "nbformat_minor": 0
}
