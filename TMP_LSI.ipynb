{
  "cells": [
    {
      "cell_type": "code",
      "execution_count": 1,
      "metadata": {
        "id": "9e_Rmpt0B_Oa"
      },
      "outputs": [],
      "source": [
        "# import necessary libraries\n",
        "import itertools\n",
        "import pandas as pd\n",
        "import numpy as np\n",
        "import ast\n",
        "import matplotlib.pyplot as plt\n",
        "from gensim import corpora\n",
        "from gensim.models import CoherenceModel,LsiModel\n",
        "from sklearn.metrics import silhouette_samples, silhouette_score\n"
      ]
    },
    {
      "cell_type": "code",
      "execution_count": 2,
      "metadata": {},
      "outputs": [],
      "source": [
        "def force_format(texts):\n",
        "    return [str(t) for t in texts]"
      ]
    },
    {
      "cell_type": "code",
      "execution_count": 3,
      "metadata": {},
      "outputs": [],
      "source": [
        "dataset = pd.read_json(\"News_Category_Dataset_v2.json\", lines=True, dtype={\"headline\": str})"
      ]
    },
    {
      "cell_type": "code",
      "execution_count": 4,
      "metadata": {},
      "outputs": [],
      "source": [
        "texts = force_format(dataset[\"headline\"])"
      ]
    },
    {
      "cell_type": "code",
      "execution_count": 5,
      "metadata": {
        "id": "tFCI60p8GyQ6"
      },
      "outputs": [],
      "source": [
        "def compute_word_occurences(texts):\n",
        "    words = itertools.chain.from_iterable(texts)\n",
        "    word_count = pd.Series(words).value_counts()\n",
        "    word_count = pd.DataFrame({\"Word\": word_count.index, \"Count\": word_count.values})\n",
        "    return word_count"
      ]
    },
    {
      "cell_type": "code",
      "execution_count": 6,
      "metadata": {},
      "outputs": [],
      "source": [
        "def get_l_texts(text_file):\n",
        "    l_texts=[]\n",
        "    with open(text_file, \"r\") as f:\n",
        "        line = f.readlines()\n",
        "        list_line = [l.strip() for l in line]\n",
        "        for l in list_line:\n",
        "            l_texts.append(ast.literal_eval(l))\n",
        "    return l_texts"
      ]
    },
    {
      "cell_type": "code",
      "execution_count": 7,
      "metadata": {
        "ExecuteTime": {
          "end_time": "2020-12-07T10:50:05.882854Z",
          "start_time": "2020-12-07T10:49:42.724726Z"
        },
        "colab": {
          "base_uri": "https://localhost:8080/"
        },
        "id": "_Vov7lwqCG4O",
        "outputId": "9fcf3553-3f37-4be6-f4eb-09c5bc6e6c0e"
      },
      "outputs": [
        {
          "name": "stdout",
          "output_type": "stream",
          "text": [
            "[['mass_shooting', 'texas', 'week', 'tv'], ['smith', 'join', 'diplo', 'nicky', 'jam', 'world_cup', 'official', 'song'], ['hugh', 'grant', 'marries', 'time', 'age'], ['jim_carrey', 'blasts', 'castrato', 'adam', 'schiff', 'democrats', 'artwork'], ['julianna', 'margulie', 'donald', 'poop', 'bag', 'pick', 'dog'], ['morgan_freeman', 'devastate', 'sexual_harassment', 'claim', 'undermine', 'legacy'], ['donald', 'lovin', 'mcdonald', 'jingle', 'tonight', 'bit'], ['watch', 'amazon', 'prime', 'week'], ['mike', 'myers', 'reveal', 'fourth', 'austin', 'power', 'film'], ['watch', 'hulu', 'week']]\n"
          ]
        }
      ],
      "source": [
        "l_texts = get_l_texts(\"l_texts.txt\")\n",
        "print(l_texts[:10])"
      ]
    },
    {
      "cell_type": "markdown",
      "metadata": {
        "id": "7eMxYmxOktWw"
      },
      "source": [
        "# LSI"
      ]
    },
    {
      "cell_type": "code",
      "execution_count": 8,
      "metadata": {
        "id": "NvDsjgk3P3EE"
      },
      "outputs": [],
      "source": [
        "# Create a dictionary\n",
        "dictionary = corpora.Dictionary(l_texts)\n",
        "\n",
        "# Create a corpus\n",
        "corpus = [dictionary.doc2bow(text) for text in l_texts]"
      ]
    },
    {
      "cell_type": "code",
      "execution_count": 10,
      "metadata": {},
      "outputs": [
        {
          "name": "stdout",
          "output_type": "stream",
          "text": [
            "Number of topics:  2  Coherence Score:  0.2509418138332797\n",
            "Number of topics:  12  Coherence Score:  0.23686286813383006\n",
            "Number of topics:  22  Coherence Score:  0.24118445960786647\n",
            "Number of topics:  32  Coherence Score:  0.23869831539332306\n",
            "Number of topics:  42  Coherence Score:  0.24103031370834976\n",
            "Number of topics:  52  Coherence Score:  0.23628579509334105\n",
            "Number of topics:  62  Coherence Score:  0.2341950485771647\n",
            "Number of topics:  72  Coherence Score:  0.23926152794446537\n",
            "Number of topics:  82  Coherence Score:  0.23335330263106852\n",
            "Number of topics:  92  Coherence Score:  0.23232593435880916\n",
            "Number of topics:  102  Coherence Score:  0.23373601611949302\n",
            "Number of topics:  112  Coherence Score:  0.2223382022364648\n",
            "Number of topics:  122  Coherence Score:  0.22722910283381842\n",
            "Number of topics:  132  Coherence Score:  0.23040716164305777\n",
            "Number of topics:  142  Coherence Score:  0.22129555317328778\n",
            "Number of topics:  152  Coherence Score:  0.2295151985954723\n",
            "Number of topics:  162  Coherence Score:  0.23279809795580225\n",
            "Number of topics:  172  Coherence Score:  0.23195952579944287\n",
            "Number of topics:  182  Coherence Score:  0.23838533231123538\n",
            "Number of topics:  192  Coherence Score:  0.2351013900972366\n",
            "Number of topics:  202  Coherence Score:  0.24205643747415775\n",
            "Number of topics:  212  Coherence Score:  0.23950515318721421\n",
            "Number of topics:  222  Coherence Score:  0.24546149302053372\n",
            "Number of topics:  232  Coherence Score:  0.24927665079021782\n",
            "Number of topics:  242  Coherence Score:  0.24975524947745092\n",
            "Number of topics:  252  Coherence Score:  0.25372968650133126\n",
            "Number of topics:  262  Coherence Score:  0.2619774430339488\n",
            "Number of topics:  272  Coherence Score:  0.2656496192609252\n",
            "Number of topics:  282  Coherence Score:  0.26703611060750215\n",
            "Number of topics:  292  Coherence Score:  0.2671086246420919\n",
            "Number of topics:  302  Coherence Score:  0.2765529670155277\n",
            "Number of topics:  312  Coherence Score:  0.279164808304501\n",
            "Number of topics:  322  Coherence Score:  0.28411806413478324\n",
            "Number of topics:  332  Coherence Score:  0.2838770774667823\n",
            "Number of topics:  342  Coherence Score:  0.29143239378840596\n",
            "Number of topics:  352  Coherence Score:  0.295726637132744\n",
            "Number of topics:  362  Coherence Score:  0.2975245323577227\n",
            "Number of topics:  372  Coherence Score:  0.30000983561140643\n",
            "Number of topics:  382  Coherence Score:  0.30726056342218444\n",
            "Number of topics:  392  Coherence Score:  0.3097326716924979\n",
            "Number of topics:  402  Coherence Score:  0.3172539617417394\n",
            "Number of topics:  412  Coherence Score:  0.3212803746946034\n",
            "Number of topics:  422  Coherence Score:  0.3219119531307738\n",
            "Number of topics:  432  Coherence Score:  0.3285619546085035\n",
            "Number of topics:  442  Coherence Score:  0.32692604344214965\n"
          ]
        }
      ],
      "source": [
        "result={\"num_topics\":[], \"coherence_score\":[]}\n",
        "\n",
        "for n in range(2,2002,10):\n",
        "    lsi_model = LsiModel(corpus, num_topics=n, id2word=dictionary)\n",
        "    coherence_model= CoherenceModel(model=lsi_model, texts=l_texts, dictionary=dictionary, coherence='c_v')\n",
        "    coherence_score = coherence_model.get_coherence()\n",
        "    print(\"Number of topics: \", n, \" Coherence Score: \", coherence_score)\n",
        "    result[\"num_topics\"].append(n)\n",
        "    result[\"coherence_score\"].append(coherence_score)\n"
      ]
    },
    {
      "cell_type": "code",
      "execution_count": null,
      "metadata": {},
      "outputs": [],
      "source": [
        "# Plot the coherence scores for elbow method\n",
        "\n",
        "plt.plot(result[\"num_topics\"], result[\"coherence_score\"])\n",
        "plt.xlabel(\"Number of Topics\")\n",
        "plt.ylabel(\"Coherence Score\")\n",
        "plt.legend((\"coherence_values\"), loc='best')\n",
        "plt.show()"
      ]
    }
  ],
  "metadata": {
    "colab": {
      "provenance": []
    },
    "kernelspec": {
      "display_name": "Python 3",
      "name": "python3"
    },
    "language_info": {
      "codemirror_mode": {
        "name": "ipython",
        "version": 3
      },
      "file_extension": ".py",
      "mimetype": "text/x-python",
      "name": "python",
      "nbconvert_exporter": "python",
      "pygments_lexer": "ipython3",
      "version": "3.11.5"
    }
  },
  "nbformat": 4,
  "nbformat_minor": 0
}
